{
 "cells": [
  {
   "cell_type": "markdown",
   "metadata": {},
   "source": [
    "# Imports"
   ]
  },
  {
   "cell_type": "code",
   "execution_count": 1,
   "metadata": {},
   "outputs": [
    {
     "name": "stderr",
     "output_type": "stream",
     "text": [
      "WARNING: If you miss a compact list, please try `print_header`!\n"
     ]
    },
    {
     "name": "stdout",
     "output_type": "stream",
     "text": [
      "-----\n",
      "anndata     0.7.5\n",
      "scanpy      1.7.0rc1\n",
      "sinfo       0.3.1\n",
      "-----\n",
      "anndata             0.7.5\n",
      "backcall            0.1.0\n",
      "cairo               1.18.2\n",
      "colorama            0.4.4\n",
      "cycler              0.10.0\n",
      "cython_runtime      NA\n",
      "dateutil            2.8.0\n",
      "decorator           4.4.1\n",
      "get_version         2.1\n",
      "h5py                2.10.0\n",
      "igraph              0.7.1\n",
      "importlib_metadata  0.19\n",
      "ipykernel           5.1.3\n",
      "ipython_genutils    0.2.0\n",
      "jedi                0.15.1\n",
      "joblib              0.14.1\n",
      "kiwisolver          1.1.0\n",
      "legacy_api_wrap     0.0.0\n",
      "leidenalg           0.7.0\n",
      "llvmlite            0.30.0\n",
      "louvain             0.6.1\n",
      "matplotlib          3.1.2\n",
      "more_itertools      NA\n",
      "mpl_toolkits        NA\n",
      "natsort             6.2.0\n",
      "numba               0.46.0\n",
      "numexpr             2.7.0\n",
      "numpy               1.17.3\n",
      "packaging           20.8\n",
      "pandas              1.1.4\n",
      "parso               0.5.1\n",
      "pexpect             4.7.0\n",
      "pickleshare         0.7.5\n",
      "pkg_resources       NA\n",
      "prompt_toolkit      3.0.2\n",
      "ptyprocess          0.6.0\n",
      "pygments            2.5.2\n",
      "pyparsing           2.4.5\n",
      "pytz                2019.3\n",
      "scanpy              1.7.0rc1\n",
      "scipy               1.5.2\n",
      "setuptools_scm      NA\n",
      "sinfo               0.3.1\n",
      "six                 1.13.0\n",
      "sklearn             0.23.2\n",
      "sphinxcontrib       NA\n",
      "storemagic          NA\n",
      "tables              3.6.1\n",
      "tornado             6.0.3\n",
      "traitlets           4.3.3\n",
      "wcwidth             NA\n",
      "yaml                5.3.1\n",
      "zipp                NA\n",
      "zmq                 18.1.1\n",
      "-----\n",
      "IPython             7.10.1\n",
      "jupyter_client      5.3.3\n",
      "jupyter_core        4.6.1\n",
      "jupyterlab          1.2.4\n",
      "notebook            6.0.1\n",
      "-----\n",
      "Python 3.7.3 | packaged by conda-forge | (default, Dec  6 2019, 08:54:18) [GCC 7.3.0]\n",
      "Linux-4.15.0-91-generic-x86_64-with-debian-buster-sid\n",
      "128 logical CPU cores, x86_64\n",
      "-----\n",
      "Session information updated at 2021-06-07 11:51\n",
      "\n",
      "scanpy==1.7.0rc1 anndata==0.7.5 umap==0.4.6 numpy==1.17.3 scipy==1.5.2 pandas==1.1.4 scikit-learn==0.23.2 statsmodels==0.12.1 python-igraph==0.7.1 louvain==0.6.1 leidenalg==0.7.0\n"
     ]
    }
   ],
   "source": [
    "import os\n",
    "\n",
    "import pandas as pd\n",
    "import scanpy as sc\n",
    "sc.logging.print_versions()\n",
    "sc.logging.print_header()"
   ]
  },
  {
   "cell_type": "markdown",
   "metadata": {},
   "source": [
    "## Instructions from Camille\n",
    "\n",
    "1. Cross_species_unified_annotations_Lung_Muscle_Blood.xlsx where you can see the updated unified annotations (I tried my best to look for any typos!!)\n",
    "1. tabula-muris-senis_10X_Limb_Muscle_updated-annotations.h5ad\n",
    "    1. Olga please remove 1 and 3 month old data\n",
    "    1. ***Note there are only 5 slow muscle cells in the TMS data, so depending on your cutoff Olga for minimum number of cells, we might not be able to compare slow vs fast muscle cells. \n",
    "1. tabula-sapiens_P1P2_10X_SS2_Muscle_updated-annotations.h5ad\n",
    "    1. This is only p1 and p2. Olga please remove diaphragm data from P2 and all the SmartSeq2 data.\n",
    "    1. Antoine under 'Anatomical information' for P2 there is: rectus, diaphragm and 'nan'. Not sure what 'nan' refers to in that case. But it's all smartseq2 so it will removed. "
   ]
  },
  {
   "cell_type": "code",
   "execution_count": 3,
   "metadata": {},
   "outputs": [
    {
     "data": {
      "text/plain": [
       "AnnData object with n_obs × n_vars = 149345 × 58870\n",
       "    obs: 'X10X_run', 'smartseq2_barcode', 'smartseq2_library_plate', 'smartseq2_sorting_direction', 'smartseq2_sort_order', 'smartseq2_cDNA_Plate', 'cell_id', 'method', 'donor', 'X10X_replicate', 'sequencer', 'sex', 'tissue', 'smartseq2_well_seq', 'notes', 'smartseq2_sorted_population', 'X10X_sample', 'anatomical_position', 'X10X_barcode', 'n_counts', 'n_genes', 'manual_cell_ontology_class', 'manual_annotation', 'doublet_filter', 'compartment', 'batch', 'compartment_pred', 'leiden', 'cluster_id', 'Propagated.Annotation', 'Entropy.All.Methods', 'Entropy.kNN.Reps', 'Entropy.scANVI.Reps', 'Entropy.SVM.Reps', 'Potential.Doublets', 'Onclass', 'singlecellNet', 'kNN', 'SVM', 'scANVI', 'compartment_pred_svm', 'manual_cell_ontology_classcollapsed', 'Propagated.Annotationcollapsed', 'Onclasscollapsed', 'singlecellNetcollapsed', 'kNNcollapsed', 'SVMcollapsed', 'scANVIcollapsed', 'miscompartmentalized', 'log_n_counts', 'log_n_genes', 'donor_method', 'decontX_contamination', 'decontX_clusters', 'sftpb', 'sftpc', 'contamination_prop', '_scvi_batch', '_scvi_labels', '_scvi_local_l_mean', '_scvi_local_l_var', 'annotation_oct2020', 'compartment_oct2020', 'cell_ontology_type'\n",
       "    var: 'feature_types.0.0', 'n_cells.0.0', 'gene_symbol.0.0', 'n_cells.1.0', 'n_cells.0', 'n_cells.1.1', 'feature_types.0.0.0.1', 'gene_symbol.0.0.0.1', 'n_cells.1.0.0.1', 'n_cells.1.0.1', 'n_cells', 'len', 'ensembl_id', 'contamination_prop-0', 'contamination_prop-1', 'contamination_prop-10', 'contamination_prop-11', 'contamination_prop-12', 'contamination_prop-13', 'contamination_prop-14', 'contamination_prop-2', 'contamination_prop-3', 'contamination_prop-4', 'contamination_prop-5', 'contamination_prop-6', 'contamination_prop-7', 'contamination_prop-8', 'contamination_prop-9'\n",
       "    uns: 'Propagated.Annotationcollapsed_colors', '_scvi', 'annotation_oct2020_colors', 'cell_ontology_type_colors', 'compartment_colors', 'compartment_oct2020_colors', 'donor_colors', 'leiden', 'method_colors', 'neighbors', 'tissue_colors', 'umap'\n",
       "    obsm: 'X_scvi', 'X_scvi_decontX', 'X_scvi_raw', 'X_umap', 'X_umap_decontX', 'X_umap_raw'\n",
       "    layers: 'raw_counts'\n",
       "    obsp: 'connectivities', 'distances'"
      ]
     },
     "execution_count": 3,
     "metadata": {},
     "output_type": "execute_result"
    }
   ],
   "source": [
    "h5ad = '/home/olga/data_lg/data_sm_copy/tabula-sapiens/data-objects/Pilot1_Pilot2_decontX_Oct2020.h5ad'\n",
    "sapiens = sc.read(h5ad, cache=True)\n",
    "sapiens"
   ]
  },
  {
   "cell_type": "code",
   "execution_count": 4,
   "metadata": {},
   "outputs": [
    {
     "data": {
      "text/plain": [
       "['10X', 'smartseq2']\n",
       "Categories (2, object): ['10X', 'smartseq2']"
      ]
     },
     "execution_count": 4,
     "metadata": {},
     "output_type": "execute_result"
    }
   ],
   "source": [
    "sapiens.obs.method.unique()"
   ]
  },
  {
   "cell_type": "markdown",
   "metadata": {},
   "source": [
    "## Subset to 10x"
   ]
  },
  {
   "cell_type": "code",
   "execution_count": 5,
   "metadata": {},
   "outputs": [
    {
     "data": {
      "text/plain": [
       "View of AnnData object with n_obs × n_vars = 136915 × 58870\n",
       "    obs: 'X10X_run', 'smartseq2_barcode', 'smartseq2_library_plate', 'smartseq2_sorting_direction', 'smartseq2_sort_order', 'smartseq2_cDNA_Plate', 'cell_id', 'method', 'donor', 'X10X_replicate', 'sequencer', 'sex', 'tissue', 'smartseq2_well_seq', 'notes', 'smartseq2_sorted_population', 'X10X_sample', 'anatomical_position', 'X10X_barcode', 'n_counts', 'n_genes', 'manual_cell_ontology_class', 'manual_annotation', 'doublet_filter', 'compartment', 'batch', 'compartment_pred', 'leiden', 'cluster_id', 'Propagated.Annotation', 'Entropy.All.Methods', 'Entropy.kNN.Reps', 'Entropy.scANVI.Reps', 'Entropy.SVM.Reps', 'Potential.Doublets', 'Onclass', 'singlecellNet', 'kNN', 'SVM', 'scANVI', 'compartment_pred_svm', 'manual_cell_ontology_classcollapsed', 'Propagated.Annotationcollapsed', 'Onclasscollapsed', 'singlecellNetcollapsed', 'kNNcollapsed', 'SVMcollapsed', 'scANVIcollapsed', 'miscompartmentalized', 'log_n_counts', 'log_n_genes', 'donor_method', 'decontX_contamination', 'decontX_clusters', 'sftpb', 'sftpc', 'contamination_prop', '_scvi_batch', '_scvi_labels', '_scvi_local_l_mean', '_scvi_local_l_var', 'annotation_oct2020', 'compartment_oct2020', 'cell_ontology_type'\n",
       "    var: 'feature_types.0.0', 'n_cells.0.0', 'gene_symbol.0.0', 'n_cells.1.0', 'n_cells.0', 'n_cells.1.1', 'feature_types.0.0.0.1', 'gene_symbol.0.0.0.1', 'n_cells.1.0.0.1', 'n_cells.1.0.1', 'n_cells', 'len', 'ensembl_id', 'contamination_prop-0', 'contamination_prop-1', 'contamination_prop-10', 'contamination_prop-11', 'contamination_prop-12', 'contamination_prop-13', 'contamination_prop-14', 'contamination_prop-2', 'contamination_prop-3', 'contamination_prop-4', 'contamination_prop-5', 'contamination_prop-6', 'contamination_prop-7', 'contamination_prop-8', 'contamination_prop-9'\n",
       "    uns: 'Propagated.Annotationcollapsed_colors', '_scvi', 'annotation_oct2020_colors', 'cell_ontology_type_colors', 'compartment_colors', 'compartment_oct2020_colors', 'donor_colors', 'leiden', 'method_colors', 'neighbors', 'umap'\n",
       "    obsm: 'X_scvi', 'X_scvi_decontX', 'X_scvi_raw', 'X_umap', 'X_umap_decontX', 'X_umap_raw'\n",
       "    layers: 'raw_counts'\n",
       "    obsp: 'connectivities', 'distances'"
      ]
     },
     "execution_count": 5,
     "metadata": {},
     "output_type": "execute_result"
    }
   ],
   "source": [
    "sapiens_10x = sapiens[sapiens.obs.method == \"10X\"]\n",
    "sapiens_10x"
   ]
  },
  {
   "cell_type": "code",
   "execution_count": 6,
   "metadata": {},
   "outputs": [
    {
     "name": "stderr",
     "output_type": "stream",
     "text": [
      "Trying to set attribute `.uns` of view, copying.\n",
      "findfont: Font family ['sans-serif'] not found. Falling back to DejaVu Sans.\n",
      "findfont: Font family ['sans-serif'] not found. Falling back to DejaVu Sans.\n"
     ]
    },
    {
     "data": {
      "image/png": "[encoded data removed]",
      "text/plain": [
       "<Figure size 432x288 with 1 Axes>"
      ]
     },
     "metadata": {},
     "output_type": "display_data"
    }
   ],
   "source": [
    "sc.pl.umap(sapiens_10x, color='tissue')"
   ]
  },
  {
   "cell_type": "markdown",
   "metadata": {},
   "source": [
    "## Remove diaphragm from pilot 2"
   ]
  },
  {
   "cell_type": "code",
   "execution_count": 7,
   "metadata": {},
   "outputs": [
    {
     "name": "stdout",
     "output_type": "stream",
     "text": [
      "4031\n"
     ]
    },
    {
     "data": {
      "text/plain": [
       "View of AnnData object with n_obs × n_vars = 132884 × 58870\n",
       "    obs: 'X10X_run', 'smartseq2_barcode', 'smartseq2_library_plate', 'smartseq2_sorting_direction', 'smartseq2_sort_order', 'smartseq2_cDNA_Plate', 'cell_id', 'method', 'donor', 'X10X_replicate', 'sequencer', 'sex', 'tissue', 'smartseq2_well_seq', 'notes', 'smartseq2_sorted_population', 'X10X_sample', 'anatomical_position', 'X10X_barcode', 'n_counts', 'n_genes', 'manual_cell_ontology_class', 'manual_annotation', 'doublet_filter', 'compartment', 'batch', 'compartment_pred', 'leiden', 'cluster_id', 'Propagated.Annotation', 'Entropy.All.Methods', 'Entropy.kNN.Reps', 'Entropy.scANVI.Reps', 'Entropy.SVM.Reps', 'Potential.Doublets', 'Onclass', 'singlecellNet', 'kNN', 'SVM', 'scANVI', 'compartment_pred_svm', 'manual_cell_ontology_classcollapsed', 'Propagated.Annotationcollapsed', 'Onclasscollapsed', 'singlecellNetcollapsed', 'kNNcollapsed', 'SVMcollapsed', 'scANVIcollapsed', 'miscompartmentalized', 'log_n_counts', 'log_n_genes', 'donor_method', 'decontX_contamination', 'decontX_clusters', 'sftpb', 'sftpc', 'contamination_prop', '_scvi_batch', '_scvi_labels', '_scvi_local_l_mean', '_scvi_local_l_var', 'annotation_oct2020', 'compartment_oct2020', 'cell_ontology_type'\n",
       "    var: 'feature_types.0.0', 'n_cells.0.0', 'gene_symbol.0.0', 'n_cells.1.0', 'n_cells.0', 'n_cells.1.1', 'feature_types.0.0.0.1', 'gene_symbol.0.0.0.1', 'n_cells.1.0.0.1', 'n_cells.1.0.1', 'n_cells', 'len', 'ensembl_id', 'contamination_prop-0', 'contamination_prop-1', 'contamination_prop-10', 'contamination_prop-11', 'contamination_prop-12', 'contamination_prop-13', 'contamination_prop-14', 'contamination_prop-2', 'contamination_prop-3', 'contamination_prop-4', 'contamination_prop-5', 'contamination_prop-6', 'contamination_prop-7', 'contamination_prop-8', 'contamination_prop-9'\n",
       "    uns: 'Propagated.Annotationcollapsed_colors', '_scvi', 'annotation_oct2020_colors', 'cell_ontology_type_colors', 'compartment_colors', 'compartment_oct2020_colors', 'donor_colors', 'leiden', 'method_colors', 'neighbors', 'umap', 'tissue_colors'\n",
       "    obsm: 'X_scvi', 'X_scvi_decontX', 'X_scvi_raw', 'X_umap', 'X_umap_decontX', 'X_umap_raw'\n",
       "    layers: 'raw_counts'\n",
       "    obsp: 'connectivities', 'distances'"
      ]
     },
     "execution_count": 7,
     "metadata": {},
     "output_type": "execute_result"
    }
   ],
   "source": [
    "diaphgram_pilot2 = (sapiens_10x.obs.anatomical_position == \"diaphragm\") & (sapiens_10x.obs.donor == \"TSP2\")\n",
    "print(diaphgram_pilot2.sum())\n",
    "\n",
    "sapiens_10x_no_diaphragm_pilot2 = sapiens_10x[~diaphgram_pilot2]\n",
    "sapiens_10x_no_diaphragm_pilot2"
   ]
  },
  {
   "cell_type": "markdown",
   "metadata": {},
   "source": [
    "### Create unified \"individual\""
   ]
  },
  {
   "cell_type": "code",
   "execution_count": 8,
   "metadata": {},
   "outputs": [
    {
     "name": "stderr",
     "output_type": "stream",
     "text": [
      "Trying to set attribute `.obs` of view, copying.\n"
     ]
    },
    {
     "data": {
      "text/plain": [
       "human_tsp_2    100995\n",
       "human_tsp_1     31889\n",
       "Name: individual, dtype: int64"
      ]
     },
     "execution_count": 8,
     "metadata": {},
     "output_type": "execute_result"
    }
   ],
   "source": [
    "individual_mapper = {\"TSP1\": 'human_tsp_1', 'TSP2': \"human_tsp_2\"}\n",
    "\n",
    "sapiens_10x_no_diaphragm_pilot2.obs['individual'] = sapiens_10x_no_diaphragm_pilot2.obs.donor.map(individual_mapper)\n",
    "sapiens_10x_no_diaphragm_pilot2.obs['individual'].value_counts()"
   ]
  },
  {
   "cell_type": "markdown",
   "metadata": {},
   "source": [
    "## Use minimal columns for `.obs` (cell metadata)"
   ]
  },
  {
   "cell_type": "markdown",
   "metadata": {},
   "source": [
    "### Subset to minimal obs columns"
   ]
  },
  {
   "cell_type": "code",
   "execution_count": 9,
   "metadata": {},
   "outputs": [
    {
     "name": "stderr",
     "output_type": "stream",
     "text": [
      "/home/olga/miniconda3/envs/tabula-microcebus-jan2021/lib/python3.7/site-packages/ipykernel_launcher.py:14: SettingWithCopyWarning: \n",
      "A value is trying to be set on a copy of a slice from a DataFrame.\n",
      "Try using .loc[row_indexer,col_indexer] = value instead\n",
      "\n",
      "See the caveats in the documentation: https://pandas.pydata.org/pandas-docs/stable/user_guide/indexing.html#returning-a-view-versus-a-copy\n",
      "  \n"
     ]
    },
    {
     "data": {
      "text/html": [
       "<div>\n",
       "<style scoped>\n",
       "    .dataframe tbody tr th:only-of-type {\n",
       "        vertical-align: middle;\n",
       "    }\n",
       "\n",
       "    .dataframe tbody tr th {\n",
       "        vertical-align: top;\n",
       "    }\n",
       "\n",
       "    .dataframe thead th {\n",
       "        text-align: right;\n",
       "    }\n",
       "</style>\n",
       "<table border=\"1\" class=\"dataframe\">\n",
       "  <thead>\n",
       "    <tr style=\"text-align: right;\">\n",
       "      <th></th>\n",
       "      <th>individual</th>\n",
       "      <th>tissue</th>\n",
       "      <th>anatomical_position</th>\n",
       "      <th>X10X_barcode</th>\n",
       "      <th>X10X_run</th>\n",
       "      <th>sex</th>\n",
       "      <th>n_counts</th>\n",
       "      <th>n_genes</th>\n",
       "      <th>cell_ontology_type</th>\n",
       "      <th>age</th>\n",
       "    </tr>\n",
       "    <tr>\n",
       "      <th>index</th>\n",
       "      <th></th>\n",
       "      <th></th>\n",
       "      <th></th>\n",
       "      <th></th>\n",
       "      <th></th>\n",
       "      <th></th>\n",
       "      <th></th>\n",
       "      <th></th>\n",
       "      <th></th>\n",
       "      <th></th>\n",
       "    </tr>\n",
       "  </thead>\n",
       "  <tbody>\n",
       "    <tr>\n",
       "      <th>AAACCCAGTGTAGCAG_TSP1_bladder_1-0</th>\n",
       "      <td>human_tsp_1</td>\n",
       "      <td>Bladder</td>\n",
       "      <td>nan</td>\n",
       "      <td>AAACCCAGTGTAGCAG</td>\n",
       "      <td>TSP1_bladder_1</td>\n",
       "      <td>female</td>\n",
       "      <td>5522.0</td>\n",
       "      <td>1908</td>\n",
       "      <td>macrophage</td>\n",
       "      <td>50-59y</td>\n",
       "    </tr>\n",
       "    <tr>\n",
       "      <th>AAACCCATCAAGTCTG_TSP1_bladder_1-0</th>\n",
       "      <td>human_tsp_1</td>\n",
       "      <td>Bladder</td>\n",
       "      <td>nan</td>\n",
       "      <td>AAACCCATCAAGTCTG</td>\n",
       "      <td>TSP1_bladder_1</td>\n",
       "      <td>female</td>\n",
       "      <td>3829.0</td>\n",
       "      <td>1473</td>\n",
       "      <td>macrophage</td>\n",
       "      <td>50-59y</td>\n",
       "    </tr>\n",
       "    <tr>\n",
       "      <th>AAACCCATCCTTCGAC_TSP1_bladder_1-0</th>\n",
       "      <td>human_tsp_1</td>\n",
       "      <td>Bladder</td>\n",
       "      <td>nan</td>\n",
       "      <td>AAACCCATCCTTCGAC</td>\n",
       "      <td>TSP1_bladder_1</td>\n",
       "      <td>female</td>\n",
       "      <td>6434.0</td>\n",
       "      <td>2062</td>\n",
       "      <td>macrophage</td>\n",
       "      <td>50-59y</td>\n",
       "    </tr>\n",
       "    <tr>\n",
       "      <th>AAACCCATCGAAGGAC_TSP1_bladder_1-0</th>\n",
       "      <td>human_tsp_1</td>\n",
       "      <td>Bladder</td>\n",
       "      <td>nan</td>\n",
       "      <td>AAACCCATCGAAGGAC</td>\n",
       "      <td>TSP1_bladder_1</td>\n",
       "      <td>female</td>\n",
       "      <td>12273.0</td>\n",
       "      <td>2751</td>\n",
       "      <td>macrophage</td>\n",
       "      <td>50-59y</td>\n",
       "    </tr>\n",
       "    <tr>\n",
       "      <th>AAACGAAAGCTCCGAC_TSP1_bladder_1-0</th>\n",
       "      <td>human_tsp_1</td>\n",
       "      <td>Bladder</td>\n",
       "      <td>nan</td>\n",
       "      <td>AAACGAAAGCTCCGAC</td>\n",
       "      <td>TSP1_bladder_1</td>\n",
       "      <td>female</td>\n",
       "      <td>4724.0</td>\n",
       "      <td>651</td>\n",
       "      <td>plasma cell</td>\n",
       "      <td>50-59y</td>\n",
       "    </tr>\n",
       "  </tbody>\n",
       "</table>\n",
       "</div>"
      ],
      "text/plain": [
       "                                    individual   tissue anatomical_position  \\\n",
       "index                                                                         \n",
       "AAACCCAGTGTAGCAG_TSP1_bladder_1-0  human_tsp_1  Bladder                 nan   \n",
       "AAACCCATCAAGTCTG_TSP1_bladder_1-0  human_tsp_1  Bladder                 nan   \n",
       "AAACCCATCCTTCGAC_TSP1_bladder_1-0  human_tsp_1  Bladder                 nan   \n",
       "AAACCCATCGAAGGAC_TSP1_bladder_1-0  human_tsp_1  Bladder                 nan   \n",
       "AAACGAAAGCTCCGAC_TSP1_bladder_1-0  human_tsp_1  Bladder                 nan   \n",
       "\n",
       "                                       X10X_barcode        X10X_run     sex  \\\n",
       "index                                                                         \n",
       "AAACCCAGTGTAGCAG_TSP1_bladder_1-0  AAACCCAGTGTAGCAG  TSP1_bladder_1  female   \n",
       "AAACCCATCAAGTCTG_TSP1_bladder_1-0  AAACCCATCAAGTCTG  TSP1_bladder_1  female   \n",
       "AAACCCATCCTTCGAC_TSP1_bladder_1-0  AAACCCATCCTTCGAC  TSP1_bladder_1  female   \n",
       "AAACCCATCGAAGGAC_TSP1_bladder_1-0  AAACCCATCGAAGGAC  TSP1_bladder_1  female   \n",
       "AAACGAAAGCTCCGAC_TSP1_bladder_1-0  AAACGAAAGCTCCGAC  TSP1_bladder_1  female   \n",
       "\n",
       "                                   n_counts  n_genes cell_ontology_type  \\\n",
       "index                                                                     \n",
       "AAACCCAGTGTAGCAG_TSP1_bladder_1-0    5522.0     1908         macrophage   \n",
       "AAACCCATCAAGTCTG_TSP1_bladder_1-0    3829.0     1473         macrophage   \n",
       "AAACCCATCCTTCGAC_TSP1_bladder_1-0    6434.0     2062         macrophage   \n",
       "AAACCCATCGAAGGAC_TSP1_bladder_1-0   12273.0     2751         macrophage   \n",
       "AAACGAAAGCTCCGAC_TSP1_bladder_1-0    4724.0      651        plasma cell   \n",
       "\n",
       "                                      age  \n",
       "index                                      \n",
       "AAACCCAGTGTAGCAG_TSP1_bladder_1-0  50-59y  \n",
       "AAACCCATCAAGTCTG_TSP1_bladder_1-0  50-59y  \n",
       "AAACCCATCCTTCGAC_TSP1_bladder_1-0  50-59y  \n",
       "AAACCCATCGAAGGAC_TSP1_bladder_1-0  50-59y  \n",
       "AAACGAAAGCTCCGAC_TSP1_bladder_1-0  50-59y  "
      ]
     },
     "execution_count": 9,
     "metadata": {},
     "output_type": "execute_result"
    }
   ],
   "source": [
    "obs_cols = [\n",
    "    \"individual\",\n",
    "    \"tissue\",\n",
    "    \"anatomical_position\",\n",
    "    \"X10X_barcode\",\n",
    "    \"X10X_run\",\n",
    "    \"sex\",\n",
    "    \"n_counts\",\n",
    "    \"n_genes\",\n",
    "    \"cell_ontology_type\",\n",
    "]\n",
    "\n",
    "minimal_obs = sapiens_10x_no_diaphragm_pilot2.obs[obs_cols]\n",
    "minimal_obs['age'] = '50-59y'\n",
    "minimal_obs.head()"
   ]
  },
  {
   "cell_type": "markdown",
   "metadata": {},
   "source": [
    "### Rename obs columns"
   ]
  },
  {
   "cell_type": "code",
   "execution_count": 10,
   "metadata": {},
   "outputs": [
    {
     "data": {
      "text/html": [
       "<div>\n",
       "<style scoped>\n",
       "    .dataframe tbody tr th:only-of-type {\n",
       "        vertical-align: middle;\n",
       "    }\n",
       "\n",
       "    .dataframe tbody tr th {\n",
       "        vertical-align: top;\n",
       "    }\n",
       "\n",
       "    .dataframe thead th {\n",
       "        text-align: right;\n",
       "    }\n",
       "</style>\n",
       "<table border=\"1\" class=\"dataframe\">\n",
       "  <thead>\n",
       "    <tr style=\"text-align: right;\">\n",
       "      <th></th>\n",
       "      <th>individual</th>\n",
       "      <th>tissue</th>\n",
       "      <th>subtissue</th>\n",
       "      <th>cell_barcode</th>\n",
       "      <th>channel</th>\n",
       "      <th>sex</th>\n",
       "      <th>n_counts</th>\n",
       "      <th>n_genes</th>\n",
       "      <th>cell_ontology_class</th>\n",
       "      <th>age</th>\n",
       "    </tr>\n",
       "    <tr>\n",
       "      <th>index</th>\n",
       "      <th></th>\n",
       "      <th></th>\n",
       "      <th></th>\n",
       "      <th></th>\n",
       "      <th></th>\n",
       "      <th></th>\n",
       "      <th></th>\n",
       "      <th></th>\n",
       "      <th></th>\n",
       "      <th></th>\n",
       "    </tr>\n",
       "  </thead>\n",
       "  <tbody>\n",
       "    <tr>\n",
       "      <th>AAACCCAGTGTAGCAG_TSP1_bladder_1-0</th>\n",
       "      <td>human_tsp_1</td>\n",
       "      <td>Bladder</td>\n",
       "      <td>nan</td>\n",
       "      <td>AAACCCAGTGTAGCAG</td>\n",
       "      <td>TSP1_bladder_1</td>\n",
       "      <td>female</td>\n",
       "      <td>5522.0</td>\n",
       "      <td>1908</td>\n",
       "      <td>macrophage</td>\n",
       "      <td>50-59y</td>\n",
       "    </tr>\n",
       "    <tr>\n",
       "      <th>AAACCCATCAAGTCTG_TSP1_bladder_1-0</th>\n",
       "      <td>human_tsp_1</td>\n",
       "      <td>Bladder</td>\n",
       "      <td>nan</td>\n",
       "      <td>AAACCCATCAAGTCTG</td>\n",
       "      <td>TSP1_bladder_1</td>\n",
       "      <td>female</td>\n",
       "      <td>3829.0</td>\n",
       "      <td>1473</td>\n",
       "      <td>macrophage</td>\n",
       "      <td>50-59y</td>\n",
       "    </tr>\n",
       "    <tr>\n",
       "      <th>AAACCCATCCTTCGAC_TSP1_bladder_1-0</th>\n",
       "      <td>human_tsp_1</td>\n",
       "      <td>Bladder</td>\n",
       "      <td>nan</td>\n",
       "      <td>AAACCCATCCTTCGAC</td>\n",
       "      <td>TSP1_bladder_1</td>\n",
       "      <td>female</td>\n",
       "      <td>6434.0</td>\n",
       "      <td>2062</td>\n",
       "      <td>macrophage</td>\n",
       "      <td>50-59y</td>\n",
       "    </tr>\n",
       "    <tr>\n",
       "      <th>AAACCCATCGAAGGAC_TSP1_bladder_1-0</th>\n",
       "      <td>human_tsp_1</td>\n",
       "      <td>Bladder</td>\n",
       "      <td>nan</td>\n",
       "      <td>AAACCCATCGAAGGAC</td>\n",
       "      <td>TSP1_bladder_1</td>\n",
       "      <td>female</td>\n",
       "      <td>12273.0</td>\n",
       "      <td>2751</td>\n",
       "      <td>macrophage</td>\n",
       "      <td>50-59y</td>\n",
       "    </tr>\n",
       "    <tr>\n",
       "      <th>AAACGAAAGCTCCGAC_TSP1_bladder_1-0</th>\n",
       "      <td>human_tsp_1</td>\n",
       "      <td>Bladder</td>\n",
       "      <td>nan</td>\n",
       "      <td>AAACGAAAGCTCCGAC</td>\n",
       "      <td>TSP1_bladder_1</td>\n",
       "      <td>female</td>\n",
       "      <td>4724.0</td>\n",
       "      <td>651</td>\n",
       "      <td>plasma cell</td>\n",
       "      <td>50-59y</td>\n",
       "    </tr>\n",
       "  </tbody>\n",
       "</table>\n",
       "</div>"
      ],
      "text/plain": [
       "                                    individual   tissue subtissue  \\\n",
       "index                                                               \n",
       "AAACCCAGTGTAGCAG_TSP1_bladder_1-0  human_tsp_1  Bladder       nan   \n",
       "AAACCCATCAAGTCTG_TSP1_bladder_1-0  human_tsp_1  Bladder       nan   \n",
       "AAACCCATCCTTCGAC_TSP1_bladder_1-0  human_tsp_1  Bladder       nan   \n",
       "AAACCCATCGAAGGAC_TSP1_bladder_1-0  human_tsp_1  Bladder       nan   \n",
       "AAACGAAAGCTCCGAC_TSP1_bladder_1-0  human_tsp_1  Bladder       nan   \n",
       "\n",
       "                                       cell_barcode         channel     sex  \\\n",
       "index                                                                         \n",
       "AAACCCAGTGTAGCAG_TSP1_bladder_1-0  AAACCCAGTGTAGCAG  TSP1_bladder_1  female   \n",
       "AAACCCATCAAGTCTG_TSP1_bladder_1-0  AAACCCATCAAGTCTG  TSP1_bladder_1  female   \n",
       "AAACCCATCCTTCGAC_TSP1_bladder_1-0  AAACCCATCCTTCGAC  TSP1_bladder_1  female   \n",
       "AAACCCATCGAAGGAC_TSP1_bladder_1-0  AAACCCATCGAAGGAC  TSP1_bladder_1  female   \n",
       "AAACGAAAGCTCCGAC_TSP1_bladder_1-0  AAACGAAAGCTCCGAC  TSP1_bladder_1  female   \n",
       "\n",
       "                                   n_counts  n_genes cell_ontology_class  \\\n",
       "index                                                                      \n",
       "AAACCCAGTGTAGCAG_TSP1_bladder_1-0    5522.0     1908          macrophage   \n",
       "AAACCCATCAAGTCTG_TSP1_bladder_1-0    3829.0     1473          macrophage   \n",
       "AAACCCATCCTTCGAC_TSP1_bladder_1-0    6434.0     2062          macrophage   \n",
       "AAACCCATCGAAGGAC_TSP1_bladder_1-0   12273.0     2751          macrophage   \n",
       "AAACGAAAGCTCCGAC_TSP1_bladder_1-0    4724.0      651         plasma cell   \n",
       "\n",
       "                                      age  \n",
       "index                                      \n",
       "AAACCCAGTGTAGCAG_TSP1_bladder_1-0  50-59y  \n",
       "AAACCCATCAAGTCTG_TSP1_bladder_1-0  50-59y  \n",
       "AAACCCATCCTTCGAC_TSP1_bladder_1-0  50-59y  \n",
       "AAACCCATCGAAGGAC_TSP1_bladder_1-0  50-59y  \n",
       "AAACGAAAGCTCCGAC_TSP1_bladder_1-0  50-59y  "
      ]
     },
     "execution_count": 10,
     "metadata": {},
     "output_type": "execute_result"
    }
   ],
   "source": [
    "minimal_obs = minimal_obs.rename(\n",
    "    columns={\n",
    "        \"X10X_barcode\": \"cell_barcode\",\n",
    "        \"X10X_run\": \"channel\",\n",
    "        \"anatomical_position\": \"subtissue\",\n",
    "        \"cell_ontology_type\": \"cell_ontology_class\",\n",
    "        \"n_counts\": \"n_counts\",\n",
    "        \"n_genes\": \"n_genes\",\n",
    "        \"sex\": \"sex\",\n",
    "        \"tissue\": \"tissue\",\n",
    "    }\n",
    ")\n",
    "minimal_obs.head()"
   ]
  },
  {
   "cell_type": "markdown",
   "metadata": {},
   "source": [
    "### Add species"
   ]
  },
  {
   "cell_type": "code",
   "execution_count": 11,
   "metadata": {},
   "outputs": [
    {
     "data": {
      "text/html": [
       "<div>\n",
       "<style scoped>\n",
       "    .dataframe tbody tr th:only-of-type {\n",
       "        vertical-align: middle;\n",
       "    }\n",
       "\n",
       "    .dataframe tbody tr th {\n",
       "        vertical-align: top;\n",
       "    }\n",
       "\n",
       "    .dataframe thead th {\n",
       "        text-align: right;\n",
       "    }\n",
       "</style>\n",
       "<table border=\"1\" class=\"dataframe\">\n",
       "  <thead>\n",
       "    <tr style=\"text-align: right;\">\n",
       "      <th></th>\n",
       "      <th>individual</th>\n",
       "      <th>tissue</th>\n",
       "      <th>subtissue</th>\n",
       "      <th>cell_barcode</th>\n",
       "      <th>channel</th>\n",
       "      <th>sex</th>\n",
       "      <th>n_counts</th>\n",
       "      <th>n_genes</th>\n",
       "      <th>cell_ontology_class</th>\n",
       "      <th>age</th>\n",
       "      <th>species</th>\n",
       "      <th>species_latin</th>\n",
       "    </tr>\n",
       "    <tr>\n",
       "      <th>index</th>\n",
       "      <th></th>\n",
       "      <th></th>\n",
       "      <th></th>\n",
       "      <th></th>\n",
       "      <th></th>\n",
       "      <th></th>\n",
       "      <th></th>\n",
       "      <th></th>\n",
       "      <th></th>\n",
       "      <th></th>\n",
       "      <th></th>\n",
       "      <th></th>\n",
       "    </tr>\n",
       "  </thead>\n",
       "  <tbody>\n",
       "    <tr>\n",
       "      <th>AAACCCAGTGTAGCAG_TSP1_bladder_1-0</th>\n",
       "      <td>human_tsp_1</td>\n",
       "      <td>Bladder</td>\n",
       "      <td>nan</td>\n",
       "      <td>AAACCCAGTGTAGCAG</td>\n",
       "      <td>TSP1_bladder_1</td>\n",
       "      <td>female</td>\n",
       "      <td>5522.0</td>\n",
       "      <td>1908</td>\n",
       "      <td>macrophage</td>\n",
       "      <td>50-59y</td>\n",
       "      <td>Human</td>\n",
       "      <td>Homo sapiens</td>\n",
       "    </tr>\n",
       "    <tr>\n",
       "      <th>AAACCCATCAAGTCTG_TSP1_bladder_1-0</th>\n",
       "      <td>human_tsp_1</td>\n",
       "      <td>Bladder</td>\n",
       "      <td>nan</td>\n",
       "      <td>AAACCCATCAAGTCTG</td>\n",
       "      <td>TSP1_bladder_1</td>\n",
       "      <td>female</td>\n",
       "      <td>3829.0</td>\n",
       "      <td>1473</td>\n",
       "      <td>macrophage</td>\n",
       "      <td>50-59y</td>\n",
       "      <td>Human</td>\n",
       "      <td>Homo sapiens</td>\n",
       "    </tr>\n",
       "    <tr>\n",
       "      <th>AAACCCATCCTTCGAC_TSP1_bladder_1-0</th>\n",
       "      <td>human_tsp_1</td>\n",
       "      <td>Bladder</td>\n",
       "      <td>nan</td>\n",
       "      <td>AAACCCATCCTTCGAC</td>\n",
       "      <td>TSP1_bladder_1</td>\n",
       "      <td>female</td>\n",
       "      <td>6434.0</td>\n",
       "      <td>2062</td>\n",
       "      <td>macrophage</td>\n",
       "      <td>50-59y</td>\n",
       "      <td>Human</td>\n",
       "      <td>Homo sapiens</td>\n",
       "    </tr>\n",
       "    <tr>\n",
       "      <th>AAACCCATCGAAGGAC_TSP1_bladder_1-0</th>\n",
       "      <td>human_tsp_1</td>\n",
       "      <td>Bladder</td>\n",
       "      <td>nan</td>\n",
       "      <td>AAACCCATCGAAGGAC</td>\n",
       "      <td>TSP1_bladder_1</td>\n",
       "      <td>female</td>\n",
       "      <td>12273.0</td>\n",
       "      <td>2751</td>\n",
       "      <td>macrophage</td>\n",
       "      <td>50-59y</td>\n",
       "      <td>Human</td>\n",
       "      <td>Homo sapiens</td>\n",
       "    </tr>\n",
       "    <tr>\n",
       "      <th>AAACGAAAGCTCCGAC_TSP1_bladder_1-0</th>\n",
       "      <td>human_tsp_1</td>\n",
       "      <td>Bladder</td>\n",
       "      <td>nan</td>\n",
       "      <td>AAACGAAAGCTCCGAC</td>\n",
       "      <td>TSP1_bladder_1</td>\n",
       "      <td>female</td>\n",
       "      <td>4724.0</td>\n",
       "      <td>651</td>\n",
       "      <td>plasma cell</td>\n",
       "      <td>50-59y</td>\n",
       "      <td>Human</td>\n",
       "      <td>Homo sapiens</td>\n",
       "    </tr>\n",
       "  </tbody>\n",
       "</table>\n",
       "</div>"
      ],
      "text/plain": [
       "                                    individual   tissue subtissue  \\\n",
       "index                                                               \n",
       "AAACCCAGTGTAGCAG_TSP1_bladder_1-0  human_tsp_1  Bladder       nan   \n",
       "AAACCCATCAAGTCTG_TSP1_bladder_1-0  human_tsp_1  Bladder       nan   \n",
       "AAACCCATCCTTCGAC_TSP1_bladder_1-0  human_tsp_1  Bladder       nan   \n",
       "AAACCCATCGAAGGAC_TSP1_bladder_1-0  human_tsp_1  Bladder       nan   \n",
       "AAACGAAAGCTCCGAC_TSP1_bladder_1-0  human_tsp_1  Bladder       nan   \n",
       "\n",
       "                                       cell_barcode         channel     sex  \\\n",
       "index                                                                         \n",
       "AAACCCAGTGTAGCAG_TSP1_bladder_1-0  AAACCCAGTGTAGCAG  TSP1_bladder_1  female   \n",
       "AAACCCATCAAGTCTG_TSP1_bladder_1-0  AAACCCATCAAGTCTG  TSP1_bladder_1  female   \n",
       "AAACCCATCCTTCGAC_TSP1_bladder_1-0  AAACCCATCCTTCGAC  TSP1_bladder_1  female   \n",
       "AAACCCATCGAAGGAC_TSP1_bladder_1-0  AAACCCATCGAAGGAC  TSP1_bladder_1  female   \n",
       "AAACGAAAGCTCCGAC_TSP1_bladder_1-0  AAACGAAAGCTCCGAC  TSP1_bladder_1  female   \n",
       "\n",
       "                                   n_counts  n_genes cell_ontology_class  \\\n",
       "index                                                                      \n",
       "AAACCCAGTGTAGCAG_TSP1_bladder_1-0    5522.0     1908          macrophage   \n",
       "AAACCCATCAAGTCTG_TSP1_bladder_1-0    3829.0     1473          macrophage   \n",
       "AAACCCATCCTTCGAC_TSP1_bladder_1-0    6434.0     2062          macrophage   \n",
       "AAACCCATCGAAGGAC_TSP1_bladder_1-0   12273.0     2751          macrophage   \n",
       "AAACGAAAGCTCCGAC_TSP1_bladder_1-0    4724.0      651         plasma cell   \n",
       "\n",
       "                                      age species species_latin  \n",
       "index                                                            \n",
       "AAACCCAGTGTAGCAG_TSP1_bladder_1-0  50-59y   Human  Homo sapiens  \n",
       "AAACCCATCAAGTCTG_TSP1_bladder_1-0  50-59y   Human  Homo sapiens  \n",
       "AAACCCATCCTTCGAC_TSP1_bladder_1-0  50-59y   Human  Homo sapiens  \n",
       "AAACCCATCGAAGGAC_TSP1_bladder_1-0  50-59y   Human  Homo sapiens  \n",
       "AAACGAAAGCTCCGAC_TSP1_bladder_1-0  50-59y   Human  Homo sapiens  "
      ]
     },
     "execution_count": 11,
     "metadata": {},
     "output_type": "execute_result"
    }
   ],
   "source": [
    "minimal_obs['species'] = \"Human\"\n",
    "minimal_obs['species_latin'] = 'Homo sapiens'\n",
    "minimal_obs.head()"
   ]
  },
  {
   "cell_type": "markdown",
   "metadata": {},
   "source": [
    "## Use minimum columns for `.var` (gene metadata)"
   ]
  },
  {
   "cell_type": "code",
   "execution_count": 12,
   "metadata": {},
   "outputs": [
    {
     "data": {
      "text/plain": [
       "['contamination_prop-0',\n",
       " 'contamination_prop-1',\n",
       " 'contamination_prop-10',\n",
       " 'contamination_prop-11',\n",
       " 'contamination_prop-12',\n",
       " 'contamination_prop-13',\n",
       " 'contamination_prop-14',\n",
       " 'contamination_prop-2',\n",
       " 'contamination_prop-3',\n",
       " 'contamination_prop-4',\n",
       " 'contamination_prop-5',\n",
       " 'contamination_prop-6',\n",
       " 'contamination_prop-7',\n",
       " 'contamination_prop-8',\n",
       " 'contamination_prop-9',\n",
       " 'ensembl_id',\n",
       " 'feature_types.0.0',\n",
       " 'feature_types.0.0.0.1',\n",
       " 'gene_symbol.0.0',\n",
       " 'gene_symbol.0.0.0.1',\n",
       " 'len',\n",
       " 'n_cells',\n",
       " 'n_cells.0',\n",
       " 'n_cells.0.0',\n",
       " 'n_cells.1.0',\n",
       " 'n_cells.1.0.0.1',\n",
       " 'n_cells.1.0.1',\n",
       " 'n_cells.1.1']"
      ]
     },
     "execution_count": 12,
     "metadata": {},
     "output_type": "execute_result"
    }
   ],
   "source": [
    "sorted(sapiens_10x_no_diaphragm_pilot2.var.columns)"
   ]
  },
  {
   "cell_type": "code",
   "execution_count": 13,
   "metadata": {},
   "outputs": [
    {
     "data": {
      "text/html": [
       "<div>\n",
       "<style scoped>\n",
       "    .dataframe tbody tr th:only-of-type {\n",
       "        vertical-align: middle;\n",
       "    }\n",
       "\n",
       "    .dataframe tbody tr th {\n",
       "        vertical-align: top;\n",
       "    }\n",
       "\n",
       "    .dataframe thead th {\n",
       "        text-align: right;\n",
       "    }\n",
       "</style>\n",
       "<table border=\"1\" class=\"dataframe\">\n",
       "  <thead>\n",
       "    <tr style=\"text-align: right;\">\n",
       "      <th></th>\n",
       "      <th>ensembl_id</th>\n",
       "      <th>len</th>\n",
       "    </tr>\n",
       "  </thead>\n",
       "  <tbody>\n",
       "    <tr>\n",
       "      <th>DDX11L1</th>\n",
       "      <td>ENSG00000223972.5</td>\n",
       "      <td>1144.5</td>\n",
       "    </tr>\n",
       "    <tr>\n",
       "      <th>WASH7P</th>\n",
       "      <td>ENSG00000227232.5</td>\n",
       "      <td>1351.0</td>\n",
       "    </tr>\n",
       "    <tr>\n",
       "      <th>MIR6859-1</th>\n",
       "      <td>ENSG00000278267.1</td>\n",
       "      <td>68.0</td>\n",
       "    </tr>\n",
       "    <tr>\n",
       "      <th>MIR1302-2HG</th>\n",
       "      <td>ENSG00000243485.5</td>\n",
       "      <td>623.5</td>\n",
       "    </tr>\n",
       "    <tr>\n",
       "      <th>MIR1302-2</th>\n",
       "      <td>ENSG00000284332.1</td>\n",
       "      <td>138.0</td>\n",
       "    </tr>\n",
       "  </tbody>\n",
       "</table>\n",
       "</div>"
      ],
      "text/plain": [
       "                    ensembl_id     len\n",
       "DDX11L1      ENSG00000223972.5  1144.5\n",
       "WASH7P       ENSG00000227232.5  1351.0\n",
       "MIR6859-1    ENSG00000278267.1    68.0\n",
       "MIR1302-2HG  ENSG00000243485.5   623.5\n",
       "MIR1302-2    ENSG00000284332.1   138.0"
      ]
     },
     "execution_count": 13,
     "metadata": {},
     "output_type": "execute_result"
    }
   ],
   "source": [
    "var_cols = ['ensembl_id', 'len',]\n",
    "\n",
    "new_var = sapiens_10x_no_diaphragm_pilot2.var[var_cols]\n",
    "new_var.head()"
   ]
  },
  {
   "cell_type": "markdown",
   "metadata": {},
   "source": [
    "# Add unified annotations"
   ]
  },
  {
   "cell_type": "markdown",
   "metadata": {},
   "source": [
    "## Blood"
   ]
  },
  {
   "cell_type": "code",
   "execution_count": 15,
   "metadata": {},
   "outputs": [
    {
     "name": "stdout",
     "output_type": "stream",
     "text": [
      "(25, 3)\n"
     ]
    },
    {
     "data": {
      "text/html": [
       "<div>\n",
       "<style scoped>\n",
       "    .dataframe tbody tr th:only-of-type {\n",
       "        vertical-align: middle;\n",
       "    }\n",
       "\n",
       "    .dataframe tbody tr th {\n",
       "        vertical-align: top;\n",
       "    }\n",
       "\n",
       "    .dataframe thead th {\n",
       "        text-align: right;\n",
       "    }\n",
       "</style>\n",
       "<table border=\"1\" class=\"dataframe\">\n",
       "  <thead>\n",
       "    <tr style=\"text-align: right;\">\n",
       "      <th></th>\n",
       "      <th>narrow_group</th>\n",
       "      <th>broad_group</th>\n",
       "      <th>compartment_group</th>\n",
       "    </tr>\n",
       "    <tr>\n",
       "      <th>(Human, Tabula Sapiens, cell_ontology_type)</th>\n",
       "      <th></th>\n",
       "      <th></th>\n",
       "      <th></th>\n",
       "    </tr>\n",
       "  </thead>\n",
       "  <tbody>\n",
       "    <tr>\n",
       "      <th>B cell</th>\n",
       "      <td>B cell</td>\n",
       "      <td>B cell</td>\n",
       "      <td>lymphoid</td>\n",
       "    </tr>\n",
       "    <tr>\n",
       "      <th>immature B cell</th>\n",
       "      <td>B cell</td>\n",
       "      <td>B cell</td>\n",
       "      <td>lymphoid</td>\n",
       "    </tr>\n",
       "    <tr>\n",
       "      <th>memory B cell</th>\n",
       "      <td>B cell</td>\n",
       "      <td>B cell</td>\n",
       "      <td>lymphoid</td>\n",
       "    </tr>\n",
       "    <tr>\n",
       "      <th>naive B cell</th>\n",
       "      <td>B cell</td>\n",
       "      <td>B cell</td>\n",
       "      <td>lymphoid</td>\n",
       "    </tr>\n",
       "    <tr>\n",
       "      <th>plasma cell</th>\n",
       "      <td>plasma cell</td>\n",
       "      <td>plasma cell</td>\n",
       "      <td>lymphoid</td>\n",
       "    </tr>\n",
       "  </tbody>\n",
       "</table>\n",
       "</div>"
      ],
      "text/plain": [
       "                                            narrow_group  broad_group  \\\n",
       "(Human, Tabula Sapiens, cell_ontology_type)                             \n",
       "B cell                                            B cell       B cell   \n",
       "immature B cell                                   B cell       B cell   \n",
       "memory B cell                                     B cell       B cell   \n",
       "naive B cell                                      B cell       B cell   \n",
       "plasma cell                                  plasma cell  plasma cell   \n",
       "\n",
       "                                            compartment_group  \n",
       "(Human, Tabula Sapiens, cell_ontology_type)                    \n",
       "B cell                                               lymphoid  \n",
       "immature B cell                                      lymphoid  \n",
       "memory B cell                                        lymphoid  \n",
       "naive B cell                                         lymphoid  \n",
       "plasma cell                                          lymphoid  "
      ]
     },
     "execution_count": 15,
     "metadata": {},
     "output_type": "execute_result"
    }
   ],
   "source": [
    "import unified_annotations\n",
    "\n",
    "blood_grouping = unified_annotations.get_celltype_converter(\n",
    "    \"Blood\", (\"Human\", \"Tabula Sapiens\", \"cell_ontology_type\")\n",
    ") \n",
    "blood_grouping = blood_grouping.drop('tissue', axis=1)\n",
    "print(blood_grouping.shape)\n",
    "blood_grouping.head()"
   ]
  },
  {
   "cell_type": "markdown",
   "metadata": {},
   "source": [
    "## Muscle"
   ]
  },
  {
   "cell_type": "code",
   "execution_count": 16,
   "metadata": {},
   "outputs": [
    {
     "name": "stdout",
     "output_type": "stream",
     "text": [
      "(34, 3)\n"
     ]
    },
    {
     "data": {
      "text/html": [
       "<div>\n",
       "<style scoped>\n",
       "    .dataframe tbody tr th:only-of-type {\n",
       "        vertical-align: middle;\n",
       "    }\n",
       "\n",
       "    .dataframe tbody tr th {\n",
       "        vertical-align: top;\n",
       "    }\n",
       "\n",
       "    .dataframe thead th {\n",
       "        text-align: right;\n",
       "    }\n",
       "</style>\n",
       "<table border=\"1\" class=\"dataframe\">\n",
       "  <thead>\n",
       "    <tr style=\"text-align: right;\">\n",
       "      <th></th>\n",
       "      <th>narrow_group</th>\n",
       "      <th>broad_group</th>\n",
       "      <th>compartment_group</th>\n",
       "    </tr>\n",
       "    <tr>\n",
       "      <th>(Human, Tabula Sapiens, TS_muscle_CE_free_annotation (P1 and P2, remove diaphragm data AND remove SS2 data))</th>\n",
       "      <th></th>\n",
       "      <th></th>\n",
       "      <th></th>\n",
       "    </tr>\n",
       "  </thead>\n",
       "  <tbody>\n",
       "    <tr>\n",
       "      <th>B cell</th>\n",
       "      <td>B cell</td>\n",
       "      <td>B cell</td>\n",
       "      <td>lymphoid</td>\n",
       "    </tr>\n",
       "    <tr>\n",
       "      <th>plasma cell</th>\n",
       "      <td>plasma cell</td>\n",
       "      <td>plasma cell</td>\n",
       "      <td>lymphoid</td>\n",
       "    </tr>\n",
       "    <tr>\n",
       "      <th>T cell (CD4+ CD8-)</th>\n",
       "      <td>T cell (CD4+)</td>\n",
       "      <td>T cell</td>\n",
       "      <td>lymphoid</td>\n",
       "    </tr>\n",
       "    <tr>\n",
       "      <th>T cell (CD4- CD8+)</th>\n",
       "      <td>T cell (CD8+)</td>\n",
       "      <td>T cell</td>\n",
       "      <td>lymphoid</td>\n",
       "    </tr>\n",
       "    <tr>\n",
       "      <th>natural killer cell</th>\n",
       "      <td>natural killer cell</td>\n",
       "      <td>natural killer cell</td>\n",
       "      <td>lymphoid</td>\n",
       "    </tr>\n",
       "  </tbody>\n",
       "</table>\n",
       "</div>"
      ],
      "text/plain": [
       "                                                           narrow_group  \\\n",
       "(Human, Tabula Sapiens, TS_muscle_CE_free_annot...                        \n",
       "B cell                                                           B cell   \n",
       "plasma cell                                                 plasma cell   \n",
       "T cell (CD4+ CD8-)                                        T cell (CD4+)   \n",
       "T cell (CD4- CD8+)                                        T cell (CD8+)   \n",
       "natural killer cell                                 natural killer cell   \n",
       "\n",
       "                                                            broad_group  \\\n",
       "(Human, Tabula Sapiens, TS_muscle_CE_free_annot...                        \n",
       "B cell                                                           B cell   \n",
       "plasma cell                                                 plasma cell   \n",
       "T cell (CD4+ CD8-)                                               T cell   \n",
       "T cell (CD4- CD8+)                                               T cell   \n",
       "natural killer cell                                 natural killer cell   \n",
       "\n",
       "                                                   compartment_group  \n",
       "(Human, Tabula Sapiens, TS_muscle_CE_free_annot...                    \n",
       "B cell                                                      lymphoid  \n",
       "plasma cell                                                 lymphoid  \n",
       "T cell (CD4+ CD8-)                                          lymphoid  \n",
       "T cell (CD4- CD8+)                                          lymphoid  \n",
       "natural killer cell                                         lymphoid  "
      ]
     },
     "execution_count": 16,
     "metadata": {},
     "output_type": "execute_result"
    }
   ],
   "source": [
    "muscle_grouping = unified_annotations.get_celltype_converter(\n",
    "    \"Muscle\",\n",
    "    (\n",
    "        \"Human\",\n",
    "        \"Tabula Sapiens\",\n",
    "        \"TS_muscle_CE_free_annotation (P1 and P2, remove diaphragm data AND remove SS2 data)\",\n",
    "    ),\n",
    ")\n",
    "muscle_grouping = muscle_grouping.drop('tissue', axis=1)\n",
    "print(muscle_grouping.shape)\n",
    "muscle_grouping.head()"
   ]
  },
  {
   "cell_type": "markdown",
   "metadata": {},
   "source": [
    "## Concatenate muscle and blood since both use `cell_ontology_type`"
   ]
  },
  {
   "cell_type": "code",
   "execution_count": 17,
   "metadata": {},
   "outputs": [
    {
     "data": {
      "text/html": [
       "<div>\n",
       "<style scoped>\n",
       "    .dataframe tbody tr th:only-of-type {\n",
       "        vertical-align: middle;\n",
       "    }\n",
       "\n",
       "    .dataframe tbody tr th {\n",
       "        vertical-align: top;\n",
       "    }\n",
       "\n",
       "    .dataframe thead th {\n",
       "        text-align: right;\n",
       "    }\n",
       "</style>\n",
       "<table border=\"1\" class=\"dataframe\">\n",
       "  <thead>\n",
       "    <tr style=\"text-align: right;\">\n",
       "      <th></th>\n",
       "      <th>narrow_group</th>\n",
       "      <th>broad_group</th>\n",
       "      <th>compartment_group</th>\n",
       "    </tr>\n",
       "  </thead>\n",
       "  <tbody>\n",
       "    <tr>\n",
       "      <th>B cell</th>\n",
       "      <td>B cell</td>\n",
       "      <td>B cell</td>\n",
       "      <td>lymphoid</td>\n",
       "    </tr>\n",
       "    <tr>\n",
       "      <th>immature B cell</th>\n",
       "      <td>B cell</td>\n",
       "      <td>B cell</td>\n",
       "      <td>lymphoid</td>\n",
       "    </tr>\n",
       "    <tr>\n",
       "      <th>memory B cell</th>\n",
       "      <td>B cell</td>\n",
       "      <td>B cell</td>\n",
       "      <td>lymphoid</td>\n",
       "    </tr>\n",
       "    <tr>\n",
       "      <th>naive B cell</th>\n",
       "      <td>B cell</td>\n",
       "      <td>B cell</td>\n",
       "      <td>lymphoid</td>\n",
       "    </tr>\n",
       "    <tr>\n",
       "      <th>plasma cell</th>\n",
       "      <td>plasma cell</td>\n",
       "      <td>plasma cell</td>\n",
       "      <td>lymphoid</td>\n",
       "    </tr>\n",
       "  </tbody>\n",
       "</table>\n",
       "</div>"
      ],
      "text/plain": [
       "                narrow_group  broad_group compartment_group\n",
       "B cell                B cell       B cell          lymphoid\n",
       "immature B cell       B cell       B cell          lymphoid\n",
       "memory B cell         B cell       B cell          lymphoid\n",
       "naive B cell          B cell       B cell          lymphoid\n",
       "plasma cell      plasma cell  plasma cell          lymphoid"
      ]
     },
     "execution_count": 17,
     "metadata": {},
     "output_type": "execute_result"
    }
   ],
   "source": [
    "blood_muscle = pd.concat([blood_grouping, muscle_grouping])\n",
    "blood_muscle = blood_muscle.loc[~blood_muscle.index.duplicated()]\n",
    "blood_muscle.head()"
   ]
  },
  {
   "cell_type": "markdown",
   "metadata": {},
   "source": [
    "### Merge new renamed, minimal obs with blood muscle for `narrow_group`, `broad_group`"
   ]
  },
  {
   "cell_type": "code",
   "execution_count": 18,
   "metadata": {},
   "outputs": [
    {
     "name": "stdout",
     "output_type": "stream",
     "text": [
      "(132884, 15)\n"
     ]
    },
    {
     "data": {
      "text/html": [
       "<div>\n",
       "<style scoped>\n",
       "    .dataframe tbody tr th:only-of-type {\n",
       "        vertical-align: middle;\n",
       "    }\n",
       "\n",
       "    .dataframe tbody tr th {\n",
       "        vertical-align: top;\n",
       "    }\n",
       "\n",
       "    .dataframe thead th {\n",
       "        text-align: right;\n",
       "    }\n",
       "</style>\n",
       "<table border=\"1\" class=\"dataframe\">\n",
       "  <thead>\n",
       "    <tr style=\"text-align: right;\">\n",
       "      <th></th>\n",
       "      <th>individual</th>\n",
       "      <th>tissue</th>\n",
       "      <th>subtissue</th>\n",
       "      <th>cell_barcode</th>\n",
       "      <th>channel</th>\n",
       "      <th>sex</th>\n",
       "      <th>n_counts</th>\n",
       "      <th>n_genes</th>\n",
       "      <th>cell_ontology_class</th>\n",
       "      <th>age</th>\n",
       "      <th>species</th>\n",
       "      <th>species_latin</th>\n",
       "      <th>narrow_group</th>\n",
       "      <th>broad_group</th>\n",
       "      <th>compartment_group</th>\n",
       "    </tr>\n",
       "    <tr>\n",
       "      <th>index</th>\n",
       "      <th></th>\n",
       "      <th></th>\n",
       "      <th></th>\n",
       "      <th></th>\n",
       "      <th></th>\n",
       "      <th></th>\n",
       "      <th></th>\n",
       "      <th></th>\n",
       "      <th></th>\n",
       "      <th></th>\n",
       "      <th></th>\n",
       "      <th></th>\n",
       "      <th></th>\n",
       "      <th></th>\n",
       "      <th></th>\n",
       "    </tr>\n",
       "  </thead>\n",
       "  <tbody>\n",
       "    <tr>\n",
       "      <th>AAACCCAGTGTAGCAG_TSP1_bladder_1-0</th>\n",
       "      <td>human_tsp_1</td>\n",
       "      <td>Bladder</td>\n",
       "      <td>nan</td>\n",
       "      <td>AAACCCAGTGTAGCAG</td>\n",
       "      <td>TSP1_bladder_1</td>\n",
       "      <td>female</td>\n",
       "      <td>5522.0</td>\n",
       "      <td>1908</td>\n",
       "      <td>macrophage</td>\n",
       "      <td>50-59y</td>\n",
       "      <td>Human</td>\n",
       "      <td>Homo sapiens</td>\n",
       "      <td>macrophage</td>\n",
       "      <td>macrophage</td>\n",
       "      <td>myeloid</td>\n",
       "    </tr>\n",
       "    <tr>\n",
       "      <th>AAACCCATCAAGTCTG_TSP1_bladder_1-0</th>\n",
       "      <td>human_tsp_1</td>\n",
       "      <td>Bladder</td>\n",
       "      <td>nan</td>\n",
       "      <td>AAACCCATCAAGTCTG</td>\n",
       "      <td>TSP1_bladder_1</td>\n",
       "      <td>female</td>\n",
       "      <td>3829.0</td>\n",
       "      <td>1473</td>\n",
       "      <td>macrophage</td>\n",
       "      <td>50-59y</td>\n",
       "      <td>Human</td>\n",
       "      <td>Homo sapiens</td>\n",
       "      <td>macrophage</td>\n",
       "      <td>macrophage</td>\n",
       "      <td>myeloid</td>\n",
       "    </tr>\n",
       "    <tr>\n",
       "      <th>AAACCCATCCTTCGAC_TSP1_bladder_1-0</th>\n",
       "      <td>human_tsp_1</td>\n",
       "      <td>Bladder</td>\n",
       "      <td>nan</td>\n",
       "      <td>AAACCCATCCTTCGAC</td>\n",
       "      <td>TSP1_bladder_1</td>\n",
       "      <td>female</td>\n",
       "      <td>6434.0</td>\n",
       "      <td>2062</td>\n",
       "      <td>macrophage</td>\n",
       "      <td>50-59y</td>\n",
       "      <td>Human</td>\n",
       "      <td>Homo sapiens</td>\n",
       "      <td>macrophage</td>\n",
       "      <td>macrophage</td>\n",
       "      <td>myeloid</td>\n",
       "    </tr>\n",
       "    <tr>\n",
       "      <th>AAACCCATCGAAGGAC_TSP1_bladder_1-0</th>\n",
       "      <td>human_tsp_1</td>\n",
       "      <td>Bladder</td>\n",
       "      <td>nan</td>\n",
       "      <td>AAACCCATCGAAGGAC</td>\n",
       "      <td>TSP1_bladder_1</td>\n",
       "      <td>female</td>\n",
       "      <td>12273.0</td>\n",
       "      <td>2751</td>\n",
       "      <td>macrophage</td>\n",
       "      <td>50-59y</td>\n",
       "      <td>Human</td>\n",
       "      <td>Homo sapiens</td>\n",
       "      <td>macrophage</td>\n",
       "      <td>macrophage</td>\n",
       "      <td>myeloid</td>\n",
       "    </tr>\n",
       "    <tr>\n",
       "      <th>AAACGAAAGCTCCGAC_TSP1_bladder_1-0</th>\n",
       "      <td>human_tsp_1</td>\n",
       "      <td>Bladder</td>\n",
       "      <td>nan</td>\n",
       "      <td>AAACGAAAGCTCCGAC</td>\n",
       "      <td>TSP1_bladder_1</td>\n",
       "      <td>female</td>\n",
       "      <td>4724.0</td>\n",
       "      <td>651</td>\n",
       "      <td>plasma cell</td>\n",
       "      <td>50-59y</td>\n",
       "      <td>Human</td>\n",
       "      <td>Homo sapiens</td>\n",
       "      <td>plasma cell</td>\n",
       "      <td>plasma cell</td>\n",
       "      <td>lymphoid</td>\n",
       "    </tr>\n",
       "  </tbody>\n",
       "</table>\n",
       "</div>"
      ],
      "text/plain": [
       "                                    individual   tissue subtissue  \\\n",
       "index                                                               \n",
       "AAACCCAGTGTAGCAG_TSP1_bladder_1-0  human_tsp_1  Bladder       nan   \n",
       "AAACCCATCAAGTCTG_TSP1_bladder_1-0  human_tsp_1  Bladder       nan   \n",
       "AAACCCATCCTTCGAC_TSP1_bladder_1-0  human_tsp_1  Bladder       nan   \n",
       "AAACCCATCGAAGGAC_TSP1_bladder_1-0  human_tsp_1  Bladder       nan   \n",
       "AAACGAAAGCTCCGAC_TSP1_bladder_1-0  human_tsp_1  Bladder       nan   \n",
       "\n",
       "                                       cell_barcode         channel     sex  \\\n",
       "index                                                                         \n",
       "AAACCCAGTGTAGCAG_TSP1_bladder_1-0  AAACCCAGTGTAGCAG  TSP1_bladder_1  female   \n",
       "AAACCCATCAAGTCTG_TSP1_bladder_1-0  AAACCCATCAAGTCTG  TSP1_bladder_1  female   \n",
       "AAACCCATCCTTCGAC_TSP1_bladder_1-0  AAACCCATCCTTCGAC  TSP1_bladder_1  female   \n",
       "AAACCCATCGAAGGAC_TSP1_bladder_1-0  AAACCCATCGAAGGAC  TSP1_bladder_1  female   \n",
       "AAACGAAAGCTCCGAC_TSP1_bladder_1-0  AAACGAAAGCTCCGAC  TSP1_bladder_1  female   \n",
       "\n",
       "                                   n_counts  n_genes cell_ontology_class  \\\n",
       "index                                                                      \n",
       "AAACCCAGTGTAGCAG_TSP1_bladder_1-0    5522.0     1908          macrophage   \n",
       "AAACCCATCAAGTCTG_TSP1_bladder_1-0    3829.0     1473          macrophage   \n",
       "AAACCCATCCTTCGAC_TSP1_bladder_1-0    6434.0     2062          macrophage   \n",
       "AAACCCATCGAAGGAC_TSP1_bladder_1-0   12273.0     2751          macrophage   \n",
       "AAACGAAAGCTCCGAC_TSP1_bladder_1-0    4724.0      651         plasma cell   \n",
       "\n",
       "                                      age species species_latin narrow_group  \\\n",
       "index                                                                          \n",
       "AAACCCAGTGTAGCAG_TSP1_bladder_1-0  50-59y   Human  Homo sapiens   macrophage   \n",
       "AAACCCATCAAGTCTG_TSP1_bladder_1-0  50-59y   Human  Homo sapiens   macrophage   \n",
       "AAACCCATCCTTCGAC_TSP1_bladder_1-0  50-59y   Human  Homo sapiens   macrophage   \n",
       "AAACCCATCGAAGGAC_TSP1_bladder_1-0  50-59y   Human  Homo sapiens   macrophage   \n",
       "AAACGAAAGCTCCGAC_TSP1_bladder_1-0  50-59y   Human  Homo sapiens  plasma cell   \n",
       "\n",
       "                                   broad_group compartment_group  \n",
       "index                                                             \n",
       "AAACCCAGTGTAGCAG_TSP1_bladder_1-0   macrophage           myeloid  \n",
       "AAACCCATCAAGTCTG_TSP1_bladder_1-0   macrophage           myeloid  \n",
       "AAACCCATCCTTCGAC_TSP1_bladder_1-0   macrophage           myeloid  \n",
       "AAACCCATCGAAGGAC_TSP1_bladder_1-0   macrophage           myeloid  \n",
       "AAACGAAAGCTCCGAC_TSP1_bladder_1-0  plasma cell          lymphoid  "
      ]
     },
     "execution_count": 18,
     "metadata": {},
     "output_type": "execute_result"
    }
   ],
   "source": [
    "minimal_obs_with_groupings = minimal_obs.merge(\n",
    "    blood_muscle, how=\"left\", left_on=\"cell_ontology_class\", right_index=True\n",
    ")\n",
    "# minimal_obs_with_groupings.index = minimal_obs_with_groupings.index.astype(str)\n",
    "print(minimal_obs_with_groupings.shape)\n",
    "minimal_obs_with_groupings.head()"
   ]
  },
  {
   "cell_type": "markdown",
   "metadata": {},
   "source": [
    "## Convert bytes to strings"
   ]
  },
  {
   "cell_type": "code",
   "execution_count": 19,
   "metadata": {},
   "outputs": [
    {
     "data": {
      "text/plain": [
       "individual             category\n",
       "tissue                 category\n",
       "subtissue              category\n",
       "cell_barcode           category\n",
       "channel                category\n",
       "sex                    category\n",
       "n_counts                float64\n",
       "n_genes                   int64\n",
       "cell_ontology_class      object\n",
       "age                      object\n",
       "species                  object\n",
       "species_latin            object\n",
       "narrow_group             object\n",
       "broad_group              object\n",
       "compartment_group        object\n",
       "dtype: object"
      ]
     },
     "execution_count": 19,
     "metadata": {},
     "output_type": "execute_result"
    }
   ],
   "source": [
    "minimal_obs_with_groupings.dtypes"
   ]
  },
  {
   "cell_type": "markdown",
   "metadata": {},
   "source": [
    "# Add new metadata"
   ]
  },
  {
   "cell_type": "code",
   "execution_count": 20,
   "metadata": {},
   "outputs": [
    {
     "name": "stdout",
     "output_type": "stream",
     "text": [
      "ndnd\n"
     ]
    }
   ],
   "source": [
    "! hostname"
   ]
  },
  {
   "cell_type": "code",
   "execution_count": 21,
   "metadata": {},
   "outputs": [
    {
     "data": {
      "text/plain": [
       "Index(['contamination_prop-0', 'contamination_prop-1', 'contamination_prop-10',\n",
       "       'contamination_prop-11', 'contamination_prop-12',\n",
       "       'contamination_prop-13', 'contamination_prop-14',\n",
       "       'contamination_prop-2', 'contamination_prop-3', 'contamination_prop-4',\n",
       "       'contamination_prop-5', 'contamination_prop-6', 'contamination_prop-7',\n",
       "       'contamination_prop-8', 'contamination_prop-9', 'feature_types.0.0',\n",
       "       'feature_types.0.0.0.1', 'gene_symbol.0.0', 'gene_symbol.0.0.0.1',\n",
       "       'n_cells', 'n_cells.0', 'n_cells.0.0', 'n_cells.1.0', 'n_cells.1.0.0.1',\n",
       "       'n_cells.1.0.1', 'n_cells.1.1'],\n",
       "      dtype='object')"
      ]
     },
     "execution_count": 21,
     "metadata": {},
     "output_type": "execute_result"
    }
   ],
   "source": [
    "var_cols_to_drop = sapiens_10x_no_diaphragm_pilot2.var.columns.difference(new_var.columns)\n",
    "var_cols_to_drop"
   ]
  },
  {
   "cell_type": "code",
   "execution_count": 22,
   "metadata": {},
   "outputs": [
    {
     "data": {
      "text/html": [
       "<div>\n",
       "<style scoped>\n",
       "    .dataframe tbody tr th:only-of-type {\n",
       "        vertical-align: middle;\n",
       "    }\n",
       "\n",
       "    .dataframe tbody tr th {\n",
       "        vertical-align: top;\n",
       "    }\n",
       "\n",
       "    .dataframe thead th {\n",
       "        text-align: right;\n",
       "    }\n",
       "</style>\n",
       "<table border=\"1\" class=\"dataframe\">\n",
       "  <thead>\n",
       "    <tr style=\"text-align: right;\">\n",
       "      <th></th>\n",
       "      <th>ensembl_id</th>\n",
       "      <th>len</th>\n",
       "    </tr>\n",
       "  </thead>\n",
       "  <tbody>\n",
       "    <tr>\n",
       "      <th>DDX11L1</th>\n",
       "      <td>ENSG00000223972.5</td>\n",
       "      <td>1144.5</td>\n",
       "    </tr>\n",
       "    <tr>\n",
       "      <th>WASH7P</th>\n",
       "      <td>ENSG00000227232.5</td>\n",
       "      <td>1351.0</td>\n",
       "    </tr>\n",
       "    <tr>\n",
       "      <th>MIR6859-1</th>\n",
       "      <td>ENSG00000278267.1</td>\n",
       "      <td>68.0</td>\n",
       "    </tr>\n",
       "    <tr>\n",
       "      <th>MIR1302-2HG</th>\n",
       "      <td>ENSG00000243485.5</td>\n",
       "      <td>623.5</td>\n",
       "    </tr>\n",
       "    <tr>\n",
       "      <th>MIR1302-2</th>\n",
       "      <td>ENSG00000284332.1</td>\n",
       "      <td>138.0</td>\n",
       "    </tr>\n",
       "    <tr>\n",
       "      <th>...</th>\n",
       "      <td>...</td>\n",
       "      <td>...</td>\n",
       "    </tr>\n",
       "    <tr>\n",
       "      <th>MT-ND6</th>\n",
       "      <td>ENSG00000198695.2</td>\n",
       "      <td>525.0</td>\n",
       "    </tr>\n",
       "    <tr>\n",
       "      <th>MT-TE</th>\n",
       "      <td>ENSG00000210194.1</td>\n",
       "      <td>69.0</td>\n",
       "    </tr>\n",
       "    <tr>\n",
       "      <th>MT-CYB</th>\n",
       "      <td>ENSG00000198727.2</td>\n",
       "      <td>1141.0</td>\n",
       "    </tr>\n",
       "    <tr>\n",
       "      <th>MT-TT</th>\n",
       "      <td>ENSG00000210195.2</td>\n",
       "      <td>66.0</td>\n",
       "    </tr>\n",
       "    <tr>\n",
       "      <th>MT-TP</th>\n",
       "      <td>ENSG00000210196.2</td>\n",
       "      <td>68.0</td>\n",
       "    </tr>\n",
       "  </tbody>\n",
       "</table>\n",
       "<p>58870 rows × 2 columns</p>\n",
       "</div>"
      ],
      "text/plain": [
       "                    ensembl_id     len\n",
       "DDX11L1      ENSG00000223972.5  1144.5\n",
       "WASH7P       ENSG00000227232.5  1351.0\n",
       "MIR6859-1    ENSG00000278267.1    68.0\n",
       "MIR1302-2HG  ENSG00000243485.5   623.5\n",
       "MIR1302-2    ENSG00000284332.1   138.0\n",
       "...                        ...     ...\n",
       "MT-ND6       ENSG00000198695.2   525.0\n",
       "MT-TE        ENSG00000210194.1    69.0\n",
       "MT-CYB       ENSG00000198727.2  1141.0\n",
       "MT-TT        ENSG00000210195.2    66.0\n",
       "MT-TP        ENSG00000210196.2    68.0\n",
       "\n",
       "[58870 rows x 2 columns]"
      ]
     },
     "execution_count": 22,
     "metadata": {},
     "output_type": "execute_result"
    }
   ],
   "source": [
    "new_var"
   ]
  },
  {
   "cell_type": "code",
   "execution_count": 23,
   "metadata": {},
   "outputs": [
    {
     "data": {
      "text/html": [
       "<div>\n",
       "<style scoped>\n",
       "    .dataframe tbody tr th:only-of-type {\n",
       "        vertical-align: middle;\n",
       "    }\n",
       "\n",
       "    .dataframe tbody tr th {\n",
       "        vertical-align: top;\n",
       "    }\n",
       "\n",
       "    .dataframe thead th {\n",
       "        text-align: right;\n",
       "    }\n",
       "</style>\n",
       "<table border=\"1\" class=\"dataframe\">\n",
       "  <thead>\n",
       "    <tr style=\"text-align: right;\">\n",
       "      <th></th>\n",
       "      <th>ensembl_id</th>\n",
       "      <th>len</th>\n",
       "    </tr>\n",
       "  </thead>\n",
       "  <tbody>\n",
       "    <tr>\n",
       "      <th>DDX11L1</th>\n",
       "      <td>ENSG00000223972.5</td>\n",
       "      <td>1144.5</td>\n",
       "    </tr>\n",
       "    <tr>\n",
       "      <th>WASH7P</th>\n",
       "      <td>ENSG00000227232.5</td>\n",
       "      <td>1351.0</td>\n",
       "    </tr>\n",
       "    <tr>\n",
       "      <th>MIR6859-1</th>\n",
       "      <td>ENSG00000278267.1</td>\n",
       "      <td>68.0</td>\n",
       "    </tr>\n",
       "    <tr>\n",
       "      <th>MIR1302-2HG</th>\n",
       "      <td>ENSG00000243485.5</td>\n",
       "      <td>623.5</td>\n",
       "    </tr>\n",
       "    <tr>\n",
       "      <th>MIR1302-2</th>\n",
       "      <td>ENSG00000284332.1</td>\n",
       "      <td>138.0</td>\n",
       "    </tr>\n",
       "  </tbody>\n",
       "</table>\n",
       "</div>"
      ],
      "text/plain": [
       "                    ensembl_id     len\n",
       "DDX11L1      ENSG00000223972.5  1144.5\n",
       "WASH7P       ENSG00000227232.5  1351.0\n",
       "MIR6859-1    ENSG00000278267.1    68.0\n",
       "MIR1302-2HG  ENSG00000243485.5   623.5\n",
       "MIR1302-2    ENSG00000284332.1   138.0"
      ]
     },
     "execution_count": 23,
     "metadata": {},
     "output_type": "execute_result"
    }
   ],
   "source": [
    "# new_var.index = new_var.index.str.decode('utf-8')\n",
    "# new_var['ensembl_id'] = new_var['ensembl_id'].str.decode('utf-8')\n",
    "new_var.head()"
   ]
  },
  {
   "cell_type": "code",
   "execution_count": 24,
   "metadata": {},
   "outputs": [
    {
     "data": {
      "text/html": [
       "<div>\n",
       "<style scoped>\n",
       "    .dataframe tbody tr th:only-of-type {\n",
       "        vertical-align: middle;\n",
       "    }\n",
       "\n",
       "    .dataframe tbody tr th {\n",
       "        vertical-align: top;\n",
       "    }\n",
       "\n",
       "    .dataframe thead th {\n",
       "        text-align: right;\n",
       "    }\n",
       "</style>\n",
       "<table border=\"1\" class=\"dataframe\">\n",
       "  <thead>\n",
       "    <tr style=\"text-align: right;\">\n",
       "      <th></th>\n",
       "      <th>ensembl_id</th>\n",
       "      <th>len</th>\n",
       "    </tr>\n",
       "  </thead>\n",
       "  <tbody>\n",
       "    <tr>\n",
       "      <th>DDX11L1</th>\n",
       "      <td>ENSG00000223972.5</td>\n",
       "      <td>1144.5</td>\n",
       "    </tr>\n",
       "    <tr>\n",
       "      <th>WASH7P</th>\n",
       "      <td>ENSG00000227232.5</td>\n",
       "      <td>1351.0</td>\n",
       "    </tr>\n",
       "    <tr>\n",
       "      <th>MIR6859-1</th>\n",
       "      <td>ENSG00000278267.1</td>\n",
       "      <td>68.0</td>\n",
       "    </tr>\n",
       "    <tr>\n",
       "      <th>MIR1302-2HG</th>\n",
       "      <td>ENSG00000243485.5</td>\n",
       "      <td>623.5</td>\n",
       "    </tr>\n",
       "    <tr>\n",
       "      <th>MIR1302-2</th>\n",
       "      <td>ENSG00000284332.1</td>\n",
       "      <td>138.0</td>\n",
       "    </tr>\n",
       "  </tbody>\n",
       "</table>\n",
       "</div>"
      ],
      "text/plain": [
       "                    ensembl_id     len\n",
       "DDX11L1      ENSG00000223972.5  1144.5\n",
       "WASH7P       ENSG00000227232.5  1351.0\n",
       "MIR6859-1    ENSG00000278267.1    68.0\n",
       "MIR1302-2HG  ENSG00000243485.5   623.5\n",
       "MIR1302-2    ENSG00000284332.1   138.0"
      ]
     },
     "execution_count": 24,
     "metadata": {},
     "output_type": "execute_result"
    }
   ],
   "source": [
    "sapiens_10x_no_diaphragm_pilot2.var = new_var\n",
    "sapiens_10x_no_diaphragm_pilot2.var.head()"
   ]
  },
  {
   "cell_type": "code",
   "execution_count": 25,
   "metadata": {},
   "outputs": [
    {
     "data": {
      "text/html": [
       "<div>\n",
       "<style scoped>\n",
       "    .dataframe tbody tr th:only-of-type {\n",
       "        vertical-align: middle;\n",
       "    }\n",
       "\n",
       "    .dataframe tbody tr th {\n",
       "        vertical-align: top;\n",
       "    }\n",
       "\n",
       "    .dataframe thead th {\n",
       "        text-align: right;\n",
       "    }\n",
       "</style>\n",
       "<table border=\"1\" class=\"dataframe\">\n",
       "  <thead>\n",
       "    <tr style=\"text-align: right;\">\n",
       "      <th></th>\n",
       "      <th>ensembl_id</th>\n",
       "      <th>len</th>\n",
       "    </tr>\n",
       "  </thead>\n",
       "  <tbody>\n",
       "    <tr>\n",
       "      <th>AL136018.1</th>\n",
       "      <td>ENSG00000258657.5</td>\n",
       "      <td>562.000000</td>\n",
       "    </tr>\n",
       "    <tr>\n",
       "      <th>MRPL42P2</th>\n",
       "      <td>ENSG00000216364.1</td>\n",
       "      <td>426.000000</td>\n",
       "    </tr>\n",
       "    <tr>\n",
       "      <th>AC005515.1</th>\n",
       "      <td>ENSG00000226025.9</td>\n",
       "      <td>1580.800000</td>\n",
       "    </tr>\n",
       "    <tr>\n",
       "      <th>NEXMIF</th>\n",
       "      <td>ENSG00000050030.15</td>\n",
       "      <td>7021.500000</td>\n",
       "    </tr>\n",
       "    <tr>\n",
       "      <th>AC023158.1</th>\n",
       "      <td>ENSG00000259937.2</td>\n",
       "      <td>1025.000000</td>\n",
       "    </tr>\n",
       "    <tr>\n",
       "      <th>TNR</th>\n",
       "      <td>ENSG00000116147.17</td>\n",
       "      <td>6168.000000</td>\n",
       "    </tr>\n",
       "    <tr>\n",
       "      <th>OR6N1</th>\n",
       "      <td>ENSG00000197403.4</td>\n",
       "      <td>1309.333333</td>\n",
       "    </tr>\n",
       "    <tr>\n",
       "      <th>AL161644.1</th>\n",
       "      <td>ENSG00000225632.1</td>\n",
       "      <td>1111.000000</td>\n",
       "    </tr>\n",
       "    <tr>\n",
       "      <th>LINC01278</th>\n",
       "      <td>ENSG00000235437.7</td>\n",
       "      <td>1880.714286</td>\n",
       "    </tr>\n",
       "    <tr>\n",
       "      <th>AC023090.2</th>\n",
       "      <td>ENSG00000279077.1</td>\n",
       "      <td>2110.000000</td>\n",
       "    </tr>\n",
       "  </tbody>\n",
       "</table>\n",
       "</div>"
      ],
      "text/plain": [
       "                    ensembl_id          len\n",
       "AL136018.1   ENSG00000258657.5   562.000000\n",
       "MRPL42P2     ENSG00000216364.1   426.000000\n",
       "AC005515.1   ENSG00000226025.9  1580.800000\n",
       "NEXMIF      ENSG00000050030.15  7021.500000\n",
       "AC023158.1   ENSG00000259937.2  1025.000000\n",
       "TNR         ENSG00000116147.17  6168.000000\n",
       "OR6N1        ENSG00000197403.4  1309.333333\n",
       "AL161644.1   ENSG00000225632.1  1111.000000\n",
       "LINC01278    ENSG00000235437.7  1880.714286\n",
       "AC023090.2   ENSG00000279077.1  2110.000000"
      ]
     },
     "execution_count": 25,
     "metadata": {},
     "output_type": "execute_result"
    }
   ],
   "source": [
    "sapiens_10x_no_diaphragm_pilot2.var.sample(10)"
   ]
  },
  {
   "cell_type": "code",
   "execution_count": 26,
   "metadata": {},
   "outputs": [
    {
     "data": {
      "text/plain": [
       "AnnData object with n_obs × n_vars = 132884 × 58870\n",
       "    obs: 'individual', 'tissue', 'subtissue', 'cell_barcode', 'channel', 'sex', 'n_counts', 'n_genes', 'cell_ontology_class', 'age', 'species', 'species_latin', 'narrow_group', 'broad_group', 'compartment_group'\n",
       "    var: 'ensembl_id', 'len'\n",
       "    uns: 'Propagated.Annotationcollapsed_colors', '_scvi', 'annotation_oct2020_colors', 'cell_ontology_type_colors', 'compartment_colors', 'compartment_oct2020_colors', 'donor_colors', 'leiden', 'method_colors', 'neighbors', 'umap', 'tissue_colors'\n",
       "    obsm: 'X_scvi', 'X_scvi_decontX', 'X_scvi_raw', 'X_umap', 'X_umap_decontX', 'X_umap_raw'\n",
       "    layers: 'raw_counts'\n",
       "    obsp: 'connectivities', 'distances'"
      ]
     },
     "execution_count": 26,
     "metadata": {},
     "output_type": "execute_result"
    }
   ],
   "source": [
    "sapiens_10x_no_diaphragm_pilot2.obs = minimal_obs_with_groupings\n",
    "\n",
    "sapiens_10x_no_diaphragm_pilot2"
   ]
  },
  {
   "cell_type": "code",
   "execution_count": 27,
   "metadata": {},
   "outputs": [
    {
     "data": {
      "text/html": [
       "<div>\n",
       "<style scoped>\n",
       "    .dataframe tbody tr th:only-of-type {\n",
       "        vertical-align: middle;\n",
       "    }\n",
       "\n",
       "    .dataframe tbody tr th {\n",
       "        vertical-align: top;\n",
       "    }\n",
       "\n",
       "    .dataframe thead th {\n",
       "        text-align: right;\n",
       "    }\n",
       "</style>\n",
       "<table border=\"1\" class=\"dataframe\">\n",
       "  <thead>\n",
       "    <tr style=\"text-align: right;\">\n",
       "      <th></th>\n",
       "      <th>ensembl_id</th>\n",
       "      <th>len</th>\n",
       "    </tr>\n",
       "  </thead>\n",
       "  <tbody>\n",
       "    <tr>\n",
       "      <th>DDX11L1</th>\n",
       "      <td>ENSG00000223972.5</td>\n",
       "      <td>1144.5</td>\n",
       "    </tr>\n",
       "    <tr>\n",
       "      <th>WASH7P</th>\n",
       "      <td>ENSG00000227232.5</td>\n",
       "      <td>1351.0</td>\n",
       "    </tr>\n",
       "    <tr>\n",
       "      <th>MIR6859-1</th>\n",
       "      <td>ENSG00000278267.1</td>\n",
       "      <td>68.0</td>\n",
       "    </tr>\n",
       "    <tr>\n",
       "      <th>MIR1302-2HG</th>\n",
       "      <td>ENSG00000243485.5</td>\n",
       "      <td>623.5</td>\n",
       "    </tr>\n",
       "    <tr>\n",
       "      <th>MIR1302-2</th>\n",
       "      <td>ENSG00000284332.1</td>\n",
       "      <td>138.0</td>\n",
       "    </tr>\n",
       "  </tbody>\n",
       "</table>\n",
       "</div>"
      ],
      "text/plain": [
       "                    ensembl_id     len\n",
       "DDX11L1      ENSG00000223972.5  1144.5\n",
       "WASH7P       ENSG00000227232.5  1351.0\n",
       "MIR6859-1    ENSG00000278267.1    68.0\n",
       "MIR1302-2HG  ENSG00000243485.5   623.5\n",
       "MIR1302-2    ENSG00000284332.1   138.0"
      ]
     },
     "execution_count": 27,
     "metadata": {},
     "output_type": "execute_result"
    }
   ],
   "source": [
    "sapiens_10x_no_diaphragm_pilot2.var.head()"
   ]
  },
  {
   "cell_type": "code",
   "execution_count": 28,
   "metadata": {},
   "outputs": [
    {
     "data": {
      "text/plain": [
       "ensembl_id     object\n",
       "len           float64\n",
       "dtype: object"
      ]
     },
     "execution_count": 28,
     "metadata": {},
     "output_type": "execute_result"
    }
   ],
   "source": [
    "sapiens_10x_no_diaphragm_pilot2.var.dtypes"
   ]
  },
  {
   "cell_type": "code",
   "execution_count": 29,
   "metadata": {},
   "outputs": [
    {
     "data": {
      "text/plain": [
       "individual             category\n",
       "tissue                 category\n",
       "subtissue              category\n",
       "cell_barcode           category\n",
       "channel                category\n",
       "sex                    category\n",
       "n_counts                float64\n",
       "n_genes                   int64\n",
       "cell_ontology_class      object\n",
       "age                      object\n",
       "species                  object\n",
       "species_latin            object\n",
       "narrow_group             object\n",
       "broad_group              object\n",
       "compartment_group        object\n",
       "dtype: object"
      ]
     },
     "execution_count": 29,
     "metadata": {},
     "output_type": "execute_result"
    }
   ],
   "source": [
    "sapiens_10x_no_diaphragm_pilot2.obs.dtypes"
   ]
  },
  {
   "cell_type": "code",
   "execution_count": 30,
   "metadata": {},
   "outputs": [
    {
     "data": {
      "text/html": [
       "<div>\n",
       "<style scoped>\n",
       "    .dataframe tbody tr th:only-of-type {\n",
       "        vertical-align: middle;\n",
       "    }\n",
       "\n",
       "    .dataframe tbody tr th {\n",
       "        vertical-align: top;\n",
       "    }\n",
       "\n",
       "    .dataframe thead th {\n",
       "        text-align: right;\n",
       "    }\n",
       "</style>\n",
       "<table border=\"1\" class=\"dataframe\">\n",
       "  <thead>\n",
       "    <tr style=\"text-align: right;\">\n",
       "      <th></th>\n",
       "      <th>individual</th>\n",
       "      <th>tissue</th>\n",
       "      <th>subtissue</th>\n",
       "      <th>cell_barcode</th>\n",
       "      <th>channel</th>\n",
       "      <th>sex</th>\n",
       "      <th>n_counts</th>\n",
       "      <th>n_genes</th>\n",
       "      <th>cell_ontology_class</th>\n",
       "      <th>age</th>\n",
       "      <th>species</th>\n",
       "      <th>species_latin</th>\n",
       "      <th>narrow_group</th>\n",
       "      <th>broad_group</th>\n",
       "      <th>compartment_group</th>\n",
       "    </tr>\n",
       "    <tr>\n",
       "      <th>index</th>\n",
       "      <th></th>\n",
       "      <th></th>\n",
       "      <th></th>\n",
       "      <th></th>\n",
       "      <th></th>\n",
       "      <th></th>\n",
       "      <th></th>\n",
       "      <th></th>\n",
       "      <th></th>\n",
       "      <th></th>\n",
       "      <th></th>\n",
       "      <th></th>\n",
       "      <th></th>\n",
       "      <th></th>\n",
       "      <th></th>\n",
       "    </tr>\n",
       "  </thead>\n",
       "  <tbody>\n",
       "    <tr>\n",
       "      <th>AAACCCAGTGTAGCAG_TSP1_bladder_1-0</th>\n",
       "      <td>human_tsp_1</td>\n",
       "      <td>Bladder</td>\n",
       "      <td>nan</td>\n",
       "      <td>AAACCCAGTGTAGCAG</td>\n",
       "      <td>TSP1_bladder_1</td>\n",
       "      <td>female</td>\n",
       "      <td>5522.0</td>\n",
       "      <td>1908</td>\n",
       "      <td>macrophage</td>\n",
       "      <td>50-59y</td>\n",
       "      <td>Human</td>\n",
       "      <td>Homo sapiens</td>\n",
       "      <td>macrophage</td>\n",
       "      <td>macrophage</td>\n",
       "      <td>myeloid</td>\n",
       "    </tr>\n",
       "    <tr>\n",
       "      <th>AAACCCATCAAGTCTG_TSP1_bladder_1-0</th>\n",
       "      <td>human_tsp_1</td>\n",
       "      <td>Bladder</td>\n",
       "      <td>nan</td>\n",
       "      <td>AAACCCATCAAGTCTG</td>\n",
       "      <td>TSP1_bladder_1</td>\n",
       "      <td>female</td>\n",
       "      <td>3829.0</td>\n",
       "      <td>1473</td>\n",
       "      <td>macrophage</td>\n",
       "      <td>50-59y</td>\n",
       "      <td>Human</td>\n",
       "      <td>Homo sapiens</td>\n",
       "      <td>macrophage</td>\n",
       "      <td>macrophage</td>\n",
       "      <td>myeloid</td>\n",
       "    </tr>\n",
       "    <tr>\n",
       "      <th>AAACCCATCCTTCGAC_TSP1_bladder_1-0</th>\n",
       "      <td>human_tsp_1</td>\n",
       "      <td>Bladder</td>\n",
       "      <td>nan</td>\n",
       "      <td>AAACCCATCCTTCGAC</td>\n",
       "      <td>TSP1_bladder_1</td>\n",
       "      <td>female</td>\n",
       "      <td>6434.0</td>\n",
       "      <td>2062</td>\n",
       "      <td>macrophage</td>\n",
       "      <td>50-59y</td>\n",
       "      <td>Human</td>\n",
       "      <td>Homo sapiens</td>\n",
       "      <td>macrophage</td>\n",
       "      <td>macrophage</td>\n",
       "      <td>myeloid</td>\n",
       "    </tr>\n",
       "    <tr>\n",
       "      <th>AAACCCATCGAAGGAC_TSP1_bladder_1-0</th>\n",
       "      <td>human_tsp_1</td>\n",
       "      <td>Bladder</td>\n",
       "      <td>nan</td>\n",
       "      <td>AAACCCATCGAAGGAC</td>\n",
       "      <td>TSP1_bladder_1</td>\n",
       "      <td>female</td>\n",
       "      <td>12273.0</td>\n",
       "      <td>2751</td>\n",
       "      <td>macrophage</td>\n",
       "      <td>50-59y</td>\n",
       "      <td>Human</td>\n",
       "      <td>Homo sapiens</td>\n",
       "      <td>macrophage</td>\n",
       "      <td>macrophage</td>\n",
       "      <td>myeloid</td>\n",
       "    </tr>\n",
       "    <tr>\n",
       "      <th>AAACGAAAGCTCCGAC_TSP1_bladder_1-0</th>\n",
       "      <td>human_tsp_1</td>\n",
       "      <td>Bladder</td>\n",
       "      <td>nan</td>\n",
       "      <td>AAACGAAAGCTCCGAC</td>\n",
       "      <td>TSP1_bladder_1</td>\n",
       "      <td>female</td>\n",
       "      <td>4724.0</td>\n",
       "      <td>651</td>\n",
       "      <td>plasma cell</td>\n",
       "      <td>50-59y</td>\n",
       "      <td>Human</td>\n",
       "      <td>Homo sapiens</td>\n",
       "      <td>plasma cell</td>\n",
       "      <td>plasma cell</td>\n",
       "      <td>lymphoid</td>\n",
       "    </tr>\n",
       "  </tbody>\n",
       "</table>\n",
       "</div>"
      ],
      "text/plain": [
       "                                    individual   tissue subtissue  \\\n",
       "index                                                               \n",
       "AAACCCAGTGTAGCAG_TSP1_bladder_1-0  human_tsp_1  Bladder       nan   \n",
       "AAACCCATCAAGTCTG_TSP1_bladder_1-0  human_tsp_1  Bladder       nan   \n",
       "AAACCCATCCTTCGAC_TSP1_bladder_1-0  human_tsp_1  Bladder       nan   \n",
       "AAACCCATCGAAGGAC_TSP1_bladder_1-0  human_tsp_1  Bladder       nan   \n",
       "AAACGAAAGCTCCGAC_TSP1_bladder_1-0  human_tsp_1  Bladder       nan   \n",
       "\n",
       "                                       cell_barcode         channel     sex  \\\n",
       "index                                                                         \n",
       "AAACCCAGTGTAGCAG_TSP1_bladder_1-0  AAACCCAGTGTAGCAG  TSP1_bladder_1  female   \n",
       "AAACCCATCAAGTCTG_TSP1_bladder_1-0  AAACCCATCAAGTCTG  TSP1_bladder_1  female   \n",
       "AAACCCATCCTTCGAC_TSP1_bladder_1-0  AAACCCATCCTTCGAC  TSP1_bladder_1  female   \n",
       "AAACCCATCGAAGGAC_TSP1_bladder_1-0  AAACCCATCGAAGGAC  TSP1_bladder_1  female   \n",
       "AAACGAAAGCTCCGAC_TSP1_bladder_1-0  AAACGAAAGCTCCGAC  TSP1_bladder_1  female   \n",
       "\n",
       "                                   n_counts  n_genes cell_ontology_class  \\\n",
       "index                                                                      \n",
       "AAACCCAGTGTAGCAG_TSP1_bladder_1-0    5522.0     1908          macrophage   \n",
       "AAACCCATCAAGTCTG_TSP1_bladder_1-0    3829.0     1473          macrophage   \n",
       "AAACCCATCCTTCGAC_TSP1_bladder_1-0    6434.0     2062          macrophage   \n",
       "AAACCCATCGAAGGAC_TSP1_bladder_1-0   12273.0     2751          macrophage   \n",
       "AAACGAAAGCTCCGAC_TSP1_bladder_1-0    4724.0      651         plasma cell   \n",
       "\n",
       "                                      age species species_latin narrow_group  \\\n",
       "index                                                                          \n",
       "AAACCCAGTGTAGCAG_TSP1_bladder_1-0  50-59y   Human  Homo sapiens   macrophage   \n",
       "AAACCCATCAAGTCTG_TSP1_bladder_1-0  50-59y   Human  Homo sapiens   macrophage   \n",
       "AAACCCATCCTTCGAC_TSP1_bladder_1-0  50-59y   Human  Homo sapiens   macrophage   \n",
       "AAACCCATCGAAGGAC_TSP1_bladder_1-0  50-59y   Human  Homo sapiens   macrophage   \n",
       "AAACGAAAGCTCCGAC_TSP1_bladder_1-0  50-59y   Human  Homo sapiens  plasma cell   \n",
       "\n",
       "                                   broad_group compartment_group  \n",
       "index                                                             \n",
       "AAACCCAGTGTAGCAG_TSP1_bladder_1-0   macrophage           myeloid  \n",
       "AAACCCATCAAGTCTG_TSP1_bladder_1-0   macrophage           myeloid  \n",
       "AAACCCATCCTTCGAC_TSP1_bladder_1-0   macrophage           myeloid  \n",
       "AAACCCATCGAAGGAC_TSP1_bladder_1-0   macrophage           myeloid  \n",
       "AAACGAAAGCTCCGAC_TSP1_bladder_1-0  plasma cell          lymphoid  "
      ]
     },
     "execution_count": 30,
     "metadata": {},
     "output_type": "execute_result"
    }
   ],
   "source": [
    "sapiens_10x_no_diaphragm_pilot2.obs.head()"
   ]
  },
  {
   "cell_type": "markdown",
   "metadata": {},
   "source": [
    "## Write h5ad with new metadata to file"
   ]
  },
  {
   "cell_type": "code",
   "execution_count": 36,
   "metadata": {},
   "outputs": [],
   "source": [
    "sapiens_10x_no_diaphragm_pilot2.write(\n",
    "    '/home/olga/data_lg/data_sm_copy/tabula-sapiens/data-objects/Pilot1_Pilot2_decontX_Oct2020__minimal_no_pilot2_diaphragm__muscle_update_june2021.h5ad'\n",
    ")"
   ]
  },
  {
   "cell_type": "code",
   "execution_count": 32,
   "metadata": {},
   "outputs": [
    {
     "data": {
      "text/plain": [
       "human_tsp_2    100995\n",
       "human_tsp_1     31889\n",
       "Name: individual, dtype: int64"
      ]
     },
     "execution_count": 32,
     "metadata": {},
     "output_type": "execute_result"
    }
   ],
   "source": [
    "sapiens_10x_no_diaphragm_pilot2.obs.individual.value_counts()"
   ]
  },
  {
   "cell_type": "markdown",
   "metadata": {},
   "source": [
    "## Check cell type presence"
   ]
  },
  {
   "cell_type": "code",
   "execution_count": 33,
   "metadata": {},
   "outputs": [],
   "source": [
    "def check_celltype_presence(adata, celltypes=('fast muscle cell',), celltype_col='narrow_group'):\n",
    "    for celltype in celltypes:\n",
    "        try:\n",
    "            assert celltype in set(adata.obs[celltype_col])\n",
    "        except:\n",
    "            raise AssertionError(f\"Celltype '{celltype}' not found in column '{celltype_col}'\")\n",
    "\n",
    "check_celltype_presence(sapiens_10x_no_diaphragm_pilot2)"
   ]
  },
  {
   "cell_type": "code",
   "execution_count": 34,
   "metadata": {},
   "outputs": [
    {
     "data": {
      "text/plain": [
       "['Bladder',\n",
       " 'Blood',\n",
       " 'Bone_Marrow',\n",
       " 'Kidney',\n",
       " 'Large_Intestine',\n",
       " 'Lung',\n",
       " 'Lymph_Node',\n",
       " 'Muscle',\n",
       " 'Pancreas',\n",
       " 'Small_Intestine',\n",
       " 'Spleen',\n",
       " 'Thymus',\n",
       " 'Trachea',\n",
       " 'Vasculature']"
      ]
     },
     "execution_count": 34,
     "metadata": {},
     "output_type": "execute_result"
    }
   ],
   "source": [
    "sorted(sapiens_10x_no_diaphragm_pilot2.obs.tissue.unique())"
   ]
  },
  {
   "cell_type": "code",
   "execution_count": 35,
   "metadata": {},
   "outputs": [
    {
     "data": {
      "text/plain": [
       "B cell                                       5\n",
       "T cell                                     169\n",
       "basophil                                     0\n",
       "conventional dendritic cell                  0\n",
       "erythroid lineage cell                      11\n",
       "fast muscle cell                           229\n",
       "helped T cell                                0\n",
       "innate lymphoid cell                         0\n",
       "macrophage                                 740\n",
       "memory T cell                                0\n",
       "monocyte                                     0\n",
       "nan                                       9585\n",
       "natural killer T cell                        0\n",
       "natural killer cell                          0\n",
       "neutrophil                                   0\n",
       "plasma cell                                  0\n",
       "plasmacytoid dendritic cell                  0\n",
       "platelet                                     0\n",
       "skeletal muscle satellite stem cell       2121\n",
       "slow muscle cell                            38\n",
       "tendon cell                                 76\n",
       "vascular associated smooth muscle cell       0\n",
       "Name: narrow_group, dtype: int64"
      ]
     },
     "execution_count": 35,
     "metadata": {},
     "output_type": "execute_result"
    }
   ],
   "source": [
    "sapiens_10x_no_diaphragm_pilot2.obs.query(\"tissue == 'Muscle'\").narrow_group.value_counts().sort_index()"
   ]
  },
  {
   "cell_type": "code",
   "execution_count": null,
   "metadata": {},
   "outputs": [],
   "source": []
  }
 ],
 "metadata": {
  "kernelspec": {
   "display_name": "Python [conda env:tabula-microcebus-jan2021]",
   "language": "python",
   "name": "conda-env-tabula-microcebus-jan2021-py"
  },
  "language_info": {
   "codemirror_mode": {
    "name": "ipython",
    "version": 3
   },
   "file_extension": ".py",
   "mimetype": "text/x-python",
   "name": "python",
   "nbconvert_exporter": "python",
   "pygments_lexer": "ipython3",
   "version": "3.7.3"
  }
 },
 "nbformat": 4,
 "nbformat_minor": 4
}
