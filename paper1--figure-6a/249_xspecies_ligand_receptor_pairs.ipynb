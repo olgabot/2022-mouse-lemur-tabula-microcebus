{
 "cells": [
  {
   "cell_type": "code",
   "execution_count": 1,
   "metadata": {},
   "outputs": [
    {
     "name": "stdout",
     "output_type": "stream",
     "text": [
      "scanpy==1.4.6.dev9+ge632939 anndata==0.6.22.post1 umap==0.3.10 numpy==1.17.3 scipy==1.3.2 pandas==0.25.3 scikit-learn==0.22 statsmodels==0.10.2 python-igraph==0.7.1 louvain==0.6.1\n"
     ]
    },
    {
     "data": {
      "image/png": "[encoded data removed]",
      "text/plain": [
       "<Figure size 240x80 with 1 Axes>"
      ]
     },
     "metadata": {
      "image/png": {
       "height": 100,
       "width": 207
      },
      "needs_background": "light"
     },
     "output_type": "display_data"
    },
    {
     "data": {
      "image/png": "[encoded data removed]",
      "text/plain": [
       "<Figure size 400x80 with 1 Axes>"
      ]
     },
     "metadata": {
      "image/png": {
       "height": 100,
       "width": 340
      },
      "needs_background": "light"
     },
     "output_type": "display_data"
    }
   ],
   "source": [
    "%load_ext autoreload\n",
    "%autoreload 2\n",
    "\n",
    "import itertools\n",
    "\n",
    "# Third-party modules\n",
    "from joblib import Parallel, delayed\n",
    "import numpy as np\n",
    "import pandas as pd\n",
    "import scanpy\n",
    "import seaborn as sns\n",
    "import matplotlib_venn\n",
    "from tqdm import tqdm\n",
    "\n",
    "\n",
    "\n",
    "\n",
    "# Olga's modules\n",
    "import binarized\n",
    "import enrich\n",
    "import xspecies\n",
    "\n",
    "outdir_gdrive = '/home/olga/googledrive/TabulaMicrocebus/data/cross-species'\n",
    "outdir_local = '/home/olga/data_lg/data_sm_copy/tabula-microcebus/data-objects/cross-species'\n",
    "outdirs = outdir_local, outdir_gdrive\n",
    "# !ls -lha $outdir_local"
   ]
  },
  {
   "cell_type": "code",
   "execution_count": 2,
   "metadata": {},
   "outputs": [
    {
     "data": {
      "text/plain": [
       "2"
      ]
     },
     "execution_count": 2,
     "metadata": {},
     "output_type": "execute_result"
    }
   ],
   "source": [
    "1+1"
   ]
  },
  {
   "cell_type": "markdown",
   "metadata": {},
   "source": [
    "# Load data"
   ]
  },
  {
   "cell_type": "code",
   "execution_count": 3,
   "metadata": {
    "execution_event_id": "3ebd04aa-557b-4922-8f48-f2847d29cfcf",
    "last_executed_text": "%%time\nh5ad = f'{folder}/lung__10x__concatenated__human_lemur_mouse__one2one_orthologs.h5ad'\nadata = scanpy.read_h5ad(h5ad)\nadata",
    "persistent_id": "3bb6904f-4a89-4a07-af16-4240afe3c682"
   },
   "outputs": [
    {
     "name": "stdout",
     "output_type": "stream",
     "text": [
      "-rw-rw-r-- 1 olga czb 731M May 18 21:46 /home/olga/data_lg/data_sm_copy/tabula-microcebus/data-objects/cross-species/concatenated__human-lung--lemur-lung--mouse-lung__10x__one2one_orthologs__unified_compartments__bbknn.h5ad\n",
      "CPU times: user 530 ms, sys: 680 ms, total: 1.21 s\n",
      "Wall time: 6.89 s\n"
     ]
    },
    {
     "data": {
      "text/plain": [
       "AnnData object with n_obs × n_vars = 52815 × 11761 \n",
       "    obs: 'age', 'batch', 'cell', 'cell_barcode', 'cell_ontology_class', 'cell_ontology_id', 'channel', 'channel_no_10x', 'channel_tissue', 'compartment', 'compartment_id', 'free_annotation', 'individual', 'location', 'magnetic.selection', 'method', 'mouse.id', 'nGene', 'nUMI', 'n_barcodes', 'n_counts', 'n_genes', 'orig.ident', 'original_channel', 'patient', 'percent.ribo', 'possibly_contaminated_barcode', 'preparation.site', 'region', 'sample', 'sequencing_run', 'sex', 'species', 'species_batch', 'species_latin', 'subtissue', 'tissue', 'tissue_free_annotation', 'compartment_updated_from_human', 'compartment_updated_from_human__with_species', 'compartment_updated_from_lemur', 'compartment_updated_from_lemur__with_species', 'narrow_group', 'broad_group', 'compartment_group', 'log_counts', 'sqrt_counts'\n",
       "    var: 'mouse_lemur__gene_name', 'mouse_lemur_to_human__homology_type', 'human_to_mouse__homology_type', 'mouse__gene_name', 'gene_ids-lemur', 'n_cells-mouse', 'n_cells', 'highly_variable', 'means', 'dispersions', 'dispersions_norm'\n",
       "    uns: 'age_colors', 'broad_group_colors', 'cell_ontology_class_colors', 'compartment_colors', 'compartment_group_colors', 'compartment_updated_from_human_colors', 'compartment_updated_from_lemur_colors', 'individual_colors', 'narrow_group_colors', 'neighbors', 'pca', 'species_batch_colors', 'species_colors', 'umap'\n",
       "    obsm: 'X_pca', 'X_umap'\n",
       "    varm: 'PCs'"
      ]
     },
     "execution_count": 3,
     "metadata": {},
     "output_type": "execute_result"
    }
   ],
   "source": [
    "%%time\n",
    "h5ad = f'{outdir_local}/concatenated__human-lung--lemur-lung--mouse-lung__10x__one2one_orthologs__unified_compartments__bbknn.h5ad'\n",
    "!ls -lha $h5ad\n",
    "adata = scanpy.read_h5ad(h5ad)\n",
    "adata"
   ]
  },
  {
   "cell_type": "code",
   "execution_count": 4,
   "metadata": {},
   "outputs": [
    {
     "data": {
      "text/plain": [
       "compartment_group        species    \n",
       "endothelial              Human           4196\n",
       "                         Mouse           2072\n",
       "                         Mouse lemur      937\n",
       "epithelial               Human           6982\n",
       "                         Mouse            162\n",
       "                         Mouse lemur     2138\n",
       "hematopoietic            Mouse lemur       46\n",
       "lymphoid                 Human            804\n",
       "                         Mouse           1298\n",
       "                         Mouse lemur      901\n",
       "megakaryocyte-erythroid  Human              9\n",
       "myeloid                  Human          15013\n",
       "                         Mouse           5893\n",
       "                         Mouse lemur     7366\n",
       "nan                      Mouse lemur      886\n",
       "neural                   Human             10\n",
       "                         Mouse              4\n",
       "stromal                  Human           1866\n",
       "                         Mouse           1774\n",
       "                         Mouse lemur      458\n",
       "dtype: int64"
      ]
     },
     "execution_count": 4,
     "metadata": {},
     "output_type": "execute_result"
    }
   ],
   "source": [
    "adata.obs.groupby(['compartment_group', 'species']).size()"
   ]
  },
  {
   "cell_type": "markdown",
   "metadata": {},
   "source": [
    "## Add compartment_narrow"
   ]
  },
  {
   "cell_type": "code",
   "execution_count": 5,
   "metadata": {},
   "outputs": [
    {
     "data": {
      "text/plain": [
       "myeloid: Macrophage                       18720\n",
       "myeloid: Monocyte                          5892\n",
       "epithelial: Alveolar Epithelial Type 2     4266\n",
       "endothelial: Capillary                     2130\n",
       "stromal: Alveolar Fibroblast               1713\n",
       "                                          ...  \n",
       "lymphoid: Innate Lymphoid                     9\n",
       "stromal: Undistinguished Stromal              8\n",
       "stromal: CTGF+ Fibroblast                     7\n",
       "epithelial: Tuft                              5\n",
       "endothelial: CX3CL1+ Capillary                4\n",
       "Name: compartment_narrow, Length: 64, dtype: int64"
      ]
     },
     "execution_count": 5,
     "metadata": {},
     "output_type": "execute_result"
    }
   ],
   "source": [
    "adata.obs['compartment_narrow'] = adata.obs['compartment_group'].astype(str) + ': ' + adata.obs['narrow_group'].astype(str)\n",
    "adata.obs['compartment_narrow_species'] = adata.obs['compartment_narrow'].astype(str) + ' (' + adata.obs['species_batch'].astype(str) + ')'\n",
    "adata.obs['compartment_narrow'].value_counts()"
   ]
  },
  {
   "cell_type": "code",
   "execution_count": 6,
   "metadata": {},
   "outputs": [
    {
     "data": {
      "text/plain": [
       "[Human, Mouse lemur, Mouse]\n",
       "Categories (3, object): [Human, Mouse lemur, Mouse]"
      ]
     },
     "execution_count": 6,
     "metadata": {},
     "output_type": "execute_result"
    }
   ],
   "source": [
    "adata.obs.species.unique()"
   ]
  },
  {
   "cell_type": "code",
   "execution_count": 7,
   "metadata": {},
   "outputs": [
    {
     "data": {
      "text/plain": [
       "[human, lemur, mouse]\n",
       "Categories (3, object): [human, lemur, mouse]"
      ]
     },
     "execution_count": 7,
     "metadata": {},
     "output_type": "execute_result"
    }
   ],
   "source": [
    "adata.obs.species_batch.unique()"
   ]
  },
  {
   "cell_type": "markdown",
   "metadata": {},
   "source": [
    "# Within-narrow group, run stability analyses"
   ]
  },
  {
   "cell_type": "markdown",
   "metadata": {},
   "source": [
    "## Filter for minimum number of cells per cell type"
   ]
  },
  {
   "cell_type": "code",
   "execution_count": 8,
   "metadata": {},
   "outputs": [],
   "source": [
    "groupby = 'compartment_narrow'\n",
    "species = 'species_batch'\n",
    "\n",
    "min_cells = 20\n",
    "n_species = 3\n",
    "df = adata.obs.groupby([groupby, species]).filter(lambda x: len(x) >= min_cells)\n",
    "df = df.groupby(groupby)[species].filter(lambda x: x.nunique() == n_species)\n",
    "print(df.shape)\n",
    "df.head()\n",
    "\n",
    "adata_min_cells = adata[df.index]\n",
    "adata_min_cells"
   ]
  },
  {
   "cell_type": "code",
   "execution_count": 12,
   "metadata": {},
   "outputs": [
    {
     "name": "stdout",
     "output_type": "stream",
     "text": [
      "scanpy==1.4.6.dev9+ge632939 anndata==0.6.22.post1 umap==0.3.10 numpy==1.17.3 scipy==1.3.2 pandas==0.25.3 scikit-learn==0.22 statsmodels==0.10.2 python-igraph==0.7.1 louvain==0.6.1\n",
      "compartment_narrow                      species    \n",
      "endothelial: Capillary                  Mouse           1244\n",
      "                                        Mouse lemur       44\n",
      "                                        Human            842\n",
      "endothelial: Capillary Aerocyte         Mouse            476\n",
      "                                        Mouse lemur      111\n",
      "                                        Human           1047\n",
      "endothelial: Lymphatic                  Mouse             32\n",
      "                                        Mouse lemur       68\n",
      "                                        Human            286\n",
      "epithelial: Alveolar Epithelial Type 2  Mouse            107\n",
      "                                        Mouse lemur      732\n",
      "                                        Human           3427\n",
      "lymphoid: CD4+ T                        Mouse             75\n",
      "                                        Mouse lemur       37\n",
      "                                        Human            332\n",
      "lymphoid: Natural Killer                Mouse            271\n",
      "                                        Mouse lemur      383\n",
      "                                        Human            116\n",
      "lymphoid: Plasma                        Mouse             42\n",
      "                                        Mouse lemur       83\n",
      "                                        Human            124\n",
      "lymphoid: Proliferating NK/T            Mouse            111\n",
      "                                        Mouse lemur      318\n",
      "                                        Human             83\n",
      "myeloid: Macrophage                     Mouse            920\n",
      "                                        Mouse lemur     5079\n",
      "                                        Human          12721\n",
      "myeloid: Monocyte                       Mouse           4003\n",
      "                                        Mouse lemur     1027\n",
      "                                        Human            862\n",
      "myeloid: Myeloid Dendritic              Mouse            227\n",
      "                                        Mouse lemur      117\n",
      "                                        Human            306\n",
      "myeloid: Proliferating Macrophage       Mouse             94\n",
      "                                        Mouse lemur      448\n",
      "                                        Human            207\n",
      "stromal: Adventitial Fibroblast         Mouse            434\n",
      "                                        Mouse lemur      160\n",
      "                                        Human            344\n",
      "stromal: Alveolar Fibroblast            Mouse           1182\n",
      "                                        Mouse lemur      216\n",
      "                                        Human            315\n",
      "dtype: int64\n",
      "\n",
      "------- group: Mouse -------\n",
      "number of cells: 9218\n",
      "\n",
      "------- group: Mouse lemur -------\n",
      "number of cells: 8823\n",
      "\n",
      "------- group: Human -------\n",
      "number of cells: 21012\n"
     ]
    },
    {
     "data": {
      "image/png": "[encoded data removed]",
      "text/plain": [
       "<Figure size 240x80 with 1 Axes>"
      ]
     },
     "metadata": {
      "image/png": {
       "height": 100,
       "width": 207
      },
      "needs_background": "light"
     },
     "output_type": "display_data"
    },
    {
     "data": {
      "image/png": "[encoded data removed]",
      "text/plain": [
       "<Figure size 400x80 with 1 Axes>"
      ]
     },
     "metadata": {
      "image/png": {
       "height": 100,
       "width": 340
      },
      "needs_background": "light"
     },
     "output_type": "display_data"
    }
   ],
   "source": [
    "cross_species = xspecies.CrossSpeciesComparison(adata_min_cells, groupby)\n",
    "cross_species._make_species_adatas(do_pca_umap=False)"
   ]
  },
  {
   "cell_type": "code",
   "execution_count": 14,
   "metadata": {},
   "outputs": [],
   "source": [
    "# %%time\n",
    "\n",
    "# stability_min_cells = binarized.BinarizedStabilityAnalyses(adata_min_cells, groupby, species, debug=True)\n",
    "# stability_min_cells.do_stability_analysis(thresholds=np.arange(0, 0.55, step=0.05))\n",
    "\n",
    "\n",
    "# 'HHIP' in stability_min_cells.stable_gene_names"
   ]
  },
  {
   "cell_type": "markdown",
   "metadata": {},
   "source": [
    "# Get ligand-receptor pairs"
   ]
  },
  {
   "cell_type": "code",
   "execution_count": 15,
   "metadata": {},
   "outputs": [],
   "source": [
    "receptor_ligand_pairs = pd.read_csv('https://raw.githubusercontent.com/krasnowlab/HLCA/master/Analysis/dbs/PairsLigRec.txt', \n",
    "                                    sep='\\t', index_col=0)\n",
    "print(receptor_ligand_pairs.shape)\n",
    "receptor_ligand_pairs.head() \n",
    "\n",
    "## Filter by ligands and receptors actually present in the data\n",
    "\n",
    "ligand_col = 'Ligand.ApprovedSymbol'\n",
    "receptor_col = 'Receptor.ApprovedSymbol'\n",
    "\n",
    "ligand_present = receptor_ligand_pairs[ligand_col].isin(adata.var.index)\n",
    "receptor_present = receptor_ligand_pairs[receptor_col].isin(adata.var.index)\n",
    "\n",
    "receptor_ligand_pairs_present = receptor_ligand_pairs.loc[ligand_present & receptor_present]\n",
    "print(receptor_ligand_pairs_present.shape)\n",
    "receptor_ligand_pairs_present.head()"
   ]
  },
  {
   "cell_type": "markdown",
   "metadata": {},
   "source": [
    "## Ligand-centric analyes"
   ]
  },
  {
   "cell_type": "code",
   "execution_count": 17,
   "metadata": {},
   "outputs": [],
   "source": [
    "cross_species.species_to_color_map = xspecies.SPECIES_TO_COLOR_MAP\n",
    "\n",
    "\n",
    "for name, df in receptor_ligand_pairs_present.groupby(ligand_col):\n",
    "    print(f'--- {name} ---')\n",
    "    gene_subset = sorted(df[receptor_col].tolist())\n",
    "    print(f'number of overlapping genes: {len(gene_subset)}')\n",
    "    if not gene_subset:\n",
    "        continue\n",
    "    gene_subset = [name] + gene_subset\n",
    "    \n",
    "    save_dir = f'{outdir_gdrive}/ligand-receptor/ligand-centric/{name}/'\n",
    "    ! mkdir -p $save_dir\n",
    "    scanpy.settings.figdir = save_dir\n",
    "    \n",
    "    cross_species.dotplot_multispecies(gene_subset, save_prefix=name)"
   ]
  },
  {
   "cell_type": "markdown",
   "metadata": {},
   "source": [
    "## Receptor-centric analyses"
   ]
  },
  {
   "cell_type": "code",
   "execution_count": 20,
   "metadata": {},
   "outputs": [
    {
     "name": "stdout",
     "output_type": "stream",
     "text": [
      "--- ABCA1 ---\n",
      "number of overlapping genes: 5\n"
     ]
    },
    {
     "ename": "NameError",
     "evalue": "name 'save_prefix' is not defined",
     "output_type": "error",
     "traceback": [
      "\u001b[0;31m---------------------------------------------------------------------------\u001b[0m",
      "\u001b[0;31mNameError\u001b[0m                                 Traceback (most recent call last)",
      "\u001b[0;32m<ipython-input-20-925da916440c>\u001b[0m in \u001b[0;36m<module>\u001b[0;34m\u001b[0m\n\u001b[1;32m     11\u001b[0m     \u001b[0mscanpy\u001b[0m\u001b[0;34m.\u001b[0m\u001b[0msettings\u001b[0m\u001b[0;34m.\u001b[0m\u001b[0mfigdir\u001b[0m \u001b[0;34m=\u001b[0m \u001b[0msave_dir\u001b[0m\u001b[0;34m\u001b[0m\u001b[0;34m\u001b[0m\u001b[0m\n\u001b[1;32m     12\u001b[0m \u001b[0;34m\u001b[0m\u001b[0m\n\u001b[0;32m---> 13\u001b[0;31m     \u001b[0mcross_species\u001b[0m\u001b[0;34m.\u001b[0m\u001b[0mdotplot_multispecies\u001b[0m\u001b[0;34m(\u001b[0m\u001b[0mgene_subset\u001b[0m\u001b[0;34m,\u001b[0m \u001b[0msave_prefix\u001b[0m\u001b[0;34m=\u001b[0m\u001b[0msave_prefix\u001b[0m\u001b[0;34m)\u001b[0m\u001b[0;34m\u001b[0m\u001b[0;34m\u001b[0m\u001b[0m\n\u001b[0m",
      "\u001b[0;31mNameError\u001b[0m: name 'save_prefix' is not defined"
     ]
    }
   ],
   "source": [
    "\n",
    "for name, df in receptor_ligand_pairs_present.groupby(receptor_col):\n",
    "    print(f'--- {name} ---')\n",
    "    gene_subset = sorted(df[ligand_col].tolist())\n",
    "    print(f'number of overlapping genes: {len(gene_subset)}')\n",
    "    if not gene_subset:\n",
    "        continue\n",
    "    gene_subset =  gene_subset + [name]\n",
    "    \n",
    "    save_dir = f'{outdir_gdrive}/ligand-receptor/receptor-centric/{name}/'\n",
    "    ! mkdir -p $save_dir\n",
    "    scanpy.settings.figdir = save_dir\n",
    "    \n",
    "    cross_species.dotplot_multispecies(gene_subset, save_prefix=save_prefix)"
   ]
  },
  {
   "cell_type": "code",
   "execution_count": null,
   "metadata": {},
   "outputs": [],
   "source": []
  }
 ],
 "metadata": {
  "kernelspec": {
   "display_name": "Python [conda env:tabula-microcebus-v2]",
   "language": "python",
   "name": "conda-env-tabula-microcebus-v2-py"
  },
  "language_info": {
   "codemirror_mode": {
    "name": "ipython",
    "version": 3
   },
   "file_extension": ".py",
   "mimetype": "text/x-python",
   "name": "python",
   "nbconvert_exporter": "python",
   "pygments_lexer": "ipython3",
   "version": "3.7.3"
  }
 },
 "nbformat": 4,
 "nbformat_minor": 4
}
