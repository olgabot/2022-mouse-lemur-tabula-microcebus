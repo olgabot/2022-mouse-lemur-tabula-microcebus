{
 "cells": [
  {
   "cell_type": "code",
   "execution_count": 3,
   "metadata": {},
   "outputs": [
    {
     "name": "stdout",
     "output_type": "stream",
     "text": [
      "lrrr\n"
     ]
    }
   ],
   "source": [
    "! hostname"
   ]
  },
  {
   "cell_type": "code",
   "execution_count": 4,
   "metadata": {},
   "outputs": [],
   "source": [
    "import pyham"
   ]
  },
  {
   "cell_type": "code",
   "execution_count": 5,
   "metadata": {
    "execution_event_id": "0d2c1dc5-e7d3-464d-8104-ddcc4f6ddece",
    "last_executed_text": "import numpy as np\nimport scanpy \nimport scanpy as sc\nimport pandas as pd\nimport matplotlib.pyplot as plt\nimport seaborn as sns\n\nimport anndata\n\nanndata.__version__",
    "persistent_id": "41bc541a-d63a-496d-b0de-8a9c963901c7"
   },
   "outputs": [
    {
     "name": "stdout",
     "output_type": "stream",
     "text": [
      "scanpy==1.4.6.dev9+ge632939 anndata==0.7rc1 umap==0.3.10 numpy==1.17.3 scipy==1.3.2 pandas==0.25.3 scikit-learn==0.22 statsmodels==0.10.2 python-igraph==0.7.1 louvain==0.6.1\n"
     ]
    }
   ],
   "source": [
    "import numpy as np\n",
    "import scanpy \n",
    "import scanpy as sc\n",
    "import pandas as pd\n",
    "import matplotlib.pyplot as plt\n",
    "import seaborn as sns\n",
    "\n",
    "import anndata\n",
    "\n",
    "anndata.__version__\n",
    "\n",
    "scanpy.settings.verbosity = 3\n",
    "#sc.set_figure_params(dpi=200, dpi_save=300)\n",
    "scanpy.logging.print_versions()"
   ]
  },
  {
   "cell_type": "code",
   "execution_count": 6,
   "metadata": {
    "execution_event_id": "93ebc38f-56da-40f9-9ed9-3b05f5c1a67b",
    "last_executed_text": "folder = '/home/olga/googledrive/TabulaMicrocebus/data/cross-species'\n! ls -lha $folder",
    "persistent_id": "d203d419-2684-4d07-8fbf-f8e772940ef1"
   },
   "outputs": [
    {
     "name": "stdout",
     "output_type": "stream",
     "text": [
      "total 21G\n",
      "drwxr-xr-x 1 olga czb  4.0K Feb 13 11:27 .\n",
      "drwxr-xr-x 1 olga czb  4.0K Dec  2 21:43 ..\n",
      "-rw-r--r-- 1 olga czb  2.1G Feb 13 11:27 alltissues__10x__lemur__one2one_orthologs.h5ad\n",
      "-rw-r--r-- 1 olga czb  2.6G Feb 13 11:27 alltissues__10x__mouse__one2one_orthologs.h5ad\n",
      "-rw-r--r-- 1 olga czb  5.2G Feb 13 11:27 concatenated__human-lung--lemur-alltissues--mouse-alltissues__10x__one2one_orthologs.h5ad\n",
      "-rw-r--r-- 1 olga czb  514M Feb 13 11:27 concatenated__human-lung--lemur-lung--mouse-lung__10x__one2one_orthologs.h5ad\n",
      "-rw-r--r-- 1 olga czb  1.1G Feb 13 11:27 lung__10x__concatenated__human_lemur_mouse__one2one_orthologs.h5ad\n",
      "-rw-r--r-- 1 olga czb 1012M Feb 14 16:10 lung__10x__concatenated__human_lemur_mouse__one2one_orthologs__preprocessed__bbknn.h5ad\n",
      "-rw-r--r-- 1 olga czb  573K Feb 20 06:25 lung__10x__concatenated__human_lemur_mouse__one2one_orthologs__preprocessed__correlation_across_shared_ontologies.parquet\n",
      "drwxr-xr-x 1 olga czb  4.0K Feb 13 11:27 lung__10x__human__one2one_orthologs__csvs\n",
      "-rw-r--r-- 1 olga czb  3.2G Feb 13 11:27 lung__10x__human__one2one_orthologs.h5ad\n",
      "drwxr-xr-x 1 olga czb  4.0K Feb 13 11:27 lung__10x__lemur__one2one_orthologs__csvs\n",
      "-rw-r--r-- 1 olga czb  1.3G Feb 13 11:27 lung__10x__lemur__one2one_orthologs.h5ad\n",
      "drwxr-xr-x 1 olga czb  4.0K Feb 13 11:27 lung__10x__mouse__one2one_orthologs__csvs\n",
      "-rw-r--r-- 1 olga czb  208M Feb 13 11:27 lung__10x__mouse__one2one_orthologs.h5ad\n",
      "-rw-r--r-- 1 olga czb  1.9G Feb 13 11:27 oma-hogs_copy.orthoXML\n",
      "-rw-r--r-- 1 olga czb  1.9G Feb 13 11:27 oma-hogs.orthoXML\n",
      "-rw-r--r-- 1 olga czb  166M Feb 13 11:27 oma-hogs.orthoXML.gz\n"
     ]
    }
   ],
   "source": [
    "folder = '/home/olga/googledrive/TabulaMicrocebus/data/cross-species'\n",
    "! ls -lha $folder"
   ]
  },
  {
   "cell_type": "code",
   "execution_count": 47,
   "metadata": {},
   "outputs": [
    {
     "ename": "ErrorMessage",
     "evalue": "<Error: 500 Internal Server Error>\n    message: \"<h1>Server Error (500)</h1>\"",
     "output_type": "error",
     "traceback": [
      "\u001b[0;31m---------------------------------------------------------------------------\u001b[0m",
      "\u001b[0;31mErrorMessage\u001b[0m                              Traceback (most recent call last)",
      "\u001b[0;32m<ipython-input-47-4efb3f365b77>\u001b[0m in \u001b[0;36m<module>\u001b[0;34m\u001b[0m\n\u001b[1;32m      1\u001b[0m \u001b[0mmy_gene_query\u001b[0m \u001b[0;34m=\u001b[0m \u001b[0;34m'P53_RAT'\u001b[0m\u001b[0;34m\u001b[0m\u001b[0;34m\u001b[0m\u001b[0m\n\u001b[0;32m----> 2\u001b[0;31m \u001b[0mpyham_analysis\u001b[0m \u001b[0;34m=\u001b[0m \u001b[0mpyham\u001b[0m\u001b[0;34m.\u001b[0m\u001b[0mHam\u001b[0m\u001b[0;34m(\u001b[0m\u001b[0mquery_database\u001b[0m\u001b[0;34m=\u001b[0m\u001b[0mmy_gene_query\u001b[0m\u001b[0;34m,\u001b[0m \u001b[0muse_data_from\u001b[0m\u001b[0;34m=\u001b[0m\u001b[0;34m'oma'\u001b[0m\u001b[0;34m)\u001b[0m\u001b[0;34m\u001b[0m\u001b[0;34m\u001b[0m\u001b[0m\n\u001b[0m",
      "\u001b[0;32m~/miniconda3/envs/tabula-microcebus-v2/lib/python3.7/site-packages/pyham/ham.py\u001b[0m in \u001b[0;36m__init__\u001b[0;34m(self, tree_file, hog_file, type_hog_file, filter_object, use_internal_name, orthoXML_as_string, tree_format, phyloxml_internal_name_tag, phyloxml_leaf_name_tag, use_data_from, query_database)\u001b[0m\n\u001b[1;32m    184\u001b[0m                 }\n\u001b[1;32m    185\u001b[0m \u001b[0;34m\u001b[0m\u001b[0m\n\u001b[0;32m--> 186\u001b[0;31m                 \u001b[0mopen_tax\u001b[0m \u001b[0;34m=\u001b[0m \u001b[0mclient\u001b[0m\u001b[0;34m.\u001b[0m\u001b[0maction\u001b[0m\u001b[0;34m(\u001b[0m\u001b[0mschema\u001b[0m\u001b[0;34m,\u001b[0m \u001b[0maction_phy\u001b[0m\u001b[0;34m,\u001b[0m \u001b[0mparams\u001b[0m\u001b[0;34m=\u001b[0m\u001b[0mparams_phy\u001b[0m\u001b[0;34m)\u001b[0m\u001b[0;34m\u001b[0m\u001b[0;34m\u001b[0m\u001b[0m\n\u001b[0m\u001b[1;32m    187\u001b[0m \u001b[0;34m\u001b[0m\u001b[0m\n\u001b[1;32m    188\u001b[0m                 \u001b[0mself\u001b[0m\u001b[0;34m.\u001b[0m\u001b[0mtree_file\u001b[0m \u001b[0;34m=\u001b[0m \u001b[0;34m'taxonomy_from_oma_open_at_{}.phyloxml'\u001b[0m\u001b[0;34m.\u001b[0m\u001b[0mformat\u001b[0m\u001b[0;34m(\u001b[0m\u001b[0mtop_level\u001b[0m\u001b[0;34m)\u001b[0m\u001b[0;34m\u001b[0m\u001b[0;34m\u001b[0m\u001b[0m\n",
      "\u001b[0;32m~/miniconda3/envs/tabula-microcebus-v2/lib/python3.7/site-packages/coreapi/client.py\u001b[0m in \u001b[0;36maction\u001b[0;34m(self, document, keys, params, validate, overrides, action, encoding, transform)\u001b[0m\n\u001b[1;32m    176\u001b[0m         \u001b[0;31m# Perform the action, and return a new document.\u001b[0m\u001b[0;34m\u001b[0m\u001b[0;34m\u001b[0m\u001b[0;34m\u001b[0m\u001b[0m\n\u001b[1;32m    177\u001b[0m         \u001b[0mtransport\u001b[0m \u001b[0;34m=\u001b[0m \u001b[0mdetermine_transport\u001b[0m\u001b[0;34m(\u001b[0m\u001b[0mself\u001b[0m\u001b[0;34m.\u001b[0m\u001b[0mtransports\u001b[0m\u001b[0;34m,\u001b[0m \u001b[0mlink\u001b[0m\u001b[0;34m.\u001b[0m\u001b[0murl\u001b[0m\u001b[0;34m)\u001b[0m\u001b[0;34m\u001b[0m\u001b[0;34m\u001b[0m\u001b[0m\n\u001b[0;32m--> 178\u001b[0;31m         \u001b[0;32mreturn\u001b[0m \u001b[0mtransport\u001b[0m\u001b[0;34m.\u001b[0m\u001b[0mtransition\u001b[0m\u001b[0;34m(\u001b[0m\u001b[0mlink\u001b[0m\u001b[0;34m,\u001b[0m \u001b[0mself\u001b[0m\u001b[0;34m.\u001b[0m\u001b[0mdecoders\u001b[0m\u001b[0;34m,\u001b[0m \u001b[0mparams\u001b[0m\u001b[0;34m=\u001b[0m\u001b[0mparams\u001b[0m\u001b[0;34m,\u001b[0m \u001b[0mlink_ancestors\u001b[0m\u001b[0;34m=\u001b[0m\u001b[0mlink_ancestors\u001b[0m\u001b[0;34m)\u001b[0m\u001b[0;34m\u001b[0m\u001b[0;34m\u001b[0m\u001b[0m\n\u001b[0m",
      "\u001b[0;32m~/miniconda3/envs/tabula-microcebus-v2/lib/python3.7/site-packages/coreapi/transports/http.py\u001b[0m in \u001b[0;36mtransition\u001b[0;34m(self, link, decoders, params, link_ancestors, force_codec)\u001b[0m\n\u001b[1;32m    384\u001b[0m \u001b[0;34m\u001b[0m\u001b[0m\n\u001b[1;32m    385\u001b[0m         \u001b[0;32mif\u001b[0m \u001b[0misinstance\u001b[0m\u001b[0;34m(\u001b[0m\u001b[0mresult\u001b[0m\u001b[0;34m,\u001b[0m \u001b[0mError\u001b[0m\u001b[0;34m)\u001b[0m\u001b[0;34m:\u001b[0m\u001b[0;34m\u001b[0m\u001b[0;34m\u001b[0m\u001b[0m\n\u001b[0;32m--> 386\u001b[0;31m             \u001b[0;32mraise\u001b[0m \u001b[0mexceptions\u001b[0m\u001b[0;34m.\u001b[0m\u001b[0mErrorMessage\u001b[0m\u001b[0;34m(\u001b[0m\u001b[0mresult\u001b[0m\u001b[0;34m)\u001b[0m\u001b[0;34m\u001b[0m\u001b[0;34m\u001b[0m\u001b[0m\n\u001b[0m\u001b[1;32m    387\u001b[0m \u001b[0;34m\u001b[0m\u001b[0m\n\u001b[1;32m    388\u001b[0m         \u001b[0;32mreturn\u001b[0m \u001b[0mresult\u001b[0m\u001b[0;34m\u001b[0m\u001b[0;34m\u001b[0m\u001b[0m\n",
      "\u001b[0;31mErrorMessage\u001b[0m: <Error: 500 Internal Server Error>\n    message: \"<h1>Server Error (500)</h1>\""
     ]
    }
   ],
   "source": [
    "my_gene_query = 'P53_RAT'\n",
    "pyham_analysis = pyham.Ham(query_database=my_gene_query, use_data_from='oma')\n"
   ]
  },
  {
   "cell_type": "code",
   "execution_count": 24,
   "metadata": {},
   "outputs": [
    {
     "name": "stdout",
     "output_type": "stream",
     "text": [
      "--2020-02-21 16:09:02--  https://raw.githubusercontent.com/Ensembl/ensembl-compara/release/98/scripts/pipeline/species_tree.vertebrates.branch_len.nw\n",
      "Resolving raw.githubusercontent.com (raw.githubusercontent.com)... 151.101.192.133, 151.101.128.133, 151.101.64.133, ...\n",
      "Connecting to raw.githubusercontent.com (raw.githubusercontent.com)|151.101.192.133|:443... connected.\n",
      "HTTP request sent, awaiting response... 200 OK\n",
      "Length: 9431 (9.2K) [text/plain]\n",
      "Saving to: ‘species_tree.vertebrates.branch_len.nw’\n",
      "\n",
      "species_tree.verteb 100%[===================>]   9.21K  --.-KB/s    in 0s      \n",
      "\n",
      "2020-02-21 16:09:02 (55.8 MB/s) - ‘species_tree.vertebrates.branch_len.nw’ saved [9431/9431]\n",
      "\n"
     ]
    }
   ],
   "source": [
    "! wget https://raw.githubusercontent.com/Ensembl/ensembl-compara/release/98/scripts/pipeline/species_tree.vertebrates.branch_len.nw"
   ]
  },
  {
   "cell_type": "code",
   "execution_count": 25,
   "metadata": {},
   "outputs": [],
   "source": [
    "species_tree_file = 'species_tree.vertebrates.branch_len.nw'"
   ]
  },
  {
   "cell_type": "code",
   "execution_count": 7,
   "metadata": {},
   "outputs": [],
   "source": [
    "## "
   ]
  },
  {
   "cell_type": "code",
   "execution_count": 8,
   "metadata": {},
   "outputs": [],
   "source": [
    "! gunzip -c $folder/oma-hogs.orthoXML.gz > /home/olga/oma-hogs.orthoXML"
   ]
  },
  {
   "cell_type": "code",
   "execution_count": 9,
   "metadata": {},
   "outputs": [
    {
     "name": "stdout",
     "output_type": "stream",
     "text": [
      "/home/olga/oma-hogs.orthoXML\n"
     ]
    }
   ],
   "source": [
    "! ls ~/oma-hogs.orthoXML"
   ]
  },
  {
   "cell_type": "code",
   "execution_count": 10,
   "metadata": {},
   "outputs": [],
   "source": [
    "hog_file = f'/home/olga/oma-hogs.orthoXML'"
   ]
  },
  {
   "cell_type": "code",
   "execution_count": 15,
   "metadata": {},
   "outputs": [
    {
     "name": "stdout",
     "output_type": "stream",
     "text": [
      "  <species name=\"Microcebus murinus\" NCBITaxId=\"30608\">\n",
      "    <database name=\"Microcebus murinus from ENSEMBL v70\" version=\"Ensembl 70; micMur1; 11-DEC-2012\">\n"
     ]
    }
   ],
   "source": [
    "! grep 'Microcebus' $hog_file"
   ]
  },
  {
   "cell_type": "code",
   "execution_count": 28,
   "metadata": {},
   "outputs": [
    {
     "name": "stdout",
     "output_type": "stream",
     "text": [
      "--2020-02-23 11:08:46--  https://omabrowser.org/All/speciestree.nwk\n",
      "Resolving omabrowser.org (omabrowser.org)... 192.42.198.34\n",
      "Connecting to omabrowser.org (omabrowser.org)|192.42.198.34|:443... connected.\n",
      "HTTP request sent, awaiting response... 200 OK\n",
      "Length: 140276 (137K) [application/octet-stream]\n",
      "Saving to: ‘speciestree.nwk’\n",
      "\n",
      "speciestree.nwk     100%[===================>] 136.99K   434KB/s    in 0.3s    \n",
      "\n",
      "2020-02-23 11:08:47 (434 KB/s) - ‘speciestree.nwk’ saved [140276/140276]\n",
      "\n"
     ]
    }
   ],
   "source": [
    "! wget https://omabrowser.org/All/speciestree.nwk"
   ]
  },
  {
   "cell_type": "code",
   "execution_count": 33,
   "metadata": {},
   "outputs": [],
   "source": [
    "# ! head speciestree.nwk"
   ]
  },
  {
   "cell_type": "code",
   "execution_count": 29,
   "metadata": {},
   "outputs": [],
   "source": [
    "species_tree_file = 'speciestree.nwk'"
   ]
  },
  {
   "cell_type": "code",
   "execution_count": 27,
   "metadata": {},
   "outputs": [
    {
     "data": {
      "text/plain": [
       "\u001b[0;31mType:\u001b[0m        module\n",
       "\u001b[0;31mString form:\u001b[0m <module 'pyham' from '/home/olga/miniconda3/envs/tabula-microcebus-v2/lib/python3.7/site-packages/pyham/__init__.py'>\n",
       "\u001b[0;31mFile:\u001b[0m        ~/miniconda3/envs/tabula-microcebus-v2/lib/python3.7/site-packages/pyham/__init__.py\n",
       "\u001b[0;31mDocstring:\u001b[0m   <no docstring>\n"
      ]
     },
     "metadata": {},
     "output_type": "display_data"
    }
   ],
   "source": [
    "pyham?"
   ]
  },
  {
   "cell_type": "code",
   "execution_count": 34,
   "metadata": {},
   "outputs": [
    {
     "data": {
      "text/plain": [
       "\u001b[0;31mInit signature:\u001b[0m\n",
       "\u001b[0mpyham\u001b[0m\u001b[0;34m.\u001b[0m\u001b[0mHam\u001b[0m\u001b[0;34m(\u001b[0m\u001b[0;34m\u001b[0m\n",
       "\u001b[0;34m\u001b[0m    \u001b[0mtree_file\u001b[0m\u001b[0;34m=\u001b[0m\u001b[0;32mNone\u001b[0m\u001b[0;34m,\u001b[0m\u001b[0;34m\u001b[0m\n",
       "\u001b[0;34m\u001b[0m    \u001b[0mhog_file\u001b[0m\u001b[0;34m=\u001b[0m\u001b[0;32mNone\u001b[0m\u001b[0;34m,\u001b[0m\u001b[0;34m\u001b[0m\n",
       "\u001b[0;34m\u001b[0m    \u001b[0mtype_hog_file\u001b[0m\u001b[0;34m=\u001b[0m\u001b[0;34m'orthoxml'\u001b[0m\u001b[0;34m,\u001b[0m\u001b[0;34m\u001b[0m\n",
       "\u001b[0;34m\u001b[0m    \u001b[0mfilter_object\u001b[0m\u001b[0;34m=\u001b[0m\u001b[0;32mNone\u001b[0m\u001b[0;34m,\u001b[0m\u001b[0;34m\u001b[0m\n",
       "\u001b[0;34m\u001b[0m    \u001b[0muse_internal_name\u001b[0m\u001b[0;34m=\u001b[0m\u001b[0;32mFalse\u001b[0m\u001b[0;34m,\u001b[0m\u001b[0;34m\u001b[0m\n",
       "\u001b[0;34m\u001b[0m    \u001b[0morthoXML_as_string\u001b[0m\u001b[0;34m=\u001b[0m\u001b[0;32mFalse\u001b[0m\u001b[0;34m,\u001b[0m\u001b[0;34m\u001b[0m\n",
       "\u001b[0;34m\u001b[0m    \u001b[0mtree_format\u001b[0m\u001b[0;34m=\u001b[0m\u001b[0;34m'newick_string'\u001b[0m\u001b[0;34m,\u001b[0m\u001b[0;34m\u001b[0m\n",
       "\u001b[0;34m\u001b[0m    \u001b[0mphyloxml_internal_name_tag\u001b[0m\u001b[0;34m=\u001b[0m\u001b[0;34m'taxonomy_scientific_name'\u001b[0m\u001b[0;34m,\u001b[0m\u001b[0;34m\u001b[0m\n",
       "\u001b[0;34m\u001b[0m    \u001b[0mphyloxml_leaf_name_tag\u001b[0m\u001b[0;34m=\u001b[0m\u001b[0;34m'taxonomy_scientific_name'\u001b[0m\u001b[0;34m,\u001b[0m\u001b[0;34m\u001b[0m\n",
       "\u001b[0;34m\u001b[0m    \u001b[0muse_data_from\u001b[0m\u001b[0;34m=\u001b[0m\u001b[0;32mNone\u001b[0m\u001b[0;34m,\u001b[0m\u001b[0;34m\u001b[0m\n",
       "\u001b[0;34m\u001b[0m    \u001b[0mquery_database\u001b[0m\u001b[0;34m=\u001b[0m\u001b[0;32mNone\u001b[0m\u001b[0;34m,\u001b[0m\u001b[0;34m\u001b[0m\n",
       "\u001b[0;34m\u001b[0m\u001b[0;34m)\u001b[0m\u001b[0;34m\u001b[0m\u001b[0;34m\u001b[0m\u001b[0m\n",
       "\u001b[0;31mDocstring:\u001b[0m     \n",
       "Attributes:\n",
       "    | tree_file (:obj:`str`): Path to the file that contained the taxonomy information.\n",
       "    | hog_file (:obj:`str`): Path to the file that contained the HOGs information.\n",
       "    | hog_file_type (:obj:`str`): File type of the hog_file. Can be \"orthoxml or \"hdf5\". Defaults to \"orthoxml\".\n",
       "    | top_level_hogs (:obj:`dict`): Dictionary that map hog unique id with its list of related :obj:`pyham.abstractgene.HOG`.\n",
       "    | extant_gene_map (:obj:`dict`): Dictionary that map gene unique id with its list of related :obj:`pyham.abstractgene.Gene`.\n",
       "    | external_id_mapper (:obj:`dict`): Dictionary that map a gene external id with its list of related :obj:`pyham.abstractgene.HOG` or :obj:`pyham.abstractGene.gene`.\n",
       "    | HOGMaps (:obj:`dict`): Dictionary that map a :obj:`frozenset` of a pair of genomes to its :obj:`pyham.mapper.HOGsMap`.\n",
       "    | filter_obj (:obj:`pyham.pyham.ParserFilter`): :obj:`ParserFilter` used during the instanciation of Ham. Defaults to None.\n",
       "    | taxonomy: (:obj:`pyham.mapper.Taxonomy`): :obj:`pyham.pyham.Taxonomy` build and used by :obj:`pyham.pyham.Ham` instance.\n",
       "    | orthoXML_as_string (:obj:`Bool`) If set to true, hog_file is a string of an orthoxml file. Defaults to False.\n",
       "\u001b[0;31mInit docstring:\u001b[0m\n",
       "Args:\n",
       "    | tree_file (:obj:`str`): Path to the file that contained the taxonomy information.\n",
       "    | hog_file (:obj:`str`): Path to the file that contained the HOGs information.\n",
       "    | type_hog_file (:obj:`str`, optional): File type of the hog_file. Can be \"orthoxml or \"hdf5\". Defaults to \"orthoxml\".\n",
       "    | filter_object (:obj:`pyham.pyham.ParserFilter`, optional): :obj:`pyham.pyham.ParserFilter` used during the instantiation of pyham.pyham.Ham. Defaults to None.\n",
       "    | use_internal_name (:obj:`Boolean`, optional): Set to decide to use or not the internal naming of the given taxonomy. This should be set to False when support values are provided in the newick. Defaults to False.\n",
       "    | tree_format (:obj:`str`): type of inputted tree file. Defaults to newick_string. Can be 'newick', 'phyloxml, 'newick_string'.\n",
       "    | phyloxml_leaf_name_tag (:obj:`str`) tag to use in the phyloxml to name the extant species (leaves). Defaults tag is taxonomy.scientific_name to populate species names.\n",
       "    available options: 'clade_name', 'taxonomy_scientific_name', 'taxonomy_code'. Beware than missing species names will stop pyham working.\n",
       "    | phyloxml_internal_name_tag (:obj:`str`) tag to use in the phyloxml to name the ancestral species (internal nodes). Defaults will use taxonomy.scientific_name to populate species names.\n",
       "    available options: 'clade_name', 'taxonomy_scientific_name', 'taxonomy_code'. Beware than missing species names will stop pyham working.\n",
       "    | use_data_from (:obj:`str`) if specified,  use data from a remote databaseto populate pyHam. Defaults to None. Options: 'oma'.\n",
       "    | query_database (:obj:`str`) if use_data_from is specified, use this as a query to fetch the orthoxml and             tree information for the related query hog (gene family). For 'oma', this correspond to the oma gene id (e.g. 'HUMAN12' or 'CHIMP1435').\n",
       "\u001b[0;31mFile:\u001b[0m           ~/miniconda3/envs/tabula-microcebus-v2/lib/python3.7/site-packages/pyham/ham.py\n",
       "\u001b[0;31mType:\u001b[0m           type\n",
       "\u001b[0;31mSubclasses:\u001b[0m     \n"
      ]
     },
     "metadata": {},
     "output_type": "display_data"
    }
   ],
   "source": [
    "pyham.Ham?"
   ]
  },
  {
   "cell_type": "code",
   "execution_count": 39,
   "metadata": {},
   "outputs": [
    {
     "name": "stdout",
     "output_type": "stream",
     "text": [
      "--2020-02-23 11:33:11--  https://omabrowser.org/All/speciestree.phyloxml\n",
      "Resolving omabrowser.org (omabrowser.org)... 192.42.198.34\n",
      "Connecting to omabrowser.org (omabrowser.org)|192.42.198.34|:443... connected.\n",
      "HTTP request sent, awaiting response... 200 OK\n",
      "Length: 542 [application/octet-stream]\n",
      "Saving to: ‘speciestree.phyloxml’\n",
      "\n",
      "speciestree.phyloxm 100%[===================>]     542  --.-KB/s    in 0s      \n",
      "\n",
      "2020-02-23 11:33:11 (82.8 MB/s) - ‘speciestree.phyloxml’ saved [542/542]\n",
      "\n"
     ]
    }
   ],
   "source": [
    "! wget https://omabrowser.org/All/speciestree.phyloxml\n",
    "species_tree_phyloxml = 'speciestree.phyloxml'"
   ]
  },
  {
   "cell_type": "code",
   "execution_count": 43,
   "metadata": {},
   "outputs": [
    {
     "ename": "IndexError",
     "evalue": "list index out of range",
     "output_type": "error",
     "traceback": [
      "\u001b[0;31m---------------------------------------------------------------------------\u001b[0m",
      "\u001b[0;31mIndexError\u001b[0m                                Traceback (most recent call last)",
      "\u001b[0;32m<ipython-input-43-f4aa9e502496>\u001b[0m in \u001b[0;36m<module>\u001b[0;34m\u001b[0m\n\u001b[1;32m      4\u001b[0m                            \u001b[0mtree_format\u001b[0m\u001b[0;34m=\u001b[0m\u001b[0;34m'phyloxml'\u001b[0m\u001b[0;34m,\u001b[0m\u001b[0;34m\u001b[0m\u001b[0;34m\u001b[0m\u001b[0m\n\u001b[1;32m      5\u001b[0m \u001b[0;31m#                            quoted_node_names=True,\u001b[0m\u001b[0;34m\u001b[0m\u001b[0;34m\u001b[0m\u001b[0;34m\u001b[0m\u001b[0m\n\u001b[0;32m----> 6\u001b[0;31m                            hog_file='/home/olga/oma-hogs.orthoXML')\n\u001b[0m\u001b[1;32m      7\u001b[0m \u001b[0;31m# pyham_analysis = pyham.Ham(query_database='P53_HUMAN', use_data_from='oma')\u001b[0m\u001b[0;34m\u001b[0m\u001b[0;34m\u001b[0m\u001b[0;34m\u001b[0m\u001b[0m\n",
      "\u001b[0;32m~/miniconda3/envs/tabula-microcebus-v2/lib/python3.7/site-packages/pyham/ham.py\u001b[0m in \u001b[0;36m__init__\u001b[0;34m(self, tree_file, hog_file, type_hog_file, filter_object, use_internal_name, orthoXML_as_string, tree_format, phyloxml_internal_name_tag, phyloxml_leaf_name_tag, use_data_from, query_database)\u001b[0m\n\u001b[1;32m    237\u001b[0m             \u001b[0;32mraise\u001b[0m \u001b[0mTypeError\u001b[0m\u001b[0;34m(\u001b[0m\u001b[0;34m\"{} is an invalid type phyloxml tag name\"\u001b[0m\u001b[0;34m)\u001b[0m\u001b[0;34m\u001b[0m\u001b[0;34m\u001b[0m\u001b[0m\n\u001b[1;32m    238\u001b[0m \u001b[0;34m\u001b[0m\u001b[0m\n\u001b[0;32m--> 239\u001b[0;31m         \u001b[0mself\u001b[0m\u001b[0;34m.\u001b[0m\u001b[0mtaxonomy\u001b[0m \u001b[0;34m=\u001b[0m \u001b[0mtax\u001b[0m\u001b[0;34m.\u001b[0m\u001b[0mTaxonomy\u001b[0m\u001b[0;34m(\u001b[0m\u001b[0mself\u001b[0m\u001b[0;34m.\u001b[0m\u001b[0mtree_file\u001b[0m\u001b[0;34m,\u001b[0m \u001b[0mtree_format\u001b[0m\u001b[0;34m=\u001b[0m\u001b[0mtree_format\u001b[0m\u001b[0;34m,\u001b[0m \u001b[0muse_internal_name\u001b[0m\u001b[0;34m=\u001b[0m\u001b[0muse_internal_name\u001b[0m\u001b[0;34m,\u001b[0m \u001b[0mphyloxml_leaf_name_tag\u001b[0m\u001b[0;34m=\u001b[0m\u001b[0mphyloxml_leaf_name_tag\u001b[0m\u001b[0;34m,\u001b[0m \u001b[0mphyloxml_internal_name_tag\u001b[0m\u001b[0;34m=\u001b[0m\u001b[0mphyloxml_internal_name_tag\u001b[0m\u001b[0;34m)\u001b[0m\u001b[0;34m\u001b[0m\u001b[0;34m\u001b[0m\u001b[0m\n\u001b[0m\u001b[1;32m    240\u001b[0m         \u001b[0mlogger\u001b[0m\u001b[0;34m.\u001b[0m\u001b[0minfo\u001b[0m\u001b[0;34m(\u001b[0m\u001b[0;34m'Build taxonomy: completed.'\u001b[0m\u001b[0;34m)\u001b[0m\u001b[0;34m\u001b[0m\u001b[0;34m\u001b[0m\u001b[0m\n\u001b[1;32m    241\u001b[0m \u001b[0;34m\u001b[0m\u001b[0m\n",
      "\u001b[0;32m~/miniconda3/envs/tabula-microcebus-v2/lib/python3.7/site-packages/pyham/taxonomy.py\u001b[0m in \u001b[0;36m__init__\u001b[0;34m(self, tree_file, tree_format, use_internal_name, phyloxml_leaf_name_tag, phyloxml_internal_name_tag)\u001b[0m\n\u001b[1;32m     44\u001b[0m \u001b[0;34m\u001b[0m\u001b[0m\n\u001b[1;32m     45\u001b[0m         \u001b[0;31m# create tree\u001b[0m\u001b[0;34m\u001b[0m\u001b[0;34m\u001b[0m\u001b[0;34m\u001b[0m\u001b[0m\n\u001b[0;32m---> 46\u001b[0;31m         \u001b[0mself\u001b[0m\u001b[0;34m.\u001b[0m\u001b[0mtree\u001b[0m \u001b[0;34m=\u001b[0m \u001b[0mself\u001b[0m\u001b[0;34m.\u001b[0m\u001b[0m_build_tree\u001b[0m\u001b[0;34m(\u001b[0m\u001b[0mtree_file\u001b[0m\u001b[0;34m,\u001b[0m \u001b[0mtree_format\u001b[0m\u001b[0;34m)\u001b[0m\u001b[0;34m\u001b[0m\u001b[0;34m\u001b[0m\u001b[0m\n\u001b[0m\u001b[1;32m     47\u001b[0m \u001b[0;34m\u001b[0m\u001b[0m\n\u001b[1;32m     48\u001b[0m         \u001b[0;31m# create internal node name if required\u001b[0m\u001b[0;34m\u001b[0m\u001b[0;34m\u001b[0m\u001b[0;34m\u001b[0m\u001b[0m\n",
      "\u001b[0;32m~/miniconda3/envs/tabula-microcebus-v2/lib/python3.7/site-packages/pyham/taxonomy.py\u001b[0m in \u001b[0;36m_build_tree\u001b[0;34m(self, tree_file, tree_format)\u001b[0m\n\u001b[1;32m    263\u001b[0m                 \u001b[0;31m# assign name to extant species\u001b[0m\u001b[0;34m\u001b[0m\u001b[0;34m\u001b[0m\u001b[0;34m\u001b[0m\u001b[0m\n\u001b[1;32m    264\u001b[0m                 \u001b[0;32mif\u001b[0m \u001b[0mnode\u001b[0m\u001b[0;34m.\u001b[0m\u001b[0mis_leaf\u001b[0m\u001b[0;34m(\u001b[0m\u001b[0;34m)\u001b[0m\u001b[0;34m:\u001b[0m\u001b[0;34m\u001b[0m\u001b[0;34m\u001b[0m\u001b[0m\n\u001b[0;32m--> 265\u001b[0;31m                     \u001b[0mnode\u001b[0m\u001b[0;34m.\u001b[0m\u001b[0mname\u001b[0m \u001b[0;34m=\u001b[0m \u001b[0mself\u001b[0m\u001b[0;34m.\u001b[0m\u001b[0m_get_name_phyloxml\u001b[0m\u001b[0;34m(\u001b[0m\u001b[0mnode\u001b[0m\u001b[0;34m,\u001b[0m \u001b[0mself\u001b[0m\u001b[0;34m.\u001b[0m\u001b[0mphyloxml_leaf_name_tag\u001b[0m\u001b[0;34m)\u001b[0m\u001b[0;34m\u001b[0m\u001b[0;34m\u001b[0m\u001b[0m\n\u001b[0m\u001b[1;32m    266\u001b[0m \u001b[0;34m\u001b[0m\u001b[0m\n\u001b[1;32m    267\u001b[0m                 \u001b[0;31m# assign name to ancestral species\u001b[0m\u001b[0;34m\u001b[0m\u001b[0;34m\u001b[0m\u001b[0;34m\u001b[0m\u001b[0m\n",
      "\u001b[0;32m~/miniconda3/envs/tabula-microcebus-v2/lib/python3.7/site-packages/pyham/taxonomy.py\u001b[0m in \u001b[0;36m_get_name_phyloxml\u001b[0;34m(self, node, phyloxml_species_name_tag)\u001b[0m\n\u001b[1;32m    225\u001b[0m \u001b[0;34m\u001b[0m\u001b[0m\n\u001b[1;32m    226\u001b[0m         \u001b[0;32melif\u001b[0m \u001b[0mphyloxml_species_name_tag\u001b[0m \u001b[0;34m==\u001b[0m \u001b[0;34m'taxonomy_scientific_name'\u001b[0m\u001b[0;34m:\u001b[0m\u001b[0;34m\u001b[0m\u001b[0;34m\u001b[0m\u001b[0m\n\u001b[0;32m--> 227\u001b[0;31m             \u001b[0;32mif\u001b[0m \u001b[0mnode\u001b[0m\u001b[0;34m.\u001b[0m\u001b[0mphyloxml_clade\u001b[0m\u001b[0;34m.\u001b[0m\u001b[0mtaxonomy\u001b[0m\u001b[0;34m[\u001b[0m\u001b[0;36m0\u001b[0m\u001b[0;34m]\u001b[0m\u001b[0;34m.\u001b[0m\u001b[0mscientific_name\u001b[0m \u001b[0;34m!=\u001b[0m \u001b[0;34m''\u001b[0m\u001b[0;34m:\u001b[0m\u001b[0;34m\u001b[0m\u001b[0;34m\u001b[0m\u001b[0m\n\u001b[0m\u001b[1;32m    228\u001b[0m                 \u001b[0;32mreturn\u001b[0m \u001b[0mnode\u001b[0m\u001b[0;34m.\u001b[0m\u001b[0mphyloxml_clade\u001b[0m\u001b[0;34m.\u001b[0m\u001b[0mtaxonomy\u001b[0m\u001b[0;34m[\u001b[0m\u001b[0;36m0\u001b[0m\u001b[0;34m]\u001b[0m\u001b[0;34m.\u001b[0m\u001b[0mscientific_name\u001b[0m\u001b[0;34m\u001b[0m\u001b[0;34m\u001b[0m\u001b[0m\n\u001b[1;32m    229\u001b[0m             \u001b[0;32melse\u001b[0m\u001b[0;34m:\u001b[0m\u001b[0;34m\u001b[0m\u001b[0;34m\u001b[0m\u001b[0m\n",
      "\u001b[0;31mIndexError\u001b[0m: list index out of range"
     ]
    }
   ],
   "source": [
    "pyham_analysis = pyham.Ham(query_database='P53_HUMAN', \n",
    "                           tree_file=species_tree_phyloxml,\n",
    "#                            tree_file=species_tree_file,\n",
    "                           tree_format='phyloxml', \n",
    "#                            quoted_node_names=True,\n",
    "                           hog_file='/home/olga/oma-hogs.orthoXML')\n",
    "# pyham_analysis = pyham.Ham(query_database='P53_HUMAN', use_data_from='oma')"
   ]
  },
  {
   "cell_type": "code",
   "execution_count": 44,
   "metadata": {},
   "outputs": [
    {
     "data": {
      "text/plain": [
       "'1.1.7'"
      ]
     },
     "execution_count": 44,
     "metadata": {},
     "output_type": "execute_result"
    }
   ],
   "source": [
    "pyham.__version__"
   ]
  },
  {
   "cell_type": "code",
   "execution_count": 22,
   "metadata": {},
   "outputs": [
    {
     "ename": "ErrorMessage",
     "evalue": "<Error: 500 Internal Server Error>\n    message: \"<h1>Server Error (500)</h1>\"",
     "output_type": "error",
     "traceback": [
      "\u001b[0;31m---------------------------------------------------------------------------\u001b[0m",
      "\u001b[0;31mErrorMessage\u001b[0m                              Traceback (most recent call last)",
      "\u001b[0;32m<ipython-input-22-b9cc60dabbcb>\u001b[0m in \u001b[0;36m<module>\u001b[0;34m\u001b[0m\n\u001b[1;32m      1\u001b[0m \u001b[0mmy_gene_query\u001b[0m \u001b[0;34m=\u001b[0m \u001b[0;34m'P53_RAT'\u001b[0m\u001b[0;34m\u001b[0m\u001b[0;34m\u001b[0m\u001b[0m\n\u001b[1;32m      2\u001b[0m \u001b[0;34m\u001b[0m\u001b[0m\n\u001b[0;32m----> 3\u001b[0;31m \u001b[0mpyham_analysis\u001b[0m \u001b[0;34m=\u001b[0m \u001b[0mpyham\u001b[0m\u001b[0;34m.\u001b[0m\u001b[0mHam\u001b[0m\u001b[0;34m(\u001b[0m\u001b[0mquery_database\u001b[0m\u001b[0;34m=\u001b[0m\u001b[0mmy_gene_query\u001b[0m\u001b[0;34m,\u001b[0m \u001b[0muse_data_from\u001b[0m\u001b[0;34m=\u001b[0m\u001b[0;34m'oma'\u001b[0m\u001b[0;34m)\u001b[0m\u001b[0;34m\u001b[0m\u001b[0;34m\u001b[0m\u001b[0m\n\u001b[0m",
      "\u001b[0;32m~/miniconda3/envs/tabula-microcebus-v2/lib/python3.7/site-packages/pyham/ham.py\u001b[0m in \u001b[0;36m__init__\u001b[0;34m(self, tree_file, hog_file, type_hog_file, filter_object, use_internal_name, orthoXML_as_string, tree_format, phyloxml_internal_name_tag, phyloxml_leaf_name_tag, use_data_from, query_database)\u001b[0m\n\u001b[1;32m    184\u001b[0m                 }\n\u001b[1;32m    185\u001b[0m \u001b[0;34m\u001b[0m\u001b[0m\n\u001b[0;32m--> 186\u001b[0;31m                 \u001b[0mopen_tax\u001b[0m \u001b[0;34m=\u001b[0m \u001b[0mclient\u001b[0m\u001b[0;34m.\u001b[0m\u001b[0maction\u001b[0m\u001b[0;34m(\u001b[0m\u001b[0mschema\u001b[0m\u001b[0;34m,\u001b[0m \u001b[0maction_phy\u001b[0m\u001b[0;34m,\u001b[0m \u001b[0mparams\u001b[0m\u001b[0;34m=\u001b[0m\u001b[0mparams_phy\u001b[0m\u001b[0;34m)\u001b[0m\u001b[0;34m\u001b[0m\u001b[0;34m\u001b[0m\u001b[0m\n\u001b[0m\u001b[1;32m    187\u001b[0m \u001b[0;34m\u001b[0m\u001b[0m\n\u001b[1;32m    188\u001b[0m                 \u001b[0mself\u001b[0m\u001b[0;34m.\u001b[0m\u001b[0mtree_file\u001b[0m \u001b[0;34m=\u001b[0m \u001b[0;34m'taxonomy_from_oma_open_at_{}.phyloxml'\u001b[0m\u001b[0;34m.\u001b[0m\u001b[0mformat\u001b[0m\u001b[0;34m(\u001b[0m\u001b[0mtop_level\u001b[0m\u001b[0;34m)\u001b[0m\u001b[0;34m\u001b[0m\u001b[0;34m\u001b[0m\u001b[0m\n",
      "\u001b[0;32m~/miniconda3/envs/tabula-microcebus-v2/lib/python3.7/site-packages/coreapi/client.py\u001b[0m in \u001b[0;36maction\u001b[0;34m(self, document, keys, params, validate, overrides, action, encoding, transform)\u001b[0m\n\u001b[1;32m    176\u001b[0m         \u001b[0;31m# Perform the action, and return a new document.\u001b[0m\u001b[0;34m\u001b[0m\u001b[0;34m\u001b[0m\u001b[0;34m\u001b[0m\u001b[0m\n\u001b[1;32m    177\u001b[0m         \u001b[0mtransport\u001b[0m \u001b[0;34m=\u001b[0m \u001b[0mdetermine_transport\u001b[0m\u001b[0;34m(\u001b[0m\u001b[0mself\u001b[0m\u001b[0;34m.\u001b[0m\u001b[0mtransports\u001b[0m\u001b[0;34m,\u001b[0m \u001b[0mlink\u001b[0m\u001b[0;34m.\u001b[0m\u001b[0murl\u001b[0m\u001b[0;34m)\u001b[0m\u001b[0;34m\u001b[0m\u001b[0;34m\u001b[0m\u001b[0m\n\u001b[0;32m--> 178\u001b[0;31m         \u001b[0;32mreturn\u001b[0m \u001b[0mtransport\u001b[0m\u001b[0;34m.\u001b[0m\u001b[0mtransition\u001b[0m\u001b[0;34m(\u001b[0m\u001b[0mlink\u001b[0m\u001b[0;34m,\u001b[0m \u001b[0mself\u001b[0m\u001b[0;34m.\u001b[0m\u001b[0mdecoders\u001b[0m\u001b[0;34m,\u001b[0m \u001b[0mparams\u001b[0m\u001b[0;34m=\u001b[0m\u001b[0mparams\u001b[0m\u001b[0;34m,\u001b[0m \u001b[0mlink_ancestors\u001b[0m\u001b[0;34m=\u001b[0m\u001b[0mlink_ancestors\u001b[0m\u001b[0;34m)\u001b[0m\u001b[0;34m\u001b[0m\u001b[0;34m\u001b[0m\u001b[0m\n\u001b[0m",
      "\u001b[0;32m~/miniconda3/envs/tabula-microcebus-v2/lib/python3.7/site-packages/coreapi/transports/http.py\u001b[0m in \u001b[0;36mtransition\u001b[0;34m(self, link, decoders, params, link_ancestors, force_codec)\u001b[0m\n\u001b[1;32m    384\u001b[0m \u001b[0;34m\u001b[0m\u001b[0m\n\u001b[1;32m    385\u001b[0m         \u001b[0;32mif\u001b[0m \u001b[0misinstance\u001b[0m\u001b[0;34m(\u001b[0m\u001b[0mresult\u001b[0m\u001b[0;34m,\u001b[0m \u001b[0mError\u001b[0m\u001b[0;34m)\u001b[0m\u001b[0;34m:\u001b[0m\u001b[0;34m\u001b[0m\u001b[0;34m\u001b[0m\u001b[0m\n\u001b[0;32m--> 386\u001b[0;31m             \u001b[0;32mraise\u001b[0m \u001b[0mexceptions\u001b[0m\u001b[0;34m.\u001b[0m\u001b[0mErrorMessage\u001b[0m\u001b[0;34m(\u001b[0m\u001b[0mresult\u001b[0m\u001b[0;34m)\u001b[0m\u001b[0;34m\u001b[0m\u001b[0;34m\u001b[0m\u001b[0m\n\u001b[0m\u001b[1;32m    387\u001b[0m \u001b[0;34m\u001b[0m\u001b[0m\n\u001b[1;32m    388\u001b[0m         \u001b[0;32mreturn\u001b[0m \u001b[0mresult\u001b[0m\u001b[0;34m\u001b[0m\u001b[0;34m\u001b[0m\u001b[0m\n",
      "\u001b[0;31mErrorMessage\u001b[0m: <Error: 500 Internal Server Error>\n    message: \"<h1>Server Error (500)</h1>\""
     ]
    }
   ],
   "source": [
    "my_gene_query = 'P53_RAT'\n",
    "\n",
    "pyham_analysis = pyham.Ham(query_database=my_gene_query, use_data_from='oma')"
   ]
  },
  {
   "cell_type": "markdown",
   "metadata": {},
   "source": [
    "## Get HOGs for Human within Euarchontoglires\n",
    "\n",
    "From http://lab.dessimoz.org/blog/2017/06/29/pyham"
   ]
  },
  {
   "cell_type": "code",
   "execution_count": null,
   "metadata": {},
   "outputs": [],
   "source": [
    "# Get the genome of interest\n",
    "human = ham_analysis.get_extant_genome_by_name(\"HUMAN\")\n",
    "vertebrates = ham_analysis.get_ancestral_genome_by_name(\"Vertebrata\")\n",
    "\n",
    "# Instanciate the gene mapping !\n",
    "vertical_human_vertebrates = ham_analysis.compare_genomes_vertically(human, vertebrates) # The order doesn't matter!\n",
    "\n",
    "# The identical genes (that stay single copies) \n",
    "# one HOG at vertebrates -> one descendant gene in human\n",
    "vertical_human_vertebrates.get_retained())\n",
    "\n",
    "# The duplicated genes (that have duplicated) \n",
    "# one HOG at vertebrates -> list of its descendants gene in human\n",
    "vertical_human_vertebrates.get_duplicated())\n",
    "\n",
    "# The gained genes (that emerged in between)\n",
    "# list of gene that appeared after vertebrates taxon\n",
    "vertical_human_vertebrates.get_gained()\n",
    "\n",
    "# The lost genes (that been lost in between) \n",
    "HOG at vertebrates that have been lost before human taxon\n",
    "vertical_human_vertebrates.get_lost()"
   ]
  }
 ],
 "metadata": {
  "kernelspec": {
   "display_name": "Python [conda env:tabula-microcebus-v2]",
   "language": "python",
   "name": "conda-env-tabula-microcebus-v2-py"
  },
  "language_info": {
   "codemirror_mode": {
    "name": "ipython",
    "version": 3
   },
   "file_extension": ".py",
   "mimetype": "text/x-python",
   "name": "python",
   "nbconvert_exporter": "python",
   "pygments_lexer": "ipython3",
   "version": "3.7.3"
  }
 },
 "nbformat": 4,
 "nbformat_minor": 4
}
