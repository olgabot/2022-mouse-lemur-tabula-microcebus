{
 "cells": [
  {
   "cell_type": "code",
   "execution_count": 1,
   "metadata": {
    "execution_event_id": "53618f17-3209-42d8-b15d-586eb47ed476",
    "last_executed_text": "from io import StringIO\n\nimport anndata\nimport pandas as pd\nimport numpy as np\nimport scanpy\n\noutdir = '/home/olga/googledrive/TabulaMicrocebus/data/cross-species'\n",
    "persistent_id": "a8fdc6d7-c0d4-4015-84b2-2c05e2785a2f"
   },
   "outputs": [
    {
     "name": "stdout",
     "output_type": "stream",
     "text": [
      "scanpy==1.4.6.dev9+ge632939 anndata==0.6.22.post1 umap==0.3.10 numpy==1.17.3 scipy==1.3.2 pandas==0.25.3 scikit-learn==0.22 statsmodels==0.10.2 python-igraph==0.7.1 louvain==0.6.1\n",
      "total 41G\n",
      "drwxrwxr-x 1 olga czb  4.0K Feb 13 11:27  .\n",
      "drwxrwxr-x 1 olga czb  4.0K Dec  2 21:43  ..\n",
      "drwxrwxr-x 1 olga czb  4.0K Mar 21 21:55  alltissues__10x__lemur__one2one_orthologs__csvs\n",
      "-rw-r--r-- 1 olga czb  1.8G May 19 08:56  alltissues__10x__lemur__one2one_orthologs.h5ad\n",
      "drwxrwxr-x 1 olga czb  4.0K Mar 21 16:51  alltissues__10x__mouse__one2one_orthologs__csvs\n",
      "-rw-r--r-- 1 olga czb  2.5G May 19 08:54  alltissues__10x__mouse__one2one_orthologs.h5ad\n",
      "drwxr-xr-x 1 olga czb  4.0K May 20 12:36  binarized\n",
      "-r--r--r-- 1 olga czb   195 May 19 16:37 'binarized_expression__stable_genes__compartment_conserved (564988b6).desktop'\n",
      "-rw-r--r-- 1 olga czb   77K May 19 08:00  binarized_expression__stable_genes__compartment_conserved.csv\n",
      "-r--r--r-- 1 olga czb   195 May 19 08:18  binarized_expression__stable_genes__compartment_conserved.desktop\n",
      "-r--r--r-- 1 olga czb   195 May 19 16:47 'binarized_expression__stable_genes__compartment_conserved (e2ec6c9f).desktop'\n",
      "-rw-r--r-- 1 olga czb   13M May 19 08:01  binarized_expression__stable_genes__compartment_conserved__go_enrichment.csv\n",
      "-r--r--r-- 1 olga czb   210 May 19 08:18  binarized_expression__stable_genes__compartment_conserved__go_enrichment.desktop\n",
      "-r--r--r-- 1 olga czb   202 May 19 08:19 'binarized_expression__stable_genes__compartment_primate_enriched (2fec13e7).desktop'\n",
      "-r--r--r-- 1 olga czb   202 May 19 16:37 'binarized_expression__stable_genes__compartment_primate_enriched (ac24cd86).desktop'\n",
      "-rw-r--r-- 1 olga czb   21K May 19 08:02  binarized_expression__stable_genes__compartment_primate_enriched.csv\n",
      "-r--r--r-- 1 olga czb   202 May 14 10:28  binarized_expression__stable_genes__compartment_primate_enriched.desktop\n",
      "-r--r--r-- 1 olga czb   195 May 19 07:52  binarized_gene_expression__stable_genes_by_mutual_information.desktop\n",
      "-rw-r--r-- 1 olga czb  1.1M May 19 07:19  binarized_gene_expression__stable_genes_by_mutual_information__fraction_per_compartment.csv\n",
      "-r--r--r-- 1 olga czb   214 May 19 16:34 'binarized_gene_expression__stable_genes_by_mutual_information__go_enrichment (b9bcc05c).desktop'\n",
      "-rw-r--r-- 1 olga czb  2.8M May 19 07:19  binarized_gene_expression__stable_genes_by_mutual_information__go_enrichment.csv\n",
      "-r--r--r-- 1 olga czb   214 May 13 14:30  binarized_gene_expression__stable_genes_by_mutual_information__go_enrichment.desktop\n",
      "-rw-r--r-- 1 olga czb   25K May 19 07:19  binarized_gene_expression__stable_genes_by_mutual_information.txt\n",
      "-rw-r--r-- 1 olga czb  2.2M May 19 07:20  binarized_gene_expression__unstable_genes_by_mutual_information__fraction_per_compartment.csv\n",
      "-r--r--r-- 1 olga czb   216 May 19 16:27 'binarized_gene_expression__unstable_genes_by_mutual_information__go_enrichment (ca3b507c).desktop'\n",
      "-rw-r--r-- 1 olga czb   75M May 19 07:20  binarized_gene_expression__unstable_genes_by_mutual_information__go_enrichment.csv\n",
      "-r--r--r-- 1 olga czb   216 May 13 14:30  binarized_gene_expression__unstable_genes_by_mutual_information__go_enrichment.desktop\n",
      "-rw-r--r-- 1 olga czb   48K May 19 07:20  binarized_gene_expression__unstable_genes_by_mutual_information.txt\n",
      "-rw-r--r-- 1 olga czb  850K May 19 07:31  compartment_group_binarized_no_not_expressed_10percent.csv\n",
      "-rw-r--r-- 1 olga czb  4.7G May 18 17:40  concatenated__human-lung--lemur-alltissues--mouse-alltissues__10x__one2one_orthologs.h5ad\n",
      "drwxrwxr-x 1 olga czb  4.0K Mar 22 15:40  concatenated__human-lung--lemur-lung--mouse-lung__10x__one2one_orthologs\n",
      "-rw-r--r-- 1 olga czb  1.1G May 18 17:42  concatenated__human-lung--lemur-lung--mouse-lung__10x__one2one_orthologs.h5ad\n",
      "drwxrwxr-x 1 olga czb  4.0K Mar 22 15:40  concatenated__human-lung--lemur-lung--mouse-lung__10x__one2one_orthologs__unified_compartments\n",
      "drwxrwxr-x 1 olga czb  4.0K Mar 29 18:09  concatenated__human-lung--lemur-lung--mouse-lung__10x__one2one_orthologs__unified_compartments__bbknn\n",
      "-rw-r--r-- 1 olga czb 1002M May 19 07:16  concatenated__human-lung--lemur-lung--mouse-lung__10x__one2one_orthologs__unified_compartments__bbknn__diffexpr_broad_group.h5ad\n",
      "-rw-r--r-- 1 olga czb 1002M May 19 08:37  concatenated__human-lung--lemur-lung--mouse-lung__10x__one2one_orthologs__unified_compartments__bbknn__diffexpr_compartment_group.h5ad\n",
      "-rw-r--r-- 1 olga czb 1002M May 19 00:29  concatenated__human-lung--lemur-lung--mouse-lung__10x__one2one_orthologs__unified_compartments__bbknn__diffexpr_narrow_group.h5ad\n",
      "-rw-rw-r-- 1 olga czb  731M May 18 21:48  concatenated__human-lung--lemur-lung--mouse-lung__10x__one2one_orthologs__unified_compartments__bbknn.h5ad\n",
      "drwxrwxr-x 1 olga czb  4.0K Mar 26 07:45  concatenated__human-lung--lemur-lung--mouse-lung__10x__one2one_orthologs__unified_compartments_csvs\n",
      "-rw-rw-r-- 1 olga czb  1.1G May 18 21:43  concatenated__human-lung--lemur-lung--mouse-lung__10x__one2one_orthologs__unified_compartments.h5ad\n",
      "-rw-r--r-- 1 olga czb  307M May 13 10:55  concatenated__human-lung--lemur-lung--mouse-lung__10x__one2one_orthologs__unified_compartments__mouse_only.h5ad\n",
      "-rw-rw-r-- 1 olga czb  1.4G Mar 22 15:14  concatenated__human-lung--lemur-lung--mouse-lung.h5ad\n",
      "-rw-rw-r-- 1 olga czb  1.1G Feb 13 11:27  lung__10x__concatenated__human_lemur_mouse__one2one_orthologs.h5ad\n",
      "-rw-rw-r-- 1 olga czb 1012M Feb 14 16:10  lung__10x__concatenated__human_lemur_mouse__one2one_orthologs__preprocessed__bbknn.h5ad\n",
      "-rw-rw-r-- 1 olga czb  573K Feb 26 08:45  lung__10x__concatenated__human_lemur_mouse__one2one_orthologs__preprocessed__correlation_across_shared_ontologies_drop_if_both_zero.parquet\n",
      "-rw-rw-r-- 1 olga czb  572K Feb 26 08:52  lung__10x__concatenated__human_lemur_mouse__one2one_orthologs__preprocessed__correlation_across_shared_ontologies_drop_if_either_zero.parquet\n",
      "-rw-rw-r-- 1 olga czb  9.6K Feb 26 08:19  lung__10x__concatenated__human_lemur_mouse__one2one_orthologs__preprocessed__correlation_across_shared_ontologies_drop_zeros.parquet\n",
      "-rw-rw-r-- 1 olga czb  573K Feb 20 06:25  lung__10x__concatenated__human_lemur_mouse__one2one_orthologs__preprocessed__correlation_across_shared_ontologies.parquet\n",
      "-rw-rw-r-- 1 olga czb  366K Apr 13 09:58  lung__10x__concatenated__human_lemur_mouse__one2one_orthologs__preprocessed__xi__compartment_group__drop_if_both_zero.parquet\n",
      "-rw-rw-r-- 1 olga czb  366K Apr 13 10:03  lung__10x__concatenated__human_lemur_mouse__one2one_orthologs__preprocessed__xi__compartment_group__drop_if_either_zero.parquet\n",
      "-rw-rw-r-- 1 olga czb  676K Mar 29 15:54  lung__10x__concatenated__human_lemur_mouse__one2one_orthologs__preprocessed__xi_correlation_across_shared_ontologies_drop_if_both_zero.parquet\n",
      "-rw-rw-r-- 1 olga czb  673K Mar 29 15:55  lung__10x__concatenated__human_lemur_mouse__one2one_orthologs__preprocessed__xi_correlation_across_shared_ontologies_drop_if_either_zero.parquet\n",
      "drwxr-xr-x 1 olga czb  4.0K May 11 14:50  lung__10x__human__no_duplicate_barcodes_csvs\n",
      "-rw-r--r-- 1 olga czb  6.2G May 11 19:55  lung__10x__human__no_duplicate_barcodes.h5ad\n",
      "drwxrwxr-x 1 olga czb  4.0K Feb 13 11:27  lung__10x__human__one2one_orthologs__csvs\n",
      "-rw-rw-r-- 1 olga czb  3.0G May 19 08:58  lung__10x__human__one2one_orthologs.h5ad\n",
      "drwxr-xr-x 1 olga czb  4.0K May 11 19:38  lung__10x__human__with_barcode_counts\n",
      "-rw-r--r-- 1 olga czb  6.5G May 11 19:36  lung__10x__human__with_barcode_counts.h5ad\n",
      "drwxrwxr-x 1 olga czb  4.0K Feb 13 11:27  lung__10x__lemur__one2one_orthologs__csvs\n",
      "-rw-rw-r-- 1 olga czb  1.3G Feb 13 11:27  lung__10x__lemur__one2one_orthologs.h5ad\n",
      "drwxrwxr-x 1 olga czb  4.0K Feb 13 11:27  lung__10x__mouse__one2one_orthologs__csvs\n",
      "-rw-rw-r-- 1 olga czb  208M Feb 13 11:27  lung__10x__mouse__one2one_orthologs.h5ad\n",
      "-r--r--r-- 1 olga czb   173 May 19 16:38 'lung_primate_specific_go_enrichment (28d12b9a).desktop'\n",
      "-rw-r--r-- 1 olga czb  197K May 19 08:03  lung_primate_specific_go_enrichment.csv\n",
      "-r--r--r-- 1 olga czb   173 May 19 08:19  lung_primate_specific_go_enrichment.desktop\n",
      "-rw-r--r-- 1 olga czb  1.2K May 19 08:24  lung_primate_specific_go_enrichment__top_genes_per_group.csv\n",
      "-r--r--r-- 1 olga czb   194 May 19 16:40  lung_primate_specific_go_enrichment__top_genes_per_group.desktop\n",
      "-rw-r--r-- 1 olga czb  7.5M May 22 13:37  mini_adata_30cells_xspecies_at2_macrophage.h5ad\n",
      "-rw-r--r-- 1 olga czb  307M May 13 21:12  mouse_lung__diffexpr_broad_group.h5ad\n",
      "-rw-r--r-- 1 olga czb  307M May 14 12:33  mouse_lung__diffexpr_narrow_group.h5ad\n",
      "-rw-r--r-- 1 olga czb  307M May 13 11:05  mouse_lung_from_tabula-muris-senis__unified_compartments.h5ad\n",
      "-rw-rw-r-- 1 olga czb  373K May 18 15:01  ncbi_mgi_ensembl__mouse-lemur_human_mouse__orthologs__gene_names__one2one.csv\n",
      "-rw-rw-r-- 1 olga czb  1.9G Feb 13 11:27  oma-hogs_copy.orthoXML\n",
      "-rw-r--r-- 1 olga czb  1.9G Feb 13 11:27  oma-hogs.orthoXML\n",
      "-rw-rw-r-- 1 olga czb  166M Feb 13 11:27  oma-hogs.orthoXML.gz\n",
      "-rw-r--r-- 1 olga czb  187K May 18 14:49  random_lung_cells_for_profiling_pyxi.csv\n",
      "-rw-r--r-- 1 olga czb   49K May 18 14:49  random_lung_cells_for_profiling_pyxi.csv.gz\n",
      "drwxr-xr-x 1 olga czb  4.0K May 14 12:47  within-species-de\n"
     ]
    }
   ],
   "source": [
    "from io import StringIO\n",
    "\n",
    "import anndata\n",
    "import pandas as pd\n",
    "import numpy as np\n",
    "import scanpy\n",
    "import scanpy as sc\n",
    "\n",
    "scanpy.settings.verbosity = 3\n",
    "#sc.set_figure_params(dpi=200, dpi_save=300)\n",
    "scanpy.logging.print_versions()\n",
    "scanpy.set_figure_params(frameon=False, color_map='magma_r')\n",
    "\n",
    "outdir = '/home/olga/googledrive/TabulaMicrocebus/data/cross-species'\n",
    "! ls -lha $outdir"
   ]
  },
  {
   "cell_type": "markdown",
   "metadata": {},
   "source": [
    "# Define outdirs"
   ]
  },
  {
   "cell_type": "code",
   "execution_count": 2,
   "metadata": {},
   "outputs": [
    {
     "name": "stdout",
     "output_type": "stream",
     "text": [
      "mkdir: cannot create directory ‘/home/olga/googledrive/TabulaMicrocebus/data/cross-species/within-species-de’: File exists\n",
      "mkdir: cannot create directory ‘/home/olga/data_lg/data_sm_copy/tabula-microcebus/data-objects/cross-species/within-species-de’: File exists\n",
      "total 2.8G\n",
      "drwxr-xr-x  2 olga czb 4.0K May 24 09:02 .\n",
      "drwxrwxr-x 13 olga czb 8.0K May 22 13:37 ..\n",
      "-rw-r--r--  1 olga czb 553M May 24 08:53 lemur_lung__diffexpr_compartment_group__defaults.h5ad\n",
      "-rw-r--r--  1 olga czb 553M May 22 15:58 lemur_lung__diffexpr_compartment_group.h5ad\n",
      "-rw-r--r--  1 olga czb 426M May 24 09:02 lemur_lung__diffexpr_narrow_group__defaults.h5ad\n",
      "-rw-r--r--  1 olga czb 307M May 24 08:53 mouse_lung__diffexpr_broad_group__defaults.h5ad\n",
      "-rw-r--r--  1 olga czb 307M May 23 00:02 mouse_lung__diffexpr_broad_group.h5ad\n",
      "-rw-r--r--  1 olga czb 307M May 24 08:43 mouse_lung__diffexpr_compartment_group__defaults.h5ad\n",
      "-rw-r--r--  1 olga czb 307M May 24 08:49 mouse_lung__diffexpr_narrow_group__defaults.h5ad\n",
      "-rw-r--r--  1 olga czb 307M May 24 08:33 mouse_lung_from_tabula-muris-senis__unified_compartments.h5ad\n"
     ]
    }
   ],
   "source": [
    "outdir_gdrive = '/home/olga/googledrive/TabulaMicrocebus/data/cross-species/within-species-de'\n",
    "outdir_local = '/home/olga/data_lg/data_sm_copy/tabula-microcebus/data-objects/cross-species/within-species-de'\n",
    "! mkdir $outdir_gdrive $outdir_local\n",
    "outdirs = outdir_local, outdir_gdrive\n",
    "!ls -lha $outdir_local"
   ]
  },
  {
   "cell_type": "markdown",
   "metadata": {
    "persistent_id": "804c0873-60e2-4254-8aa0-7406c9aeb4ab"
   },
   "source": [
    "# Load into Scanpy"
   ]
  },
  {
   "cell_type": "markdown",
   "metadata": {
    "persistent_id": "0d104f3a-6c57-4f6d-8089-26f3b358e9aa"
   },
   "source": [
    "## Read preprocessed Human h5ad"
   ]
  },
  {
   "cell_type": "code",
   "execution_count": 3,
   "metadata": {
    "execution_event_id": "b1d30900-ac29-44e5-a525-649acffad373",
    "last_executed_text": "ls -lha $human_folder",
    "persistent_id": "6828dcaf-0c68-4c45-b75c-4eebb5e082da"
   },
   "outputs": [
    {
     "name": "stdout",
     "output_type": "stream",
     "text": [
      "total 24G\n",
      "drwxrwxr-x 1 olga czb 4.0K Dec 13 11:44 .\n",
      "drwxrwxr-x 1 olga czb 4.0K Dec  2 21:43 ..\n",
      "-rw-rw-r-- 1 olga czb 6.5G Dec 14 19:07 droplet_normal_lung_blood_P1-3.h5ad\n",
      "-rw-rw-r-- 1 olga czb  12M Oct 28  2019 droplet_normal_lung_blood_P1-3_metadata.csv\n",
      "-rw-rw-r-- 1 olga czb 3.3G Oct 30  2019 droplet_normal_lung_blood_P1-3_ncbi_GCT.csv\n",
      "-rw-r--r-- 1 olga czb 6.2G May 18 15:15 droplet_normal_lung_blood_P1-3__no_duplicate_barcodes.h5ad\n",
      "-rw-r--r-- 1 olga czb 6.5G May 18 15:11 droplet_normal_lung_blood_P1-3__with_barcode_counts.h5ad\n",
      "-rw-rw-r-- 1 olga czb 1.1G Oct 28  2019 facs_normal_lung_blood_P1-3_gencode_GCT.csv\n",
      "-rw-rw-r-- 1 olga czb 5.7M Oct 28  2019 facs_normal_lung_blood_P1-3_metadata.csv\n"
     ]
    }
   ],
   "source": [
    "human_folder = '/home/olga/googledrive/TabulaMicrocebus/data/human-lung-cell-atlas--from-kyle'\n",
    "! ls -lha $human_folder"
   ]
  },
  {
   "cell_type": "code",
   "execution_count": 4,
   "metadata": {},
   "outputs": [
    {
     "name": "stdout",
     "output_type": "stream",
     "text": [
      "CPU times: user 678 ms, sys: 6.46 s, total: 7.14 s\n",
      "Wall time: 1min 28s\n"
     ]
    },
    {
     "data": {
      "text/plain": [
       "AnnData object with n_obs × n_vars = 65662 × 26485 \n",
       "    obs: 'nGene', 'nUMI', 'orig.ident', 'channel', 'tissue', 'region', 'percent.ribo', 'free_annotation', 'patient', 'sample', 'location', 'magnetic.selection', 'preparation.site', 'compartment', 'species', 'species_latin', 'cell_ontology_class'"
      ]
     },
     "execution_count": 4,
     "metadata": {},
     "output_type": "execute_result"
    }
   ],
   "source": [
    "%%time\n",
    "\n",
    "h5ad = f\"{human_folder}/droplet_normal_lung_blood_P1-3.h5ad\"\n",
    "human = scanpy.read(h5ad, cache=True)\n",
    "human"
   ]
  },
  {
   "cell_type": "markdown",
   "metadata": {},
   "source": [
    "## Subset to lung"
   ]
  },
  {
   "cell_type": "code",
   "execution_count": 5,
   "metadata": {},
   "outputs": [
    {
     "data": {
      "text/plain": [
       "View of AnnData object with n_obs × n_vars = 60993 × 26485 \n",
       "    obs: 'nGene', 'nUMI', 'orig.ident', 'channel', 'tissue', 'region', 'percent.ribo', 'free_annotation', 'patient', 'sample', 'location', 'magnetic.selection', 'preparation.site', 'compartment', 'species', 'species_latin', 'cell_ontology_class'"
      ]
     },
     "execution_count": 5,
     "metadata": {},
     "output_type": "execute_result"
    }
   ],
   "source": [
    "human_lung = human[human.obs.tissue == \"lung\"]\n",
    "human_lung"
   ]
  },
  {
   "cell_type": "markdown",
   "metadata": {},
   "source": [
    "### Look at lemur lung.obs.head()"
   ]
  },
  {
   "cell_type": "code",
   "execution_count": 6,
   "metadata": {},
   "outputs": [
    {
     "data": {
      "text/html": [
       "<div>\n",
       "<style scoped>\n",
       "    .dataframe tbody tr th:only-of-type {\n",
       "        vertical-align: middle;\n",
       "    }\n",
       "\n",
       "    .dataframe tbody tr th {\n",
       "        vertical-align: top;\n",
       "    }\n",
       "\n",
       "    .dataframe thead th {\n",
       "        text-align: right;\n",
       "    }\n",
       "</style>\n",
       "<table border=\"1\" class=\"dataframe\">\n",
       "  <thead>\n",
       "    <tr style=\"text-align: right;\">\n",
       "      <th></th>\n",
       "      <th>nGene</th>\n",
       "      <th>nUMI</th>\n",
       "      <th>orig.ident</th>\n",
       "      <th>channel</th>\n",
       "      <th>tissue</th>\n",
       "      <th>region</th>\n",
       "      <th>percent.ribo</th>\n",
       "      <th>free_annotation</th>\n",
       "      <th>patient</th>\n",
       "      <th>sample</th>\n",
       "      <th>location</th>\n",
       "      <th>magnetic.selection</th>\n",
       "      <th>preparation.site</th>\n",
       "      <th>compartment</th>\n",
       "      <th>species</th>\n",
       "      <th>species_latin</th>\n",
       "      <th>cell_ontology_class</th>\n",
       "    </tr>\n",
       "    <tr>\n",
       "      <th>index</th>\n",
       "      <th></th>\n",
       "      <th></th>\n",
       "      <th></th>\n",
       "      <th></th>\n",
       "      <th></th>\n",
       "      <th></th>\n",
       "      <th></th>\n",
       "      <th></th>\n",
       "      <th></th>\n",
       "      <th></th>\n",
       "      <th></th>\n",
       "      <th></th>\n",
       "      <th></th>\n",
       "      <th></th>\n",
       "      <th></th>\n",
       "      <th></th>\n",
       "      <th></th>\n",
       "    </tr>\n",
       "  </thead>\n",
       "  <tbody>\n",
       "    <tr>\n",
       "      <th>P2_1_AAACCTGAGAAACCAT</th>\n",
       "      <td>1347</td>\n",
       "      <td>2914</td>\n",
       "      <td>Human Lung 10x - Patient 2</td>\n",
       "      <td>P2_1</td>\n",
       "      <td>lung</td>\n",
       "      <td>normal</td>\n",
       "      <td>0.035347</td>\n",
       "      <td>Capillary Aerocyte</td>\n",
       "      <td>2</td>\n",
       "      <td>distal 2</td>\n",
       "      <td>distal</td>\n",
       "      <td>epithelial</td>\n",
       "      <td>biohub</td>\n",
       "      <td>endothelial</td>\n",
       "      <td>Human</td>\n",
       "      <td>Homo sapiens</td>\n",
       "      <td>capillary endothelial cell</td>\n",
       "    </tr>\n",
       "    <tr>\n",
       "      <th>P2_1_AAATGCCAGATGAGAG</th>\n",
       "      <td>1713</td>\n",
       "      <td>4226</td>\n",
       "      <td>Human Lung 10x - Patient 2</td>\n",
       "      <td>P2_1</td>\n",
       "      <td>lung</td>\n",
       "      <td>normal</td>\n",
       "      <td>0.061051</td>\n",
       "      <td>Capillary Aerocyte</td>\n",
       "      <td>2</td>\n",
       "      <td>distal 2</td>\n",
       "      <td>distal</td>\n",
       "      <td>epithelial</td>\n",
       "      <td>biohub</td>\n",
       "      <td>endothelial</td>\n",
       "      <td>Human</td>\n",
       "      <td>Homo sapiens</td>\n",
       "      <td>capillary endothelial cell</td>\n",
       "    </tr>\n",
       "    <tr>\n",
       "      <th>P2_1_AACACGTTCGATCCCT</th>\n",
       "      <td>1185</td>\n",
       "      <td>2152</td>\n",
       "      <td>Human Lung 10x - Patient 2</td>\n",
       "      <td>P2_1</td>\n",
       "      <td>lung</td>\n",
       "      <td>normal</td>\n",
       "      <td>0.048327</td>\n",
       "      <td>Capillary Aerocyte</td>\n",
       "      <td>2</td>\n",
       "      <td>distal 2</td>\n",
       "      <td>distal</td>\n",
       "      <td>epithelial</td>\n",
       "      <td>biohub</td>\n",
       "      <td>endothelial</td>\n",
       "      <td>Human</td>\n",
       "      <td>Homo sapiens</td>\n",
       "      <td>capillary endothelial cell</td>\n",
       "    </tr>\n",
       "    <tr>\n",
       "      <th>P2_1_AACACGTTCGCACTCT</th>\n",
       "      <td>1378</td>\n",
       "      <td>3419</td>\n",
       "      <td>Human Lung 10x - Patient 2</td>\n",
       "      <td>P2_1</td>\n",
       "      <td>lung</td>\n",
       "      <td>normal</td>\n",
       "      <td>0.032758</td>\n",
       "      <td>Capillary Aerocyte</td>\n",
       "      <td>2</td>\n",
       "      <td>distal 2</td>\n",
       "      <td>distal</td>\n",
       "      <td>epithelial</td>\n",
       "      <td>biohub</td>\n",
       "      <td>endothelial</td>\n",
       "      <td>Human</td>\n",
       "      <td>Homo sapiens</td>\n",
       "      <td>capillary endothelial cell</td>\n",
       "    </tr>\n",
       "    <tr>\n",
       "      <th>P2_1_AACCATGCAGCTCGCA</th>\n",
       "      <td>1210</td>\n",
       "      <td>2514</td>\n",
       "      <td>Human Lung 10x - Patient 2</td>\n",
       "      <td>P2_1</td>\n",
       "      <td>lung</td>\n",
       "      <td>normal</td>\n",
       "      <td>0.050119</td>\n",
       "      <td>Capillary Aerocyte</td>\n",
       "      <td>2</td>\n",
       "      <td>distal 2</td>\n",
       "      <td>distal</td>\n",
       "      <td>epithelial</td>\n",
       "      <td>biohub</td>\n",
       "      <td>endothelial</td>\n",
       "      <td>Human</td>\n",
       "      <td>Homo sapiens</td>\n",
       "      <td>capillary endothelial cell</td>\n",
       "    </tr>\n",
       "  </tbody>\n",
       "</table>\n",
       "</div>"
      ],
      "text/plain": [
       "                       nGene  nUMI                  orig.ident channel tissue  \\\n",
       "index                                                                           \n",
       "P2_1_AAACCTGAGAAACCAT   1347  2914  Human Lung 10x - Patient 2    P2_1   lung   \n",
       "P2_1_AAATGCCAGATGAGAG   1713  4226  Human Lung 10x - Patient 2    P2_1   lung   \n",
       "P2_1_AACACGTTCGATCCCT   1185  2152  Human Lung 10x - Patient 2    P2_1   lung   \n",
       "P2_1_AACACGTTCGCACTCT   1378  3419  Human Lung 10x - Patient 2    P2_1   lung   \n",
       "P2_1_AACCATGCAGCTCGCA   1210  2514  Human Lung 10x - Patient 2    P2_1   lung   \n",
       "\n",
       "                       region  percent.ribo     free_annotation  patient  \\\n",
       "index                                                                      \n",
       "P2_1_AAACCTGAGAAACCAT  normal      0.035347  Capillary Aerocyte        2   \n",
       "P2_1_AAATGCCAGATGAGAG  normal      0.061051  Capillary Aerocyte        2   \n",
       "P2_1_AACACGTTCGATCCCT  normal      0.048327  Capillary Aerocyte        2   \n",
       "P2_1_AACACGTTCGCACTCT  normal      0.032758  Capillary Aerocyte        2   \n",
       "P2_1_AACCATGCAGCTCGCA  normal      0.050119  Capillary Aerocyte        2   \n",
       "\n",
       "                         sample location magnetic.selection preparation.site  \\\n",
       "index                                                                          \n",
       "P2_1_AAACCTGAGAAACCAT  distal 2   distal         epithelial           biohub   \n",
       "P2_1_AAATGCCAGATGAGAG  distal 2   distal         epithelial           biohub   \n",
       "P2_1_AACACGTTCGATCCCT  distal 2   distal         epithelial           biohub   \n",
       "P2_1_AACACGTTCGCACTCT  distal 2   distal         epithelial           biohub   \n",
       "P2_1_AACCATGCAGCTCGCA  distal 2   distal         epithelial           biohub   \n",
       "\n",
       "                       compartment species species_latin  \\\n",
       "index                                                      \n",
       "P2_1_AAACCTGAGAAACCAT  endothelial   Human  Homo sapiens   \n",
       "P2_1_AAATGCCAGATGAGAG  endothelial   Human  Homo sapiens   \n",
       "P2_1_AACACGTTCGATCCCT  endothelial   Human  Homo sapiens   \n",
       "P2_1_AACACGTTCGCACTCT  endothelial   Human  Homo sapiens   \n",
       "P2_1_AACCATGCAGCTCGCA  endothelial   Human  Homo sapiens   \n",
       "\n",
       "                              cell_ontology_class  \n",
       "index                                              \n",
       "P2_1_AAACCTGAGAAACCAT  capillary endothelial cell  \n",
       "P2_1_AAATGCCAGATGAGAG  capillary endothelial cell  \n",
       "P2_1_AACACGTTCGATCCCT  capillary endothelial cell  \n",
       "P2_1_AACACGTTCGCACTCT  capillary endothelial cell  \n",
       "P2_1_AACCATGCAGCTCGCA  capillary endothelial cell  "
      ]
     },
     "execution_count": 6,
     "metadata": {},
     "output_type": "execute_result"
    }
   ],
   "source": [
    "human_lung.obs.head()"
   ]
  },
  {
   "cell_type": "markdown",
   "metadata": {},
   "source": [
    "## Read all species object with unified compartments"
   ]
  },
  {
   "cell_type": "code",
   "execution_count": 16,
   "metadata": {},
   "outputs": [
    {
     "name": "stdout",
     "output_type": "stream",
     "text": [
      "CPU times: user 773 ms, sys: 967 ms, total: 1.74 s\n",
      "Wall time: 5.42 s\n"
     ]
    },
    {
     "data": {
      "text/plain": [
       "AnnData object with n_obs × n_vars = 118089 × 11970 \n",
       "    obs: 'age', 'batch', 'cell', 'cell_barcode', 'cell_ontology_class', 'cell_ontology_id', 'channel', 'channel_no_10x', 'channel_tissue', 'compartment', 'compartment_id', 'free_annotation', 'individual', 'location', 'magnetic.selection', 'method', 'mouse.id', 'nGene', 'nUMI', 'n_barcodes', 'n_counts', 'n_genes', 'orig.ident', 'original_channel', 'patient', 'percent.ribo', 'possibly_contaminated_barcode', 'preparation.site', 'region', 'sample', 'sequencing_run', 'sex', 'species', 'species_batch', 'species_latin', 'subtissue', 'tissue', 'tissue_free_annotation', 'compartment_updated_from_human', 'compartment_updated_from_human__with_species', 'compartment_updated_from_lemur', 'compartment_updated_from_lemur__with_species', 'narrow_group', 'broad_group', 'compartment_group'\n",
       "    var: 'mouse_lemur__gene_name', 'mouse_lemur_to_human__homology_type', 'human_to_mouse__homology_type', 'mouse__gene_name', 'gene_ids-lemur', 'n_cells-mouse'"
      ]
     },
     "execution_count": 16,
     "metadata": {},
     "output_type": "execute_result"
    }
   ],
   "source": [
    "%%time\n",
    "h5ad = f'{outdir}/concatenated__human-lung--lemur-lung--mouse-lung__10x__one2one_orthologs__unified_compartments.h5ad'\n",
    "adata = scanpy.read_h5ad(h5ad)\n",
    "adata"
   ]
  },
  {
   "cell_type": "markdown",
   "metadata": {},
   "source": [
    "### Look at adata.obs.head()"
   ]
  },
  {
   "cell_type": "code",
   "execution_count": 17,
   "metadata": {},
   "outputs": [
    {
     "data": {
      "text/html": [
       "<div>\n",
       "<style scoped>\n",
       "    .dataframe tbody tr th:only-of-type {\n",
       "        vertical-align: middle;\n",
       "    }\n",
       "\n",
       "    .dataframe tbody tr th {\n",
       "        vertical-align: top;\n",
       "    }\n",
       "\n",
       "    .dataframe thead th {\n",
       "        text-align: right;\n",
       "    }\n",
       "</style>\n",
       "<table border=\"1\" class=\"dataframe\">\n",
       "  <thead>\n",
       "    <tr style=\"text-align: right;\">\n",
       "      <th></th>\n",
       "      <th>age</th>\n",
       "      <th>batch</th>\n",
       "      <th>cell</th>\n",
       "      <th>cell_barcode</th>\n",
       "      <th>cell_ontology_class</th>\n",
       "      <th>cell_ontology_id</th>\n",
       "      <th>channel</th>\n",
       "      <th>channel_no_10x</th>\n",
       "      <th>channel_tissue</th>\n",
       "      <th>compartment</th>\n",
       "      <th>...</th>\n",
       "      <th>subtissue</th>\n",
       "      <th>tissue</th>\n",
       "      <th>tissue_free_annotation</th>\n",
       "      <th>compartment_updated_from_human</th>\n",
       "      <th>compartment_updated_from_human__with_species</th>\n",
       "      <th>compartment_updated_from_lemur</th>\n",
       "      <th>compartment_updated_from_lemur__with_species</th>\n",
       "      <th>narrow_group</th>\n",
       "      <th>broad_group</th>\n",
       "      <th>compartment_group</th>\n",
       "    </tr>\n",
       "  </thead>\n",
       "  <tbody>\n",
       "    <tr>\n",
       "      <th>P2_1_AAACCTGAGAAACCAT-human</th>\n",
       "      <td>NaN</td>\n",
       "      <td>NaN</td>\n",
       "      <td>NaN</td>\n",
       "      <td>AAACCTGAGAAACCAT</td>\n",
       "      <td>capillary endothelial cell</td>\n",
       "      <td>NaN</td>\n",
       "      <td>P2_1</td>\n",
       "      <td>NaN</td>\n",
       "      <td>NaN</td>\n",
       "      <td>endothelial</td>\n",
       "      <td>...</td>\n",
       "      <td>NaN</td>\n",
       "      <td>Lung</td>\n",
       "      <td>NaN</td>\n",
       "      <td>endothelial</td>\n",
       "      <td>endothelial (Human)</td>\n",
       "      <td>endothelial</td>\n",
       "      <td>endothelial (Human)</td>\n",
       "      <td>Capillary Aerocyte</td>\n",
       "      <td>Capillary</td>\n",
       "      <td>endothelial</td>\n",
       "    </tr>\n",
       "    <tr>\n",
       "      <th>P2_1_AAATGCCAGATGAGAG-human</th>\n",
       "      <td>NaN</td>\n",
       "      <td>NaN</td>\n",
       "      <td>NaN</td>\n",
       "      <td>AAATGCCAGATGAGAG</td>\n",
       "      <td>capillary endothelial cell</td>\n",
       "      <td>NaN</td>\n",
       "      <td>P2_1</td>\n",
       "      <td>NaN</td>\n",
       "      <td>NaN</td>\n",
       "      <td>endothelial</td>\n",
       "      <td>...</td>\n",
       "      <td>NaN</td>\n",
       "      <td>Lung</td>\n",
       "      <td>NaN</td>\n",
       "      <td>endothelial</td>\n",
       "      <td>endothelial (Human)</td>\n",
       "      <td>endothelial</td>\n",
       "      <td>endothelial (Human)</td>\n",
       "      <td>Capillary Aerocyte</td>\n",
       "      <td>Capillary</td>\n",
       "      <td>endothelial</td>\n",
       "    </tr>\n",
       "    <tr>\n",
       "      <th>P2_1_AACACGTTCGATCCCT-human</th>\n",
       "      <td>NaN</td>\n",
       "      <td>NaN</td>\n",
       "      <td>NaN</td>\n",
       "      <td>AACACGTTCGATCCCT</td>\n",
       "      <td>capillary endothelial cell</td>\n",
       "      <td>NaN</td>\n",
       "      <td>P2_1</td>\n",
       "      <td>NaN</td>\n",
       "      <td>NaN</td>\n",
       "      <td>endothelial</td>\n",
       "      <td>...</td>\n",
       "      <td>NaN</td>\n",
       "      <td>Lung</td>\n",
       "      <td>NaN</td>\n",
       "      <td>endothelial</td>\n",
       "      <td>endothelial (Human)</td>\n",
       "      <td>endothelial</td>\n",
       "      <td>endothelial (Human)</td>\n",
       "      <td>Capillary Aerocyte</td>\n",
       "      <td>Capillary</td>\n",
       "      <td>endothelial</td>\n",
       "    </tr>\n",
       "    <tr>\n",
       "      <th>P2_1_AACACGTTCGCACTCT-human</th>\n",
       "      <td>NaN</td>\n",
       "      <td>NaN</td>\n",
       "      <td>NaN</td>\n",
       "      <td>AACACGTTCGCACTCT</td>\n",
       "      <td>capillary endothelial cell</td>\n",
       "      <td>NaN</td>\n",
       "      <td>P2_1</td>\n",
       "      <td>NaN</td>\n",
       "      <td>NaN</td>\n",
       "      <td>endothelial</td>\n",
       "      <td>...</td>\n",
       "      <td>NaN</td>\n",
       "      <td>Lung</td>\n",
       "      <td>NaN</td>\n",
       "      <td>endothelial</td>\n",
       "      <td>endothelial (Human)</td>\n",
       "      <td>endothelial</td>\n",
       "      <td>endothelial (Human)</td>\n",
       "      <td>Capillary Aerocyte</td>\n",
       "      <td>Capillary</td>\n",
       "      <td>endothelial</td>\n",
       "    </tr>\n",
       "    <tr>\n",
       "      <th>P2_1_AACCATGCAGCTCGCA-human</th>\n",
       "      <td>NaN</td>\n",
       "      <td>NaN</td>\n",
       "      <td>NaN</td>\n",
       "      <td>AACCATGCAGCTCGCA</td>\n",
       "      <td>capillary endothelial cell</td>\n",
       "      <td>NaN</td>\n",
       "      <td>P2_1</td>\n",
       "      <td>NaN</td>\n",
       "      <td>NaN</td>\n",
       "      <td>endothelial</td>\n",
       "      <td>...</td>\n",
       "      <td>NaN</td>\n",
       "      <td>Lung</td>\n",
       "      <td>NaN</td>\n",
       "      <td>endothelial</td>\n",
       "      <td>endothelial (Human)</td>\n",
       "      <td>endothelial</td>\n",
       "      <td>endothelial (Human)</td>\n",
       "      <td>Capillary Aerocyte</td>\n",
       "      <td>Capillary</td>\n",
       "      <td>endothelial</td>\n",
       "    </tr>\n",
       "  </tbody>\n",
       "</table>\n",
       "<p>5 rows × 45 columns</p>\n",
       "</div>"
      ],
      "text/plain": [
       "                             age batch cell      cell_barcode  \\\n",
       "P2_1_AAACCTGAGAAACCAT-human  NaN   NaN  NaN  AAACCTGAGAAACCAT   \n",
       "P2_1_AAATGCCAGATGAGAG-human  NaN   NaN  NaN  AAATGCCAGATGAGAG   \n",
       "P2_1_AACACGTTCGATCCCT-human  NaN   NaN  NaN  AACACGTTCGATCCCT   \n",
       "P2_1_AACACGTTCGCACTCT-human  NaN   NaN  NaN  AACACGTTCGCACTCT   \n",
       "P2_1_AACCATGCAGCTCGCA-human  NaN   NaN  NaN  AACCATGCAGCTCGCA   \n",
       "\n",
       "                                    cell_ontology_class cell_ontology_id  \\\n",
       "P2_1_AAACCTGAGAAACCAT-human  capillary endothelial cell              NaN   \n",
       "P2_1_AAATGCCAGATGAGAG-human  capillary endothelial cell              NaN   \n",
       "P2_1_AACACGTTCGATCCCT-human  capillary endothelial cell              NaN   \n",
       "P2_1_AACACGTTCGCACTCT-human  capillary endothelial cell              NaN   \n",
       "P2_1_AACCATGCAGCTCGCA-human  capillary endothelial cell              NaN   \n",
       "\n",
       "                            channel channel_no_10x channel_tissue  \\\n",
       "P2_1_AAACCTGAGAAACCAT-human    P2_1            NaN            NaN   \n",
       "P2_1_AAATGCCAGATGAGAG-human    P2_1            NaN            NaN   \n",
       "P2_1_AACACGTTCGATCCCT-human    P2_1            NaN            NaN   \n",
       "P2_1_AACACGTTCGCACTCT-human    P2_1            NaN            NaN   \n",
       "P2_1_AACCATGCAGCTCGCA-human    P2_1            NaN            NaN   \n",
       "\n",
       "                             compartment  ... subtissue tissue  \\\n",
       "P2_1_AAACCTGAGAAACCAT-human  endothelial  ...       NaN   Lung   \n",
       "P2_1_AAATGCCAGATGAGAG-human  endothelial  ...       NaN   Lung   \n",
       "P2_1_AACACGTTCGATCCCT-human  endothelial  ...       NaN   Lung   \n",
       "P2_1_AACACGTTCGCACTCT-human  endothelial  ...       NaN   Lung   \n",
       "P2_1_AACCATGCAGCTCGCA-human  endothelial  ...       NaN   Lung   \n",
       "\n",
       "                            tissue_free_annotation  \\\n",
       "P2_1_AAACCTGAGAAACCAT-human                    NaN   \n",
       "P2_1_AAATGCCAGATGAGAG-human                    NaN   \n",
       "P2_1_AACACGTTCGATCCCT-human                    NaN   \n",
       "P2_1_AACACGTTCGCACTCT-human                    NaN   \n",
       "P2_1_AACCATGCAGCTCGCA-human                    NaN   \n",
       "\n",
       "                            compartment_updated_from_human  \\\n",
       "P2_1_AAACCTGAGAAACCAT-human                    endothelial   \n",
       "P2_1_AAATGCCAGATGAGAG-human                    endothelial   \n",
       "P2_1_AACACGTTCGATCCCT-human                    endothelial   \n",
       "P2_1_AACACGTTCGCACTCT-human                    endothelial   \n",
       "P2_1_AACCATGCAGCTCGCA-human                    endothelial   \n",
       "\n",
       "                            compartment_updated_from_human__with_species  \\\n",
       "P2_1_AAACCTGAGAAACCAT-human                          endothelial (Human)   \n",
       "P2_1_AAATGCCAGATGAGAG-human                          endothelial (Human)   \n",
       "P2_1_AACACGTTCGATCCCT-human                          endothelial (Human)   \n",
       "P2_1_AACACGTTCGCACTCT-human                          endothelial (Human)   \n",
       "P2_1_AACCATGCAGCTCGCA-human                          endothelial (Human)   \n",
       "\n",
       "                            compartment_updated_from_lemur  \\\n",
       "P2_1_AAACCTGAGAAACCAT-human                    endothelial   \n",
       "P2_1_AAATGCCAGATGAGAG-human                    endothelial   \n",
       "P2_1_AACACGTTCGATCCCT-human                    endothelial   \n",
       "P2_1_AACACGTTCGCACTCT-human                    endothelial   \n",
       "P2_1_AACCATGCAGCTCGCA-human                    endothelial   \n",
       "\n",
       "                            compartment_updated_from_lemur__with_species  \\\n",
       "P2_1_AAACCTGAGAAACCAT-human                          endothelial (Human)   \n",
       "P2_1_AAATGCCAGATGAGAG-human                          endothelial (Human)   \n",
       "P2_1_AACACGTTCGATCCCT-human                          endothelial (Human)   \n",
       "P2_1_AACACGTTCGCACTCT-human                          endothelial (Human)   \n",
       "P2_1_AACCATGCAGCTCGCA-human                          endothelial (Human)   \n",
       "\n",
       "                                   narrow_group  broad_group  \\\n",
       "P2_1_AAACCTGAGAAACCAT-human  Capillary Aerocyte    Capillary   \n",
       "P2_1_AAATGCCAGATGAGAG-human  Capillary Aerocyte    Capillary   \n",
       "P2_1_AACACGTTCGATCCCT-human  Capillary Aerocyte    Capillary   \n",
       "P2_1_AACACGTTCGCACTCT-human  Capillary Aerocyte    Capillary   \n",
       "P2_1_AACCATGCAGCTCGCA-human  Capillary Aerocyte    Capillary   \n",
       "\n",
       "                             compartment_group  \n",
       "P2_1_AAACCTGAGAAACCAT-human        endothelial  \n",
       "P2_1_AAATGCCAGATGAGAG-human        endothelial  \n",
       "P2_1_AACACGTTCGATCCCT-human        endothelial  \n",
       "P2_1_AACACGTTCGCACTCT-human        endothelial  \n",
       "P2_1_AACCATGCAGCTCGCA-human        endothelial  \n",
       "\n",
       "[5 rows x 45 columns]"
      ]
     },
     "execution_count": 17,
     "metadata": {},
     "output_type": "execute_result"
    }
   ],
   "source": [
    "adata.obs.head()"
   ]
  },
  {
   "cell_type": "markdown",
   "metadata": {},
   "source": [
    "### Remove \"-human\" from combined annotations"
   ]
  },
  {
   "cell_type": "code",
   "execution_count": 18,
   "metadata": {},
   "outputs": [
    {
     "data": {
      "text/html": [
       "<div>\n",
       "<style scoped>\n",
       "    .dataframe tbody tr th:only-of-type {\n",
       "        vertical-align: middle;\n",
       "    }\n",
       "\n",
       "    .dataframe tbody tr th {\n",
       "        vertical-align: top;\n",
       "    }\n",
       "\n",
       "    .dataframe thead th {\n",
       "        text-align: right;\n",
       "    }\n",
       "</style>\n",
       "<table border=\"1\" class=\"dataframe\">\n",
       "  <thead>\n",
       "    <tr style=\"text-align: right;\">\n",
       "      <th></th>\n",
       "      <th>age</th>\n",
       "      <th>batch</th>\n",
       "      <th>cell</th>\n",
       "      <th>cell_barcode</th>\n",
       "      <th>cell_ontology_class</th>\n",
       "      <th>cell_ontology_id</th>\n",
       "      <th>channel</th>\n",
       "      <th>channel_no_10x</th>\n",
       "      <th>channel_tissue</th>\n",
       "      <th>compartment</th>\n",
       "      <th>...</th>\n",
       "      <th>subtissue</th>\n",
       "      <th>tissue</th>\n",
       "      <th>tissue_free_annotation</th>\n",
       "      <th>compartment_updated_from_human</th>\n",
       "      <th>compartment_updated_from_human__with_species</th>\n",
       "      <th>compartment_updated_from_lemur</th>\n",
       "      <th>compartment_updated_from_lemur__with_species</th>\n",
       "      <th>narrow_group</th>\n",
       "      <th>broad_group</th>\n",
       "      <th>compartment_group</th>\n",
       "    </tr>\n",
       "  </thead>\n",
       "  <tbody>\n",
       "    <tr>\n",
       "      <th>P2_1_AAACCTGAGAAACCAT</th>\n",
       "      <td>NaN</td>\n",
       "      <td>NaN</td>\n",
       "      <td>NaN</td>\n",
       "      <td>AAACCTGAGAAACCAT</td>\n",
       "      <td>capillary endothelial cell</td>\n",
       "      <td>NaN</td>\n",
       "      <td>P2_1</td>\n",
       "      <td>NaN</td>\n",
       "      <td>NaN</td>\n",
       "      <td>endothelial</td>\n",
       "      <td>...</td>\n",
       "      <td>NaN</td>\n",
       "      <td>Lung</td>\n",
       "      <td>NaN</td>\n",
       "      <td>endothelial</td>\n",
       "      <td>endothelial (Human)</td>\n",
       "      <td>endothelial</td>\n",
       "      <td>endothelial (Human)</td>\n",
       "      <td>Capillary Aerocyte</td>\n",
       "      <td>Capillary</td>\n",
       "      <td>endothelial</td>\n",
       "    </tr>\n",
       "    <tr>\n",
       "      <th>P2_1_AAATGCCAGATGAGAG</th>\n",
       "      <td>NaN</td>\n",
       "      <td>NaN</td>\n",
       "      <td>NaN</td>\n",
       "      <td>AAATGCCAGATGAGAG</td>\n",
       "      <td>capillary endothelial cell</td>\n",
       "      <td>NaN</td>\n",
       "      <td>P2_1</td>\n",
       "      <td>NaN</td>\n",
       "      <td>NaN</td>\n",
       "      <td>endothelial</td>\n",
       "      <td>...</td>\n",
       "      <td>NaN</td>\n",
       "      <td>Lung</td>\n",
       "      <td>NaN</td>\n",
       "      <td>endothelial</td>\n",
       "      <td>endothelial (Human)</td>\n",
       "      <td>endothelial</td>\n",
       "      <td>endothelial (Human)</td>\n",
       "      <td>Capillary Aerocyte</td>\n",
       "      <td>Capillary</td>\n",
       "      <td>endothelial</td>\n",
       "    </tr>\n",
       "    <tr>\n",
       "      <th>P2_1_AACACGTTCGATCCCT</th>\n",
       "      <td>NaN</td>\n",
       "      <td>NaN</td>\n",
       "      <td>NaN</td>\n",
       "      <td>AACACGTTCGATCCCT</td>\n",
       "      <td>capillary endothelial cell</td>\n",
       "      <td>NaN</td>\n",
       "      <td>P2_1</td>\n",
       "      <td>NaN</td>\n",
       "      <td>NaN</td>\n",
       "      <td>endothelial</td>\n",
       "      <td>...</td>\n",
       "      <td>NaN</td>\n",
       "      <td>Lung</td>\n",
       "      <td>NaN</td>\n",
       "      <td>endothelial</td>\n",
       "      <td>endothelial (Human)</td>\n",
       "      <td>endothelial</td>\n",
       "      <td>endothelial (Human)</td>\n",
       "      <td>Capillary Aerocyte</td>\n",
       "      <td>Capillary</td>\n",
       "      <td>endothelial</td>\n",
       "    </tr>\n",
       "    <tr>\n",
       "      <th>P2_1_AACACGTTCGCACTCT</th>\n",
       "      <td>NaN</td>\n",
       "      <td>NaN</td>\n",
       "      <td>NaN</td>\n",
       "      <td>AACACGTTCGCACTCT</td>\n",
       "      <td>capillary endothelial cell</td>\n",
       "      <td>NaN</td>\n",
       "      <td>P2_1</td>\n",
       "      <td>NaN</td>\n",
       "      <td>NaN</td>\n",
       "      <td>endothelial</td>\n",
       "      <td>...</td>\n",
       "      <td>NaN</td>\n",
       "      <td>Lung</td>\n",
       "      <td>NaN</td>\n",
       "      <td>endothelial</td>\n",
       "      <td>endothelial (Human)</td>\n",
       "      <td>endothelial</td>\n",
       "      <td>endothelial (Human)</td>\n",
       "      <td>Capillary Aerocyte</td>\n",
       "      <td>Capillary</td>\n",
       "      <td>endothelial</td>\n",
       "    </tr>\n",
       "    <tr>\n",
       "      <th>P2_1_AACCATGCAGCTCGCA</th>\n",
       "      <td>NaN</td>\n",
       "      <td>NaN</td>\n",
       "      <td>NaN</td>\n",
       "      <td>AACCATGCAGCTCGCA</td>\n",
       "      <td>capillary endothelial cell</td>\n",
       "      <td>NaN</td>\n",
       "      <td>P2_1</td>\n",
       "      <td>NaN</td>\n",
       "      <td>NaN</td>\n",
       "      <td>endothelial</td>\n",
       "      <td>...</td>\n",
       "      <td>NaN</td>\n",
       "      <td>Lung</td>\n",
       "      <td>NaN</td>\n",
       "      <td>endothelial</td>\n",
       "      <td>endothelial (Human)</td>\n",
       "      <td>endothelial</td>\n",
       "      <td>endothelial (Human)</td>\n",
       "      <td>Capillary Aerocyte</td>\n",
       "      <td>Capillary</td>\n",
       "      <td>endothelial</td>\n",
       "    </tr>\n",
       "  </tbody>\n",
       "</table>\n",
       "<p>5 rows × 45 columns</p>\n",
       "</div>"
      ],
      "text/plain": [
       "                       age batch cell      cell_barcode  \\\n",
       "P2_1_AAACCTGAGAAACCAT  NaN   NaN  NaN  AAACCTGAGAAACCAT   \n",
       "P2_1_AAATGCCAGATGAGAG  NaN   NaN  NaN  AAATGCCAGATGAGAG   \n",
       "P2_1_AACACGTTCGATCCCT  NaN   NaN  NaN  AACACGTTCGATCCCT   \n",
       "P2_1_AACACGTTCGCACTCT  NaN   NaN  NaN  AACACGTTCGCACTCT   \n",
       "P2_1_AACCATGCAGCTCGCA  NaN   NaN  NaN  AACCATGCAGCTCGCA   \n",
       "\n",
       "                              cell_ontology_class cell_ontology_id channel  \\\n",
       "P2_1_AAACCTGAGAAACCAT  capillary endothelial cell              NaN    P2_1   \n",
       "P2_1_AAATGCCAGATGAGAG  capillary endothelial cell              NaN    P2_1   \n",
       "P2_1_AACACGTTCGATCCCT  capillary endothelial cell              NaN    P2_1   \n",
       "P2_1_AACACGTTCGCACTCT  capillary endothelial cell              NaN    P2_1   \n",
       "P2_1_AACCATGCAGCTCGCA  capillary endothelial cell              NaN    P2_1   \n",
       "\n",
       "                      channel_no_10x channel_tissue  compartment  ...  \\\n",
       "P2_1_AAACCTGAGAAACCAT            NaN            NaN  endothelial  ...   \n",
       "P2_1_AAATGCCAGATGAGAG            NaN            NaN  endothelial  ...   \n",
       "P2_1_AACACGTTCGATCCCT            NaN            NaN  endothelial  ...   \n",
       "P2_1_AACACGTTCGCACTCT            NaN            NaN  endothelial  ...   \n",
       "P2_1_AACCATGCAGCTCGCA            NaN            NaN  endothelial  ...   \n",
       "\n",
       "                      subtissue tissue tissue_free_annotation  \\\n",
       "P2_1_AAACCTGAGAAACCAT       NaN   Lung                    NaN   \n",
       "P2_1_AAATGCCAGATGAGAG       NaN   Lung                    NaN   \n",
       "P2_1_AACACGTTCGATCCCT       NaN   Lung                    NaN   \n",
       "P2_1_AACACGTTCGCACTCT       NaN   Lung                    NaN   \n",
       "P2_1_AACCATGCAGCTCGCA       NaN   Lung                    NaN   \n",
       "\n",
       "                      compartment_updated_from_human  \\\n",
       "P2_1_AAACCTGAGAAACCAT                    endothelial   \n",
       "P2_1_AAATGCCAGATGAGAG                    endothelial   \n",
       "P2_1_AACACGTTCGATCCCT                    endothelial   \n",
       "P2_1_AACACGTTCGCACTCT                    endothelial   \n",
       "P2_1_AACCATGCAGCTCGCA                    endothelial   \n",
       "\n",
       "                      compartment_updated_from_human__with_species  \\\n",
       "P2_1_AAACCTGAGAAACCAT                          endothelial (Human)   \n",
       "P2_1_AAATGCCAGATGAGAG                          endothelial (Human)   \n",
       "P2_1_AACACGTTCGATCCCT                          endothelial (Human)   \n",
       "P2_1_AACACGTTCGCACTCT                          endothelial (Human)   \n",
       "P2_1_AACCATGCAGCTCGCA                          endothelial (Human)   \n",
       "\n",
       "                      compartment_updated_from_lemur  \\\n",
       "P2_1_AAACCTGAGAAACCAT                    endothelial   \n",
       "P2_1_AAATGCCAGATGAGAG                    endothelial   \n",
       "P2_1_AACACGTTCGATCCCT                    endothelial   \n",
       "P2_1_AACACGTTCGCACTCT                    endothelial   \n",
       "P2_1_AACCATGCAGCTCGCA                    endothelial   \n",
       "\n",
       "                      compartment_updated_from_lemur__with_species  \\\n",
       "P2_1_AAACCTGAGAAACCAT                          endothelial (Human)   \n",
       "P2_1_AAATGCCAGATGAGAG                          endothelial (Human)   \n",
       "P2_1_AACACGTTCGATCCCT                          endothelial (Human)   \n",
       "P2_1_AACACGTTCGCACTCT                          endothelial (Human)   \n",
       "P2_1_AACCATGCAGCTCGCA                          endothelial (Human)   \n",
       "\n",
       "                             narrow_group  broad_group  compartment_group  \n",
       "P2_1_AAACCTGAGAAACCAT  Capillary Aerocyte    Capillary        endothelial  \n",
       "P2_1_AAATGCCAGATGAGAG  Capillary Aerocyte    Capillary        endothelial  \n",
       "P2_1_AACACGTTCGATCCCT  Capillary Aerocyte    Capillary        endothelial  \n",
       "P2_1_AACACGTTCGCACTCT  Capillary Aerocyte    Capillary        endothelial  \n",
       "P2_1_AACCATGCAGCTCGCA  Capillary Aerocyte    Capillary        endothelial  \n",
       "\n",
       "[5 rows x 45 columns]"
      ]
     },
     "execution_count": 18,
     "metadata": {},
     "output_type": "execute_result"
    }
   ],
   "source": [
    "obs_from_concatenated = adata.obs.query('species_batch == \"human\"')\n",
    "obs_from_concatenated.index = obs_from_concatenated.index.str.split('-human').str[0]\n",
    "obs_from_concatenated.head()"
   ]
  },
  {
   "cell_type": "markdown",
   "metadata": {},
   "source": [
    "## Add unified compartments"
   ]
  },
  {
   "cell_type": "code",
   "execution_count": 19,
   "metadata": {},
   "outputs": [],
   "source": [
    "unified_cols = ['narrow_group', 'broad_group', 'compartment_group']"
   ]
  },
  {
   "cell_type": "code",
   "execution_count": 20,
   "metadata": {},
   "outputs": [
    {
     "data": {
      "text/html": [
       "<div>\n",
       "<style scoped>\n",
       "    .dataframe tbody tr th:only-of-type {\n",
       "        vertical-align: middle;\n",
       "    }\n",
       "\n",
       "    .dataframe tbody tr th {\n",
       "        vertical-align: top;\n",
       "    }\n",
       "\n",
       "    .dataframe thead th {\n",
       "        text-align: right;\n",
       "    }\n",
       "</style>\n",
       "<table border=\"1\" class=\"dataframe\">\n",
       "  <thead>\n",
       "    <tr style=\"text-align: right;\">\n",
       "      <th></th>\n",
       "      <th>nGene</th>\n",
       "      <th>nUMI</th>\n",
       "      <th>orig.ident</th>\n",
       "      <th>channel</th>\n",
       "      <th>tissue</th>\n",
       "      <th>region</th>\n",
       "      <th>percent.ribo</th>\n",
       "      <th>free_annotation</th>\n",
       "      <th>patient</th>\n",
       "      <th>sample</th>\n",
       "      <th>location</th>\n",
       "      <th>magnetic.selection</th>\n",
       "      <th>preparation.site</th>\n",
       "      <th>compartment</th>\n",
       "      <th>species</th>\n",
       "      <th>species_latin</th>\n",
       "      <th>cell_ontology_class</th>\n",
       "      <th>narrow_group</th>\n",
       "      <th>broad_group</th>\n",
       "      <th>compartment_group</th>\n",
       "    </tr>\n",
       "    <tr>\n",
       "      <th>index</th>\n",
       "      <th></th>\n",
       "      <th></th>\n",
       "      <th></th>\n",
       "      <th></th>\n",
       "      <th></th>\n",
       "      <th></th>\n",
       "      <th></th>\n",
       "      <th></th>\n",
       "      <th></th>\n",
       "      <th></th>\n",
       "      <th></th>\n",
       "      <th></th>\n",
       "      <th></th>\n",
       "      <th></th>\n",
       "      <th></th>\n",
       "      <th></th>\n",
       "      <th></th>\n",
       "      <th></th>\n",
       "      <th></th>\n",
       "      <th></th>\n",
       "    </tr>\n",
       "  </thead>\n",
       "  <tbody>\n",
       "    <tr>\n",
       "      <th>P2_1_AAACCTGAGAAACCAT</th>\n",
       "      <td>1347</td>\n",
       "      <td>2914</td>\n",
       "      <td>Human Lung 10x - Patient 2</td>\n",
       "      <td>P2_1</td>\n",
       "      <td>lung</td>\n",
       "      <td>normal</td>\n",
       "      <td>0.035347</td>\n",
       "      <td>Capillary Aerocyte</td>\n",
       "      <td>2</td>\n",
       "      <td>distal 2</td>\n",
       "      <td>distal</td>\n",
       "      <td>epithelial</td>\n",
       "      <td>biohub</td>\n",
       "      <td>endothelial</td>\n",
       "      <td>Human</td>\n",
       "      <td>Homo sapiens</td>\n",
       "      <td>capillary endothelial cell</td>\n",
       "      <td>Capillary Aerocyte</td>\n",
       "      <td>Capillary</td>\n",
       "      <td>endothelial</td>\n",
       "    </tr>\n",
       "    <tr>\n",
       "      <th>P2_1_AAATGCCAGATGAGAG</th>\n",
       "      <td>1713</td>\n",
       "      <td>4226</td>\n",
       "      <td>Human Lung 10x - Patient 2</td>\n",
       "      <td>P2_1</td>\n",
       "      <td>lung</td>\n",
       "      <td>normal</td>\n",
       "      <td>0.061051</td>\n",
       "      <td>Capillary Aerocyte</td>\n",
       "      <td>2</td>\n",
       "      <td>distal 2</td>\n",
       "      <td>distal</td>\n",
       "      <td>epithelial</td>\n",
       "      <td>biohub</td>\n",
       "      <td>endothelial</td>\n",
       "      <td>Human</td>\n",
       "      <td>Homo sapiens</td>\n",
       "      <td>capillary endothelial cell</td>\n",
       "      <td>Capillary Aerocyte</td>\n",
       "      <td>Capillary</td>\n",
       "      <td>endothelial</td>\n",
       "    </tr>\n",
       "    <tr>\n",
       "      <th>P2_1_AACACGTTCGATCCCT</th>\n",
       "      <td>1185</td>\n",
       "      <td>2152</td>\n",
       "      <td>Human Lung 10x - Patient 2</td>\n",
       "      <td>P2_1</td>\n",
       "      <td>lung</td>\n",
       "      <td>normal</td>\n",
       "      <td>0.048327</td>\n",
       "      <td>Capillary Aerocyte</td>\n",
       "      <td>2</td>\n",
       "      <td>distal 2</td>\n",
       "      <td>distal</td>\n",
       "      <td>epithelial</td>\n",
       "      <td>biohub</td>\n",
       "      <td>endothelial</td>\n",
       "      <td>Human</td>\n",
       "      <td>Homo sapiens</td>\n",
       "      <td>capillary endothelial cell</td>\n",
       "      <td>Capillary Aerocyte</td>\n",
       "      <td>Capillary</td>\n",
       "      <td>endothelial</td>\n",
       "    </tr>\n",
       "    <tr>\n",
       "      <th>P2_1_AACACGTTCGCACTCT</th>\n",
       "      <td>1378</td>\n",
       "      <td>3419</td>\n",
       "      <td>Human Lung 10x - Patient 2</td>\n",
       "      <td>P2_1</td>\n",
       "      <td>lung</td>\n",
       "      <td>normal</td>\n",
       "      <td>0.032758</td>\n",
       "      <td>Capillary Aerocyte</td>\n",
       "      <td>2</td>\n",
       "      <td>distal 2</td>\n",
       "      <td>distal</td>\n",
       "      <td>epithelial</td>\n",
       "      <td>biohub</td>\n",
       "      <td>endothelial</td>\n",
       "      <td>Human</td>\n",
       "      <td>Homo sapiens</td>\n",
       "      <td>capillary endothelial cell</td>\n",
       "      <td>Capillary Aerocyte</td>\n",
       "      <td>Capillary</td>\n",
       "      <td>endothelial</td>\n",
       "    </tr>\n",
       "    <tr>\n",
       "      <th>P2_1_AACCATGCAGCTCGCA</th>\n",
       "      <td>1210</td>\n",
       "      <td>2514</td>\n",
       "      <td>Human Lung 10x - Patient 2</td>\n",
       "      <td>P2_1</td>\n",
       "      <td>lung</td>\n",
       "      <td>normal</td>\n",
       "      <td>0.050119</td>\n",
       "      <td>Capillary Aerocyte</td>\n",
       "      <td>2</td>\n",
       "      <td>distal 2</td>\n",
       "      <td>distal</td>\n",
       "      <td>epithelial</td>\n",
       "      <td>biohub</td>\n",
       "      <td>endothelial</td>\n",
       "      <td>Human</td>\n",
       "      <td>Homo sapiens</td>\n",
       "      <td>capillary endothelial cell</td>\n",
       "      <td>Capillary Aerocyte</td>\n",
       "      <td>Capillary</td>\n",
       "      <td>endothelial</td>\n",
       "    </tr>\n",
       "  </tbody>\n",
       "</table>\n",
       "</div>"
      ],
      "text/plain": [
       "                       nGene  nUMI                  orig.ident channel tissue  \\\n",
       "index                                                                           \n",
       "P2_1_AAACCTGAGAAACCAT   1347  2914  Human Lung 10x - Patient 2    P2_1   lung   \n",
       "P2_1_AAATGCCAGATGAGAG   1713  4226  Human Lung 10x - Patient 2    P2_1   lung   \n",
       "P2_1_AACACGTTCGATCCCT   1185  2152  Human Lung 10x - Patient 2    P2_1   lung   \n",
       "P2_1_AACACGTTCGCACTCT   1378  3419  Human Lung 10x - Patient 2    P2_1   lung   \n",
       "P2_1_AACCATGCAGCTCGCA   1210  2514  Human Lung 10x - Patient 2    P2_1   lung   \n",
       "\n",
       "                       region  percent.ribo     free_annotation  patient  \\\n",
       "index                                                                      \n",
       "P2_1_AAACCTGAGAAACCAT  normal      0.035347  Capillary Aerocyte        2   \n",
       "P2_1_AAATGCCAGATGAGAG  normal      0.061051  Capillary Aerocyte        2   \n",
       "P2_1_AACACGTTCGATCCCT  normal      0.048327  Capillary Aerocyte        2   \n",
       "P2_1_AACACGTTCGCACTCT  normal      0.032758  Capillary Aerocyte        2   \n",
       "P2_1_AACCATGCAGCTCGCA  normal      0.050119  Capillary Aerocyte        2   \n",
       "\n",
       "                         sample location magnetic.selection preparation.site  \\\n",
       "index                                                                          \n",
       "P2_1_AAACCTGAGAAACCAT  distal 2   distal         epithelial           biohub   \n",
       "P2_1_AAATGCCAGATGAGAG  distal 2   distal         epithelial           biohub   \n",
       "P2_1_AACACGTTCGATCCCT  distal 2   distal         epithelial           biohub   \n",
       "P2_1_AACACGTTCGCACTCT  distal 2   distal         epithelial           biohub   \n",
       "P2_1_AACCATGCAGCTCGCA  distal 2   distal         epithelial           biohub   \n",
       "\n",
       "                       compartment species species_latin  \\\n",
       "index                                                      \n",
       "P2_1_AAACCTGAGAAACCAT  endothelial   Human  Homo sapiens   \n",
       "P2_1_AAATGCCAGATGAGAG  endothelial   Human  Homo sapiens   \n",
       "P2_1_AACACGTTCGATCCCT  endothelial   Human  Homo sapiens   \n",
       "P2_1_AACACGTTCGCACTCT  endothelial   Human  Homo sapiens   \n",
       "P2_1_AACCATGCAGCTCGCA  endothelial   Human  Homo sapiens   \n",
       "\n",
       "                              cell_ontology_class        narrow_group  \\\n",
       "index                                                                   \n",
       "P2_1_AAACCTGAGAAACCAT  capillary endothelial cell  Capillary Aerocyte   \n",
       "P2_1_AAATGCCAGATGAGAG  capillary endothelial cell  Capillary Aerocyte   \n",
       "P2_1_AACACGTTCGATCCCT  capillary endothelial cell  Capillary Aerocyte   \n",
       "P2_1_AACACGTTCGCACTCT  capillary endothelial cell  Capillary Aerocyte   \n",
       "P2_1_AACCATGCAGCTCGCA  capillary endothelial cell  Capillary Aerocyte   \n",
       "\n",
       "                      broad_group compartment_group  \n",
       "index                                                \n",
       "P2_1_AAACCTGAGAAACCAT   Capillary       endothelial  \n",
       "P2_1_AAATGCCAGATGAGAG   Capillary       endothelial  \n",
       "P2_1_AACACGTTCGATCCCT   Capillary       endothelial  \n",
       "P2_1_AACACGTTCGCACTCT   Capillary       endothelial  \n",
       "P2_1_AACCATGCAGCTCGCA   Capillary       endothelial  "
      ]
     },
     "execution_count": 20,
     "metadata": {},
     "output_type": "execute_result"
    }
   ],
   "source": [
    "obs_with_compartments = human_lung.obs.join(obs_from_concatenated[unified_cols].astype(str))\n",
    "obs_with_compartments.head()"
   ]
  },
  {
   "cell_type": "code",
   "execution_count": 21,
   "metadata": {},
   "outputs": [
    {
     "data": {
      "text/plain": [
       "narrow_group         57353\n",
       "broad_group          57353\n",
       "compartment_group    57353\n",
       "dtype: int64"
      ]
     },
     "execution_count": 21,
     "metadata": {},
     "output_type": "execute_result"
    }
   ],
   "source": [
    "obs_with_compartments[unified_cols].notnull().sum()"
   ]
  },
  {
   "cell_type": "code",
   "execution_count": 22,
   "metadata": {},
   "outputs": [
    {
     "data": {
      "text/plain": [
       "myeloid                    18854\n",
       "endothelial                15626\n",
       "lymphoid                    9406\n",
       "epithelial                  8737\n",
       "stromal                     4710\n",
       "megakaryocyte-erythroid       10\n",
       "neural                        10\n",
       "Name: compartment_group, dtype: int64"
      ]
     },
     "execution_count": 22,
     "metadata": {},
     "output_type": "execute_result"
    }
   ],
   "source": [
    "obs_with_compartments['compartment_group'].value_counts()"
   ]
  },
  {
   "cell_type": "code",
   "execution_count": 23,
   "metadata": {},
   "outputs": [
    {
     "data": {
      "text/plain": [
       "Macrophage                                13951\n",
       "Capillary                                  6952\n",
       "Alveolar Epithelial Type 2                 4225\n",
       "Capillary Aerocyte                         4061\n",
       "Natural Killer                             3974\n",
       "CD4+ T                                     2543\n",
       "CD8+ T                                     2068\n",
       "Monocyte                                   1893\n",
       "Basophil                                   1798\n",
       "Pericyte                                   1490\n",
       "Artery                                     1398\n",
       "Ciliated                                   1312\n",
       "Alveolar Fibroblast                        1210\n",
       "Vein                                       1100\n",
       "Capillary Intermediate                     1022\n",
       "Alveolar Epithelial Type 1                  904\n",
       "Airway Smooth Muscle and Myofibroblast      886\n",
       "Club                                        881\n",
       "Basal                                       770\n",
       "Bronchial Vessel                            654\n",
       "Adventitial Fibroblast                      534\n",
       "Mucous                                      456\n",
       "Vascular Smooth Muscle                      441\n",
       "Lymphatic                                   439\n",
       "Myeloid Dendritic                           349\n",
       "Natural Killer T cell                       320\n",
       "IGSF21+ Dendritic                           258\n",
       "B cell                                      237\n",
       "Proliferating Macrophage                    210\n",
       "Plasma                                      169\n",
       "TREM2+ Dendritic                            157\n",
       "Goblet                                      148\n",
       "EREG+ Dendritic                             130\n",
       "Plasmacytoid Dendritic                      108\n",
       "Proliferating NK/T                           95\n",
       "Fibromyocyte                                 86\n",
       "Lipofibroblast                               34\n",
       "Mesothelial                                  29\n",
       "Serous                                       22\n",
       "Ionocyte                                     19\n",
       "Neuroendocrine                               10\n",
       "Platelet                                     10\n",
       "Name: narrow_group, dtype: int64"
      ]
     },
     "execution_count": 23,
     "metadata": {},
     "output_type": "execute_result"
    }
   ],
   "source": [
    "obs_with_compartments['narrow_group'].value_counts()"
   ]
  },
  {
   "cell_type": "code",
   "execution_count": 25,
   "metadata": {},
   "outputs": [],
   "source": [
    "human_lung_new_obs = human_lung.copy()\n",
    "human_lung_new_obs.obs = obs_with_compartments\n",
    "human_lung_new_obs = human_lung_new_obs[human_lung_new_obs.obs.groupby('narrow_group').filter(lambda x: len(x) >= 3).index]\n",
    "human_lung_new_obs = human_lung_new_obs[human_lung_new_obs.obs.query('narrow_group != \"nan\"').index]\n"
   ]
  },
  {
   "cell_type": "markdown",
   "metadata": {},
   "source": [
    "## Write newly created object to file"
   ]
  },
  {
   "cell_type": "code",
   "execution_count": 26,
   "metadata": {},
   "outputs": [
    {
     "name": "stdout",
     "output_type": "stream",
     "text": [
      "/home/olga/data_lg/data_sm_copy/tabula-microcebus/data-objects/cross-species/within-species-de/human_lung_from_hlca__unified_compartments.h5ad\n"
     ]
    },
    {
     "name": "stderr",
     "output_type": "stream",
     "text": [
      "/home/olga/miniconda3/envs/tabula-microcebus-v2/lib/python3.7/site-packages/anndata/_core/anndata.py:1068: ImplicitModificationWarning: Initializing view as actual.\n",
      "  \"Initializing view as actual.\", ImplicitModificationWarning,\n",
      "Trying to set attribute `.obs` of view, copying.\n",
      "... storing 'narrow_group' as categorical\n",
      "Trying to set attribute `.obs` of view, copying.\n",
      "... storing 'broad_group' as categorical\n",
      "Trying to set attribute `.obs` of view, copying.\n",
      "... storing 'compartment_group' as categorical\n"
     ]
    },
    {
     "name": "stdout",
     "output_type": "stream",
     "text": [
      "/home/olga/googledrive/TabulaMicrocebus/data/cross-species/within-species-de/human_lung_from_hlca__unified_compartments.h5ad\n"
     ]
    }
   ],
   "source": [
    "for d in outdirs:\n",
    "    h5ad = f'{d}/human_lung_from_hlca__unified_compartments.h5ad'\n",
    "    print(h5ad)\n",
    "    human_lung_new_obs.write(h5ad)"
   ]
  },
  {
   "cell_type": "markdown",
   "metadata": {},
   "source": [
    "# do differential expression\n"
   ]
  },
  {
   "cell_type": "code",
   "execution_count": 27,
   "metadata": {},
   "outputs": [],
   "source": [
    "import diffexpr"
   ]
  },
  {
   "cell_type": "code",
   "execution_count": 28,
   "metadata": {},
   "outputs": [],
   "source": [
    "# human_lung_new_obs.uns['rank_genes_groups']"
   ]
  },
  {
   "cell_type": "code",
   "execution_count": 29,
   "metadata": {},
   "outputs": [],
   "source": [
    "prefix = 'human_lung'"
   ]
  },
  {
   "cell_type": "markdown",
   "metadata": {},
   "source": [
    "## narrow group"
   ]
  },
  {
   "cell_type": "code",
   "execution_count": 30,
   "metadata": {},
   "outputs": [
    {
     "name": "stdout",
     "output_type": "stream",
     "text": [
      "ranking genes\n"
     ]
    },
    {
     "name": "stderr",
     "output_type": "stream",
     "text": [
      "/home/olga/miniconda3/envs/tabula-microcebus-v2/lib/python3.7/site-packages/scanpy/tools/_rank_genes_groups.py:237: RuntimeWarning: overflow encountered in expm1\n",
      "  foldchanges = (expm1_func(mean_group) + 1e-9) / (expm1_func(mean_rest) + 1e-9)  # add small value to remove 0's\n"
     ]
    },
    {
     "name": "stdout",
     "output_type": "stream",
     "text": [
      "    finished: added to `.uns['rank_genes_groups']`\n",
      "    'names', sorted np.recarray to be indexed by group ids\n",
      "    'scores', sorted np.recarray to be indexed by group ids\n",
      "    'logfoldchanges', sorted np.recarray to be indexed by group ids\n",
      "    'pvals', sorted np.recarray to be indexed by group ids\n",
      "    'pvals_adj', sorted np.recarray to be indexed by group ids (0:03:16)\n",
      "CPU times: user 2min 15s, sys: 1min 8s, total: 3min 23s\n",
      "Wall time: 4min 54s\n"
     ]
    }
   ],
   "source": [
    "%%time\n",
    "\n",
    "group = 'narrow_group'\n",
    "sc.tl.rank_genes_groups(human_lung_new_obs, group)\n",
    "\n",
    "for d in outdirs:\n",
    "    h5ad = f\"{d}/{prefix}__diffexpr_{group}__defaults.h5ad\"\n",
    "    human_lung_new_obs.write(h5ad)\n",
    "\n",
    "# mouse_lung_new_obs.uns['rank_genes_groups']\n",
    "\n",
    "# sc.pl.rank_genes_groups(mouse_lung_new_obs, sharey=False)\n"
   ]
  },
  {
   "cell_type": "markdown",
   "metadata": {},
   "source": [
    "## broad group"
   ]
  },
  {
   "cell_type": "code",
   "execution_count": 31,
   "metadata": {},
   "outputs": [
    {
     "name": "stdout",
     "output_type": "stream",
     "text": [
      "ranking genes\n",
      "    finished: added to `.uns['rank_genes_groups']`\n",
      "    'names', sorted np.recarray to be indexed by group ids\n",
      "    'scores', sorted np.recarray to be indexed by group ids\n",
      "    'logfoldchanges', sorted np.recarray to be indexed by group ids\n",
      "    'pvals', sorted np.recarray to be indexed by group ids\n",
      "    'pvals_adj', sorted np.recarray to be indexed by group ids (0:02:16)\n",
      "CPU times: user 1min 32s, sys: 51.7 s, total: 2min 24s\n",
      "Wall time: 5min 38s\n"
     ]
    }
   ],
   "source": [
    "%%time\n",
    "\n",
    "group = 'broad_group'\n",
    "sc.tl.rank_genes_groups(human_lung_new_obs, group)\n",
    "\n",
    "for d in outdirs:\n",
    "    h5ad = f\"{d}/{prefix}__diffexpr_{group}__defaults.h5ad\"\n",
    "    human_lung_new_obs.write(h5ad)\n",
    "\n",
    "# mouse_lung_new_obs.uns['rank_genes_groups']\n",
    "\n",
    "# sc.pl.rank_genes_groups(mouse_lung_new_obs, sharey=False)\n"
   ]
  },
  {
   "cell_type": "markdown",
   "metadata": {},
   "source": [
    "## compartment group"
   ]
  },
  {
   "cell_type": "code",
   "execution_count": 32,
   "metadata": {},
   "outputs": [
    {
     "name": "stdout",
     "output_type": "stream",
     "text": [
      "ranking genes\n",
      "    finished: added to `.uns['rank_genes_groups']`\n",
      "    'names', sorted np.recarray to be indexed by group ids\n",
      "    'scores', sorted np.recarray to be indexed by group ids\n",
      "    'logfoldchanges', sorted np.recarray to be indexed by group ids\n",
      "    'pvals', sorted np.recarray to be indexed by group ids\n",
      "    'pvals_adj', sorted np.recarray to be indexed by group ids (0:09:26)\n",
      "CPU times: user 30.4 s, sys: 9min 1s, total: 9min 32s\n",
      "Wall time: 11min 12s\n"
     ]
    }
   ],
   "source": [
    "%%time\n",
    "\n",
    "group = 'compartment_group'\n",
    "sc.tl.rank_genes_groups(human_lung_new_obs, group)\n",
    "\n",
    "for d in outdirs:\n",
    "    h5ad = f\"{d}/{prefix}__diffexpr_{group}__defaults.h5ad\"\n",
    "    human_lung_new_obs.write(h5ad)\n",
    "\n",
    "# mouse_lung_new_obs.uns['rank_genes_groups']\n",
    "\n",
    "# sc.pl.rank_genes_groups(mouse_lung_new_obs, sharey=False)\n"
   ]
  },
  {
   "cell_type": "markdown",
   "metadata": {},
   "source": [
    "# Logistic regression"
   ]
  },
  {
   "cell_type": "markdown",
   "metadata": {},
   "source": [
    "## compartment group"
   ]
  },
  {
   "cell_type": "code",
   "execution_count": null,
   "metadata": {},
   "outputs": [],
   "source": [
    "%%time\n",
    "\n",
    "group = 'compartment_group'\n",
    "sc.tl.rank_genes_groups(human_lung_new_obs, group)\n",
    "\n",
    "sc.pl.rank_genes_groups(human_lung_new_obs, sharey=False)\n"
   ]
  },
  {
   "cell_type": "code",
   "execution_count": null,
   "metadata": {},
   "outputs": [
    {
     "name": "stdout",
     "output_type": "stream",
     "text": [
      "ranking genes\n"
     ]
    }
   ],
   "source": [
    "group = 'compartment_group'\n",
    "\n",
    "diffexpr.do_differential_expression(human_lung_new_obs, group, n_jobs=16)"
   ]
  },
  {
   "cell_type": "markdown",
   "metadata": {},
   "source": [
    "### Write results to file"
   ]
  },
  {
   "cell_type": "code",
   "execution_count": null,
   "metadata": {},
   "outputs": [],
   "source": [
    "for d in outdirs:\n",
    "    h5ad = f\"{d}/{prefix}__diffexpr_{group}.h5ad\"\n",
    "    human_lung_new_obs.write(h5ad)\n",
    "#     human_lung_new_obs.write_csvs(f'{prefix}__diffexpr__{group}')"
   ]
  },
  {
   "cell_type": "markdown",
   "metadata": {},
   "source": [
    "## narrow group"
   ]
  },
  {
   "cell_type": "code",
   "execution_count": null,
   "metadata": {},
   "outputs": [],
   "source": []
  },
  {
   "cell_type": "code",
   "execution_count": null,
   "metadata": {},
   "outputs": [],
   "source": [
    "group = 'narrow_group'\n",
    "diffexpr.do_differential_expression(human_lung_new_obs, group) "
   ]
  },
  {
   "cell_type": "markdown",
   "metadata": {},
   "source": [
    "### Write results to file"
   ]
  },
  {
   "cell_type": "code",
   "execution_count": null,
   "metadata": {},
   "outputs": [],
   "source": [
    "for d in outdirs:\n",
    "    h5ad = f\"{d}/{prefix}__diffexpr_{group}.h5ad\"\n",
    "    human_lung_new_obs.write(h5ad)\n",
    "#     human_lung_new_obs.write_csvs(f'{prefix}__diffexpr__{group}')"
   ]
  },
  {
   "cell_type": "markdown",
   "metadata": {},
   "source": [
    "## Broad group"
   ]
  },
  {
   "cell_type": "code",
   "execution_count": null,
   "metadata": {},
   "outputs": [],
   "source": [
    "group = 'broad_group'\n",
    "\n",
    "do_differential_expression(human_lung_new_obs, group)"
   ]
  },
  {
   "cell_type": "code",
   "execution_count": null,
   "metadata": {},
   "outputs": [],
   "source": [
    "human_lung_new_obs.uns['rank_genes_groups']"
   ]
  },
  {
   "cell_type": "markdown",
   "metadata": {},
   "source": [
    "### Write results to file"
   ]
  },
  {
   "cell_type": "code",
   "execution_count": null,
   "metadata": {},
   "outputs": [],
   "source": [
    "for d in outdirs:\n",
    "    h5ad = f\"{d}/{prefix}__diffexpr_{group}.h5ad\"\n",
    "    human_lung_new_obs.write(h5ad)\n",
    "#     human_lung_new_obs.write_csvs(f'{prefix}__diffexpr__{group}')"
   ]
  }
 ],
 "metadata": {
  "kernelspec": {
   "display_name": "Python [conda env:tabula-microcebus-v2]",
   "language": "python",
   "name": "conda-env-tabula-microcebus-v2-py"
  },
  "language_info": {
   "codemirror_mode": {
    "name": "ipython",
    "version": 3
   },
   "file_extension": ".py",
   "mimetype": "text/x-python",
   "name": "python",
   "nbconvert_exporter": "python",
   "pygments_lexer": "ipython3",
   "version": "3.7.3"
  }
 },
 "nbformat": 4,
 "nbformat_minor": 4
}
