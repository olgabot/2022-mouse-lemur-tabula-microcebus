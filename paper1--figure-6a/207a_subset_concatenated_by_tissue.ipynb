{
 "cells": [
  {
   "cell_type": "markdown",
   "metadata": {},
   "source": [
    "# Imports"
   ]
  },
  {
   "cell_type": "code",
   "execution_count": 1,
   "metadata": {},
   "outputs": [],
   "source": [
    "orthologous_genes_folder = '/home/olga/googledrive/TabulaMicrocebus/data/orthologous-genes'\n",
    "# ! ls -lha $orthologous_genes_folder"
   ]
  },
  {
   "cell_type": "code",
   "execution_count": 2,
   "metadata": {
    "execution_event_id": "5763ab89-8299-47c8-8bc4-ab234979609c",
    "last_executed_text": "import scanpy\nimport pandas as pd\nimport seaborn as sns",
    "persistent_id": "5eb6d628-c735-4dd7-b775-679a853b37db"
   },
   "outputs": [
    {
     "name": "stderr",
     "output_type": "stream",
     "text": [
      "WARNING: If you miss a compact list, please try `print_header`!\n"
     ]
    },
    {
     "name": "stdout",
     "output_type": "stream",
     "text": [
      "-----\n",
      "anndata     0.7.5\n",
      "scanpy      1.7.0rc1\n",
      "sinfo       0.3.1\n",
      "-----\n",
      "anndata             0.7.5\n",
      "backcall            0.1.0\n",
      "cairo               1.18.2\n",
      "colorama            0.4.4\n",
      "cycler              0.10.0\n",
      "cython_runtime      NA\n",
      "dateutil            2.8.0\n",
      "decorator           4.4.1\n",
      "get_version         2.1\n",
      "h5py                2.10.0\n",
      "igraph              0.7.1\n",
      "importlib_metadata  0.19\n",
      "ipykernel           5.1.3\n",
      "ipython_genutils    0.2.0\n",
      "jedi                0.15.1\n",
      "joblib              0.14.1\n",
      "kiwisolver          1.1.0\n",
      "legacy_api_wrap     0.0.0\n",
      "leidenalg           0.7.0\n",
      "llvmlite            0.30.0\n",
      "louvain             0.6.1\n",
      "matplotlib          3.1.2\n",
      "more_itertools      NA\n",
      "mpl_toolkits        NA\n",
      "natsort             6.2.0\n",
      "numba               0.46.0\n",
      "numexpr             2.7.0\n",
      "numpy               1.17.3\n",
      "packaging           20.8\n",
      "pandas              1.1.4\n",
      "parso               0.5.1\n",
      "pexpect             4.7.0\n",
      "pickleshare         0.7.5\n",
      "pkg_resources       NA\n",
      "prompt_toolkit      3.0.2\n",
      "ptyprocess          0.6.0\n",
      "pygments            2.5.2\n",
      "pyparsing           2.4.5\n",
      "pytz                2019.3\n",
      "scanpy              1.7.0rc1\n",
      "scipy               1.5.2\n",
      "seaborn             0.11.1\n",
      "setuptools_scm      NA\n",
      "sinfo               0.3.1\n",
      "six                 1.13.0\n",
      "sklearn             0.23.2\n",
      "sphinxcontrib       NA\n",
      "statsmodels         0.12.1\n",
      "storemagic          NA\n",
      "tables              3.6.1\n",
      "tornado             6.0.3\n",
      "traitlets           4.3.3\n",
      "wcwidth             NA\n",
      "yaml                5.3.1\n",
      "zipp                NA\n",
      "zmq                 18.1.1\n",
      "-----\n",
      "IPython             7.10.1\n",
      "jupyter_client      5.3.3\n",
      "jupyter_core        4.6.1\n",
      "jupyterlab          1.2.4\n",
      "notebook            6.0.1\n",
      "-----\n",
      "Python 3.7.3 | packaged by conda-forge | (default, Dec  6 2019, 08:54:18) [GCC 7.3.0]\n",
      "Linux-4.15.0-91-generic-x86_64-with-debian-buster-sid\n",
      "128 logical CPU cores, x86_64\n",
      "-----\n",
      "Session information updated at 2021-02-15 11:55\n",
      "\n"
     ]
    }
   ],
   "source": [
    "import os\n",
    "\n",
    "import anndata\n",
    "import scanpy as sc\n",
    "import pandas as pd\n",
    "import seaborn as sns\n",
    "\n",
    "\n",
    "sc.settings.verbosity = 3\n",
    "sc.logging.print_versions()\n",
    "\n",
    "pd.options.display.max_rows = 200\n",
    "\n",
    "\n",
    "outdir_gdrive = \"/home/olga/googledrive/TabulaMicrocebus/data/cross-species\"\n",
    "outdir_local = \"/home/olga/data_lg/data_sm_copy/tabula-microcebus/data-objects/cross-species\"\n",
    "outdirs = outdir_gdrive, outdir_local"
   ]
  },
  {
   "cell_type": "markdown",
   "metadata": {},
   "source": [
    "## Load mega-object"
   ]
  },
  {
   "cell_type": "code",
   "execution_count": 3,
   "metadata": {
    "persistent_id": "99b466f3-d8bb-4bf8-b3da-8fbdadb415c7"
   },
   "outputs": [
    {
     "name": "stderr",
     "output_type": "stream",
     "text": [
      "Observation names are not unique. To make them unique, call `.obs_names_make_unique`.\n"
     ]
    },
    {
     "name": "stdout",
     "output_type": "stream",
     "text": [
      "CPU times: user 2.67 s, sys: 5.08 s, total: 7.75 s\n",
      "Wall time: 10.2 s\n"
     ]
    }
   ],
   "source": [
    "%%time\n",
    "\n",
    "h5ad = os.path.join(\n",
    "    outdir_local, \"concatenated__human-lemur-mouse_10x__one2one_orthologs.h5ad\"\n",
    ")\n",
    "combined = sc.read(h5ad)"
   ]
  },
  {
   "cell_type": "code",
   "execution_count": 4,
   "metadata": {},
   "outputs": [
    {
     "name": "stdout",
     "output_type": "stream",
     "text": [
      "-rw-r--r-- 1 olga czb 7.9G Feb 15 11:43 /home/olga/data_lg/data_sm_copy/tabula-microcebus/data-objects/cross-species/concatenated__human-lemur-mouse_10x__one2one_orthologs.h5ad\n"
     ]
    }
   ],
   "source": [
    "!ls  -lha $h5ad"
   ]
  },
  {
   "cell_type": "code",
   "execution_count": 5,
   "metadata": {},
   "outputs": [
    {
     "name": "stderr",
     "output_type": "stream",
     "text": [
      "findfont: Font family ['sans-serif'] not found. Falling back to DejaVu Sans.\n"
     ]
    },
    {
     "data": {
      "image/png": "[encoded data removed]",
      "text/plain": [
       "<Figure size 134.64x2289.6 with 4 Axes>"
      ]
     },
     "metadata": {
      "needs_background": "light"
     },
     "output_type": "display_data"
    }
   ],
   "source": [
    "sc.pl.dotplot(combined, var_names=['SFTPC'], groupby='narrow_group')"
   ]
  },
  {
   "cell_type": "code",
   "execution_count": 6,
   "metadata": {},
   "outputs": [
    {
     "data": {
      "text/plain": [
       "Lung                      145335\n",
       "Blood                      80469\n",
       "Spleen                     51584\n",
       "Marrow                     39125\n",
       "Kidney                     37949\n",
       "Bone_marrow                34521\n",
       "Bladder                    34232\n",
       "Skin                       28964\n",
       "Limb_Muscle                28176\n",
       "Tongue                     26363\n",
       "Thymus                     21150\n",
       "Fat                        19852\n",
       "Pancreas                   18727\n",
       "Liver                      15355\n",
       "Bone                       14851\n",
       "Trachea                    14639\n",
       "Muscle                     12974\n",
       "Mammary_Gland              11954\n",
       "Lymph_Node                  8640\n",
       "Heart_and_Aorta             8253\n",
       "Vasculature                 8005\n",
       "Small_intestine             5878\n",
       "Testes                      5817\n",
       "Mammary_gland               5468\n",
       "Brain                       5463\n",
       "Heart                       4287\n",
       "Large_Intestine             3251\n",
       "Limb_muscle                 3125\n",
       "Bone_Marrow                 2845\n",
       "Hypothalamus_Pituitary      2526\n",
       "Uterus                      1685\n",
       "Colon                       1366\n",
       "Small_Intestine             1203\n",
       "Eye_retina                   942\n",
       "Aorta                        111\n",
       "Diaphragm                     78\n",
       "Name: tissue, dtype: int64"
      ]
     },
     "execution_count": 6,
     "metadata": {},
     "output_type": "execute_result"
    }
   ],
   "source": [
    "combined.obs.tissue.value_counts()"
   ]
  },
  {
   "cell_type": "code",
   "execution_count": 7,
   "metadata": {},
   "outputs": [
    {
     "data": {
      "text/plain": [
       "species_batch             tissue                \n",
       "mouse_tabula_muris_senis  Aorta                         0\n",
       "                          Bladder                    8752\n",
       "                          Blood                         0\n",
       "                          Bone                          0\n",
       "                          Bone_Marrow                   0\n",
       "                          Bone_marrow                   0\n",
       "                          Brain                         0\n",
       "                          Colon                         0\n",
       "                          Diaphragm                     0\n",
       "                          Eye_retina                    0\n",
       "                          Fat                        6534\n",
       "                          Heart                         0\n",
       "                          Heart_and_Aorta            8253\n",
       "                          Hypothalamus_Pituitary        0\n",
       "                          Kidney                    21038\n",
       "                          Large_Intestine            1845\n",
       "                          Limb_Muscle               28176\n",
       "                          Limb_muscle                   0\n",
       "                          Liver                      7052\n",
       "                          Lung                      23802\n",
       "                          Lymph_Node                    0\n",
       "                          Mammary_Gland             11954\n",
       "                          Mammary_gland                 0\n",
       "                          Marrow                    39125\n",
       "                          Muscle                        0\n",
       "                          Pancreas                   5969\n",
       "                          Skin                       4308\n",
       "                          Small_Intestine               0\n",
       "                          Small_intestine               0\n",
       "                          Spleen                    34853\n",
       "                          Testes                        0\n",
       "                          Thymus                     9082\n",
       "                          Tongue                    20271\n",
       "                          Trachea                    7901\n",
       "                          Uterus                        0\n",
       "                          Vasculature                   0\n",
       "mouse_ce                  Aorta                         0\n",
       "                          Bladder                       0\n",
       "                          Blood                     15989\n",
       "                          Bone                          0\n",
       "                          Bone_Marrow                   0\n",
       "                          Bone_marrow                   0\n",
       "                          Brain                         0\n",
       "                          Colon                         0\n",
       "                          Diaphragm                     0\n",
       "                          Eye_retina                    0\n",
       "                          Fat                           0\n",
       "                          Heart                         0\n",
       "                          Heart_and_Aorta               0\n",
       "                          Hypothalamus_Pituitary        0\n",
       "                          Kidney                        0\n",
       "                          Large_Intestine               0\n",
       "                          Limb_Muscle                   0\n",
       "                          Limb_muscle                   0\n",
       "                          Liver                         0\n",
       "                          Lung                          0\n",
       "                          Lymph_Node                    0\n",
       "                          Mammary_Gland                 0\n",
       "                          Mammary_gland                 0\n",
       "                          Marrow                        0\n",
       "                          Muscle                        0\n",
       "                          Pancreas                      0\n",
       "                          Skin                          0\n",
       "                          Small_Intestine               0\n",
       "                          Small_intestine               0\n",
       "                          Spleen                        0\n",
       "                          Testes                        0\n",
       "                          Thymus                        0\n",
       "                          Tongue                        0\n",
       "                          Trachea                       0\n",
       "                          Uterus                        0\n",
       "                          Vasculature                   0\n",
       "human_hlca                Aorta                         0\n",
       "                          Bladder                       0\n",
       "                          Blood                     28270\n",
       "                          Bone                          0\n",
       "                          Bone_Marrow                   0\n",
       "                          Bone_marrow                   0\n",
       "                          Brain                         0\n",
       "                          Colon                         0\n",
       "                          Diaphragm                     0\n",
       "                          Eye_retina                    0\n",
       "                          Fat                           0\n",
       "                          Heart                         0\n",
       "                          Heart_and_Aorta               0\n",
       "                          Hypothalamus_Pituitary        0\n",
       "                          Kidney                        0\n",
       "                          Large_Intestine               0\n",
       "                          Limb_Muscle                   0\n",
       "                          Limb_muscle                   0\n",
       "                          Liver                         0\n",
       "                          Lung                      57353\n",
       "                          Lymph_Node                    0\n",
       "                          Mammary_Gland                 0\n",
       "                          Mammary_gland                 0\n",
       "                          Marrow                        0\n",
       "                          Muscle                        0\n",
       "                          Pancreas                      0\n",
       "                          Skin                          0\n",
       "                          Small_Intestine               0\n",
       "                          Small_intestine               0\n",
       "                          Spleen                        0\n",
       "                          Testes                        0\n",
       "                          Thymus                        0\n",
       "                          Tongue                        0\n",
       "                          Trachea                       0\n",
       "                          Uterus                        0\n",
       "                          Vasculature                   0\n",
       "human_sapiens             Aorta                         0\n",
       "                          Bladder                   18594\n",
       "                          Blood                     14734\n",
       "                          Bone                          0\n",
       "                          Bone_Marrow                2845\n",
       "                          Bone_marrow                   0\n",
       "                          Brain                         0\n",
       "                          Colon                         0\n",
       "                          Diaphragm                     0\n",
       "                          Eye_retina                    0\n",
       "                          Fat                           0\n",
       "                          Heart                         0\n",
       "                          Heart_and_Aorta               0\n",
       "                          Hypothalamus_Pituitary        0\n",
       "                          Kidney                     3185\n",
       "                          Large_Intestine            1406\n",
       "                          Limb_Muscle                   0\n",
       "                          Limb_muscle                   0\n",
       "                          Liver                         0\n",
       "                          Lung                      31117\n",
       "                          Lymph_Node                 8640\n",
       "                          Mammary_Gland                 0\n",
       "                          Mammary_gland                 0\n",
       "                          Marrow                        0\n",
       "                          Muscle                    12974\n",
       "                          Pancreas                   4914\n",
       "                          Skin                          0\n",
       "                          Small_Intestine            1203\n",
       "                          Small_intestine               0\n",
       "                          Spleen                     6950\n",
       "                          Testes                        0\n",
       "                          Thymus                    12068\n",
       "                          Tongue                        0\n",
       "                          Trachea                    6249\n",
       "                          Uterus                        0\n",
       "                          Vasculature                8005\n",
       "lemur                     Aorta                       111\n",
       "                          Bladder                    6886\n",
       "                          Blood                     21476\n",
       "                          Bone                      14851\n",
       "                          Bone_Marrow                   0\n",
       "                          Bone_marrow               34521\n",
       "                          Brain                      5463\n",
       "                          Colon                      1366\n",
       "                          Diaphragm                    78\n",
       "                          Eye_retina                  942\n",
       "                          Fat                       13318\n",
       "                          Heart                      4287\n",
       "                          Heart_and_Aorta               0\n",
       "                          Hypothalamus_Pituitary     2526\n",
       "                          Kidney                    13726\n",
       "                          Large_Intestine               0\n",
       "                          Limb_Muscle                   0\n",
       "                          Limb_muscle                3125\n",
       "                          Liver                      8303\n",
       "                          Lung                      33063\n",
       "                          Lymph_Node                    0\n",
       "                          Mammary_Gland                 0\n",
       "                          Mammary_gland              5468\n",
       "                          Marrow                        0\n",
       "                          Muscle                        0\n",
       "                          Pancreas                   7844\n",
       "                          Skin                      24656\n",
       "                          Small_Intestine               0\n",
       "                          Small_intestine            5878\n",
       "                          Spleen                     9781\n",
       "                          Testes                     5817\n",
       "                          Thymus                        0\n",
       "                          Tongue                     6092\n",
       "                          Trachea                     489\n",
       "                          Uterus                     1685\n",
       "                          Vasculature                   0\n",
       "dtype: int64"
      ]
     },
     "execution_count": 7,
     "metadata": {},
     "output_type": "execute_result"
    }
   ],
   "source": [
    "combined.obs.groupby(['species_batch', 'tissue']).size()"
   ]
  },
  {
   "cell_type": "markdown",
   "metadata": {},
   "source": [
    "# Subset to Lung, Blood, Muscle and write to file"
   ]
  },
  {
   "cell_type": "code",
   "execution_count": 8,
   "metadata": {},
   "outputs": [],
   "source": [
    "tissues = \"Lung\", \"Blood\", \"Muscle\", \"Bladder\"\n",
    "tissues = {\n",
    "    \"lung\": (\"Lung\",),\n",
    "    \"blood\": (\"Blood\",),\n",
    "    \"muscle\": (\"Muscle\", \"Limb_Muscle\", \"Limb_muscle\"),\n",
    "    \"bladder\": (\"Bladder\",),\n",
    "}\n",
    "\n",
    "\n",
    "tissue_to_celltype_col = {\n",
    "    'lung': 'narrow_group',\n",
    "    'blood': 'narrow_group',\n",
    "    'muscle': 'narrow_group',\n",
    "    'bladder': 'cell_ontology_class'\n",
    "}"
   ]
  },
  {
   "cell_type": "code",
   "execution_count": 9,
   "metadata": {},
   "outputs": [
    {
     "name": "stdout",
     "output_type": "stream",
     "text": [
      "--- lung ---\n"
     ]
    },
    {
     "name": "stderr",
     "output_type": "stream",
     "text": [
      "Trying to set attribute `.obs` of view, copying.\n"
     ]
    },
    {
     "name": "stdout",
     "output_type": "stream",
     "text": [
      "narrow_group                            species_batch           \n",
      "B cell                                  mouse_tabula_muris_senis    1457\n",
      "                                        human_hlca                   237\n",
      "                                        human_sapiens                286\n",
      "                                        lemur                        241\n",
      "CCR7+ dendritic cell                    mouse_tabula_muris_senis      15\n",
      "                                                                    ... \n",
      "vascular associated smooth muscle cell  lemur                         20\n",
      "vein cell                               mouse_tabula_muris_senis     306\n",
      "                                        human_hlca                  1100\n",
      "                                        human_sapiens                  0\n",
      "                                        lemur                        122\n",
      "Length: 300, dtype: int64\n",
      "AnnData object with n_obs × n_vars = 145335 × 13302\n",
      "    obs: 'age', 'cell_id', 'cell_ontology_class', 'cell_ontology_id', 'free_annotation', 'n_genes', 'sex', 'subtissue', 'tissue', 'species', 'species_latin', 'channel', 'sequencing_run', 'cell_barcode', 'n_counts', 'individual', 'narrow_group', 'broad_group', 'compartment_group', 'cell_id_v1', 'cell_id_v2', 'species_batch'\n",
      "    var: 'mouse_lemur__gene_name-human_hlca', 'mouse__gene_name-human_hlca', 'ensembl_id-human_sapiens', 'len-human_sapiens', 'mouse_lemur__gene_name-lemur', 'mouse__gene_name-lemur', 'name-lemur', 'highly_variable-lemur', 'mouse_lemur__gene_name-mouse_ce', 'mouse__gene_name-mouse_ce', 'n_cells-mouse_tabula_muris_senis', 'mouse_lemur__gene_name-mouse_tabula_muris_senis', 'mouse__gene_name-mouse_tabula_muris_senis'\n",
      "/home/olga/data_lg/data_sm_copy/tabula-microcebus/data-objects/cross-species/concatenated__human-lemur-mouse_10x__one2one_orthologs__lung.h5ad\n"
     ]
    },
    {
     "name": "stderr",
     "output_type": "stream",
     "text": [
      "Trying to set attribute `.obs` of view, copying.\n"
     ]
    },
    {
     "name": "stdout",
     "output_type": "stream",
     "text": [
      "CPU times: user 1.48 s, sys: 1.22 s, total: 2.7 s\n",
      "Wall time: 4.24 s\n",
      "--- blood ---\n",
      "narrow_group                              species_batch\n",
      "B cell                                    mouse_ce          1876\n",
      "                                          human_hlca         237\n",
      "                                          human_sapiens      883\n",
      "                                          lemur              731\n",
      "CD4+ T cell                               mouse_ce           578\n",
      "                                          human_hlca        2543\n",
      "                                          human_sapiens        0\n",
      "                                          lemur             1834\n",
      "CD8+ T cell                               mouse_ce           477\n",
      "                                          human_hlca        2068\n",
      "                                          human_sapiens        0\n",
      "                                          lemur              156\n",
      "CXCR6+ T cell                             mouse_ce            19\n",
      "                                          human_hlca           0\n",
      "                                          human_sapiens        0\n",
      "                                          lemur                0\n",
      "EREG+ dendritic cell                      mouse_ce             0\n",
      "                                          human_hlca         130\n",
      "                                          human_sapiens        0\n",
      "                                          lemur                0\n",
      "IGSF21+ dendritic cell                    mouse_ce             0\n",
      "                                          human_hlca         258\n",
      "                                          human_sapiens        0\n",
      "                                          lemur                0\n",
      "T cell                                    mouse_ce             0\n",
      "                                          human_hlca           0\n",
      "                                          human_sapiens     2255\n",
      "                                          lemur                0\n",
      "TMEM176+ T cell                           mouse_ce             9\n",
      "                                          human_hlca           0\n",
      "                                          human_sapiens        0\n",
      "                                          lemur                0\n",
      "TREM2+ dendritic cell                     mouse_ce             0\n",
      "                                          human_hlca         157\n",
      "                                          human_sapiens        0\n",
      "                                          lemur                0\n",
      "basophil                                  mouse_ce            66\n",
      "                                          human_hlca        1798\n",
      "                                          human_sapiens        0\n",
      "                                          lemur                2\n",
      "capillary cell                            mouse_ce             0\n",
      "                                          human_hlca           0\n",
      "                                          human_sapiens        0\n",
      "                                          lemur                4\n",
      "conventional dendritic cell               mouse_ce            39\n",
      "                                          human_hlca         349\n",
      "                                          human_sapiens       18\n",
      "                                          lemur                3\n",
      "dendritic cell                            mouse_ce            20\n",
      "                                          human_hlca           0\n",
      "                                          human_sapiens        0\n",
      "                                          lemur                0\n",
      "doublet                                   mouse_ce          1315\n",
      "                                          human_hlca           0\n",
      "                                          human_sapiens        0\n",
      "                                          lemur             3869\n",
      "erythroid lineage cell                    mouse_ce             5\n",
      "                                          human_hlca           0\n",
      "                                          human_sapiens      525\n",
      "                                          lemur              125\n",
      "erythroid progenitor cell                 mouse_ce             0\n",
      "                                          human_hlca           0\n",
      "                                          human_sapiens        0\n",
      "                                          lemur               11\n",
      "helped T cell                             mouse_ce             0\n",
      "                                          human_hlca           0\n",
      "                                          human_sapiens      678\n",
      "                                          lemur                0\n",
      "hematopoietic precursor cell              mouse_ce             0\n",
      "                                          human_hlca           0\n",
      "                                          human_sapiens        0\n",
      "                                          lemur               81\n",
      "innate lymphoid cell                      mouse_ce             0\n",
      "                                          human_hlca           0\n",
      "                                          human_sapiens        5\n",
      "                                          lemur                0\n",
      "macrophage                                mouse_ce           340\n",
      "                                          human_hlca       13951\n",
      "                                          human_sapiens        0\n",
      "                                          lemur               33\n",
      "megakaryocyte progenitor cell             mouse_ce             0\n",
      "                                          human_hlca           0\n",
      "                                          human_sapiens        0\n",
      "                                          lemur              100\n",
      "memory T cell                             mouse_ce             0\n",
      "                                          human_hlca           0\n",
      "                                          human_sapiens      287\n",
      "                                          lemur                0\n",
      "mesothelial cell                          mouse_ce             0\n",
      "                                          human_hlca           0\n",
      "                                          human_sapiens        0\n",
      "                                          lemur                4\n",
      "monocyte                                  mouse_ce          1460\n",
      "                                          human_hlca        1893\n",
      "                                          human_sapiens     9035\n",
      "                                          lemur             1294\n",
      "nan                                       mouse_ce          6452\n",
      "                                          human_hlca           0\n",
      "                                          human_sapiens        0\n",
      "                                          lemur                0\n",
      "natural killer T cell                     mouse_ce             0\n",
      "                                          human_hlca         320\n",
      "                                          human_sapiens      360\n",
      "                                          lemur                8\n",
      "natural killer cell                       mouse_ce           540\n",
      "                                          human_hlca        3974\n",
      "                                          human_sapiens      447\n",
      "                                          lemur              375\n",
      "neutrophil                                mouse_ce          2685\n",
      "                                          human_hlca           0\n",
      "                                          human_sapiens       25\n",
      "                                          lemur            12537\n",
      "plasma cell                               mouse_ce             0\n",
      "                                          human_hlca         169\n",
      "                                          human_sapiens        3\n",
      "                                          lemur               20\n",
      "plasmacytoid dendritic cell               mouse_ce            38\n",
      "                                          human_hlca         108\n",
      "                                          human_sapiens       15\n",
      "                                          lemur                0\n",
      "platelet                                  mouse_ce            17\n",
      "                                          human_hlca          10\n",
      "                                          human_sapiens      198\n",
      "                                          lemur              117\n",
      "proliferating B cell_T cell               mouse_ce            16\n",
      "                                          human_hlca           0\n",
      "                                          human_sapiens        0\n",
      "                                          lemur                0\n",
      "proliferating erythroid lineage cell      mouse_ce             0\n",
      "                                          human_hlca           0\n",
      "                                          human_sapiens        0\n",
      "                                          lemur               25\n",
      "proliferating macrophage                  mouse_ce             0\n",
      "                                          human_hlca         210\n",
      "                                          human_sapiens        0\n",
      "                                          lemur                0\n",
      "proliferating monocyte                    mouse_ce             0\n",
      "                                          human_hlca           0\n",
      "                                          human_sapiens        0\n",
      "                                          lemur               18\n",
      "proliferating natural killer cell_T cell  mouse_ce            37\n",
      "                                          human_hlca          95\n",
      "                                          human_sapiens        0\n",
      "                                          lemur                0\n",
      "proliferating neutrophil                  mouse_ce             0\n",
      "                                          human_hlca           0\n",
      "                                          human_sapiens        0\n",
      "                                          lemur              129\n",
      "dtype: int64\n",
      "AnnData object with n_obs × n_vars = 80469 × 13302\n",
      "    obs: 'age', 'cell_id', 'cell_ontology_class', 'cell_ontology_id', 'free_annotation', 'n_genes', 'sex', 'subtissue', 'tissue', 'species', 'species_latin', 'channel', 'sequencing_run', 'cell_barcode', 'n_counts', 'individual', 'narrow_group', 'broad_group', 'compartment_group', 'cell_id_v1', 'cell_id_v2', 'species_batch'\n",
      "    var: 'mouse_lemur__gene_name-human_hlca', 'mouse__gene_name-human_hlca', 'ensembl_id-human_sapiens', 'len-human_sapiens', 'mouse_lemur__gene_name-lemur', 'mouse__gene_name-lemur', 'name-lemur', 'highly_variable-lemur', 'mouse_lemur__gene_name-mouse_ce', 'mouse__gene_name-mouse_ce', 'n_cells-mouse_tabula_muris_senis', 'mouse_lemur__gene_name-mouse_tabula_muris_senis', 'mouse__gene_name-mouse_tabula_muris_senis'\n",
      "/home/olga/data_lg/data_sm_copy/tabula-microcebus/data-objects/cross-species/concatenated__human-lemur-mouse_10x__one2one_orthologs__blood.h5ad\n"
     ]
    },
    {
     "name": "stderr",
     "output_type": "stream",
     "text": [
      "Trying to set attribute `.obs` of view, copying.\n"
     ]
    },
    {
     "name": "stdout",
     "output_type": "stream",
     "text": [
      "CPU times: user 1.31 s, sys: 574 ms, total: 1.88 s\n",
      "Wall time: 2.57 s\n",
      "--- muscle ---\n",
      "narrow_group                              species_batch           \n",
      "B cell                                    mouse_tabula_muris_senis     1472\n",
      "                                          human_sapiens                   5\n",
      "                                          lemur                         213\n",
      "CD4+ T cell                               mouse_tabula_muris_senis        0\n",
      "                                          human_sapiens                   0\n",
      "                                          lemur                         628\n",
      "CD8+ T cell                               mouse_tabula_muris_senis        0\n",
      "                                          human_sapiens                   0\n",
      "                                          lemur                          37\n",
      "Schwann cell                              mouse_tabula_muris_senis      270\n",
      "                                          human_sapiens                   0\n",
      "                                          lemur                           0\n",
      "T cell                                    mouse_tabula_muris_senis     1234\n",
      "                                          human_sapiens                 169\n",
      "                                          lemur                         406\n",
      "adipocyte                                 mouse_tabula_muris_senis        0\n",
      "                                          human_sapiens                   0\n",
      "                                          lemur                          24\n",
      "artery cell                               mouse_tabula_muris_senis        0\n",
      "                                          human_sapiens                   0\n",
      "                                          lemur                           3\n",
      "basophil                                  mouse_tabula_muris_senis        0\n",
      "                                          human_sapiens                   0\n",
      "                                          lemur                           5\n",
      "capillary cell                            mouse_tabula_muris_senis        0\n",
      "                                          human_sapiens                1702\n",
      "                                          lemur                         439\n",
      "doublet                                   mouse_tabula_muris_senis        0\n",
      "                                          human_sapiens                   0\n",
      "                                          lemur                         157\n",
      "endothelial cell                          mouse_tabula_muris_senis     6738\n",
      "                                          human_sapiens                1206\n",
      "                                          lemur                           0\n",
      "erythroid lineage cell                    mouse_tabula_muris_senis        0\n",
      "                                          human_sapiens                  11\n",
      "                                          lemur                          10\n",
      "lymphatic cell                            mouse_tabula_muris_senis        0\n",
      "                                          human_sapiens                  31\n",
      "                                          lemur                          20\n",
      "macrophage                                mouse_tabula_muris_senis     2415\n",
      "                                          human_sapiens                 740\n",
      "                                          lemur                         148\n",
      "mesenchymal cell                          mouse_tabula_muris_senis    12712\n",
      "                                          human_sapiens                5976\n",
      "                                          lemur                         542\n",
      "natural killer T cell                     mouse_tabula_muris_senis        0\n",
      "                                          human_sapiens                  32\n",
      "                                          lemur                           8\n",
      "neutrophil                                mouse_tabula_muris_senis        0\n",
      "                                          human_sapiens                   0\n",
      "                                          lemur                          52\n",
      "pericyte cell                             mouse_tabula_muris_senis        0\n",
      "                                          human_sapiens                 631\n",
      "                                          lemur                         104\n",
      "pericyte cell_smooth muscle cell          mouse_tabula_muris_senis     1129\n",
      "                                          human_sapiens                   0\n",
      "                                          lemur                           0\n",
      "plasma cell                               mouse_tabula_muris_senis        0\n",
      "                                          human_sapiens                   0\n",
      "                                          lemur                          33\n",
      "proliferating natural killer cell_T cell  mouse_tabula_muris_senis        0\n",
      "                                          human_sapiens                   0\n",
      "                                          lemur                          13\n",
      "reticular cell                            mouse_tabula_muris_senis        0\n",
      "                                          human_sapiens                   0\n",
      "                                          lemur                          19\n",
      "skeletal muscle cell                      mouse_tabula_muris_senis      188\n",
      "                                          human_sapiens                 274\n",
      "                                          lemur                          63\n",
      "skeletal muscle satellite stem cell       mouse_tabula_muris_senis     2018\n",
      "                                          human_sapiens                2121\n",
      "                                          lemur                          86\n",
      "tendon cell                               mouse_tabula_muris_senis        0\n",
      "                                          human_sapiens                  76\n",
      "                                          lemur                          51\n",
      "vascular associated smooth muscle cell    mouse_tabula_muris_senis        0\n",
      "                                          human_sapiens                   0\n",
      "                                          lemur                          17\n",
      "vein cell                                 mouse_tabula_muris_senis        0\n",
      "                                          human_sapiens                   0\n",
      "                                          lemur                          47\n",
      "dtype: int64\n",
      "AnnData object with n_obs × n_vars = 44275 × 13302\n",
      "    obs: 'age', 'cell_id', 'cell_ontology_class', 'cell_ontology_id', 'free_annotation', 'n_genes', 'sex', 'subtissue', 'tissue', 'species', 'species_latin', 'channel', 'sequencing_run', 'cell_barcode', 'n_counts', 'individual', 'narrow_group', 'broad_group', 'compartment_group', 'cell_id_v1', 'cell_id_v2', 'species_batch'\n",
      "    var: 'mouse_lemur__gene_name-human_hlca', 'mouse__gene_name-human_hlca', 'ensembl_id-human_sapiens', 'len-human_sapiens', 'mouse_lemur__gene_name-lemur', 'mouse__gene_name-lemur', 'name-lemur', 'highly_variable-lemur', 'mouse_lemur__gene_name-mouse_ce', 'mouse__gene_name-mouse_ce', 'n_cells-mouse_tabula_muris_senis', 'mouse_lemur__gene_name-mouse_tabula_muris_senis', 'mouse__gene_name-mouse_tabula_muris_senis'\n",
      "/home/olga/data_lg/data_sm_copy/tabula-microcebus/data-objects/cross-species/concatenated__human-lemur-mouse_10x__one2one_orthologs__muscle.h5ad\n"
     ]
    },
    {
     "name": "stderr",
     "output_type": "stream",
     "text": [
      "Trying to set attribute `.obs` of view, copying.\n"
     ]
    },
    {
     "name": "stdout",
     "output_type": "stream",
     "text": [
      "CPU times: user 1.09 s, sys: 389 ms, total: 1.48 s\n",
      "Wall time: 1.93 s\n",
      "--- bladder ---\n",
      "cell_ontology_class                     species_batch           \n",
      "B cell                                  mouse_tabula_muris_senis       0\n",
      "                                        human_sapiens                216\n",
      "                                        lemur                         37\n",
      "CD4-positive, alpha-beta T cell         mouse_tabula_muris_senis       0\n",
      "                                        human_sapiens                  0\n",
      "                                        lemur                        374\n",
      "CD8-positive, alpha-beta T cell         mouse_tabula_muris_senis       0\n",
      "                                        human_sapiens               2087\n",
      "                                        lemur                          0\n",
      "NK cell                                 mouse_tabula_muris_senis       0\n",
      "                                        human_sapiens                172\n",
      "                                        lemur                          0\n",
      "Schwann cell                            mouse_tabula_muris_senis       0\n",
      "                                        human_sapiens                 62\n",
      "                                        lemur                          0\n",
      "T cell                                  mouse_tabula_muris_senis       0\n",
      "                                        human_sapiens               1246\n",
      "                                        lemur                          0\n",
      "basal cell                              mouse_tabula_muris_senis       0\n",
      "                                        human_sapiens                585\n",
      "                                        lemur                          0\n",
      "basophil                                mouse_tabula_muris_senis       0\n",
      "                                        human_sapiens                  0\n",
      "                                        lemur                         12\n",
      "bladder cell                            mouse_tabula_muris_senis    2933\n",
      "                                        human_sapiens                  0\n",
      "                                        lemur                          0\n",
      "bladder urothelial cell                 mouse_tabula_muris_senis    5133\n",
      "                                        human_sapiens                  0\n",
      "                                        lemur                        403\n",
      "capillary endothelial cell              mouse_tabula_muris_senis       0\n",
      "                                        human_sapiens                  0\n",
      "                                        lemur                        154\n",
      "conventional dendritic cell             mouse_tabula_muris_senis       0\n",
      "                                        human_sapiens                  0\n",
      "                                        lemur                         23\n",
      "dendritic cell                          mouse_tabula_muris_senis       0\n",
      "                                        human_sapiens                  0\n",
      "                                        lemur                         25\n",
      "endothelial cell                        mouse_tabula_muris_senis     332\n",
      "                                        human_sapiens                  0\n",
      "                                        lemur                          0\n",
      "endothelial cell of artery              mouse_tabula_muris_senis       0\n",
      "                                        human_sapiens                266\n",
      "                                        lemur                         91\n",
      "endothelial cell of lymphatic vessel    mouse_tabula_muris_senis       0\n",
      "                                        human_sapiens                 49\n",
      "                                        lemur                         38\n",
      "fat cell                                mouse_tabula_muris_senis       0\n",
      "                                        human_sapiens                  0\n",
      "                                        lemur                          5\n",
      "fibroblast                              mouse_tabula_muris_senis       0\n",
      "                                        human_sapiens                  0\n",
      "                                        lemur                       2551\n",
      "innate lymphoid cell                    mouse_tabula_muris_senis       0\n",
      "                                        human_sapiens                  0\n",
      "                                        lemur                         11\n",
      "leukocyte                               mouse_tabula_muris_senis     354\n",
      "                                        human_sapiens                  0\n",
      "                                        lemur                          0\n",
      "lymphocyte                              mouse_tabula_muris_senis       0\n",
      "                                        human_sapiens                  0\n",
      "                                        lemur                         64\n",
      "macrophage                              mouse_tabula_muris_senis       0\n",
      "                                        human_sapiens               4695\n",
      "                                        lemur                        416\n",
      "mast cell                               mouse_tabula_muris_senis       0\n",
      "                                        human_sapiens                916\n",
      "                                        lemur                          0\n",
      "mesenchymal cell                        mouse_tabula_muris_senis       0\n",
      "                                        human_sapiens               2839\n",
      "                                        lemur                          0\n",
      "mesenchymal stem cell                   mouse_tabula_muris_senis       0\n",
      "                                        human_sapiens               1945\n",
      "                                        lemur                          0\n",
      "mesothelial cell                        mouse_tabula_muris_senis       0\n",
      "                                        human_sapiens                  0\n",
      "                                        lemur                         39\n",
      "monocyte                                mouse_tabula_muris_senis       0\n",
      "                                        human_sapiens                  0\n",
      "                                        lemur                        373\n",
      "myelinating Schwann cell                mouse_tabula_muris_senis       0\n",
      "                                        human_sapiens                  0\n",
      "                                        lemur                          5\n",
      "myofibroblast cell                      mouse_tabula_muris_senis       0\n",
      "                                        human_sapiens               1710\n",
      "                                        lemur                        226\n",
      "nan                                     mouse_tabula_muris_senis       0\n",
      "                                        human_sapiens                  0\n",
      "                                        lemur                        116\n",
      "neutrophil                              mouse_tabula_muris_senis       0\n",
      "                                        human_sapiens                  0\n",
      "                                        lemur                       1193\n",
      "non-myelinating Schwann cell            mouse_tabula_muris_senis       0\n",
      "                                        human_sapiens                  0\n",
      "                                        lemur                         27\n",
      "pericyte cell                           mouse_tabula_muris_senis       0\n",
      "                                        human_sapiens                560\n",
      "                                        lemur                         41\n",
      "plasma cell                             mouse_tabula_muris_senis       0\n",
      "                                        human_sapiens               1101\n",
      "                                        lemur                         12\n",
      "plasmacytoid dendritic cell             mouse_tabula_muris_senis       0\n",
      "                                        human_sapiens                 24\n",
      "                                        lemur                          5\n",
      "smooth muscle cell                      mouse_tabula_muris_senis       0\n",
      "                                        human_sapiens                  0\n",
      "                                        lemur                         10\n",
      "vascular associated smooth muscle cell  mouse_tabula_muris_senis       0\n",
      "                                        human_sapiens                121\n",
      "                                        lemur                        410\n",
      "vein endothelial cell                   mouse_tabula_muris_senis       0\n",
      "                                        human_sapiens                  0\n",
      "                                        lemur                        225\n",
      "dtype: int64\n",
      "AnnData object with n_obs × n_vars = 34232 × 13302\n",
      "    obs: 'age', 'cell_id', 'cell_ontology_class', 'cell_ontology_id', 'free_annotation', 'n_genes', 'sex', 'subtissue', 'tissue', 'species', 'species_latin', 'channel', 'sequencing_run', 'cell_barcode', 'n_counts', 'individual', 'narrow_group', 'broad_group', 'compartment_group', 'cell_id_v1', 'cell_id_v2', 'species_batch'\n",
      "    var: 'mouse_lemur__gene_name-human_hlca', 'mouse__gene_name-human_hlca', 'ensembl_id-human_sapiens', 'len-human_sapiens', 'mouse_lemur__gene_name-lemur', 'mouse__gene_name-lemur', 'name-lemur', 'highly_variable-lemur', 'mouse_lemur__gene_name-mouse_ce', 'mouse__gene_name-mouse_ce', 'n_cells-mouse_tabula_muris_senis', 'mouse_lemur__gene_name-mouse_tabula_muris_senis', 'mouse__gene_name-mouse_tabula_muris_senis'\n",
      "/home/olga/data_lg/data_sm_copy/tabula-microcebus/data-objects/cross-species/concatenated__human-lemur-mouse_10x__one2one_orthologs__bladder.h5ad\n",
      "CPU times: user 1.09 s, sys: 339 ms, total: 1.43 s\n",
      "Wall time: 1.89 s\n"
     ]
    }
   ],
   "source": [
    "def remove_unused_obs_categories(adata):\n",
    "    \"\"\"Remove all unused cell ontology class, free annotations, ages, etc using pandas\"\"\"\n",
    "    for col_name, col_series in adata.obs.items():\n",
    "        try:\n",
    "            adata.obs[col_name] = col_series.cat.remove_unused_categories()\n",
    "        except AttributeError:\n",
    "            continue\n",
    "    return adata\n",
    "\n",
    "\n",
    "\n",
    "\n",
    "for tissue_key, tissue_names in tissues.items():\n",
    "    print(f'--- {tissue_key} ---')\n",
    "    combined_tissue = combined[combined.obs.tissue.isin(tissue_names)]\n",
    "    \n",
    "    # Remove all unused cell ontology class, free annotations, ages, etc\n",
    "    combined_tissue = remove_unused_obs_categories(combined_tissue)\n",
    "    \n",
    "    celltype_col = tissue_to_celltype_col[tissue_key]\n",
    "    print(combined_tissue.obs.groupby([celltype_col, 'species_batch']).size())\n",
    "    \n",
    "    print(combined_tissue)\n",
    "#     for d in outdirs:\n",
    "    h5ad = os.path.join(\n",
    "        outdir_local,\n",
    "        f'concatenated__human-lemur-mouse_10x__one2one_orthologs__{tissue_key}.h5ad')\n",
    "\n",
    "    print(h5ad)\n",
    "    %time combined_tissue.write(h5ad)"
   ]
  },
  {
   "cell_type": "code",
   "execution_count": 10,
   "metadata": {},
   "outputs": [
    {
     "data": {
      "text/plain": [
       "narrow_group                                      species_batch           \n",
       "B cell                                            mouse_tabula_muris_senis       0\n",
       "                                                  human_sapiens                216\n",
       "                                                  lemur                         37\n",
       "CD4+ T cell                                       mouse_tabula_muris_senis       0\n",
       "                                                  human_sapiens                  0\n",
       "                                                  lemur                        374\n",
       "FLT3+ IGSF6+ dendritic cell                       mouse_tabula_muris_senis       0\n",
       "                                                  human_sapiens                  0\n",
       "                                                  lemur                         11\n",
       "Schwann cell                                      mouse_tabula_muris_senis       0\n",
       "                                                  human_sapiens                  0\n",
       "                                                  lemur                         32\n",
       "T cell                                            mouse_tabula_muris_senis       0\n",
       "                                                  human_sapiens               3333\n",
       "                                                  lemur                          0\n",
       "adipocyte                                         mouse_tabula_muris_senis       0\n",
       "                                                  human_sapiens                  0\n",
       "                                                  lemur                          5\n",
       "artery cell                                       mouse_tabula_muris_senis       0\n",
       "                                                  human_sapiens                  0\n",
       "                                                  lemur                         91\n",
       "basophil                                          mouse_tabula_muris_senis       0\n",
       "                                                  human_sapiens                  0\n",
       "                                                  lemur                         12\n",
       "capillary cell                                    mouse_tabula_muris_senis       0\n",
       "                                                  human_sapiens                  0\n",
       "                                                  lemur                        154\n",
       "conventional dendritic cell                       mouse_tabula_muris_senis       0\n",
       "                                                  human_sapiens                  0\n",
       "                                                  lemur                         23\n",
       "doublet                                           mouse_tabula_muris_senis       0\n",
       "                                                  human_sapiens                  0\n",
       "                                                  lemur                        116\n",
       "endothelial cell                                  mouse_tabula_muris_senis     332\n",
       "                                                  human_sapiens                  0\n",
       "                                                  lemur                          0\n",
       "fibroblast                                        mouse_tabula_muris_senis       0\n",
       "                                                  human_sapiens                  0\n",
       "                                                  lemur                       2372\n",
       "innate lymphoid cell                              mouse_tabula_muris_senis       0\n",
       "                                                  human_sapiens                  0\n",
       "                                                  lemur                         11\n",
       "lymphatic cell                                    mouse_tabula_muris_senis       0\n",
       "                                                  human_sapiens                 49\n",
       "                                                  lemur                         38\n",
       "macrophage                                        mouse_tabula_muris_senis       0\n",
       "                                                  human_sapiens               4695\n",
       "                                                  lemur                        416\n",
       "mature dendritic cell                             mouse_tabula_muris_senis       0\n",
       "                                                  human_sapiens                  0\n",
       "                                                  lemur                         14\n",
       "mesenchymal cell                                  mouse_tabula_muris_senis       0\n",
       "                                                  human_sapiens               4784\n",
       "                                                  lemur                          0\n",
       "mesothelial cell                                  mouse_tabula_muris_senis       0\n",
       "                                                  human_sapiens                  0\n",
       "                                                  lemur                         39\n",
       "monocyte                                          mouse_tabula_muris_senis       0\n",
       "                                                  human_sapiens                  0\n",
       "                                                  lemur                        373\n",
       "myofibroblast cell                                mouse_tabula_muris_senis       0\n",
       "                                                  human_sapiens                  0\n",
       "                                                  lemur                        226\n",
       "nan                                               mouse_tabula_muris_senis    8420\n",
       "                                                  human_sapiens               3660\n",
       "                                                  lemur                        627\n",
       "natural killer cell                               mouse_tabula_muris_senis       0\n",
       "                                                  human_sapiens                172\n",
       "                                                  lemur                          0\n",
       "natural killer cell_T natural killer cell_T cell  mouse_tabula_muris_senis       0\n",
       "                                                  human_sapiens                  0\n",
       "                                                  lemur                         64\n",
       "neutrophil                                        mouse_tabula_muris_senis       0\n",
       "                                                  human_sapiens                  0\n",
       "                                                  lemur                       1193\n",
       "pericyte cell                                     mouse_tabula_muris_senis       0\n",
       "                                                  human_sapiens                560\n",
       "                                                  lemur                         41\n",
       "plasma cell                                       mouse_tabula_muris_senis       0\n",
       "                                                  human_sapiens               1101\n",
       "                                                  lemur                         12\n",
       "plasmacytoid dendritic cell                       mouse_tabula_muris_senis       0\n",
       "                                                  human_sapiens                 24\n",
       "                                                  lemur                          5\n",
       "vascular associated smooth muscle cell            mouse_tabula_muris_senis       0\n",
       "                                                  human_sapiens                  0\n",
       "                                                  lemur                        410\n",
       "vein cell                                         mouse_tabula_muris_senis       0\n",
       "                                                  human_sapiens                  0\n",
       "                                                  lemur                        190\n",
       "dtype: int64"
      ]
     },
     "execution_count": 10,
     "metadata": {},
     "output_type": "execute_result"
    }
   ],
   "source": [
    "combined_tissue.obs.groupby(['narrow_group', 'species_batch']).size()"
   ]
  },
  {
   "cell_type": "code",
   "execution_count": 11,
   "metadata": {},
   "outputs": [
    {
     "data": {
      "text/plain": [
       "AnnData object with n_obs × n_vars = 34232 × 13302\n",
       "    obs: 'age', 'cell_id', 'cell_ontology_class', 'cell_ontology_id', 'free_annotation', 'n_genes', 'sex', 'subtissue', 'tissue', 'species', 'species_latin', 'channel', 'sequencing_run', 'cell_barcode', 'n_counts', 'individual', 'narrow_group', 'broad_group', 'compartment_group', 'cell_id_v1', 'cell_id_v2', 'species_batch'\n",
       "    var: 'mouse_lemur__gene_name-human_hlca', 'mouse__gene_name-human_hlca', 'ensembl_id-human_sapiens', 'len-human_sapiens', 'mouse_lemur__gene_name-lemur', 'mouse__gene_name-lemur', 'name-lemur', 'highly_variable-lemur', 'mouse_lemur__gene_name-mouse_ce', 'mouse__gene_name-mouse_ce', 'n_cells-mouse_tabula_muris_senis', 'mouse_lemur__gene_name-mouse_tabula_muris_senis', 'mouse__gene_name-mouse_tabula_muris_senis'"
      ]
     },
     "execution_count": 11,
     "metadata": {},
     "output_type": "execute_result"
    }
   ],
   "source": [
    "combined_tissue"
   ]
  },
  {
   "cell_type": "code",
   "execution_count": 12,
   "metadata": {},
   "outputs": [
    {
     "data": {
      "text/plain": [
       "age                    category\n",
       "cell_id                category\n",
       "cell_ontology_class    category\n",
       "cell_ontology_id       category\n",
       "free_annotation        category\n",
       "n_genes                 float64\n",
       "sex                    category\n",
       "subtissue              category\n",
       "tissue                 category\n",
       "species                category\n",
       "species_latin          category\n",
       "channel                category\n",
       "sequencing_run         category\n",
       "cell_barcode           category\n",
       "n_counts                float64\n",
       "individual             category\n",
       "narrow_group           category\n",
       "broad_group            category\n",
       "compartment_group      category\n",
       "cell_id_v1             category\n",
       "cell_id_v2             category\n",
       "species_batch          category\n",
       "dtype: object"
      ]
     },
     "execution_count": 12,
     "metadata": {},
     "output_type": "execute_result"
    }
   ],
   "source": [
    "combined_tissue.obs.dtypes"
   ]
  },
  {
   "cell_type": "code",
   "execution_count": 13,
   "metadata": {},
   "outputs": [],
   "source": [
    "for col_name, col_series in combined_tissue.obs.items():\n",
    "    try:\n",
    "        combined_tissue.obs[col_name] = col_series.cat.remove_unused_categories()\n",
    "    except AttributeError:\n",
    "        continue"
   ]
  },
  {
   "cell_type": "code",
   "execution_count": 14,
   "metadata": {},
   "outputs": [
    {
     "data": {
      "text/plain": [
       "'/home/olga/data_lg/data_sm_copy/tabula-microcebus/data-objects/cross-species/concatenated__human-lemur-mouse_10x__one2one_orthologs__bladder.h5ad'"
      ]
     },
     "execution_count": 14,
     "metadata": {},
     "output_type": "execute_result"
    }
   ],
   "source": [
    "h5ad"
   ]
  },
  {
   "cell_type": "code",
   "execution_count": 15,
   "metadata": {},
   "outputs": [
    {
     "data": {
      "text/plain": [
       "('/home/olga/googledrive/TabulaMicrocebus/data/cross-species',\n",
       " '/home/olga/data_lg/data_sm_copy/tabula-microcebus/data-objects/cross-species')"
      ]
     },
     "execution_count": 15,
     "metadata": {},
     "output_type": "execute_result"
    }
   ],
   "source": [
    "outdirs"
   ]
  },
  {
   "cell_type": "code",
   "execution_count": 16,
   "metadata": {},
   "outputs": [
    {
     "name": "stdout",
     "output_type": "stream",
     "text": [
      "-rw-r--r-- 1 olga czb 495M Feb 15 11:53 /home/olga/data_lg/data_sm_copy/tabula-microcebus/data-objects/cross-species/concatenated__human-lemur-mouse_10x__one2one_orthologs__bladder.h5ad\n"
     ]
    }
   ],
   "source": [
    "! ls -lha $h5ad"
   ]
  },
  {
   "cell_type": "code",
   "execution_count": null,
   "metadata": {},
   "outputs": [],
   "source": []
  }
 ],
 "metadata": {
  "history": [
   {
    "cell": {
     "executionCount": 1,
     "executionEventId": "d6c88531-0438-4a61-9c01-48abca6f6c79",
     "hasError": false,
     "id": "f78722c0-caf2-463c-b895-20f2f9bed8e3",
     "outputs": [],
     "persistentId": "71433628-a9b7-4726-b52a-d24980311788",
     "text": "import scanpy"
    },
    "executionTime": "2019-12-14T01:48:08.933Z"
   },
   {
    "cell": {
     "executionCount": 2,
     "executionEventId": "20f71565-21de-468c-bdc3-c74404ae9df4",
     "hasError": false,
     "id": "992ef167-ffd1-4b00-be04-806569eba63b",
     "outputs": [
      {
       "name": "stdout",
       "output_type": "stream",
       "text": "-rw-r--r-- 1 5027 35914619564 Dec 13 14:43 /mnt/ibm_lg/angela/mouse-lemur-10X.h5ad\n"
      }
     ],
     "persistentId": "5eb6d628-c735-4dd7-b775-679a853b37db",
     "text": "ll /mnt/ibm_lg/angela/mouse-*.h5ad "
    },
    "executionTime": "2019-12-14T01:48:14.658Z"
   },
   {
    "cell": {
     "executionCount": 3,
     "executionEventId": "ed7126b7-e5b5-4cfb-8ca9-bb728a907815",
     "hasError": false,
     "id": "992ef167-ffd1-4b00-be04-806569eba63b",
     "outputs": [
      {
       "name": "stdout",
       "output_type": "stream",
       "text": "-rw-r--r-- 1 5027 czb 34G Dec 13 14:43 /mnt/ibm_lg/angela/mouse-lemur-10X.h5ad\n"
      }
     ],
     "persistentId": "5eb6d628-c735-4dd7-b775-679a853b37db",
     "text": "ls -lha /mnt/ibm_lg/angela/mouse-*.h5ad "
    },
    "executionTime": "2019-12-14T01:48:21.462Z"
   },
   {
    "cell": {
     "executionCount": 5,
     "executionEventId": "bce6f16e-5e85-4ded-a7f6-979007c0acd9",
     "hasError": false,
     "id": "f8a75e92-4411-4084-b47f-d2911eaa8ba5",
     "outputs": [
      {
       "name": "stdout",
       "output_type": "stream",
       "text": "CPU times: user 3.76 s, sys: 1min 38s, total: 1min 42s\nWall time: 10min 18s\n"
      },
      {
       "data": {
        "text/plain": "AnnData object with n_obs × n_vars = 281852 × 31789 \n    obs: '10X_SS2', 'adipose_score', 'animal', 'batch', 'channel', 'cluster_ids', 'compartment_final', 'compartment_original', 'endothelial_score', 'epithelial_score', 'erythrocyte_score', 'free_annotation', 'immune_score', 'individual', 'macrophage_score', 'method', 'muscle_score', 'n_counts', 'n_genes', 'neuronal_score', 'orig_ident', 'percent_ribo', 'plasma_score', 'platelet_score', 'processed', 'region', 'res_0_75', 'res_1', 'res_1_2', 'res_1_5', 'res_2', 'species', 'stromal_score', 'tissue'"
       },
       "execution_count": 5,
       "metadata": {},
       "output_type": "execute_result"
      }
     ],
     "persistentId": "294f7a9c-a653-4642-9fd5-bcf9c944243d",
     "text": "%%time\n\nh5ad = '/mnt/ibm_lg/angela/mouse-lemur-10X.h5ad'\n\nlemur = scanpy.read_h5ad(h5ad)\nlemur"
    },
    "executionTime": "2019-12-14T02:09:17.907Z"
   },
   {
    "cell": {
     "executionCount": 6,
     "executionEventId": "7fe6c93b-6bdb-4d6e-816e-2a6b25a17453",
     "hasError": true,
     "id": "d813a470-fcd7-4350-b42a-b5a91cd91d17",
     "outputs": [
      {
       "ename": "NameError",
       "evalue": "name 'outdir' is not defined",
       "output_type": "error",
       "traceback": [
        "\u001b[0;31m---------------------------------------------------------------------------\u001b[0m",
        "\u001b[0;31mNameError\u001b[0m                                 Traceback (most recent call last)",
        "\u001b[0;32m<ipython-input-6-1bdd56f11e68>\u001b[0m in \u001b[0;36m<module>\u001b[0;34m\u001b[0m\n\u001b[1;32m      6\u001b[0m \u001b[0;32mfor\u001b[0m \u001b[0mspecies\u001b[0m \u001b[0;32min\u001b[0m \u001b[0mspeciess\u001b[0m\u001b[0;34m:\u001b[0m\u001b[0;34m\u001b[0m\u001b[0;34m\u001b[0m\u001b[0m\n\u001b[1;32m      7\u001b[0m \u001b[0;34m\u001b[0m\u001b[0m\n\u001b[0;32m----> 8\u001b[0;31m     \u001b[0mh5ad\u001b[0m \u001b[0;34m=\u001b[0m \u001b[0;34mf'{outdir}/lung__10x__{species}__one2one_orthologs.h5ad'\u001b[0m\u001b[0;34m\u001b[0m\u001b[0;34m\u001b[0m\u001b[0m\n\u001b[0m\u001b[1;32m      9\u001b[0m     \u001b[0madata\u001b[0m \u001b[0;34m=\u001b[0m \u001b[0mscanpy\u001b[0m\u001b[0;34m.\u001b[0m\u001b[0mread_h5ad\u001b[0m\u001b[0;34m(\u001b[0m\u001b[0mh5ad\u001b[0m\u001b[0;34m)\u001b[0m\u001b[0;34m\u001b[0m\u001b[0;34m\u001b[0m\u001b[0m\n\u001b[1;32m     10\u001b[0m     \u001b[0madatas\u001b[0m\u001b[0;34m[\u001b[0m\u001b[0mspecies\u001b[0m\u001b[0;34m]\u001b[0m \u001b[0;34m=\u001b[0m \u001b[0madata\u001b[0m\u001b[0;34m\u001b[0m\u001b[0;34m\u001b[0m\u001b[0m\n",
        "\u001b[0;31mNameError\u001b[0m: name 'outdir' is not defined"
       ]
      }
     ],
     "persistentId": "f81e7e69-9eb1-4f8a-b988-8af4938edb44",
     "text": "folder = '/home/olga/googledrive/TabulaMicrocebus/data/cross-species'\n\nspeciess = ['mouse', 'lemur', 'human']\n\nadatas = {}\nfor species in speciess:\n    \n    h5ad = f'{outdir}/lung__10x__{species}__one2one_orthologs.h5ad'\n    adata = scanpy.read_h5ad(h5ad)\n    adatas[species] = adata"
    },
    "executionTime": "2019-12-14T18:56:04.145Z"
   },
   {
    "cell": {
     "executionCount": 1,
     "executionEventId": "9c76d8be-ae5e-4890-820b-b9dfaa46edd3",
     "hasError": false,
     "id": "992ef167-ffd1-4b00-be04-806569eba63b",
     "outputs": [],
     "persistentId": "5eb6d628-c735-4dd7-b775-679a853b37db",
     "text": "import scanpy\nimport pandas as pd\nimport seaborn as sns"
    },
    "executionTime": "2019-12-14T18:56:21.144Z"
   },
   {
    "cell": {
     "executionCount": 2,
     "executionEventId": "51d9452d-53a6-4118-9acf-349779f2e27d",
     "hasError": true,
     "id": "d813a470-fcd7-4350-b42a-b5a91cd91d17",
     "outputs": [
      {
       "ename": "OSError",
       "evalue": "Unable to open file (unable to open file: name = '/home/olga/googledrive/TabulaMicrocebus/data/cross-species/lung__10x__mouse__one2one_orthologs.h5ad', errno = 2, error message = 'No such file or directory', flags = 0, o_flags = 0)",
       "output_type": "error",
       "traceback": [
        "\u001b[0;31m---------------------------------------------------------------------------\u001b[0m",
        "\u001b[0;31mOSError\u001b[0m                                   Traceback (most recent call last)",
        "\u001b[0;32m<ipython-input-2-46a7f76a305d>\u001b[0m in \u001b[0;36m<module>\u001b[0;34m\u001b[0m\n\u001b[1;32m      7\u001b[0m \u001b[0;34m\u001b[0m\u001b[0m\n\u001b[1;32m      8\u001b[0m     \u001b[0mh5ad\u001b[0m \u001b[0;34m=\u001b[0m \u001b[0;34mf'{folder}/lung__10x__{species}__one2one_orthologs.h5ad'\u001b[0m\u001b[0;34m\u001b[0m\u001b[0;34m\u001b[0m\u001b[0m\n\u001b[0;32m----> 9\u001b[0;31m     \u001b[0madata\u001b[0m \u001b[0;34m=\u001b[0m \u001b[0mscanpy\u001b[0m\u001b[0;34m.\u001b[0m\u001b[0mread_h5ad\u001b[0m\u001b[0;34m(\u001b[0m\u001b[0mh5ad\u001b[0m\u001b[0;34m)\u001b[0m\u001b[0;34m\u001b[0m\u001b[0;34m\u001b[0m\u001b[0m\n\u001b[0m\u001b[1;32m     10\u001b[0m     \u001b[0madatas\u001b[0m\u001b[0;34m[\u001b[0m\u001b[0mspecies\u001b[0m\u001b[0;34m]\u001b[0m \u001b[0;34m=\u001b[0m \u001b[0madata\u001b[0m\u001b[0;34m\u001b[0m\u001b[0;34m\u001b[0m\u001b[0m\n",
        "\u001b[0;32m~/miniconda3/envs/sc-tutorial/lib/python3.7/site-packages/anndata/readwrite/read.py\u001b[0m in \u001b[0;36mread_h5ad\u001b[0;34m(filename, backed, chunk_size)\u001b[0m\n\u001b[1;32m    445\u001b[0m     \u001b[0;32melse\u001b[0m\u001b[0;34m:\u001b[0m\u001b[0;34m\u001b[0m\u001b[0;34m\u001b[0m\u001b[0m\n\u001b[1;32m    446\u001b[0m         \u001b[0;31m# load everything into memory\u001b[0m\u001b[0;34m\u001b[0m\u001b[0;34m\u001b[0m\u001b[0;34m\u001b[0m\u001b[0m\n\u001b[0;32m--> 447\u001b[0;31m         \u001b[0mconstructor_args\u001b[0m \u001b[0;34m=\u001b[0m \u001b[0m_read_args_from_h5ad\u001b[0m\u001b[0;34m(\u001b[0m\u001b[0mfilename\u001b[0m\u001b[0;34m=\u001b[0m\u001b[0mfilename\u001b[0m\u001b[0;34m,\u001b[0m \u001b[0mchunk_size\u001b[0m\u001b[0;34m=\u001b[0m\u001b[0mchunk_size\u001b[0m\u001b[0;34m)\u001b[0m\u001b[0;34m\u001b[0m\u001b[0;34m\u001b[0m\u001b[0m\n\u001b[0m\u001b[1;32m    448\u001b[0m         \u001b[0mX\u001b[0m \u001b[0;34m=\u001b[0m \u001b[0mconstructor_args\u001b[0m\u001b[0;34m[\u001b[0m\u001b[0;36m0\u001b[0m\u001b[0;34m]\u001b[0m\u001b[0;34m\u001b[0m\u001b[0;34m\u001b[0m\u001b[0m\n\u001b[1;32m    449\u001b[0m         \u001b[0mdtype\u001b[0m \u001b[0;34m=\u001b[0m \u001b[0;32mNone\u001b[0m\u001b[0;34m\u001b[0m\u001b[0;34m\u001b[0m\u001b[0m\n",
        "\u001b[0;32m~/miniconda3/envs/sc-tutorial/lib/python3.7/site-packages/anndata/readwrite/read.py\u001b[0m in \u001b[0;36m_read_args_from_h5ad\u001b[0;34m(adata, filename, mode, chunk_size)\u001b[0m\n\u001b[1;32m    479\u001b[0m         \u001b[0mf\u001b[0m \u001b[0;34m=\u001b[0m \u001b[0madata\u001b[0m\u001b[0;34m.\u001b[0m\u001b[0mfile\u001b[0m\u001b[0;34m.\u001b[0m\u001b[0m_file\u001b[0m\u001b[0;34m\u001b[0m\u001b[0;34m\u001b[0m\u001b[0m\n\u001b[1;32m    480\u001b[0m     \u001b[0;32melse\u001b[0m\u001b[0;34m:\u001b[0m\u001b[0;34m\u001b[0m\u001b[0;34m\u001b[0m\u001b[0m\n\u001b[0;32m--> 481\u001b[0;31m         \u001b[0mf\u001b[0m \u001b[0;34m=\u001b[0m \u001b[0mh5py\u001b[0m\u001b[0;34m.\u001b[0m\u001b[0mFile\u001b[0m\u001b[0;34m(\u001b[0m\u001b[0mfilename\u001b[0m\u001b[0;34m,\u001b[0m \u001b[0;34m'r'\u001b[0m\u001b[0;34m)\u001b[0m\u001b[0;34m\u001b[0m\u001b[0;34m\u001b[0m\u001b[0m\n\u001b[0m\u001b[1;32m    482\u001b[0m     \u001b[0;32mfor\u001b[0m \u001b[0mkey\u001b[0m \u001b[0;32min\u001b[0m \u001b[0mf\u001b[0m\u001b[0;34m.\u001b[0m\u001b[0mkeys\u001b[0m\u001b[0;34m(\u001b[0m\u001b[0;34m)\u001b[0m\u001b[0;34m:\u001b[0m\u001b[0;34m\u001b[0m\u001b[0;34m\u001b[0m\u001b[0m\n\u001b[1;32m    483\u001b[0m         \u001b[0;32mif\u001b[0m \u001b[0mbacked\u001b[0m \u001b[0;32mand\u001b[0m \u001b[0mkey\u001b[0m \u001b[0;32min\u001b[0m \u001b[0mAnnData\u001b[0m\u001b[0;34m.\u001b[0m\u001b[0m_BACKED_ATTRS\u001b[0m\u001b[0;34m:\u001b[0m\u001b[0;34m\u001b[0m\u001b[0;34m\u001b[0m\u001b[0m\n",
        "\u001b[0;32m~/miniconda3/envs/sc-tutorial/lib/python3.7/site-packages/anndata/h5py/h5sparse.py\u001b[0m in \u001b[0;36m__init__\u001b[0;34m(self, name, mode, driver, libver, userblock_size, swmr, force_dense, **kwds)\u001b[0m\n\u001b[1;32m    160\u001b[0m             \u001b[0muserblock_size\u001b[0m\u001b[0;34m=\u001b[0m\u001b[0muserblock_size\u001b[0m\u001b[0;34m,\u001b[0m\u001b[0;34m\u001b[0m\u001b[0;34m\u001b[0m\u001b[0m\n\u001b[1;32m    161\u001b[0m             \u001b[0mswmr\u001b[0m\u001b[0;34m=\u001b[0m\u001b[0mswmr\u001b[0m\u001b[0;34m,\u001b[0m\u001b[0;34m\u001b[0m\u001b[0;34m\u001b[0m\u001b[0m\n\u001b[0;32m--> 162\u001b[0;31m             \u001b[0;34m**\u001b[0m\u001b[0mkwds\u001b[0m\u001b[0;34m,\u001b[0m\u001b[0;34m\u001b[0m\u001b[0;34m\u001b[0m\u001b[0m\n\u001b[0m\u001b[1;32m    163\u001b[0m         )\n\u001b[1;32m    164\u001b[0m         \u001b[0msuper\u001b[0m\u001b[0;34m(\u001b[0m\u001b[0;34m)\u001b[0m\u001b[0;34m.\u001b[0m\u001b[0m__init__\u001b[0m\u001b[0;34m(\u001b[0m\u001b[0mself\u001b[0m\u001b[0;34m.\u001b[0m\u001b[0mh5f\u001b[0m\u001b[0;34m,\u001b[0m \u001b[0mforce_dense\u001b[0m\u001b[0;34m)\u001b[0m\u001b[0;34m\u001b[0m\u001b[0;34m\u001b[0m\u001b[0m\n",
        "\u001b[0;32m~/miniconda3/envs/sc-tutorial/lib/python3.7/site-packages/h5py/_hl/files.py\u001b[0m in \u001b[0;36m__init__\u001b[0;34m(self, name, mode, driver, libver, userblock_size, swmr, rdcc_nslots, rdcc_nbytes, rdcc_w0, track_order, **kwds)\u001b[0m\n\u001b[1;32m    406\u001b[0m                 fid = make_fid(name, mode, userblock_size,\n\u001b[1;32m    407\u001b[0m                                \u001b[0mfapl\u001b[0m\u001b[0;34m,\u001b[0m \u001b[0mfcpl\u001b[0m\u001b[0;34m=\u001b[0m\u001b[0mmake_fcpl\u001b[0m\u001b[0;34m(\u001b[0m\u001b[0mtrack_order\u001b[0m\u001b[0;34m=\u001b[0m\u001b[0mtrack_order\u001b[0m\u001b[0;34m)\u001b[0m\u001b[0;34m,\u001b[0m\u001b[0;34m\u001b[0m\u001b[0;34m\u001b[0m\u001b[0m\n\u001b[0;32m--> 408\u001b[0;31m                                swmr=swmr)\n\u001b[0m\u001b[1;32m    409\u001b[0m \u001b[0;34m\u001b[0m\u001b[0m\n\u001b[1;32m    410\u001b[0m             \u001b[0;32mif\u001b[0m \u001b[0misinstance\u001b[0m\u001b[0;34m(\u001b[0m\u001b[0mlibver\u001b[0m\u001b[0;34m,\u001b[0m \u001b[0mtuple\u001b[0m\u001b[0;34m)\u001b[0m\u001b[0;34m:\u001b[0m\u001b[0;34m\u001b[0m\u001b[0;34m\u001b[0m\u001b[0m\n",
        "\u001b[0;32m~/miniconda3/envs/sc-tutorial/lib/python3.7/site-packages/h5py/_hl/files.py\u001b[0m in \u001b[0;36mmake_fid\u001b[0;34m(name, mode, userblock_size, fapl, fcpl, swmr)\u001b[0m\n\u001b[1;32m    171\u001b[0m         \u001b[0;32mif\u001b[0m \u001b[0mswmr\u001b[0m \u001b[0;32mand\u001b[0m \u001b[0mswmr_support\u001b[0m\u001b[0;34m:\u001b[0m\u001b[0;34m\u001b[0m\u001b[0;34m\u001b[0m\u001b[0m\n\u001b[1;32m    172\u001b[0m             \u001b[0mflags\u001b[0m \u001b[0;34m|=\u001b[0m \u001b[0mh5f\u001b[0m\u001b[0;34m.\u001b[0m\u001b[0mACC_SWMR_READ\u001b[0m\u001b[0;34m\u001b[0m\u001b[0;34m\u001b[0m\u001b[0m\n\u001b[0;32m--> 173\u001b[0;31m         \u001b[0mfid\u001b[0m \u001b[0;34m=\u001b[0m \u001b[0mh5f\u001b[0m\u001b[0;34m.\u001b[0m\u001b[0mopen\u001b[0m\u001b[0;34m(\u001b[0m\u001b[0mname\u001b[0m\u001b[0;34m,\u001b[0m \u001b[0mflags\u001b[0m\u001b[0;34m,\u001b[0m \u001b[0mfapl\u001b[0m\u001b[0;34m=\u001b[0m\u001b[0mfapl\u001b[0m\u001b[0;34m)\u001b[0m\u001b[0;34m\u001b[0m\u001b[0;34m\u001b[0m\u001b[0m\n\u001b[0m\u001b[1;32m    174\u001b[0m     \u001b[0;32melif\u001b[0m \u001b[0mmode\u001b[0m \u001b[0;34m==\u001b[0m \u001b[0;34m'r+'\u001b[0m\u001b[0;34m:\u001b[0m\u001b[0;34m\u001b[0m\u001b[0;34m\u001b[0m\u001b[0m\n\u001b[1;32m    175\u001b[0m         \u001b[0mfid\u001b[0m \u001b[0;34m=\u001b[0m \u001b[0mh5f\u001b[0m\u001b[0;34m.\u001b[0m\u001b[0mopen\u001b[0m\u001b[0;34m(\u001b[0m\u001b[0mname\u001b[0m\u001b[0;34m,\u001b[0m \u001b[0mh5f\u001b[0m\u001b[0;34m.\u001b[0m\u001b[0mACC_RDWR\u001b[0m\u001b[0;34m,\u001b[0m \u001b[0mfapl\u001b[0m\u001b[0;34m=\u001b[0m\u001b[0mfapl\u001b[0m\u001b[0;34m)\u001b[0m\u001b[0;34m\u001b[0m\u001b[0;34m\u001b[0m\u001b[0m\n",
        "\u001b[0;32mh5py/_objects.pyx\u001b[0m in \u001b[0;36mh5py._objects.with_phil.wrapper\u001b[0;34m()\u001b[0m\n",
        "\u001b[0;32mh5py/_objects.pyx\u001b[0m in \u001b[0;36mh5py._objects.with_phil.wrapper\u001b[0;34m()\u001b[0m\n",
        "\u001b[0;32mh5py/h5f.pyx\u001b[0m in \u001b[0;36mh5py.h5f.open\u001b[0;34m()\u001b[0m\n",
        "\u001b[0;31mOSError\u001b[0m: Unable to open file (unable to open file: name = '/home/olga/googledrive/TabulaMicrocebus/data/cross-species/lung__10x__mouse__one2one_orthologs.h5ad', errno = 2, error message = 'No such file or directory', flags = 0, o_flags = 0)"
       ]
      }
     ],
     "persistentId": "f81e7e69-9eb1-4f8a-b988-8af4938edb44",
     "text": "folder = '/home/olga/googledrive/TabulaMicrocebus/data/cross-species'\n\nspeciess = ['mouse', 'lemur', 'human']\n\nadatas = {}\nfor species in speciess:\n    \n    h5ad = f'{folder}/lung__10x__{species}__one2one_orthologs.h5ad'\n    adata = scanpy.read_h5ad(h5ad)\n    adatas[species] = adata"
    },
    "executionTime": "2019-12-14T18:56:22.095Z"
   },
   {
    "cell": {
     "executionCount": 3,
     "executionEventId": "8aa8e639-9fee-4f85-bfa6-67c9bbb7bfd3",
     "hasError": true,
     "id": "d813a470-fcd7-4350-b42a-b5a91cd91d17",
     "outputs": [
      {
       "name": "stdout",
       "output_type": "stream",
       "text": "CPU times: user 0 ns, sys: 0 ns, total: 0 ns\nWall time: 26.5 µs\nCPU times: user 0 ns, sys: 0 ns, total: 0 ns\nWall time: 15.5 µs\n"
      },
      {
       "ename": "OSError",
       "evalue": "Unable to open file (unable to open file: name = '/home/olga/googledrive/TabulaMicrocebus/data/cross-species/lung__10x__mouse__one2one_orthologs.h5ad', errno = 2, error message = 'No such file or directory', flags = 0, o_flags = 0)",
       "output_type": "error",
       "traceback": [
        "\u001b[0;31m---------------------------------------------------------------------------\u001b[0m",
        "\u001b[0;31mOSError\u001b[0m                                   Traceback (most recent call last)",
        "\u001b[0;32m<ipython-input-3-f9b037f540eb>\u001b[0m in \u001b[0;36m<module>\u001b[0;34m\u001b[0m\n\u001b[1;32m      7\u001b[0m \u001b[0;34m\u001b[0m\u001b[0m\n\u001b[1;32m      8\u001b[0m     \u001b[0mget_ipython\u001b[0m\u001b[0;34m(\u001b[0m\u001b[0;34m)\u001b[0m\u001b[0;34m.\u001b[0m\u001b[0mrun_line_magic\u001b[0m\u001b[0;34m(\u001b[0m\u001b[0;34m'time'\u001b[0m\u001b[0;34m,\u001b[0m \u001b[0;34m\"h5ad = f'{folder}/lung__10x__{species}__one2one_orthologs.h5ad'\"\u001b[0m\u001b[0;34m)\u001b[0m\u001b[0;34m\u001b[0m\u001b[0;34m\u001b[0m\u001b[0m\n\u001b[0;32m----> 9\u001b[0;31m     \u001b[0madata\u001b[0m \u001b[0;34m=\u001b[0m \u001b[0mscanpy\u001b[0m\u001b[0;34m.\u001b[0m\u001b[0mread_h5ad\u001b[0m\u001b[0;34m(\u001b[0m\u001b[0mh5ad\u001b[0m\u001b[0;34m)\u001b[0m\u001b[0;34m\u001b[0m\u001b[0;34m\u001b[0m\u001b[0m\n\u001b[0m\u001b[1;32m     10\u001b[0m     \u001b[0madatas\u001b[0m\u001b[0;34m[\u001b[0m\u001b[0mspecies\u001b[0m\u001b[0;34m]\u001b[0m \u001b[0;34m=\u001b[0m \u001b[0madata\u001b[0m\u001b[0;34m\u001b[0m\u001b[0;34m\u001b[0m\u001b[0m\n",
        "\u001b[0;32m~/miniconda3/envs/sc-tutorial/lib/python3.7/site-packages/anndata/readwrite/read.py\u001b[0m in \u001b[0;36mread_h5ad\u001b[0;34m(filename, backed, chunk_size)\u001b[0m\n\u001b[1;32m    445\u001b[0m     \u001b[0;32melse\u001b[0m\u001b[0;34m:\u001b[0m\u001b[0;34m\u001b[0m\u001b[0;34m\u001b[0m\u001b[0m\n\u001b[1;32m    446\u001b[0m         \u001b[0;31m# load everything into memory\u001b[0m\u001b[0;34m\u001b[0m\u001b[0;34m\u001b[0m\u001b[0;34m\u001b[0m\u001b[0m\n\u001b[0;32m--> 447\u001b[0;31m         \u001b[0mconstructor_args\u001b[0m \u001b[0;34m=\u001b[0m \u001b[0m_read_args_from_h5ad\u001b[0m\u001b[0;34m(\u001b[0m\u001b[0mfilename\u001b[0m\u001b[0;34m=\u001b[0m\u001b[0mfilename\u001b[0m\u001b[0;34m,\u001b[0m \u001b[0mchunk_size\u001b[0m\u001b[0;34m=\u001b[0m\u001b[0mchunk_size\u001b[0m\u001b[0;34m)\u001b[0m\u001b[0;34m\u001b[0m\u001b[0;34m\u001b[0m\u001b[0m\n\u001b[0m\u001b[1;32m    448\u001b[0m         \u001b[0mX\u001b[0m \u001b[0;34m=\u001b[0m \u001b[0mconstructor_args\u001b[0m\u001b[0;34m[\u001b[0m\u001b[0;36m0\u001b[0m\u001b[0;34m]\u001b[0m\u001b[0;34m\u001b[0m\u001b[0;34m\u001b[0m\u001b[0m\n\u001b[1;32m    449\u001b[0m         \u001b[0mdtype\u001b[0m \u001b[0;34m=\u001b[0m \u001b[0;32mNone\u001b[0m\u001b[0;34m\u001b[0m\u001b[0;34m\u001b[0m\u001b[0m\n",
        "\u001b[0;32m~/miniconda3/envs/sc-tutorial/lib/python3.7/site-packages/anndata/readwrite/read.py\u001b[0m in \u001b[0;36m_read_args_from_h5ad\u001b[0;34m(adata, filename, mode, chunk_size)\u001b[0m\n\u001b[1;32m    479\u001b[0m         \u001b[0mf\u001b[0m \u001b[0;34m=\u001b[0m \u001b[0madata\u001b[0m\u001b[0;34m.\u001b[0m\u001b[0mfile\u001b[0m\u001b[0;34m.\u001b[0m\u001b[0m_file\u001b[0m\u001b[0;34m\u001b[0m\u001b[0;34m\u001b[0m\u001b[0m\n\u001b[1;32m    480\u001b[0m     \u001b[0;32melse\u001b[0m\u001b[0;34m:\u001b[0m\u001b[0;34m\u001b[0m\u001b[0;34m\u001b[0m\u001b[0m\n\u001b[0;32m--> 481\u001b[0;31m         \u001b[0mf\u001b[0m \u001b[0;34m=\u001b[0m \u001b[0mh5py\u001b[0m\u001b[0;34m.\u001b[0m\u001b[0mFile\u001b[0m\u001b[0;34m(\u001b[0m\u001b[0mfilename\u001b[0m\u001b[0;34m,\u001b[0m \u001b[0;34m'r'\u001b[0m\u001b[0;34m)\u001b[0m\u001b[0;34m\u001b[0m\u001b[0;34m\u001b[0m\u001b[0m\n\u001b[0m\u001b[1;32m    482\u001b[0m     \u001b[0;32mfor\u001b[0m \u001b[0mkey\u001b[0m \u001b[0;32min\u001b[0m \u001b[0mf\u001b[0m\u001b[0;34m.\u001b[0m\u001b[0mkeys\u001b[0m\u001b[0;34m(\u001b[0m\u001b[0;34m)\u001b[0m\u001b[0;34m:\u001b[0m\u001b[0;34m\u001b[0m\u001b[0;34m\u001b[0m\u001b[0m\n\u001b[1;32m    483\u001b[0m         \u001b[0;32mif\u001b[0m \u001b[0mbacked\u001b[0m \u001b[0;32mand\u001b[0m \u001b[0mkey\u001b[0m \u001b[0;32min\u001b[0m \u001b[0mAnnData\u001b[0m\u001b[0;34m.\u001b[0m\u001b[0m_BACKED_ATTRS\u001b[0m\u001b[0;34m:\u001b[0m\u001b[0;34m\u001b[0m\u001b[0;34m\u001b[0m\u001b[0m\n",
        "\u001b[0;32m~/miniconda3/envs/sc-tutorial/lib/python3.7/site-packages/anndata/h5py/h5sparse.py\u001b[0m in \u001b[0;36m__init__\u001b[0;34m(self, name, mode, driver, libver, userblock_size, swmr, force_dense, **kwds)\u001b[0m\n\u001b[1;32m    160\u001b[0m             \u001b[0muserblock_size\u001b[0m\u001b[0;34m=\u001b[0m\u001b[0muserblock_size\u001b[0m\u001b[0;34m,\u001b[0m\u001b[0;34m\u001b[0m\u001b[0;34m\u001b[0m\u001b[0m\n\u001b[1;32m    161\u001b[0m             \u001b[0mswmr\u001b[0m\u001b[0;34m=\u001b[0m\u001b[0mswmr\u001b[0m\u001b[0;34m,\u001b[0m\u001b[0;34m\u001b[0m\u001b[0;34m\u001b[0m\u001b[0m\n\u001b[0;32m--> 162\u001b[0;31m             \u001b[0;34m**\u001b[0m\u001b[0mkwds\u001b[0m\u001b[0;34m,\u001b[0m\u001b[0;34m\u001b[0m\u001b[0;34m\u001b[0m\u001b[0m\n\u001b[0m\u001b[1;32m    163\u001b[0m         )\n\u001b[1;32m    164\u001b[0m         \u001b[0msuper\u001b[0m\u001b[0;34m(\u001b[0m\u001b[0;34m)\u001b[0m\u001b[0;34m.\u001b[0m\u001b[0m__init__\u001b[0m\u001b[0;34m(\u001b[0m\u001b[0mself\u001b[0m\u001b[0;34m.\u001b[0m\u001b[0mh5f\u001b[0m\u001b[0;34m,\u001b[0m \u001b[0mforce_dense\u001b[0m\u001b[0;34m)\u001b[0m\u001b[0;34m\u001b[0m\u001b[0;34m\u001b[0m\u001b[0m\n",
        "\u001b[0;32m~/miniconda3/envs/sc-tutorial/lib/python3.7/site-packages/h5py/_hl/files.py\u001b[0m in \u001b[0;36m__init__\u001b[0;34m(self, name, mode, driver, libver, userblock_size, swmr, rdcc_nslots, rdcc_nbytes, rdcc_w0, track_order, **kwds)\u001b[0m\n\u001b[1;32m    406\u001b[0m                 fid = make_fid(name, mode, userblock_size,\n\u001b[1;32m    407\u001b[0m                                \u001b[0mfapl\u001b[0m\u001b[0;34m,\u001b[0m \u001b[0mfcpl\u001b[0m\u001b[0;34m=\u001b[0m\u001b[0mmake_fcpl\u001b[0m\u001b[0;34m(\u001b[0m\u001b[0mtrack_order\u001b[0m\u001b[0;34m=\u001b[0m\u001b[0mtrack_order\u001b[0m\u001b[0;34m)\u001b[0m\u001b[0;34m,\u001b[0m\u001b[0;34m\u001b[0m\u001b[0;34m\u001b[0m\u001b[0m\n\u001b[0;32m--> 408\u001b[0;31m                                swmr=swmr)\n\u001b[0m\u001b[1;32m    409\u001b[0m \u001b[0;34m\u001b[0m\u001b[0m\n\u001b[1;32m    410\u001b[0m             \u001b[0;32mif\u001b[0m \u001b[0misinstance\u001b[0m\u001b[0;34m(\u001b[0m\u001b[0mlibver\u001b[0m\u001b[0;34m,\u001b[0m \u001b[0mtuple\u001b[0m\u001b[0;34m)\u001b[0m\u001b[0;34m:\u001b[0m\u001b[0;34m\u001b[0m\u001b[0;34m\u001b[0m\u001b[0m\n",
        "\u001b[0;32m~/miniconda3/envs/sc-tutorial/lib/python3.7/site-packages/h5py/_hl/files.py\u001b[0m in \u001b[0;36mmake_fid\u001b[0;34m(name, mode, userblock_size, fapl, fcpl, swmr)\u001b[0m\n\u001b[1;32m    171\u001b[0m         \u001b[0;32mif\u001b[0m \u001b[0mswmr\u001b[0m \u001b[0;32mand\u001b[0m \u001b[0mswmr_support\u001b[0m\u001b[0;34m:\u001b[0m\u001b[0;34m\u001b[0m\u001b[0;34m\u001b[0m\u001b[0m\n\u001b[1;32m    172\u001b[0m             \u001b[0mflags\u001b[0m \u001b[0;34m|=\u001b[0m \u001b[0mh5f\u001b[0m\u001b[0;34m.\u001b[0m\u001b[0mACC_SWMR_READ\u001b[0m\u001b[0;34m\u001b[0m\u001b[0;34m\u001b[0m\u001b[0m\n\u001b[0;32m--> 173\u001b[0;31m         \u001b[0mfid\u001b[0m \u001b[0;34m=\u001b[0m \u001b[0mh5f\u001b[0m\u001b[0;34m.\u001b[0m\u001b[0mopen\u001b[0m\u001b[0;34m(\u001b[0m\u001b[0mname\u001b[0m\u001b[0;34m,\u001b[0m \u001b[0mflags\u001b[0m\u001b[0;34m,\u001b[0m \u001b[0mfapl\u001b[0m\u001b[0;34m=\u001b[0m\u001b[0mfapl\u001b[0m\u001b[0;34m)\u001b[0m\u001b[0;34m\u001b[0m\u001b[0;34m\u001b[0m\u001b[0m\n\u001b[0m\u001b[1;32m    174\u001b[0m     \u001b[0;32melif\u001b[0m \u001b[0mmode\u001b[0m \u001b[0;34m==\u001b[0m \u001b[0;34m'r+'\u001b[0m\u001b[0;34m:\u001b[0m\u001b[0;34m\u001b[0m\u001b[0;34m\u001b[0m\u001b[0m\n\u001b[1;32m    175\u001b[0m         \u001b[0mfid\u001b[0m \u001b[0;34m=\u001b[0m \u001b[0mh5f\u001b[0m\u001b[0;34m.\u001b[0m\u001b[0mopen\u001b[0m\u001b[0;34m(\u001b[0m\u001b[0mname\u001b[0m\u001b[0;34m,\u001b[0m \u001b[0mh5f\u001b[0m\u001b[0;34m.\u001b[0m\u001b[0mACC_RDWR\u001b[0m\u001b[0;34m,\u001b[0m \u001b[0mfapl\u001b[0m\u001b[0;34m=\u001b[0m\u001b[0mfapl\u001b[0m\u001b[0;34m)\u001b[0m\u001b[0;34m\u001b[0m\u001b[0;34m\u001b[0m\u001b[0m\n",
        "\u001b[0;32mh5py/_objects.pyx\u001b[0m in \u001b[0;36mh5py._objects.with_phil.wrapper\u001b[0;34m()\u001b[0m\n",
        "\u001b[0;32mh5py/_objects.pyx\u001b[0m in \u001b[0;36mh5py._objects.with_phil.wrapper\u001b[0;34m()\u001b[0m\n",
        "\u001b[0;32mh5py/h5f.pyx\u001b[0m in \u001b[0;36mh5py.h5f.open\u001b[0;34m()\u001b[0m\n",
        "\u001b[0;31mOSError\u001b[0m: Unable to open file (unable to open file: name = '/home/olga/googledrive/TabulaMicrocebus/data/cross-species/lung__10x__mouse__one2one_orthologs.h5ad', errno = 2, error message = 'No such file or directory', flags = 0, o_flags = 0)"
       ]
      }
     ],
     "persistentId": "f81e7e69-9eb1-4f8a-b988-8af4938edb44",
     "text": "folder = '/home/olga/googledrive/TabulaMicrocebus/data/cross-species'\n\nspeciess = ['lemur','mouse', 'human']\n\nadatas = {}\nfor species in speciess:\n    \n    %time h5ad = f'{folder}/lung__10x__{species}__one2one_orthologs.h5ad'\n    adata = scanpy.read_h5ad(h5ad)\n    adatas[species] = adata"
    },
    "executionTime": "2019-12-14T19:08:24.024Z"
   },
   {
    "cell": {
     "executionCount": 6,
     "executionEventId": "9ea8eced-7492-489f-a32e-d4d16e2f5527",
     "hasError": true,
     "id": "f1df757b-845b-45b3-936e-cda75ed6ef0f",
     "outputs": [
      {
       "ename": "NameError",
       "evalue": "name 'adata1' is not defined",
       "output_type": "error",
       "traceback": [
        "\u001b[0;31m---------------------------------------------------------------------------\u001b[0m",
        "\u001b[0;31mNameError\u001b[0m                                 Traceback (most recent call last)",
        "\u001b[0;32m<ipython-input-6-770b03525826>\u001b[0m in \u001b[0;36m<module>\u001b[0;34m\u001b[0m\n\u001b[0;32m----> 1\u001b[0;31m \u001b[0madata1\u001b[0m\u001b[0;34m.\u001b[0m\u001b[0mvar\u001b[0m\u001b[0;34m.\u001b[0m\u001b[0mhead\u001b[0m\u001b[0;34m(\u001b[0m\u001b[0;34m)\u001b[0m\u001b[0;34m\u001b[0m\u001b[0;34m\u001b[0m\u001b[0m\n\u001b[0m",
        "\u001b[0;31mNameError\u001b[0m: name 'adata1' is not defined"
       ]
      }
     ],
     "persistentId": "f767b9e8-c8c6-409e-b9ea-a386efa83347",
     "text": "adata1.var.head()"
    },
    "executionTime": "2019-12-14T20:33:51.531Z"
   },
   {
    "cell": {
     "executionCount": 7,
     "executionEventId": "a17c076d-1644-4b71-8a96-108fe8f09363",
     "hasError": false,
     "id": "060ab2fc-fc31-4e8d-9bcd-493f150940a0",
     "outputs": [
      {
       "data": {
        "text/plain": "AnnData object with n_obs × n_vars = 65662 × 12965 \n    obs: 'nGene', 'nUMI', 'orig.ident', 'channel', 'tissue', 'region', 'percent.ribo', 'free_annotation', 'patient', 'sample', 'location', 'magnetic.selection', 'preparation.site', 'compartment', 'species', 'species_latin'"
       },
       "execution_count": 7,
       "metadata": {},
       "output_type": "execute_result"
      }
     ],
     "persistentId": "f82e2f35-b139-40cf-81e3-68a4fd2ebee4",
     "text": "species1 = 'human'\n\n# 'pop' to remove the old species\nadata1 = adatas.pop(species1)\nadata1"
    },
    "executionTime": "2019-12-14T20:33:52.842Z"
   },
   {
    "cell": {
     "executionCount": 8,
     "executionEventId": "b1885604-a677-4765-952e-bc1b0a80d6c4",
     "hasError": false,
     "id": "f1df757b-845b-45b3-936e-cda75ed6ef0f",
     "outputs": [
      {
       "data": {
        "text/html": "<div>\n<style scoped>\n    .dataframe tbody tr th:only-of-type {\n        vertical-align: middle;\n    }\n\n    .dataframe tbody tr th {\n        vertical-align: top;\n    }\n\n    .dataframe thead th {\n        text-align: right;\n    }\n</style>\n<table border=\"1\" class=\"dataframe\">\n  <thead>\n    <tr style=\"text-align: right;\">\n      <th></th>\n    </tr>\n    <tr>\n      <th>index</th>\n    </tr>\n  </thead>\n  <tbody>\n    <tr>\n      <th>SAMD11</th>\n    </tr>\n    <tr>\n      <th>NOC2L</th>\n    </tr>\n    <tr>\n      <th>KLHL17</th>\n    </tr>\n    <tr>\n      <th>PERM1</th>\n    </tr>\n    <tr>\n      <th>ISG15</th>\n    </tr>\n  </tbody>\n</table>\n</div>",
        "text/plain": "Empty DataFrame\nColumns: []\nIndex: [SAMD11, NOC2L, KLHL17, PERM1, ISG15]"
       },
       "execution_count": 8,
       "metadata": {},
       "output_type": "execute_result"
      }
     ],
     "persistentId": "f767b9e8-c8c6-409e-b9ea-a386efa83347",
     "text": "adata1.var.head()"
    },
    "executionTime": "2019-12-14T20:33:55.136Z"
   },
   {
    "cell": {
     "executionCount": 9,
     "executionEventId": "b1e6b97f-e0fc-4940-ae8f-4bbc7de1ec75",
     "hasError": false,
     "id": "b88d0f7f-1b20-411c-bade-db9604f2b898",
     "outputs": [
      {
       "data": {
        "text/html": "<div>\n<style scoped>\n    .dataframe tbody tr th:only-of-type {\n        vertical-align: middle;\n    }\n\n    .dataframe tbody tr th {\n        vertical-align: top;\n    }\n\n    .dataframe thead th {\n        text-align: right;\n    }\n</style>\n<table border=\"1\" class=\"dataframe\">\n  <thead>\n    <tr style=\"text-align: right;\">\n      <th></th>\n      <th>nGene</th>\n      <th>nUMI</th>\n      <th>orig.ident</th>\n      <th>channel</th>\n      <th>tissue</th>\n      <th>region</th>\n      <th>percent.ribo</th>\n      <th>free_annotation</th>\n      <th>patient</th>\n      <th>sample</th>\n      <th>location</th>\n      <th>magnetic.selection</th>\n      <th>preparation.site</th>\n      <th>compartment</th>\n      <th>species</th>\n      <th>species_latin</th>\n    </tr>\n    <tr>\n      <th>index</th>\n      <th></th>\n      <th></th>\n      <th></th>\n      <th></th>\n      <th></th>\n      <th></th>\n      <th></th>\n      <th></th>\n      <th></th>\n      <th></th>\n      <th></th>\n      <th></th>\n      <th></th>\n      <th></th>\n      <th></th>\n      <th></th>\n    </tr>\n  </thead>\n  <tbody>\n    <tr>\n      <th>P2_1_AAACCTGAGAAACCAT</th>\n      <td>1347</td>\n      <td>2914</td>\n      <td>Human Lung 10x - Patient 2</td>\n      <td>P2_1</td>\n      <td>lung</td>\n      <td>normal</td>\n      <td>0.035347</td>\n      <td>Capillary Aerocyte</td>\n      <td>2</td>\n      <td>distal 2</td>\n      <td>distal</td>\n      <td>epithelial</td>\n      <td>biohub</td>\n      <td>endothelial</td>\n      <td>Human</td>\n      <td>Homo sapiens</td>\n    </tr>\n    <tr>\n      <th>P2_1_AAATGCCAGATGAGAG</th>\n      <td>1713</td>\n      <td>4226</td>\n      <td>Human Lung 10x - Patient 2</td>\n      <td>P2_1</td>\n      <td>lung</td>\n      <td>normal</td>\n      <td>0.061051</td>\n      <td>Capillary Aerocyte</td>\n      <td>2</td>\n      <td>distal 2</td>\n      <td>distal</td>\n      <td>epithelial</td>\n      <td>biohub</td>\n      <td>endothelial</td>\n      <td>Human</td>\n      <td>Homo sapiens</td>\n    </tr>\n    <tr>\n      <th>P2_1_AACACGTTCGATCCCT</th>\n      <td>1185</td>\n      <td>2152</td>\n      <td>Human Lung 10x - Patient 2</td>\n      <td>P2_1</td>\n      <td>lung</td>\n      <td>normal</td>\n      <td>0.048327</td>\n      <td>Capillary Aerocyte</td>\n      <td>2</td>\n      <td>distal 2</td>\n      <td>distal</td>\n      <td>epithelial</td>\n      <td>biohub</td>\n      <td>endothelial</td>\n      <td>Human</td>\n      <td>Homo sapiens</td>\n    </tr>\n    <tr>\n      <th>P2_1_AACACGTTCGCACTCT</th>\n      <td>1378</td>\n      <td>3419</td>\n      <td>Human Lung 10x - Patient 2</td>\n      <td>P2_1</td>\n      <td>lung</td>\n      <td>normal</td>\n      <td>0.032758</td>\n      <td>Capillary Aerocyte</td>\n      <td>2</td>\n      <td>distal 2</td>\n      <td>distal</td>\n      <td>epithelial</td>\n      <td>biohub</td>\n      <td>endothelial</td>\n      <td>Human</td>\n      <td>Homo sapiens</td>\n    </tr>\n    <tr>\n      <th>P2_1_AACCATGCAGCTCGCA</th>\n      <td>1210</td>\n      <td>2514</td>\n      <td>Human Lung 10x - Patient 2</td>\n      <td>P2_1</td>\n      <td>lung</td>\n      <td>normal</td>\n      <td>0.050119</td>\n      <td>Capillary Aerocyte</td>\n      <td>2</td>\n      <td>distal 2</td>\n      <td>distal</td>\n      <td>epithelial</td>\n      <td>biohub</td>\n      <td>endothelial</td>\n      <td>Human</td>\n      <td>Homo sapiens</td>\n    </tr>\n  </tbody>\n</table>\n</div>",
        "text/plain": "                       nGene  nUMI                  orig.ident channel tissue  \\\nindex                                                                           \nP2_1_AAACCTGAGAAACCAT   1347  2914  Human Lung 10x - Patient 2    P2_1   lung   \nP2_1_AAATGCCAGATGAGAG   1713  4226  Human Lung 10x - Patient 2    P2_1   lung   \nP2_1_AACACGTTCGATCCCT   1185  2152  Human Lung 10x - Patient 2    P2_1   lung   \nP2_1_AACACGTTCGCACTCT   1378  3419  Human Lung 10x - Patient 2    P2_1   lung   \nP2_1_AACCATGCAGCTCGCA   1210  2514  Human Lung 10x - Patient 2    P2_1   lung   \n\n                       region  percent.ribo     free_annotation  patient  \\\nindex                                                                      \nP2_1_AAACCTGAGAAACCAT  normal      0.035347  Capillary Aerocyte        2   \nP2_1_AAATGCCAGATGAGAG  normal      0.061051  Capillary Aerocyte        2   \nP2_1_AACACGTTCGATCCCT  normal      0.048327  Capillary Aerocyte        2   \nP2_1_AACACGTTCGCACTCT  normal      0.032758  Capillary Aerocyte        2   \nP2_1_AACCATGCAGCTCGCA  normal      0.050119  Capillary Aerocyte        2   \n\n                         sample location magnetic.selection preparation.site  \\\nindex                                                                          \nP2_1_AAACCTGAGAAACCAT  distal 2   distal         epithelial           biohub   \nP2_1_AAATGCCAGATGAGAG  distal 2   distal         epithelial           biohub   \nP2_1_AACACGTTCGATCCCT  distal 2   distal         epithelial           biohub   \nP2_1_AACACGTTCGCACTCT  distal 2   distal         epithelial           biohub   \nP2_1_AACCATGCAGCTCGCA  distal 2   distal         epithelial           biohub   \n\n                       compartment species species_latin  \nindex                                                     \nP2_1_AAACCTGAGAAACCAT  endothelial   Human  Homo sapiens  \nP2_1_AAATGCCAGATGAGAG  endothelial   Human  Homo sapiens  \nP2_1_AACACGTTCGATCCCT  endothelial   Human  Homo sapiens  \nP2_1_AACACGTTCGCACTCT  endothelial   Human  Homo sapiens  \nP2_1_AACCATGCAGCTCGCA  endothelial   Human  Homo sapiens  "
       },
       "execution_count": 9,
       "metadata": {},
       "output_type": "execute_result"
      }
     ],
     "persistentId": "404fbc1a-8d8b-48bd-9463-6c8e20608e99",
     "text": "adata1.obs.head()"
    },
    "executionTime": "2019-12-14T20:34:25.001Z"
   },
   {
    "cell": {
     "executionCount": 10,
     "executionEventId": "5be4ed08-cf04-42fe-8c1f-58db2f23b77b",
     "hasError": true,
     "id": "78dfa8be-4897-4b7e-b3df-bc84b439aa88",
     "outputs": [
      {
       "ename": "AttributeError",
       "evalue": "'str' object has no attribute 'var'",
       "output_type": "error",
       "traceback": [
        "\u001b[0;31m---------------------------------------------------------------------------\u001b[0m",
        "\u001b[0;31mAttributeError\u001b[0m                            Traceback (most recent call last)",
        "\u001b[0;32m<ipython-input-10-3dc65d57369c>\u001b[0m in \u001b[0;36m<module>\u001b[0;34m\u001b[0m\n\u001b[1;32m      1\u001b[0m \u001b[0;32mfor\u001b[0m \u001b[0madata\u001b[0m \u001b[0;32min\u001b[0m \u001b[0madatas\u001b[0m\u001b[0;34m:\u001b[0m\u001b[0;34m\u001b[0m\u001b[0;34m\u001b[0m\u001b[0m\n\u001b[0;32m----> 2\u001b[0;31m     \u001b[0mprint\u001b[0m\u001b[0;34m(\u001b[0m\u001b[0madata\u001b[0m\u001b[0;34m.\u001b[0m\u001b[0mvar\u001b[0m\u001b[0;34m.\u001b[0m\u001b[0mhead\u001b[0m\u001b[0;34m(\u001b[0m\u001b[0;34m)\u001b[0m\u001b[0;34m)\u001b[0m\u001b[0;34m\u001b[0m\u001b[0;34m\u001b[0m\u001b[0m\n\u001b[0m",
        "\u001b[0;31mAttributeError\u001b[0m: 'str' object has no attribute 'var'"
       ]
      }
     ],
     "persistentId": "77957cd1-e8ac-44ba-b526-7edbab334e0f",
     "text": "for adata in adatas:\n    print(adata.var.head())"
    },
    "executionTime": "2019-12-14T20:34:47.368Z"
   },
   {
    "cell": {
     "executionCount": 11,
     "executionEventId": "60409516-a45b-4650-83d6-b590f0f4b716",
     "hasError": true,
     "id": "78dfa8be-4897-4b7e-b3df-bc84b439aa88",
     "outputs": [
      {
       "ename": "TypeError",
       "evalue": "'builtin_function_or_method' object is not iterable",
       "output_type": "error",
       "traceback": [
        "\u001b[0;31m---------------------------------------------------------------------------\u001b[0m",
        "\u001b[0;31mTypeError\u001b[0m                                 Traceback (most recent call last)",
        "\u001b[0;32m<ipython-input-11-c4b829024298>\u001b[0m in \u001b[0;36m<module>\u001b[0;34m\u001b[0m\n\u001b[0;32m----> 1\u001b[0;31m \u001b[0;32mfor\u001b[0m \u001b[0madata\u001b[0m \u001b[0;32min\u001b[0m \u001b[0madatas\u001b[0m\u001b[0;34m.\u001b[0m\u001b[0mvalues\u001b[0m\u001b[0;34m:\u001b[0m\u001b[0;34m\u001b[0m\u001b[0;34m\u001b[0m\u001b[0m\n\u001b[0m\u001b[1;32m      2\u001b[0m     \u001b[0mprint\u001b[0m\u001b[0;34m(\u001b[0m\u001b[0madata\u001b[0m\u001b[0;34m.\u001b[0m\u001b[0mvar\u001b[0m\u001b[0;34m.\u001b[0m\u001b[0mhead\u001b[0m\u001b[0;34m(\u001b[0m\u001b[0;34m)\u001b[0m\u001b[0;34m)\u001b[0m\u001b[0;34m\u001b[0m\u001b[0;34m\u001b[0m\u001b[0m\n",
        "\u001b[0;31mTypeError\u001b[0m: 'builtin_function_or_method' object is not iterable"
       ]
      }
     ],
     "persistentId": "77957cd1-e8ac-44ba-b526-7edbab334e0f",
     "text": "for adata in adatas.values:\n    print(adata.var.head())"
    },
    "executionTime": "2019-12-14T20:34:51.854Z"
   },
   {
    "cell": {
     "executionCount": 12,
     "executionEventId": "684efbf1-48c4-434e-b191-9f9f71281586",
     "hasError": false,
     "id": "78dfa8be-4897-4b7e-b3df-bc84b439aa88",
     "outputs": [
      {
       "name": "stdout",
       "output_type": "stream",
       "text": "       mouse_lemur__gene_name mouse_lemur_to_human__homology_type  \\\nindex                                                               \nRBP2                     RBP2                    ortholog_one2one   \nCOPB2                   COPB2                    ortholog_one2one   \nMRPS22                 MRPS22                    ortholog_one2one   \nFOXL2                   FOXL2                    ortholog_one2one   \nPIK3CB                 PIK3CB                    ortholog_one2one   \n\n       human_to_mouse__homology_type mouse__gene_name  \nindex                                                  \nRBP2                ortholog_one2one             Rbp2  \nCOPB2               ortholog_one2one            Copb2  \nMRPS22              ortholog_one2one           Mrps22  \nFOXL2               ortholog_one2one            Foxl2  \nPIK3CB              ortholog_one2one           Pik3cb  \n        n_cells     means  dispersions  dispersions_norm  highly_variable  \\\nindex                                                                       \nSox17     27289  0.361263     2.295648          2.454915             True   \nMrpl15    95312  0.468919     0.902769         -0.554274            False   \nLypla1    86096  0.357519     0.891374         -0.578892            False   \nTcea1    120238  0.580153     0.957326         -0.540244            False   \nRgs20      1887  0.000131     0.072323         -2.445816            False   \n\n       species  \nindex           \nSox17    Mouse  \nMrpl15   Mouse  \nLypla1   Mouse  \nTcea1    Mouse  \nRgs20    Mouse  \n"
      }
     ],
     "persistentId": "77957cd1-e8ac-44ba-b526-7edbab334e0f",
     "text": "for adata in adatas.values():\n    print(adata.var.head())"
    },
    "executionTime": "2019-12-14T20:35:01.796Z"
   },
   {
    "cell": {
     "executionCount": 15,
     "executionEventId": "926a70ef-5346-4935-bf5c-c06b0118a130",
     "hasError": false,
     "id": "78e58736-83df-4ab3-8a2e-5975bb2044f4",
     "outputs": [
      {
       "data": {
        "text/plain": "dict_keys(['lemur', 'mouse'])"
       },
       "execution_count": 15,
       "metadata": {},
       "output_type": "execute_result"
      }
     ],
     "persistentId": "495ae439-65c2-41f9-a93a-c89f3337b7a0",
     "text": "adatas.keys()"
    },
    "executionTime": "2019-12-14T20:38:10.558Z"
   },
   {
    "cell": {
     "executionCount": 21,
     "executionEventId": "aad913f6-5db4-4828-b78d-aa60695c54e5",
     "hasError": false,
     "id": "9ce0efdc-d3b2-4be8-8cb2-0a1c7f02e1e6",
     "outputs": [],
     "persistentId": "9182a3d7-d968-4c54-84d3-ea22085477e9",
     "text": "lemur = adatas['lemur']\nmouse = adatas['mouse']"
    },
    "executionTime": "2019-12-14T20:40:51.254Z"
   },
   {
    "cell": {
     "executionCount": 1,
     "executionEventId": "0431cc92-a3ee-41e2-881d-0fb5d536cf87",
     "hasError": false,
     "id": "992ef167-ffd1-4b00-be04-806569eba63b",
     "outputs": [],
     "persistentId": "5eb6d628-c735-4dd7-b775-679a853b37db",
     "text": "import scanpy\nimport pandas as pd\nimport seaborn as sns"
    },
    "executionTime": "2019-12-14T20:41:29.997Z"
   },
   {
    "cell": {
     "executionCount": 2,
     "executionEventId": "8e15d08a-66d6-432f-8c86-7f79be2c8189",
     "hasError": false,
     "id": "d813a470-fcd7-4350-b42a-b5a91cd91d17",
     "outputs": [
      {
       "name": "stdout",
       "output_type": "stream",
       "text": "lemur\nCPU times: user 852 ms, sys: 3.95 s, total: 4.8 s\nWall time: 4min 5s\nmouse\nCPU times: user 840 ms, sys: 1.48 s, total: 2.32 s\nWall time: 1min 36s\nhuman\nCPU times: user 1.9 s, sys: 12.8 s, total: 14.7 s\nWall time: 27min 19s\n"
      }
     ],
     "persistentId": "f81e7e69-9eb1-4f8a-b988-8af4938edb44",
     "text": "folder = '/home/olga/googledrive/TabulaMicrocebus/data/cross-species'\n\nspeciess = ['lemur','mouse', 'human']\n\nadatas = {}\nfor species in speciess:\n    print(species)\n    h5ad = f'{folder}/lung__10x__{species}__one2one_orthologs.h5ad'\n    %time adata = scanpy.read_h5ad(h5ad)\n    adatas[species] = adata"
    },
    "executionTime": "2019-12-14T21:14:32.348Z"
   },
   {
    "cell": {
     "executionCount": 3,
     "executionEventId": "450a4a4e-ee37-4809-8181-86ae97e77592",
     "hasError": false,
     "id": "060ab2fc-fc31-4e8d-9bcd-493f150940a0",
     "outputs": [
      {
       "data": {
        "text/plain": "AnnData object with n_obs × n_vars = 65662 × 12965 \n    obs: 'nGene', 'nUMI', 'orig.ident', 'channel', 'tissue', 'region', 'percent.ribo', 'free_annotation', 'patient', 'sample', 'location', 'magnetic.selection', 'preparation.site', 'compartment', 'species', 'species_latin'"
       },
       "execution_count": 3,
       "metadata": {},
       "output_type": "execute_result"
      }
     ],
     "persistentId": "f82e2f35-b139-40cf-81e3-68a4fd2ebee4",
     "text": "species1 = 'human'\n\n# 'pop' to remove the old species\nadata1 = adatas.pop(species1)\nadata1"
    },
    "executionTime": "2019-12-14T21:14:32.504Z"
   },
   {
    "cell": {
     "executionCount": 4,
     "executionEventId": "60bf5539-3c76-4558-bb26-1eb5a0a52a4b",
     "hasError": false,
     "id": "f1df757b-845b-45b3-936e-cda75ed6ef0f",
     "outputs": [
      {
       "data": {
        "text/html": "<div>\n<style scoped>\n    .dataframe tbody tr th:only-of-type {\n        vertical-align: middle;\n    }\n\n    .dataframe tbody tr th {\n        vertical-align: top;\n    }\n\n    .dataframe thead th {\n        text-align: right;\n    }\n</style>\n<table border=\"1\" class=\"dataframe\">\n  <thead>\n    <tr style=\"text-align: right;\">\n      <th></th>\n    </tr>\n    <tr>\n      <th>index</th>\n    </tr>\n  </thead>\n  <tbody>\n    <tr>\n      <th>SAMD11</th>\n    </tr>\n    <tr>\n      <th>NOC2L</th>\n    </tr>\n    <tr>\n      <th>KLHL17</th>\n    </tr>\n    <tr>\n      <th>PERM1</th>\n    </tr>\n    <tr>\n      <th>ISG15</th>\n    </tr>\n  </tbody>\n</table>\n</div>",
        "text/plain": "Empty DataFrame\nColumns: []\nIndex: [SAMD11, NOC2L, KLHL17, PERM1, ISG15]"
       },
       "execution_count": 4,
       "metadata": {},
       "output_type": "execute_result"
      }
     ],
     "persistentId": "f767b9e8-c8c6-409e-b9ea-a386efa83347",
     "text": "adata1.var.head()"
    },
    "executionTime": "2019-12-14T21:14:32.513Z"
   },
   {
    "cell": {
     "executionCount": 5,
     "executionEventId": "cf1c1960-311e-4e92-8204-1fda92ce0db8",
     "hasError": false,
     "id": "78dfa8be-4897-4b7e-b3df-bc84b439aa88",
     "outputs": [
      {
       "name": "stdout",
       "output_type": "stream",
       "text": "       mouse_lemur__gene_name mouse_lemur_to_human__homology_type  \\\nindex                                                               \nRBP2                     RBP2                    ortholog_one2one   \nCOPB2                   COPB2                    ortholog_one2one   \nMRPS22                 MRPS22                    ortholog_one2one   \nFOXL2                   FOXL2                    ortholog_one2one   \nPIK3CB                 PIK3CB                    ortholog_one2one   \n\n       human_to_mouse__homology_type mouse__gene_name  \nindex                                                  \nRBP2                ortholog_one2one             Rbp2  \nCOPB2               ortholog_one2one            Copb2  \nMRPS22              ortholog_one2one           Mrps22  \nFOXL2               ortholog_one2one            Foxl2  \nPIK3CB              ortholog_one2one           Pik3cb  \n        n_cells     means  dispersions  dispersions_norm  highly_variable  \\\nindex                                                                       \nSox17     27289  0.361263     2.295648          2.454915             True   \nMrpl15    95312  0.468919     0.902769         -0.554274            False   \nLypla1    86096  0.357519     0.891374         -0.578892            False   \nTcea1    120238  0.580153     0.957326         -0.540244            False   \nRgs20      1887  0.000131     0.072323         -2.445816            False   \n\n       species  \nindex           \nSox17    Mouse  \nMrpl15   Mouse  \nLypla1   Mouse  \nTcea1    Mouse  \nRgs20    Mouse  \n"
      }
     ],
     "persistentId": "77957cd1-e8ac-44ba-b526-7edbab334e0f",
     "text": "for adata in adatas.values():\n    print(adata.var.head())"
    },
    "executionTime": "2019-12-14T21:14:32.562Z"
   },
   {
    "cell": {
     "executionCount": 6,
     "executionEventId": "fa1a194a-4bc0-4f05-8677-b106791e5871",
     "hasError": false,
     "id": "b88d0f7f-1b20-411c-bade-db9604f2b898",
     "outputs": [
      {
       "data": {
        "text/html": "<div>\n<style scoped>\n    .dataframe tbody tr th:only-of-type {\n        vertical-align: middle;\n    }\n\n    .dataframe tbody tr th {\n        vertical-align: top;\n    }\n\n    .dataframe thead th {\n        text-align: right;\n    }\n</style>\n<table border=\"1\" class=\"dataframe\">\n  <thead>\n    <tr style=\"text-align: right;\">\n      <th></th>\n      <th>nGene</th>\n      <th>nUMI</th>\n      <th>orig.ident</th>\n      <th>channel</th>\n      <th>tissue</th>\n      <th>region</th>\n      <th>percent.ribo</th>\n      <th>free_annotation</th>\n      <th>patient</th>\n      <th>sample</th>\n      <th>location</th>\n      <th>magnetic.selection</th>\n      <th>preparation.site</th>\n      <th>compartment</th>\n      <th>species</th>\n      <th>species_latin</th>\n    </tr>\n    <tr>\n      <th>index</th>\n      <th></th>\n      <th></th>\n      <th></th>\n      <th></th>\n      <th></th>\n      <th></th>\n      <th></th>\n      <th></th>\n      <th></th>\n      <th></th>\n      <th></th>\n      <th></th>\n      <th></th>\n      <th></th>\n      <th></th>\n      <th></th>\n    </tr>\n  </thead>\n  <tbody>\n    <tr>\n      <th>P2_1_AAACCTGAGAAACCAT</th>\n      <td>1347</td>\n      <td>2914</td>\n      <td>Human Lung 10x - Patient 2</td>\n      <td>P2_1</td>\n      <td>lung</td>\n      <td>normal</td>\n      <td>0.035347</td>\n      <td>Capillary Aerocyte</td>\n      <td>2</td>\n      <td>distal 2</td>\n      <td>distal</td>\n      <td>epithelial</td>\n      <td>biohub</td>\n      <td>endothelial</td>\n      <td>Human</td>\n      <td>Homo sapiens</td>\n    </tr>\n    <tr>\n      <th>P2_1_AAATGCCAGATGAGAG</th>\n      <td>1713</td>\n      <td>4226</td>\n      <td>Human Lung 10x - Patient 2</td>\n      <td>P2_1</td>\n      <td>lung</td>\n      <td>normal</td>\n      <td>0.061051</td>\n      <td>Capillary Aerocyte</td>\n      <td>2</td>\n      <td>distal 2</td>\n      <td>distal</td>\n      <td>epithelial</td>\n      <td>biohub</td>\n      <td>endothelial</td>\n      <td>Human</td>\n      <td>Homo sapiens</td>\n    </tr>\n    <tr>\n      <th>P2_1_AACACGTTCGATCCCT</th>\n      <td>1185</td>\n      <td>2152</td>\n      <td>Human Lung 10x - Patient 2</td>\n      <td>P2_1</td>\n      <td>lung</td>\n      <td>normal</td>\n      <td>0.048327</td>\n      <td>Capillary Aerocyte</td>\n      <td>2</td>\n      <td>distal 2</td>\n      <td>distal</td>\n      <td>epithelial</td>\n      <td>biohub</td>\n      <td>endothelial</td>\n      <td>Human</td>\n      <td>Homo sapiens</td>\n    </tr>\n    <tr>\n      <th>P2_1_AACACGTTCGCACTCT</th>\n      <td>1378</td>\n      <td>3419</td>\n      <td>Human Lung 10x - Patient 2</td>\n      <td>P2_1</td>\n      <td>lung</td>\n      <td>normal</td>\n      <td>0.032758</td>\n      <td>Capillary Aerocyte</td>\n      <td>2</td>\n      <td>distal 2</td>\n      <td>distal</td>\n      <td>epithelial</td>\n      <td>biohub</td>\n      <td>endothelial</td>\n      <td>Human</td>\n      <td>Homo sapiens</td>\n    </tr>\n    <tr>\n      <th>P2_1_AACCATGCAGCTCGCA</th>\n      <td>1210</td>\n      <td>2514</td>\n      <td>Human Lung 10x - Patient 2</td>\n      <td>P2_1</td>\n      <td>lung</td>\n      <td>normal</td>\n      <td>0.050119</td>\n      <td>Capillary Aerocyte</td>\n      <td>2</td>\n      <td>distal 2</td>\n      <td>distal</td>\n      <td>epithelial</td>\n      <td>biohub</td>\n      <td>endothelial</td>\n      <td>Human</td>\n      <td>Homo sapiens</td>\n    </tr>\n  </tbody>\n</table>\n</div>",
        "text/plain": "                       nGene  nUMI                  orig.ident channel tissue  \\\nindex                                                                           \nP2_1_AAACCTGAGAAACCAT   1347  2914  Human Lung 10x - Patient 2    P2_1   lung   \nP2_1_AAATGCCAGATGAGAG   1713  4226  Human Lung 10x - Patient 2    P2_1   lung   \nP2_1_AACACGTTCGATCCCT   1185  2152  Human Lung 10x - Patient 2    P2_1   lung   \nP2_1_AACACGTTCGCACTCT   1378  3419  Human Lung 10x - Patient 2    P2_1   lung   \nP2_1_AACCATGCAGCTCGCA   1210  2514  Human Lung 10x - Patient 2    P2_1   lung   \n\n                       region  percent.ribo     free_annotation  patient  \\\nindex                                                                      \nP2_1_AAACCTGAGAAACCAT  normal      0.035347  Capillary Aerocyte        2   \nP2_1_AAATGCCAGATGAGAG  normal      0.061051  Capillary Aerocyte        2   \nP2_1_AACACGTTCGATCCCT  normal      0.048327  Capillary Aerocyte        2   \nP2_1_AACACGTTCGCACTCT  normal      0.032758  Capillary Aerocyte        2   \nP2_1_AACCATGCAGCTCGCA  normal      0.050119  Capillary Aerocyte        2   \n\n                         sample location magnetic.selection preparation.site  \\\nindex                                                                          \nP2_1_AAACCTGAGAAACCAT  distal 2   distal         epithelial           biohub   \nP2_1_AAATGCCAGATGAGAG  distal 2   distal         epithelial           biohub   \nP2_1_AACACGTTCGATCCCT  distal 2   distal         epithelial           biohub   \nP2_1_AACACGTTCGCACTCT  distal 2   distal         epithelial           biohub   \nP2_1_AACCATGCAGCTCGCA  distal 2   distal         epithelial           biohub   \n\n                       compartment species species_latin  \nindex                                                     \nP2_1_AAACCTGAGAAACCAT  endothelial   Human  Homo sapiens  \nP2_1_AAATGCCAGATGAGAG  endothelial   Human  Homo sapiens  \nP2_1_AACACGTTCGATCCCT  endothelial   Human  Homo sapiens  \nP2_1_AACACGTTCGCACTCT  endothelial   Human  Homo sapiens  \nP2_1_AACCATGCAGCTCGCA  endothelial   Human  Homo sapiens  "
       },
       "execution_count": 6,
       "metadata": {},
       "output_type": "execute_result"
      }
     ],
     "persistentId": "404fbc1a-8d8b-48bd-9463-6c8e20608e99",
     "text": "adata1.obs.head()"
    },
    "executionTime": "2019-12-14T21:14:32.566Z"
   },
   {
    "cell": {
     "executionCount": 7,
     "executionEventId": "4d41097d-f335-4378-adb9-bbc83bccd9ac",
     "hasError": false,
     "id": "e1c6ef44-2d8d-4619-adec-4c9d503eafb9",
     "outputs": [
      {
       "data": {
        "text/plain": "2"
       },
       "execution_count": 7,
       "metadata": {},
       "output_type": "execute_result"
      }
     ],
     "persistentId": "a00062c6-fe41-4537-81db-8d8fb943e02d",
     "text": "len(adatas)"
    },
    "executionTime": "2019-12-14T21:14:32.606Z"
   },
   {
    "cell": {
     "executionCount": 8,
     "executionEventId": "b1f65b7e-85e1-42e0-bc9a-e563b64a029c",
     "hasError": false,
     "id": "5d1f6b5d-752f-4c84-b97d-0ac5cceb33fa",
     "outputs": [
      {
       "data": {
        "text/plain": "dict_keys(['lemur', 'mouse'])"
       },
       "execution_count": 8,
       "metadata": {},
       "output_type": "execute_result"
      }
     ],
     "persistentId": "d8f0480e-7fb6-4760-befe-d719512af138",
     "text": "adatas.keys()"
    },
    "executionTime": "2019-12-14T21:14:32.612Z"
   },
   {
    "cell": {
     "executionCount": 9,
     "executionEventId": "57a2a1e2-80ea-4f9f-a599-96bb9ebce8e1",
     "hasError": false,
     "id": "78e58736-83df-4ab3-8a2e-5975bb2044f4",
     "outputs": [
      {
       "data": {
        "text/plain": "dict_keys(['lemur', 'mouse'])"
       },
       "execution_count": 9,
       "metadata": {},
       "output_type": "execute_result"
      }
     ],
     "persistentId": "495ae439-65c2-41f9-a93a-c89f3337b7a0",
     "text": "adatas.keys()"
    },
    "executionTime": "2019-12-14T21:14:32.617Z"
   },
   {
    "cell": {
     "executionCount": 10,
     "executionEventId": "6bc42eaf-80f5-4c3f-84a5-987ceb77f977",
     "hasError": false,
     "id": "9ce0efdc-d3b2-4be8-8cb2-0a1c7f02e1e6",
     "outputs": [],
     "persistentId": "9182a3d7-d968-4c54-84d3-ea22085477e9",
     "text": "# lemur = adatas['lemur']\n# mouse = adatas['mouse']"
    },
    "executionTime": "2019-12-14T21:14:32.620Z"
   },
   {
    "cell": {
     "executionCount": 12,
     "executionEventId": "924df969-9549-4d23-910f-f32d85edc4f3",
     "hasError": false,
     "id": "60ca38ee-4a53-4b75-a1b4-8cb7fb627cc2",
     "outputs": [],
     "persistentId": "e3cc23df-e92c-459f-9476-509bcb7c25ca",
     "text": "import anndata"
    },
    "executionTime": "2019-12-14T21:19:50.198Z"
   },
   {
    "cell": {
     "executionCount": 13,
     "executionEventId": "e98676f0-2bf8-4282-872f-11e3bf326841",
     "hasError": false,
     "id": "e3d19256-081b-4c39-a699-949171958b84",
     "outputs": [
      {
       "data": {
        "text/plain": "'0.6.22.post1'"
       },
       "execution_count": 13,
       "metadata": {},
       "output_type": "execute_result"
      }
     ],
     "persistentId": "a5dabf69-89ec-4c13-8f3c-743d47975c47",
     "text": "anndata.__version__\n"
    },
    "executionTime": "2019-12-14T21:19:56.106Z"
   },
   {
    "cell": {
     "executionCount": 1,
     "executionEventId": "5763ab89-8299-47c8-8bc4-ab234979609c",
     "hasError": false,
     "id": "992ef167-ffd1-4b00-be04-806569eba63b",
     "outputs": [],
     "persistentId": "5eb6d628-c735-4dd7-b775-679a853b37db",
     "text": "import scanpy\nimport pandas as pd\nimport seaborn as sns"
    },
    "executionTime": "2019-12-14T21:22:05.960Z"
   },
   {
    "cell": {
     "executionCount": 2,
     "executionEventId": "778ff786-cae1-4a0c-a652-4655d20174e8",
     "hasError": false,
     "id": "e3fa9b3a-678a-4a2c-8659-56ec853ab041",
     "outputs": [
      {
       "data": {
        "text/plain": "'0.6.22.post2.dev124+ge65b3f7'"
       },
       "execution_count": 2,
       "metadata": {},
       "output_type": "execute_result"
      }
     ],
     "persistentId": "9a0e69cf-06e0-4cf8-95a7-790e5b97bc98",
     "text": "import anndata\n\nanndata.__version__"
    },
    "executionTime": "2019-12-14T21:22:05.980Z"
   },
   {
    "cell": {
     "executionCount": 3,
     "executionEventId": "7fc842a8-301d-4e73-94ab-53b03784fc99",
     "hasError": true,
     "id": "d813a470-fcd7-4350-b42a-b5a91cd91d17",
     "outputs": [
      {
       "name": "stdout",
       "output_type": "stream",
       "text": "lemur\nCPU times: user 508 ms, sys: 2.39 s, total: 2.9 s\nWall time: 2min 7s\nmouse\n"
      },
      {
       "ename": "KeyError",
       "evalue": "'species_categories'",
       "output_type": "error",
       "traceback": [
        "\u001b[0;31m---------------------------------------------------------------------------\u001b[0m",
        "\u001b[0;31mKeyError\u001b[0m                                  Traceback (most recent call last)",
        "\u001b[0;32m<timed exec>\u001b[0m in \u001b[0;36m<module>\u001b[0;34m\u001b[0m\n",
        "\u001b[0;32m~/miniconda3/envs/tabula-microcebus/lib/python3.7/site-packages/anndata/readwrite/h5ad.py\u001b[0m in \u001b[0;36mread_h5ad\u001b[0;34m(filename, backed, as_sparse, as_sparse_fmt, chunk_size)\u001b[0m\n\u001b[1;32m    474\u001b[0m             \u001b[0md\u001b[0m\u001b[0;34m[\u001b[0m\u001b[0;34m\"raw\"\u001b[0m\u001b[0;34m]\u001b[0m \u001b[0;34m=\u001b[0m \u001b[0mraw\u001b[0m\u001b[0;34m\u001b[0m\u001b[0;34m\u001b[0m\u001b[0m\n\u001b[1;32m    475\u001b[0m \u001b[0;34m\u001b[0m\u001b[0m\n\u001b[0;32m--> 476\u001b[0;31m     \u001b[0m_clean_uns\u001b[0m\u001b[0;34m(\u001b[0m\u001b[0md\u001b[0m\u001b[0;34m)\u001b[0m  \u001b[0;31m# backwards compat\u001b[0m\u001b[0;34m\u001b[0m\u001b[0;34m\u001b[0m\u001b[0m\n\u001b[0m\u001b[1;32m    477\u001b[0m \u001b[0;34m\u001b[0m\u001b[0m\n\u001b[1;32m    478\u001b[0m     \u001b[0;32mreturn\u001b[0m \u001b[0mAnnData\u001b[0m\u001b[0;34m(\u001b[0m\u001b[0;34m**\u001b[0m\u001b[0md\u001b[0m\u001b[0;34m)\u001b[0m\u001b[0;34m\u001b[0m\u001b[0;34m\u001b[0m\u001b[0m\n",
        "\u001b[0;32m~/miniconda3/envs/tabula-microcebus/lib/python3.7/site-packages/anndata/compat.py\u001b[0m in \u001b[0;36m_clean_uns\u001b[0;34m(d)\u001b[0m\n\u001b[1;32m    117\u001b[0m                     \u001b[0mk_to_delete\u001b[0m\u001b[0;34m.\u001b[0m\u001b[0mappend\u001b[0m\u001b[0;34m(\u001b[0m\u001b[0mk\u001b[0m\u001b[0;34m)\u001b[0m\u001b[0;34m\u001b[0m\u001b[0;34m\u001b[0m\u001b[0m\n\u001b[1;32m    118\u001b[0m     \u001b[0;32mfor\u001b[0m \u001b[0mk\u001b[0m \u001b[0;32min\u001b[0m \u001b[0mk_to_delete\u001b[0m\u001b[0;34m:\u001b[0m\u001b[0;34m\u001b[0m\u001b[0;34m\u001b[0m\u001b[0m\n\u001b[0;32m--> 119\u001b[0;31m         \u001b[0;32mdel\u001b[0m \u001b[0md\u001b[0m\u001b[0;34m[\u001b[0m\u001b[0;34m\"uns\"\u001b[0m\u001b[0;34m]\u001b[0m\u001b[0;34m[\u001b[0m\u001b[0mk\u001b[0m\u001b[0;34m]\u001b[0m\u001b[0;34m\u001b[0m\u001b[0;34m\u001b[0m\u001b[0m\n\u001b[0m",
        "\u001b[0;31mKeyError\u001b[0m: 'species_categories'"
       ]
      },
      {
       "name": "stdout",
       "output_type": "stream",
       "text": "human\nCPU times: user 1.37 s, sys: 7.11 s, total: 8.48 s\nWall time: 13min\n"
      }
     ],
     "persistentId": "f81e7e69-9eb1-4f8a-b988-8af4938edb44",
     "text": "folder = '/home/olga/googledrive/TabulaMicrocebus/data/cross-species'\n\nspeciess = ['lemur','mouse', 'human']\n\nadatas = {}\nfor species in speciess:\n    print(species)\n    h5ad = f'{folder}/lung__10x__{species}__one2one_orthologs.h5ad'\n    %time adata = scanpy.read_h5ad(h5ad)\n    adatas[species] = adata"
    },
    "executionTime": "2019-12-14T21:38:11.277Z"
   },
   {
    "cell": {
     "executionCount": 4,
     "executionEventId": "b39d6af9-59b1-42b6-a5f2-697856634ffe",
     "hasError": false,
     "id": "060ab2fc-fc31-4e8d-9bcd-493f150940a0",
     "outputs": [
      {
       "data": {
        "text/plain": "AnnData object with n_obs × n_vars = 65662 × 12965 \n    obs: 'nGene', 'nUMI', 'orig.ident', 'channel', 'tissue', 'region', 'percent.ribo', 'free_annotation', 'patient', 'sample', 'location', 'magnetic.selection', 'preparation.site', 'compartment', 'species', 'species_latin'"
       },
       "execution_count": 4,
       "metadata": {},
       "output_type": "execute_result"
      }
     ],
     "persistentId": "f82e2f35-b139-40cf-81e3-68a4fd2ebee4",
     "text": "species1 = 'human'\n\n# 'pop' to remove the old species\nadata1 = adatas.pop(species1)\nadata1"
    },
    "executionTime": "2019-12-14T21:38:11.290Z"
   },
   {
    "cell": {
     "executionCount": 5,
     "executionEventId": "d4b695d7-9064-47d6-949b-1676d7cca8d2",
     "hasError": false,
     "id": "f1df757b-845b-45b3-936e-cda75ed6ef0f",
     "outputs": [
      {
       "data": {
        "text/html": "<div>\n<style scoped>\n    .dataframe tbody tr th:only-of-type {\n        vertical-align: middle;\n    }\n\n    .dataframe tbody tr th {\n        vertical-align: top;\n    }\n\n    .dataframe thead th {\n        text-align: right;\n    }\n</style>\n<table border=\"1\" class=\"dataframe\">\n  <thead>\n    <tr style=\"text-align: right;\">\n      <th></th>\n    </tr>\n    <tr>\n      <th>index</th>\n    </tr>\n  </thead>\n  <tbody>\n    <tr>\n      <th>SAMD11</th>\n    </tr>\n    <tr>\n      <th>NOC2L</th>\n    </tr>\n    <tr>\n      <th>KLHL17</th>\n    </tr>\n    <tr>\n      <th>PERM1</th>\n    </tr>\n    <tr>\n      <th>ISG15</th>\n    </tr>\n  </tbody>\n</table>\n</div>",
        "text/plain": "Empty DataFrame\nColumns: []\nIndex: [SAMD11, NOC2L, KLHL17, PERM1, ISG15]"
       },
       "execution_count": 5,
       "metadata": {},
       "output_type": "execute_result"
      }
     ],
     "persistentId": "f767b9e8-c8c6-409e-b9ea-a386efa83347",
     "text": "adata1.var.head()"
    },
    "executionTime": "2019-12-14T21:38:11.298Z"
   },
   {
    "cell": {
     "executionCount": 6,
     "executionEventId": "d9594715-17f7-4938-a2eb-16a96aeb6690",
     "hasError": false,
     "id": "78dfa8be-4897-4b7e-b3df-bc84b439aa88",
     "outputs": [
      {
       "name": "stdout",
       "output_type": "stream",
       "text": "       mouse_lemur__gene_name mouse_lemur_to_human__homology_type  \\\nindex                                                               \nRBP2                     RBP2                    ortholog_one2one   \nCOPB2                   COPB2                    ortholog_one2one   \nMRPS22                 MRPS22                    ortholog_one2one   \nFOXL2                   FOXL2                    ortholog_one2one   \nPIK3CB                 PIK3CB                    ortholog_one2one   \n\n       human_to_mouse__homology_type mouse__gene_name  \nindex                                                  \nRBP2                ortholog_one2one             Rbp2  \nCOPB2               ortholog_one2one            Copb2  \nMRPS22              ortholog_one2one           Mrps22  \nFOXL2               ortholog_one2one            Foxl2  \nPIK3CB              ortholog_one2one           Pik3cb  \n       mouse_lemur__gene_name mouse_lemur_to_human__homology_type  \\\nindex                                                               \nRBP2                     RBP2                    ortholog_one2one   \nCOPB2                   COPB2                    ortholog_one2one   \nMRPS22                 MRPS22                    ortholog_one2one   \nFOXL2                   FOXL2                    ortholog_one2one   \nPIK3CB                 PIK3CB                    ortholog_one2one   \n\n       human_to_mouse__homology_type mouse__gene_name  \nindex                                                  \nRBP2                ortholog_one2one             Rbp2  \nCOPB2               ortholog_one2one            Copb2  \nMRPS22              ortholog_one2one           Mrps22  \nFOXL2               ortholog_one2one            Foxl2  \nPIK3CB              ortholog_one2one           Pik3cb  \n"
      }
     ],
     "persistentId": "77957cd1-e8ac-44ba-b526-7edbab334e0f",
     "text": "for adata in adatas.values():\n    print(adata.var.head())"
    },
    "executionTime": "2019-12-14T21:38:11.420Z"
   },
   {
    "cell": {
     "executionCount": 7,
     "executionEventId": "8df5146c-0ab2-49b7-a651-d9d7aff4c158",
     "hasError": false,
     "id": "b88d0f7f-1b20-411c-bade-db9604f2b898",
     "outputs": [
      {
       "data": {
        "text/html": "<div>\n<style scoped>\n    .dataframe tbody tr th:only-of-type {\n        vertical-align: middle;\n    }\n\n    .dataframe tbody tr th {\n        vertical-align: top;\n    }\n\n    .dataframe thead th {\n        text-align: right;\n    }\n</style>\n<table border=\"1\" class=\"dataframe\">\n  <thead>\n    <tr style=\"text-align: right;\">\n      <th></th>\n      <th>nGene</th>\n      <th>nUMI</th>\n      <th>orig.ident</th>\n      <th>channel</th>\n      <th>tissue</th>\n      <th>region</th>\n      <th>percent.ribo</th>\n      <th>free_annotation</th>\n      <th>patient</th>\n      <th>sample</th>\n      <th>location</th>\n      <th>magnetic.selection</th>\n      <th>preparation.site</th>\n      <th>compartment</th>\n      <th>species</th>\n      <th>species_latin</th>\n    </tr>\n    <tr>\n      <th>index</th>\n      <th></th>\n      <th></th>\n      <th></th>\n      <th></th>\n      <th></th>\n      <th></th>\n      <th></th>\n      <th></th>\n      <th></th>\n      <th></th>\n      <th></th>\n      <th></th>\n      <th></th>\n      <th></th>\n      <th></th>\n      <th></th>\n    </tr>\n  </thead>\n  <tbody>\n    <tr>\n      <th>P2_1_AAACCTGAGAAACCAT</th>\n      <td>1347</td>\n      <td>2914</td>\n      <td>Human Lung 10x - Patient 2</td>\n      <td>P2_1</td>\n      <td>lung</td>\n      <td>normal</td>\n      <td>0.035347</td>\n      <td>Capillary Aerocyte</td>\n      <td>2</td>\n      <td>distal 2</td>\n      <td>distal</td>\n      <td>epithelial</td>\n      <td>biohub</td>\n      <td>endothelial</td>\n      <td>Human</td>\n      <td>Homo sapiens</td>\n    </tr>\n    <tr>\n      <th>P2_1_AAATGCCAGATGAGAG</th>\n      <td>1713</td>\n      <td>4226</td>\n      <td>Human Lung 10x - Patient 2</td>\n      <td>P2_1</td>\n      <td>lung</td>\n      <td>normal</td>\n      <td>0.061051</td>\n      <td>Capillary Aerocyte</td>\n      <td>2</td>\n      <td>distal 2</td>\n      <td>distal</td>\n      <td>epithelial</td>\n      <td>biohub</td>\n      <td>endothelial</td>\n      <td>Human</td>\n      <td>Homo sapiens</td>\n    </tr>\n    <tr>\n      <th>P2_1_AACACGTTCGATCCCT</th>\n      <td>1185</td>\n      <td>2152</td>\n      <td>Human Lung 10x - Patient 2</td>\n      <td>P2_1</td>\n      <td>lung</td>\n      <td>normal</td>\n      <td>0.048327</td>\n      <td>Capillary Aerocyte</td>\n      <td>2</td>\n      <td>distal 2</td>\n      <td>distal</td>\n      <td>epithelial</td>\n      <td>biohub</td>\n      <td>endothelial</td>\n      <td>Human</td>\n      <td>Homo sapiens</td>\n    </tr>\n    <tr>\n      <th>P2_1_AACACGTTCGCACTCT</th>\n      <td>1378</td>\n      <td>3419</td>\n      <td>Human Lung 10x - Patient 2</td>\n      <td>P2_1</td>\n      <td>lung</td>\n      <td>normal</td>\n      <td>0.032758</td>\n      <td>Capillary Aerocyte</td>\n      <td>2</td>\n      <td>distal 2</td>\n      <td>distal</td>\n      <td>epithelial</td>\n      <td>biohub</td>\n      <td>endothelial</td>\n      <td>Human</td>\n      <td>Homo sapiens</td>\n    </tr>\n    <tr>\n      <th>P2_1_AACCATGCAGCTCGCA</th>\n      <td>1210</td>\n      <td>2514</td>\n      <td>Human Lung 10x - Patient 2</td>\n      <td>P2_1</td>\n      <td>lung</td>\n      <td>normal</td>\n      <td>0.050119</td>\n      <td>Capillary Aerocyte</td>\n      <td>2</td>\n      <td>distal 2</td>\n      <td>distal</td>\n      <td>epithelial</td>\n      <td>biohub</td>\n      <td>endothelial</td>\n      <td>Human</td>\n      <td>Homo sapiens</td>\n    </tr>\n  </tbody>\n</table>\n</div>",
        "text/plain": "                       nGene  nUMI                  orig.ident channel tissue  \\\nindex                                                                           \nP2_1_AAACCTGAGAAACCAT   1347  2914  Human Lung 10x - Patient 2    P2_1   lung   \nP2_1_AAATGCCAGATGAGAG   1713  4226  Human Lung 10x - Patient 2    P2_1   lung   \nP2_1_AACACGTTCGATCCCT   1185  2152  Human Lung 10x - Patient 2    P2_1   lung   \nP2_1_AACACGTTCGCACTCT   1378  3419  Human Lung 10x - Patient 2    P2_1   lung   \nP2_1_AACCATGCAGCTCGCA   1210  2514  Human Lung 10x - Patient 2    P2_1   lung   \n\n                       region  percent.ribo     free_annotation  patient  \\\nindex                                                                      \nP2_1_AAACCTGAGAAACCAT  normal      0.035347  Capillary Aerocyte        2   \nP2_1_AAATGCCAGATGAGAG  normal      0.061051  Capillary Aerocyte        2   \nP2_1_AACACGTTCGATCCCT  normal      0.048327  Capillary Aerocyte        2   \nP2_1_AACACGTTCGCACTCT  normal      0.032758  Capillary Aerocyte        2   \nP2_1_AACCATGCAGCTCGCA  normal      0.050119  Capillary Aerocyte        2   \n\n                         sample location magnetic.selection preparation.site  \\\nindex                                                                          \nP2_1_AAACCTGAGAAACCAT  distal 2   distal         epithelial           biohub   \nP2_1_AAATGCCAGATGAGAG  distal 2   distal         epithelial           biohub   \nP2_1_AACACGTTCGATCCCT  distal 2   distal         epithelial           biohub   \nP2_1_AACACGTTCGCACTCT  distal 2   distal         epithelial           biohub   \nP2_1_AACCATGCAGCTCGCA  distal 2   distal         epithelial           biohub   \n\n                       compartment species species_latin  \nindex                                                     \nP2_1_AAACCTGAGAAACCAT  endothelial   Human  Homo sapiens  \nP2_1_AAATGCCAGATGAGAG  endothelial   Human  Homo sapiens  \nP2_1_AACACGTTCGATCCCT  endothelial   Human  Homo sapiens  \nP2_1_AACACGTTCGCACTCT  endothelial   Human  Homo sapiens  \nP2_1_AACCATGCAGCTCGCA  endothelial   Human  Homo sapiens  "
       },
       "execution_count": 7,
       "metadata": {},
       "output_type": "execute_result"
      }
     ],
     "persistentId": "404fbc1a-8d8b-48bd-9463-6c8e20608e99",
     "text": "adata1.obs.head()"
    },
    "executionTime": "2019-12-14T21:38:11.424Z"
   },
   {
    "cell": {
     "executionCount": 8,
     "executionEventId": "e8dafeef-74b5-4263-8ab3-f258c0e91c1f",
     "hasError": false,
     "id": "e1c6ef44-2d8d-4619-adec-4c9d503eafb9",
     "outputs": [
      {
       "data": {
        "text/plain": "2"
       },
       "execution_count": 8,
       "metadata": {},
       "output_type": "execute_result"
      }
     ],
     "persistentId": "a00062c6-fe41-4537-81db-8d8fb943e02d",
     "text": "len(adatas)"
    },
    "executionTime": "2019-12-14T21:38:11.539Z"
   },
   {
    "cell": {
     "executionCount": 9,
     "executionEventId": "280ab838-729e-4e4d-a7b3-3bcc0513bda6",
     "hasError": false,
     "id": "5d1f6b5d-752f-4c84-b97d-0ac5cceb33fa",
     "outputs": [
      {
       "data": {
        "text/plain": "dict_keys(['lemur', 'mouse'])"
       },
       "execution_count": 9,
       "metadata": {},
       "output_type": "execute_result"
      }
     ],
     "persistentId": "d8f0480e-7fb6-4760-befe-d719512af138",
     "text": "adatas.keys()"
    },
    "executionTime": "2019-12-14T21:38:11.543Z"
   },
   {
    "cell": {
     "executionCount": 10,
     "executionEventId": "2e353537-6fae-488d-9e0a-142e01e64b0c",
     "hasError": false,
     "id": "78e58736-83df-4ab3-8a2e-5975bb2044f4",
     "outputs": [
      {
       "data": {
        "text/plain": "dict_keys(['lemur', 'mouse'])"
       },
       "execution_count": 10,
       "metadata": {},
       "output_type": "execute_result"
      }
     ],
     "persistentId": "495ae439-65c2-41f9-a93a-c89f3337b7a0",
     "text": "adatas.keys()"
    },
    "executionTime": "2019-12-14T21:38:11.550Z"
   },
   {
    "cell": {
     "executionCount": 11,
     "executionEventId": "66eff7d4-fe57-46e0-9110-2e602d02e5a0",
     "hasError": false,
     "id": "9ce0efdc-d3b2-4be8-8cb2-0a1c7f02e1e6",
     "outputs": [],
     "persistentId": "9182a3d7-d968-4c54-84d3-ea22085477e9",
     "text": "# lemur = adatas['lemur']\n# mouse = adatas['mouse']"
    },
    "executionTime": "2019-12-14T21:38:11.553Z"
   },
   {
    "cell": {
     "executionCount": 13,
     "executionEventId": "f5e18f11-61fe-4aa8-8de0-326670e0bac3",
     "hasError": false,
     "id": "e3fa9b3a-678a-4a2c-8659-56ec853ab041",
     "outputs": [
      {
       "data": {
        "text/plain": "'0.6.22.post2.dev124+ge65b3f7'"
       },
       "execution_count": 13,
       "metadata": {},
       "output_type": "execute_result"
      }
     ],
     "persistentId": "9a0e69cf-06e0-4cf8-95a7-790e5b97bc98",
     "text": "import anndata\n\nanndata.__version__"
    },
    "executionTime": "2019-12-15T01:09:32.091Z"
   },
   {
    "cell": {
     "executionCount": 14,
     "executionEventId": "0b715f75-897e-4e3c-8ca3-0d2e1f904cc5",
     "hasError": true,
     "id": "a5a6713c-b09f-4544-b133-d7b729dc4eb6",
     "outputs": [
      {
       "ename": "AttributeError",
       "evalue": "'AnnData' object has no attribute 'keys'",
       "output_type": "error",
       "traceback": [
        "\u001b[0;31m---------------------------------------------------------------------------\u001b[0m",
        "\u001b[0;31mAttributeError\u001b[0m                            Traceback (most recent call last)",
        "\u001b[0;32m<ipython-input-14-53e2b35f4561>\u001b[0m in \u001b[0;36m<module>\u001b[0;34m\u001b[0m\n\u001b[0;32m----> 1\u001b[0;31m \u001b[0madata\u001b[0m\u001b[0;34m.\u001b[0m\u001b[0mkeys\u001b[0m\u001b[0;34m(\u001b[0m\u001b[0;34m)\u001b[0m\u001b[0;34m\u001b[0m\u001b[0;34m\u001b[0m\u001b[0m\n\u001b[0m",
        "\u001b[0;31mAttributeError\u001b[0m: 'AnnData' object has no attribute 'keys'"
       ]
      }
     ],
     "persistentId": "4a2c1b36-a6f0-41f2-8f99-532cf281eb45",
     "text": "adata.keys()"
    },
    "executionTime": "2019-12-15T01:09:41.376Z"
   },
   {
    "cell": {
     "executionCount": 15,
     "executionEventId": "ee151543-2589-485c-b938-16e0402c0a6f",
     "hasError": false,
     "id": "a5a6713c-b09f-4544-b133-d7b729dc4eb6",
     "outputs": [
      {
       "data": {
        "text/plain": "dict_keys(['lemur', 'mouse'])"
       },
       "execution_count": 15,
       "metadata": {},
       "output_type": "execute_result"
      }
     ],
     "persistentId": "4a2c1b36-a6f0-41f2-8f99-532cf281eb45",
     "text": "adatas.keys()"
    },
    "executionTime": "2019-12-15T01:09:43.934Z"
   },
   {
    "cell": {
     "executionCount": 17,
     "executionEventId": "fa359008-e8b3-4cb1-b035-095397b12f92",
     "hasError": false,
     "id": "e9ada2c9-5102-40eb-a206-106198090a02",
     "outputs": [
      {
       "data": {
        "text/html": "<div>\n<style scoped>\n    .dataframe tbody tr th:only-of-type {\n        vertical-align: middle;\n    }\n\n    .dataframe tbody tr th {\n        vertical-align: top;\n    }\n\n    .dataframe thead th {\n        text-align: right;\n    }\n</style>\n<table border=\"1\" class=\"dataframe\">\n  <thead>\n    <tr style=\"text-align: right;\">\n      <th></th>\n      <th>adipose_score</th>\n      <th>channel</th>\n      <th>cluster_ids</th>\n      <th>compartment</th>\n      <th>compartment_final</th>\n      <th>compartment_original</th>\n      <th>endothelial_score</th>\n      <th>epithelial_score</th>\n      <th>erythrocyte_score</th>\n      <th>free_annotation</th>\n      <th>...</th>\n      <th>preparation.site</th>\n      <th>processed</th>\n      <th>region</th>\n      <th>res_2</th>\n      <th>sample</th>\n      <th>species</th>\n      <th>species_batch</th>\n      <th>species_latin</th>\n      <th>stromal_score</th>\n      <th>tissue</th>\n    </tr>\n  </thead>\n  <tbody>\n    <tr>\n      <th>P2_1_AAACCTGAGAAACCAT-human</th>\n      <td>NaN</td>\n      <td>P2_1</td>\n      <td>NaN</td>\n      <td>endothelial</td>\n      <td>nan</td>\n      <td>nan</td>\n      <td>NaN</td>\n      <td>NaN</td>\n      <td>NaN</td>\n      <td>Capillary Aerocyte</td>\n      <td>...</td>\n      <td>biohub</td>\n      <td>nan</td>\n      <td>normal</td>\n      <td>nan</td>\n      <td>distal 2</td>\n      <td>Human</td>\n      <td>human</td>\n      <td>Homo sapiens</td>\n      <td>NaN</td>\n      <td>lung</td>\n    </tr>\n    <tr>\n      <th>P2_1_AAATGCCAGATGAGAG-human</th>\n      <td>NaN</td>\n      <td>P2_1</td>\n      <td>NaN</td>\n      <td>endothelial</td>\n      <td>nan</td>\n      <td>nan</td>\n      <td>NaN</td>\n      <td>NaN</td>\n      <td>NaN</td>\n      <td>Capillary Aerocyte</td>\n      <td>...</td>\n      <td>biohub</td>\n      <td>nan</td>\n      <td>normal</td>\n      <td>nan</td>\n      <td>distal 2</td>\n      <td>Human</td>\n      <td>human</td>\n      <td>Homo sapiens</td>\n      <td>NaN</td>\n      <td>lung</td>\n    </tr>\n    <tr>\n      <th>P2_1_AACACGTTCGATCCCT-human</th>\n      <td>NaN</td>\n      <td>P2_1</td>\n      <td>NaN</td>\n      <td>endothelial</td>\n      <td>nan</td>\n      <td>nan</td>\n      <td>NaN</td>\n      <td>NaN</td>\n      <td>NaN</td>\n      <td>Capillary Aerocyte</td>\n      <td>...</td>\n      <td>biohub</td>\n      <td>nan</td>\n      <td>normal</td>\n      <td>nan</td>\n      <td>distal 2</td>\n      <td>Human</td>\n      <td>human</td>\n      <td>Homo sapiens</td>\n      <td>NaN</td>\n      <td>lung</td>\n    </tr>\n    <tr>\n      <th>P2_1_AACACGTTCGCACTCT-human</th>\n      <td>NaN</td>\n      <td>P2_1</td>\n      <td>NaN</td>\n      <td>endothelial</td>\n      <td>nan</td>\n      <td>nan</td>\n      <td>NaN</td>\n      <td>NaN</td>\n      <td>NaN</td>\n      <td>Capillary Aerocyte</td>\n      <td>...</td>\n      <td>biohub</td>\n      <td>nan</td>\n      <td>normal</td>\n      <td>nan</td>\n      <td>distal 2</td>\n      <td>Human</td>\n      <td>human</td>\n      <td>Homo sapiens</td>\n      <td>NaN</td>\n      <td>lung</td>\n    </tr>\n    <tr>\n      <th>P2_1_AACCATGCAGCTCGCA-human</th>\n      <td>NaN</td>\n      <td>P2_1</td>\n      <td>NaN</td>\n      <td>endothelial</td>\n      <td>nan</td>\n      <td>nan</td>\n      <td>NaN</td>\n      <td>NaN</td>\n      <td>NaN</td>\n      <td>Capillary Aerocyte</td>\n      <td>...</td>\n      <td>biohub</td>\n      <td>nan</td>\n      <td>normal</td>\n      <td>nan</td>\n      <td>distal 2</td>\n      <td>Human</td>\n      <td>human</td>\n      <td>Homo sapiens</td>\n      <td>NaN</td>\n      <td>lung</td>\n    </tr>\n  </tbody>\n</table>\n<p>5 rows × 40 columns</p>\n</div>",
        "text/plain": "                             adipose_score channel  cluster_ids  compartment  \\\nP2_1_AAACCTGAGAAACCAT-human            NaN    P2_1          NaN  endothelial   \nP2_1_AAATGCCAGATGAGAG-human            NaN    P2_1          NaN  endothelial   \nP2_1_AACACGTTCGATCCCT-human            NaN    P2_1          NaN  endothelial   \nP2_1_AACACGTTCGCACTCT-human            NaN    P2_1          NaN  endothelial   \nP2_1_AACCATGCAGCTCGCA-human            NaN    P2_1          NaN  endothelial   \n\n                            compartment_final compartment_original  \\\nP2_1_AAACCTGAGAAACCAT-human               nan                  nan   \nP2_1_AAATGCCAGATGAGAG-human               nan                  nan   \nP2_1_AACACGTTCGATCCCT-human               nan                  nan   \nP2_1_AACACGTTCGCACTCT-human               nan                  nan   \nP2_1_AACCATGCAGCTCGCA-human               nan                  nan   \n\n                             endothelial_score  epithelial_score  \\\nP2_1_AAACCTGAGAAACCAT-human                NaN               NaN   \nP2_1_AAATGCCAGATGAGAG-human                NaN               NaN   \nP2_1_AACACGTTCGATCCCT-human                NaN               NaN   \nP2_1_AACACGTTCGCACTCT-human                NaN               NaN   \nP2_1_AACCATGCAGCTCGCA-human                NaN               NaN   \n\n                             erythrocyte_score     free_annotation  ...  \\\nP2_1_AAACCTGAGAAACCAT-human                NaN  Capillary Aerocyte  ...   \nP2_1_AAATGCCAGATGAGAG-human                NaN  Capillary Aerocyte  ...   \nP2_1_AACACGTTCGATCCCT-human                NaN  Capillary Aerocyte  ...   \nP2_1_AACACGTTCGCACTCT-human                NaN  Capillary Aerocyte  ...   \nP2_1_AACCATGCAGCTCGCA-human                NaN  Capillary Aerocyte  ...   \n\n                             preparation.site processed  region res_2  \\\nP2_1_AAACCTGAGAAACCAT-human            biohub       nan  normal   nan   \nP2_1_AAATGCCAGATGAGAG-human            biohub       nan  normal   nan   \nP2_1_AACACGTTCGATCCCT-human            biohub       nan  normal   nan   \nP2_1_AACACGTTCGCACTCT-human            biohub       nan  normal   nan   \nP2_1_AACCATGCAGCTCGCA-human            biohub       nan  normal   nan   \n\n                               sample species species_batch  species_latin  \\\nP2_1_AAACCTGAGAAACCAT-human  distal 2   Human         human   Homo sapiens   \nP2_1_AAATGCCAGATGAGAG-human  distal 2   Human         human   Homo sapiens   \nP2_1_AACACGTTCGATCCCT-human  distal 2   Human         human   Homo sapiens   \nP2_1_AACACGTTCGCACTCT-human  distal 2   Human         human   Homo sapiens   \nP2_1_AACCATGCAGCTCGCA-human  distal 2   Human         human   Homo sapiens   \n\n                             stromal_score  tissue  \nP2_1_AAACCTGAGAAACCAT-human            NaN    lung  \nP2_1_AAATGCCAGATGAGAG-human            NaN    lung  \nP2_1_AACACGTTCGATCCCT-human            NaN    lung  \nP2_1_AACACGTTCGCACTCT-human            NaN    lung  \nP2_1_AACCATGCAGCTCGCA-human            NaN    lung  \n\n[5 rows x 40 columns]"
       },
       "execution_count": 17,
       "metadata": {},
       "output_type": "execute_result"
      }
     ],
     "persistentId": "97f3257d-8a9c-4279-beac-3e380255f9c0",
     "text": "combined.obs.head()"
    },
    "executionTime": "2019-12-15T01:10:38.591Z"
   },
   {
    "cell": {
     "executionCount": 18,
     "executionEventId": "eb889b12-1796-454d-9b54-2ff06127a2b2",
     "hasError": false,
     "id": "a065ab53-ac7a-42d8-bd0c-ad46cbf49979",
     "outputs": [
      {
       "data": {
        "text/plain": "Human          65662\nMouse lemur    49448\nName: species, dtype: int64"
       },
       "execution_count": 18,
       "metadata": {},
       "output_type": "execute_result"
      }
     ],
     "persistentId": "d1ad653d-845b-49fe-aa00-0b0bd604fb95",
     "text": "combined.obs.species.value_counts()"
    },
    "executionTime": "2019-12-15T01:10:46.548Z"
   },
   {
    "cell": {
     "executionCount": 19,
     "executionEventId": "8a345b05-9e87-44ec-848d-af6bef257e63",
     "hasError": false,
     "id": "f4146656-cec9-4e96-8523-ef4dafed22f4",
     "outputs": [
      {
       "data": {
        "text/plain": "human    65662\nmouse    24724\nlemur    24724\nName: species_batch, dtype: int64"
       },
       "execution_count": 19,
       "metadata": {},
       "output_type": "execute_result"
      }
     ],
     "persistentId": "a4cc84f1-06f7-4ccf-82c3-aea7c166e97f",
     "text": "combined.obs.species_batch.value_counts()"
    },
    "executionTime": "2019-12-15T01:11:37.180Z"
   },
   {
    "cell": {
     "executionCount": 21,
     "executionEventId": "d6b9ee70-c3e0-4141-876b-a5df3ba70cfa",
     "hasError": false,
     "id": "9ce0efdc-d3b2-4be8-8cb2-0a1c7f02e1e6",
     "outputs": [],
     "persistentId": "9182a3d7-d968-4c54-84d3-ea22085477e9",
     "text": "lemur = adatas['lemur']\nmouse = adatas['mouse']"
    },
    "executionTime": "2019-12-15T01:13:14.547Z"
   },
   {
    "cell": {
     "executionCount": 22,
     "executionEventId": "43925556-00d7-44ad-a62f-11965a0e799d",
     "hasError": true,
     "id": "3216faf9-4f45-468f-8310-c83cca20548b",
     "outputs": [
      {
       "ename": "AttributeError",
       "evalue": "'DataFrame' object has no attribute 'species'",
       "output_type": "error",
       "traceback": [
        "\u001b[0;31m---------------------------------------------------------------------------\u001b[0m",
        "\u001b[0;31mAttributeError\u001b[0m                            Traceback (most recent call last)",
        "\u001b[0;32m<ipython-input-22-7777c81b56ba>\u001b[0m in \u001b[0;36m<module>\u001b[0;34m\u001b[0m\n\u001b[0;32m----> 1\u001b[0;31m \u001b[0mlemur\u001b[0m\u001b[0;34m.\u001b[0m\u001b[0mvar\u001b[0m\u001b[0;34m.\u001b[0m\u001b[0mspecies\u001b[0m\u001b[0;34m.\u001b[0m\u001b[0mvalue_counts\u001b[0m\u001b[0;34m(\u001b[0m\u001b[0;34m)\u001b[0m\u001b[0;34m\u001b[0m\u001b[0;34m\u001b[0m\u001b[0m\n\u001b[0m",
        "\u001b[0;32m~/miniconda3/envs/tabula-microcebus/lib/python3.7/site-packages/pandas/core/generic.py\u001b[0m in \u001b[0;36m__getattr__\u001b[0;34m(self, name)\u001b[0m\n\u001b[1;32m   5177\u001b[0m             \u001b[0;32mif\u001b[0m \u001b[0mself\u001b[0m\u001b[0;34m.\u001b[0m\u001b[0m_info_axis\u001b[0m\u001b[0;34m.\u001b[0m\u001b[0m_can_hold_identifiers_and_holds_name\u001b[0m\u001b[0;34m(\u001b[0m\u001b[0mname\u001b[0m\u001b[0;34m)\u001b[0m\u001b[0;34m:\u001b[0m\u001b[0;34m\u001b[0m\u001b[0;34m\u001b[0m\u001b[0m\n\u001b[1;32m   5178\u001b[0m                 \u001b[0;32mreturn\u001b[0m \u001b[0mself\u001b[0m\u001b[0;34m[\u001b[0m\u001b[0mname\u001b[0m\u001b[0;34m]\u001b[0m\u001b[0;34m\u001b[0m\u001b[0;34m\u001b[0m\u001b[0m\n\u001b[0;32m-> 5179\u001b[0;31m             \u001b[0;32mreturn\u001b[0m \u001b[0mobject\u001b[0m\u001b[0;34m.\u001b[0m\u001b[0m__getattribute__\u001b[0m\u001b[0;34m(\u001b[0m\u001b[0mself\u001b[0m\u001b[0;34m,\u001b[0m \u001b[0mname\u001b[0m\u001b[0;34m)\u001b[0m\u001b[0;34m\u001b[0m\u001b[0;34m\u001b[0m\u001b[0m\n\u001b[0m\u001b[1;32m   5180\u001b[0m \u001b[0;34m\u001b[0m\u001b[0m\n\u001b[1;32m   5181\u001b[0m     \u001b[0;32mdef\u001b[0m \u001b[0m__setattr__\u001b[0m\u001b[0;34m(\u001b[0m\u001b[0mself\u001b[0m\u001b[0;34m,\u001b[0m \u001b[0mname\u001b[0m\u001b[0;34m,\u001b[0m \u001b[0mvalue\u001b[0m\u001b[0;34m)\u001b[0m\u001b[0;34m:\u001b[0m\u001b[0;34m\u001b[0m\u001b[0;34m\u001b[0m\u001b[0m\n",
        "\u001b[0;31mAttributeError\u001b[0m: 'DataFrame' object has no attribute 'species'"
       ]
      }
     ],
     "persistentId": "391dfecc-071a-40c4-b4cf-467d900af684",
     "text": "lemur.var.species.value_counts()"
    },
    "executionTime": "2019-12-15T01:13:27.746Z"
   },
   {
    "cell": {
     "executionCount": 26,
     "executionEventId": "6a8ca9eb-60f9-4faf-9a1b-5c9e6d9904e3",
     "hasError": true,
     "id": "1d3cd0fd-2247-4403-9532-bbdde06686dc",
     "outputs": [
      {
       "name": "stdout",
       "output_type": "stream",
       "text": "lemur\nCPU times: user 1.14 s, sys: 6.11 s, total: 7.25 s\nWall time: 6min 6s\nAnnData object with n_obs × n_vars = 24724 × 13184 \n    obs: 'n_genes', 'n_counts', 'orig_ident', 'channel', 'tissue', 'region', 'individual', 'species', 'method', 'processed', 'percent_ribo', 'free_annotation', 'res_2', 'cluster_ids', 'erythrocyte_score', 'platelet_score', 'endothelial_score', 'epithelial_score', 'immune_score', 'macrophage_score', 'plasma_score', 'muscle_score', 'stromal_score', 'neuronal_score', 'adipose_score', 'compartment_original', 'compartment_final', 'leiden', 'species_latin'\n    var: 'mouse_lemur__gene_name', 'mouse_lemur_to_human__homology_type', 'human_to_mouse__homology_type', 'mouse__gene_name'\n    uns: 'leiden', 'neighbors', 'pca'\n    obsm: 'X_pca', 'X_umap'\n    varm: 'PCs'\nmouse\n"
      },
      {
       "ename": "KeyError",
       "evalue": "'species_categories'",
       "output_type": "error",
       "traceback": [
        "\u001b[0;31m---------------------------------------------------------------------------\u001b[0m",
        "\u001b[0;31mKeyError\u001b[0m                                  Traceback (most recent call last)",
        "\u001b[0;32m<timed exec>\u001b[0m in \u001b[0;36m<module>\u001b[0;34m\u001b[0m\n",
        "\u001b[0;32m~/miniconda3/envs/tabula-microcebus/lib/python3.7/site-packages/anndata/readwrite/h5ad.py\u001b[0m in \u001b[0;36mread_h5ad\u001b[0;34m(filename, backed, as_sparse, as_sparse_fmt, chunk_size)\u001b[0m\n\u001b[1;32m    474\u001b[0m             \u001b[0md\u001b[0m\u001b[0;34m[\u001b[0m\u001b[0;34m\"raw\"\u001b[0m\u001b[0;34m]\u001b[0m \u001b[0;34m=\u001b[0m \u001b[0mraw\u001b[0m\u001b[0;34m\u001b[0m\u001b[0;34m\u001b[0m\u001b[0m\n\u001b[1;32m    475\u001b[0m \u001b[0;34m\u001b[0m\u001b[0m\n\u001b[0;32m--> 476\u001b[0;31m     \u001b[0m_clean_uns\u001b[0m\u001b[0;34m(\u001b[0m\u001b[0md\u001b[0m\u001b[0;34m)\u001b[0m  \u001b[0;31m# backwards compat\u001b[0m\u001b[0;34m\u001b[0m\u001b[0;34m\u001b[0m\u001b[0m\n\u001b[0m\u001b[1;32m    477\u001b[0m \u001b[0;34m\u001b[0m\u001b[0m\n\u001b[1;32m    478\u001b[0m     \u001b[0;32mreturn\u001b[0m \u001b[0mAnnData\u001b[0m\u001b[0;34m(\u001b[0m\u001b[0;34m**\u001b[0m\u001b[0md\u001b[0m\u001b[0;34m)\u001b[0m\u001b[0;34m\u001b[0m\u001b[0;34m\u001b[0m\u001b[0m\n",
        "\u001b[0;32m~/miniconda3/envs/tabula-microcebus/lib/python3.7/site-packages/anndata/compat.py\u001b[0m in \u001b[0;36m_clean_uns\u001b[0;34m(d)\u001b[0m\n\u001b[1;32m    117\u001b[0m                     \u001b[0mk_to_delete\u001b[0m\u001b[0;34m.\u001b[0m\u001b[0mappend\u001b[0m\u001b[0;34m(\u001b[0m\u001b[0mk\u001b[0m\u001b[0;34m)\u001b[0m\u001b[0;34m\u001b[0m\u001b[0;34m\u001b[0m\u001b[0m\n\u001b[1;32m    118\u001b[0m     \u001b[0;32mfor\u001b[0m \u001b[0mk\u001b[0m \u001b[0;32min\u001b[0m \u001b[0mk_to_delete\u001b[0m\u001b[0;34m:\u001b[0m\u001b[0;34m\u001b[0m\u001b[0;34m\u001b[0m\u001b[0m\n\u001b[0;32m--> 119\u001b[0;31m         \u001b[0;32mdel\u001b[0m \u001b[0md\u001b[0m\u001b[0;34m[\u001b[0m\u001b[0;34m\"uns\"\u001b[0m\u001b[0;34m]\u001b[0m\u001b[0;34m[\u001b[0m\u001b[0mk\u001b[0m\u001b[0;34m]\u001b[0m\u001b[0;34m\u001b[0m\u001b[0;34m\u001b[0m\u001b[0m\n\u001b[0m",
        "\u001b[0;31mKeyError\u001b[0m: 'species_categories'"
       ]
      },
      {
       "name": "stdout",
       "output_type": "stream",
       "text": "AnnData object with n_obs × n_vars = 24724 × 13184 \n    obs: 'n_genes', 'n_counts', 'orig_ident', 'channel', 'tissue', 'region', 'individual', 'species', 'method', 'processed', 'percent_ribo', 'free_annotation', 'res_2', 'cluster_ids', 'erythrocyte_score', 'platelet_score', 'endothelial_score', 'epithelial_score', 'immune_score', 'macrophage_score', 'plasma_score', 'muscle_score', 'stromal_score', 'neuronal_score', 'adipose_score', 'compartment_original', 'compartment_final', 'leiden', 'species_latin'\n    var: 'mouse_lemur__gene_name', 'mouse_lemur_to_human__homology_type', 'human_to_mouse__homology_type', 'mouse__gene_name'\n    uns: 'leiden', 'neighbors', 'pca'\n    obsm: 'X_pca', 'X_umap'\n    varm: 'PCs'\nhuman\nCPU times: user 504 ms, sys: 5.48 s, total: 5.98 s\nWall time: 3min 8s\nAnnData object with n_obs × n_vars = 65662 × 12965 \n    obs: 'nGene', 'nUMI', 'orig.ident', 'channel', 'tissue', 'region', 'percent.ribo', 'free_annotation', 'patient', 'sample', 'location', 'magnetic.selection', 'preparation.site', 'compartment', 'species', 'species_latin', 'cell_ontology_class'\n    var: 'mouse_lemur__gene_name', 'mouse_lemur_to_human__homology_type', 'human_to_mouse__homology_type', 'mouse__gene_name'\n"
      }
     ],
     "persistentId": "f81e7e69-9eb1-4f8a-b988-8af4938edb44",
     "text": "speciess = ['lemur','mouse', 'human']\n\nadatas = {}\nfor species in speciess:\n    print(species)\n    h5ad = f'{folder}/lung__10x__{species}__one2one_orthologs.h5ad'\n    %time adata = scanpy.read_h5ad(h5ad)\n    adatas[species] = adata\n    print(adata)"
    },
    "executionTime": "2019-12-15T18:58:49.529Z"
   },
   {
    "cell": {
     "executionCount": 27,
     "executionEventId": "dc5d5649-fb40-4542-8f72-f5b448e2265e",
     "hasError": false,
     "id": "a5a6713c-b09f-4544-b133-d7b729dc4eb6",
     "outputs": [
      {
       "data": {
        "text/plain": "dict_keys(['lemur', 'mouse', 'human'])"
       },
       "execution_count": 27,
       "metadata": {},
       "output_type": "execute_result"
      }
     ],
     "persistentId": "4a2c1b36-a6f0-41f2-8f99-532cf281eb45",
     "text": "adatas.keys()"
    },
    "executionTime": "2019-12-15T18:58:49.587Z"
   },
   {
    "cell": {
     "executionCount": 28,
     "executionEventId": "54fa9466-a010-4089-a16b-1602972506fb",
     "hasError": true,
     "id": "3d6a272d-4c57-4d7e-a50d-0c0819746989",
     "outputs": [
      {
       "ename": "SyntaxError",
       "evalue": "invalid syntax (<ipython-input-28-4c4cefd7ff81>, line 1)",
       "output_type": "error",
       "traceback": [
        "\u001b[0;36m  File \u001b[0;32m\"<ipython-input-28-4c4cefd7ff81>\"\u001b[0;36m, line \u001b[0;32m1\u001b[0m\n\u001b[0;31m    for\u001b[0m\n\u001b[0m       ^\u001b[0m\n\u001b[0;31mSyntaxError\u001b[0m\u001b[0;31m:\u001b[0m invalid syntax\n"
       ]
      }
     ],
     "persistentId": "9adf9830-3e01-4e0f-adb1-c890150b3c1e",
     "text": "for"
    },
    "executionTime": "2019-12-15T18:58:49.591Z"
   },
   {
    "cell": {
     "executionCount": 29,
     "executionEventId": "43dc2bba-59a5-4423-9961-123a74096834",
     "hasError": false,
     "id": "a5a6713c-b09f-4544-b133-d7b729dc4eb6",
     "outputs": [
      {
       "data": {
        "text/plain": "dict_keys(['lemur', 'mouse', 'human'])"
       },
       "execution_count": 29,
       "metadata": {},
       "output_type": "execute_result"
      }
     ],
     "persistentId": "4a2c1b36-a6f0-41f2-8f99-532cf281eb45",
     "text": "adatas.keys()"
    },
    "executionTime": "2019-12-15T19:00:10.771Z"
   },
   {
    "cell": {
     "executionCount": 30,
     "executionEventId": "5d24acea-516b-48f9-8300-afb36e4f6353",
     "hasError": true,
     "id": "3d6a272d-4c57-4d7e-a50d-0c0819746989",
     "outputs": [
      {
       "ename": "SyntaxError",
       "evalue": "invalid syntax (<ipython-input-30-4c4cefd7ff81>, line 1)",
       "output_type": "error",
       "traceback": [
        "\u001b[0;36m  File \u001b[0;32m\"<ipython-input-30-4c4cefd7ff81>\"\u001b[0;36m, line \u001b[0;32m1\u001b[0m\n\u001b[0;31m    for\u001b[0m\n\u001b[0m       ^\u001b[0m\n\u001b[0;31mSyntaxError\u001b[0m\u001b[0;31m:\u001b[0m invalid syntax\n"
       ]
      }
     ],
     "persistentId": "9adf9830-3e01-4e0f-adb1-c890150b3c1e",
     "text": "for"
    },
    "executionTime": "2019-12-15T19:00:11.378Z"
   },
   {
    "cell": {
     "executionCount": 3,
     "executionEventId": "c7ed6a06-7d6f-43fb-bece-08cb8dd65da6",
     "hasError": true,
     "id": "1d3cd0fd-2247-4403-9532-bbdde06686dc",
     "outputs": [
      {
       "name": "stdout",
       "output_type": "stream",
       "text": "lemur\nCPU times: user 8.43 s, sys: 23.9 s, total: 32.3 s\nWall time: 16min 24s\nAnnData object with n_obs × n_vars = 24724 × 13184 \n    obs: 'n_genes', 'n_counts', 'orig_ident', 'channel', 'tissue', 'region', 'individual', 'species', 'method', 'processed', 'percent_ribo', 'free_annotation', 'res_2', 'cluster_ids', 'erythrocyte_score', 'platelet_score', 'endothelial_score', 'epithelial_score', 'immune_score', 'macrophage_score', 'plasma_score', 'muscle_score', 'stromal_score', 'neuronal_score', 'adipose_score', 'compartment_original', 'compartment_final', 'leiden', 'species_latin'\n    var: 'mouse_lemur__gene_name', 'mouse_lemur_to_human__homology_type', 'human_to_mouse__homology_type', 'mouse__gene_name'\n    uns: 'leiden', 'neighbors', 'pca'\n    obsm: 'X_pca', 'X_umap'\n    varm: 'PCs'\nmouse\n"
      },
      {
       "ename": "KeyError",
       "evalue": "'species_categories'",
       "output_type": "error",
       "traceback": [
        "\u001b[0;31m---------------------------------------------------------------------------\u001b[0m",
        "\u001b[0;31mKeyError\u001b[0m                                  Traceback (most recent call last)",
        "\u001b[0;32m<timed exec>\u001b[0m in \u001b[0;36m<module>\u001b[0;34m\u001b[0m\n",
        "\u001b[0;32m~/miniconda3/envs/tabula-microcebus/lib/python3.7/site-packages/anndata/readwrite/h5ad.py\u001b[0m in \u001b[0;36mread_h5ad\u001b[0;34m(filename, backed, as_sparse, as_sparse_fmt, chunk_size)\u001b[0m\n\u001b[1;32m    474\u001b[0m             \u001b[0md\u001b[0m\u001b[0;34m[\u001b[0m\u001b[0;34m\"raw\"\u001b[0m\u001b[0;34m]\u001b[0m \u001b[0;34m=\u001b[0m \u001b[0mraw\u001b[0m\u001b[0;34m\u001b[0m\u001b[0;34m\u001b[0m\u001b[0m\n\u001b[1;32m    475\u001b[0m \u001b[0;34m\u001b[0m\u001b[0m\n\u001b[0;32m--> 476\u001b[0;31m     \u001b[0m_clean_uns\u001b[0m\u001b[0;34m(\u001b[0m\u001b[0md\u001b[0m\u001b[0;34m)\u001b[0m  \u001b[0;31m# backwards compat\u001b[0m\u001b[0;34m\u001b[0m\u001b[0;34m\u001b[0m\u001b[0m\n\u001b[0m\u001b[1;32m    477\u001b[0m \u001b[0;34m\u001b[0m\u001b[0m\n\u001b[1;32m    478\u001b[0m     \u001b[0;32mreturn\u001b[0m \u001b[0mAnnData\u001b[0m\u001b[0;34m(\u001b[0m\u001b[0;34m**\u001b[0m\u001b[0md\u001b[0m\u001b[0;34m)\u001b[0m\u001b[0;34m\u001b[0m\u001b[0;34m\u001b[0m\u001b[0m\n",
        "\u001b[0;32m~/miniconda3/envs/tabula-microcebus/lib/python3.7/site-packages/anndata/compat.py\u001b[0m in \u001b[0;36m_clean_uns\u001b[0;34m(d)\u001b[0m\n\u001b[1;32m    117\u001b[0m                     \u001b[0mk_to_delete\u001b[0m\u001b[0;34m.\u001b[0m\u001b[0mappend\u001b[0m\u001b[0;34m(\u001b[0m\u001b[0mk\u001b[0m\u001b[0;34m)\u001b[0m\u001b[0;34m\u001b[0m\u001b[0;34m\u001b[0m\u001b[0m\n\u001b[1;32m    118\u001b[0m     \u001b[0;32mfor\u001b[0m \u001b[0mk\u001b[0m \u001b[0;32min\u001b[0m \u001b[0mk_to_delete\u001b[0m\u001b[0;34m:\u001b[0m\u001b[0;34m\u001b[0m\u001b[0;34m\u001b[0m\u001b[0m\n\u001b[0;32m--> 119\u001b[0;31m         \u001b[0;32mdel\u001b[0m \u001b[0md\u001b[0m\u001b[0;34m[\u001b[0m\u001b[0;34m\"uns\"\u001b[0m\u001b[0;34m]\u001b[0m\u001b[0;34m[\u001b[0m\u001b[0mk\u001b[0m\u001b[0;34m]\u001b[0m\u001b[0;34m\u001b[0m\u001b[0;34m\u001b[0m\u001b[0m\n\u001b[0m",
        "\u001b[0;31mKeyError\u001b[0m: 'species_categories'"
       ]
      },
      {
       "name": "stdout",
       "output_type": "stream",
       "text": "AnnData object with n_obs × n_vars = 24724 × 13184 \n    obs: 'n_genes', 'n_counts', 'orig_ident', 'channel', 'tissue', 'region', 'individual', 'species', 'method', 'processed', 'percent_ribo', 'free_annotation', 'res_2', 'cluster_ids', 'erythrocyte_score', 'platelet_score', 'endothelial_score', 'epithelial_score', 'immune_score', 'macrophage_score', 'plasma_score', 'muscle_score', 'stromal_score', 'neuronal_score', 'adipose_score', 'compartment_original', 'compartment_final', 'leiden', 'species_latin'\n    var: 'mouse_lemur__gene_name', 'mouse_lemur_to_human__homology_type', 'human_to_mouse__homology_type', 'mouse__gene_name'\n    uns: 'leiden', 'neighbors', 'pca'\n    obsm: 'X_pca', 'X_umap'\n    varm: 'PCs'\nhuman\n"
      },
      {
       "ename": "KeyboardInterrupt",
       "evalue": "",
       "output_type": "error",
       "traceback": [
        "\u001b[0;31m---------------------------------------------------------------------------\u001b[0m",
        "\u001b[0;31mKeyboardInterrupt\u001b[0m                         Traceback (most recent call last)",
        "\u001b[0;32m<timed exec>\u001b[0m in \u001b[0;36m<module>\u001b[0;34m\u001b[0m\n",
        "\u001b[0;32m~/miniconda3/envs/tabula-microcebus/lib/python3.7/site-packages/anndata/readwrite/h5ad.py\u001b[0m in \u001b[0;36mread_h5ad\u001b[0;34m(filename, backed, as_sparse, as_sparse_fmt, chunk_size)\u001b[0m\n\u001b[1;32m    448\u001b[0m                 \u001b[0md\u001b[0m\u001b[0;34m[\u001b[0m\u001b[0mk\u001b[0m\u001b[0;34m]\u001b[0m \u001b[0;34m=\u001b[0m \u001b[0mread_dataframe\u001b[0m\u001b[0;34m(\u001b[0m\u001b[0mf\u001b[0m\u001b[0;34m[\u001b[0m\u001b[0mk\u001b[0m\u001b[0;34m]\u001b[0m\u001b[0;34m)\u001b[0m\u001b[0;34m\u001b[0m\u001b[0;34m\u001b[0m\u001b[0m\n\u001b[1;32m    449\u001b[0m             \u001b[0;32melse\u001b[0m\u001b[0;34m:\u001b[0m  \u001b[0;31m# Base case\u001b[0m\u001b[0;34m\u001b[0m\u001b[0;34m\u001b[0m\u001b[0m\n\u001b[0;32m--> 450\u001b[0;31m                 \u001b[0md\u001b[0m\u001b[0;34m[\u001b[0m\u001b[0mk\u001b[0m\u001b[0;34m]\u001b[0m \u001b[0;34m=\u001b[0m \u001b[0mread_attribute\u001b[0m\u001b[0;34m(\u001b[0m\u001b[0mf\u001b[0m\u001b[0;34m[\u001b[0m\u001b[0mk\u001b[0m\u001b[0;34m]\u001b[0m\u001b[0;34m)\u001b[0m\u001b[0;34m\u001b[0m\u001b[0;34m\u001b[0m\u001b[0m\n\u001b[0m\u001b[1;32m    451\u001b[0m \u001b[0;34m\u001b[0m\u001b[0m\n\u001b[1;32m    452\u001b[0m         \u001b[0mX_dset\u001b[0m \u001b[0;34m=\u001b[0m \u001b[0mf\u001b[0m\u001b[0;34m.\u001b[0m\u001b[0mget\u001b[0m\u001b[0;34m(\u001b[0m\u001b[0;34m\"X\"\u001b[0m\u001b[0;34m,\u001b[0m \u001b[0;32mNone\u001b[0m\u001b[0;34m)\u001b[0m\u001b[0;34m\u001b[0m\u001b[0;34m\u001b[0m\u001b[0m\n",
        "\u001b[0;32m~/miniconda3/envs/tabula-microcebus/lib/python3.7/functools.py\u001b[0m in \u001b[0;36mwrapper\u001b[0;34m(*args, **kw)\u001b[0m\n\u001b[1;32m    825\u001b[0m                             '1 positional argument')\n\u001b[1;32m    826\u001b[0m \u001b[0;34m\u001b[0m\u001b[0m\n\u001b[0;32m--> 827\u001b[0;31m         \u001b[0;32mreturn\u001b[0m \u001b[0mdispatch\u001b[0m\u001b[0;34m(\u001b[0m\u001b[0margs\u001b[0m\u001b[0;34m[\u001b[0m\u001b[0;36m0\u001b[0m\u001b[0;34m]\u001b[0m\u001b[0;34m.\u001b[0m\u001b[0m__class__\u001b[0m\u001b[0;34m)\u001b[0m\u001b[0;34m(\u001b[0m\u001b[0;34m*\u001b[0m\u001b[0margs\u001b[0m\u001b[0;34m,\u001b[0m \u001b[0;34m**\u001b[0m\u001b[0mkw\u001b[0m\u001b[0;34m)\u001b[0m\u001b[0;34m\u001b[0m\u001b[0;34m\u001b[0m\u001b[0m\n\u001b[0m\u001b[1;32m    828\u001b[0m \u001b[0;34m\u001b[0m\u001b[0m\n\u001b[1;32m    829\u001b[0m     \u001b[0mfuncname\u001b[0m \u001b[0;34m=\u001b[0m \u001b[0mgetattr\u001b[0m\u001b[0;34m(\u001b[0m\u001b[0mfunc\u001b[0m\u001b[0;34m,\u001b[0m \u001b[0;34m'__name__'\u001b[0m\u001b[0;34m,\u001b[0m \u001b[0;34m'singledispatch function'\u001b[0m\u001b[0;34m)\u001b[0m\u001b[0;34m\u001b[0m\u001b[0;34m\u001b[0m\u001b[0m\n",
        "\u001b[0;32m~/miniconda3/envs/tabula-microcebus/lib/python3.7/site-packages/anndata/readwrite/utils.py\u001b[0m in \u001b[0;36mfunc_wrapper\u001b[0;34m(elem, *args, **kwargs)\u001b[0m\n\u001b[1;32m    154\u001b[0m     \u001b[0;32mdef\u001b[0m \u001b[0mfunc_wrapper\u001b[0m\u001b[0;34m(\u001b[0m\u001b[0melem\u001b[0m\u001b[0;34m,\u001b[0m \u001b[0;34m*\u001b[0m\u001b[0margs\u001b[0m\u001b[0;34m,\u001b[0m \u001b[0;34m**\u001b[0m\u001b[0mkwargs\u001b[0m\u001b[0;34m)\u001b[0m\u001b[0;34m:\u001b[0m\u001b[0;34m\u001b[0m\u001b[0;34m\u001b[0m\u001b[0m\n\u001b[1;32m    155\u001b[0m         \u001b[0;32mtry\u001b[0m\u001b[0;34m:\u001b[0m\u001b[0;34m\u001b[0m\u001b[0;34m\u001b[0m\u001b[0m\n\u001b[0;32m--> 156\u001b[0;31m             \u001b[0;32mreturn\u001b[0m \u001b[0mfunc\u001b[0m\u001b[0;34m(\u001b[0m\u001b[0melem\u001b[0m\u001b[0;34m,\u001b[0m \u001b[0;34m*\u001b[0m\u001b[0margs\u001b[0m\u001b[0;34m,\u001b[0m \u001b[0;34m**\u001b[0m\u001b[0mkwargs\u001b[0m\u001b[0;34m)\u001b[0m\u001b[0;34m\u001b[0m\u001b[0;34m\u001b[0m\u001b[0m\n\u001b[0m\u001b[1;32m    157\u001b[0m         \u001b[0;32mexcept\u001b[0m \u001b[0mException\u001b[0m \u001b[0;32mas\u001b[0m \u001b[0me\u001b[0m\u001b[0;34m:\u001b[0m\u001b[0;34m\u001b[0m\u001b[0;34m\u001b[0m\u001b[0m\n\u001b[1;32m    158\u001b[0m             \u001b[0;32mif\u001b[0m \u001b[0misinstance\u001b[0m\u001b[0;34m(\u001b[0m\u001b[0me\u001b[0m\u001b[0;34m,\u001b[0m \u001b[0mAnnDataReadError\u001b[0m\u001b[0;34m)\u001b[0m\u001b[0;34m:\u001b[0m\u001b[0;34m\u001b[0m\u001b[0;34m\u001b[0m\u001b[0m\n",
        "\u001b[0;32m~/miniconda3/envs/tabula-microcebus/lib/python3.7/site-packages/anndata/readwrite/h5ad.py\u001b[0m in \u001b[0;36mread_dataset\u001b[0;34m(dataset)\u001b[0m\n\u001b[1;32m    558\u001b[0m \u001b[0;34m@\u001b[0m\u001b[0mreport_read_key_on_error\u001b[0m\u001b[0;34m\u001b[0m\u001b[0;34m\u001b[0m\u001b[0m\n\u001b[1;32m    559\u001b[0m \u001b[0;32mdef\u001b[0m \u001b[0mread_dataset\u001b[0m\u001b[0;34m(\u001b[0m\u001b[0mdataset\u001b[0m\u001b[0;34m:\u001b[0m \u001b[0mh5py\u001b[0m\u001b[0;34m.\u001b[0m\u001b[0mDataset\u001b[0m\u001b[0;34m)\u001b[0m\u001b[0;34m:\u001b[0m\u001b[0;34m\u001b[0m\u001b[0;34m\u001b[0m\u001b[0m\n\u001b[0;32m--> 560\u001b[0;31m     \u001b[0mvalue\u001b[0m \u001b[0;34m=\u001b[0m \u001b[0mdataset\u001b[0m\u001b[0;34m[\u001b[0m\u001b[0;34m(\u001b[0m\u001b[0;34m)\u001b[0m\u001b[0;34m]\u001b[0m\u001b[0;34m\u001b[0m\u001b[0;34m\u001b[0m\u001b[0m\n\u001b[0m\u001b[1;32m    561\u001b[0m     \u001b[0;32mif\u001b[0m \u001b[0;32mnot\u001b[0m \u001b[0mhasattr\u001b[0m\u001b[0;34m(\u001b[0m\u001b[0mvalue\u001b[0m\u001b[0;34m,\u001b[0m \u001b[0;34m\"dtype\"\u001b[0m\u001b[0;34m)\u001b[0m\u001b[0;34m:\u001b[0m\u001b[0;34m\u001b[0m\u001b[0;34m\u001b[0m\u001b[0m\n\u001b[1;32m    562\u001b[0m         \u001b[0;32mreturn\u001b[0m \u001b[0mvalue\u001b[0m\u001b[0;34m\u001b[0m\u001b[0;34m\u001b[0m\u001b[0m\n",
        "\u001b[0;32mh5py/_objects.pyx\u001b[0m in \u001b[0;36mh5py._objects.with_phil.wrapper\u001b[0;34m()\u001b[0m\n",
        "\u001b[0;32mh5py/_objects.pyx\u001b[0m in \u001b[0;36mh5py._objects.with_phil.wrapper\u001b[0;34m()\u001b[0m\n",
        "\u001b[0;32m~/miniconda3/envs/tabula-microcebus/lib/python3.7/site-packages/h5py/_hl/dataset.py\u001b[0m in \u001b[0;36m__getitem__\u001b[0;34m(self, args)\u001b[0m\n\u001b[1;32m    571\u001b[0m         \u001b[0mmspace\u001b[0m \u001b[0;34m=\u001b[0m \u001b[0mh5s\u001b[0m\u001b[0;34m.\u001b[0m\u001b[0mcreate_simple\u001b[0m\u001b[0;34m(\u001b[0m\u001b[0mmshape\u001b[0m\u001b[0;34m)\u001b[0m\u001b[0;34m\u001b[0m\u001b[0;34m\u001b[0m\u001b[0m\n\u001b[1;32m    572\u001b[0m         \u001b[0mfspace\u001b[0m \u001b[0;34m=\u001b[0m \u001b[0mselection\u001b[0m\u001b[0;34m.\u001b[0m\u001b[0mid\u001b[0m\u001b[0;34m\u001b[0m\u001b[0;34m\u001b[0m\u001b[0m\n\u001b[0;32m--> 573\u001b[0;31m         \u001b[0mself\u001b[0m\u001b[0;34m.\u001b[0m\u001b[0mid\u001b[0m\u001b[0;34m.\u001b[0m\u001b[0mread\u001b[0m\u001b[0;34m(\u001b[0m\u001b[0mmspace\u001b[0m\u001b[0;34m,\u001b[0m \u001b[0mfspace\u001b[0m\u001b[0;34m,\u001b[0m \u001b[0marr\u001b[0m\u001b[0;34m,\u001b[0m \u001b[0mmtype\u001b[0m\u001b[0;34m,\u001b[0m \u001b[0mdxpl\u001b[0m\u001b[0;34m=\u001b[0m\u001b[0mself\u001b[0m\u001b[0;34m.\u001b[0m\u001b[0m_dxpl\u001b[0m\u001b[0;34m)\u001b[0m\u001b[0;34m\u001b[0m\u001b[0;34m\u001b[0m\u001b[0m\n\u001b[0m\u001b[1;32m    574\u001b[0m \u001b[0;34m\u001b[0m\u001b[0m\n\u001b[1;32m    575\u001b[0m         \u001b[0;31m# Patch up the output for NumPy\u001b[0m\u001b[0;34m\u001b[0m\u001b[0;34m\u001b[0m\u001b[0;34m\u001b[0m\u001b[0m\n",
        "\u001b[0;31mKeyboardInterrupt\u001b[0m: "
       ]
      },
      {
       "name": "stdout",
       "output_type": "stream",
       "text": "AnnData object with n_obs × n_vars = 24724 × 13184 \n    obs: 'n_genes', 'n_counts', 'orig_ident', 'channel', 'tissue', 'region', 'individual', 'species', 'method', 'processed', 'percent_ribo', 'free_annotation', 'res_2', 'cluster_ids', 'erythrocyte_score', 'platelet_score', 'endothelial_score', 'epithelial_score', 'immune_score', 'macrophage_score', 'plasma_score', 'muscle_score', 'stromal_score', 'neuronal_score', 'adipose_score', 'compartment_original', 'compartment_final', 'leiden', 'species_latin'\n    var: 'mouse_lemur__gene_name', 'mouse_lemur_to_human__homology_type', 'human_to_mouse__homology_type', 'mouse__gene_name'\n    uns: 'leiden', 'neighbors', 'pca'\n    obsm: 'X_pca', 'X_umap'\n    varm: 'PCs'\n"
      }
     ],
     "persistentId": "f81e7e69-9eb1-4f8a-b988-8af4938edb44",
     "text": "speciess = ['lemur','mouse', 'human']\n\nadatas = {}\nfor species in speciess:\n    print(species)\n    h5ad = f'{folder}/lung__10x__{species}__one2one_orthologs.h5ad'\n    %time adata = scanpy.read_h5ad(h5ad)\n    adatas[species] = adata\n    print(adata)"
    },
    "executionTime": "2019-12-15T19:32:57.325Z"
   },
   {
    "cell": {
     "executionCount": 4,
     "executionEventId": "529027a6-7904-4b6a-9041-3bb0b11bec14",
     "hasError": false,
     "id": "a5a6713c-b09f-4544-b133-d7b729dc4eb6",
     "outputs": [
      {
       "data": {
        "text/plain": "dict_keys(['lemur', 'mouse', 'human'])"
       },
       "execution_count": 4,
       "metadata": {},
       "output_type": "execute_result"
      }
     ],
     "persistentId": "4a2c1b36-a6f0-41f2-8f99-532cf281eb45",
     "text": "adatas.keys()"
    },
    "executionTime": "2019-12-15T19:32:57.493Z"
   },
   {
    "cell": {
     "executionCount": 5,
     "executionEventId": "07f72fc6-1481-4d21-bfc1-22613a528f85",
     "hasError": false,
     "id": "060ab2fc-fc31-4e8d-9bcd-493f150940a0",
     "outputs": [
      {
       "data": {
        "text/plain": "AnnData object with n_obs × n_vars = 24724 × 13184 \n    obs: 'n_genes', 'n_counts', 'orig_ident', 'channel', 'tissue', 'region', 'individual', 'species', 'method', 'processed', 'percent_ribo', 'free_annotation', 'res_2', 'cluster_ids', 'erythrocyte_score', 'platelet_score', 'endothelial_score', 'epithelial_score', 'immune_score', 'macrophage_score', 'plasma_score', 'muscle_score', 'stromal_score', 'neuronal_score', 'adipose_score', 'compartment_original', 'compartment_final', 'leiden', 'species_latin'\n    var: 'mouse_lemur__gene_name', 'mouse_lemur_to_human__homology_type', 'human_to_mouse__homology_type', 'mouse__gene_name'\n    uns: 'leiden', 'neighbors', 'pca'\n    obsm: 'X_pca', 'X_umap'\n    varm: 'PCs'"
       },
       "execution_count": 5,
       "metadata": {},
       "output_type": "execute_result"
      }
     ],
     "persistentId": "f82e2f35-b139-40cf-81e3-68a4fd2ebee4",
     "text": "species1 = 'human'\n\n# 'pop' to remove the old species\nadata1 = adatas.pop(species1)\nadata1"
    },
    "executionTime": "2019-12-15T19:32:57.496Z"
   },
   {
    "cell": {
     "executionCount": 6,
     "executionEventId": "b2f4fa1f-5de7-4e93-b94b-bc16c0ef2bde",
     "hasError": false,
     "id": "f1df757b-845b-45b3-936e-cda75ed6ef0f",
     "outputs": [
      {
       "data": {
        "text/html": "<div>\n<style scoped>\n    .dataframe tbody tr th:only-of-type {\n        vertical-align: middle;\n    }\n\n    .dataframe tbody tr th {\n        vertical-align: top;\n    }\n\n    .dataframe thead th {\n        text-align: right;\n    }\n</style>\n<table border=\"1\" class=\"dataframe\">\n  <thead>\n    <tr style=\"text-align: right;\">\n      <th></th>\n      <th>mouse_lemur__gene_name</th>\n      <th>mouse_lemur_to_human__homology_type</th>\n      <th>human_to_mouse__homology_type</th>\n      <th>mouse__gene_name</th>\n    </tr>\n    <tr>\n      <th>index</th>\n      <th></th>\n      <th></th>\n      <th></th>\n      <th></th>\n    </tr>\n  </thead>\n  <tbody>\n    <tr>\n      <th>RBP2</th>\n      <td>RBP2</td>\n      <td>ortholog_one2one</td>\n      <td>ortholog_one2one</td>\n      <td>Rbp2</td>\n    </tr>\n    <tr>\n      <th>COPB2</th>\n      <td>COPB2</td>\n      <td>ortholog_one2one</td>\n      <td>ortholog_one2one</td>\n      <td>Copb2</td>\n    </tr>\n    <tr>\n      <th>MRPS22</th>\n      <td>MRPS22</td>\n      <td>ortholog_one2one</td>\n      <td>ortholog_one2one</td>\n      <td>Mrps22</td>\n    </tr>\n    <tr>\n      <th>FOXL2</th>\n      <td>FOXL2</td>\n      <td>ortholog_one2one</td>\n      <td>ortholog_one2one</td>\n      <td>Foxl2</td>\n    </tr>\n    <tr>\n      <th>PIK3CB</th>\n      <td>PIK3CB</td>\n      <td>ortholog_one2one</td>\n      <td>ortholog_one2one</td>\n      <td>Pik3cb</td>\n    </tr>\n  </tbody>\n</table>\n</div>",
        "text/plain": "       mouse_lemur__gene_name mouse_lemur_to_human__homology_type  \\\nindex                                                               \nRBP2                     RBP2                    ortholog_one2one   \nCOPB2                   COPB2                    ortholog_one2one   \nMRPS22                 MRPS22                    ortholog_one2one   \nFOXL2                   FOXL2                    ortholog_one2one   \nPIK3CB                 PIK3CB                    ortholog_one2one   \n\n       human_to_mouse__homology_type mouse__gene_name  \nindex                                                  \nRBP2                ortholog_one2one             Rbp2  \nCOPB2               ortholog_one2one            Copb2  \nMRPS22              ortholog_one2one           Mrps22  \nFOXL2               ortholog_one2one            Foxl2  \nPIK3CB              ortholog_one2one           Pik3cb  "
       },
       "execution_count": 6,
       "metadata": {},
       "output_type": "execute_result"
      }
     ],
     "persistentId": "f767b9e8-c8c6-409e-b9ea-a386efa83347",
     "text": "adata1.var.head()"
    },
    "executionTime": "2019-12-15T19:32:57.508Z"
   },
   {
    "cell": {
     "executionCount": 7,
     "executionEventId": "eedd1d41-e47e-420e-aab8-df9e91e09424",
     "hasError": false,
     "id": "78dfa8be-4897-4b7e-b3df-bc84b439aa88",
     "outputs": [
      {
       "name": "stdout",
       "output_type": "stream",
       "text": "       mouse_lemur__gene_name mouse_lemur_to_human__homology_type  \\\nindex                                                               \nRBP2                     RBP2                    ortholog_one2one   \nCOPB2                   COPB2                    ortholog_one2one   \nMRPS22                 MRPS22                    ortholog_one2one   \nFOXL2                   FOXL2                    ortholog_one2one   \nPIK3CB                 PIK3CB                    ortholog_one2one   \n\n       human_to_mouse__homology_type mouse__gene_name  \nindex                                                  \nRBP2                ortholog_one2one             Rbp2  \nCOPB2               ortholog_one2one            Copb2  \nMRPS22              ortholog_one2one           Mrps22  \nFOXL2               ortholog_one2one            Foxl2  \nPIK3CB              ortholog_one2one           Pik3cb  \n       mouse_lemur__gene_name mouse_lemur_to_human__homology_type  \\\nindex                                                               \nRBP2                     RBP2                    ortholog_one2one   \nCOPB2                   COPB2                    ortholog_one2one   \nMRPS22                 MRPS22                    ortholog_one2one   \nFOXL2                   FOXL2                    ortholog_one2one   \nPIK3CB                 PIK3CB                    ortholog_one2one   \n\n       human_to_mouse__homology_type mouse__gene_name  \nindex                                                  \nRBP2                ortholog_one2one             Rbp2  \nCOPB2               ortholog_one2one            Copb2  \nMRPS22              ortholog_one2one           Mrps22  \nFOXL2               ortholog_one2one            Foxl2  \nPIK3CB              ortholog_one2one           Pik3cb  \n"
      }
     ],
     "persistentId": "77957cd1-e8ac-44ba-b526-7edbab334e0f",
     "text": "for adata in adatas.values():\n    print(adata.var.head())"
    },
    "executionTime": "2019-12-15T19:32:57.521Z"
   },
   {
    "cell": {
     "executionCount": 8,
     "executionEventId": "e787205c-0ae3-4f6d-b76b-a055d1761822",
     "hasError": false,
     "id": "b88d0f7f-1b20-411c-bade-db9604f2b898",
     "outputs": [
      {
       "data": {
        "text/html": "<div>\n<style scoped>\n    .dataframe tbody tr th:only-of-type {\n        vertical-align: middle;\n    }\n\n    .dataframe tbody tr th {\n        vertical-align: top;\n    }\n\n    .dataframe thead th {\n        text-align: right;\n    }\n</style>\n<table border=\"1\" class=\"dataframe\">\n  <thead>\n    <tr style=\"text-align: right;\">\n      <th></th>\n      <th>n_genes</th>\n      <th>n_counts</th>\n      <th>orig_ident</th>\n      <th>channel</th>\n      <th>tissue</th>\n      <th>region</th>\n      <th>individual</th>\n      <th>species</th>\n      <th>method</th>\n      <th>processed</th>\n      <th>...</th>\n      <th>macrophage_score</th>\n      <th>plasma_score</th>\n      <th>muscle_score</th>\n      <th>stromal_score</th>\n      <th>neuronal_score</th>\n      <th>adipose_score</th>\n      <th>compartment_original</th>\n      <th>compartment_final</th>\n      <th>leiden</th>\n      <th>species_latin</th>\n    </tr>\n    <tr>\n      <th>index</th>\n      <th></th>\n      <th></th>\n      <th></th>\n      <th></th>\n      <th></th>\n      <th></th>\n      <th></th>\n      <th></th>\n      <th></th>\n      <th></th>\n      <th></th>\n      <th></th>\n      <th></th>\n      <th></th>\n      <th></th>\n      <th></th>\n      <th></th>\n      <th></th>\n      <th></th>\n      <th></th>\n      <th></th>\n    </tr>\n  </thead>\n  <tbody>\n    <tr>\n      <th>Antoine_Lung_CD31_10X_AAACCTGAGAAACGAG</th>\n      <td>2849</td>\n      <td>11156.0</td>\n      <td>Antoine</td>\n      <td>Antoine_Lung_CD31_10X</td>\n      <td>Lung</td>\n      <td>CD31</td>\n      <td>Antoine</td>\n      <td>Mouse lemur</td>\n      <td>10X</td>\n      <td>Biohub</td>\n      <td>...</td>\n      <td>2.015433</td>\n      <td>0.399618</td>\n      <td>-0.064268</td>\n      <td>-0.241688</td>\n      <td>-0.034718</td>\n      <td>-0.023589</td>\n      <td>macrophage</td>\n      <td>immune</td>\n      <td>5</td>\n      <td>Microcebus murinus</td>\n    </tr>\n    <tr>\n      <th>Antoine_Lung_CD31_10X_AAACCTGAGATGTTAG</th>\n      <td>2096</td>\n      <td>5450.0</td>\n      <td>Antoine</td>\n      <td>Antoine_Lung_CD31_10X</td>\n      <td>Lung</td>\n      <td>CD31</td>\n      <td>Antoine</td>\n      <td>Mouse lemur</td>\n      <td>10X</td>\n      <td>Biohub</td>\n      <td>...</td>\n      <td>2.115203</td>\n      <td>-0.571349</td>\n      <td>-0.064268</td>\n      <td>-0.241688</td>\n      <td>-0.034718</td>\n      <td>-0.023589</td>\n      <td>macrophage</td>\n      <td>immune</td>\n      <td>65</td>\n      <td>Microcebus murinus</td>\n    </tr>\n    <tr>\n      <th>Antoine_Lung_CD31_10X_AAACCTGAGCGTAGTG</th>\n      <td>776</td>\n      <td>1138.0</td>\n      <td>Antoine</td>\n      <td>Antoine_Lung_CD31_10X</td>\n      <td>Lung</td>\n      <td>CD31</td>\n      <td>Antoine</td>\n      <td>Mouse lemur</td>\n      <td>10X</td>\n      <td>Biohub</td>\n      <td>...</td>\n      <td>0.890181</td>\n      <td>-0.571349</td>\n      <td>-0.064268</td>\n      <td>-0.241688</td>\n      <td>-0.034718</td>\n      <td>-0.023589</td>\n      <td>endothelial</td>\n      <td>endothelial</td>\n      <td>60</td>\n      <td>Microcebus murinus</td>\n    </tr>\n    <tr>\n      <th>Antoine_Lung_CD31_10X_AAACCTGAGGCAGTCA</th>\n      <td>2863</td>\n      <td>11950.0</td>\n      <td>Antoine</td>\n      <td>Antoine_Lung_CD31_10X</td>\n      <td>Lung</td>\n      <td>CD31</td>\n      <td>Antoine</td>\n      <td>Mouse lemur</td>\n      <td>10X</td>\n      <td>Biohub</td>\n      <td>...</td>\n      <td>0.025662</td>\n      <td>-0.571349</td>\n      <td>-0.064268</td>\n      <td>-0.241688</td>\n      <td>-0.034718</td>\n      <td>-0.023589</td>\n      <td>epithelial</td>\n      <td>epithelial</td>\n      <td>17</td>\n      <td>Microcebus murinus</td>\n    </tr>\n    <tr>\n      <th>Antoine_Lung_CD31_10X_AAACCTGAGGGTGTGT</th>\n      <td>3417</td>\n      <td>13559.0</td>\n      <td>Antoine</td>\n      <td>Antoine_Lung_CD31_10X</td>\n      <td>Lung</td>\n      <td>CD31</td>\n      <td>Antoine</td>\n      <td>Mouse lemur</td>\n      <td>10X</td>\n      <td>Biohub</td>\n      <td>...</td>\n      <td>1.962445</td>\n      <td>-0.571349</td>\n      <td>-0.064268</td>\n      <td>-0.241688</td>\n      <td>-0.034718</td>\n      <td>-0.023589</td>\n      <td>macrophage</td>\n      <td>immune</td>\n      <td>20</td>\n      <td>Microcebus murinus</td>\n    </tr>\n  </tbody>\n</table>\n<p>5 rows × 29 columns</p>\n</div>",
        "text/plain": "                                        n_genes  n_counts orig_ident  \\\nindex                                                                  \nAntoine_Lung_CD31_10X_AAACCTGAGAAACGAG     2849   11156.0    Antoine   \nAntoine_Lung_CD31_10X_AAACCTGAGATGTTAG     2096    5450.0    Antoine   \nAntoine_Lung_CD31_10X_AAACCTGAGCGTAGTG      776    1138.0    Antoine   \nAntoine_Lung_CD31_10X_AAACCTGAGGCAGTCA     2863   11950.0    Antoine   \nAntoine_Lung_CD31_10X_AAACCTGAGGGTGTGT     3417   13559.0    Antoine   \n\n                                                      channel tissue region  \\\nindex                                                                         \nAntoine_Lung_CD31_10X_AAACCTGAGAAACGAG  Antoine_Lung_CD31_10X   Lung   CD31   \nAntoine_Lung_CD31_10X_AAACCTGAGATGTTAG  Antoine_Lung_CD31_10X   Lung   CD31   \nAntoine_Lung_CD31_10X_AAACCTGAGCGTAGTG  Antoine_Lung_CD31_10X   Lung   CD31   \nAntoine_Lung_CD31_10X_AAACCTGAGGCAGTCA  Antoine_Lung_CD31_10X   Lung   CD31   \nAntoine_Lung_CD31_10X_AAACCTGAGGGTGTGT  Antoine_Lung_CD31_10X   Lung   CD31   \n\n                                       individual      species method  \\\nindex                                                                   \nAntoine_Lung_CD31_10X_AAACCTGAGAAACGAG    Antoine  Mouse lemur    10X   \nAntoine_Lung_CD31_10X_AAACCTGAGATGTTAG    Antoine  Mouse lemur    10X   \nAntoine_Lung_CD31_10X_AAACCTGAGCGTAGTG    Antoine  Mouse lemur    10X   \nAntoine_Lung_CD31_10X_AAACCTGAGGCAGTCA    Antoine  Mouse lemur    10X   \nAntoine_Lung_CD31_10X_AAACCTGAGGGTGTGT    Antoine  Mouse lemur    10X   \n\n                                       processed  ...  macrophage_score  \\\nindex                                             ...                     \nAntoine_Lung_CD31_10X_AAACCTGAGAAACGAG    Biohub  ...          2.015433   \nAntoine_Lung_CD31_10X_AAACCTGAGATGTTAG    Biohub  ...          2.115203   \nAntoine_Lung_CD31_10X_AAACCTGAGCGTAGTG    Biohub  ...          0.890181   \nAntoine_Lung_CD31_10X_AAACCTGAGGCAGTCA    Biohub  ...          0.025662   \nAntoine_Lung_CD31_10X_AAACCTGAGGGTGTGT    Biohub  ...          1.962445   \n\n                                       plasma_score muscle_score  \\\nindex                                                              \nAntoine_Lung_CD31_10X_AAACCTGAGAAACGAG     0.399618    -0.064268   \nAntoine_Lung_CD31_10X_AAACCTGAGATGTTAG    -0.571349    -0.064268   \nAntoine_Lung_CD31_10X_AAACCTGAGCGTAGTG    -0.571349    -0.064268   \nAntoine_Lung_CD31_10X_AAACCTGAGGCAGTCA    -0.571349    -0.064268   \nAntoine_Lung_CD31_10X_AAACCTGAGGGTGTGT    -0.571349    -0.064268   \n\n                                        stromal_score  neuronal_score  \\\nindex                                                                   \nAntoine_Lung_CD31_10X_AAACCTGAGAAACGAG      -0.241688       -0.034718   \nAntoine_Lung_CD31_10X_AAACCTGAGATGTTAG      -0.241688       -0.034718   \nAntoine_Lung_CD31_10X_AAACCTGAGCGTAGTG      -0.241688       -0.034718   \nAntoine_Lung_CD31_10X_AAACCTGAGGCAGTCA      -0.241688       -0.034718   \nAntoine_Lung_CD31_10X_AAACCTGAGGGTGTGT      -0.241688       -0.034718   \n\n                                        adipose_score  compartment_original  \\\nindex                                                                         \nAntoine_Lung_CD31_10X_AAACCTGAGAAACGAG      -0.023589            macrophage   \nAntoine_Lung_CD31_10X_AAACCTGAGATGTTAG      -0.023589            macrophage   \nAntoine_Lung_CD31_10X_AAACCTGAGCGTAGTG      -0.023589           endothelial   \nAntoine_Lung_CD31_10X_AAACCTGAGGCAGTCA      -0.023589            epithelial   \nAntoine_Lung_CD31_10X_AAACCTGAGGGTGTGT      -0.023589            macrophage   \n\n                                        compartment_final  leiden  \\\nindex                                                               \nAntoine_Lung_CD31_10X_AAACCTGAGAAACGAG             immune       5   \nAntoine_Lung_CD31_10X_AAACCTGAGATGTTAG             immune      65   \nAntoine_Lung_CD31_10X_AAACCTGAGCGTAGTG        endothelial      60   \nAntoine_Lung_CD31_10X_AAACCTGAGGCAGTCA         epithelial      17   \nAntoine_Lung_CD31_10X_AAACCTGAGGGTGTGT             immune      20   \n\n                                             species_latin  \nindex                                                       \nAntoine_Lung_CD31_10X_AAACCTGAGAAACGAG  Microcebus murinus  \nAntoine_Lung_CD31_10X_AAACCTGAGATGTTAG  Microcebus murinus  \nAntoine_Lung_CD31_10X_AAACCTGAGCGTAGTG  Microcebus murinus  \nAntoine_Lung_CD31_10X_AAACCTGAGGCAGTCA  Microcebus murinus  \nAntoine_Lung_CD31_10X_AAACCTGAGGGTGTGT  Microcebus murinus  \n\n[5 rows x 29 columns]"
       },
       "execution_count": 8,
       "metadata": {},
       "output_type": "execute_result"
      }
     ],
     "persistentId": "404fbc1a-8d8b-48bd-9463-6c8e20608e99",
     "text": "adata1.obs.head()"
    },
    "executionTime": "2019-12-15T19:32:57.526Z"
   },
   {
    "cell": {
     "executionCount": 9,
     "executionEventId": "3a7c28e9-40b2-4653-a025-79eed61920a9",
     "hasError": false,
     "id": "e1c6ef44-2d8d-4619-adec-4c9d503eafb9",
     "outputs": [
      {
       "data": {
        "text/plain": "2"
       },
       "execution_count": 9,
       "metadata": {},
       "output_type": "execute_result"
      }
     ],
     "persistentId": "a00062c6-fe41-4537-81db-8d8fb943e02d",
     "text": "len(adatas)"
    },
    "executionTime": "2019-12-15T19:32:57.537Z"
   },
   {
    "cell": {
     "executionCount": 10,
     "executionEventId": "2053a8df-9288-4dd1-81df-6bf677d359d4",
     "hasError": false,
     "id": "5d1f6b5d-752f-4c84-b97d-0ac5cceb33fa",
     "outputs": [
      {
       "data": {
        "text/plain": "dict_keys(['lemur', 'mouse'])"
       },
       "execution_count": 10,
       "metadata": {},
       "output_type": "execute_result"
      }
     ],
     "persistentId": "d8f0480e-7fb6-4760-befe-d719512af138",
     "text": "adatas.keys()"
    },
    "executionTime": "2019-12-15T19:32:57.540Z"
   },
   {
    "cell": {
     "executionCount": 11,
     "executionEventId": "fd2635f1-2ab6-4c80-9ea6-bf574e4c9981",
     "hasError": false,
     "id": "78e58736-83df-4ab3-8a2e-5975bb2044f4",
     "outputs": [
      {
       "data": {
        "text/plain": "dict_keys(['lemur', 'mouse'])"
       },
       "execution_count": 11,
       "metadata": {},
       "output_type": "execute_result"
      }
     ],
     "persistentId": "495ae439-65c2-41f9-a93a-c89f3337b7a0",
     "text": "adatas.keys()"
    },
    "executionTime": "2019-12-15T19:32:57.547Z"
   },
   {
    "cell": {
     "executionCount": 12,
     "executionEventId": "fc06a817-3597-465c-b0e5-a37ace8c62ed",
     "hasError": false,
     "id": "9ce0efdc-d3b2-4be8-8cb2-0a1c7f02e1e6",
     "outputs": [],
     "persistentId": "9182a3d7-d968-4c54-84d3-ea22085477e9",
     "text": "lemur = adatas['lemur']\nmouse = adatas['mouse']"
    },
    "executionTime": "2019-12-15T19:32:57.550Z"
   },
   {
    "cell": {
     "executionCount": 13,
     "executionEventId": "c117183f-770f-451c-a0a8-83c765ddfcee",
     "hasError": true,
     "id": "3216faf9-4f45-468f-8310-c83cca20548b",
     "outputs": [
      {
       "ename": "AttributeError",
       "evalue": "'DataFrame' object has no attribute 'species'",
       "output_type": "error",
       "traceback": [
        "\u001b[0;31m---------------------------------------------------------------------------\u001b[0m",
        "\u001b[0;31mAttributeError\u001b[0m                            Traceback (most recent call last)",
        "\u001b[0;32m<ipython-input-13-7777c81b56ba>\u001b[0m in \u001b[0;36m<module>\u001b[0;34m\u001b[0m\n\u001b[0;32m----> 1\u001b[0;31m \u001b[0mlemur\u001b[0m\u001b[0;34m.\u001b[0m\u001b[0mvar\u001b[0m\u001b[0;34m.\u001b[0m\u001b[0mspecies\u001b[0m\u001b[0;34m.\u001b[0m\u001b[0mvalue_counts\u001b[0m\u001b[0;34m(\u001b[0m\u001b[0;34m)\u001b[0m\u001b[0;34m\u001b[0m\u001b[0;34m\u001b[0m\u001b[0m\n\u001b[0m",
        "\u001b[0;32m~/miniconda3/envs/tabula-microcebus/lib/python3.7/site-packages/pandas/core/generic.py\u001b[0m in \u001b[0;36m__getattr__\u001b[0;34m(self, name)\u001b[0m\n\u001b[1;32m   5177\u001b[0m             \u001b[0;32mif\u001b[0m \u001b[0mself\u001b[0m\u001b[0;34m.\u001b[0m\u001b[0m_info_axis\u001b[0m\u001b[0;34m.\u001b[0m\u001b[0m_can_hold_identifiers_and_holds_name\u001b[0m\u001b[0;34m(\u001b[0m\u001b[0mname\u001b[0m\u001b[0;34m)\u001b[0m\u001b[0;34m:\u001b[0m\u001b[0;34m\u001b[0m\u001b[0;34m\u001b[0m\u001b[0m\n\u001b[1;32m   5178\u001b[0m                 \u001b[0;32mreturn\u001b[0m \u001b[0mself\u001b[0m\u001b[0;34m[\u001b[0m\u001b[0mname\u001b[0m\u001b[0;34m]\u001b[0m\u001b[0;34m\u001b[0m\u001b[0;34m\u001b[0m\u001b[0m\n\u001b[0;32m-> 5179\u001b[0;31m             \u001b[0;32mreturn\u001b[0m \u001b[0mobject\u001b[0m\u001b[0;34m.\u001b[0m\u001b[0m__getattribute__\u001b[0m\u001b[0;34m(\u001b[0m\u001b[0mself\u001b[0m\u001b[0;34m,\u001b[0m \u001b[0mname\u001b[0m\u001b[0;34m)\u001b[0m\u001b[0;34m\u001b[0m\u001b[0;34m\u001b[0m\u001b[0m\n\u001b[0m\u001b[1;32m   5180\u001b[0m \u001b[0;34m\u001b[0m\u001b[0m\n\u001b[1;32m   5181\u001b[0m     \u001b[0;32mdef\u001b[0m \u001b[0m__setattr__\u001b[0m\u001b[0;34m(\u001b[0m\u001b[0mself\u001b[0m\u001b[0;34m,\u001b[0m \u001b[0mname\u001b[0m\u001b[0;34m,\u001b[0m \u001b[0mvalue\u001b[0m\u001b[0;34m)\u001b[0m\u001b[0;34m:\u001b[0m\u001b[0;34m\u001b[0m\u001b[0;34m\u001b[0m\u001b[0m\n",
        "\u001b[0;31mAttributeError\u001b[0m: 'DataFrame' object has no attribute 'species'"
       ]
      }
     ],
     "persistentId": "391dfecc-071a-40c4-b4cf-467d900af684",
     "text": "lemur.var.species.value_counts()"
    },
    "executionTime": "2019-12-15T19:32:57.578Z"
   },
   {
    "cell": {
     "executionCount": 14,
     "executionEventId": "66fc0577-a094-48dd-820d-fd20b8dba0ae",
     "hasError": false,
     "id": "74d0077c-c27f-41c0-86f1-b634372ec046",
     "outputs": [
      {
       "name": "stdout",
       "output_type": "stream",
       "text": "\u001b[4mPermissions\u001b[0m \u001b[4mSize\u001b[0m \u001b[4mUser\u001b[0m \u001b[4mDate Modified\u001b[0m \u001b[4mName\u001b[0m\n\u001b[34md\u001b[1;33mr\u001b[31mw\u001b[32mx\u001b[0m\u001b[33mr\u001b[31mw\u001b[32mx\u001b[33mr\u001b[38;5;244m-\u001b[32mx\u001b[0m     \u001b[38;5;244m-\u001b[0m \u001b[1;33molga\u001b[0m \u001b[34m14 Dec 10:10\u001b[0m  \u001b[36m/home/olga/googledrive/TabulaMicrocebus/data/\u001b[34mcross-species\u001b[0m\n.\u001b[1;33mr\u001b[31mw\u001b[0m\u001b[38;5;244m-\u001b[33mr\u001b[31mw\u001b[38;5;244m-\u001b[33mr\u001b[38;5;244m--\u001b[0m  \u001b[1;32m6.0\u001b[0m\u001b[32mG\u001b[0m \u001b[1;33molga\u001b[0m \u001b[34m14 Dec 17:22\u001b[0m  \u001b[38;5;244m├──\u001b[0m lung__10x__concatenated__human_lemur_mouse__one2one_orthologs.h5ad\n.\u001b[1;33mr\u001b[31mw\u001b[0m\u001b[38;5;244m-\u001b[33mr\u001b[31mw\u001b[38;5;244m-\u001b[33mr\u001b[38;5;244m--\u001b[0m  \u001b[1;32m3.4\u001b[0m\u001b[32mG\u001b[0m \u001b[1;33molga\u001b[0m \u001b[34m14 Dec 19:17\u001b[0m  \u001b[38;5;244m├──\u001b[0m lung__10x__human__one2one_orthologs.h5ad\n\u001b[34md\u001b[1;33mr\u001b[31mw\u001b[32mx\u001b[0m\u001b[33mr\u001b[31mw\u001b[32mx\u001b[33mr\u001b[38;5;244m-\u001b[32mx\u001b[0m     \u001b[38;5;244m-\u001b[0m \u001b[1;33molga\u001b[0m \u001b[34m15 Dec 11:09\u001b[0m  \u001b[38;5;244m├──\u001b[0m \u001b[34mlung__10x__human__one2one_orthologs__csvs\u001b[0m\n.\u001b[1;33mr\u001b[31mw\u001b[0m\u001b[38;5;244m-\u001b[33mr\u001b[31mw\u001b[38;5;244m-\u001b[33mr\u001b[38;5;244m--\u001b[0m   \u001b[1;32m12\u001b[0m\u001b[32mM\u001b[0m \u001b[1;33molga\u001b[0m \u001b[34m15 Dec 11:10\u001b[0m  \u001b[38;5;244m│  ├──\u001b[0m obs.csv\n.\u001b[1;33mr\u001b[31mw\u001b[0m\u001b[38;5;244m-\u001b[33mr\u001b[31mw\u001b[38;5;244m-\u001b[33mr\u001b[38;5;244m--\u001b[0m   \u001b[1;32m65\u001b[0m\u001b[32mk\u001b[0m \u001b[1;33molga\u001b[0m \u001b[34m15 Dec 11:10\u001b[0m  \u001b[38;5;244m│  ├──\u001b[0m obsm.csv\n\u001b[34md\u001b[1;33mr\u001b[31mw\u001b[32mx\u001b[0m\u001b[33mr\u001b[31mw\u001b[32mx\u001b[33mr\u001b[38;5;244m-\u001b[32mx\u001b[0m     \u001b[38;5;244m-\u001b[0m \u001b[1;33molga\u001b[0m \u001b[34m15 Dec 11:10\u001b[0m  \u001b[38;5;244m│  ├──\u001b[0m \u001b[34muns\u001b[0m\n.\u001b[1;33mr\u001b[31mw\u001b[0m\u001b[38;5;244m-\u001b[33mr\u001b[31mw\u001b[38;5;244m-\u001b[33mr\u001b[38;5;244m--\u001b[0m  \u001b[1;32m690\u001b[0m\u001b[32mk\u001b[0m \u001b[1;33molga\u001b[0m \u001b[34m15 Dec 11:10\u001b[0m  \u001b[38;5;244m│  ├──\u001b[0m var.csv\n.\u001b[1;33mr\u001b[31mw\u001b[0m\u001b[38;5;244m-\u001b[33mr\u001b[31mw\u001b[38;5;244m-\u001b[33mr\u001b[38;5;244m--\u001b[0m   \u001b[1;32m12\u001b[0m\u001b[32mk\u001b[0m \u001b[1;33molga\u001b[0m \u001b[34m15 Dec 11:10\u001b[0m  \u001b[38;5;244m│  └──\u001b[0m varm.csv\n.\u001b[1;33mr\u001b[31mw\u001b[0m\u001b[38;5;244m-\u001b[33mr\u001b[31mw\u001b[38;5;244m-\u001b[33mr\u001b[38;5;244m--\u001b[0m  \u001b[1;32m1.3\u001b[0m\u001b[32mG\u001b[0m \u001b[1;33molga\u001b[0m \u001b[34m14 Dec 18:38\u001b[0m  \u001b[38;5;244m├──\u001b[0m lung__10x__lemur__one2one_orthologs.h5ad\n\u001b[34md\u001b[1;33mr\u001b[31mw\u001b[32mx\u001b[0m\u001b[33mr\u001b[31mw\u001b[32mx\u001b[33mr\u001b[38;5;244m-\u001b[32mx\u001b[0m     \u001b[38;5;244m-\u001b[0m \u001b[1;33molga\u001b[0m \u001b[34m15 Dec 11:03\u001b[0m  \u001b[38;5;244m├──\u001b[0m \u001b[34mlung__10x__lemur__one2one_orthologs__csvs\u001b[0m\n.\u001b[1;33mr\u001b[31mw\u001b[0m\u001b[38;5;244m-\u001b[33mr\u001b[31mw\u001b[38;5;244m-\u001b[33mr\u001b[38;5;244m--\u001b[0m   \u001b[1;32m10\u001b[0m\u001b[32mM\u001b[0m \u001b[1;33molga\u001b[0m \u001b[34m15 Dec 11:04\u001b[0m  \u001b[38;5;244m│  ├──\u001b[0m obs.csv\n.\u001b[1;33mr\u001b[31mw\u001b[0m\u001b[38;5;244m-\u001b[33mr\u001b[31mw\u001b[38;5;244m-\u001b[33mr\u001b[38;5;244m--\u001b[0m   \u001b[1;32m13\u001b[0m\u001b[32mM\u001b[0m \u001b[1;33molga\u001b[0m \u001b[34m15 Dec 11:04\u001b[0m  \u001b[38;5;244m│  ├──\u001b[0m obsm.csv\n\u001b[34md\u001b[1;33mr\u001b[31mw\u001b[32mx\u001b[0m\u001b[33mr\u001b[31mw\u001b[32mx\u001b[33mr\u001b[38;5;244m-\u001b[32mx\u001b[0m     \u001b[38;5;244m-\u001b[0m \u001b[1;33molga\u001b[0m \u001b[34m15 Dec 11:03\u001b[0m  \u001b[38;5;244m│  ├──\u001b[0m \u001b[34muns\u001b[0m\n.\u001b[1;33mr\u001b[31mw\u001b[0m\u001b[38;5;244m-\u001b[33mr\u001b[31mw\u001b[38;5;244m-\u001b[33mr\u001b[38;5;244m--\u001b[0m    \u001b[1;32m71\u001b[0m \u001b[1;33molga\u001b[0m \u001b[34m15 Dec 11:05\u001b[0m  \u001b[38;5;244m│  │  ├──\u001b[0m leiden.csv\n.\u001b[1;33mr\u001b[31mw\u001b[0m\u001b[38;5;244m-\u001b[33mr\u001b[31mw\u001b[38;5;244m-\u001b[33mr\u001b[38;5;244m--\u001b[0m   \u001b[1;32m366\u001b[0m \u001b[1;33molga\u001b[0m \u001b[34m15 Dec 11:05\u001b[0m  \u001b[38;5;244m│  │  ├──\u001b[0m neighbors.csv\n.\u001b[1;33mr\u001b[31mw\u001b[0m\u001b[38;5;244m-\u001b[33mr\u001b[31mw\u001b[38;5;244m-\u001b[33mr\u001b[38;5;244m--\u001b[0m  \u001b[1;32m1.5\u001b[0m\u001b[32mk\u001b[0m \u001b[1;33molga\u001b[0m \u001b[34m15 Dec 11:05\u001b[0m  \u001b[38;5;244m│  │  └──\u001b[0m pca.csv\n.\u001b[1;33mr\u001b[31mw\u001b[0m\u001b[38;5;244m-\u001b[33mr\u001b[31mw\u001b[38;5;244m-\u001b[33mr\u001b[38;5;244m--\u001b[0m  \u001b[1;32m702\u001b[0m\u001b[32mk\u001b[0m \u001b[1;33molga\u001b[0m \u001b[34m15 Dec 11:04\u001b[0m  \u001b[38;5;244m│  ├──\u001b[0m var.csv\n.\u001b[1;33mr\u001b[31mw\u001b[0m\u001b[38;5;244m-\u001b[33mr\u001b[31mw\u001b[38;5;244m-\u001b[33mr\u001b[38;5;244m--\u001b[0m  \u001b[1;32m8.6\u001b[0m\u001b[32mM\u001b[0m \u001b[1;33molga\u001b[0m \u001b[34m15 Dec 11:05\u001b[0m  \u001b[38;5;244m│  └──\u001b[0m varm.csv\n.\u001b[1;33mr\u001b[31mw\u001b[0m\u001b[38;5;244m-\u001b[33mr\u001b[31mw\u001b[38;5;244m-\u001b[33mr\u001b[38;5;244m--\u001b[0m  \u001b[1;32m563\u001b[0m\u001b[32mM\u001b[0m \u001b[1;33molga\u001b[0m \u001b[34m14 Dec 11:11\u001b[0m  \u001b[38;5;244m├──\u001b[0m lung__10x__mouse__one2one_orthologs.h5ad\n\u001b[34md\u001b[1;33mr\u001b[31mw\u001b[32mx\u001b[0m\u001b[33mr\u001b[31mw\u001b[32mx\u001b[33mr\u001b[38;5;244m-\u001b[32mx\u001b[0m     \u001b[38;5;244m-\u001b[0m \u001b[1;33molga\u001b[0m \u001b[34m15 Dec 11:02\u001b[0m  \u001b[38;5;244m└──\u001b[0m \u001b[34mlung__10x__mouse__one2one_orthologs__csvs\u001b[0m\n.\u001b[1;33mr\u001b[31mw\u001b[0m\u001b[38;5;244m-\u001b[33mr\u001b[31mw\u001b[38;5;244m-\u001b[33mr\u001b[38;5;244m--\u001b[0m  \u001b[1;32m4.3\u001b[0m\u001b[32mM\u001b[0m \u001b[1;33molga\u001b[0m \u001b[34m15 Dec 11:02\u001b[0m  \u001b[38;5;244m   ├──\u001b[0m obs.csv\n.\u001b[1;33mr\u001b[31mw\u001b[0m\u001b[38;5;244m-\u001b[33mr\u001b[31mw\u001b[38;5;244m-\u001b[33mr\u001b[38;5;244m--\u001b[0m   \u001b[1;32m14\u001b[0m\u001b[32mM\u001b[0m \u001b[1;33molga\u001b[0m \u001b[34m15 Dec 11:03\u001b[0m  \u001b[38;5;244m   ├──\u001b[0m obsm.csv\n\u001b[34md\u001b[1;33mr\u001b[31mw\u001b[32mx\u001b[0m\u001b[33mr\u001b[31mw\u001b[32mx\u001b[33mr\u001b[38;5;244m-\u001b[32mx\u001b[0m     \u001b[38;5;244m-\u001b[0m \u001b[1;33molga\u001b[0m \u001b[34m15 Dec 11:02\u001b[0m  \u001b[38;5;244m   ├──\u001b[0m \u001b[34muns\u001b[0m\n.\u001b[1;33mr\u001b[31mw\u001b[0m\u001b[38;5;244m-\u001b[33mr\u001b[31mw\u001b[38;5;244m-\u001b[33mr\u001b[38;5;244m--\u001b[0m    \u001b[1;32m40\u001b[0m \u001b[1;33molga\u001b[0m \u001b[34m15 Dec 11:03\u001b[0m  \u001b[38;5;244m   │  ├──\u001b[0m age_colors.csv\n.\u001b[1;33mr\u001b[31mw\u001b[0m\u001b[38;5;244m-\u001b[33mr\u001b[31mw\u001b[38;5;244m-\u001b[33mr\u001b[38;5;244m--\u001b[0m   \u001b[1;32m240\u001b[0m \u001b[1;33molga\u001b[0m \u001b[34m15 Dec 11:03\u001b[0m  \u001b[38;5;244m   │  ├──\u001b[0m cell_ontology_class_colors.csv\n.\u001b[1;33mr\u001b[31mw\u001b[0m\u001b[38;5;244m-\u001b[33mr\u001b[31mw\u001b[38;5;244m-\u001b[33mr\u001b[38;5;244m--\u001b[0m    \u001b[1;32m71\u001b[0m \u001b[1;33molga\u001b[0m \u001b[34m15 Dec 11:03\u001b[0m  \u001b[38;5;244m   │  ├──\u001b[0m leiden.csv\n.\u001b[1;33mr\u001b[31mw\u001b[0m\u001b[38;5;244m-\u001b[33mr\u001b[31mw\u001b[38;5;244m-\u001b[33mr\u001b[38;5;244m--\u001b[0m    \u001b[1;32m32\u001b[0m \u001b[1;33molga\u001b[0m \u001b[34m15 Dec 11:03\u001b[0m  \u001b[38;5;244m   │  ├──\u001b[0m louvain.csv\n.\u001b[1;33mr\u001b[31mw\u001b[0m\u001b[38;5;244m-\u001b[33mr\u001b[31mw\u001b[38;5;244m-\u001b[33mr\u001b[38;5;244m--\u001b[0m   \u001b[1;32m366\u001b[0m \u001b[1;33molga\u001b[0m \u001b[34m15 Dec 11:03\u001b[0m  \u001b[38;5;244m   │  ├──\u001b[0m neighbors.csv\n.\u001b[1;33mr\u001b[31mw\u001b[0m\u001b[38;5;244m-\u001b[33mr\u001b[31mw\u001b[38;5;244m-\u001b[33mr\u001b[38;5;244m--\u001b[0m  \u001b[1;32m1.5\u001b[0m\u001b[32mk\u001b[0m \u001b[1;33molga\u001b[0m \u001b[34m15 Dec 11:03\u001b[0m  \u001b[38;5;244m   │  └──\u001b[0m pca.csv\n.\u001b[1;33mr\u001b[31mw\u001b[0m\u001b[38;5;244m-\u001b[33mr\u001b[31mw\u001b[38;5;244m-\u001b[33mr\u001b[38;5;244m--\u001b[0m  \u001b[1;32m667\u001b[0m\u001b[32mk\u001b[0m \u001b[1;33molga\u001b[0m \u001b[34m15 Dec 11:02\u001b[0m  \u001b[38;5;244m   ├──\u001b[0m var.csv\n.\u001b[1;33mr\u001b[31mw\u001b[0m\u001b[38;5;244m-\u001b[33mr\u001b[31mw\u001b[38;5;244m-\u001b[33mr\u001b[38;5;244m--\u001b[0m  \u001b[1;32m3.6\u001b[0m\u001b[32mM\u001b[0m \u001b[1;33molga\u001b[0m \u001b[34m15 Dec 11:03\u001b[0m  \u001b[38;5;244m   └──\u001b[0m varm.csv\n"
      }
     ],
     "persistentId": "3f1e2b8c-d8cf-4130-a561-1baf47569d37",
     "text": "folder = '/home/olga/googledrive/TabulaMicrocebus/data/cross-species'\n! exa --tree -lha $folder"
    },
    "executionTime": "2019-12-15T19:34:48.273Z"
   },
   {
    "cell": {
     "executionCount": 15,
     "executionEventId": "3f912ff3-650f-4f91-9dd2-6fb0369f50cb",
     "hasError": false,
     "id": "4b1268d1-c5f6-446b-bf75-8fbc9977bfeb",
     "outputs": [
      {
       "data": {
        "text/plain": "\u001b[0;31mSignature:\u001b[0m\n\u001b[0mscanpy\u001b[0m\u001b[0;34m.\u001b[0m\u001b[0mread_csv\u001b[0m\u001b[0;34m(\u001b[0m\u001b[0;34m\u001b[0m\n\u001b[0;34m\u001b[0m    \u001b[0mfilename\u001b[0m\u001b[0;34m:\u001b[0m \u001b[0mUnion\u001b[0m\u001b[0;34m[\u001b[0m\u001b[0mos\u001b[0m\u001b[0;34m.\u001b[0m\u001b[0mPathLike\u001b[0m\u001b[0;34m,\u001b[0m \u001b[0mIterator\u001b[0m\u001b[0;34m[\u001b[0m\u001b[0mstr\u001b[0m\u001b[0;34m]\u001b[0m\u001b[0;34m]\u001b[0m\u001b[0;34m,\u001b[0m\u001b[0;34m\u001b[0m\n\u001b[0;34m\u001b[0m    \u001b[0mdelimiter\u001b[0m\u001b[0;34m:\u001b[0m \u001b[0mUnion\u001b[0m\u001b[0;34m[\u001b[0m\u001b[0mstr\u001b[0m\u001b[0;34m,\u001b[0m \u001b[0mNoneType\u001b[0m\u001b[0;34m]\u001b[0m \u001b[0;34m=\u001b[0m \u001b[0;34m','\u001b[0m\u001b[0;34m,\u001b[0m\u001b[0;34m\u001b[0m\n\u001b[0;34m\u001b[0m    \u001b[0mfirst_column_names\u001b[0m\u001b[0;34m:\u001b[0m \u001b[0mUnion\u001b[0m\u001b[0;34m[\u001b[0m\u001b[0mbool\u001b[0m\u001b[0;34m,\u001b[0m \u001b[0mNoneType\u001b[0m\u001b[0;34m]\u001b[0m \u001b[0;34m=\u001b[0m \u001b[0;32mNone\u001b[0m\u001b[0;34m,\u001b[0m\u001b[0;34m\u001b[0m\n\u001b[0;34m\u001b[0m    \u001b[0mdtype\u001b[0m\u001b[0;34m:\u001b[0m \u001b[0mstr\u001b[0m \u001b[0;34m=\u001b[0m \u001b[0;34m'float32'\u001b[0m\u001b[0;34m,\u001b[0m\u001b[0;34m\u001b[0m\n\u001b[0;34m\u001b[0m\u001b[0;34m)\u001b[0m \u001b[0;34m->\u001b[0m \u001b[0manndata\u001b[0m\u001b[0;34m.\u001b[0m\u001b[0mcore\u001b[0m\u001b[0;34m.\u001b[0m\u001b[0manndata\u001b[0m\u001b[0;34m.\u001b[0m\u001b[0mAnnData\u001b[0m\u001b[0;34m\u001b[0m\u001b[0;34m\u001b[0m\u001b[0m\n\u001b[0;31mSource:\u001b[0m   \n\u001b[0;32mdef\u001b[0m \u001b[0mread_csv\u001b[0m\u001b[0;34m(\u001b[0m\u001b[0;34m\u001b[0m\n\u001b[0;34m\u001b[0m    \u001b[0mfilename\u001b[0m\u001b[0;34m:\u001b[0m \u001b[0mUnion\u001b[0m\u001b[0;34m[\u001b[0m\u001b[0mPathLike\u001b[0m\u001b[0;34m,\u001b[0m \u001b[0mIterator\u001b[0m\u001b[0;34m[\u001b[0m\u001b[0mstr\u001b[0m\u001b[0;34m]\u001b[0m\u001b[0;34m]\u001b[0m\u001b[0;34m,\u001b[0m\u001b[0;34m\u001b[0m\n\u001b[0;34m\u001b[0m    \u001b[0mdelimiter\u001b[0m\u001b[0;34m:\u001b[0m \u001b[0mOptional\u001b[0m\u001b[0;34m[\u001b[0m\u001b[0mstr\u001b[0m\u001b[0;34m]\u001b[0m \u001b[0;34m=\u001b[0m \u001b[0;34m','\u001b[0m\u001b[0;34m,\u001b[0m\u001b[0;34m\u001b[0m\n\u001b[0;34m\u001b[0m    \u001b[0mfirst_column_names\u001b[0m\u001b[0;34m:\u001b[0m \u001b[0mOptional\u001b[0m\u001b[0;34m[\u001b[0m\u001b[0mbool\u001b[0m\u001b[0;34m]\u001b[0m \u001b[0;34m=\u001b[0m \u001b[0;32mNone\u001b[0m\u001b[0;34m,\u001b[0m\u001b[0;34m\u001b[0m\n\u001b[0;34m\u001b[0m    \u001b[0mdtype\u001b[0m\u001b[0;34m:\u001b[0m \u001b[0mstr\u001b[0m \u001b[0;34m=\u001b[0m \u001b[0;34m'float32'\u001b[0m\u001b[0;34m,\u001b[0m\u001b[0;34m\u001b[0m\n\u001b[0;34m\u001b[0m\u001b[0;34m)\u001b[0m \u001b[0;34m->\u001b[0m \u001b[0mAnnData\u001b[0m\u001b[0;34m:\u001b[0m\u001b[0;34m\u001b[0m\n\u001b[0;34m\u001b[0m    \u001b[0;34m\"\"\"\\\u001b[0m\n\u001b[0;34m    Read `.csv` file.\u001b[0m\n\u001b[0;34m\u001b[0m\n\u001b[0;34m    Same as :func:`~anndata.read_text` but with default delimiter `','`.\u001b[0m\n\u001b[0;34m\u001b[0m\n\u001b[0;34m    Parameters\u001b[0m\n\u001b[0;34m    ----------\u001b[0m\n\u001b[0;34m    filename\u001b[0m\n\u001b[0;34m        Data file.\u001b[0m\n\u001b[0;34m    delimiter\u001b[0m\n\u001b[0;34m        Delimiter that separates data within text file. If `None`, will split at\u001b[0m\n\u001b[0;34m        arbitrary number of white spaces, which is different from enforcing\u001b[0m\n\u001b[0;34m        splitting at single white space `' '`.\u001b[0m\n\u001b[0;34m    first_column_names\u001b[0m\n\u001b[0;34m        Assume the first column stores row names.\u001b[0m\n\u001b[0;34m    dtype\u001b[0m\n\u001b[0;34m        Numpy data type.\u001b[0m\n\u001b[0;34m    \"\"\"\u001b[0m\u001b[0;34m\u001b[0m\n\u001b[0;34m\u001b[0m    \u001b[0;32mreturn\u001b[0m \u001b[0mread_text\u001b[0m\u001b[0;34m(\u001b[0m\u001b[0mfilename\u001b[0m\u001b[0;34m,\u001b[0m \u001b[0mdelimiter\u001b[0m\u001b[0;34m,\u001b[0m \u001b[0mfirst_column_names\u001b[0m\u001b[0;34m,\u001b[0m \u001b[0mdtype\u001b[0m\u001b[0;34m)\u001b[0m\u001b[0;34m\u001b[0m\u001b[0;34m\u001b[0m\u001b[0m\n\u001b[0;31mFile:\u001b[0m      ~/miniconda3/envs/tabula-microcebus/lib/python3.7/site-packages/anndata/readwrite/read.py\n\u001b[0;31mType:\u001b[0m      function\n"
       },
       "metadata": {},
       "output_type": "display_data"
      }
     ],
     "persistentId": "4f1aa147-1c52-44a4-8804-ca84fdbdc097",
     "text": "scanpy.read_csv??"
    },
    "executionTime": "2019-12-15T19:35:09.757Z"
   }
  ],
  "kernelspec": {
   "display_name": "Python [conda env:tabula-microcebus-jan2021]",
   "language": "python",
   "name": "conda-env-tabula-microcebus-jan2021-py"
  },
  "language_info": {
   "codemirror_mode": {
    "name": "ipython",
    "version": 3
   },
   "file_extension": ".py",
   "mimetype": "text/x-python",
   "name": "python",
   "nbconvert_exporter": "python",
   "pygments_lexer": "ipython3",
   "version": "3.7.3"
  },
  "uuid": "e5871e9a-37b5-40c9-9b0c-696197eae6a1"
 },
 "nbformat": 4,
 "nbformat_minor": 4
}
