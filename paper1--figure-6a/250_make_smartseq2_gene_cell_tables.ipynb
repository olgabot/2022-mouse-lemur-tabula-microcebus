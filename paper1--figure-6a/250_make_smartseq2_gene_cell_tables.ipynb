{
 "cells": [
  {
   "cell_type": "code",
   "execution_count": 1,
   "metadata": {},
   "outputs": [],
   "source": [
    "import pandas as pd"
   ]
  },
  {
   "cell_type": "code",
   "execution_count": 3,
   "metadata": {},
   "outputs": [
    {
     "name": "stdout",
     "output_type": "stream",
     "text": [
      "total 4\n",
      "drwxr-xr-x  2 olga   4096 Jan 21 11:48 \u001b[0m\u001b[01;34m10x-counts\u001b[0m/\n",
      "drwxrwxr-x  3   1004 4096 Dec  6 06:03 \u001b[01;34maligned\u001b[0m/\n",
      "drwxr-xr-x  3 lekha  4096 Jan 13 13:26 \u001b[01;34maligned_micmur3\u001b[0m/\n",
      "drwxrwxr-x  2   1004 4096 Dec 19 16:43 \u001b[01;34mcell-annotations\u001b[0m/\n",
      "drwxr-xr-x  3 olga   4096 Jan 13 11:01 \u001b[01;34mfrom_stanford_sherlock\u001b[0m/\n",
      "drwxrwxrwx  5   1004 4096 Nov 28 12:25 \u001b[34;42mkmermaid\u001b[0m/\n",
      "drwxrwxrwx 10 nobody 4096 Dec 31  1969 \u001b[34;42mrawdata\u001b[0m/\n",
      "drwxrwxr-x  2   1004 4096 Jan  2 07:31 \u001b[01;34mtranscription-factors\u001b[0m/\n"
     ]
    }
   ],
   "source": [
    "ll ~/data_lg/data_sm_copy/tabula-microcebus/"
   ]
  },
  {
   "cell_type": "code",
   "execution_count": 4,
   "metadata": {},
   "outputs": [
    {
     "name": "stdout",
     "output_type": "stream",
     "text": [
      "total 1\n",
      "drwxrwxr-x 3 1004 4096 Dec  6 06:03 \u001b[0m\u001b[01;34m10x\u001b[0m/\n"
     ]
    }
   ],
   "source": [
    "ll ~/data_lg/data_sm_copy/tabula-microcebus/aligned/"
   ]
  },
  {
   "cell_type": "code",
   "execution_count": 5,
   "metadata": {},
   "outputs": [
    {
     "name": "stdout",
     "output_type": "stream",
     "text": [
      "total 1\n",
      "drwxr-xr-x 10 lekha 4096 Jan 13 13:33 \u001b[0m\u001b[01;34msmartseq2\u001b[0m/\n"
     ]
    }
   ],
   "source": [
    "ll ~/data_lg/data_sm_copy/tabula-microcebus/aligned_micmur3/"
   ]
  },
  {
   "cell_type": "code",
   "execution_count": 16,
   "metadata": {},
   "outputs": [
    {
     "name": "stdout",
     "output_type": "stream",
     "text": [
      "\u001b[4mPermissions\u001b[0m \u001b[4mSize\u001b[0m \u001b[4mUser\u001b[0m \u001b[4mGroup\u001b[0m \u001b[4mDate Modified\u001b[0m \u001b[4mName\u001b[0m\n",
      "\u001b[34md\u001b[1;33mr\u001b[31mw\u001b[32mx\u001b[0m\u001b[33mr\u001b[38;5;244m-\u001b[32mx\u001b[38;5;244m---\u001b[0m@    \u001b[38;5;244m-\u001b[0m \u001b[1;33molga\u001b[0m \u001b[1;33mczb\u001b[0m   \u001b[34m13 Jan 13:32\u001b[0m  \u001b[34m.aws-datasync\u001b[0m\n",
      "\u001b[34md\u001b[38;5;244m-\u001b[1;31mw\u001b[32mx\u001b[0m\u001b[33mr\u001b[38;5;244m-\u001b[32mx\u001b[38;5;244m---\u001b[0m@    \u001b[38;5;244m-\u001b[0m \u001b[1;33molga\u001b[0m \u001b[1;33mczb\u001b[0m   \u001b[34m14 Jan  1:35\u001b[0m  \u001b[34mantoine__190812_A00111_0356_AHMHLCDSXX\u001b[0m\n",
      "\u001b[34md\u001b[38;5;244m-\u001b[1;31mw\u001b[32mx\u001b[0m\u001b[33mr\u001b[38;5;244m-\u001b[32mx\u001b[38;5;244m---\u001b[0m@    \u001b[38;5;244m-\u001b[0m \u001b[1;33molga\u001b[0m \u001b[1;33mczb\u001b[0m   \u001b[34m14 Jan  1:35\u001b[0m  \u001b[34mantoine__190812_A00111_0357_BHMVFMDSXX\u001b[0m\n",
      "\u001b[34md\u001b[38;5;244m-\u001b[1;31mw\u001b[32mx\u001b[0m\u001b[33mr\u001b[38;5;244m-\u001b[32mx\u001b[38;5;244m---\u001b[0m@    \u001b[38;5;244m-\u001b[0m \u001b[1;33molga\u001b[0m \u001b[1;33mczb\u001b[0m   \u001b[34m14 Jan  1:00\u001b[0m  \u001b[34mantoine__190815_A00111_0358_AHKJYLDMXX\u001b[0m\n",
      "\u001b[34md\u001b[38;5;244m-\u001b[1;31mw\u001b[32mx\u001b[0m\u001b[33mr\u001b[38;5;244m-\u001b[32mx\u001b[38;5;244m---\u001b[0m@    \u001b[38;5;244m-\u001b[0m \u001b[1;33molga\u001b[0m \u001b[1;33mczb\u001b[0m   \u001b[34m14 Jan  1:00\u001b[0m  \u001b[34mbernard__180607_NB501961_0120_AHWNYVAFXX\u001b[0m\n",
      "\u001b[34md\u001b[38;5;244m-\u001b[1;31mw\u001b[32mx\u001b[0m\u001b[33mr\u001b[38;5;244m-\u001b[32mx\u001b[33mr\u001b[38;5;244m-\u001b[32mx\u001b[0m@    \u001b[38;5;244m-\u001b[0m \u001b[1;33molga\u001b[0m \u001b[1;33mczb\u001b[0m   \u001b[34m14 Jan  1:35\u001b[0m  \u001b[34mstumpy__180409_A00111_0132_AH3VFJDSXX\u001b[0m\n",
      "\u001b[34md\u001b[38;5;244m-\u001b[1;31mw\u001b[32mx\u001b[0m\u001b[33mr\u001b[38;5;244m-\u001b[32mx\u001b[33mr\u001b[38;5;244m-\u001b[32mx\u001b[0m@    \u001b[38;5;244m-\u001b[0m \u001b[1;33molga\u001b[0m \u001b[1;33mczb\u001b[0m   \u001b[34m14 Jan  1:35\u001b[0m  \u001b[34mstumpy__180409_A00111_0133_BH3VGJDSXX\u001b[0m\n",
      "\u001b[34md\u001b[38;5;244m-\u001b[1;31mw\u001b[32mx\u001b[0m\u001b[33mr\u001b[38;5;244m-\u001b[32mx\u001b[38;5;244m---\u001b[0m@    \u001b[38;5;244m-\u001b[0m \u001b[1;33molga\u001b[0m \u001b[1;33mczb\u001b[0m   \u001b[34m14 Jan  1:34\u001b[0m  \u001b[34mstumpy_bernard__180705_A00111_0171_AHFVMGDMXX\u001b[0m\n"
     ]
    }
   ],
   "source": [
    "! exa -lhag ~/data_lg/data_sm_copy/tabula-microcebus/aligned_micmur3/smartseq2/"
   ]
  },
  {
   "cell_type": "code",
   "execution_count": 22,
   "metadata": {},
   "outputs": [
    {
     "name": "stdout",
     "output_type": "stream",
     "text": [
      "total 462693633\n",
      "-rwxrwxr-x 1 olga   28630809 Dec 31  1969 \u001b[0m\u001b[01;32mB001495_B109059_A10_S10.microcebus.Aligned.out.sorted.bam\u001b[0m\u001b[K*\n",
      "-rwxrwxr-x 1 olga    1532928 Dec 31  1969 \u001b[01;32mB001495_B109059_A10_S10.microcebus.Aligned.out.sorted.bam.bai\u001b[0m\u001b[K*\n",
      "-rwxrwxr-x 1 olga     373587 Dec 31  1969 \u001b[01;32mB001495_B109059_A10_S10.microcebus.htseq-count.txt\u001b[0m*\n",
      "-rwxrwxr-x 1 olga       1847 Dec 31  1969 \u001b[01;32mB001495_B109059_A10_S10.microcebus.log.final.out\u001b[0m*\n",
      "-rwxrwxr-x 1 olga     176315 Dec 31  1969 \u001b[01;32mB001495_B109059_A10_S10.microcebus.SJ.out.tab\u001b[0m*\n",
      "-rwxrwxr-x 1 olga  149704379 Dec 31  1969 \u001b[01;32mB001495_B109059_A11_S11.microcebus.Aligned.out.sorted.bam\u001b[0m\u001b[K*\n",
      "-rwxrwxr-x 1 olga    1778992 Dec 31  1969 \u001b[01;32mB001495_B109059_A11_S11.microcebus.Aligned.out.sorted.bam.bai\u001b[0m\u001b[K*\n",
      "-rwxrwxr-x 1 olga     372215 Dec 31  1969 \u001b[01;32mB001495_B109059_A11_S11.microcebus.htseq-count.txt\u001b[0m*\n",
      "-rwxrwxr-x 1 olga       1844 Dec 31  1969 \u001b[01;32mB001495_B109059_A11_S11.microcebus.log.final.out\u001b[0m*\n",
      "ls: write error\n"
     ]
    }
   ],
   "source": [
    "ll ~/data_lg/data_sm_copy/tabula-microcebus/aligned_micmur3/smartseq2/antoine__190812_A00111_0356_AHMHLCDSXX/ | head"
   ]
  },
  {
   "cell_type": "markdown",
   "metadata": {},
   "source": [
    "# Use `gene_cell_table` function from [utilities](https://github.com/czbiohub/utilities#how-to-make-a-gene-cell-table-from-an-alignment) repo\n",
    "\n",
    "```\n",
    "(utilities-env) ➜ gene_cell_table --help\n",
    "usage: gene_cell_table [--no_log] [--dryrun] [--debug] [-h]\n",
    "                       s3_input_path output_file\n",
    "\n",
    "Construct the gene-cell table for an experiment e.g. gene_cell_table\n",
    "s3://bucket-name/path/to/results path/to/output.csv\n",
    "\n",
    "basic arguments:\n",
    "  s3_input_path  Location of data on S3\n",
    "  output_file    File to save the output, e.g. my_gc_table[.csv,.h5ad]\n",
    "\n",
    "other options:\n",
    "  --no_log       Don't try to download log files (default: False)\n",
    "  --dryrun       Don't actually download any files (default: False)\n",
    "  --debug        Set logging to debug level (default: False)\n",
    "  -h, --help     Show this help message and exit\n",
    "\n",
    "See https://github.com/czbiohub/utilities for more examples\n",
    "\n",
    "(utilities-env) ➜ gene_cell_table fastqs/YYMMDD_EXP_ID YYMMDD_EXP_ID.csv --dryrun\n",
    "2017-11-08 18:19:22,494 - __main__ - INFO - (DRYRUN) - Starting\n",
    "2017-11-08 18:19:22,494 - __main__ - INFO - (DRYRUN) - Starting S3 client\n",
    "2017-11-08 18:19:22,594 - __main__ - INFO - (DRYRUN) - Getting htseq file list\n",
    "2017-11-08 18:19:23,176 - __main__ - INFO - (DRYRUN) - 19 htseq files found\n",
    "2017-11-08 18:19:23,176 - __main__ - INFO - (DRYRUN) - Downloaded 19 files\n",
    "2017-11-08 18:19:23,177 - __main__ - INFO - (DRYRUN) - Writing to YYMMDD_EXP_ID.csv\n",
    "2017-11-08 18:19:23,177 - __main__ - INFO - (DRYRUN) - Downloaded 19 files\n",
    "2017-11-08 18:19:23,177 - __main__ - INFO - (DRYRUN) - Writing to YYMMDD_EXP_ID.log.csv\n",
    "2017-11-08 18:19:23,177 - __main__ - INFO - (DRYRUN) - Done!\n",
    "```"
   ]
  },
  {
   "cell_type": "code",
   "execution_count": null,
   "metadata": {},
   "outputs": [
    {
     "name": "stdout",
     "output_type": "stream",
     "text": [
      "/home/olga/data_lg/data_sm_copy/tabula-microcebus/aligned_micmur3/smartseq2/stumpy__180409_A00111_0133_BH3VGJDSXX\n",
      "2020-01-22 12:20:36,953 - utilities.scripts.gene_cell_table - INFO - Starting\n",
      "2020-01-22 12:20:37,421 - utilities.scripts.gene_cell_table - INFO - Starting S3 client\n",
      "2020-01-22 12:20:37,470 - utilities.scripts.gene_cell_table - INFO - Getting htseq file list\n",
      "2020-01-22 12:21:44,736 - utilities.scripts.gene_cell_table - INFO - 26904 htseq files found\n"
     ]
    }
   ],
   "source": [
    "import os\n",
    "from glob import glob\n",
    "\n",
    "from tqdm import tqdm\n",
    "\n",
    "gct = '/home/olga/miniconda3/envs/utilities-env/bin/gene_cell_table'\n",
    "\n",
    "s3_prefix = 's3://tabula-microcebus/aligned_micmur3/smartseq2'\n",
    "\n",
    "for folder in glob('/home/olga/data_lg/data_sm_copy/tabula-microcebus/aligned_micmur3/smartseq2/*'):\n",
    "    basename = os.path.basename(folder)\n",
    "    print(folder)\n",
    "    s3_folder = folder.replace('/home/olga/data_lg/data_sm_copy/', 's3://')\n",
    "    h5ad = f'{s3_folder}/{basename}.h5ad'\n",
    "    ! $gct $s3_prefix $h5ad"
   ]
  },
  {
   "cell_type": "code",
   "execution_count": null,
   "metadata": {},
   "outputs": [],
   "source": [
    "1+1"
   ]
  },
  {
   "cell_type": "code",
   "execution_count": null,
   "metadata": {},
   "outputs": [],
   "source": []
  }
 ],
 "metadata": {
  "kernelspec": {
   "display_name": "Python [conda env:tabula-microcebus-v2]",
   "language": "python",
   "name": "conda-env-tabula-microcebus-v2-py"
  },
  "language_info": {
   "codemirror_mode": {
    "name": "ipython",
    "version": 3
   },
   "file_extension": ".py",
   "mimetype": "text/x-python",
   "name": "python",
   "nbconvert_exporter": "python",
   "pygments_lexer": "ipython3",
   "version": "3.7.3"
  }
 },
 "nbformat": 4,
 "nbformat_minor": 4
}
