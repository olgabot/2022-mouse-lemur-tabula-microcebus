{
 "cells": [
  {
   "cell_type": "markdown",
   "metadata": {},
   "source": [
    "# Imports"
   ]
  },
  {
   "cell_type": "code",
   "execution_count": 1,
   "metadata": {},
   "outputs": [
    {
     "name": "stderr",
     "output_type": "stream",
     "text": [
      "WARNING: If you miss a compact list, please try `print_header`!\n"
     ]
    },
    {
     "name": "stdout",
     "output_type": "stream",
     "text": [
      "-----\n",
      "anndata     0.7.5\n",
      "scanpy      1.7.0rc1\n",
      "sinfo       0.3.1\n",
      "-----\n",
      "anndata             0.7.5\n",
      "backcall            0.1.0\n",
      "cairo               1.18.2\n",
      "colorama            0.4.4\n",
      "cycler              0.10.0\n",
      "cython_runtime      NA\n",
      "dateutil            2.8.0\n",
      "decorator           4.4.1\n",
      "get_version         2.1\n",
      "h5py                2.10.0\n",
      "igraph              0.7.1\n",
      "importlib_metadata  0.19\n",
      "ipykernel           5.1.3\n",
      "ipython_genutils    0.2.0\n",
      "jedi                0.15.1\n",
      "joblib              0.14.1\n",
      "kiwisolver          1.1.0\n",
      "legacy_api_wrap     0.0.0\n",
      "leidenalg           0.7.0\n",
      "llvmlite            0.30.0\n",
      "louvain             0.6.1\n",
      "matplotlib          3.1.2\n",
      "more_itertools      NA\n",
      "mpl_toolkits        NA\n",
      "natsort             6.2.0\n",
      "numba               0.46.0\n",
      "numexpr             2.7.0\n",
      "numpy               1.17.3\n",
      "packaging           20.8\n",
      "pandas              1.1.4\n",
      "parso               0.5.1\n",
      "pexpect             4.7.0\n",
      "pickleshare         0.7.5\n",
      "pkg_resources       NA\n",
      "prompt_toolkit      3.0.2\n",
      "ptyprocess          0.6.0\n",
      "pygments            2.5.2\n",
      "pyparsing           2.4.5\n",
      "pytz                2019.3\n",
      "scanpy              1.7.0rc1\n",
      "scipy               1.5.2\n",
      "setuptools_scm      NA\n",
      "sinfo               0.3.1\n",
      "six                 1.13.0\n",
      "sklearn             0.23.2\n",
      "sphinxcontrib       NA\n",
      "storemagic          NA\n",
      "tables              3.6.1\n",
      "tornado             6.0.3\n",
      "traitlets           4.3.3\n",
      "wcwidth             NA\n",
      "yaml                5.3.1\n",
      "zipp                NA\n",
      "zmq                 18.1.1\n",
      "-----\n",
      "IPython             7.10.1\n",
      "jupyter_client      5.3.3\n",
      "jupyter_core        4.6.1\n",
      "jupyterlab          1.2.4\n",
      "notebook            6.0.1\n",
      "-----\n",
      "Python 3.7.3 | packaged by conda-forge | (default, Dec  6 2019, 08:54:18) [GCC 7.3.0]\n",
      "Linux-4.15.0-91-generic-x86_64-with-debian-buster-sid\n",
      "128 logical CPU cores, x86_64\n",
      "-----\n",
      "Session information updated at 2021-08-25 09:50\n",
      "\n",
      "scanpy==1.7.0rc1 anndata==0.7.5 umap==0.4.6 numpy==1.17.3 scipy==1.5.2 pandas==1.1.4 scikit-learn==0.23.2 statsmodels==0.12.1 python-igraph==0.7.1 louvain==0.6.1 leidenalg==0.7.0\n"
     ]
    }
   ],
   "source": [
    "import os\n",
    "\n",
    "import pandas as pd\n",
    "import scanpy as sc\n",
    "sc.logging.print_versions()\n",
    "sc.logging.print_header()\n",
    "\n",
    "outdir_gdrive = '/home/olga/googledrive/TabulaMicrocebus/data/cross-species'\n",
    "outdir_local = '/home/olga/data_lg/data_sm_copy/tabula-microcebus/data-objects/cross-species'\n",
    "outdirs = outdir_gdrive, outdir_local"
   ]
  },
  {
   "cell_type": "markdown",
   "metadata": {},
   "source": [
    "## Instructions from Camille\n",
    "\n",
    "1. Cross_species_unified_annotations_Lung_Muscle_Blood.xlsx where you can see the updated unified annotations (I tried my best to look for any typos!!)\n",
    "1. tabula-muris-senis_10X_Limb_Muscle_updated-annotations.h5ad\n",
    "    1. Olga please remove 1 and 3 month old data\n",
    "    1. ***Note there are only 5 slow muscle cells in the TMS data, so depending on your cutoff Olga for minimum number of cells, we might not be able to compare slow vs fast muscle cells. \n",
    "1. tabula-sapiens_P1P2_10X_SS2_Muscle_updated-annotations.h5ad\n",
    "    1. This is only p1 and p2. Olga please remove diaphragm data from P2 and all the SmartSeq2 data.\n",
    "    1. Antoine under 'Anatomical information' for P2 there is: rectus, diaphragm and 'nan'. Not sure what 'nan' refers to in that case. But it's all smartseq2 so it will removed. "
   ]
  },
  {
   "cell_type": "code",
   "execution_count": 2,
   "metadata": {},
   "outputs": [
    {
     "name": "stdout",
     "output_type": "stream",
     "text": [
      "total 119G\n",
      "drwxr-xr-x 2 angela 21040 4.0K Jul 12 10:34  \u001b[0m\u001b[01;34m.\u001b[0m/\n",
      "drwxr-xr-x 4 angela 21040 4.0K Jul 11 22:50  \u001b[01;34m..\u001b[0m/\n",
      "-rw-r--r-- 1 angela 21040 1.8G Jul 12 10:29  TS_Bladder.h5ad\n",
      "-rw-r--r-- 1 angela 21040 2.9G Jul 12 10:32  TS_Blood.h5ad\n",
      "-rw-r--r-- 1 angela 21040 974M Jul 12 10:34  TS_Bone_Marrow.h5ad\n",
      "-rw-r--r-- 1 angela 21040 1.2G Jul 12 10:23  TS_Eye.h5ad\n",
      "-rw-r--r-- 1 angela 21040 2.1G Jul 12 10:24  TS_Fat.h5ad\n",
      "-rw-r--r-- 1 angela 21040 1.4G Jul 12 10:24  TS_Heart.h5ad\n",
      "-rw-r--r-- 1 angela 21040 847M Jul 12 10:33  TS_Kidney.h5ad\n",
      "-rw-r--r-- 1 angela 21040 873M Jul 12 10:23  TS_Large_Intestine.h5ad\n",
      "-rw-r--r-- 1 angela 21040 405M Jul 12 10:28  TS_Liver.h5ad\n",
      "-rw-r--r-- 1 angela 21040 3.7G Jul 12 10:34  TS_Lung.h5ad\n",
      "-rw-r--r-- 1 angela 21040 3.4G Jul 12 10:30  TS_Lymph_Node.h5ad\n",
      "-rw-r--r-- 1 angela 21040 938M Jul 12 10:28  TS_Mammary.h5ad\n",
      "-rw-r--r-- 1 angela 21040 2.4G Jul 12 10:27  TS_Muscle.h5ad\n",
      "-rw-r--r-- 1 angela 21040 1.4G Jul 12 10:25  TS_Pancreas.h5ad\n",
      "-rw-r--r-- 1 angela 21040 1.4G Jul 12 10:28  TS_Prostate.h5ad\n",
      "-rw-r--r-- 1 angela 21040 2.2G Jul 12 10:27  TS_Salivary_Gland.h5ad\n",
      "-rw-r--r-- 1 angela 21040 679M Jul 12 10:31  TS_Skin.h5ad\n",
      "-rw-r--r-- 1 angela 21040 842M Jul 12 10:23  TS_Small_Intestine.h5ad\n",
      "-rw-r--r-- 1 angela 21040 2.5G Jul 12 10:33  TS_Spleen.h5ad\n",
      "-rw-r--r-- 1 angela 21040 3.4G Jul 11 23:27  TS_Splicing.h5ad\n",
      "-rw-r--r-- 1 angela 21040 2.6G Jul 12 10:26  TS_Thymus.h5ad\n",
      "-rw-r--r-- 1 angela 21040 1.7G Jul 12 10:28  TS_Tongue.h5ad\n",
      "-rw-r--r-- 1 angela 21040 889M Jul 12 10:25  TS_Trachea.h5ad\n",
      "-rw-r--r-- 1 angela 21040 725M Jul 12 10:24  TS_Uterus.h5ad\n",
      "-rw-r--r-- 1 angela 21040 2.0G Jul 12 10:25  TS_Vasculature.h5ad\n",
      "-rw-r--r-- 1 angela 21040 2.9G Jul 12 13:43  TS_endothelial.h5ad\n",
      "-rw-r--r-- 1 angela 21040  11G Jul 12 13:43  TS_epithelial.h5ad\n",
      "-rw-r--r-- 1 angela 21040  34M Jul 12 13:43 'TS_germ line.h5ad'\n",
      "-rw-r--r-- 1 angela 21040  18G Jul 12 13:49  TS_immune.h5ad\n",
      "-rw-r--r-- 1 angela 21040 7.9G Jul 12 13:51  TS_stromal.h5ad\n",
      "-rw-r--r-- 1 angela 21040  39G Jul 11 23:35  TabulaSapiens.h5ad\n"
     ]
    }
   ],
   "source": [
    "ls -lha /mnt/ibm_lg/angela/sapiens/data/uploads_to_s3/v2_july_2021"
   ]
  },
  {
   "cell_type": "markdown",
   "metadata": {},
   "source": [
    "## Read blood data"
   ]
  },
  {
   "cell_type": "code",
   "execution_count": 3,
   "metadata": {},
   "outputs": [
    {
     "data": {
      "text/plain": [
       "AnnData object with n_obs × n_vars = 50115 × 58870\n",
       "    obs: 'organ_tissue', 'method', 'donor', 'anatomical_information', 'n_counts_UMIs', 'n_genes', 'cell_ontology_class', 'free_annotation', 'manually_annotated', 'compartment', 'gender'\n",
       "    var: 'gene_symbol', 'feature_type', 'ensemblid', 'highly_variable', 'means', 'dispersions', 'dispersions_norm', 'mean', 'std'\n",
       "    uns: '_scvi', '_training_mode', 'cell_ontology_class_colors', 'dendrogram_cell_type_tissue', 'dendrogram_computational_compartment_assignment', 'dendrogram_consensus_prediction', 'dendrogram_tissue_cell_type', 'donor_colors', 'donor_method_colors', 'hvg', 'method_colors', 'neighbors', 'sex_colors', 'tissue_colors', 'umap'\n",
       "    obsm: 'X_pca', 'X_scvi', 'X_scvi_umap', 'X_umap'\n",
       "    layers: 'decontXcounts', 'raw_counts'\n",
       "    obsp: 'connectivities', 'distances'"
      ]
     },
     "execution_count": 3,
     "metadata": {},
     "output_type": "execute_result"
    }
   ],
   "source": [
    "h5ad = os.path.join(\n",
    "    \"/mnt/ibm_lg/angela/sapiens/data/uploads_to_s3/v2_july_2021\",\n",
    "    \"TS_Blood.h5ad\",\n",
    ")\n",
    "\n",
    "blood = sc.read(h5ad, cache=True)\n",
    "blood"
   ]
  },
  {
   "cell_type": "markdown",
   "metadata": {},
   "source": [
    "## Read Camille's annotations"
   ]
  },
  {
   "cell_type": "code",
   "execution_count": 4,
   "metadata": {},
   "outputs": [
    {
     "data": {
      "text/plain": [
       "AnnData object with n_obs × n_vars = 20197 × 58833\n",
       "    obs: 'Annotation', 'Predictability', 'Manually Annotated', 'Donor', 'Method', 'Organ', 'Compartment', 'Anatomical Information', 'TS_muscle_CE_compartment', 'TS_muscle_CE_anatomical_information', 'TS_muscle_CE_free_annotation'\n",
       "    var: 'gene_symbol', 'ensembl_id', 'gene_length'\n",
       "    uns: 'Annotation_colors', 'Compartment_colors', 'Donor_colors', 'Manually Annotated_colors', 'Method_colors', 'Organ_colors', 'Propagated.Annotationcollapsed_colors', 'TS_muscle_CE_compartment_colors', 'TS_muscle_CE_free_annotation_colors', '_scvi', 'donor_colors', 'leiden', 'method_colors', 'neighbors', 'tissue_colors', 'umap'\n",
       "    obsm: 'X_umap'\n",
       "    layers: 'counts', 'raw_counts'\n",
       "    obsp: 'connectivities', 'distances'"
      ]
     },
     "execution_count": 4,
     "metadata": {},
     "output_type": "execute_result"
    }
   ],
   "source": [
    "h5ad = os.path.join(\n",
    "    \"/home/olga/googledrive/TabulaMicrocebus/data/cross-species/unified_annotations/\",\n",
    "    \"tabula-sapiens_P1P2_10X_SS2_Muscle_updated-annotations.h5ad\",\n",
    ")\n",
    "\n",
    "sapiens = sc.read(h5ad, cache=True)\n",
    "sapiens"
   ]
  },
  {
   "cell_type": "code",
   "execution_count": 5,
   "metadata": {},
   "outputs": [
    {
     "data": {
      "text/plain": [
       "<20197x58833 sparse matrix of type '<class 'numpy.float32'>'\n",
       "\twith 49789479 stored elements in Compressed Sparse Row format>"
      ]
     },
     "execution_count": 5,
     "metadata": {},
     "output_type": "execute_result"
    }
   ],
   "source": [
    "sapiens.layers['raw_counts']"
   ]
  },
  {
   "cell_type": "code",
   "execution_count": 6,
   "metadata": {},
   "outputs": [
    {
     "data": {
      "text/html": [
       "<div>\n",
       "<style scoped>\n",
       "    .dataframe tbody tr th:only-of-type {\n",
       "        vertical-align: middle;\n",
       "    }\n",
       "\n",
       "    .dataframe tbody tr th {\n",
       "        vertical-align: top;\n",
       "    }\n",
       "\n",
       "    .dataframe thead th {\n",
       "        text-align: right;\n",
       "    }\n",
       "</style>\n",
       "<table border=\"1\" class=\"dataframe\">\n",
       "  <thead>\n",
       "    <tr style=\"text-align: right;\">\n",
       "      <th></th>\n",
       "      <th>DDX11L1</th>\n",
       "      <th>WASH7P</th>\n",
       "      <th>MIR6859-1</th>\n",
       "      <th>MIR1302-2HG</th>\n",
       "      <th>MIR1302-2</th>\n",
       "      <th>FAM138A</th>\n",
       "      <th>OR4G4P</th>\n",
       "      <th>OR4G11P</th>\n",
       "      <th>OR4F5</th>\n",
       "      <th>AL627309.1</th>\n",
       "      <th>...</th>\n",
       "      <th>AMD1P2-1</th>\n",
       "      <th>DPH3P2-1</th>\n",
       "      <th>VAMP7-1</th>\n",
       "      <th>ELOCP24-1</th>\n",
       "      <th>TRPC6P-1</th>\n",
       "      <th>IL9R-1</th>\n",
       "      <th>AJ271736.1-1</th>\n",
       "      <th>WASIR1-1</th>\n",
       "      <th>WASH6P-1</th>\n",
       "      <th>DDX11L16-1</th>\n",
       "    </tr>\n",
       "  </thead>\n",
       "  <tbody>\n",
       "    <tr>\n",
       "      <th>CTTCTAAAGTGACACG_TSP2_Muscle_rectusabdominus_10X_1_1</th>\n",
       "      <td>0.0</td>\n",
       "      <td>0.0</td>\n",
       "      <td>0.0</td>\n",
       "      <td>0.0</td>\n",
       "      <td>0.0</td>\n",
       "      <td>0.0</td>\n",
       "      <td>0.0</td>\n",
       "      <td>0.0</td>\n",
       "      <td>0.0</td>\n",
       "      <td>0.0</td>\n",
       "      <td>...</td>\n",
       "      <td>0.0</td>\n",
       "      <td>0.0</td>\n",
       "      <td>0.0</td>\n",
       "      <td>0.0</td>\n",
       "      <td>0.0</td>\n",
       "      <td>0.0</td>\n",
       "      <td>0.0</td>\n",
       "      <td>0.0</td>\n",
       "      <td>0.0</td>\n",
       "      <td>0.0</td>\n",
       "    </tr>\n",
       "    <tr>\n",
       "      <th>TSP2_Muscle_rectusabdominus_SS2_B113693_B111573_Stromal_E18_S114</th>\n",
       "      <td>0.0</td>\n",
       "      <td>0.0</td>\n",
       "      <td>0.0</td>\n",
       "      <td>0.0</td>\n",
       "      <td>0.0</td>\n",
       "      <td>0.0</td>\n",
       "      <td>0.0</td>\n",
       "      <td>0.0</td>\n",
       "      <td>0.0</td>\n",
       "      <td>0.0</td>\n",
       "      <td>...</td>\n",
       "      <td>0.0</td>\n",
       "      <td>0.0</td>\n",
       "      <td>0.0</td>\n",
       "      <td>0.0</td>\n",
       "      <td>0.0</td>\n",
       "      <td>0.0</td>\n",
       "      <td>0.0</td>\n",
       "      <td>0.0</td>\n",
       "      <td>0.0</td>\n",
       "      <td>0.0</td>\n",
       "    </tr>\n",
       "    <tr>\n",
       "      <th>ACGCACGTCTAGAGCT_TSP1_muscle_3</th>\n",
       "      <td>0.0</td>\n",
       "      <td>0.0</td>\n",
       "      <td>0.0</td>\n",
       "      <td>0.0</td>\n",
       "      <td>0.0</td>\n",
       "      <td>0.0</td>\n",
       "      <td>0.0</td>\n",
       "      <td>0.0</td>\n",
       "      <td>0.0</td>\n",
       "      <td>0.0</td>\n",
       "      <td>...</td>\n",
       "      <td>0.0</td>\n",
       "      <td>0.0</td>\n",
       "      <td>0.0</td>\n",
       "      <td>0.0</td>\n",
       "      <td>0.0</td>\n",
       "      <td>0.0</td>\n",
       "      <td>0.0</td>\n",
       "      <td>0.0</td>\n",
       "      <td>0.0</td>\n",
       "      <td>0.0</td>\n",
       "    </tr>\n",
       "    <tr>\n",
       "      <th>GGCAGTCAGTCGTTAC_TSP2_Muscle_rectusabdominus_10X_1_1</th>\n",
       "      <td>0.0</td>\n",
       "      <td>0.0</td>\n",
       "      <td>0.0</td>\n",
       "      <td>0.0</td>\n",
       "      <td>0.0</td>\n",
       "      <td>0.0</td>\n",
       "      <td>0.0</td>\n",
       "      <td>0.0</td>\n",
       "      <td>0.0</td>\n",
       "      <td>0.0</td>\n",
       "      <td>...</td>\n",
       "      <td>0.0</td>\n",
       "      <td>0.0</td>\n",
       "      <td>0.0</td>\n",
       "      <td>0.0</td>\n",
       "      <td>0.0</td>\n",
       "      <td>0.0</td>\n",
       "      <td>0.0</td>\n",
       "      <td>0.0</td>\n",
       "      <td>0.0</td>\n",
       "      <td>0.0</td>\n",
       "    </tr>\n",
       "    <tr>\n",
       "      <th>TSP2_Muscle_rectusabdominus_SS2_B113693_B111573_Stromal_K5_S245</th>\n",
       "      <td>0.0</td>\n",
       "      <td>0.0</td>\n",
       "      <td>0.0</td>\n",
       "      <td>0.0</td>\n",
       "      <td>0.0</td>\n",
       "      <td>0.0</td>\n",
       "      <td>0.0</td>\n",
       "      <td>0.0</td>\n",
       "      <td>0.0</td>\n",
       "      <td>0.0</td>\n",
       "      <td>...</td>\n",
       "      <td>0.0</td>\n",
       "      <td>0.0</td>\n",
       "      <td>0.0</td>\n",
       "      <td>0.0</td>\n",
       "      <td>0.0</td>\n",
       "      <td>0.0</td>\n",
       "      <td>0.0</td>\n",
       "      <td>0.0</td>\n",
       "      <td>0.0</td>\n",
       "      <td>0.0</td>\n",
       "    </tr>\n",
       "    <tr>\n",
       "      <th>...</th>\n",
       "      <td>...</td>\n",
       "      <td>...</td>\n",
       "      <td>...</td>\n",
       "      <td>...</td>\n",
       "      <td>...</td>\n",
       "      <td>...</td>\n",
       "      <td>...</td>\n",
       "      <td>...</td>\n",
       "      <td>...</td>\n",
       "      <td>...</td>\n",
       "      <td>...</td>\n",
       "      <td>...</td>\n",
       "      <td>...</td>\n",
       "      <td>...</td>\n",
       "      <td>...</td>\n",
       "      <td>...</td>\n",
       "      <td>...</td>\n",
       "      <td>...</td>\n",
       "      <td>...</td>\n",
       "      <td>...</td>\n",
       "      <td>...</td>\n",
       "    </tr>\n",
       "    <tr>\n",
       "      <th>GTCACGGGTGACATCT_TSP2_Muscle_rectusabdominus_10X_1_2</th>\n",
       "      <td>0.0</td>\n",
       "      <td>0.0</td>\n",
       "      <td>0.0</td>\n",
       "      <td>0.0</td>\n",
       "      <td>0.0</td>\n",
       "      <td>0.0</td>\n",
       "      <td>0.0</td>\n",
       "      <td>0.0</td>\n",
       "      <td>0.0</td>\n",
       "      <td>0.0</td>\n",
       "      <td>...</td>\n",
       "      <td>0.0</td>\n",
       "      <td>0.0</td>\n",
       "      <td>0.0</td>\n",
       "      <td>0.0</td>\n",
       "      <td>0.0</td>\n",
       "      <td>0.0</td>\n",
       "      <td>0.0</td>\n",
       "      <td>0.0</td>\n",
       "      <td>0.0</td>\n",
       "      <td>0.0</td>\n",
       "    </tr>\n",
       "    <tr>\n",
       "      <th>AAACCCACACATAACC_TSP2_Muscle_rectusabdominus_10X_1_2</th>\n",
       "      <td>0.0</td>\n",
       "      <td>0.0</td>\n",
       "      <td>0.0</td>\n",
       "      <td>0.0</td>\n",
       "      <td>0.0</td>\n",
       "      <td>0.0</td>\n",
       "      <td>0.0</td>\n",
       "      <td>0.0</td>\n",
       "      <td>0.0</td>\n",
       "      <td>0.0</td>\n",
       "      <td>...</td>\n",
       "      <td>0.0</td>\n",
       "      <td>0.0</td>\n",
       "      <td>0.0</td>\n",
       "      <td>0.0</td>\n",
       "      <td>0.0</td>\n",
       "      <td>0.0</td>\n",
       "      <td>0.0</td>\n",
       "      <td>0.0</td>\n",
       "      <td>0.0</td>\n",
       "      <td>0.0</td>\n",
       "    </tr>\n",
       "    <tr>\n",
       "      <th>GTCATGACAACCGATT_TSP2_Muscle_rectusabdominus_10X_1_1</th>\n",
       "      <td>0.0</td>\n",
       "      <td>0.0</td>\n",
       "      <td>0.0</td>\n",
       "      <td>0.0</td>\n",
       "      <td>0.0</td>\n",
       "      <td>0.0</td>\n",
       "      <td>0.0</td>\n",
       "      <td>0.0</td>\n",
       "      <td>0.0</td>\n",
       "      <td>0.0</td>\n",
       "      <td>...</td>\n",
       "      <td>0.0</td>\n",
       "      <td>0.0</td>\n",
       "      <td>0.0</td>\n",
       "      <td>0.0</td>\n",
       "      <td>0.0</td>\n",
       "      <td>0.0</td>\n",
       "      <td>0.0</td>\n",
       "      <td>0.0</td>\n",
       "      <td>0.0</td>\n",
       "      <td>0.0</td>\n",
       "    </tr>\n",
       "    <tr>\n",
       "      <th>CATCAAGTCTGTGCTC_TSP2_Muscle_rectusabdominus_10X_1_1</th>\n",
       "      <td>0.0</td>\n",
       "      <td>0.0</td>\n",
       "      <td>0.0</td>\n",
       "      <td>0.0</td>\n",
       "      <td>0.0</td>\n",
       "      <td>0.0</td>\n",
       "      <td>0.0</td>\n",
       "      <td>0.0</td>\n",
       "      <td>0.0</td>\n",
       "      <td>0.0</td>\n",
       "      <td>...</td>\n",
       "      <td>0.0</td>\n",
       "      <td>0.0</td>\n",
       "      <td>0.0</td>\n",
       "      <td>0.0</td>\n",
       "      <td>0.0</td>\n",
       "      <td>0.0</td>\n",
       "      <td>0.0</td>\n",
       "      <td>0.0</td>\n",
       "      <td>0.0</td>\n",
       "      <td>0.0</td>\n",
       "    </tr>\n",
       "    <tr>\n",
       "      <th>TGTGGCGTCTCTAGGA_TSP2_Muscle_diaphragm_10X_1_2</th>\n",
       "      <td>0.0</td>\n",
       "      <td>0.0</td>\n",
       "      <td>0.0</td>\n",
       "      <td>0.0</td>\n",
       "      <td>0.0</td>\n",
       "      <td>0.0</td>\n",
       "      <td>0.0</td>\n",
       "      <td>0.0</td>\n",
       "      <td>0.0</td>\n",
       "      <td>0.0</td>\n",
       "      <td>...</td>\n",
       "      <td>0.0</td>\n",
       "      <td>0.0</td>\n",
       "      <td>0.0</td>\n",
       "      <td>0.0</td>\n",
       "      <td>0.0</td>\n",
       "      <td>0.0</td>\n",
       "      <td>0.0</td>\n",
       "      <td>0.0</td>\n",
       "      <td>0.0</td>\n",
       "      <td>0.0</td>\n",
       "    </tr>\n",
       "  </tbody>\n",
       "</table>\n",
       "<p>20197 rows × 58833 columns</p>\n",
       "</div>"
      ],
      "text/plain": [
       "                                                    DDX11L1  WASH7P  \\\n",
       "CTTCTAAAGTGACACG_TSP2_Muscle_rectusabdominus_10...      0.0     0.0   \n",
       "TSP2_Muscle_rectusabdominus_SS2_B113693_B111573...      0.0     0.0   \n",
       "ACGCACGTCTAGAGCT_TSP1_muscle_3                          0.0     0.0   \n",
       "GGCAGTCAGTCGTTAC_TSP2_Muscle_rectusabdominus_10...      0.0     0.0   \n",
       "TSP2_Muscle_rectusabdominus_SS2_B113693_B111573...      0.0     0.0   \n",
       "...                                                     ...     ...   \n",
       "GTCACGGGTGACATCT_TSP2_Muscle_rectusabdominus_10...      0.0     0.0   \n",
       "AAACCCACACATAACC_TSP2_Muscle_rectusabdominus_10...      0.0     0.0   \n",
       "GTCATGACAACCGATT_TSP2_Muscle_rectusabdominus_10...      0.0     0.0   \n",
       "CATCAAGTCTGTGCTC_TSP2_Muscle_rectusabdominus_10...      0.0     0.0   \n",
       "TGTGGCGTCTCTAGGA_TSP2_Muscle_diaphragm_10X_1_2          0.0     0.0   \n",
       "\n",
       "                                                    MIR6859-1  MIR1302-2HG  \\\n",
       "CTTCTAAAGTGACACG_TSP2_Muscle_rectusabdominus_10...        0.0          0.0   \n",
       "TSP2_Muscle_rectusabdominus_SS2_B113693_B111573...        0.0          0.0   \n",
       "ACGCACGTCTAGAGCT_TSP1_muscle_3                            0.0          0.0   \n",
       "GGCAGTCAGTCGTTAC_TSP2_Muscle_rectusabdominus_10...        0.0          0.0   \n",
       "TSP2_Muscle_rectusabdominus_SS2_B113693_B111573...        0.0          0.0   \n",
       "...                                                       ...          ...   \n",
       "GTCACGGGTGACATCT_TSP2_Muscle_rectusabdominus_10...        0.0          0.0   \n",
       "AAACCCACACATAACC_TSP2_Muscle_rectusabdominus_10...        0.0          0.0   \n",
       "GTCATGACAACCGATT_TSP2_Muscle_rectusabdominus_10...        0.0          0.0   \n",
       "CATCAAGTCTGTGCTC_TSP2_Muscle_rectusabdominus_10...        0.0          0.0   \n",
       "TGTGGCGTCTCTAGGA_TSP2_Muscle_diaphragm_10X_1_2            0.0          0.0   \n",
       "\n",
       "                                                    MIR1302-2  FAM138A  \\\n",
       "CTTCTAAAGTGACACG_TSP2_Muscle_rectusabdominus_10...        0.0      0.0   \n",
       "TSP2_Muscle_rectusabdominus_SS2_B113693_B111573...        0.0      0.0   \n",
       "ACGCACGTCTAGAGCT_TSP1_muscle_3                            0.0      0.0   \n",
       "GGCAGTCAGTCGTTAC_TSP2_Muscle_rectusabdominus_10...        0.0      0.0   \n",
       "TSP2_Muscle_rectusabdominus_SS2_B113693_B111573...        0.0      0.0   \n",
       "...                                                       ...      ...   \n",
       "GTCACGGGTGACATCT_TSP2_Muscle_rectusabdominus_10...        0.0      0.0   \n",
       "AAACCCACACATAACC_TSP2_Muscle_rectusabdominus_10...        0.0      0.0   \n",
       "GTCATGACAACCGATT_TSP2_Muscle_rectusabdominus_10...        0.0      0.0   \n",
       "CATCAAGTCTGTGCTC_TSP2_Muscle_rectusabdominus_10...        0.0      0.0   \n",
       "TGTGGCGTCTCTAGGA_TSP2_Muscle_diaphragm_10X_1_2            0.0      0.0   \n",
       "\n",
       "                                                    OR4G4P  OR4G11P  OR4F5  \\\n",
       "CTTCTAAAGTGACACG_TSP2_Muscle_rectusabdominus_10...     0.0      0.0    0.0   \n",
       "TSP2_Muscle_rectusabdominus_SS2_B113693_B111573...     0.0      0.0    0.0   \n",
       "ACGCACGTCTAGAGCT_TSP1_muscle_3                         0.0      0.0    0.0   \n",
       "GGCAGTCAGTCGTTAC_TSP2_Muscle_rectusabdominus_10...     0.0      0.0    0.0   \n",
       "TSP2_Muscle_rectusabdominus_SS2_B113693_B111573...     0.0      0.0    0.0   \n",
       "...                                                    ...      ...    ...   \n",
       "GTCACGGGTGACATCT_TSP2_Muscle_rectusabdominus_10...     0.0      0.0    0.0   \n",
       "AAACCCACACATAACC_TSP2_Muscle_rectusabdominus_10...     0.0      0.0    0.0   \n",
       "GTCATGACAACCGATT_TSP2_Muscle_rectusabdominus_10...     0.0      0.0    0.0   \n",
       "CATCAAGTCTGTGCTC_TSP2_Muscle_rectusabdominus_10...     0.0      0.0    0.0   \n",
       "TGTGGCGTCTCTAGGA_TSP2_Muscle_diaphragm_10X_1_2         0.0      0.0    0.0   \n",
       "\n",
       "                                                    AL627309.1  ...  AMD1P2-1  \\\n",
       "CTTCTAAAGTGACACG_TSP2_Muscle_rectusabdominus_10...         0.0  ...       0.0   \n",
       "TSP2_Muscle_rectusabdominus_SS2_B113693_B111573...         0.0  ...       0.0   \n",
       "ACGCACGTCTAGAGCT_TSP1_muscle_3                             0.0  ...       0.0   \n",
       "GGCAGTCAGTCGTTAC_TSP2_Muscle_rectusabdominus_10...         0.0  ...       0.0   \n",
       "TSP2_Muscle_rectusabdominus_SS2_B113693_B111573...         0.0  ...       0.0   \n",
       "...                                                        ...  ...       ...   \n",
       "GTCACGGGTGACATCT_TSP2_Muscle_rectusabdominus_10...         0.0  ...       0.0   \n",
       "AAACCCACACATAACC_TSP2_Muscle_rectusabdominus_10...         0.0  ...       0.0   \n",
       "GTCATGACAACCGATT_TSP2_Muscle_rectusabdominus_10...         0.0  ...       0.0   \n",
       "CATCAAGTCTGTGCTC_TSP2_Muscle_rectusabdominus_10...         0.0  ...       0.0   \n",
       "TGTGGCGTCTCTAGGA_TSP2_Muscle_diaphragm_10X_1_2             0.0  ...       0.0   \n",
       "\n",
       "                                                    DPH3P2-1  VAMP7-1  \\\n",
       "CTTCTAAAGTGACACG_TSP2_Muscle_rectusabdominus_10...       0.0      0.0   \n",
       "TSP2_Muscle_rectusabdominus_SS2_B113693_B111573...       0.0      0.0   \n",
       "ACGCACGTCTAGAGCT_TSP1_muscle_3                           0.0      0.0   \n",
       "GGCAGTCAGTCGTTAC_TSP2_Muscle_rectusabdominus_10...       0.0      0.0   \n",
       "TSP2_Muscle_rectusabdominus_SS2_B113693_B111573...       0.0      0.0   \n",
       "...                                                      ...      ...   \n",
       "GTCACGGGTGACATCT_TSP2_Muscle_rectusabdominus_10...       0.0      0.0   \n",
       "AAACCCACACATAACC_TSP2_Muscle_rectusabdominus_10...       0.0      0.0   \n",
       "GTCATGACAACCGATT_TSP2_Muscle_rectusabdominus_10...       0.0      0.0   \n",
       "CATCAAGTCTGTGCTC_TSP2_Muscle_rectusabdominus_10...       0.0      0.0   \n",
       "TGTGGCGTCTCTAGGA_TSP2_Muscle_diaphragm_10X_1_2           0.0      0.0   \n",
       "\n",
       "                                                    ELOCP24-1  TRPC6P-1  \\\n",
       "CTTCTAAAGTGACACG_TSP2_Muscle_rectusabdominus_10...        0.0       0.0   \n",
       "TSP2_Muscle_rectusabdominus_SS2_B113693_B111573...        0.0       0.0   \n",
       "ACGCACGTCTAGAGCT_TSP1_muscle_3                            0.0       0.0   \n",
       "GGCAGTCAGTCGTTAC_TSP2_Muscle_rectusabdominus_10...        0.0       0.0   \n",
       "TSP2_Muscle_rectusabdominus_SS2_B113693_B111573...        0.0       0.0   \n",
       "...                                                       ...       ...   \n",
       "GTCACGGGTGACATCT_TSP2_Muscle_rectusabdominus_10...        0.0       0.0   \n",
       "AAACCCACACATAACC_TSP2_Muscle_rectusabdominus_10...        0.0       0.0   \n",
       "GTCATGACAACCGATT_TSP2_Muscle_rectusabdominus_10...        0.0       0.0   \n",
       "CATCAAGTCTGTGCTC_TSP2_Muscle_rectusabdominus_10...        0.0       0.0   \n",
       "TGTGGCGTCTCTAGGA_TSP2_Muscle_diaphragm_10X_1_2            0.0       0.0   \n",
       "\n",
       "                                                    IL9R-1  AJ271736.1-1  \\\n",
       "CTTCTAAAGTGACACG_TSP2_Muscle_rectusabdominus_10...     0.0           0.0   \n",
       "TSP2_Muscle_rectusabdominus_SS2_B113693_B111573...     0.0           0.0   \n",
       "ACGCACGTCTAGAGCT_TSP1_muscle_3                         0.0           0.0   \n",
       "GGCAGTCAGTCGTTAC_TSP2_Muscle_rectusabdominus_10...     0.0           0.0   \n",
       "TSP2_Muscle_rectusabdominus_SS2_B113693_B111573...     0.0           0.0   \n",
       "...                                                    ...           ...   \n",
       "GTCACGGGTGACATCT_TSP2_Muscle_rectusabdominus_10...     0.0           0.0   \n",
       "AAACCCACACATAACC_TSP2_Muscle_rectusabdominus_10...     0.0           0.0   \n",
       "GTCATGACAACCGATT_TSP2_Muscle_rectusabdominus_10...     0.0           0.0   \n",
       "CATCAAGTCTGTGCTC_TSP2_Muscle_rectusabdominus_10...     0.0           0.0   \n",
       "TGTGGCGTCTCTAGGA_TSP2_Muscle_diaphragm_10X_1_2         0.0           0.0   \n",
       "\n",
       "                                                    WASIR1-1  WASH6P-1  \\\n",
       "CTTCTAAAGTGACACG_TSP2_Muscle_rectusabdominus_10...       0.0       0.0   \n",
       "TSP2_Muscle_rectusabdominus_SS2_B113693_B111573...       0.0       0.0   \n",
       "ACGCACGTCTAGAGCT_TSP1_muscle_3                           0.0       0.0   \n",
       "GGCAGTCAGTCGTTAC_TSP2_Muscle_rectusabdominus_10...       0.0       0.0   \n",
       "TSP2_Muscle_rectusabdominus_SS2_B113693_B111573...       0.0       0.0   \n",
       "...                                                      ...       ...   \n",
       "GTCACGGGTGACATCT_TSP2_Muscle_rectusabdominus_10...       0.0       0.0   \n",
       "AAACCCACACATAACC_TSP2_Muscle_rectusabdominus_10...       0.0       0.0   \n",
       "GTCATGACAACCGATT_TSP2_Muscle_rectusabdominus_10...       0.0       0.0   \n",
       "CATCAAGTCTGTGCTC_TSP2_Muscle_rectusabdominus_10...       0.0       0.0   \n",
       "TGTGGCGTCTCTAGGA_TSP2_Muscle_diaphragm_10X_1_2           0.0       0.0   \n",
       "\n",
       "                                                    DDX11L16-1  \n",
       "CTTCTAAAGTGACACG_TSP2_Muscle_rectusabdominus_10...         0.0  \n",
       "TSP2_Muscle_rectusabdominus_SS2_B113693_B111573...         0.0  \n",
       "ACGCACGTCTAGAGCT_TSP1_muscle_3                             0.0  \n",
       "GGCAGTCAGTCGTTAC_TSP2_Muscle_rectusabdominus_10...         0.0  \n",
       "TSP2_Muscle_rectusabdominus_SS2_B113693_B111573...         0.0  \n",
       "...                                                        ...  \n",
       "GTCACGGGTGACATCT_TSP2_Muscle_rectusabdominus_10...         0.0  \n",
       "AAACCCACACATAACC_TSP2_Muscle_rectusabdominus_10...         0.0  \n",
       "GTCATGACAACCGATT_TSP2_Muscle_rectusabdominus_10...         0.0  \n",
       "CATCAAGTCTGTGCTC_TSP2_Muscle_rectusabdominus_10...         0.0  \n",
       "TGTGGCGTCTCTAGGA_TSP2_Muscle_diaphragm_10X_1_2             0.0  \n",
       "\n",
       "[20197 rows x 58833 columns]"
      ]
     },
     "execution_count": 6,
     "metadata": {},
     "output_type": "execute_result"
    }
   ],
   "source": [
    "sapiens.to_df(layer='raw_counts')"
   ]
  },
  {
   "cell_type": "markdown",
   "metadata": {},
   "source": [
    "## Subset to 10x"
   ]
  },
  {
   "cell_type": "code",
   "execution_count": 7,
   "metadata": {},
   "outputs": [
    {
     "data": {
      "text/plain": [
       "['10X', 'smartseq2']\n",
       "Categories (2, object): ['10X', 'smartseq2']"
      ]
     },
     "execution_count": 7,
     "metadata": {},
     "output_type": "execute_result"
    }
   ],
   "source": [
    "sapiens.obs.Method.unique()"
   ]
  },
  {
   "cell_type": "code",
   "execution_count": 8,
   "metadata": {},
   "outputs": [
    {
     "data": {
      "text/plain": [
       "View of AnnData object with n_obs × n_vars = 17379 × 58833\n",
       "    obs: 'Annotation', 'Predictability', 'Manually Annotated', 'Donor', 'Method', 'Organ', 'Compartment', 'Anatomical Information', 'TS_muscle_CE_compartment', 'TS_muscle_CE_anatomical_information', 'TS_muscle_CE_free_annotation'\n",
       "    var: 'gene_symbol', 'ensembl_id', 'gene_length'\n",
       "    uns: 'Annotation_colors', 'Compartment_colors', 'Donor_colors', 'Manually Annotated_colors', 'Method_colors', 'Organ_colors', 'Propagated.Annotationcollapsed_colors', 'TS_muscle_CE_compartment_colors', 'TS_muscle_CE_free_annotation_colors', '_scvi', 'donor_colors', 'leiden', 'method_colors', 'neighbors', 'tissue_colors', 'umap'\n",
       "    obsm: 'X_umap'\n",
       "    layers: 'counts', 'raw_counts'\n",
       "    obsp: 'connectivities', 'distances'"
      ]
     },
     "execution_count": 8,
     "metadata": {},
     "output_type": "execute_result"
    }
   ],
   "source": [
    "sapiens_10x = sapiens[sapiens.obs.Method == \"10X\"]\n",
    "sapiens_10x"
   ]
  },
  {
   "cell_type": "code",
   "execution_count": 9,
   "metadata": {},
   "outputs": [
    {
     "data": {
      "text/plain": [
       "rectusabdominus    13215\n",
       "diaphragm           4164\n",
       "Name: TS_muscle_CE_anatomical_information, dtype: int64"
      ]
     },
     "execution_count": 9,
     "metadata": {},
     "output_type": "execute_result"
    }
   ],
   "source": [
    "sapiens_10x.obs.TS_muscle_CE_anatomical_information.value_counts()"
   ]
  },
  {
   "cell_type": "code",
   "execution_count": 10,
   "metadata": {},
   "outputs": [
    {
     "data": {
      "text/html": [
       "<div>\n",
       "<style scoped>\n",
       "    .dataframe tbody tr th:only-of-type {\n",
       "        vertical-align: middle;\n",
       "    }\n",
       "\n",
       "    .dataframe tbody tr th {\n",
       "        vertical-align: top;\n",
       "    }\n",
       "\n",
       "    .dataframe thead th {\n",
       "        text-align: right;\n",
       "    }\n",
       "</style>\n",
       "<table border=\"1\" class=\"dataframe\">\n",
       "  <thead>\n",
       "    <tr style=\"text-align: right;\">\n",
       "      <th></th>\n",
       "      <th>TTN</th>\n",
       "      <th>MYL3</th>\n",
       "      <th>MYL6</th>\n",
       "    </tr>\n",
       "  </thead>\n",
       "  <tbody>\n",
       "    <tr>\n",
       "      <th>CTTCTAAAGTGACACG_TSP2_Muscle_rectusabdominus_10X_1_1</th>\n",
       "      <td>0.0</td>\n",
       "      <td>0.0</td>\n",
       "      <td>13.0</td>\n",
       "    </tr>\n",
       "    <tr>\n",
       "      <th>ACGCACGTCTAGAGCT_TSP1_muscle_3</th>\n",
       "      <td>2.0</td>\n",
       "      <td>0.0</td>\n",
       "      <td>1.0</td>\n",
       "    </tr>\n",
       "    <tr>\n",
       "      <th>GGCAGTCAGTCGTTAC_TSP2_Muscle_rectusabdominus_10X_1_1</th>\n",
       "      <td>0.0</td>\n",
       "      <td>0.0</td>\n",
       "      <td>11.0</td>\n",
       "    </tr>\n",
       "    <tr>\n",
       "      <th>TCAGTGAGTCGGAAAC_TSP1_muscle_2</th>\n",
       "      <td>0.0</td>\n",
       "      <td>0.0</td>\n",
       "      <td>0.0</td>\n",
       "    </tr>\n",
       "    <tr>\n",
       "      <th>TCAGTCCAGTTGTACC_TSP2_Muscle_diaphragm_10X_1_2</th>\n",
       "      <td>0.0</td>\n",
       "      <td>0.0</td>\n",
       "      <td>7.0</td>\n",
       "    </tr>\n",
       "    <tr>\n",
       "      <th>AACCAACAGACTCTAC_TSP1_muscle_1</th>\n",
       "      <td>0.0</td>\n",
       "      <td>0.0</td>\n",
       "      <td>4.0</td>\n",
       "    </tr>\n",
       "    <tr>\n",
       "      <th>CCTCCTCCATTCCTCG_TSP2_Muscle_rectusabdominus_10X_1_1</th>\n",
       "      <td>0.0</td>\n",
       "      <td>0.0</td>\n",
       "      <td>4.0</td>\n",
       "    </tr>\n",
       "    <tr>\n",
       "      <th>CGATGCGTCTTCTGTA_TSP2_Muscle_diaphragm_10X_1_1</th>\n",
       "      <td>0.0</td>\n",
       "      <td>0.0</td>\n",
       "      <td>1.0</td>\n",
       "    </tr>\n",
       "    <tr>\n",
       "      <th>TATCCTACAGCTCGGT_TSP2_Muscle_rectusabdominus_10X_1_2</th>\n",
       "      <td>1.0</td>\n",
       "      <td>0.0</td>\n",
       "      <td>6.0</td>\n",
       "    </tr>\n",
       "    <tr>\n",
       "      <th>CTGTAGACAGCCGTTG_TSP2_Muscle_diaphragm_10X_1_2</th>\n",
       "      <td>0.0</td>\n",
       "      <td>0.0</td>\n",
       "      <td>6.0</td>\n",
       "    </tr>\n",
       "  </tbody>\n",
       "</table>\n",
       "</div>"
      ],
      "text/plain": [
       "                                                    TTN  MYL3  MYL6\n",
       "CTTCTAAAGTGACACG_TSP2_Muscle_rectusabdominus_10...  0.0   0.0  13.0\n",
       "ACGCACGTCTAGAGCT_TSP1_muscle_3                      2.0   0.0   1.0\n",
       "GGCAGTCAGTCGTTAC_TSP2_Muscle_rectusabdominus_10...  0.0   0.0  11.0\n",
       "TCAGTGAGTCGGAAAC_TSP1_muscle_2                      0.0   0.0   0.0\n",
       "TCAGTCCAGTTGTACC_TSP2_Muscle_diaphragm_10X_1_2      0.0   0.0   7.0\n",
       "AACCAACAGACTCTAC_TSP1_muscle_1                      0.0   0.0   4.0\n",
       "CCTCCTCCATTCCTCG_TSP2_Muscle_rectusabdominus_10...  0.0   0.0   4.0\n",
       "CGATGCGTCTTCTGTA_TSP2_Muscle_diaphragm_10X_1_1      0.0   0.0   1.0\n",
       "TATCCTACAGCTCGGT_TSP2_Muscle_rectusabdominus_10...  1.0   0.0   6.0\n",
       "CTGTAGACAGCCGTTG_TSP2_Muscle_diaphragm_10X_1_2      0.0   0.0   6.0"
      ]
     },
     "execution_count": 10,
     "metadata": {},
     "output_type": "execute_result"
    }
   ],
   "source": [
    "sapiens_10x[:10, ['TTN', 'MYL3', 'MYL6']].to_df(layer='raw_counts')"
   ]
  },
  {
   "cell_type": "markdown",
   "metadata": {},
   "source": [
    "## Assign raw counts to `X`"
   ]
  },
  {
   "cell_type": "code",
   "execution_count": 11,
   "metadata": {},
   "outputs": [],
   "source": [
    "sapiens_10x.X = sapiens_10x.layers['raw_counts']\n",
    "del sapiens_10x.layers['counts']"
   ]
  },
  {
   "cell_type": "code",
   "execution_count": 12,
   "metadata": {},
   "outputs": [
    {
     "data": {
      "text/plain": [
       "AnnData object with n_obs × n_vars = 17379 × 58833\n",
       "    obs: 'Annotation', 'Predictability', 'Manually Annotated', 'Donor', 'Method', 'Organ', 'Compartment', 'Anatomical Information', 'TS_muscle_CE_compartment', 'TS_muscle_CE_anatomical_information', 'TS_muscle_CE_free_annotation'\n",
       "    var: 'gene_symbol', 'ensembl_id', 'gene_length'\n",
       "    uns: 'Annotation_colors', 'Compartment_colors', 'Donor_colors', 'Manually Annotated_colors', 'Method_colors', 'Organ_colors', 'Propagated.Annotationcollapsed_colors', 'TS_muscle_CE_compartment_colors', 'TS_muscle_CE_free_annotation_colors', '_scvi', 'donor_colors', 'leiden', 'method_colors', 'neighbors', 'tissue_colors', 'umap'\n",
       "    obsm: 'X_umap'\n",
       "    layers: 'raw_counts'\n",
       "    obsp: 'connectivities', 'distances'"
      ]
     },
     "execution_count": 12,
     "metadata": {},
     "output_type": "execute_result"
    }
   ],
   "source": [
    "sapiens_10x"
   ]
  },
  {
   "cell_type": "markdown",
   "metadata": {},
   "source": [
    "### Double check that data is raw"
   ]
  },
  {
   "cell_type": "code",
   "execution_count": 13,
   "metadata": {},
   "outputs": [
    {
     "data": {
      "text/html": [
       "<div>\n",
       "<style scoped>\n",
       "    .dataframe tbody tr th:only-of-type {\n",
       "        vertical-align: middle;\n",
       "    }\n",
       "\n",
       "    .dataframe tbody tr th {\n",
       "        vertical-align: top;\n",
       "    }\n",
       "\n",
       "    .dataframe thead th {\n",
       "        text-align: right;\n",
       "    }\n",
       "</style>\n",
       "<table border=\"1\" class=\"dataframe\">\n",
       "  <thead>\n",
       "    <tr style=\"text-align: right;\">\n",
       "      <th></th>\n",
       "      <th>TTN</th>\n",
       "      <th>MYL3</th>\n",
       "      <th>MYL6</th>\n",
       "    </tr>\n",
       "  </thead>\n",
       "  <tbody>\n",
       "    <tr>\n",
       "      <th>CTTCTAAAGTGACACG_TSP2_Muscle_rectusabdominus_10X_1_1</th>\n",
       "      <td>0.0</td>\n",
       "      <td>0.0</td>\n",
       "      <td>13.0</td>\n",
       "    </tr>\n",
       "    <tr>\n",
       "      <th>ACGCACGTCTAGAGCT_TSP1_muscle_3</th>\n",
       "      <td>2.0</td>\n",
       "      <td>0.0</td>\n",
       "      <td>1.0</td>\n",
       "    </tr>\n",
       "    <tr>\n",
       "      <th>GGCAGTCAGTCGTTAC_TSP2_Muscle_rectusabdominus_10X_1_1</th>\n",
       "      <td>0.0</td>\n",
       "      <td>0.0</td>\n",
       "      <td>11.0</td>\n",
       "    </tr>\n",
       "    <tr>\n",
       "      <th>TCAGTGAGTCGGAAAC_TSP1_muscle_2</th>\n",
       "      <td>0.0</td>\n",
       "      <td>0.0</td>\n",
       "      <td>0.0</td>\n",
       "    </tr>\n",
       "    <tr>\n",
       "      <th>TCAGTCCAGTTGTACC_TSP2_Muscle_diaphragm_10X_1_2</th>\n",
       "      <td>0.0</td>\n",
       "      <td>0.0</td>\n",
       "      <td>7.0</td>\n",
       "    </tr>\n",
       "    <tr>\n",
       "      <th>AACCAACAGACTCTAC_TSP1_muscle_1</th>\n",
       "      <td>0.0</td>\n",
       "      <td>0.0</td>\n",
       "      <td>4.0</td>\n",
       "    </tr>\n",
       "    <tr>\n",
       "      <th>CCTCCTCCATTCCTCG_TSP2_Muscle_rectusabdominus_10X_1_1</th>\n",
       "      <td>0.0</td>\n",
       "      <td>0.0</td>\n",
       "      <td>4.0</td>\n",
       "    </tr>\n",
       "    <tr>\n",
       "      <th>CGATGCGTCTTCTGTA_TSP2_Muscle_diaphragm_10X_1_1</th>\n",
       "      <td>0.0</td>\n",
       "      <td>0.0</td>\n",
       "      <td>1.0</td>\n",
       "    </tr>\n",
       "    <tr>\n",
       "      <th>TATCCTACAGCTCGGT_TSP2_Muscle_rectusabdominus_10X_1_2</th>\n",
       "      <td>1.0</td>\n",
       "      <td>0.0</td>\n",
       "      <td>6.0</td>\n",
       "    </tr>\n",
       "    <tr>\n",
       "      <th>CTGTAGACAGCCGTTG_TSP2_Muscle_diaphragm_10X_1_2</th>\n",
       "      <td>0.0</td>\n",
       "      <td>0.0</td>\n",
       "      <td>6.0</td>\n",
       "    </tr>\n",
       "  </tbody>\n",
       "</table>\n",
       "</div>"
      ],
      "text/plain": [
       "                                                    TTN  MYL3  MYL6\n",
       "CTTCTAAAGTGACACG_TSP2_Muscle_rectusabdominus_10...  0.0   0.0  13.0\n",
       "ACGCACGTCTAGAGCT_TSP1_muscle_3                      2.0   0.0   1.0\n",
       "GGCAGTCAGTCGTTAC_TSP2_Muscle_rectusabdominus_10...  0.0   0.0  11.0\n",
       "TCAGTGAGTCGGAAAC_TSP1_muscle_2                      0.0   0.0   0.0\n",
       "TCAGTCCAGTTGTACC_TSP2_Muscle_diaphragm_10X_1_2      0.0   0.0   7.0\n",
       "AACCAACAGACTCTAC_TSP1_muscle_1                      0.0   0.0   4.0\n",
       "CCTCCTCCATTCCTCG_TSP2_Muscle_rectusabdominus_10...  0.0   0.0   4.0\n",
       "CGATGCGTCTTCTGTA_TSP2_Muscle_diaphragm_10X_1_1      0.0   0.0   1.0\n",
       "TATCCTACAGCTCGGT_TSP2_Muscle_rectusabdominus_10...  1.0   0.0   6.0\n",
       "CTGTAGACAGCCGTTG_TSP2_Muscle_diaphragm_10X_1_2      0.0   0.0   6.0"
      ]
     },
     "execution_count": 13,
     "metadata": {},
     "output_type": "execute_result"
    }
   ],
   "source": [
    "sapiens_10x[:10, ['TTN', 'MYL3', 'MYL6']].to_df()"
   ]
  },
  {
   "cell_type": "markdown",
   "metadata": {},
   "source": [
    "## Remove diaphragm from pilot 2"
   ]
  },
  {
   "cell_type": "code",
   "execution_count": 14,
   "metadata": {},
   "outputs": [
    {
     "name": "stdout",
     "output_type": "stream",
     "text": [
      "4164\n"
     ]
    },
    {
     "data": {
      "text/plain": [
       "View of AnnData object with n_obs × n_vars = 13215 × 58833\n",
       "    obs: 'Annotation', 'Predictability', 'Manually Annotated', 'Donor', 'Method', 'Organ', 'Compartment', 'Anatomical Information', 'TS_muscle_CE_compartment', 'TS_muscle_CE_anatomical_information', 'TS_muscle_CE_free_annotation'\n",
       "    var: 'gene_symbol', 'ensembl_id', 'gene_length'\n",
       "    uns: 'Annotation_colors', 'Compartment_colors', 'Donor_colors', 'Manually Annotated_colors', 'Method_colors', 'Organ_colors', 'Propagated.Annotationcollapsed_colors', 'TS_muscle_CE_compartment_colors', 'TS_muscle_CE_free_annotation_colors', '_scvi', 'donor_colors', 'leiden', 'method_colors', 'neighbors', 'tissue_colors', 'umap'\n",
       "    obsm: 'X_umap'\n",
       "    layers: 'raw_counts'\n",
       "    obsp: 'connectivities', 'distances'"
      ]
     },
     "execution_count": 14,
     "metadata": {},
     "output_type": "execute_result"
    }
   ],
   "source": [
    "diaphgram_pilot2 = (sapiens_10x.obs.TS_muscle_CE_anatomical_information == \"diaphragm\") & (sapiens_10x.obs.Donor == \"TSP2\")\n",
    "print(diaphgram_pilot2.sum())\n",
    "\n",
    "sapiens_10x_no_diaphragm_pilot2 = sapiens_10x[~diaphgram_pilot2]\n",
    "sapiens_10x_no_diaphragm_pilot2"
   ]
  },
  {
   "cell_type": "code",
   "execution_count": 15,
   "metadata": {},
   "outputs": [
    {
     "data": {
      "text/html": [
       "<div>\n",
       "<style scoped>\n",
       "    .dataframe tbody tr th:only-of-type {\n",
       "        vertical-align: middle;\n",
       "    }\n",
       "\n",
       "    .dataframe tbody tr th {\n",
       "        vertical-align: top;\n",
       "    }\n",
       "\n",
       "    .dataframe thead th {\n",
       "        text-align: right;\n",
       "    }\n",
       "</style>\n",
       "<table border=\"1\" class=\"dataframe\">\n",
       "  <thead>\n",
       "    <tr style=\"text-align: right;\">\n",
       "      <th></th>\n",
       "      <th>Annotation</th>\n",
       "      <th>Predictability</th>\n",
       "      <th>Manually Annotated</th>\n",
       "      <th>Donor</th>\n",
       "      <th>Method</th>\n",
       "      <th>Organ</th>\n",
       "      <th>Compartment</th>\n",
       "      <th>Anatomical Information</th>\n",
       "      <th>TS_muscle_CE_compartment</th>\n",
       "      <th>TS_muscle_CE_anatomical_information</th>\n",
       "      <th>TS_muscle_CE_free_annotation</th>\n",
       "    </tr>\n",
       "  </thead>\n",
       "  <tbody>\n",
       "    <tr>\n",
       "      <th>CTTCTAAAGTGACACG_TSP2_Muscle_rectusabdominus_10X_1_1</th>\n",
       "      <td>capillary endothelial cell</td>\n",
       "      <td>1.0</td>\n",
       "      <td>True</td>\n",
       "      <td>TSP2</td>\n",
       "      <td>10X</td>\n",
       "      <td>Muscle</td>\n",
       "      <td>Endothelial</td>\n",
       "      <td>rectusabdominus</td>\n",
       "      <td>endothelial</td>\n",
       "      <td>rectusabdominus</td>\n",
       "      <td>capillary cell</td>\n",
       "    </tr>\n",
       "    <tr>\n",
       "      <th>ACGCACGTCTAGAGCT_TSP1_muscle_3</th>\n",
       "      <td>skeletal muscle satellite stem cell</td>\n",
       "      <td>1.0</td>\n",
       "      <td>True</td>\n",
       "      <td>TSP1</td>\n",
       "      <td>10X</td>\n",
       "      <td>Muscle</td>\n",
       "      <td>Stromal</td>\n",
       "      <td>nan</td>\n",
       "      <td>stromal</td>\n",
       "      <td>rectusabdominus</td>\n",
       "      <td>skeletal muscle satellite stem cell</td>\n",
       "    </tr>\n",
       "    <tr>\n",
       "      <th>GGCAGTCAGTCGTTAC_TSP2_Muscle_rectusabdominus_10X_1_1</th>\n",
       "      <td>mesenchymal stem cell</td>\n",
       "      <td>1.0</td>\n",
       "      <td>True</td>\n",
       "      <td>TSP2</td>\n",
       "      <td>10X</td>\n",
       "      <td>Muscle</td>\n",
       "      <td>Stromal</td>\n",
       "      <td>rectusabdominus</td>\n",
       "      <td>stromal</td>\n",
       "      <td>rectusabdominus</td>\n",
       "      <td>fibroadipogenic progenitor cell</td>\n",
       "    </tr>\n",
       "    <tr>\n",
       "      <th>TCAGTGAGTCGGAAAC_TSP1_muscle_2</th>\n",
       "      <td>mesenchymal stem cell</td>\n",
       "      <td>1.0</td>\n",
       "      <td>True</td>\n",
       "      <td>TSP1</td>\n",
       "      <td>10X</td>\n",
       "      <td>Muscle</td>\n",
       "      <td>Stromal</td>\n",
       "      <td>nan</td>\n",
       "      <td>stromal</td>\n",
       "      <td>rectusabdominus</td>\n",
       "      <td>fibroadipogenic progenitor cell</td>\n",
       "    </tr>\n",
       "    <tr>\n",
       "      <th>AACCAACAGACTCTAC_TSP1_muscle_1</th>\n",
       "      <td>pericyte cell</td>\n",
       "      <td>1.0</td>\n",
       "      <td>True</td>\n",
       "      <td>TSP1</td>\n",
       "      <td>10X</td>\n",
       "      <td>Muscle</td>\n",
       "      <td>Stromal</td>\n",
       "      <td>nan</td>\n",
       "      <td>stromal</td>\n",
       "      <td>rectusabdominus</td>\n",
       "      <td>pericyte</td>\n",
       "    </tr>\n",
       "  </tbody>\n",
       "</table>\n",
       "</div>"
      ],
      "text/plain": [
       "                                                                             Annotation  \\\n",
       "CTTCTAAAGTGACACG_TSP2_Muscle_rectusabdominus_10...           capillary endothelial cell   \n",
       "ACGCACGTCTAGAGCT_TSP1_muscle_3                      skeletal muscle satellite stem cell   \n",
       "GGCAGTCAGTCGTTAC_TSP2_Muscle_rectusabdominus_10...                mesenchymal stem cell   \n",
       "TCAGTGAGTCGGAAAC_TSP1_muscle_2                                    mesenchymal stem cell   \n",
       "AACCAACAGACTCTAC_TSP1_muscle_1                                            pericyte cell   \n",
       "\n",
       "                                                    Predictability  \\\n",
       "CTTCTAAAGTGACACG_TSP2_Muscle_rectusabdominus_10...             1.0   \n",
       "ACGCACGTCTAGAGCT_TSP1_muscle_3                                 1.0   \n",
       "GGCAGTCAGTCGTTAC_TSP2_Muscle_rectusabdominus_10...             1.0   \n",
       "TCAGTGAGTCGGAAAC_TSP1_muscle_2                                 1.0   \n",
       "AACCAACAGACTCTAC_TSP1_muscle_1                                 1.0   \n",
       "\n",
       "                                                   Manually Annotated Donor  \\\n",
       "CTTCTAAAGTGACACG_TSP2_Muscle_rectusabdominus_10...               True  TSP2   \n",
       "ACGCACGTCTAGAGCT_TSP1_muscle_3                                   True  TSP1   \n",
       "GGCAGTCAGTCGTTAC_TSP2_Muscle_rectusabdominus_10...               True  TSP2   \n",
       "TCAGTGAGTCGGAAAC_TSP1_muscle_2                                   True  TSP1   \n",
       "AACCAACAGACTCTAC_TSP1_muscle_1                                   True  TSP1   \n",
       "\n",
       "                                                   Method   Organ  \\\n",
       "CTTCTAAAGTGACACG_TSP2_Muscle_rectusabdominus_10...    10X  Muscle   \n",
       "ACGCACGTCTAGAGCT_TSP1_muscle_3                        10X  Muscle   \n",
       "GGCAGTCAGTCGTTAC_TSP2_Muscle_rectusabdominus_10...    10X  Muscle   \n",
       "TCAGTGAGTCGGAAAC_TSP1_muscle_2                        10X  Muscle   \n",
       "AACCAACAGACTCTAC_TSP1_muscle_1                        10X  Muscle   \n",
       "\n",
       "                                                    Compartment  \\\n",
       "CTTCTAAAGTGACACG_TSP2_Muscle_rectusabdominus_10...  Endothelial   \n",
       "ACGCACGTCTAGAGCT_TSP1_muscle_3                          Stromal   \n",
       "GGCAGTCAGTCGTTAC_TSP2_Muscle_rectusabdominus_10...      Stromal   \n",
       "TCAGTGAGTCGGAAAC_TSP1_muscle_2                          Stromal   \n",
       "AACCAACAGACTCTAC_TSP1_muscle_1                          Stromal   \n",
       "\n",
       "                                                   Anatomical Information  \\\n",
       "CTTCTAAAGTGACACG_TSP2_Muscle_rectusabdominus_10...        rectusabdominus   \n",
       "ACGCACGTCTAGAGCT_TSP1_muscle_3                                        nan   \n",
       "GGCAGTCAGTCGTTAC_TSP2_Muscle_rectusabdominus_10...        rectusabdominus   \n",
       "TCAGTGAGTCGGAAAC_TSP1_muscle_2                                        nan   \n",
       "AACCAACAGACTCTAC_TSP1_muscle_1                                        nan   \n",
       "\n",
       "                                                   TS_muscle_CE_compartment  \\\n",
       "CTTCTAAAGTGACACG_TSP2_Muscle_rectusabdominus_10...              endothelial   \n",
       "ACGCACGTCTAGAGCT_TSP1_muscle_3                                      stromal   \n",
       "GGCAGTCAGTCGTTAC_TSP2_Muscle_rectusabdominus_10...                  stromal   \n",
       "TCAGTGAGTCGGAAAC_TSP1_muscle_2                                      stromal   \n",
       "AACCAACAGACTCTAC_TSP1_muscle_1                                      stromal   \n",
       "\n",
       "                                                   TS_muscle_CE_anatomical_information  \\\n",
       "CTTCTAAAGTGACACG_TSP2_Muscle_rectusabdominus_10...                     rectusabdominus   \n",
       "ACGCACGTCTAGAGCT_TSP1_muscle_3                                         rectusabdominus   \n",
       "GGCAGTCAGTCGTTAC_TSP2_Muscle_rectusabdominus_10...                     rectusabdominus   \n",
       "TCAGTGAGTCGGAAAC_TSP1_muscle_2                                         rectusabdominus   \n",
       "AACCAACAGACTCTAC_TSP1_muscle_1                                         rectusabdominus   \n",
       "\n",
       "                                                           TS_muscle_CE_free_annotation  \n",
       "CTTCTAAAGTGACACG_TSP2_Muscle_rectusabdominus_10...                       capillary cell  \n",
       "ACGCACGTCTAGAGCT_TSP1_muscle_3                      skeletal muscle satellite stem cell  \n",
       "GGCAGTCAGTCGTTAC_TSP2_Muscle_rectusabdominus_10...      fibroadipogenic progenitor cell  \n",
       "TCAGTGAGTCGGAAAC_TSP1_muscle_2                          fibroadipogenic progenitor cell  \n",
       "AACCAACAGACTCTAC_TSP1_muscle_1                                                 pericyte  "
      ]
     },
     "execution_count": 15,
     "metadata": {},
     "output_type": "execute_result"
    }
   ],
   "source": [
    "sapiens_10x_no_diaphragm_pilot2.obs.head()"
   ]
  },
  {
   "cell_type": "markdown",
   "metadata": {},
   "source": [
    "### Create unified \"individual\""
   ]
  },
  {
   "cell_type": "code",
   "execution_count": 16,
   "metadata": {},
   "outputs": [
    {
     "name": "stderr",
     "output_type": "stream",
     "text": [
      "Trying to set attribute `.obs` of view, copying.\n"
     ]
    },
    {
     "data": {
      "text/plain": [
       "human_tsp_2    10699\n",
       "human_tsp_1     2516\n",
       "Name: individual, dtype: int64"
      ]
     },
     "execution_count": 16,
     "metadata": {},
     "output_type": "execute_result"
    }
   ],
   "source": [
    "individual_mapper = {\"TSP1\": 'human_tsp_1', 'TSP2': \"human_tsp_2\"}\n",
    "\n",
    "sapiens_10x_no_diaphragm_pilot2.obs['individual'] = sapiens_10x_no_diaphragm_pilot2.obs.Donor.map(individual_mapper)\n",
    "sapiens_10x_no_diaphragm_pilot2.obs['individual'].value_counts()"
   ]
  },
  {
   "cell_type": "markdown",
   "metadata": {},
   "source": [
    "## Use minimal columns for `.obs` (cell metadata)"
   ]
  },
  {
   "cell_type": "markdown",
   "metadata": {},
   "source": [
    "### Subset to minimal obs columns"
   ]
  },
  {
   "cell_type": "code",
   "execution_count": 17,
   "metadata": {},
   "outputs": [
    {
     "name": "stderr",
     "output_type": "stream",
     "text": [
      "/home/olga/miniconda3/envs/tabula-microcebus-jan2021/lib/python3.7/site-packages/ipykernel_launcher.py:11: SettingWithCopyWarning: \n",
      "A value is trying to be set on a copy of a slice from a DataFrame.\n",
      "Try using .loc[row_indexer,col_indexer] = value instead\n",
      "\n",
      "See the caveats in the documentation: https://pandas.pydata.org/pandas-docs/stable/user_guide/indexing.html#returning-a-view-versus-a-copy\n",
      "  # This is added back by InteractiveShellApp.init_path()\n"
     ]
    },
    {
     "data": {
      "text/html": [
       "<div>\n",
       "<style scoped>\n",
       "    .dataframe tbody tr th:only-of-type {\n",
       "        vertical-align: middle;\n",
       "    }\n",
       "\n",
       "    .dataframe tbody tr th {\n",
       "        vertical-align: top;\n",
       "    }\n",
       "\n",
       "    .dataframe thead th {\n",
       "        text-align: right;\n",
       "    }\n",
       "</style>\n",
       "<table border=\"1\" class=\"dataframe\">\n",
       "  <thead>\n",
       "    <tr style=\"text-align: right;\">\n",
       "      <th></th>\n",
       "      <th>individual</th>\n",
       "      <th>Organ</th>\n",
       "      <th>Method</th>\n",
       "      <th>TS_muscle_CE_compartment</th>\n",
       "      <th>TS_muscle_CE_anatomical_information</th>\n",
       "      <th>TS_muscle_CE_free_annotation</th>\n",
       "      <th>age</th>\n",
       "    </tr>\n",
       "  </thead>\n",
       "  <tbody>\n",
       "    <tr>\n",
       "      <th>CTTCTAAAGTGACACG_TSP2_Muscle_rectusabdominus_10X_1_1</th>\n",
       "      <td>human_tsp_2</td>\n",
       "      <td>Muscle</td>\n",
       "      <td>10X</td>\n",
       "      <td>endothelial</td>\n",
       "      <td>rectusabdominus</td>\n",
       "      <td>capillary cell</td>\n",
       "      <td>50-59y</td>\n",
       "    </tr>\n",
       "    <tr>\n",
       "      <th>ACGCACGTCTAGAGCT_TSP1_muscle_3</th>\n",
       "      <td>human_tsp_1</td>\n",
       "      <td>Muscle</td>\n",
       "      <td>10X</td>\n",
       "      <td>stromal</td>\n",
       "      <td>rectusabdominus</td>\n",
       "      <td>skeletal muscle satellite stem cell</td>\n",
       "      <td>50-59y</td>\n",
       "    </tr>\n",
       "    <tr>\n",
       "      <th>GGCAGTCAGTCGTTAC_TSP2_Muscle_rectusabdominus_10X_1_1</th>\n",
       "      <td>human_tsp_2</td>\n",
       "      <td>Muscle</td>\n",
       "      <td>10X</td>\n",
       "      <td>stromal</td>\n",
       "      <td>rectusabdominus</td>\n",
       "      <td>fibroadipogenic progenitor cell</td>\n",
       "      <td>50-59y</td>\n",
       "    </tr>\n",
       "    <tr>\n",
       "      <th>TCAGTGAGTCGGAAAC_TSP1_muscle_2</th>\n",
       "      <td>human_tsp_1</td>\n",
       "      <td>Muscle</td>\n",
       "      <td>10X</td>\n",
       "      <td>stromal</td>\n",
       "      <td>rectusabdominus</td>\n",
       "      <td>fibroadipogenic progenitor cell</td>\n",
       "      <td>50-59y</td>\n",
       "    </tr>\n",
       "    <tr>\n",
       "      <th>AACCAACAGACTCTAC_TSP1_muscle_1</th>\n",
       "      <td>human_tsp_1</td>\n",
       "      <td>Muscle</td>\n",
       "      <td>10X</td>\n",
       "      <td>stromal</td>\n",
       "      <td>rectusabdominus</td>\n",
       "      <td>pericyte</td>\n",
       "      <td>50-59y</td>\n",
       "    </tr>\n",
       "  </tbody>\n",
       "</table>\n",
       "</div>"
      ],
      "text/plain": [
       "                                                     individual   Organ  \\\n",
       "CTTCTAAAGTGACACG_TSP2_Muscle_rectusabdominus_10...  human_tsp_2  Muscle   \n",
       "ACGCACGTCTAGAGCT_TSP1_muscle_3                      human_tsp_1  Muscle   \n",
       "GGCAGTCAGTCGTTAC_TSP2_Muscle_rectusabdominus_10...  human_tsp_2  Muscle   \n",
       "TCAGTGAGTCGGAAAC_TSP1_muscle_2                      human_tsp_1  Muscle   \n",
       "AACCAACAGACTCTAC_TSP1_muscle_1                      human_tsp_1  Muscle   \n",
       "\n",
       "                                                   Method  \\\n",
       "CTTCTAAAGTGACACG_TSP2_Muscle_rectusabdominus_10...    10X   \n",
       "ACGCACGTCTAGAGCT_TSP1_muscle_3                        10X   \n",
       "GGCAGTCAGTCGTTAC_TSP2_Muscle_rectusabdominus_10...    10X   \n",
       "TCAGTGAGTCGGAAAC_TSP1_muscle_2                        10X   \n",
       "AACCAACAGACTCTAC_TSP1_muscle_1                        10X   \n",
       "\n",
       "                                                   TS_muscle_CE_compartment  \\\n",
       "CTTCTAAAGTGACACG_TSP2_Muscle_rectusabdominus_10...              endothelial   \n",
       "ACGCACGTCTAGAGCT_TSP1_muscle_3                                      stromal   \n",
       "GGCAGTCAGTCGTTAC_TSP2_Muscle_rectusabdominus_10...                  stromal   \n",
       "TCAGTGAGTCGGAAAC_TSP1_muscle_2                                      stromal   \n",
       "AACCAACAGACTCTAC_TSP1_muscle_1                                      stromal   \n",
       "\n",
       "                                                   TS_muscle_CE_anatomical_information  \\\n",
       "CTTCTAAAGTGACACG_TSP2_Muscle_rectusabdominus_10...                     rectusabdominus   \n",
       "ACGCACGTCTAGAGCT_TSP1_muscle_3                                         rectusabdominus   \n",
       "GGCAGTCAGTCGTTAC_TSP2_Muscle_rectusabdominus_10...                     rectusabdominus   \n",
       "TCAGTGAGTCGGAAAC_TSP1_muscle_2                                         rectusabdominus   \n",
       "AACCAACAGACTCTAC_TSP1_muscle_1                                         rectusabdominus   \n",
       "\n",
       "                                                           TS_muscle_CE_free_annotation  \\\n",
       "CTTCTAAAGTGACACG_TSP2_Muscle_rectusabdominus_10...                       capillary cell   \n",
       "ACGCACGTCTAGAGCT_TSP1_muscle_3                      skeletal muscle satellite stem cell   \n",
       "GGCAGTCAGTCGTTAC_TSP2_Muscle_rectusabdominus_10...      fibroadipogenic progenitor cell   \n",
       "TCAGTGAGTCGGAAAC_TSP1_muscle_2                          fibroadipogenic progenitor cell   \n",
       "AACCAACAGACTCTAC_TSP1_muscle_1                                                 pericyte   \n",
       "\n",
       "                                                       age  \n",
       "CTTCTAAAGTGACACG_TSP2_Muscle_rectusabdominus_10...  50-59y  \n",
       "ACGCACGTCTAGAGCT_TSP1_muscle_3                      50-59y  \n",
       "GGCAGTCAGTCGTTAC_TSP2_Muscle_rectusabdominus_10...  50-59y  \n",
       "TCAGTGAGTCGGAAAC_TSP1_muscle_2                      50-59y  \n",
       "AACCAACAGACTCTAC_TSP1_muscle_1                      50-59y  "
      ]
     },
     "execution_count": 17,
     "metadata": {},
     "output_type": "execute_result"
    }
   ],
   "source": [
    "obs_cols = [\n",
    "    \"individual\",\n",
    "    \"Organ\",\n",
    "    'Method',\n",
    "    \"TS_muscle_CE_compartment\",\n",
    "    \"TS_muscle_CE_anatomical_information\",\n",
    "    \"TS_muscle_CE_free_annotation\",\n",
    "]\n",
    "\n",
    "minimal_obs = sapiens_10x_no_diaphragm_pilot2.obs[obs_cols]\n",
    "minimal_obs[\"age\"] = \"50-59y\"\n",
    "minimal_obs.head()"
   ]
  },
  {
   "cell_type": "markdown",
   "metadata": {},
   "source": [
    "### Rename obs columns"
   ]
  },
  {
   "cell_type": "code",
   "execution_count": 18,
   "metadata": {},
   "outputs": [
    {
     "data": {
      "text/html": [
       "<div>\n",
       "<style scoped>\n",
       "    .dataframe tbody tr th:only-of-type {\n",
       "        vertical-align: middle;\n",
       "    }\n",
       "\n",
       "    .dataframe tbody tr th {\n",
       "        vertical-align: top;\n",
       "    }\n",
       "\n",
       "    .dataframe thead th {\n",
       "        text-align: right;\n",
       "    }\n",
       "</style>\n",
       "<table border=\"1\" class=\"dataframe\">\n",
       "  <thead>\n",
       "    <tr style=\"text-align: right;\">\n",
       "      <th></th>\n",
       "      <th>individual</th>\n",
       "      <th>tissue</th>\n",
       "      <th>method</th>\n",
       "      <th>compartment</th>\n",
       "      <th>subtissue</th>\n",
       "      <th>free_annotation</th>\n",
       "      <th>age</th>\n",
       "    </tr>\n",
       "  </thead>\n",
       "  <tbody>\n",
       "    <tr>\n",
       "      <th>CTTCTAAAGTGACACG_TSP2_Muscle_rectusabdominus_10X_1_1</th>\n",
       "      <td>human_tsp_2</td>\n",
       "      <td>Muscle</td>\n",
       "      <td>10X</td>\n",
       "      <td>endothelial</td>\n",
       "      <td>rectusabdominus</td>\n",
       "      <td>capillary cell</td>\n",
       "      <td>50-59y</td>\n",
       "    </tr>\n",
       "    <tr>\n",
       "      <th>ACGCACGTCTAGAGCT_TSP1_muscle_3</th>\n",
       "      <td>human_tsp_1</td>\n",
       "      <td>Muscle</td>\n",
       "      <td>10X</td>\n",
       "      <td>stromal</td>\n",
       "      <td>rectusabdominus</td>\n",
       "      <td>skeletal muscle satellite stem cell</td>\n",
       "      <td>50-59y</td>\n",
       "    </tr>\n",
       "    <tr>\n",
       "      <th>GGCAGTCAGTCGTTAC_TSP2_Muscle_rectusabdominus_10X_1_1</th>\n",
       "      <td>human_tsp_2</td>\n",
       "      <td>Muscle</td>\n",
       "      <td>10X</td>\n",
       "      <td>stromal</td>\n",
       "      <td>rectusabdominus</td>\n",
       "      <td>fibroadipogenic progenitor cell</td>\n",
       "      <td>50-59y</td>\n",
       "    </tr>\n",
       "    <tr>\n",
       "      <th>TCAGTGAGTCGGAAAC_TSP1_muscle_2</th>\n",
       "      <td>human_tsp_1</td>\n",
       "      <td>Muscle</td>\n",
       "      <td>10X</td>\n",
       "      <td>stromal</td>\n",
       "      <td>rectusabdominus</td>\n",
       "      <td>fibroadipogenic progenitor cell</td>\n",
       "      <td>50-59y</td>\n",
       "    </tr>\n",
       "    <tr>\n",
       "      <th>AACCAACAGACTCTAC_TSP1_muscle_1</th>\n",
       "      <td>human_tsp_1</td>\n",
       "      <td>Muscle</td>\n",
       "      <td>10X</td>\n",
       "      <td>stromal</td>\n",
       "      <td>rectusabdominus</td>\n",
       "      <td>pericyte</td>\n",
       "      <td>50-59y</td>\n",
       "    </tr>\n",
       "  </tbody>\n",
       "</table>\n",
       "</div>"
      ],
      "text/plain": [
       "                                                     individual  tissue  \\\n",
       "CTTCTAAAGTGACACG_TSP2_Muscle_rectusabdominus_10...  human_tsp_2  Muscle   \n",
       "ACGCACGTCTAGAGCT_TSP1_muscle_3                      human_tsp_1  Muscle   \n",
       "GGCAGTCAGTCGTTAC_TSP2_Muscle_rectusabdominus_10...  human_tsp_2  Muscle   \n",
       "TCAGTGAGTCGGAAAC_TSP1_muscle_2                      human_tsp_1  Muscle   \n",
       "AACCAACAGACTCTAC_TSP1_muscle_1                      human_tsp_1  Muscle   \n",
       "\n",
       "                                                   method  compartment  \\\n",
       "CTTCTAAAGTGACACG_TSP2_Muscle_rectusabdominus_10...    10X  endothelial   \n",
       "ACGCACGTCTAGAGCT_TSP1_muscle_3                        10X      stromal   \n",
       "GGCAGTCAGTCGTTAC_TSP2_Muscle_rectusabdominus_10...    10X      stromal   \n",
       "TCAGTGAGTCGGAAAC_TSP1_muscle_2                        10X      stromal   \n",
       "AACCAACAGACTCTAC_TSP1_muscle_1                        10X      stromal   \n",
       "\n",
       "                                                          subtissue  \\\n",
       "CTTCTAAAGTGACACG_TSP2_Muscle_rectusabdominus_10...  rectusabdominus   \n",
       "ACGCACGTCTAGAGCT_TSP1_muscle_3                      rectusabdominus   \n",
       "GGCAGTCAGTCGTTAC_TSP2_Muscle_rectusabdominus_10...  rectusabdominus   \n",
       "TCAGTGAGTCGGAAAC_TSP1_muscle_2                      rectusabdominus   \n",
       "AACCAACAGACTCTAC_TSP1_muscle_1                      rectusabdominus   \n",
       "\n",
       "                                                                        free_annotation  \\\n",
       "CTTCTAAAGTGACACG_TSP2_Muscle_rectusabdominus_10...                       capillary cell   \n",
       "ACGCACGTCTAGAGCT_TSP1_muscle_3                      skeletal muscle satellite stem cell   \n",
       "GGCAGTCAGTCGTTAC_TSP2_Muscle_rectusabdominus_10...      fibroadipogenic progenitor cell   \n",
       "TCAGTGAGTCGGAAAC_TSP1_muscle_2                          fibroadipogenic progenitor cell   \n",
       "AACCAACAGACTCTAC_TSP1_muscle_1                                                 pericyte   \n",
       "\n",
       "                                                       age  \n",
       "CTTCTAAAGTGACACG_TSP2_Muscle_rectusabdominus_10...  50-59y  \n",
       "ACGCACGTCTAGAGCT_TSP1_muscle_3                      50-59y  \n",
       "GGCAGTCAGTCGTTAC_TSP2_Muscle_rectusabdominus_10...  50-59y  \n",
       "TCAGTGAGTCGGAAAC_TSP1_muscle_2                      50-59y  \n",
       "AACCAACAGACTCTAC_TSP1_muscle_1                      50-59y  "
      ]
     },
     "execution_count": 18,
     "metadata": {},
     "output_type": "execute_result"
    }
   ],
   "source": [
    "minimal_obs = minimal_obs.rename(\n",
    "    columns={\n",
    "        \"X10X_barcode\": \"cell_barcode\",\n",
    "        \"X10X_run\": \"channel\",\n",
    "        'TS_muscle_CE_compartment': 'compartment',\n",
    "        \"TS_muscle_CE_anatomical_information\": \"subtissue\",\n",
    "        'TS_muscle_CE_free_annotation': 'free_annotation',\n",
    "        \"Method\": \"method\",\n",
    "        \"Organ\": \"tissue\",\n",
    "    }\n",
    ")\n",
    "minimal_obs.head()"
   ]
  },
  {
   "cell_type": "markdown",
   "metadata": {},
   "source": [
    "### Add species"
   ]
  },
  {
   "cell_type": "code",
   "execution_count": 19,
   "metadata": {},
   "outputs": [
    {
     "data": {
      "text/html": [
       "<div>\n",
       "<style scoped>\n",
       "    .dataframe tbody tr th:only-of-type {\n",
       "        vertical-align: middle;\n",
       "    }\n",
       "\n",
       "    .dataframe tbody tr th {\n",
       "        vertical-align: top;\n",
       "    }\n",
       "\n",
       "    .dataframe thead th {\n",
       "        text-align: right;\n",
       "    }\n",
       "</style>\n",
       "<table border=\"1\" class=\"dataframe\">\n",
       "  <thead>\n",
       "    <tr style=\"text-align: right;\">\n",
       "      <th></th>\n",
       "      <th>individual</th>\n",
       "      <th>tissue</th>\n",
       "      <th>method</th>\n",
       "      <th>compartment</th>\n",
       "      <th>subtissue</th>\n",
       "      <th>free_annotation</th>\n",
       "      <th>age</th>\n",
       "      <th>species</th>\n",
       "      <th>species_latin</th>\n",
       "    </tr>\n",
       "  </thead>\n",
       "  <tbody>\n",
       "    <tr>\n",
       "      <th>CTTCTAAAGTGACACG_TSP2_Muscle_rectusabdominus_10X_1_1</th>\n",
       "      <td>human_tsp_2</td>\n",
       "      <td>Muscle</td>\n",
       "      <td>10X</td>\n",
       "      <td>endothelial</td>\n",
       "      <td>rectusabdominus</td>\n",
       "      <td>capillary cell</td>\n",
       "      <td>50-59y</td>\n",
       "      <td>Human</td>\n",
       "      <td>Homo sapiens</td>\n",
       "    </tr>\n",
       "    <tr>\n",
       "      <th>ACGCACGTCTAGAGCT_TSP1_muscle_3</th>\n",
       "      <td>human_tsp_1</td>\n",
       "      <td>Muscle</td>\n",
       "      <td>10X</td>\n",
       "      <td>stromal</td>\n",
       "      <td>rectusabdominus</td>\n",
       "      <td>skeletal muscle satellite stem cell</td>\n",
       "      <td>50-59y</td>\n",
       "      <td>Human</td>\n",
       "      <td>Homo sapiens</td>\n",
       "    </tr>\n",
       "    <tr>\n",
       "      <th>GGCAGTCAGTCGTTAC_TSP2_Muscle_rectusabdominus_10X_1_1</th>\n",
       "      <td>human_tsp_2</td>\n",
       "      <td>Muscle</td>\n",
       "      <td>10X</td>\n",
       "      <td>stromal</td>\n",
       "      <td>rectusabdominus</td>\n",
       "      <td>fibroadipogenic progenitor cell</td>\n",
       "      <td>50-59y</td>\n",
       "      <td>Human</td>\n",
       "      <td>Homo sapiens</td>\n",
       "    </tr>\n",
       "    <tr>\n",
       "      <th>TCAGTGAGTCGGAAAC_TSP1_muscle_2</th>\n",
       "      <td>human_tsp_1</td>\n",
       "      <td>Muscle</td>\n",
       "      <td>10X</td>\n",
       "      <td>stromal</td>\n",
       "      <td>rectusabdominus</td>\n",
       "      <td>fibroadipogenic progenitor cell</td>\n",
       "      <td>50-59y</td>\n",
       "      <td>Human</td>\n",
       "      <td>Homo sapiens</td>\n",
       "    </tr>\n",
       "    <tr>\n",
       "      <th>AACCAACAGACTCTAC_TSP1_muscle_1</th>\n",
       "      <td>human_tsp_1</td>\n",
       "      <td>Muscle</td>\n",
       "      <td>10X</td>\n",
       "      <td>stromal</td>\n",
       "      <td>rectusabdominus</td>\n",
       "      <td>pericyte</td>\n",
       "      <td>50-59y</td>\n",
       "      <td>Human</td>\n",
       "      <td>Homo sapiens</td>\n",
       "    </tr>\n",
       "  </tbody>\n",
       "</table>\n",
       "</div>"
      ],
      "text/plain": [
       "                                                     individual  tissue  \\\n",
       "CTTCTAAAGTGACACG_TSP2_Muscle_rectusabdominus_10...  human_tsp_2  Muscle   \n",
       "ACGCACGTCTAGAGCT_TSP1_muscle_3                      human_tsp_1  Muscle   \n",
       "GGCAGTCAGTCGTTAC_TSP2_Muscle_rectusabdominus_10...  human_tsp_2  Muscle   \n",
       "TCAGTGAGTCGGAAAC_TSP1_muscle_2                      human_tsp_1  Muscle   \n",
       "AACCAACAGACTCTAC_TSP1_muscle_1                      human_tsp_1  Muscle   \n",
       "\n",
       "                                                   method  compartment  \\\n",
       "CTTCTAAAGTGACACG_TSP2_Muscle_rectusabdominus_10...    10X  endothelial   \n",
       "ACGCACGTCTAGAGCT_TSP1_muscle_3                        10X      stromal   \n",
       "GGCAGTCAGTCGTTAC_TSP2_Muscle_rectusabdominus_10...    10X      stromal   \n",
       "TCAGTGAGTCGGAAAC_TSP1_muscle_2                        10X      stromal   \n",
       "AACCAACAGACTCTAC_TSP1_muscle_1                        10X      stromal   \n",
       "\n",
       "                                                          subtissue  \\\n",
       "CTTCTAAAGTGACACG_TSP2_Muscle_rectusabdominus_10...  rectusabdominus   \n",
       "ACGCACGTCTAGAGCT_TSP1_muscle_3                      rectusabdominus   \n",
       "GGCAGTCAGTCGTTAC_TSP2_Muscle_rectusabdominus_10...  rectusabdominus   \n",
       "TCAGTGAGTCGGAAAC_TSP1_muscle_2                      rectusabdominus   \n",
       "AACCAACAGACTCTAC_TSP1_muscle_1                      rectusabdominus   \n",
       "\n",
       "                                                                        free_annotation  \\\n",
       "CTTCTAAAGTGACACG_TSP2_Muscle_rectusabdominus_10...                       capillary cell   \n",
       "ACGCACGTCTAGAGCT_TSP1_muscle_3                      skeletal muscle satellite stem cell   \n",
       "GGCAGTCAGTCGTTAC_TSP2_Muscle_rectusabdominus_10...      fibroadipogenic progenitor cell   \n",
       "TCAGTGAGTCGGAAAC_TSP1_muscle_2                          fibroadipogenic progenitor cell   \n",
       "AACCAACAGACTCTAC_TSP1_muscle_1                                                 pericyte   \n",
       "\n",
       "                                                       age species  \\\n",
       "CTTCTAAAGTGACACG_TSP2_Muscle_rectusabdominus_10...  50-59y   Human   \n",
       "ACGCACGTCTAGAGCT_TSP1_muscle_3                      50-59y   Human   \n",
       "GGCAGTCAGTCGTTAC_TSP2_Muscle_rectusabdominus_10...  50-59y   Human   \n",
       "TCAGTGAGTCGGAAAC_TSP1_muscle_2                      50-59y   Human   \n",
       "AACCAACAGACTCTAC_TSP1_muscle_1                      50-59y   Human   \n",
       "\n",
       "                                                   species_latin  \n",
       "CTTCTAAAGTGACACG_TSP2_Muscle_rectusabdominus_10...  Homo sapiens  \n",
       "ACGCACGTCTAGAGCT_TSP1_muscle_3                      Homo sapiens  \n",
       "GGCAGTCAGTCGTTAC_TSP2_Muscle_rectusabdominus_10...  Homo sapiens  \n",
       "TCAGTGAGTCGGAAAC_TSP1_muscle_2                      Homo sapiens  \n",
       "AACCAACAGACTCTAC_TSP1_muscle_1                      Homo sapiens  "
      ]
     },
     "execution_count": 19,
     "metadata": {},
     "output_type": "execute_result"
    }
   ],
   "source": [
    "minimal_obs['species'] = \"Human\"\n",
    "minimal_obs['species_latin'] = 'Homo sapiens'\n",
    "minimal_obs.head()"
   ]
  },
  {
   "cell_type": "markdown",
   "metadata": {},
   "source": [
    "## Use minimum columns for `.var` (gene metadata)"
   ]
  },
  {
   "cell_type": "code",
   "execution_count": 20,
   "metadata": {},
   "outputs": [
    {
     "data": {
      "text/plain": [
       "['ensembl_id', 'gene_length', 'gene_symbol']"
      ]
     },
     "execution_count": 20,
     "metadata": {},
     "output_type": "execute_result"
    }
   ],
   "source": [
    "sorted(sapiens_10x_no_diaphragm_pilot2.var.columns)"
   ]
  },
  {
   "cell_type": "code",
   "execution_count": 21,
   "metadata": {},
   "outputs": [
    {
     "data": {
      "text/html": [
       "<div>\n",
       "<style scoped>\n",
       "    .dataframe tbody tr th:only-of-type {\n",
       "        vertical-align: middle;\n",
       "    }\n",
       "\n",
       "    .dataframe tbody tr th {\n",
       "        vertical-align: top;\n",
       "    }\n",
       "\n",
       "    .dataframe thead th {\n",
       "        text-align: right;\n",
       "    }\n",
       "</style>\n",
       "<table border=\"1\" class=\"dataframe\">\n",
       "  <thead>\n",
       "    <tr style=\"text-align: right;\">\n",
       "      <th></th>\n",
       "      <th>ensembl_id</th>\n",
       "      <th>gene_length</th>\n",
       "      <th>gene_symbol</th>\n",
       "    </tr>\n",
       "  </thead>\n",
       "  <tbody>\n",
       "    <tr>\n",
       "      <th>DDX11L1</th>\n",
       "      <td>ENSG00000223972.5</td>\n",
       "      <td>1144.5</td>\n",
       "      <td>DDX11L1</td>\n",
       "    </tr>\n",
       "    <tr>\n",
       "      <th>WASH7P</th>\n",
       "      <td>ENSG00000227232.5</td>\n",
       "      <td>1351.0</td>\n",
       "      <td>WASH7P</td>\n",
       "    </tr>\n",
       "    <tr>\n",
       "      <th>MIR6859-1</th>\n",
       "      <td>ENSG00000278267.1</td>\n",
       "      <td>68.0</td>\n",
       "      <td>MIR6859-1</td>\n",
       "    </tr>\n",
       "    <tr>\n",
       "      <th>MIR1302-2HG</th>\n",
       "      <td>ENSG00000243485.5</td>\n",
       "      <td>623.5</td>\n",
       "      <td>MIR1302-2HG</td>\n",
       "    </tr>\n",
       "    <tr>\n",
       "      <th>MIR1302-2</th>\n",
       "      <td>ENSG00000284332.1</td>\n",
       "      <td>138.0</td>\n",
       "      <td>MIR1302-2</td>\n",
       "    </tr>\n",
       "  </tbody>\n",
       "</table>\n",
       "</div>"
      ],
      "text/plain": [
       "                    ensembl_id  gene_length  gene_symbol\n",
       "DDX11L1      ENSG00000223972.5       1144.5      DDX11L1\n",
       "WASH7P       ENSG00000227232.5       1351.0       WASH7P\n",
       "MIR6859-1    ENSG00000278267.1         68.0    MIR6859-1\n",
       "MIR1302-2HG  ENSG00000243485.5        623.5  MIR1302-2HG\n",
       "MIR1302-2    ENSG00000284332.1        138.0    MIR1302-2"
      ]
     },
     "execution_count": 21,
     "metadata": {},
     "output_type": "execute_result"
    }
   ],
   "source": [
    "var_cols = ['ensembl_id', 'gene_length', 'gene_symbol']\n",
    "\n",
    "new_var = sapiens_10x_no_diaphragm_pilot2.var[var_cols]\n",
    "new_var.head()"
   ]
  },
  {
   "cell_type": "markdown",
   "metadata": {},
   "source": [
    "# Add unified annotations"
   ]
  },
  {
   "cell_type": "markdown",
   "metadata": {},
   "source": [
    "## Blood -- Don't have updated version for this -- Ignore\n",
    "\n",
    "Celltypes in `/mnt/ibm_lg/angela/sapiens/data/uploads_to_s3/v2_july_2021` are different. No `cell_ontology_type` column"
   ]
  },
  {
   "cell_type": "code",
   "execution_count": 22,
   "metadata": {},
   "outputs": [],
   "source": [
    "# import unified_annotations\n",
    "\n",
    "# blood_grouping = unified_annotations.get_celltype_converter(\n",
    "#     \"Blood\", (\"Human\", \"Tabula Sapiens\", \"cell_ontology_type\")\n",
    "# ) \n",
    "# blood_grouping = blood_grouping.drop('tissue', axis=1)\n",
    "# print(blood_grouping.shape)\n",
    "# blood_grouping.head()"
   ]
  },
  {
   "cell_type": "markdown",
   "metadata": {},
   "source": [
    "## Muscle"
   ]
  },
  {
   "cell_type": "code",
   "execution_count": 23,
   "metadata": {},
   "outputs": [
    {
     "ename": "NameError",
     "evalue": "name 'unified_annotations' is not defined",
     "output_type": "error",
     "traceback": [
      "\u001b[0;31m-------------------------------------------------------------\u001b[0m",
      "\u001b[0;31mNameError\u001b[0m                   Traceback (most recent call last)",
      "\u001b[0;32m<ipython-input-23-72f77fba9a9d>\u001b[0m in \u001b[0;36m<module>\u001b[0;34m\u001b[0m\n\u001b[0;32m----> 1\u001b[0;31m muscle_grouping = unified_annotations.get_celltype_converter(\n\u001b[0m\u001b[1;32m      2\u001b[0m     \u001b[0;34m\"Muscle\"\u001b[0m\u001b[0;34m,\u001b[0m\u001b[0;34m\u001b[0m\u001b[0;34m\u001b[0m\u001b[0m\n\u001b[1;32m      3\u001b[0m     (\n\u001b[1;32m      4\u001b[0m         \u001b[0;34m\"Human\"\u001b[0m\u001b[0;34m,\u001b[0m\u001b[0;34m\u001b[0m\u001b[0;34m\u001b[0m\u001b[0m\n\u001b[1;32m      5\u001b[0m         \u001b[0;34m\"Tabula Sapiens\"\u001b[0m\u001b[0;34m,\u001b[0m\u001b[0;34m\u001b[0m\u001b[0;34m\u001b[0m\u001b[0m\n",
      "\u001b[0;31mNameError\u001b[0m: name 'unified_annotations' is not defined"
     ]
    }
   ],
   "source": [
    "muscle_grouping = unified_annotations.get_celltype_converter(\n",
    "    \"Muscle\",\n",
    "    (\n",
    "        \"Human\",\n",
    "        \"Tabula Sapiens\",\n",
    "        \"TS_muscle_CE_free_annotation\",\n",
    "    ),\n",
    ")\n",
    "muscle_grouping = muscle_grouping.drop('tissue', axis=1)\n",
    "print(muscle_grouping.shape)\n",
    "muscle_grouping.head()"
   ]
  },
  {
   "cell_type": "markdown",
   "metadata": {},
   "source": [
    "## IGNORE FOR NOW: Concatenate muscle and blood since both use `cell_ontology_type`"
   ]
  },
  {
   "cell_type": "code",
   "execution_count": null,
   "metadata": {},
   "outputs": [],
   "source": [
    "# blood_muscle = pd.concat([blood_grouping, muscle_grouping])\n",
    "# blood_muscle = blood_muscle.loc[~blood_muscle.index.duplicated()]\n",
    "# blood_muscle.head()"
   ]
  },
  {
   "cell_type": "markdown",
   "metadata": {},
   "source": [
    "### Merge new renamed, minimal obs with blood muscle for `narrow_group`, `broad_group`"
   ]
  },
  {
   "cell_type": "code",
   "execution_count": null,
   "metadata": {},
   "outputs": [],
   "source": [
    "minimal_obs_with_groupings = minimal_obs.merge(\n",
    "    muscle_grouping, how=\"left\", left_on=\"free_annotation\", right_index=True\n",
    ")\n",
    "# minimal_obs_with_groupings.index = minimal_obs_with_groupings.index.astype(str)\n",
    "print(minimal_obs_with_groupings.shape)\n",
    "minimal_obs_with_groupings.head()"
   ]
  },
  {
   "cell_type": "code",
   "execution_count": null,
   "metadata": {},
   "outputs": [],
   "source": [
    "minimal_obs_with_groupings.groupby(\n",
    "    [\"tissue\", \"compartment_group\", \"broad_group\", \"narrow_group\"], observed=True\n",
    ").size().to_frame()"
   ]
  },
  {
   "cell_type": "markdown",
   "metadata": {},
   "source": [
    "# Add new metadata"
   ]
  },
  {
   "cell_type": "code",
   "execution_count": null,
   "metadata": {},
   "outputs": [],
   "source": [
    "# new_var.index = new_var.index.str.decode('utf-8')\n",
    "# new_var['ensembl_id'] = new_var['ensembl_id'].str.decode('utf-8')\n",
    "new_var.head()"
   ]
  },
  {
   "cell_type": "code",
   "execution_count": null,
   "metadata": {},
   "outputs": [],
   "source": [
    "sapiens_10x_no_diaphragm_pilot2.var = new_var\n",
    "sapiens_10x_no_diaphragm_pilot2.var.head()"
   ]
  },
  {
   "cell_type": "code",
   "execution_count": null,
   "metadata": {},
   "outputs": [],
   "source": [
    "sapiens_10x_no_diaphragm_pilot2.var.sample(10)"
   ]
  },
  {
   "cell_type": "code",
   "execution_count": null,
   "metadata": {},
   "outputs": [],
   "source": [
    "sapiens_10x_no_diaphragm_pilot2.obs = minimal_obs_with_groupings\n",
    "\n",
    "sapiens_10x_no_diaphragm_pilot2"
   ]
  },
  {
   "cell_type": "code",
   "execution_count": null,
   "metadata": {},
   "outputs": [],
   "source": [
    "sapiens_10x_no_diaphragm_pilot2.var.head()"
   ]
  },
  {
   "cell_type": "code",
   "execution_count": null,
   "metadata": {},
   "outputs": [],
   "source": [
    "sapiens_10x_no_diaphragm_pilot2.var.dtypes"
   ]
  },
  {
   "cell_type": "code",
   "execution_count": null,
   "metadata": {},
   "outputs": [],
   "source": [
    "sapiens_10x_no_diaphragm_pilot2.obs.dtypes"
   ]
  },
  {
   "cell_type": "code",
   "execution_count": null,
   "metadata": {},
   "outputs": [],
   "source": [
    "sapiens_10x_no_diaphragm_pilot2.obs.head()"
   ]
  },
  {
   "cell_type": "markdown",
   "metadata": {},
   "source": [
    "## Write h5ad with new metadata to file"
   ]
  },
  {
   "cell_type": "code",
   "execution_count": null,
   "metadata": {},
   "outputs": [],
   "source": [
    "%%time\n",
    "sapiens_10x_no_diaphragm_pilot2.write(\n",
    "    os.path.join(\n",
    "        \"/home/olga/data_lg/data_sm_copy/tabula-sapiens/data-objects/\",\n",
    "        \"tabula-sapiens_P1P2_10X_SS2_Muscle_updated-annotations__minimal_no_pilot2_diaphragm__muscle_update_august2021.h5ad\",\n",
    "    )\n",
    ")"
   ]
  },
  {
   "cell_type": "markdown",
   "metadata": {},
   "source": [
    "## Check cell type presence"
   ]
  },
  {
   "cell_type": "code",
   "execution_count": null,
   "metadata": {},
   "outputs": [],
   "source": [
    "def check_celltype_presence(adata, celltypes=('fast muscle cell',), celltype_col='narrow_group'):\n",
    "    for celltype in celltypes:\n",
    "        try:\n",
    "            assert celltype in set(adata.obs[celltype_col])\n",
    "        except:\n",
    "            raise AssertionError(f\"Celltype '{celltype}' not found in column '{celltype_col}'\")\n",
    "\n",
    "check_celltype_presence(sapiens_10x_no_diaphragm_pilot2)"
   ]
  },
  {
   "cell_type": "code",
   "execution_count": null,
   "metadata": {},
   "outputs": [],
   "source": [
    "sorted(sapiens_10x_no_diaphragm_pilot2.obs.tissue.unique())"
   ]
  },
  {
   "cell_type": "code",
   "execution_count": null,
   "metadata": {},
   "outputs": [],
   "source": [
    "sapiens_10x_no_diaphragm_pilot2.obs.query(\"tissue == 'Muscle'\").narrow_group.value_counts().sort_index()"
   ]
  },
  {
   "cell_type": "markdown",
   "metadata": {
    "persistent_id": "dd6e1df7-b220-4489-98c3-01a9d35b4453"
   },
   "source": [
    "# Subset to 1:1 orthologs"
   ]
  },
  {
   "cell_type": "markdown",
   "metadata": {},
   "source": [
    "## Read orthologs"
   ]
  },
  {
   "cell_type": "code",
   "execution_count": null,
   "metadata": {},
   "outputs": [],
   "source": [
    "csv = os.path.join(\n",
    "    \"/home/olga/googledrive/TabulaMicrocebus/data/orthologous-genes\",\n",
    "    \"ncbi_mgi_ensembl__mouse-lemur_human_mouse__orthologs__gene_names__one2one.csv\",\n",
    ")\n",
    "\n",
    "gene_orthologies = pd.read_csv(csv, index_col=0)\n",
    "print(gene_orthologies.shape)\n",
    "gene_orthologies.head()"
   ]
  },
  {
   "cell_type": "markdown",
   "metadata": {},
   "source": [
    "## Use only genes in the 1:1:1 ortholog dataframes"
   ]
  },
  {
   "cell_type": "code",
   "execution_count": null,
   "metadata": {
    "execution_event_id": "b760e5b5-469d-4cef-b637-915cef56c2ce",
    "last_executed_text": "gene_mask = human.var.index.isin(gene_orthologies_one2one_all_three['human__gene_name'].values)\nprint(gene_mask.sum())\n\n# Need to copy so it's not an ArrayView object\nhuman_one2one = human[:, gene_mask].copy()\nhuman_one2one",
    "persistent_id": "91abc876-9b31-4e74-ba0e-ebacfd411eda"
   },
   "outputs": [],
   "source": [
    "gene_mask = sapiens.var.index.isin(gene_orthologies['human__gene_name'].values)\n",
    "print(gene_mask.sum())\n",
    "\n",
    "# Need to copy so it's not an ArrayView object\n",
    "sapiens_10x_no_diaphragm_pilot2_one2one = sapiens_10x_no_diaphragm_pilot2[:, gene_mask].copy()\n",
    "sapiens_10x_no_diaphragm_pilot2_one2one"
   ]
  },
  {
   "cell_type": "code",
   "execution_count": null,
   "metadata": {
    "execution_event_id": "6c6c0b3a-55bb-4af9-a5b4-f9720328eef0",
    "last_executed_text": "human_one2one.var = gene_orthologies_one2one_all_three.set_index('human__gene_name').loc[human_one2one.var.index]\nhuman_one2one.var.head()",
    "persistent_id": "ba8526b9-ffa6-4f0c-8826-69d5d1fb6f30"
   },
   "outputs": [],
   "source": [
    "sapiens_10x_no_diaphragm_pilot2_one2one.var = gene_orthologies.set_index('human__gene_name').loc[sapiens_10x_no_diaphragm_pilot2_one2one.var.index]\n",
    "sapiens_10x_no_diaphragm_pilot2_one2one.var.head()"
   ]
  },
  {
   "cell_type": "markdown",
   "metadata": {},
   "source": [
    "## Write sapiens subset to file"
   ]
  },
  {
   "cell_type": "code",
   "execution_count": null,
   "metadata": {},
   "outputs": [],
   "source": [
    "%%time\n",
    "\n",
    "one2one_h5ad = os.path.join(\n",
    "    outdir_local, \"tabula_sapiens__10x__human__one2one_orthologs__august2021.h5ad\"\n",
    ")\n",
    "sapiens_10x_no_diaphragm_pilot2_one2one.write(one2one_h5ad)"
   ]
  },
  {
   "cell_type": "code",
   "execution_count": null,
   "metadata": {},
   "outputs": [],
   "source": [
    "! ls -lha $one2one_h5ad"
   ]
  },
  {
   "cell_type": "code",
   "execution_count": null,
   "metadata": {},
   "outputs": [],
   "source": []
  }
 ],
 "metadata": {
  "kernelspec": {
   "display_name": "Python [conda env:tabula-microcebus-jan2021]",
   "language": "python",
   "name": "conda-env-tabula-microcebus-jan2021-py"
  },
  "language_info": {
   "codemirror_mode": {
    "name": "ipython",
    "version": 3
   },
   "file_extension": ".py",
   "mimetype": "text/x-python",
   "name": "python",
   "nbconvert_exporter": "python",
   "pygments_lexer": "ipython3",
   "version": "3.7.3"
  }
 },
 "nbformat": 4,
 "nbformat_minor": 4
}
