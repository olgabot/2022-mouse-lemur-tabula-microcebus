{
 "cells": [
  {
   "cell_type": "code",
   "execution_count": 131,
   "metadata": {
    "execution_event_id": "53618f17-3209-42d8-b15d-586eb47ed476",
    "last_executed_text": "from io import StringIO\n\nimport anndata\nimport pandas as pd\nimport numpy as np\nimport scanpy\n\noutdir = '/home/olga/googledrive/TabulaMicrocebus/data/cross-species'\n",
    "persistent_id": "a8fdc6d7-c0d4-4015-84b2-2c05e2785a2f"
   },
   "outputs": [
    {
     "name": "stderr",
     "output_type": "stream",
     "text": [
      "WARNING: If you miss a compact list, please try `print_header`!\n"
     ]
    },
    {
     "name": "stdout",
     "output_type": "stream",
     "text": [
      "-----\n",
      "anndata     0.7.5\n",
      "scanpy      1.7.0rc1\n",
      "sinfo       0.3.1\n",
      "-----\n",
      "OpenSSL             19.1.0\n",
      "anndata             0.7.5\n",
      "attr                19.3.0\n",
      "backcall            0.1.0\n",
      "boto3               1.10.39\n",
      "botocore            1.13.39\n",
      "cairo               1.18.2\n",
      "certifi             2020.12.05\n",
      "colorama            0.4.4\n",
      "cryptography        2.8\n",
      "cycler              0.10.0\n",
      "cython_runtime      NA\n",
      "dateutil            2.8.0\n",
      "decorator           4.4.1\n",
      "fsspec              0.6.1\n",
      "get_version         2.1\n",
      "h5py                2.10.0\n",
      "idna                2.8\n",
      "igraph              0.7.1\n",
      "importlib_metadata  0.19\n",
      "ipykernel           5.1.3\n",
      "ipython_genutils    0.2.0\n",
      "jedi                0.15.1\n",
      "jinja2              2.10.3\n",
      "jmespath            0.9.4\n",
      "joblib              0.14.1\n",
      "jsonschema          3.2.0\n",
      "kiwisolver          1.1.0\n",
      "legacy_api_wrap     0.0.0\n",
      "leidenalg           0.7.0\n",
      "llvmlite            0.30.0\n",
      "louvain             0.6.1\n",
      "markupsafe          1.1.1\n",
      "matplotlib          3.1.2\n",
      "more_itertools      NA\n",
      "mpl_toolkits        NA\n",
      "natsort             6.2.0\n",
      "nbformat            4.4.0\n",
      "numba               0.46.0\n",
      "numexpr             2.7.0\n",
      "numpy               1.17.3\n",
      "packaging           20.8\n",
      "pandas              1.1.4\n",
      "parso               0.5.1\n",
      "pexpect             4.7.0\n",
      "pickleshare         0.7.5\n",
      "pkg_resources       NA\n",
      "prometheus_client   NA\n",
      "prompt_toolkit      3.0.2\n",
      "ptyprocess          0.6.0\n",
      "pvectorc            NA\n",
      "pyarrow             0.15.1\n",
      "pygments            2.5.2\n",
      "pyparsing           2.4.5\n",
      "pyrsistent          NA\n",
      "pytz                2019.3\n",
      "s3fs                0.4.0\n",
      "s3transfer          0.2.1\n",
      "scanpy              1.7.0rc1\n",
      "scipy               1.5.2\n",
      "send2trash          NA\n",
      "setuptools_scm      NA\n",
      "sinfo               0.3.1\n",
      "six                 1.13.0\n",
      "sklearn             0.23.2\n",
      "sphinxcontrib       NA\n",
      "storemagic          NA\n",
      "tables              3.6.1\n",
      "tornado             6.0.3\n",
      "traitlets           4.3.3\n",
      "urllib3             1.25.7\n",
      "wcwidth             NA\n",
      "yaml                5.3.1\n",
      "zipp                NA\n",
      "zmq                 18.1.1\n",
      "-----\n",
      "IPython             7.10.1\n",
      "jupyter_client      5.3.3\n",
      "jupyter_core        4.6.1\n",
      "jupyterlab          1.2.4\n",
      "notebook            6.0.1\n",
      "-----\n",
      "Python 3.7.3 | packaged by conda-forge | (default, Dec  6 2019, 08:54:18) [GCC 7.3.0]\n",
      "Linux-4.15.0-91-generic-x86_64-with-debian-buster-sid\n",
      "128 logical CPU cores, x86_64\n",
      "-----\n",
      "Session information updated at 2021-07-13 16:34\n",
      "\n",
      "mkdir: cannot create directory '/home/olga/data_lg/data_sm_copy/tabula-microcebus/data-objects/cross-species': File exists\n",
      "mkdir: cannot create directory '/home/olga/googledrive/TabulaMicrocebus/data/cross-species': File exists\n"
     ]
    }
   ],
   "source": [
    "import os\n",
    "from collections import OrderedDict\n",
    "from io import StringIO\n",
    "\n",
    "import anndata\n",
    "import numpy as np\n",
    "import pandas as pd\n",
    "import scanpy\n",
    "\n",
    "scanpy.settings.verbosity = 3\n",
    "scanpy.logging.print_versions()\n",
    "\n",
    "pd.options.display.max_columns = 100\n",
    "\n",
    "outdir_gdrive = '/home/olga/googledrive/TabulaMicrocebus/data/cross-species'\n",
    "outdir_local = '/home/olga/data_lg/data_sm_copy/tabula-microcebus/data-objects/cross-species'\n",
    "! mkdir $outdir_local $outdir_gdrive\n",
    "outdirs = outdir_gdrive, outdir_local\n",
    "# for d in outdirs:\n",
    "#     ! ls -lha $d"
   ]
  },
  {
   "cell_type": "markdown",
   "metadata": {
    "persistent_id": "90468cfc-0400-4691-ab5f-c041a4707f0c"
   },
   "source": [
    "# Read in orthologous genes"
   ]
  },
  {
   "cell_type": "code",
   "execution_count": 63,
   "metadata": {
    "execution_event_id": "c6bc4fba-3e5f-4b65-95d7-d43b93bcaf8a",
    "last_executed_text": "orthologous_genes_folder = '/home/olga/googledrive/TabulaMicrocebus/data/orthologous-genes'\n! ls -lha $orthologous_genes_folder",
    "persistent_id": "20c13500-abac-44ea-a1bc-c93525170194"
   },
   "outputs": [],
   "source": [
    "orthologous_genes_folder = '/home/olga/googledrive/TabulaMicrocebus/data/orthologous-genes'\n",
    "# ! ls -lha $orthologous_genes_folder"
   ]
  },
  {
   "cell_type": "code",
   "execution_count": 64,
   "metadata": {},
   "outputs": [],
   "source": [
    "# ! ls -lha $orthologous_genes_folder/Ensembl_NCBI_MGI_homology"
   ]
  },
  {
   "cell_type": "code",
   "execution_count": 65,
   "metadata": {},
   "outputs": [],
   "source": [
    "# ! ls -lha $orthologous_genes_folder/Ensembl_NCBI_MGI_homology/NCBI_lemur_homologs_summary_one2one.csv"
   ]
  },
  {
   "cell_type": "markdown",
   "metadata": {},
   "source": [
    "## Use cleaned orthologies from Camille"
   ]
  },
  {
   "cell_type": "code",
   "execution_count": 66,
   "metadata": {
    "execution_event_id": "9f36296e-2d74-42fe-922e-b0f1223cefb0",
    "last_executed_text": "gene_orthologies = pd.read_csv(f\"{orthologous_genes_folder}/mouse-lemur_human_mouse__orthologs__gene_names.csv\")\nprint(gene_orthologies.shape)\ngene_orthologies.head()",
    "persistent_id": "3960ddac-2d4b-43a0-ab3e-d86cd7a16ec7"
   },
   "outputs": [
    {
     "name": "stdout",
     "output_type": "stream",
     "text": [
      "(15815, 34)\n"
     ]
    },
    {
     "data": {
      "text/html": [
       "<div>\n",
       "<style scoped>\n",
       "    .dataframe tbody tr th:only-of-type {\n",
       "        vertical-align: middle;\n",
       "    }\n",
       "\n",
       "    .dataframe tbody tr th {\n",
       "        vertical-align: top;\n",
       "    }\n",
       "\n",
       "    .dataframe thead th {\n",
       "        text-align: right;\n",
       "    }\n",
       "</style>\n",
       "<table border=\"1\" class=\"dataframe\">\n",
       "  <thead>\n",
       "    <tr style=\"text-align: right;\">\n",
       "      <th></th>\n",
       "      <th>NCBI_lemur_geneID</th>\n",
       "      <th>NCBI_lemur_geneName</th>\n",
       "      <th>NCBI_lemur_geneDescription</th>\n",
       "      <th>NCBI_lemur_geneType</th>\n",
       "      <th>Ensembl_human_homology</th>\n",
       "      <th>Ensembl_mouse_homology</th>\n",
       "      <th>NCBI_human_homology</th>\n",
       "      <th>NCBI_mouse_homology</th>\n",
       "      <th>any_mouse_homology</th>\n",
       "      <th>any_human_homology</th>\n",
       "      <th>NCBI_human_geneID_1</th>\n",
       "      <th>NCBI_human_geneName_1</th>\n",
       "      <th>NCBI_mouse_geneID_1</th>\n",
       "      <th>NCBI_mouse_geneName_1</th>\n",
       "      <th>Ensembl_lemur_geneID_1</th>\n",
       "      <th>Ensembl_lemur_geneID_2</th>\n",
       "      <th>Ensembl_lemur_geneName_1</th>\n",
       "      <th>Ensembl_lemur_geneName_2</th>\n",
       "      <th>Ensembl_human_geneID_1</th>\n",
       "      <th>Ensembl_human_geneID_2</th>\n",
       "      <th>Ensembl_human_geneName_1</th>\n",
       "      <th>Ensembl_human_geneName_2</th>\n",
       "      <th>Ensembl_mouse_geneID_1</th>\n",
       "      <th>Ensembl_mouse_geneID_2</th>\n",
       "      <th>Ensembl_mouse_geneName_1</th>\n",
       "      <th>Ensembl_mouse_geneName_2</th>\n",
       "      <th>Ensembl_human_geneID_AGG</th>\n",
       "      <th>Ensembl_human_geneName_AGG</th>\n",
       "      <th>Ensembl_mouse_geneID_AGG</th>\n",
       "      <th>Ensembl_mouse_geneName_AGG</th>\n",
       "      <th>NCBI_human_geneID_AGG</th>\n",
       "      <th>NCBI_human_geneName_AGG</th>\n",
       "      <th>NCBI_mouse_geneID_AGG</th>\n",
       "      <th>NCBI_mouse_geneName_AGG</th>\n",
       "    </tr>\n",
       "  </thead>\n",
       "  <tbody>\n",
       "    <tr>\n",
       "      <th>1</th>\n",
       "      <td>105854774</td>\n",
       "      <td>PDE6D</td>\n",
       "      <td>phosphodiesterase 6D</td>\n",
       "      <td>protein-coding</td>\n",
       "      <td>ortholog_one2one</td>\n",
       "      <td>ortholog_one2one</td>\n",
       "      <td>ortholog</td>\n",
       "      <td>ortholog</td>\n",
       "      <td>yes</td>\n",
       "      <td>yes</td>\n",
       "      <td>5147.0</td>\n",
       "      <td>PDE6D</td>\n",
       "      <td>18582.0</td>\n",
       "      <td>Pde6d</td>\n",
       "      <td>ENSMICG00000032098</td>\n",
       "      <td>NaN</td>\n",
       "      <td>PDE6D</td>\n",
       "      <td>NaN</td>\n",
       "      <td>ENSG00000156973</td>\n",
       "      <td>NaN</td>\n",
       "      <td>PDE6D</td>\n",
       "      <td>NaN</td>\n",
       "      <td>ENSMUSG00000026239</td>\n",
       "      <td>NaN</td>\n",
       "      <td>Pde6d</td>\n",
       "      <td>NaN</td>\n",
       "      <td>ENSG00000156973</td>\n",
       "      <td>PDE6D</td>\n",
       "      <td>ENSMUSG00000026239</td>\n",
       "      <td>Pde6d</td>\n",
       "      <td>5147.0</td>\n",
       "      <td>PDE6D</td>\n",
       "      <td>18582.0</td>\n",
       "      <td>Pde6d</td>\n",
       "    </tr>\n",
       "    <tr>\n",
       "      <th>2</th>\n",
       "      <td>105854783</td>\n",
       "      <td>NUDT12</td>\n",
       "      <td>nudix hydrolase 12</td>\n",
       "      <td>protein-coding</td>\n",
       "      <td>ortholog_one2one</td>\n",
       "      <td>ortholog_one2one</td>\n",
       "      <td>ortholog</td>\n",
       "      <td>ortholog</td>\n",
       "      <td>yes</td>\n",
       "      <td>yes</td>\n",
       "      <td>83594.0</td>\n",
       "      <td>NUDT12</td>\n",
       "      <td>67993.0</td>\n",
       "      <td>Nudt12</td>\n",
       "      <td>ENSMICG00000036782</td>\n",
       "      <td>NaN</td>\n",
       "      <td>NUDT12</td>\n",
       "      <td>NaN</td>\n",
       "      <td>ENSG00000112874</td>\n",
       "      <td>NaN</td>\n",
       "      <td>NUDT12</td>\n",
       "      <td>NaN</td>\n",
       "      <td>ENSMUSG00000024228</td>\n",
       "      <td>NaN</td>\n",
       "      <td>Nudt12</td>\n",
       "      <td>NaN</td>\n",
       "      <td>ENSG00000112874</td>\n",
       "      <td>NUDT12</td>\n",
       "      <td>ENSMUSG00000024228</td>\n",
       "      <td>Nudt12</td>\n",
       "      <td>83594.0</td>\n",
       "      <td>NUDT12</td>\n",
       "      <td>67993.0</td>\n",
       "      <td>Nudt12</td>\n",
       "    </tr>\n",
       "    <tr>\n",
       "      <th>3</th>\n",
       "      <td>105854790</td>\n",
       "      <td>PI15</td>\n",
       "      <td>peptidase inhibitor 15</td>\n",
       "      <td>protein-coding</td>\n",
       "      <td>ortholog_one2one</td>\n",
       "      <td>ortholog_one2one</td>\n",
       "      <td>ortholog</td>\n",
       "      <td>ortholog</td>\n",
       "      <td>yes</td>\n",
       "      <td>yes</td>\n",
       "      <td>51050.0</td>\n",
       "      <td>PI15</td>\n",
       "      <td>94227.0</td>\n",
       "      <td>Pi15</td>\n",
       "      <td>ENSMICG00000003386</td>\n",
       "      <td>NaN</td>\n",
       "      <td>PI15</td>\n",
       "      <td>NaN</td>\n",
       "      <td>ENSG00000137558</td>\n",
       "      <td>NaN</td>\n",
       "      <td>PI15</td>\n",
       "      <td>NaN</td>\n",
       "      <td>ENSMUSG00000067780</td>\n",
       "      <td>NaN</td>\n",
       "      <td>Pi15</td>\n",
       "      <td>NaN</td>\n",
       "      <td>ENSG00000137558</td>\n",
       "      <td>PI15</td>\n",
       "      <td>ENSMUSG00000067780</td>\n",
       "      <td>Pi15</td>\n",
       "      <td>51050.0</td>\n",
       "      <td>PI15</td>\n",
       "      <td>94227.0</td>\n",
       "      <td>Pi15</td>\n",
       "    </tr>\n",
       "    <tr>\n",
       "      <th>4</th>\n",
       "      <td>105854791</td>\n",
       "      <td>GDAP1</td>\n",
       "      <td>ganglioside induced differentiation associated...</td>\n",
       "      <td>protein-coding</td>\n",
       "      <td>ortholog_one2one</td>\n",
       "      <td>ortholog_one2one</td>\n",
       "      <td>ortholog</td>\n",
       "      <td>ortholog</td>\n",
       "      <td>yes</td>\n",
       "      <td>yes</td>\n",
       "      <td>54332.0</td>\n",
       "      <td>GDAP1</td>\n",
       "      <td>14545.0</td>\n",
       "      <td>Gdap1</td>\n",
       "      <td>ENSMICG00000026766</td>\n",
       "      <td>NaN</td>\n",
       "      <td>GDAP1</td>\n",
       "      <td>NaN</td>\n",
       "      <td>ENSG00000104381</td>\n",
       "      <td>NaN</td>\n",
       "      <td>GDAP1</td>\n",
       "      <td>NaN</td>\n",
       "      <td>ENSMUSG00000025777</td>\n",
       "      <td>NaN</td>\n",
       "      <td>Gdap1</td>\n",
       "      <td>NaN</td>\n",
       "      <td>ENSG00000104381</td>\n",
       "      <td>GDAP1</td>\n",
       "      <td>ENSMUSG00000025777</td>\n",
       "      <td>Gdap1</td>\n",
       "      <td>54332.0</td>\n",
       "      <td>GDAP1</td>\n",
       "      <td>14545.0</td>\n",
       "      <td>Gdap1</td>\n",
       "    </tr>\n",
       "    <tr>\n",
       "      <th>5</th>\n",
       "      <td>105854792</td>\n",
       "      <td>JPH1</td>\n",
       "      <td>junctophilin 1</td>\n",
       "      <td>protein-coding</td>\n",
       "      <td>ortholog_one2one</td>\n",
       "      <td>ortholog_one2one</td>\n",
       "      <td>ortholog</td>\n",
       "      <td>ortholog</td>\n",
       "      <td>yes</td>\n",
       "      <td>yes</td>\n",
       "      <td>56704.0</td>\n",
       "      <td>JPH1</td>\n",
       "      <td>57339.0</td>\n",
       "      <td>Jph1</td>\n",
       "      <td>ENSMICG00000000667</td>\n",
       "      <td>NaN</td>\n",
       "      <td>JPH1</td>\n",
       "      <td>NaN</td>\n",
       "      <td>ENSG00000104369</td>\n",
       "      <td>NaN</td>\n",
       "      <td>JPH1</td>\n",
       "      <td>NaN</td>\n",
       "      <td>ENSMUSG00000042686</td>\n",
       "      <td>NaN</td>\n",
       "      <td>Jph1</td>\n",
       "      <td>NaN</td>\n",
       "      <td>ENSG00000104369</td>\n",
       "      <td>JPH1</td>\n",
       "      <td>ENSMUSG00000042686</td>\n",
       "      <td>Jph1</td>\n",
       "      <td>56704.0</td>\n",
       "      <td>JPH1</td>\n",
       "      <td>57339.0</td>\n",
       "      <td>Jph1</td>\n",
       "    </tr>\n",
       "  </tbody>\n",
       "</table>\n",
       "</div>"
      ],
      "text/plain": [
       "   NCBI_lemur_geneID NCBI_lemur_geneName  \\\n",
       "1          105854774               PDE6D   \n",
       "2          105854783              NUDT12   \n",
       "3          105854790                PI15   \n",
       "4          105854791               GDAP1   \n",
       "5          105854792                JPH1   \n",
       "\n",
       "                          NCBI_lemur_geneDescription NCBI_lemur_geneType  \\\n",
       "1                               phosphodiesterase 6D      protein-coding   \n",
       "2                                 nudix hydrolase 12      protein-coding   \n",
       "3                             peptidase inhibitor 15      protein-coding   \n",
       "4  ganglioside induced differentiation associated...      protein-coding   \n",
       "5                                     junctophilin 1      protein-coding   \n",
       "\n",
       "  Ensembl_human_homology Ensembl_mouse_homology NCBI_human_homology  \\\n",
       "1       ortholog_one2one       ortholog_one2one            ortholog   \n",
       "2       ortholog_one2one       ortholog_one2one            ortholog   \n",
       "3       ortholog_one2one       ortholog_one2one            ortholog   \n",
       "4       ortholog_one2one       ortholog_one2one            ortholog   \n",
       "5       ortholog_one2one       ortholog_one2one            ortholog   \n",
       "\n",
       "  NCBI_mouse_homology any_mouse_homology any_human_homology  \\\n",
       "1            ortholog                yes                yes   \n",
       "2            ortholog                yes                yes   \n",
       "3            ortholog                yes                yes   \n",
       "4            ortholog                yes                yes   \n",
       "5            ortholog                yes                yes   \n",
       "\n",
       "   NCBI_human_geneID_1 NCBI_human_geneName_1  NCBI_mouse_geneID_1  \\\n",
       "1               5147.0                 PDE6D              18582.0   \n",
       "2              83594.0                NUDT12              67993.0   \n",
       "3              51050.0                  PI15              94227.0   \n",
       "4              54332.0                 GDAP1              14545.0   \n",
       "5              56704.0                  JPH1              57339.0   \n",
       "\n",
       "  NCBI_mouse_geneName_1 Ensembl_lemur_geneID_1 Ensembl_lemur_geneID_2  \\\n",
       "1                 Pde6d     ENSMICG00000032098                    NaN   \n",
       "2                Nudt12     ENSMICG00000036782                    NaN   \n",
       "3                  Pi15     ENSMICG00000003386                    NaN   \n",
       "4                 Gdap1     ENSMICG00000026766                    NaN   \n",
       "5                  Jph1     ENSMICG00000000667                    NaN   \n",
       "\n",
       "  Ensembl_lemur_geneName_1 Ensembl_lemur_geneName_2 Ensembl_human_geneID_1  \\\n",
       "1                    PDE6D                      NaN        ENSG00000156973   \n",
       "2                   NUDT12                      NaN        ENSG00000112874   \n",
       "3                     PI15                      NaN        ENSG00000137558   \n",
       "4                    GDAP1                      NaN        ENSG00000104381   \n",
       "5                     JPH1                      NaN        ENSG00000104369   \n",
       "\n",
       "  Ensembl_human_geneID_2 Ensembl_human_geneName_1 Ensembl_human_geneName_2  \\\n",
       "1                    NaN                    PDE6D                      NaN   \n",
       "2                    NaN                   NUDT12                      NaN   \n",
       "3                    NaN                     PI15                      NaN   \n",
       "4                    NaN                    GDAP1                      NaN   \n",
       "5                    NaN                     JPH1                      NaN   \n",
       "\n",
       "  Ensembl_mouse_geneID_1 Ensembl_mouse_geneID_2 Ensembl_mouse_geneName_1  \\\n",
       "1     ENSMUSG00000026239                    NaN                    Pde6d   \n",
       "2     ENSMUSG00000024228                    NaN                   Nudt12   \n",
       "3     ENSMUSG00000067780                    NaN                     Pi15   \n",
       "4     ENSMUSG00000025777                    NaN                    Gdap1   \n",
       "5     ENSMUSG00000042686                    NaN                     Jph1   \n",
       "\n",
       "  Ensembl_mouse_geneName_2 Ensembl_human_geneID_AGG  \\\n",
       "1                      NaN          ENSG00000156973   \n",
       "2                      NaN          ENSG00000112874   \n",
       "3                      NaN          ENSG00000137558   \n",
       "4                      NaN          ENSG00000104381   \n",
       "5                      NaN          ENSG00000104369   \n",
       "\n",
       "  Ensembl_human_geneName_AGG Ensembl_mouse_geneID_AGG  \\\n",
       "1                      PDE6D       ENSMUSG00000026239   \n",
       "2                     NUDT12       ENSMUSG00000024228   \n",
       "3                       PI15       ENSMUSG00000067780   \n",
       "4                      GDAP1       ENSMUSG00000025777   \n",
       "5                       JPH1       ENSMUSG00000042686   \n",
       "\n",
       "  Ensembl_mouse_geneName_AGG  NCBI_human_geneID_AGG NCBI_human_geneName_AGG  \\\n",
       "1                      Pde6d                 5147.0                   PDE6D   \n",
       "2                     Nudt12                83594.0                  NUDT12   \n",
       "3                       Pi15                51050.0                    PI15   \n",
       "4                      Gdap1                54332.0                   GDAP1   \n",
       "5                       Jph1                56704.0                    JPH1   \n",
       "\n",
       "   NCBI_mouse_geneID_AGG NCBI_mouse_geneName_AGG  \n",
       "1                18582.0                   Pde6d  \n",
       "2                67993.0                  Nudt12  \n",
       "3                94227.0                    Pi15  \n",
       "4                14545.0                   Gdap1  \n",
       "5                57339.0                    Jph1  "
      ]
     },
     "execution_count": 66,
     "metadata": {},
     "output_type": "execute_result"
    }
   ],
   "source": [
    "gene_orthologies = pd.read_csv(f\"{orthologous_genes_folder}/Ensembl_NCBI_MGI_homology/NCBI_lemur_homologs_summary_one2one.csv\", index_col=0)\n",
    "print(gene_orthologies.shape)\n",
    "gene_orthologies.head()"
   ]
  },
  {
   "cell_type": "code",
   "execution_count": 67,
   "metadata": {},
   "outputs": [
    {
     "name": "stdout",
     "output_type": "stream",
     "text": [
      "(15815, 3)\n"
     ]
    },
    {
     "data": {
      "text/html": [
       "<div>\n",
       "<style scoped>\n",
       "    .dataframe tbody tr th:only-of-type {\n",
       "        vertical-align: middle;\n",
       "    }\n",
       "\n",
       "    .dataframe tbody tr th {\n",
       "        vertical-align: top;\n",
       "    }\n",
       "\n",
       "    .dataframe thead th {\n",
       "        text-align: right;\n",
       "    }\n",
       "</style>\n",
       "<table border=\"1\" class=\"dataframe\">\n",
       "  <thead>\n",
       "    <tr style=\"text-align: right;\">\n",
       "      <th></th>\n",
       "      <th>NCBI_lemur_geneName</th>\n",
       "      <th>NCBI_human_geneName_AGG</th>\n",
       "      <th>NCBI_mouse_geneName_AGG</th>\n",
       "    </tr>\n",
       "  </thead>\n",
       "  <tbody>\n",
       "    <tr>\n",
       "      <th>1</th>\n",
       "      <td>PDE6D</td>\n",
       "      <td>PDE6D</td>\n",
       "      <td>Pde6d</td>\n",
       "    </tr>\n",
       "    <tr>\n",
       "      <th>2</th>\n",
       "      <td>NUDT12</td>\n",
       "      <td>NUDT12</td>\n",
       "      <td>Nudt12</td>\n",
       "    </tr>\n",
       "    <tr>\n",
       "      <th>3</th>\n",
       "      <td>PI15</td>\n",
       "      <td>PI15</td>\n",
       "      <td>Pi15</td>\n",
       "    </tr>\n",
       "    <tr>\n",
       "      <th>4</th>\n",
       "      <td>GDAP1</td>\n",
       "      <td>GDAP1</td>\n",
       "      <td>Gdap1</td>\n",
       "    </tr>\n",
       "    <tr>\n",
       "      <th>5</th>\n",
       "      <td>JPH1</td>\n",
       "      <td>JPH1</td>\n",
       "      <td>Jph1</td>\n",
       "    </tr>\n",
       "  </tbody>\n",
       "</table>\n",
       "</div>"
      ],
      "text/plain": [
       "  NCBI_lemur_geneName NCBI_human_geneName_AGG NCBI_mouse_geneName_AGG\n",
       "1               PDE6D                   PDE6D                   Pde6d\n",
       "2              NUDT12                  NUDT12                  Nudt12\n",
       "3                PI15                    PI15                    Pi15\n",
       "4               GDAP1                   GDAP1                   Gdap1\n",
       "5                JPH1                    JPH1                    Jph1"
      ]
     },
     "execution_count": 67,
     "metadata": {},
     "output_type": "execute_result"
    }
   ],
   "source": [
    "gene_orthologies_gene_names = gene_orthologies[['NCBI_lemur_geneName', 'NCBI_human_geneName_AGG', 'NCBI_mouse_geneName_AGG']]\n",
    "print(gene_orthologies_gene_names.shape)\n",
    "gene_orthologies_gene_names.head()"
   ]
  },
  {
   "cell_type": "code",
   "execution_count": 68,
   "metadata": {},
   "outputs": [
    {
     "data": {
      "text/html": [
       "<div>\n",
       "<style scoped>\n",
       "    .dataframe tbody tr th:only-of-type {\n",
       "        vertical-align: middle;\n",
       "    }\n",
       "\n",
       "    .dataframe tbody tr th {\n",
       "        vertical-align: top;\n",
       "    }\n",
       "\n",
       "    .dataframe thead th {\n",
       "        text-align: right;\n",
       "    }\n",
       "</style>\n",
       "<table border=\"1\" class=\"dataframe\">\n",
       "  <thead>\n",
       "    <tr style=\"text-align: right;\">\n",
       "      <th></th>\n",
       "      <th>NCBI_lemur_geneName</th>\n",
       "      <th>NCBI_human_geneName_AGG</th>\n",
       "      <th>NCBI_mouse_geneName_AGG</th>\n",
       "    </tr>\n",
       "  </thead>\n",
       "  <tbody>\n",
       "    <tr>\n",
       "      <th>5740</th>\n",
       "      <td>DNAH17</td>\n",
       "      <td>DNAH17</td>\n",
       "      <td>Dnah17</td>\n",
       "    </tr>\n",
       "    <tr>\n",
       "      <th>14803</th>\n",
       "      <td>LBH</td>\n",
       "      <td>LBH</td>\n",
       "      <td>Lbh</td>\n",
       "    </tr>\n",
       "    <tr>\n",
       "      <th>7240</th>\n",
       "      <td>TNFSF9</td>\n",
       "      <td>TNFSF9</td>\n",
       "      <td>Tnfsf9</td>\n",
       "    </tr>\n",
       "    <tr>\n",
       "      <th>5139</th>\n",
       "      <td>VPS45</td>\n",
       "      <td>VPS45</td>\n",
       "      <td>Vps45</td>\n",
       "    </tr>\n",
       "    <tr>\n",
       "      <th>14070</th>\n",
       "      <td>ZFAT</td>\n",
       "      <td>ZFAT</td>\n",
       "      <td>Zfat</td>\n",
       "    </tr>\n",
       "    <tr>\n",
       "      <th>13721</th>\n",
       "      <td>FRG1</td>\n",
       "      <td>FRG1</td>\n",
       "      <td>Frg1</td>\n",
       "    </tr>\n",
       "    <tr>\n",
       "      <th>1480</th>\n",
       "      <td>SS18</td>\n",
       "      <td>SS18</td>\n",
       "      <td>Ss18</td>\n",
       "    </tr>\n",
       "    <tr>\n",
       "      <th>14455</th>\n",
       "      <td>TXNDC9</td>\n",
       "      <td>TXNDC9</td>\n",
       "      <td>Txndc9</td>\n",
       "    </tr>\n",
       "    <tr>\n",
       "      <th>38</th>\n",
       "      <td>SCAMP2</td>\n",
       "      <td>SCAMP2</td>\n",
       "      <td>Scamp2</td>\n",
       "    </tr>\n",
       "    <tr>\n",
       "      <th>5232</th>\n",
       "      <td>RPL18</td>\n",
       "      <td>RPL18</td>\n",
       "      <td>Rpl18</td>\n",
       "    </tr>\n",
       "  </tbody>\n",
       "</table>\n",
       "</div>"
      ],
      "text/plain": [
       "      NCBI_lemur_geneName NCBI_human_geneName_AGG NCBI_mouse_geneName_AGG\n",
       "5740               DNAH17                  DNAH17                  Dnah17\n",
       "14803                 LBH                     LBH                     Lbh\n",
       "7240               TNFSF9                  TNFSF9                  Tnfsf9\n",
       "5139                VPS45                   VPS45                   Vps45\n",
       "14070                ZFAT                    ZFAT                    Zfat\n",
       "13721                FRG1                    FRG1                    Frg1\n",
       "1480                 SS18                    SS18                    Ss18\n",
       "14455              TXNDC9                  TXNDC9                  Txndc9\n",
       "38                 SCAMP2                  SCAMP2                  Scamp2\n",
       "5232                RPL18                   RPL18                   Rpl18"
      ]
     },
     "execution_count": 68,
     "metadata": {},
     "output_type": "execute_result"
    }
   ],
   "source": [
    "gene_orthologies_gene_names.sample(10)"
   ]
  },
  {
   "cell_type": "markdown",
   "metadata": {
    "persistent_id": "7221d326-56ed-402b-8608-aa84128fcd87"
   },
   "source": [
    "## Filter for only 1:1 orthologs across all three species"
   ]
  },
  {
   "cell_type": "code",
   "execution_count": 69,
   "metadata": {},
   "outputs": [
    {
     "name": "stdout",
     "output_type": "stream",
     "text": [
      "(15810, 3)\n"
     ]
    },
    {
     "data": {
      "text/html": [
       "<div>\n",
       "<style scoped>\n",
       "    .dataframe tbody tr th:only-of-type {\n",
       "        vertical-align: middle;\n",
       "    }\n",
       "\n",
       "    .dataframe tbody tr th {\n",
       "        vertical-align: top;\n",
       "    }\n",
       "\n",
       "    .dataframe thead th {\n",
       "        text-align: right;\n",
       "    }\n",
       "</style>\n",
       "<table border=\"1\" class=\"dataframe\">\n",
       "  <thead>\n",
       "    <tr style=\"text-align: right;\">\n",
       "      <th></th>\n",
       "      <th>NCBI_lemur_geneName</th>\n",
       "      <th>NCBI_human_geneName_AGG</th>\n",
       "      <th>NCBI_mouse_geneName_AGG</th>\n",
       "    </tr>\n",
       "  </thead>\n",
       "  <tbody>\n",
       "    <tr>\n",
       "      <th>1</th>\n",
       "      <td>PDE6D</td>\n",
       "      <td>PDE6D</td>\n",
       "      <td>Pde6d</td>\n",
       "    </tr>\n",
       "    <tr>\n",
       "      <th>2</th>\n",
       "      <td>NUDT12</td>\n",
       "      <td>NUDT12</td>\n",
       "      <td>Nudt12</td>\n",
       "    </tr>\n",
       "    <tr>\n",
       "      <th>3</th>\n",
       "      <td>PI15</td>\n",
       "      <td>PI15</td>\n",
       "      <td>Pi15</td>\n",
       "    </tr>\n",
       "    <tr>\n",
       "      <th>4</th>\n",
       "      <td>GDAP1</td>\n",
       "      <td>GDAP1</td>\n",
       "      <td>Gdap1</td>\n",
       "    </tr>\n",
       "    <tr>\n",
       "      <th>5</th>\n",
       "      <td>JPH1</td>\n",
       "      <td>JPH1</td>\n",
       "      <td>Jph1</td>\n",
       "    </tr>\n",
       "    <tr>\n",
       "      <th>...</th>\n",
       "      <td>...</td>\n",
       "      <td>...</td>\n",
       "      <td>...</td>\n",
       "    </tr>\n",
       "    <tr>\n",
       "      <th>15811</th>\n",
       "      <td>GNG10</td>\n",
       "      <td>GNG10</td>\n",
       "      <td>Gng10</td>\n",
       "    </tr>\n",
       "    <tr>\n",
       "      <th>15812</th>\n",
       "      <td>PRRT1B</td>\n",
       "      <td>PRRT1B</td>\n",
       "      <td>Gm13420</td>\n",
       "    </tr>\n",
       "    <tr>\n",
       "      <th>15813</th>\n",
       "      <td>TOMM7</td>\n",
       "      <td>TOMM7</td>\n",
       "      <td>Tomm7</td>\n",
       "    </tr>\n",
       "    <tr>\n",
       "      <th>15814</th>\n",
       "      <td>LOC109731319</td>\n",
       "      <td>COX7C</td>\n",
       "      <td>Cox7c</td>\n",
       "    </tr>\n",
       "    <tr>\n",
       "      <th>15815</th>\n",
       "      <td>LOC109731337</td>\n",
       "      <td>OR2B11</td>\n",
       "      <td>Olfr222</td>\n",
       "    </tr>\n",
       "  </tbody>\n",
       "</table>\n",
       "<p>15810 rows × 3 columns</p>\n",
       "</div>"
      ],
      "text/plain": [
       "      NCBI_lemur_geneName NCBI_human_geneName_AGG NCBI_mouse_geneName_AGG\n",
       "1                   PDE6D                   PDE6D                   Pde6d\n",
       "2                  NUDT12                  NUDT12                  Nudt12\n",
       "3                    PI15                    PI15                    Pi15\n",
       "4                   GDAP1                   GDAP1                   Gdap1\n",
       "5                    JPH1                    JPH1                    Jph1\n",
       "...                   ...                     ...                     ...\n",
       "15811               GNG10                   GNG10                   Gng10\n",
       "15812              PRRT1B                  PRRT1B                 Gm13420\n",
       "15813               TOMM7                   TOMM7                   Tomm7\n",
       "15814        LOC109731319                   COX7C                   Cox7c\n",
       "15815        LOC109731337                  OR2B11                 Olfr222\n",
       "\n",
       "[15810 rows x 3 columns]"
      ]
     },
     "execution_count": 69,
     "metadata": {},
     "output_type": "execute_result"
    }
   ],
   "source": [
    "gene_orthologies_gene_names_dropna = gene_orthologies_gene_names.dropna()\n",
    "print(gene_orthologies_gene_names_dropna.shape)\n",
    "gene_orthologies_gene_names_dropna"
   ]
  },
  {
   "cell_type": "code",
   "execution_count": 70,
   "metadata": {},
   "outputs": [
    {
     "data": {
      "text/html": [
       "<div>\n",
       "<style scoped>\n",
       "    .dataframe tbody tr th:only-of-type {\n",
       "        vertical-align: middle;\n",
       "    }\n",
       "\n",
       "    .dataframe tbody tr th {\n",
       "        vertical-align: top;\n",
       "    }\n",
       "\n",
       "    .dataframe thead th {\n",
       "        text-align: right;\n",
       "    }\n",
       "</style>\n",
       "<table border=\"1\" class=\"dataframe\">\n",
       "  <thead>\n",
       "    <tr style=\"text-align: right;\">\n",
       "      <th></th>\n",
       "      <th>NCBI_lemur_geneName</th>\n",
       "      <th>NCBI_human_geneName_AGG</th>\n",
       "      <th>NCBI_mouse_geneName_AGG</th>\n",
       "    </tr>\n",
       "  </thead>\n",
       "  <tbody>\n",
       "    <tr>\n",
       "      <th>1</th>\n",
       "      <td>PDE6D</td>\n",
       "      <td>PDE6D</td>\n",
       "      <td>Pde6d</td>\n",
       "    </tr>\n",
       "    <tr>\n",
       "      <th>2</th>\n",
       "      <td>NUDT12</td>\n",
       "      <td>NUDT12</td>\n",
       "      <td>Nudt12</td>\n",
       "    </tr>\n",
       "    <tr>\n",
       "      <th>3</th>\n",
       "      <td>PI15</td>\n",
       "      <td>PI15</td>\n",
       "      <td>Pi15</td>\n",
       "    </tr>\n",
       "    <tr>\n",
       "      <th>4</th>\n",
       "      <td>GDAP1</td>\n",
       "      <td>GDAP1</td>\n",
       "      <td>Gdap1</td>\n",
       "    </tr>\n",
       "    <tr>\n",
       "      <th>5</th>\n",
       "      <td>JPH1</td>\n",
       "      <td>JPH1</td>\n",
       "      <td>Jph1</td>\n",
       "    </tr>\n",
       "    <tr>\n",
       "      <th>...</th>\n",
       "      <td>...</td>\n",
       "      <td>...</td>\n",
       "      <td>...</td>\n",
       "    </tr>\n",
       "    <tr>\n",
       "      <th>15811</th>\n",
       "      <td>GNG10</td>\n",
       "      <td>GNG10</td>\n",
       "      <td>Gng10</td>\n",
       "    </tr>\n",
       "    <tr>\n",
       "      <th>15812</th>\n",
       "      <td>PRRT1B</td>\n",
       "      <td>PRRT1B</td>\n",
       "      <td>Gm13420</td>\n",
       "    </tr>\n",
       "    <tr>\n",
       "      <th>15813</th>\n",
       "      <td>TOMM7</td>\n",
       "      <td>TOMM7</td>\n",
       "      <td>Tomm7</td>\n",
       "    </tr>\n",
       "    <tr>\n",
       "      <th>15814</th>\n",
       "      <td>LOC109731319</td>\n",
       "      <td>COX7C</td>\n",
       "      <td>Cox7c</td>\n",
       "    </tr>\n",
       "    <tr>\n",
       "      <th>15815</th>\n",
       "      <td>LOC109731337</td>\n",
       "      <td>OR2B11</td>\n",
       "      <td>Olfr222</td>\n",
       "    </tr>\n",
       "  </tbody>\n",
       "</table>\n",
       "<p>15810 rows × 3 columns</p>\n",
       "</div>"
      ],
      "text/plain": [
       "      NCBI_lemur_geneName NCBI_human_geneName_AGG NCBI_mouse_geneName_AGG\n",
       "1                   PDE6D                   PDE6D                   Pde6d\n",
       "2                  NUDT12                  NUDT12                  Nudt12\n",
       "3                    PI15                    PI15                    Pi15\n",
       "4                   GDAP1                   GDAP1                   Gdap1\n",
       "5                    JPH1                    JPH1                    Jph1\n",
       "...                   ...                     ...                     ...\n",
       "15811               GNG10                   GNG10                   Gng10\n",
       "15812              PRRT1B                  PRRT1B                 Gm13420\n",
       "15813               TOMM7                   TOMM7                   Tomm7\n",
       "15814        LOC109731319                   COX7C                   Cox7c\n",
       "15815        LOC109731337                  OR2B11                 Olfr222\n",
       "\n",
       "[15810 rows x 3 columns]"
      ]
     },
     "execution_count": 70,
     "metadata": {},
     "output_type": "execute_result"
    }
   ],
   "source": [
    "gene_orthologies_gene_names_dropna.drop_duplicates()"
   ]
  },
  {
   "cell_type": "markdown",
   "metadata": {},
   "source": [
    "### Find genes that appear only once in the column"
   ]
  },
  {
   "cell_type": "code",
   "execution_count": 71,
   "metadata": {},
   "outputs": [
    {
     "name": "stdout",
     "output_type": "stream",
     "text": [
      "--- NCBI_lemur_geneName ---\n",
      "(15810, 3)\n",
      "--- NCBI_human_geneName_AGG ---\n",
      "(15527, 3)\n",
      "--- NCBI_mouse_geneName_AGG ---\n",
      "(15515, 3)\n"
     ]
    }
   ],
   "source": [
    "\n",
    "\n",
    "gene_name_triplets = {}\n",
    "\n",
    "\n",
    "for col in gene_orthologies_gene_names_dropna:\n",
    "    print(f'--- {col} ---')\n",
    "    df = gene_orthologies_gene_names_dropna.groupby(col).filter(lambda x: len(x) == 1)\n",
    "    print(df.shape)\n",
    "    gene_name_triplets[col] = set(map(tuple, df.values))"
   ]
  },
  {
   "cell_type": "code",
   "execution_count": 72,
   "metadata": {},
   "outputs": [
    {
     "data": {
      "text/html": [
       "<div>\n",
       "<style scoped>\n",
       "    .dataframe tbody tr th:only-of-type {\n",
       "        vertical-align: middle;\n",
       "    }\n",
       "\n",
       "    .dataframe tbody tr th {\n",
       "        vertical-align: top;\n",
       "    }\n",
       "\n",
       "    .dataframe thead th {\n",
       "        text-align: right;\n",
       "    }\n",
       "</style>\n",
       "<table border=\"1\" class=\"dataframe\">\n",
       "  <thead>\n",
       "    <tr style=\"text-align: right;\">\n",
       "      <th></th>\n",
       "      <th>NCBI_lemur_geneName</th>\n",
       "      <th>NCBI_human_geneName_AGG</th>\n",
       "      <th>NCBI_mouse_geneName_AGG</th>\n",
       "    </tr>\n",
       "  </thead>\n",
       "  <tbody>\n",
       "    <tr>\n",
       "      <th>1</th>\n",
       "      <td>PDE6D</td>\n",
       "      <td>PDE6D</td>\n",
       "      <td>Pde6d</td>\n",
       "    </tr>\n",
       "    <tr>\n",
       "      <th>2</th>\n",
       "      <td>NUDT12</td>\n",
       "      <td>NUDT12</td>\n",
       "      <td>Nudt12</td>\n",
       "    </tr>\n",
       "    <tr>\n",
       "      <th>3</th>\n",
       "      <td>PI15</td>\n",
       "      <td>PI15</td>\n",
       "      <td>Pi15</td>\n",
       "    </tr>\n",
       "    <tr>\n",
       "      <th>4</th>\n",
       "      <td>GDAP1</td>\n",
       "      <td>GDAP1</td>\n",
       "      <td>Gdap1</td>\n",
       "    </tr>\n",
       "    <tr>\n",
       "      <th>5</th>\n",
       "      <td>JPH1</td>\n",
       "      <td>JPH1</td>\n",
       "      <td>Jph1</td>\n",
       "    </tr>\n",
       "  </tbody>\n",
       "</table>\n",
       "</div>"
      ],
      "text/plain": [
       "  NCBI_lemur_geneName NCBI_human_geneName_AGG NCBI_mouse_geneName_AGG\n",
       "1               PDE6D                   PDE6D                   Pde6d\n",
       "2              NUDT12                  NUDT12                  Nudt12\n",
       "3                PI15                    PI15                    Pi15\n",
       "4               GDAP1                   GDAP1                   Gdap1\n",
       "5                JPH1                    JPH1                    Jph1"
      ]
     },
     "execution_count": 72,
     "metadata": {},
     "output_type": "execute_result"
    }
   ],
   "source": [
    "df.head()"
   ]
  },
  {
   "cell_type": "markdown",
   "metadata": {},
   "source": [
    "### Use human-lemur-mouse gene name triplets that appear in every perspective\n",
    "\n",
    "Meaning, these genes name triplets were found if you filter for only genes that appear once in every species' column"
   ]
  },
  {
   "cell_type": "code",
   "execution_count": 73,
   "metadata": {},
   "outputs": [
    {
     "name": "stdout",
     "output_type": "stream",
     "text": [
      "(15514, 3)\n"
     ]
    },
    {
     "data": {
      "text/html": [
       "<div>\n",
       "<style scoped>\n",
       "    .dataframe tbody tr th:only-of-type {\n",
       "        vertical-align: middle;\n",
       "    }\n",
       "\n",
       "    .dataframe tbody tr th {\n",
       "        vertical-align: top;\n",
       "    }\n",
       "\n",
       "    .dataframe thead th {\n",
       "        text-align: right;\n",
       "    }\n",
       "</style>\n",
       "<table border=\"1\" class=\"dataframe\">\n",
       "  <thead>\n",
       "    <tr style=\"text-align: right;\">\n",
       "      <th></th>\n",
       "      <th>0</th>\n",
       "      <th>1</th>\n",
       "      <th>2</th>\n",
       "    </tr>\n",
       "  </thead>\n",
       "  <tbody>\n",
       "    <tr>\n",
       "      <th>0</th>\n",
       "      <td>SH2B1</td>\n",
       "      <td>SH2B1</td>\n",
       "      <td>Sh2b1</td>\n",
       "    </tr>\n",
       "    <tr>\n",
       "      <th>1</th>\n",
       "      <td>FER1L5</td>\n",
       "      <td>FER1L5</td>\n",
       "      <td>Fer1l5</td>\n",
       "    </tr>\n",
       "    <tr>\n",
       "      <th>2</th>\n",
       "      <td>LOC105874433</td>\n",
       "      <td>CYP8B1</td>\n",
       "      <td>Cyp8b1</td>\n",
       "    </tr>\n",
       "    <tr>\n",
       "      <th>3</th>\n",
       "      <td>HOXC8</td>\n",
       "      <td>HOXC8</td>\n",
       "      <td>Hoxc8</td>\n",
       "    </tr>\n",
       "    <tr>\n",
       "      <th>4</th>\n",
       "      <td>CDX2</td>\n",
       "      <td>CDX2</td>\n",
       "      <td>Cdx2</td>\n",
       "    </tr>\n",
       "  </tbody>\n",
       "</table>\n",
       "</div>"
      ],
      "text/plain": [
       "              0       1       2\n",
       "0         SH2B1   SH2B1   Sh2b1\n",
       "1        FER1L5  FER1L5  Fer1l5\n",
       "2  LOC105874433  CYP8B1  Cyp8b1\n",
       "3         HOXC8   HOXC8   Hoxc8\n",
       "4          CDX2    CDX2    Cdx2"
      ]
     },
     "execution_count": 73,
     "metadata": {},
     "output_type": "execute_result"
    }
   ],
   "source": [
    "one2ones_triplets = gene_name_triplets['NCBI_lemur_geneName'] & gene_name_triplets['NCBI_human_geneName_AGG'] & gene_name_triplets['NCBI_mouse_geneName_AGG']\n",
    "one2ones_df = pd.DataFrame(one2ones_triplets)\n",
    "print(one2ones_df.shape)\n",
    "one2ones_df.head()"
   ]
  },
  {
   "cell_type": "markdown",
   "metadata": {},
   "source": [
    "## Make the one2one gene orthology dataframe"
   ]
  },
  {
   "cell_type": "code",
   "execution_count": 74,
   "metadata": {},
   "outputs": [
    {
     "name": "stdout",
     "output_type": "stream",
     "text": [
      "(15514, 3)\n"
     ]
    },
    {
     "data": {
      "text/html": [
       "<div>\n",
       "<style scoped>\n",
       "    .dataframe tbody tr th:only-of-type {\n",
       "        vertical-align: middle;\n",
       "    }\n",
       "\n",
       "    .dataframe tbody tr th {\n",
       "        vertical-align: top;\n",
       "    }\n",
       "\n",
       "    .dataframe thead th {\n",
       "        text-align: right;\n",
       "    }\n",
       "</style>\n",
       "<table border=\"1\" class=\"dataframe\">\n",
       "  <thead>\n",
       "    <tr style=\"text-align: right;\">\n",
       "      <th></th>\n",
       "      <th>mouse_lemur__gene_name</th>\n",
       "      <th>human__gene_name</th>\n",
       "      <th>mouse__gene_name</th>\n",
       "    </tr>\n",
       "  </thead>\n",
       "  <tbody>\n",
       "    <tr>\n",
       "      <th>0</th>\n",
       "      <td>SH2B1</td>\n",
       "      <td>SH2B1</td>\n",
       "      <td>Sh2b1</td>\n",
       "    </tr>\n",
       "    <tr>\n",
       "      <th>1</th>\n",
       "      <td>FER1L5</td>\n",
       "      <td>FER1L5</td>\n",
       "      <td>Fer1l5</td>\n",
       "    </tr>\n",
       "    <tr>\n",
       "      <th>2</th>\n",
       "      <td>LOC105874433</td>\n",
       "      <td>CYP8B1</td>\n",
       "      <td>Cyp8b1</td>\n",
       "    </tr>\n",
       "    <tr>\n",
       "      <th>3</th>\n",
       "      <td>HOXC8</td>\n",
       "      <td>HOXC8</td>\n",
       "      <td>Hoxc8</td>\n",
       "    </tr>\n",
       "    <tr>\n",
       "      <th>4</th>\n",
       "      <td>CDX2</td>\n",
       "      <td>CDX2</td>\n",
       "      <td>Cdx2</td>\n",
       "    </tr>\n",
       "  </tbody>\n",
       "</table>\n",
       "</div>"
      ],
      "text/plain": [
       "  mouse_lemur__gene_name human__gene_name mouse__gene_name\n",
       "0                  SH2B1            SH2B1            Sh2b1\n",
       "1                 FER1L5           FER1L5           Fer1l5\n",
       "2           LOC105874433           CYP8B1           Cyp8b1\n",
       "3                  HOXC8            HOXC8            Hoxc8\n",
       "4                   CDX2             CDX2             Cdx2"
      ]
     },
     "execution_count": 74,
     "metadata": {},
     "output_type": "execute_result"
    }
   ],
   "source": [
    "renamer = {0: 'mouse_lemur__gene_name', 1: 'human__gene_name', 2: 'mouse__gene_name'}\n",
    "gene_orthologies_one2one_all_three = one2ones_df.rename(columns=renamer)\n",
    "print(gene_orthologies_one2one_all_three.shape)\n",
    "gene_orthologies_one2one_all_three.head()"
   ]
  },
  {
   "cell_type": "code",
   "execution_count": 75,
   "metadata": {},
   "outputs": [
    {
     "data": {
      "text/html": [
       "<div>\n",
       "<style scoped>\n",
       "    .dataframe tbody tr th:only-of-type {\n",
       "        vertical-align: middle;\n",
       "    }\n",
       "\n",
       "    .dataframe tbody tr th {\n",
       "        vertical-align: top;\n",
       "    }\n",
       "\n",
       "    .dataframe thead th {\n",
       "        text-align: right;\n",
       "    }\n",
       "</style>\n",
       "<table border=\"1\" class=\"dataframe\">\n",
       "  <thead>\n",
       "    <tr style=\"text-align: right;\">\n",
       "      <th></th>\n",
       "      <th>mouse_lemur__gene_name</th>\n",
       "      <th>human__gene_name</th>\n",
       "      <th>mouse__gene_name</th>\n",
       "    </tr>\n",
       "  </thead>\n",
       "  <tbody>\n",
       "    <tr>\n",
       "      <th>4239</th>\n",
       "      <td>ACE2</td>\n",
       "      <td>ACE2</td>\n",
       "      <td>Ace2</td>\n",
       "    </tr>\n",
       "  </tbody>\n",
       "</table>\n",
       "</div>"
      ],
      "text/plain": [
       "     mouse_lemur__gene_name human__gene_name mouse__gene_name\n",
       "4239                   ACE2             ACE2             Ace2"
      ]
     },
     "execution_count": 75,
     "metadata": {},
     "output_type": "execute_result"
    }
   ],
   "source": [
    "gene_orthologies_one2one_all_three.query('human__gene_name == \"ACE2\"')"
   ]
  },
  {
   "cell_type": "code",
   "execution_count": 76,
   "metadata": {},
   "outputs": [
    {
     "data": {
      "text/html": [
       "<div>\n",
       "<style scoped>\n",
       "    .dataframe tbody tr th:only-of-type {\n",
       "        vertical-align: middle;\n",
       "    }\n",
       "\n",
       "    .dataframe tbody tr th {\n",
       "        vertical-align: top;\n",
       "    }\n",
       "\n",
       "    .dataframe thead th {\n",
       "        text-align: right;\n",
       "    }\n",
       "</style>\n",
       "<table border=\"1\" class=\"dataframe\">\n",
       "  <thead>\n",
       "    <tr style=\"text-align: right;\">\n",
       "      <th></th>\n",
       "      <th>mouse_lemur__gene_name</th>\n",
       "      <th>human__gene_name</th>\n",
       "      <th>mouse__gene_name</th>\n",
       "    </tr>\n",
       "  </thead>\n",
       "  <tbody>\n",
       "    <tr>\n",
       "      <th>4462</th>\n",
       "      <td>SLC9A3</td>\n",
       "      <td>SLC9A3</td>\n",
       "      <td>Slc9a3</td>\n",
       "    </tr>\n",
       "    <tr>\n",
       "      <th>7799</th>\n",
       "      <td>KRT1</td>\n",
       "      <td>KRT1</td>\n",
       "      <td>Krt1</td>\n",
       "    </tr>\n",
       "    <tr>\n",
       "      <th>9957</th>\n",
       "      <td>TBC1D2B</td>\n",
       "      <td>TBC1D2B</td>\n",
       "      <td>Tbc1d2b</td>\n",
       "    </tr>\n",
       "    <tr>\n",
       "      <th>5274</th>\n",
       "      <td>RCAN3</td>\n",
       "      <td>RCAN3</td>\n",
       "      <td>Rcan3</td>\n",
       "    </tr>\n",
       "    <tr>\n",
       "      <th>167</th>\n",
       "      <td>TP53</td>\n",
       "      <td>TP53</td>\n",
       "      <td>Trp53</td>\n",
       "    </tr>\n",
       "    <tr>\n",
       "      <th>2007</th>\n",
       "      <td>BID</td>\n",
       "      <td>BID</td>\n",
       "      <td>Bid</td>\n",
       "    </tr>\n",
       "    <tr>\n",
       "      <th>1129</th>\n",
       "      <td>SESN3</td>\n",
       "      <td>SESN3</td>\n",
       "      <td>Sesn3</td>\n",
       "    </tr>\n",
       "    <tr>\n",
       "      <th>1136</th>\n",
       "      <td>HNRNPC</td>\n",
       "      <td>HNRNPC</td>\n",
       "      <td>Hnrnpc</td>\n",
       "    </tr>\n",
       "    <tr>\n",
       "      <th>610</th>\n",
       "      <td>FLT3</td>\n",
       "      <td>FLT3</td>\n",
       "      <td>Flt3</td>\n",
       "    </tr>\n",
       "    <tr>\n",
       "      <th>10692</th>\n",
       "      <td>ZNF830</td>\n",
       "      <td>ZNF830</td>\n",
       "      <td>Zfp830</td>\n",
       "    </tr>\n",
       "  </tbody>\n",
       "</table>\n",
       "</div>"
      ],
      "text/plain": [
       "      mouse_lemur__gene_name human__gene_name mouse__gene_name\n",
       "4462                  SLC9A3           SLC9A3           Slc9a3\n",
       "7799                    KRT1             KRT1             Krt1\n",
       "9957                 TBC1D2B          TBC1D2B          Tbc1d2b\n",
       "5274                   RCAN3            RCAN3            Rcan3\n",
       "167                     TP53             TP53            Trp53\n",
       "2007                     BID              BID              Bid\n",
       "1129                   SESN3            SESN3            Sesn3\n",
       "1136                  HNRNPC           HNRNPC           Hnrnpc\n",
       "610                     FLT3             FLT3             Flt3\n",
       "10692                 ZNF830           ZNF830           Zfp830"
      ]
     },
     "execution_count": 76,
     "metadata": {},
     "output_type": "execute_result"
    }
   ],
   "source": [
    "gene_orthologies_one2one_all_three.sample(10, random_state=0)"
   ]
  },
  {
   "cell_type": "markdown",
   "metadata": {},
   "source": [
    "## Write to file!!"
   ]
  },
  {
   "cell_type": "code",
   "execution_count": 77,
   "metadata": {
    "execution_event_id": "d223073c-1715-4636-9984-833165bb6043",
    "last_executed_text": "gene_orthologies_one2one_all_three.to_csv(f\"{orthologous_genes_folder}/mouse-lemur_human_mouse__orthologs__gene_names__one2one.csv\")",
    "persistent_id": "fa27a190-1730-49db-a217-1426b7197d42"
   },
   "outputs": [],
   "source": [
    "gene_orthologies_one2one_all_three.to_csv(f\"{orthologous_genes_folder}/ncbi_mgi_ensembl__mouse-lemur_human_mouse__orthologs__gene_names__one2one.csv\")\n",
    "\n",
    "for d in outdirs:\n",
    "    gene_orthologies_one2one_all_three.to_csv(f\"{d}/ncbi_mgi_ensembl__mouse-lemur_human_mouse__orthologs__gene_names__one2one.csv\")"
   ]
  },
  {
   "cell_type": "markdown",
   "metadata": {},
   "source": [
    "# Mouse blood (Camille Ezran's dataset)"
   ]
  },
  {
   "cell_type": "code",
   "execution_count": 17,
   "metadata": {},
   "outputs": [],
   "source": [
    "h5ad = '/home/olga/data_lg/data_sm_copy/tabula-microcebus/data-objects/mouse_blood_ce.h5ad'\n",
    "\n",
    "ce_mouse_blood = scanpy.read(h5ad, cache=True)"
   ]
  },
  {
   "cell_type": "markdown",
   "metadata": {
    "persistent_id": "f0331463-ec71-4762-aa11-57c1b6497c98"
   },
   "source": [
    "## Subset on 1:1 orthologs"
   ]
  },
  {
   "cell_type": "code",
   "execution_count": 18,
   "metadata": {
    "execution_event_id": "83951908-bd33-4606-8876-ff1d38f71daf",
    "last_executed_text": "gene_mask = mouse.var.index.isin(gene_orthologies_one2one_all_three['mouse__gene_name'].values)\nprint(gene_mask.sum())\nmouse_one2one = mouse[:, gene_mask]\nmouse_one2one",
    "persistent_id": "30aa843b-5ce3-427b-bce4-5e5ee4cd909f"
   },
   "outputs": [
    {
     "name": "stdout",
     "output_type": "stream",
     "text": [
      "13632\n"
     ]
    },
    {
     "data": {
      "text/plain": [
       "View of AnnData object with n_obs × n_vars = 15989 × 13632\n",
       "    obs: 'n_genes', 'n_counts', 'channel', 'tissue', 'species', 'free_annotation', 'narrow_group', 'broad_group', 'compartment_group', 'individual', 'species_latin'"
      ]
     },
     "execution_count": 18,
     "metadata": {},
     "output_type": "execute_result"
    }
   ],
   "source": [
    "gene_mask = ce_mouse_blood.var.index.isin(\n",
    "    gene_orthologies_one2one_all_three[\"mouse__gene_name\"].values\n",
    ")\n",
    "print(gene_mask.sum())\n",
    "ce_mouse_blood_one2one = ce_mouse_blood[:, gene_mask]\n",
    "ce_mouse_blood_one2one"
   ]
  },
  {
   "cell_type": "markdown",
   "metadata": {
    "persistent_id": "54cefc47-e99e-4429-b0e1-239094bd62a9"
   },
   "source": [
    "## Use human gene names"
   ]
  },
  {
   "cell_type": "code",
   "execution_count": 19,
   "metadata": {
    "execution_event_id": "9e2ddb63-eb9a-48f6-a4fc-fef7b5e40d35",
    "last_executed_text": "mouse_one2one.var = mouse_one2one.var.merge(gene_orthologies_one2one_all_three, left_index=True, right_on='mouse__gene_name')\nprint(mouse_one2one.var.shape)\nmouse_one2one.var.head()",
    "persistent_id": "7609a93c-5057-426f-b0c4-3fdc455514d5"
   },
   "outputs": [
    {
     "name": "stdout",
     "output_type": "stream",
     "text": [
      "(13632, 3)\n"
     ]
    },
    {
     "data": {
      "text/html": [
       "<div>\n",
       "<style scoped>\n",
       "    .dataframe tbody tr th:only-of-type {\n",
       "        vertical-align: middle;\n",
       "    }\n",
       "\n",
       "    .dataframe tbody tr th {\n",
       "        vertical-align: top;\n",
       "    }\n",
       "\n",
       "    .dataframe thead th {\n",
       "        text-align: right;\n",
       "    }\n",
       "</style>\n",
       "<table border=\"1\" class=\"dataframe\">\n",
       "  <thead>\n",
       "    <tr style=\"text-align: right;\">\n",
       "      <th></th>\n",
       "      <th>mouse_lemur__gene_name</th>\n",
       "      <th>human__gene_name</th>\n",
       "      <th>mouse__gene_name</th>\n",
       "    </tr>\n",
       "  </thead>\n",
       "  <tbody>\n",
       "    <tr>\n",
       "      <th>1082</th>\n",
       "      <td>XKR4</td>\n",
       "      <td>XKR4</td>\n",
       "      <td>Xkr4</td>\n",
       "    </tr>\n",
       "    <tr>\n",
       "      <th>1597</th>\n",
       "      <td>SOX17</td>\n",
       "      <td>SOX17</td>\n",
       "      <td>Sox17</td>\n",
       "    </tr>\n",
       "    <tr>\n",
       "      <th>6446</th>\n",
       "      <td>MRPL15</td>\n",
       "      <td>MRPL15</td>\n",
       "      <td>Mrpl15</td>\n",
       "    </tr>\n",
       "    <tr>\n",
       "      <th>12891</th>\n",
       "      <td>LYPLA1</td>\n",
       "      <td>LYPLA1</td>\n",
       "      <td>Lypla1</td>\n",
       "    </tr>\n",
       "    <tr>\n",
       "      <th>8333</th>\n",
       "      <td>TCEA1</td>\n",
       "      <td>TCEA1</td>\n",
       "      <td>Tcea1</td>\n",
       "    </tr>\n",
       "  </tbody>\n",
       "</table>\n",
       "</div>"
      ],
      "text/plain": [
       "      mouse_lemur__gene_name human__gene_name mouse__gene_name\n",
       "1082                    XKR4             XKR4             Xkr4\n",
       "1597                   SOX17            SOX17            Sox17\n",
       "6446                  MRPL15           MRPL15           Mrpl15\n",
       "12891                 LYPLA1           LYPLA1           Lypla1\n",
       "8333                   TCEA1            TCEA1            Tcea1"
      ]
     },
     "execution_count": 19,
     "metadata": {},
     "output_type": "execute_result"
    }
   ],
   "source": [
    "ce_mouse_blood_one2one_new_var = ce_mouse_blood_one2one.var.merge(gene_orthologies_one2one_all_three, left_index=True, right_on='mouse__gene_name')\n",
    "print(ce_mouse_blood_one2one_new_var.shape)\n",
    "ce_mouse_blood_one2one_new_var.head()"
   ]
  },
  {
   "cell_type": "markdown",
   "metadata": {},
   "source": [
    "### Make new object with human gene names"
   ]
  },
  {
   "cell_type": "code",
   "execution_count": 20,
   "metadata": {},
   "outputs": [
    {
     "data": {
      "text/plain": [
       "AnnData object with n_obs × n_vars = 15989 × 13632\n",
       "    obs: 'n_genes', 'n_counts', 'channel', 'tissue', 'species', 'free_annotation', 'narrow_group', 'broad_group', 'compartment_group', 'individual', 'species_latin'"
      ]
     },
     "execution_count": 20,
     "metadata": {},
     "output_type": "execute_result"
    }
   ],
   "source": [
    "ce_mouse_blood_one2one_human_genes = ce_mouse_blood_one2one.copy()\n",
    "ce_mouse_blood_one2one_human_genes"
   ]
  },
  {
   "cell_type": "code",
   "execution_count": 21,
   "metadata": {
    "execution_event_id": "55eaad24-500b-4b19-93b8-f3aa14fc3f09",
    "last_executed_text": "mouse_one2one.var = mouse_one2one.var.set_index('human__gene_name')\nmouse_one2one.var.head()",
    "persistent_id": "6ea026ef-2c53-4d78-a1f8-24e94988220c"
   },
   "outputs": [
    {
     "data": {
      "text/html": [
       "<div>\n",
       "<style scoped>\n",
       "    .dataframe tbody tr th:only-of-type {\n",
       "        vertical-align: middle;\n",
       "    }\n",
       "\n",
       "    .dataframe tbody tr th {\n",
       "        vertical-align: top;\n",
       "    }\n",
       "\n",
       "    .dataframe thead th {\n",
       "        text-align: right;\n",
       "    }\n",
       "</style>\n",
       "<table border=\"1\" class=\"dataframe\">\n",
       "  <thead>\n",
       "    <tr style=\"text-align: right;\">\n",
       "      <th></th>\n",
       "      <th>mouse_lemur__gene_name</th>\n",
       "      <th>mouse__gene_name</th>\n",
       "    </tr>\n",
       "    <tr>\n",
       "      <th>human__gene_name</th>\n",
       "      <th></th>\n",
       "      <th></th>\n",
       "    </tr>\n",
       "  </thead>\n",
       "  <tbody>\n",
       "    <tr>\n",
       "      <th>XKR4</th>\n",
       "      <td>XKR4</td>\n",
       "      <td>Xkr4</td>\n",
       "    </tr>\n",
       "    <tr>\n",
       "      <th>SOX17</th>\n",
       "      <td>SOX17</td>\n",
       "      <td>Sox17</td>\n",
       "    </tr>\n",
       "    <tr>\n",
       "      <th>MRPL15</th>\n",
       "      <td>MRPL15</td>\n",
       "      <td>Mrpl15</td>\n",
       "    </tr>\n",
       "    <tr>\n",
       "      <th>LYPLA1</th>\n",
       "      <td>LYPLA1</td>\n",
       "      <td>Lypla1</td>\n",
       "    </tr>\n",
       "    <tr>\n",
       "      <th>TCEA1</th>\n",
       "      <td>TCEA1</td>\n",
       "      <td>Tcea1</td>\n",
       "    </tr>\n",
       "  </tbody>\n",
       "</table>\n",
       "</div>"
      ],
      "text/plain": [
       "                 mouse_lemur__gene_name mouse__gene_name\n",
       "human__gene_name                                        \n",
       "XKR4                               XKR4             Xkr4\n",
       "SOX17                             SOX17            Sox17\n",
       "MRPL15                           MRPL15           Mrpl15\n",
       "LYPLA1                           LYPLA1           Lypla1\n",
       "TCEA1                             TCEA1            Tcea1"
      ]
     },
     "execution_count": 21,
     "metadata": {},
     "output_type": "execute_result"
    }
   ],
   "source": [
    "ce_mouse_blood_one2one_human_genes.var = ce_mouse_blood_one2one_new_var.set_index('human__gene_name')\n",
    "ce_mouse_blood_one2one_human_genes.var.head()"
   ]
  },
  {
   "cell_type": "markdown",
   "metadata": {},
   "source": [
    "## Write mouse all tissues, 1:1 orthologs, human gene names to file"
   ]
  },
  {
   "cell_type": "markdown",
   "metadata": {},
   "source": [
    "### Write h5ad"
   ]
  },
  {
   "cell_type": "code",
   "execution_count": 22,
   "metadata": {},
   "outputs": [
    {
     "name": "stdout",
     "output_type": "stream",
     "text": [
      "CPU times: user 334 ms, sys: 782 ms, total: 1.12 s\n",
      "Wall time: 30 s\n",
      "CPU times: user 230 ms, sys: 572 ms, total: 802 ms\n",
      "Wall time: 2.25 s\n",
      "CPU times: user 565 ms, sys: 1.36 s, total: 1.92 s\n",
      "Wall time: 32.3 s\n"
     ]
    }
   ],
   "source": [
    "%%time\n",
    "\n",
    "for d in outdirs:\n",
    "    h5ad = f\"{d}/blood__10x__ce_mouse__one2one_orthologs.h5ad\"\n",
    "    %time ce_mouse_blood_one2one_human_genes.write(h5ad)"
   ]
  },
  {
   "cell_type": "code",
   "execution_count": 23,
   "metadata": {},
   "outputs": [
    {
     "data": {
      "text/plain": [
       "AnnData object with n_obs × n_vars = 15989 × 13632\n",
       "    obs: 'n_genes', 'n_counts', 'channel', 'tissue', 'species', 'free_annotation', 'narrow_group', 'broad_group', 'compartment_group', 'individual', 'species_latin'\n",
       "    var: 'mouse_lemur__gene_name', 'mouse__gene_name'"
      ]
     },
     "execution_count": 23,
     "metadata": {},
     "output_type": "execute_result"
    }
   ],
   "source": [
    "ce_mouse_blood_one2one_human_genes"
   ]
  },
  {
   "cell_type": "code",
   "execution_count": 24,
   "metadata": {},
   "outputs": [
    {
     "data": {
      "text/plain": [
       "nan                                         6452\n",
       "neutrophil                                  2685\n",
       "B cell                                      1876\n",
       "monocyte                                    1460\n",
       "doublet                                     1315\n",
       "CD4+ T cell                                  578\n",
       "natural killer cell                          540\n",
       "CD8+ T cell                                  477\n",
       "macrophage                                   340\n",
       "basophil                                      66\n",
       "conventional dendritic cell                   39\n",
       "plasmacytoid dendritic cell                   38\n",
       "proliferating natural killer cell_T cell      37\n",
       "dendritic cell                                20\n",
       "CXCR6+ T cell                                 19\n",
       "platelet                                      17\n",
       "proliferating B cell_T cell                   16\n",
       "TMEM176+ T cell                                9\n",
       "erythroid lineage cell                         5\n",
       "Name: narrow_group, dtype: int64"
      ]
     },
     "execution_count": 24,
     "metadata": {},
     "output_type": "execute_result"
    }
   ],
   "source": [
    "ce_mouse_blood_one2one_human_genes.obs['narrow_group'].value_counts()"
   ]
  },
  {
   "cell_type": "markdown",
   "metadata": {
    "persistent_id": "aae40145-55d5-4182-a99a-f4bb64d9318d"
   },
   "source": [
    "# Mouse data (Tabula Muris Senis), after unifying celltypes -- updated muscle data"
   ]
  },
  {
   "cell_type": "markdown",
   "metadata": {
    "persistent_id": "804c0873-60e2-4254-8aa0-7406c9aeb4ab"
   },
   "source": [
    "## Load into Scanpy"
   ]
  },
  {
   "cell_type": "code",
   "execution_count": 25,
   "metadata": {
    "execution_event_id": "b5c6ba63-a8ad-476a-a755-dd1f55fb5920",
    "last_executed_text": "h5ad = '/home/olga/data_lg/data_sm_copy/czb-tabula-muris-senis/Data-objects/tabula-muris-senis-droplet-processed-official-annotations-Lung.h5ad'\nmouse = scanpy.read_h5ad(h5ad)\nmouse",
    "persistent_id": "4f3bc39b-b078-47e4-933a-85a8407368e3"
   },
   "outputs": [
    {
     "name": "stdout",
     "output_type": "stream",
     "text": [
      "CPU times: user 1.23 s, sys: 11min 35s, total: 11min 36s\n",
      "Wall time: 11min 56s\n"
     ]
    },
    {
     "data": {
      "text/plain": [
       "AnnData object with n_obs × n_vars = 229903 × 20138\n",
       "    obs: 'age', 'cell_id', 'cell_ontology_class', 'cell_ontology_id', 'free_annotation', 'n_genes', 'sex', 'subtissue', 'tissue', 'species', 'species_latin', 'channel', 'sequencing_run', 'cell_barcode', 'n_counts', 'individual', 'narrow_group', 'broad_group', 'compartment_group', 'batch'\n",
       "    var: 'n_cells'"
      ]
     },
     "execution_count": 25,
     "metadata": {},
     "output_type": "execute_result"
    }
   ],
   "source": [
    "%%time\n",
    "\n",
    "#     \"tabula-muris-senis-droplet-official-raw-obj--no-duplicate-barcodes-per-seq-run--minimal-obs-unified-celltypes--updated-muscle.h5ad\",\n",
    "\n",
    "\n",
    "h5ad = os.path.join(\n",
    "    \"/home/olga/data_lg/data_sm_copy/czb-tabula-muris-senis/Data-objects/\",\n",
    "    \"tabula-muris-senis-droplet-official-raw-obj--no-duplicate-barcodes-per-seq-run--minimal-obs-unified-celltypes--june2021.h5ad\",\n",
    ")\n",
    "mouse = scanpy.read_h5ad(h5ad)\n",
    "mouse"
   ]
  },
  {
   "cell_type": "code",
   "execution_count": 26,
   "metadata": {},
   "outputs": [
    {
     "data": {
      "text/plain": [
       "nan                                   142270\n",
       "B cell                                 29314\n",
       "T cell                                 10096\n",
       "monocyte                                7926\n",
       "fibroadipogenic progenitor cell         6349\n",
       "                                       ...  \n",
       "T cell (PF CD8+)                           5\n",
       "unknown_epithelial_stromal (KRT5+)         5\n",
       "neuroendocrine cell                        4\n",
       "tendon cell_chondrocyte (COL2A1+)          2\n",
       "slow muscle cell                           2\n",
       "Name: narrow_group, Length: 76, dtype: int64"
      ]
     },
     "execution_count": 26,
     "metadata": {},
     "output_type": "execute_result"
    }
   ],
   "source": [
    "mouse.obs.narrow_group.value_counts()"
   ]
  },
  {
   "cell_type": "code",
   "execution_count": 27,
   "metadata": {},
   "outputs": [
    {
     "data": {
      "text/html": [
       "<div>\n",
       "<style scoped>\n",
       "    .dataframe tbody tr th:only-of-type {\n",
       "        vertical-align: middle;\n",
       "    }\n",
       "\n",
       "    .dataframe tbody tr th {\n",
       "        vertical-align: top;\n",
       "    }\n",
       "\n",
       "    .dataframe thead th {\n",
       "        text-align: right;\n",
       "    }\n",
       "</style>\n",
       "<table border=\"1\" class=\"dataframe\">\n",
       "  <thead>\n",
       "    <tr style=\"text-align: right;\">\n",
       "      <th></th>\n",
       "      <th>age</th>\n",
       "      <th>cell_id</th>\n",
       "      <th>cell_ontology_class</th>\n",
       "      <th>cell_ontology_id</th>\n",
       "      <th>free_annotation</th>\n",
       "      <th>n_genes</th>\n",
       "      <th>sex</th>\n",
       "      <th>subtissue</th>\n",
       "      <th>tissue</th>\n",
       "      <th>species</th>\n",
       "      <th>species_latin</th>\n",
       "      <th>channel</th>\n",
       "      <th>sequencing_run</th>\n",
       "      <th>cell_barcode</th>\n",
       "      <th>n_counts</th>\n",
       "      <th>individual</th>\n",
       "      <th>narrow_group</th>\n",
       "      <th>broad_group</th>\n",
       "      <th>compartment_group</th>\n",
       "      <th>batch</th>\n",
       "    </tr>\n",
       "    <tr>\n",
       "      <th>index</th>\n",
       "      <th></th>\n",
       "      <th></th>\n",
       "      <th></th>\n",
       "      <th></th>\n",
       "      <th></th>\n",
       "      <th></th>\n",
       "      <th></th>\n",
       "      <th></th>\n",
       "      <th></th>\n",
       "      <th></th>\n",
       "      <th></th>\n",
       "      <th></th>\n",
       "      <th></th>\n",
       "      <th></th>\n",
       "      <th></th>\n",
       "      <th></th>\n",
       "      <th></th>\n",
       "      <th></th>\n",
       "      <th></th>\n",
       "      <th></th>\n",
       "    </tr>\n",
       "  </thead>\n",
       "  <tbody>\n",
       "    <tr>\n",
       "      <th>AAACCTGCAGTAAGCG-1-0-0-0-0</th>\n",
       "      <td>24m</td>\n",
       "      <td>MACA_24m_M_TONGUE_60_AAACCTGCAGTAAGCG</td>\n",
       "      <td>keratinocyte</td>\n",
       "      <td>NA</td>\n",
       "      <td>suprabasal</td>\n",
       "      <td>3481.0</td>\n",
       "      <td>male</td>\n",
       "      <td>nan</td>\n",
       "      <td>Tongue</td>\n",
       "      <td>Mouse</td>\n",
       "      <td>Mus musculus</td>\n",
       "      <td>MACA_24m_M_TONGUE_60</td>\n",
       "      <td>171103_A00111_0082_BH523JDMXX</td>\n",
       "      <td>AAACCTGCAGTAAGCG</td>\n",
       "      <td>1</td>\n",
       "      <td>mouse_18_24-M-60</td>\n",
       "      <td>nan</td>\n",
       "      <td>nan</td>\n",
       "      <td>nan</td>\n",
       "      <td>0</td>\n",
       "    </tr>\n",
       "    <tr>\n",
       "      <th>AAACCTGTCATTATCC-1-0-0-0-0</th>\n",
       "      <td>24m</td>\n",
       "      <td>MACA_24m_M_TONGUE_60_AAACCTGTCATTATCC</td>\n",
       "      <td>keratinocyte</td>\n",
       "      <td>NA</td>\n",
       "      <td>suprabasal</td>\n",
       "      <td>2599.0</td>\n",
       "      <td>male</td>\n",
       "      <td>nan</td>\n",
       "      <td>Tongue</td>\n",
       "      <td>Mouse</td>\n",
       "      <td>Mus musculus</td>\n",
       "      <td>MACA_24m_M_TONGUE_60</td>\n",
       "      <td>171103_A00111_0082_BH523JDMXX</td>\n",
       "      <td>AAACCTGTCATTATCC</td>\n",
       "      <td>1</td>\n",
       "      <td>mouse_18_24-M-60</td>\n",
       "      <td>nan</td>\n",
       "      <td>nan</td>\n",
       "      <td>nan</td>\n",
       "      <td>0</td>\n",
       "    </tr>\n",
       "    <tr>\n",
       "      <th>AAACGGGGTACAGTGG-1-0-0-0-0</th>\n",
       "      <td>24m</td>\n",
       "      <td>MACA_24m_M_TONGUE_60_AAACGGGGTACAGTGG</td>\n",
       "      <td>keratinocyte</td>\n",
       "      <td>NA</td>\n",
       "      <td>suprabasal differentiating</td>\n",
       "      <td>3468.0</td>\n",
       "      <td>male</td>\n",
       "      <td>nan</td>\n",
       "      <td>Tongue</td>\n",
       "      <td>Mouse</td>\n",
       "      <td>Mus musculus</td>\n",
       "      <td>MACA_24m_M_TONGUE_60</td>\n",
       "      <td>171103_A00111_0082_BH523JDMXX</td>\n",
       "      <td>AAACGGGGTACAGTGG</td>\n",
       "      <td>1</td>\n",
       "      <td>mouse_18_24-M-60</td>\n",
       "      <td>nan</td>\n",
       "      <td>nan</td>\n",
       "      <td>nan</td>\n",
       "      <td>0</td>\n",
       "    </tr>\n",
       "    <tr>\n",
       "      <th>AAACGGGGTCTTCTCG-1-0-0-0-0</th>\n",
       "      <td>24m</td>\n",
       "      <td>MACA_24m_M_TONGUE_60_AAACGGGGTCTTCTCG</td>\n",
       "      <td>keratinocyte</td>\n",
       "      <td>NA</td>\n",
       "      <td>suprabasal differentiating</td>\n",
       "      <td>3189.0</td>\n",
       "      <td>male</td>\n",
       "      <td>nan</td>\n",
       "      <td>Tongue</td>\n",
       "      <td>Mouse</td>\n",
       "      <td>Mus musculus</td>\n",
       "      <td>MACA_24m_M_TONGUE_60</td>\n",
       "      <td>171103_A00111_0082_BH523JDMXX</td>\n",
       "      <td>AAACGGGGTCTTCTCG</td>\n",
       "      <td>1</td>\n",
       "      <td>mouse_18_24-M-60</td>\n",
       "      <td>nan</td>\n",
       "      <td>nan</td>\n",
       "      <td>nan</td>\n",
       "      <td>0</td>\n",
       "    </tr>\n",
       "    <tr>\n",
       "      <th>AAAGATGAGCTATGCT-1-0-0-0-0</th>\n",
       "      <td>24m</td>\n",
       "      <td>MACA_24m_M_TONGUE_60_AAAGATGAGCTATGCT</td>\n",
       "      <td>keratinocyte</td>\n",
       "      <td>NA</td>\n",
       "      <td>suprabasal</td>\n",
       "      <td>3419.0</td>\n",
       "      <td>male</td>\n",
       "      <td>nan</td>\n",
       "      <td>Tongue</td>\n",
       "      <td>Mouse</td>\n",
       "      <td>Mus musculus</td>\n",
       "      <td>MACA_24m_M_TONGUE_60</td>\n",
       "      <td>171103_A00111_0082_BH523JDMXX</td>\n",
       "      <td>AAAGATGAGCTATGCT</td>\n",
       "      <td>1</td>\n",
       "      <td>mouse_18_24-M-60</td>\n",
       "      <td>nan</td>\n",
       "      <td>nan</td>\n",
       "      <td>nan</td>\n",
       "      <td>0</td>\n",
       "    </tr>\n",
       "  </tbody>\n",
       "</table>\n",
       "</div>"
      ],
      "text/plain": [
       "                            age                                cell_id  \\\n",
       "index                                                                    \n",
       "AAACCTGCAGTAAGCG-1-0-0-0-0  24m  MACA_24m_M_TONGUE_60_AAACCTGCAGTAAGCG   \n",
       "AAACCTGTCATTATCC-1-0-0-0-0  24m  MACA_24m_M_TONGUE_60_AAACCTGTCATTATCC   \n",
       "AAACGGGGTACAGTGG-1-0-0-0-0  24m  MACA_24m_M_TONGUE_60_AAACGGGGTACAGTGG   \n",
       "AAACGGGGTCTTCTCG-1-0-0-0-0  24m  MACA_24m_M_TONGUE_60_AAACGGGGTCTTCTCG   \n",
       "AAAGATGAGCTATGCT-1-0-0-0-0  24m  MACA_24m_M_TONGUE_60_AAAGATGAGCTATGCT   \n",
       "\n",
       "                           cell_ontology_class cell_ontology_id  \\\n",
       "index                                                             \n",
       "AAACCTGCAGTAAGCG-1-0-0-0-0        keratinocyte               NA   \n",
       "AAACCTGTCATTATCC-1-0-0-0-0        keratinocyte               NA   \n",
       "AAACGGGGTACAGTGG-1-0-0-0-0        keratinocyte               NA   \n",
       "AAACGGGGTCTTCTCG-1-0-0-0-0        keratinocyte               NA   \n",
       "AAAGATGAGCTATGCT-1-0-0-0-0        keratinocyte               NA   \n",
       "\n",
       "                                       free_annotation  n_genes   sex  \\\n",
       "index                                                                   \n",
       "AAACCTGCAGTAAGCG-1-0-0-0-0                  suprabasal   3481.0  male   \n",
       "AAACCTGTCATTATCC-1-0-0-0-0                  suprabasal   2599.0  male   \n",
       "AAACGGGGTACAGTGG-1-0-0-0-0  suprabasal differentiating   3468.0  male   \n",
       "AAACGGGGTCTTCTCG-1-0-0-0-0  suprabasal differentiating   3189.0  male   \n",
       "AAAGATGAGCTATGCT-1-0-0-0-0                  suprabasal   3419.0  male   \n",
       "\n",
       "                           subtissue  tissue species species_latin  \\\n",
       "index                                                                \n",
       "AAACCTGCAGTAAGCG-1-0-0-0-0       nan  Tongue   Mouse  Mus musculus   \n",
       "AAACCTGTCATTATCC-1-0-0-0-0       nan  Tongue   Mouse  Mus musculus   \n",
       "AAACGGGGTACAGTGG-1-0-0-0-0       nan  Tongue   Mouse  Mus musculus   \n",
       "AAACGGGGTCTTCTCG-1-0-0-0-0       nan  Tongue   Mouse  Mus musculus   \n",
       "AAAGATGAGCTATGCT-1-0-0-0-0       nan  Tongue   Mouse  Mus musculus   \n",
       "\n",
       "                                         channel  \\\n",
       "index                                              \n",
       "AAACCTGCAGTAAGCG-1-0-0-0-0  MACA_24m_M_TONGUE_60   \n",
       "AAACCTGTCATTATCC-1-0-0-0-0  MACA_24m_M_TONGUE_60   \n",
       "AAACGGGGTACAGTGG-1-0-0-0-0  MACA_24m_M_TONGUE_60   \n",
       "AAACGGGGTCTTCTCG-1-0-0-0-0  MACA_24m_M_TONGUE_60   \n",
       "AAAGATGAGCTATGCT-1-0-0-0-0  MACA_24m_M_TONGUE_60   \n",
       "\n",
       "                                           sequencing_run      cell_barcode  \\\n",
       "index                                                                         \n",
       "AAACCTGCAGTAAGCG-1-0-0-0-0  171103_A00111_0082_BH523JDMXX  AAACCTGCAGTAAGCG   \n",
       "AAACCTGTCATTATCC-1-0-0-0-0  171103_A00111_0082_BH523JDMXX  AAACCTGTCATTATCC   \n",
       "AAACGGGGTACAGTGG-1-0-0-0-0  171103_A00111_0082_BH523JDMXX  AAACGGGGTACAGTGG   \n",
       "AAACGGGGTCTTCTCG-1-0-0-0-0  171103_A00111_0082_BH523JDMXX  AAACGGGGTCTTCTCG   \n",
       "AAAGATGAGCTATGCT-1-0-0-0-0  171103_A00111_0082_BH523JDMXX  AAAGATGAGCTATGCT   \n",
       "\n",
       "                            n_counts        individual narrow_group  \\\n",
       "index                                                                 \n",
       "AAACCTGCAGTAAGCG-1-0-0-0-0         1  mouse_18_24-M-60          nan   \n",
       "AAACCTGTCATTATCC-1-0-0-0-0         1  mouse_18_24-M-60          nan   \n",
       "AAACGGGGTACAGTGG-1-0-0-0-0         1  mouse_18_24-M-60          nan   \n",
       "AAACGGGGTCTTCTCG-1-0-0-0-0         1  mouse_18_24-M-60          nan   \n",
       "AAAGATGAGCTATGCT-1-0-0-0-0         1  mouse_18_24-M-60          nan   \n",
       "\n",
       "                           broad_group compartment_group batch  \n",
       "index                                                           \n",
       "AAACCTGCAGTAAGCG-1-0-0-0-0         nan               nan     0  \n",
       "AAACCTGTCATTATCC-1-0-0-0-0         nan               nan     0  \n",
       "AAACGGGGTACAGTGG-1-0-0-0-0         nan               nan     0  \n",
       "AAACGGGGTCTTCTCG-1-0-0-0-0         nan               nan     0  \n",
       "AAAGATGAGCTATGCT-1-0-0-0-0         nan               nan     0  "
      ]
     },
     "execution_count": 27,
     "metadata": {},
     "output_type": "execute_result"
    }
   ],
   "source": [
    "mouse.obs.head()"
   ]
  },
  {
   "cell_type": "markdown",
   "metadata": {
    "persistent_id": "f0331463-ec71-4762-aa11-57c1b6497c98"
   },
   "source": [
    "## Subset on 1:1 orthologs"
   ]
  },
  {
   "cell_type": "code",
   "execution_count": 28,
   "metadata": {
    "execution_event_id": "83951908-bd33-4606-8876-ff1d38f71daf",
    "last_executed_text": "gene_mask = mouse.var.index.isin(gene_orthologies_one2one_all_three['mouse__gene_name'].values)\nprint(gene_mask.sum())\nmouse_one2one = mouse[:, gene_mask]\nmouse_one2one",
    "persistent_id": "30aa843b-5ce3-427b-bce4-5e5ee4cd909f"
   },
   "outputs": [
    {
     "name": "stdout",
     "output_type": "stream",
     "text": [
      "13694\n"
     ]
    },
    {
     "data": {
      "text/plain": [
       "View of AnnData object with n_obs × n_vars = 229903 × 13694\n",
       "    obs: 'age', 'cell_id', 'cell_ontology_class', 'cell_ontology_id', 'free_annotation', 'n_genes', 'sex', 'subtissue', 'tissue', 'species', 'species_latin', 'channel', 'sequencing_run', 'cell_barcode', 'n_counts', 'individual', 'narrow_group', 'broad_group', 'compartment_group', 'batch'\n",
       "    var: 'n_cells'"
      ]
     },
     "execution_count": 28,
     "metadata": {},
     "output_type": "execute_result"
    }
   ],
   "source": [
    "gene_mask = mouse.var.index.isin(\n",
    "    gene_orthologies_one2one_all_three[\"mouse__gene_name\"].values\n",
    ")\n",
    "print(gene_mask.sum())\n",
    "mouse_one2one = mouse[:, gene_mask]\n",
    "mouse_one2one"
   ]
  },
  {
   "cell_type": "code",
   "execution_count": 29,
   "metadata": {},
   "outputs": [
    {
     "data": {
      "text/html": [
       "<div>\n",
       "<style scoped>\n",
       "    .dataframe tbody tr th:only-of-type {\n",
       "        vertical-align: middle;\n",
       "    }\n",
       "\n",
       "    .dataframe tbody tr th {\n",
       "        vertical-align: top;\n",
       "    }\n",
       "\n",
       "    .dataframe thead th {\n",
       "        text-align: right;\n",
       "    }\n",
       "</style>\n",
       "<table border=\"1\" class=\"dataframe\">\n",
       "  <thead>\n",
       "    <tr style=\"text-align: right;\">\n",
       "      <th></th>\n",
       "      <th>NCBI_lemur_geneID</th>\n",
       "      <th>NCBI_lemur_geneName</th>\n",
       "      <th>NCBI_lemur_geneDescription</th>\n",
       "      <th>NCBI_lemur_geneType</th>\n",
       "      <th>Ensembl_human_homology</th>\n",
       "      <th>Ensembl_mouse_homology</th>\n",
       "      <th>NCBI_human_homology</th>\n",
       "      <th>NCBI_mouse_homology</th>\n",
       "      <th>any_mouse_homology</th>\n",
       "      <th>any_human_homology</th>\n",
       "      <th>NCBI_human_geneID_1</th>\n",
       "      <th>NCBI_human_geneName_1</th>\n",
       "      <th>NCBI_mouse_geneID_1</th>\n",
       "      <th>NCBI_mouse_geneName_1</th>\n",
       "      <th>Ensembl_lemur_geneID_1</th>\n",
       "      <th>Ensembl_lemur_geneID_2</th>\n",
       "      <th>Ensembl_lemur_geneName_1</th>\n",
       "      <th>Ensembl_lemur_geneName_2</th>\n",
       "      <th>Ensembl_human_geneID_1</th>\n",
       "      <th>Ensembl_human_geneID_2</th>\n",
       "      <th>Ensembl_human_geneName_1</th>\n",
       "      <th>Ensembl_human_geneName_2</th>\n",
       "      <th>Ensembl_mouse_geneID_1</th>\n",
       "      <th>Ensembl_mouse_geneID_2</th>\n",
       "      <th>Ensembl_mouse_geneName_1</th>\n",
       "      <th>Ensembl_mouse_geneName_2</th>\n",
       "      <th>Ensembl_human_geneID_AGG</th>\n",
       "      <th>Ensembl_human_geneName_AGG</th>\n",
       "      <th>Ensembl_mouse_geneID_AGG</th>\n",
       "      <th>Ensembl_mouse_geneName_AGG</th>\n",
       "      <th>NCBI_human_geneID_AGG</th>\n",
       "      <th>NCBI_human_geneName_AGG</th>\n",
       "      <th>NCBI_mouse_geneID_AGG</th>\n",
       "      <th>NCBI_mouse_geneName_AGG</th>\n",
       "    </tr>\n",
       "  </thead>\n",
       "  <tbody>\n",
       "    <tr>\n",
       "      <th>1</th>\n",
       "      <td>105854774</td>\n",
       "      <td>PDE6D</td>\n",
       "      <td>phosphodiesterase 6D</td>\n",
       "      <td>protein-coding</td>\n",
       "      <td>ortholog_one2one</td>\n",
       "      <td>ortholog_one2one</td>\n",
       "      <td>ortholog</td>\n",
       "      <td>ortholog</td>\n",
       "      <td>yes</td>\n",
       "      <td>yes</td>\n",
       "      <td>5147.0</td>\n",
       "      <td>PDE6D</td>\n",
       "      <td>18582.0</td>\n",
       "      <td>Pde6d</td>\n",
       "      <td>ENSMICG00000032098</td>\n",
       "      <td>NaN</td>\n",
       "      <td>PDE6D</td>\n",
       "      <td>NaN</td>\n",
       "      <td>ENSG00000156973</td>\n",
       "      <td>NaN</td>\n",
       "      <td>PDE6D</td>\n",
       "      <td>NaN</td>\n",
       "      <td>ENSMUSG00000026239</td>\n",
       "      <td>NaN</td>\n",
       "      <td>Pde6d</td>\n",
       "      <td>NaN</td>\n",
       "      <td>ENSG00000156973</td>\n",
       "      <td>PDE6D</td>\n",
       "      <td>ENSMUSG00000026239</td>\n",
       "      <td>Pde6d</td>\n",
       "      <td>5147.0</td>\n",
       "      <td>PDE6D</td>\n",
       "      <td>18582.0</td>\n",
       "      <td>Pde6d</td>\n",
       "    </tr>\n",
       "    <tr>\n",
       "      <th>2</th>\n",
       "      <td>105854783</td>\n",
       "      <td>NUDT12</td>\n",
       "      <td>nudix hydrolase 12</td>\n",
       "      <td>protein-coding</td>\n",
       "      <td>ortholog_one2one</td>\n",
       "      <td>ortholog_one2one</td>\n",
       "      <td>ortholog</td>\n",
       "      <td>ortholog</td>\n",
       "      <td>yes</td>\n",
       "      <td>yes</td>\n",
       "      <td>83594.0</td>\n",
       "      <td>NUDT12</td>\n",
       "      <td>67993.0</td>\n",
       "      <td>Nudt12</td>\n",
       "      <td>ENSMICG00000036782</td>\n",
       "      <td>NaN</td>\n",
       "      <td>NUDT12</td>\n",
       "      <td>NaN</td>\n",
       "      <td>ENSG00000112874</td>\n",
       "      <td>NaN</td>\n",
       "      <td>NUDT12</td>\n",
       "      <td>NaN</td>\n",
       "      <td>ENSMUSG00000024228</td>\n",
       "      <td>NaN</td>\n",
       "      <td>Nudt12</td>\n",
       "      <td>NaN</td>\n",
       "      <td>ENSG00000112874</td>\n",
       "      <td>NUDT12</td>\n",
       "      <td>ENSMUSG00000024228</td>\n",
       "      <td>Nudt12</td>\n",
       "      <td>83594.0</td>\n",
       "      <td>NUDT12</td>\n",
       "      <td>67993.0</td>\n",
       "      <td>Nudt12</td>\n",
       "    </tr>\n",
       "    <tr>\n",
       "      <th>3</th>\n",
       "      <td>105854790</td>\n",
       "      <td>PI15</td>\n",
       "      <td>peptidase inhibitor 15</td>\n",
       "      <td>protein-coding</td>\n",
       "      <td>ortholog_one2one</td>\n",
       "      <td>ortholog_one2one</td>\n",
       "      <td>ortholog</td>\n",
       "      <td>ortholog</td>\n",
       "      <td>yes</td>\n",
       "      <td>yes</td>\n",
       "      <td>51050.0</td>\n",
       "      <td>PI15</td>\n",
       "      <td>94227.0</td>\n",
       "      <td>Pi15</td>\n",
       "      <td>ENSMICG00000003386</td>\n",
       "      <td>NaN</td>\n",
       "      <td>PI15</td>\n",
       "      <td>NaN</td>\n",
       "      <td>ENSG00000137558</td>\n",
       "      <td>NaN</td>\n",
       "      <td>PI15</td>\n",
       "      <td>NaN</td>\n",
       "      <td>ENSMUSG00000067780</td>\n",
       "      <td>NaN</td>\n",
       "      <td>Pi15</td>\n",
       "      <td>NaN</td>\n",
       "      <td>ENSG00000137558</td>\n",
       "      <td>PI15</td>\n",
       "      <td>ENSMUSG00000067780</td>\n",
       "      <td>Pi15</td>\n",
       "      <td>51050.0</td>\n",
       "      <td>PI15</td>\n",
       "      <td>94227.0</td>\n",
       "      <td>Pi15</td>\n",
       "    </tr>\n",
       "    <tr>\n",
       "      <th>4</th>\n",
       "      <td>105854791</td>\n",
       "      <td>GDAP1</td>\n",
       "      <td>ganglioside induced differentiation associated...</td>\n",
       "      <td>protein-coding</td>\n",
       "      <td>ortholog_one2one</td>\n",
       "      <td>ortholog_one2one</td>\n",
       "      <td>ortholog</td>\n",
       "      <td>ortholog</td>\n",
       "      <td>yes</td>\n",
       "      <td>yes</td>\n",
       "      <td>54332.0</td>\n",
       "      <td>GDAP1</td>\n",
       "      <td>14545.0</td>\n",
       "      <td>Gdap1</td>\n",
       "      <td>ENSMICG00000026766</td>\n",
       "      <td>NaN</td>\n",
       "      <td>GDAP1</td>\n",
       "      <td>NaN</td>\n",
       "      <td>ENSG00000104381</td>\n",
       "      <td>NaN</td>\n",
       "      <td>GDAP1</td>\n",
       "      <td>NaN</td>\n",
       "      <td>ENSMUSG00000025777</td>\n",
       "      <td>NaN</td>\n",
       "      <td>Gdap1</td>\n",
       "      <td>NaN</td>\n",
       "      <td>ENSG00000104381</td>\n",
       "      <td>GDAP1</td>\n",
       "      <td>ENSMUSG00000025777</td>\n",
       "      <td>Gdap1</td>\n",
       "      <td>54332.0</td>\n",
       "      <td>GDAP1</td>\n",
       "      <td>14545.0</td>\n",
       "      <td>Gdap1</td>\n",
       "    </tr>\n",
       "    <tr>\n",
       "      <th>5</th>\n",
       "      <td>105854792</td>\n",
       "      <td>JPH1</td>\n",
       "      <td>junctophilin 1</td>\n",
       "      <td>protein-coding</td>\n",
       "      <td>ortholog_one2one</td>\n",
       "      <td>ortholog_one2one</td>\n",
       "      <td>ortholog</td>\n",
       "      <td>ortholog</td>\n",
       "      <td>yes</td>\n",
       "      <td>yes</td>\n",
       "      <td>56704.0</td>\n",
       "      <td>JPH1</td>\n",
       "      <td>57339.0</td>\n",
       "      <td>Jph1</td>\n",
       "      <td>ENSMICG00000000667</td>\n",
       "      <td>NaN</td>\n",
       "      <td>JPH1</td>\n",
       "      <td>NaN</td>\n",
       "      <td>ENSG00000104369</td>\n",
       "      <td>NaN</td>\n",
       "      <td>JPH1</td>\n",
       "      <td>NaN</td>\n",
       "      <td>ENSMUSG00000042686</td>\n",
       "      <td>NaN</td>\n",
       "      <td>Jph1</td>\n",
       "      <td>NaN</td>\n",
       "      <td>ENSG00000104369</td>\n",
       "      <td>JPH1</td>\n",
       "      <td>ENSMUSG00000042686</td>\n",
       "      <td>Jph1</td>\n",
       "      <td>56704.0</td>\n",
       "      <td>JPH1</td>\n",
       "      <td>57339.0</td>\n",
       "      <td>Jph1</td>\n",
       "    </tr>\n",
       "  </tbody>\n",
       "</table>\n",
       "</div>"
      ],
      "text/plain": [
       "   NCBI_lemur_geneID NCBI_lemur_geneName  \\\n",
       "1          105854774               PDE6D   \n",
       "2          105854783              NUDT12   \n",
       "3          105854790                PI15   \n",
       "4          105854791               GDAP1   \n",
       "5          105854792                JPH1   \n",
       "\n",
       "                          NCBI_lemur_geneDescription NCBI_lemur_geneType  \\\n",
       "1                               phosphodiesterase 6D      protein-coding   \n",
       "2                                 nudix hydrolase 12      protein-coding   \n",
       "3                             peptidase inhibitor 15      protein-coding   \n",
       "4  ganglioside induced differentiation associated...      protein-coding   \n",
       "5                                     junctophilin 1      protein-coding   \n",
       "\n",
       "  Ensembl_human_homology Ensembl_mouse_homology NCBI_human_homology  \\\n",
       "1       ortholog_one2one       ortholog_one2one            ortholog   \n",
       "2       ortholog_one2one       ortholog_one2one            ortholog   \n",
       "3       ortholog_one2one       ortholog_one2one            ortholog   \n",
       "4       ortholog_one2one       ortholog_one2one            ortholog   \n",
       "5       ortholog_one2one       ortholog_one2one            ortholog   \n",
       "\n",
       "  NCBI_mouse_homology any_mouse_homology any_human_homology  \\\n",
       "1            ortholog                yes                yes   \n",
       "2            ortholog                yes                yes   \n",
       "3            ortholog                yes                yes   \n",
       "4            ortholog                yes                yes   \n",
       "5            ortholog                yes                yes   \n",
       "\n",
       "   NCBI_human_geneID_1 NCBI_human_geneName_1  NCBI_mouse_geneID_1  \\\n",
       "1               5147.0                 PDE6D              18582.0   \n",
       "2              83594.0                NUDT12              67993.0   \n",
       "3              51050.0                  PI15              94227.0   \n",
       "4              54332.0                 GDAP1              14545.0   \n",
       "5              56704.0                  JPH1              57339.0   \n",
       "\n",
       "  NCBI_mouse_geneName_1 Ensembl_lemur_geneID_1 Ensembl_lemur_geneID_2  \\\n",
       "1                 Pde6d     ENSMICG00000032098                    NaN   \n",
       "2                Nudt12     ENSMICG00000036782                    NaN   \n",
       "3                  Pi15     ENSMICG00000003386                    NaN   \n",
       "4                 Gdap1     ENSMICG00000026766                    NaN   \n",
       "5                  Jph1     ENSMICG00000000667                    NaN   \n",
       "\n",
       "  Ensembl_lemur_geneName_1 Ensembl_lemur_geneName_2 Ensembl_human_geneID_1  \\\n",
       "1                    PDE6D                      NaN        ENSG00000156973   \n",
       "2                   NUDT12                      NaN        ENSG00000112874   \n",
       "3                     PI15                      NaN        ENSG00000137558   \n",
       "4                    GDAP1                      NaN        ENSG00000104381   \n",
       "5                     JPH1                      NaN        ENSG00000104369   \n",
       "\n",
       "  Ensembl_human_geneID_2 Ensembl_human_geneName_1 Ensembl_human_geneName_2  \\\n",
       "1                    NaN                    PDE6D                      NaN   \n",
       "2                    NaN                   NUDT12                      NaN   \n",
       "3                    NaN                     PI15                      NaN   \n",
       "4                    NaN                    GDAP1                      NaN   \n",
       "5                    NaN                     JPH1                      NaN   \n",
       "\n",
       "  Ensembl_mouse_geneID_1 Ensembl_mouse_geneID_2 Ensembl_mouse_geneName_1  \\\n",
       "1     ENSMUSG00000026239                    NaN                    Pde6d   \n",
       "2     ENSMUSG00000024228                    NaN                   Nudt12   \n",
       "3     ENSMUSG00000067780                    NaN                     Pi15   \n",
       "4     ENSMUSG00000025777                    NaN                    Gdap1   \n",
       "5     ENSMUSG00000042686                    NaN                     Jph1   \n",
       "\n",
       "  Ensembl_mouse_geneName_2 Ensembl_human_geneID_AGG  \\\n",
       "1                      NaN          ENSG00000156973   \n",
       "2                      NaN          ENSG00000112874   \n",
       "3                      NaN          ENSG00000137558   \n",
       "4                      NaN          ENSG00000104381   \n",
       "5                      NaN          ENSG00000104369   \n",
       "\n",
       "  Ensembl_human_geneName_AGG Ensembl_mouse_geneID_AGG  \\\n",
       "1                      PDE6D       ENSMUSG00000026239   \n",
       "2                     NUDT12       ENSMUSG00000024228   \n",
       "3                       PI15       ENSMUSG00000067780   \n",
       "4                      GDAP1       ENSMUSG00000025777   \n",
       "5                       JPH1       ENSMUSG00000042686   \n",
       "\n",
       "  Ensembl_mouse_geneName_AGG  NCBI_human_geneID_AGG NCBI_human_geneName_AGG  \\\n",
       "1                      Pde6d                 5147.0                   PDE6D   \n",
       "2                     Nudt12                83594.0                  NUDT12   \n",
       "3                       Pi15                51050.0                    PI15   \n",
       "4                      Gdap1                54332.0                   GDAP1   \n",
       "5                       Jph1                56704.0                    JPH1   \n",
       "\n",
       "   NCBI_mouse_geneID_AGG NCBI_mouse_geneName_AGG  \n",
       "1                18582.0                   Pde6d  \n",
       "2                67993.0                  Nudt12  \n",
       "3                94227.0                    Pi15  \n",
       "4                14545.0                   Gdap1  \n",
       "5                57339.0                    Jph1  "
      ]
     },
     "execution_count": 29,
     "metadata": {},
     "output_type": "execute_result"
    }
   ],
   "source": [
    "gene_orthologies.head()"
   ]
  },
  {
   "cell_type": "code",
   "execution_count": 30,
   "metadata": {},
   "outputs": [
    {
     "data": {
      "text/plain": [
       "13820"
      ]
     },
     "execution_count": 30,
     "metadata": {},
     "output_type": "execute_result"
    }
   ],
   "source": [
    "mouse.var.index.isin(gene_orthologies['NCBI_mouse_geneName_AGG'].values).sum()"
   ]
  },
  {
   "cell_type": "code",
   "execution_count": 31,
   "metadata": {},
   "outputs": [
    {
     "data": {
      "text/plain": [
       "13814"
      ]
     },
     "execution_count": 31,
     "metadata": {},
     "output_type": "execute_result"
    }
   ],
   "source": [
    "mouse.var.index.isin(gene_orthologies['Ensembl_mouse_geneName_AGG'].values).sum()"
   ]
  },
  {
   "cell_type": "code",
   "execution_count": 32,
   "metadata": {},
   "outputs": [
    {
     "data": {
      "text/plain": [
       "13441"
      ]
     },
     "execution_count": 32,
     "metadata": {},
     "output_type": "execute_result"
    }
   ],
   "source": [
    "mouse.var.index.isin(gene_orthologies['NCBI_mouse_geneName_1'].values).sum()"
   ]
  },
  {
   "cell_type": "code",
   "execution_count": 33,
   "metadata": {
    "execution_event_id": "87048211-b51f-413c-bb0d-a6d2817a6f6c",
    "last_executed_text": "mouse_one2one.var.head()",
    "persistent_id": "9cab8b9b-62fc-46f3-a61b-2ef093b76afc"
   },
   "outputs": [
    {
     "data": {
      "text/html": [
       "<div>\n",
       "<style scoped>\n",
       "    .dataframe tbody tr th:only-of-type {\n",
       "        vertical-align: middle;\n",
       "    }\n",
       "\n",
       "    .dataframe tbody tr th {\n",
       "        vertical-align: top;\n",
       "    }\n",
       "\n",
       "    .dataframe thead th {\n",
       "        text-align: right;\n",
       "    }\n",
       "</style>\n",
       "<table border=\"1\" class=\"dataframe\">\n",
       "  <thead>\n",
       "    <tr style=\"text-align: right;\">\n",
       "      <th></th>\n",
       "      <th>n_cells</th>\n",
       "    </tr>\n",
       "    <tr>\n",
       "      <th>index</th>\n",
       "      <th></th>\n",
       "    </tr>\n",
       "  </thead>\n",
       "  <tbody>\n",
       "    <tr>\n",
       "      <th>Xkr4</th>\n",
       "      <td>147</td>\n",
       "    </tr>\n",
       "    <tr>\n",
       "      <th>Sox17</th>\n",
       "      <td>27289</td>\n",
       "    </tr>\n",
       "    <tr>\n",
       "      <th>Mrpl15</th>\n",
       "      <td>95312</td>\n",
       "    </tr>\n",
       "    <tr>\n",
       "      <th>Lypla1</th>\n",
       "      <td>86096</td>\n",
       "    </tr>\n",
       "    <tr>\n",
       "      <th>Tcea1</th>\n",
       "      <td>120238</td>\n",
       "    </tr>\n",
       "  </tbody>\n",
       "</table>\n",
       "</div>"
      ],
      "text/plain": [
       "        n_cells\n",
       "index          \n",
       "Xkr4        147\n",
       "Sox17     27289\n",
       "Mrpl15    95312\n",
       "Lypla1    86096\n",
       "Tcea1    120238"
      ]
     },
     "execution_count": 33,
     "metadata": {},
     "output_type": "execute_result"
    }
   ],
   "source": [
    "mouse_one2one.var.head()"
   ]
  },
  {
   "cell_type": "markdown",
   "metadata": {
    "persistent_id": "54cefc47-e99e-4429-b0e1-239094bd62a9"
   },
   "source": [
    "## Use human gene names"
   ]
  },
  {
   "cell_type": "code",
   "execution_count": 34,
   "metadata": {
    "execution_event_id": "9e2ddb63-eb9a-48f6-a4fc-fef7b5e40d35",
    "last_executed_text": "mouse_one2one.var = mouse_one2one.var.merge(gene_orthologies_one2one_all_three, left_index=True, right_on='mouse__gene_name')\nprint(mouse_one2one.var.shape)\nmouse_one2one.var.head()",
    "persistent_id": "7609a93c-5057-426f-b0c4-3fdc455514d5"
   },
   "outputs": [
    {
     "name": "stdout",
     "output_type": "stream",
     "text": [
      "(13694, 4)\n"
     ]
    },
    {
     "data": {
      "text/html": [
       "<div>\n",
       "<style scoped>\n",
       "    .dataframe tbody tr th:only-of-type {\n",
       "        vertical-align: middle;\n",
       "    }\n",
       "\n",
       "    .dataframe tbody tr th {\n",
       "        vertical-align: top;\n",
       "    }\n",
       "\n",
       "    .dataframe thead th {\n",
       "        text-align: right;\n",
       "    }\n",
       "</style>\n",
       "<table border=\"1\" class=\"dataframe\">\n",
       "  <thead>\n",
       "    <tr style=\"text-align: right;\">\n",
       "      <th></th>\n",
       "      <th>n_cells</th>\n",
       "      <th>mouse_lemur__gene_name</th>\n",
       "      <th>human__gene_name</th>\n",
       "      <th>mouse__gene_name</th>\n",
       "    </tr>\n",
       "  </thead>\n",
       "  <tbody>\n",
       "    <tr>\n",
       "      <th>1082</th>\n",
       "      <td>147</td>\n",
       "      <td>XKR4</td>\n",
       "      <td>XKR4</td>\n",
       "      <td>Xkr4</td>\n",
       "    </tr>\n",
       "    <tr>\n",
       "      <th>1597</th>\n",
       "      <td>27289</td>\n",
       "      <td>SOX17</td>\n",
       "      <td>SOX17</td>\n",
       "      <td>Sox17</td>\n",
       "    </tr>\n",
       "    <tr>\n",
       "      <th>6446</th>\n",
       "      <td>95312</td>\n",
       "      <td>MRPL15</td>\n",
       "      <td>MRPL15</td>\n",
       "      <td>Mrpl15</td>\n",
       "    </tr>\n",
       "    <tr>\n",
       "      <th>12891</th>\n",
       "      <td>86096</td>\n",
       "      <td>LYPLA1</td>\n",
       "      <td>LYPLA1</td>\n",
       "      <td>Lypla1</td>\n",
       "    </tr>\n",
       "    <tr>\n",
       "      <th>8333</th>\n",
       "      <td>120238</td>\n",
       "      <td>TCEA1</td>\n",
       "      <td>TCEA1</td>\n",
       "      <td>Tcea1</td>\n",
       "    </tr>\n",
       "  </tbody>\n",
       "</table>\n",
       "</div>"
      ],
      "text/plain": [
       "       n_cells mouse_lemur__gene_name human__gene_name mouse__gene_name\n",
       "1082       147                   XKR4             XKR4             Xkr4\n",
       "1597     27289                  SOX17            SOX17            Sox17\n",
       "6446     95312                 MRPL15           MRPL15           Mrpl15\n",
       "12891    86096                 LYPLA1           LYPLA1           Lypla1\n",
       "8333    120238                  TCEA1            TCEA1            Tcea1"
      ]
     },
     "execution_count": 34,
     "metadata": {},
     "output_type": "execute_result"
    }
   ],
   "source": [
    "mouse_one2one_new_var = mouse_one2one.var.merge(gene_orthologies_one2one_all_three, left_index=True, right_on='mouse__gene_name')\n",
    "print(mouse_one2one_new_var.shape)\n",
    "mouse_one2one_new_var.head()"
   ]
  },
  {
   "cell_type": "markdown",
   "metadata": {},
   "source": [
    "### Make new object with human gene names"
   ]
  },
  {
   "cell_type": "code",
   "execution_count": 35,
   "metadata": {},
   "outputs": [
    {
     "data": {
      "text/plain": [
       "AnnData object with n_obs × n_vars = 229903 × 13694\n",
       "    obs: 'age', 'cell_id', 'cell_ontology_class', 'cell_ontology_id', 'free_annotation', 'n_genes', 'sex', 'subtissue', 'tissue', 'species', 'species_latin', 'channel', 'sequencing_run', 'cell_barcode', 'n_counts', 'individual', 'narrow_group', 'broad_group', 'compartment_group', 'batch'\n",
       "    var: 'n_cells'"
      ]
     },
     "execution_count": 35,
     "metadata": {},
     "output_type": "execute_result"
    }
   ],
   "source": [
    "mouse_one2one_human_genes = mouse_one2one.copy()\n",
    "mouse_one2one_human_genes"
   ]
  },
  {
   "cell_type": "code",
   "execution_count": 36,
   "metadata": {
    "execution_event_id": "55eaad24-500b-4b19-93b8-f3aa14fc3f09",
    "last_executed_text": "mouse_one2one.var = mouse_one2one.var.set_index('human__gene_name')\nmouse_one2one.var.head()",
    "persistent_id": "6ea026ef-2c53-4d78-a1f8-24e94988220c"
   },
   "outputs": [
    {
     "data": {
      "text/html": [
       "<div>\n",
       "<style scoped>\n",
       "    .dataframe tbody tr th:only-of-type {\n",
       "        vertical-align: middle;\n",
       "    }\n",
       "\n",
       "    .dataframe tbody tr th {\n",
       "        vertical-align: top;\n",
       "    }\n",
       "\n",
       "    .dataframe thead th {\n",
       "        text-align: right;\n",
       "    }\n",
       "</style>\n",
       "<table border=\"1\" class=\"dataframe\">\n",
       "  <thead>\n",
       "    <tr style=\"text-align: right;\">\n",
       "      <th></th>\n",
       "      <th>n_cells</th>\n",
       "      <th>mouse_lemur__gene_name</th>\n",
       "      <th>mouse__gene_name</th>\n",
       "    </tr>\n",
       "    <tr>\n",
       "      <th>human__gene_name</th>\n",
       "      <th></th>\n",
       "      <th></th>\n",
       "      <th></th>\n",
       "    </tr>\n",
       "  </thead>\n",
       "  <tbody>\n",
       "    <tr>\n",
       "      <th>XKR4</th>\n",
       "      <td>147</td>\n",
       "      <td>XKR4</td>\n",
       "      <td>Xkr4</td>\n",
       "    </tr>\n",
       "    <tr>\n",
       "      <th>SOX17</th>\n",
       "      <td>27289</td>\n",
       "      <td>SOX17</td>\n",
       "      <td>Sox17</td>\n",
       "    </tr>\n",
       "    <tr>\n",
       "      <th>MRPL15</th>\n",
       "      <td>95312</td>\n",
       "      <td>MRPL15</td>\n",
       "      <td>Mrpl15</td>\n",
       "    </tr>\n",
       "    <tr>\n",
       "      <th>LYPLA1</th>\n",
       "      <td>86096</td>\n",
       "      <td>LYPLA1</td>\n",
       "      <td>Lypla1</td>\n",
       "    </tr>\n",
       "    <tr>\n",
       "      <th>TCEA1</th>\n",
       "      <td>120238</td>\n",
       "      <td>TCEA1</td>\n",
       "      <td>Tcea1</td>\n",
       "    </tr>\n",
       "  </tbody>\n",
       "</table>\n",
       "</div>"
      ],
      "text/plain": [
       "                  n_cells mouse_lemur__gene_name mouse__gene_name\n",
       "human__gene_name                                                 \n",
       "XKR4                  147                   XKR4             Xkr4\n",
       "SOX17               27289                  SOX17            Sox17\n",
       "MRPL15              95312                 MRPL15           Mrpl15\n",
       "LYPLA1              86096                 LYPLA1           Lypla1\n",
       "TCEA1              120238                  TCEA1            Tcea1"
      ]
     },
     "execution_count": 36,
     "metadata": {},
     "output_type": "execute_result"
    }
   ],
   "source": [
    "mouse_one2one_human_genes.var = mouse_one2one_new_var.set_index('human__gene_name')\n",
    "mouse_one2one_human_genes.var.head()"
   ]
  },
  {
   "cell_type": "markdown",
   "metadata": {},
   "source": [
    "## Write mouse all tissues, 1:1 orthologs, human gene names to file"
   ]
  },
  {
   "cell_type": "markdown",
   "metadata": {},
   "source": [
    "### Write h5ad"
   ]
  },
  {
   "cell_type": "code",
   "execution_count": 37,
   "metadata": {},
   "outputs": [
    {
     "name": "stdout",
     "output_type": "stream",
     "text": [
      "CPU times: user 4.46 s, sys: 2.91 s, total: 7.37 s\n",
      "Wall time: 1min 50s\n",
      "CPU times: user 3.63 s, sys: 3.12 s, total: 6.75 s\n",
      "Wall time: 9.59 s\n",
      "CPU times: user 8.09 s, sys: 6.03 s, total: 14.1 s\n",
      "Wall time: 2min\n"
     ]
    }
   ],
   "source": [
    "%%time\n",
    "\n",
    "for d in outdirs:\n",
    "    h5ad = f\"{d}/alltissues__10x__tabula-muris-senis__one2one_orthologs--updated-muscle--june2021.h5ad\"\n",
    "    %time mouse_one2one_human_genes.write(h5ad)"
   ]
  },
  {
   "cell_type": "markdown",
   "metadata": {},
   "source": [
    "### Write CSVs"
   ]
  },
  {
   "cell_type": "code",
   "execution_count": 38,
   "metadata": {
    "execution_event_id": "0b5f8b37-6965-4172-a38b-3863b92b77c5",
    "last_executed_text": "mouse_one2one.write_csvs(f'{outdir}/lung__10x__mouse__one2one_orthologs__csvs/')",
    "persistent_id": "c93bcbc7-e0bc-43ea-9432-fef9169c1a7e"
   },
   "outputs": [],
   "source": [
    "# for d in outdirs:\n",
    "#     mouse_one2one.write_csvs(f'{d}/alltissues__10x__tabula-muris-senis__one2one_orthologs__updated-muscle__june2021__csvs/')"
   ]
  },
  {
   "cell_type": "markdown",
   "metadata": {
    "persistent_id": "4cf06a70-d3fc-4fab-ac6a-2de563217601"
   },
   "source": [
    "# Mouse Lemur raw counts\n",
    "\n",
    "Created with this pull request: https://github.com/czbiohub/tabula-microcebus/pull/15"
   ]
  },
  {
   "cell_type": "markdown",
   "metadata": {
    "persistent_id": "ccfa0bda-5972-40e9-8b2d-6738a64933a6"
   },
   "source": [
    "## Read all raw count data"
   ]
  },
  {
   "cell_type": "code",
   "execution_count": 121,
   "metadata": {
    "execution_event_id": "18bb3f45-5b4d-468d-b5a5-c309820e0c15",
    "last_executed_text": "%%time\n\nh5ad = f'{lemur_folder}/Antoine_Lung_10X_with_umaps.h5ad'\nlemur = scanpy.read_h5ad(h5ad)\nlemur",
    "persistent_id": "60ab3a63-f17d-4063-a859-5d5f98cda38c"
   },
   "outputs": [
    {
     "name": "stdout",
     "output_type": "stream",
     "text": [
      "CPU times: user 1 s, sys: 5min 33s, total: 5min 34s\n",
      "Wall time: 5min 36s\n"
     ]
    },
    {
     "data": {
      "text/plain": [
       "AnnData object with n_obs × n_vars = 244081 × 31509\n",
       "    obs: 'n_counts', 'n_genes', 'cell_barcode', 'sequencing_run', 'channel_10x', 'individual', 'tissue', 'subtissue', 'cell_ontology_class', 'free_annotation', 'narrow_group', 'broad_group', 'compartment_group'\n",
       "    var: 'name', 'highly_variable'\n",
       "    uns: 'compartment_update_colors'\n",
       "    obsm: 'X_pca', 'X_umap'"
      ]
     },
     "execution_count": 121,
     "metadata": {},
     "output_type": "execute_result"
    }
   ],
   "source": [
    "%%time\n",
    "\n",
    "# h5ad = f'{lemur_folder}/tabula-microcebus--10x--counts--min-51-genes--min-101-counts--trnas-summed--no-duplicate-barcodes--pairs-disambiguated--no-na.h5ad'\n",
    "h5ad = os.path.join(\n",
    "    \"/home/olga/data_lg/data_sm_copy/tabula-microcebus/data-objects/ss2-10x-combined\",\n",
    "    \"LCA_10x_update_minimal_obs_muscle_update_july2021.h5ad\",\n",
    ")\n",
    "lemur = scanpy.read(h5ad, cache=True)\n",
    "lemur"
   ]
  },
  {
   "cell_type": "code",
   "execution_count": 122,
   "metadata": {},
   "outputs": [
    {
     "name": "stdout",
     "output_type": "stream",
     "text": [
      "-rw-r--r-- 1 olga 3030775141 Jul 13 14:56 /home/olga/data_lg/data_sm_copy/tabula-microcebus/data-objects/ss2-10x-combined/LCA_10x_update_minimal_obs_muscle_update_july2021.h5ad\n"
     ]
    }
   ],
   "source": [
    "ll $h5ad"
   ]
  },
  {
   "cell_type": "code",
   "execution_count": 123,
   "metadata": {},
   "outputs": [],
   "source": [
    "def check_celltype_presence(adata, celltypes=('slow muscle cell', 'fast muscle cell'), celltype_col='narrow_group'):\n",
    "    for celltype in celltypes:\n",
    "        assert celltype in set(adata.obs[celltype_col])\n",
    "        \n",
    "check_celltype_presence(lemur)"
   ]
  },
  {
   "cell_type": "markdown",
   "metadata": {},
   "source": [
    "## Prepare for concatenation and 1:1 orthologs"
   ]
  },
  {
   "cell_type": "markdown",
   "metadata": {
    "persistent_id": "726346ea-5700-4d5a-8b92-a6a4ec0e4600"
   },
   "source": [
    "### Filter for only 1:1 orthologs"
   ]
  },
  {
   "cell_type": "code",
   "execution_count": 124,
   "metadata": {
    "execution_event_id": "53dbb25b-71f5-48ca-b308-f4b396caf8d3",
    "last_executed_text": "gene_mask = lemur.var.index.isin(gene_orthologies_one2one_all_three['mouse_lemur__gene_name'].values)\nprint(gene_mask.sum())\nlemur_one2one =lemur[:, gene_mask]\nlemur_one2one",
    "persistent_id": "6e4e3b2b-aef7-4325-b38a-8c7bab7eac6f"
   },
   "outputs": [
    {
     "name": "stdout",
     "output_type": "stream",
     "text": [
      "15102\n"
     ]
    },
    {
     "data": {
      "text/plain": [
       "View of AnnData object with n_obs × n_vars = 244081 × 15102\n",
       "    obs: 'n_counts', 'n_genes', 'cell_barcode', 'sequencing_run', 'channel_10x', 'individual', 'tissue', 'subtissue', 'cell_ontology_class', 'free_annotation', 'narrow_group', 'broad_group', 'compartment_group'\n",
       "    var: 'name', 'highly_variable'\n",
       "    uns: 'compartment_update_colors'\n",
       "    obsm: 'X_pca', 'X_umap'"
      ]
     },
     "execution_count": 124,
     "metadata": {},
     "output_type": "execute_result"
    }
   ],
   "source": [
    "gene_mask = lemur.var.index.isin(gene_orthologies_one2one_all_three['mouse_lemur__gene_name'].values)\n",
    "print(gene_mask.sum())\n",
    "lemur_one2one = lemur[:, gene_mask]\n",
    "lemur_one2one"
   ]
  },
  {
   "cell_type": "code",
   "execution_count": 125,
   "metadata": {},
   "outputs": [
    {
     "data": {
      "text/html": [
       "<div>\n",
       "<style scoped>\n",
       "    .dataframe tbody tr th:only-of-type {\n",
       "        vertical-align: middle;\n",
       "    }\n",
       "\n",
       "    .dataframe tbody tr th {\n",
       "        vertical-align: top;\n",
       "    }\n",
       "\n",
       "    .dataframe thead th {\n",
       "        text-align: right;\n",
       "    }\n",
       "</style>\n",
       "<table border=\"1\" class=\"dataframe\">\n",
       "  <thead>\n",
       "    <tr style=\"text-align: right;\">\n",
       "      <th></th>\n",
       "      <th>n_counts</th>\n",
       "      <th>n_genes</th>\n",
       "      <th>cell_barcode</th>\n",
       "      <th>sequencing_run</th>\n",
       "      <th>channel_10x</th>\n",
       "      <th>individual</th>\n",
       "      <th>tissue</th>\n",
       "      <th>subtissue</th>\n",
       "      <th>cell_ontology_class</th>\n",
       "      <th>free_annotation</th>\n",
       "      <th>narrow_group</th>\n",
       "      <th>broad_group</th>\n",
       "      <th>compartment_group</th>\n",
       "    </tr>\n",
       "  </thead>\n",
       "  <tbody>\n",
       "    <tr>\n",
       "      <th>MAA001519_B108948_A10_S10</th>\n",
       "      <td>2467361</td>\n",
       "      <td>2526</td>\n",
       "      <td>nan</td>\n",
       "      <td>nan</td>\n",
       "      <td>nan</td>\n",
       "      <td>Antoine</td>\n",
       "      <td>Testes</td>\n",
       "      <td>nan</td>\n",
       "      <td>spermatid</td>\n",
       "      <td>elongating spermatid</td>\n",
       "      <td>nan</td>\n",
       "      <td>nan</td>\n",
       "      <td>nan</td>\n",
       "    </tr>\n",
       "    <tr>\n",
       "      <th>MAA001519_B108948_A11_S11</th>\n",
       "      <td>2489227</td>\n",
       "      <td>2764</td>\n",
       "      <td>nan</td>\n",
       "      <td>nan</td>\n",
       "      <td>nan</td>\n",
       "      <td>Antoine</td>\n",
       "      <td>Testes</td>\n",
       "      <td>nan</td>\n",
       "      <td>spermatid</td>\n",
       "      <td>elongating spermatid</td>\n",
       "      <td>nan</td>\n",
       "      <td>nan</td>\n",
       "      <td>nan</td>\n",
       "    </tr>\n",
       "    <tr>\n",
       "      <th>MAA001519_B108948_A12_S12</th>\n",
       "      <td>2267728</td>\n",
       "      <td>7156</td>\n",
       "      <td>nan</td>\n",
       "      <td>nan</td>\n",
       "      <td>nan</td>\n",
       "      <td>Antoine</td>\n",
       "      <td>Testes</td>\n",
       "      <td>nan</td>\n",
       "      <td>spermatocyte</td>\n",
       "      <td>pachytene spermatocyte</td>\n",
       "      <td>nan</td>\n",
       "      <td>nan</td>\n",
       "      <td>nan</td>\n",
       "    </tr>\n",
       "    <tr>\n",
       "      <th>MAA001519_B108948_A13_S13</th>\n",
       "      <td>1663223</td>\n",
       "      <td>3401</td>\n",
       "      <td>nan</td>\n",
       "      <td>nan</td>\n",
       "      <td>nan</td>\n",
       "      <td>Antoine</td>\n",
       "      <td>Testes</td>\n",
       "      <td>nan</td>\n",
       "      <td>spermatid</td>\n",
       "      <td>elongating spermatid</td>\n",
       "      <td>nan</td>\n",
       "      <td>nan</td>\n",
       "      <td>nan</td>\n",
       "    </tr>\n",
       "    <tr>\n",
       "      <th>MAA001519_B108948_A14_S14</th>\n",
       "      <td>1410159</td>\n",
       "      <td>8500</td>\n",
       "      <td>nan</td>\n",
       "      <td>nan</td>\n",
       "      <td>nan</td>\n",
       "      <td>Antoine</td>\n",
       "      <td>Testes</td>\n",
       "      <td>nan</td>\n",
       "      <td>spermatocyte</td>\n",
       "      <td>pachytene spermatocyte</td>\n",
       "      <td>nan</td>\n",
       "      <td>nan</td>\n",
       "      <td>nan</td>\n",
       "    </tr>\n",
       "  </tbody>\n",
       "</table>\n",
       "</div>"
      ],
      "text/plain": [
       "                           n_counts  n_genes cell_barcode sequencing_run  \\\n",
       "MAA001519_B108948_A10_S10   2467361     2526          nan            nan   \n",
       "MAA001519_B108948_A11_S11   2489227     2764          nan            nan   \n",
       "MAA001519_B108948_A12_S12   2267728     7156          nan            nan   \n",
       "MAA001519_B108948_A13_S13   1663223     3401          nan            nan   \n",
       "MAA001519_B108948_A14_S14   1410159     8500          nan            nan   \n",
       "\n",
       "                          channel_10x individual  tissue subtissue  \\\n",
       "MAA001519_B108948_A10_S10         nan    Antoine  Testes       nan   \n",
       "MAA001519_B108948_A11_S11         nan    Antoine  Testes       nan   \n",
       "MAA001519_B108948_A12_S12         nan    Antoine  Testes       nan   \n",
       "MAA001519_B108948_A13_S13         nan    Antoine  Testes       nan   \n",
       "MAA001519_B108948_A14_S14         nan    Antoine  Testes       nan   \n",
       "\n",
       "                          cell_ontology_class         free_annotation  \\\n",
       "MAA001519_B108948_A10_S10           spermatid    elongating spermatid   \n",
       "MAA001519_B108948_A11_S11           spermatid    elongating spermatid   \n",
       "MAA001519_B108948_A12_S12        spermatocyte  pachytene spermatocyte   \n",
       "MAA001519_B108948_A13_S13           spermatid    elongating spermatid   \n",
       "MAA001519_B108948_A14_S14        spermatocyte  pachytene spermatocyte   \n",
       "\n",
       "                          narrow_group broad_group compartment_group  \n",
       "MAA001519_B108948_A10_S10          nan         nan               nan  \n",
       "MAA001519_B108948_A11_S11          nan         nan               nan  \n",
       "MAA001519_B108948_A12_S12          nan         nan               nan  \n",
       "MAA001519_B108948_A13_S13          nan         nan               nan  \n",
       "MAA001519_B108948_A14_S14          nan         nan               nan  "
      ]
     },
     "execution_count": 125,
     "metadata": {},
     "output_type": "execute_result"
    }
   ],
   "source": [
    "lemur_one2one.obs.head()"
   ]
  },
  {
   "cell_type": "code",
   "execution_count": 126,
   "metadata": {},
   "outputs": [
    {
     "data": {
      "text/html": [
       "<div>\n",
       "<style scoped>\n",
       "    .dataframe tbody tr th:only-of-type {\n",
       "        vertical-align: middle;\n",
       "    }\n",
       "\n",
       "    .dataframe tbody tr th {\n",
       "        vertical-align: top;\n",
       "    }\n",
       "\n",
       "    .dataframe thead th {\n",
       "        text-align: right;\n",
       "    }\n",
       "</style>\n",
       "<table border=\"1\" class=\"dataframe\">\n",
       "  <thead>\n",
       "    <tr style=\"text-align: right;\">\n",
       "      <th></th>\n",
       "      <th>name</th>\n",
       "      <th>highly_variable</th>\n",
       "    </tr>\n",
       "  </thead>\n",
       "  <tbody>\n",
       "    <tr>\n",
       "      <th>AU129-gt01</th>\n",
       "      <td>AU129-gt01</td>\n",
       "      <td>False</td>\n",
       "    </tr>\n",
       "    <tr>\n",
       "      <th>AU129-gr02</th>\n",
       "      <td>AU129-gr02</td>\n",
       "      <td>True</td>\n",
       "    </tr>\n",
       "    <tr>\n",
       "      <th>AU129-gt02</th>\n",
       "      <td>AU129-gt02</td>\n",
       "      <td>False</td>\n",
       "    </tr>\n",
       "    <tr>\n",
       "      <th>AU129-gr01</th>\n",
       "      <td>AU129-gr01</td>\n",
       "      <td>True</td>\n",
       "    </tr>\n",
       "    <tr>\n",
       "      <th>AU129-gt03</th>\n",
       "      <td>AU129-gt03</td>\n",
       "      <td>False</td>\n",
       "    </tr>\n",
       "  </tbody>\n",
       "</table>\n",
       "</div>"
      ],
      "text/plain": [
       "                  name  highly_variable\n",
       "AU129-gt01  AU129-gt01            False\n",
       "AU129-gr02  AU129-gr02             True\n",
       "AU129-gt02  AU129-gt02            False\n",
       "AU129-gr01  AU129-gr01             True\n",
       "AU129-gt03  AU129-gt03            False"
      ]
     },
     "execution_count": 126,
     "metadata": {},
     "output_type": "execute_result"
    }
   ],
   "source": [
    "lemur.var.head()"
   ]
  },
  {
   "cell_type": "markdown",
   "metadata": {},
   "source": [
    "### Double-check SFTPC"
   ]
  },
  {
   "cell_type": "code",
   "execution_count": 127,
   "metadata": {},
   "outputs": [
    {
     "data": {
      "image/png": "[encoded data removed]",
      "text/plain": [
       "<Figure size 214.56x1735.2 with 4 Axes>"
      ]
     },
     "metadata": {
      "needs_background": "light"
     },
     "output_type": "display_data"
    }
   ],
   "source": [
    "scanpy.pl.dotplot(lemur_one2one, var_names=['SFTPC', 'PTPRC', 'MYL6', 'ADIPOQ'], groupby='narrow_group')"
   ]
  },
  {
   "cell_type": "code",
   "execution_count": 128,
   "metadata": {},
   "outputs": [
    {
     "data": {
      "text/html": [
       "<div>\n",
       "<style scoped>\n",
       "    .dataframe tbody tr th:only-of-type {\n",
       "        vertical-align: middle;\n",
       "    }\n",
       "\n",
       "    .dataframe tbody tr th {\n",
       "        vertical-align: top;\n",
       "    }\n",
       "\n",
       "    .dataframe thead th {\n",
       "        text-align: right;\n",
       "    }\n",
       "</style>\n",
       "<table border=\"1\" class=\"dataframe\">\n",
       "  <thead>\n",
       "    <tr style=\"text-align: right;\">\n",
       "      <th></th>\n",
       "      <th>name</th>\n",
       "      <th>highly_variable</th>\n",
       "    </tr>\n",
       "  </thead>\n",
       "  <tbody>\n",
       "    <tr>\n",
       "      <th>RBP2</th>\n",
       "      <td>RBP2</td>\n",
       "      <td>False</td>\n",
       "    </tr>\n",
       "    <tr>\n",
       "      <th>COPB2</th>\n",
       "      <td>COPB2</td>\n",
       "      <td>True</td>\n",
       "    </tr>\n",
       "    <tr>\n",
       "      <th>MRPS22</th>\n",
       "      <td>MRPS22</td>\n",
       "      <td>False</td>\n",
       "    </tr>\n",
       "    <tr>\n",
       "      <th>FOXL2</th>\n",
       "      <td>FOXL2</td>\n",
       "      <td>False</td>\n",
       "    </tr>\n",
       "    <tr>\n",
       "      <th>PIK3CB</th>\n",
       "      <td>PIK3CB</td>\n",
       "      <td>False</td>\n",
       "    </tr>\n",
       "  </tbody>\n",
       "</table>\n",
       "</div>"
      ],
      "text/plain": [
       "          name  highly_variable\n",
       "RBP2      RBP2            False\n",
       "COPB2    COPB2             True\n",
       "MRPS22  MRPS22            False\n",
       "FOXL2    FOXL2            False\n",
       "PIK3CB  PIK3CB            False"
      ]
     },
     "execution_count": 128,
     "metadata": {},
     "output_type": "execute_result"
    }
   ],
   "source": [
    "lemur_one2one.var.head()"
   ]
  },
  {
   "cell_type": "markdown",
   "metadata": {
    "persistent_id": "52c314b5-d1ac-49ae-b235-8097ef6f6c22"
   },
   "source": [
    "### Use human gene names"
   ]
  },
  {
   "cell_type": "code",
   "execution_count": 129,
   "metadata": {
    "execution_event_id": "99b18635-5098-4405-a6c3-c966b21d5198",
    "last_executed_text": "lemur_one2one.var = lemur_one2one.var.merge(gene_orthologies_one2one_all_three, left_index=True, right_on='mouse_lemur__gene_name')\nprint(lemur_one2one.var.shape)\nlemur_one2one.var.head()",
    "persistent_id": "5169b62d-febb-4582-a139-e85956b83de4"
   },
   "outputs": [
    {
     "name": "stdout",
     "output_type": "stream",
     "text": [
      "(15102, 5)\n"
     ]
    },
    {
     "data": {
      "text/html": [
       "<div>\n",
       "<style scoped>\n",
       "    .dataframe tbody tr th:only-of-type {\n",
       "        vertical-align: middle;\n",
       "    }\n",
       "\n",
       "    .dataframe tbody tr th {\n",
       "        vertical-align: top;\n",
       "    }\n",
       "\n",
       "    .dataframe thead th {\n",
       "        text-align: right;\n",
       "    }\n",
       "</style>\n",
       "<table border=\"1\" class=\"dataframe\">\n",
       "  <thead>\n",
       "    <tr style=\"text-align: right;\">\n",
       "      <th></th>\n",
       "      <th>name</th>\n",
       "      <th>highly_variable</th>\n",
       "      <th>mouse_lemur__gene_name</th>\n",
       "      <th>human__gene_name</th>\n",
       "      <th>mouse__gene_name</th>\n",
       "    </tr>\n",
       "  </thead>\n",
       "  <tbody>\n",
       "    <tr>\n",
       "      <th>9857</th>\n",
       "      <td>RBP2</td>\n",
       "      <td>False</td>\n",
       "      <td>RBP2</td>\n",
       "      <td>RBP2</td>\n",
       "      <td>Rbp2</td>\n",
       "    </tr>\n",
       "    <tr>\n",
       "      <th>7929</th>\n",
       "      <td>COPB2</td>\n",
       "      <td>True</td>\n",
       "      <td>COPB2</td>\n",
       "      <td>COPB2</td>\n",
       "      <td>Copb2</td>\n",
       "    </tr>\n",
       "    <tr>\n",
       "      <th>12957</th>\n",
       "      <td>MRPS22</td>\n",
       "      <td>False</td>\n",
       "      <td>MRPS22</td>\n",
       "      <td>MRPS22</td>\n",
       "      <td>Mrps22</td>\n",
       "    </tr>\n",
       "    <tr>\n",
       "      <th>196</th>\n",
       "      <td>FOXL2</td>\n",
       "      <td>False</td>\n",
       "      <td>FOXL2</td>\n",
       "      <td>FOXL2</td>\n",
       "      <td>Foxl2</td>\n",
       "    </tr>\n",
       "    <tr>\n",
       "      <th>14030</th>\n",
       "      <td>PIK3CB</td>\n",
       "      <td>False</td>\n",
       "      <td>PIK3CB</td>\n",
       "      <td>PIK3CB</td>\n",
       "      <td>Pik3cb</td>\n",
       "    </tr>\n",
       "  </tbody>\n",
       "</table>\n",
       "</div>"
      ],
      "text/plain": [
       "         name  highly_variable mouse_lemur__gene_name human__gene_name  \\\n",
       "9857     RBP2            False                   RBP2             RBP2   \n",
       "7929    COPB2             True                  COPB2            COPB2   \n",
       "12957  MRPS22            False                 MRPS22           MRPS22   \n",
       "196     FOXL2            False                  FOXL2            FOXL2   \n",
       "14030  PIK3CB            False                 PIK3CB           PIK3CB   \n",
       "\n",
       "      mouse__gene_name  \n",
       "9857              Rbp2  \n",
       "7929             Copb2  \n",
       "12957           Mrps22  \n",
       "196              Foxl2  \n",
       "14030           Pik3cb  "
      ]
     },
     "execution_count": 129,
     "metadata": {},
     "output_type": "execute_result"
    }
   ],
   "source": [
    "lemur_one2one_new_var = lemur_one2one.var.merge(gene_orthologies_one2one_all_three, left_index=True, right_on='mouse_lemur__gene_name')\n",
    "print(lemur_one2one_new_var.shape)\n",
    "lemur_one2one_new_var.head()"
   ]
  },
  {
   "cell_type": "code",
   "execution_count": 130,
   "metadata": {
    "execution_event_id": "844e9f26-5fa2-45cb-b771-e47dd27f77fa",
    "last_executed_text": "lemur_one2one.var = lemur_one2one.var.set_index('human__gene_name')\nlemur_one2one.var.head()",
    "persistent_id": "e6da227f-d4fb-48fc-b9d2-97ecb0afa209"
   },
   "outputs": [
    {
     "data": {
      "text/html": [
       "<div>\n",
       "<style scoped>\n",
       "    .dataframe tbody tr th:only-of-type {\n",
       "        vertical-align: middle;\n",
       "    }\n",
       "\n",
       "    .dataframe tbody tr th {\n",
       "        vertical-align: top;\n",
       "    }\n",
       "\n",
       "    .dataframe thead th {\n",
       "        text-align: right;\n",
       "    }\n",
       "</style>\n",
       "<table border=\"1\" class=\"dataframe\">\n",
       "  <thead>\n",
       "    <tr style=\"text-align: right;\">\n",
       "      <th></th>\n",
       "      <th>name</th>\n",
       "      <th>highly_variable</th>\n",
       "      <th>mouse_lemur__gene_name</th>\n",
       "      <th>mouse__gene_name</th>\n",
       "    </tr>\n",
       "    <tr>\n",
       "      <th>human__gene_name</th>\n",
       "      <th></th>\n",
       "      <th></th>\n",
       "      <th></th>\n",
       "      <th></th>\n",
       "    </tr>\n",
       "  </thead>\n",
       "  <tbody>\n",
       "    <tr>\n",
       "      <th>RBP2</th>\n",
       "      <td>RBP2</td>\n",
       "      <td>False</td>\n",
       "      <td>RBP2</td>\n",
       "      <td>Rbp2</td>\n",
       "    </tr>\n",
       "    <tr>\n",
       "      <th>COPB2</th>\n",
       "      <td>COPB2</td>\n",
       "      <td>True</td>\n",
       "      <td>COPB2</td>\n",
       "      <td>Copb2</td>\n",
       "    </tr>\n",
       "    <tr>\n",
       "      <th>MRPS22</th>\n",
       "      <td>MRPS22</td>\n",
       "      <td>False</td>\n",
       "      <td>MRPS22</td>\n",
       "      <td>Mrps22</td>\n",
       "    </tr>\n",
       "    <tr>\n",
       "      <th>FOXL2</th>\n",
       "      <td>FOXL2</td>\n",
       "      <td>False</td>\n",
       "      <td>FOXL2</td>\n",
       "      <td>Foxl2</td>\n",
       "    </tr>\n",
       "    <tr>\n",
       "      <th>PIK3CB</th>\n",
       "      <td>PIK3CB</td>\n",
       "      <td>False</td>\n",
       "      <td>PIK3CB</td>\n",
       "      <td>Pik3cb</td>\n",
       "    </tr>\n",
       "  </tbody>\n",
       "</table>\n",
       "</div>"
      ],
      "text/plain": [
       "                    name  highly_variable mouse_lemur__gene_name  \\\n",
       "human__gene_name                                                   \n",
       "RBP2                RBP2            False                   RBP2   \n",
       "COPB2              COPB2             True                  COPB2   \n",
       "MRPS22            MRPS22            False                 MRPS22   \n",
       "FOXL2              FOXL2            False                  FOXL2   \n",
       "PIK3CB            PIK3CB            False                 PIK3CB   \n",
       "\n",
       "                 mouse__gene_name  \n",
       "human__gene_name                   \n",
       "RBP2                         Rbp2  \n",
       "COPB2                       Copb2  \n",
       "MRPS22                     Mrps22  \n",
       "FOXL2                       Foxl2  \n",
       "PIK3CB                     Pik3cb  "
      ]
     },
     "execution_count": 130,
     "metadata": {},
     "output_type": "execute_result"
    }
   ],
   "source": [
    "lemur_one2one.var = lemur_one2one_new_var.set_index('human__gene_name')\n",
    "lemur_one2one.var.head()"
   ]
  },
  {
   "cell_type": "markdown",
   "metadata": {},
   "source": [
    "## Write whole object to file"
   ]
  },
  {
   "cell_type": "code",
   "execution_count": 132,
   "metadata": {},
   "outputs": [
    {
     "name": "stdout",
     "output_type": "stream",
     "text": [
      "CPU times: user 1.91 s, sys: 3.91 s, total: 5.83 s\n",
      "Wall time: 4min 6s\n",
      "CPU times: user 982 ms, sys: 1.85 s, total: 2.83 s\n",
      "Wall time: 4.43 s\n"
     ]
    }
   ],
   "source": [
    "for d in outdirs:\n",
    "    h5ad = f\"{d}/alltissues__10x__lemur__one2one_orthologs__july2021.h5ad\"\n",
    "    %time lemur_one2one.write(h5ad)\n"
   ]
  },
  {
   "cell_type": "markdown",
   "metadata": {
    "persistent_id": "2bf4d39d-6b60-4997-be70-92849ef8b799"
   },
   "source": [
    "# Human lung Cell atlas data"
   ]
  },
  {
   "cell_type": "markdown",
   "metadata": {
    "persistent_id": "0d104f3a-6c57-4f6d-8089-26f3b358e9aa"
   },
   "source": [
    "## Read preprocessed Human h5ad"
   ]
  },
  {
   "cell_type": "code",
   "execution_count": 49,
   "metadata": {
    "execution_event_id": "b1d30900-ac29-44e5-a525-649acffad373",
    "last_executed_text": "ls -lha $human_folder",
    "persistent_id": "6828dcaf-0c68-4c45-b75c-4eebb5e082da"
   },
   "outputs": [
    {
     "name": "stdout",
     "output_type": "stream",
     "text": [
      "total 8.5G\n",
      "drwxr-xr-x 2 olga czb 4.0K Feb 15 10:35 .\n",
      "drwxrwxr-x 8 olga czb 4.0K Feb 15 10:35 ..\n",
      "-rw-r--r-- 1 olga czb 8.5G Feb 15 10:35 droplet_normal_lung_blood_P1-3__no_duplicate_barcodes__minimal_obs.h5ad\n"
     ]
    }
   ],
   "source": [
    "human_folder = '/home/olga/data_lg/data_sm_copy/tabula-microcebus/data-objects/human-lung-cell-atlas--from-kyle'\n",
    "! ls -lha $human_folder"
   ]
  },
  {
   "cell_type": "code",
   "execution_count": null,
   "metadata": {},
   "outputs": [],
   "source": [
    "%%time\n",
    "\n",
    "h5ad = f\"{human_folder}/droplet_normal_lung_blood_P1-3__no_duplicate_barcodes__minimal_obs.h5ad\"\n",
    "human = scanpy.read(h5ad, cache=True)\n",
    "human"
   ]
  },
  {
   "cell_type": "markdown",
   "metadata": {
    "persistent_id": "dd6e1df7-b220-4489-98c3-01a9d35b4453"
   },
   "source": [
    "## Subset to 1:1 orthologs"
   ]
  },
  {
   "cell_type": "code",
   "execution_count": null,
   "metadata": {
    "execution_event_id": "b760e5b5-469d-4cef-b637-915cef56c2ce",
    "last_executed_text": "gene_mask = human.var.index.isin(gene_orthologies_one2one_all_three['human__gene_name'].values)\nprint(gene_mask.sum())\n\n# Need to copy so it's not an ArrayView object\nhuman_one2one = human[:, gene_mask].copy()\nhuman_one2one",
    "persistent_id": "91abc876-9b31-4e74-ba0e-ebacfd411eda"
   },
   "outputs": [],
   "source": [
    "gene_mask = human.var.index.isin(gene_orthologies_one2one_all_three['human__gene_name'].values)\n",
    "print(gene_mask.sum())\n",
    "\n",
    "# Need to copy so it's not an ArrayView object\n",
    "human_one2one = human[:, gene_mask].copy()\n",
    "human_one2one"
   ]
  },
  {
   "cell_type": "code",
   "execution_count": null,
   "metadata": {
    "execution_event_id": "6c6c0b3a-55bb-4af9-a5b4-f9720328eef0",
    "last_executed_text": "human_one2one.var = gene_orthologies_one2one_all_three.set_index('human__gene_name').loc[human_one2one.var.index]\nhuman_one2one.var.head()",
    "persistent_id": "ba8526b9-ffa6-4f0c-8826-69d5d1fb6f30"
   },
   "outputs": [],
   "source": [
    "human_one2one.var = gene_orthologies_one2one_all_three.set_index('human__gene_name').loc[human_one2one.var.index]\n",
    "human_one2one.var.head()"
   ]
  },
  {
   "cell_type": "markdown",
   "metadata": {},
   "source": [
    "### Check on \"LOC\" genes in mouse lemur"
   ]
  },
  {
   "cell_type": "code",
   "execution_count": null,
   "metadata": {
    "execution_event_id": "5aba60da-c72e-41f2-bc8e-7a3c88f8d386",
    "last_executed_text": "gene_orthologies_one2one_all_three.loc[gene_orthologies_one2one_all_three.mouse_lemur__gene_name.str.startswith(\"LOC\")]",
    "persistent_id": "696a2e1d-d7cb-43c6-8518-0a724be70e22"
   },
   "outputs": [],
   "source": [
    "gene_orthologies_one2one_all_three.loc[gene_orthologies_one2one_all_three.mouse_lemur__gene_name.str.startswith(\"LOC\")]"
   ]
  },
  {
   "cell_type": "markdown",
   "metadata": {
    "persistent_id": "ef9a1d9b-fa40-4be7-b9b5-b0c5a5ca8348"
   },
   "source": [
    "## Write human to file"
   ]
  },
  {
   "cell_type": "code",
   "execution_count": null,
   "metadata": {
    "execution_event_id": "6c055d04-c0ee-4e92-a77d-c2da297e53fb",
    "last_executed_text": "h5ad = f\"{outdir}/lung__10x__human__one2one_orthologs.h5ad\"\nhuman_one2one.write(h5ad)",
    "persistent_id": "9f67cbbd-9529-4937-bcb8-15b8c64dffc6"
   },
   "outputs": [],
   "source": [
    "for d in outdirs:\n",
    "\n",
    "    h5ad = f\"{d}/hlca_lung_blood_10x__human__one2one_orthologs.h5ad\"\n",
    "    human_one2one.write(h5ad)\n",
    "\n",
    "#     human_one2one.write_csvs(f'{d}/hlca_lung_blood__10x__human__one2one_orthologs__csvs/')\n"
   ]
  },
  {
   "cell_type": "code",
   "execution_count": null,
   "metadata": {},
   "outputs": [],
   "source": [
    "! ls -lha $h5ad"
   ]
  },
  {
   "cell_type": "markdown",
   "metadata": {},
   "source": [
    "# Human: Tabula Sapiens"
   ]
  },
  {
   "cell_type": "code",
   "execution_count": null,
   "metadata": {},
   "outputs": [],
   "source": [
    "h5ad = os.path.join('/home/olga/data_lg/data_sm_copy/tabula-sapiens/data-objects/Pilot1_Pilot2_decontX_Oct2020__minimal_no_pilot2_diaphragm__muscle_update_june2021.h5ad')\n",
    "sapiens = scanpy.read(h5ad, cache=True)\n",
    "sapiens"
   ]
  },
  {
   "cell_type": "code",
   "execution_count": null,
   "metadata": {},
   "outputs": [],
   "source": [
    "def check_celltype_presence(adata, celltypes=('slow muscle cell', 'fast muscle cell'), celltype_col='narrow_group'):\n",
    "    for celltype in celltypes:\n",
    "        assert celltype in set(adata.obs[celltype_col])\n",
    "        \n",
    "check_celltype_presence(sapiens)"
   ]
  },
  {
   "cell_type": "markdown",
   "metadata": {
    "persistent_id": "dd6e1df7-b220-4489-98c3-01a9d35b4453"
   },
   "source": [
    "## Subset to 1:1 orthologs"
   ]
  },
  {
   "cell_type": "code",
   "execution_count": null,
   "metadata": {
    "execution_event_id": "b760e5b5-469d-4cef-b637-915cef56c2ce",
    "last_executed_text": "gene_mask = human.var.index.isin(gene_orthologies_one2one_all_three['human__gene_name'].values)\nprint(gene_mask.sum())\n\n# Need to copy so it's not an ArrayView object\nhuman_one2one = human[:, gene_mask].copy()\nhuman_one2one",
    "persistent_id": "91abc876-9b31-4e74-ba0e-ebacfd411eda"
   },
   "outputs": [],
   "source": [
    "gene_mask = sapiens.var.index.isin(gene_orthologies_one2one_all_three['human__gene_name'].values)\n",
    "print(gene_mask.sum())\n",
    "\n",
    "# Need to copy so it's not an ArrayView object\n",
    "sapiens_one2one = sapiens[:, gene_mask].copy()\n",
    "sapiens_one2one"
   ]
  },
  {
   "cell_type": "code",
   "execution_count": null,
   "metadata": {
    "execution_event_id": "6c6c0b3a-55bb-4af9-a5b4-f9720328eef0",
    "last_executed_text": "human_one2one.var = gene_orthologies_one2one_all_three.set_index('human__gene_name').loc[human_one2one.var.index]\nhuman_one2one.var.head()",
    "persistent_id": "ba8526b9-ffa6-4f0c-8826-69d5d1fb6f30"
   },
   "outputs": [],
   "source": [
    "sapiens_one2one.var = gene_orthologies_one2one_all_three.set_index('human__gene_name').loc[sapiens_one2one.var.index]\n",
    "sapiens_one2one.var.head()"
   ]
  },
  {
   "cell_type": "markdown",
   "metadata": {},
   "source": [
    "## Write sapiens subset to file"
   ]
  },
  {
   "cell_type": "code",
   "execution_count": null,
   "metadata": {},
   "outputs": [],
   "source": [
    "sapiens_h5ad = os.path.join(outdir_local, 'tabula_sapiens__10x__human__one2one_orthologs__june2021_muscle_update.h5ad')\n",
    "sapiens.write(sapiens_h5ad)"
   ]
  },
  {
   "cell_type": "code",
   "execution_count": null,
   "metadata": {},
   "outputs": [],
   "source": [
    "! ls -lha $sapiens_h5ad"
   ]
  },
  {
   "cell_type": "code",
   "execution_count": null,
   "metadata": {},
   "outputs": [],
   "source": []
  }
 ],
 "metadata": {
  "history": [
   {
    "cell": {
     "executionCount": 1,
     "executionEventId": "f0cf01b8-f965-45a5-8f89-6cd8d047052d",
     "hasError": false,
     "id": "aec6269b-289d-408c-9953-40f189350f51",
     "outputs": [],
     "persistentId": "a8fdc6d7-c0d4-4015-84b2-2c05e2785a2f",
     "text": "import pandas as pd\nimport numpy as np\nimport scanpy"
    },
    "executionTime": "2019-12-13T19:33:51.982Z"
   },
   {
    "cell": {
     "executionCount": 2,
     "executionEventId": "cdb9d5ab-e8cb-45c4-bc78-a0f86b6a1e4b",
     "hasError": false,
     "id": "5aca7a03-b866-4602-976e-a7bd2c057772",
     "outputs": [],
     "persistentId": "90b6e0c3-6d40-45cd-8bf5-18422b0734b0",
     "text": "! aws s3 sync s3://czb-tabula-muris-senis/Data-objects/tabula-muris-senis-droplet-processed-official-annotations-Lung.h5ad \\\n    /home/olga/data_lg/data_sm_copy/czb-tabula-muris-senis/Data-objects/tabula-muris-senis-droplet-processed-official-annotations-Lung.h5ad"
    },
    "executionTime": "2019-12-13T19:38:36.827Z"
   },
   {
    "cell": {
     "executionCount": 3,
     "executionEventId": "5f88741d-4e10-4232-8c1f-74e3e1139514",
     "hasError": false,
     "id": "aec6269b-289d-408c-9953-40f189350f51",
     "outputs": [],
     "persistentId": "a8fdc6d7-c0d4-4015-84b2-2c05e2785a2f",
     "text": "import anndata\nimport pandas as pd\nimport numpy as np\nimport scanpy\n"
    },
    "executionTime": "2019-12-13T19:38:56.447Z"
   },
   {
    "cell": {
     "executionCount": 4,
     "executionEventId": "f3b9712b-c640-4c82-bc83-bdcfecc8c2ba",
     "hasError": true,
     "id": "cb1b7564-87e7-4beb-aba7-e829ae4d6f9e",
     "outputs": [
      {
       "ename": "OSError",
       "evalue": "Unable to open file (file read failed: time = Fri Dec 13 11:40:31 2019\n, filename = '/home/olga/data_lg/data_sm_copy/czb-tabula-muris-senis/Data-objects/tabula-muris-senis-droplet-processed-official-annotations-Lung.h5ad', file descriptor = 44, errno = 21, error message = 'Is a directory', buf = 0x7ffef18a2b60, total read size = 8, bytes this sub-read = 8, bytes actually read = 18446744073709551615, offset = 0)",
       "output_type": "error",
       "traceback": [
        "\u001b[0;31m---------------------------------------------------------------------------\u001b[0m",
        "\u001b[0;31mOSError\u001b[0m                                   Traceback (most recent call last)",
        "\u001b[0;32m<ipython-input-4-9171b682d3d0>\u001b[0m in \u001b[0;36m<module>\u001b[0;34m\u001b[0m\n\u001b[1;32m      1\u001b[0m \u001b[0mh5ad\u001b[0m \u001b[0;34m=\u001b[0m \u001b[0;34m'/home/olga/data_lg/data_sm_copy/czb-tabula-muris-senis/Data-objects/tabula-muris-senis-droplet-processed-official-annotations-Lung.h5ad'\u001b[0m\u001b[0;34m\u001b[0m\u001b[0;34m\u001b[0m\u001b[0m\n\u001b[0;32m----> 2\u001b[0;31m \u001b[0mmouse\u001b[0m \u001b[0;34m=\u001b[0m \u001b[0mscanpy\u001b[0m\u001b[0;34m.\u001b[0m\u001b[0mread_h5ad\u001b[0m\u001b[0;34m(\u001b[0m\u001b[0mh5ad\u001b[0m\u001b[0;34m)\u001b[0m\u001b[0;34m\u001b[0m\u001b[0;34m\u001b[0m\u001b[0m\n\u001b[0m\u001b[1;32m      3\u001b[0m \u001b[0mmouse\u001b[0m\u001b[0;34m\u001b[0m\u001b[0;34m\u001b[0m\u001b[0m\n",
        "\u001b[0;32m~/miniconda3/envs/sc-tutorial/lib/python3.7/site-packages/anndata/readwrite/read.py\u001b[0m in \u001b[0;36mread_h5ad\u001b[0;34m(filename, backed, chunk_size)\u001b[0m\n\u001b[1;32m    445\u001b[0m     \u001b[0;32melse\u001b[0m\u001b[0;34m:\u001b[0m\u001b[0;34m\u001b[0m\u001b[0;34m\u001b[0m\u001b[0m\n\u001b[1;32m    446\u001b[0m         \u001b[0;31m# load everything into memory\u001b[0m\u001b[0;34m\u001b[0m\u001b[0;34m\u001b[0m\u001b[0;34m\u001b[0m\u001b[0m\n\u001b[0;32m--> 447\u001b[0;31m         \u001b[0mconstructor_args\u001b[0m \u001b[0;34m=\u001b[0m \u001b[0m_read_args_from_h5ad\u001b[0m\u001b[0;34m(\u001b[0m\u001b[0mfilename\u001b[0m\u001b[0;34m=\u001b[0m\u001b[0mfilename\u001b[0m\u001b[0;34m,\u001b[0m \u001b[0mchunk_size\u001b[0m\u001b[0;34m=\u001b[0m\u001b[0mchunk_size\u001b[0m\u001b[0;34m)\u001b[0m\u001b[0;34m\u001b[0m\u001b[0;34m\u001b[0m\u001b[0m\n\u001b[0m\u001b[1;32m    448\u001b[0m         \u001b[0mX\u001b[0m \u001b[0;34m=\u001b[0m \u001b[0mconstructor_args\u001b[0m\u001b[0;34m[\u001b[0m\u001b[0;36m0\u001b[0m\u001b[0;34m]\u001b[0m\u001b[0;34m\u001b[0m\u001b[0;34m\u001b[0m\u001b[0m\n\u001b[1;32m    449\u001b[0m         \u001b[0mdtype\u001b[0m \u001b[0;34m=\u001b[0m \u001b[0;32mNone\u001b[0m\u001b[0;34m\u001b[0m\u001b[0;34m\u001b[0m\u001b[0m\n",
        "\u001b[0;32m~/miniconda3/envs/sc-tutorial/lib/python3.7/site-packages/anndata/readwrite/read.py\u001b[0m in \u001b[0;36m_read_args_from_h5ad\u001b[0;34m(adata, filename, mode, chunk_size)\u001b[0m\n\u001b[1;32m    479\u001b[0m         \u001b[0mf\u001b[0m \u001b[0;34m=\u001b[0m \u001b[0madata\u001b[0m\u001b[0;34m.\u001b[0m\u001b[0mfile\u001b[0m\u001b[0;34m.\u001b[0m\u001b[0m_file\u001b[0m\u001b[0;34m\u001b[0m\u001b[0;34m\u001b[0m\u001b[0m\n\u001b[1;32m    480\u001b[0m     \u001b[0;32melse\u001b[0m\u001b[0;34m:\u001b[0m\u001b[0;34m\u001b[0m\u001b[0;34m\u001b[0m\u001b[0m\n\u001b[0;32m--> 481\u001b[0;31m         \u001b[0mf\u001b[0m \u001b[0;34m=\u001b[0m \u001b[0mh5py\u001b[0m\u001b[0;34m.\u001b[0m\u001b[0mFile\u001b[0m\u001b[0;34m(\u001b[0m\u001b[0mfilename\u001b[0m\u001b[0;34m,\u001b[0m \u001b[0;34m'r'\u001b[0m\u001b[0;34m)\u001b[0m\u001b[0;34m\u001b[0m\u001b[0;34m\u001b[0m\u001b[0m\n\u001b[0m\u001b[1;32m    482\u001b[0m     \u001b[0;32mfor\u001b[0m \u001b[0mkey\u001b[0m \u001b[0;32min\u001b[0m \u001b[0mf\u001b[0m\u001b[0;34m.\u001b[0m\u001b[0mkeys\u001b[0m\u001b[0;34m(\u001b[0m\u001b[0;34m)\u001b[0m\u001b[0;34m:\u001b[0m\u001b[0;34m\u001b[0m\u001b[0;34m\u001b[0m\u001b[0m\n\u001b[1;32m    483\u001b[0m         \u001b[0;32mif\u001b[0m \u001b[0mbacked\u001b[0m \u001b[0;32mand\u001b[0m \u001b[0mkey\u001b[0m \u001b[0;32min\u001b[0m \u001b[0mAnnData\u001b[0m\u001b[0;34m.\u001b[0m\u001b[0m_BACKED_ATTRS\u001b[0m\u001b[0;34m:\u001b[0m\u001b[0;34m\u001b[0m\u001b[0;34m\u001b[0m\u001b[0m\n",
        "\u001b[0;32m~/miniconda3/envs/sc-tutorial/lib/python3.7/site-packages/anndata/h5py/h5sparse.py\u001b[0m in \u001b[0;36m__init__\u001b[0;34m(self, name, mode, driver, libver, userblock_size, swmr, force_dense, **kwds)\u001b[0m\n\u001b[1;32m    160\u001b[0m             \u001b[0muserblock_size\u001b[0m\u001b[0;34m=\u001b[0m\u001b[0muserblock_size\u001b[0m\u001b[0;34m,\u001b[0m\u001b[0;34m\u001b[0m\u001b[0;34m\u001b[0m\u001b[0m\n\u001b[1;32m    161\u001b[0m             \u001b[0mswmr\u001b[0m\u001b[0;34m=\u001b[0m\u001b[0mswmr\u001b[0m\u001b[0;34m,\u001b[0m\u001b[0;34m\u001b[0m\u001b[0;34m\u001b[0m\u001b[0m\n\u001b[0;32m--> 162\u001b[0;31m             \u001b[0;34m**\u001b[0m\u001b[0mkwds\u001b[0m\u001b[0;34m,\u001b[0m\u001b[0;34m\u001b[0m\u001b[0;34m\u001b[0m\u001b[0m\n\u001b[0m\u001b[1;32m    163\u001b[0m         )\n\u001b[1;32m    164\u001b[0m         \u001b[0msuper\u001b[0m\u001b[0;34m(\u001b[0m\u001b[0;34m)\u001b[0m\u001b[0;34m.\u001b[0m\u001b[0m__init__\u001b[0m\u001b[0;34m(\u001b[0m\u001b[0mself\u001b[0m\u001b[0;34m.\u001b[0m\u001b[0mh5f\u001b[0m\u001b[0;34m,\u001b[0m \u001b[0mforce_dense\u001b[0m\u001b[0;34m)\u001b[0m\u001b[0;34m\u001b[0m\u001b[0;34m\u001b[0m\u001b[0m\n",
        "\u001b[0;32m~/miniconda3/envs/sc-tutorial/lib/python3.7/site-packages/h5py/_hl/files.py\u001b[0m in \u001b[0;36m__init__\u001b[0;34m(self, name, mode, driver, libver, userblock_size, swmr, rdcc_nslots, rdcc_nbytes, rdcc_w0, track_order, **kwds)\u001b[0m\n\u001b[1;32m    406\u001b[0m                 fid = make_fid(name, mode, userblock_size,\n\u001b[1;32m    407\u001b[0m                                \u001b[0mfapl\u001b[0m\u001b[0;34m,\u001b[0m \u001b[0mfcpl\u001b[0m\u001b[0;34m=\u001b[0m\u001b[0mmake_fcpl\u001b[0m\u001b[0;34m(\u001b[0m\u001b[0mtrack_order\u001b[0m\u001b[0;34m=\u001b[0m\u001b[0mtrack_order\u001b[0m\u001b[0;34m)\u001b[0m\u001b[0;34m,\u001b[0m\u001b[0;34m\u001b[0m\u001b[0;34m\u001b[0m\u001b[0m\n\u001b[0;32m--> 408\u001b[0;31m                                swmr=swmr)\n\u001b[0m\u001b[1;32m    409\u001b[0m \u001b[0;34m\u001b[0m\u001b[0m\n\u001b[1;32m    410\u001b[0m             \u001b[0;32mif\u001b[0m \u001b[0misinstance\u001b[0m\u001b[0;34m(\u001b[0m\u001b[0mlibver\u001b[0m\u001b[0;34m,\u001b[0m \u001b[0mtuple\u001b[0m\u001b[0;34m)\u001b[0m\u001b[0;34m:\u001b[0m\u001b[0;34m\u001b[0m\u001b[0;34m\u001b[0m\u001b[0m\n",
        "\u001b[0;32m~/miniconda3/envs/sc-tutorial/lib/python3.7/site-packages/h5py/_hl/files.py\u001b[0m in \u001b[0;36mmake_fid\u001b[0;34m(name, mode, userblock_size, fapl, fcpl, swmr)\u001b[0m\n\u001b[1;32m    171\u001b[0m         \u001b[0;32mif\u001b[0m \u001b[0mswmr\u001b[0m \u001b[0;32mand\u001b[0m \u001b[0mswmr_support\u001b[0m\u001b[0;34m:\u001b[0m\u001b[0;34m\u001b[0m\u001b[0;34m\u001b[0m\u001b[0m\n\u001b[1;32m    172\u001b[0m             \u001b[0mflags\u001b[0m \u001b[0;34m|=\u001b[0m \u001b[0mh5f\u001b[0m\u001b[0;34m.\u001b[0m\u001b[0mACC_SWMR_READ\u001b[0m\u001b[0;34m\u001b[0m\u001b[0;34m\u001b[0m\u001b[0m\n\u001b[0;32m--> 173\u001b[0;31m         \u001b[0mfid\u001b[0m \u001b[0;34m=\u001b[0m \u001b[0mh5f\u001b[0m\u001b[0;34m.\u001b[0m\u001b[0mopen\u001b[0m\u001b[0;34m(\u001b[0m\u001b[0mname\u001b[0m\u001b[0;34m,\u001b[0m \u001b[0mflags\u001b[0m\u001b[0;34m,\u001b[0m \u001b[0mfapl\u001b[0m\u001b[0;34m=\u001b[0m\u001b[0mfapl\u001b[0m\u001b[0;34m)\u001b[0m\u001b[0;34m\u001b[0m\u001b[0;34m\u001b[0m\u001b[0m\n\u001b[0m\u001b[1;32m    174\u001b[0m     \u001b[0;32melif\u001b[0m \u001b[0mmode\u001b[0m \u001b[0;34m==\u001b[0m \u001b[0;34m'r+'\u001b[0m\u001b[0;34m:\u001b[0m\u001b[0;34m\u001b[0m\u001b[0;34m\u001b[0m\u001b[0m\n\u001b[1;32m    175\u001b[0m         \u001b[0mfid\u001b[0m \u001b[0;34m=\u001b[0m \u001b[0mh5f\u001b[0m\u001b[0;34m.\u001b[0m\u001b[0mopen\u001b[0m\u001b[0;34m(\u001b[0m\u001b[0mname\u001b[0m\u001b[0;34m,\u001b[0m \u001b[0mh5f\u001b[0m\u001b[0;34m.\u001b[0m\u001b[0mACC_RDWR\u001b[0m\u001b[0;34m,\u001b[0m \u001b[0mfapl\u001b[0m\u001b[0;34m=\u001b[0m\u001b[0mfapl\u001b[0m\u001b[0;34m)\u001b[0m\u001b[0;34m\u001b[0m\u001b[0;34m\u001b[0m\u001b[0m\n",
        "\u001b[0;32mh5py/_objects.pyx\u001b[0m in \u001b[0;36mh5py._objects.with_phil.wrapper\u001b[0;34m()\u001b[0m\n",
        "\u001b[0;32mh5py/_objects.pyx\u001b[0m in \u001b[0;36mh5py._objects.with_phil.wrapper\u001b[0;34m()\u001b[0m\n",
        "\u001b[0;32mh5py/h5f.pyx\u001b[0m in \u001b[0;36mh5py.h5f.open\u001b[0;34m()\u001b[0m\n",
        "\u001b[0;31mOSError\u001b[0m: Unable to open file (file read failed: time = Fri Dec 13 11:40:31 2019\n, filename = '/home/olga/data_lg/data_sm_copy/czb-tabula-muris-senis/Data-objects/tabula-muris-senis-droplet-processed-official-annotations-Lung.h5ad', file descriptor = 44, errno = 21, error message = 'Is a directory', buf = 0x7ffef18a2b60, total read size = 8, bytes this sub-read = 8, bytes actually read = 18446744073709551615, offset = 0)"
       ]
      }
     ],
     "persistentId": "4f3bc39b-b078-47e4-933a-85a8407368e3",
     "text": "h5ad = '/home/olga/data_lg/data_sm_copy/czb-tabula-muris-senis/Data-objects/tabula-muris-senis-droplet-processed-official-annotations-Lung.h5ad'\nmouse = scanpy.read_h5ad(h5ad)\nmouse"
    },
    "executionTime": "2019-12-13T19:40:32.616Z"
   },
   {
    "cell": {
     "executionCount": 5,
     "executionEventId": "33a458d1-2f09-4dd3-a3e4-12bc6695dd7f",
     "hasError": false,
     "id": "5aca7a03-b866-4602-976e-a7bd2c057772",
     "outputs": [
      {
       "name": "stdout",
       "output_type": "stream",
       "text": "usage: aws [options] <command> <subcommand> [<subcommand> ...] [parameters]\nTo see help text, you can run:\n\n  aws help\n  aws <command> help\n  aws <command> <subcommand> help\naws: error: argument subcommand: Invalid choice, valid choices are:\n\nls                                       | website                                 \ncp                                       | mv                                      \nrm                                       | sync                                    \nmb                                       | rb                                      \npresign                                 \n"
      }
     ],
     "persistentId": "90b6e0c3-6d40-45cd-8bf5-18422b0734b0",
     "text": "! aws s3 cp://czb-tabula-muris-senis/Data-objects/tabula-muris-senis-droplet-processed-official-annotations-Lung.h5ad \\\n    /home/olga/data_lg/data_sm_copy/czb-tabula-muris-senis/Data-objects/tabula-muris-senis-droplet-processed-official-annotations-Lung.h5ad"
    },
    "executionTime": "2019-12-13T19:40:44.261Z"
   },
   {
    "cell": {
     "executionCount": 6,
     "executionEventId": "89935e03-527e-4fd1-a492-7acc7730f7f1",
     "hasError": true,
     "id": "5aca7a03-b866-4602-976e-a7bd2c057772",
     "outputs": [
      {
       "name": "stdout",
       "output_type": "stream",
       "text": "Completed 82.2 MiB/648.4 MiB (7.9 MiB/s) with 1 file(s) remaining   \r"
      },
      {
       "ename": "KeyboardInterrupt",
       "evalue": "",
       "output_type": "error",
       "traceback": [
        "\u001b[0;31m---------------------------------------------------------------------------\u001b[0m",
        "\u001b[0;31mKeyboardInterrupt\u001b[0m                         Traceback (most recent call last)",
        "\u001b[0;32m~/miniconda3/envs/sc-tutorial/lib/python3.7/site-packages/IPython/utils/_process_posix.py\u001b[0m in \u001b[0;36msystem\u001b[0;34m(self, cmd)\u001b[0m\n\u001b[1;32m    160\u001b[0m                 \u001b[0;31m# know whether we've finished (if we matched EOF) or not\u001b[0m\u001b[0;34m\u001b[0m\u001b[0;34m\u001b[0m\u001b[0;34m\u001b[0m\u001b[0m\n\u001b[0;32m--> 161\u001b[0;31m                 \u001b[0mres_idx\u001b[0m \u001b[0;34m=\u001b[0m \u001b[0mchild\u001b[0m\u001b[0;34m.\u001b[0m\u001b[0mexpect_list\u001b[0m\u001b[0;34m(\u001b[0m\u001b[0mpatterns\u001b[0m\u001b[0;34m,\u001b[0m \u001b[0mself\u001b[0m\u001b[0;34m.\u001b[0m\u001b[0mread_timeout\u001b[0m\u001b[0;34m)\u001b[0m\u001b[0;34m\u001b[0m\u001b[0;34m\u001b[0m\u001b[0m\n\u001b[0m\u001b[1;32m    162\u001b[0m                 \u001b[0mprint\u001b[0m\u001b[0;34m(\u001b[0m\u001b[0mchild\u001b[0m\u001b[0;34m.\u001b[0m\u001b[0mbefore\u001b[0m\u001b[0;34m[\u001b[0m\u001b[0mout_size\u001b[0m\u001b[0;34m:\u001b[0m\u001b[0;34m]\u001b[0m\u001b[0;34m.\u001b[0m\u001b[0mdecode\u001b[0m\u001b[0;34m(\u001b[0m\u001b[0menc\u001b[0m\u001b[0;34m,\u001b[0m \u001b[0;34m'replace'\u001b[0m\u001b[0;34m)\u001b[0m\u001b[0;34m,\u001b[0m \u001b[0mend\u001b[0m\u001b[0;34m=\u001b[0m\u001b[0;34m''\u001b[0m\u001b[0;34m)\u001b[0m\u001b[0;34m\u001b[0m\u001b[0;34m\u001b[0m\u001b[0m\n",
        "\u001b[0;32m~/miniconda3/envs/sc-tutorial/lib/python3.7/site-packages/pexpect/spawnbase.py\u001b[0m in \u001b[0;36mexpect_list\u001b[0;34m(self, pattern_list, timeout, searchwindowsize, async_, **kw)\u001b[0m\n\u001b[1;32m    368\u001b[0m         \u001b[0;32melse\u001b[0m\u001b[0;34m:\u001b[0m\u001b[0;34m\u001b[0m\u001b[0;34m\u001b[0m\u001b[0m\n\u001b[0;32m--> 369\u001b[0;31m             \u001b[0;32mreturn\u001b[0m \u001b[0mexp\u001b[0m\u001b[0;34m.\u001b[0m\u001b[0mexpect_loop\u001b[0m\u001b[0;34m(\u001b[0m\u001b[0mtimeout\u001b[0m\u001b[0;34m)\u001b[0m\u001b[0;34m\u001b[0m\u001b[0;34m\u001b[0m\u001b[0m\n\u001b[0m\u001b[1;32m    370\u001b[0m \u001b[0;34m\u001b[0m\u001b[0m\n",
        "\u001b[0;32m~/miniconda3/envs/sc-tutorial/lib/python3.7/site-packages/pexpect/expect.py\u001b[0m in \u001b[0;36mexpect_loop\u001b[0;34m(self, timeout)\u001b[0m\n\u001b[1;32m    110\u001b[0m                 \u001b[0;31m# Still have time left, so read more data\u001b[0m\u001b[0;34m\u001b[0m\u001b[0;34m\u001b[0m\u001b[0;34m\u001b[0m\u001b[0m\n\u001b[0;32m--> 111\u001b[0;31m                 \u001b[0mincoming\u001b[0m \u001b[0;34m=\u001b[0m \u001b[0mspawn\u001b[0m\u001b[0;34m.\u001b[0m\u001b[0mread_nonblocking\u001b[0m\u001b[0;34m(\u001b[0m\u001b[0mspawn\u001b[0m\u001b[0;34m.\u001b[0m\u001b[0mmaxread\u001b[0m\u001b[0;34m,\u001b[0m \u001b[0mtimeout\u001b[0m\u001b[0;34m)\u001b[0m\u001b[0;34m\u001b[0m\u001b[0;34m\u001b[0m\u001b[0m\n\u001b[0m\u001b[1;32m    112\u001b[0m                 \u001b[0;32mif\u001b[0m \u001b[0mself\u001b[0m\u001b[0;34m.\u001b[0m\u001b[0mspawn\u001b[0m\u001b[0;34m.\u001b[0m\u001b[0mdelayafterread\u001b[0m \u001b[0;32mis\u001b[0m \u001b[0;32mnot\u001b[0m \u001b[0;32mNone\u001b[0m\u001b[0;34m:\u001b[0m\u001b[0;34m\u001b[0m\u001b[0;34m\u001b[0m\u001b[0m\n",
        "\u001b[0;32m~/miniconda3/envs/sc-tutorial/lib/python3.7/site-packages/pexpect/pty_spawn.py\u001b[0m in \u001b[0;36mread_nonblocking\u001b[0;34m(self, size, timeout)\u001b[0m\n\u001b[1;32m    498\u001b[0m         \u001b[0;31m# (possibly timeout=None), we call select() with a timeout.\u001b[0m\u001b[0;34m\u001b[0m\u001b[0;34m\u001b[0m\u001b[0;34m\u001b[0m\u001b[0m\n\u001b[0;32m--> 499\u001b[0;31m         \u001b[0;32mif\u001b[0m \u001b[0;34m(\u001b[0m\u001b[0mtimeout\u001b[0m \u001b[0;34m!=\u001b[0m \u001b[0;36m0\u001b[0m\u001b[0;34m)\u001b[0m \u001b[0;32mand\u001b[0m \u001b[0mselect\u001b[0m\u001b[0;34m(\u001b[0m\u001b[0mtimeout\u001b[0m\u001b[0;34m)\u001b[0m\u001b[0;34m:\u001b[0m\u001b[0;34m\u001b[0m\u001b[0;34m\u001b[0m\u001b[0m\n\u001b[0m\u001b[1;32m    500\u001b[0m             \u001b[0;32mreturn\u001b[0m \u001b[0msuper\u001b[0m\u001b[0;34m(\u001b[0m\u001b[0mspawn\u001b[0m\u001b[0;34m,\u001b[0m \u001b[0mself\u001b[0m\u001b[0;34m)\u001b[0m\u001b[0;34m.\u001b[0m\u001b[0mread_nonblocking\u001b[0m\u001b[0;34m(\u001b[0m\u001b[0msize\u001b[0m\u001b[0;34m)\u001b[0m\u001b[0;34m\u001b[0m\u001b[0;34m\u001b[0m\u001b[0m\n",
        "\u001b[0;32m~/miniconda3/envs/sc-tutorial/lib/python3.7/site-packages/pexpect/pty_spawn.py\u001b[0m in \u001b[0;36mselect\u001b[0;34m(timeout)\u001b[0m\n\u001b[1;32m    448\u001b[0m             \u001b[0;32mdef\u001b[0m \u001b[0mselect\u001b[0m\u001b[0;34m(\u001b[0m\u001b[0mtimeout\u001b[0m\u001b[0;34m)\u001b[0m\u001b[0;34m:\u001b[0m\u001b[0;34m\u001b[0m\u001b[0;34m\u001b[0m\u001b[0m\n\u001b[0;32m--> 449\u001b[0;31m                 \u001b[0;32mreturn\u001b[0m \u001b[0mselect_ignore_interrupts\u001b[0m\u001b[0;34m(\u001b[0m\u001b[0;34m[\u001b[0m\u001b[0mself\u001b[0m\u001b[0;34m.\u001b[0m\u001b[0mchild_fd\u001b[0m\u001b[0;34m]\u001b[0m\u001b[0;34m,\u001b[0m \u001b[0;34m[\u001b[0m\u001b[0;34m]\u001b[0m\u001b[0;34m,\u001b[0m \u001b[0;34m[\u001b[0m\u001b[0;34m]\u001b[0m\u001b[0;34m,\u001b[0m \u001b[0mtimeout\u001b[0m\u001b[0;34m)\u001b[0m\u001b[0;34m[\u001b[0m\u001b[0;36m0\u001b[0m\u001b[0;34m]\u001b[0m\u001b[0;34m\u001b[0m\u001b[0;34m\u001b[0m\u001b[0m\n\u001b[0m\u001b[1;32m    450\u001b[0m \u001b[0;34m\u001b[0m\u001b[0m\n",
        "\u001b[0;32m~/miniconda3/envs/sc-tutorial/lib/python3.7/site-packages/pexpect/utils.py\u001b[0m in \u001b[0;36mselect_ignore_interrupts\u001b[0;34m(iwtd, owtd, ewtd, timeout)\u001b[0m\n\u001b[1;32m    142\u001b[0m         \u001b[0;32mtry\u001b[0m\u001b[0;34m:\u001b[0m\u001b[0;34m\u001b[0m\u001b[0;34m\u001b[0m\u001b[0m\n\u001b[0;32m--> 143\u001b[0;31m             \u001b[0;32mreturn\u001b[0m \u001b[0mselect\u001b[0m\u001b[0;34m.\u001b[0m\u001b[0mselect\u001b[0m\u001b[0;34m(\u001b[0m\u001b[0miwtd\u001b[0m\u001b[0;34m,\u001b[0m \u001b[0mowtd\u001b[0m\u001b[0;34m,\u001b[0m \u001b[0mewtd\u001b[0m\u001b[0;34m,\u001b[0m \u001b[0mtimeout\u001b[0m\u001b[0;34m)\u001b[0m\u001b[0;34m\u001b[0m\u001b[0;34m\u001b[0m\u001b[0m\n\u001b[0m\u001b[1;32m    144\u001b[0m         \u001b[0;32mexcept\u001b[0m \u001b[0mInterruptedError\u001b[0m\u001b[0;34m:\u001b[0m\u001b[0;34m\u001b[0m\u001b[0;34m\u001b[0m\u001b[0m\n",
        "\u001b[0;31mKeyboardInterrupt\u001b[0m: ",
        "\nDuring handling of the above exception, another exception occurred:\n",
        "\u001b[0;31mKeyboardInterrupt\u001b[0m                         Traceback (most recent call last)",
        "\u001b[0;32m<ipython-input-6-47199795c05b>\u001b[0m in \u001b[0;36m<module>\u001b[0;34m\u001b[0m\n\u001b[0;32m----> 1\u001b[0;31m \u001b[0mget_ipython\u001b[0m\u001b[0;34m(\u001b[0m\u001b[0;34m)\u001b[0m\u001b[0;34m.\u001b[0m\u001b[0msystem\u001b[0m\u001b[0;34m(\u001b[0m\u001b[0;34m' aws s3 cp s3://czb-tabula-muris-senis/Data-objects/tabula-muris-senis-droplet-processed-official-annotations-Lung.h5ad      /home/olga/data_lg/data_sm_copy/czb-tabula-muris-senis/Data-objects/tabula-muris-senis-droplet-processed-official-annotations-Lung.h5ad'\u001b[0m\u001b[0;34m)\u001b[0m\u001b[0;34m\u001b[0m\u001b[0;34m\u001b[0m\u001b[0m\n\u001b[0m",
        "\u001b[0;32m~/miniconda3/envs/sc-tutorial/lib/python3.7/site-packages/IPython/core/interactiveshell.py\u001b[0m in \u001b[0;36msystem_piped\u001b[0;34m(self, cmd)\u001b[0m\n\u001b[1;32m   2451\u001b[0m         \u001b[0;31m# a non-None value would trigger :func:`sys.displayhook` calls.\u001b[0m\u001b[0;34m\u001b[0m\u001b[0;34m\u001b[0m\u001b[0;34m\u001b[0m\u001b[0m\n\u001b[1;32m   2452\u001b[0m         \u001b[0;31m# Instead, we store the exit_code in user_ns.\u001b[0m\u001b[0;34m\u001b[0m\u001b[0;34m\u001b[0m\u001b[0;34m\u001b[0m\u001b[0m\n\u001b[0;32m-> 2453\u001b[0;31m         \u001b[0mself\u001b[0m\u001b[0;34m.\u001b[0m\u001b[0muser_ns\u001b[0m\u001b[0;34m[\u001b[0m\u001b[0;34m'_exit_code'\u001b[0m\u001b[0;34m]\u001b[0m \u001b[0;34m=\u001b[0m \u001b[0msystem\u001b[0m\u001b[0;34m(\u001b[0m\u001b[0mself\u001b[0m\u001b[0;34m.\u001b[0m\u001b[0mvar_expand\u001b[0m\u001b[0;34m(\u001b[0m\u001b[0mcmd\u001b[0m\u001b[0;34m,\u001b[0m \u001b[0mdepth\u001b[0m\u001b[0;34m=\u001b[0m\u001b[0;36m1\u001b[0m\u001b[0;34m)\u001b[0m\u001b[0;34m)\u001b[0m\u001b[0;34m\u001b[0m\u001b[0;34m\u001b[0m\u001b[0m\n\u001b[0m\u001b[1;32m   2454\u001b[0m \u001b[0;34m\u001b[0m\u001b[0m\n\u001b[1;32m   2455\u001b[0m     \u001b[0;32mdef\u001b[0m \u001b[0msystem_raw\u001b[0m\u001b[0;34m(\u001b[0m\u001b[0mself\u001b[0m\u001b[0;34m,\u001b[0m \u001b[0mcmd\u001b[0m\u001b[0;34m)\u001b[0m\u001b[0;34m:\u001b[0m\u001b[0;34m\u001b[0m\u001b[0;34m\u001b[0m\u001b[0m\n",
        "\u001b[0;32m~/miniconda3/envs/sc-tutorial/lib/python3.7/site-packages/IPython/utils/_process_posix.py\u001b[0m in \u001b[0;36msystem\u001b[0;34m(self, cmd)\u001b[0m\n\u001b[1;32m    170\u001b[0m             \u001b[0;31m# (the character is known as ETX for 'End of Text', see\u001b[0m\u001b[0;34m\u001b[0m\u001b[0;34m\u001b[0m\u001b[0;34m\u001b[0m\u001b[0m\n\u001b[1;32m    171\u001b[0m             \u001b[0;31m# curses.ascii.ETX).\u001b[0m\u001b[0;34m\u001b[0m\u001b[0;34m\u001b[0m\u001b[0;34m\u001b[0m\u001b[0m\n\u001b[0;32m--> 172\u001b[0;31m             \u001b[0mchild\u001b[0m\u001b[0;34m.\u001b[0m\u001b[0msendline\u001b[0m\u001b[0;34m(\u001b[0m\u001b[0mchr\u001b[0m\u001b[0;34m(\u001b[0m\u001b[0;36m3\u001b[0m\u001b[0;34m)\u001b[0m\u001b[0;34m)\u001b[0m\u001b[0;34m\u001b[0m\u001b[0;34m\u001b[0m\u001b[0m\n\u001b[0m\u001b[1;32m    173\u001b[0m             \u001b[0;31m# Read and print any more output the program might produce on its\u001b[0m\u001b[0;34m\u001b[0m\u001b[0;34m\u001b[0m\u001b[0;34m\u001b[0m\u001b[0m\n\u001b[1;32m    174\u001b[0m             \u001b[0;31m# way out.\u001b[0m\u001b[0;34m\u001b[0m\u001b[0;34m\u001b[0m\u001b[0;34m\u001b[0m\u001b[0m\n",
        "\u001b[0;32m~/miniconda3/envs/sc-tutorial/lib/python3.7/site-packages/pexpect/pty_spawn.py\u001b[0m in \u001b[0;36msendline\u001b[0;34m(self, s)\u001b[0m\n\u001b[1;32m    575\u001b[0m         '''\n\u001b[1;32m    576\u001b[0m         \u001b[0ms\u001b[0m \u001b[0;34m=\u001b[0m \u001b[0mself\u001b[0m\u001b[0;34m.\u001b[0m\u001b[0m_coerce_send_string\u001b[0m\u001b[0;34m(\u001b[0m\u001b[0ms\u001b[0m\u001b[0;34m)\u001b[0m\u001b[0;34m\u001b[0m\u001b[0;34m\u001b[0m\u001b[0m\n\u001b[0;32m--> 577\u001b[0;31m         \u001b[0;32mreturn\u001b[0m \u001b[0mself\u001b[0m\u001b[0;34m.\u001b[0m\u001b[0msend\u001b[0m\u001b[0;34m(\u001b[0m\u001b[0ms\u001b[0m \u001b[0;34m+\u001b[0m \u001b[0mself\u001b[0m\u001b[0;34m.\u001b[0m\u001b[0mlinesep\u001b[0m\u001b[0;34m)\u001b[0m\u001b[0;34m\u001b[0m\u001b[0;34m\u001b[0m\u001b[0m\n\u001b[0m\u001b[1;32m    578\u001b[0m \u001b[0;34m\u001b[0m\u001b[0m\n\u001b[1;32m    579\u001b[0m     \u001b[0;32mdef\u001b[0m \u001b[0m_log_control\u001b[0m\u001b[0;34m(\u001b[0m\u001b[0mself\u001b[0m\u001b[0;34m,\u001b[0m \u001b[0ms\u001b[0m\u001b[0;34m)\u001b[0m\u001b[0;34m:\u001b[0m\u001b[0;34m\u001b[0m\u001b[0;34m\u001b[0m\u001b[0m\n",
        "\u001b[0;32m~/miniconda3/envs/sc-tutorial/lib/python3.7/site-packages/pexpect/pty_spawn.py\u001b[0m in \u001b[0;36msend\u001b[0;34m(self, s)\u001b[0m\n\u001b[1;32m    560\u001b[0m \u001b[0;34m\u001b[0m\u001b[0m\n\u001b[1;32m    561\u001b[0m         \u001b[0;32mif\u001b[0m \u001b[0mself\u001b[0m\u001b[0;34m.\u001b[0m\u001b[0mdelaybeforesend\u001b[0m \u001b[0;32mis\u001b[0m \u001b[0;32mnot\u001b[0m \u001b[0;32mNone\u001b[0m\u001b[0;34m:\u001b[0m\u001b[0;34m\u001b[0m\u001b[0;34m\u001b[0m\u001b[0m\n\u001b[0;32m--> 562\u001b[0;31m             \u001b[0mtime\u001b[0m\u001b[0;34m.\u001b[0m\u001b[0msleep\u001b[0m\u001b[0;34m(\u001b[0m\u001b[0mself\u001b[0m\u001b[0;34m.\u001b[0m\u001b[0mdelaybeforesend\u001b[0m\u001b[0;34m)\u001b[0m\u001b[0;34m\u001b[0m\u001b[0;34m\u001b[0m\u001b[0m\n\u001b[0m\u001b[1;32m    563\u001b[0m \u001b[0;34m\u001b[0m\u001b[0m\n\u001b[1;32m    564\u001b[0m         \u001b[0ms\u001b[0m \u001b[0;34m=\u001b[0m \u001b[0mself\u001b[0m\u001b[0;34m.\u001b[0m\u001b[0m_coerce_send_string\u001b[0m\u001b[0;34m(\u001b[0m\u001b[0ms\u001b[0m\u001b[0;34m)\u001b[0m\u001b[0;34m\u001b[0m\u001b[0;34m\u001b[0m\u001b[0m\n",
        "\u001b[0;31mKeyboardInterrupt\u001b[0m: "
       ]
      }
     ],
     "persistentId": "90b6e0c3-6d40-45cd-8bf5-18422b0734b0",
     "text": "! aws s3 cp s3://czb-tabula-muris-senis/Data-objects/tabula-muris-senis-droplet-processed-official-annotations-Lung.h5ad \\\n    /home/olga/data_lg/data_sm_copy/czb-tabula-muris-senis/Data-objects/tabula-muris-senis-droplet-processed-official-annotations-Lung.h5ad"
    },
    "executionTime": "2019-12-13T19:40:59.065Z"
   },
   {
    "cell": {
     "executionCount": 7,
     "executionEventId": "02de6439-7a03-4269-8dfd-058f4d88970e",
     "hasError": false,
     "id": "bbd5300a-43a3-4574-8ff2-680daabec6d9",
     "outputs": [
      {
       "name": "stdout",
       "output_type": "stream",
       "text": "rm: cannot remove '/home/olga/data_lg/data_sm_copy/czb-tabula-muris-senis/Data-objects/tabula-muris-senis-droplet-processed-official-annotations-Lung.h5ad': Directory not empty\n"
      }
     ],
     "persistentId": "0395f97c-a6f4-4dea-a533-977bfa3af6cf",
     "text": "rm -rf /home/olga/data_lg/data_sm_copy/czb-tabula-muris-senis/Data-objects/tabula-muris-senis-droplet-processed-official-annotations-Lung.h5ad"
    },
    "executionTime": "2019-12-13T19:41:04.525Z"
   },
   {
    "cell": {
     "executionCount": 8,
     "executionEventId": "24bc7ced-6b8a-4880-b019-139ad7fe8447",
     "hasError": false,
     "id": "bbd5300a-43a3-4574-8ff2-680daabec6d9",
     "outputs": [
      {
       "name": "stdout",
       "output_type": "stream",
       "text": "rm: cannot remove '/home/olga/data_lg/data_sm_copy/czb-tabula-muris-senis/Data-objects/tabula-muris-senis-droplet-processed-official-annotations-Lung.h5ad/.nfs000000000314a9060001d55b': Device or resource busy\n"
      }
     ],
     "persistentId": "0395f97c-a6f4-4dea-a533-977bfa3af6cf",
     "text": "rm -rf /home/olga/data_lg/data_sm_copy/czb-tabula-muris-senis/Data-objects/tabula-muris-senis-droplet-processed-official-annotations-Lung.h5ad"
    },
    "executionTime": "2019-12-13T19:41:08.700Z"
   },
   {
    "cell": {
     "executionCount": 9,
     "executionEventId": "1743a4a6-570e-4dba-95f0-e02d3dd85b5d",
     "hasError": true,
     "id": "bbd5300a-43a3-4574-8ff2-680daabec6d9",
     "outputs": [
      {
       "ename": "SyntaxError",
       "evalue": "invalid syntax (<ipython-input-9-434642499090>, line 1)",
       "output_type": "error",
       "traceback": [
        "\u001b[0;36m  File \u001b[0;32m\"<ipython-input-9-434642499090>\"\u001b[0;36m, line \u001b[0;32m1\u001b[0m\n\u001b[0;31m    sudo rm -rf /home/olga/data_lg/data_sm_copy/czb-tabula-muris-senis/Data-objects/tabula-muris-senis-droplet-processed-official-annotations-Lung.h5ad\u001b[0m\n\u001b[0m          ^\u001b[0m\n\u001b[0;31mSyntaxError\u001b[0m\u001b[0;31m:\u001b[0m invalid syntax\n"
       ]
      }
     ],
     "persistentId": "0395f97c-a6f4-4dea-a533-977bfa3af6cf",
     "text": "sudo rm -rf /home/olga/data_lg/data_sm_copy/czb-tabula-muris-senis/Data-objects/tabula-muris-senis-droplet-processed-official-annotations-Lung.h5ad"
    },
    "executionTime": "2019-12-13T19:41:11.006Z"
   },
   {
    "cell": {
     "executionCount": 10,
     "executionEventId": "16cdcced-8060-4872-9be5-6d75208db0f3",
     "hasError": false,
     "id": "5aca7a03-b866-4602-976e-a7bd2c057772",
     "outputs": [
      {
       "name": "stdout",
       "output_type": "stream",
       "text": "download: s3://czb-tabula-muris-senis/Data-objects/tabula-muris-senis-droplet-processed-official-annotations-Lung.h5ad to ../../../../data_lg/data_sm_copy/czb-tabula-muris-senis/Data-objects/tabula-muris-senis-droplet-processed-official-annotations-Lung.h5ad\n"
      }
     ],
     "persistentId": "90b6e0c3-6d40-45cd-8bf5-18422b0734b0",
     "text": "! aws s3 cp s3://czb-tabula-muris-senis/Data-objects/tabula-muris-senis-droplet-processed-official-annotations-Lung.h5ad \\\n    /home/olga/data_lg/data_sm_copy/czb-tabula-muris-senis/Data-objects/tabula-muris-senis-droplet-processed-official-annotations-Lung.h5ad"
    },
    "executionTime": "2019-12-13T19:47:28.861Z"
   },
   {
    "cell": {
     "executionCount": 11,
     "executionEventId": "b5c6ba63-a8ad-476a-a755-dd1f55fb5920",
     "hasError": false,
     "id": "cb1b7564-87e7-4beb-aba7-e829ae4d6f9e",
     "outputs": [
      {
       "data": {
        "text/plain": "AnnData object with n_obs × n_vars = 24540 × 20138 \n    obs: 'age', 'cell', 'cell_ontology_class', 'cell_ontology_id', 'free_annotation', 'method', 'mouse.id', 'n_genes', 'sex', 'subtissue', 'tissue', 'tissue_free_annotation', 'n_counts', 'louvain', 'leiden'\n    var: 'n_cells', 'means', 'dispersions', 'dispersions_norm', 'highly_variable'\n    uns: 'age_colors', 'cell_ontology_class_colors', 'leiden', 'louvain', 'neighbors', 'pca'\n    obsm: 'X_pca', 'X_tsne', 'X_umap'\n    varm: 'PCs'"
       },
       "execution_count": 11,
       "metadata": {},
       "output_type": "execute_result"
      }
     ],
     "persistentId": "4f3bc39b-b078-47e4-933a-85a8407368e3",
     "text": "h5ad = '/home/olga/data_lg/data_sm_copy/czb-tabula-muris-senis/Data-objects/tabula-muris-senis-droplet-processed-official-annotations-Lung.h5ad'\nmouse = scanpy.read_h5ad(h5ad)\nmouse"
    },
    "executionTime": "2019-12-13T19:47:41.015Z"
   },
   {
    "cell": {
     "executionCount": 12,
     "executionEventId": "36b15e9a-44ee-411b-a057-17a6430b2c91",
     "hasError": false,
     "id": "3f2d83ad-3276-45ef-a3ad-f6caa8b62c8f",
     "outputs": [
      {
       "name": "stdout",
       "output_type": "stream",
       "text": "ls: cannot access '/home/olga/googledrive/TabulaMicrocebus/data/h5ad-obs/10X': No such file or directory\n"
      }
     ],
     "persistentId": "4ed1c755-12bc-4b52-9bc6-d6e159d703c2",
     "text": "folder = '/home/olga/googledrive/TabulaMicrocebus/data/h5ad-obs/10X'\n! ls -lha $folder"
    },
    "executionTime": "2019-12-13T19:48:19.932Z"
   },
   {
    "cell": {
     "executionCount": 13,
     "executionEventId": "3d3457fc-0d78-4dd7-9496-c7b11744ba24",
     "hasError": true,
     "id": "f212a178-b159-48cd-a202-b0f52afc17bf",
     "outputs": [
      {
       "ename": "OSError",
       "evalue": "Unable to open file (unable to open file: name = '/home/olga/googledrive/TabulaMicrocebus/data/h5ad-obs/10X/Antoine_Lung_10X_with_umaps.h5ad', errno = 2, error message = 'No such file or directory', flags = 0, o_flags = 0)",
       "output_type": "error",
       "traceback": [
        "\u001b[0;31m---------------------------------------------------------------------------\u001b[0m",
        "\u001b[0;31mOSError\u001b[0m                                   Traceback (most recent call last)",
        "\u001b[0;32m<ipython-input-13-beea68722198>\u001b[0m in \u001b[0;36m<module>\u001b[0;34m\u001b[0m\n\u001b[1;32m      1\u001b[0m \u001b[0mh5ad\u001b[0m \u001b[0;34m=\u001b[0m \u001b[0;34mf'{folder}/Antoine_Lung_10X_with_umaps.h5ad'\u001b[0m\u001b[0;34m\u001b[0m\u001b[0;34m\u001b[0m\u001b[0m\n\u001b[0;32m----> 2\u001b[0;31m \u001b[0mlemur\u001b[0m \u001b[0;34m=\u001b[0m \u001b[0mscanpy\u001b[0m\u001b[0;34m.\u001b[0m\u001b[0mread_h5ad\u001b[0m\u001b[0;34m(\u001b[0m\u001b[0mh5ad\u001b[0m\u001b[0;34m)\u001b[0m\u001b[0;34m\u001b[0m\u001b[0;34m\u001b[0m\u001b[0m\n\u001b[0m\u001b[1;32m      3\u001b[0m \u001b[0mlemur\u001b[0m\u001b[0;34m\u001b[0m\u001b[0;34m\u001b[0m\u001b[0m\n",
        "\u001b[0;32m~/miniconda3/envs/sc-tutorial/lib/python3.7/site-packages/anndata/readwrite/read.py\u001b[0m in \u001b[0;36mread_h5ad\u001b[0;34m(filename, backed, chunk_size)\u001b[0m\n\u001b[1;32m    445\u001b[0m     \u001b[0;32melse\u001b[0m\u001b[0;34m:\u001b[0m\u001b[0;34m\u001b[0m\u001b[0;34m\u001b[0m\u001b[0m\n\u001b[1;32m    446\u001b[0m         \u001b[0;31m# load everything into memory\u001b[0m\u001b[0;34m\u001b[0m\u001b[0;34m\u001b[0m\u001b[0;34m\u001b[0m\u001b[0m\n\u001b[0;32m--> 447\u001b[0;31m         \u001b[0mconstructor_args\u001b[0m \u001b[0;34m=\u001b[0m \u001b[0m_read_args_from_h5ad\u001b[0m\u001b[0;34m(\u001b[0m\u001b[0mfilename\u001b[0m\u001b[0;34m=\u001b[0m\u001b[0mfilename\u001b[0m\u001b[0;34m,\u001b[0m \u001b[0mchunk_size\u001b[0m\u001b[0;34m=\u001b[0m\u001b[0mchunk_size\u001b[0m\u001b[0;34m)\u001b[0m\u001b[0;34m\u001b[0m\u001b[0;34m\u001b[0m\u001b[0m\n\u001b[0m\u001b[1;32m    448\u001b[0m         \u001b[0mX\u001b[0m \u001b[0;34m=\u001b[0m \u001b[0mconstructor_args\u001b[0m\u001b[0;34m[\u001b[0m\u001b[0;36m0\u001b[0m\u001b[0;34m]\u001b[0m\u001b[0;34m\u001b[0m\u001b[0;34m\u001b[0m\u001b[0m\n\u001b[1;32m    449\u001b[0m         \u001b[0mdtype\u001b[0m \u001b[0;34m=\u001b[0m \u001b[0;32mNone\u001b[0m\u001b[0;34m\u001b[0m\u001b[0;34m\u001b[0m\u001b[0m\n",
        "\u001b[0;32m~/miniconda3/envs/sc-tutorial/lib/python3.7/site-packages/anndata/readwrite/read.py\u001b[0m in \u001b[0;36m_read_args_from_h5ad\u001b[0;34m(adata, filename, mode, chunk_size)\u001b[0m\n\u001b[1;32m    479\u001b[0m         \u001b[0mf\u001b[0m \u001b[0;34m=\u001b[0m \u001b[0madata\u001b[0m\u001b[0;34m.\u001b[0m\u001b[0mfile\u001b[0m\u001b[0;34m.\u001b[0m\u001b[0m_file\u001b[0m\u001b[0;34m\u001b[0m\u001b[0;34m\u001b[0m\u001b[0m\n\u001b[1;32m    480\u001b[0m     \u001b[0;32melse\u001b[0m\u001b[0;34m:\u001b[0m\u001b[0;34m\u001b[0m\u001b[0;34m\u001b[0m\u001b[0m\n\u001b[0;32m--> 481\u001b[0;31m         \u001b[0mf\u001b[0m \u001b[0;34m=\u001b[0m \u001b[0mh5py\u001b[0m\u001b[0;34m.\u001b[0m\u001b[0mFile\u001b[0m\u001b[0;34m(\u001b[0m\u001b[0mfilename\u001b[0m\u001b[0;34m,\u001b[0m \u001b[0;34m'r'\u001b[0m\u001b[0;34m)\u001b[0m\u001b[0;34m\u001b[0m\u001b[0;34m\u001b[0m\u001b[0m\n\u001b[0m\u001b[1;32m    482\u001b[0m     \u001b[0;32mfor\u001b[0m \u001b[0mkey\u001b[0m \u001b[0;32min\u001b[0m \u001b[0mf\u001b[0m\u001b[0;34m.\u001b[0m\u001b[0mkeys\u001b[0m\u001b[0;34m(\u001b[0m\u001b[0;34m)\u001b[0m\u001b[0;34m:\u001b[0m\u001b[0;34m\u001b[0m\u001b[0;34m\u001b[0m\u001b[0m\n\u001b[1;32m    483\u001b[0m         \u001b[0;32mif\u001b[0m \u001b[0mbacked\u001b[0m \u001b[0;32mand\u001b[0m \u001b[0mkey\u001b[0m \u001b[0;32min\u001b[0m \u001b[0mAnnData\u001b[0m\u001b[0;34m.\u001b[0m\u001b[0m_BACKED_ATTRS\u001b[0m\u001b[0;34m:\u001b[0m\u001b[0;34m\u001b[0m\u001b[0;34m\u001b[0m\u001b[0m\n",
        "\u001b[0;32m~/miniconda3/envs/sc-tutorial/lib/python3.7/site-packages/anndata/h5py/h5sparse.py\u001b[0m in \u001b[0;36m__init__\u001b[0;34m(self, name, mode, driver, libver, userblock_size, swmr, force_dense, **kwds)\u001b[0m\n\u001b[1;32m    160\u001b[0m             \u001b[0muserblock_size\u001b[0m\u001b[0;34m=\u001b[0m\u001b[0muserblock_size\u001b[0m\u001b[0;34m,\u001b[0m\u001b[0;34m\u001b[0m\u001b[0;34m\u001b[0m\u001b[0m\n\u001b[1;32m    161\u001b[0m             \u001b[0mswmr\u001b[0m\u001b[0;34m=\u001b[0m\u001b[0mswmr\u001b[0m\u001b[0;34m,\u001b[0m\u001b[0;34m\u001b[0m\u001b[0;34m\u001b[0m\u001b[0m\n\u001b[0;32m--> 162\u001b[0;31m             \u001b[0;34m**\u001b[0m\u001b[0mkwds\u001b[0m\u001b[0;34m,\u001b[0m\u001b[0;34m\u001b[0m\u001b[0;34m\u001b[0m\u001b[0m\n\u001b[0m\u001b[1;32m    163\u001b[0m         )\n\u001b[1;32m    164\u001b[0m         \u001b[0msuper\u001b[0m\u001b[0;34m(\u001b[0m\u001b[0;34m)\u001b[0m\u001b[0;34m.\u001b[0m\u001b[0m__init__\u001b[0m\u001b[0;34m(\u001b[0m\u001b[0mself\u001b[0m\u001b[0;34m.\u001b[0m\u001b[0mh5f\u001b[0m\u001b[0;34m,\u001b[0m \u001b[0mforce_dense\u001b[0m\u001b[0;34m)\u001b[0m\u001b[0;34m\u001b[0m\u001b[0;34m\u001b[0m\u001b[0m\n",
        "\u001b[0;32m~/miniconda3/envs/sc-tutorial/lib/python3.7/site-packages/h5py/_hl/files.py\u001b[0m in \u001b[0;36m__init__\u001b[0;34m(self, name, mode, driver, libver, userblock_size, swmr, rdcc_nslots, rdcc_nbytes, rdcc_w0, track_order, **kwds)\u001b[0m\n\u001b[1;32m    406\u001b[0m                 fid = make_fid(name, mode, userblock_size,\n\u001b[1;32m    407\u001b[0m                                \u001b[0mfapl\u001b[0m\u001b[0;34m,\u001b[0m \u001b[0mfcpl\u001b[0m\u001b[0;34m=\u001b[0m\u001b[0mmake_fcpl\u001b[0m\u001b[0;34m(\u001b[0m\u001b[0mtrack_order\u001b[0m\u001b[0;34m=\u001b[0m\u001b[0mtrack_order\u001b[0m\u001b[0;34m)\u001b[0m\u001b[0;34m,\u001b[0m\u001b[0;34m\u001b[0m\u001b[0;34m\u001b[0m\u001b[0m\n\u001b[0;32m--> 408\u001b[0;31m                                swmr=swmr)\n\u001b[0m\u001b[1;32m    409\u001b[0m \u001b[0;34m\u001b[0m\u001b[0m\n\u001b[1;32m    410\u001b[0m             \u001b[0;32mif\u001b[0m \u001b[0misinstance\u001b[0m\u001b[0;34m(\u001b[0m\u001b[0mlibver\u001b[0m\u001b[0;34m,\u001b[0m \u001b[0mtuple\u001b[0m\u001b[0;34m)\u001b[0m\u001b[0;34m:\u001b[0m\u001b[0;34m\u001b[0m\u001b[0;34m\u001b[0m\u001b[0m\n",
        "\u001b[0;32m~/miniconda3/envs/sc-tutorial/lib/python3.7/site-packages/h5py/_hl/files.py\u001b[0m in \u001b[0;36mmake_fid\u001b[0;34m(name, mode, userblock_size, fapl, fcpl, swmr)\u001b[0m\n\u001b[1;32m    171\u001b[0m         \u001b[0;32mif\u001b[0m \u001b[0mswmr\u001b[0m \u001b[0;32mand\u001b[0m \u001b[0mswmr_support\u001b[0m\u001b[0;34m:\u001b[0m\u001b[0;34m\u001b[0m\u001b[0;34m\u001b[0m\u001b[0m\n\u001b[1;32m    172\u001b[0m             \u001b[0mflags\u001b[0m \u001b[0;34m|=\u001b[0m \u001b[0mh5f\u001b[0m\u001b[0;34m.\u001b[0m\u001b[0mACC_SWMR_READ\u001b[0m\u001b[0;34m\u001b[0m\u001b[0;34m\u001b[0m\u001b[0m\n\u001b[0;32m--> 173\u001b[0;31m         \u001b[0mfid\u001b[0m \u001b[0;34m=\u001b[0m \u001b[0mh5f\u001b[0m\u001b[0;34m.\u001b[0m\u001b[0mopen\u001b[0m\u001b[0;34m(\u001b[0m\u001b[0mname\u001b[0m\u001b[0;34m,\u001b[0m \u001b[0mflags\u001b[0m\u001b[0;34m,\u001b[0m \u001b[0mfapl\u001b[0m\u001b[0;34m=\u001b[0m\u001b[0mfapl\u001b[0m\u001b[0;34m)\u001b[0m\u001b[0;34m\u001b[0m\u001b[0;34m\u001b[0m\u001b[0m\n\u001b[0m\u001b[1;32m    174\u001b[0m     \u001b[0;32melif\u001b[0m \u001b[0mmode\u001b[0m \u001b[0;34m==\u001b[0m \u001b[0;34m'r+'\u001b[0m\u001b[0;34m:\u001b[0m\u001b[0;34m\u001b[0m\u001b[0;34m\u001b[0m\u001b[0m\n\u001b[1;32m    175\u001b[0m         \u001b[0mfid\u001b[0m \u001b[0;34m=\u001b[0m \u001b[0mh5f\u001b[0m\u001b[0;34m.\u001b[0m\u001b[0mopen\u001b[0m\u001b[0;34m(\u001b[0m\u001b[0mname\u001b[0m\u001b[0;34m,\u001b[0m \u001b[0mh5f\u001b[0m\u001b[0;34m.\u001b[0m\u001b[0mACC_RDWR\u001b[0m\u001b[0;34m,\u001b[0m \u001b[0mfapl\u001b[0m\u001b[0;34m=\u001b[0m\u001b[0mfapl\u001b[0m\u001b[0;34m)\u001b[0m\u001b[0;34m\u001b[0m\u001b[0;34m\u001b[0m\u001b[0m\n",
        "\u001b[0;32mh5py/_objects.pyx\u001b[0m in \u001b[0;36mh5py._objects.with_phil.wrapper\u001b[0;34m()\u001b[0m\n",
        "\u001b[0;32mh5py/_objects.pyx\u001b[0m in \u001b[0;36mh5py._objects.with_phil.wrapper\u001b[0;34m()\u001b[0m\n",
        "\u001b[0;32mh5py/h5f.pyx\u001b[0m in \u001b[0;36mh5py.h5f.open\u001b[0;34m()\u001b[0m\n",
        "\u001b[0;31mOSError\u001b[0m: Unable to open file (unable to open file: name = '/home/olga/googledrive/TabulaMicrocebus/data/h5ad-obs/10X/Antoine_Lung_10X_with_umaps.h5ad', errno = 2, error message = 'No such file or directory', flags = 0, o_flags = 0)"
       ]
      }
     ],
     "persistentId": "60ab3a63-f17d-4063-a859-5d5f98cda38c",
     "text": "h5ad = f'{folder}/Antoine_Lung_10X_with_umaps.h5ad'\nlemur = scanpy.read_h5ad(h5ad)\nlemur"
    },
    "executionTime": "2019-12-13T19:48:20.096Z"
   },
   {
    "cell": {
     "executionCount": 14,
     "executionEventId": "db4fd553-aab1-429c-b8e4-d2a593fe32c6",
     "hasError": false,
     "id": "1713878a-91ef-41b3-a070-468ad66aa2ff",
     "outputs": [
      {
       "name": "stdout",
       "output_type": "stream",
       "text": "total 49K\ndrwxrwxr-x 2 olga olga 4.0K Dec  2 21:43 \u001b[0m\u001b[01;34m.\u001b[0m/\ndrwxrwxr-x 2 olga olga 4.0K Dec  9 16:37 \u001b[01;34m..\u001b[0m/\ndrwxrwxr-x 2 olga olga 4.0K Dec  1 14:13 \u001b[01;34mAntoine (2059b4e1)\u001b[0m/\ndrwxrwxr-x 2 olga olga 4.0K Dec  1 14:13 \u001b[01;34mBernard\u001b[0m/\ndrwxrwxr-x 2 olga olga 4.0K Dec  7 08:55 \u001b[01;34mcell-annotations\u001b[0m/\ndrwxrwxr-x 2 olga olga 4.0K Dec 12 21:09 \u001b[01;34mh5ad-objs\u001b[0m/\ndrwxrwxr-x 2 olga olga 4.0K Dec 13 11:44 \u001b[01;34mhuman-lung-cell-atlas--from-kyle\u001b[0m/\ndrwxrwxr-x 2 olga olga 4.0K Dec  8 08:51 \u001b[01;34mkmermaid\u001b[0m/\ndrwxrwxr-x 2 olga olga 4.0K Dec  1 14:13 \u001b[01;34mMartine\u001b[0m/\n-r--r--r-- 1 olga olga  154 Dec 13 09:01 Mouse lemur data.desktop\ndrwxrwxr-x 2 olga olga 4.0K Oct 29 14:20 \u001b[01;34morthologous-genes\u001b[0m/\ndrwxrwxr-x 2 olga olga 4.0K Dec  2 18:20 \u001b[01;34mR_objects\u001b[0m/\ndrwxrwxr-x 2 olga olga 4.0K Dec  1 14:13 \u001b[01;34mStumpy\u001b[0m/\n"
      }
     ],
     "persistentId": "213ef859-1fc2-4c6e-a372-1f0a522c09d8",
     "text": "ls -lha /home/olga/googledrive/TabulaMicrocebus/data"
    },
    "executionTime": "2019-12-13T19:48:45.823Z"
   },
   {
    "cell": {
     "executionCount": 15,
     "executionEventId": "16922def-cf64-4b9c-95d7-c0a0d44bb253",
     "hasError": false,
     "id": "3f2d83ad-3276-45ef-a3ad-f6caa8b62c8f",
     "outputs": [
      {
       "name": "stdout",
       "output_type": "stream",
       "text": "total 35G\ndrwxrwxr-x 2 olga olga 4.0K Dec 13 11:12 .\ndrwxrwxr-x 2 olga olga 4.0K Dec 12 21:09 ..\n-rw-rw-r-- 1 olga olga 520M Dec 12 19:41 Antoine_Bladder_10X_with_umaps.h5ad\n-rw-rw-r-- 1 olga olga 174M Dec 12 19:41 Antoine_Blood_10X_with_umaps.h5ad\n-rw-rw-r-- 1 olga olga 345M Dec 12 19:41 Antoine_Bone_10X_with_umaps.h5ad\n-rw-rw-r-- 1 olga olga 2.6G Dec 12 19:47 Antoine_Bone_marrow_10X_with_umaps.h5ad\n-rw-rw-r-- 1 olga olga 221M Dec 12 19:47 Antoine_Brain_10X_with_umaps.h5ad\n-rw-rw-r-- 1 olga olga 118M Dec 12 19:47 Antoine_Colon_10X_with_umaps.h5ad\n-rw-rw-r-- 1 olga olga 144M Dec 12 19:48 Antoine_Eye_10X_with_umaps.h5ad\n-rw-rw-r-- 1 olga olga 239M Dec 12 19:48 Antoine_Fat_10X_with_umaps.h5ad\n-rw-rw-r-- 1 olga olga 340M Dec 12 19:48 Antoine_Heart_10X_with_umaps.h5ad\n-rw-rw-r-- 1 olga olga 545M Dec 12 19:49 Antoine_Hypothalamus_pituitary_10X_with_umaps.h5ad\n-rw-rw-r-- 1 olga olga 557M Dec 12 19:49 Antoine_Kidney_10X_with_umaps.h5ad\n-rw-rw-r-- 1 olga olga  93M Dec 12 19:49 Antoine_Kidney_SS2_with_umaps.h5ad\n-rw-rw-r-- 1 olga olga 278M Dec 12 19:50 Antoine_Liver_10X_with_umaps.h5ad\n-rw-rw-r-- 1 olga olga 3.0G Dec 13 10:21 Antoine_Lung_10X_with_umaps.h5ad\n-rw-rw-r-- 1 olga olga 676M Dec 13 10:22 Antoine_Pancreas_10X_with_umaps.h5ad\n-rw-rw-r-- 1 olga olga 2.6G Dec 13 10:25 Antoine_Skin_10X_with_umaps.h5ad\n-rw-rw-r-- 1 olga olga 308M Dec 13 10:25 Antoine_Small_intestine_10X_with_umaps.h5ad\n-rw-rw-r-- 1 olga olga 707M Dec 13 10:27 Antoine_Spleen_10X_with_umaps.h5ad\n-rw-rw-r-- 1 olga olga 784M Dec 13 10:28 Antoine_Testes_10X_with_umaps.h5ad\n-rw-rw-r-- 1 olga olga 668M Dec 13 10:28 Antoine_Tongue_10X_with_umaps.h5ad\n-rw-rw-r-- 1 olga olga  47M Dec 13 10:28 Antoine_Trachea_10X_with_umaps.h5ad\n-rw-rw-r-- 1 olga olga 2.1G Dec 13 01:26 Bernard_Blood_10X_with_umaps.h5ad\n-rw-rw-r-- 1 olga olga 219M Dec 13 00:30 Bernard_Brain_10X_with_umaps.h5ad\n-rw-rw-r-- 1 olga olga 860M Dec 13 00:24 Bernard_Lung_10X_with_umaps.h5ad\n-rw-rw-r-- 1 olga olga 245M Dec 13 09:58 Martine_Abdominal_mass_10X_with_umaps.h5ad\n-rw-rw-r-- 1 olga olga 728M Dec 13 09:59 Martine_Blood_10X_with_umaps.h5ad\n-rw-rw-r-- 1 olga olga 522M Dec 13 09:59 Martine_Bone_marrow_10X_with_umaps.h5ad\n-rw-rw-r-- 1 olga olga 327M Dec 13 10:00 Martine_Heart_10X_with_umaps.h5ad\n-rw-rw-r-- 1 olga olga 327M Dec 13 10:00 Martine_Kidney_10X_with_umaps.h5ad\n-rw-rw-r-- 1 olga olga 556M Dec 13 10:01 Martine_Liver_10X_with_umaps.h5ad\n-rw-rw-r-- 1 olga olga 815M Dec 13 10:02 Martine_Lung_10X_with_umaps.h5ad\n-rw-rw-r-- 1 olga olga 741M Dec 13 10:03 Martine_Mammary_gland_10X_with_umaps.h5ad\n-rw-rw-r-- 1 olga olga 394M Dec 13 10:03 Martine_Spleen_10X_with_umaps.h5ad\n-rw-rw-r-- 1 olga olga  37M Dec 13 10:03 Martine_Trachea_10X_with_umaps.h5ad\n-rw-rw-r-- 1 olga olga 272M Dec 13 10:04 Martine_Uterus_10X_with_umaps.h5ad\n-rw-rw-r-- 1 olga olga  32M Dec 13 10:04 Stumpy_Aorta_10X_with_umaps.h5ad\n-rw-rw-r-- 1 olga olga 464M Dec 13 10:04 Stumpy_Bladder_10X_with_umaps.h5ad\n-rw-rw-r-- 1 olga olga 681M Dec 13 10:05 Stumpy_Blood_10X_with_umaps.h5ad\n-rw-rw-r-- 1 olga olga 1.7G Dec 13 10:07 Stumpy_Bone_10X_with_umaps.h5ad\n-rw-rw-r-- 1 olga olga 2.5G Dec 13 10:10 Stumpy_Bone_marrow_10X_with_umaps.h5ad\n-rw-rw-r-- 1 olga olga 358M Dec 13 10:10 Stumpy_Brain_10X_with_umaps.h5ad\n-rw-rw-r-- 1 olga olga 132M Dec 13 10:11 Stumpy_Colon_10X_with_umaps.h5ad\n-rw-rw-r-- 1 olga olga  36M Dec 13 10:11 Stumpy_Diaphragm_10X_with_umaps.h5ad\n-rw-rw-r-- 1 olga olga 1.7G Dec 13 10:12 Stumpy_Fat_10X_with_umaps.h5ad\n-rw-rw-r-- 1 olga olga  88M Dec 13 10:13 Stumpy_Heart_10X_with_umaps.h5ad\n-rw-rw-r-- 1 olga olga 494M Dec 13 10:13 Stumpy_Kidney_10X_with_umaps.h5ad\n-rw-rw-r-- 1 olga olga 462M Dec 13 10:14 Stumpy_Limb_muscle_10X_with_umaps.h5ad\n-rw-rw-r-- 1 olga olga 390M Dec 13 10:14 Stumpy_Liver_10X_with_umaps.h5ad\n-rw-rw-r-- 1 olga olga 490M Dec 13 10:15 Stumpy_Lung_10X_with_umaps.h5ad\n-rw-rw-r-- 1 olga olga 681M Dec 13 10:15 Stumpy_Pancreas_10X_with_umaps.h5ad\n-rw-rw-r-- 1 olga olga 578M Dec 13 10:16 Stumpy_Skin_10X_with_umaps.h5ad\n-rw-rw-r-- 1 olga olga 502M Dec 13 10:17 Stumpy_Small_intestine_10X_with_umaps.h5ad\n-rw-rw-r-- 1 olga olga 338M Dec 13 10:17 Stumpy_Spleen_10X_with_umaps.h5ad\n-rw-rw-r-- 1 olga olga 162M Dec 13 10:17 Stumpy_Tongue_10X_with_umaps.h5ad\n-rw-rw-r-- 1 olga olga  41M Dec 13 10:18 Stumpy_Trachea_10X_with_umaps.h5ad\n"
      }
     ],
     "persistentId": "4ed1c755-12bc-4b52-9bc6-d6e159d703c2",
     "text": "folder = '/home/olga/googledrive/TabulaMicrocebus/data/h5ad-objs/10X'\n! ls -lha $folder"
    },
    "executionTime": "2019-12-13T19:48:51.964Z"
   },
   {
    "cell": {
     "executionCount": 16,
     "executionEventId": "c27f74c4-2bc2-4a81-9b2b-4b68384daab7",
     "hasError": false,
     "id": "3f2d83ad-3276-45ef-a3ad-f6caa8b62c8f",
     "outputs": [
      {
       "name": "stdout",
       "output_type": "stream",
       "text": "-rw-rw-r-- 1 olga olga 3.0G Dec 13 10:21 /home/olga/googledrive/TabulaMicrocebus/data/h5ad-objs/10X/Antoine_Lung_10X_with_umaps.h5ad\n"
      }
     ],
     "persistentId": "4ed1c755-12bc-4b52-9bc6-d6e159d703c2",
     "text": "folder = '/home/olga/googledrive/TabulaMicrocebus/data/h5ad-objs/10X'\n! ls -lha $folder/Antoine*Lung*"
    },
    "executionTime": "2019-12-13T19:48:58.867Z"
   },
   {
    "cell": {
     "executionCount": 17,
     "executionEventId": "18bb3f45-5b4d-468d-b5a5-c309820e0c15",
     "hasError": false,
     "id": "f212a178-b159-48cd-a202-b0f52afc17bf",
     "outputs": [
      {
       "data": {
        "text/plain": "AnnData object with n_obs × n_vars = 24724 × 31789 \n    obs: 'n_genes', 'n_counts', 'orig_ident', 'channel', 'tissue', 'region', 'individual', 'species', 'method', 'processed', 'percent_ribo', 'free_annotation', 'res_2', 'cluster_ids', 'erythrocyte_score', 'platelet_score', 'endothelial_score', 'epithelial_score', 'immune_score', 'macrophage_score', 'plasma_score', 'muscle_score', 'stromal_score', 'neuronal_score', 'adipose_score', 'compartment_original', 'compartment_final', 'leiden'\n    uns: 'leiden', 'neighbors', 'pca'\n    obsm: 'X_pca', 'X_umap'\n    varm: 'PCs'"
       },
       "execution_count": 17,
       "metadata": {},
       "output_type": "execute_result"
      }
     ],
     "persistentId": "60ab3a63-f17d-4063-a859-5d5f98cda38c",
     "text": "%%time\n\nh5ad = f'{lemur_folder}/Antoine_Lung_10X_with_umaps.h5ad'\nlemur = scanpy.read_h5ad(h5ad)\nlemur"
    },
    "executionTime": "2019-12-13T20:08:03.220Z"
   },
   {
    "cell": {
     "executionCount": 19,
     "executionEventId": "5471092b-bc4a-4749-80a4-c1e811822662",
     "hasError": false,
     "id": "64855769-383c-4c2d-b462-c6742d5f85ce",
     "outputs": [
      {
       "name": "stdout",
       "output_type": "stream",
       "text": "total 4.4G\ndrwxrwxr-x 2 olga olga 4.0K Dec 13 11:44 .\ndrwxrwxr-x 2 olga olga 4.0K Dec  2 21:43 ..\n-rw-rw-r-- 1 olga olga  12M Oct 28 10:16 droplet_normal_lung_blood_P1-3_metadata.csv\n-rw-rw-r-- 1 olga olga 3.3G Oct 30 18:21 droplet_normal_lung_blood_P1-3_ncbi_GCT.csv\n-rw-rw-r-- 1 olga olga 1.1G Oct 28 10:25 facs_normal_lung_blood_P1-3_gencode_GCT.csv\n-rw-rw-r-- 1 olga olga 5.7M Oct 28 10:25 facs_normal_lung_blood_P1-3_metadata.csv\n"
      }
     ],
     "persistentId": "ceb1c006-bf95-4e2f-bba7-a07be6628364",
     "text": "human_folder = '/home/olga/googledrive/TabulaMicrocebus/data/human-lung-cell-atlas--from-kyle'\n! ls -lha $human_folder"
    },
    "executionTime": "2019-12-13T20:08:03.653Z"
   },
   {
    "cell": {
     "executionCount": 23,
     "executionEventId": "c6bc4fba-3e5f-4b65-95d7-d43b93bcaf8a",
     "hasError": false,
     "id": "c2e2cb89-6744-4c27-91da-6c830676eb7b",
     "outputs": [
      {
       "name": "stdout",
       "output_type": "stream",
       "text": "total 39M\ndrwxrwxr-x  2 olga olga 4.0K Oct 29 14:20 .\ndrwxrwxr-x  2 olga olga 4.0K Dec  2 21:43 ..\n-rw-rw-r--  1 olga olga 2.3M Dec  7 10:12 ensembl97__human-mouselemur-orthologs.gz\n-rw-r--r--  1 olga olga 2.6M Dec 13 09:23 ensembl97__human-mouse-orthologs.txt.gz\n-rw-rw-r--  1 olga olga 1.9M Dec  7 10:12 ensembl97__mouse-mouselemur-orthologs.gz\n-rw-rw-r--  1 olga olga 6.4M Dec  9 12:19 ensembl98__human__to__mouse_lemur_orthologs.txt.gz\n-rw-rw-r--  1 olga olga 3.7M Dec  9 12:19 ensembl98__human__to__mouse__orthologs.txt.gz\n-rw-------+ 1 olga olga 1.5M Dec  7 10:12 ensembl98__mouse_lemur__gene_metadata_ncbi_ids.txt.gz\n-rw-------+ 1 olga olga 1.3M Dec  7 10:11 ensembl98__mouse_lemur__to__human__orthologs.txt.gz\n-rw-rw-r--  1 olga olga 1.3M Dec 13 09:27 mouse-lemur_human_mouse__orthologs__gene_names.csv\n-rw-rw-r--  1 olga olga 401K Dec 13 09:27 mouse-lemur_human_mouse__orthologs__gene_names.parquet\n-rw-rw-r--  1 olga olga  15M Dec 13 09:23 ncbi__human_mouse-lemur__orthologs__merged.csv\n-rw-rw-r--  1 olga olga 3.8M Dec 13 09:23 ncbi__human_mouse-lemur__orthologs__merged.parquet\n"
      }
     ],
     "persistentId": "20c13500-abac-44ea-a1bc-c93525170194",
     "text": "orthologous_genes_folder = '/home/olga/googledrive/TabulaMicrocebus/data/orthologous-genes'\n! ls -lha $orthologous_genes_folder"
    },
    "executionTime": "2019-12-13T23:09:15.885Z"
   },
   {
    "cell": {
     "executionCount": 24,
     "executionEventId": "de5a2154-20bb-4c1f-93b2-316b47a2a2c9",
     "hasError": true,
     "id": "a688f701-51ef-4acd-bb7b-cc2413faf8ef",
     "outputs": [
      {
       "ename": "NameError",
       "evalue": "name 'human' is not defined",
       "output_type": "error",
       "traceback": [
        "\u001b[0;31m---------------------------------------------------------------------------\u001b[0m",
        "\u001b[0;31mNameError\u001b[0m                                 Traceback (most recent call last)",
        "\u001b[0;32m<ipython-input-24-a1c1d3b1b7e1>\u001b[0m in \u001b[0;36m<module>\u001b[0;34m\u001b[0m\n\u001b[0;32m----> 1\u001b[0;31m \u001b[0mhuman\u001b[0m\u001b[0;34m\u001b[0m\u001b[0;34m\u001b[0m\u001b[0m\n\u001b[0m",
        "\u001b[0;31mNameError\u001b[0m: name 'human' is not defined"
       ]
      }
     ],
     "persistentId": "d9623006-0d91-4ebb-9f6d-17d759a13068",
     "text": "human"
    },
    "executionTime": "2019-12-13T23:09:20.667Z"
   },
   {
    "cell": {
     "executionCount": 25,
     "executionEventId": "4ccfa605-a123-4ce4-8939-57c902fc2c7f",
     "hasError": true,
     "id": "8c6f0142-41bc-428f-b5b6-56f72b3d785a",
     "outputs": [
      {
       "ename": "NameError",
       "evalue": "name 'human_folder' is not defined",
       "output_type": "error",
       "traceback": [
        "\u001b[0;31m---------------------------------------------------------------------------\u001b[0m",
        "\u001b[0;31mNameError\u001b[0m                                 Traceback (most recent call last)",
        "\u001b[0;32m<ipython-input-25-1fe69f2b00c9>\u001b[0m in \u001b[0;36m<module>\u001b[0;34m\u001b[0m\n\u001b[0;32m----> 1\u001b[0;31m \u001b[0mexpression\u001b[0m \u001b[0;34m=\u001b[0m \u001b[0mpd\u001b[0m\u001b[0;34m.\u001b[0m\u001b[0mread_csv\u001b[0m\u001b[0;34m(\u001b[0m\u001b[0;34mf'{human_folder}/droplet_normal_lung_blood_P1-3_ncbi_GCT.csv'\u001b[0m\u001b[0;34m)\u001b[0m\u001b[0;34m\u001b[0m\u001b[0;34m\u001b[0m\u001b[0m\n\u001b[0m\u001b[1;32m      2\u001b[0m \u001b[0mprint\u001b[0m\u001b[0;34m(\u001b[0m\u001b[0mexpression\u001b[0m\u001b[0;34m.\u001b[0m\u001b[0mshape\u001b[0m\u001b[0;34m)\u001b[0m\u001b[0;34m\u001b[0m\u001b[0;34m\u001b[0m\u001b[0m\n\u001b[1;32m      3\u001b[0m \u001b[0mexpression\u001b[0m\u001b[0;34m.\u001b[0m\u001b[0mhead\u001b[0m\u001b[0;34m(\u001b[0m\u001b[0;34m)\u001b[0m\u001b[0;34m\u001b[0m\u001b[0;34m\u001b[0m\u001b[0m\n",
        "\u001b[0;31mNameError\u001b[0m: name 'human_folder' is not defined"
       ]
      }
     ],
     "persistentId": "98bb6952-6a8a-42e2-8618-888ba94e09ca",
     "text": "expression = pd.read_csv(f'{human_folder}/droplet_normal_lung_blood_P1-3_ncbi_GCT.csv')\nprint(expression.shape)\nexpression.head()"
    },
    "executionTime": "2019-12-13T23:09:23.480Z"
   },
   {
    "cell": {
     "executionCount": 26,
     "executionEventId": "141e2ab6-b7c3-46b6-9593-929429ffe4d6",
     "hasError": true,
     "id": "06f2b8c2-cefe-4c2e-b191-6075670f0f1a",
     "outputs": [
      {
       "ename": "NameError",
       "evalue": "name 'human_folder' is not defined",
       "output_type": "error",
       "traceback": [
        "\u001b[0;31m---------------------------------------------------------------------------\u001b[0m",
        "\u001b[0;31mNameError\u001b[0m                                 Traceback (most recent call last)",
        "\u001b[0;32m<ipython-input-26-068d87e62bc1>\u001b[0m in \u001b[0;36m<module>\u001b[0;34m\u001b[0m\n\u001b[0;32m----> 1\u001b[0;31m \u001b[0mmetadata\u001b[0m \u001b[0;34m=\u001b[0m \u001b[0mpd\u001b[0m\u001b[0;34m.\u001b[0m\u001b[0mread_csv\u001b[0m\u001b[0;34m(\u001b[0m\u001b[0;34mf'{human_folder}/droplet_normal_lung_blood_P1-3_metadata.csv'\u001b[0m\u001b[0;34m)\u001b[0m\u001b[0;34m\u001b[0m\u001b[0;34m\u001b[0m\u001b[0m\n\u001b[0m\u001b[1;32m      2\u001b[0m \u001b[0mprint\u001b[0m\u001b[0;34m(\u001b[0m\u001b[0mmetadata\u001b[0m\u001b[0;34m.\u001b[0m\u001b[0mshape\u001b[0m\u001b[0;34m)\u001b[0m\u001b[0;34m\u001b[0m\u001b[0;34m\u001b[0m\u001b[0m\n\u001b[1;32m      3\u001b[0m \u001b[0mmetadata\u001b[0m\u001b[0;34m.\u001b[0m\u001b[0mhead\u001b[0m\u001b[0;34m(\u001b[0m\u001b[0;34m)\u001b[0m\u001b[0;34m\u001b[0m\u001b[0;34m\u001b[0m\u001b[0m\n",
        "\u001b[0;31mNameError\u001b[0m: name 'human_folder' is not defined"
       ]
      }
     ],
     "persistentId": "592bb8f6-e40d-42c5-be0d-7cb0d49f37d1",
     "text": "metadata = pd.read_csv(f'{human_folder}/droplet_normal_lung_blood_P1-3_metadata.csv')\nprint(metadata.shape)\nmetadata.head()"
    },
    "executionTime": "2019-12-13T23:09:26.362Z"
   },
   {
    "cell": {
     "executionCount": 27,
     "executionEventId": "304a0577-c84c-4862-bda4-6b576cd3d5c9",
     "hasError": false,
     "id": "64855769-383c-4c2d-b462-c6742d5f85ce",
     "outputs": [
      {
       "name": "stdout",
       "output_type": "stream",
       "text": "total 4.4G\ndrwxrwxr-x 2 olga olga 4.0K Dec 13 11:44 .\ndrwxrwxr-x 2 olga olga 4.0K Dec  2 21:43 ..\n-rw-rw-r-- 1 olga olga  12M Oct 28 10:16 droplet_normal_lung_blood_P1-3_metadata.csv\n-rw-rw-r-- 1 olga olga 3.3G Oct 30 18:21 droplet_normal_lung_blood_P1-3_ncbi_GCT.csv\n-rw-rw-r-- 1 olga olga 1.1G Oct 28 10:25 facs_normal_lung_blood_P1-3_gencode_GCT.csv\n-rw-rw-r-- 1 olga olga 5.7M Oct 28 10:25 facs_normal_lung_blood_P1-3_metadata.csv\n"
      }
     ],
     "persistentId": "ceb1c006-bf95-4e2f-bba7-a07be6628364",
     "text": "human_folder = '/home/olga/googledrive/TabulaMicrocebus/data/human-lung-cell-atlas--from-kyle'\n! ls -lha $human_folder"
    },
    "executionTime": "2019-12-13T23:09:29.719Z"
   },
   {
    "cell": {
     "executionCount": 31,
     "executionEventId": "3f7ded9d-f1a2-4485-b097-1838a16548c2",
     "hasError": false,
     "id": "967764b0-c201-40db-bc8e-b05589944c61",
     "outputs": [
      {
       "data": {
        "text/plain": "4"
       },
       "execution_count": 31,
       "metadata": {},
       "output_type": "execute_result"
      }
     ],
     "persistentId": "91abc876-9b31-4e74-ba0e-ebacfd411eda",
     "text": "2+2"
    },
    "executionTime": "2019-12-14T00:37:45.511Z"
   },
   {
    "cell": {
     "executionCount": 32,
     "executionEventId": "b9993c63-bcbc-44bc-b1b3-afd42ced3a56",
     "hasError": false,
     "id": "11296a02-8fc7-4bbd-9369-5cadf4622041",
     "outputs": [
      {
       "name": "stdout",
       "output_type": "stream",
       "text": "total 4.4G\ndrwxrwxr-x 2 olga olga 4.0K Dec 13 11:44 \u001b[0m\u001b[01;34m.\u001b[0m/\ndrwxrwxr-x 2 olga olga 4.0K Dec  2 21:43 \u001b[01;34m..\u001b[0m/\n-rw-rw-r-- 1 olga olga  12M Oct 28 10:16 droplet_normal_lung_blood_P1-3_metadata.csv\n-rw-rw-r-- 1 olga olga 3.3G Oct 30 18:21 droplet_normal_lung_blood_P1-3_ncbi_GCT.csv\n-rw-rw-r-- 1 olga olga 1.1G Oct 28 10:25 facs_normal_lung_blood_P1-3_gencode_GCT.csv\n-rw-rw-r-- 1 olga olga 5.7M Oct 28 10:25 facs_normal_lung_blood_P1-3_metadata.csv\n"
      }
     ],
     "persistentId": "6828dcaf-0c68-4c45-b75c-4eebb5e082da",
     "text": "ls -lha $human_folder"
    },
    "executionTime": "2019-12-14T00:37:58.285Z"
   },
   {
    "cell": {
     "executionCount": 33,
     "executionEventId": "417f35c5-96d0-4e9a-bbf8-b2dfff6ced5e",
     "hasError": true,
     "id": "5842dd7b-f7d0-42be-a332-2f0dea50783e",
     "outputs": [
      {
       "ename": "NameError",
       "evalue": "name 'human' is not defined",
       "output_type": "error",
       "traceback": [
        "\u001b[0;31m---------------------------------------------------------------------------\u001b[0m",
        "\u001b[0;31mNameError\u001b[0m                                 Traceback (most recent call last)",
        "\u001b[0;32m<ipython-input-33-739da8eb608f>\u001b[0m in \u001b[0;36m<module>\u001b[0;34m\u001b[0m\n\u001b[0;32m----> 1\u001b[0;31m \u001b[0mhuman\u001b[0m\u001b[0;34m.\u001b[0m\u001b[0mwrite\u001b[0m\u001b[0;34m(\u001b[0m\u001b[0;34mf\"{human_folder}/droplet_normal_lung_blood_P1-3.h5ad\"\u001b[0m\u001b[0;34m)\u001b[0m\u001b[0;34m\u001b[0m\u001b[0;34m\u001b[0m\u001b[0m\n\u001b[0m",
        "\u001b[0;31mNameError\u001b[0m: name 'human' is not defined"
       ]
      }
     ],
     "persistentId": "b5c07671-8c42-4edb-94c0-22a90b0ca79e",
     "text": "human.write(f\"{human_folder}/droplet_normal_lung_blood_P1-3.h5ad\")"
    },
    "executionTime": "2019-12-14T00:38:00.201Z"
   },
   {
    "cell": {
     "executionCount": 34,
     "executionEventId": "8eb45302-a53a-40fd-9912-32ed0b0e1ae4",
     "hasError": true,
     "id": "8c3f9aa1-95ac-4679-93f7-756db9af2d87",
     "outputs": [
      {
       "ename": "ValueError",
       "evalue": "Index of obs must match index of X.",
       "output_type": "error",
       "traceback": [
        "\u001b[0;31m---------------------------------------------------------------------------\u001b[0m",
        "\u001b[0;31mValueError\u001b[0m                                Traceback (most recent call last)",
        "\u001b[0;32m<ipython-input-34-743f95b3be62>\u001b[0m in \u001b[0;36m<module>\u001b[0;34m\u001b[0m\n\u001b[0;32m----> 1\u001b[0;31m \u001b[0mhuman\u001b[0m \u001b[0;34m=\u001b[0m \u001b[0manndata\u001b[0m\u001b[0;34m.\u001b[0m\u001b[0mAnnData\u001b[0m\u001b[0;34m(\u001b[0m\u001b[0mexpression\u001b[0m\u001b[0;34m,\u001b[0m \u001b[0mobs\u001b[0m\u001b[0;34m=\u001b[0m\u001b[0mmetadata\u001b[0m\u001b[0;34m)\u001b[0m\u001b[0;34m\u001b[0m\u001b[0;34m\u001b[0m\u001b[0m\n\u001b[0m\u001b[1;32m      2\u001b[0m \u001b[0mhuman\u001b[0m\u001b[0;34m\u001b[0m\u001b[0;34m\u001b[0m\u001b[0m\n",
        "\u001b[0;32m~/miniconda3/envs/sc-tutorial/lib/python3.7/site-packages/anndata/core/anndata.py\u001b[0m in \u001b[0;36m__init__\u001b[0;34m(self, X, obs, var, uns, obsm, varm, layers, raw, dtype, shape, filename, filemode, asview, oidx, vidx)\u001b[0m\n\u001b[1;32m    568\u001b[0m                 \u001b[0mlayers\u001b[0m\u001b[0;34m=\u001b[0m\u001b[0mlayers\u001b[0m\u001b[0;34m,\u001b[0m\u001b[0;34m\u001b[0m\u001b[0;34m\u001b[0m\u001b[0m\n\u001b[1;32m    569\u001b[0m                 \u001b[0mdtype\u001b[0m\u001b[0;34m=\u001b[0m\u001b[0mdtype\u001b[0m\u001b[0;34m,\u001b[0m \u001b[0mshape\u001b[0m\u001b[0;34m=\u001b[0m\u001b[0mshape\u001b[0m\u001b[0;34m,\u001b[0m\u001b[0;34m\u001b[0m\u001b[0;34m\u001b[0m\u001b[0m\n\u001b[0;32m--> 570\u001b[0;31m                 filename=filename, filemode=filemode)\n\u001b[0m\u001b[1;32m    571\u001b[0m \u001b[0;34m\u001b[0m\u001b[0m\n\u001b[1;32m    572\u001b[0m     \u001b[0;32mdef\u001b[0m \u001b[0m_init_as_view\u001b[0m\u001b[0;34m(\u001b[0m\u001b[0mself\u001b[0m\u001b[0;34m,\u001b[0m \u001b[0madata_ref\u001b[0m\u001b[0;34m:\u001b[0m \u001b[0;34m'AnnData'\u001b[0m\u001b[0;34m,\u001b[0m \u001b[0moidx\u001b[0m\u001b[0;34m:\u001b[0m \u001b[0mIndex\u001b[0m\u001b[0;34m,\u001b[0m \u001b[0mvidx\u001b[0m\u001b[0;34m:\u001b[0m \u001b[0mIndex\u001b[0m\u001b[0;34m)\u001b[0m\u001b[0;34m:\u001b[0m\u001b[0;34m\u001b[0m\u001b[0;34m\u001b[0m\u001b[0m\n",
        "\u001b[0;32m~/miniconda3/envs/sc-tutorial/lib/python3.7/site-packages/anndata/core/anndata.py\u001b[0m in \u001b[0;36m_init_as_actual\u001b[0;34m(self, X, obs, var, uns, obsm, varm, raw, layers, dtype, shape, filename, filemode)\u001b[0m\n\u001b[1;32m    704\u001b[0m                     \u001b[0;32mif\u001b[0m \u001b[0;32mnot\u001b[0m \u001b[0mX\u001b[0m\u001b[0;34m.\u001b[0m\u001b[0mindex\u001b[0m\u001b[0;34m.\u001b[0m\u001b[0mequals\u001b[0m\u001b[0;34m(\u001b[0m\u001b[0mobs\u001b[0m\u001b[0;34m.\u001b[0m\u001b[0mindex\u001b[0m\u001b[0;34m)\u001b[0m\u001b[0;34m:\u001b[0m\u001b[0;34m\u001b[0m\u001b[0;34m\u001b[0m\u001b[0m\n\u001b[1;32m    705\u001b[0m                         raise ValueError(\n\u001b[0;32m--> 706\u001b[0;31m                             'Index of obs must match index of X.')\n\u001b[0m\u001b[1;32m    707\u001b[0m                 \u001b[0;32mif\u001b[0m \u001b[0mvar\u001b[0m \u001b[0;32mis\u001b[0m \u001b[0;32mNone\u001b[0m\u001b[0;34m:\u001b[0m\u001b[0;34m\u001b[0m\u001b[0;34m\u001b[0m\u001b[0m\n\u001b[1;32m    708\u001b[0m                     \u001b[0mvar\u001b[0m \u001b[0;34m=\u001b[0m \u001b[0mpd\u001b[0m\u001b[0;34m.\u001b[0m\u001b[0mDataFrame\u001b[0m\u001b[0;34m(\u001b[0m\u001b[0mindex\u001b[0m\u001b[0;34m=\u001b[0m\u001b[0mX\u001b[0m\u001b[0;34m.\u001b[0m\u001b[0mcolumns\u001b[0m\u001b[0;34m)\u001b[0m\u001b[0;34m\u001b[0m\u001b[0;34m\u001b[0m\u001b[0m\n",
        "\u001b[0;31mValueError\u001b[0m: Index of obs must match index of X."
       ]
      }
     ],
     "persistentId": "650399aa-371b-4fae-8622-2f2f19d9cf35",
     "text": "human = anndata.AnnData(expression, obs=metadata)\nhuman"
    },
    "executionTime": "2019-12-14T00:38:03.287Z"
   },
   {
    "cell": {
     "executionCount": 35,
     "executionEventId": "0a23b192-a971-4c90-a93f-945847136e74",
     "hasError": false,
     "id": "ea7c749e-7bc5-49c7-bcd8-75e7a9a14cbd",
     "outputs": [
      {
       "data": {
        "text/html": "<div>\n<style scoped>\n    .dataframe tbody tr th:only-of-type {\n        vertical-align: middle;\n    }\n\n    .dataframe tbody tr th {\n        vertical-align: top;\n    }\n\n    .dataframe thead th {\n        text-align: right;\n    }\n</style>\n<table border=\"1\" class=\"dataframe\">\n  <thead>\n    <tr style=\"text-align: right;\">\n      <th></th>\n      <th>Unnamed: 0</th>\n      <th>P2_1_AAACCTGAGAAACCAT</th>\n      <th>P2_1_AAATGCCAGATGAGAG</th>\n      <th>P2_1_AACACGTTCGATCCCT</th>\n      <th>P2_1_AACACGTTCGCACTCT</th>\n      <th>P2_1_AACCATGCAGCTCGCA</th>\n      <th>P2_1_AACCGCGAGTCATCCA</th>\n      <th>P2_1_AACCGCGGTACTCTCC</th>\n      <th>P2_1_AACGTTGCATTTCACT</th>\n      <th>P2_1_AACTCAGTCCGTACAA</th>\n      <th>...</th>\n      <th>P3_6_GTTACAGCACGGCCAT</th>\n      <th>P3_6_TACGGGCGTTTGTGTG</th>\n      <th>P3_6_TCTGAGAAGAGTGAGA</th>\n      <th>P3_6_TGCGCAGTCCAAAGTC</th>\n      <th>P3_6_TGGGAAGCATGACGGA</th>\n      <th>P3_6_TGTCCCAGTTCTGAAC</th>\n      <th>P3_6_TTCTCCTTCTGTTTGT</th>\n      <th>P3_7_AACTCCCCACTACAGT</th>\n      <th>P3_7_TCGTAGATCATCGGAT</th>\n      <th>P3_4_GCTGCGAAGAGCTTCT</th>\n    </tr>\n  </thead>\n  <tbody>\n    <tr>\n      <th>0</th>\n      <td>DDX11L1</td>\n      <td>0</td>\n      <td>0</td>\n      <td>0</td>\n      <td>0</td>\n      <td>0</td>\n      <td>0</td>\n      <td>0</td>\n      <td>0</td>\n      <td>0</td>\n      <td>...</td>\n      <td>0</td>\n      <td>0</td>\n      <td>0</td>\n      <td>0</td>\n      <td>0</td>\n      <td>0</td>\n      <td>0</td>\n      <td>0</td>\n      <td>0</td>\n      <td>0</td>\n    </tr>\n    <tr>\n      <th>1</th>\n      <td>WASH7P</td>\n      <td>0</td>\n      <td>0</td>\n      <td>0</td>\n      <td>0</td>\n      <td>0</td>\n      <td>0</td>\n      <td>0</td>\n      <td>0</td>\n      <td>0</td>\n      <td>...</td>\n      <td>0</td>\n      <td>0</td>\n      <td>0</td>\n      <td>0</td>\n      <td>0</td>\n      <td>0</td>\n      <td>0</td>\n      <td>0</td>\n      <td>0</td>\n      <td>0</td>\n    </tr>\n    <tr>\n      <th>2</th>\n      <td>MIR6859-3</td>\n      <td>0</td>\n      <td>0</td>\n      <td>0</td>\n      <td>0</td>\n      <td>0</td>\n      <td>0</td>\n      <td>0</td>\n      <td>0</td>\n      <td>0</td>\n      <td>...</td>\n      <td>0</td>\n      <td>0</td>\n      <td>0</td>\n      <td>0</td>\n      <td>0</td>\n      <td>0</td>\n      <td>0</td>\n      <td>0</td>\n      <td>0</td>\n      <td>0</td>\n    </tr>\n    <tr>\n      <th>3</th>\n      <td>MIR6859-2</td>\n      <td>0</td>\n      <td>0</td>\n      <td>0</td>\n      <td>0</td>\n      <td>0</td>\n      <td>0</td>\n      <td>0</td>\n      <td>0</td>\n      <td>0</td>\n      <td>...</td>\n      <td>0</td>\n      <td>0</td>\n      <td>0</td>\n      <td>0</td>\n      <td>0</td>\n      <td>0</td>\n      <td>0</td>\n      <td>0</td>\n      <td>0</td>\n      <td>0</td>\n    </tr>\n    <tr>\n      <th>4</th>\n      <td>MIR6859-1</td>\n      <td>0</td>\n      <td>0</td>\n      <td>0</td>\n      <td>0</td>\n      <td>0</td>\n      <td>0</td>\n      <td>0</td>\n      <td>0</td>\n      <td>0</td>\n      <td>...</td>\n      <td>0</td>\n      <td>0</td>\n      <td>0</td>\n      <td>0</td>\n      <td>0</td>\n      <td>0</td>\n      <td>0</td>\n      <td>0</td>\n      <td>0</td>\n      <td>0</td>\n    </tr>\n  </tbody>\n</table>\n<p>5 rows × 65663 columns</p>\n</div>",
        "text/plain": "  Unnamed: 0  P2_1_AAACCTGAGAAACCAT  P2_1_AAATGCCAGATGAGAG  \\\n0    DDX11L1                      0                      0   \n1     WASH7P                      0                      0   \n2  MIR6859-3                      0                      0   \n3  MIR6859-2                      0                      0   \n4  MIR6859-1                      0                      0   \n\n   P2_1_AACACGTTCGATCCCT  P2_1_AACACGTTCGCACTCT  P2_1_AACCATGCAGCTCGCA  \\\n0                      0                      0                      0   \n1                      0                      0                      0   \n2                      0                      0                      0   \n3                      0                      0                      0   \n4                      0                      0                      0   \n\n   P2_1_AACCGCGAGTCATCCA  P2_1_AACCGCGGTACTCTCC  P2_1_AACGTTGCATTTCACT  \\\n0                      0                      0                      0   \n1                      0                      0                      0   \n2                      0                      0                      0   \n3                      0                      0                      0   \n4                      0                      0                      0   \n\n   P2_1_AACTCAGTCCGTACAA  ...  P3_6_GTTACAGCACGGCCAT  P3_6_TACGGGCGTTTGTGTG  \\\n0                      0  ...                      0                      0   \n1                      0  ...                      0                      0   \n2                      0  ...                      0                      0   \n3                      0  ...                      0                      0   \n4                      0  ...                      0                      0   \n\n   P3_6_TCTGAGAAGAGTGAGA  P3_6_TGCGCAGTCCAAAGTC  P3_6_TGGGAAGCATGACGGA  \\\n0                      0                      0                      0   \n1                      0                      0                      0   \n2                      0                      0                      0   \n3                      0                      0                      0   \n4                      0                      0                      0   \n\n   P3_6_TGTCCCAGTTCTGAAC  P3_6_TTCTCCTTCTGTTTGT  P3_7_AACTCCCCACTACAGT  \\\n0                      0                      0                      0   \n1                      0                      0                      0   \n2                      0                      0                      0   \n3                      0                      0                      0   \n4                      0                      0                      0   \n\n   P3_7_TCGTAGATCATCGGAT  P3_4_GCTGCGAAGAGCTTCT  \n0                      0                      0  \n1                      0                      0  \n2                      0                      0  \n3                      0                      0  \n4                      0                      0  \n\n[5 rows x 65663 columns]"
       },
       "execution_count": 35,
       "metadata": {},
       "output_type": "execute_result"
      }
     ],
     "persistentId": "4ba2c890-747e-49ef-a740-5a29d663d64e",
     "text": "expression.head()"
    },
    "executionTime": "2019-12-14T00:38:08.313Z"
   },
   {
    "cell": {
     "executionCount": 36,
     "executionEventId": "278b7f3a-dbee-40ca-b567-9b8698167420",
     "hasError": false,
     "id": "376d9d09-1d97-4042-89c4-5b8246d2bc63",
     "outputs": [
      {
       "data": {
        "text/html": "<div>\n<style scoped>\n    .dataframe tbody tr th:only-of-type {\n        vertical-align: middle;\n    }\n\n    .dataframe tbody tr th {\n        vertical-align: top;\n    }\n\n    .dataframe thead th {\n        text-align: right;\n    }\n</style>\n<table border=\"1\" class=\"dataframe\">\n  <thead>\n    <tr style=\"text-align: right;\">\n      <th></th>\n      <th>Unnamed: 0</th>\n      <th>nGene</th>\n      <th>nUMI</th>\n      <th>orig.ident</th>\n      <th>channel</th>\n      <th>tissue</th>\n      <th>region</th>\n      <th>percent.ribo</th>\n      <th>free_annotation</th>\n      <th>patient</th>\n      <th>sample</th>\n      <th>location</th>\n      <th>magnetic.selection</th>\n      <th>preparation.site</th>\n      <th>compartment</th>\n    </tr>\n  </thead>\n  <tbody>\n    <tr>\n      <th>0</th>\n      <td>P2_1_AAACCTGAGAAACCAT</td>\n      <td>1347</td>\n      <td>2914</td>\n      <td>Human Lung 10x - Patient 2</td>\n      <td>P2_1</td>\n      <td>lung</td>\n      <td>normal</td>\n      <td>0.035347</td>\n      <td>Capillary Aerocyte</td>\n      <td>2</td>\n      <td>distal 2</td>\n      <td>distal</td>\n      <td>epithelial</td>\n      <td>biohub</td>\n      <td>endothelial</td>\n    </tr>\n    <tr>\n      <th>1</th>\n      <td>P2_1_AAATGCCAGATGAGAG</td>\n      <td>1713</td>\n      <td>4226</td>\n      <td>Human Lung 10x - Patient 2</td>\n      <td>P2_1</td>\n      <td>lung</td>\n      <td>normal</td>\n      <td>0.061051</td>\n      <td>Capillary Aerocyte</td>\n      <td>2</td>\n      <td>distal 2</td>\n      <td>distal</td>\n      <td>epithelial</td>\n      <td>biohub</td>\n      <td>endothelial</td>\n    </tr>\n    <tr>\n      <th>2</th>\n      <td>P2_1_AACACGTTCGATCCCT</td>\n      <td>1185</td>\n      <td>2152</td>\n      <td>Human Lung 10x - Patient 2</td>\n      <td>P2_1</td>\n      <td>lung</td>\n      <td>normal</td>\n      <td>0.048327</td>\n      <td>Capillary Aerocyte</td>\n      <td>2</td>\n      <td>distal 2</td>\n      <td>distal</td>\n      <td>epithelial</td>\n      <td>biohub</td>\n      <td>endothelial</td>\n    </tr>\n    <tr>\n      <th>3</th>\n      <td>P2_1_AACACGTTCGCACTCT</td>\n      <td>1378</td>\n      <td>3419</td>\n      <td>Human Lung 10x - Patient 2</td>\n      <td>P2_1</td>\n      <td>lung</td>\n      <td>normal</td>\n      <td>0.032758</td>\n      <td>Capillary Aerocyte</td>\n      <td>2</td>\n      <td>distal 2</td>\n      <td>distal</td>\n      <td>epithelial</td>\n      <td>biohub</td>\n      <td>endothelial</td>\n    </tr>\n    <tr>\n      <th>4</th>\n      <td>P2_1_AACCATGCAGCTCGCA</td>\n      <td>1210</td>\n      <td>2514</td>\n      <td>Human Lung 10x - Patient 2</td>\n      <td>P2_1</td>\n      <td>lung</td>\n      <td>normal</td>\n      <td>0.050119</td>\n      <td>Capillary Aerocyte</td>\n      <td>2</td>\n      <td>distal 2</td>\n      <td>distal</td>\n      <td>epithelial</td>\n      <td>biohub</td>\n      <td>endothelial</td>\n    </tr>\n  </tbody>\n</table>\n</div>",
        "text/plain": "              Unnamed: 0  nGene  nUMI                  orig.ident channel  \\\n0  P2_1_AAACCTGAGAAACCAT   1347  2914  Human Lung 10x - Patient 2    P2_1   \n1  P2_1_AAATGCCAGATGAGAG   1713  4226  Human Lung 10x - Patient 2    P2_1   \n2  P2_1_AACACGTTCGATCCCT   1185  2152  Human Lung 10x - Patient 2    P2_1   \n3  P2_1_AACACGTTCGCACTCT   1378  3419  Human Lung 10x - Patient 2    P2_1   \n4  P2_1_AACCATGCAGCTCGCA   1210  2514  Human Lung 10x - Patient 2    P2_1   \n\n  tissue  region  percent.ribo     free_annotation  patient    sample  \\\n0   lung  normal      0.035347  Capillary Aerocyte        2  distal 2   \n1   lung  normal      0.061051  Capillary Aerocyte        2  distal 2   \n2   lung  normal      0.048327  Capillary Aerocyte        2  distal 2   \n3   lung  normal      0.032758  Capillary Aerocyte        2  distal 2   \n4   lung  normal      0.050119  Capillary Aerocyte        2  distal 2   \n\n  location magnetic.selection preparation.site  compartment  \n0   distal         epithelial           biohub  endothelial  \n1   distal         epithelial           biohub  endothelial  \n2   distal         epithelial           biohub  endothelial  \n3   distal         epithelial           biohub  endothelial  \n4   distal         epithelial           biohub  endothelial  "
       },
       "execution_count": 36,
       "metadata": {},
       "output_type": "execute_result"
      }
     ],
     "persistentId": "c04b455f-95b5-4bc9-92ef-2035805f44c6",
     "text": "metadata.head()"
    },
    "executionTime": "2019-12-14T00:38:14.811Z"
   },
   {
    "cell": {
     "executionCount": 37,
     "executionEventId": "96a0151b-f2fc-41eb-9c20-e3102b8ac930",
     "hasError": false,
     "id": "c40ea1c9-7bae-4a88-b12c-0ce9df003c17",
     "outputs": [
      {
       "name": "stdout",
       "output_type": "stream",
       "text": "(26485, 65662)\n"
      },
      {
       "data": {
        "text/html": "<div>\n<style scoped>\n    .dataframe tbody tr th:only-of-type {\n        vertical-align: middle;\n    }\n\n    .dataframe tbody tr th {\n        vertical-align: top;\n    }\n\n    .dataframe thead th {\n        text-align: right;\n    }\n</style>\n<table border=\"1\" class=\"dataframe\">\n  <thead>\n    <tr style=\"text-align: right;\">\n      <th></th>\n      <th>P2_1_AAACCTGAGAAACCAT</th>\n      <th>P2_1_AAATGCCAGATGAGAG</th>\n      <th>P2_1_AACACGTTCGATCCCT</th>\n      <th>P2_1_AACACGTTCGCACTCT</th>\n      <th>P2_1_AACCATGCAGCTCGCA</th>\n      <th>P2_1_AACCGCGAGTCATCCA</th>\n      <th>P2_1_AACCGCGGTACTCTCC</th>\n      <th>P2_1_AACGTTGCATTTCACT</th>\n      <th>P2_1_AACTCAGTCCGTACAA</th>\n      <th>P2_1_AACTCTTAGAACAACT</th>\n      <th>...</th>\n      <th>P3_6_GTTACAGCACGGCCAT</th>\n      <th>P3_6_TACGGGCGTTTGTGTG</th>\n      <th>P3_6_TCTGAGAAGAGTGAGA</th>\n      <th>P3_6_TGCGCAGTCCAAAGTC</th>\n      <th>P3_6_TGGGAAGCATGACGGA</th>\n      <th>P3_6_TGTCCCAGTTCTGAAC</th>\n      <th>P3_6_TTCTCCTTCTGTTTGT</th>\n      <th>P3_7_AACTCCCCACTACAGT</th>\n      <th>P3_7_TCGTAGATCATCGGAT</th>\n      <th>P3_4_GCTGCGAAGAGCTTCT</th>\n    </tr>\n    <tr>\n      <th>gene_name</th>\n      <th></th>\n      <th></th>\n      <th></th>\n      <th></th>\n      <th></th>\n      <th></th>\n      <th></th>\n      <th></th>\n      <th></th>\n      <th></th>\n      <th></th>\n      <th></th>\n      <th></th>\n      <th></th>\n      <th></th>\n      <th></th>\n      <th></th>\n      <th></th>\n      <th></th>\n      <th></th>\n      <th></th>\n    </tr>\n  </thead>\n  <tbody>\n    <tr>\n      <th>DDX11L1</th>\n      <td>0</td>\n      <td>0</td>\n      <td>0</td>\n      <td>0</td>\n      <td>0</td>\n      <td>0</td>\n      <td>0</td>\n      <td>0</td>\n      <td>0</td>\n      <td>0</td>\n      <td>...</td>\n      <td>0</td>\n      <td>0</td>\n      <td>0</td>\n      <td>0</td>\n      <td>0</td>\n      <td>0</td>\n      <td>0</td>\n      <td>0</td>\n      <td>0</td>\n      <td>0</td>\n    </tr>\n    <tr>\n      <th>WASH7P</th>\n      <td>0</td>\n      <td>0</td>\n      <td>0</td>\n      <td>0</td>\n      <td>0</td>\n      <td>0</td>\n      <td>0</td>\n      <td>0</td>\n      <td>0</td>\n      <td>0</td>\n      <td>...</td>\n      <td>0</td>\n      <td>0</td>\n      <td>0</td>\n      <td>0</td>\n      <td>0</td>\n      <td>0</td>\n      <td>0</td>\n      <td>0</td>\n      <td>0</td>\n      <td>0</td>\n    </tr>\n    <tr>\n      <th>MIR6859-3</th>\n      <td>0</td>\n      <td>0</td>\n      <td>0</td>\n      <td>0</td>\n      <td>0</td>\n      <td>0</td>\n      <td>0</td>\n      <td>0</td>\n      <td>0</td>\n      <td>0</td>\n      <td>...</td>\n      <td>0</td>\n      <td>0</td>\n      <td>0</td>\n      <td>0</td>\n      <td>0</td>\n      <td>0</td>\n      <td>0</td>\n      <td>0</td>\n      <td>0</td>\n      <td>0</td>\n    </tr>\n    <tr>\n      <th>MIR6859-2</th>\n      <td>0</td>\n      <td>0</td>\n      <td>0</td>\n      <td>0</td>\n      <td>0</td>\n      <td>0</td>\n      <td>0</td>\n      <td>0</td>\n      <td>0</td>\n      <td>0</td>\n      <td>...</td>\n      <td>0</td>\n      <td>0</td>\n      <td>0</td>\n      <td>0</td>\n      <td>0</td>\n      <td>0</td>\n      <td>0</td>\n      <td>0</td>\n      <td>0</td>\n      <td>0</td>\n    </tr>\n    <tr>\n      <th>MIR6859-1</th>\n      <td>0</td>\n      <td>0</td>\n      <td>0</td>\n      <td>0</td>\n      <td>0</td>\n      <td>0</td>\n      <td>0</td>\n      <td>0</td>\n      <td>0</td>\n      <td>0</td>\n      <td>...</td>\n      <td>0</td>\n      <td>0</td>\n      <td>0</td>\n      <td>0</td>\n      <td>0</td>\n      <td>0</td>\n      <td>0</td>\n      <td>0</td>\n      <td>0</td>\n      <td>0</td>\n    </tr>\n  </tbody>\n</table>\n<p>5 rows × 65662 columns</p>\n</div>",
        "text/plain": "           P2_1_AAACCTGAGAAACCAT  P2_1_AAATGCCAGATGAGAG  \\\ngene_name                                                 \nDDX11L1                        0                      0   \nWASH7P                         0                      0   \nMIR6859-3                      0                      0   \nMIR6859-2                      0                      0   \nMIR6859-1                      0                      0   \n\n           P2_1_AACACGTTCGATCCCT  P2_1_AACACGTTCGCACTCT  \\\ngene_name                                                 \nDDX11L1                        0                      0   \nWASH7P                         0                      0   \nMIR6859-3                      0                      0   \nMIR6859-2                      0                      0   \nMIR6859-1                      0                      0   \n\n           P2_1_AACCATGCAGCTCGCA  P2_1_AACCGCGAGTCATCCA  \\\ngene_name                                                 \nDDX11L1                        0                      0   \nWASH7P                         0                      0   \nMIR6859-3                      0                      0   \nMIR6859-2                      0                      0   \nMIR6859-1                      0                      0   \n\n           P2_1_AACCGCGGTACTCTCC  P2_1_AACGTTGCATTTCACT  \\\ngene_name                                                 \nDDX11L1                        0                      0   \nWASH7P                         0                      0   \nMIR6859-3                      0                      0   \nMIR6859-2                      0                      0   \nMIR6859-1                      0                      0   \n\n           P2_1_AACTCAGTCCGTACAA  P2_1_AACTCTTAGAACAACT  ...  \\\ngene_name                                                ...   \nDDX11L1                        0                      0  ...   \nWASH7P                         0                      0  ...   \nMIR6859-3                      0                      0  ...   \nMIR6859-2                      0                      0  ...   \nMIR6859-1                      0                      0  ...   \n\n           P3_6_GTTACAGCACGGCCAT  P3_6_TACGGGCGTTTGTGTG  \\\ngene_name                                                 \nDDX11L1                        0                      0   \nWASH7P                         0                      0   \nMIR6859-3                      0                      0   \nMIR6859-2                      0                      0   \nMIR6859-1                      0                      0   \n\n           P3_6_TCTGAGAAGAGTGAGA  P3_6_TGCGCAGTCCAAAGTC  \\\ngene_name                                                 \nDDX11L1                        0                      0   \nWASH7P                         0                      0   \nMIR6859-3                      0                      0   \nMIR6859-2                      0                      0   \nMIR6859-1                      0                      0   \n\n           P3_6_TGGGAAGCATGACGGA  P3_6_TGTCCCAGTTCTGAAC  \\\ngene_name                                                 \nDDX11L1                        0                      0   \nWASH7P                         0                      0   \nMIR6859-3                      0                      0   \nMIR6859-2                      0                      0   \nMIR6859-1                      0                      0   \n\n           P3_6_TTCTCCTTCTGTTTGT  P3_7_AACTCCCCACTACAGT  \\\ngene_name                                                 \nDDX11L1                        0                      0   \nWASH7P                         0                      0   \nMIR6859-3                      0                      0   \nMIR6859-2                      0                      0   \nMIR6859-1                      0                      0   \n\n           P3_7_TCGTAGATCATCGGAT  P3_4_GCTGCGAAGAGCTTCT  \ngene_name                                                \nDDX11L1                        0                      0  \nWASH7P                         0                      0  \nMIR6859-3                      0                      0  \nMIR6859-2                      0                      0  \nMIR6859-1                      0                      0  \n\n[5 rows x 65662 columns]"
       },
       "execution_count": 37,
       "metadata": {},
       "output_type": "execute_result"
      }
     ],
     "persistentId": "bbb8affa-f34c-4ab9-a766-7ecb711d6680",
     "text": "expression_index = expression.set_index('Unnamed: 0')\nexpression_index.index.name = 'gene_name'\nprint(expression_index.shape)\nexpression_index.head()"
    },
    "executionTime": "2019-12-14T00:38:47.769Z"
   },
   {
    "cell": {
     "executionCount": 38,
     "executionEventId": "f2d23707-46c3-4022-b8f7-4b0e669ac732",
     "hasError": true,
     "id": "702d39b8-903d-474d-b609-ef4103b631dc",
     "outputs": [
      {
       "ename": "AttributeError",
       "evalue": "'DataFrame' object has no attribute 'shaped'",
       "output_type": "error",
       "traceback": [
        "\u001b[0;31m---------------------------------------------------------------------------\u001b[0m",
        "\u001b[0;31mAttributeError\u001b[0m                            Traceback (most recent call last)",
        "\u001b[0;32m<ipython-input-38-f5a4f7e34439>\u001b[0m in \u001b[0;36m<module>\u001b[0;34m\u001b[0m\n\u001b[1;32m      1\u001b[0m \u001b[0mmetadata_index\u001b[0m \u001b[0;34m=\u001b[0m \u001b[0mmetadata\u001b[0m\u001b[0;34m.\u001b[0m\u001b[0mset_index\u001b[0m\u001b[0;34m(\u001b[0m\u001b[0;34m'Unnamed: 0'\u001b[0m\u001b[0;34m)\u001b[0m\u001b[0;34m\u001b[0m\u001b[0;34m\u001b[0m\u001b[0m\n\u001b[1;32m      2\u001b[0m \u001b[0mmetadata_index\u001b[0m\u001b[0;34m.\u001b[0m\u001b[0mindex\u001b[0m\u001b[0;34m.\u001b[0m\u001b[0mname\u001b[0m \u001b[0;34m=\u001b[0m \u001b[0;34m'cell_id'\u001b[0m\u001b[0;34m\u001b[0m\u001b[0;34m\u001b[0m\u001b[0m\n\u001b[0;32m----> 3\u001b[0;31m \u001b[0mprint\u001b[0m\u001b[0;34m(\u001b[0m\u001b[0mmetadata_index\u001b[0m\u001b[0;34m.\u001b[0m\u001b[0mshaped\u001b[0m\u001b[0;34m)\u001b[0m\u001b[0;34m\u001b[0m\u001b[0;34m\u001b[0m\u001b[0m\n\u001b[0m\u001b[1;32m      4\u001b[0m \u001b[0mmetadata_index\u001b[0m\u001b[0;34m.\u001b[0m\u001b[0mhead\u001b[0m\u001b[0;34m(\u001b[0m\u001b[0;34m)\u001b[0m\u001b[0;34m\u001b[0m\u001b[0;34m\u001b[0m\u001b[0m\n",
        "\u001b[0;32m~/miniconda3/envs/sc-tutorial/lib/python3.7/site-packages/pandas/core/generic.py\u001b[0m in \u001b[0;36m__getattr__\u001b[0;34m(self, name)\u001b[0m\n\u001b[1;32m   5177\u001b[0m             \u001b[0;32mif\u001b[0m \u001b[0mself\u001b[0m\u001b[0;34m.\u001b[0m\u001b[0m_info_axis\u001b[0m\u001b[0;34m.\u001b[0m\u001b[0m_can_hold_identifiers_and_holds_name\u001b[0m\u001b[0;34m(\u001b[0m\u001b[0mname\u001b[0m\u001b[0;34m)\u001b[0m\u001b[0;34m:\u001b[0m\u001b[0;34m\u001b[0m\u001b[0;34m\u001b[0m\u001b[0m\n\u001b[1;32m   5178\u001b[0m                 \u001b[0;32mreturn\u001b[0m \u001b[0mself\u001b[0m\u001b[0;34m[\u001b[0m\u001b[0mname\u001b[0m\u001b[0;34m]\u001b[0m\u001b[0;34m\u001b[0m\u001b[0;34m\u001b[0m\u001b[0m\n\u001b[0;32m-> 5179\u001b[0;31m             \u001b[0;32mreturn\u001b[0m \u001b[0mobject\u001b[0m\u001b[0;34m.\u001b[0m\u001b[0m__getattribute__\u001b[0m\u001b[0;34m(\u001b[0m\u001b[0mself\u001b[0m\u001b[0;34m,\u001b[0m \u001b[0mname\u001b[0m\u001b[0;34m)\u001b[0m\u001b[0;34m\u001b[0m\u001b[0;34m\u001b[0m\u001b[0m\n\u001b[0m\u001b[1;32m   5180\u001b[0m \u001b[0;34m\u001b[0m\u001b[0m\n\u001b[1;32m   5181\u001b[0m     \u001b[0;32mdef\u001b[0m \u001b[0m__setattr__\u001b[0m\u001b[0;34m(\u001b[0m\u001b[0mself\u001b[0m\u001b[0;34m,\u001b[0m \u001b[0mname\u001b[0m\u001b[0;34m,\u001b[0m \u001b[0mvalue\u001b[0m\u001b[0;34m)\u001b[0m\u001b[0;34m:\u001b[0m\u001b[0;34m\u001b[0m\u001b[0;34m\u001b[0m\u001b[0m\n",
        "\u001b[0;31mAttributeError\u001b[0m: 'DataFrame' object has no attribute 'shaped'"
       ]
      }
     ],
     "persistentId": "775a736f-dc00-4e8c-b8fd-4dec423d1a2d",
     "text": "metadata_index = metadata.set_index('Unnamed: 0')\nmetadata_index.index.name = 'cell_id'\nprint(metadata_index.shaped)\nmetadata_index.head()"
    },
    "executionTime": "2019-12-14T00:39:09.194Z"
   },
   {
    "cell": {
     "executionCount": 39,
     "executionEventId": "0ebfd273-b0fb-4671-a34e-9fee4bab4098",
     "hasError": false,
     "id": "702d39b8-903d-474d-b609-ef4103b631dc",
     "outputs": [
      {
       "name": "stdout",
       "output_type": "stream",
       "text": "(65662, 14)\n"
      },
      {
       "data": {
        "text/html": "<div>\n<style scoped>\n    .dataframe tbody tr th:only-of-type {\n        vertical-align: middle;\n    }\n\n    .dataframe tbody tr th {\n        vertical-align: top;\n    }\n\n    .dataframe thead th {\n        text-align: right;\n    }\n</style>\n<table border=\"1\" class=\"dataframe\">\n  <thead>\n    <tr style=\"text-align: right;\">\n      <th></th>\n      <th>nGene</th>\n      <th>nUMI</th>\n      <th>orig.ident</th>\n      <th>channel</th>\n      <th>tissue</th>\n      <th>region</th>\n      <th>percent.ribo</th>\n      <th>free_annotation</th>\n      <th>patient</th>\n      <th>sample</th>\n      <th>location</th>\n      <th>magnetic.selection</th>\n      <th>preparation.site</th>\n      <th>compartment</th>\n    </tr>\n    <tr>\n      <th>cell_id</th>\n      <th></th>\n      <th></th>\n      <th></th>\n      <th></th>\n      <th></th>\n      <th></th>\n      <th></th>\n      <th></th>\n      <th></th>\n      <th></th>\n      <th></th>\n      <th></th>\n      <th></th>\n      <th></th>\n    </tr>\n  </thead>\n  <tbody>\n    <tr>\n      <th>P2_1_AAACCTGAGAAACCAT</th>\n      <td>1347</td>\n      <td>2914</td>\n      <td>Human Lung 10x - Patient 2</td>\n      <td>P2_1</td>\n      <td>lung</td>\n      <td>normal</td>\n      <td>0.035347</td>\n      <td>Capillary Aerocyte</td>\n      <td>2</td>\n      <td>distal 2</td>\n      <td>distal</td>\n      <td>epithelial</td>\n      <td>biohub</td>\n      <td>endothelial</td>\n    </tr>\n    <tr>\n      <th>P2_1_AAATGCCAGATGAGAG</th>\n      <td>1713</td>\n      <td>4226</td>\n      <td>Human Lung 10x - Patient 2</td>\n      <td>P2_1</td>\n      <td>lung</td>\n      <td>normal</td>\n      <td>0.061051</td>\n      <td>Capillary Aerocyte</td>\n      <td>2</td>\n      <td>distal 2</td>\n      <td>distal</td>\n      <td>epithelial</td>\n      <td>biohub</td>\n      <td>endothelial</td>\n    </tr>\n    <tr>\n      <th>P2_1_AACACGTTCGATCCCT</th>\n      <td>1185</td>\n      <td>2152</td>\n      <td>Human Lung 10x - Patient 2</td>\n      <td>P2_1</td>\n      <td>lung</td>\n      <td>normal</td>\n      <td>0.048327</td>\n      <td>Capillary Aerocyte</td>\n      <td>2</td>\n      <td>distal 2</td>\n      <td>distal</td>\n      <td>epithelial</td>\n      <td>biohub</td>\n      <td>endothelial</td>\n    </tr>\n    <tr>\n      <th>P2_1_AACACGTTCGCACTCT</th>\n      <td>1378</td>\n      <td>3419</td>\n      <td>Human Lung 10x - Patient 2</td>\n      <td>P2_1</td>\n      <td>lung</td>\n      <td>normal</td>\n      <td>0.032758</td>\n      <td>Capillary Aerocyte</td>\n      <td>2</td>\n      <td>distal 2</td>\n      <td>distal</td>\n      <td>epithelial</td>\n      <td>biohub</td>\n      <td>endothelial</td>\n    </tr>\n    <tr>\n      <th>P2_1_AACCATGCAGCTCGCA</th>\n      <td>1210</td>\n      <td>2514</td>\n      <td>Human Lung 10x - Patient 2</td>\n      <td>P2_1</td>\n      <td>lung</td>\n      <td>normal</td>\n      <td>0.050119</td>\n      <td>Capillary Aerocyte</td>\n      <td>2</td>\n      <td>distal 2</td>\n      <td>distal</td>\n      <td>epithelial</td>\n      <td>biohub</td>\n      <td>endothelial</td>\n    </tr>\n  </tbody>\n</table>\n</div>",
        "text/plain": "                       nGene  nUMI                  orig.ident channel tissue  \\\ncell_id                                                                         \nP2_1_AAACCTGAGAAACCAT   1347  2914  Human Lung 10x - Patient 2    P2_1   lung   \nP2_1_AAATGCCAGATGAGAG   1713  4226  Human Lung 10x - Patient 2    P2_1   lung   \nP2_1_AACACGTTCGATCCCT   1185  2152  Human Lung 10x - Patient 2    P2_1   lung   \nP2_1_AACACGTTCGCACTCT   1378  3419  Human Lung 10x - Patient 2    P2_1   lung   \nP2_1_AACCATGCAGCTCGCA   1210  2514  Human Lung 10x - Patient 2    P2_1   lung   \n\n                       region  percent.ribo     free_annotation  patient  \\\ncell_id                                                                    \nP2_1_AAACCTGAGAAACCAT  normal      0.035347  Capillary Aerocyte        2   \nP2_1_AAATGCCAGATGAGAG  normal      0.061051  Capillary Aerocyte        2   \nP2_1_AACACGTTCGATCCCT  normal      0.048327  Capillary Aerocyte        2   \nP2_1_AACACGTTCGCACTCT  normal      0.032758  Capillary Aerocyte        2   \nP2_1_AACCATGCAGCTCGCA  normal      0.050119  Capillary Aerocyte        2   \n\n                         sample location magnetic.selection preparation.site  \\\ncell_id                                                                        \nP2_1_AAACCTGAGAAACCAT  distal 2   distal         epithelial           biohub   \nP2_1_AAATGCCAGATGAGAG  distal 2   distal         epithelial           biohub   \nP2_1_AACACGTTCGATCCCT  distal 2   distal         epithelial           biohub   \nP2_1_AACACGTTCGCACTCT  distal 2   distal         epithelial           biohub   \nP2_1_AACCATGCAGCTCGCA  distal 2   distal         epithelial           biohub   \n\n                       compartment  \ncell_id                             \nP2_1_AAACCTGAGAAACCAT  endothelial  \nP2_1_AAATGCCAGATGAGAG  endothelial  \nP2_1_AACACGTTCGATCCCT  endothelial  \nP2_1_AACACGTTCGCACTCT  endothelial  \nP2_1_AACCATGCAGCTCGCA  endothelial  "
       },
       "execution_count": 39,
       "metadata": {},
       "output_type": "execute_result"
      }
     ],
     "persistentId": "775a736f-dc00-4e8c-b8fd-4dec423d1a2d",
     "text": "metadata_index = metadata.set_index('Unnamed: 0')\nmetadata_index.index.name = 'cell_id'\nprint(metadata_index.shape)\nmetadata_index.head()"
    },
    "executionTime": "2019-12-14T00:39:10.145Z"
   },
   {
    "cell": {
     "executionCount": 40,
     "executionEventId": "d1b793b6-8d6e-41b2-9cfc-0ddcee888b09",
     "hasError": false,
     "id": "8c3f9aa1-95ac-4679-93f7-756db9af2d87",
     "outputs": [
      {
       "data": {
        "text/plain": "AnnData object with n_obs × n_vars = 65662 × 26485 \n    obs: 'nGene', 'nUMI', 'orig.ident', 'channel', 'tissue', 'region', 'percent.ribo', 'free_annotation', 'patient', 'sample', 'location', 'magnetic.selection', 'preparation.site', 'compartment'"
       },
       "execution_count": 40,
       "metadata": {},
       "output_type": "execute_result"
      }
     ],
     "persistentId": "650399aa-371b-4fae-8622-2f2f19d9cf35",
     "text": "human = anndata.AnnData(expression_index.T, obs=metadata_index)\nhuman"
    },
    "executionTime": "2019-12-14T00:39:26.694Z"
   },
   {
    "cell": {
     "executionCount": 41,
     "executionEventId": "bf935a63-4818-4aba-aca3-efb9733d7e22",
     "hasError": false,
     "id": "11296a02-8fc7-4bbd-9369-5cadf4622041",
     "outputs": [
      {
       "name": "stdout",
       "output_type": "stream",
       "text": "total 4.4G\ndrwxrwxr-x 2 olga olga 4.0K Dec 13 11:44 \u001b[0m\u001b[01;34m.\u001b[0m/\ndrwxrwxr-x 2 olga olga 4.0K Dec  2 21:43 \u001b[01;34m..\u001b[0m/\n-rw-rw-r-- 1 olga olga  12M Oct 28 10:16 droplet_normal_lung_blood_P1-3_metadata.csv\n-rw-rw-r-- 1 olga olga 3.3G Oct 30 18:21 droplet_normal_lung_blood_P1-3_ncbi_GCT.csv\n-rw-rw-r-- 1 olga olga 1.1G Oct 28 10:25 facs_normal_lung_blood_P1-3_gencode_GCT.csv\n-rw-rw-r-- 1 olga olga 5.7M Oct 28 10:25 facs_normal_lung_blood_P1-3_metadata.csv\n"
      }
     ],
     "persistentId": "6828dcaf-0c68-4c45-b75c-4eebb5e082da",
     "text": "ls -lha $human_folder"
    },
    "executionTime": "2019-12-14T00:39:42.685Z"
   },
   {
    "cell": {
     "executionCount": 42,
     "executionEventId": "7b570866-7b58-4a33-9900-0d69ebf56374",
     "hasError": false,
     "id": "5842dd7b-f7d0-42be-a332-2f0dea50783e",
     "outputs": [
      {
       "name": "stderr",
       "output_type": "stream",
       "text": "... storing 'orig.ident' as categorical\n... storing 'channel' as categorical\n... storing 'tissue' as categorical\n... storing 'region' as categorical\n... storing 'free_annotation' as categorical\n... storing 'sample' as categorical\n... storing 'location' as categorical\n... storing 'magnetic.selection' as categorical\n... storing 'preparation.site' as categorical\n... storing 'compartment' as categorical\n"
      }
     ],
     "persistentId": "b5c07671-8c42-4edb-94c0-22a90b0ca79e",
     "text": "human.write(f\"{human_folder}/droplet_normal_lung_blood_P1-3.h5ad\")"
    },
    "executionTime": "2019-12-14T00:54:13.265Z"
   },
   {
    "cell": {
     "executionCount": 43,
     "executionEventId": "d547f8b6-f690-472a-939a-5cbe2e15739d",
     "hasError": true,
     "id": "a665e593-1b38-4ecf-87cc-e904a89ec82e",
     "outputs": [
      {
       "ename": "ImportError",
       "evalue": "Unable to find a usable engine; tried using: 'pyarrow', 'fastparquet'.\npyarrow or fastparquet is required for parquet support",
       "output_type": "error",
       "traceback": [
        "\u001b[0;31m---------------------------------------------------------------------------\u001b[0m",
        "\u001b[0;31mImportError\u001b[0m                               Traceback (most recent call last)",
        "\u001b[0;32m<ipython-input-43-64c6a64ca69c>\u001b[0m in \u001b[0;36m<module>\u001b[0;34m\u001b[0m\n\u001b[0;32m----> 1\u001b[0;31m \u001b[0mgene_orthologies\u001b[0m \u001b[0;34m=\u001b[0m \u001b[0mpd\u001b[0m\u001b[0;34m.\u001b[0m\u001b[0mread_parquet\u001b[0m\u001b[0;34m(\u001b[0m\u001b[0;34mf\"{orthologous_genes_folder}/mouse-lemur_human_mouse__orthologs__gene_names.parquet\"\u001b[0m\u001b[0;34m)\u001b[0m\u001b[0;34m\u001b[0m\u001b[0;34m\u001b[0m\u001b[0m\n\u001b[0m\u001b[1;32m      2\u001b[0m \u001b[0mprint\u001b[0m\u001b[0;34m(\u001b[0m\u001b[0mgene_orthologies\u001b[0m\u001b[0;34m.\u001b[0m\u001b[0mshape\u001b[0m\u001b[0;34m)\u001b[0m\u001b[0;34m\u001b[0m\u001b[0;34m\u001b[0m\u001b[0m\n\u001b[1;32m      3\u001b[0m \u001b[0mgene_orthologies\u001b[0m\u001b[0;34m.\u001b[0m\u001b[0mhead\u001b[0m\u001b[0;34m(\u001b[0m\u001b[0;34m)\u001b[0m\u001b[0;34m\u001b[0m\u001b[0;34m\u001b[0m\u001b[0m\n",
        "\u001b[0;32m~/miniconda3/envs/sc-tutorial/lib/python3.7/site-packages/pandas/io/parquet.py\u001b[0m in \u001b[0;36mread_parquet\u001b[0;34m(path, engine, columns, **kwargs)\u001b[0m\n\u001b[1;32m    293\u001b[0m     \"\"\"\n\u001b[1;32m    294\u001b[0m \u001b[0;34m\u001b[0m\u001b[0m\n\u001b[0;32m--> 295\u001b[0;31m     \u001b[0mimpl\u001b[0m \u001b[0;34m=\u001b[0m \u001b[0mget_engine\u001b[0m\u001b[0;34m(\u001b[0m\u001b[0mengine\u001b[0m\u001b[0;34m)\u001b[0m\u001b[0;34m\u001b[0m\u001b[0;34m\u001b[0m\u001b[0m\n\u001b[0m\u001b[1;32m    296\u001b[0m     \u001b[0;32mreturn\u001b[0m \u001b[0mimpl\u001b[0m\u001b[0;34m.\u001b[0m\u001b[0mread\u001b[0m\u001b[0;34m(\u001b[0m\u001b[0mpath\u001b[0m\u001b[0;34m,\u001b[0m \u001b[0mcolumns\u001b[0m\u001b[0;34m=\u001b[0m\u001b[0mcolumns\u001b[0m\u001b[0;34m,\u001b[0m \u001b[0;34m**\u001b[0m\u001b[0mkwargs\u001b[0m\u001b[0;34m)\u001b[0m\u001b[0;34m\u001b[0m\u001b[0;34m\u001b[0m\u001b[0m\n",
        "\u001b[0;32m~/miniconda3/envs/sc-tutorial/lib/python3.7/site-packages/pandas/io/parquet.py\u001b[0m in \u001b[0;36mget_engine\u001b[0;34m(engine)\u001b[0m\n\u001b[1;32m     30\u001b[0m \u001b[0;34m\u001b[0m\u001b[0m\n\u001b[1;32m     31\u001b[0m         raise ImportError(\n\u001b[0;32m---> 32\u001b[0;31m             \u001b[0;34m\"Unable to find a usable engine; \"\u001b[0m\u001b[0;34m\u001b[0m\u001b[0;34m\u001b[0m\u001b[0m\n\u001b[0m\u001b[1;32m     33\u001b[0m             \u001b[0;34m\"tried using: 'pyarrow', 'fastparquet'.\\n\"\u001b[0m\u001b[0;34m\u001b[0m\u001b[0;34m\u001b[0m\u001b[0m\n\u001b[1;32m     34\u001b[0m             \u001b[0;34m\"pyarrow or fastparquet is required for parquet \"\u001b[0m\u001b[0;34m\u001b[0m\u001b[0;34m\u001b[0m\u001b[0m\n",
        "\u001b[0;31mImportError\u001b[0m: Unable to find a usable engine; tried using: 'pyarrow', 'fastparquet'.\npyarrow or fastparquet is required for parquet support"
       ]
      }
     ],
     "persistentId": "3960ddac-2d4b-43a0-ab3e-d86cd7a16ec7",
     "text": "gene_orthologies = pd.read_parquet(f\"{orthologous_genes_folder}/mouse-lemur_human_mouse__orthologs__gene_names.parquet\")\nprint(gene_orthologies.shape)\ngene_orthologies.head()"
    },
    "executionTime": "2019-12-14T00:54:13.300Z"
   },
   {
    "cell": {
     "executionCount": 44,
     "executionEventId": "efc2a98e-9759-454a-8598-da90fe73b61c",
     "hasError": true,
     "id": "a665e593-1b38-4ecf-87cc-e904a89ec82e",
     "outputs": [
      {
       "ename": "EmptyDataError",
       "evalue": "No columns to parse from file",
       "output_type": "error",
       "traceback": [
        "\u001b[0;31m---------------------------------------------------------------------------\u001b[0m",
        "\u001b[0;31mEmptyDataError\u001b[0m                            Traceback (most recent call last)",
        "\u001b[0;32m<ipython-input-44-7d47fc459821>\u001b[0m in \u001b[0;36m<module>\u001b[0;34m\u001b[0m\n\u001b[0;32m----> 1\u001b[0;31m \u001b[0mgene_orthologies\u001b[0m \u001b[0;34m=\u001b[0m \u001b[0mpd\u001b[0m\u001b[0;34m.\u001b[0m\u001b[0mread_csv\u001b[0m\u001b[0;34m(\u001b[0m\u001b[0;34mf\"{orthologous_genes_folder}/mouse-lemur_human_mouse__orthologs__gene_names.csv\"\u001b[0m\u001b[0;34m)\u001b[0m\u001b[0;34m\u001b[0m\u001b[0;34m\u001b[0m\u001b[0m\n\u001b[0m\u001b[1;32m      2\u001b[0m \u001b[0mprint\u001b[0m\u001b[0;34m(\u001b[0m\u001b[0mgene_orthologies\u001b[0m\u001b[0;34m.\u001b[0m\u001b[0mshape\u001b[0m\u001b[0;34m)\u001b[0m\u001b[0;34m\u001b[0m\u001b[0;34m\u001b[0m\u001b[0m\n\u001b[1;32m      3\u001b[0m \u001b[0mgene_orthologies\u001b[0m\u001b[0;34m.\u001b[0m\u001b[0mhead\u001b[0m\u001b[0;34m(\u001b[0m\u001b[0;34m)\u001b[0m\u001b[0;34m\u001b[0m\u001b[0;34m\u001b[0m\u001b[0m\n",
        "\u001b[0;32m~/miniconda3/envs/sc-tutorial/lib/python3.7/site-packages/pandas/io/parsers.py\u001b[0m in \u001b[0;36mparser_f\u001b[0;34m(filepath_or_buffer, sep, delimiter, header, names, index_col, usecols, squeeze, prefix, mangle_dupe_cols, dtype, engine, converters, true_values, false_values, skipinitialspace, skiprows, skipfooter, nrows, na_values, keep_default_na, na_filter, verbose, skip_blank_lines, parse_dates, infer_datetime_format, keep_date_col, date_parser, dayfirst, cache_dates, iterator, chunksize, compression, thousands, decimal, lineterminator, quotechar, quoting, doublequote, escapechar, comment, encoding, dialect, error_bad_lines, warn_bad_lines, delim_whitespace, low_memory, memory_map, float_precision)\u001b[0m\n\u001b[1;32m    683\u001b[0m         )\n\u001b[1;32m    684\u001b[0m \u001b[0;34m\u001b[0m\u001b[0m\n\u001b[0;32m--> 685\u001b[0;31m         \u001b[0;32mreturn\u001b[0m \u001b[0m_read\u001b[0m\u001b[0;34m(\u001b[0m\u001b[0mfilepath_or_buffer\u001b[0m\u001b[0;34m,\u001b[0m \u001b[0mkwds\u001b[0m\u001b[0;34m)\u001b[0m\u001b[0;34m\u001b[0m\u001b[0;34m\u001b[0m\u001b[0m\n\u001b[0m\u001b[1;32m    686\u001b[0m \u001b[0;34m\u001b[0m\u001b[0m\n\u001b[1;32m    687\u001b[0m     \u001b[0mparser_f\u001b[0m\u001b[0;34m.\u001b[0m\u001b[0m__name__\u001b[0m \u001b[0;34m=\u001b[0m \u001b[0mname\u001b[0m\u001b[0;34m\u001b[0m\u001b[0;34m\u001b[0m\u001b[0m\n",
        "\u001b[0;32m~/miniconda3/envs/sc-tutorial/lib/python3.7/site-packages/pandas/io/parsers.py\u001b[0m in \u001b[0;36m_read\u001b[0;34m(filepath_or_buffer, kwds)\u001b[0m\n\u001b[1;32m    455\u001b[0m \u001b[0;34m\u001b[0m\u001b[0m\n\u001b[1;32m    456\u001b[0m     \u001b[0;31m# Create the parser.\u001b[0m\u001b[0;34m\u001b[0m\u001b[0;34m\u001b[0m\u001b[0;34m\u001b[0m\u001b[0m\n\u001b[0;32m--> 457\u001b[0;31m     \u001b[0mparser\u001b[0m \u001b[0;34m=\u001b[0m \u001b[0mTextFileReader\u001b[0m\u001b[0;34m(\u001b[0m\u001b[0mfp_or_buf\u001b[0m\u001b[0;34m,\u001b[0m \u001b[0;34m**\u001b[0m\u001b[0mkwds\u001b[0m\u001b[0;34m)\u001b[0m\u001b[0;34m\u001b[0m\u001b[0;34m\u001b[0m\u001b[0m\n\u001b[0m\u001b[1;32m    458\u001b[0m \u001b[0;34m\u001b[0m\u001b[0m\n\u001b[1;32m    459\u001b[0m     \u001b[0;32mif\u001b[0m \u001b[0mchunksize\u001b[0m \u001b[0;32mor\u001b[0m \u001b[0miterator\u001b[0m\u001b[0;34m:\u001b[0m\u001b[0;34m\u001b[0m\u001b[0;34m\u001b[0m\u001b[0m\n",
        "\u001b[0;32m~/miniconda3/envs/sc-tutorial/lib/python3.7/site-packages/pandas/io/parsers.py\u001b[0m in \u001b[0;36m__init__\u001b[0;34m(self, f, engine, **kwds)\u001b[0m\n\u001b[1;32m    893\u001b[0m             \u001b[0mself\u001b[0m\u001b[0;34m.\u001b[0m\u001b[0moptions\u001b[0m\u001b[0;34m[\u001b[0m\u001b[0;34m\"has_index_names\"\u001b[0m\u001b[0;34m]\u001b[0m \u001b[0;34m=\u001b[0m \u001b[0mkwds\u001b[0m\u001b[0;34m[\u001b[0m\u001b[0;34m\"has_index_names\"\u001b[0m\u001b[0;34m]\u001b[0m\u001b[0;34m\u001b[0m\u001b[0;34m\u001b[0m\u001b[0m\n\u001b[1;32m    894\u001b[0m \u001b[0;34m\u001b[0m\u001b[0m\n\u001b[0;32m--> 895\u001b[0;31m         \u001b[0mself\u001b[0m\u001b[0;34m.\u001b[0m\u001b[0m_make_engine\u001b[0m\u001b[0;34m(\u001b[0m\u001b[0mself\u001b[0m\u001b[0;34m.\u001b[0m\u001b[0mengine\u001b[0m\u001b[0;34m)\u001b[0m\u001b[0;34m\u001b[0m\u001b[0;34m\u001b[0m\u001b[0m\n\u001b[0m\u001b[1;32m    896\u001b[0m \u001b[0;34m\u001b[0m\u001b[0m\n\u001b[1;32m    897\u001b[0m     \u001b[0;32mdef\u001b[0m \u001b[0mclose\u001b[0m\u001b[0;34m(\u001b[0m\u001b[0mself\u001b[0m\u001b[0;34m)\u001b[0m\u001b[0;34m:\u001b[0m\u001b[0;34m\u001b[0m\u001b[0;34m\u001b[0m\u001b[0m\n",
        "\u001b[0;32m~/miniconda3/envs/sc-tutorial/lib/python3.7/site-packages/pandas/io/parsers.py\u001b[0m in \u001b[0;36m_make_engine\u001b[0;34m(self, engine)\u001b[0m\n\u001b[1;32m   1133\u001b[0m     \u001b[0;32mdef\u001b[0m \u001b[0m_make_engine\u001b[0m\u001b[0;34m(\u001b[0m\u001b[0mself\u001b[0m\u001b[0;34m,\u001b[0m \u001b[0mengine\u001b[0m\u001b[0;34m=\u001b[0m\u001b[0;34m\"c\"\u001b[0m\u001b[0;34m)\u001b[0m\u001b[0;34m:\u001b[0m\u001b[0;34m\u001b[0m\u001b[0;34m\u001b[0m\u001b[0m\n\u001b[1;32m   1134\u001b[0m         \u001b[0;32mif\u001b[0m \u001b[0mengine\u001b[0m \u001b[0;34m==\u001b[0m \u001b[0;34m\"c\"\u001b[0m\u001b[0;34m:\u001b[0m\u001b[0;34m\u001b[0m\u001b[0;34m\u001b[0m\u001b[0m\n\u001b[0;32m-> 1135\u001b[0;31m             \u001b[0mself\u001b[0m\u001b[0;34m.\u001b[0m\u001b[0m_engine\u001b[0m \u001b[0;34m=\u001b[0m \u001b[0mCParserWrapper\u001b[0m\u001b[0;34m(\u001b[0m\u001b[0mself\u001b[0m\u001b[0;34m.\u001b[0m\u001b[0mf\u001b[0m\u001b[0;34m,\u001b[0m \u001b[0;34m**\u001b[0m\u001b[0mself\u001b[0m\u001b[0;34m.\u001b[0m\u001b[0moptions\u001b[0m\u001b[0;34m)\u001b[0m\u001b[0;34m\u001b[0m\u001b[0;34m\u001b[0m\u001b[0m\n\u001b[0m\u001b[1;32m   1136\u001b[0m         \u001b[0;32melse\u001b[0m\u001b[0;34m:\u001b[0m\u001b[0;34m\u001b[0m\u001b[0;34m\u001b[0m\u001b[0m\n\u001b[1;32m   1137\u001b[0m             \u001b[0;32mif\u001b[0m \u001b[0mengine\u001b[0m \u001b[0;34m==\u001b[0m \u001b[0;34m\"python\"\u001b[0m\u001b[0;34m:\u001b[0m\u001b[0;34m\u001b[0m\u001b[0;34m\u001b[0m\u001b[0m\n",
        "\u001b[0;32m~/miniconda3/envs/sc-tutorial/lib/python3.7/site-packages/pandas/io/parsers.py\u001b[0m in \u001b[0;36m__init__\u001b[0;34m(self, src, **kwds)\u001b[0m\n\u001b[1;32m   1915\u001b[0m         \u001b[0mkwds\u001b[0m\u001b[0;34m[\u001b[0m\u001b[0;34m\"usecols\"\u001b[0m\u001b[0;34m]\u001b[0m \u001b[0;34m=\u001b[0m \u001b[0mself\u001b[0m\u001b[0;34m.\u001b[0m\u001b[0musecols\u001b[0m\u001b[0;34m\u001b[0m\u001b[0;34m\u001b[0m\u001b[0m\n\u001b[1;32m   1916\u001b[0m \u001b[0;34m\u001b[0m\u001b[0m\n\u001b[0;32m-> 1917\u001b[0;31m         \u001b[0mself\u001b[0m\u001b[0;34m.\u001b[0m\u001b[0m_reader\u001b[0m \u001b[0;34m=\u001b[0m \u001b[0mparsers\u001b[0m\u001b[0;34m.\u001b[0m\u001b[0mTextReader\u001b[0m\u001b[0;34m(\u001b[0m\u001b[0msrc\u001b[0m\u001b[0;34m,\u001b[0m \u001b[0;34m**\u001b[0m\u001b[0mkwds\u001b[0m\u001b[0;34m)\u001b[0m\u001b[0;34m\u001b[0m\u001b[0;34m\u001b[0m\u001b[0m\n\u001b[0m\u001b[1;32m   1918\u001b[0m         \u001b[0mself\u001b[0m\u001b[0;34m.\u001b[0m\u001b[0munnamed_cols\u001b[0m \u001b[0;34m=\u001b[0m \u001b[0mself\u001b[0m\u001b[0;34m.\u001b[0m\u001b[0m_reader\u001b[0m\u001b[0;34m.\u001b[0m\u001b[0munnamed_cols\u001b[0m\u001b[0;34m\u001b[0m\u001b[0;34m\u001b[0m\u001b[0m\n\u001b[1;32m   1919\u001b[0m \u001b[0;34m\u001b[0m\u001b[0m\n",
        "\u001b[0;32mpandas/_libs/parsers.pyx\u001b[0m in \u001b[0;36mpandas._libs.parsers.TextReader.__cinit__\u001b[0;34m()\u001b[0m\n",
        "\u001b[0;31mEmptyDataError\u001b[0m: No columns to parse from file"
       ]
      }
     ],
     "persistentId": "3960ddac-2d4b-43a0-ab3e-d86cd7a16ec7",
     "text": "gene_orthologies = pd.read_csv(f\"{orthologous_genes_folder}/mouse-lemur_human_mouse__orthologs__gene_names.csv\")\nprint(gene_orthologies.shape)\ngene_orthologies.head()"
    },
    "executionTime": "2019-12-14T00:54:37.143Z"
   },
   {
    "cell": {
     "executionCount": 45,
     "executionEventId": "ae81c569-6158-485e-bf1a-083193c47a7f",
     "hasError": false,
     "id": "438985d2-6a2f-4f86-a280-d6ab9c0adc6b",
     "outputs": [
      {
       "name": "stdout",
       "output_type": "stream",
       "text": "mouse_lemur__gene_name,mouse_lemur_to_human__homology_type,human__gene_name,human_to_mouse__homology_type,mouse__gene_name\nND1,ortholog_one2one,MT-ND1,ortholog_one2one,mt-Nd1\nND2,ortholog_one2one,MT-ND2,ortholog_one2one,mt-Nd2\nCOX1,ortholog_one2one,MT-CO1,ortholog_one2one,mt-Co1\nCOX2,ortholog_one2one,MT-CO2,ortholog_one2one,mt-Co2\nATP8,ortholog_one2one,MT-ATP8,ortholog_one2one,mt-Atp8\nATP6,ortholog_one2one,MT-ATP6,ortholog_one2one,mt-Atp6\nCOX3,ortholog_one2one,MT-CO3,ortholog_one2one,mt-Co3\nND3,ortholog_one2one,MT-ND3,ortholog_one2one,mt-Nd3\nND4L,ortholog_one2one,MT-ND4L,ortholog_one2one,mt-Nd4l\n"
      }
     ],
     "persistentId": "d02598e1-0180-4571-907e-e3766e494cc9",
     "text": "! head $orthologous_genes_folder/mouse-lemur_human_mouse__orthologs__gene_names.csv"
    },
    "executionTime": "2019-12-14T00:54:56.060Z"
   },
   {
    "cell": {
     "executionCount": 46,
     "executionEventId": "9f36296e-2d74-42fe-922e-b0f1223cefb0",
     "hasError": false,
     "id": "a665e593-1b38-4ecf-87cc-e904a89ec82e",
     "outputs": [
      {
       "name": "stdout",
       "output_type": "stream",
       "text": "(22021, 5)\n"
      },
      {
       "data": {
        "text/html": "<div>\n<style scoped>\n    .dataframe tbody tr th:only-of-type {\n        vertical-align: middle;\n    }\n\n    .dataframe tbody tr th {\n        vertical-align: top;\n    }\n\n    .dataframe thead th {\n        text-align: right;\n    }\n</style>\n<table border=\"1\" class=\"dataframe\">\n  <thead>\n    <tr style=\"text-align: right;\">\n      <th></th>\n      <th>mouse_lemur__gene_name</th>\n      <th>mouse_lemur_to_human__homology_type</th>\n      <th>human__gene_name</th>\n      <th>human_to_mouse__homology_type</th>\n      <th>mouse__gene_name</th>\n    </tr>\n  </thead>\n  <tbody>\n    <tr>\n      <th>0</th>\n      <td>ND1</td>\n      <td>ortholog_one2one</td>\n      <td>MT-ND1</td>\n      <td>ortholog_one2one</td>\n      <td>mt-Nd1</td>\n    </tr>\n    <tr>\n      <th>1</th>\n      <td>ND2</td>\n      <td>ortholog_one2one</td>\n      <td>MT-ND2</td>\n      <td>ortholog_one2one</td>\n      <td>mt-Nd2</td>\n    </tr>\n    <tr>\n      <th>2</th>\n      <td>COX1</td>\n      <td>ortholog_one2one</td>\n      <td>MT-CO1</td>\n      <td>ortholog_one2one</td>\n      <td>mt-Co1</td>\n    </tr>\n    <tr>\n      <th>3</th>\n      <td>COX2</td>\n      <td>ortholog_one2one</td>\n      <td>MT-CO2</td>\n      <td>ortholog_one2one</td>\n      <td>mt-Co2</td>\n    </tr>\n    <tr>\n      <th>4</th>\n      <td>ATP8</td>\n      <td>ortholog_one2one</td>\n      <td>MT-ATP8</td>\n      <td>ortholog_one2one</td>\n      <td>mt-Atp8</td>\n    </tr>\n  </tbody>\n</table>\n</div>",
        "text/plain": "  mouse_lemur__gene_name mouse_lemur_to_human__homology_type human__gene_name  \\\n0                    ND1                    ortholog_one2one           MT-ND1   \n1                    ND2                    ortholog_one2one           MT-ND2   \n2                   COX1                    ortholog_one2one           MT-CO1   \n3                   COX2                    ortholog_one2one           MT-CO2   \n4                   ATP8                    ortholog_one2one          MT-ATP8   \n\n  human_to_mouse__homology_type mouse__gene_name  \n0              ortholog_one2one           mt-Nd1  \n1              ortholog_one2one           mt-Nd2  \n2              ortholog_one2one           mt-Co1  \n3              ortholog_one2one           mt-Co2  \n4              ortholog_one2one          mt-Atp8  "
       },
       "execution_count": 46,
       "metadata": {},
       "output_type": "execute_result"
      }
     ],
     "persistentId": "3960ddac-2d4b-43a0-ab3e-d86cd7a16ec7",
     "text": "gene_orthologies = pd.read_csv(f\"{orthologous_genes_folder}/mouse-lemur_human_mouse__orthologs__gene_names.csv\")\nprint(gene_orthologies.shape)\ngene_orthologies.head()"
    },
    "executionTime": "2019-12-14T00:55:08.079Z"
   },
   {
    "cell": {
     "executionCount": 47,
     "executionEventId": "9470bcfd-566f-43dc-89c5-1f7ea25cbe4b",
     "hasError": true,
     "id": "c77dd9b3-9026-4872-b8aa-5aff0b84b366",
     "outputs": [
      {
       "ename": "KeyError",
       "evalue": "False",
       "output_type": "error",
       "traceback": [
        "\u001b[0;31m---------------------------------------------------------------------------\u001b[0m",
        "\u001b[0;31mKeyError\u001b[0m                                  Traceback (most recent call last)",
        "\u001b[0;32m~/miniconda3/envs/sc-tutorial/lib/python3.7/site-packages/pandas/core/indexes/base.py\u001b[0m in \u001b[0;36mget_loc\u001b[0;34m(self, key, method, tolerance)\u001b[0m\n\u001b[1;32m   2896\u001b[0m             \u001b[0;32mtry\u001b[0m\u001b[0;34m:\u001b[0m\u001b[0;34m\u001b[0m\u001b[0;34m\u001b[0m\u001b[0m\n\u001b[0;32m-> 2897\u001b[0;31m                 \u001b[0;32mreturn\u001b[0m \u001b[0mself\u001b[0m\u001b[0;34m.\u001b[0m\u001b[0m_engine\u001b[0m\u001b[0;34m.\u001b[0m\u001b[0mget_loc\u001b[0m\u001b[0;34m(\u001b[0m\u001b[0mkey\u001b[0m\u001b[0;34m)\u001b[0m\u001b[0;34m\u001b[0m\u001b[0;34m\u001b[0m\u001b[0m\n\u001b[0m\u001b[1;32m   2898\u001b[0m             \u001b[0;32mexcept\u001b[0m \u001b[0mKeyError\u001b[0m\u001b[0;34m:\u001b[0m\u001b[0;34m\u001b[0m\u001b[0;34m\u001b[0m\u001b[0m\n",
        "\u001b[0;32mpandas/_libs/index.pyx\u001b[0m in \u001b[0;36mpandas._libs.index.IndexEngine.get_loc\u001b[0;34m()\u001b[0m\n",
        "\u001b[0;32mpandas/_libs/index.pyx\u001b[0m in \u001b[0;36mpandas._libs.index.IndexEngine.get_loc\u001b[0;34m()\u001b[0m\n",
        "\u001b[0;32mpandas/_libs/index_class_helper.pxi\u001b[0m in \u001b[0;36mpandas._libs.index.Int64Engine._check_type\u001b[0;34m()\u001b[0m\n",
        "\u001b[0;31mKeyError\u001b[0m: False",
        "\nDuring handling of the above exception, another exception occurred:\n",
        "\u001b[0;31mKeyError\u001b[0m                                  Traceback (most recent call last)",
        "\u001b[0;32m<ipython-input-47-23b5212f110a>\u001b[0m in \u001b[0;36m<module>\u001b[0;34m\u001b[0m\n\u001b[1;32m      3\u001b[0m \u001b[0mhuman2mouse\u001b[0m \u001b[0;34m=\u001b[0m \u001b[0;34m'human_to_mouse__homology_type'\u001b[0m\u001b[0;34m\u001b[0m\u001b[0;34m\u001b[0m\u001b[0m\n\u001b[1;32m      4\u001b[0m \u001b[0;34m\u001b[0m\u001b[0m\n\u001b[0;32m----> 5\u001b[0;31m \u001b[0mgene_orthologies_one2one\u001b[0m \u001b[0;34m=\u001b[0m \u001b[0mgene_orthologies\u001b[0m\u001b[0;34m.\u001b[0m\u001b[0mquery\u001b[0m\u001b[0;34m(\u001b[0m\u001b[0;34m\"@lemur2human == @one2one & @human2mouse == @one2one\"\u001b[0m\u001b[0;34m)\u001b[0m\u001b[0;34m\u001b[0m\u001b[0;34m\u001b[0m\u001b[0m\n\u001b[0m\u001b[1;32m      6\u001b[0m \u001b[0mprint\u001b[0m\u001b[0;34m(\u001b[0m\u001b[0mgene_orthologies_one2one\u001b[0m\u001b[0;34m.\u001b[0m\u001b[0mshape\u001b[0m\u001b[0;34m)\u001b[0m\u001b[0;34m\u001b[0m\u001b[0;34m\u001b[0m\u001b[0m\n\u001b[1;32m      7\u001b[0m \u001b[0mgene_orthologies_one2one\u001b[0m\u001b[0;34m.\u001b[0m\u001b[0mhead\u001b[0m\u001b[0;34m(\u001b[0m\u001b[0;34m)\u001b[0m\u001b[0;34m\u001b[0m\u001b[0;34m\u001b[0m\u001b[0m\n",
        "\u001b[0;32m~/miniconda3/envs/sc-tutorial/lib/python3.7/site-packages/pandas/core/frame.py\u001b[0m in \u001b[0;36mquery\u001b[0;34m(self, expr, inplace, **kwargs)\u001b[0m\n\u001b[1;32m   3200\u001b[0m \u001b[0;34m\u001b[0m\u001b[0m\n\u001b[1;32m   3201\u001b[0m         \u001b[0;32mtry\u001b[0m\u001b[0;34m:\u001b[0m\u001b[0;34m\u001b[0m\u001b[0;34m\u001b[0m\u001b[0m\n\u001b[0;32m-> 3202\u001b[0;31m             \u001b[0mnew_data\u001b[0m \u001b[0;34m=\u001b[0m \u001b[0mself\u001b[0m\u001b[0;34m.\u001b[0m\u001b[0mloc\u001b[0m\u001b[0;34m[\u001b[0m\u001b[0mres\u001b[0m\u001b[0;34m]\u001b[0m\u001b[0;34m\u001b[0m\u001b[0;34m\u001b[0m\u001b[0m\n\u001b[0m\u001b[1;32m   3203\u001b[0m         \u001b[0;32mexcept\u001b[0m \u001b[0mValueError\u001b[0m\u001b[0;34m:\u001b[0m\u001b[0;34m\u001b[0m\u001b[0;34m\u001b[0m\u001b[0m\n\u001b[1;32m   3204\u001b[0m             \u001b[0;31m# when res is multi-dimensional loc raises, but this is sometimes a\u001b[0m\u001b[0;34m\u001b[0m\u001b[0;34m\u001b[0m\u001b[0;34m\u001b[0m\u001b[0m\n",
        "\u001b[0;32m~/miniconda3/envs/sc-tutorial/lib/python3.7/site-packages/pandas/core/indexing.py\u001b[0m in \u001b[0;36m__getitem__\u001b[0;34m(self, key)\u001b[0m\n\u001b[1;32m   1422\u001b[0m \u001b[0;34m\u001b[0m\u001b[0m\n\u001b[1;32m   1423\u001b[0m             \u001b[0mmaybe_callable\u001b[0m \u001b[0;34m=\u001b[0m \u001b[0mcom\u001b[0m\u001b[0;34m.\u001b[0m\u001b[0mapply_if_callable\u001b[0m\u001b[0;34m(\u001b[0m\u001b[0mkey\u001b[0m\u001b[0;34m,\u001b[0m \u001b[0mself\u001b[0m\u001b[0;34m.\u001b[0m\u001b[0mobj\u001b[0m\u001b[0;34m)\u001b[0m\u001b[0;34m\u001b[0m\u001b[0;34m\u001b[0m\u001b[0m\n\u001b[0;32m-> 1424\u001b[0;31m             \u001b[0;32mreturn\u001b[0m \u001b[0mself\u001b[0m\u001b[0;34m.\u001b[0m\u001b[0m_getitem_axis\u001b[0m\u001b[0;34m(\u001b[0m\u001b[0mmaybe_callable\u001b[0m\u001b[0;34m,\u001b[0m \u001b[0maxis\u001b[0m\u001b[0;34m=\u001b[0m\u001b[0maxis\u001b[0m\u001b[0;34m)\u001b[0m\u001b[0;34m\u001b[0m\u001b[0;34m\u001b[0m\u001b[0m\n\u001b[0m\u001b[1;32m   1425\u001b[0m \u001b[0;34m\u001b[0m\u001b[0m\n\u001b[1;32m   1426\u001b[0m     \u001b[0;32mdef\u001b[0m \u001b[0m_is_scalar_access\u001b[0m\u001b[0;34m(\u001b[0m\u001b[0mself\u001b[0m\u001b[0;34m,\u001b[0m \u001b[0mkey\u001b[0m\u001b[0;34m:\u001b[0m \u001b[0mTuple\u001b[0m\u001b[0;34m)\u001b[0m\u001b[0;34m:\u001b[0m\u001b[0;34m\u001b[0m\u001b[0;34m\u001b[0m\u001b[0m\n",
        "\u001b[0;32m~/miniconda3/envs/sc-tutorial/lib/python3.7/site-packages/pandas/core/indexing.py\u001b[0m in \u001b[0;36m_getitem_axis\u001b[0;34m(self, key, axis)\u001b[0m\n\u001b[1;32m   1848\u001b[0m         \u001b[0;31m# fall thru to straight lookup\u001b[0m\u001b[0;34m\u001b[0m\u001b[0;34m\u001b[0m\u001b[0;34m\u001b[0m\u001b[0m\n\u001b[1;32m   1849\u001b[0m         \u001b[0mself\u001b[0m\u001b[0;34m.\u001b[0m\u001b[0m_validate_key\u001b[0m\u001b[0;34m(\u001b[0m\u001b[0mkey\u001b[0m\u001b[0;34m,\u001b[0m \u001b[0maxis\u001b[0m\u001b[0;34m)\u001b[0m\u001b[0;34m\u001b[0m\u001b[0;34m\u001b[0m\u001b[0m\n\u001b[0;32m-> 1850\u001b[0;31m         \u001b[0;32mreturn\u001b[0m \u001b[0mself\u001b[0m\u001b[0;34m.\u001b[0m\u001b[0m_get_label\u001b[0m\u001b[0;34m(\u001b[0m\u001b[0mkey\u001b[0m\u001b[0;34m,\u001b[0m \u001b[0maxis\u001b[0m\u001b[0;34m=\u001b[0m\u001b[0maxis\u001b[0m\u001b[0;34m)\u001b[0m\u001b[0;34m\u001b[0m\u001b[0;34m\u001b[0m\u001b[0m\n\u001b[0m\u001b[1;32m   1851\u001b[0m \u001b[0;34m\u001b[0m\u001b[0m\n\u001b[1;32m   1852\u001b[0m \u001b[0;34m\u001b[0m\u001b[0m\n",
        "\u001b[0;32m~/miniconda3/envs/sc-tutorial/lib/python3.7/site-packages/pandas/core/indexing.py\u001b[0m in \u001b[0;36m_get_label\u001b[0;34m(self, label, axis)\u001b[0m\n\u001b[1;32m    158\u001b[0m             \u001b[0;32mraise\u001b[0m \u001b[0mIndexingError\u001b[0m\u001b[0;34m(\u001b[0m\u001b[0;34m\"no slices here, handle elsewhere\"\u001b[0m\u001b[0;34m)\u001b[0m\u001b[0;34m\u001b[0m\u001b[0;34m\u001b[0m\u001b[0m\n\u001b[1;32m    159\u001b[0m \u001b[0;34m\u001b[0m\u001b[0m\n\u001b[0;32m--> 160\u001b[0;31m         \u001b[0;32mreturn\u001b[0m \u001b[0mself\u001b[0m\u001b[0;34m.\u001b[0m\u001b[0mobj\u001b[0m\u001b[0;34m.\u001b[0m\u001b[0m_xs\u001b[0m\u001b[0;34m(\u001b[0m\u001b[0mlabel\u001b[0m\u001b[0;34m,\u001b[0m \u001b[0maxis\u001b[0m\u001b[0;34m=\u001b[0m\u001b[0maxis\u001b[0m\u001b[0;34m)\u001b[0m\u001b[0;34m\u001b[0m\u001b[0;34m\u001b[0m\u001b[0m\n\u001b[0m\u001b[1;32m    161\u001b[0m \u001b[0;34m\u001b[0m\u001b[0m\n\u001b[1;32m    162\u001b[0m     \u001b[0;32mdef\u001b[0m \u001b[0m_get_loc\u001b[0m\u001b[0;34m(\u001b[0m\u001b[0mself\u001b[0m\u001b[0;34m,\u001b[0m \u001b[0mkey\u001b[0m\u001b[0;34m:\u001b[0m \u001b[0mint\u001b[0m\u001b[0;34m,\u001b[0m \u001b[0maxis\u001b[0m\u001b[0;34m:\u001b[0m \u001b[0mint\u001b[0m\u001b[0;34m)\u001b[0m\u001b[0;34m:\u001b[0m\u001b[0;34m\u001b[0m\u001b[0;34m\u001b[0m\u001b[0m\n",
        "\u001b[0;32m~/miniconda3/envs/sc-tutorial/lib/python3.7/site-packages/pandas/core/generic.py\u001b[0m in \u001b[0;36mxs\u001b[0;34m(self, key, axis, level, drop_level)\u001b[0m\n\u001b[1;32m   3735\u001b[0m             \u001b[0mloc\u001b[0m\u001b[0;34m,\u001b[0m \u001b[0mnew_index\u001b[0m \u001b[0;34m=\u001b[0m \u001b[0mself\u001b[0m\u001b[0;34m.\u001b[0m\u001b[0mindex\u001b[0m\u001b[0;34m.\u001b[0m\u001b[0mget_loc_level\u001b[0m\u001b[0;34m(\u001b[0m\u001b[0mkey\u001b[0m\u001b[0;34m,\u001b[0m \u001b[0mdrop_level\u001b[0m\u001b[0;34m=\u001b[0m\u001b[0mdrop_level\u001b[0m\u001b[0;34m)\u001b[0m\u001b[0;34m\u001b[0m\u001b[0;34m\u001b[0m\u001b[0m\n\u001b[1;32m   3736\u001b[0m         \u001b[0;32melse\u001b[0m\u001b[0;34m:\u001b[0m\u001b[0;34m\u001b[0m\u001b[0;34m\u001b[0m\u001b[0m\n\u001b[0;32m-> 3737\u001b[0;31m             \u001b[0mloc\u001b[0m \u001b[0;34m=\u001b[0m \u001b[0mself\u001b[0m\u001b[0;34m.\u001b[0m\u001b[0mindex\u001b[0m\u001b[0;34m.\u001b[0m\u001b[0mget_loc\u001b[0m\u001b[0;34m(\u001b[0m\u001b[0mkey\u001b[0m\u001b[0;34m)\u001b[0m\u001b[0;34m\u001b[0m\u001b[0;34m\u001b[0m\u001b[0m\n\u001b[0m\u001b[1;32m   3738\u001b[0m \u001b[0;34m\u001b[0m\u001b[0m\n\u001b[1;32m   3739\u001b[0m             \u001b[0;32mif\u001b[0m \u001b[0misinstance\u001b[0m\u001b[0;34m(\u001b[0m\u001b[0mloc\u001b[0m\u001b[0;34m,\u001b[0m \u001b[0mnp\u001b[0m\u001b[0;34m.\u001b[0m\u001b[0mndarray\u001b[0m\u001b[0;34m)\u001b[0m\u001b[0;34m:\u001b[0m\u001b[0;34m\u001b[0m\u001b[0;34m\u001b[0m\u001b[0m\n",
        "\u001b[0;32m~/miniconda3/envs/sc-tutorial/lib/python3.7/site-packages/pandas/core/indexes/range.py\u001b[0m in \u001b[0;36mget_loc\u001b[0;34m(self, key, method, tolerance)\u001b[0m\n\u001b[1;32m    377\u001b[0m             \u001b[0;32mexcept\u001b[0m \u001b[0mValueError\u001b[0m\u001b[0;34m:\u001b[0m\u001b[0;34m\u001b[0m\u001b[0;34m\u001b[0m\u001b[0m\n\u001b[1;32m    378\u001b[0m                 \u001b[0;32mraise\u001b[0m \u001b[0mKeyError\u001b[0m\u001b[0;34m(\u001b[0m\u001b[0mkey\u001b[0m\u001b[0;34m)\u001b[0m\u001b[0;34m\u001b[0m\u001b[0;34m\u001b[0m\u001b[0m\n\u001b[0;32m--> 379\u001b[0;31m         \u001b[0;32mreturn\u001b[0m \u001b[0msuper\u001b[0m\u001b[0;34m(\u001b[0m\u001b[0;34m)\u001b[0m\u001b[0;34m.\u001b[0m\u001b[0mget_loc\u001b[0m\u001b[0;34m(\u001b[0m\u001b[0mkey\u001b[0m\u001b[0;34m,\u001b[0m \u001b[0mmethod\u001b[0m\u001b[0;34m=\u001b[0m\u001b[0mmethod\u001b[0m\u001b[0;34m,\u001b[0m \u001b[0mtolerance\u001b[0m\u001b[0;34m=\u001b[0m\u001b[0mtolerance\u001b[0m\u001b[0;34m)\u001b[0m\u001b[0;34m\u001b[0m\u001b[0;34m\u001b[0m\u001b[0m\n\u001b[0m\u001b[1;32m    380\u001b[0m \u001b[0;34m\u001b[0m\u001b[0m\n\u001b[1;32m    381\u001b[0m     \u001b[0;34m@\u001b[0m\u001b[0mAppender\u001b[0m\u001b[0;34m(\u001b[0m\u001b[0m_index_shared_docs\u001b[0m\u001b[0;34m[\u001b[0m\u001b[0;34m\"get_indexer\"\u001b[0m\u001b[0;34m]\u001b[0m\u001b[0;34m)\u001b[0m\u001b[0;34m\u001b[0m\u001b[0;34m\u001b[0m\u001b[0m\n",
        "\u001b[0;32m~/miniconda3/envs/sc-tutorial/lib/python3.7/site-packages/pandas/core/indexes/base.py\u001b[0m in \u001b[0;36mget_loc\u001b[0;34m(self, key, method, tolerance)\u001b[0m\n\u001b[1;32m   2897\u001b[0m                 \u001b[0;32mreturn\u001b[0m \u001b[0mself\u001b[0m\u001b[0;34m.\u001b[0m\u001b[0m_engine\u001b[0m\u001b[0;34m.\u001b[0m\u001b[0mget_loc\u001b[0m\u001b[0;34m(\u001b[0m\u001b[0mkey\u001b[0m\u001b[0;34m)\u001b[0m\u001b[0;34m\u001b[0m\u001b[0;34m\u001b[0m\u001b[0m\n\u001b[1;32m   2898\u001b[0m             \u001b[0;32mexcept\u001b[0m \u001b[0mKeyError\u001b[0m\u001b[0;34m:\u001b[0m\u001b[0;34m\u001b[0m\u001b[0;34m\u001b[0m\u001b[0m\n\u001b[0;32m-> 2899\u001b[0;31m                 \u001b[0;32mreturn\u001b[0m \u001b[0mself\u001b[0m\u001b[0;34m.\u001b[0m\u001b[0m_engine\u001b[0m\u001b[0;34m.\u001b[0m\u001b[0mget_loc\u001b[0m\u001b[0;34m(\u001b[0m\u001b[0mself\u001b[0m\u001b[0;34m.\u001b[0m\u001b[0m_maybe_cast_indexer\u001b[0m\u001b[0;34m(\u001b[0m\u001b[0mkey\u001b[0m\u001b[0;34m)\u001b[0m\u001b[0;34m)\u001b[0m\u001b[0;34m\u001b[0m\u001b[0;34m\u001b[0m\u001b[0m\n\u001b[0m\u001b[1;32m   2900\u001b[0m         \u001b[0mindexer\u001b[0m \u001b[0;34m=\u001b[0m \u001b[0mself\u001b[0m\u001b[0;34m.\u001b[0m\u001b[0mget_indexer\u001b[0m\u001b[0;34m(\u001b[0m\u001b[0;34m[\u001b[0m\u001b[0mkey\u001b[0m\u001b[0;34m]\u001b[0m\u001b[0;34m,\u001b[0m \u001b[0mmethod\u001b[0m\u001b[0;34m=\u001b[0m\u001b[0mmethod\u001b[0m\u001b[0;34m,\u001b[0m \u001b[0mtolerance\u001b[0m\u001b[0;34m=\u001b[0m\u001b[0mtolerance\u001b[0m\u001b[0;34m)\u001b[0m\u001b[0;34m\u001b[0m\u001b[0;34m\u001b[0m\u001b[0m\n\u001b[1;32m   2901\u001b[0m         \u001b[0;32mif\u001b[0m \u001b[0mindexer\u001b[0m\u001b[0;34m.\u001b[0m\u001b[0mndim\u001b[0m \u001b[0;34m>\u001b[0m \u001b[0;36m1\u001b[0m \u001b[0;32mor\u001b[0m \u001b[0mindexer\u001b[0m\u001b[0;34m.\u001b[0m\u001b[0msize\u001b[0m \u001b[0;34m>\u001b[0m \u001b[0;36m1\u001b[0m\u001b[0;34m:\u001b[0m\u001b[0;34m\u001b[0m\u001b[0;34m\u001b[0m\u001b[0m\n",
        "\u001b[0;32mpandas/_libs/index.pyx\u001b[0m in \u001b[0;36mpandas._libs.index.IndexEngine.get_loc\u001b[0;34m()\u001b[0m\n",
        "\u001b[0;32mpandas/_libs/index.pyx\u001b[0m in \u001b[0;36mpandas._libs.index.IndexEngine.get_loc\u001b[0;34m()\u001b[0m\n",
        "\u001b[0;32mpandas/_libs/index_class_helper.pxi\u001b[0m in \u001b[0;36mpandas._libs.index.Int64Engine._check_type\u001b[0;34m()\u001b[0m\n",
        "\u001b[0;31mKeyError\u001b[0m: False"
       ]
      }
     ],
     "persistentId": "759e3e68-7cf8-47c2-8960-26b3b7d26794",
     "text": "one2one = 'ortholog_one2one'\nlemur2human = 'mouse_lemur_to_human__homology_type'\nhuman2mouse = 'human_to_mouse__homology_type'\n\ngene_orthologies_one2one = gene_orthologies.query(\"@lemur2human == @one2one & @human2mouse == @one2one\")\nprint(gene_orthologies_one2one.shape)\ngene_orthologies_one2one.head()"
    },
    "executionTime": "2019-12-14T00:55:09.962Z"
   },
   {
    "cell": {
     "executionCount": 48,
     "executionEventId": "949e4058-a1df-43dd-b2e9-78e8fbb2c875",
     "hasError": true,
     "id": "c77dd9b3-9026-4872-b8aa-5aff0b84b366",
     "outputs": [
      {
       "ename": "SyntaxError",
       "evalue": "Python keyword not valid identifier in numexpr query (<unknown>, line 1)",
       "output_type": "error",
       "traceback": [
        "Traceback \u001b[0;36m(most recent call last)\u001b[0m:\n",
        "  File \u001b[1;32m\"/home/olga/miniconda3/envs/sc-tutorial/lib/python3.7/site-packages/IPython/core/interactiveshell.py\"\u001b[0m, line \u001b[1;32m3326\u001b[0m, in \u001b[1;35mrun_code\u001b[0m\n    exec(code_obj, self.user_global_ns, self.user_ns)\n",
        "  File \u001b[1;32m\"<ipython-input-48-eb454e4b3e78>\"\u001b[0m, line \u001b[1;32m5\u001b[0m, in \u001b[1;35m<module>\u001b[0m\n    gene_orthologies_one2one = gene_orthologies.query(\"(@lemur2human == @one2one) && (@human2mouse == @one2one)\")\n",
        "  File \u001b[1;32m\"/home/olga/miniconda3/envs/sc-tutorial/lib/python3.7/site-packages/pandas/core/frame.py\"\u001b[0m, line \u001b[1;32m3199\u001b[0m, in \u001b[1;35mquery\u001b[0m\n    res = self.eval(expr, **kwargs)\n",
        "  File \u001b[1;32m\"/home/olga/miniconda3/envs/sc-tutorial/lib/python3.7/site-packages/pandas/core/frame.py\"\u001b[0m, line \u001b[1;32m3315\u001b[0m, in \u001b[1;35meval\u001b[0m\n    return _eval(expr, inplace=inplace, **kwargs)\n",
        "  File \u001b[1;32m\"/home/olga/miniconda3/envs/sc-tutorial/lib/python3.7/site-packages/pandas/core/computation/eval.py\"\u001b[0m, line \u001b[1;32m322\u001b[0m, in \u001b[1;35meval\u001b[0m\n    parsed_expr = Expr(expr, engine=engine, parser=parser, env=env, truediv=truediv)\n",
        "  File \u001b[1;32m\"/home/olga/miniconda3/envs/sc-tutorial/lib/python3.7/site-packages/pandas/core/computation/expr.py\"\u001b[0m, line \u001b[1;32m830\u001b[0m, in \u001b[1;35m__init__\u001b[0m\n    self.terms = self.parse()\n",
        "  File \u001b[1;32m\"/home/olga/miniconda3/envs/sc-tutorial/lib/python3.7/site-packages/pandas/core/computation/expr.py\"\u001b[0m, line \u001b[1;32m847\u001b[0m, in \u001b[1;35mparse\u001b[0m\n    return self._visitor.visit(self.expr)\n",
        "  File \u001b[1;32m\"/home/olga/miniconda3/envs/sc-tutorial/lib/python3.7/site-packages/pandas/core/computation/expr.py\"\u001b[0m, line \u001b[1;32m437\u001b[0m, in \u001b[1;35mvisit\u001b[0m\n    raise e\n",
        "  File \u001b[1;32m\"/home/olga/miniconda3/envs/sc-tutorial/lib/python3.7/site-packages/pandas/core/computation/expr.py\"\u001b[0m, line \u001b[1;32m431\u001b[0m, in \u001b[1;35mvisit\u001b[0m\n    node = ast.fix_missing_locations(ast.parse(clean))\n",
        "\u001b[0;36m  File \u001b[0;32m\"/home/olga/miniconda3/envs/sc-tutorial/lib/python3.7/ast.py\"\u001b[0;36m, line \u001b[0;32m35\u001b[0;36m, in \u001b[0;35mparse\u001b[0;36m\u001b[0m\n\u001b[0;31m    return compile(source, filename, mode, PyCF_ONLY_AST)\u001b[0m\n",
        "\u001b[0;36m  File \u001b[0;32m\"<unknown>\"\u001b[0;36m, line \u001b[0;32m1\u001b[0m\n\u001b[0;31m    (__pd_eval_local_lemur2human ==__pd_eval_local_one2one )and and (__pd_eval_local_human2mouse ==__pd_eval_local_one2one )\u001b[0m\n\u001b[0m                                                                  ^\u001b[0m\n\u001b[0;31mSyntaxError\u001b[0m\u001b[0;31m:\u001b[0m Python keyword not valid identifier in numexpr query\n"
       ]
      }
     ],
     "persistentId": "759e3e68-7cf8-47c2-8960-26b3b7d26794",
     "text": "one2one = 'ortholog_one2one'\nlemur2human = 'mouse_lemur_to_human__homology_type'\nhuman2mouse = 'human_to_mouse__homology_type'\n\ngene_orthologies_one2one = gene_orthologies.query(\"(@lemur2human == @one2one) && (@human2mouse == @one2one)\")\nprint(gene_orthologies_one2one.shape)\ngene_orthologies_one2one.head()"
    },
    "executionTime": "2019-12-14T00:55:27.264Z"
   },
   {
    "cell": {
     "executionCount": 49,
     "executionEventId": "c4ab3804-ab3a-40f1-8b8a-3242fb913fd1",
     "hasError": true,
     "id": "c77dd9b3-9026-4872-b8aa-5aff0b84b366",
     "outputs": [
      {
       "ename": "KeyError",
       "evalue": "False",
       "output_type": "error",
       "traceback": [
        "\u001b[0;31m---------------------------------------------------------------------------\u001b[0m",
        "\u001b[0;31mKeyError\u001b[0m                                  Traceback (most recent call last)",
        "\u001b[0;32m~/miniconda3/envs/sc-tutorial/lib/python3.7/site-packages/pandas/core/indexes/base.py\u001b[0m in \u001b[0;36mget_loc\u001b[0;34m(self, key, method, tolerance)\u001b[0m\n\u001b[1;32m   2896\u001b[0m             \u001b[0;32mtry\u001b[0m\u001b[0;34m:\u001b[0m\u001b[0;34m\u001b[0m\u001b[0;34m\u001b[0m\u001b[0m\n\u001b[0;32m-> 2897\u001b[0;31m                 \u001b[0;32mreturn\u001b[0m \u001b[0mself\u001b[0m\u001b[0;34m.\u001b[0m\u001b[0m_engine\u001b[0m\u001b[0;34m.\u001b[0m\u001b[0mget_loc\u001b[0m\u001b[0;34m(\u001b[0m\u001b[0mkey\u001b[0m\u001b[0;34m)\u001b[0m\u001b[0;34m\u001b[0m\u001b[0;34m\u001b[0m\u001b[0m\n\u001b[0m\u001b[1;32m   2898\u001b[0m             \u001b[0;32mexcept\u001b[0m \u001b[0mKeyError\u001b[0m\u001b[0;34m:\u001b[0m\u001b[0;34m\u001b[0m\u001b[0;34m\u001b[0m\u001b[0m\n",
        "\u001b[0;32mpandas/_libs/index.pyx\u001b[0m in \u001b[0;36mpandas._libs.index.IndexEngine.get_loc\u001b[0;34m()\u001b[0m\n",
        "\u001b[0;32mpandas/_libs/index.pyx\u001b[0m in \u001b[0;36mpandas._libs.index.IndexEngine.get_loc\u001b[0;34m()\u001b[0m\n",
        "\u001b[0;32mpandas/_libs/index_class_helper.pxi\u001b[0m in \u001b[0;36mpandas._libs.index.Int64Engine._check_type\u001b[0;34m()\u001b[0m\n",
        "\u001b[0;31mKeyError\u001b[0m: False",
        "\nDuring handling of the above exception, another exception occurred:\n",
        "\u001b[0;31mKeyError\u001b[0m                                  Traceback (most recent call last)",
        "\u001b[0;32m<ipython-input-49-0163d6c2669a>\u001b[0m in \u001b[0;36m<module>\u001b[0;34m\u001b[0m\n\u001b[1;32m      3\u001b[0m \u001b[0mhuman2mouse\u001b[0m \u001b[0;34m=\u001b[0m \u001b[0;34m'human_to_mouse__homology_type'\u001b[0m\u001b[0;34m\u001b[0m\u001b[0;34m\u001b[0m\u001b[0m\n\u001b[1;32m      4\u001b[0m \u001b[0;34m\u001b[0m\u001b[0m\n\u001b[0;32m----> 5\u001b[0;31m \u001b[0mgene_orthologies_one2one\u001b[0m \u001b[0;34m=\u001b[0m \u001b[0mgene_orthologies\u001b[0m\u001b[0;34m.\u001b[0m\u001b[0mquery\u001b[0m\u001b[0;34m(\u001b[0m\u001b[0;34m\"(@lemur2human == @one2one) & (@human2mouse == @one2one)\"\u001b[0m\u001b[0;34m)\u001b[0m\u001b[0;34m\u001b[0m\u001b[0;34m\u001b[0m\u001b[0m\n\u001b[0m\u001b[1;32m      6\u001b[0m \u001b[0mprint\u001b[0m\u001b[0;34m(\u001b[0m\u001b[0mgene_orthologies_one2one\u001b[0m\u001b[0;34m.\u001b[0m\u001b[0mshape\u001b[0m\u001b[0;34m)\u001b[0m\u001b[0;34m\u001b[0m\u001b[0;34m\u001b[0m\u001b[0m\n\u001b[1;32m      7\u001b[0m \u001b[0mgene_orthologies_one2one\u001b[0m\u001b[0;34m.\u001b[0m\u001b[0mhead\u001b[0m\u001b[0;34m(\u001b[0m\u001b[0;34m)\u001b[0m\u001b[0;34m\u001b[0m\u001b[0;34m\u001b[0m\u001b[0m\n",
        "\u001b[0;32m~/miniconda3/envs/sc-tutorial/lib/python3.7/site-packages/pandas/core/frame.py\u001b[0m in \u001b[0;36mquery\u001b[0;34m(self, expr, inplace, **kwargs)\u001b[0m\n\u001b[1;32m   3200\u001b[0m \u001b[0;34m\u001b[0m\u001b[0m\n\u001b[1;32m   3201\u001b[0m         \u001b[0;32mtry\u001b[0m\u001b[0;34m:\u001b[0m\u001b[0;34m\u001b[0m\u001b[0;34m\u001b[0m\u001b[0m\n\u001b[0;32m-> 3202\u001b[0;31m             \u001b[0mnew_data\u001b[0m \u001b[0;34m=\u001b[0m \u001b[0mself\u001b[0m\u001b[0;34m.\u001b[0m\u001b[0mloc\u001b[0m\u001b[0;34m[\u001b[0m\u001b[0mres\u001b[0m\u001b[0;34m]\u001b[0m\u001b[0;34m\u001b[0m\u001b[0;34m\u001b[0m\u001b[0m\n\u001b[0m\u001b[1;32m   3203\u001b[0m         \u001b[0;32mexcept\u001b[0m \u001b[0mValueError\u001b[0m\u001b[0;34m:\u001b[0m\u001b[0;34m\u001b[0m\u001b[0;34m\u001b[0m\u001b[0m\n\u001b[1;32m   3204\u001b[0m             \u001b[0;31m# when res is multi-dimensional loc raises, but this is sometimes a\u001b[0m\u001b[0;34m\u001b[0m\u001b[0;34m\u001b[0m\u001b[0;34m\u001b[0m\u001b[0m\n",
        "\u001b[0;32m~/miniconda3/envs/sc-tutorial/lib/python3.7/site-packages/pandas/core/indexing.py\u001b[0m in \u001b[0;36m__getitem__\u001b[0;34m(self, key)\u001b[0m\n\u001b[1;32m   1422\u001b[0m \u001b[0;34m\u001b[0m\u001b[0m\n\u001b[1;32m   1423\u001b[0m             \u001b[0mmaybe_callable\u001b[0m \u001b[0;34m=\u001b[0m \u001b[0mcom\u001b[0m\u001b[0;34m.\u001b[0m\u001b[0mapply_if_callable\u001b[0m\u001b[0;34m(\u001b[0m\u001b[0mkey\u001b[0m\u001b[0;34m,\u001b[0m \u001b[0mself\u001b[0m\u001b[0;34m.\u001b[0m\u001b[0mobj\u001b[0m\u001b[0;34m)\u001b[0m\u001b[0;34m\u001b[0m\u001b[0;34m\u001b[0m\u001b[0m\n\u001b[0;32m-> 1424\u001b[0;31m             \u001b[0;32mreturn\u001b[0m \u001b[0mself\u001b[0m\u001b[0;34m.\u001b[0m\u001b[0m_getitem_axis\u001b[0m\u001b[0;34m(\u001b[0m\u001b[0mmaybe_callable\u001b[0m\u001b[0;34m,\u001b[0m \u001b[0maxis\u001b[0m\u001b[0;34m=\u001b[0m\u001b[0maxis\u001b[0m\u001b[0;34m)\u001b[0m\u001b[0;34m\u001b[0m\u001b[0;34m\u001b[0m\u001b[0m\n\u001b[0m\u001b[1;32m   1425\u001b[0m \u001b[0;34m\u001b[0m\u001b[0m\n\u001b[1;32m   1426\u001b[0m     \u001b[0;32mdef\u001b[0m \u001b[0m_is_scalar_access\u001b[0m\u001b[0;34m(\u001b[0m\u001b[0mself\u001b[0m\u001b[0;34m,\u001b[0m \u001b[0mkey\u001b[0m\u001b[0;34m:\u001b[0m \u001b[0mTuple\u001b[0m\u001b[0;34m)\u001b[0m\u001b[0;34m:\u001b[0m\u001b[0;34m\u001b[0m\u001b[0;34m\u001b[0m\u001b[0m\n",
        "\u001b[0;32m~/miniconda3/envs/sc-tutorial/lib/python3.7/site-packages/pandas/core/indexing.py\u001b[0m in \u001b[0;36m_getitem_axis\u001b[0;34m(self, key, axis)\u001b[0m\n\u001b[1;32m   1848\u001b[0m         \u001b[0;31m# fall thru to straight lookup\u001b[0m\u001b[0;34m\u001b[0m\u001b[0;34m\u001b[0m\u001b[0;34m\u001b[0m\u001b[0m\n\u001b[1;32m   1849\u001b[0m         \u001b[0mself\u001b[0m\u001b[0;34m.\u001b[0m\u001b[0m_validate_key\u001b[0m\u001b[0;34m(\u001b[0m\u001b[0mkey\u001b[0m\u001b[0;34m,\u001b[0m \u001b[0maxis\u001b[0m\u001b[0;34m)\u001b[0m\u001b[0;34m\u001b[0m\u001b[0;34m\u001b[0m\u001b[0m\n\u001b[0;32m-> 1850\u001b[0;31m         \u001b[0;32mreturn\u001b[0m \u001b[0mself\u001b[0m\u001b[0;34m.\u001b[0m\u001b[0m_get_label\u001b[0m\u001b[0;34m(\u001b[0m\u001b[0mkey\u001b[0m\u001b[0;34m,\u001b[0m \u001b[0maxis\u001b[0m\u001b[0;34m=\u001b[0m\u001b[0maxis\u001b[0m\u001b[0;34m)\u001b[0m\u001b[0;34m\u001b[0m\u001b[0;34m\u001b[0m\u001b[0m\n\u001b[0m\u001b[1;32m   1851\u001b[0m \u001b[0;34m\u001b[0m\u001b[0m\n\u001b[1;32m   1852\u001b[0m \u001b[0;34m\u001b[0m\u001b[0m\n",
        "\u001b[0;32m~/miniconda3/envs/sc-tutorial/lib/python3.7/site-packages/pandas/core/indexing.py\u001b[0m in \u001b[0;36m_get_label\u001b[0;34m(self, label, axis)\u001b[0m\n\u001b[1;32m    158\u001b[0m             \u001b[0;32mraise\u001b[0m \u001b[0mIndexingError\u001b[0m\u001b[0;34m(\u001b[0m\u001b[0;34m\"no slices here, handle elsewhere\"\u001b[0m\u001b[0;34m)\u001b[0m\u001b[0;34m\u001b[0m\u001b[0;34m\u001b[0m\u001b[0m\n\u001b[1;32m    159\u001b[0m \u001b[0;34m\u001b[0m\u001b[0m\n\u001b[0;32m--> 160\u001b[0;31m         \u001b[0;32mreturn\u001b[0m \u001b[0mself\u001b[0m\u001b[0;34m.\u001b[0m\u001b[0mobj\u001b[0m\u001b[0;34m.\u001b[0m\u001b[0m_xs\u001b[0m\u001b[0;34m(\u001b[0m\u001b[0mlabel\u001b[0m\u001b[0;34m,\u001b[0m \u001b[0maxis\u001b[0m\u001b[0;34m=\u001b[0m\u001b[0maxis\u001b[0m\u001b[0;34m)\u001b[0m\u001b[0;34m\u001b[0m\u001b[0;34m\u001b[0m\u001b[0m\n\u001b[0m\u001b[1;32m    161\u001b[0m \u001b[0;34m\u001b[0m\u001b[0m\n\u001b[1;32m    162\u001b[0m     \u001b[0;32mdef\u001b[0m \u001b[0m_get_loc\u001b[0m\u001b[0;34m(\u001b[0m\u001b[0mself\u001b[0m\u001b[0;34m,\u001b[0m \u001b[0mkey\u001b[0m\u001b[0;34m:\u001b[0m \u001b[0mint\u001b[0m\u001b[0;34m,\u001b[0m \u001b[0maxis\u001b[0m\u001b[0;34m:\u001b[0m \u001b[0mint\u001b[0m\u001b[0;34m)\u001b[0m\u001b[0;34m:\u001b[0m\u001b[0;34m\u001b[0m\u001b[0;34m\u001b[0m\u001b[0m\n",
        "\u001b[0;32m~/miniconda3/envs/sc-tutorial/lib/python3.7/site-packages/pandas/core/generic.py\u001b[0m in \u001b[0;36mxs\u001b[0;34m(self, key, axis, level, drop_level)\u001b[0m\n\u001b[1;32m   3735\u001b[0m             \u001b[0mloc\u001b[0m\u001b[0;34m,\u001b[0m \u001b[0mnew_index\u001b[0m \u001b[0;34m=\u001b[0m \u001b[0mself\u001b[0m\u001b[0;34m.\u001b[0m\u001b[0mindex\u001b[0m\u001b[0;34m.\u001b[0m\u001b[0mget_loc_level\u001b[0m\u001b[0;34m(\u001b[0m\u001b[0mkey\u001b[0m\u001b[0;34m,\u001b[0m \u001b[0mdrop_level\u001b[0m\u001b[0;34m=\u001b[0m\u001b[0mdrop_level\u001b[0m\u001b[0;34m)\u001b[0m\u001b[0;34m\u001b[0m\u001b[0;34m\u001b[0m\u001b[0m\n\u001b[1;32m   3736\u001b[0m         \u001b[0;32melse\u001b[0m\u001b[0;34m:\u001b[0m\u001b[0;34m\u001b[0m\u001b[0;34m\u001b[0m\u001b[0m\n\u001b[0;32m-> 3737\u001b[0;31m             \u001b[0mloc\u001b[0m \u001b[0;34m=\u001b[0m \u001b[0mself\u001b[0m\u001b[0;34m.\u001b[0m\u001b[0mindex\u001b[0m\u001b[0;34m.\u001b[0m\u001b[0mget_loc\u001b[0m\u001b[0;34m(\u001b[0m\u001b[0mkey\u001b[0m\u001b[0;34m)\u001b[0m\u001b[0;34m\u001b[0m\u001b[0;34m\u001b[0m\u001b[0m\n\u001b[0m\u001b[1;32m   3738\u001b[0m \u001b[0;34m\u001b[0m\u001b[0m\n\u001b[1;32m   3739\u001b[0m             \u001b[0;32mif\u001b[0m \u001b[0misinstance\u001b[0m\u001b[0;34m(\u001b[0m\u001b[0mloc\u001b[0m\u001b[0;34m,\u001b[0m \u001b[0mnp\u001b[0m\u001b[0;34m.\u001b[0m\u001b[0mndarray\u001b[0m\u001b[0;34m)\u001b[0m\u001b[0;34m:\u001b[0m\u001b[0;34m\u001b[0m\u001b[0;34m\u001b[0m\u001b[0m\n",
        "\u001b[0;32m~/miniconda3/envs/sc-tutorial/lib/python3.7/site-packages/pandas/core/indexes/range.py\u001b[0m in \u001b[0;36mget_loc\u001b[0;34m(self, key, method, tolerance)\u001b[0m\n\u001b[1;32m    377\u001b[0m             \u001b[0;32mexcept\u001b[0m \u001b[0mValueError\u001b[0m\u001b[0;34m:\u001b[0m\u001b[0;34m\u001b[0m\u001b[0;34m\u001b[0m\u001b[0m\n\u001b[1;32m    378\u001b[0m                 \u001b[0;32mraise\u001b[0m \u001b[0mKeyError\u001b[0m\u001b[0;34m(\u001b[0m\u001b[0mkey\u001b[0m\u001b[0;34m)\u001b[0m\u001b[0;34m\u001b[0m\u001b[0;34m\u001b[0m\u001b[0m\n\u001b[0;32m--> 379\u001b[0;31m         \u001b[0;32mreturn\u001b[0m \u001b[0msuper\u001b[0m\u001b[0;34m(\u001b[0m\u001b[0;34m)\u001b[0m\u001b[0;34m.\u001b[0m\u001b[0mget_loc\u001b[0m\u001b[0;34m(\u001b[0m\u001b[0mkey\u001b[0m\u001b[0;34m,\u001b[0m \u001b[0mmethod\u001b[0m\u001b[0;34m=\u001b[0m\u001b[0mmethod\u001b[0m\u001b[0;34m,\u001b[0m \u001b[0mtolerance\u001b[0m\u001b[0;34m=\u001b[0m\u001b[0mtolerance\u001b[0m\u001b[0;34m)\u001b[0m\u001b[0;34m\u001b[0m\u001b[0;34m\u001b[0m\u001b[0m\n\u001b[0m\u001b[1;32m    380\u001b[0m \u001b[0;34m\u001b[0m\u001b[0m\n\u001b[1;32m    381\u001b[0m     \u001b[0;34m@\u001b[0m\u001b[0mAppender\u001b[0m\u001b[0;34m(\u001b[0m\u001b[0m_index_shared_docs\u001b[0m\u001b[0;34m[\u001b[0m\u001b[0;34m\"get_indexer\"\u001b[0m\u001b[0;34m]\u001b[0m\u001b[0;34m)\u001b[0m\u001b[0;34m\u001b[0m\u001b[0;34m\u001b[0m\u001b[0m\n",
        "\u001b[0;32m~/miniconda3/envs/sc-tutorial/lib/python3.7/site-packages/pandas/core/indexes/base.py\u001b[0m in \u001b[0;36mget_loc\u001b[0;34m(self, key, method, tolerance)\u001b[0m\n\u001b[1;32m   2897\u001b[0m                 \u001b[0;32mreturn\u001b[0m \u001b[0mself\u001b[0m\u001b[0;34m.\u001b[0m\u001b[0m_engine\u001b[0m\u001b[0;34m.\u001b[0m\u001b[0mget_loc\u001b[0m\u001b[0;34m(\u001b[0m\u001b[0mkey\u001b[0m\u001b[0;34m)\u001b[0m\u001b[0;34m\u001b[0m\u001b[0;34m\u001b[0m\u001b[0m\n\u001b[1;32m   2898\u001b[0m             \u001b[0;32mexcept\u001b[0m \u001b[0mKeyError\u001b[0m\u001b[0;34m:\u001b[0m\u001b[0;34m\u001b[0m\u001b[0;34m\u001b[0m\u001b[0m\n\u001b[0;32m-> 2899\u001b[0;31m                 \u001b[0;32mreturn\u001b[0m \u001b[0mself\u001b[0m\u001b[0;34m.\u001b[0m\u001b[0m_engine\u001b[0m\u001b[0;34m.\u001b[0m\u001b[0mget_loc\u001b[0m\u001b[0;34m(\u001b[0m\u001b[0mself\u001b[0m\u001b[0;34m.\u001b[0m\u001b[0m_maybe_cast_indexer\u001b[0m\u001b[0;34m(\u001b[0m\u001b[0mkey\u001b[0m\u001b[0;34m)\u001b[0m\u001b[0;34m)\u001b[0m\u001b[0;34m\u001b[0m\u001b[0;34m\u001b[0m\u001b[0m\n\u001b[0m\u001b[1;32m   2900\u001b[0m         \u001b[0mindexer\u001b[0m \u001b[0;34m=\u001b[0m \u001b[0mself\u001b[0m\u001b[0;34m.\u001b[0m\u001b[0mget_indexer\u001b[0m\u001b[0;34m(\u001b[0m\u001b[0;34m[\u001b[0m\u001b[0mkey\u001b[0m\u001b[0;34m]\u001b[0m\u001b[0;34m,\u001b[0m \u001b[0mmethod\u001b[0m\u001b[0;34m=\u001b[0m\u001b[0mmethod\u001b[0m\u001b[0;34m,\u001b[0m \u001b[0mtolerance\u001b[0m\u001b[0;34m=\u001b[0m\u001b[0mtolerance\u001b[0m\u001b[0;34m)\u001b[0m\u001b[0;34m\u001b[0m\u001b[0;34m\u001b[0m\u001b[0m\n\u001b[1;32m   2901\u001b[0m         \u001b[0;32mif\u001b[0m \u001b[0mindexer\u001b[0m\u001b[0;34m.\u001b[0m\u001b[0mndim\u001b[0m \u001b[0;34m>\u001b[0m \u001b[0;36m1\u001b[0m \u001b[0;32mor\u001b[0m \u001b[0mindexer\u001b[0m\u001b[0;34m.\u001b[0m\u001b[0msize\u001b[0m \u001b[0;34m>\u001b[0m \u001b[0;36m1\u001b[0m\u001b[0;34m:\u001b[0m\u001b[0;34m\u001b[0m\u001b[0;34m\u001b[0m\u001b[0m\n",
        "\u001b[0;32mpandas/_libs/index.pyx\u001b[0m in \u001b[0;36mpandas._libs.index.IndexEngine.get_loc\u001b[0;34m()\u001b[0m\n",
        "\u001b[0;32mpandas/_libs/index.pyx\u001b[0m in \u001b[0;36mpandas._libs.index.IndexEngine.get_loc\u001b[0;34m()\u001b[0m\n",
        "\u001b[0;32mpandas/_libs/index_class_helper.pxi\u001b[0m in \u001b[0;36mpandas._libs.index.Int64Engine._check_type\u001b[0;34m()\u001b[0m\n",
        "\u001b[0;31mKeyError\u001b[0m: False"
       ]
      }
     ],
     "persistentId": "759e3e68-7cf8-47c2-8960-26b3b7d26794",
     "text": "one2one = 'ortholog_one2one'\nlemur2human = 'mouse_lemur_to_human__homology_type'\nhuman2mouse = 'human_to_mouse__homology_type'\n\ngene_orthologies_one2one = gene_orthologies.query(\"(@lemur2human == @one2one) & (@human2mouse == @one2one)\")\nprint(gene_orthologies_one2one.shape)\ngene_orthologies_one2one.head()"
    },
    "executionTime": "2019-12-14T00:55:30.013Z"
   },
   {
    "cell": {
     "executionCount": 50,
     "executionEventId": "47a3d399-8aab-457b-a686-f8cb22a2f2bf",
     "hasError": true,
     "id": "c77dd9b3-9026-4872-b8aa-5aff0b84b366",
     "outputs": [
      {
       "ename": "TypeError",
       "evalue": "issubclass() arg 1 must be a class",
       "output_type": "error",
       "traceback": [
        "\u001b[0;31m---------------------------------------------------------------------------\u001b[0m",
        "\u001b[0;31mTypeError\u001b[0m                                 Traceback (most recent call last)",
        "\u001b[0;32m<ipython-input-50-56bb63e8c757>\u001b[0m in \u001b[0;36m<module>\u001b[0;34m\u001b[0m\n\u001b[1;32m      3\u001b[0m \u001b[0mhuman2mouse\u001b[0m \u001b[0;34m=\u001b[0m \u001b[0;34m'human_to_mouse__homology_type'\u001b[0m\u001b[0;34m\u001b[0m\u001b[0;34m\u001b[0m\u001b[0m\n\u001b[1;32m      4\u001b[0m \u001b[0;34m\u001b[0m\u001b[0m\n\u001b[0;32m----> 5\u001b[0;31m \u001b[0mgene_orthologies_one2one\u001b[0m \u001b[0;34m=\u001b[0m \u001b[0mgene_orthologies\u001b[0m\u001b[0;34m.\u001b[0m\u001b[0mquery\u001b[0m\u001b[0;34m(\u001b[0m\u001b[0;34m\"(mouse_lemur_to_human__homology_type == @one2one) & (@human2mouse == @one2one)\"\u001b[0m\u001b[0;34m)\u001b[0m\u001b[0;34m\u001b[0m\u001b[0;34m\u001b[0m\u001b[0m\n\u001b[0m\u001b[1;32m      6\u001b[0m \u001b[0mprint\u001b[0m\u001b[0;34m(\u001b[0m\u001b[0mgene_orthologies_one2one\u001b[0m\u001b[0;34m.\u001b[0m\u001b[0mshape\u001b[0m\u001b[0;34m)\u001b[0m\u001b[0;34m\u001b[0m\u001b[0;34m\u001b[0m\u001b[0m\n\u001b[1;32m      7\u001b[0m \u001b[0mgene_orthologies_one2one\u001b[0m\u001b[0;34m.\u001b[0m\u001b[0mhead\u001b[0m\u001b[0;34m(\u001b[0m\u001b[0;34m)\u001b[0m\u001b[0;34m\u001b[0m\u001b[0;34m\u001b[0m\u001b[0m\n",
        "\u001b[0;32m~/miniconda3/envs/sc-tutorial/lib/python3.7/site-packages/pandas/core/frame.py\u001b[0m in \u001b[0;36mquery\u001b[0;34m(self, expr, inplace, **kwargs)\u001b[0m\n\u001b[1;32m   3197\u001b[0m         \u001b[0mkwargs\u001b[0m\u001b[0;34m[\u001b[0m\u001b[0;34m\"level\"\u001b[0m\u001b[0;34m]\u001b[0m \u001b[0;34m=\u001b[0m \u001b[0mkwargs\u001b[0m\u001b[0;34m.\u001b[0m\u001b[0mpop\u001b[0m\u001b[0;34m(\u001b[0m\u001b[0;34m\"level\"\u001b[0m\u001b[0;34m,\u001b[0m \u001b[0;36m0\u001b[0m\u001b[0;34m)\u001b[0m \u001b[0;34m+\u001b[0m \u001b[0;36m1\u001b[0m\u001b[0;34m\u001b[0m\u001b[0;34m\u001b[0m\u001b[0m\n\u001b[1;32m   3198\u001b[0m         \u001b[0mkwargs\u001b[0m\u001b[0;34m[\u001b[0m\u001b[0;34m\"target\"\u001b[0m\u001b[0;34m]\u001b[0m \u001b[0;34m=\u001b[0m \u001b[0;32mNone\u001b[0m\u001b[0;34m\u001b[0m\u001b[0;34m\u001b[0m\u001b[0m\n\u001b[0;32m-> 3199\u001b[0;31m         \u001b[0mres\u001b[0m \u001b[0;34m=\u001b[0m \u001b[0mself\u001b[0m\u001b[0;34m.\u001b[0m\u001b[0meval\u001b[0m\u001b[0;34m(\u001b[0m\u001b[0mexpr\u001b[0m\u001b[0;34m,\u001b[0m \u001b[0;34m**\u001b[0m\u001b[0mkwargs\u001b[0m\u001b[0;34m)\u001b[0m\u001b[0;34m\u001b[0m\u001b[0;34m\u001b[0m\u001b[0m\n\u001b[0m\u001b[1;32m   3200\u001b[0m \u001b[0;34m\u001b[0m\u001b[0m\n\u001b[1;32m   3201\u001b[0m         \u001b[0;32mtry\u001b[0m\u001b[0;34m:\u001b[0m\u001b[0;34m\u001b[0m\u001b[0;34m\u001b[0m\u001b[0m\n",
        "\u001b[0;32m~/miniconda3/envs/sc-tutorial/lib/python3.7/site-packages/pandas/core/frame.py\u001b[0m in \u001b[0;36meval\u001b[0;34m(self, expr, inplace, **kwargs)\u001b[0m\n\u001b[1;32m   3313\u001b[0m             \u001b[0mkwargs\u001b[0m\u001b[0;34m[\u001b[0m\u001b[0;34m\"target\"\u001b[0m\u001b[0;34m]\u001b[0m \u001b[0;34m=\u001b[0m \u001b[0mself\u001b[0m\u001b[0;34m\u001b[0m\u001b[0;34m\u001b[0m\u001b[0m\n\u001b[1;32m   3314\u001b[0m         \u001b[0mkwargs\u001b[0m\u001b[0;34m[\u001b[0m\u001b[0;34m\"resolvers\"\u001b[0m\u001b[0;34m]\u001b[0m \u001b[0;34m=\u001b[0m \u001b[0mkwargs\u001b[0m\u001b[0;34m.\u001b[0m\u001b[0mget\u001b[0m\u001b[0;34m(\u001b[0m\u001b[0;34m\"resolvers\"\u001b[0m\u001b[0;34m,\u001b[0m \u001b[0;34m(\u001b[0m\u001b[0;34m)\u001b[0m\u001b[0;34m)\u001b[0m \u001b[0;34m+\u001b[0m \u001b[0mtuple\u001b[0m\u001b[0;34m(\u001b[0m\u001b[0mresolvers\u001b[0m\u001b[0;34m)\u001b[0m\u001b[0;34m\u001b[0m\u001b[0;34m\u001b[0m\u001b[0m\n\u001b[0;32m-> 3315\u001b[0;31m         \u001b[0;32mreturn\u001b[0m \u001b[0m_eval\u001b[0m\u001b[0;34m(\u001b[0m\u001b[0mexpr\u001b[0m\u001b[0;34m,\u001b[0m \u001b[0minplace\u001b[0m\u001b[0;34m=\u001b[0m\u001b[0minplace\u001b[0m\u001b[0;34m,\u001b[0m \u001b[0;34m**\u001b[0m\u001b[0mkwargs\u001b[0m\u001b[0;34m)\u001b[0m\u001b[0;34m\u001b[0m\u001b[0;34m\u001b[0m\u001b[0m\n\u001b[0m\u001b[1;32m   3316\u001b[0m \u001b[0;34m\u001b[0m\u001b[0m\n\u001b[1;32m   3317\u001b[0m     \u001b[0;32mdef\u001b[0m \u001b[0mselect_dtypes\u001b[0m\u001b[0;34m(\u001b[0m\u001b[0mself\u001b[0m\u001b[0;34m,\u001b[0m \u001b[0minclude\u001b[0m\u001b[0;34m=\u001b[0m\u001b[0;32mNone\u001b[0m\u001b[0;34m,\u001b[0m \u001b[0mexclude\u001b[0m\u001b[0;34m=\u001b[0m\u001b[0;32mNone\u001b[0m\u001b[0;34m)\u001b[0m\u001b[0;34m:\u001b[0m\u001b[0;34m\u001b[0m\u001b[0;34m\u001b[0m\u001b[0m\n",
        "\u001b[0;32m~/miniconda3/envs/sc-tutorial/lib/python3.7/site-packages/pandas/core/computation/eval.py\u001b[0m in \u001b[0;36meval\u001b[0;34m(expr, parser, engine, truediv, local_dict, global_dict, resolvers, level, target, inplace)\u001b[0m\n\u001b[1;32m    320\u001b[0m         )\n\u001b[1;32m    321\u001b[0m \u001b[0;34m\u001b[0m\u001b[0m\n\u001b[0;32m--> 322\u001b[0;31m         \u001b[0mparsed_expr\u001b[0m \u001b[0;34m=\u001b[0m \u001b[0mExpr\u001b[0m\u001b[0;34m(\u001b[0m\u001b[0mexpr\u001b[0m\u001b[0;34m,\u001b[0m \u001b[0mengine\u001b[0m\u001b[0;34m=\u001b[0m\u001b[0mengine\u001b[0m\u001b[0;34m,\u001b[0m \u001b[0mparser\u001b[0m\u001b[0;34m=\u001b[0m\u001b[0mparser\u001b[0m\u001b[0;34m,\u001b[0m \u001b[0menv\u001b[0m\u001b[0;34m=\u001b[0m\u001b[0menv\u001b[0m\u001b[0;34m,\u001b[0m \u001b[0mtruediv\u001b[0m\u001b[0;34m=\u001b[0m\u001b[0mtruediv\u001b[0m\u001b[0;34m)\u001b[0m\u001b[0;34m\u001b[0m\u001b[0;34m\u001b[0m\u001b[0m\n\u001b[0m\u001b[1;32m    323\u001b[0m \u001b[0;34m\u001b[0m\u001b[0m\n\u001b[1;32m    324\u001b[0m         \u001b[0;31m# construct the engine and evaluate the parsed expression\u001b[0m\u001b[0;34m\u001b[0m\u001b[0;34m\u001b[0m\u001b[0;34m\u001b[0m\u001b[0m\n",
        "\u001b[0;32m~/miniconda3/envs/sc-tutorial/lib/python3.7/site-packages/pandas/core/computation/expr.py\u001b[0m in \u001b[0;36m__init__\u001b[0;34m(self, expr, engine, parser, env, truediv, level)\u001b[0m\n\u001b[1;32m    828\u001b[0m         \u001b[0mself\u001b[0m\u001b[0;34m.\u001b[0m\u001b[0menv\u001b[0m\u001b[0;34m.\u001b[0m\u001b[0mscope\u001b[0m\u001b[0;34m[\u001b[0m\u001b[0;34m\"truediv\"\u001b[0m\u001b[0;34m]\u001b[0m \u001b[0;34m=\u001b[0m \u001b[0mtruediv\u001b[0m\u001b[0;34m\u001b[0m\u001b[0;34m\u001b[0m\u001b[0m\n\u001b[1;32m    829\u001b[0m         \u001b[0mself\u001b[0m\u001b[0;34m.\u001b[0m\u001b[0m_visitor\u001b[0m \u001b[0;34m=\u001b[0m \u001b[0m_parsers\u001b[0m\u001b[0;34m[\u001b[0m\u001b[0mparser\u001b[0m\u001b[0;34m]\u001b[0m\u001b[0;34m(\u001b[0m\u001b[0mself\u001b[0m\u001b[0;34m.\u001b[0m\u001b[0menv\u001b[0m\u001b[0;34m,\u001b[0m \u001b[0mself\u001b[0m\u001b[0;34m.\u001b[0m\u001b[0mengine\u001b[0m\u001b[0;34m,\u001b[0m \u001b[0mself\u001b[0m\u001b[0;34m.\u001b[0m\u001b[0mparser\u001b[0m\u001b[0;34m)\u001b[0m\u001b[0;34m\u001b[0m\u001b[0;34m\u001b[0m\u001b[0m\n\u001b[0;32m--> 830\u001b[0;31m         \u001b[0mself\u001b[0m\u001b[0;34m.\u001b[0m\u001b[0mterms\u001b[0m \u001b[0;34m=\u001b[0m \u001b[0mself\u001b[0m\u001b[0;34m.\u001b[0m\u001b[0mparse\u001b[0m\u001b[0;34m(\u001b[0m\u001b[0;34m)\u001b[0m\u001b[0;34m\u001b[0m\u001b[0;34m\u001b[0m\u001b[0m\n\u001b[0m\u001b[1;32m    831\u001b[0m \u001b[0;34m\u001b[0m\u001b[0m\n\u001b[1;32m    832\u001b[0m     \u001b[0;34m@\u001b[0m\u001b[0mproperty\u001b[0m\u001b[0;34m\u001b[0m\u001b[0;34m\u001b[0m\u001b[0m\n",
        "\u001b[0;32m~/miniconda3/envs/sc-tutorial/lib/python3.7/site-packages/pandas/core/computation/expr.py\u001b[0m in \u001b[0;36mparse\u001b[0;34m(self)\u001b[0m\n\u001b[1;32m    845\u001b[0m     \u001b[0;32mdef\u001b[0m \u001b[0mparse\u001b[0m\u001b[0;34m(\u001b[0m\u001b[0mself\u001b[0m\u001b[0;34m)\u001b[0m\u001b[0;34m:\u001b[0m\u001b[0;34m\u001b[0m\u001b[0;34m\u001b[0m\u001b[0m\n\u001b[1;32m    846\u001b[0m         \u001b[0;34m\"\"\"Parse an expression\"\"\"\u001b[0m\u001b[0;34m\u001b[0m\u001b[0;34m\u001b[0m\u001b[0m\n\u001b[0;32m--> 847\u001b[0;31m         \u001b[0;32mreturn\u001b[0m \u001b[0mself\u001b[0m\u001b[0;34m.\u001b[0m\u001b[0m_visitor\u001b[0m\u001b[0;34m.\u001b[0m\u001b[0mvisit\u001b[0m\u001b[0;34m(\u001b[0m\u001b[0mself\u001b[0m\u001b[0;34m.\u001b[0m\u001b[0mexpr\u001b[0m\u001b[0;34m)\u001b[0m\u001b[0;34m\u001b[0m\u001b[0;34m\u001b[0m\u001b[0m\n\u001b[0m\u001b[1;32m    848\u001b[0m \u001b[0;34m\u001b[0m\u001b[0m\n\u001b[1;32m    849\u001b[0m     \u001b[0;34m@\u001b[0m\u001b[0mproperty\u001b[0m\u001b[0;34m\u001b[0m\u001b[0;34m\u001b[0m\u001b[0m\n",
        "\u001b[0;32m~/miniconda3/envs/sc-tutorial/lib/python3.7/site-packages/pandas/core/computation/expr.py\u001b[0m in \u001b[0;36mvisit\u001b[0;34m(self, node, **kwargs)\u001b[0m\n\u001b[1;32m    439\u001b[0m         \u001b[0mmethod\u001b[0m \u001b[0;34m=\u001b[0m \u001b[0;34m\"visit_\"\u001b[0m \u001b[0;34m+\u001b[0m \u001b[0mnode\u001b[0m\u001b[0;34m.\u001b[0m\u001b[0m__class__\u001b[0m\u001b[0;34m.\u001b[0m\u001b[0m__name__\u001b[0m\u001b[0;34m\u001b[0m\u001b[0;34m\u001b[0m\u001b[0m\n\u001b[1;32m    440\u001b[0m         \u001b[0mvisitor\u001b[0m \u001b[0;34m=\u001b[0m \u001b[0mgetattr\u001b[0m\u001b[0;34m(\u001b[0m\u001b[0mself\u001b[0m\u001b[0;34m,\u001b[0m \u001b[0mmethod\u001b[0m\u001b[0;34m)\u001b[0m\u001b[0;34m\u001b[0m\u001b[0;34m\u001b[0m\u001b[0m\n\u001b[0;32m--> 441\u001b[0;31m         \u001b[0;32mreturn\u001b[0m \u001b[0mvisitor\u001b[0m\u001b[0;34m(\u001b[0m\u001b[0mnode\u001b[0m\u001b[0;34m,\u001b[0m \u001b[0;34m**\u001b[0m\u001b[0mkwargs\u001b[0m\u001b[0;34m)\u001b[0m\u001b[0;34m\u001b[0m\u001b[0;34m\u001b[0m\u001b[0m\n\u001b[0m\u001b[1;32m    442\u001b[0m \u001b[0;34m\u001b[0m\u001b[0m\n\u001b[1;32m    443\u001b[0m     \u001b[0;32mdef\u001b[0m \u001b[0mvisit_Module\u001b[0m\u001b[0;34m(\u001b[0m\u001b[0mself\u001b[0m\u001b[0;34m,\u001b[0m \u001b[0mnode\u001b[0m\u001b[0;34m,\u001b[0m \u001b[0;34m**\u001b[0m\u001b[0mkwargs\u001b[0m\u001b[0;34m)\u001b[0m\u001b[0;34m:\u001b[0m\u001b[0;34m\u001b[0m\u001b[0;34m\u001b[0m\u001b[0m\n",
        "\u001b[0;32m~/miniconda3/envs/sc-tutorial/lib/python3.7/site-packages/pandas/core/computation/expr.py\u001b[0m in \u001b[0;36mvisit_Module\u001b[0;34m(self, node, **kwargs)\u001b[0m\n\u001b[1;32m    445\u001b[0m             \u001b[0;32mraise\u001b[0m \u001b[0mSyntaxError\u001b[0m\u001b[0;34m(\u001b[0m\u001b[0;34m\"only a single expression is allowed\"\u001b[0m\u001b[0;34m)\u001b[0m\u001b[0;34m\u001b[0m\u001b[0;34m\u001b[0m\u001b[0m\n\u001b[1;32m    446\u001b[0m         \u001b[0mexpr\u001b[0m \u001b[0;34m=\u001b[0m \u001b[0mnode\u001b[0m\u001b[0;34m.\u001b[0m\u001b[0mbody\u001b[0m\u001b[0;34m[\u001b[0m\u001b[0;36m0\u001b[0m\u001b[0;34m]\u001b[0m\u001b[0;34m\u001b[0m\u001b[0;34m\u001b[0m\u001b[0m\n\u001b[0;32m--> 447\u001b[0;31m         \u001b[0;32mreturn\u001b[0m \u001b[0mself\u001b[0m\u001b[0;34m.\u001b[0m\u001b[0mvisit\u001b[0m\u001b[0;34m(\u001b[0m\u001b[0mexpr\u001b[0m\u001b[0;34m,\u001b[0m \u001b[0;34m**\u001b[0m\u001b[0mkwargs\u001b[0m\u001b[0;34m)\u001b[0m\u001b[0;34m\u001b[0m\u001b[0;34m\u001b[0m\u001b[0m\n\u001b[0m\u001b[1;32m    448\u001b[0m \u001b[0;34m\u001b[0m\u001b[0m\n\u001b[1;32m    449\u001b[0m     \u001b[0;32mdef\u001b[0m \u001b[0mvisit_Expr\u001b[0m\u001b[0;34m(\u001b[0m\u001b[0mself\u001b[0m\u001b[0;34m,\u001b[0m \u001b[0mnode\u001b[0m\u001b[0;34m,\u001b[0m \u001b[0;34m**\u001b[0m\u001b[0mkwargs\u001b[0m\u001b[0;34m)\u001b[0m\u001b[0;34m:\u001b[0m\u001b[0;34m\u001b[0m\u001b[0;34m\u001b[0m\u001b[0m\n",
        "\u001b[0;32m~/miniconda3/envs/sc-tutorial/lib/python3.7/site-packages/pandas/core/computation/expr.py\u001b[0m in \u001b[0;36mvisit\u001b[0;34m(self, node, **kwargs)\u001b[0m\n\u001b[1;32m    439\u001b[0m         \u001b[0mmethod\u001b[0m \u001b[0;34m=\u001b[0m \u001b[0;34m\"visit_\"\u001b[0m \u001b[0;34m+\u001b[0m \u001b[0mnode\u001b[0m\u001b[0;34m.\u001b[0m\u001b[0m__class__\u001b[0m\u001b[0;34m.\u001b[0m\u001b[0m__name__\u001b[0m\u001b[0;34m\u001b[0m\u001b[0;34m\u001b[0m\u001b[0m\n\u001b[1;32m    440\u001b[0m         \u001b[0mvisitor\u001b[0m \u001b[0;34m=\u001b[0m \u001b[0mgetattr\u001b[0m\u001b[0;34m(\u001b[0m\u001b[0mself\u001b[0m\u001b[0;34m,\u001b[0m \u001b[0mmethod\u001b[0m\u001b[0;34m)\u001b[0m\u001b[0;34m\u001b[0m\u001b[0;34m\u001b[0m\u001b[0m\n\u001b[0;32m--> 441\u001b[0;31m         \u001b[0;32mreturn\u001b[0m \u001b[0mvisitor\u001b[0m\u001b[0;34m(\u001b[0m\u001b[0mnode\u001b[0m\u001b[0;34m,\u001b[0m \u001b[0;34m**\u001b[0m\u001b[0mkwargs\u001b[0m\u001b[0;34m)\u001b[0m\u001b[0;34m\u001b[0m\u001b[0;34m\u001b[0m\u001b[0m\n\u001b[0m\u001b[1;32m    442\u001b[0m \u001b[0;34m\u001b[0m\u001b[0m\n\u001b[1;32m    443\u001b[0m     \u001b[0;32mdef\u001b[0m \u001b[0mvisit_Module\u001b[0m\u001b[0;34m(\u001b[0m\u001b[0mself\u001b[0m\u001b[0;34m,\u001b[0m \u001b[0mnode\u001b[0m\u001b[0;34m,\u001b[0m \u001b[0;34m**\u001b[0m\u001b[0mkwargs\u001b[0m\u001b[0;34m)\u001b[0m\u001b[0;34m:\u001b[0m\u001b[0;34m\u001b[0m\u001b[0;34m\u001b[0m\u001b[0m\n",
        "\u001b[0;32m~/miniconda3/envs/sc-tutorial/lib/python3.7/site-packages/pandas/core/computation/expr.py\u001b[0m in \u001b[0;36mvisit_Expr\u001b[0;34m(self, node, **kwargs)\u001b[0m\n\u001b[1;32m    448\u001b[0m \u001b[0;34m\u001b[0m\u001b[0m\n\u001b[1;32m    449\u001b[0m     \u001b[0;32mdef\u001b[0m \u001b[0mvisit_Expr\u001b[0m\u001b[0;34m(\u001b[0m\u001b[0mself\u001b[0m\u001b[0;34m,\u001b[0m \u001b[0mnode\u001b[0m\u001b[0;34m,\u001b[0m \u001b[0;34m**\u001b[0m\u001b[0mkwargs\u001b[0m\u001b[0;34m)\u001b[0m\u001b[0;34m:\u001b[0m\u001b[0;34m\u001b[0m\u001b[0;34m\u001b[0m\u001b[0m\n\u001b[0;32m--> 450\u001b[0;31m         \u001b[0;32mreturn\u001b[0m \u001b[0mself\u001b[0m\u001b[0;34m.\u001b[0m\u001b[0mvisit\u001b[0m\u001b[0;34m(\u001b[0m\u001b[0mnode\u001b[0m\u001b[0;34m.\u001b[0m\u001b[0mvalue\u001b[0m\u001b[0;34m,\u001b[0m \u001b[0;34m**\u001b[0m\u001b[0mkwargs\u001b[0m\u001b[0;34m)\u001b[0m\u001b[0;34m\u001b[0m\u001b[0;34m\u001b[0m\u001b[0m\n\u001b[0m\u001b[1;32m    451\u001b[0m \u001b[0;34m\u001b[0m\u001b[0m\n\u001b[1;32m    452\u001b[0m     \u001b[0;32mdef\u001b[0m \u001b[0m_rewrite_membership_op\u001b[0m\u001b[0;34m(\u001b[0m\u001b[0mself\u001b[0m\u001b[0;34m,\u001b[0m \u001b[0mnode\u001b[0m\u001b[0;34m,\u001b[0m \u001b[0mleft\u001b[0m\u001b[0;34m,\u001b[0m \u001b[0mright\u001b[0m\u001b[0;34m)\u001b[0m\u001b[0;34m:\u001b[0m\u001b[0;34m\u001b[0m\u001b[0;34m\u001b[0m\u001b[0m\n",
        "\u001b[0;32m~/miniconda3/envs/sc-tutorial/lib/python3.7/site-packages/pandas/core/computation/expr.py\u001b[0m in \u001b[0;36mvisit\u001b[0;34m(self, node, **kwargs)\u001b[0m\n\u001b[1;32m    439\u001b[0m         \u001b[0mmethod\u001b[0m \u001b[0;34m=\u001b[0m \u001b[0;34m\"visit_\"\u001b[0m \u001b[0;34m+\u001b[0m \u001b[0mnode\u001b[0m\u001b[0;34m.\u001b[0m\u001b[0m__class__\u001b[0m\u001b[0;34m.\u001b[0m\u001b[0m__name__\u001b[0m\u001b[0;34m\u001b[0m\u001b[0;34m\u001b[0m\u001b[0m\n\u001b[1;32m    440\u001b[0m         \u001b[0mvisitor\u001b[0m \u001b[0;34m=\u001b[0m \u001b[0mgetattr\u001b[0m\u001b[0;34m(\u001b[0m\u001b[0mself\u001b[0m\u001b[0;34m,\u001b[0m \u001b[0mmethod\u001b[0m\u001b[0;34m)\u001b[0m\u001b[0;34m\u001b[0m\u001b[0;34m\u001b[0m\u001b[0m\n\u001b[0;32m--> 441\u001b[0;31m         \u001b[0;32mreturn\u001b[0m \u001b[0mvisitor\u001b[0m\u001b[0;34m(\u001b[0m\u001b[0mnode\u001b[0m\u001b[0;34m,\u001b[0m \u001b[0;34m**\u001b[0m\u001b[0mkwargs\u001b[0m\u001b[0;34m)\u001b[0m\u001b[0;34m\u001b[0m\u001b[0;34m\u001b[0m\u001b[0m\n\u001b[0m\u001b[1;32m    442\u001b[0m \u001b[0;34m\u001b[0m\u001b[0m\n\u001b[1;32m    443\u001b[0m     \u001b[0;32mdef\u001b[0m \u001b[0mvisit_Module\u001b[0m\u001b[0;34m(\u001b[0m\u001b[0mself\u001b[0m\u001b[0;34m,\u001b[0m \u001b[0mnode\u001b[0m\u001b[0;34m,\u001b[0m \u001b[0;34m**\u001b[0m\u001b[0mkwargs\u001b[0m\u001b[0;34m)\u001b[0m\u001b[0;34m:\u001b[0m\u001b[0;34m\u001b[0m\u001b[0;34m\u001b[0m\u001b[0m\n",
        "\u001b[0;32m~/miniconda3/envs/sc-tutorial/lib/python3.7/site-packages/pandas/core/computation/expr.py\u001b[0m in \u001b[0;36mvisit_BoolOp\u001b[0;34m(self, node, **kwargs)\u001b[0m\n\u001b[1;32m    772\u001b[0m \u001b[0;34m\u001b[0m\u001b[0m\n\u001b[1;32m    773\u001b[0m         \u001b[0moperands\u001b[0m \u001b[0;34m=\u001b[0m \u001b[0mnode\u001b[0m\u001b[0;34m.\u001b[0m\u001b[0mvalues\u001b[0m\u001b[0;34m\u001b[0m\u001b[0;34m\u001b[0m\u001b[0m\n\u001b[0;32m--> 774\u001b[0;31m         \u001b[0;32mreturn\u001b[0m \u001b[0mreduce\u001b[0m\u001b[0;34m(\u001b[0m\u001b[0mvisitor\u001b[0m\u001b[0;34m,\u001b[0m \u001b[0moperands\u001b[0m\u001b[0;34m)\u001b[0m\u001b[0;34m\u001b[0m\u001b[0;34m\u001b[0m\u001b[0m\n\u001b[0m\u001b[1;32m    775\u001b[0m \u001b[0;34m\u001b[0m\u001b[0m\n\u001b[1;32m    776\u001b[0m \u001b[0;34m\u001b[0m\u001b[0m\n",
        "\u001b[0;32m~/miniconda3/envs/sc-tutorial/lib/python3.7/site-packages/pandas/core/computation/expr.py\u001b[0m in \u001b[0;36mvisitor\u001b[0;34m(x, y)\u001b[0m\n\u001b[1;32m    769\u001b[0m \u001b[0;34m\u001b[0m\u001b[0m\n\u001b[1;32m    770\u001b[0m             \u001b[0mop\u001b[0m\u001b[0;34m,\u001b[0m \u001b[0mop_class\u001b[0m\u001b[0;34m,\u001b[0m \u001b[0mlhs\u001b[0m\u001b[0;34m,\u001b[0m \u001b[0mrhs\u001b[0m \u001b[0;34m=\u001b[0m \u001b[0mself\u001b[0m\u001b[0;34m.\u001b[0m\u001b[0m_maybe_transform_eq_ne\u001b[0m\u001b[0;34m(\u001b[0m\u001b[0mnode\u001b[0m\u001b[0;34m,\u001b[0m \u001b[0mlhs\u001b[0m\u001b[0;34m,\u001b[0m \u001b[0mrhs\u001b[0m\u001b[0;34m)\u001b[0m\u001b[0;34m\u001b[0m\u001b[0;34m\u001b[0m\u001b[0m\n\u001b[0;32m--> 771\u001b[0;31m             \u001b[0;32mreturn\u001b[0m \u001b[0mself\u001b[0m\u001b[0;34m.\u001b[0m\u001b[0m_maybe_evaluate_binop\u001b[0m\u001b[0;34m(\u001b[0m\u001b[0mop\u001b[0m\u001b[0;34m,\u001b[0m \u001b[0mnode\u001b[0m\u001b[0;34m.\u001b[0m\u001b[0mop\u001b[0m\u001b[0;34m,\u001b[0m \u001b[0mlhs\u001b[0m\u001b[0;34m,\u001b[0m \u001b[0mrhs\u001b[0m\u001b[0;34m)\u001b[0m\u001b[0;34m\u001b[0m\u001b[0;34m\u001b[0m\u001b[0m\n\u001b[0m\u001b[1;32m    772\u001b[0m \u001b[0;34m\u001b[0m\u001b[0m\n\u001b[1;32m    773\u001b[0m         \u001b[0moperands\u001b[0m \u001b[0;34m=\u001b[0m \u001b[0mnode\u001b[0m\u001b[0;34m.\u001b[0m\u001b[0mvalues\u001b[0m\u001b[0;34m\u001b[0m\u001b[0;34m\u001b[0m\u001b[0m\n",
        "\u001b[0;32m~/miniconda3/envs/sc-tutorial/lib/python3.7/site-packages/pandas/core/computation/expr.py\u001b[0m in \u001b[0;36m_maybe_evaluate_binop\u001b[0;34m(self, op, op_class, lhs, rhs, eval_in_python, maybe_eval_in_python)\u001b[0m\n\u001b[1;32m    529\u001b[0m         \u001b[0mmaybe_eval_in_python\u001b[0m\u001b[0;34m=\u001b[0m\u001b[0;34m(\u001b[0m\u001b[0;34m\"==\"\u001b[0m\u001b[0;34m,\u001b[0m \u001b[0;34m\"!=\"\u001b[0m\u001b[0;34m,\u001b[0m \u001b[0;34m\"<\"\u001b[0m\u001b[0;34m,\u001b[0m \u001b[0;34m\">\"\u001b[0m\u001b[0;34m,\u001b[0m \u001b[0;34m\"<=\"\u001b[0m\u001b[0;34m,\u001b[0m \u001b[0;34m\">=\"\u001b[0m\u001b[0;34m)\u001b[0m\u001b[0;34m,\u001b[0m\u001b[0;34m\u001b[0m\u001b[0;34m\u001b[0m\u001b[0m\n\u001b[1;32m    530\u001b[0m     ):\n\u001b[0;32m--> 531\u001b[0;31m         \u001b[0mres\u001b[0m \u001b[0;34m=\u001b[0m \u001b[0mop\u001b[0m\u001b[0;34m(\u001b[0m\u001b[0mlhs\u001b[0m\u001b[0;34m,\u001b[0m \u001b[0mrhs\u001b[0m\u001b[0;34m)\u001b[0m\u001b[0;34m\u001b[0m\u001b[0;34m\u001b[0m\u001b[0m\n\u001b[0m\u001b[1;32m    532\u001b[0m \u001b[0;34m\u001b[0m\u001b[0m\n\u001b[1;32m    533\u001b[0m         \u001b[0;32mif\u001b[0m \u001b[0mres\u001b[0m\u001b[0;34m.\u001b[0m\u001b[0mhas_invalid_return_type\u001b[0m\u001b[0;34m:\u001b[0m\u001b[0;34m\u001b[0m\u001b[0;34m\u001b[0m\u001b[0m\n",
        "\u001b[0;32m~/miniconda3/envs/sc-tutorial/lib/python3.7/site-packages/pandas/core/computation/ops.py\u001b[0m in \u001b[0;36m__init__\u001b[0;34m(self, op, lhs, rhs, **kwargs)\u001b[0m\n\u001b[1;32m    344\u001b[0m         \u001b[0mself\u001b[0m\u001b[0;34m.\u001b[0m\u001b[0mrhs\u001b[0m \u001b[0;34m=\u001b[0m \u001b[0mrhs\u001b[0m\u001b[0;34m\u001b[0m\u001b[0;34m\u001b[0m\u001b[0m\n\u001b[1;32m    345\u001b[0m \u001b[0;34m\u001b[0m\u001b[0m\n\u001b[0;32m--> 346\u001b[0;31m         \u001b[0mself\u001b[0m\u001b[0;34m.\u001b[0m\u001b[0m_disallow_scalar_only_bool_ops\u001b[0m\u001b[0;34m(\u001b[0m\u001b[0;34m)\u001b[0m\u001b[0;34m\u001b[0m\u001b[0;34m\u001b[0m\u001b[0m\n\u001b[0m\u001b[1;32m    347\u001b[0m \u001b[0;34m\u001b[0m\u001b[0m\n\u001b[1;32m    348\u001b[0m         \u001b[0mself\u001b[0m\u001b[0;34m.\u001b[0m\u001b[0mconvert_values\u001b[0m\u001b[0;34m(\u001b[0m\u001b[0;34m)\u001b[0m\u001b[0;34m\u001b[0m\u001b[0;34m\u001b[0m\u001b[0m\n",
        "\u001b[0;32m~/miniconda3/envs/sc-tutorial/lib/python3.7/site-packages/pandas/core/computation/ops.py\u001b[0m in \u001b[0;36m_disallow_scalar_only_bool_ops\u001b[0;34m(self)\u001b[0m\n\u001b[1;32m    464\u001b[0m                 not (\n\u001b[1;32m    465\u001b[0m                     \u001b[0missubclass\u001b[0m\u001b[0;34m(\u001b[0m\u001b[0mself\u001b[0m\u001b[0;34m.\u001b[0m\u001b[0mrhs\u001b[0m\u001b[0;34m.\u001b[0m\u001b[0mreturn_type\u001b[0m\u001b[0;34m,\u001b[0m \u001b[0;34m(\u001b[0m\u001b[0mbool\u001b[0m\u001b[0;34m,\u001b[0m \u001b[0mnp\u001b[0m\u001b[0;34m.\u001b[0m\u001b[0mbool_\u001b[0m\u001b[0;34m)\u001b[0m\u001b[0;34m)\u001b[0m\u001b[0;34m\u001b[0m\u001b[0;34m\u001b[0m\u001b[0m\n\u001b[0;32m--> 466\u001b[0;31m                     \u001b[0;32mand\u001b[0m \u001b[0missubclass\u001b[0m\u001b[0;34m(\u001b[0m\u001b[0mself\u001b[0m\u001b[0;34m.\u001b[0m\u001b[0mlhs\u001b[0m\u001b[0;34m.\u001b[0m\u001b[0mreturn_type\u001b[0m\u001b[0;34m,\u001b[0m \u001b[0;34m(\u001b[0m\u001b[0mbool\u001b[0m\u001b[0;34m,\u001b[0m \u001b[0mnp\u001b[0m\u001b[0;34m.\u001b[0m\u001b[0mbool_\u001b[0m\u001b[0;34m)\u001b[0m\u001b[0;34m)\u001b[0m\u001b[0;34m\u001b[0m\u001b[0;34m\u001b[0m\u001b[0m\n\u001b[0m\u001b[1;32m    467\u001b[0m                 )\n\u001b[1;32m    468\u001b[0m             )\n",
        "\u001b[0;31mTypeError\u001b[0m: issubclass() arg 1 must be a class"
       ]
      }
     ],
     "persistentId": "759e3e68-7cf8-47c2-8960-26b3b7d26794",
     "text": "one2one = 'ortholog_one2one'\nlemur2human = 'mouse_lemur_to_human__homology_type'\nhuman2mouse = 'human_to_mouse__homology_type'\n\ngene_orthologies_one2one = gene_orthologies.query(\"(mouse_lemur_to_human__homology_type == @one2one) & (@human2mouse == @one2one)\")\nprint(gene_orthologies_one2one.shape)\ngene_orthologies_one2one.head()"
    },
    "executionTime": "2019-12-14T00:55:36.021Z"
   },
   {
    "cell": {
     "executionCount": 51,
     "executionEventId": "b6db15e1-2f75-46c1-9ea1-5c640335ac27",
     "hasError": false,
     "id": "c77dd9b3-9026-4872-b8aa-5aff0b84b366",
     "outputs": [
      {
       "name": "stdout",
       "output_type": "stream",
       "text": "(13599, 5)\n"
      },
      {
       "data": {
        "text/html": "<div>\n<style scoped>\n    .dataframe tbody tr th:only-of-type {\n        vertical-align: middle;\n    }\n\n    .dataframe tbody tr th {\n        vertical-align: top;\n    }\n\n    .dataframe thead th {\n        text-align: right;\n    }\n</style>\n<table border=\"1\" class=\"dataframe\">\n  <thead>\n    <tr style=\"text-align: right;\">\n      <th></th>\n      <th>mouse_lemur__gene_name</th>\n      <th>mouse_lemur_to_human__homology_type</th>\n      <th>human__gene_name</th>\n      <th>human_to_mouse__homology_type</th>\n      <th>mouse__gene_name</th>\n    </tr>\n  </thead>\n  <tbody>\n    <tr>\n      <th>0</th>\n      <td>ND1</td>\n      <td>ortholog_one2one</td>\n      <td>MT-ND1</td>\n      <td>ortholog_one2one</td>\n      <td>mt-Nd1</td>\n    </tr>\n    <tr>\n      <th>1</th>\n      <td>ND2</td>\n      <td>ortholog_one2one</td>\n      <td>MT-ND2</td>\n      <td>ortholog_one2one</td>\n      <td>mt-Nd2</td>\n    </tr>\n    <tr>\n      <th>2</th>\n      <td>COX1</td>\n      <td>ortholog_one2one</td>\n      <td>MT-CO1</td>\n      <td>ortholog_one2one</td>\n      <td>mt-Co1</td>\n    </tr>\n    <tr>\n      <th>3</th>\n      <td>COX2</td>\n      <td>ortholog_one2one</td>\n      <td>MT-CO2</td>\n      <td>ortholog_one2one</td>\n      <td>mt-Co2</td>\n    </tr>\n    <tr>\n      <th>4</th>\n      <td>ATP8</td>\n      <td>ortholog_one2one</td>\n      <td>MT-ATP8</td>\n      <td>ortholog_one2one</td>\n      <td>mt-Atp8</td>\n    </tr>\n  </tbody>\n</table>\n</div>",
        "text/plain": "  mouse_lemur__gene_name mouse_lemur_to_human__homology_type human__gene_name  \\\n0                    ND1                    ortholog_one2one           MT-ND1   \n1                    ND2                    ortholog_one2one           MT-ND2   \n2                   COX1                    ortholog_one2one           MT-CO1   \n3                   COX2                    ortholog_one2one           MT-CO2   \n4                   ATP8                    ortholog_one2one          MT-ATP8   \n\n  human_to_mouse__homology_type mouse__gene_name  \n0              ortholog_one2one           mt-Nd1  \n1              ortholog_one2one           mt-Nd2  \n2              ortholog_one2one           mt-Co1  \n3              ortholog_one2one           mt-Co2  \n4              ortholog_one2one          mt-Atp8  "
       },
       "execution_count": 51,
       "metadata": {},
       "output_type": "execute_result"
      }
     ],
     "persistentId": "759e3e68-7cf8-47c2-8960-26b3b7d26794",
     "text": "one2one = 'ortholog_one2one'\nlemur2human = 'mouse_lemur_to_human__homology_type'\nhuman2mouse = 'human_to_mouse__homology_type'\n\ngene_orthologies_one2one = gene_orthologies.query(\"(mouse_lemur_to_human__homology_type == @one2one) & (human_to_mouse__homology_type == @one2one)\")\nprint(gene_orthologies_one2one.shape)\ngene_orthologies_one2one.head()"
    },
    "executionTime": "2019-12-14T00:55:42.986Z"
   },
   {
    "cell": {
     "executionCount": 52,
     "executionEventId": "77516e33-fb05-45d1-8d7f-89104089f2e8",
     "hasError": false,
     "id": "c4b60646-db25-46c0-aca5-d734b42e63ac",
     "outputs": [
      {
       "data": {
        "text/plain": "(13599, 5)"
       },
       "execution_count": 52,
       "metadata": {},
       "output_type": "execute_result"
      }
     ],
     "persistentId": "0da9752b-b41f-446c-9b64-bd6dd8ed8b96",
     "text": "gene_orthologies_one2one.drop_duplicates().shape"
    },
    "executionTime": "2019-12-14T00:56:21.394Z"
   },
   {
    "cell": {
     "executionCount": 53,
     "executionEventId": "4a1d3558-2335-4074-85ca-fda89e011493",
     "hasError": true,
     "id": "6c0e8c25-32f7-402d-b0bf-3559d5377b60",
     "outputs": [
      {
       "ename": "AttributeError",
       "evalue": "'AnnData' object has no attribute 'vars'",
       "output_type": "error",
       "traceback": [
        "\u001b[0;31m---------------------------------------------------------------------------\u001b[0m",
        "\u001b[0;31mAttributeError\u001b[0m                            Traceback (most recent call last)",
        "\u001b[0;32m<ipython-input-53-70467d70e079>\u001b[0m in \u001b[0;36m<module>\u001b[0;34m\u001b[0m\n\u001b[0;32m----> 1\u001b[0;31m \u001b[0mgene_mask\u001b[0m \u001b[0;34m=\u001b[0m \u001b[0mmouse\u001b[0m\u001b[0;34m.\u001b[0m\u001b[0mvars\u001b[0m\u001b[0;34m.\u001b[0m\u001b[0misin\u001b[0m\u001b[0;34m(\u001b[0m\u001b[0mgene_orthologies_one2one\u001b[0m\u001b[0;34m[\u001b[0m\u001b[0;34m'mouse__gene_name'\u001b[0m\u001b[0;34m]\u001b[0m\u001b[0;34m)\u001b[0m\u001b[0;34m\u001b[0m\u001b[0;34m\u001b[0m\u001b[0m\n\u001b[0m\u001b[1;32m      2\u001b[0m \u001b[0mprint\u001b[0m\u001b[0;34m(\u001b[0m\u001b[0mgene_mask\u001b[0m\u001b[0;34m.\u001b[0m\u001b[0msum\u001b[0m\u001b[0;34m(\u001b[0m\u001b[0;34m)\u001b[0m\u001b[0;34m)\u001b[0m\u001b[0;34m\u001b[0m\u001b[0;34m\u001b[0m\u001b[0m\n\u001b[1;32m      3\u001b[0m \u001b[0mmouse_one2one\u001b[0m \u001b[0;34m=\u001b[0m \u001b[0mmouse\u001b[0m\u001b[0;34m[\u001b[0m\u001b[0;34m:\u001b[0m\u001b[0;34m,\u001b[0m \u001b[0mgene_mask\u001b[0m\u001b[0;34m]\u001b[0m\u001b[0;34m\u001b[0m\u001b[0;34m\u001b[0m\u001b[0m\n\u001b[1;32m      4\u001b[0m \u001b[0mmouse_one2one\u001b[0m\u001b[0;34m\u001b[0m\u001b[0;34m\u001b[0m\u001b[0m\n",
        "\u001b[0;31mAttributeError\u001b[0m: 'AnnData' object has no attribute 'vars'"
       ]
      }
     ],
     "persistentId": "30aa843b-5ce3-427b-bce4-5e5ee4cd909f",
     "text": "gene_mask = mouse.vars.isin(gene_orthologies_one2one['mouse__gene_name'])\nprint(gene_mask.sum())\nmouse_one2one = mouse[:, gene_mask]\nmouse_one2one"
    },
    "executionTime": "2019-12-14T00:56:28.424Z"
   },
   {
    "cell": {
     "executionCount": 54,
     "executionEventId": "3699dce1-a71a-4f9e-abde-99dc23d922da",
     "hasError": true,
     "id": "6c0e8c25-32f7-402d-b0bf-3559d5377b60",
     "outputs": [
      {
       "name": "stdout",
       "output_type": "stream",
       "text": "n_cells             0\nmeans               0\ndispersions         0\ndispersions_norm    0\nhighly_variable     0\ndtype: int64\n"
      },
      {
       "ename": "IndexError",
       "evalue": "Unknown index               n_cells  means  dispersions  dispersions_norm  highly_variable\nindex                                                                       \nXkr4            False  False        False             False            False\nRp1             False  False        False             False            False\nSox17           False  False        False             False            False\nMrpl15          False  False        False             False            False\nLypla1          False  False        False             False            False\n...               ...    ...          ...               ...              ...\nLOC434960       False  False        False             False            False\nLOC380994       False  False        False             False            False\nLOC100041346    False  False        False             False            False\nSly             False  False        False             False            False\nErdr1           False  False        False             False            False\n\n[20138 rows x 5 columns] of type <class 'pandas.core.frame.DataFrame'>",
       "output_type": "error",
       "traceback": [
        "\u001b[0;31m---------------------------------------------------------------------------\u001b[0m",
        "\u001b[0;31mIndexError\u001b[0m                                Traceback (most recent call last)",
        "\u001b[0;32m<ipython-input-54-b8a1643c311d>\u001b[0m in \u001b[0;36m<module>\u001b[0;34m\u001b[0m\n\u001b[1;32m      1\u001b[0m \u001b[0mgene_mask\u001b[0m \u001b[0;34m=\u001b[0m \u001b[0mmouse\u001b[0m\u001b[0;34m.\u001b[0m\u001b[0mvar\u001b[0m\u001b[0;34m.\u001b[0m\u001b[0misin\u001b[0m\u001b[0;34m(\u001b[0m\u001b[0mgene_orthologies_one2one\u001b[0m\u001b[0;34m[\u001b[0m\u001b[0;34m'mouse__gene_name'\u001b[0m\u001b[0;34m]\u001b[0m\u001b[0;34m)\u001b[0m\u001b[0;34m\u001b[0m\u001b[0;34m\u001b[0m\u001b[0m\n\u001b[1;32m      2\u001b[0m \u001b[0mprint\u001b[0m\u001b[0;34m(\u001b[0m\u001b[0mgene_mask\u001b[0m\u001b[0;34m.\u001b[0m\u001b[0msum\u001b[0m\u001b[0;34m(\u001b[0m\u001b[0;34m)\u001b[0m\u001b[0;34m)\u001b[0m\u001b[0;34m\u001b[0m\u001b[0;34m\u001b[0m\u001b[0m\n\u001b[0;32m----> 3\u001b[0;31m \u001b[0mmouse_one2one\u001b[0m \u001b[0;34m=\u001b[0m \u001b[0mmouse\u001b[0m\u001b[0;34m[\u001b[0m\u001b[0;34m:\u001b[0m\u001b[0;34m,\u001b[0m \u001b[0mgene_mask\u001b[0m\u001b[0;34m]\u001b[0m\u001b[0;34m\u001b[0m\u001b[0;34m\u001b[0m\u001b[0m\n\u001b[0m\u001b[1;32m      4\u001b[0m \u001b[0mmouse_one2one\u001b[0m\u001b[0;34m\u001b[0m\u001b[0;34m\u001b[0m\u001b[0m\n",
        "\u001b[0;32m~/miniconda3/envs/sc-tutorial/lib/python3.7/site-packages/anndata/core/anndata.py\u001b[0m in \u001b[0;36m__getitem__\u001b[0;34m(self, index)\u001b[0m\n\u001b[1;32m   1228\u001b[0m     \u001b[0;32mdef\u001b[0m \u001b[0m__getitem__\u001b[0m\u001b[0;34m(\u001b[0m\u001b[0mself\u001b[0m\u001b[0;34m,\u001b[0m \u001b[0mindex\u001b[0m\u001b[0;34m:\u001b[0m \u001b[0mIndex\u001b[0m\u001b[0;34m)\u001b[0m \u001b[0;34m->\u001b[0m \u001b[0;34m'AnnData'\u001b[0m\u001b[0;34m:\u001b[0m\u001b[0;34m\u001b[0m\u001b[0;34m\u001b[0m\u001b[0m\n\u001b[1;32m   1229\u001b[0m         \u001b[0;34m\"\"\"Returns a sliced view of the object.\"\"\"\u001b[0m\u001b[0;34m\u001b[0m\u001b[0;34m\u001b[0m\u001b[0m\n\u001b[0;32m-> 1230\u001b[0;31m         \u001b[0;32mreturn\u001b[0m \u001b[0mself\u001b[0m\u001b[0;34m.\u001b[0m\u001b[0m_getitem_view\u001b[0m\u001b[0;34m(\u001b[0m\u001b[0mindex\u001b[0m\u001b[0;34m)\u001b[0m\u001b[0;34m\u001b[0m\u001b[0;34m\u001b[0m\u001b[0m\n\u001b[0m\u001b[1;32m   1231\u001b[0m \u001b[0;34m\u001b[0m\u001b[0m\n\u001b[1;32m   1232\u001b[0m     \u001b[0;32mdef\u001b[0m \u001b[0m_getitem_view\u001b[0m\u001b[0;34m(\u001b[0m\u001b[0mself\u001b[0m\u001b[0;34m,\u001b[0m \u001b[0mindex\u001b[0m\u001b[0;34m:\u001b[0m \u001b[0mIndex\u001b[0m\u001b[0;34m)\u001b[0m \u001b[0;34m->\u001b[0m \u001b[0;34m'AnnData'\u001b[0m\u001b[0;34m:\u001b[0m\u001b[0;34m\u001b[0m\u001b[0;34m\u001b[0m\u001b[0m\n",
        "\u001b[0;32m~/miniconda3/envs/sc-tutorial/lib/python3.7/site-packages/anndata/core/anndata.py\u001b[0m in \u001b[0;36m_getitem_view\u001b[0;34m(self, index)\u001b[0m\n\u001b[1;32m   1231\u001b[0m \u001b[0;34m\u001b[0m\u001b[0m\n\u001b[1;32m   1232\u001b[0m     \u001b[0;32mdef\u001b[0m \u001b[0m_getitem_view\u001b[0m\u001b[0;34m(\u001b[0m\u001b[0mself\u001b[0m\u001b[0;34m,\u001b[0m \u001b[0mindex\u001b[0m\u001b[0;34m:\u001b[0m \u001b[0mIndex\u001b[0m\u001b[0;34m)\u001b[0m \u001b[0;34m->\u001b[0m \u001b[0;34m'AnnData'\u001b[0m\u001b[0;34m:\u001b[0m\u001b[0;34m\u001b[0m\u001b[0;34m\u001b[0m\u001b[0m\n\u001b[0;32m-> 1233\u001b[0;31m         \u001b[0moidx\u001b[0m\u001b[0;34m,\u001b[0m \u001b[0mvidx\u001b[0m \u001b[0;34m=\u001b[0m \u001b[0mself\u001b[0m\u001b[0;34m.\u001b[0m\u001b[0m_normalize_indices\u001b[0m\u001b[0;34m(\u001b[0m\u001b[0mindex\u001b[0m\u001b[0;34m)\u001b[0m\u001b[0;34m\u001b[0m\u001b[0;34m\u001b[0m\u001b[0m\n\u001b[0m\u001b[1;32m   1234\u001b[0m         \u001b[0;32mreturn\u001b[0m \u001b[0mAnnData\u001b[0m\u001b[0;34m(\u001b[0m\u001b[0mself\u001b[0m\u001b[0;34m,\u001b[0m \u001b[0moidx\u001b[0m\u001b[0;34m=\u001b[0m\u001b[0moidx\u001b[0m\u001b[0;34m,\u001b[0m \u001b[0mvidx\u001b[0m\u001b[0;34m=\u001b[0m\u001b[0mvidx\u001b[0m\u001b[0;34m,\u001b[0m \u001b[0masview\u001b[0m\u001b[0;34m=\u001b[0m\u001b[0;32mTrue\u001b[0m\u001b[0;34m)\u001b[0m\u001b[0;34m\u001b[0m\u001b[0;34m\u001b[0m\u001b[0m\n\u001b[1;32m   1235\u001b[0m \u001b[0;34m\u001b[0m\u001b[0m\n",
        "\u001b[0;32m~/miniconda3/envs/sc-tutorial/lib/python3.7/site-packages/anndata/core/anndata.py\u001b[0m in \u001b[0;36m_normalize_indices\u001b[0;34m(self, index)\u001b[0m\n\u001b[1;32m   1208\u001b[0m         \u001b[0mobs\u001b[0m\u001b[0;34m,\u001b[0m \u001b[0mvar\u001b[0m \u001b[0;34m=\u001b[0m \u001b[0munpack_index\u001b[0m\u001b[0;34m(\u001b[0m\u001b[0mindex\u001b[0m\u001b[0;34m)\u001b[0m\u001b[0;34m\u001b[0m\u001b[0;34m\u001b[0m\u001b[0m\n\u001b[1;32m   1209\u001b[0m         \u001b[0mobs\u001b[0m \u001b[0;34m=\u001b[0m \u001b[0m_normalize_index\u001b[0m\u001b[0;34m(\u001b[0m\u001b[0mobs\u001b[0m\u001b[0;34m,\u001b[0m \u001b[0mself\u001b[0m\u001b[0;34m.\u001b[0m\u001b[0mobs_names\u001b[0m\u001b[0;34m)\u001b[0m\u001b[0;34m\u001b[0m\u001b[0;34m\u001b[0m\u001b[0m\n\u001b[0;32m-> 1210\u001b[0;31m         \u001b[0mvar\u001b[0m \u001b[0;34m=\u001b[0m \u001b[0m_normalize_index\u001b[0m\u001b[0;34m(\u001b[0m\u001b[0mvar\u001b[0m\u001b[0;34m,\u001b[0m \u001b[0mself\u001b[0m\u001b[0;34m.\u001b[0m\u001b[0mvar_names\u001b[0m\u001b[0;34m)\u001b[0m\u001b[0;34m\u001b[0m\u001b[0;34m\u001b[0m\u001b[0m\n\u001b[0m\u001b[1;32m   1211\u001b[0m         \u001b[0;32mreturn\u001b[0m \u001b[0mobs\u001b[0m\u001b[0;34m,\u001b[0m \u001b[0mvar\u001b[0m\u001b[0;34m\u001b[0m\u001b[0;34m\u001b[0m\u001b[0m\n\u001b[1;32m   1212\u001b[0m \u001b[0;34m\u001b[0m\u001b[0m\n",
        "\u001b[0;32m~/miniconda3/envs/sc-tutorial/lib/python3.7/site-packages/anndata/core/anndata.py\u001b[0m in \u001b[0;36m_normalize_index\u001b[0;34m(index, names)\u001b[0m\n\u001b[1;32m    167\u001b[0m     \u001b[0;32melse\u001b[0m\u001b[0;34m:\u001b[0m\u001b[0;34m\u001b[0m\u001b[0;34m\u001b[0m\u001b[0m\n\u001b[1;32m    168\u001b[0m         raise IndexError('Unknown index {!r} of type {}'\n\u001b[0;32m--> 169\u001b[0;31m                          .format(index, type(index)))\n\u001b[0m\u001b[1;32m    170\u001b[0m \u001b[0;34m\u001b[0m\u001b[0m\n\u001b[1;32m    171\u001b[0m \u001b[0;34m\u001b[0m\u001b[0m\n",
        "\u001b[0;31mIndexError\u001b[0m: Unknown index               n_cells  means  dispersions  dispersions_norm  highly_variable\nindex                                                                       \nXkr4            False  False        False             False            False\nRp1             False  False        False             False            False\nSox17           False  False        False             False            False\nMrpl15          False  False        False             False            False\nLypla1          False  False        False             False            False\n...               ...    ...          ...               ...              ...\nLOC434960       False  False        False             False            False\nLOC380994       False  False        False             False            False\nLOC100041346    False  False        False             False            False\nSly             False  False        False             False            False\nErdr1           False  False        False             False            False\n\n[20138 rows x 5 columns] of type <class 'pandas.core.frame.DataFrame'>"
       ]
      }
     ],
     "persistentId": "30aa843b-5ce3-427b-bce4-5e5ee4cd909f",
     "text": "gene_mask = mouse.var.isin(gene_orthologies_one2one['mouse__gene_name'])\nprint(gene_mask.sum())\nmouse_one2one = mouse[:, gene_mask]\nmouse_one2one"
    },
    "executionTime": "2019-12-14T00:56:35.857Z"
   },
   {
    "cell": {
     "executionCount": 55,
     "executionEventId": "cac17adf-d3ba-42a0-8c5e-ec36992c9297",
     "hasError": true,
     "id": "6c0e8c25-32f7-402d-b0bf-3559d5377b60",
     "outputs": [
      {
       "name": "stdout",
       "output_type": "stream",
       "text": "n_cells             0\nmeans               0\ndispersions         0\ndispersions_norm    0\nhighly_variable     0\ndtype: int64\n"
      },
      {
       "ename": "IndexError",
       "evalue": "Unknown index               n_cells  means  dispersions  dispersions_norm  highly_variable\nindex                                                                       \nXkr4            False  False        False             False            False\nRp1             False  False        False             False            False\nSox17           False  False        False             False            False\nMrpl15          False  False        False             False            False\nLypla1          False  False        False             False            False\n...               ...    ...          ...               ...              ...\nLOC434960       False  False        False             False            False\nLOC380994       False  False        False             False            False\nLOC100041346    False  False        False             False            False\nSly             False  False        False             False            False\nErdr1           False  False        False             False            False\n\n[20138 rows x 5 columns] of type <class 'pandas.core.frame.DataFrame'>",
       "output_type": "error",
       "traceback": [
        "\u001b[0;31m---------------------------------------------------------------------------\u001b[0m",
        "\u001b[0;31mIndexError\u001b[0m                                Traceback (most recent call last)",
        "\u001b[0;32m<ipython-input-55-958eb3c9588a>\u001b[0m in \u001b[0;36m<module>\u001b[0;34m\u001b[0m\n\u001b[1;32m      1\u001b[0m \u001b[0mgene_mask\u001b[0m \u001b[0;34m=\u001b[0m \u001b[0mmouse\u001b[0m\u001b[0;34m.\u001b[0m\u001b[0mvar\u001b[0m\u001b[0;34m.\u001b[0m\u001b[0misin\u001b[0m\u001b[0;34m(\u001b[0m\u001b[0mgene_orthologies_one2one\u001b[0m\u001b[0;34m[\u001b[0m\u001b[0;34m'mouse__gene_name'\u001b[0m\u001b[0;34m]\u001b[0m\u001b[0;34m.\u001b[0m\u001b[0mvalues\u001b[0m\u001b[0;34m)\u001b[0m\u001b[0;34m\u001b[0m\u001b[0;34m\u001b[0m\u001b[0m\n\u001b[1;32m      2\u001b[0m \u001b[0mprint\u001b[0m\u001b[0;34m(\u001b[0m\u001b[0mgene_mask\u001b[0m\u001b[0;34m.\u001b[0m\u001b[0msum\u001b[0m\u001b[0;34m(\u001b[0m\u001b[0;34m)\u001b[0m\u001b[0;34m)\u001b[0m\u001b[0;34m\u001b[0m\u001b[0;34m\u001b[0m\u001b[0m\n\u001b[0;32m----> 3\u001b[0;31m \u001b[0mmouse_one2one\u001b[0m \u001b[0;34m=\u001b[0m \u001b[0mmouse\u001b[0m\u001b[0;34m[\u001b[0m\u001b[0;34m:\u001b[0m\u001b[0;34m,\u001b[0m \u001b[0mgene_mask\u001b[0m\u001b[0;34m]\u001b[0m\u001b[0;34m\u001b[0m\u001b[0;34m\u001b[0m\u001b[0m\n\u001b[0m\u001b[1;32m      4\u001b[0m \u001b[0mmouse_one2one\u001b[0m\u001b[0;34m\u001b[0m\u001b[0;34m\u001b[0m\u001b[0m\n",
        "\u001b[0;32m~/miniconda3/envs/sc-tutorial/lib/python3.7/site-packages/anndata/core/anndata.py\u001b[0m in \u001b[0;36m__getitem__\u001b[0;34m(self, index)\u001b[0m\n\u001b[1;32m   1228\u001b[0m     \u001b[0;32mdef\u001b[0m \u001b[0m__getitem__\u001b[0m\u001b[0;34m(\u001b[0m\u001b[0mself\u001b[0m\u001b[0;34m,\u001b[0m \u001b[0mindex\u001b[0m\u001b[0;34m:\u001b[0m \u001b[0mIndex\u001b[0m\u001b[0;34m)\u001b[0m \u001b[0;34m->\u001b[0m \u001b[0;34m'AnnData'\u001b[0m\u001b[0;34m:\u001b[0m\u001b[0;34m\u001b[0m\u001b[0;34m\u001b[0m\u001b[0m\n\u001b[1;32m   1229\u001b[0m         \u001b[0;34m\"\"\"Returns a sliced view of the object.\"\"\"\u001b[0m\u001b[0;34m\u001b[0m\u001b[0;34m\u001b[0m\u001b[0m\n\u001b[0;32m-> 1230\u001b[0;31m         \u001b[0;32mreturn\u001b[0m \u001b[0mself\u001b[0m\u001b[0;34m.\u001b[0m\u001b[0m_getitem_view\u001b[0m\u001b[0;34m(\u001b[0m\u001b[0mindex\u001b[0m\u001b[0;34m)\u001b[0m\u001b[0;34m\u001b[0m\u001b[0;34m\u001b[0m\u001b[0m\n\u001b[0m\u001b[1;32m   1231\u001b[0m \u001b[0;34m\u001b[0m\u001b[0m\n\u001b[1;32m   1232\u001b[0m     \u001b[0;32mdef\u001b[0m \u001b[0m_getitem_view\u001b[0m\u001b[0;34m(\u001b[0m\u001b[0mself\u001b[0m\u001b[0;34m,\u001b[0m \u001b[0mindex\u001b[0m\u001b[0;34m:\u001b[0m \u001b[0mIndex\u001b[0m\u001b[0;34m)\u001b[0m \u001b[0;34m->\u001b[0m \u001b[0;34m'AnnData'\u001b[0m\u001b[0;34m:\u001b[0m\u001b[0;34m\u001b[0m\u001b[0;34m\u001b[0m\u001b[0m\n",
        "\u001b[0;32m~/miniconda3/envs/sc-tutorial/lib/python3.7/site-packages/anndata/core/anndata.py\u001b[0m in \u001b[0;36m_getitem_view\u001b[0;34m(self, index)\u001b[0m\n\u001b[1;32m   1231\u001b[0m \u001b[0;34m\u001b[0m\u001b[0m\n\u001b[1;32m   1232\u001b[0m     \u001b[0;32mdef\u001b[0m \u001b[0m_getitem_view\u001b[0m\u001b[0;34m(\u001b[0m\u001b[0mself\u001b[0m\u001b[0;34m,\u001b[0m \u001b[0mindex\u001b[0m\u001b[0;34m:\u001b[0m \u001b[0mIndex\u001b[0m\u001b[0;34m)\u001b[0m \u001b[0;34m->\u001b[0m \u001b[0;34m'AnnData'\u001b[0m\u001b[0;34m:\u001b[0m\u001b[0;34m\u001b[0m\u001b[0;34m\u001b[0m\u001b[0m\n\u001b[0;32m-> 1233\u001b[0;31m         \u001b[0moidx\u001b[0m\u001b[0;34m,\u001b[0m \u001b[0mvidx\u001b[0m \u001b[0;34m=\u001b[0m \u001b[0mself\u001b[0m\u001b[0;34m.\u001b[0m\u001b[0m_normalize_indices\u001b[0m\u001b[0;34m(\u001b[0m\u001b[0mindex\u001b[0m\u001b[0;34m)\u001b[0m\u001b[0;34m\u001b[0m\u001b[0;34m\u001b[0m\u001b[0m\n\u001b[0m\u001b[1;32m   1234\u001b[0m         \u001b[0;32mreturn\u001b[0m \u001b[0mAnnData\u001b[0m\u001b[0;34m(\u001b[0m\u001b[0mself\u001b[0m\u001b[0;34m,\u001b[0m \u001b[0moidx\u001b[0m\u001b[0;34m=\u001b[0m\u001b[0moidx\u001b[0m\u001b[0;34m,\u001b[0m \u001b[0mvidx\u001b[0m\u001b[0;34m=\u001b[0m\u001b[0mvidx\u001b[0m\u001b[0;34m,\u001b[0m \u001b[0masview\u001b[0m\u001b[0;34m=\u001b[0m\u001b[0;32mTrue\u001b[0m\u001b[0;34m)\u001b[0m\u001b[0;34m\u001b[0m\u001b[0;34m\u001b[0m\u001b[0m\n\u001b[1;32m   1235\u001b[0m \u001b[0;34m\u001b[0m\u001b[0m\n",
        "\u001b[0;32m~/miniconda3/envs/sc-tutorial/lib/python3.7/site-packages/anndata/core/anndata.py\u001b[0m in \u001b[0;36m_normalize_indices\u001b[0;34m(self, index)\u001b[0m\n\u001b[1;32m   1208\u001b[0m         \u001b[0mobs\u001b[0m\u001b[0;34m,\u001b[0m \u001b[0mvar\u001b[0m \u001b[0;34m=\u001b[0m \u001b[0munpack_index\u001b[0m\u001b[0;34m(\u001b[0m\u001b[0mindex\u001b[0m\u001b[0;34m)\u001b[0m\u001b[0;34m\u001b[0m\u001b[0;34m\u001b[0m\u001b[0m\n\u001b[1;32m   1209\u001b[0m         \u001b[0mobs\u001b[0m \u001b[0;34m=\u001b[0m \u001b[0m_normalize_index\u001b[0m\u001b[0;34m(\u001b[0m\u001b[0mobs\u001b[0m\u001b[0;34m,\u001b[0m \u001b[0mself\u001b[0m\u001b[0;34m.\u001b[0m\u001b[0mobs_names\u001b[0m\u001b[0;34m)\u001b[0m\u001b[0;34m\u001b[0m\u001b[0;34m\u001b[0m\u001b[0m\n\u001b[0;32m-> 1210\u001b[0;31m         \u001b[0mvar\u001b[0m \u001b[0;34m=\u001b[0m \u001b[0m_normalize_index\u001b[0m\u001b[0;34m(\u001b[0m\u001b[0mvar\u001b[0m\u001b[0;34m,\u001b[0m \u001b[0mself\u001b[0m\u001b[0;34m.\u001b[0m\u001b[0mvar_names\u001b[0m\u001b[0;34m)\u001b[0m\u001b[0;34m\u001b[0m\u001b[0;34m\u001b[0m\u001b[0m\n\u001b[0m\u001b[1;32m   1211\u001b[0m         \u001b[0;32mreturn\u001b[0m \u001b[0mobs\u001b[0m\u001b[0;34m,\u001b[0m \u001b[0mvar\u001b[0m\u001b[0;34m\u001b[0m\u001b[0;34m\u001b[0m\u001b[0m\n\u001b[1;32m   1212\u001b[0m \u001b[0;34m\u001b[0m\u001b[0m\n",
        "\u001b[0;32m~/miniconda3/envs/sc-tutorial/lib/python3.7/site-packages/anndata/core/anndata.py\u001b[0m in \u001b[0;36m_normalize_index\u001b[0;34m(index, names)\u001b[0m\n\u001b[1;32m    167\u001b[0m     \u001b[0;32melse\u001b[0m\u001b[0;34m:\u001b[0m\u001b[0;34m\u001b[0m\u001b[0;34m\u001b[0m\u001b[0m\n\u001b[1;32m    168\u001b[0m         raise IndexError('Unknown index {!r} of type {}'\n\u001b[0;32m--> 169\u001b[0;31m                          .format(index, type(index)))\n\u001b[0m\u001b[1;32m    170\u001b[0m \u001b[0;34m\u001b[0m\u001b[0m\n\u001b[1;32m    171\u001b[0m \u001b[0;34m\u001b[0m\u001b[0m\n",
        "\u001b[0;31mIndexError\u001b[0m: Unknown index               n_cells  means  dispersions  dispersions_norm  highly_variable\nindex                                                                       \nXkr4            False  False        False             False            False\nRp1             False  False        False             False            False\nSox17           False  False        False             False            False\nMrpl15          False  False        False             False            False\nLypla1          False  False        False             False            False\n...               ...    ...          ...               ...              ...\nLOC434960       False  False        False             False            False\nLOC380994       False  False        False             False            False\nLOC100041346    False  False        False             False            False\nSly             False  False        False             False            False\nErdr1           False  False        False             False            False\n\n[20138 rows x 5 columns] of type <class 'pandas.core.frame.DataFrame'>"
       ]
      }
     ],
     "persistentId": "30aa843b-5ce3-427b-bce4-5e5ee4cd909f",
     "text": "gene_mask = mouse.var.isin(gene_orthologies_one2one['mouse__gene_name'].values)\nprint(gene_mask.sum())\nmouse_one2one = mouse[:, gene_mask]\nmouse_one2one"
    },
    "executionTime": "2019-12-14T00:56:40.065Z"
   },
   {
    "cell": {
     "executionCount": 56,
     "executionEventId": "21e2092f-d8d9-4a9d-96e2-4534d7303584",
     "hasError": false,
     "id": "6c0e8c25-32f7-402d-b0bf-3559d5377b60",
     "outputs": [
      {
       "name": "stdout",
       "output_type": "stream",
       "text": "12104\n"
      },
      {
       "data": {
        "text/plain": "View of AnnData object with n_obs × n_vars = 24540 × 12104 \n    obs: 'age', 'cell', 'cell_ontology_class', 'cell_ontology_id', 'free_annotation', 'method', 'mouse.id', 'n_genes', 'sex', 'subtissue', 'tissue', 'tissue_free_annotation', 'n_counts', 'louvain', 'leiden'\n    var: 'n_cells', 'means', 'dispersions', 'dispersions_norm', 'highly_variable'\n    uns: 'age_colors', 'cell_ontology_class_colors', 'leiden', 'louvain', 'neighbors', 'pca'\n    obsm: 'X_pca', 'X_tsne', 'X_umap'\n    varm: 'PCs'"
       },
       "execution_count": 56,
       "metadata": {},
       "output_type": "execute_result"
      }
     ],
     "persistentId": "30aa843b-5ce3-427b-bce4-5e5ee4cd909f",
     "text": "gene_mask = mouse.var.index.isin(gene_orthologies_one2one['mouse__gene_name'].values)\nprint(gene_mask.sum())\nmouse_one2one = mouse[:, gene_mask]\nmouse_one2one"
    },
    "executionTime": "2019-12-14T00:56:48.438Z"
   },
   {
    "cell": {
     "executionCount": 57,
     "executionEventId": "2f1aef64-8278-4333-a435-63083fc419c8",
     "hasError": false,
     "id": "7fcfe9a0-75ee-4334-b719-6913f5db7c96",
     "outputs": [
      {
       "name": "stdout",
       "output_type": "stream",
       "text": "(12157, 5)\n"
      },
      {
       "data": {
        "text/html": "<div>\n<style scoped>\n    .dataframe tbody tr th:only-of-type {\n        vertical-align: middle;\n    }\n\n    .dataframe tbody tr th {\n        vertical-align: top;\n    }\n\n    .dataframe thead th {\n        text-align: right;\n    }\n</style>\n<table border=\"1\" class=\"dataframe\">\n  <thead>\n    <tr style=\"text-align: right;\">\n      <th></th>\n      <th>mouse_lemur__gene_name</th>\n      <th>mouse_lemur_to_human__homology_type</th>\n      <th>human__gene_name</th>\n      <th>human_to_mouse__homology_type</th>\n      <th>mouse__gene_name</th>\n    </tr>\n  </thead>\n  <tbody>\n    <tr>\n      <th>13</th>\n      <td>SLC6A18</td>\n      <td>ortholog_one2one</td>\n      <td>SLC6A18</td>\n      <td>ortholog_one2one</td>\n      <td>Slc6a18</td>\n    </tr>\n    <tr>\n      <th>14</th>\n      <td>LOC105872179</td>\n      <td>ortholog_one2one</td>\n      <td>CYP26C1</td>\n      <td>ortholog_one2one</td>\n      <td>Cyp26c1</td>\n    </tr>\n    <tr>\n      <th>15</th>\n      <td>FKBP10</td>\n      <td>ortholog_one2one</td>\n      <td>FKBP10</td>\n      <td>ortholog_one2one</td>\n      <td>Fkbp10</td>\n    </tr>\n    <tr>\n      <th>17</th>\n      <td>NPNT</td>\n      <td>ortholog_one2one</td>\n      <td>NPNT</td>\n      <td>ortholog_one2one</td>\n      <td>Npnt</td>\n    </tr>\n    <tr>\n      <th>22</th>\n      <td>KIAA1324L</td>\n      <td>ortholog_one2one</td>\n      <td>KIAA1324L</td>\n      <td>ortholog_one2one</td>\n      <td>9330182L06Rik</td>\n    </tr>\n  </tbody>\n</table>\n</div>",
        "text/plain": "   mouse_lemur__gene_name mouse_lemur_to_human__homology_type  \\\n13                SLC6A18                    ortholog_one2one   \n14           LOC105872179                    ortholog_one2one   \n15                 FKBP10                    ortholog_one2one   \n17                   NPNT                    ortholog_one2one   \n22              KIAA1324L                    ortholog_one2one   \n\n   human__gene_name human_to_mouse__homology_type mouse__gene_name  \n13          SLC6A18              ortholog_one2one          Slc6a18  \n14          CYP26C1              ortholog_one2one          Cyp26c1  \n15           FKBP10              ortholog_one2one           Fkbp10  \n17             NPNT              ortholog_one2one             Npnt  \n22        KIAA1324L              ortholog_one2one    9330182L06Rik  "
       },
       "execution_count": 57,
       "metadata": {},
       "output_type": "execute_result"
      }
     ],
     "persistentId": "dade71f2-d5b8-4826-bdbf-b6ccde51c5f3",
     "text": "gene_orthologies_one2one_in_mouse = gene_orthologies_one2one.query('mouse__gene_name in @mouse_one2one.var.index')\nprint(gene_orthologies_one2one_in_mouse.shape)\ngene_orthologies_one2one_in_mouse.head()"
    },
    "executionTime": "2019-12-14T00:57:22.734Z"
   },
   {
    "cell": {
     "executionCount": 58,
     "executionEventId": "29be6519-ecf8-48c2-bc75-d4846fe22ae6",
     "hasError": false,
     "id": "ec26dcf4-eabd-40f1-a0c4-edaea4a7782f",
     "outputs": [
      {
       "data": {
        "text/plain": "Olfr1031    3\nCyp4f39     3\nCap1        3\nKlrd1       3\nStt3a       2\n           ..\nPhtf2       1\nSept11      1\nIl1rn       1\nPapss2      1\nZfc3h1      1\nName: mouse__gene_name, Length: 13534, dtype: int64"
       },
       "execution_count": 58,
       "metadata": {},
       "output_type": "execute_result"
      }
     ],
     "persistentId": "de871550-581d-4927-8038-48bf2f82508c",
     "text": "gene_orthologies_one2one.mouse__gene_name.value_counts()"
    },
    "executionTime": "2019-12-14T00:57:56.387Z"
   },
   {
    "cell": {
     "executionCount": 60,
     "executionEventId": "04e9db08-def9-437b-bab3-6d99301e7edc",
     "hasError": false,
     "id": "5b610a99-95ba-49bd-8455-5cbc9646d066",
     "outputs": [],
     "persistentId": "ca35ccf2-ea15-4777-baac-770cddc003fd",
     "text": "from collections import Counter"
    },
    "executionTime": "2019-12-14T01:01:40.943Z"
   },
   {
    "cell": {
     "executionCount": 62,
     "executionEventId": "5c694463-36ec-4849-9124-39882a93068c",
     "hasError": false,
     "id": "2e0e8f60-0ac5-4eb5-84fe-81e710af91b6",
     "outputs": [
      {
       "data": {
        "text/plain": "3    13457\n1      126\n2       16\ndtype: int64"
       },
       "execution_count": 62,
       "metadata": {},
       "output_type": "execute_result"
      }
     ],
     "persistentId": "c4d37343-fd9f-42da-9fbd-97aacfbcc5ca",
     "text": "index_count.value_counts()"
    },
    "executionTime": "2019-12-14T01:02:21.032Z"
   },
   {
    "cell": {
     "executionCount": 63,
     "executionEventId": "62799237-121d-4a19-afd3-de9b4f685a4e",
     "hasError": false,
     "id": "ecb83340-55d1-485b-b8c7-63dee55bcee3",
     "outputs": [
      {
       "name": "stdout",
       "output_type": "stream",
       "text": "(13457, 5)\n"
      },
      {
       "data": {
        "text/html": "<div>\n<style scoped>\n    .dataframe tbody tr th:only-of-type {\n        vertical-align: middle;\n    }\n\n    .dataframe tbody tr th {\n        vertical-align: top;\n    }\n\n    .dataframe thead th {\n        text-align: right;\n    }\n</style>\n<table border=\"1\" class=\"dataframe\">\n  <thead>\n    <tr style=\"text-align: right;\">\n      <th></th>\n      <th>mouse_lemur__gene_name</th>\n      <th>mouse_lemur_to_human__homology_type</th>\n      <th>human__gene_name</th>\n      <th>human_to_mouse__homology_type</th>\n      <th>mouse__gene_name</th>\n    </tr>\n  </thead>\n  <tbody>\n    <tr>\n      <th>0</th>\n      <td>ND1</td>\n      <td>ortholog_one2one</td>\n      <td>MT-ND1</td>\n      <td>ortholog_one2one</td>\n      <td>mt-Nd1</td>\n    </tr>\n    <tr>\n      <th>1</th>\n      <td>ND2</td>\n      <td>ortholog_one2one</td>\n      <td>MT-ND2</td>\n      <td>ortholog_one2one</td>\n      <td>mt-Nd2</td>\n    </tr>\n    <tr>\n      <th>2</th>\n      <td>COX1</td>\n      <td>ortholog_one2one</td>\n      <td>MT-CO1</td>\n      <td>ortholog_one2one</td>\n      <td>mt-Co1</td>\n    </tr>\n    <tr>\n      <th>3</th>\n      <td>COX2</td>\n      <td>ortholog_one2one</td>\n      <td>MT-CO2</td>\n      <td>ortholog_one2one</td>\n      <td>mt-Co2</td>\n    </tr>\n    <tr>\n      <th>4</th>\n      <td>ATP8</td>\n      <td>ortholog_one2one</td>\n      <td>MT-ATP8</td>\n      <td>ortholog_one2one</td>\n      <td>mt-Atp8</td>\n    </tr>\n  </tbody>\n</table>\n</div>",
        "text/plain": "  mouse_lemur__gene_name mouse_lemur_to_human__homology_type human__gene_name  \\\n0                    ND1                    ortholog_one2one           MT-ND1   \n1                    ND2                    ortholog_one2one           MT-ND2   \n2                   COX1                    ortholog_one2one           MT-CO1   \n3                   COX2                    ortholog_one2one           MT-CO2   \n4                   ATP8                    ortholog_one2one          MT-ATP8   \n\n  human_to_mouse__homology_type mouse__gene_name  \n0              ortholog_one2one           mt-Nd1  \n1              ortholog_one2one           mt-Nd2  \n2              ortholog_one2one           mt-Co1  \n3              ortholog_one2one           mt-Co2  \n4              ortholog_one2one          mt-Atp8  "
       },
       "execution_count": 63,
       "metadata": {},
       "output_type": "execute_result"
      }
     ],
     "persistentId": "2f981ade-c703-4429-a0e5-065f612c649a",
     "text": "gene_orthologies_one2one_all_three = gene_orthologies_one2one.loc[index_count == 3]\nprint(gene_orthologies_one2one_all_three.shape)\ngene_orthologies_one2one_all_three.head()"
    },
    "executionTime": "2019-12-14T01:04:37.801Z"
   },
   {
    "cell": {
     "executionCount": 64,
     "executionEventId": "7396fc50-121b-4aab-948d-f07a75cd8a94",
     "hasError": false,
     "id": "6c0e8c25-32f7-402d-b0bf-3559d5377b60",
     "outputs": [
      {
       "name": "stdout",
       "output_type": "stream",
       "text": "12040\n"
      },
      {
       "data": {
        "text/plain": "View of AnnData object with n_obs × n_vars = 24540 × 12040 \n    obs: 'age', 'cell', 'cell_ontology_class', 'cell_ontology_id', 'free_annotation', 'method', 'mouse.id', 'n_genes', 'sex', 'subtissue', 'tissue', 'tissue_free_annotation', 'n_counts', 'louvain', 'leiden'\n    var: 'n_cells', 'means', 'dispersions', 'dispersions_norm', 'highly_variable'\n    uns: 'age_colors', 'cell_ontology_class_colors', 'leiden', 'louvain', 'neighbors', 'pca'\n    obsm: 'X_pca', 'X_tsne', 'X_umap'\n    varm: 'PCs'"
       },
       "execution_count": 64,
       "metadata": {},
       "output_type": "execute_result"
      }
     ],
     "persistentId": "30aa843b-5ce3-427b-bce4-5e5ee4cd909f",
     "text": "gene_mask = mouse.var.index.isin(gene_orthologies_one2one_all_three['mouse__gene_name'].values)\nprint(gene_mask.sum())\nmouse_one2one = mouse[:, gene_mask]\nmouse_one2one"
    },
    "executionTime": "2019-12-14T01:04:47.611Z"
   },
   {
    "cell": {
     "executionCount": 65,
     "executionEventId": "e3317b4d-f690-44da-b8c8-43a013dc166e",
     "hasError": false,
     "id": "7fcfe9a0-75ee-4334-b719-6913f5db7c96",
     "outputs": [
      {
       "name": "stdout",
       "output_type": "stream",
       "text": "(12040, 5)\n"
      },
      {
       "data": {
        "text/html": "<div>\n<style scoped>\n    .dataframe tbody tr th:only-of-type {\n        vertical-align: middle;\n    }\n\n    .dataframe tbody tr th {\n        vertical-align: top;\n    }\n\n    .dataframe thead th {\n        text-align: right;\n    }\n</style>\n<table border=\"1\" class=\"dataframe\">\n  <thead>\n    <tr style=\"text-align: right;\">\n      <th></th>\n      <th>mouse_lemur__gene_name</th>\n      <th>mouse_lemur_to_human__homology_type</th>\n      <th>human__gene_name</th>\n      <th>human_to_mouse__homology_type</th>\n      <th>mouse__gene_name</th>\n    </tr>\n  </thead>\n  <tbody>\n    <tr>\n      <th>13</th>\n      <td>SLC6A18</td>\n      <td>ortholog_one2one</td>\n      <td>SLC6A18</td>\n      <td>ortholog_one2one</td>\n      <td>Slc6a18</td>\n    </tr>\n    <tr>\n      <th>14</th>\n      <td>LOC105872179</td>\n      <td>ortholog_one2one</td>\n      <td>CYP26C1</td>\n      <td>ortholog_one2one</td>\n      <td>Cyp26c1</td>\n    </tr>\n    <tr>\n      <th>15</th>\n      <td>FKBP10</td>\n      <td>ortholog_one2one</td>\n      <td>FKBP10</td>\n      <td>ortholog_one2one</td>\n      <td>Fkbp10</td>\n    </tr>\n    <tr>\n      <th>17</th>\n      <td>NPNT</td>\n      <td>ortholog_one2one</td>\n      <td>NPNT</td>\n      <td>ortholog_one2one</td>\n      <td>Npnt</td>\n    </tr>\n    <tr>\n      <th>22</th>\n      <td>KIAA1324L</td>\n      <td>ortholog_one2one</td>\n      <td>KIAA1324L</td>\n      <td>ortholog_one2one</td>\n      <td>9330182L06Rik</td>\n    </tr>\n  </tbody>\n</table>\n</div>",
        "text/plain": "   mouse_lemur__gene_name mouse_lemur_to_human__homology_type  \\\n13                SLC6A18                    ortholog_one2one   \n14           LOC105872179                    ortholog_one2one   \n15                 FKBP10                    ortholog_one2one   \n17                   NPNT                    ortholog_one2one   \n22              KIAA1324L                    ortholog_one2one   \n\n   human__gene_name human_to_mouse__homology_type mouse__gene_name  \n13          SLC6A18              ortholog_one2one          Slc6a18  \n14          CYP26C1              ortholog_one2one          Cyp26c1  \n15           FKBP10              ortholog_one2one           Fkbp10  \n17             NPNT              ortholog_one2one             Npnt  \n22        KIAA1324L              ortholog_one2one    9330182L06Rik  "
       },
       "execution_count": 65,
       "metadata": {},
       "output_type": "execute_result"
      }
     ],
     "persistentId": "dade71f2-d5b8-4826-bdbf-b6ccde51c5f3",
     "text": "gene_orthologies_one2one_in_mouse = gene_orthologies_one2one.query('mouse__gene_name in @mouse_one2one.var.index')\nprint(gene_orthologies_one2one_in_mouse.shape)\ngene_orthologies_one2one_in_mouse.head()"
    },
    "executionTime": "2019-12-14T01:04:48.822Z"
   },
   {
    "cell": {
     "executionCount": 66,
     "executionEventId": "53dbb25b-71f5-48ca-b308-f4b396caf8d3",
     "hasError": false,
     "id": "1625d4c3-af7a-4bda-8a81-22ce6ae85b89",
     "outputs": [
      {
       "name": "stdout",
       "output_type": "stream",
       "text": "13184\n"
      },
      {
       "data": {
        "text/plain": "View of AnnData object with n_obs × n_vars = 24724 × 13184 \n    obs: 'n_genes', 'n_counts', 'orig_ident', 'channel', 'tissue', 'region', 'individual', 'species', 'method', 'processed', 'percent_ribo', 'free_annotation', 'res_2', 'cluster_ids', 'erythrocyte_score', 'platelet_score', 'endothelial_score', 'epithelial_score', 'immune_score', 'macrophage_score', 'plasma_score', 'muscle_score', 'stromal_score', 'neuronal_score', 'adipose_score', 'compartment_original', 'compartment_final', 'leiden'\n    uns: 'leiden', 'neighbors', 'pca'\n    obsm: 'X_pca', 'X_umap'\n    varm: 'PCs'"
       },
       "execution_count": 66,
       "metadata": {},
       "output_type": "execute_result"
      }
     ],
     "persistentId": "6e4e3b2b-aef7-4325-b38a-8c7bab7eac6f",
     "text": "gene_mask = lemur.var.index.isin(gene_orthologies_one2one_all_three['mouse_lemur__gene_name'].values)\nprint(gene_mask.sum())\nlemur_one2one =lemur[:, gene_mask]\nlemur_one2one"
    },
    "executionTime": "2019-12-14T01:05:20.974Z"
   },
   {
    "cell": {
     "executionCount": 68,
     "executionEventId": "7e43aef8-363b-4ece-95a0-601998566202",
     "hasError": false,
     "id": "967764b0-c201-40db-bc8e-b05589944c61",
     "outputs": [
      {
       "name": "stdout",
       "output_type": "stream",
       "text": "12965\n"
      },
      {
       "data": {
        "text/plain": "View of AnnData object with n_obs × n_vars = 65662 × 12965 \n    obs: 'nGene', 'nUMI', 'orig.ident', 'channel', 'tissue', 'region', 'percent.ribo', 'free_annotation', 'patient', 'sample', 'location', 'magnetic.selection', 'preparation.site', 'compartment'"
       },
       "execution_count": 68,
       "metadata": {},
       "output_type": "execute_result"
      }
     ],
     "persistentId": "91abc876-9b31-4e74-ba0e-ebacfd411eda",
     "text": "gene_mask = human.var.index.isin(gene_orthologies_one2one_all_three['human__gene_name'].values)\nprint(gene_mask.sum())\nhuman_one2one = human[:, gene_mask]\nhuman_one2one"
    },
    "executionTime": "2019-12-14T01:07:41.447Z"
   },
   {
    "cell": {
     "executionCount": 69,
     "executionEventId": "d223073c-1715-4636-9984-833165bb6043",
     "hasError": false,
     "id": "0618c1b1-9805-410e-bec9-c284ca45752f",
     "outputs": [],
     "persistentId": "fa27a190-1730-49db-a217-1426b7197d42",
     "text": "gene_orthologies_one2one_all_three.to_csv(f\"{orthologous_genes_folder}/mouse-lemur_human_mouse__orthologs__gene_names__one2one.csv\")"
    },
    "executionTime": "2019-12-14T01:46:08.223Z"
   },
   {
    "cell": {
     "executionCount": 70,
     "executionEventId": "a20f0b17-0859-41ed-9b8d-e0cedede0d06",
     "hasError": true,
     "id": "9c183e00-67a9-4625-9892-263c1ccf5224",
     "outputs": [
      {
       "ename": "ValueError",
       "evalue": "Joining multiple DataFrames only supported for joining on index",
       "output_type": "error",
       "traceback": [
        "\u001b[0;31m---------------------------------------------------------------------------\u001b[0m",
        "\u001b[0;31mValueError\u001b[0m                                Traceback (most recent call last)",
        "\u001b[0;32m<ipython-input-70-1c002f109052>\u001b[0m in \u001b[0;36m<module>\u001b[0;34m\u001b[0m\n\u001b[0;32m----> 1\u001b[0;31m \u001b[0mmouse_one2one\u001b[0m\u001b[0;34m.\u001b[0m\u001b[0mvar\u001b[0m \u001b[0;34m=\u001b[0m \u001b[0mmouse_one2one\u001b[0m\u001b[0;34m.\u001b[0m\u001b[0mvar\u001b[0m\u001b[0;34m.\u001b[0m\u001b[0mjoin\u001b[0m\u001b[0;34m(\u001b[0m\u001b[0mmouse_one2one\u001b[0m\u001b[0;34m,\u001b[0m \u001b[0mon\u001b[0m\u001b[0;34m=\u001b[0m\u001b[0;34m'mouse__gene_name'\u001b[0m\u001b[0;34m)\u001b[0m\u001b[0;34m\u001b[0m\u001b[0;34m\u001b[0m\u001b[0m\n\u001b[0m\u001b[1;32m      2\u001b[0m \u001b[0mprint\u001b[0m\u001b[0;34m(\u001b[0m\u001b[0mmouse_one2one\u001b[0m\u001b[0;34m.\u001b[0m\u001b[0mvar\u001b[0m\u001b[0;34m.\u001b[0m\u001b[0mshape\u001b[0m\u001b[0;34m)\u001b[0m\u001b[0;34m\u001b[0m\u001b[0;34m\u001b[0m\u001b[0m\n\u001b[1;32m      3\u001b[0m \u001b[0mmouse_one2one\u001b[0m\u001b[0;34m.\u001b[0m\u001b[0mvar\u001b[0m\u001b[0;34m.\u001b[0m\u001b[0mhead\u001b[0m\u001b[0;34m(\u001b[0m\u001b[0;34m)\u001b[0m\u001b[0;34m\u001b[0m\u001b[0;34m\u001b[0m\u001b[0m\n",
        "\u001b[0;32m~/miniconda3/envs/sc-tutorial/lib/python3.7/site-packages/pandas/core/frame.py\u001b[0m in \u001b[0;36mjoin\u001b[0;34m(self, other, on, how, lsuffix, rsuffix, sort)\u001b[0m\n\u001b[1;32m   7259\u001b[0m         \u001b[0;31m# For SparseDataFrame's benefit\u001b[0m\u001b[0;34m\u001b[0m\u001b[0;34m\u001b[0m\u001b[0;34m\u001b[0m\u001b[0m\n\u001b[1;32m   7260\u001b[0m         return self._join_compat(\n\u001b[0;32m-> 7261\u001b[0;31m             \u001b[0mother\u001b[0m\u001b[0;34m,\u001b[0m \u001b[0mon\u001b[0m\u001b[0;34m=\u001b[0m\u001b[0mon\u001b[0m\u001b[0;34m,\u001b[0m \u001b[0mhow\u001b[0m\u001b[0;34m=\u001b[0m\u001b[0mhow\u001b[0m\u001b[0;34m,\u001b[0m \u001b[0mlsuffix\u001b[0m\u001b[0;34m=\u001b[0m\u001b[0mlsuffix\u001b[0m\u001b[0;34m,\u001b[0m \u001b[0mrsuffix\u001b[0m\u001b[0;34m=\u001b[0m\u001b[0mrsuffix\u001b[0m\u001b[0;34m,\u001b[0m \u001b[0msort\u001b[0m\u001b[0;34m=\u001b[0m\u001b[0msort\u001b[0m\u001b[0;34m\u001b[0m\u001b[0;34m\u001b[0m\u001b[0m\n\u001b[0m\u001b[1;32m   7262\u001b[0m         )\n\u001b[1;32m   7263\u001b[0m \u001b[0;34m\u001b[0m\u001b[0m\n",
        "\u001b[0;32m~/miniconda3/envs/sc-tutorial/lib/python3.7/site-packages/pandas/core/frame.py\u001b[0m in \u001b[0;36m_join_compat\u001b[0;34m(self, other, on, how, lsuffix, rsuffix, sort)\u001b[0m\n\u001b[1;32m   7287\u001b[0m             \u001b[0;32mif\u001b[0m \u001b[0mon\u001b[0m \u001b[0;32mis\u001b[0m \u001b[0;32mnot\u001b[0m \u001b[0;32mNone\u001b[0m\u001b[0;34m:\u001b[0m\u001b[0;34m\u001b[0m\u001b[0;34m\u001b[0m\u001b[0m\n\u001b[1;32m   7288\u001b[0m                 raise ValueError(\n\u001b[0;32m-> 7289\u001b[0;31m                     \u001b[0;34m\"Joining multiple DataFrames only supported\"\u001b[0m \u001b[0;34m\" for joining on index\"\u001b[0m\u001b[0;34m\u001b[0m\u001b[0;34m\u001b[0m\u001b[0m\n\u001b[0m\u001b[1;32m   7290\u001b[0m                 )\n\u001b[1;32m   7291\u001b[0m \u001b[0;34m\u001b[0m\u001b[0m\n",
        "\u001b[0;31mValueError\u001b[0m: Joining multiple DataFrames only supported for joining on index"
       ]
      }
     ],
     "persistentId": "7609a93c-5057-426f-b0c4-3fdc455514d5",
     "text": "mouse_one2one.var = mouse_one2one.var.join(mouse_one2one, on='mouse__gene_name')\nprint(mouse_one2one.var.shape)\nmouse_one2one.var.head()"
    },
    "executionTime": "2019-12-14T17:55:13.869Z"
   },
   {
    "cell": {
     "executionCount": 71,
     "executionEventId": "1eba0966-5df8-4b19-9270-c664b071049e",
     "hasError": true,
     "id": "9c183e00-67a9-4625-9892-263c1ccf5224",
     "outputs": [
      {
       "ename": "TypeError",
       "evalue": "Can only merge Series or DataFrame objects, a <class 'anndata.core.anndata.AnnData'> was passed",
       "output_type": "error",
       "traceback": [
        "\u001b[0;31m---------------------------------------------------------------------------\u001b[0m",
        "\u001b[0;31mTypeError\u001b[0m                                 Traceback (most recent call last)",
        "\u001b[0;32m<ipython-input-71-e68880a31865>\u001b[0m in \u001b[0;36m<module>\u001b[0;34m\u001b[0m\n\u001b[0;32m----> 1\u001b[0;31m \u001b[0mmouse_one2one\u001b[0m\u001b[0;34m.\u001b[0m\u001b[0mvar\u001b[0m \u001b[0;34m=\u001b[0m \u001b[0mmouse_one2one\u001b[0m\u001b[0;34m.\u001b[0m\u001b[0mvar\u001b[0m\u001b[0;34m.\u001b[0m\u001b[0mmerge\u001b[0m\u001b[0;34m(\u001b[0m\u001b[0mmouse_one2one\u001b[0m\u001b[0;34m,\u001b[0m \u001b[0mon\u001b[0m\u001b[0;34m=\u001b[0m\u001b[0;34m'mouse__gene_name'\u001b[0m\u001b[0;34m)\u001b[0m\u001b[0;34m\u001b[0m\u001b[0;34m\u001b[0m\u001b[0m\n\u001b[0m\u001b[1;32m      2\u001b[0m \u001b[0mprint\u001b[0m\u001b[0;34m(\u001b[0m\u001b[0mmouse_one2one\u001b[0m\u001b[0;34m.\u001b[0m\u001b[0mvar\u001b[0m\u001b[0;34m.\u001b[0m\u001b[0mshape\u001b[0m\u001b[0;34m)\u001b[0m\u001b[0;34m\u001b[0m\u001b[0;34m\u001b[0m\u001b[0m\n\u001b[1;32m      3\u001b[0m \u001b[0mmouse_one2one\u001b[0m\u001b[0;34m.\u001b[0m\u001b[0mvar\u001b[0m\u001b[0;34m.\u001b[0m\u001b[0mhead\u001b[0m\u001b[0;34m(\u001b[0m\u001b[0;34m)\u001b[0m\u001b[0;34m\u001b[0m\u001b[0;34m\u001b[0m\u001b[0m\n",
        "\u001b[0;32m~/miniconda3/envs/sc-tutorial/lib/python3.7/site-packages/pandas/core/frame.py\u001b[0m in \u001b[0;36mmerge\u001b[0;34m(self, right, how, on, left_on, right_on, left_index, right_index, sort, suffixes, copy, indicator, validate)\u001b[0m\n\u001b[1;32m   7347\u001b[0m             \u001b[0mcopy\u001b[0m\u001b[0;34m=\u001b[0m\u001b[0mcopy\u001b[0m\u001b[0;34m,\u001b[0m\u001b[0;34m\u001b[0m\u001b[0;34m\u001b[0m\u001b[0m\n\u001b[1;32m   7348\u001b[0m             \u001b[0mindicator\u001b[0m\u001b[0;34m=\u001b[0m\u001b[0mindicator\u001b[0m\u001b[0;34m,\u001b[0m\u001b[0;34m\u001b[0m\u001b[0;34m\u001b[0m\u001b[0m\n\u001b[0;32m-> 7349\u001b[0;31m             \u001b[0mvalidate\u001b[0m\u001b[0;34m=\u001b[0m\u001b[0mvalidate\u001b[0m\u001b[0;34m,\u001b[0m\u001b[0;34m\u001b[0m\u001b[0;34m\u001b[0m\u001b[0m\n\u001b[0m\u001b[1;32m   7350\u001b[0m         )\n\u001b[1;32m   7351\u001b[0m \u001b[0;34m\u001b[0m\u001b[0m\n",
        "\u001b[0;32m~/miniconda3/envs/sc-tutorial/lib/python3.7/site-packages/pandas/core/reshape/merge.py\u001b[0m in \u001b[0;36mmerge\u001b[0;34m(left, right, how, on, left_on, right_on, left_index, right_index, sort, suffixes, copy, indicator, validate)\u001b[0m\n\u001b[1;32m     79\u001b[0m         \u001b[0mcopy\u001b[0m\u001b[0;34m=\u001b[0m\u001b[0mcopy\u001b[0m\u001b[0;34m,\u001b[0m\u001b[0;34m\u001b[0m\u001b[0;34m\u001b[0m\u001b[0m\n\u001b[1;32m     80\u001b[0m         \u001b[0mindicator\u001b[0m\u001b[0;34m=\u001b[0m\u001b[0mindicator\u001b[0m\u001b[0;34m,\u001b[0m\u001b[0;34m\u001b[0m\u001b[0;34m\u001b[0m\u001b[0m\n\u001b[0;32m---> 81\u001b[0;31m         \u001b[0mvalidate\u001b[0m\u001b[0;34m=\u001b[0m\u001b[0mvalidate\u001b[0m\u001b[0;34m,\u001b[0m\u001b[0;34m\u001b[0m\u001b[0;34m\u001b[0m\u001b[0m\n\u001b[0m\u001b[1;32m     82\u001b[0m     )\n\u001b[1;32m     83\u001b[0m     \u001b[0;32mreturn\u001b[0m \u001b[0mop\u001b[0m\u001b[0;34m.\u001b[0m\u001b[0mget_result\u001b[0m\u001b[0;34m(\u001b[0m\u001b[0;34m)\u001b[0m\u001b[0;34m\u001b[0m\u001b[0;34m\u001b[0m\u001b[0m\n",
        "\u001b[0;32m~/miniconda3/envs/sc-tutorial/lib/python3.7/site-packages/pandas/core/reshape/merge.py\u001b[0m in \u001b[0;36m__init__\u001b[0;34m(self, left, right, how, on, left_on, right_on, axis, left_index, right_index, sort, suffixes, copy, indicator, validate)\u001b[0m\n\u001b[1;32m    570\u001b[0m     ):\n\u001b[1;32m    571\u001b[0m         \u001b[0mleft\u001b[0m \u001b[0;34m=\u001b[0m \u001b[0mvalidate_operand\u001b[0m\u001b[0;34m(\u001b[0m\u001b[0mleft\u001b[0m\u001b[0;34m)\u001b[0m\u001b[0;34m\u001b[0m\u001b[0;34m\u001b[0m\u001b[0m\n\u001b[0;32m--> 572\u001b[0;31m         \u001b[0mright\u001b[0m \u001b[0;34m=\u001b[0m \u001b[0mvalidate_operand\u001b[0m\u001b[0;34m(\u001b[0m\u001b[0mright\u001b[0m\u001b[0;34m)\u001b[0m\u001b[0;34m\u001b[0m\u001b[0;34m\u001b[0m\u001b[0m\n\u001b[0m\u001b[1;32m    573\u001b[0m         \u001b[0mself\u001b[0m\u001b[0;34m.\u001b[0m\u001b[0mleft\u001b[0m \u001b[0;34m=\u001b[0m \u001b[0mself\u001b[0m\u001b[0;34m.\u001b[0m\u001b[0morig_left\u001b[0m \u001b[0;34m=\u001b[0m \u001b[0mleft\u001b[0m\u001b[0;34m\u001b[0m\u001b[0;34m\u001b[0m\u001b[0m\n\u001b[1;32m    574\u001b[0m         \u001b[0mself\u001b[0m\u001b[0;34m.\u001b[0m\u001b[0mright\u001b[0m \u001b[0;34m=\u001b[0m \u001b[0mself\u001b[0m\u001b[0;34m.\u001b[0m\u001b[0morig_right\u001b[0m \u001b[0;34m=\u001b[0m \u001b[0mright\u001b[0m\u001b[0;34m\u001b[0m\u001b[0;34m\u001b[0m\u001b[0m\n",
        "\u001b[0;32m~/miniconda3/envs/sc-tutorial/lib/python3.7/site-packages/pandas/core/reshape/merge.py\u001b[0m in \u001b[0;36mvalidate_operand\u001b[0;34m(obj)\u001b[0m\n\u001b[1;32m   1991\u001b[0m         raise TypeError(\n\u001b[1;32m   1992\u001b[0m             \u001b[0;34m\"Can only merge Series or DataFrame objects, \"\u001b[0m\u001b[0;34m\u001b[0m\u001b[0;34m\u001b[0m\u001b[0m\n\u001b[0;32m-> 1993\u001b[0;31m             \u001b[0;34m\"a {obj} was passed\"\u001b[0m\u001b[0;34m.\u001b[0m\u001b[0mformat\u001b[0m\u001b[0;34m(\u001b[0m\u001b[0mobj\u001b[0m\u001b[0;34m=\u001b[0m\u001b[0mtype\u001b[0m\u001b[0;34m(\u001b[0m\u001b[0mobj\u001b[0m\u001b[0;34m)\u001b[0m\u001b[0;34m)\u001b[0m\u001b[0;34m\u001b[0m\u001b[0;34m\u001b[0m\u001b[0m\n\u001b[0m\u001b[1;32m   1994\u001b[0m         )\n\u001b[1;32m   1995\u001b[0m \u001b[0;34m\u001b[0m\u001b[0m\n",
        "\u001b[0;31mTypeError\u001b[0m: Can only merge Series or DataFrame objects, a <class 'anndata.core.anndata.AnnData'> was passed"
       ]
      }
     ],
     "persistentId": "7609a93c-5057-426f-b0c4-3fdc455514d5",
     "text": "mouse_one2one.var = mouse_one2one.var.merge(mouse_one2one, on='mouse__gene_name')\nprint(mouse_one2one.var.shape)\nmouse_one2one.var.head()"
    },
    "executionTime": "2019-12-14T17:55:24.366Z"
   },
   {
    "cell": {
     "executionCount": 72,
     "executionEventId": "9e2ddb63-eb9a-48f6-a4fc-fef7b5e40d35",
     "hasError": false,
     "id": "9c183e00-67a9-4625-9892-263c1ccf5224",
     "outputs": [
      {
       "name": "stderr",
       "output_type": "stream",
       "text": "AnnData expects string indices for some functionality, but your first two indices are: Int64Index([10361, 14719], dtype='int64'). \n"
      },
      {
       "name": "stdout",
       "output_type": "stream",
       "text": "(12040, 10)\n"
      },
      {
       "data": {
        "text/html": "<div>\n<style scoped>\n    .dataframe tbody tr th:only-of-type {\n        vertical-align: middle;\n    }\n\n    .dataframe tbody tr th {\n        vertical-align: top;\n    }\n\n    .dataframe thead th {\n        text-align: right;\n    }\n</style>\n<table border=\"1\" class=\"dataframe\">\n  <thead>\n    <tr style=\"text-align: right;\">\n      <th></th>\n      <th>n_cells</th>\n      <th>means</th>\n      <th>dispersions</th>\n      <th>dispersions_norm</th>\n      <th>highly_variable</th>\n      <th>mouse_lemur__gene_name</th>\n      <th>mouse_lemur_to_human__homology_type</th>\n      <th>human__gene_name</th>\n      <th>human_to_mouse__homology_type</th>\n      <th>mouse__gene_name</th>\n    </tr>\n  </thead>\n  <tbody>\n    <tr>\n      <th>10361</th>\n      <td>27289</td>\n      <td>0.361263</td>\n      <td>2.295648</td>\n      <td>2.454915</td>\n      <td>True</td>\n      <td>SOX17</td>\n      <td>ortholog_one2one</td>\n      <td>SOX17</td>\n      <td>ortholog_one2one</td>\n      <td>Sox17</td>\n    </tr>\n    <tr>\n      <th>14719</th>\n      <td>95312</td>\n      <td>0.468919</td>\n      <td>0.902769</td>\n      <td>-0.554274</td>\n      <td>False</td>\n      <td>MRPL15</td>\n      <td>ortholog_one2one</td>\n      <td>MRPL15</td>\n      <td>ortholog_one2one</td>\n      <td>Mrpl15</td>\n    </tr>\n    <tr>\n      <th>2728</th>\n      <td>86096</td>\n      <td>0.357519</td>\n      <td>0.891374</td>\n      <td>-0.578892</td>\n      <td>False</td>\n      <td>LYPLA1</td>\n      <td>ortholog_one2one</td>\n      <td>LYPLA1</td>\n      <td>ortholog_one2one</td>\n      <td>Lypla1</td>\n    </tr>\n    <tr>\n      <th>8880</th>\n      <td>120238</td>\n      <td>0.580153</td>\n      <td>0.957326</td>\n      <td>-0.540244</td>\n      <td>False</td>\n      <td>TCEA1</td>\n      <td>ortholog_one2one</td>\n      <td>TCEA1</td>\n      <td>ortholog_one2one</td>\n      <td>Tcea1</td>\n    </tr>\n    <tr>\n      <th>1070</th>\n      <td>1887</td>\n      <td>0.000131</td>\n      <td>0.072323</td>\n      <td>-2.445816</td>\n      <td>False</td>\n      <td>RGS20</td>\n      <td>ortholog_one2one</td>\n      <td>RGS20</td>\n      <td>ortholog_one2one</td>\n      <td>Rgs20</td>\n    </tr>\n  </tbody>\n</table>\n</div>",
        "text/plain": "       n_cells     means  dispersions  dispersions_norm  highly_variable  \\\n10361    27289  0.361263     2.295648          2.454915             True   \n14719    95312  0.468919     0.902769         -0.554274            False   \n2728     86096  0.357519     0.891374         -0.578892            False   \n8880    120238  0.580153     0.957326         -0.540244            False   \n1070      1887  0.000131     0.072323         -2.445816            False   \n\n      mouse_lemur__gene_name mouse_lemur_to_human__homology_type  \\\n10361                  SOX17                    ortholog_one2one   \n14719                 MRPL15                    ortholog_one2one   \n2728                  LYPLA1                    ortholog_one2one   \n8880                   TCEA1                    ortholog_one2one   \n1070                   RGS20                    ortholog_one2one   \n\n      human__gene_name human_to_mouse__homology_type mouse__gene_name  \n10361            SOX17              ortholog_one2one            Sox17  \n14719           MRPL15              ortholog_one2one           Mrpl15  \n2728            LYPLA1              ortholog_one2one           Lypla1  \n8880             TCEA1              ortholog_one2one            Tcea1  \n1070             RGS20              ortholog_one2one            Rgs20  "
       },
       "execution_count": 72,
       "metadata": {},
       "output_type": "execute_result"
      }
     ],
     "persistentId": "7609a93c-5057-426f-b0c4-3fdc455514d5",
     "text": "mouse_one2one.var = mouse_one2one.var.merge(gene_orthologies_one2one_all_three, left_index=True, right_on='mouse__gene_name')\nprint(mouse_one2one.var.shape)\nmouse_one2one.var.head()"
    },
    "executionTime": "2019-12-14T17:55:54.756Z"
   },
   {
    "cell": {
     "executionCount": 73,
     "executionEventId": "55eaad24-500b-4b19-93b8-f3aa14fc3f09",
     "hasError": false,
     "id": "af6b6aff-3ee3-4714-aeed-7adeeaffd0e9",
     "outputs": [
      {
       "data": {
        "text/html": "<div>\n<style scoped>\n    .dataframe tbody tr th:only-of-type {\n        vertical-align: middle;\n    }\n\n    .dataframe tbody tr th {\n        vertical-align: top;\n    }\n\n    .dataframe thead th {\n        text-align: right;\n    }\n</style>\n<table border=\"1\" class=\"dataframe\">\n  <thead>\n    <tr style=\"text-align: right;\">\n      <th></th>\n      <th>n_cells</th>\n      <th>means</th>\n      <th>dispersions</th>\n      <th>dispersions_norm</th>\n      <th>highly_variable</th>\n      <th>mouse_lemur__gene_name</th>\n      <th>mouse_lemur_to_human__homology_type</th>\n      <th>human_to_mouse__homology_type</th>\n      <th>mouse__gene_name</th>\n    </tr>\n    <tr>\n      <th>human__gene_name</th>\n      <th></th>\n      <th></th>\n      <th></th>\n      <th></th>\n      <th></th>\n      <th></th>\n      <th></th>\n      <th></th>\n      <th></th>\n    </tr>\n  </thead>\n  <tbody>\n    <tr>\n      <th>SOX17</th>\n      <td>27289</td>\n      <td>0.361263</td>\n      <td>2.295648</td>\n      <td>2.454915</td>\n      <td>True</td>\n      <td>SOX17</td>\n      <td>ortholog_one2one</td>\n      <td>ortholog_one2one</td>\n      <td>Sox17</td>\n    </tr>\n    <tr>\n      <th>MRPL15</th>\n      <td>95312</td>\n      <td>0.468919</td>\n      <td>0.902769</td>\n      <td>-0.554274</td>\n      <td>False</td>\n      <td>MRPL15</td>\n      <td>ortholog_one2one</td>\n      <td>ortholog_one2one</td>\n      <td>Mrpl15</td>\n    </tr>\n    <tr>\n      <th>LYPLA1</th>\n      <td>86096</td>\n      <td>0.357519</td>\n      <td>0.891374</td>\n      <td>-0.578892</td>\n      <td>False</td>\n      <td>LYPLA1</td>\n      <td>ortholog_one2one</td>\n      <td>ortholog_one2one</td>\n      <td>Lypla1</td>\n    </tr>\n    <tr>\n      <th>TCEA1</th>\n      <td>120238</td>\n      <td>0.580153</td>\n      <td>0.957326</td>\n      <td>-0.540244</td>\n      <td>False</td>\n      <td>TCEA1</td>\n      <td>ortholog_one2one</td>\n      <td>ortholog_one2one</td>\n      <td>Tcea1</td>\n    </tr>\n    <tr>\n      <th>RGS20</th>\n      <td>1887</td>\n      <td>0.000131</td>\n      <td>0.072323</td>\n      <td>-2.445816</td>\n      <td>False</td>\n      <td>RGS20</td>\n      <td>ortholog_one2one</td>\n      <td>ortholog_one2one</td>\n      <td>Rgs20</td>\n    </tr>\n  </tbody>\n</table>\n</div>",
        "text/plain": "                  n_cells     means  dispersions  dispersions_norm  \\\nhuman__gene_name                                                     \nSOX17               27289  0.361263     2.295648          2.454915   \nMRPL15              95312  0.468919     0.902769         -0.554274   \nLYPLA1              86096  0.357519     0.891374         -0.578892   \nTCEA1              120238  0.580153     0.957326         -0.540244   \nRGS20                1887  0.000131     0.072323         -2.445816   \n\n                  highly_variable mouse_lemur__gene_name  \\\nhuman__gene_name                                           \nSOX17                        True                  SOX17   \nMRPL15                      False                 MRPL15   \nLYPLA1                      False                 LYPLA1   \nTCEA1                       False                  TCEA1   \nRGS20                       False                  RGS20   \n\n                 mouse_lemur_to_human__homology_type  \\\nhuman__gene_name                                       \nSOX17                               ortholog_one2one   \nMRPL15                              ortholog_one2one   \nLYPLA1                              ortholog_one2one   \nTCEA1                               ortholog_one2one   \nRGS20                               ortholog_one2one   \n\n                 human_to_mouse__homology_type mouse__gene_name  \nhuman__gene_name                                                 \nSOX17                         ortholog_one2one            Sox17  \nMRPL15                        ortholog_one2one           Mrpl15  \nLYPLA1                        ortholog_one2one           Lypla1  \nTCEA1                         ortholog_one2one            Tcea1  \nRGS20                         ortholog_one2one            Rgs20  "
       },
       "execution_count": 73,
       "metadata": {},
       "output_type": "execute_result"
      }
     ],
     "persistentId": "6ea026ef-2c53-4d78-a1f8-24e94988220c",
     "text": "mouse_one2one.var = mouse_one2one.var.set_index('human__gene_name')\nmouse_one2one.var.head()"
    },
    "executionTime": "2019-12-14T17:57:01.679Z"
   },
   {
    "cell": {
     "executionCount": 74,
     "executionEventId": "d908d9e0-b795-4e0d-90a4-46e64f15f623",
     "hasError": false,
     "id": "83af01b0-a5cb-447c-81d1-5c65e74fd7d3",
     "outputs": [
      {
       "data": {
        "text/html": "<div>\n<style scoped>\n    .dataframe tbody tr th:only-of-type {\n        vertical-align: middle;\n    }\n\n    .dataframe tbody tr th {\n        vertical-align: top;\n    }\n\n    .dataframe thead th {\n        text-align: right;\n    }\n</style>\n<table border=\"1\" class=\"dataframe\">\n  <thead>\n    <tr style=\"text-align: right;\">\n      <th></th>\n      <th>n_cells</th>\n      <th>means</th>\n      <th>dispersions</th>\n      <th>dispersions_norm</th>\n      <th>highly_variable</th>\n    </tr>\n    <tr>\n      <th>index</th>\n      <th></th>\n      <th></th>\n      <th></th>\n      <th></th>\n      <th></th>\n    </tr>\n  </thead>\n  <tbody>\n    <tr>\n      <th>Xkr4</th>\n      <td>147</td>\n      <td>0.000228</td>\n      <td>0.781306</td>\n      <td>-0.595620</td>\n      <td>False</td>\n    </tr>\n    <tr>\n      <th>Rp1</th>\n      <td>233</td>\n      <td>0.001529</td>\n      <td>0.668314</td>\n      <td>-0.890491</td>\n      <td>False</td>\n    </tr>\n    <tr>\n      <th>Sox17</th>\n      <td>27289</td>\n      <td>0.361263</td>\n      <td>2.295648</td>\n      <td>2.454915</td>\n      <td>True</td>\n    </tr>\n    <tr>\n      <th>Mrpl15</th>\n      <td>95312</td>\n      <td>0.468919</td>\n      <td>0.902769</td>\n      <td>-0.554274</td>\n      <td>False</td>\n    </tr>\n    <tr>\n      <th>Lypla1</th>\n      <td>86096</td>\n      <td>0.357519</td>\n      <td>0.891374</td>\n      <td>-0.578892</td>\n      <td>False</td>\n    </tr>\n  </tbody>\n</table>\n</div>",
        "text/plain": "        n_cells     means  dispersions  dispersions_norm  highly_variable\nindex                                                                    \nXkr4        147  0.000228     0.781306         -0.595620            False\nRp1         233  0.001529     0.668314         -0.890491            False\nSox17     27289  0.361263     2.295648          2.454915             True\nMrpl15    95312  0.468919     0.902769         -0.554274            False\nLypla1    86096  0.357519     0.891374         -0.578892            False"
       },
       "execution_count": 74,
       "metadata": {},
       "output_type": "execute_result"
      }
     ],
     "persistentId": "e2781e39-1d63-4262-a624-cfd51f998a7c",
     "text": "mouse.var.head()"
    },
    "executionTime": "2019-12-14T17:57:26.537Z"
   },
   {
    "cell": {
     "executionCount": 75,
     "executionEventId": "83951908-bd33-4606-8876-ff1d38f71daf",
     "hasError": false,
     "id": "6c0e8c25-32f7-402d-b0bf-3559d5377b60",
     "outputs": [
      {
       "name": "stdout",
       "output_type": "stream",
       "text": "12040\n"
      },
      {
       "data": {
        "text/plain": "View of AnnData object with n_obs × n_vars = 24540 × 12040 \n    obs: 'age', 'cell', 'cell_ontology_class', 'cell_ontology_id', 'free_annotation', 'method', 'mouse.id', 'n_genes', 'sex', 'subtissue', 'tissue', 'tissue_free_annotation', 'n_counts', 'louvain', 'leiden'\n    var: 'n_cells', 'means', 'dispersions', 'dispersions_norm', 'highly_variable'\n    uns: 'age_colors', 'cell_ontology_class_colors', 'leiden', 'louvain', 'neighbors', 'pca'\n    obsm: 'X_pca', 'X_tsne', 'X_umap'\n    varm: 'PCs'"
       },
       "execution_count": 75,
       "metadata": {},
       "output_type": "execute_result"
      }
     ],
     "persistentId": "30aa843b-5ce3-427b-bce4-5e5ee4cd909f",
     "text": "gene_mask = mouse.var.index.isin(gene_orthologies_one2one_all_three['mouse__gene_name'].values)\nprint(gene_mask.sum())\nmouse_one2one = mouse[:, gene_mask]\nmouse_one2one"
    },
    "executionTime": "2019-12-14T17:58:33.071Z"
   },
   {
    "cell": {
     "executionCount": 76,
     "executionEventId": "87048211-b51f-413c-bb0d-a6d2817a6f6c",
     "hasError": false,
     "id": "15bbd3ad-0fb3-4f5e-8816-4591f3066673",
     "outputs": [
      {
       "data": {
        "text/html": "<div>\n<style scoped>\n    .dataframe tbody tr th:only-of-type {\n        vertical-align: middle;\n    }\n\n    .dataframe tbody tr th {\n        vertical-align: top;\n    }\n\n    .dataframe thead th {\n        text-align: right;\n    }\n</style>\n<table border=\"1\" class=\"dataframe\">\n  <thead>\n    <tr style=\"text-align: right;\">\n      <th></th>\n      <th>n_cells</th>\n      <th>means</th>\n      <th>dispersions</th>\n      <th>dispersions_norm</th>\n      <th>highly_variable</th>\n    </tr>\n    <tr>\n      <th>index</th>\n      <th></th>\n      <th></th>\n      <th></th>\n      <th></th>\n      <th></th>\n    </tr>\n  </thead>\n  <tbody>\n    <tr>\n      <th>Sox17</th>\n      <td>27289</td>\n      <td>0.361263</td>\n      <td>2.295648</td>\n      <td>2.454915</td>\n      <td>True</td>\n    </tr>\n    <tr>\n      <th>Mrpl15</th>\n      <td>95312</td>\n      <td>0.468919</td>\n      <td>0.902769</td>\n      <td>-0.554274</td>\n      <td>False</td>\n    </tr>\n    <tr>\n      <th>Lypla1</th>\n      <td>86096</td>\n      <td>0.357519</td>\n      <td>0.891374</td>\n      <td>-0.578892</td>\n      <td>False</td>\n    </tr>\n    <tr>\n      <th>Tcea1</th>\n      <td>120238</td>\n      <td>0.580153</td>\n      <td>0.957326</td>\n      <td>-0.540244</td>\n      <td>False</td>\n    </tr>\n    <tr>\n      <th>Rgs20</th>\n      <td>1887</td>\n      <td>0.000131</td>\n      <td>0.072323</td>\n      <td>-2.445816</td>\n      <td>False</td>\n    </tr>\n  </tbody>\n</table>\n</div>",
        "text/plain": "        n_cells     means  dispersions  dispersions_norm  highly_variable\nindex                                                                    \nSox17     27289  0.361263     2.295648          2.454915             True\nMrpl15    95312  0.468919     0.902769         -0.554274            False\nLypla1    86096  0.357519     0.891374         -0.578892            False\nTcea1    120238  0.580153     0.957326         -0.540244            False\nRgs20      1887  0.000131     0.072323         -2.445816            False"
       },
       "execution_count": 76,
       "metadata": {},
       "output_type": "execute_result"
      }
     ],
     "persistentId": "9cab8b9b-62fc-46f3-a61b-2ef093b76afc",
     "text": "mouse_one2one.var.head()"
    },
    "executionTime": "2019-12-14T17:58:33.102Z"
   },
   {
    "cell": {
     "executionCount": 77,
     "executionEventId": "99b18635-5098-4405-a6c3-c966b21d5198",
     "hasError": false,
     "id": "22d997c5-57f0-4549-8243-5109e0aa8bba",
     "outputs": [
      {
       "name": "stderr",
       "output_type": "stream",
       "text": "AnnData expects string indices for some functionality, but your first two indices are: Int64Index([21127, 21128], dtype='int64'). \n"
      },
      {
       "name": "stdout",
       "output_type": "stream",
       "text": "(13184, 5)\n"
      },
      {
       "data": {
        "text/html": "<div>\n<style scoped>\n    .dataframe tbody tr th:only-of-type {\n        vertical-align: middle;\n    }\n\n    .dataframe tbody tr th {\n        vertical-align: top;\n    }\n\n    .dataframe thead th {\n        text-align: right;\n    }\n</style>\n<table border=\"1\" class=\"dataframe\">\n  <thead>\n    <tr style=\"text-align: right;\">\n      <th></th>\n      <th>mouse_lemur__gene_name</th>\n      <th>mouse_lemur_to_human__homology_type</th>\n      <th>human__gene_name</th>\n      <th>human_to_mouse__homology_type</th>\n      <th>mouse__gene_name</th>\n    </tr>\n  </thead>\n  <tbody>\n    <tr>\n      <th>21127</th>\n      <td>RBP2</td>\n      <td>ortholog_one2one</td>\n      <td>RBP2</td>\n      <td>ortholog_one2one</td>\n      <td>Rbp2</td>\n    </tr>\n    <tr>\n      <th>21128</th>\n      <td>COPB2</td>\n      <td>ortholog_one2one</td>\n      <td>COPB2</td>\n      <td>ortholog_one2one</td>\n      <td>Copb2</td>\n    </tr>\n    <tr>\n      <th>21129</th>\n      <td>MRPS22</td>\n      <td>ortholog_one2one</td>\n      <td>MRPS22</td>\n      <td>ortholog_one2one</td>\n      <td>Mrps22</td>\n    </tr>\n    <tr>\n      <th>21975</th>\n      <td>FOXL2</td>\n      <td>ortholog_one2one</td>\n      <td>FOXL2</td>\n      <td>ortholog_one2one</td>\n      <td>Foxl2</td>\n    </tr>\n    <tr>\n      <th>21130</th>\n      <td>PIK3CB</td>\n      <td>ortholog_one2one</td>\n      <td>PIK3CB</td>\n      <td>ortholog_one2one</td>\n      <td>Pik3cb</td>\n    </tr>\n  </tbody>\n</table>\n</div>",
        "text/plain": "      mouse_lemur__gene_name mouse_lemur_to_human__homology_type  \\\n21127                   RBP2                    ortholog_one2one   \n21128                  COPB2                    ortholog_one2one   \n21129                 MRPS22                    ortholog_one2one   \n21975                  FOXL2                    ortholog_one2one   \n21130                 PIK3CB                    ortholog_one2one   \n\n      human__gene_name human_to_mouse__homology_type mouse__gene_name  \n21127             RBP2              ortholog_one2one             Rbp2  \n21128            COPB2              ortholog_one2one            Copb2  \n21129           MRPS22              ortholog_one2one           Mrps22  \n21975            FOXL2              ortholog_one2one            Foxl2  \n21130           PIK3CB              ortholog_one2one           Pik3cb  "
       },
       "execution_count": 77,
       "metadata": {},
       "output_type": "execute_result"
      }
     ],
     "persistentId": "5169b62d-febb-4582-a139-e85956b83de4",
     "text": "lemur_one2one.var = lemur_one2one.var.merge(gene_orthologies_one2one_all_three, left_index=True, right_on='mouse_lemur__gene_name')\nprint(lemur_one2one.var.shape)\nlemur_one2one.var.head()"
    },
    "executionTime": "2019-12-14T18:01:39.720Z"
   },
   {
    "cell": {
     "executionCount": 78,
     "executionEventId": "844e9f26-5fa2-45cb-b771-e47dd27f77fa",
     "hasError": false,
     "id": "212c7a56-4395-470e-a4e2-d6218b819563",
     "outputs": [
      {
       "data": {
        "text/html": "<div>\n<style scoped>\n    .dataframe tbody tr th:only-of-type {\n        vertical-align: middle;\n    }\n\n    .dataframe tbody tr th {\n        vertical-align: top;\n    }\n\n    .dataframe thead th {\n        text-align: right;\n    }\n</style>\n<table border=\"1\" class=\"dataframe\">\n  <thead>\n    <tr style=\"text-align: right;\">\n      <th></th>\n      <th>mouse_lemur__gene_name</th>\n      <th>mouse_lemur_to_human__homology_type</th>\n      <th>human_to_mouse__homology_type</th>\n      <th>mouse__gene_name</th>\n    </tr>\n    <tr>\n      <th>human__gene_name</th>\n      <th></th>\n      <th></th>\n      <th></th>\n      <th></th>\n    </tr>\n  </thead>\n  <tbody>\n    <tr>\n      <th>RBP2</th>\n      <td>RBP2</td>\n      <td>ortholog_one2one</td>\n      <td>ortholog_one2one</td>\n      <td>Rbp2</td>\n    </tr>\n    <tr>\n      <th>COPB2</th>\n      <td>COPB2</td>\n      <td>ortholog_one2one</td>\n      <td>ortholog_one2one</td>\n      <td>Copb2</td>\n    </tr>\n    <tr>\n      <th>MRPS22</th>\n      <td>MRPS22</td>\n      <td>ortholog_one2one</td>\n      <td>ortholog_one2one</td>\n      <td>Mrps22</td>\n    </tr>\n    <tr>\n      <th>FOXL2</th>\n      <td>FOXL2</td>\n      <td>ortholog_one2one</td>\n      <td>ortholog_one2one</td>\n      <td>Foxl2</td>\n    </tr>\n    <tr>\n      <th>PIK3CB</th>\n      <td>PIK3CB</td>\n      <td>ortholog_one2one</td>\n      <td>ortholog_one2one</td>\n      <td>Pik3cb</td>\n    </tr>\n  </tbody>\n</table>\n</div>",
        "text/plain": "                 mouse_lemur__gene_name mouse_lemur_to_human__homology_type  \\\nhuman__gene_name                                                              \nRBP2                               RBP2                    ortholog_one2one   \nCOPB2                             COPB2                    ortholog_one2one   \nMRPS22                           MRPS22                    ortholog_one2one   \nFOXL2                             FOXL2                    ortholog_one2one   \nPIK3CB                           PIK3CB                    ortholog_one2one   \n\n                 human_to_mouse__homology_type mouse__gene_name  \nhuman__gene_name                                                 \nRBP2                          ortholog_one2one             Rbp2  \nCOPB2                         ortholog_one2one            Copb2  \nMRPS22                        ortholog_one2one           Mrps22  \nFOXL2                         ortholog_one2one            Foxl2  \nPIK3CB                        ortholog_one2one           Pik3cb  "
       },
       "execution_count": 78,
       "metadata": {},
       "output_type": "execute_result"
      }
     ],
     "persistentId": "e6da227f-d4fb-48fc-b9d2-97ecb0afa209",
     "text": "lemur_one2one.var = lemur_one2one.var.set_index('human__gene_name')\nlemur_one2one.var.head()"
    },
    "executionTime": "2019-12-14T18:01:49.377Z"
   },
   {
    "cell": {
     "executionCount": 79,
     "executionEventId": "3f8c4c1e-f838-4ddc-ae9c-09768ae18f85",
     "hasError": false,
     "id": "454b83c4-e13b-487d-8ff4-594288dfa151",
     "outputs": [
      {
       "data": {
        "text/html": "<div>\n<style scoped>\n    .dataframe tbody tr th:only-of-type {\n        vertical-align: middle;\n    }\n\n    .dataframe tbody tr th {\n        vertical-align: top;\n    }\n\n    .dataframe thead th {\n        text-align: right;\n    }\n</style>\n<table border=\"1\" class=\"dataframe\">\n  <thead>\n    <tr style=\"text-align: right;\">\n      <th></th>\n      <th>n_genes</th>\n      <th>n_counts</th>\n      <th>orig_ident</th>\n      <th>channel</th>\n      <th>tissue</th>\n      <th>region</th>\n      <th>individual</th>\n      <th>species</th>\n      <th>method</th>\n      <th>processed</th>\n      <th>...</th>\n      <th>immune_score</th>\n      <th>macrophage_score</th>\n      <th>plasma_score</th>\n      <th>muscle_score</th>\n      <th>stromal_score</th>\n      <th>neuronal_score</th>\n      <th>adipose_score</th>\n      <th>compartment_original</th>\n      <th>compartment_final</th>\n      <th>leiden</th>\n    </tr>\n    <tr>\n      <th>index</th>\n      <th></th>\n      <th></th>\n      <th></th>\n      <th></th>\n      <th></th>\n      <th></th>\n      <th></th>\n      <th></th>\n      <th></th>\n      <th></th>\n      <th></th>\n      <th></th>\n      <th></th>\n      <th></th>\n      <th></th>\n      <th></th>\n      <th></th>\n      <th></th>\n      <th></th>\n      <th></th>\n      <th></th>\n    </tr>\n  </thead>\n  <tbody>\n    <tr>\n      <th>Antoine_Lung_CD31_10X_AAACCTGAGAAACGAG</th>\n      <td>2849</td>\n      <td>11156.0</td>\n      <td>Antoine</td>\n      <td>Antoine_Lung_CD31_10X</td>\n      <td>Lung</td>\n      <td>CD31</td>\n      <td>Antoine</td>\n      <td>Lemur</td>\n      <td>10X</td>\n      <td>Biohub</td>\n      <td>...</td>\n      <td>0.071215</td>\n      <td>2.015433</td>\n      <td>0.399618</td>\n      <td>-0.064268</td>\n      <td>-0.241688</td>\n      <td>-0.034718</td>\n      <td>-0.023589</td>\n      <td>macrophage</td>\n      <td>immune</td>\n      <td>5</td>\n    </tr>\n    <tr>\n      <th>Antoine_Lung_CD31_10X_AAACCTGAGATGTTAG</th>\n      <td>2096</td>\n      <td>5450.0</td>\n      <td>Antoine</td>\n      <td>Antoine_Lung_CD31_10X</td>\n      <td>Lung</td>\n      <td>CD31</td>\n      <td>Antoine</td>\n      <td>Lemur</td>\n      <td>10X</td>\n      <td>Biohub</td>\n      <td>...</td>\n      <td>0.165880</td>\n      <td>2.115203</td>\n      <td>-0.571349</td>\n      <td>-0.064268</td>\n      <td>-0.241688</td>\n      <td>-0.034718</td>\n      <td>-0.023589</td>\n      <td>macrophage</td>\n      <td>immune</td>\n      <td>65</td>\n    </tr>\n    <tr>\n      <th>Antoine_Lung_CD31_10X_AAACCTGAGCGTAGTG</th>\n      <td>776</td>\n      <td>1138.0</td>\n      <td>Antoine</td>\n      <td>Antoine_Lung_CD31_10X</td>\n      <td>Lung</td>\n      <td>CD31</td>\n      <td>Antoine</td>\n      <td>Lemur</td>\n      <td>10X</td>\n      <td>Biohub</td>\n      <td>...</td>\n      <td>-1.054854</td>\n      <td>0.890181</td>\n      <td>-0.571349</td>\n      <td>-0.064268</td>\n      <td>-0.241688</td>\n      <td>-0.034718</td>\n      <td>-0.023589</td>\n      <td>endothelial</td>\n      <td>endothelial</td>\n      <td>60</td>\n    </tr>\n    <tr>\n      <th>Antoine_Lung_CD31_10X_AAACCTGAGGCAGTCA</th>\n      <td>2863</td>\n      <td>11950.0</td>\n      <td>Antoine</td>\n      <td>Antoine_Lung_CD31_10X</td>\n      <td>Lung</td>\n      <td>CD31</td>\n      <td>Antoine</td>\n      <td>Lemur</td>\n      <td>10X</td>\n      <td>Biohub</td>\n      <td>...</td>\n      <td>-0.738224</td>\n      <td>0.025662</td>\n      <td>-0.571349</td>\n      <td>-0.064268</td>\n      <td>-0.241688</td>\n      <td>-0.034718</td>\n      <td>-0.023589</td>\n      <td>epithelial</td>\n      <td>epithelial</td>\n      <td>17</td>\n    </tr>\n    <tr>\n      <th>Antoine_Lung_CD31_10X_AAACCTGAGGGTGTGT</th>\n      <td>3417</td>\n      <td>13559.0</td>\n      <td>Antoine</td>\n      <td>Antoine_Lung_CD31_10X</td>\n      <td>Lung</td>\n      <td>CD31</td>\n      <td>Antoine</td>\n      <td>Lemur</td>\n      <td>10X</td>\n      <td>Biohub</td>\n      <td>...</td>\n      <td>0.067935</td>\n      <td>1.962445</td>\n      <td>-0.571349</td>\n      <td>-0.064268</td>\n      <td>-0.241688</td>\n      <td>-0.034718</td>\n      <td>-0.023589</td>\n      <td>macrophage</td>\n      <td>immune</td>\n      <td>20</td>\n    </tr>\n  </tbody>\n</table>\n<p>5 rows × 28 columns</p>\n</div>",
        "text/plain": "                                        n_genes  n_counts orig_ident  \\\nindex                                                                  \nAntoine_Lung_CD31_10X_AAACCTGAGAAACGAG     2849   11156.0    Antoine   \nAntoine_Lung_CD31_10X_AAACCTGAGATGTTAG     2096    5450.0    Antoine   \nAntoine_Lung_CD31_10X_AAACCTGAGCGTAGTG      776    1138.0    Antoine   \nAntoine_Lung_CD31_10X_AAACCTGAGGCAGTCA     2863   11950.0    Antoine   \nAntoine_Lung_CD31_10X_AAACCTGAGGGTGTGT     3417   13559.0    Antoine   \n\n                                                      channel tissue region  \\\nindex                                                                         \nAntoine_Lung_CD31_10X_AAACCTGAGAAACGAG  Antoine_Lung_CD31_10X   Lung   CD31   \nAntoine_Lung_CD31_10X_AAACCTGAGATGTTAG  Antoine_Lung_CD31_10X   Lung   CD31   \nAntoine_Lung_CD31_10X_AAACCTGAGCGTAGTG  Antoine_Lung_CD31_10X   Lung   CD31   \nAntoine_Lung_CD31_10X_AAACCTGAGGCAGTCA  Antoine_Lung_CD31_10X   Lung   CD31   \nAntoine_Lung_CD31_10X_AAACCTGAGGGTGTGT  Antoine_Lung_CD31_10X   Lung   CD31   \n\n                                       individual species method processed  \\\nindex                                                                        \nAntoine_Lung_CD31_10X_AAACCTGAGAAACGAG    Antoine   Lemur    10X    Biohub   \nAntoine_Lung_CD31_10X_AAACCTGAGATGTTAG    Antoine   Lemur    10X    Biohub   \nAntoine_Lung_CD31_10X_AAACCTGAGCGTAGTG    Antoine   Lemur    10X    Biohub   \nAntoine_Lung_CD31_10X_AAACCTGAGGCAGTCA    Antoine   Lemur    10X    Biohub   \nAntoine_Lung_CD31_10X_AAACCTGAGGGTGTGT    Antoine   Lemur    10X    Biohub   \n\n                                        ...  immune_score macrophage_score  \\\nindex                                   ...                                  \nAntoine_Lung_CD31_10X_AAACCTGAGAAACGAG  ...      0.071215         2.015433   \nAntoine_Lung_CD31_10X_AAACCTGAGATGTTAG  ...      0.165880         2.115203   \nAntoine_Lung_CD31_10X_AAACCTGAGCGTAGTG  ...     -1.054854         0.890181   \nAntoine_Lung_CD31_10X_AAACCTGAGGCAGTCA  ...     -0.738224         0.025662   \nAntoine_Lung_CD31_10X_AAACCTGAGGGTGTGT  ...      0.067935         1.962445   \n\n                                       plasma_score  muscle_score  \\\nindex                                                               \nAntoine_Lung_CD31_10X_AAACCTGAGAAACGAG     0.399618     -0.064268   \nAntoine_Lung_CD31_10X_AAACCTGAGATGTTAG    -0.571349     -0.064268   \nAntoine_Lung_CD31_10X_AAACCTGAGCGTAGTG    -0.571349     -0.064268   \nAntoine_Lung_CD31_10X_AAACCTGAGGCAGTCA    -0.571349     -0.064268   \nAntoine_Lung_CD31_10X_AAACCTGAGGGTGTGT    -0.571349     -0.064268   \n\n                                        stromal_score  neuronal_score  \\\nindex                                                                   \nAntoine_Lung_CD31_10X_AAACCTGAGAAACGAG      -0.241688       -0.034718   \nAntoine_Lung_CD31_10X_AAACCTGAGATGTTAG      -0.241688       -0.034718   \nAntoine_Lung_CD31_10X_AAACCTGAGCGTAGTG      -0.241688       -0.034718   \nAntoine_Lung_CD31_10X_AAACCTGAGGCAGTCA      -0.241688       -0.034718   \nAntoine_Lung_CD31_10X_AAACCTGAGGGTGTGT      -0.241688       -0.034718   \n\n                                        adipose_score  compartment_original  \\\nindex                                                                         \nAntoine_Lung_CD31_10X_AAACCTGAGAAACGAG      -0.023589            macrophage   \nAntoine_Lung_CD31_10X_AAACCTGAGATGTTAG      -0.023589            macrophage   \nAntoine_Lung_CD31_10X_AAACCTGAGCGTAGTG      -0.023589           endothelial   \nAntoine_Lung_CD31_10X_AAACCTGAGGCAGTCA      -0.023589            epithelial   \nAntoine_Lung_CD31_10X_AAACCTGAGGGTGTGT      -0.023589            macrophage   \n\n                                        compartment_final  leiden  \nindex                                                              \nAntoine_Lung_CD31_10X_AAACCTGAGAAACGAG             immune       5  \nAntoine_Lung_CD31_10X_AAACCTGAGATGTTAG             immune      65  \nAntoine_Lung_CD31_10X_AAACCTGAGCGTAGTG        endothelial      60  \nAntoine_Lung_CD31_10X_AAACCTGAGGCAGTCA         epithelial      17  \nAntoine_Lung_CD31_10X_AAACCTGAGGGTGTGT             immune      20  \n\n[5 rows x 28 columns]"
       },
       "execution_count": 79,
       "metadata": {},
       "output_type": "execute_result"
      }
     ],
     "persistentId": "42b14e72-7cbd-458c-86b8-05461831e84d",
     "text": "lemur_one2one.obs.head()"
    },
    "executionTime": "2019-12-14T18:01:58.958Z"
   },
   {
    "cell": {
     "executionCount": 80,
     "executionEventId": "b9357bf5-7eff-4101-adeb-39206942b2d0",
     "hasError": false,
     "id": "ce8eed63-07a5-4ccb-b7be-9806f1cddc75",
     "outputs": [
      {
       "data": {
        "text/html": "<div>\n<style scoped>\n    .dataframe tbody tr th:only-of-type {\n        vertical-align: middle;\n    }\n\n    .dataframe tbody tr th {\n        vertical-align: top;\n    }\n\n    .dataframe thead th {\n        text-align: right;\n    }\n</style>\n<table border=\"1\" class=\"dataframe\">\n  <thead>\n    <tr style=\"text-align: right;\">\n      <th></th>\n      <th>age</th>\n      <th>cell</th>\n      <th>cell_ontology_class</th>\n      <th>cell_ontology_id</th>\n      <th>free_annotation</th>\n      <th>method</th>\n      <th>mouse.id</th>\n      <th>n_genes</th>\n      <th>sex</th>\n      <th>subtissue</th>\n      <th>tissue</th>\n      <th>tissue_free_annotation</th>\n      <th>n_counts</th>\n      <th>louvain</th>\n      <th>leiden</th>\n    </tr>\n    <tr>\n      <th>index</th>\n      <th></th>\n      <th></th>\n      <th></th>\n      <th></th>\n      <th></th>\n      <th></th>\n      <th></th>\n      <th></th>\n      <th></th>\n      <th></th>\n      <th></th>\n      <th></th>\n      <th></th>\n      <th></th>\n      <th></th>\n    </tr>\n  </thead>\n  <tbody>\n    <tr>\n      <th>AAACGGGTCGCCCTTA-1-11-0-0</th>\n      <td>18m</td>\n      <td>MACA_18m_F_LUNG_50_AAACGGGTCGCCCTTA</td>\n      <td>B cell</td>\n      <td>NA</td>\n      <td>B</td>\n      <td>droplet</td>\n      <td>18-F-50</td>\n      <td>1821.0</td>\n      <td>female</td>\n      <td>nan</td>\n      <td>Lung</td>\n      <td>Lung</td>\n      <td>5774.0</td>\n      <td>4</td>\n      <td>3</td>\n    </tr>\n    <tr>\n      <th>AAAGATGAGCAGACTG-1-11-0-0</th>\n      <td>18m</td>\n      <td>MACA_18m_F_LUNG_50_AAAGATGAGCAGACTG</td>\n      <td>non-classical monocyte</td>\n      <td>NA</td>\n      <td>Nonclassical Monocyte</td>\n      <td>droplet</td>\n      <td>18-F-50</td>\n      <td>1333.0</td>\n      <td>female</td>\n      <td>nan</td>\n      <td>Lung</td>\n      <td>Lung</td>\n      <td>3878.0</td>\n      <td>2</td>\n      <td>1</td>\n    </tr>\n    <tr>\n      <th>AAAGATGAGCCGTCGT-1-11-0-0</th>\n      <td>18m</td>\n      <td>MACA_18m_F_LUNG_50_AAAGATGAGCCGTCGT</td>\n      <td>NK cell</td>\n      <td>NA</td>\n      <td>Natural Killer</td>\n      <td>droplet</td>\n      <td>18-F-50</td>\n      <td>1455.0</td>\n      <td>female</td>\n      <td>nan</td>\n      <td>Lung</td>\n      <td>Lung</td>\n      <td>3990.0</td>\n      <td>7</td>\n      <td>5</td>\n    </tr>\n    <tr>\n      <th>AAAGCAACATGGTAGG-1-11-0-0</th>\n      <td>18m</td>\n      <td>MACA_18m_F_LUNG_50_AAAGCAACATGGTAGG</td>\n      <td>alveolar macrophage</td>\n      <td>NA</td>\n      <td>Alveolar Macrophage</td>\n      <td>droplet</td>\n      <td>18-F-50</td>\n      <td>3322.0</td>\n      <td>female</td>\n      <td>nan</td>\n      <td>Lung</td>\n      <td>Lung</td>\n      <td>13346.0</td>\n      <td>9</td>\n      <td>8</td>\n    </tr>\n    <tr>\n      <th>AAAGCAAGTCTAGTGT-1-11-0-0</th>\n      <td>18m</td>\n      <td>MACA_18m_F_LUNG_50_AAAGCAAGTCTAGTGT</td>\n      <td>B cell</td>\n      <td>NA</td>\n      <td>B</td>\n      <td>droplet</td>\n      <td>18-F-50</td>\n      <td>1120.0</td>\n      <td>female</td>\n      <td>nan</td>\n      <td>Lung</td>\n      <td>Lung</td>\n      <td>2608.0</td>\n      <td>4</td>\n      <td>3</td>\n    </tr>\n  </tbody>\n</table>\n</div>",
        "text/plain": "                           age                                 cell  \\\nindex                                                                 \nAAACGGGTCGCCCTTA-1-11-0-0  18m  MACA_18m_F_LUNG_50_AAACGGGTCGCCCTTA   \nAAAGATGAGCAGACTG-1-11-0-0  18m  MACA_18m_F_LUNG_50_AAAGATGAGCAGACTG   \nAAAGATGAGCCGTCGT-1-11-0-0  18m  MACA_18m_F_LUNG_50_AAAGATGAGCCGTCGT   \nAAAGCAACATGGTAGG-1-11-0-0  18m  MACA_18m_F_LUNG_50_AAAGCAACATGGTAGG   \nAAAGCAAGTCTAGTGT-1-11-0-0  18m  MACA_18m_F_LUNG_50_AAAGCAAGTCTAGTGT   \n\n                              cell_ontology_class cell_ontology_id  \\\nindex                                                                \nAAACGGGTCGCCCTTA-1-11-0-0                  B cell               NA   \nAAAGATGAGCAGACTG-1-11-0-0  non-classical monocyte               NA   \nAAAGATGAGCCGTCGT-1-11-0-0                 NK cell               NA   \nAAAGCAACATGGTAGG-1-11-0-0     alveolar macrophage               NA   \nAAAGCAAGTCTAGTGT-1-11-0-0                  B cell               NA   \n\n                                 free_annotation   method mouse.id  n_genes  \\\nindex                                                                         \nAAACGGGTCGCCCTTA-1-11-0-0                      B  droplet  18-F-50   1821.0   \nAAAGATGAGCAGACTG-1-11-0-0  Nonclassical Monocyte  droplet  18-F-50   1333.0   \nAAAGATGAGCCGTCGT-1-11-0-0         Natural Killer  droplet  18-F-50   1455.0   \nAAAGCAACATGGTAGG-1-11-0-0    Alveolar Macrophage  droplet  18-F-50   3322.0   \nAAAGCAAGTCTAGTGT-1-11-0-0                      B  droplet  18-F-50   1120.0   \n\n                              sex subtissue tissue tissue_free_annotation  \\\nindex                                                                       \nAAACGGGTCGCCCTTA-1-11-0-0  female       nan   Lung                   Lung   \nAAAGATGAGCAGACTG-1-11-0-0  female       nan   Lung                   Lung   \nAAAGATGAGCCGTCGT-1-11-0-0  female       nan   Lung                   Lung   \nAAAGCAACATGGTAGG-1-11-0-0  female       nan   Lung                   Lung   \nAAAGCAAGTCTAGTGT-1-11-0-0  female       nan   Lung                   Lung   \n\n                           n_counts louvain leiden  \nindex                                               \nAAACGGGTCGCCCTTA-1-11-0-0    5774.0       4      3  \nAAAGATGAGCAGACTG-1-11-0-0    3878.0       2      1  \nAAAGATGAGCCGTCGT-1-11-0-0    3990.0       7      5  \nAAAGCAACATGGTAGG-1-11-0-0   13346.0       9      8  \nAAAGCAAGTCTAGTGT-1-11-0-0    2608.0       4      3  "
       },
       "execution_count": 80,
       "metadata": {},
       "output_type": "execute_result"
      }
     ],
     "persistentId": "3810f6f4-2b47-4abf-81a5-0ae0facba641",
     "text": "mouse_one2one.obs.head()"
    },
    "executionTime": "2019-12-14T18:02:27.307Z"
   },
   {
    "cell": {
     "executionCount": 81,
     "executionEventId": "9fe2c622-38ec-4ee9-87d5-aaf7ffce06c9",
     "hasError": false,
     "id": "ce8eed63-07a5-4ccb-b7be-9806f1cddc75",
     "outputs": [],
     "persistentId": "3810f6f4-2b47-4abf-81a5-0ae0facba641",
     "text": "mouse_one2one.species = 'Mouse'"
    },
    "executionTime": "2019-12-14T18:02:36.240Z"
   },
   {
    "cell": {
     "executionCount": 82,
     "executionEventId": "92c633eb-f8f1-4a5d-97bb-1beb9f43b161",
     "hasError": true,
     "id": "ce8eed63-07a5-4ccb-b7be-9806f1cddc75",
     "outputs": [
      {
       "ename": "AttributeError",
       "evalue": "'AnnData' object has no attribute 'head'",
       "output_type": "error",
       "traceback": [
        "\u001b[0;31m---------------------------------------------------------------------------\u001b[0m",
        "\u001b[0;31mAttributeError\u001b[0m                            Traceback (most recent call last)",
        "\u001b[0;32m<ipython-input-82-0f24129b9500>\u001b[0m in \u001b[0;36m<module>\u001b[0;34m\u001b[0m\n\u001b[1;32m      1\u001b[0m \u001b[0mmouse_one2one\u001b[0m\u001b[0;34m.\u001b[0m\u001b[0mspecies\u001b[0m \u001b[0;34m=\u001b[0m \u001b[0;34m'Mouse'\u001b[0m\u001b[0;34m\u001b[0m\u001b[0;34m\u001b[0m\u001b[0m\n\u001b[0;32m----> 2\u001b[0;31m \u001b[0mmouse_one2one\u001b[0m\u001b[0;34m.\u001b[0m\u001b[0mhead\u001b[0m\u001b[0;34m(\u001b[0m\u001b[0;34m)\u001b[0m\u001b[0;34m\u001b[0m\u001b[0;34m\u001b[0m\u001b[0m\n\u001b[0m",
        "\u001b[0;31mAttributeError\u001b[0m: 'AnnData' object has no attribute 'head'"
       ]
      }
     ],
     "persistentId": "3810f6f4-2b47-4abf-81a5-0ae0facba641",
     "text": "mouse_one2one.species = 'Mouse'\nmouse_one2one.head()"
    },
    "executionTime": "2019-12-14T18:02:38.456Z"
   },
   {
    "cell": {
     "executionCount": 83,
     "executionEventId": "f94ffa52-d1d2-4cc6-b358-ab682d57742a",
     "hasError": true,
     "id": "ce8eed63-07a5-4ccb-b7be-9806f1cddc75",
     "outputs": [
      {
       "name": "stderr",
       "output_type": "stream",
       "text": "Trying to set attribute `.var` of view, making a copy.\n"
      },
      {
       "ename": "AttributeError",
       "evalue": "'AnnData' object has no attribute 'head'",
       "output_type": "error",
       "traceback": [
        "\u001b[0;31m---------------------------------------------------------------------------\u001b[0m",
        "\u001b[0;31mAttributeError\u001b[0m                            Traceback (most recent call last)",
        "\u001b[0;32m<ipython-input-83-3536382734f9>\u001b[0m in \u001b[0;36m<module>\u001b[0;34m\u001b[0m\n\u001b[1;32m      1\u001b[0m \u001b[0mmouse_one2one\u001b[0m\u001b[0;34m.\u001b[0m\u001b[0mvar\u001b[0m\u001b[0;34m[\u001b[0m\u001b[0;34m'species'\u001b[0m\u001b[0;34m]\u001b[0m \u001b[0;34m=\u001b[0m \u001b[0;34m'Mouse'\u001b[0m\u001b[0;34m\u001b[0m\u001b[0;34m\u001b[0m\u001b[0m\n\u001b[0;32m----> 2\u001b[0;31m \u001b[0mmouse_one2one\u001b[0m\u001b[0;34m.\u001b[0m\u001b[0mhead\u001b[0m\u001b[0;34m(\u001b[0m\u001b[0;34m)\u001b[0m\u001b[0;34m\u001b[0m\u001b[0;34m\u001b[0m\u001b[0m\n\u001b[0m",
        "\u001b[0;31mAttributeError\u001b[0m: 'AnnData' object has no attribute 'head'"
       ]
      }
     ],
     "persistentId": "3810f6f4-2b47-4abf-81a5-0ae0facba641",
     "text": "mouse_one2one.var['species'] = 'Mouse'\nmouse_one2one.head()"
    },
    "executionTime": "2019-12-14T18:02:42.092Z"
   },
   {
    "cell": {
     "executionCount": 84,
     "executionEventId": "91669097-5c73-45f1-8867-d8ecc53ac0a8",
     "hasError": false,
     "id": "ce8eed63-07a5-4ccb-b7be-9806f1cddc75",
     "outputs": [
      {
       "data": {
        "text/html": "<div>\n<style scoped>\n    .dataframe tbody tr th:only-of-type {\n        vertical-align: middle;\n    }\n\n    .dataframe tbody tr th {\n        vertical-align: top;\n    }\n\n    .dataframe thead th {\n        text-align: right;\n    }\n</style>\n<table border=\"1\" class=\"dataframe\">\n  <thead>\n    <tr style=\"text-align: right;\">\n      <th></th>\n      <th>n_cells</th>\n      <th>means</th>\n      <th>dispersions</th>\n      <th>dispersions_norm</th>\n      <th>highly_variable</th>\n      <th>species</th>\n    </tr>\n    <tr>\n      <th>index</th>\n      <th></th>\n      <th></th>\n      <th></th>\n      <th></th>\n      <th></th>\n      <th></th>\n    </tr>\n  </thead>\n  <tbody>\n    <tr>\n      <th>Sox17</th>\n      <td>27289</td>\n      <td>0.361263</td>\n      <td>2.295648</td>\n      <td>2.454915</td>\n      <td>True</td>\n      <td>Mouse</td>\n    </tr>\n    <tr>\n      <th>Mrpl15</th>\n      <td>95312</td>\n      <td>0.468919</td>\n      <td>0.902769</td>\n      <td>-0.554274</td>\n      <td>False</td>\n      <td>Mouse</td>\n    </tr>\n    <tr>\n      <th>Lypla1</th>\n      <td>86096</td>\n      <td>0.357519</td>\n      <td>0.891374</td>\n      <td>-0.578892</td>\n      <td>False</td>\n      <td>Mouse</td>\n    </tr>\n    <tr>\n      <th>Tcea1</th>\n      <td>120238</td>\n      <td>0.580153</td>\n      <td>0.957326</td>\n      <td>-0.540244</td>\n      <td>False</td>\n      <td>Mouse</td>\n    </tr>\n    <tr>\n      <th>Rgs20</th>\n      <td>1887</td>\n      <td>0.000131</td>\n      <td>0.072323</td>\n      <td>-2.445816</td>\n      <td>False</td>\n      <td>Mouse</td>\n    </tr>\n  </tbody>\n</table>\n</div>",
        "text/plain": "        n_cells     means  dispersions  dispersions_norm  highly_variable  \\\nindex                                                                       \nSox17     27289  0.361263     2.295648          2.454915             True   \nMrpl15    95312  0.468919     0.902769         -0.554274            False   \nLypla1    86096  0.357519     0.891374         -0.578892            False   \nTcea1    120238  0.580153     0.957326         -0.540244            False   \nRgs20      1887  0.000131     0.072323         -2.445816            False   \n\n       species  \nindex           \nSox17    Mouse  \nMrpl15   Mouse  \nLypla1   Mouse  \nTcea1    Mouse  \nRgs20    Mouse  "
       },
       "execution_count": 84,
       "metadata": {},
       "output_type": "execute_result"
      }
     ],
     "persistentId": "3810f6f4-2b47-4abf-81a5-0ae0facba641",
     "text": "mouse_one2one.var['species'] = 'Mouse'\nmouse_one2one.var.head()"
    },
    "executionTime": "2019-12-14T18:02:48.209Z"
   },
   {
    "cell": {
     "executionCount": 85,
     "executionEventId": "2c3513a0-1cda-491b-bb5a-92574e083c13",
     "hasError": false,
     "id": "454b83c4-e13b-487d-8ff4-594288dfa151",
     "outputs": [
      {
       "data": {
        "text/html": "<div>\n<style scoped>\n    .dataframe tbody tr th:only-of-type {\n        vertical-align: middle;\n    }\n\n    .dataframe tbody tr th {\n        vertical-align: top;\n    }\n\n    .dataframe thead th {\n        text-align: right;\n    }\n</style>\n<table border=\"1\" class=\"dataframe\">\n  <thead>\n    <tr style=\"text-align: right;\">\n      <th></th>\n      <th>n_genes</th>\n      <th>n_counts</th>\n      <th>orig_ident</th>\n      <th>channel</th>\n      <th>tissue</th>\n      <th>region</th>\n      <th>individual</th>\n      <th>species</th>\n      <th>method</th>\n      <th>processed</th>\n      <th>...</th>\n      <th>macrophage_score</th>\n      <th>plasma_score</th>\n      <th>muscle_score</th>\n      <th>stromal_score</th>\n      <th>neuronal_score</th>\n      <th>adipose_score</th>\n      <th>compartment_original</th>\n      <th>compartment_final</th>\n      <th>leiden</th>\n      <th>species_latin</th>\n    </tr>\n    <tr>\n      <th>index</th>\n      <th></th>\n      <th></th>\n      <th></th>\n      <th></th>\n      <th></th>\n      <th></th>\n      <th></th>\n      <th></th>\n      <th></th>\n      <th></th>\n      <th></th>\n      <th></th>\n      <th></th>\n      <th></th>\n      <th></th>\n      <th></th>\n      <th></th>\n      <th></th>\n      <th></th>\n      <th></th>\n      <th></th>\n    </tr>\n  </thead>\n  <tbody>\n    <tr>\n      <th>Antoine_Lung_CD31_10X_AAACCTGAGAAACGAG</th>\n      <td>2849</td>\n      <td>11156.0</td>\n      <td>Antoine</td>\n      <td>Antoine_Lung_CD31_10X</td>\n      <td>Lung</td>\n      <td>CD31</td>\n      <td>Antoine</td>\n      <td>Mouse lemur</td>\n      <td>10X</td>\n      <td>Biohub</td>\n      <td>...</td>\n      <td>2.015433</td>\n      <td>0.399618</td>\n      <td>-0.064268</td>\n      <td>-0.241688</td>\n      <td>-0.034718</td>\n      <td>-0.023589</td>\n      <td>macrophage</td>\n      <td>immune</td>\n      <td>5</td>\n      <td>Microcebus murinus</td>\n    </tr>\n    <tr>\n      <th>Antoine_Lung_CD31_10X_AAACCTGAGATGTTAG</th>\n      <td>2096</td>\n      <td>5450.0</td>\n      <td>Antoine</td>\n      <td>Antoine_Lung_CD31_10X</td>\n      <td>Lung</td>\n      <td>CD31</td>\n      <td>Antoine</td>\n      <td>Mouse lemur</td>\n      <td>10X</td>\n      <td>Biohub</td>\n      <td>...</td>\n      <td>2.115203</td>\n      <td>-0.571349</td>\n      <td>-0.064268</td>\n      <td>-0.241688</td>\n      <td>-0.034718</td>\n      <td>-0.023589</td>\n      <td>macrophage</td>\n      <td>immune</td>\n      <td>65</td>\n      <td>Microcebus murinus</td>\n    </tr>\n    <tr>\n      <th>Antoine_Lung_CD31_10X_AAACCTGAGCGTAGTG</th>\n      <td>776</td>\n      <td>1138.0</td>\n      <td>Antoine</td>\n      <td>Antoine_Lung_CD31_10X</td>\n      <td>Lung</td>\n      <td>CD31</td>\n      <td>Antoine</td>\n      <td>Mouse lemur</td>\n      <td>10X</td>\n      <td>Biohub</td>\n      <td>...</td>\n      <td>0.890181</td>\n      <td>-0.571349</td>\n      <td>-0.064268</td>\n      <td>-0.241688</td>\n      <td>-0.034718</td>\n      <td>-0.023589</td>\n      <td>endothelial</td>\n      <td>endothelial</td>\n      <td>60</td>\n      <td>Microcebus murinus</td>\n    </tr>\n    <tr>\n      <th>Antoine_Lung_CD31_10X_AAACCTGAGGCAGTCA</th>\n      <td>2863</td>\n      <td>11950.0</td>\n      <td>Antoine</td>\n      <td>Antoine_Lung_CD31_10X</td>\n      <td>Lung</td>\n      <td>CD31</td>\n      <td>Antoine</td>\n      <td>Mouse lemur</td>\n      <td>10X</td>\n      <td>Biohub</td>\n      <td>...</td>\n      <td>0.025662</td>\n      <td>-0.571349</td>\n      <td>-0.064268</td>\n      <td>-0.241688</td>\n      <td>-0.034718</td>\n      <td>-0.023589</td>\n      <td>epithelial</td>\n      <td>epithelial</td>\n      <td>17</td>\n      <td>Microcebus murinus</td>\n    </tr>\n    <tr>\n      <th>Antoine_Lung_CD31_10X_AAACCTGAGGGTGTGT</th>\n      <td>3417</td>\n      <td>13559.0</td>\n      <td>Antoine</td>\n      <td>Antoine_Lung_CD31_10X</td>\n      <td>Lung</td>\n      <td>CD31</td>\n      <td>Antoine</td>\n      <td>Mouse lemur</td>\n      <td>10X</td>\n      <td>Biohub</td>\n      <td>...</td>\n      <td>1.962445</td>\n      <td>-0.571349</td>\n      <td>-0.064268</td>\n      <td>-0.241688</td>\n      <td>-0.034718</td>\n      <td>-0.023589</td>\n      <td>macrophage</td>\n      <td>immune</td>\n      <td>20</td>\n      <td>Microcebus murinus</td>\n    </tr>\n  </tbody>\n</table>\n<p>5 rows × 29 columns</p>\n</div>",
        "text/plain": "                                        n_genes  n_counts orig_ident  \\\nindex                                                                  \nAntoine_Lung_CD31_10X_AAACCTGAGAAACGAG     2849   11156.0    Antoine   \nAntoine_Lung_CD31_10X_AAACCTGAGATGTTAG     2096    5450.0    Antoine   \nAntoine_Lung_CD31_10X_AAACCTGAGCGTAGTG      776    1138.0    Antoine   \nAntoine_Lung_CD31_10X_AAACCTGAGGCAGTCA     2863   11950.0    Antoine   \nAntoine_Lung_CD31_10X_AAACCTGAGGGTGTGT     3417   13559.0    Antoine   \n\n                                                      channel tissue region  \\\nindex                                                                         \nAntoine_Lung_CD31_10X_AAACCTGAGAAACGAG  Antoine_Lung_CD31_10X   Lung   CD31   \nAntoine_Lung_CD31_10X_AAACCTGAGATGTTAG  Antoine_Lung_CD31_10X   Lung   CD31   \nAntoine_Lung_CD31_10X_AAACCTGAGCGTAGTG  Antoine_Lung_CD31_10X   Lung   CD31   \nAntoine_Lung_CD31_10X_AAACCTGAGGCAGTCA  Antoine_Lung_CD31_10X   Lung   CD31   \nAntoine_Lung_CD31_10X_AAACCTGAGGGTGTGT  Antoine_Lung_CD31_10X   Lung   CD31   \n\n                                       individual      species method  \\\nindex                                                                   \nAntoine_Lung_CD31_10X_AAACCTGAGAAACGAG    Antoine  Mouse lemur    10X   \nAntoine_Lung_CD31_10X_AAACCTGAGATGTTAG    Antoine  Mouse lemur    10X   \nAntoine_Lung_CD31_10X_AAACCTGAGCGTAGTG    Antoine  Mouse lemur    10X   \nAntoine_Lung_CD31_10X_AAACCTGAGGCAGTCA    Antoine  Mouse lemur    10X   \nAntoine_Lung_CD31_10X_AAACCTGAGGGTGTGT    Antoine  Mouse lemur    10X   \n\n                                       processed  ...  macrophage_score  \\\nindex                                             ...                     \nAntoine_Lung_CD31_10X_AAACCTGAGAAACGAG    Biohub  ...          2.015433   \nAntoine_Lung_CD31_10X_AAACCTGAGATGTTAG    Biohub  ...          2.115203   \nAntoine_Lung_CD31_10X_AAACCTGAGCGTAGTG    Biohub  ...          0.890181   \nAntoine_Lung_CD31_10X_AAACCTGAGGCAGTCA    Biohub  ...          0.025662   \nAntoine_Lung_CD31_10X_AAACCTGAGGGTGTGT    Biohub  ...          1.962445   \n\n                                       plasma_score muscle_score  \\\nindex                                                              \nAntoine_Lung_CD31_10X_AAACCTGAGAAACGAG     0.399618    -0.064268   \nAntoine_Lung_CD31_10X_AAACCTGAGATGTTAG    -0.571349    -0.064268   \nAntoine_Lung_CD31_10X_AAACCTGAGCGTAGTG    -0.571349    -0.064268   \nAntoine_Lung_CD31_10X_AAACCTGAGGCAGTCA    -0.571349    -0.064268   \nAntoine_Lung_CD31_10X_AAACCTGAGGGTGTGT    -0.571349    -0.064268   \n\n                                        stromal_score  neuronal_score  \\\nindex                                                                   \nAntoine_Lung_CD31_10X_AAACCTGAGAAACGAG      -0.241688       -0.034718   \nAntoine_Lung_CD31_10X_AAACCTGAGATGTTAG      -0.241688       -0.034718   \nAntoine_Lung_CD31_10X_AAACCTGAGCGTAGTG      -0.241688       -0.034718   \nAntoine_Lung_CD31_10X_AAACCTGAGGCAGTCA      -0.241688       -0.034718   \nAntoine_Lung_CD31_10X_AAACCTGAGGGTGTGT      -0.241688       -0.034718   \n\n                                        adipose_score  compartment_original  \\\nindex                                                                         \nAntoine_Lung_CD31_10X_AAACCTGAGAAACGAG      -0.023589            macrophage   \nAntoine_Lung_CD31_10X_AAACCTGAGATGTTAG      -0.023589            macrophage   \nAntoine_Lung_CD31_10X_AAACCTGAGCGTAGTG      -0.023589           endothelial   \nAntoine_Lung_CD31_10X_AAACCTGAGGCAGTCA      -0.023589            epithelial   \nAntoine_Lung_CD31_10X_AAACCTGAGGGTGTGT      -0.023589            macrophage   \n\n                                        compartment_final  leiden  \\\nindex                                                               \nAntoine_Lung_CD31_10X_AAACCTGAGAAACGAG             immune       5   \nAntoine_Lung_CD31_10X_AAACCTGAGATGTTAG             immune      65   \nAntoine_Lung_CD31_10X_AAACCTGAGCGTAGTG        endothelial      60   \nAntoine_Lung_CD31_10X_AAACCTGAGGCAGTCA         epithelial      17   \nAntoine_Lung_CD31_10X_AAACCTGAGGGTGTGT             immune      20   \n\n                                             species_latin  \nindex                                                       \nAntoine_Lung_CD31_10X_AAACCTGAGAAACGAG  Microcebus murinus  \nAntoine_Lung_CD31_10X_AAACCTGAGATGTTAG  Microcebus murinus  \nAntoine_Lung_CD31_10X_AAACCTGAGCGTAGTG  Microcebus murinus  \nAntoine_Lung_CD31_10X_AAACCTGAGGCAGTCA  Microcebus murinus  \nAntoine_Lung_CD31_10X_AAACCTGAGGGTGTGT  Microcebus murinus  \n\n[5 rows x 29 columns]"
       },
       "execution_count": 85,
       "metadata": {},
       "output_type": "execute_result"
      }
     ],
     "persistentId": "42b14e72-7cbd-458c-86b8-05461831e84d",
     "text": "lemur_one2one.obs['species'] = 'Mouse lemur'\nlemur_one2one.obs['species_latin'] = 'Microcebus murinus'\nlemur_one2one.obs.head()"
    },
    "executionTime": "2019-12-14T18:03:35.226Z"
   },
   {
    "cell": {
     "executionCount": 86,
     "executionEventId": "5622f211-fa6d-4236-bfbf-ae9905222a56",
     "hasError": false,
     "id": "ce8eed63-07a5-4ccb-b7be-9806f1cddc75",
     "outputs": [
      {
       "data": {
        "text/html": "<div>\n<style scoped>\n    .dataframe tbody tr th:only-of-type {\n        vertical-align: middle;\n    }\n\n    .dataframe tbody tr th {\n        vertical-align: top;\n    }\n\n    .dataframe thead th {\n        text-align: right;\n    }\n</style>\n<table border=\"1\" class=\"dataframe\">\n  <thead>\n    <tr style=\"text-align: right;\">\n      <th></th>\n      <th>age</th>\n      <th>cell</th>\n      <th>cell_ontology_class</th>\n      <th>cell_ontology_id</th>\n      <th>free_annotation</th>\n      <th>method</th>\n      <th>mouse.id</th>\n      <th>n_genes</th>\n      <th>sex</th>\n      <th>subtissue</th>\n      <th>tissue</th>\n      <th>tissue_free_annotation</th>\n      <th>n_counts</th>\n      <th>louvain</th>\n      <th>leiden</th>\n      <th>species</th>\n      <th>species_latin</th>\n    </tr>\n    <tr>\n      <th>index</th>\n      <th></th>\n      <th></th>\n      <th></th>\n      <th></th>\n      <th></th>\n      <th></th>\n      <th></th>\n      <th></th>\n      <th></th>\n      <th></th>\n      <th></th>\n      <th></th>\n      <th></th>\n      <th></th>\n      <th></th>\n      <th></th>\n      <th></th>\n    </tr>\n  </thead>\n  <tbody>\n    <tr>\n      <th>AAACGGGTCGCCCTTA-1-11-0-0</th>\n      <td>18m</td>\n      <td>MACA_18m_F_LUNG_50_AAACGGGTCGCCCTTA</td>\n      <td>B cell</td>\n      <td>NA</td>\n      <td>B</td>\n      <td>droplet</td>\n      <td>18-F-50</td>\n      <td>1821.0</td>\n      <td>female</td>\n      <td>nan</td>\n      <td>Lung</td>\n      <td>Lung</td>\n      <td>5774.0</td>\n      <td>4</td>\n      <td>3</td>\n      <td>Mouse</td>\n      <td>Mus musculus</td>\n    </tr>\n    <tr>\n      <th>AAAGATGAGCAGACTG-1-11-0-0</th>\n      <td>18m</td>\n      <td>MACA_18m_F_LUNG_50_AAAGATGAGCAGACTG</td>\n      <td>non-classical monocyte</td>\n      <td>NA</td>\n      <td>Nonclassical Monocyte</td>\n      <td>droplet</td>\n      <td>18-F-50</td>\n      <td>1333.0</td>\n      <td>female</td>\n      <td>nan</td>\n      <td>Lung</td>\n      <td>Lung</td>\n      <td>3878.0</td>\n      <td>2</td>\n      <td>1</td>\n      <td>Mouse</td>\n      <td>Mus musculus</td>\n    </tr>\n    <tr>\n      <th>AAAGATGAGCCGTCGT-1-11-0-0</th>\n      <td>18m</td>\n      <td>MACA_18m_F_LUNG_50_AAAGATGAGCCGTCGT</td>\n      <td>NK cell</td>\n      <td>NA</td>\n      <td>Natural Killer</td>\n      <td>droplet</td>\n      <td>18-F-50</td>\n      <td>1455.0</td>\n      <td>female</td>\n      <td>nan</td>\n      <td>Lung</td>\n      <td>Lung</td>\n      <td>3990.0</td>\n      <td>7</td>\n      <td>5</td>\n      <td>Mouse</td>\n      <td>Mus musculus</td>\n    </tr>\n    <tr>\n      <th>AAAGCAACATGGTAGG-1-11-0-0</th>\n      <td>18m</td>\n      <td>MACA_18m_F_LUNG_50_AAAGCAACATGGTAGG</td>\n      <td>alveolar macrophage</td>\n      <td>NA</td>\n      <td>Alveolar Macrophage</td>\n      <td>droplet</td>\n      <td>18-F-50</td>\n      <td>3322.0</td>\n      <td>female</td>\n      <td>nan</td>\n      <td>Lung</td>\n      <td>Lung</td>\n      <td>13346.0</td>\n      <td>9</td>\n      <td>8</td>\n      <td>Mouse</td>\n      <td>Mus musculus</td>\n    </tr>\n    <tr>\n      <th>AAAGCAAGTCTAGTGT-1-11-0-0</th>\n      <td>18m</td>\n      <td>MACA_18m_F_LUNG_50_AAAGCAAGTCTAGTGT</td>\n      <td>B cell</td>\n      <td>NA</td>\n      <td>B</td>\n      <td>droplet</td>\n      <td>18-F-50</td>\n      <td>1120.0</td>\n      <td>female</td>\n      <td>nan</td>\n      <td>Lung</td>\n      <td>Lung</td>\n      <td>2608.0</td>\n      <td>4</td>\n      <td>3</td>\n      <td>Mouse</td>\n      <td>Mus musculus</td>\n    </tr>\n  </tbody>\n</table>\n</div>",
        "text/plain": "                           age                                 cell  \\\nindex                                                                 \nAAACGGGTCGCCCTTA-1-11-0-0  18m  MACA_18m_F_LUNG_50_AAACGGGTCGCCCTTA   \nAAAGATGAGCAGACTG-1-11-0-0  18m  MACA_18m_F_LUNG_50_AAAGATGAGCAGACTG   \nAAAGATGAGCCGTCGT-1-11-0-0  18m  MACA_18m_F_LUNG_50_AAAGATGAGCCGTCGT   \nAAAGCAACATGGTAGG-1-11-0-0  18m  MACA_18m_F_LUNG_50_AAAGCAACATGGTAGG   \nAAAGCAAGTCTAGTGT-1-11-0-0  18m  MACA_18m_F_LUNG_50_AAAGCAAGTCTAGTGT   \n\n                              cell_ontology_class cell_ontology_id  \\\nindex                                                                \nAAACGGGTCGCCCTTA-1-11-0-0                  B cell               NA   \nAAAGATGAGCAGACTG-1-11-0-0  non-classical monocyte               NA   \nAAAGATGAGCCGTCGT-1-11-0-0                 NK cell               NA   \nAAAGCAACATGGTAGG-1-11-0-0     alveolar macrophage               NA   \nAAAGCAAGTCTAGTGT-1-11-0-0                  B cell               NA   \n\n                                 free_annotation   method mouse.id  n_genes  \\\nindex                                                                         \nAAACGGGTCGCCCTTA-1-11-0-0                      B  droplet  18-F-50   1821.0   \nAAAGATGAGCAGACTG-1-11-0-0  Nonclassical Monocyte  droplet  18-F-50   1333.0   \nAAAGATGAGCCGTCGT-1-11-0-0         Natural Killer  droplet  18-F-50   1455.0   \nAAAGCAACATGGTAGG-1-11-0-0    Alveolar Macrophage  droplet  18-F-50   3322.0   \nAAAGCAAGTCTAGTGT-1-11-0-0                      B  droplet  18-F-50   1120.0   \n\n                              sex subtissue tissue tissue_free_annotation  \\\nindex                                                                       \nAAACGGGTCGCCCTTA-1-11-0-0  female       nan   Lung                   Lung   \nAAAGATGAGCAGACTG-1-11-0-0  female       nan   Lung                   Lung   \nAAAGATGAGCCGTCGT-1-11-0-0  female       nan   Lung                   Lung   \nAAAGCAACATGGTAGG-1-11-0-0  female       nan   Lung                   Lung   \nAAAGCAAGTCTAGTGT-1-11-0-0  female       nan   Lung                   Lung   \n\n                           n_counts louvain leiden species species_latin  \nindex                                                                     \nAAACGGGTCGCCCTTA-1-11-0-0    5774.0       4      3   Mouse  Mus musculus  \nAAAGATGAGCAGACTG-1-11-0-0    3878.0       2      1   Mouse  Mus musculus  \nAAAGATGAGCCGTCGT-1-11-0-0    3990.0       7      5   Mouse  Mus musculus  \nAAAGCAACATGGTAGG-1-11-0-0   13346.0       9      8   Mouse  Mus musculus  \nAAAGCAAGTCTAGTGT-1-11-0-0    2608.0       4      3   Mouse  Mus musculus  "
       },
       "execution_count": 86,
       "metadata": {},
       "output_type": "execute_result"
      }
     ],
     "persistentId": "3810f6f4-2b47-4abf-81a5-0ae0facba641",
     "text": "mouse_one2one.obs['species'] = 'Mouse'\nmouse_one2one.obs['species_latin'] = 'Mus musculus'\nmouse_one2one.obs.head()"
    },
    "executionTime": "2019-12-14T18:04:06.324Z"
   },
   {
    "cell": {
     "executionCount": 87,
     "executionEventId": "2ffa43af-754d-413e-a947-a68d2343394b",
     "hasError": false,
     "id": "447ad9d2-5703-46e3-9f62-52b09340bf79",
     "outputs": [],
     "persistentId": "4add478c-b14d-46ac-899a-30827273ec63",
     "text": "human.obs['species'] = \"Human\"\nhuman.obs['species_latin'] = 'Homo sapiens'"
    },
    "executionTime": "2019-12-14T18:04:51.290Z"
   },
   {
    "cell": {
     "executionCount": 88,
     "executionEventId": "d635d875-3cb8-4628-af18-eabfd1a3e781",
     "hasError": false,
     "id": "447ad9d2-5703-46e3-9f62-52b09340bf79",
     "outputs": [
      {
       "data": {
        "text/html": "<div>\n<style scoped>\n    .dataframe tbody tr th:only-of-type {\n        vertical-align: middle;\n    }\n\n    .dataframe tbody tr th {\n        vertical-align: top;\n    }\n\n    .dataframe thead th {\n        text-align: right;\n    }\n</style>\n<table border=\"1\" class=\"dataframe\">\n  <thead>\n    <tr style=\"text-align: right;\">\n      <th></th>\n      <th>nGene</th>\n      <th>nUMI</th>\n      <th>orig.ident</th>\n      <th>channel</th>\n      <th>tissue</th>\n      <th>region</th>\n      <th>percent.ribo</th>\n      <th>free_annotation</th>\n      <th>patient</th>\n      <th>sample</th>\n      <th>location</th>\n      <th>magnetic.selection</th>\n      <th>preparation.site</th>\n      <th>compartment</th>\n      <th>species</th>\n      <th>species_latin</th>\n    </tr>\n    <tr>\n      <th>cell_id</th>\n      <th></th>\n      <th></th>\n      <th></th>\n      <th></th>\n      <th></th>\n      <th></th>\n      <th></th>\n      <th></th>\n      <th></th>\n      <th></th>\n      <th></th>\n      <th></th>\n      <th></th>\n      <th></th>\n      <th></th>\n      <th></th>\n    </tr>\n  </thead>\n  <tbody>\n    <tr>\n      <th>P2_1_AAACCTGAGAAACCAT</th>\n      <td>1347</td>\n      <td>2914</td>\n      <td>Human Lung 10x - Patient 2</td>\n      <td>P2_1</td>\n      <td>lung</td>\n      <td>normal</td>\n      <td>0.035347</td>\n      <td>Capillary Aerocyte</td>\n      <td>2</td>\n      <td>distal 2</td>\n      <td>distal</td>\n      <td>epithelial</td>\n      <td>biohub</td>\n      <td>endothelial</td>\n      <td>Human</td>\n      <td>Homo sapiens</td>\n    </tr>\n    <tr>\n      <th>P2_1_AAATGCCAGATGAGAG</th>\n      <td>1713</td>\n      <td>4226</td>\n      <td>Human Lung 10x - Patient 2</td>\n      <td>P2_1</td>\n      <td>lung</td>\n      <td>normal</td>\n      <td>0.061051</td>\n      <td>Capillary Aerocyte</td>\n      <td>2</td>\n      <td>distal 2</td>\n      <td>distal</td>\n      <td>epithelial</td>\n      <td>biohub</td>\n      <td>endothelial</td>\n      <td>Human</td>\n      <td>Homo sapiens</td>\n    </tr>\n    <tr>\n      <th>P2_1_AACACGTTCGATCCCT</th>\n      <td>1185</td>\n      <td>2152</td>\n      <td>Human Lung 10x - Patient 2</td>\n      <td>P2_1</td>\n      <td>lung</td>\n      <td>normal</td>\n      <td>0.048327</td>\n      <td>Capillary Aerocyte</td>\n      <td>2</td>\n      <td>distal 2</td>\n      <td>distal</td>\n      <td>epithelial</td>\n      <td>biohub</td>\n      <td>endothelial</td>\n      <td>Human</td>\n      <td>Homo sapiens</td>\n    </tr>\n    <tr>\n      <th>P2_1_AACACGTTCGCACTCT</th>\n      <td>1378</td>\n      <td>3419</td>\n      <td>Human Lung 10x - Patient 2</td>\n      <td>P2_1</td>\n      <td>lung</td>\n      <td>normal</td>\n      <td>0.032758</td>\n      <td>Capillary Aerocyte</td>\n      <td>2</td>\n      <td>distal 2</td>\n      <td>distal</td>\n      <td>epithelial</td>\n      <td>biohub</td>\n      <td>endothelial</td>\n      <td>Human</td>\n      <td>Homo sapiens</td>\n    </tr>\n    <tr>\n      <th>P2_1_AACCATGCAGCTCGCA</th>\n      <td>1210</td>\n      <td>2514</td>\n      <td>Human Lung 10x - Patient 2</td>\n      <td>P2_1</td>\n      <td>lung</td>\n      <td>normal</td>\n      <td>0.050119</td>\n      <td>Capillary Aerocyte</td>\n      <td>2</td>\n      <td>distal 2</td>\n      <td>distal</td>\n      <td>epithelial</td>\n      <td>biohub</td>\n      <td>endothelial</td>\n      <td>Human</td>\n      <td>Homo sapiens</td>\n    </tr>\n  </tbody>\n</table>\n</div>",
        "text/plain": "                       nGene  nUMI                  orig.ident channel tissue  \\\ncell_id                                                                         \nP2_1_AAACCTGAGAAACCAT   1347  2914  Human Lung 10x - Patient 2    P2_1   lung   \nP2_1_AAATGCCAGATGAGAG   1713  4226  Human Lung 10x - Patient 2    P2_1   lung   \nP2_1_AACACGTTCGATCCCT   1185  2152  Human Lung 10x - Patient 2    P2_1   lung   \nP2_1_AACACGTTCGCACTCT   1378  3419  Human Lung 10x - Patient 2    P2_1   lung   \nP2_1_AACCATGCAGCTCGCA   1210  2514  Human Lung 10x - Patient 2    P2_1   lung   \n\n                       region  percent.ribo     free_annotation  patient  \\\ncell_id                                                                    \nP2_1_AAACCTGAGAAACCAT  normal      0.035347  Capillary Aerocyte        2   \nP2_1_AAATGCCAGATGAGAG  normal      0.061051  Capillary Aerocyte        2   \nP2_1_AACACGTTCGATCCCT  normal      0.048327  Capillary Aerocyte        2   \nP2_1_AACACGTTCGCACTCT  normal      0.032758  Capillary Aerocyte        2   \nP2_1_AACCATGCAGCTCGCA  normal      0.050119  Capillary Aerocyte        2   \n\n                         sample location magnetic.selection preparation.site  \\\ncell_id                                                                        \nP2_1_AAACCTGAGAAACCAT  distal 2   distal         epithelial           biohub   \nP2_1_AAATGCCAGATGAGAG  distal 2   distal         epithelial           biohub   \nP2_1_AACACGTTCGATCCCT  distal 2   distal         epithelial           biohub   \nP2_1_AACACGTTCGCACTCT  distal 2   distal         epithelial           biohub   \nP2_1_AACCATGCAGCTCGCA  distal 2   distal         epithelial           biohub   \n\n                       compartment species species_latin  \ncell_id                                                   \nP2_1_AAACCTGAGAAACCAT  endothelial   Human  Homo sapiens  \nP2_1_AAATGCCAGATGAGAG  endothelial   Human  Homo sapiens  \nP2_1_AACACGTTCGATCCCT  endothelial   Human  Homo sapiens  \nP2_1_AACACGTTCGCACTCT  endothelial   Human  Homo sapiens  \nP2_1_AACCATGCAGCTCGCA  endothelial   Human  Homo sapiens  "
       },
       "execution_count": 88,
       "metadata": {},
       "output_type": "execute_result"
      }
     ],
     "persistentId": "4add478c-b14d-46ac-899a-30827273ec63",
     "text": "human.obs['species'] = \"Human\"\nhuman.obs['species_latin'] = 'Homo sapiens'\nhuman.obs.head()"
    },
    "executionTime": "2019-12-14T18:04:54.856Z"
   },
   {
    "cell": {
     "executionCount": 89,
     "executionEventId": "b1d30900-ac29-44e5-a525-649acffad373",
     "hasError": false,
     "id": "11296a02-8fc7-4bbd-9369-5cadf4622041",
     "outputs": [
      {
       "name": "stdout",
       "output_type": "stream",
       "text": "total 11G\ndrwxrwxr-x 2 olga olga 4.0K Dec 13 11:44 \u001b[0m\u001b[01;34m.\u001b[0m/\ndrwxrwxr-x 2 olga olga 4.0K Dec  2 21:43 \u001b[01;34m..\u001b[0m/\n-rw-rw-r-- 1 olga olga 6.5G Dec 13 16:52 droplet_normal_lung_blood_P1-3.h5ad\n-rw-rw-r-- 1 olga olga  12M Oct 28 10:16 droplet_normal_lung_blood_P1-3_metadata.csv\n-rw-rw-r-- 1 olga olga 3.3G Oct 30 18:21 droplet_normal_lung_blood_P1-3_ncbi_GCT.csv\n-rw-rw-r-- 1 olga olga 1.1G Oct 28 10:25 facs_normal_lung_blood_P1-3_gencode_GCT.csv\n-rw-rw-r-- 1 olga olga 5.7M Oct 28 10:25 facs_normal_lung_blood_P1-3_metadata.csv\n"
      }
     ],
     "persistentId": "6828dcaf-0c68-4c45-b75c-4eebb5e082da",
     "text": "ls -lha $human_folder"
    },
    "executionTime": "2019-12-14T18:05:04.096Z"
   },
   {
    "cell": {
     "executionCount": 90,
     "executionEventId": "11225e5c-c62c-482a-b6e1-9ba2d800d486",
     "hasError": false,
     "id": "5842dd7b-f7d0-42be-a332-2f0dea50783e",
     "outputs": [
      {
       "name": "stderr",
       "output_type": "stream",
       "text": "... storing 'species' as categorical\n... storing 'species_latin' as categorical\n"
      }
     ],
     "persistentId": "b5c07671-8c42-4edb-94c0-22a90b0ca79e",
     "text": "human.write(f\"{human_folder}/droplet_normal_lung_blood_P1-3.h5ad\")"
    },
    "executionTime": "2019-12-14T18:32:29.701Z"
   },
   {
    "cell": {
     "executionCount": 91,
     "executionEventId": "55243f6a-6d19-4969-b202-52b60e81f4d6",
     "hasError": false,
     "id": "967764b0-c201-40db-bc8e-b05589944c61",
     "outputs": [
      {
       "name": "stdout",
       "output_type": "stream",
       "text": "12965\n"
      },
      {
       "data": {
        "text/plain": "View of AnnData object with n_obs × n_vars = 65662 × 12965 \n    obs: 'nGene', 'nUMI', 'orig.ident', 'channel', 'tissue', 'region', 'percent.ribo', 'free_annotation', 'patient', 'sample', 'location', 'magnetic.selection', 'preparation.site', 'compartment', 'species', 'species_latin'"
       },
       "execution_count": 91,
       "metadata": {},
       "output_type": "execute_result"
      }
     ],
     "persistentId": "91abc876-9b31-4e74-ba0e-ebacfd411eda",
     "text": "gene_mask = human.var.index.isin(gene_orthologies_one2one_all_three['human__gene_name'].values)\nprint(gene_mask.sum())\nhuman_one2one = human[:, gene_mask]\nhuman_one2one"
    },
    "executionTime": "2019-12-14T18:33:05.023Z"
   },
   {
    "cell": {
     "executionCount": 92,
     "executionEventId": "40da38c1-5012-4e15-8895-4479bed3634f",
     "hasError": false,
     "id": "59228d69-a21e-494f-9e3d-ec77144c2cf7",
     "outputs": [
      {
       "name": "stdout",
       "output_type": "stream",
       "text": "total 11G\ndrwxrwxr-x 2 olga olga 4.0K Dec 13 11:44 \u001b[0m\u001b[01;34m.\u001b[0m/\ndrwxrwxr-x 2 olga olga 4.0K Dec  2 21:43 \u001b[01;34m..\u001b[0m/\n-rw-rw-r-- 1 olga olga 6.5G Dec 14 10:30 droplet_normal_lung_blood_P1-3.h5ad\n-rw-rw-r-- 1 olga olga  12M Oct 28 10:16 droplet_normal_lung_blood_P1-3_metadata.csv\n-rw-rw-r-- 1 olga olga 3.3G Oct 30 18:21 droplet_normal_lung_blood_P1-3_ncbi_GCT.csv\n-rw-rw-r-- 1 olga olga 1.1G Oct 28 10:25 facs_normal_lung_blood_P1-3_gencode_GCT.csv\n-rw-rw-r-- 1 olga olga 5.7M Oct 28 10:25 facs_normal_lung_blood_P1-3_metadata.csv\n"
      }
     ],
     "persistentId": "d3af8128-1318-4830-8fc1-9589aba7733f",
     "text": "ls -lha $human_folder"
    },
    "executionTime": "2019-12-14T18:33:07.616Z"
   },
   {
    "cell": {
     "executionCount": 93,
     "executionEventId": "20f428ba-5002-40ca-b576-4513ca6dfd7f",
     "hasError": false,
     "id": "bd695d3e-5a7d-4350-8820-091cfbfaa13e",
     "outputs": [
      {
       "name": "stdout",
       "output_type": "stream",
       "text": "total 3.1M\ndrwxrwxr-x 3 olga olga 4.0K Dec 14 10:32 \u001b[0m\u001b[01;34m.\u001b[0m/\ndrwxrwxr-x 4 olga olga 4.0K Dec 13 11:31 \u001b[01;34m..\u001b[0m/\n-rw-rw-r-- 1 olga olga 2.7M Dec 13 11:31 150_gene_orthologs.ipynb\n-rw-rw-r-- 1 olga olga 412K Dec 14 10:32 200_merge_human_mouselemur_mouse_lung_into_single_object.ipynb\ndrwxrwxr-x 2 olga olga 4.0K Dec 13 11:40 \u001b[01;34m.ipynb_checkpoints\u001b[0m/\n"
      }
     ],
     "persistentId": "39c288b1-92cc-4029-ac06-547d41ff0fe7",
     "text": "ls -lha $outdir"
    },
    "executionTime": "2019-12-14T18:33:09.642Z"
   },
   {
    "cell": {
     "executionCount": 94,
     "executionEventId": "dd9a0eb4-9794-4063-81ee-7c6eb2dd5fb1",
     "hasError": true,
     "id": "642a5af2-978f-4f45-8d58-5053eadfd838",
     "outputs": [
      {
       "ename": "AttributeError",
       "evalue": "'ArrayView' object has no attribute 'getformat'",
       "output_type": "error",
       "traceback": [
        "\u001b[0;31m---------------------------------------------------------------------------\u001b[0m",
        "\u001b[0;31mAttributeError\u001b[0m                            Traceback (most recent call last)",
        "\u001b[0;32m<ipython-input-94-fdc489ea4adc>\u001b[0m in \u001b[0;36m<module>\u001b[0;34m\u001b[0m\n\u001b[0;32m----> 1\u001b[0;31m \u001b[0mcombined\u001b[0m \u001b[0;34m=\u001b[0m \u001b[0mhuman_one2one\u001b[0m\u001b[0;34m.\u001b[0m\u001b[0mconcatenate\u001b[0m\u001b[0;34m(\u001b[0m\u001b[0mlemur_one2one\u001b[0m\u001b[0;34m,\u001b[0m \u001b[0mmouse_one2one\u001b[0m\u001b[0;34m,\u001b[0m \u001b[0mbatch_key\u001b[0m\u001b[0;34m=\u001b[0m\u001b[0;34m'species_batch'\u001b[0m\u001b[0;34m,\u001b[0m \u001b[0mbatch_categories\u001b[0m\u001b[0;34m=\u001b[0m\u001b[0;34m[\u001b[0m\u001b[0;34m'human'\u001b[0m\u001b[0;34m,\u001b[0m \u001b[0;34m'lemur'\u001b[0m\u001b[0;34m,\u001b[0m \u001b[0;34m'mouse'\u001b[0m\u001b[0;34m]\u001b[0m\u001b[0;34m)\u001b[0m\u001b[0;34m\u001b[0m\u001b[0;34m\u001b[0m\u001b[0m\n\u001b[0m\u001b[1;32m      2\u001b[0m \u001b[0mcombined\u001b[0m\u001b[0;34m\u001b[0m\u001b[0;34m\u001b[0m\u001b[0m\n",
        "\u001b[0;32m~/miniconda3/envs/sc-tutorial/lib/python3.7/site-packages/anndata/core/anndata.py\u001b[0m in \u001b[0;36mconcatenate\u001b[0;34m(self, join, batch_key, batch_categories, index_unique, *adatas)\u001b[0m\n\u001b[1;32m   1908\u001b[0m \u001b[0;34m\u001b[0m\u001b[0m\n\u001b[1;32m   1909\u001b[0m         \u001b[0;32mif\u001b[0m \u001b[0many_sparse\u001b[0m\u001b[0;34m:\u001b[0m\u001b[0;34m\u001b[0m\u001b[0;34m\u001b[0m\u001b[0m\n\u001b[0;32m-> 1910\u001b[0;31m             \u001b[0msparse_format\u001b[0m \u001b[0;34m=\u001b[0m \u001b[0mall_adatas\u001b[0m\u001b[0;34m[\u001b[0m\u001b[0;36m0\u001b[0m\u001b[0;34m]\u001b[0m\u001b[0;34m.\u001b[0m\u001b[0mX\u001b[0m\u001b[0;34m.\u001b[0m\u001b[0mgetformat\u001b[0m\u001b[0;34m(\u001b[0m\u001b[0;34m)\u001b[0m\u001b[0;34m\u001b[0m\u001b[0;34m\u001b[0m\u001b[0m\n\u001b[0m\u001b[1;32m   1911\u001b[0m             \u001b[0mX\u001b[0m \u001b[0;34m=\u001b[0m \u001b[0mX\u001b[0m\u001b[0;34m.\u001b[0m\u001b[0masformat\u001b[0m\u001b[0;34m(\u001b[0m\u001b[0msparse_format\u001b[0m\u001b[0;34m)\u001b[0m\u001b[0;34m\u001b[0m\u001b[0;34m\u001b[0m\u001b[0m\n\u001b[1;32m   1912\u001b[0m \u001b[0;34m\u001b[0m\u001b[0m\n",
        "\u001b[0;31mAttributeError\u001b[0m: 'ArrayView' object has no attribute 'getformat'"
       ]
      }
     ],
     "persistentId": "454d730f-71f7-4402-a915-f6aac82bdf8d",
     "text": "combined = human_one2one.concatenate(lemur_one2one, mouse_one2one, batch_key='species_batch', batch_categories=['human', 'lemur', 'mouse'])\ncombined"
    },
    "executionTime": "2019-12-14T18:33:11.143Z"
   },
   {
    "cell": {
     "executionCount": 95,
     "executionEventId": "8104ab17-d1fa-4c2e-a7c7-d10b3bfae33d",
     "hasError": false,
     "id": "03d805ba-8b6d-4076-854c-2b006071d309",
     "outputs": [
      {
       "data": {
        "text/plain": "array([[0.       , 0.6399461, 0.       , ..., 0.       , 0.       ,\n        1.3053923],\n       [0.       , 0.       , 0.       , ..., 0.       , 0.       ,\n        1.8725077],\n       [0.       , 0.       , 0.       , ..., 0.       , 0.       ,\n        0.       ],\n       ...,\n       [0.       , 0.       , 0.       , ..., 0.       , 0.       ,\n        2.7651205],\n       [0.       , 0.       , 0.       , ..., 0.       , 0.       ,\n        2.394493 ],\n       [0.       , 0.       , 0.       , ..., 0.       , 0.       ,\n        2.7917802]], dtype=float32)"
       },
       "execution_count": 95,
       "metadata": {},
       "output_type": "execute_result"
      }
     ],
     "persistentId": "1e094b1a-a46e-4262-986a-117cad0783be",
     "text": "lemur_one2one.X"
    },
    "executionTime": "2019-12-14T18:37:24.282Z"
   },
   {
    "cell": {
     "executionCount": 96,
     "executionEventId": "ec1b39a5-8a19-427e-aa67-e4192864d775",
     "hasError": false,
     "id": "9bb5456c-bac4-4072-b9fa-a7c9e3d7b8b4",
     "outputs": [
      {
       "data": {
        "text/plain": "<24540x12040 sparse matrix of type '<class 'numpy.float32'>'\n\twith 26557453 stored elements in Compressed Sparse Row format>"
       },
       "execution_count": 96,
       "metadata": {},
       "output_type": "execute_result"
      }
     ],
     "persistentId": "6c30d44e-24b9-4739-97c2-8071a4ce8b23",
     "text": "mouse_one2one.X"
    },
    "executionTime": "2019-12-14T18:37:27.725Z"
   },
   {
    "cell": {
     "executionCount": 97,
     "executionEventId": "ebf6fe5c-cae2-4382-ad01-15e45a239f27",
     "hasError": false,
     "id": "d71b791b-b708-4326-b615-cd7dcd9a0066",
     "outputs": [
      {
       "data": {
        "text/plain": "ArrayView([[0., 0., 0., ..., 0., 1., 0.],\n           [0., 0., 0., ..., 0., 0., 0.],\n           [0., 0., 0., ..., 0., 0., 0.],\n           ...,\n           [0., 0., 0., ..., 0., 0., 0.],\n           [0., 0., 0., ..., 0., 0., 0.],\n           [0., 1., 0., ..., 0., 0., 0.]], dtype=float32)"
       },
       "execution_count": 97,
       "metadata": {},
       "output_type": "execute_result"
      }
     ],
     "persistentId": "407c6ef5-f5df-4ea1-a373-4c64519c231c",
     "text": "human_one2one.X"
    },
    "executionTime": "2019-12-14T18:37:32.267Z"
   },
   {
    "cell": {
     "executionCount": 99,
     "executionEventId": "62d2ecfa-0d96-42de-8288-763717532636",
     "hasError": false,
     "id": "03d805ba-8b6d-4076-854c-2b006071d309",
     "outputs": [
      {
       "data": {
        "text/plain": "array([[0.       , 0.6399461, 0.       , ..., 0.       , 0.       ,\n        1.3053923],\n       [0.       , 0.       , 0.       , ..., 0.       , 0.       ,\n        1.8725077],\n       [0.       , 0.       , 0.       , ..., 0.       , 0.       ,\n        0.       ],\n       ...,\n       [0.       , 0.       , 0.       , ..., 0.       , 0.       ,\n        2.7651205],\n       [0.       , 0.       , 0.       , ..., 0.       , 0.       ,\n        2.394493 ],\n       [0.       , 0.       , 0.       , ..., 0.       , 0.       ,\n        2.7917802]], dtype=float32)"
       },
       "execution_count": 99,
       "metadata": {},
       "output_type": "execute_result"
      }
     ],
     "persistentId": "1e094b1a-a46e-4262-986a-117cad0783be",
     "text": "lemur_one2one.X"
    },
    "executionTime": "2019-12-14T18:38:41.272Z"
   },
   {
    "cell": {
     "executionCount": 100,
     "executionEventId": "fe924649-ea1d-45db-9ab9-26f8c3e9408c",
     "hasError": false,
     "id": "d71b791b-b708-4326-b615-cd7dcd9a0066",
     "outputs": [
      {
       "data": {
        "text/plain": "array([[0., 0., 0., ..., 0., 1., 0.],\n       [0., 0., 0., ..., 0., 0., 0.],\n       [0., 0., 0., ..., 0., 0., 0.],\n       ...,\n       [0., 0., 0., ..., 0., 0., 0.],\n       [0., 0., 0., ..., 0., 0., 0.],\n       [0., 1., 0., ..., 0., 0., 0.]], dtype=float32)"
       },
       "execution_count": 100,
       "metadata": {},
       "output_type": "execute_result"
      }
     ],
     "persistentId": "407c6ef5-f5df-4ea1-a373-4c64519c231c",
     "text": "human_one2one.X"
    },
    "executionTime": "2019-12-14T18:38:41.283Z"
   },
   {
    "cell": {
     "executionCount": 101,
     "executionEventId": "3597903c-57a2-4d28-9574-8c77a2135c2c",
     "hasError": false,
     "id": "9bb5456c-bac4-4072-b9fa-a7c9e3d7b8b4",
     "outputs": [
      {
       "data": {
        "text/plain": "<24540x12040 sparse matrix of type '<class 'numpy.float32'>'\n\twith 26557453 stored elements in Compressed Sparse Row format>"
       },
       "execution_count": 101,
       "metadata": {},
       "output_type": "execute_result"
      }
     ],
     "persistentId": "6c30d44e-24b9-4739-97c2-8071a4ce8b23",
     "text": "mouse_one2one.X"
    },
    "executionTime": "2019-12-14T18:38:41.288Z"
   },
   {
    "cell": {
     "executionCount": 102,
     "executionEventId": "3a7e8ee9-ab04-4990-8906-ffe1f5bc4a05",
     "hasError": false,
     "id": "967764b0-c201-40db-bc8e-b05589944c61",
     "outputs": [
      {
       "name": "stdout",
       "output_type": "stream",
       "text": "12965\n"
      },
      {
       "data": {
        "text/plain": "AnnData object with n_obs × n_vars = 65662 × 12965 \n    obs: 'nGene', 'nUMI', 'orig.ident', 'channel', 'tissue', 'region', 'percent.ribo', 'free_annotation', 'patient', 'sample', 'location', 'magnetic.selection', 'preparation.site', 'compartment', 'species', 'species_latin'"
       },
       "execution_count": 102,
       "metadata": {},
       "output_type": "execute_result"
      }
     ],
     "persistentId": "91abc876-9b31-4e74-ba0e-ebacfd411eda",
     "text": "gene_mask = human.var.index.isin(gene_orthologies_one2one_all_three['human__gene_name'].values)\nprint(gene_mask.sum())\n\n# Need to copy so it's not an ArrayView object\nhuman_one2one = human[:, gene_mask].copy()\nhuman_one2one"
    },
    "executionTime": "2019-12-14T18:39:27.986Z"
   },
   {
    "cell": {
     "executionCount": 103,
     "executionEventId": "62bb45b2-074a-45f9-8b3f-c5f81464960d",
     "hasError": true,
     "id": "642a5af2-978f-4f45-8d58-5053eadfd838",
     "outputs": [
      {
       "ename": "AttributeError",
       "evalue": "'numpy.ndarray' object has no attribute 'getformat'",
       "output_type": "error",
       "traceback": [
        "\u001b[0;31m---------------------------------------------------------------------------\u001b[0m",
        "\u001b[0;31mAttributeError\u001b[0m                            Traceback (most recent call last)",
        "\u001b[0;32m<ipython-input-103-fdc489ea4adc>\u001b[0m in \u001b[0;36m<module>\u001b[0;34m\u001b[0m\n\u001b[0;32m----> 1\u001b[0;31m \u001b[0mcombined\u001b[0m \u001b[0;34m=\u001b[0m \u001b[0mhuman_one2one\u001b[0m\u001b[0;34m.\u001b[0m\u001b[0mconcatenate\u001b[0m\u001b[0;34m(\u001b[0m\u001b[0mlemur_one2one\u001b[0m\u001b[0;34m,\u001b[0m \u001b[0mmouse_one2one\u001b[0m\u001b[0;34m,\u001b[0m \u001b[0mbatch_key\u001b[0m\u001b[0;34m=\u001b[0m\u001b[0;34m'species_batch'\u001b[0m\u001b[0;34m,\u001b[0m \u001b[0mbatch_categories\u001b[0m\u001b[0;34m=\u001b[0m\u001b[0;34m[\u001b[0m\u001b[0;34m'human'\u001b[0m\u001b[0;34m,\u001b[0m \u001b[0;34m'lemur'\u001b[0m\u001b[0;34m,\u001b[0m \u001b[0;34m'mouse'\u001b[0m\u001b[0;34m]\u001b[0m\u001b[0;34m)\u001b[0m\u001b[0;34m\u001b[0m\u001b[0;34m\u001b[0m\u001b[0m\n\u001b[0m\u001b[1;32m      2\u001b[0m \u001b[0mcombined\u001b[0m\u001b[0;34m\u001b[0m\u001b[0;34m\u001b[0m\u001b[0m\n",
        "\u001b[0;32m~/miniconda3/envs/sc-tutorial/lib/python3.7/site-packages/anndata/core/anndata.py\u001b[0m in \u001b[0;36mconcatenate\u001b[0;34m(self, join, batch_key, batch_categories, index_unique, *adatas)\u001b[0m\n\u001b[1;32m   1908\u001b[0m \u001b[0;34m\u001b[0m\u001b[0m\n\u001b[1;32m   1909\u001b[0m         \u001b[0;32mif\u001b[0m \u001b[0many_sparse\u001b[0m\u001b[0;34m:\u001b[0m\u001b[0;34m\u001b[0m\u001b[0;34m\u001b[0m\u001b[0m\n\u001b[0;32m-> 1910\u001b[0;31m             \u001b[0msparse_format\u001b[0m \u001b[0;34m=\u001b[0m \u001b[0mall_adatas\u001b[0m\u001b[0;34m[\u001b[0m\u001b[0;36m0\u001b[0m\u001b[0;34m]\u001b[0m\u001b[0;34m.\u001b[0m\u001b[0mX\u001b[0m\u001b[0;34m.\u001b[0m\u001b[0mgetformat\u001b[0m\u001b[0;34m(\u001b[0m\u001b[0;34m)\u001b[0m\u001b[0;34m\u001b[0m\u001b[0;34m\u001b[0m\u001b[0m\n\u001b[0m\u001b[1;32m   1911\u001b[0m             \u001b[0mX\u001b[0m \u001b[0;34m=\u001b[0m \u001b[0mX\u001b[0m\u001b[0;34m.\u001b[0m\u001b[0masformat\u001b[0m\u001b[0;34m(\u001b[0m\u001b[0msparse_format\u001b[0m\u001b[0;34m)\u001b[0m\u001b[0;34m\u001b[0m\u001b[0;34m\u001b[0m\u001b[0m\n\u001b[1;32m   1912\u001b[0m \u001b[0;34m\u001b[0m\u001b[0m\n",
        "\u001b[0;31mAttributeError\u001b[0m: 'numpy.ndarray' object has no attribute 'getformat'"
       ]
      }
     ],
     "persistentId": "454d730f-71f7-4402-a915-f6aac82bdf8d",
     "text": "combined = human_one2one.concatenate(lemur_one2one, mouse_one2one, batch_key='species_batch', batch_categories=['human', 'lemur', 'mouse'])\ncombined"
    },
    "executionTime": "2019-12-14T18:44:47.501Z"
   },
   {
    "cell": {
     "executionCount": 104,
     "executionEventId": "cab614a5-a301-4301-8743-d7db0f567f01",
     "hasError": true,
     "id": "642a5af2-978f-4f45-8d58-5053eadfd838",
     "outputs": [
      {
       "ename": "ValueError",
       "evalue": "Provide as many `batch_categories` as `adatas`.",
       "output_type": "error",
       "traceback": [
        "\u001b[0;31m---------------------------------------------------------------------------\u001b[0m",
        "\u001b[0;31mValueError\u001b[0m                                Traceback (most recent call last)",
        "\u001b[0;32m<ipython-input-104-80a6c52bfebc>\u001b[0m in \u001b[0;36m<module>\u001b[0;34m\u001b[0m\n\u001b[0;32m----> 1\u001b[0;31m \u001b[0mcombined\u001b[0m \u001b[0;34m=\u001b[0m \u001b[0mhuman_one2one\u001b[0m\u001b[0;34m.\u001b[0m\u001b[0mconcatenate\u001b[0m\u001b[0;34m(\u001b[0m\u001b[0mmouse_one2one\u001b[0m\u001b[0;34m,\u001b[0m \u001b[0mbatch_key\u001b[0m\u001b[0;34m=\u001b[0m\u001b[0;34m'species_batch'\u001b[0m\u001b[0;34m,\u001b[0m \u001b[0mbatch_categories\u001b[0m\u001b[0;34m=\u001b[0m\u001b[0;34m[\u001b[0m\u001b[0;34m'human'\u001b[0m\u001b[0;34m,\u001b[0m \u001b[0;34m'lemur'\u001b[0m\u001b[0;34m,\u001b[0m \u001b[0;34m'mouse'\u001b[0m\u001b[0;34m]\u001b[0m\u001b[0;34m)\u001b[0m\u001b[0;34m\u001b[0m\u001b[0;34m\u001b[0m\u001b[0m\n\u001b[0m\u001b[1;32m      2\u001b[0m \u001b[0mcombined\u001b[0m\u001b[0;34m\u001b[0m\u001b[0;34m\u001b[0m\u001b[0m\n",
        "\u001b[0;32m~/miniconda3/envs/sc-tutorial/lib/python3.7/site-packages/anndata/core/anndata.py\u001b[0m in \u001b[0;36mconcatenate\u001b[0;34m(self, join, batch_key, batch_categories, index_unique, *adatas)\u001b[0m\n\u001b[1;32m   1802\u001b[0m             \u001b[0mcategories\u001b[0m \u001b[0;34m=\u001b[0m \u001b[0mbatch_categories\u001b[0m\u001b[0;34m\u001b[0m\u001b[0;34m\u001b[0m\u001b[0m\n\u001b[1;32m   1803\u001b[0m         \u001b[0;32melse\u001b[0m\u001b[0;34m:\u001b[0m\u001b[0;34m\u001b[0m\u001b[0;34m\u001b[0m\u001b[0m\n\u001b[0;32m-> 1804\u001b[0;31m             \u001b[0;32mraise\u001b[0m \u001b[0mValueError\u001b[0m\u001b[0;34m(\u001b[0m\u001b[0;34m'Provide as many `batch_categories` as `adatas`.'\u001b[0m\u001b[0;34m)\u001b[0m\u001b[0;34m\u001b[0m\u001b[0;34m\u001b[0m\u001b[0m\n\u001b[0m\u001b[1;32m   1805\u001b[0m \u001b[0;34m\u001b[0m\u001b[0m\n\u001b[1;32m   1806\u001b[0m         \u001b[0mout_shape\u001b[0m \u001b[0;34m=\u001b[0m \u001b[0;34m(\u001b[0m\u001b[0msum\u001b[0m\u001b[0;34m(\u001b[0m\u001b[0ma\u001b[0m\u001b[0;34m.\u001b[0m\u001b[0mn_obs\u001b[0m \u001b[0;32mfor\u001b[0m \u001b[0ma\u001b[0m \u001b[0;32min\u001b[0m \u001b[0mall_adatas\u001b[0m\u001b[0;34m)\u001b[0m\u001b[0;34m,\u001b[0m \u001b[0mlen\u001b[0m\u001b[0;34m(\u001b[0m\u001b[0mvar_names\u001b[0m\u001b[0;34m)\u001b[0m\u001b[0;34m)\u001b[0m\u001b[0;34m\u001b[0m\u001b[0;34m\u001b[0m\u001b[0m\n",
        "\u001b[0;31mValueError\u001b[0m: Provide as many `batch_categories` as `adatas`."
       ]
      }
     ],
     "persistentId": "454d730f-71f7-4402-a915-f6aac82bdf8d",
     "text": "combined = human_one2one.concatenate(mouse_one2one, batch_key='species_batch', batch_categories=['human', 'lemur', 'mouse'])\ncombined"
    },
    "executionTime": "2019-12-14T18:45:00.449Z"
   },
   {
    "cell": {
     "executionCount": 105,
     "executionEventId": "9db760c6-3b83-4464-9206-a669d5b798dc",
     "hasError": true,
     "id": "642a5af2-978f-4f45-8d58-5053eadfd838",
     "outputs": [
      {
       "ename": "AttributeError",
       "evalue": "'numpy.ndarray' object has no attribute 'getformat'",
       "output_type": "error",
       "traceback": [
        "\u001b[0;31m---------------------------------------------------------------------------\u001b[0m",
        "\u001b[0;31mAttributeError\u001b[0m                            Traceback (most recent call last)",
        "\u001b[0;32m<ipython-input-105-f381ce46690b>\u001b[0m in \u001b[0;36m<module>\u001b[0;34m\u001b[0m\n\u001b[0;32m----> 1\u001b[0;31m \u001b[0mcombined\u001b[0m \u001b[0;34m=\u001b[0m \u001b[0mhuman_one2one\u001b[0m\u001b[0;34m.\u001b[0m\u001b[0mconcatenate\u001b[0m\u001b[0;34m(\u001b[0m\u001b[0mmouse_one2one\u001b[0m\u001b[0;34m,\u001b[0m \u001b[0mbatch_key\u001b[0m\u001b[0;34m=\u001b[0m\u001b[0;34m'species_batch'\u001b[0m\u001b[0;34m,\u001b[0m \u001b[0mbatch_categories\u001b[0m\u001b[0;34m=\u001b[0m\u001b[0;34m[\u001b[0m\u001b[0;34m'human'\u001b[0m\u001b[0;34m,\u001b[0m \u001b[0;34m'mouse'\u001b[0m\u001b[0;34m]\u001b[0m\u001b[0;34m)\u001b[0m\u001b[0;34m\u001b[0m\u001b[0;34m\u001b[0m\u001b[0m\n\u001b[0m\u001b[1;32m      2\u001b[0m \u001b[0mcombined\u001b[0m\u001b[0;34m\u001b[0m\u001b[0;34m\u001b[0m\u001b[0m\n",
        "\u001b[0;32m~/miniconda3/envs/sc-tutorial/lib/python3.7/site-packages/anndata/core/anndata.py\u001b[0m in \u001b[0;36mconcatenate\u001b[0;34m(self, join, batch_key, batch_categories, index_unique, *adatas)\u001b[0m\n\u001b[1;32m   1908\u001b[0m \u001b[0;34m\u001b[0m\u001b[0m\n\u001b[1;32m   1909\u001b[0m         \u001b[0;32mif\u001b[0m \u001b[0many_sparse\u001b[0m\u001b[0;34m:\u001b[0m\u001b[0;34m\u001b[0m\u001b[0;34m\u001b[0m\u001b[0m\n\u001b[0;32m-> 1910\u001b[0;31m             \u001b[0msparse_format\u001b[0m \u001b[0;34m=\u001b[0m \u001b[0mall_adatas\u001b[0m\u001b[0;34m[\u001b[0m\u001b[0;36m0\u001b[0m\u001b[0;34m]\u001b[0m\u001b[0;34m.\u001b[0m\u001b[0mX\u001b[0m\u001b[0;34m.\u001b[0m\u001b[0mgetformat\u001b[0m\u001b[0;34m(\u001b[0m\u001b[0;34m)\u001b[0m\u001b[0;34m\u001b[0m\u001b[0;34m\u001b[0m\u001b[0m\n\u001b[0m\u001b[1;32m   1911\u001b[0m             \u001b[0mX\u001b[0m \u001b[0;34m=\u001b[0m \u001b[0mX\u001b[0m\u001b[0;34m.\u001b[0m\u001b[0masformat\u001b[0m\u001b[0;34m(\u001b[0m\u001b[0msparse_format\u001b[0m\u001b[0;34m)\u001b[0m\u001b[0;34m\u001b[0m\u001b[0;34m\u001b[0m\u001b[0m\n\u001b[1;32m   1912\u001b[0m \u001b[0;34m\u001b[0m\u001b[0m\n",
        "\u001b[0;31mAttributeError\u001b[0m: 'numpy.ndarray' object has no attribute 'getformat'"
       ]
      }
     ],
     "persistentId": "454d730f-71f7-4402-a915-f6aac82bdf8d",
     "text": "combined = human_one2one.concatenate(mouse_one2one, batch_key='species_batch', batch_categories=['human', 'mouse'])\ncombined"
    },
    "executionTime": "2019-12-14T18:45:08.080Z"
   },
   {
    "cell": {
     "executionCount": 106,
     "executionEventId": "7379d8b1-cdc7-4cca-84c1-b1338d88b2c3",
     "hasError": false,
     "id": "221316e1-893d-42ca-bb59-d3e5abde1791",
     "outputs": [],
     "persistentId": "a8fdc6d7-c0d4-4015-84b2-2c05e2785a2f",
     "text": "import anndata\nimport pandas as pd\nimport numpy as np\nimport scanpy\n\noutdir = '/home/olga/googledrive/TabulaMicrocebus/data/cross-species'\n"
    },
    "executionTime": "2019-12-14T18:47:51.592Z"
   },
   {
    "cell": {
     "executionCount": 107,
     "executionEventId": "16fc1d74-76a8-4111-b1d2-1052ad1e0d1c",
     "hasError": false,
     "id": "c8ae2eb9-46cc-473f-b754-0a78f8072caf",
     "outputs": [
      {
       "name": "stderr",
       "output_type": "stream",
       "text": "... storing 'species' as categorical\n... storing 'species_latin' as categorical\n... storing 'mouse_lemur_to_human__homology_type' as categorical\n... storing 'human_to_mouse__homology_type' as categorical\n"
      }
     ],
     "persistentId": "764c6931-5efa-48d2-847a-8aa2ad75ac5a",
     "text": "h5ad = f\"{outdir}/lung__10x__lemur__one2one_orthologs.h5ad\"\nlemur_one2one.write(h5ad)"
    },
    "executionTime": "2019-12-14T18:51:09.803Z"
   },
   {
    "cell": {
     "executionCount": 108,
     "executionEventId": "ff0f1a2c-0bf4-4ba4-9a24-2f30eae63f12",
     "hasError": false,
     "id": "2d7ddeae-8d27-4bd6-961d-9b7ab4a52ff5",
     "outputs": [],
     "persistentId": "9f67cbbd-9529-4937-bcb8-15b8c64dffc6",
     "text": "h5ad = f\"{outdir}/lung__10x__human__one2one_orthologs.h5ad\"\nhuman_one2one.write(h5ad)"
    },
    "executionTime": "2019-12-14T19:08:43.544Z"
   },
   {
    "cell": {
     "executionCount": 109,
     "executionEventId": "ad5a3122-134a-4526-bdec-c1d16c44051f",
     "hasError": false,
     "id": "e32c3976-3d71-48c1-ad1c-e42af4e140cf",
     "outputs": [
      {
       "name": "stderr",
       "output_type": "stream",
       "text": "... storing 'species' as categorical\n... storing 'species_latin' as categorical\n... storing 'species' as categorical\n"
      }
     ],
     "persistentId": "0b48447e-6616-46aa-8bc4-e1ce7b452203",
     "text": "h5ad = f\"{outdir}/lung__10x__mouse__one2one_orthologs.h5ad\"\nmouse_one2one.write(h5ad)"
    },
    "executionTime": "2019-12-14T19:11:32.019Z"
   },
   {
    "cell": {
     "executionCount": 110,
     "executionEventId": "cb6aaaab-31bc-4d86-be28-14fd4053ccb3",
     "hasError": true,
     "id": "0294cd67-e9e1-4c87-80fd-1c9583412dfb",
     "outputs": [
      {
       "ename": "ValueError",
       "evalue": "Length does not match.",
       "output_type": "error",
       "traceback": [
        "\u001b[0;31m---------------------------------------------------------------------------\u001b[0m",
        "\u001b[0;31mValueError\u001b[0m                                Traceback (most recent call last)",
        "\u001b[0;32m<ipython-input-110-b2806fdea1ff>\u001b[0m in \u001b[0;36m<module>\u001b[0;34m\u001b[0m\n\u001b[0;32m----> 1\u001b[0;31m \u001b[0mhuman_one2one\u001b[0m\u001b[0;34m.\u001b[0m\u001b[0mvar\u001b[0m \u001b[0;34m=\u001b[0m \u001b[0mgene_orthologies_one2one_all_three\u001b[0m\u001b[0;34m.\u001b[0m\u001b[0mset_index\u001b[0m\u001b[0;34m(\u001b[0m\u001b[0;34m'human__gene_name'\u001b[0m\u001b[0;34m)\u001b[0m\u001b[0;34m\u001b[0m\u001b[0;34m\u001b[0m\u001b[0m\n\u001b[0m\u001b[1;32m      2\u001b[0m \u001b[0mhuman_one2one\u001b[0m\u001b[0;34m.\u001b[0m\u001b[0mvar\u001b[0m\u001b[0;34m.\u001b[0m\u001b[0mhead\u001b[0m\u001b[0;34m(\u001b[0m\u001b[0;34m)\u001b[0m\u001b[0;34m\u001b[0m\u001b[0;34m\u001b[0m\u001b[0m\n",
        "\u001b[0;32m~/miniconda3/envs/sc-tutorial/lib/python3.7/site-packages/anndata/core/anndata.py\u001b[0m in \u001b[0;36mvar\u001b[0;34m(self, value)\u001b[0m\n\u001b[1;32m    988\u001b[0m             \u001b[0;32mraise\u001b[0m \u001b[0mValueError\u001b[0m\u001b[0;34m(\u001b[0m\u001b[0;34m'Can only assign pd.DataFrame.'\u001b[0m\u001b[0;34m)\u001b[0m\u001b[0;34m\u001b[0m\u001b[0;34m\u001b[0m\u001b[0m\n\u001b[1;32m    989\u001b[0m         \u001b[0;32mif\u001b[0m \u001b[0mlen\u001b[0m\u001b[0;34m(\u001b[0m\u001b[0mvalue\u001b[0m\u001b[0;34m)\u001b[0m \u001b[0;34m!=\u001b[0m \u001b[0mself\u001b[0m\u001b[0;34m.\u001b[0m\u001b[0mn_vars\u001b[0m\u001b[0;34m:\u001b[0m\u001b[0;34m\u001b[0m\u001b[0;34m\u001b[0m\u001b[0m\n\u001b[0;32m--> 990\u001b[0;31m             \u001b[0;32mraise\u001b[0m \u001b[0mValueError\u001b[0m\u001b[0;34m(\u001b[0m\u001b[0;34m'Length does not match.'\u001b[0m\u001b[0;34m)\u001b[0m\u001b[0;34m\u001b[0m\u001b[0;34m\u001b[0m\u001b[0m\n\u001b[0m\u001b[1;32m    991\u001b[0m         \u001b[0mutils\u001b[0m\u001b[0;34m.\u001b[0m\u001b[0mwarn_no_string_index\u001b[0m\u001b[0;34m(\u001b[0m\u001b[0mvalue\u001b[0m\u001b[0;34m.\u001b[0m\u001b[0mindex\u001b[0m\u001b[0;34m)\u001b[0m\u001b[0;34m\u001b[0m\u001b[0;34m\u001b[0m\u001b[0m\n\u001b[1;32m    992\u001b[0m         \u001b[0;32mif\u001b[0m \u001b[0mself\u001b[0m\u001b[0;34m.\u001b[0m\u001b[0misview\u001b[0m\u001b[0;34m:\u001b[0m\u001b[0;34m\u001b[0m\u001b[0;34m\u001b[0m\u001b[0m\n",
        "\u001b[0;31mValueError\u001b[0m: Length does not match."
       ]
      }
     ],
     "persistentId": "ba8526b9-ffa6-4f0c-8826-69d5d1fb6f30",
     "text": "human_one2one.var = gene_orthologies_one2one_all_three.set_index('human__gene_name')\nhuman_one2one.var.head()"
    },
    "executionTime": "2019-12-14T20:35:39.117Z"
   },
   {
    "cell": {
     "executionCount": 111,
     "executionEventId": "5e154198-d494-4270-9205-a5a513ee845d",
     "hasError": false,
     "id": "5a477819-e313-4f59-9612-93b2cbd05b8a",
     "outputs": [
      {
       "data": {
        "text/html": "<div>\n<style scoped>\n    .dataframe tbody tr th:only-of-type {\n        vertical-align: middle;\n    }\n\n    .dataframe tbody tr th {\n        vertical-align: top;\n    }\n\n    .dataframe thead th {\n        text-align: right;\n    }\n</style>\n<table border=\"1\" class=\"dataframe\">\n  <thead>\n    <tr style=\"text-align: right;\">\n      <th></th>\n      <th>mouse_lemur__gene_name</th>\n      <th>mouse_lemur_to_human__homology_type</th>\n      <th>human__gene_name</th>\n      <th>human_to_mouse__homology_type</th>\n      <th>mouse__gene_name</th>\n    </tr>\n  </thead>\n  <tbody>\n    <tr>\n      <th>14</th>\n      <td>LOC105872179</td>\n      <td>ortholog_one2one</td>\n      <td>CYP26C1</td>\n      <td>ortholog_one2one</td>\n      <td>Cyp26c1</td>\n    </tr>\n    <tr>\n      <th>27</th>\n      <td>LOC105867234</td>\n      <td>ortholog_one2one</td>\n      <td>RBM17</td>\n      <td>ortholog_one2one</td>\n      <td>Rbm17</td>\n    </tr>\n    <tr>\n      <th>61</th>\n      <td>LOC105862594</td>\n      <td>ortholog_one2one</td>\n      <td>PCDHAC2</td>\n      <td>ortholog_one2one</td>\n      <td>Pcdhac2</td>\n    </tr>\n    <tr>\n      <th>91</th>\n      <td>LOC105862085</td>\n      <td>ortholog_one2one</td>\n      <td>POSTN</td>\n      <td>ortholog_one2one</td>\n      <td>Postn</td>\n    </tr>\n    <tr>\n      <th>126</th>\n      <td>LOC105880951</td>\n      <td>ortholog_one2one</td>\n      <td>RPS27</td>\n      <td>ortholog_one2one</td>\n      <td>Rps27</td>\n    </tr>\n    <tr>\n      <th>...</th>\n      <td>...</td>\n      <td>...</td>\n      <td>...</td>\n      <td>...</td>\n      <td>...</td>\n    </tr>\n    <tr>\n      <th>21235</th>\n      <td>LOC105874434</td>\n      <td>ortholog_one2one</td>\n      <td>CYP8B1</td>\n      <td>ortholog_one2one</td>\n      <td>Cyp8b1</td>\n    </tr>\n    <tr>\n      <th>21312</th>\n      <td>LOC105881243</td>\n      <td>ortholog_one2one</td>\n      <td>CP</td>\n      <td>ortholog_one2one</td>\n      <td>Cp</td>\n    </tr>\n    <tr>\n      <th>21435</th>\n      <td>LOC105855766</td>\n      <td>ortholog_one2one</td>\n      <td>EEF1AKMT4</td>\n      <td>ortholog_one2one</td>\n      <td>Eef1akmt4</td>\n    </tr>\n    <tr>\n      <th>21581</th>\n      <td>LOC105879907</td>\n      <td>ortholog_one2one</td>\n      <td>GTF2E1</td>\n      <td>ortholog_one2one</td>\n      <td>Gtf2e1</td>\n    </tr>\n    <tr>\n      <th>21647</th>\n      <td>LOC105878040</td>\n      <td>ortholog_one2one</td>\n      <td>TRAT1</td>\n      <td>ortholog_one2one</td>\n      <td>Trat1</td>\n    </tr>\n  </tbody>\n</table>\n<p>427 rows × 5 columns</p>\n</div>",
        "text/plain": "      mouse_lemur__gene_name mouse_lemur_to_human__homology_type  \\\n14              LOC105872179                    ortholog_one2one   \n27              LOC105867234                    ortholog_one2one   \n61              LOC105862594                    ortholog_one2one   \n91              LOC105862085                    ortholog_one2one   \n126             LOC105880951                    ortholog_one2one   \n...                      ...                                 ...   \n21235           LOC105874434                    ortholog_one2one   \n21312           LOC105881243                    ortholog_one2one   \n21435           LOC105855766                    ortholog_one2one   \n21581           LOC105879907                    ortholog_one2one   \n21647           LOC105878040                    ortholog_one2one   \n\n      human__gene_name human_to_mouse__homology_type mouse__gene_name  \n14             CYP26C1              ortholog_one2one          Cyp26c1  \n27               RBM17              ortholog_one2one            Rbm17  \n61             PCDHAC2              ortholog_one2one          Pcdhac2  \n91               POSTN              ortholog_one2one            Postn  \n126              RPS27              ortholog_one2one            Rps27  \n...                ...                           ...              ...  \n21235           CYP8B1              ortholog_one2one           Cyp8b1  \n21312               CP              ortholog_one2one               Cp  \n21435        EEF1AKMT4              ortholog_one2one        Eef1akmt4  \n21581           GTF2E1              ortholog_one2one           Gtf2e1  \n21647            TRAT1              ortholog_one2one            Trat1  \n\n[427 rows x 5 columns]"
       },
       "execution_count": 111,
       "metadata": {},
       "output_type": "execute_result"
      }
     ],
     "persistentId": "696a2e1d-d7cb-43c6-8518-0a724be70e22",
     "text": "gene_orthologies_one2one_all_three.loc[gene_orthologies_one2one_all_three.mouse_lemur__gene_name.str.startswith(\"LOC\")]"
    },
    "executionTime": "2019-12-14T20:36:23.327Z"
   },
   {
    "cell": {
     "executionCount": 112,
     "executionEventId": "d3869091-49d5-4475-8e82-e3f4104b3607",
     "hasError": false,
     "id": "0294cd67-e9e1-4c87-80fd-1c9583412dfb",
     "outputs": [
      {
       "data": {
        "text/html": "<div>\n<style scoped>\n    .dataframe tbody tr th:only-of-type {\n        vertical-align: middle;\n    }\n\n    .dataframe tbody tr th {\n        vertical-align: top;\n    }\n\n    .dataframe thead th {\n        text-align: right;\n    }\n</style>\n<table border=\"1\" class=\"dataframe\">\n  <thead>\n    <tr style=\"text-align: right;\">\n      <th></th>\n      <th>mouse_lemur__gene_name</th>\n      <th>mouse_lemur_to_human__homology_type</th>\n      <th>human_to_mouse__homology_type</th>\n      <th>mouse__gene_name</th>\n    </tr>\n    <tr>\n      <th>gene_name</th>\n      <th></th>\n      <th></th>\n      <th></th>\n      <th></th>\n    </tr>\n  </thead>\n  <tbody>\n    <tr>\n      <th>SAMD11</th>\n      <td>SAMD11</td>\n      <td>ortholog_one2one</td>\n      <td>ortholog_one2one</td>\n      <td>Samd11</td>\n    </tr>\n    <tr>\n      <th>NOC2L</th>\n      <td>NOC2L</td>\n      <td>ortholog_one2one</td>\n      <td>ortholog_one2one</td>\n      <td>Noc2l</td>\n    </tr>\n    <tr>\n      <th>KLHL17</th>\n      <td>KLHL17</td>\n      <td>ortholog_one2one</td>\n      <td>ortholog_one2one</td>\n      <td>Plekhn1</td>\n    </tr>\n    <tr>\n      <th>PERM1</th>\n      <td>PERM1</td>\n      <td>ortholog_one2one</td>\n      <td>ortholog_one2one</td>\n      <td>Perm1</td>\n    </tr>\n    <tr>\n      <th>ISG15</th>\n      <td>ISG15</td>\n      <td>ortholog_one2one</td>\n      <td>ortholog_one2one</td>\n      <td>Isg15</td>\n    </tr>\n  </tbody>\n</table>\n</div>",
        "text/plain": "          mouse_lemur__gene_name mouse_lemur_to_human__homology_type  \\\ngene_name                                                              \nSAMD11                    SAMD11                    ortholog_one2one   \nNOC2L                      NOC2L                    ortholog_one2one   \nKLHL17                    KLHL17                    ortholog_one2one   \nPERM1                      PERM1                    ortholog_one2one   \nISG15                      ISG15                    ortholog_one2one   \n\n          human_to_mouse__homology_type mouse__gene_name  \ngene_name                                                 \nSAMD11                 ortholog_one2one           Samd11  \nNOC2L                  ortholog_one2one            Noc2l  \nKLHL17                 ortholog_one2one          Plekhn1  \nPERM1                  ortholog_one2one            Perm1  \nISG15                  ortholog_one2one            Isg15  "
       },
       "execution_count": 112,
       "metadata": {},
       "output_type": "execute_result"
      }
     ],
     "persistentId": "ba8526b9-ffa6-4f0c-8826-69d5d1fb6f30",
     "text": "human_one2one.var = gene_orthologies_one2one_all_three.set_index('human__gene_name').loc[human_one2one.var.index]\nhuman_one2one.var.head()"
    },
    "executionTime": "2019-12-14T20:37:42.554Z"
   },
   {
    "cell": {
     "executionCount": 113,
     "executionEventId": "066f13a0-261c-454b-b4a4-06fdc73d5683",
     "hasError": false,
     "id": "454b83c4-e13b-487d-8ff4-594288dfa151",
     "outputs": [
      {
       "data": {
        "text/html": "<div>\n<style scoped>\n    .dataframe tbody tr th:only-of-type {\n        vertical-align: middle;\n    }\n\n    .dataframe tbody tr th {\n        vertical-align: top;\n    }\n\n    .dataframe thead th {\n        text-align: right;\n    }\n</style>\n<table border=\"1\" class=\"dataframe\">\n  <thead>\n    <tr style=\"text-align: right;\">\n      <th></th>\n      <th>n_genes</th>\n      <th>n_counts</th>\n      <th>orig_ident</th>\n      <th>channel</th>\n      <th>tissue</th>\n      <th>region</th>\n      <th>individual</th>\n      <th>species</th>\n      <th>method</th>\n      <th>processed</th>\n      <th>...</th>\n      <th>macrophage_score</th>\n      <th>plasma_score</th>\n      <th>muscle_score</th>\n      <th>stromal_score</th>\n      <th>neuronal_score</th>\n      <th>adipose_score</th>\n      <th>compartment_original</th>\n      <th>compartment_final</th>\n      <th>leiden</th>\n      <th>species_latin</th>\n    </tr>\n    <tr>\n      <th>index</th>\n      <th></th>\n      <th></th>\n      <th></th>\n      <th></th>\n      <th></th>\n      <th></th>\n      <th></th>\n      <th></th>\n      <th></th>\n      <th></th>\n      <th></th>\n      <th></th>\n      <th></th>\n      <th></th>\n      <th></th>\n      <th></th>\n      <th></th>\n      <th></th>\n      <th></th>\n      <th></th>\n      <th></th>\n    </tr>\n  </thead>\n  <tbody>\n    <tr>\n      <th>Antoine_Lung_CD31_10X_AAACCTGAGAAACGAG</th>\n      <td>2849</td>\n      <td>11156.0</td>\n      <td>Antoine</td>\n      <td>Antoine_Lung_CD31_10X</td>\n      <td>Lung</td>\n      <td>CD31</td>\n      <td>Antoine</td>\n      <td>Mouse lemur</td>\n      <td>10X</td>\n      <td>Biohub</td>\n      <td>...</td>\n      <td>2.015433</td>\n      <td>0.399618</td>\n      <td>-0.064268</td>\n      <td>-0.241688</td>\n      <td>-0.034718</td>\n      <td>-0.023589</td>\n      <td>macrophage</td>\n      <td>immune</td>\n      <td>5</td>\n      <td>Microcebus murinus</td>\n    </tr>\n    <tr>\n      <th>Antoine_Lung_CD31_10X_AAACCTGAGATGTTAG</th>\n      <td>2096</td>\n      <td>5450.0</td>\n      <td>Antoine</td>\n      <td>Antoine_Lung_CD31_10X</td>\n      <td>Lung</td>\n      <td>CD31</td>\n      <td>Antoine</td>\n      <td>Mouse lemur</td>\n      <td>10X</td>\n      <td>Biohub</td>\n      <td>...</td>\n      <td>2.115203</td>\n      <td>-0.571349</td>\n      <td>-0.064268</td>\n      <td>-0.241688</td>\n      <td>-0.034718</td>\n      <td>-0.023589</td>\n      <td>macrophage</td>\n      <td>immune</td>\n      <td>65</td>\n      <td>Microcebus murinus</td>\n    </tr>\n    <tr>\n      <th>Antoine_Lung_CD31_10X_AAACCTGAGCGTAGTG</th>\n      <td>776</td>\n      <td>1138.0</td>\n      <td>Antoine</td>\n      <td>Antoine_Lung_CD31_10X</td>\n      <td>Lung</td>\n      <td>CD31</td>\n      <td>Antoine</td>\n      <td>Mouse lemur</td>\n      <td>10X</td>\n      <td>Biohub</td>\n      <td>...</td>\n      <td>0.890181</td>\n      <td>-0.571349</td>\n      <td>-0.064268</td>\n      <td>-0.241688</td>\n      <td>-0.034718</td>\n      <td>-0.023589</td>\n      <td>endothelial</td>\n      <td>endothelial</td>\n      <td>60</td>\n      <td>Microcebus murinus</td>\n    </tr>\n    <tr>\n      <th>Antoine_Lung_CD31_10X_AAACCTGAGGCAGTCA</th>\n      <td>2863</td>\n      <td>11950.0</td>\n      <td>Antoine</td>\n      <td>Antoine_Lung_CD31_10X</td>\n      <td>Lung</td>\n      <td>CD31</td>\n      <td>Antoine</td>\n      <td>Mouse lemur</td>\n      <td>10X</td>\n      <td>Biohub</td>\n      <td>...</td>\n      <td>0.025662</td>\n      <td>-0.571349</td>\n      <td>-0.064268</td>\n      <td>-0.241688</td>\n      <td>-0.034718</td>\n      <td>-0.023589</td>\n      <td>epithelial</td>\n      <td>epithelial</td>\n      <td>17</td>\n      <td>Microcebus murinus</td>\n    </tr>\n    <tr>\n      <th>Antoine_Lung_CD31_10X_AAACCTGAGGGTGTGT</th>\n      <td>3417</td>\n      <td>13559.0</td>\n      <td>Antoine</td>\n      <td>Antoine_Lung_CD31_10X</td>\n      <td>Lung</td>\n      <td>CD31</td>\n      <td>Antoine</td>\n      <td>Mouse lemur</td>\n      <td>10X</td>\n      <td>Biohub</td>\n      <td>...</td>\n      <td>1.962445</td>\n      <td>-0.571349</td>\n      <td>-0.064268</td>\n      <td>-0.241688</td>\n      <td>-0.034718</td>\n      <td>-0.023589</td>\n      <td>macrophage</td>\n      <td>immune</td>\n      <td>20</td>\n      <td>Microcebus murinus</td>\n    </tr>\n  </tbody>\n</table>\n<p>5 rows × 29 columns</p>\n</div>",
        "text/plain": "                                        n_genes  n_counts orig_ident  \\\nindex                                                                  \nAntoine_Lung_CD31_10X_AAACCTGAGAAACGAG     2849   11156.0    Antoine   \nAntoine_Lung_CD31_10X_AAACCTGAGATGTTAG     2096    5450.0    Antoine   \nAntoine_Lung_CD31_10X_AAACCTGAGCGTAGTG      776    1138.0    Antoine   \nAntoine_Lung_CD31_10X_AAACCTGAGGCAGTCA     2863   11950.0    Antoine   \nAntoine_Lung_CD31_10X_AAACCTGAGGGTGTGT     3417   13559.0    Antoine   \n\n                                                      channel tissue region  \\\nindex                                                                         \nAntoine_Lung_CD31_10X_AAACCTGAGAAACGAG  Antoine_Lung_CD31_10X   Lung   CD31   \nAntoine_Lung_CD31_10X_AAACCTGAGATGTTAG  Antoine_Lung_CD31_10X   Lung   CD31   \nAntoine_Lung_CD31_10X_AAACCTGAGCGTAGTG  Antoine_Lung_CD31_10X   Lung   CD31   \nAntoine_Lung_CD31_10X_AAACCTGAGGCAGTCA  Antoine_Lung_CD31_10X   Lung   CD31   \nAntoine_Lung_CD31_10X_AAACCTGAGGGTGTGT  Antoine_Lung_CD31_10X   Lung   CD31   \n\n                                       individual      species method  \\\nindex                                                                   \nAntoine_Lung_CD31_10X_AAACCTGAGAAACGAG    Antoine  Mouse lemur    10X   \nAntoine_Lung_CD31_10X_AAACCTGAGATGTTAG    Antoine  Mouse lemur    10X   \nAntoine_Lung_CD31_10X_AAACCTGAGCGTAGTG    Antoine  Mouse lemur    10X   \nAntoine_Lung_CD31_10X_AAACCTGAGGCAGTCA    Antoine  Mouse lemur    10X   \nAntoine_Lung_CD31_10X_AAACCTGAGGGTGTGT    Antoine  Mouse lemur    10X   \n\n                                       processed  ...  macrophage_score  \\\nindex                                             ...                     \nAntoine_Lung_CD31_10X_AAACCTGAGAAACGAG    Biohub  ...          2.015433   \nAntoine_Lung_CD31_10X_AAACCTGAGATGTTAG    Biohub  ...          2.115203   \nAntoine_Lung_CD31_10X_AAACCTGAGCGTAGTG    Biohub  ...          0.890181   \nAntoine_Lung_CD31_10X_AAACCTGAGGCAGTCA    Biohub  ...          0.025662   \nAntoine_Lung_CD31_10X_AAACCTGAGGGTGTGT    Biohub  ...          1.962445   \n\n                                       plasma_score muscle_score  \\\nindex                                                              \nAntoine_Lung_CD31_10X_AAACCTGAGAAACGAG     0.399618    -0.064268   \nAntoine_Lung_CD31_10X_AAACCTGAGATGTTAG    -0.571349    -0.064268   \nAntoine_Lung_CD31_10X_AAACCTGAGCGTAGTG    -0.571349    -0.064268   \nAntoine_Lung_CD31_10X_AAACCTGAGGCAGTCA    -0.571349    -0.064268   \nAntoine_Lung_CD31_10X_AAACCTGAGGGTGTGT    -0.571349    -0.064268   \n\n                                        stromal_score  neuronal_score  \\\nindex                                                                   \nAntoine_Lung_CD31_10X_AAACCTGAGAAACGAG      -0.241688       -0.034718   \nAntoine_Lung_CD31_10X_AAACCTGAGATGTTAG      -0.241688       -0.034718   \nAntoine_Lung_CD31_10X_AAACCTGAGCGTAGTG      -0.241688       -0.034718   \nAntoine_Lung_CD31_10X_AAACCTGAGGCAGTCA      -0.241688       -0.034718   \nAntoine_Lung_CD31_10X_AAACCTGAGGGTGTGT      -0.241688       -0.034718   \n\n                                        adipose_score  compartment_original  \\\nindex                                                                         \nAntoine_Lung_CD31_10X_AAACCTGAGAAACGAG      -0.023589            macrophage   \nAntoine_Lung_CD31_10X_AAACCTGAGATGTTAG      -0.023589            macrophage   \nAntoine_Lung_CD31_10X_AAACCTGAGCGTAGTG      -0.023589           endothelial   \nAntoine_Lung_CD31_10X_AAACCTGAGGCAGTCA      -0.023589            epithelial   \nAntoine_Lung_CD31_10X_AAACCTGAGGGTGTGT      -0.023589            macrophage   \n\n                                        compartment_final  leiden  \\\nindex                                                               \nAntoine_Lung_CD31_10X_AAACCTGAGAAACGAG             immune       5   \nAntoine_Lung_CD31_10X_AAACCTGAGATGTTAG             immune      65   \nAntoine_Lung_CD31_10X_AAACCTGAGCGTAGTG        endothelial      60   \nAntoine_Lung_CD31_10X_AAACCTGAGGCAGTCA         epithelial      17   \nAntoine_Lung_CD31_10X_AAACCTGAGGGTGTGT             immune      20   \n\n                                             species_latin  \nindex                                                       \nAntoine_Lung_CD31_10X_AAACCTGAGAAACGAG  Microcebus murinus  \nAntoine_Lung_CD31_10X_AAACCTGAGATGTTAG  Microcebus murinus  \nAntoine_Lung_CD31_10X_AAACCTGAGCGTAGTG  Microcebus murinus  \nAntoine_Lung_CD31_10X_AAACCTGAGGCAGTCA  Microcebus murinus  \nAntoine_Lung_CD31_10X_AAACCTGAGGGTGTGT  Microcebus murinus  \n\n[5 rows x 29 columns]"
       },
       "execution_count": 113,
       "metadata": {},
       "output_type": "execute_result"
      }
     ],
     "persistentId": "42b14e72-7cbd-458c-86b8-05461831e84d",
     "text": "lemur_one2one.obs['species'] = 'Mouse lemur'\nlemur_one2one.obs['species_latin'] = 'Microcebus murinus'\nlemur_one2one.obs.head()"
    },
    "executionTime": "2019-12-15T01:13:41.146Z"
   },
   {
    "cell": {
     "executionCount": 114,
     "executionEventId": "c9f6c8e8-8b01-4695-a51d-3a43de452cb7",
     "hasError": false,
     "id": "c8ae2eb9-46cc-473f-b754-0a78f8072caf",
     "outputs": [
      {
       "name": "stderr",
       "output_type": "stream",
       "text": "... storing 'species' as categorical\n... storing 'species_latin' as categorical\n"
      }
     ],
     "persistentId": "764c6931-5efa-48d2-847a-8aa2ad75ac5a",
     "text": "h5ad = f\"{outdir}/lung__10x__lemur__one2one_orthologs.h5ad\"\n%time lemur_one2one.write(h5ad)"
    },
    "executionTime": "2019-12-15T01:19:46.661Z"
   },
   {
    "cell": {
     "executionCount": 115,
     "executionEventId": "22d86e55-487d-47fa-a178-c4a07ec16854",
     "hasError": true,
     "id": "c0248fca-3550-46cc-abe2-096b976f0b2e",
     "outputs": [
      {
       "ename": "AttributeError",
       "evalue": "'DataFrame' object has no attribute 'free_annotation'",
       "output_type": "error",
       "traceback": [
        "\u001b[0;31m---------------------------------------------------------------------------\u001b[0m",
        "\u001b[0;31mAttributeError\u001b[0m                            Traceback (most recent call last)",
        "\u001b[0;32m<ipython-input-115-d33e99032bcb>\u001b[0m in \u001b[0;36m<module>\u001b[0;34m\u001b[0m\n\u001b[0;32m----> 1\u001b[0;31m \u001b[0mlemur\u001b[0m\u001b[0;34m.\u001b[0m\u001b[0mvar\u001b[0m\u001b[0;34m.\u001b[0m\u001b[0mfree_annotation\u001b[0m\u001b[0;34m.\u001b[0m\u001b[0mvalue_counts\u001b[0m\u001b[0;34m(\u001b[0m\u001b[0;34m)\u001b[0m\u001b[0;34m\u001b[0m\u001b[0;34m\u001b[0m\u001b[0m\n\u001b[0m",
        "\u001b[0;32m~/miniconda3/envs/sc-tutorial/lib/python3.7/site-packages/pandas/core/generic.py\u001b[0m in \u001b[0;36m__getattr__\u001b[0;34m(self, name)\u001b[0m\n\u001b[1;32m   5177\u001b[0m             \u001b[0;32mif\u001b[0m \u001b[0mself\u001b[0m\u001b[0;34m.\u001b[0m\u001b[0m_info_axis\u001b[0m\u001b[0;34m.\u001b[0m\u001b[0m_can_hold_identifiers_and_holds_name\u001b[0m\u001b[0;34m(\u001b[0m\u001b[0mname\u001b[0m\u001b[0;34m)\u001b[0m\u001b[0;34m:\u001b[0m\u001b[0;34m\u001b[0m\u001b[0;34m\u001b[0m\u001b[0m\n\u001b[1;32m   5178\u001b[0m                 \u001b[0;32mreturn\u001b[0m \u001b[0mself\u001b[0m\u001b[0;34m[\u001b[0m\u001b[0mname\u001b[0m\u001b[0;34m]\u001b[0m\u001b[0;34m\u001b[0m\u001b[0;34m\u001b[0m\u001b[0m\n\u001b[0;32m-> 5179\u001b[0;31m             \u001b[0;32mreturn\u001b[0m \u001b[0mobject\u001b[0m\u001b[0;34m.\u001b[0m\u001b[0m__getattribute__\u001b[0m\u001b[0;34m(\u001b[0m\u001b[0mself\u001b[0m\u001b[0;34m,\u001b[0m \u001b[0mname\u001b[0m\u001b[0;34m)\u001b[0m\u001b[0;34m\u001b[0m\u001b[0;34m\u001b[0m\u001b[0m\n\u001b[0m\u001b[1;32m   5180\u001b[0m \u001b[0;34m\u001b[0m\u001b[0m\n\u001b[1;32m   5181\u001b[0m     \u001b[0;32mdef\u001b[0m \u001b[0m__setattr__\u001b[0m\u001b[0;34m(\u001b[0m\u001b[0mself\u001b[0m\u001b[0;34m,\u001b[0m \u001b[0mname\u001b[0m\u001b[0;34m,\u001b[0m \u001b[0mvalue\u001b[0m\u001b[0;34m)\u001b[0m\u001b[0;34m:\u001b[0m\u001b[0;34m\u001b[0m\u001b[0;34m\u001b[0m\u001b[0m\n",
        "\u001b[0;31mAttributeError\u001b[0m: 'DataFrame' object has no attribute 'free_annotation'"
       ]
      }
     ],
     "persistentId": "f54e595b-acd8-4e9b-a5d6-43e4db0b5eb9",
     "text": "lemur.var.free_annotation.value_counts()"
    },
    "executionTime": "2019-12-15T01:19:46.836Z"
   },
   {
    "cell": {
     "executionCount": 116,
     "executionEventId": "9b832d3a-2366-43ea-a38b-57b6f7a39ec4",
     "hasError": true,
     "id": "5fc9b3d1-aed1-47dd-8408-5c9f1957a6bd",
     "outputs": [
      {
       "ename": "AttributeError",
       "evalue": "'DataFrame' object has no attribute 'free_annotation'",
       "output_type": "error",
       "traceback": [
        "\u001b[0;31m---------------------------------------------------------------------------\u001b[0m",
        "\u001b[0;31mAttributeError\u001b[0m                            Traceback (most recent call last)",
        "\u001b[0;32m<ipython-input-116-a9511964c6dd>\u001b[0m in \u001b[0;36m<module>\u001b[0;34m\u001b[0m\n\u001b[0;32m----> 1\u001b[0;31m \u001b[0mhuman\u001b[0m\u001b[0;34m.\u001b[0m\u001b[0mvar\u001b[0m\u001b[0;34m.\u001b[0m\u001b[0mfree_annotation\u001b[0m\u001b[0;34m.\u001b[0m\u001b[0mvalue_counts\u001b[0m\u001b[0;34m(\u001b[0m\u001b[0;34m)\u001b[0m\u001b[0;34m\u001b[0m\u001b[0;34m\u001b[0m\u001b[0m\n\u001b[0m",
        "\u001b[0;32m~/miniconda3/envs/sc-tutorial/lib/python3.7/site-packages/pandas/core/generic.py\u001b[0m in \u001b[0;36m__getattr__\u001b[0;34m(self, name)\u001b[0m\n\u001b[1;32m   5177\u001b[0m             \u001b[0;32mif\u001b[0m \u001b[0mself\u001b[0m\u001b[0;34m.\u001b[0m\u001b[0m_info_axis\u001b[0m\u001b[0;34m.\u001b[0m\u001b[0m_can_hold_identifiers_and_holds_name\u001b[0m\u001b[0;34m(\u001b[0m\u001b[0mname\u001b[0m\u001b[0;34m)\u001b[0m\u001b[0;34m:\u001b[0m\u001b[0;34m\u001b[0m\u001b[0;34m\u001b[0m\u001b[0m\n\u001b[1;32m   5178\u001b[0m                 \u001b[0;32mreturn\u001b[0m \u001b[0mself\u001b[0m\u001b[0;34m[\u001b[0m\u001b[0mname\u001b[0m\u001b[0;34m]\u001b[0m\u001b[0;34m\u001b[0m\u001b[0;34m\u001b[0m\u001b[0m\n\u001b[0;32m-> 5179\u001b[0;31m             \u001b[0;32mreturn\u001b[0m \u001b[0mobject\u001b[0m\u001b[0;34m.\u001b[0m\u001b[0m__getattribute__\u001b[0m\u001b[0;34m(\u001b[0m\u001b[0mself\u001b[0m\u001b[0;34m,\u001b[0m \u001b[0mname\u001b[0m\u001b[0;34m)\u001b[0m\u001b[0;34m\u001b[0m\u001b[0;34m\u001b[0m\u001b[0m\n\u001b[0m\u001b[1;32m   5180\u001b[0m \u001b[0;34m\u001b[0m\u001b[0m\n\u001b[1;32m   5181\u001b[0m     \u001b[0;32mdef\u001b[0m \u001b[0m__setattr__\u001b[0m\u001b[0;34m(\u001b[0m\u001b[0mself\u001b[0m\u001b[0;34m,\u001b[0m \u001b[0mname\u001b[0m\u001b[0;34m,\u001b[0m \u001b[0mvalue\u001b[0m\u001b[0;34m)\u001b[0m\u001b[0;34m:\u001b[0m\u001b[0;34m\u001b[0m\u001b[0;34m\u001b[0m\u001b[0m\n",
        "\u001b[0;31mAttributeError\u001b[0m: 'DataFrame' object has no attribute 'free_annotation'"
       ]
      }
     ],
     "persistentId": "8203275c-de26-4a80-9c32-33778be00436",
     "text": "human.var.free_annotation.value_counts()"
    },
    "executionTime": "2019-12-15T01:20:58.845Z"
   },
   {
    "cell": {
     "executionCount": 117,
     "executionEventId": "ed15751b-eab5-475f-9731-85dd982529b1",
     "hasError": false,
     "id": "5fc9b3d1-aed1-47dd-8408-5c9f1957a6bd",
     "outputs": [
      {
       "data": {
        "text/plain": "Macrophage                              14734\nCapillary                                7391\nNatural Killer                           4769\nCapillary Aerocyte                       4352\nAlveolar Epithelial Type 2               3814\nCD4+ Memory/Effector T                   3013\nClassical Monocyte                       2077\nCD8+ Naive T                             2042\nPericyte                                 1608\nArtery                                   1484\nBasophil/Mast 1                          1350\nCiliated                                 1321\nAlveolar Fibroblast                      1296\nCD8+ Memory/Effector T                   1190\nVein                                     1155\nAlveolar Epithelial Type 1                972\nCD4+ Naive T                              932\nClub                                      931\nNonclassical Monocyte                     804\nB                                         725\nAirway Smooth Muscle                      693\nSignaling Alveolar Epithelial Type 2      669\nCapillary Intermediate 1                  628\nAdventitial Fibroblast                    557\nBasophil/Mast 2                           552\nMucous                                    491\nVascular Smooth Muscle                    469\nLymphatic                                 467\nCapillary Intermediate 2                  464\nBronchial Vessel 1                        455\nBasal                                     436\nNatural Killer T                          335\nIGSF21+ Dendritic                         280\nMyeloid Dendritic Type 2                  266\nDifferentiating Basal                     265\nMyofibroblast                             248\nBronchial Vessel 2                        235\nProliferating Macrophage                  226\nOLR1+ Classical Monocyte                  207\nIntermediate Monocyte                     188\nPlasma                                    187\nGoblet                                    159\nTREM2+ Dendritic                          159\nProximal Basal                            157\nEREG+ Dendritic                           142\nPlasmacytoid Dendritic                    137\nMyeloid Dendritic Type 1                  131\nProliferating NK/T                        105\nFibromyocyte                               98\nProximal Ciliated                          88\nProliferating Basal                        47\nPlatelet/Megakaryocyte                     40\nLipofibroblast                             35\nMesothelial                                29\nSerous                                     24\nIonocyte                                   22\nNeuroendocrine                             11\nName: free_annotation, dtype: int64"
       },
       "execution_count": 117,
       "metadata": {},
       "output_type": "execute_result"
      }
     ],
     "persistentId": "8203275c-de26-4a80-9c32-33778be00436",
     "text": "human.obs.free_annotation.value_counts()"
    },
    "executionTime": "2019-12-15T01:21:06.101Z"
   },
   {
    "cell": {
     "executionCount": 118,
     "executionEventId": "77e2c16d-ce57-4c5f-a43f-712cbb14f7cf",
     "hasError": false,
     "id": "5fc9b3d1-aed1-47dd-8408-5c9f1957a6bd",
     "outputs": [
      {
       "data": {
        "text/html": "<div>\n<style scoped>\n    .dataframe tbody tr th:only-of-type {\n        vertical-align: middle;\n    }\n\n    .dataframe tbody tr th {\n        vertical-align: top;\n    }\n\n    .dataframe thead th {\n        text-align: right;\n    }\n</style>\n<table border=\"1\" class=\"dataframe\">\n  <thead>\n    <tr style=\"text-align: right;\">\n      <th></th>\n      <th>free_annotation</th>\n    </tr>\n  </thead>\n  <tbody>\n    <tr>\n      <th>Macrophage</th>\n      <td>14734</td>\n    </tr>\n    <tr>\n      <th>Capillary</th>\n      <td>7391</td>\n    </tr>\n    <tr>\n      <th>Natural Killer</th>\n      <td>4769</td>\n    </tr>\n    <tr>\n      <th>Capillary Aerocyte</th>\n      <td>4352</td>\n    </tr>\n    <tr>\n      <th>Alveolar Epithelial Type 2</th>\n      <td>3814</td>\n    </tr>\n    <tr>\n      <th>CD4+ Memory/Effector T</th>\n      <td>3013</td>\n    </tr>\n    <tr>\n      <th>Classical Monocyte</th>\n      <td>2077</td>\n    </tr>\n    <tr>\n      <th>CD8+ Naive T</th>\n      <td>2042</td>\n    </tr>\n    <tr>\n      <th>Pericyte</th>\n      <td>1608</td>\n    </tr>\n    <tr>\n      <th>Artery</th>\n      <td>1484</td>\n    </tr>\n    <tr>\n      <th>Basophil/Mast 1</th>\n      <td>1350</td>\n    </tr>\n    <tr>\n      <th>Ciliated</th>\n      <td>1321</td>\n    </tr>\n    <tr>\n      <th>Alveolar Fibroblast</th>\n      <td>1296</td>\n    </tr>\n    <tr>\n      <th>CD8+ Memory/Effector T</th>\n      <td>1190</td>\n    </tr>\n    <tr>\n      <th>Vein</th>\n      <td>1155</td>\n    </tr>\n    <tr>\n      <th>Alveolar Epithelial Type 1</th>\n      <td>972</td>\n    </tr>\n    <tr>\n      <th>CD4+ Naive T</th>\n      <td>932</td>\n    </tr>\n    <tr>\n      <th>Club</th>\n      <td>931</td>\n    </tr>\n    <tr>\n      <th>Nonclassical Monocyte</th>\n      <td>804</td>\n    </tr>\n    <tr>\n      <th>B</th>\n      <td>725</td>\n    </tr>\n    <tr>\n      <th>Airway Smooth Muscle</th>\n      <td>693</td>\n    </tr>\n    <tr>\n      <th>Signaling Alveolar Epithelial Type 2</th>\n      <td>669</td>\n    </tr>\n    <tr>\n      <th>Capillary Intermediate 1</th>\n      <td>628</td>\n    </tr>\n    <tr>\n      <th>Adventitial Fibroblast</th>\n      <td>557</td>\n    </tr>\n    <tr>\n      <th>Basophil/Mast 2</th>\n      <td>552</td>\n    </tr>\n    <tr>\n      <th>Mucous</th>\n      <td>491</td>\n    </tr>\n    <tr>\n      <th>Vascular Smooth Muscle</th>\n      <td>469</td>\n    </tr>\n    <tr>\n      <th>Lymphatic</th>\n      <td>467</td>\n    </tr>\n    <tr>\n      <th>Capillary Intermediate 2</th>\n      <td>464</td>\n    </tr>\n    <tr>\n      <th>Bronchial Vessel 1</th>\n      <td>455</td>\n    </tr>\n    <tr>\n      <th>Basal</th>\n      <td>436</td>\n    </tr>\n    <tr>\n      <th>Natural Killer T</th>\n      <td>335</td>\n    </tr>\n    <tr>\n      <th>IGSF21+ Dendritic</th>\n      <td>280</td>\n    </tr>\n    <tr>\n      <th>Myeloid Dendritic Type 2</th>\n      <td>266</td>\n    </tr>\n    <tr>\n      <th>Differentiating Basal</th>\n      <td>265</td>\n    </tr>\n    <tr>\n      <th>Myofibroblast</th>\n      <td>248</td>\n    </tr>\n    <tr>\n      <th>Bronchial Vessel 2</th>\n      <td>235</td>\n    </tr>\n    <tr>\n      <th>Proliferating Macrophage</th>\n      <td>226</td>\n    </tr>\n    <tr>\n      <th>OLR1+ Classical Monocyte</th>\n      <td>207</td>\n    </tr>\n    <tr>\n      <th>Intermediate Monocyte</th>\n      <td>188</td>\n    </tr>\n    <tr>\n      <th>Plasma</th>\n      <td>187</td>\n    </tr>\n    <tr>\n      <th>Goblet</th>\n      <td>159</td>\n    </tr>\n    <tr>\n      <th>TREM2+ Dendritic</th>\n      <td>159</td>\n    </tr>\n    <tr>\n      <th>Proximal Basal</th>\n      <td>157</td>\n    </tr>\n    <tr>\n      <th>EREG+ Dendritic</th>\n      <td>142</td>\n    </tr>\n    <tr>\n      <th>Plasmacytoid Dendritic</th>\n      <td>137</td>\n    </tr>\n    <tr>\n      <th>Myeloid Dendritic Type 1</th>\n      <td>131</td>\n    </tr>\n    <tr>\n      <th>Proliferating NK/T</th>\n      <td>105</td>\n    </tr>\n    <tr>\n      <th>Fibromyocyte</th>\n      <td>98</td>\n    </tr>\n    <tr>\n      <th>Proximal Ciliated</th>\n      <td>88</td>\n    </tr>\n    <tr>\n      <th>Proliferating Basal</th>\n      <td>47</td>\n    </tr>\n    <tr>\n      <th>Platelet/Megakaryocyte</th>\n      <td>40</td>\n    </tr>\n    <tr>\n      <th>Lipofibroblast</th>\n      <td>35</td>\n    </tr>\n    <tr>\n      <th>Mesothelial</th>\n      <td>29</td>\n    </tr>\n    <tr>\n      <th>Serous</th>\n      <td>24</td>\n    </tr>\n    <tr>\n      <th>Ionocyte</th>\n      <td>22</td>\n    </tr>\n    <tr>\n      <th>Neuroendocrine</th>\n      <td>11</td>\n    </tr>\n  </tbody>\n</table>\n</div>",
        "text/plain": "                                      free_annotation\nMacrophage                                      14734\nCapillary                                        7391\nNatural Killer                                   4769\nCapillary Aerocyte                               4352\nAlveolar Epithelial Type 2                       3814\nCD4+ Memory/Effector T                           3013\nClassical Monocyte                               2077\nCD8+ Naive T                                     2042\nPericyte                                         1608\nArtery                                           1484\nBasophil/Mast 1                                  1350\nCiliated                                         1321\nAlveolar Fibroblast                              1296\nCD8+ Memory/Effector T                           1190\nVein                                             1155\nAlveolar Epithelial Type 1                        972\nCD4+ Naive T                                      932\nClub                                              931\nNonclassical Monocyte                             804\nB                                                 725\nAirway Smooth Muscle                              693\nSignaling Alveolar Epithelial Type 2              669\nCapillary Intermediate 1                          628\nAdventitial Fibroblast                            557\nBasophil/Mast 2                                   552\nMucous                                            491\nVascular Smooth Muscle                            469\nLymphatic                                         467\nCapillary Intermediate 2                          464\nBronchial Vessel 1                                455\nBasal                                             436\nNatural Killer T                                  335\nIGSF21+ Dendritic                                 280\nMyeloid Dendritic Type 2                          266\nDifferentiating Basal                             265\nMyofibroblast                                     248\nBronchial Vessel 2                                235\nProliferating Macrophage                          226\nOLR1+ Classical Monocyte                          207\nIntermediate Monocyte                             188\nPlasma                                            187\nGoblet                                            159\nTREM2+ Dendritic                                  159\nProximal Basal                                    157\nEREG+ Dendritic                                   142\nPlasmacytoid Dendritic                            137\nMyeloid Dendritic Type 1                          131\nProliferating NK/T                                105\nFibromyocyte                                       98\nProximal Ciliated                                  88\nProliferating Basal                                47\nPlatelet/Megakaryocyte                             40\nLipofibroblast                                     35\nMesothelial                                        29\nSerous                                             24\nIonocyte                                           22\nNeuroendocrine                                     11"
       },
       "execution_count": 118,
       "metadata": {},
       "output_type": "execute_result"
      }
     ],
     "persistentId": "8203275c-de26-4a80-9c32-33778be00436",
     "text": "human.obs.free_annotation.value_counts().to_frame()"
    },
    "executionTime": "2019-12-15T01:29:15.185Z"
   },
   {
    "cell": {
     "executionCount": 119,
     "executionEventId": "5f3c6b33-3c91-4578-af42-df5e9d5b5d08",
     "hasError": true,
     "id": "f81cf222-2ba0-41bb-bf72-fd781e437f65",
     "outputs": [
      {
       "ename": "NameError",
       "evalue": "name 'StringIO' is not defined",
       "output_type": "error",
       "traceback": [
        "\u001b[0;31m---------------------------------------------------------------------------\u001b[0m",
        "\u001b[0;31mNameError\u001b[0m                                 Traceback (most recent call last)",
        "\u001b[0;32m<ipython-input-119-f99ef5ec92c3>\u001b[0m in \u001b[0;36m<module>\u001b[0;34m\u001b[0m\n\u001b[1;32m     57\u001b[0m \u001b[0mVascular\u001b[0m \u001b[0mSmooth\u001b[0m \u001b[0mMuscle\u001b[0m  \u001b[0;36m469\u001b[0m     \u001b[0mvascular\u001b[0m \u001b[0massociated\u001b[0m \u001b[0msmooth\u001b[0m \u001b[0mmuscle\u001b[0m \u001b[0mcell\u001b[0m  \u001b[0mhttp\u001b[0m\u001b[0;34m:\u001b[0m\u001b[0;34m//\u001b[0m\u001b[0mpurl\u001b[0m\u001b[0;34m.\u001b[0m\u001b[0mobolibrary\u001b[0m\u001b[0;34m.\u001b[0m\u001b[0morg\u001b[0m\u001b[0;34m/\u001b[0m\u001b[0mobo\u001b[0m\u001b[0;34m/\u001b[0m\u001b[0mCL_0000359\u001b[0m       \u001b[0mhttps\u001b[0m\u001b[0;34m:\u001b[0m\u001b[0;34m//\u001b[0m\u001b[0mwww\u001b[0m\u001b[0;34m.\u001b[0m\u001b[0mebi\u001b[0m\u001b[0;34m.\u001b[0m\u001b[0mac\u001b[0m\u001b[0;34m.\u001b[0m\u001b[0muk\u001b[0m\u001b[0;34m/\u001b[0m\u001b[0mols\u001b[0m\u001b[0;34m/\u001b[0m\u001b[0montologies\u001b[0m\u001b[0;34m/\u001b[0m\u001b[0mcl\u001b[0m\u001b[0;34m/\u001b[0m\u001b[0mterms\u001b[0m\u001b[0;31m?\u001b[0m\u001b[0miri\u001b[0m\u001b[0;34m=\u001b[0m\u001b[0mhttp\u001b[0m\u001b[0;34m%\u001b[0m\u001b[0;36m3\u001b[0m\u001b[0mA\u001b[0m\u001b[0;34m%\u001b[0m\u001b[0;36m2\u001b[0m\u001b[0mF\u001b[0m\u001b[0;34m%\u001b[0m\u001b[0;36m2\u001b[0m\u001b[0mFpurl\u001b[0m\u001b[0;34m.\u001b[0m\u001b[0mobolibrary\u001b[0m\u001b[0;34m.\u001b[0m\u001b[0morg\u001b[0m\u001b[0;34m%\u001b[0m\u001b[0;36m2\u001b[0m\u001b[0mFobo\u001b[0m\u001b[0;34m%\u001b[0m\u001b[0;36m2\u001b[0m\u001b[0mFCL_0000359\u001b[0m\u001b[0;34m\u001b[0m\u001b[0;34m\u001b[0m\u001b[0m\n\u001b[1;32m     58\u001b[0m Vein\t1155\tvein endothelial cell\thttp://purl.obolibrary.org/obo/CL_0002543\thttps://www.ebi.ac.uk/ols/ontologies/cl/terms?iri=http%3A%2F%2Fpurl.obolibrary.org%2Fobo%2FCL_0002543'''\n\u001b[0;32m---> 59\u001b[0;31m \u001b[0mdf\u001b[0m \u001b[0;34m=\u001b[0m \u001b[0mpd\u001b[0m\u001b[0;34m.\u001b[0m\u001b[0mread_csv\u001b[0m\u001b[0;34m(\u001b[0m\u001b[0mStringIO\u001b[0m\u001b[0;34m(\u001b[0m\u001b[0ms\u001b[0m\u001b[0;34m)\u001b[0m\u001b[0;34m,\u001b[0m \u001b[0msep\u001b[0m\u001b[0;34m=\u001b[0m\u001b[0;34m'\\t'\u001b[0m\u001b[0;34m,\u001b[0m \u001b[0mindex_col\u001b[0m\u001b[0;34m=\u001b[0m\u001b[0;36m0\u001b[0m\u001b[0;34m)\u001b[0m\u001b[0;34m\u001b[0m\u001b[0;34m\u001b[0m\u001b[0m\n\u001b[0m\u001b[1;32m     60\u001b[0m \u001b[0mdf\u001b[0m\u001b[0;34m.\u001b[0m\u001b[0mhead\u001b[0m\u001b[0;34m(\u001b[0m\u001b[0;34m)\u001b[0m\u001b[0;34m\u001b[0m\u001b[0;34m\u001b[0m\u001b[0m\n",
        "\u001b[0;31mNameError\u001b[0m: name 'StringIO' is not defined"
       ]
      }
     ],
     "persistentId": "b5df376b-9f8e-45e8-8333-7d425ff93a77",
     "text": "s = '''free_annotation\tn_cells\tcell_ontology_class\tpermanent_url\tontology_lookup_service\nAdventitial Fibroblast\t557\tadventitial cell\thttp://purl.obolibrary.org/obo/CL_0002503\thttps://www.ebi.ac.uk/ols/ontologies/cl/terms?iri=http%3A%2F%2Fpurl.obolibrary.org%2Fobo%2FCL_0002503&viewMode=All&siblings=false\nAirway Smooth Muscle\t693\tbronchial smooth muscle cell\thttp://purl.obolibrary.org/obo/CL_0002598\thttps://www.ebi.ac.uk/ols/ontologies/cl/terms?iri=http%3A%2F%2Fpurl.obolibrary.org%2Fobo%2FCL_0002598\nAlveolar Epithelial Type 1\t972\ttype I pneumocyte\thttp://purl.obolibrary.org/obo/CL_0002062\thttps://www.ebi.ac.uk/ols/ontologies/cl/terms?iri=http%3A%2F%2Fpurl.obolibrary.org%2Fobo%2FCL_0002062\nAlveolar Epithelial Type 2\t3814\ttype II pneumocyte\thttp://purl.obolibrary.org/obo/CL_0002063\thttps://www.ebi.ac.uk/ols/ontologies/cl/terms?iri=http%3A%2F%2Fpurl.obolibrary.org%2Fobo%2FCL_0002063\nAlveolar Fibroblast\t1296\tfibroblast of lung\thttp://purl.obolibrary.org/obo/CL_0002553\thttps://www.ebi.ac.uk/ols/ontologies/cl/terms?iri=http%3A%2F%2Fpurl.obolibrary.org%2Fobo%2FCL_0002553&viewMode=All&siblings=false\nArtery\t1484\tlung endothelial cell\thttp://purl.obolibrary.org/obo/CL_1001567\thttps://www.ebi.ac.uk/ols/ontologies/cl/terms?iri=http%3A%2F%2Fpurl.obolibrary.org%2Fobo%2FCL_1001567&viewMode=All&siblings=false\nB\t725\tB cell\thttp://purl.obolibrary.org/obo/CL_0000236\thttps://www.ebi.ac.uk/ols/ontologies/cl/terms?iri=http%3A%2F%2Fpurl.obolibrary.org%2Fobo%2FCL_0000236\nBasal\t436\tbasal cell\thttp://purl.obolibrary.org/obo/CL_0000646\thttps://www.ebi.ac.uk/ols/ontologies/cl/terms?iri=http%3A%2F%2Fpurl.obolibrary.org%2Fobo%2FCL_0000646\nBasophil/Mast 1\t1350\tmyeloid leukocyte\thttp://purl.obolibrary.org/obo/CL_0000766\thttps://www.ebi.ac.uk/ols/ontologies/cl/terms?iri=http%3A%2F%2Fpurl.obolibrary.org%2Fobo%2FCL_0000766&viewMode=All&siblings=false\nBasophil/Mast 2\t552\tmyeloid leukocyte\thttp://purl.obolibrary.org/obo/CL_0000766\thttps://www.ebi.ac.uk/ols/ontologies/cl/terms?iri=http%3A%2F%2Fpurl.obolibrary.org%2Fobo%2FCL_0000766&viewMode=All&siblings=false\nBronchial Vessel 1\t455\tbronchial epithelial cell\thttp://purl.obolibrary.org/obo/CL_0002328\thttps://www.ebi.ac.uk/ols/ontologies/cl/terms?iri=http%3A%2F%2Fpurl.obolibrary.org%2Fobo%2FCL_0002328\nBronchial Vessel 2\t235\tbronchial epithelial cell\thttp://purl.obolibrary.org/obo/CL_0002328\thttps://www.ebi.ac.uk/ols/ontologies/cl/terms?iri=http%3A%2F%2Fpurl.obolibrary.org%2Fobo%2FCL_0002328\nCapillary\t7391\tcapillary endothelial cell\thttp://purl.obolibrary.org/obo/CL_0002144\thttps://www.ebi.ac.uk/ols/ontologies/cl/terms?iri=http%3A%2F%2Fpurl.obolibrary.org%2Fobo%2FCL_0002144\nCapillary Aerocyte\t4352\tcapillary endothelial cell\thttp://purl.obolibrary.org/obo/CL_0002144\thttps://www.ebi.ac.uk/ols/ontologies/cl/terms?iri=http%3A%2F%2Fpurl.obolibrary.org%2Fobo%2FCL_0002144\nCapillary Intermediate 1\t628\tcapillary endothelial cell\thttp://purl.obolibrary.org/obo/CL_0002144\thttps://www.ebi.ac.uk/ols/ontologies/cl/terms?iri=http%3A%2F%2Fpurl.obolibrary.org%2Fobo%2FCL_0002144\nCapillary Intermediate 2\t464\tcapillary endothelial cell\thttp://purl.obolibrary.org/obo/CL_0002144\thttps://www.ebi.ac.uk/ols/ontologies/cl/terms?iri=http%3A%2F%2Fpurl.obolibrary.org%2Fobo%2FCL_0002144\nCD4+ Memory/Effector T\t3013\tCD4-positive, alpha-beta T cell\thttp://purl.obolibrary.org/obo/CL_0000624\thttps://www.ebi.ac.uk/ols/ontologies/cl/terms?iri=http%3A%2F%2Fpurl.obolibrary.org%2Fobo%2FCL_0000624\nCD4+ Naive T\t932\tnaive thymus-derived CD4-positive, alpha-beta T cell\thttp://purl.obolibrary.org/obo/CL_0000895\thttps://www.ebi.ac.uk/ols/ontologies/cl/terms?iri=http%3A%2F%2Fpurl.obolibrary.org%2Fobo%2FCL_0000895\nCD8+ Memory/Effector T\t1190\tCD8-positive, alpha-beta T cell\thttp://purl.obolibrary.org/obo/CL_0000625\thttps://www.ebi.ac.uk/ols/ontologies/cl/terms?iri=http%3A%2F%2Fpurl.obolibrary.org%2Fobo%2FCL_0000625\nCD8+ Naive T\t2042\tnaive thymus-derived CD8-positive, alpha-beta T cell\thttp://purl.obolibrary.org/obo/CL_0000900\thttps://www.ebi.ac.uk/ols/ontologies/cl/terms?iri=http%3A%2F%2Fpurl.obolibrary.org%2Fobo%2FCL_0000900\nCiliated\t1321\tlung ciliated cell\thttp://purl.obolibrary.org/obo/CL_1000271\thttps://www.ebi.ac.uk/ols/ontologies/cl/terms?iri=http%3A%2F%2Fpurl.obolibrary.org%2Fobo%2FCL_1000271\nClassical Monocyte\t2077\tclassical monocyte\thttp://purl.obolibrary.org/obo/CL_0000860\thttps://www.ebi.ac.uk/ols/ontologies/cl/terms?iri=http%3A%2F%2Fpurl.obolibrary.org%2Fobo%2FCL_0000860\nClub\t931\tclub cell\thttp://purl.obolibrary.org/obo/CL_0000158\thttps://www.ebi.ac.uk/ols/ontologies/cl/terms?iri=http%3A%2F%2Fpurl.obolibrary.org%2Fobo%2FCL_0000158\nDifferentiating Basal\t265\tbasal cell\thttp://purl.obolibrary.org/obo/CL_0000646\thttps://www.ebi.ac.uk/ols/ontologies/cl/terms?iri=http%3A%2F%2Fpurl.obolibrary.org%2Fobo%2FCL_0000646\nEREG+ Dendritic\t142\tdendritic cell\thttp://purl.obolibrary.org/obo/CL_0000451\thttps://www.ebi.ac.uk/ols/ontologies/cl/terms?iri=http%3A%2F%2Fpurl.obolibrary.org%2Fobo%2FCL_0000451\nFibromyocyte\t98\tmuscle cell\thttp://purl.obolibrary.org/obo/CL_0000187\thttps://www.ebi.ac.uk/ols/ontologies/cl/terms?iri=http%3A%2F%2Fpurl.obolibrary.org%2Fobo%2FCL_0000187\nGoblet\t159\tlung goblet cell\thttp://purl.obolibrary.org/obo/CL_1000143\thttps://www.ebi.ac.uk/ols/ontologies/cl/terms?iri=http%3A%2F%2Fpurl.obolibrary.org%2Fobo%2FCL_1000143\nIGSF21+ Dendritic\t280\tdendritic cell\thttp://purl.obolibrary.org/obo/CL_0000451\thttps://www.ebi.ac.uk/ols/ontologies/cl/terms?iri=http%3A%2F%2Fpurl.obolibrary.org%2Fobo%2FCL_0000451\nIntermediate Monocyte\t188\tintermediate monocyte\thttp://purl.obolibrary.org/obo/CL_0002393\thttps://www.ebi.ac.uk/ols/ontologies/cl/terms?iri=http%3A%2F%2Fpurl.obolibrary.org%2Fobo%2FCL_0002393\nIonocyte\t22\tionocyte\thttp://purl.obolibrary.org/obo/CL_0005006\thttps://www.ebi.ac.uk/ols/ontologies/cl/terms?iri=http%3A%2F%2Fpurl.obolibrary.org%2Fobo%2FCL_0005006\nLipofibroblast\t35\tfibroblast\thttp://purl.obolibrary.org/obo/CL_0000057\thttps://www.ebi.ac.uk/ols/ontologies/cl/terms?iri=http%3A%2F%2Fpurl.obolibrary.org%2Fobo%2FCL_0000057\nLymphatic\t467\tendothelial cell of lymphatic vessel\thttp://purl.obolibrary.org/obo/CL_0002138\thttps://www.ebi.ac.uk/ols/ontologies/cl/terms?iri=http%3A%2F%2Fpurl.obolibrary.org%2Fobo%2FCL_0002138\nMacrophage\t14734\tmacrophage\thttp://purl.obolibrary.org/obo/CL_0000235\thttps://www.ebi.ac.uk/ols/ontologies/cl/terms?iri=http%3A%2F%2Fpurl.obolibrary.org%2Fobo%2FCL_0000235\nMesothelial\t29\tmesothelial cell\thttp://purl.obolibrary.org/obo/CL_0000077\thttps://www.ebi.ac.uk/ols/ontologies/cl/terms?iri=http%3A%2F%2Fpurl.obolibrary.org%2Fobo%2FCL_0000077\nMucous\t491\tmucus secreting cell\thttp://purl.obolibrary.org/obo/CL_0000319\thttps://www.ebi.ac.uk/ols/ontologies/cl/terms?iri=http%3A%2F%2Fpurl.obolibrary.org%2Fobo%2FCL_0000319\nMyeloid Dendritic Type 1\t131\tmyeloid dendritic cell\thttp://purl.obolibrary.org/obo/CL_0000782\thttps://www.ebi.ac.uk/ols/ontologies/cl/terms?iri=http%3A%2F%2Fpurl.obolibrary.org%2Fobo%2FCL_0000782\nMyeloid Dendritic Type 2\t266\tmyeloid dendritic cell\thttp://purl.obolibrary.org/obo/CL_0000782\thttps://www.ebi.ac.uk/ols/ontologies/cl/terms?iri=http%3A%2F%2Fpurl.obolibrary.org%2Fobo%2FCL_0000782\nMyofibroblast\t248\tmyofibroblast cell\thttp://purl.obolibrary.org/obo/CL_0000186\thttps://www.ebi.ac.uk/ols/ontologies/cl/terms?iri=http%3A%2F%2Fpurl.obolibrary.org%2Fobo%2FCL_0000186\nNatural Killer\t4769\tnatural killer cell\thttp://purl.obolibrary.org/obo/CL_0000623\thttps://www.ebi.ac.uk/ols/ontologies/cl/terms?iri=http%3A%2F%2Fpurl.obolibrary.org%2Fobo%2FCL_0000623\nNatural Killer T\t335\tmature NK T cell\thttp://purl.obolibrary.org/obo/CL_0000814\thttps://www.ebi.ac.uk/ols/ontologies/cl/terms?iri=http%3A%2F%2Fpurl.obolibrary.org%2Fobo%2FCL_0000814\nNeuroendocrine\t11\tlung neuroendocrine cell\thttp://purl.obolibrary.org/obo/CL_1000223\thttps://www.ebi.ac.uk/ols/ontologies/cl/terms?iri=http%3A%2F%2Fpurl.obolibrary.org%2Fobo%2FCL_1000223&viewMode=All&siblings=false\nNonclassical Monocyte\t804\tnon-classical monocyte\thttp://purl.obolibrary.org/obo/CL_0000875\thttps://www.ebi.ac.uk/ols/ontologies/cl/terms?iri=http%3A%2F%2Fpurl.obolibrary.org%2Fobo%2FCL_0000875\nOLR1+ Classical Monocyte\t207\tclassical monocyte\thttp://purl.obolibrary.org/obo/CL_0000860\thttps://www.ebi.ac.uk/ols/ontologies/cl/terms?iri=http%3A%2F%2Fpurl.obolibrary.org%2Fobo%2FCL_0000860\nPericyte\t1608\tpericyte cell\thttp://purl.obolibrary.org/obo/CL_0000669\thttps://www.ebi.ac.uk/ols/ontologies/cl/terms?iri=http%3A%2F%2Fpurl.obolibrary.org%2Fobo%2FCL_0000669\nPlasma\t187\tplasma cell\thttp://purl.obolibrary.org/obo/CL_0000786\thttps://www.ebi.ac.uk/ols/ontologies/cl/terms?iri=http%3A%2F%2Fpurl.obolibrary.org%2Fobo%2FCL_0000786\nPlasmacytoid Dendritic\t137\tplasmacytoid dendritic cell\thttp://purl.obolibrary.org/obo/CL_0000784\thttps://www.ebi.ac.uk/ols/ontologies/cl/terms?iri=http%3A%2F%2Fpurl.obolibrary.org%2Fobo%2FCL_0000784\nPlatelet/Megakaryocyte\t40\tblood cell\thttp://purl.obolibrary.org/obo/CL_0000081\thttps://www.ebi.ac.uk/ols/ontologies/cl/terms?iri=http%3A%2F%2Fpurl.obolibrary.org%2Fobo%2FCL_0000081&viewMode=All&siblings=false\nProliferating Basal\t47\tbasal cell\thttp://purl.obolibrary.org/obo/CL_0000646\thttps://www.ebi.ac.uk/ols/ontologies/cl/terms?iri=http%3A%2F%2Fpurl.obolibrary.org%2Fobo%2FCL_0000646\nProliferating Macrophage\t226\tmacrophage\thttp://purl.obolibrary.org/obo/CL_0000235\thttps://www.ebi.ac.uk/ols/ontologies/cl/terms?iri=http%3A%2F%2Fpurl.obolibrary.org%2Fobo%2FCL_0000235\nProliferating NK/T\t105\timmature NK T cell\thttp://purl.obolibrary.org/obo/CL_0000914\thttps://www.ebi.ac.uk/ols/ontologies/cl/terms?iri=http%3A%2F%2Fpurl.obolibrary.org%2Fobo%2FCL_0000914\nProximal Basal\t157\tbasal cell\thttp://purl.obolibrary.org/obo/CL_0000646\thttps://www.ebi.ac.uk/ols/ontologies/cl/terms?iri=http%3A%2F%2Fpurl.obolibrary.org%2Fobo%2FCL_0000646\nProximal Ciliated\t88\tlung ciliated cell\thttp://purl.obolibrary.org/obo/CL_1000271\thttps://www.ebi.ac.uk/ols/ontologies/cl/terms?iri=http%3A%2F%2Fpurl.obolibrary.org%2Fobo%2FCL_1000271\nSerous\t24\tserous secreting cell\thttp://purl.obolibrary.org/obo/CL_0000313\thttps://www.ebi.ac.uk/ols/ontologies/cl/terms?iri=http%3A%2F%2Fpurl.obolibrary.org%2Fobo%2FCL_0000313\nSignaling Alveolar Epithelial Type 2\t669\ttype II pneumocyte\thttp://purl.obolibrary.org/obo/CL_0002063\thttps://www.ebi.ac.uk/ols/ontologies/cl/terms?iri=http%3A%2F%2Fpurl.obolibrary.org%2Fobo%2FCL_0002063\nTREM2+ Dendritic\t159\tdendritic cell\thttp://purl.obolibrary.org/obo/CL_0000451\thttps://www.ebi.ac.uk/ols/ontologies/cl/terms?iri=http%3A%2F%2Fpurl.obolibrary.org%2Fobo%2FCL_0000451\nVascular Smooth Muscle\t469\tvascular associated smooth muscle cell\thttp://purl.obolibrary.org/obo/CL_0000359\thttps://www.ebi.ac.uk/ols/ontologies/cl/terms?iri=http%3A%2F%2Fpurl.obolibrary.org%2Fobo%2FCL_0000359\nVein\t1155\tvein endothelial cell\thttp://purl.obolibrary.org/obo/CL_0002543\thttps://www.ebi.ac.uk/ols/ontologies/cl/terms?iri=http%3A%2F%2Fpurl.obolibrary.org%2Fobo%2FCL_0002543'''\ndf = pd.read_csv(StringIO(s), sep='\\t', index_col=0)\ndf.head()"
    },
    "executionTime": "2019-12-15T02:06:08.574Z"
   },
   {
    "cell": {
     "executionCount": 120,
     "executionEventId": "53618f17-3209-42d8-b15d-586eb47ed476",
     "hasError": false,
     "id": "221316e1-893d-42ca-bb59-d3e5abde1791",
     "outputs": [],
     "persistentId": "a8fdc6d7-c0d4-4015-84b2-2c05e2785a2f",
     "text": "from io import StringIO\n\nimport anndata\nimport pandas as pd\nimport numpy as np\nimport scanpy\n\noutdir = '/home/olga/googledrive/TabulaMicrocebus/data/cross-species'\n"
    },
    "executionTime": "2019-12-15T02:06:21.513Z"
   },
   {
    "cell": {
     "executionCount": 121,
     "executionEventId": "3db5173d-c3f0-474c-b25b-c6a10b728de1",
     "hasError": false,
     "id": "f81cf222-2ba0-41bb-bf72-fd781e437f65",
     "outputs": [
      {
       "data": {
        "text/html": "<div>\n<style scoped>\n    .dataframe tbody tr th:only-of-type {\n        vertical-align: middle;\n    }\n\n    .dataframe tbody tr th {\n        vertical-align: top;\n    }\n\n    .dataframe thead th {\n        text-align: right;\n    }\n</style>\n<table border=\"1\" class=\"dataframe\">\n  <thead>\n    <tr style=\"text-align: right;\">\n      <th></th>\n      <th>n_cells</th>\n      <th>cell_ontology_class</th>\n      <th>permanent_url</th>\n      <th>ontology_lookup_service</th>\n    </tr>\n    <tr>\n      <th>free_annotation</th>\n      <th></th>\n      <th></th>\n      <th></th>\n      <th></th>\n    </tr>\n  </thead>\n  <tbody>\n    <tr>\n      <th>Adventitial Fibroblast</th>\n      <td>557</td>\n      <td>adventitial cell</td>\n      <td>http://purl.obolibrary.org/obo/CL_0002503</td>\n      <td>https://www.ebi.ac.uk/ols/ontologies/cl/terms?...</td>\n    </tr>\n    <tr>\n      <th>Airway Smooth Muscle</th>\n      <td>693</td>\n      <td>bronchial smooth muscle cell</td>\n      <td>http://purl.obolibrary.org/obo/CL_0002598</td>\n      <td>https://www.ebi.ac.uk/ols/ontologies/cl/terms?...</td>\n    </tr>\n    <tr>\n      <th>Alveolar Epithelial Type 1</th>\n      <td>972</td>\n      <td>type I pneumocyte</td>\n      <td>http://purl.obolibrary.org/obo/CL_0002062</td>\n      <td>https://www.ebi.ac.uk/ols/ontologies/cl/terms?...</td>\n    </tr>\n    <tr>\n      <th>Alveolar Epithelial Type 2</th>\n      <td>3814</td>\n      <td>type II pneumocyte</td>\n      <td>http://purl.obolibrary.org/obo/CL_0002063</td>\n      <td>https://www.ebi.ac.uk/ols/ontologies/cl/terms?...</td>\n    </tr>\n    <tr>\n      <th>Alveolar Fibroblast</th>\n      <td>1296</td>\n      <td>fibroblast of lung</td>\n      <td>http://purl.obolibrary.org/obo/CL_0002553</td>\n      <td>https://www.ebi.ac.uk/ols/ontologies/cl/terms?...</td>\n    </tr>\n  </tbody>\n</table>\n</div>",
        "text/plain": "                            n_cells           cell_ontology_class  \\\nfree_annotation                                                     \nAdventitial Fibroblast          557              adventitial cell   \nAirway Smooth Muscle            693  bronchial smooth muscle cell   \nAlveolar Epithelial Type 1      972             type I pneumocyte   \nAlveolar Epithelial Type 2     3814            type II pneumocyte   \nAlveolar Fibroblast            1296            fibroblast of lung   \n\n                                                        permanent_url  \\\nfree_annotation                                                         \nAdventitial Fibroblast      http://purl.obolibrary.org/obo/CL_0002503   \nAirway Smooth Muscle        http://purl.obolibrary.org/obo/CL_0002598   \nAlveolar Epithelial Type 1  http://purl.obolibrary.org/obo/CL_0002062   \nAlveolar Epithelial Type 2  http://purl.obolibrary.org/obo/CL_0002063   \nAlveolar Fibroblast         http://purl.obolibrary.org/obo/CL_0002553   \n\n                                                      ontology_lookup_service  \nfree_annotation                                                                \nAdventitial Fibroblast      https://www.ebi.ac.uk/ols/ontologies/cl/terms?...  \nAirway Smooth Muscle        https://www.ebi.ac.uk/ols/ontologies/cl/terms?...  \nAlveolar Epithelial Type 1  https://www.ebi.ac.uk/ols/ontologies/cl/terms?...  \nAlveolar Epithelial Type 2  https://www.ebi.ac.uk/ols/ontologies/cl/terms?...  \nAlveolar Fibroblast         https://www.ebi.ac.uk/ols/ontologies/cl/terms?...  "
       },
       "execution_count": 121,
       "metadata": {},
       "output_type": "execute_result"
      }
     ],
     "persistentId": "b5df376b-9f8e-45e8-8333-7d425ff93a77",
     "text": "s = '''free_annotation\tn_cells\tcell_ontology_class\tpermanent_url\tontology_lookup_service\nAdventitial Fibroblast\t557\tadventitial cell\thttp://purl.obolibrary.org/obo/CL_0002503\thttps://www.ebi.ac.uk/ols/ontologies/cl/terms?iri=http%3A%2F%2Fpurl.obolibrary.org%2Fobo%2FCL_0002503&viewMode=All&siblings=false\nAirway Smooth Muscle\t693\tbronchial smooth muscle cell\thttp://purl.obolibrary.org/obo/CL_0002598\thttps://www.ebi.ac.uk/ols/ontologies/cl/terms?iri=http%3A%2F%2Fpurl.obolibrary.org%2Fobo%2FCL_0002598\nAlveolar Epithelial Type 1\t972\ttype I pneumocyte\thttp://purl.obolibrary.org/obo/CL_0002062\thttps://www.ebi.ac.uk/ols/ontologies/cl/terms?iri=http%3A%2F%2Fpurl.obolibrary.org%2Fobo%2FCL_0002062\nAlveolar Epithelial Type 2\t3814\ttype II pneumocyte\thttp://purl.obolibrary.org/obo/CL_0002063\thttps://www.ebi.ac.uk/ols/ontologies/cl/terms?iri=http%3A%2F%2Fpurl.obolibrary.org%2Fobo%2FCL_0002063\nAlveolar Fibroblast\t1296\tfibroblast of lung\thttp://purl.obolibrary.org/obo/CL_0002553\thttps://www.ebi.ac.uk/ols/ontologies/cl/terms?iri=http%3A%2F%2Fpurl.obolibrary.org%2Fobo%2FCL_0002553&viewMode=All&siblings=false\nArtery\t1484\tlung endothelial cell\thttp://purl.obolibrary.org/obo/CL_1001567\thttps://www.ebi.ac.uk/ols/ontologies/cl/terms?iri=http%3A%2F%2Fpurl.obolibrary.org%2Fobo%2FCL_1001567&viewMode=All&siblings=false\nB\t725\tB cell\thttp://purl.obolibrary.org/obo/CL_0000236\thttps://www.ebi.ac.uk/ols/ontologies/cl/terms?iri=http%3A%2F%2Fpurl.obolibrary.org%2Fobo%2FCL_0000236\nBasal\t436\tbasal cell\thttp://purl.obolibrary.org/obo/CL_0000646\thttps://www.ebi.ac.uk/ols/ontologies/cl/terms?iri=http%3A%2F%2Fpurl.obolibrary.org%2Fobo%2FCL_0000646\nBasophil/Mast 1\t1350\tmyeloid leukocyte\thttp://purl.obolibrary.org/obo/CL_0000766\thttps://www.ebi.ac.uk/ols/ontologies/cl/terms?iri=http%3A%2F%2Fpurl.obolibrary.org%2Fobo%2FCL_0000766&viewMode=All&siblings=false\nBasophil/Mast 2\t552\tmyeloid leukocyte\thttp://purl.obolibrary.org/obo/CL_0000766\thttps://www.ebi.ac.uk/ols/ontologies/cl/terms?iri=http%3A%2F%2Fpurl.obolibrary.org%2Fobo%2FCL_0000766&viewMode=All&siblings=false\nBronchial Vessel 1\t455\tbronchial epithelial cell\thttp://purl.obolibrary.org/obo/CL_0002328\thttps://www.ebi.ac.uk/ols/ontologies/cl/terms?iri=http%3A%2F%2Fpurl.obolibrary.org%2Fobo%2FCL_0002328\nBronchial Vessel 2\t235\tbronchial epithelial cell\thttp://purl.obolibrary.org/obo/CL_0002328\thttps://www.ebi.ac.uk/ols/ontologies/cl/terms?iri=http%3A%2F%2Fpurl.obolibrary.org%2Fobo%2FCL_0002328\nCapillary\t7391\tcapillary endothelial cell\thttp://purl.obolibrary.org/obo/CL_0002144\thttps://www.ebi.ac.uk/ols/ontologies/cl/terms?iri=http%3A%2F%2Fpurl.obolibrary.org%2Fobo%2FCL_0002144\nCapillary Aerocyte\t4352\tcapillary endothelial cell\thttp://purl.obolibrary.org/obo/CL_0002144\thttps://www.ebi.ac.uk/ols/ontologies/cl/terms?iri=http%3A%2F%2Fpurl.obolibrary.org%2Fobo%2FCL_0002144\nCapillary Intermediate 1\t628\tcapillary endothelial cell\thttp://purl.obolibrary.org/obo/CL_0002144\thttps://www.ebi.ac.uk/ols/ontologies/cl/terms?iri=http%3A%2F%2Fpurl.obolibrary.org%2Fobo%2FCL_0002144\nCapillary Intermediate 2\t464\tcapillary endothelial cell\thttp://purl.obolibrary.org/obo/CL_0002144\thttps://www.ebi.ac.uk/ols/ontologies/cl/terms?iri=http%3A%2F%2Fpurl.obolibrary.org%2Fobo%2FCL_0002144\nCD4+ Memory/Effector T\t3013\tCD4-positive, alpha-beta T cell\thttp://purl.obolibrary.org/obo/CL_0000624\thttps://www.ebi.ac.uk/ols/ontologies/cl/terms?iri=http%3A%2F%2Fpurl.obolibrary.org%2Fobo%2FCL_0000624\nCD4+ Naive T\t932\tnaive thymus-derived CD4-positive, alpha-beta T cell\thttp://purl.obolibrary.org/obo/CL_0000895\thttps://www.ebi.ac.uk/ols/ontologies/cl/terms?iri=http%3A%2F%2Fpurl.obolibrary.org%2Fobo%2FCL_0000895\nCD8+ Memory/Effector T\t1190\tCD8-positive, alpha-beta T cell\thttp://purl.obolibrary.org/obo/CL_0000625\thttps://www.ebi.ac.uk/ols/ontologies/cl/terms?iri=http%3A%2F%2Fpurl.obolibrary.org%2Fobo%2FCL_0000625\nCD8+ Naive T\t2042\tnaive thymus-derived CD8-positive, alpha-beta T cell\thttp://purl.obolibrary.org/obo/CL_0000900\thttps://www.ebi.ac.uk/ols/ontologies/cl/terms?iri=http%3A%2F%2Fpurl.obolibrary.org%2Fobo%2FCL_0000900\nCiliated\t1321\tlung ciliated cell\thttp://purl.obolibrary.org/obo/CL_1000271\thttps://www.ebi.ac.uk/ols/ontologies/cl/terms?iri=http%3A%2F%2Fpurl.obolibrary.org%2Fobo%2FCL_1000271\nClassical Monocyte\t2077\tclassical monocyte\thttp://purl.obolibrary.org/obo/CL_0000860\thttps://www.ebi.ac.uk/ols/ontologies/cl/terms?iri=http%3A%2F%2Fpurl.obolibrary.org%2Fobo%2FCL_0000860\nClub\t931\tclub cell\thttp://purl.obolibrary.org/obo/CL_0000158\thttps://www.ebi.ac.uk/ols/ontologies/cl/terms?iri=http%3A%2F%2Fpurl.obolibrary.org%2Fobo%2FCL_0000158\nDifferentiating Basal\t265\tbasal cell\thttp://purl.obolibrary.org/obo/CL_0000646\thttps://www.ebi.ac.uk/ols/ontologies/cl/terms?iri=http%3A%2F%2Fpurl.obolibrary.org%2Fobo%2FCL_0000646\nEREG+ Dendritic\t142\tdendritic cell\thttp://purl.obolibrary.org/obo/CL_0000451\thttps://www.ebi.ac.uk/ols/ontologies/cl/terms?iri=http%3A%2F%2Fpurl.obolibrary.org%2Fobo%2FCL_0000451\nFibromyocyte\t98\tmuscle cell\thttp://purl.obolibrary.org/obo/CL_0000187\thttps://www.ebi.ac.uk/ols/ontologies/cl/terms?iri=http%3A%2F%2Fpurl.obolibrary.org%2Fobo%2FCL_0000187\nGoblet\t159\tlung goblet cell\thttp://purl.obolibrary.org/obo/CL_1000143\thttps://www.ebi.ac.uk/ols/ontologies/cl/terms?iri=http%3A%2F%2Fpurl.obolibrary.org%2Fobo%2FCL_1000143\nIGSF21+ Dendritic\t280\tdendritic cell\thttp://purl.obolibrary.org/obo/CL_0000451\thttps://www.ebi.ac.uk/ols/ontologies/cl/terms?iri=http%3A%2F%2Fpurl.obolibrary.org%2Fobo%2FCL_0000451\nIntermediate Monocyte\t188\tintermediate monocyte\thttp://purl.obolibrary.org/obo/CL_0002393\thttps://www.ebi.ac.uk/ols/ontologies/cl/terms?iri=http%3A%2F%2Fpurl.obolibrary.org%2Fobo%2FCL_0002393\nIonocyte\t22\tionocyte\thttp://purl.obolibrary.org/obo/CL_0005006\thttps://www.ebi.ac.uk/ols/ontologies/cl/terms?iri=http%3A%2F%2Fpurl.obolibrary.org%2Fobo%2FCL_0005006\nLipofibroblast\t35\tfibroblast\thttp://purl.obolibrary.org/obo/CL_0000057\thttps://www.ebi.ac.uk/ols/ontologies/cl/terms?iri=http%3A%2F%2Fpurl.obolibrary.org%2Fobo%2FCL_0000057\nLymphatic\t467\tendothelial cell of lymphatic vessel\thttp://purl.obolibrary.org/obo/CL_0002138\thttps://www.ebi.ac.uk/ols/ontologies/cl/terms?iri=http%3A%2F%2Fpurl.obolibrary.org%2Fobo%2FCL_0002138\nMacrophage\t14734\tmacrophage\thttp://purl.obolibrary.org/obo/CL_0000235\thttps://www.ebi.ac.uk/ols/ontologies/cl/terms?iri=http%3A%2F%2Fpurl.obolibrary.org%2Fobo%2FCL_0000235\nMesothelial\t29\tmesothelial cell\thttp://purl.obolibrary.org/obo/CL_0000077\thttps://www.ebi.ac.uk/ols/ontologies/cl/terms?iri=http%3A%2F%2Fpurl.obolibrary.org%2Fobo%2FCL_0000077\nMucous\t491\tmucus secreting cell\thttp://purl.obolibrary.org/obo/CL_0000319\thttps://www.ebi.ac.uk/ols/ontologies/cl/terms?iri=http%3A%2F%2Fpurl.obolibrary.org%2Fobo%2FCL_0000319\nMyeloid Dendritic Type 1\t131\tmyeloid dendritic cell\thttp://purl.obolibrary.org/obo/CL_0000782\thttps://www.ebi.ac.uk/ols/ontologies/cl/terms?iri=http%3A%2F%2Fpurl.obolibrary.org%2Fobo%2FCL_0000782\nMyeloid Dendritic Type 2\t266\tmyeloid dendritic cell\thttp://purl.obolibrary.org/obo/CL_0000782\thttps://www.ebi.ac.uk/ols/ontologies/cl/terms?iri=http%3A%2F%2Fpurl.obolibrary.org%2Fobo%2FCL_0000782\nMyofibroblast\t248\tmyofibroblast cell\thttp://purl.obolibrary.org/obo/CL_0000186\thttps://www.ebi.ac.uk/ols/ontologies/cl/terms?iri=http%3A%2F%2Fpurl.obolibrary.org%2Fobo%2FCL_0000186\nNatural Killer\t4769\tnatural killer cell\thttp://purl.obolibrary.org/obo/CL_0000623\thttps://www.ebi.ac.uk/ols/ontologies/cl/terms?iri=http%3A%2F%2Fpurl.obolibrary.org%2Fobo%2FCL_0000623\nNatural Killer T\t335\tmature NK T cell\thttp://purl.obolibrary.org/obo/CL_0000814\thttps://www.ebi.ac.uk/ols/ontologies/cl/terms?iri=http%3A%2F%2Fpurl.obolibrary.org%2Fobo%2FCL_0000814\nNeuroendocrine\t11\tlung neuroendocrine cell\thttp://purl.obolibrary.org/obo/CL_1000223\thttps://www.ebi.ac.uk/ols/ontologies/cl/terms?iri=http%3A%2F%2Fpurl.obolibrary.org%2Fobo%2FCL_1000223&viewMode=All&siblings=false\nNonclassical Monocyte\t804\tnon-classical monocyte\thttp://purl.obolibrary.org/obo/CL_0000875\thttps://www.ebi.ac.uk/ols/ontologies/cl/terms?iri=http%3A%2F%2Fpurl.obolibrary.org%2Fobo%2FCL_0000875\nOLR1+ Classical Monocyte\t207\tclassical monocyte\thttp://purl.obolibrary.org/obo/CL_0000860\thttps://www.ebi.ac.uk/ols/ontologies/cl/terms?iri=http%3A%2F%2Fpurl.obolibrary.org%2Fobo%2FCL_0000860\nPericyte\t1608\tpericyte cell\thttp://purl.obolibrary.org/obo/CL_0000669\thttps://www.ebi.ac.uk/ols/ontologies/cl/terms?iri=http%3A%2F%2Fpurl.obolibrary.org%2Fobo%2FCL_0000669\nPlasma\t187\tplasma cell\thttp://purl.obolibrary.org/obo/CL_0000786\thttps://www.ebi.ac.uk/ols/ontologies/cl/terms?iri=http%3A%2F%2Fpurl.obolibrary.org%2Fobo%2FCL_0000786\nPlasmacytoid Dendritic\t137\tplasmacytoid dendritic cell\thttp://purl.obolibrary.org/obo/CL_0000784\thttps://www.ebi.ac.uk/ols/ontologies/cl/terms?iri=http%3A%2F%2Fpurl.obolibrary.org%2Fobo%2FCL_0000784\nPlatelet/Megakaryocyte\t40\tblood cell\thttp://purl.obolibrary.org/obo/CL_0000081\thttps://www.ebi.ac.uk/ols/ontologies/cl/terms?iri=http%3A%2F%2Fpurl.obolibrary.org%2Fobo%2FCL_0000081&viewMode=All&siblings=false\nProliferating Basal\t47\tbasal cell\thttp://purl.obolibrary.org/obo/CL_0000646\thttps://www.ebi.ac.uk/ols/ontologies/cl/terms?iri=http%3A%2F%2Fpurl.obolibrary.org%2Fobo%2FCL_0000646\nProliferating Macrophage\t226\tmacrophage\thttp://purl.obolibrary.org/obo/CL_0000235\thttps://www.ebi.ac.uk/ols/ontologies/cl/terms?iri=http%3A%2F%2Fpurl.obolibrary.org%2Fobo%2FCL_0000235\nProliferating NK/T\t105\timmature NK T cell\thttp://purl.obolibrary.org/obo/CL_0000914\thttps://www.ebi.ac.uk/ols/ontologies/cl/terms?iri=http%3A%2F%2Fpurl.obolibrary.org%2Fobo%2FCL_0000914\nProximal Basal\t157\tbasal cell\thttp://purl.obolibrary.org/obo/CL_0000646\thttps://www.ebi.ac.uk/ols/ontologies/cl/terms?iri=http%3A%2F%2Fpurl.obolibrary.org%2Fobo%2FCL_0000646\nProximal Ciliated\t88\tlung ciliated cell\thttp://purl.obolibrary.org/obo/CL_1000271\thttps://www.ebi.ac.uk/ols/ontologies/cl/terms?iri=http%3A%2F%2Fpurl.obolibrary.org%2Fobo%2FCL_1000271\nSerous\t24\tserous secreting cell\thttp://purl.obolibrary.org/obo/CL_0000313\thttps://www.ebi.ac.uk/ols/ontologies/cl/terms?iri=http%3A%2F%2Fpurl.obolibrary.org%2Fobo%2FCL_0000313\nSignaling Alveolar Epithelial Type 2\t669\ttype II pneumocyte\thttp://purl.obolibrary.org/obo/CL_0002063\thttps://www.ebi.ac.uk/ols/ontologies/cl/terms?iri=http%3A%2F%2Fpurl.obolibrary.org%2Fobo%2FCL_0002063\nTREM2+ Dendritic\t159\tdendritic cell\thttp://purl.obolibrary.org/obo/CL_0000451\thttps://www.ebi.ac.uk/ols/ontologies/cl/terms?iri=http%3A%2F%2Fpurl.obolibrary.org%2Fobo%2FCL_0000451\nVascular Smooth Muscle\t469\tvascular associated smooth muscle cell\thttp://purl.obolibrary.org/obo/CL_0000359\thttps://www.ebi.ac.uk/ols/ontologies/cl/terms?iri=http%3A%2F%2Fpurl.obolibrary.org%2Fobo%2FCL_0000359\nVein\t1155\tvein endothelial cell\thttp://purl.obolibrary.org/obo/CL_0002543\thttps://www.ebi.ac.uk/ols/ontologies/cl/terms?iri=http%3A%2F%2Fpurl.obolibrary.org%2Fobo%2FCL_0002543'''\ndf = pd.read_csv(StringIO(s), sep='\\t', index_col=0)\ndf.head()"
    },
    "executionTime": "2019-12-15T02:06:30.323Z"
   },
   {
    "cell": {
     "executionCount": 122,
     "executionEventId": "36285da1-1f6a-4901-a3aa-b9c3af966326",
     "hasError": true,
     "id": "858404b5-d95d-4c8e-ac3d-c44f54700081",
     "outputs": [
      {
       "ename": "AttributeError",
       "evalue": "'DataFrame' object has no attribute 'free_annotation'",
       "output_type": "error",
       "traceback": [
        "\u001b[0;31m---------------------------------------------------------------------------\u001b[0m",
        "\u001b[0;31mAttributeError\u001b[0m                            Traceback (most recent call last)",
        "\u001b[0;32m<ipython-input-122-426ab36ebf4e>\u001b[0m in \u001b[0;36m<module>\u001b[0;34m\u001b[0m\n\u001b[0;32m----> 1\u001b[0;31m \u001b[0mhuman\u001b[0m\u001b[0;34m.\u001b[0m\u001b[0mobs\u001b[0m\u001b[0;34m[\u001b[0m\u001b[0;34m'cell_ontology_class'\u001b[0m\u001b[0;34m]\u001b[0m \u001b[0;34m=\u001b[0m \u001b[0mhuman\u001b[0m\u001b[0;34m.\u001b[0m\u001b[0mvar\u001b[0m\u001b[0;34m.\u001b[0m\u001b[0mfree_annotation\u001b[0m\u001b[0;34m.\u001b[0m\u001b[0mmap\u001b[0m\u001b[0;34m(\u001b[0m\u001b[0mdf\u001b[0m\u001b[0;34m.\u001b[0m\u001b[0mcell_ontology_class\u001b[0m\u001b[0;34m)\u001b[0m\u001b[0;34m\u001b[0m\u001b[0;34m\u001b[0m\u001b[0m\n\u001b[0m\u001b[1;32m      2\u001b[0m \u001b[0mhuman\u001b[0m\u001b[0;34m.\u001b[0m\u001b[0mobs\u001b[0m\u001b[0;34m.\u001b[0m\u001b[0mhead\u001b[0m\u001b[0;34m(\u001b[0m\u001b[0;34m)\u001b[0m\u001b[0;34m\u001b[0m\u001b[0;34m\u001b[0m\u001b[0m\n",
        "\u001b[0;32m~/miniconda3/envs/sc-tutorial/lib/python3.7/site-packages/pandas/core/generic.py\u001b[0m in \u001b[0;36m__getattr__\u001b[0;34m(self, name)\u001b[0m\n\u001b[1;32m   5177\u001b[0m             \u001b[0;32mif\u001b[0m \u001b[0mself\u001b[0m\u001b[0;34m.\u001b[0m\u001b[0m_info_axis\u001b[0m\u001b[0;34m.\u001b[0m\u001b[0m_can_hold_identifiers_and_holds_name\u001b[0m\u001b[0;34m(\u001b[0m\u001b[0mname\u001b[0m\u001b[0;34m)\u001b[0m\u001b[0;34m:\u001b[0m\u001b[0;34m\u001b[0m\u001b[0;34m\u001b[0m\u001b[0m\n\u001b[1;32m   5178\u001b[0m                 \u001b[0;32mreturn\u001b[0m \u001b[0mself\u001b[0m\u001b[0;34m[\u001b[0m\u001b[0mname\u001b[0m\u001b[0;34m]\u001b[0m\u001b[0;34m\u001b[0m\u001b[0;34m\u001b[0m\u001b[0m\n\u001b[0;32m-> 5179\u001b[0;31m             \u001b[0;32mreturn\u001b[0m \u001b[0mobject\u001b[0m\u001b[0;34m.\u001b[0m\u001b[0m__getattribute__\u001b[0m\u001b[0;34m(\u001b[0m\u001b[0mself\u001b[0m\u001b[0;34m,\u001b[0m \u001b[0mname\u001b[0m\u001b[0;34m)\u001b[0m\u001b[0;34m\u001b[0m\u001b[0;34m\u001b[0m\u001b[0m\n\u001b[0m\u001b[1;32m   5180\u001b[0m \u001b[0;34m\u001b[0m\u001b[0m\n\u001b[1;32m   5181\u001b[0m     \u001b[0;32mdef\u001b[0m \u001b[0m__setattr__\u001b[0m\u001b[0;34m(\u001b[0m\u001b[0mself\u001b[0m\u001b[0;34m,\u001b[0m \u001b[0mname\u001b[0m\u001b[0;34m,\u001b[0m \u001b[0mvalue\u001b[0m\u001b[0;34m)\u001b[0m\u001b[0;34m:\u001b[0m\u001b[0;34m\u001b[0m\u001b[0;34m\u001b[0m\u001b[0m\n",
        "\u001b[0;31mAttributeError\u001b[0m: 'DataFrame' object has no attribute 'free_annotation'"
       ]
      }
     ],
     "persistentId": "6c734b7f-f4f2-4832-a223-0c28921bf6b8",
     "text": "human.obs['cell_ontology_class'] = human.var.free_annotation.map(df.cell_ontology_class)\nhuman.obs.head()"
    },
    "executionTime": "2019-12-15T02:07:13.037Z"
   },
   {
    "cell": {
     "executionCount": 123,
     "executionEventId": "6beb0739-4733-4812-99fe-bac43ef0d75b",
     "hasError": false,
     "id": "858404b5-d95d-4c8e-ac3d-c44f54700081",
     "outputs": [
      {
       "data": {
        "text/html": "<div>\n<style scoped>\n    .dataframe tbody tr th:only-of-type {\n        vertical-align: middle;\n    }\n\n    .dataframe tbody tr th {\n        vertical-align: top;\n    }\n\n    .dataframe thead th {\n        text-align: right;\n    }\n</style>\n<table border=\"1\" class=\"dataframe\">\n  <thead>\n    <tr style=\"text-align: right;\">\n      <th></th>\n      <th>nGene</th>\n      <th>nUMI</th>\n      <th>orig.ident</th>\n      <th>channel</th>\n      <th>tissue</th>\n      <th>region</th>\n      <th>percent.ribo</th>\n      <th>free_annotation</th>\n      <th>patient</th>\n      <th>sample</th>\n      <th>location</th>\n      <th>magnetic.selection</th>\n      <th>preparation.site</th>\n      <th>compartment</th>\n      <th>species</th>\n      <th>species_latin</th>\n      <th>cell_ontology_class</th>\n    </tr>\n    <tr>\n      <th>cell_id</th>\n      <th></th>\n      <th></th>\n      <th></th>\n      <th></th>\n      <th></th>\n      <th></th>\n      <th></th>\n      <th></th>\n      <th></th>\n      <th></th>\n      <th></th>\n      <th></th>\n      <th></th>\n      <th></th>\n      <th></th>\n      <th></th>\n      <th></th>\n    </tr>\n  </thead>\n  <tbody>\n    <tr>\n      <th>P2_1_AAACCTGAGAAACCAT</th>\n      <td>1347</td>\n      <td>2914</td>\n      <td>Human Lung 10x - Patient 2</td>\n      <td>P2_1</td>\n      <td>lung</td>\n      <td>normal</td>\n      <td>0.035347</td>\n      <td>Capillary Aerocyte</td>\n      <td>2</td>\n      <td>distal 2</td>\n      <td>distal</td>\n      <td>epithelial</td>\n      <td>biohub</td>\n      <td>endothelial</td>\n      <td>Human</td>\n      <td>Homo sapiens</td>\n      <td>capillary endothelial cell</td>\n    </tr>\n    <tr>\n      <th>P2_1_AAATGCCAGATGAGAG</th>\n      <td>1713</td>\n      <td>4226</td>\n      <td>Human Lung 10x - Patient 2</td>\n      <td>P2_1</td>\n      <td>lung</td>\n      <td>normal</td>\n      <td>0.061051</td>\n      <td>Capillary Aerocyte</td>\n      <td>2</td>\n      <td>distal 2</td>\n      <td>distal</td>\n      <td>epithelial</td>\n      <td>biohub</td>\n      <td>endothelial</td>\n      <td>Human</td>\n      <td>Homo sapiens</td>\n      <td>capillary endothelial cell</td>\n    </tr>\n    <tr>\n      <th>P2_1_AACACGTTCGATCCCT</th>\n      <td>1185</td>\n      <td>2152</td>\n      <td>Human Lung 10x - Patient 2</td>\n      <td>P2_1</td>\n      <td>lung</td>\n      <td>normal</td>\n      <td>0.048327</td>\n      <td>Capillary Aerocyte</td>\n      <td>2</td>\n      <td>distal 2</td>\n      <td>distal</td>\n      <td>epithelial</td>\n      <td>biohub</td>\n      <td>endothelial</td>\n      <td>Human</td>\n      <td>Homo sapiens</td>\n      <td>capillary endothelial cell</td>\n    </tr>\n    <tr>\n      <th>P2_1_AACACGTTCGCACTCT</th>\n      <td>1378</td>\n      <td>3419</td>\n      <td>Human Lung 10x - Patient 2</td>\n      <td>P2_1</td>\n      <td>lung</td>\n      <td>normal</td>\n      <td>0.032758</td>\n      <td>Capillary Aerocyte</td>\n      <td>2</td>\n      <td>distal 2</td>\n      <td>distal</td>\n      <td>epithelial</td>\n      <td>biohub</td>\n      <td>endothelial</td>\n      <td>Human</td>\n      <td>Homo sapiens</td>\n      <td>capillary endothelial cell</td>\n    </tr>\n    <tr>\n      <th>P2_1_AACCATGCAGCTCGCA</th>\n      <td>1210</td>\n      <td>2514</td>\n      <td>Human Lung 10x - Patient 2</td>\n      <td>P2_1</td>\n      <td>lung</td>\n      <td>normal</td>\n      <td>0.050119</td>\n      <td>Capillary Aerocyte</td>\n      <td>2</td>\n      <td>distal 2</td>\n      <td>distal</td>\n      <td>epithelial</td>\n      <td>biohub</td>\n      <td>endothelial</td>\n      <td>Human</td>\n      <td>Homo sapiens</td>\n      <td>capillary endothelial cell</td>\n    </tr>\n  </tbody>\n</table>\n</div>",
        "text/plain": "                       nGene  nUMI                  orig.ident channel tissue  \\\ncell_id                                                                         \nP2_1_AAACCTGAGAAACCAT   1347  2914  Human Lung 10x - Patient 2    P2_1   lung   \nP2_1_AAATGCCAGATGAGAG   1713  4226  Human Lung 10x - Patient 2    P2_1   lung   \nP2_1_AACACGTTCGATCCCT   1185  2152  Human Lung 10x - Patient 2    P2_1   lung   \nP2_1_AACACGTTCGCACTCT   1378  3419  Human Lung 10x - Patient 2    P2_1   lung   \nP2_1_AACCATGCAGCTCGCA   1210  2514  Human Lung 10x - Patient 2    P2_1   lung   \n\n                       region  percent.ribo     free_annotation  patient  \\\ncell_id                                                                    \nP2_1_AAACCTGAGAAACCAT  normal      0.035347  Capillary Aerocyte        2   \nP2_1_AAATGCCAGATGAGAG  normal      0.061051  Capillary Aerocyte        2   \nP2_1_AACACGTTCGATCCCT  normal      0.048327  Capillary Aerocyte        2   \nP2_1_AACACGTTCGCACTCT  normal      0.032758  Capillary Aerocyte        2   \nP2_1_AACCATGCAGCTCGCA  normal      0.050119  Capillary Aerocyte        2   \n\n                         sample location magnetic.selection preparation.site  \\\ncell_id                                                                        \nP2_1_AAACCTGAGAAACCAT  distal 2   distal         epithelial           biohub   \nP2_1_AAATGCCAGATGAGAG  distal 2   distal         epithelial           biohub   \nP2_1_AACACGTTCGATCCCT  distal 2   distal         epithelial           biohub   \nP2_1_AACACGTTCGCACTCT  distal 2   distal         epithelial           biohub   \nP2_1_AACCATGCAGCTCGCA  distal 2   distal         epithelial           biohub   \n\n                       compartment species species_latin  \\\ncell_id                                                    \nP2_1_AAACCTGAGAAACCAT  endothelial   Human  Homo sapiens   \nP2_1_AAATGCCAGATGAGAG  endothelial   Human  Homo sapiens   \nP2_1_AACACGTTCGATCCCT  endothelial   Human  Homo sapiens   \nP2_1_AACACGTTCGCACTCT  endothelial   Human  Homo sapiens   \nP2_1_AACCATGCAGCTCGCA  endothelial   Human  Homo sapiens   \n\n                              cell_ontology_class  \ncell_id                                            \nP2_1_AAACCTGAGAAACCAT  capillary endothelial cell  \nP2_1_AAATGCCAGATGAGAG  capillary endothelial cell  \nP2_1_AACACGTTCGATCCCT  capillary endothelial cell  \nP2_1_AACACGTTCGCACTCT  capillary endothelial cell  \nP2_1_AACCATGCAGCTCGCA  capillary endothelial cell  "
       },
       "execution_count": 123,
       "metadata": {},
       "output_type": "execute_result"
      }
     ],
     "persistentId": "6c734b7f-f4f2-4832-a223-0c28921bf6b8",
     "text": "human.obs['cell_ontology_class'] = human.obs.free_annotation.map(df.cell_ontology_class)\nhuman.obs.head()"
    },
    "executionTime": "2019-12-15T02:07:21.197Z"
   },
   {
    "cell": {
     "executionCount": 124,
     "executionEventId": "a2c92ba6-d3f8-4eb1-ab33-1bba516b2a99",
     "hasError": false,
     "id": "8de322c1-1122-43d3-a4dc-e3294e5f3bcf",
     "outputs": [
      {
       "data": {
        "text/plain": "macrophage                                              14960\ncapillary endothelial cell                              12835\nnatural killer cell                                      4769\ntype II pneumocyte                                       4483\nCD4-positive, alpha-beta T cell                          3013\nclassical monocyte                                       2284\nnaive thymus-derived CD8-positive, alpha-beta T cell     2042\nmyeloid leukocyte                                        1902\npericyte cell                                            1608\nlung endothelial cell                                    1484\nlung ciliated cell                                       1409\nfibroblast of lung                                       1296\nCD8-positive, alpha-beta T cell                          1190\nvein endothelial cell                                    1155\ntype I pneumocyte                                         972\nnaive thymus-derived CD4-positive, alpha-beta T cell      932\nclub cell                                                 931\nbasal cell                                                905\nnon-classical monocyte                                    804\nB cell                                                    725\nbronchial smooth muscle cell                              693\nbronchial epithelial cell                                 690\ndendritic cell                                            581\nadventitial cell                                          557\nmucus secreting cell                                      491\nvascular associated smooth muscle cell                    469\nendothelial cell of lymphatic vessel                      467\nmyeloid dendritic cell                                    397\nmature NK T cell                                          335\nmyofibroblast cell                                        248\nintermediate monocyte                                     188\nplasma cell                                               187\nlung goblet cell                                          159\nplasmacytoid dendritic cell                               137\nimmature NK T cell                                        105\nmuscle cell                                                98\nblood cell                                                 40\nfibroblast                                                 35\nmesothelial cell                                           29\nserous secreting cell                                      24\nionocyte                                                   22\nlung neuroendocrine cell                                   11\nName: cell_ontology_class, dtype: int64"
       },
       "execution_count": 124,
       "metadata": {},
       "output_type": "execute_result"
      }
     ],
     "persistentId": "5d0d7f76-6d5c-43e5-9668-7c3eed7030d9",
     "text": "human.obs.cell_ontology_class.value_counts()"
    },
    "executionTime": "2019-12-15T02:07:30.414Z"
   },
   {
    "cell": {
     "executionCount": 125,
     "executionEventId": "ca9bc95f-b871-4f25-a92d-e5501a1005b0",
     "hasError": false,
     "id": "51b5376b-6abe-4e84-b803-80cdd3d89bf0",
     "outputs": [
      {
       "name": "stdout",
       "output_type": "stream",
       "text": "(117, 10)\n"
      },
      {
       "data": {
        "text/html": "<div>\n<style scoped>\n    .dataframe tbody tr th:only-of-type {\n        vertical-align: middle;\n    }\n\n    .dataframe tbody tr th {\n        vertical-align: top;\n    }\n\n    .dataframe thead th {\n        text-align: right;\n    }\n</style>\n<table border=\"1\" class=\"dataframe\">\n  <thead>\n    <tr style=\"text-align: right;\">\n      <th></th>\n      <th>free_annotation</th>\n      <th>tissue</th>\n      <th>individuals_methods</th>\n      <th>compartments_merged</th>\n      <th>n_cells</th>\n      <th>comments</th>\n      <th>confidence_-1=missing_0=unsure_1=definitely</th>\n      <th>cell_ontology_class</th>\n      <th>ontology_lookup_service</th>\n      <th>permanent_url</th>\n    </tr>\n  </thead>\n  <tbody>\n    <tr>\n      <th>0</th>\n      <td>alveolar epithelial cells (type 1 low quality ...</td>\n      <td>Lung</td>\n      <td>Bernard_10X</td>\n      <td>epithelial</td>\n      <td>14</td>\n      <td>NaN</td>\n      <td>NaN</td>\n      <td>type I pneumocyte</td>\n      <td>http://purl.obolibrary.org/obo/CL_0002062</td>\n      <td>https://www.ebi.ac.uk/ols/ontologies/cl/terms?...</td>\n    </tr>\n    <tr>\n      <th>1</th>\n      <td>alveolar epithelial cells (type 1)</td>\n      <td>Lung</td>\n      <td>Bernard_10X;Antoine_10X;Stumpy_10X</td>\n      <td>epithelial</td>\n      <td>172</td>\n      <td>NaN</td>\n      <td>NaN</td>\n      <td>type I pneumocyte</td>\n      <td>http://purl.obolibrary.org/obo/CL_0002062</td>\n      <td>https://www.ebi.ac.uk/ols/ontologies/cl/terms?...</td>\n    </tr>\n    <tr>\n      <th>2</th>\n      <td>alveolar epithelial cells (type 2 SFTPD+high)</td>\n      <td>Lung</td>\n      <td>Stumpy_10X</td>\n      <td>epithelial</td>\n      <td>33</td>\n      <td>NaN</td>\n      <td>NaN</td>\n      <td>type II pneumocyte</td>\n      <td>http://purl.obolibrary.org/obo/CL_0002063</td>\n      <td>https://www.ebi.ac.uk/ols/ontologies/cl/terms?...</td>\n    </tr>\n    <tr>\n      <th>3</th>\n      <td>alveolar epithelial cells (type 2)</td>\n      <td>Lung</td>\n      <td>Bernard_10X;Antoine_10X;Stumpy_10X</td>\n      <td>epithelial</td>\n      <td>830</td>\n      <td>NaN</td>\n      <td>NaN</td>\n      <td>type II pneumocyte</td>\n      <td>http://purl.obolibrary.org/obo/CL_0002063</td>\n      <td>https://www.ebi.ac.uk/ols/ontologies/cl/terms?...</td>\n    </tr>\n    <tr>\n      <th>4</th>\n      <td>artery cells</td>\n      <td>Lung</td>\n      <td>Antoine_10X</td>\n      <td>endothelial</td>\n      <td>203</td>\n      <td>NaN</td>\n      <td>NaN</td>\n      <td>lung endothelial cell</td>\n      <td>http://purl.obolibrary.org/obo/CL_1001567</td>\n      <td>https://www.ebi.ac.uk/ols/ontologies/cl/terms?...</td>\n    </tr>\n  </tbody>\n</table>\n</div>",
        "text/plain": "                                     free_annotation tissue  \\\n0  alveolar epithelial cells (type 1 low quality ...   Lung   \n1                 alveolar epithelial cells (type 1)   Lung   \n2      alveolar epithelial cells (type 2 SFTPD+high)   Lung   \n3                 alveolar epithelial cells (type 2)   Lung   \n4                                       artery cells   Lung   \n\n                  individuals_methods compartments_merged  n_cells  comments  \\\n0                         Bernard_10X          epithelial       14       NaN   \n1  Bernard_10X;Antoine_10X;Stumpy_10X          epithelial      172       NaN   \n2                          Stumpy_10X          epithelial       33       NaN   \n3  Bernard_10X;Antoine_10X;Stumpy_10X          epithelial      830       NaN   \n4                         Antoine_10X         endothelial      203       NaN   \n\n   confidence_-1=missing_0=unsure_1=definitely    cell_ontology_class  \\\n0                                          NaN      type I pneumocyte   \n1                                          NaN      type I pneumocyte   \n2                                          NaN     type II pneumocyte   \n3                                          NaN     type II pneumocyte   \n4                                          NaN  lung endothelial cell   \n\n                     ontology_lookup_service  \\\n0  http://purl.obolibrary.org/obo/CL_0002062   \n1  http://purl.obolibrary.org/obo/CL_0002062   \n2  http://purl.obolibrary.org/obo/CL_0002063   \n3  http://purl.obolibrary.org/obo/CL_0002063   \n4  http://purl.obolibrary.org/obo/CL_1001567   \n\n                                       permanent_url  \n0  https://www.ebi.ac.uk/ols/ontologies/cl/terms?...  \n1  https://www.ebi.ac.uk/ols/ontologies/cl/terms?...  \n2  https://www.ebi.ac.uk/ols/ontologies/cl/terms?...  \n3  https://www.ebi.ac.uk/ols/ontologies/cl/terms?...  \n4  https://www.ebi.ac.uk/ols/ontologies/cl/terms?...  "
       },
       "execution_count": 125,
       "metadata": {},
       "output_type": "execute_result"
      }
     ],
     "persistentId": "07aaa798-7692-4e61-a78e-e31cb96a1c0b",
     "text": "s = '''free_annotation\ttissue\tindividuals_methods\tcompartments_merged\tn_cells\tcomments\tconfidence_-1=missing_0=unsure_1=definitely\tcell_ontology_class\tontology_lookup_service\tpermanent_url\nalveolar epithelial cells (type 1 low quality BTG1-)\tLung\tBernard_10X\tepithelial\t14\t\t\ttype I pneumocyte\thttp://purl.obolibrary.org/obo/CL_0002062\thttps://www.ebi.ac.uk/ols/ontologies/cl/terms?iri=http%3A%2F%2Fpurl.obolibrary.org%2Fobo%2FCL_0002062\nalveolar epithelial cells (type 1)\tLung\tBernard_10X;Antoine_10X;Stumpy_10X\tepithelial\t172\t\t\ttype I pneumocyte\thttp://purl.obolibrary.org/obo/CL_0002062\thttps://www.ebi.ac.uk/ols/ontologies/cl/terms?iri=http%3A%2F%2Fpurl.obolibrary.org%2Fobo%2FCL_0002062\nalveolar epithelial cells (type 2 SFTPD+high)\tLung\tStumpy_10X\tepithelial\t33\t\t\ttype II pneumocyte\thttp://purl.obolibrary.org/obo/CL_0002063\thttps://www.ebi.ac.uk/ols/ontologies/cl/terms?iri=http%3A%2F%2Fpurl.obolibrary.org%2Fobo%2FCL_0002063\nalveolar epithelial cells (type 2)\tLung\tBernard_10X;Antoine_10X;Stumpy_10X\tepithelial\t830\t\t\ttype II pneumocyte\thttp://purl.obolibrary.org/obo/CL_0002063\thttps://www.ebi.ac.uk/ols/ontologies/cl/terms?iri=http%3A%2F%2Fpurl.obolibrary.org%2Fobo%2FCL_0002063\nartery cells\tLung\tAntoine_10X\tendothelial\t203\t\t\tlung endothelial cell\thttp://purl.obolibrary.org/obo/CL_1001567\thttps://www.ebi.ac.uk/ols/ontologies/cl/terms?iri=http%3A%2F%2Fpurl.obolibrary.org%2Fobo%2FCL_1001567&viewMode=All&siblings=false\nb cells\tLung\tBernard_10X;Antoine_10X;Martine_10X\timmune\t399\t\t\tB cell\thttp://purl.obolibrary.org/obo/CL_0000236\thttps://www.ebi.ac.uk/ols/ontologies/cl/terms?iri=http%3A%2F%2Fpurl.obolibrary.org%2Fobo%2FCL_0000236\nb cells (plasma)\tLung\tAntoine_10X;Martine_10X\timmune\t202\t\t\tplasma cell\thttp://purl.obolibrary.org/obo/CL_0000786\thttps://www.ebi.ac.uk/ols/ontologies/cl/terms?iri=http%3A%2F%2Fpurl.obolibrary.org%2Fobo%2FCL_0000786\nbasal cells\tLung\tAntoine_10X\tepithelial\t17\t\t\tbasal cell\thttp://purl.obolibrary.org/obo/CL_0000646\thttps://www.ebi.ac.uk/ols/ontologies/cl/terms?iri=http%3A%2F%2Fpurl.obolibrary.org%2Fobo%2FCL_0000646\ncapillary cells (CX3CL1+)\tLung\tAntoine_10X\tendothelial\t56\t\t\tcapillary endothelial cell\thttp://purl.obolibrary.org/obo/CL_0002144\thttps://www.ebi.ac.uk/ols/ontologies/cl/terms?iri=http%3A%2F%2Fpurl.obolibrary.org%2Fobo%2FCL_0002144\ncapillary cells (type 1)\tLung\tAntoine_10X\tendothelial\t974\t\t\tcapillary endothelial cell\thttp://purl.obolibrary.org/obo/CL_0002144\thttps://www.ebi.ac.uk/ols/ontologies/cl/terms?iri=http%3A%2F%2Fpurl.obolibrary.org%2Fobo%2FCL_0002144\ncapillary cells (type 2)\tLung\tAntoine_10X\tendothelial\t1411\t\t\tcapillary endothelial cell\thttp://purl.obolibrary.org/obo/CL_0002144\thttps://www.ebi.ac.uk/ols/ontologies/cl/terms?iri=http%3A%2F%2Fpurl.obolibrary.org%2Fobo%2FCL_0002144\nciliated cells\tLung\tBernard_10X;Antoine_10X;Stumpy_10X\tepithelial\t29\t\t\tlung ciliated cell\thttp://purl.obolibrary.org/obo/CL_1000271\thttps://www.ebi.ac.uk/ols/ontologies/cl/terms?iri=http%3A%2F%2Fpurl.obolibrary.org%2Fobo%2FCL_1000271\nclub cells\tLung\tAntoine_10X\tepithelial\t27\t\t\tclub cell\thttp://purl.obolibrary.org/obo/CL_0000158\thttps://www.ebi.ac.uk/ols/ontologies/cl/terms?iri=http%3A%2F%2Fpurl.obolibrary.org%2Fobo%2FCL_0000158\ndendritic cells (conventional)\tLung\tAntoine_10X;Martine_10X\timmune\t161\t\t\tdendritic cell\thttp://purl.obolibrary.org/obo/CL_0000451\thttps://www.ebi.ac.uk/ols/ontologies/cl/terms?iri=http%3A%2F%2Fpurl.obolibrary.org%2Fobo%2FCL_0000451\ndendritic cells (mature)\tLung\tAntoine_10X\timmune\t98\t\t\tdendritic cell\thttp://purl.obolibrary.org/obo/CL_0000451\thttps://www.ebi.ac.uk/ols/ontologies/cl/terms?iri=http%3A%2F%2Fpurl.obolibrary.org%2Fobo%2FCL_0000451\ndendritic cells (plasmacytoid)\tLung\tAntoine_10X;Martine_10X\timmune\t88\t\t\tplasmacytoid dendritic cell\thttp://purl.obolibrary.org/obo/CL_0000784\thttps://www.ebi.ac.uk/ols/ontologies/cl/terms?iri=http%3A%2F%2Fpurl.obolibrary.org%2Fobo%2FCL_0000784\ndoublets\tLung\tAntoine_10X\timmune\t3\t\t\tNA\tNA\tNA\ndoublets_b cells_t cells\tLung\tAntoine_10X\timmune\t32\t\t\tNA\tNA\tNA\ndoublets_endothelial_epithelial\tLung\tAntoine_10X\tendothelial;epithelial\t180\t\t\tNA\tNA\tNA\ndoublets_endothelial_immune\tLung\tBernard_10X;Antoine_10X;Stumpy_10X\tendothelial;immune\t476\t\t\tNA\tNA\tNA\ndoublets_endothelial_stromal\tLung\tAntoine_10X\tstromal\t46\t\t\tNA\tNA\tNA\ndoublets_epithelial_immune\tLung\tBernard_10X;Antoine_10X;Martine_10X\tepithelial;immune\t143\t\t\tNA\tNA\tNA\ndoublets_epithelial_stromal\tLung\tAntoine_10X\tepithelial\t113\t\t\tNA\tNA\tNA\ndoublets_immune_stromal\tLung\tAntoine_10X\tstromal\t126\t\t\tNA\tNA\tNA\ndoublets_lymphoid_myeloid\tLung\tAntoine_10X\timmune\t136\t\t\tNA\tNA\tNA\ndoublets_monocytes_neutrophils\tLung\tAntoine_10X\timmune\t133\t\t\tNA\tNA\tNA\ndoublets_neutrophils_t cells\tLung\tAntoine_10X\timmune\t22\t\t\tNA\tNA\tNA\ndoublets_t cells_neutrophils\tLung\tBernard_10X\timmune\t24\t\t\tNA\tNA\tNA\nendothelial cells\tLung\tBernard_10X;Stumpy_10X\tendothelial\t225\t\t\tendothelial cell\thttps://www.ebi.ac.uk/ols/ontologies/cl/terms?iri=http%3A%2F%2Fpurl.obolibrary.org%2Fobo%2FCL_0000115\thttp://purl.obolibrary.org/obo/CL_0000115\nerythrocytes\tLung\tBernard_10X;Martine_10X\terythrocyte\t45\t\t\terythrocyte\thttps://www.ebi.ac.uk/ols/ontologies/cl/terms?iri=http%3A%2F%2Fpurl.obolibrary.org%2Fobo%2FCL_0000232\thttp://purl.obolibrary.org/obo/CL_0000232\nfibroblasts\tLung\tBernard_10X\tstromal\t21\t\t\tfibroblast\thttps://www.ebi.ac.uk/ols/ontologies/cl/terms?iri=http%3A%2F%2Fpurl.obolibrary.org%2Fobo%2FCL_0000057\thttp://purl.obolibrary.org/obo/CL_0000057\nfibroblasts (CTGF+)\tLung\tBernard_10X\tstromal\t27\t\t\tfibroblast\thttps://www.ebi.ac.uk/ols/ontologies/cl/terms?iri=http%3A%2F%2Fpurl.obolibrary.org%2Fobo%2FCL_0000057\thttp://purl.obolibrary.org/obo/CL_0000057\nfibroblasts (adventitial NRXN1+)\tLung\tAntoine_10X\tstromal\t95\t\t\tfibroblast\thttps://www.ebi.ac.uk/ols/ontologies/cl/terms?iri=http%3A%2F%2Fpurl.obolibrary.org%2Fobo%2FCL_0000057\thttp://purl.obolibrary.org/obo/CL_0000057\nfibroblasts (adventitial)\tLung\tAntoine_10X;Martine_10X\tstromal\t362\t\t\tfibroblast\thttps://www.ebi.ac.uk/ols/ontologies/cl/terms?iri=http%3A%2F%2Fpurl.obolibrary.org%2Fobo%2FCL_0000057\thttp://purl.obolibrary.org/obo/CL_0000057\nfibroblasts (alveolar SERPINA3+)\tLung\tAntoine_10X\tstromal\t88\t\t\tfibroblast\thttps://www.ebi.ac.uk/ols/ontologies/cl/terms?iri=http%3A%2F%2Fpurl.obolibrary.org%2Fobo%2FCL_0000057\thttp://purl.obolibrary.org/obo/CL_0000057\nfibroblasts (alveolar)\tLung\tAntoine_10X;Martine_10X\tstromal\t821\t\t\tfibroblast\thttps://www.ebi.ac.uk/ols/ontologies/cl/terms?iri=http%3A%2F%2Fpurl.obolibrary.org%2Fobo%2FCL_0000057\thttp://purl.obolibrary.org/obo/CL_0000057\nhematopoietic precursor cells\tLung\tBernard_10X\timmune\t60\t\t\thematopoietic precursor cell\thttps://www.ebi.ac.uk/ols/ontologies/cl/terms?iri=http%3A%2F%2Fpurl.obolibrary.org%2Fobo%2FCL_0008001\thttp://purl.obolibrary.org/obo/CL_0008001\nlymphatic cells\tLung\tBernard_10X;Antoine_10X\tendothelial\t333\t\t\tendothelial cell of lymphatic vessel\thttps://www.ebi.ac.uk/ols/ontologies/cl/terms?iri=http%3A%2F%2Fpurl.obolibrary.org%2Fobo%2FCL_0002138\thttp://purl.obolibrary.org/obo/CL_0002138\nmacrophages\tLung\tBernard_10X;Martine_10X\timmune\t982\t\t\tmacrophage\thttps://www.ebi.ac.uk/ols/ontologies/cl/terms?iri=http%3A%2F%2Fpurl.obolibrary.org%2Fobo%2FCL_0000235\thttp://purl.obolibrary.org/obo/CL_0000235\nmacrophages (BLVRB+)\tLung\tBernard_10X\timmune\t374\t\t\tmacrophage\thttps://www.ebi.ac.uk/ols/ontologies/cl/terms?iri=http%3A%2F%2Fpurl.obolibrary.org%2Fobo%2FCL_0000235\thttp://purl.obolibrary.org/obo/CL_0000235\nmacrophages (EPCAM+)\tLung\tMartine_10X\timmune\t229\t\t\tmacrophage\thttps://www.ebi.ac.uk/ols/ontologies/cl/terms?iri=http%3A%2F%2Fpurl.obolibrary.org%2Fobo%2FCL_0000235\thttp://purl.obolibrary.org/obo/CL_0000235\nmacrophages (MARCO+ LPL+)\tLung\tAntoine_10X\timmune\t141\t\t\tmacrophage\thttps://www.ebi.ac.uk/ols/ontologies/cl/terms?iri=http%3A%2F%2Fpurl.obolibrary.org%2Fobo%2FCL_0000235\thttp://purl.obolibrary.org/obo/CL_0000235\nmacrophages (MARCO+ MKI67+)\tLung\tAntoine_10X\timmune\t164\t\t\tmacrophage\thttps://www.ebi.ac.uk/ols/ontologies/cl/terms?iri=http%3A%2F%2Fpurl.obolibrary.org%2Fobo%2FCL_0000235\thttp://purl.obolibrary.org/obo/CL_0000235\nmacrophages (MARCO+ MT2A+)\tLung\tAntoine_10X\timmune\t205\t\t\tmacrophage\thttps://www.ebi.ac.uk/ols/ontologies/cl/terms?iri=http%3A%2F%2Fpurl.obolibrary.org%2Fobo%2FCL_0000235\thttp://purl.obolibrary.org/obo/CL_0000235\nmacrophages (MARCO+ SDC2+)\tLung\tAntoine_10X\timmune\t678\t\t\tmacrophage\thttps://www.ebi.ac.uk/ols/ontologies/cl/terms?iri=http%3A%2F%2Fpurl.obolibrary.org%2Fobo%2FCL_0000235\thttp://purl.obolibrary.org/obo/CL_0000235\nmacrophages (MARCO+)\tLung\tAntoine_10X\timmune\t2158\t\t\tmacrophage\thttps://www.ebi.ac.uk/ols/ontologies/cl/terms?iri=http%3A%2F%2Fpurl.obolibrary.org%2Fobo%2FCL_0000235\thttp://purl.obolibrary.org/obo/CL_0000235\nmacrophages (MARCO- ABCA8+)\tLung\tAntoine_10X\timmune\t680\t\t\tmacrophage\thttps://www.ebi.ac.uk/ols/ontologies/cl/terms?iri=http%3A%2F%2Fpurl.obolibrary.org%2Fobo%2FCL_0000235\thttp://purl.obolibrary.org/obo/CL_0000235\nmacrophages (MARCO-)\tLung\tBernard_10X;Antoine_10X\timmune\t407\t\t\tmacrophage\thttps://www.ebi.ac.uk/ols/ontologies/cl/terms?iri=http%3A%2F%2Fpurl.obolibrary.org%2Fobo%2FCL_0000235\thttp://purl.obolibrary.org/obo/CL_0000235\nmacrophages (MRC1+ MARCO+)\tLung\tStumpy_10X\timmune\t148\t\t\tmacrophage\thttps://www.ebi.ac.uk/ols/ontologies/cl/terms?iri=http%3A%2F%2Fpurl.obolibrary.org%2Fobo%2FCL_0000235\thttp://purl.obolibrary.org/obo/CL_0000235\nmacrophages (MRC1+ MARCO- MKI67+)\tLung\tStumpy_10X\timmune\t311\t\t\tmacrophage\thttps://www.ebi.ac.uk/ols/ontologies/cl/terms?iri=http%3A%2F%2Fpurl.obolibrary.org%2Fobo%2FCL_0000235\thttp://purl.obolibrary.org/obo/CL_0000235\nmacrophages (MRC1+ MARCO-)\tLung\tStumpy_10X\timmune\t791\t\t\tmacrophage\thttps://www.ebi.ac.uk/ols/ontologies/cl/terms?iri=http%3A%2F%2Fpurl.obolibrary.org%2Fobo%2FCL_0000235\thttp://purl.obolibrary.org/obo/CL_0000235\nmacrophages (MRC1+)\tLung\tMartine_10X\timmune\t50\t\t\tmacrophage\thttps://www.ebi.ac.uk/ols/ontologies/cl/terms?iri=http%3A%2F%2Fpurl.obolibrary.org%2Fobo%2FCL_0000235\thttp://purl.obolibrary.org/obo/CL_0000235\nmacrophages (MRC1- MARCO+)\tLung\tStumpy_10X\timmune\t123\t\t\tmacrophage\thttps://www.ebi.ac.uk/ols/ontologies/cl/terms?iri=http%3A%2F%2Fpurl.obolibrary.org%2Fobo%2FCL_0000235\thttp://purl.obolibrary.org/obo/CL_0000235\nmesothelial cells and fibroblasts\tLung\tBernard_10X\tstromal\t17\t\t\tmesothelial cell\thttps://www.ebi.ac.uk/ols/ontologies/cl/terms?iri=http%3A%2F%2Fpurl.obolibrary.org%2Fobo%2FCL_0000077\thttp://purl.obolibrary.org/obo/CL_0000077\nmonocytes\tLung\tBernard_10X;Antoine_10X;Stumpy_10X;Martine_10X\timmune\t2712\t\t\tmonocyte\thttps://www.ebi.ac.uk/ols/ontologies/cl/terms?iri=http%3A%2F%2Fpurl.obolibrary.org%2Fobo%2FCL_0000576\thttp://purl.obolibrary.org/obo/CL_0000576\nmonocytes (MKI67+)\tLung\tBernard_10X\timmune\t56\t\t\tmonocyte\thttps://www.ebi.ac.uk/ols/ontologies/cl/terms?iri=http%3A%2F%2Fpurl.obolibrary.org%2Fobo%2FCL_0000576\thttp://purl.obolibrary.org/obo/CL_0000576\nmonocytes (SOD2+)\tLung\tStumpy_10X\timmune\t153\t\t\tmonocyte\thttps://www.ebi.ac.uk/ols/ontologies/cl/terms?iri=http%3A%2F%2Fpurl.obolibrary.org%2Fobo%2FCL_0000576\thttp://purl.obolibrary.org/obo/CL_0000576\nneutrophils\tLung\tBernard_10X;Antoine_10X;Stumpy_10X;Martine_10X\timmune\t6224\t\t\tneutrophil\thttps://www.ebi.ac.uk/ols/ontologies/cl/terms?iri=http%3A%2F%2Fpurl.obolibrary.org%2Fobo%2FCL_0000775\thttp://purl.obolibrary.org/obo/CL_0000775\nneutrophils (AZU1+ MKI67+)\tLung\tBernard_10X\timmune\t153\t\t\tneutrophil\thttps://www.ebi.ac.uk/ols/ontologies/cl/terms?iri=http%3A%2F%2Fpurl.obolibrary.org%2Fobo%2FCL_0000775\thttp://purl.obolibrary.org/obo/CL_0000775\nneutrophils (CAMP+)\tLung\tAntoine_10X\timmune\t54\t\t\tneutrophil\thttps://www.ebi.ac.uk/ols/ontologies/cl/terms?iri=http%3A%2F%2Fpurl.obolibrary.org%2Fobo%2FCL_0000775\thttp://purl.obolibrary.org/obo/CL_0000775\nneutrophils (CD164+ CD9+)\tLung\tBernard_10X\timmune\t60\t\t\tneutrophil\thttps://www.ebi.ac.uk/ols/ontologies/cl/terms?iri=http%3A%2F%2Fpurl.obolibrary.org%2Fobo%2FCL_0000775\thttp://purl.obolibrary.org/obo/CL_0000775\nneutrophils (CD164+)\tLung\tBernard_10X\timmune\t376\t\t\tneutrophil\thttps://www.ebi.ac.uk/ols/ontologies/cl/terms?iri=http%3A%2F%2Fpurl.obolibrary.org%2Fobo%2FCL_0000775\thttp://purl.obolibrary.org/obo/CL_0000775\nneutrophils (MKI67+)\tLung\tBernard_10X\timmune\t77\t\t\tneutrophil\thttps://www.ebi.ac.uk/ols/ontologies/cl/terms?iri=http%3A%2F%2Fpurl.obolibrary.org%2Fobo%2FCL_0000775\thttp://purl.obolibrary.org/obo/CL_0000775\nneutrophils (low quality SOD2+ TXNIP+)\tLung\tStumpy_10X\timmune\t116\t\t\tneutrophil\thttps://www.ebi.ac.uk/ols/ontologies/cl/terms?iri=http%3A%2F%2Fpurl.obolibrary.org%2Fobo%2FCL_0000775\thttp://purl.obolibrary.org/obo/CL_0000775\nneutrophils (low quality SOD2+)\tLung\tStumpy_10X\timmune\t352\t\t\tneutrophil\thttps://www.ebi.ac.uk/ols/ontologies/cl/terms?iri=http%3A%2F%2Fpurl.obolibrary.org%2Fobo%2FCL_0000775\thttp://purl.obolibrary.org/obo/CL_0000775\nnk cells\tLung\tBernard_10X;Stumpy_10X;Martine_10X\timmune\t243\t\t\tnatural killer cell\thttps://www.ebi.ac.uk/ols/ontologies/cl/terms?iri=http%3A%2F%2Fpurl.obolibrary.org%2Fobo%2FCL_0000623\thttp://purl.obolibrary.org/obo/CL_0000623\nnk cells (CD3E+low)\tLung\tAntoine_10X\timmune\t132\t\t\tnatural killer cell\thttps://www.ebi.ac.uk/ols/ontologies/cl/terms?iri=http%3A%2F%2Fpurl.obolibrary.org%2Fobo%2FCL_0000623\thttp://purl.obolibrary.org/obo/CL_0000623\nnk cells (FCER1A+)\tLung\tAntoine_10X\timmune\t89\t\t\tnatural killer cell\thttps://www.ebi.ac.uk/ols/ontologies/cl/terms?iri=http%3A%2F%2Fpurl.obolibrary.org%2Fobo%2FCL_0000623\thttp://purl.obolibrary.org/obo/CL_0000623\nnk cells (KLRB1+)\tLung\tAntoine_10X\timmune\t1688\t\t\tnatural killer cell\thttps://www.ebi.ac.uk/ols/ontologies/cl/terms?iri=http%3A%2F%2Fpurl.obolibrary.org%2Fobo%2FCL_0000623\thttp://purl.obolibrary.org/obo/CL_0000623\nnk cells (KLRB1-)\tLung\tAntoine_10X\timmune\t1292\t\t\tnatural killer cell\thttps://www.ebi.ac.uk/ols/ontologies/cl/terms?iri=http%3A%2F%2Fpurl.obolibrary.org%2Fobo%2FCL_0000623\thttp://purl.obolibrary.org/obo/CL_0000623\nnk cells (STMN1+ MCM5+)\tLung\tAntoine_10X\timmune\t227\t\t\tnatural killer cell\thttps://www.ebi.ac.uk/ols/ontologies/cl/terms?iri=http%3A%2F%2Fpurl.obolibrary.org%2Fobo%2FCL_0000623\thttp://purl.obolibrary.org/obo/CL_0000623\nnk cells (STMN1+ MKI67+)\tLung\tAntoine_10X\timmune\t153\t\t\tnatural killer cell\thttps://www.ebi.ac.uk/ols/ontologies/cl/terms?iri=http%3A%2F%2Fpurl.obolibrary.org%2Fobo%2FCL_0000623\thttp://purl.obolibrary.org/obo/CL_0000623\nnk cells (XCL1+)\tLung\tAntoine_10X\timmune\t216\t\t\tnatural killer cell\thttps://www.ebi.ac.uk/ols/ontologies/cl/terms?iri=http%3A%2F%2Fpurl.obolibrary.org%2Fobo%2FCL_0000623\thttp://purl.obolibrary.org/obo/CL_0000623\nnk cells? (SOST+)\tLung\tMartine_10X\timmune\t70\t\t\tnatural killer cell\thttps://www.ebi.ac.uk/ols/ontologies/cl/terms?iri=http%3A%2F%2Fpurl.obolibrary.org%2Fobo%2FCL_0000623\thttp://purl.obolibrary.org/obo/CL_0000623\nnkt cells\tLung\tAntoine_10X\timmune\t508\t\t\tmature NK T cell\thttps://www.ebi.ac.uk/ols/ontologies/cl/terms?iri=http%3A%2F%2Fpurl.obolibrary.org%2Fobo%2FCL_0000814\thttp://purl.obolibrary.org/obo/CL_0000814\npericytes\tLung\tAntoine_10X;Martine_10X\tstromal\t84\t\t\tpericyte cell\thttps://www.ebi.ac.uk/ols/ontologies/cl/terms?iri=http%3A%2F%2Fpurl.obolibrary.org%2Fobo%2FCL_0000669\thttp://purl.obolibrary.org/obo/CL_0000669\nremoved\tLung\tBernard_10X;Antoine_10X;Stumpy_10X;Martine_10X\timmune;erythrocyte;epithelial\t1566\t\t\tNA\tNA\tNA\nschwann cells\tLung\tBernard_10X\tstromal\t21\t\t\tSchwann cell\thttps://www.ebi.ac.uk/ols/ontologies/cl/terms?iri=http%3A%2F%2Fpurl.obolibrary.org%2Fobo%2FCL_0002573\thttp://purl.obolibrary.org/obo/CL_0002573\nsmooth muscle cells (airway) and myofibroblasts\tLung\tAntoine_10X\tstromal\t38\t\t\tbronchial smooth muscle cell\thttps://www.ebi.ac.uk/ols/ontologies/cl/terms?iri=http%3A%2F%2Fpurl.obolibrary.org%2Fobo%2FCL_0002598\thttp://purl.obolibrary.org/obo/CL_0002598\nsmooth muscle cells (vascular)\tLung\tAntoine_10X;Martine_10X\tstromal\t57\t\t\tvascular associated smooth muscle cell\thttps://www.ebi.ac.uk/ols/ontologies/cl/terms?iri=http%3A%2F%2Fpurl.obolibrary.org%2Fobo%2FCL_0000359\thttp://purl.obolibrary.org/obo/CL_0000359\nstromal cells\tLung\tStumpy_10X\tstromal\t31\t\t\tstromal cell\thttps://www.ebi.ac.uk/ols/ontologies/cl/terms?iri=http%3A%2F%2Fpurl.obolibrary.org%2Fobo%2FCL_0000499\thttp://purl.obolibrary.org/obo/CL_0000499\nt cells (CD4+ CD8+)\tLung\tAntoine_10X\timmune\t393\t\t\tT cell\thttps://www.ebi.ac.uk/ols/ontologies/cl/terms?iri=http%3A%2F%2Fpurl.obolibrary.org%2Fobo%2FCL_0000084\thttp://purl.obolibrary.org/obo/CL_0000084\nt cells (CD4+ CD8-)\tLung\tAntoine_10X\timmune\t485\t\t\tCD4-positive, alpha-beta T cell\thttps://www.ebi.ac.uk/ols/ontologies/cl/terms?iri=http%3A%2F%2Fpurl.obolibrary.org%2Fobo%2FCL_0000624\thttp://purl.obolibrary.org/obo/CL_0000624\nt cells (CD4+low CD8+)\tLung\tAntoine_10X\timmune\t685\t\t\tT cell\thttps://www.ebi.ac.uk/ols/ontologies/cl/terms?iri=http%3A%2F%2Fpurl.obolibrary.org%2Fobo%2FCL_0000084\thttp://purl.obolibrary.org/obo/CL_0000084\nt cells (CD4+low CD8+low IL7R+)\tLung\tAntoine_10X\timmune\t1035\t\t\tT cell\thttps://www.ebi.ac.uk/ols/ontologies/cl/terms?iri=http%3A%2F%2Fpurl.obolibrary.org%2Fobo%2FCL_0000084\thttp://purl.obolibrary.org/obo/CL_0000084\nt cells (CD4+low CD8- CCR7+)\tLung\tBernard_10X;Martine_10X\timmune\t386\t\t\tT cell\thttps://www.ebi.ac.uk/ols/ontologies/cl/terms?iri=http%3A%2F%2Fpurl.obolibrary.org%2Fobo%2FCL_0000084\thttp://purl.obolibrary.org/obo/CL_0000084\nt cells (CD4+low CD8- IL7R+)\tLung\tAntoine_10X;Martine_10X\timmune\t833\t\t\tT cell\thttps://www.ebi.ac.uk/ols/ontologies/cl/terms?iri=http%3A%2F%2Fpurl.obolibrary.org%2Fobo%2FCL_0000084\thttp://purl.obolibrary.org/obo/CL_0000084\nt cells (CD4+low CD8-)\tLung\tBernard_10X\timmune\t267\t\t\tT cell\thttps://www.ebi.ac.uk/ols/ontologies/cl/terms?iri=http%3A%2F%2Fpurl.obolibrary.org%2Fobo%2FCL_0000084\thttp://purl.obolibrary.org/obo/CL_0000084\nt cells (CD4- CD8+)\tLung\tStumpy_10X;Martine_10X\timmune\t464\t\t\tCD8-positive, alpha-beta T cell\thttps://www.ebi.ac.uk/ols/ontologies/cl/terms?iri=http%3A%2F%2Fpurl.obolibrary.org%2Fobo%2FCL_0000625\thttp://purl.obolibrary.org/obo/CL_0000625\nt cells (MKI67+)\tLung\tBernard_10X\timmune\t10\t\t\tT cell\thttps://www.ebi.ac.uk/ols/ontologies/cl/terms?iri=http%3A%2F%2Fpurl.obolibrary.org%2Fobo%2FCL_0000084\thttp://purl.obolibrary.org/obo/CL_0000084\nt cells (STMN1+ MCM5+)\tLung\tAntoine_10X\timmune\t214\t\t\tT cell\thttps://www.ebi.ac.uk/ols/ontologies/cl/terms?iri=http%3A%2F%2Fpurl.obolibrary.org%2Fobo%2FCL_0000084\thttp://purl.obolibrary.org/obo/CL_0000084\nt cells (STMN1+ MKI67+)\tLung\tAntoine_10X\timmune\t232\t\t\tT cell\thttps://www.ebi.ac.uk/ols/ontologies/cl/terms?iri=http%3A%2F%2Fpurl.obolibrary.org%2Fobo%2FCL_0000084\thttp://purl.obolibrary.org/obo/CL_0000084\nt cells and nk cells (MKI67+)\tLung\tStumpy_10X\timmune\t23\t\t\tT cell\thttps://www.ebi.ac.uk/ols/ontologies/cl/terms?iri=http%3A%2F%2Fpurl.obolibrary.org%2Fobo%2FCL_0000084\thttp://purl.obolibrary.org/obo/CL_0000084\ntuft cells\tLung\tAntoine_10X\tepithelial\t15\t\t\tbrush cell\thttps://www.ebi.ac.uk/ols/ontologies/cl/terms?iri=http%3A%2F%2Fpurl.obolibrary.org%2Fobo%2FCL_0002204\thttp://purl.obolibrary.org/obo/CL_0002204\nunknown_Lung_endo_stromal_group1 (WT1+)\tLung\tMartine_10X\tstromal\t33\t\t\tNA\tNA\tNA\nunknown_Lung_endothelial_group1 (CLEC4G+)\tLung\tMartine_10X\tendothelial\t119\t\t\tNA\tNA\tNA\nunknown_Lung_endothelial_group2 (MGP+)\tLung\tMartine_10X\tendothelial\t123\t\t\tNA\tNA\tNA\nunknown_Lung_endothelial_group3 (SCIN+)\tLung\tMartine_10X\tendothelial\t70\t\t\tNA\tNA\tNA\nunknown_Lung_endothelial_group4 (VWF+)\tLung\tMartine_10X\tendothelial\t536\t\t\tNA\tNA\tNA\nunknown_Lung_endothelial_group5 (VWF+ SPARCL1+)\tLung\tMartine_10X\tendothelial\t223\t\t\tNA\tNA\tNA\nunknown_Lung_endothelial_group6 (VWF+ SPARCL1+ PTN+)\tLung\tMartine_10X\tendothelial\t142\t\t\tNA\tNA\tNA\nunknown_Lung_epithelial_group1 (SLC34A1+)\tLung\tMartine_10X\tepithelial\t598\t\t\tNA\tNA\tNA\nunknown_Lung_epithelial_group10 (ATP6V1G3++)\tLung\tMartine_10X\tepithelial\t71\t\t\tNA\tNA\tNA\nunknown_Lung_epithelial_group11 (INSRR+)\tLung\tMartine_10X\tepithelial\t28\t\t\tNA\tNA\tNA\nunknown_Lung_epithelial_group2 (S100A10+)\tLung\tMartine_10X\tepithelial\t267\t\t\tNA\tNA\tNA\nunknown_Lung_epithelial_group3 (FTL++)\tLung\tMartine_10X\tepithelial\t255\t\t\tNA\tNA\tNA\nunknown_Lung_epithelial_group4 (CLU+)\tLung\tMartine_10X\tepithelial\t395\t\t\tNA\tNA\tNA\nunknown_Lung_epithelial_group5 (PPP1RA1+)\tLung\tMartine_10X\tepithelial\t355\t\t\tNA\tNA\tNA\nunknown_Lung_epithelial_group6 (MUC20+)\tLung\tMartine_10X\tepithelial\t489\t\t\tNA\tNA\tNA\nunknown_Lung_epithelial_group7 (TACSTD2+)\tLung\tMartine_10X\tepithelial\t356\t\t\tNA\tNA\tNA\nunknown_Lung_epithelial_group8 (MUC20+ CALB1+)\tLung\tMartine_10X\tepithelial\t100\t\t\tNA\tNA\tNA\nunknown_Lung_epithelial_group9 (IRX2+)\tLung\tMartine_10X\tepithelial\t77\t\t\tNA\tNA\tNA\nunknown_Lung_myeloid_group1 (S100A8- S100A10+)\tLung\tAntoine_10X\timmune\t282\t\t\tNA\tNA\tNA\nunknown_Lung_stromal_group1 (low quality)\tLung\tBernard_10X\tstromal\t19\t\t\tNA\tNA\tNA\nuterine adenocarcinoma metastasis (IL1R1+)\tLung\tStumpy_10X\tepithelial\t39\t\t\tNA\tNA\tNA\nuterine adenocarcinoma metastasis (PSMB3+)\tLung\tStumpy_10X\tepithelial\t35\t\t\tNA\tNA\tNA\nvein cells\tLung\tAntoine_10X\tendothelial\t180\t\t\tvein endothelial cell\thttp://purl.obolibrary.org/obo/CL_0002543\thttps://www.ebi.ac.uk/ols/ontologies/cl/terms?iri=http%3A%2F%2Fpurl.obolibrary.org%2Fobo%2FCL_0002543'''\nlemur_ontology_df = pd.read_csv(StringIO(s), sep='\\t')\nprint(lemur_ontology_df.shape)\nlemur_ontology_df.head()"
    },
    "executionTime": "2019-12-15T02:29:47.656Z"
   },
   {
    "cell": {
     "executionCount": 126,
     "executionEventId": "796c6eb8-0850-48d6-a294-b48dbd194f97",
     "hasError": false,
     "id": "51b5376b-6abe-4e84-b803-80cdd3d89bf0",
     "outputs": [
      {
       "name": "stdout",
       "output_type": "stream",
       "text": "(117, 9)\n"
      },
      {
       "data": {
        "text/html": "<div>\n<style scoped>\n    .dataframe tbody tr th:only-of-type {\n        vertical-align: middle;\n    }\n\n    .dataframe tbody tr th {\n        vertical-align: top;\n    }\n\n    .dataframe thead th {\n        text-align: right;\n    }\n</style>\n<table border=\"1\" class=\"dataframe\">\n  <thead>\n    <tr style=\"text-align: right;\">\n      <th></th>\n      <th>tissue</th>\n      <th>individuals_methods</th>\n      <th>compartments_merged</th>\n      <th>n_cells</th>\n      <th>comments</th>\n      <th>confidence_-1=missing_0=unsure_1=definitely</th>\n      <th>cell_ontology_class</th>\n      <th>ontology_lookup_service</th>\n      <th>permanent_url</th>\n    </tr>\n    <tr>\n      <th>free_annotation</th>\n      <th></th>\n      <th></th>\n      <th></th>\n      <th></th>\n      <th></th>\n      <th></th>\n      <th></th>\n      <th></th>\n      <th></th>\n    </tr>\n  </thead>\n  <tbody>\n    <tr>\n      <th>alveolar epithelial cells (type 1 low quality BTG1-)</th>\n      <td>Lung</td>\n      <td>Bernard_10X</td>\n      <td>epithelial</td>\n      <td>14</td>\n      <td>NaN</td>\n      <td>NaN</td>\n      <td>type I pneumocyte</td>\n      <td>http://purl.obolibrary.org/obo/CL_0002062</td>\n      <td>https://www.ebi.ac.uk/ols/ontologies/cl/terms?...</td>\n    </tr>\n    <tr>\n      <th>alveolar epithelial cells (type 1)</th>\n      <td>Lung</td>\n      <td>Bernard_10X;Antoine_10X;Stumpy_10X</td>\n      <td>epithelial</td>\n      <td>172</td>\n      <td>NaN</td>\n      <td>NaN</td>\n      <td>type I pneumocyte</td>\n      <td>http://purl.obolibrary.org/obo/CL_0002062</td>\n      <td>https://www.ebi.ac.uk/ols/ontologies/cl/terms?...</td>\n    </tr>\n    <tr>\n      <th>alveolar epithelial cells (type 2 SFTPD+high)</th>\n      <td>Lung</td>\n      <td>Stumpy_10X</td>\n      <td>epithelial</td>\n      <td>33</td>\n      <td>NaN</td>\n      <td>NaN</td>\n      <td>type II pneumocyte</td>\n      <td>http://purl.obolibrary.org/obo/CL_0002063</td>\n      <td>https://www.ebi.ac.uk/ols/ontologies/cl/terms?...</td>\n    </tr>\n    <tr>\n      <th>alveolar epithelial cells (type 2)</th>\n      <td>Lung</td>\n      <td>Bernard_10X;Antoine_10X;Stumpy_10X</td>\n      <td>epithelial</td>\n      <td>830</td>\n      <td>NaN</td>\n      <td>NaN</td>\n      <td>type II pneumocyte</td>\n      <td>http://purl.obolibrary.org/obo/CL_0002063</td>\n      <td>https://www.ebi.ac.uk/ols/ontologies/cl/terms?...</td>\n    </tr>\n    <tr>\n      <th>artery cells</th>\n      <td>Lung</td>\n      <td>Antoine_10X</td>\n      <td>endothelial</td>\n      <td>203</td>\n      <td>NaN</td>\n      <td>NaN</td>\n      <td>lung endothelial cell</td>\n      <td>http://purl.obolibrary.org/obo/CL_1001567</td>\n      <td>https://www.ebi.ac.uk/ols/ontologies/cl/terms?...</td>\n    </tr>\n  </tbody>\n</table>\n</div>",
        "text/plain": "                                                   tissue  \\\nfree_annotation                                             \nalveolar epithelial cells (type 1 low quality B...   Lung   \nalveolar epithelial cells (type 1)                   Lung   \nalveolar epithelial cells (type 2 SFTPD+high)        Lung   \nalveolar epithelial cells (type 2)                   Lung   \nartery cells                                         Lung   \n\n                                                                   individuals_methods  \\\nfree_annotation                                                                          \nalveolar epithelial cells (type 1 low quality B...                         Bernard_10X   \nalveolar epithelial cells (type 1)                  Bernard_10X;Antoine_10X;Stumpy_10X   \nalveolar epithelial cells (type 2 SFTPD+high)                               Stumpy_10X   \nalveolar epithelial cells (type 2)                  Bernard_10X;Antoine_10X;Stumpy_10X   \nartery cells                                                               Antoine_10X   \n\n                                                   compartments_merged  \\\nfree_annotation                                                          \nalveolar epithelial cells (type 1 low quality B...          epithelial   \nalveolar epithelial cells (type 1)                          epithelial   \nalveolar epithelial cells (type 2 SFTPD+high)               epithelial   \nalveolar epithelial cells (type 2)                          epithelial   \nartery cells                                               endothelial   \n\n                                                    n_cells  comments  \\\nfree_annotation                                                         \nalveolar epithelial cells (type 1 low quality B...       14       NaN   \nalveolar epithelial cells (type 1)                      172       NaN   \nalveolar epithelial cells (type 2 SFTPD+high)            33       NaN   \nalveolar epithelial cells (type 2)                      830       NaN   \nartery cells                                            203       NaN   \n\n                                                    confidence_-1=missing_0=unsure_1=definitely  \\\nfree_annotation                                                                                   \nalveolar epithelial cells (type 1 low quality B...                                          NaN   \nalveolar epithelial cells (type 1)                                                          NaN   \nalveolar epithelial cells (type 2 SFTPD+high)                                               NaN   \nalveolar epithelial cells (type 2)                                                          NaN   \nartery cells                                                                                NaN   \n\n                                                      cell_ontology_class  \\\nfree_annotation                                                             \nalveolar epithelial cells (type 1 low quality B...      type I pneumocyte   \nalveolar epithelial cells (type 1)                      type I pneumocyte   \nalveolar epithelial cells (type 2 SFTPD+high)          type II pneumocyte   \nalveolar epithelial cells (type 2)                     type II pneumocyte   \nartery cells                                        lung endothelial cell   \n\n                                                                      ontology_lookup_service  \\\nfree_annotation                                                                                 \nalveolar epithelial cells (type 1 low quality B...  http://purl.obolibrary.org/obo/CL_0002062   \nalveolar epithelial cells (type 1)                  http://purl.obolibrary.org/obo/CL_0002062   \nalveolar epithelial cells (type 2 SFTPD+high)       http://purl.obolibrary.org/obo/CL_0002063   \nalveolar epithelial cells (type 2)                  http://purl.obolibrary.org/obo/CL_0002063   \nartery cells                                        http://purl.obolibrary.org/obo/CL_1001567   \n\n                                                                                        permanent_url  \nfree_annotation                                                                                        \nalveolar epithelial cells (type 1 low quality B...  https://www.ebi.ac.uk/ols/ontologies/cl/terms?...  \nalveolar epithelial cells (type 1)                  https://www.ebi.ac.uk/ols/ontologies/cl/terms?...  \nalveolar epithelial cells (type 2 SFTPD+high)       https://www.ebi.ac.uk/ols/ontologies/cl/terms?...  \nalveolar epithelial cells (type 2)                  https://www.ebi.ac.uk/ols/ontologies/cl/terms?...  \nartery cells                                        https://www.ebi.ac.uk/ols/ontologies/cl/terms?...  "
       },
       "execution_count": 126,
       "metadata": {},
       "output_type": "execute_result"
      }
     ],
     "persistentId": "07aaa798-7692-4e61-a78e-e31cb96a1c0b",
     "text": "s = '''free_annotation\ttissue\tindividuals_methods\tcompartments_merged\tn_cells\tcomments\tconfidence_-1=missing_0=unsure_1=definitely\tcell_ontology_class\tontology_lookup_service\tpermanent_url\nalveolar epithelial cells (type 1 low quality BTG1-)\tLung\tBernard_10X\tepithelial\t14\t\t\ttype I pneumocyte\thttp://purl.obolibrary.org/obo/CL_0002062\thttps://www.ebi.ac.uk/ols/ontologies/cl/terms?iri=http%3A%2F%2Fpurl.obolibrary.org%2Fobo%2FCL_0002062\nalveolar epithelial cells (type 1)\tLung\tBernard_10X;Antoine_10X;Stumpy_10X\tepithelial\t172\t\t\ttype I pneumocyte\thttp://purl.obolibrary.org/obo/CL_0002062\thttps://www.ebi.ac.uk/ols/ontologies/cl/terms?iri=http%3A%2F%2Fpurl.obolibrary.org%2Fobo%2FCL_0002062\nalveolar epithelial cells (type 2 SFTPD+high)\tLung\tStumpy_10X\tepithelial\t33\t\t\ttype II pneumocyte\thttp://purl.obolibrary.org/obo/CL_0002063\thttps://www.ebi.ac.uk/ols/ontologies/cl/terms?iri=http%3A%2F%2Fpurl.obolibrary.org%2Fobo%2FCL_0002063\nalveolar epithelial cells (type 2)\tLung\tBernard_10X;Antoine_10X;Stumpy_10X\tepithelial\t830\t\t\ttype II pneumocyte\thttp://purl.obolibrary.org/obo/CL_0002063\thttps://www.ebi.ac.uk/ols/ontologies/cl/terms?iri=http%3A%2F%2Fpurl.obolibrary.org%2Fobo%2FCL_0002063\nartery cells\tLung\tAntoine_10X\tendothelial\t203\t\t\tlung endothelial cell\thttp://purl.obolibrary.org/obo/CL_1001567\thttps://www.ebi.ac.uk/ols/ontologies/cl/terms?iri=http%3A%2F%2Fpurl.obolibrary.org%2Fobo%2FCL_1001567&viewMode=All&siblings=false\nb cells\tLung\tBernard_10X;Antoine_10X;Martine_10X\timmune\t399\t\t\tB cell\thttp://purl.obolibrary.org/obo/CL_0000236\thttps://www.ebi.ac.uk/ols/ontologies/cl/terms?iri=http%3A%2F%2Fpurl.obolibrary.org%2Fobo%2FCL_0000236\nb cells (plasma)\tLung\tAntoine_10X;Martine_10X\timmune\t202\t\t\tplasma cell\thttp://purl.obolibrary.org/obo/CL_0000786\thttps://www.ebi.ac.uk/ols/ontologies/cl/terms?iri=http%3A%2F%2Fpurl.obolibrary.org%2Fobo%2FCL_0000786\nbasal cells\tLung\tAntoine_10X\tepithelial\t17\t\t\tbasal cell\thttp://purl.obolibrary.org/obo/CL_0000646\thttps://www.ebi.ac.uk/ols/ontologies/cl/terms?iri=http%3A%2F%2Fpurl.obolibrary.org%2Fobo%2FCL_0000646\ncapillary cells (CX3CL1+)\tLung\tAntoine_10X\tendothelial\t56\t\t\tcapillary endothelial cell\thttp://purl.obolibrary.org/obo/CL_0002144\thttps://www.ebi.ac.uk/ols/ontologies/cl/terms?iri=http%3A%2F%2Fpurl.obolibrary.org%2Fobo%2FCL_0002144\ncapillary cells (type 1)\tLung\tAntoine_10X\tendothelial\t974\t\t\tcapillary endothelial cell\thttp://purl.obolibrary.org/obo/CL_0002144\thttps://www.ebi.ac.uk/ols/ontologies/cl/terms?iri=http%3A%2F%2Fpurl.obolibrary.org%2Fobo%2FCL_0002144\ncapillary cells (type 2)\tLung\tAntoine_10X\tendothelial\t1411\t\t\tcapillary endothelial cell\thttp://purl.obolibrary.org/obo/CL_0002144\thttps://www.ebi.ac.uk/ols/ontologies/cl/terms?iri=http%3A%2F%2Fpurl.obolibrary.org%2Fobo%2FCL_0002144\nciliated cells\tLung\tBernard_10X;Antoine_10X;Stumpy_10X\tepithelial\t29\t\t\tlung ciliated cell\thttp://purl.obolibrary.org/obo/CL_1000271\thttps://www.ebi.ac.uk/ols/ontologies/cl/terms?iri=http%3A%2F%2Fpurl.obolibrary.org%2Fobo%2FCL_1000271\nclub cells\tLung\tAntoine_10X\tepithelial\t27\t\t\tclub cell\thttp://purl.obolibrary.org/obo/CL_0000158\thttps://www.ebi.ac.uk/ols/ontologies/cl/terms?iri=http%3A%2F%2Fpurl.obolibrary.org%2Fobo%2FCL_0000158\ndendritic cells (conventional)\tLung\tAntoine_10X;Martine_10X\timmune\t161\t\t\tdendritic cell\thttp://purl.obolibrary.org/obo/CL_0000451\thttps://www.ebi.ac.uk/ols/ontologies/cl/terms?iri=http%3A%2F%2Fpurl.obolibrary.org%2Fobo%2FCL_0000451\ndendritic cells (mature)\tLung\tAntoine_10X\timmune\t98\t\t\tdendritic cell\thttp://purl.obolibrary.org/obo/CL_0000451\thttps://www.ebi.ac.uk/ols/ontologies/cl/terms?iri=http%3A%2F%2Fpurl.obolibrary.org%2Fobo%2FCL_0000451\ndendritic cells (plasmacytoid)\tLung\tAntoine_10X;Martine_10X\timmune\t88\t\t\tplasmacytoid dendritic cell\thttp://purl.obolibrary.org/obo/CL_0000784\thttps://www.ebi.ac.uk/ols/ontologies/cl/terms?iri=http%3A%2F%2Fpurl.obolibrary.org%2Fobo%2FCL_0000784\ndoublets\tLung\tAntoine_10X\timmune\t3\t\t\tNA\tNA\tNA\ndoublets_b cells_t cells\tLung\tAntoine_10X\timmune\t32\t\t\tNA\tNA\tNA\ndoublets_endothelial_epithelial\tLung\tAntoine_10X\tendothelial;epithelial\t180\t\t\tNA\tNA\tNA\ndoublets_endothelial_immune\tLung\tBernard_10X;Antoine_10X;Stumpy_10X\tendothelial;immune\t476\t\t\tNA\tNA\tNA\ndoublets_endothelial_stromal\tLung\tAntoine_10X\tstromal\t46\t\t\tNA\tNA\tNA\ndoublets_epithelial_immune\tLung\tBernard_10X;Antoine_10X;Martine_10X\tepithelial;immune\t143\t\t\tNA\tNA\tNA\ndoublets_epithelial_stromal\tLung\tAntoine_10X\tepithelial\t113\t\t\tNA\tNA\tNA\ndoublets_immune_stromal\tLung\tAntoine_10X\tstromal\t126\t\t\tNA\tNA\tNA\ndoublets_lymphoid_myeloid\tLung\tAntoine_10X\timmune\t136\t\t\tNA\tNA\tNA\ndoublets_monocytes_neutrophils\tLung\tAntoine_10X\timmune\t133\t\t\tNA\tNA\tNA\ndoublets_neutrophils_t cells\tLung\tAntoine_10X\timmune\t22\t\t\tNA\tNA\tNA\ndoublets_t cells_neutrophils\tLung\tBernard_10X\timmune\t24\t\t\tNA\tNA\tNA\nendothelial cells\tLung\tBernard_10X;Stumpy_10X\tendothelial\t225\t\t\tendothelial cell\thttps://www.ebi.ac.uk/ols/ontologies/cl/terms?iri=http%3A%2F%2Fpurl.obolibrary.org%2Fobo%2FCL_0000115\thttp://purl.obolibrary.org/obo/CL_0000115\nerythrocytes\tLung\tBernard_10X;Martine_10X\terythrocyte\t45\t\t\terythrocyte\thttps://www.ebi.ac.uk/ols/ontologies/cl/terms?iri=http%3A%2F%2Fpurl.obolibrary.org%2Fobo%2FCL_0000232\thttp://purl.obolibrary.org/obo/CL_0000232\nfibroblasts\tLung\tBernard_10X\tstromal\t21\t\t\tfibroblast\thttps://www.ebi.ac.uk/ols/ontologies/cl/terms?iri=http%3A%2F%2Fpurl.obolibrary.org%2Fobo%2FCL_0000057\thttp://purl.obolibrary.org/obo/CL_0000057\nfibroblasts (CTGF+)\tLung\tBernard_10X\tstromal\t27\t\t\tfibroblast\thttps://www.ebi.ac.uk/ols/ontologies/cl/terms?iri=http%3A%2F%2Fpurl.obolibrary.org%2Fobo%2FCL_0000057\thttp://purl.obolibrary.org/obo/CL_0000057\nfibroblasts (adventitial NRXN1+)\tLung\tAntoine_10X\tstromal\t95\t\t\tfibroblast\thttps://www.ebi.ac.uk/ols/ontologies/cl/terms?iri=http%3A%2F%2Fpurl.obolibrary.org%2Fobo%2FCL_0000057\thttp://purl.obolibrary.org/obo/CL_0000057\nfibroblasts (adventitial)\tLung\tAntoine_10X;Martine_10X\tstromal\t362\t\t\tfibroblast\thttps://www.ebi.ac.uk/ols/ontologies/cl/terms?iri=http%3A%2F%2Fpurl.obolibrary.org%2Fobo%2FCL_0000057\thttp://purl.obolibrary.org/obo/CL_0000057\nfibroblasts (alveolar SERPINA3+)\tLung\tAntoine_10X\tstromal\t88\t\t\tfibroblast\thttps://www.ebi.ac.uk/ols/ontologies/cl/terms?iri=http%3A%2F%2Fpurl.obolibrary.org%2Fobo%2FCL_0000057\thttp://purl.obolibrary.org/obo/CL_0000057\nfibroblasts (alveolar)\tLung\tAntoine_10X;Martine_10X\tstromal\t821\t\t\tfibroblast\thttps://www.ebi.ac.uk/ols/ontologies/cl/terms?iri=http%3A%2F%2Fpurl.obolibrary.org%2Fobo%2FCL_0000057\thttp://purl.obolibrary.org/obo/CL_0000057\nhematopoietic precursor cells\tLung\tBernard_10X\timmune\t60\t\t\thematopoietic precursor cell\thttps://www.ebi.ac.uk/ols/ontologies/cl/terms?iri=http%3A%2F%2Fpurl.obolibrary.org%2Fobo%2FCL_0008001\thttp://purl.obolibrary.org/obo/CL_0008001\nlymphatic cells\tLung\tBernard_10X;Antoine_10X\tendothelial\t333\t\t\tendothelial cell of lymphatic vessel\thttps://www.ebi.ac.uk/ols/ontologies/cl/terms?iri=http%3A%2F%2Fpurl.obolibrary.org%2Fobo%2FCL_0002138\thttp://purl.obolibrary.org/obo/CL_0002138\nmacrophages\tLung\tBernard_10X;Martine_10X\timmune\t982\t\t\tmacrophage\thttps://www.ebi.ac.uk/ols/ontologies/cl/terms?iri=http%3A%2F%2Fpurl.obolibrary.org%2Fobo%2FCL_0000235\thttp://purl.obolibrary.org/obo/CL_0000235\nmacrophages (BLVRB+)\tLung\tBernard_10X\timmune\t374\t\t\tmacrophage\thttps://www.ebi.ac.uk/ols/ontologies/cl/terms?iri=http%3A%2F%2Fpurl.obolibrary.org%2Fobo%2FCL_0000235\thttp://purl.obolibrary.org/obo/CL_0000235\nmacrophages (EPCAM+)\tLung\tMartine_10X\timmune\t229\t\t\tmacrophage\thttps://www.ebi.ac.uk/ols/ontologies/cl/terms?iri=http%3A%2F%2Fpurl.obolibrary.org%2Fobo%2FCL_0000235\thttp://purl.obolibrary.org/obo/CL_0000235\nmacrophages (MARCO+ LPL+)\tLung\tAntoine_10X\timmune\t141\t\t\tmacrophage\thttps://www.ebi.ac.uk/ols/ontologies/cl/terms?iri=http%3A%2F%2Fpurl.obolibrary.org%2Fobo%2FCL_0000235\thttp://purl.obolibrary.org/obo/CL_0000235\nmacrophages (MARCO+ MKI67+)\tLung\tAntoine_10X\timmune\t164\t\t\tmacrophage\thttps://www.ebi.ac.uk/ols/ontologies/cl/terms?iri=http%3A%2F%2Fpurl.obolibrary.org%2Fobo%2FCL_0000235\thttp://purl.obolibrary.org/obo/CL_0000235\nmacrophages (MARCO+ MT2A+)\tLung\tAntoine_10X\timmune\t205\t\t\tmacrophage\thttps://www.ebi.ac.uk/ols/ontologies/cl/terms?iri=http%3A%2F%2Fpurl.obolibrary.org%2Fobo%2FCL_0000235\thttp://purl.obolibrary.org/obo/CL_0000235\nmacrophages (MARCO+ SDC2+)\tLung\tAntoine_10X\timmune\t678\t\t\tmacrophage\thttps://www.ebi.ac.uk/ols/ontologies/cl/terms?iri=http%3A%2F%2Fpurl.obolibrary.org%2Fobo%2FCL_0000235\thttp://purl.obolibrary.org/obo/CL_0000235\nmacrophages (MARCO+)\tLung\tAntoine_10X\timmune\t2158\t\t\tmacrophage\thttps://www.ebi.ac.uk/ols/ontologies/cl/terms?iri=http%3A%2F%2Fpurl.obolibrary.org%2Fobo%2FCL_0000235\thttp://purl.obolibrary.org/obo/CL_0000235\nmacrophages (MARCO- ABCA8+)\tLung\tAntoine_10X\timmune\t680\t\t\tmacrophage\thttps://www.ebi.ac.uk/ols/ontologies/cl/terms?iri=http%3A%2F%2Fpurl.obolibrary.org%2Fobo%2FCL_0000235\thttp://purl.obolibrary.org/obo/CL_0000235\nmacrophages (MARCO-)\tLung\tBernard_10X;Antoine_10X\timmune\t407\t\t\tmacrophage\thttps://www.ebi.ac.uk/ols/ontologies/cl/terms?iri=http%3A%2F%2Fpurl.obolibrary.org%2Fobo%2FCL_0000235\thttp://purl.obolibrary.org/obo/CL_0000235\nmacrophages (MRC1+ MARCO+)\tLung\tStumpy_10X\timmune\t148\t\t\tmacrophage\thttps://www.ebi.ac.uk/ols/ontologies/cl/terms?iri=http%3A%2F%2Fpurl.obolibrary.org%2Fobo%2FCL_0000235\thttp://purl.obolibrary.org/obo/CL_0000235\nmacrophages (MRC1+ MARCO- MKI67+)\tLung\tStumpy_10X\timmune\t311\t\t\tmacrophage\thttps://www.ebi.ac.uk/ols/ontologies/cl/terms?iri=http%3A%2F%2Fpurl.obolibrary.org%2Fobo%2FCL_0000235\thttp://purl.obolibrary.org/obo/CL_0000235\nmacrophages (MRC1+ MARCO-)\tLung\tStumpy_10X\timmune\t791\t\t\tmacrophage\thttps://www.ebi.ac.uk/ols/ontologies/cl/terms?iri=http%3A%2F%2Fpurl.obolibrary.org%2Fobo%2FCL_0000235\thttp://purl.obolibrary.org/obo/CL_0000235\nmacrophages (MRC1+)\tLung\tMartine_10X\timmune\t50\t\t\tmacrophage\thttps://www.ebi.ac.uk/ols/ontologies/cl/terms?iri=http%3A%2F%2Fpurl.obolibrary.org%2Fobo%2FCL_0000235\thttp://purl.obolibrary.org/obo/CL_0000235\nmacrophages (MRC1- MARCO+)\tLung\tStumpy_10X\timmune\t123\t\t\tmacrophage\thttps://www.ebi.ac.uk/ols/ontologies/cl/terms?iri=http%3A%2F%2Fpurl.obolibrary.org%2Fobo%2FCL_0000235\thttp://purl.obolibrary.org/obo/CL_0000235\nmesothelial cells and fibroblasts\tLung\tBernard_10X\tstromal\t17\t\t\tmesothelial cell\thttps://www.ebi.ac.uk/ols/ontologies/cl/terms?iri=http%3A%2F%2Fpurl.obolibrary.org%2Fobo%2FCL_0000077\thttp://purl.obolibrary.org/obo/CL_0000077\nmonocytes\tLung\tBernard_10X;Antoine_10X;Stumpy_10X;Martine_10X\timmune\t2712\t\t\tmonocyte\thttps://www.ebi.ac.uk/ols/ontologies/cl/terms?iri=http%3A%2F%2Fpurl.obolibrary.org%2Fobo%2FCL_0000576\thttp://purl.obolibrary.org/obo/CL_0000576\nmonocytes (MKI67+)\tLung\tBernard_10X\timmune\t56\t\t\tmonocyte\thttps://www.ebi.ac.uk/ols/ontologies/cl/terms?iri=http%3A%2F%2Fpurl.obolibrary.org%2Fobo%2FCL_0000576\thttp://purl.obolibrary.org/obo/CL_0000576\nmonocytes (SOD2+)\tLung\tStumpy_10X\timmune\t153\t\t\tmonocyte\thttps://www.ebi.ac.uk/ols/ontologies/cl/terms?iri=http%3A%2F%2Fpurl.obolibrary.org%2Fobo%2FCL_0000576\thttp://purl.obolibrary.org/obo/CL_0000576\nneutrophils\tLung\tBernard_10X;Antoine_10X;Stumpy_10X;Martine_10X\timmune\t6224\t\t\tneutrophil\thttps://www.ebi.ac.uk/ols/ontologies/cl/terms?iri=http%3A%2F%2Fpurl.obolibrary.org%2Fobo%2FCL_0000775\thttp://purl.obolibrary.org/obo/CL_0000775\nneutrophils (AZU1+ MKI67+)\tLung\tBernard_10X\timmune\t153\t\t\tneutrophil\thttps://www.ebi.ac.uk/ols/ontologies/cl/terms?iri=http%3A%2F%2Fpurl.obolibrary.org%2Fobo%2FCL_0000775\thttp://purl.obolibrary.org/obo/CL_0000775\nneutrophils (CAMP+)\tLung\tAntoine_10X\timmune\t54\t\t\tneutrophil\thttps://www.ebi.ac.uk/ols/ontologies/cl/terms?iri=http%3A%2F%2Fpurl.obolibrary.org%2Fobo%2FCL_0000775\thttp://purl.obolibrary.org/obo/CL_0000775\nneutrophils (CD164+ CD9+)\tLung\tBernard_10X\timmune\t60\t\t\tneutrophil\thttps://www.ebi.ac.uk/ols/ontologies/cl/terms?iri=http%3A%2F%2Fpurl.obolibrary.org%2Fobo%2FCL_0000775\thttp://purl.obolibrary.org/obo/CL_0000775\nneutrophils (CD164+)\tLung\tBernard_10X\timmune\t376\t\t\tneutrophil\thttps://www.ebi.ac.uk/ols/ontologies/cl/terms?iri=http%3A%2F%2Fpurl.obolibrary.org%2Fobo%2FCL_0000775\thttp://purl.obolibrary.org/obo/CL_0000775\nneutrophils (MKI67+)\tLung\tBernard_10X\timmune\t77\t\t\tneutrophil\thttps://www.ebi.ac.uk/ols/ontologies/cl/terms?iri=http%3A%2F%2Fpurl.obolibrary.org%2Fobo%2FCL_0000775\thttp://purl.obolibrary.org/obo/CL_0000775\nneutrophils (low quality SOD2+ TXNIP+)\tLung\tStumpy_10X\timmune\t116\t\t\tneutrophil\thttps://www.ebi.ac.uk/ols/ontologies/cl/terms?iri=http%3A%2F%2Fpurl.obolibrary.org%2Fobo%2FCL_0000775\thttp://purl.obolibrary.org/obo/CL_0000775\nneutrophils (low quality SOD2+)\tLung\tStumpy_10X\timmune\t352\t\t\tneutrophil\thttps://www.ebi.ac.uk/ols/ontologies/cl/terms?iri=http%3A%2F%2Fpurl.obolibrary.org%2Fobo%2FCL_0000775\thttp://purl.obolibrary.org/obo/CL_0000775\nnk cells\tLung\tBernard_10X;Stumpy_10X;Martine_10X\timmune\t243\t\t\tnatural killer cell\thttps://www.ebi.ac.uk/ols/ontologies/cl/terms?iri=http%3A%2F%2Fpurl.obolibrary.org%2Fobo%2FCL_0000623\thttp://purl.obolibrary.org/obo/CL_0000623\nnk cells (CD3E+low)\tLung\tAntoine_10X\timmune\t132\t\t\tnatural killer cell\thttps://www.ebi.ac.uk/ols/ontologies/cl/terms?iri=http%3A%2F%2Fpurl.obolibrary.org%2Fobo%2FCL_0000623\thttp://purl.obolibrary.org/obo/CL_0000623\nnk cells (FCER1A+)\tLung\tAntoine_10X\timmune\t89\t\t\tnatural killer cell\thttps://www.ebi.ac.uk/ols/ontologies/cl/terms?iri=http%3A%2F%2Fpurl.obolibrary.org%2Fobo%2FCL_0000623\thttp://purl.obolibrary.org/obo/CL_0000623\nnk cells (KLRB1+)\tLung\tAntoine_10X\timmune\t1688\t\t\tnatural killer cell\thttps://www.ebi.ac.uk/ols/ontologies/cl/terms?iri=http%3A%2F%2Fpurl.obolibrary.org%2Fobo%2FCL_0000623\thttp://purl.obolibrary.org/obo/CL_0000623\nnk cells (KLRB1-)\tLung\tAntoine_10X\timmune\t1292\t\t\tnatural killer cell\thttps://www.ebi.ac.uk/ols/ontologies/cl/terms?iri=http%3A%2F%2Fpurl.obolibrary.org%2Fobo%2FCL_0000623\thttp://purl.obolibrary.org/obo/CL_0000623\nnk cells (STMN1+ MCM5+)\tLung\tAntoine_10X\timmune\t227\t\t\tnatural killer cell\thttps://www.ebi.ac.uk/ols/ontologies/cl/terms?iri=http%3A%2F%2Fpurl.obolibrary.org%2Fobo%2FCL_0000623\thttp://purl.obolibrary.org/obo/CL_0000623\nnk cells (STMN1+ MKI67+)\tLung\tAntoine_10X\timmune\t153\t\t\tnatural killer cell\thttps://www.ebi.ac.uk/ols/ontologies/cl/terms?iri=http%3A%2F%2Fpurl.obolibrary.org%2Fobo%2FCL_0000623\thttp://purl.obolibrary.org/obo/CL_0000623\nnk cells (XCL1+)\tLung\tAntoine_10X\timmune\t216\t\t\tnatural killer cell\thttps://www.ebi.ac.uk/ols/ontologies/cl/terms?iri=http%3A%2F%2Fpurl.obolibrary.org%2Fobo%2FCL_0000623\thttp://purl.obolibrary.org/obo/CL_0000623\nnk cells? (SOST+)\tLung\tMartine_10X\timmune\t70\t\t\tnatural killer cell\thttps://www.ebi.ac.uk/ols/ontologies/cl/terms?iri=http%3A%2F%2Fpurl.obolibrary.org%2Fobo%2FCL_0000623\thttp://purl.obolibrary.org/obo/CL_0000623\nnkt cells\tLung\tAntoine_10X\timmune\t508\t\t\tmature NK T cell\thttps://www.ebi.ac.uk/ols/ontologies/cl/terms?iri=http%3A%2F%2Fpurl.obolibrary.org%2Fobo%2FCL_0000814\thttp://purl.obolibrary.org/obo/CL_0000814\npericytes\tLung\tAntoine_10X;Martine_10X\tstromal\t84\t\t\tpericyte cell\thttps://www.ebi.ac.uk/ols/ontologies/cl/terms?iri=http%3A%2F%2Fpurl.obolibrary.org%2Fobo%2FCL_0000669\thttp://purl.obolibrary.org/obo/CL_0000669\nremoved\tLung\tBernard_10X;Antoine_10X;Stumpy_10X;Martine_10X\timmune;erythrocyte;epithelial\t1566\t\t\tNA\tNA\tNA\nschwann cells\tLung\tBernard_10X\tstromal\t21\t\t\tSchwann cell\thttps://www.ebi.ac.uk/ols/ontologies/cl/terms?iri=http%3A%2F%2Fpurl.obolibrary.org%2Fobo%2FCL_0002573\thttp://purl.obolibrary.org/obo/CL_0002573\nsmooth muscle cells (airway) and myofibroblasts\tLung\tAntoine_10X\tstromal\t38\t\t\tbronchial smooth muscle cell\thttps://www.ebi.ac.uk/ols/ontologies/cl/terms?iri=http%3A%2F%2Fpurl.obolibrary.org%2Fobo%2FCL_0002598\thttp://purl.obolibrary.org/obo/CL_0002598\nsmooth muscle cells (vascular)\tLung\tAntoine_10X;Martine_10X\tstromal\t57\t\t\tvascular associated smooth muscle cell\thttps://www.ebi.ac.uk/ols/ontologies/cl/terms?iri=http%3A%2F%2Fpurl.obolibrary.org%2Fobo%2FCL_0000359\thttp://purl.obolibrary.org/obo/CL_0000359\nstromal cells\tLung\tStumpy_10X\tstromal\t31\t\t\tstromal cell\thttps://www.ebi.ac.uk/ols/ontologies/cl/terms?iri=http%3A%2F%2Fpurl.obolibrary.org%2Fobo%2FCL_0000499\thttp://purl.obolibrary.org/obo/CL_0000499\nt cells (CD4+ CD8+)\tLung\tAntoine_10X\timmune\t393\t\t\tT cell\thttps://www.ebi.ac.uk/ols/ontologies/cl/terms?iri=http%3A%2F%2Fpurl.obolibrary.org%2Fobo%2FCL_0000084\thttp://purl.obolibrary.org/obo/CL_0000084\nt cells (CD4+ CD8-)\tLung\tAntoine_10X\timmune\t485\t\t\tCD4-positive, alpha-beta T cell\thttps://www.ebi.ac.uk/ols/ontologies/cl/terms?iri=http%3A%2F%2Fpurl.obolibrary.org%2Fobo%2FCL_0000624\thttp://purl.obolibrary.org/obo/CL_0000624\nt cells (CD4+low CD8+)\tLung\tAntoine_10X\timmune\t685\t\t\tT cell\thttps://www.ebi.ac.uk/ols/ontologies/cl/terms?iri=http%3A%2F%2Fpurl.obolibrary.org%2Fobo%2FCL_0000084\thttp://purl.obolibrary.org/obo/CL_0000084\nt cells (CD4+low CD8+low IL7R+)\tLung\tAntoine_10X\timmune\t1035\t\t\tT cell\thttps://www.ebi.ac.uk/ols/ontologies/cl/terms?iri=http%3A%2F%2Fpurl.obolibrary.org%2Fobo%2FCL_0000084\thttp://purl.obolibrary.org/obo/CL_0000084\nt cells (CD4+low CD8- CCR7+)\tLung\tBernard_10X;Martine_10X\timmune\t386\t\t\tT cell\thttps://www.ebi.ac.uk/ols/ontologies/cl/terms?iri=http%3A%2F%2Fpurl.obolibrary.org%2Fobo%2FCL_0000084\thttp://purl.obolibrary.org/obo/CL_0000084\nt cells (CD4+low CD8- IL7R+)\tLung\tAntoine_10X;Martine_10X\timmune\t833\t\t\tT cell\thttps://www.ebi.ac.uk/ols/ontologies/cl/terms?iri=http%3A%2F%2Fpurl.obolibrary.org%2Fobo%2FCL_0000084\thttp://purl.obolibrary.org/obo/CL_0000084\nt cells (CD4+low CD8-)\tLung\tBernard_10X\timmune\t267\t\t\tT cell\thttps://www.ebi.ac.uk/ols/ontologies/cl/terms?iri=http%3A%2F%2Fpurl.obolibrary.org%2Fobo%2FCL_0000084\thttp://purl.obolibrary.org/obo/CL_0000084\nt cells (CD4- CD8+)\tLung\tStumpy_10X;Martine_10X\timmune\t464\t\t\tCD8-positive, alpha-beta T cell\thttps://www.ebi.ac.uk/ols/ontologies/cl/terms?iri=http%3A%2F%2Fpurl.obolibrary.org%2Fobo%2FCL_0000625\thttp://purl.obolibrary.org/obo/CL_0000625\nt cells (MKI67+)\tLung\tBernard_10X\timmune\t10\t\t\tT cell\thttps://www.ebi.ac.uk/ols/ontologies/cl/terms?iri=http%3A%2F%2Fpurl.obolibrary.org%2Fobo%2FCL_0000084\thttp://purl.obolibrary.org/obo/CL_0000084\nt cells (STMN1+ MCM5+)\tLung\tAntoine_10X\timmune\t214\t\t\tT cell\thttps://www.ebi.ac.uk/ols/ontologies/cl/terms?iri=http%3A%2F%2Fpurl.obolibrary.org%2Fobo%2FCL_0000084\thttp://purl.obolibrary.org/obo/CL_0000084\nt cells (STMN1+ MKI67+)\tLung\tAntoine_10X\timmune\t232\t\t\tT cell\thttps://www.ebi.ac.uk/ols/ontologies/cl/terms?iri=http%3A%2F%2Fpurl.obolibrary.org%2Fobo%2FCL_0000084\thttp://purl.obolibrary.org/obo/CL_0000084\nt cells and nk cells (MKI67+)\tLung\tStumpy_10X\timmune\t23\t\t\tT cell\thttps://www.ebi.ac.uk/ols/ontologies/cl/terms?iri=http%3A%2F%2Fpurl.obolibrary.org%2Fobo%2FCL_0000084\thttp://purl.obolibrary.org/obo/CL_0000084\ntuft cells\tLung\tAntoine_10X\tepithelial\t15\t\t\tbrush cell\thttps://www.ebi.ac.uk/ols/ontologies/cl/terms?iri=http%3A%2F%2Fpurl.obolibrary.org%2Fobo%2FCL_0002204\thttp://purl.obolibrary.org/obo/CL_0002204\nunknown_Lung_endo_stromal_group1 (WT1+)\tLung\tMartine_10X\tstromal\t33\t\t\tNA\tNA\tNA\nunknown_Lung_endothelial_group1 (CLEC4G+)\tLung\tMartine_10X\tendothelial\t119\t\t\tNA\tNA\tNA\nunknown_Lung_endothelial_group2 (MGP+)\tLung\tMartine_10X\tendothelial\t123\t\t\tNA\tNA\tNA\nunknown_Lung_endothelial_group3 (SCIN+)\tLung\tMartine_10X\tendothelial\t70\t\t\tNA\tNA\tNA\nunknown_Lung_endothelial_group4 (VWF+)\tLung\tMartine_10X\tendothelial\t536\t\t\tNA\tNA\tNA\nunknown_Lung_endothelial_group5 (VWF+ SPARCL1+)\tLung\tMartine_10X\tendothelial\t223\t\t\tNA\tNA\tNA\nunknown_Lung_endothelial_group6 (VWF+ SPARCL1+ PTN+)\tLung\tMartine_10X\tendothelial\t142\t\t\tNA\tNA\tNA\nunknown_Lung_epithelial_group1 (SLC34A1+)\tLung\tMartine_10X\tepithelial\t598\t\t\tNA\tNA\tNA\nunknown_Lung_epithelial_group10 (ATP6V1G3++)\tLung\tMartine_10X\tepithelial\t71\t\t\tNA\tNA\tNA\nunknown_Lung_epithelial_group11 (INSRR+)\tLung\tMartine_10X\tepithelial\t28\t\t\tNA\tNA\tNA\nunknown_Lung_epithelial_group2 (S100A10+)\tLung\tMartine_10X\tepithelial\t267\t\t\tNA\tNA\tNA\nunknown_Lung_epithelial_group3 (FTL++)\tLung\tMartine_10X\tepithelial\t255\t\t\tNA\tNA\tNA\nunknown_Lung_epithelial_group4 (CLU+)\tLung\tMartine_10X\tepithelial\t395\t\t\tNA\tNA\tNA\nunknown_Lung_epithelial_group5 (PPP1RA1+)\tLung\tMartine_10X\tepithelial\t355\t\t\tNA\tNA\tNA\nunknown_Lung_epithelial_group6 (MUC20+)\tLung\tMartine_10X\tepithelial\t489\t\t\tNA\tNA\tNA\nunknown_Lung_epithelial_group7 (TACSTD2+)\tLung\tMartine_10X\tepithelial\t356\t\t\tNA\tNA\tNA\nunknown_Lung_epithelial_group8 (MUC20+ CALB1+)\tLung\tMartine_10X\tepithelial\t100\t\t\tNA\tNA\tNA\nunknown_Lung_epithelial_group9 (IRX2+)\tLung\tMartine_10X\tepithelial\t77\t\t\tNA\tNA\tNA\nunknown_Lung_myeloid_group1 (S100A8- S100A10+)\tLung\tAntoine_10X\timmune\t282\t\t\tNA\tNA\tNA\nunknown_Lung_stromal_group1 (low quality)\tLung\tBernard_10X\tstromal\t19\t\t\tNA\tNA\tNA\nuterine adenocarcinoma metastasis (IL1R1+)\tLung\tStumpy_10X\tepithelial\t39\t\t\tNA\tNA\tNA\nuterine adenocarcinoma metastasis (PSMB3+)\tLung\tStumpy_10X\tepithelial\t35\t\t\tNA\tNA\tNA\nvein cells\tLung\tAntoine_10X\tendothelial\t180\t\t\tvein endothelial cell\thttp://purl.obolibrary.org/obo/CL_0002543\thttps://www.ebi.ac.uk/ols/ontologies/cl/terms?iri=http%3A%2F%2Fpurl.obolibrary.org%2Fobo%2FCL_0002543'''\nlemur_ontology_df = pd.read_csv(StringIO(s), sep='\\t', index_col=0)\nprint(lemur_ontology_df.shape)\nlemur_ontology_df.head()"
    },
    "executionTime": "2019-12-15T02:29:54.207Z"
   },
   {
    "cell": {
     "executionCount": 127,
     "executionEventId": "84d1c73f-f792-49e1-87ab-7f48c759aaa5",
     "hasError": true,
     "id": "6ba941dc-1a9d-47bc-9cdf-6c5563477b2f",
     "outputs": [
      {
       "ename": "AttributeError",
       "evalue": "'DataFrame' object has no attribute 'free_annotation'",
       "output_type": "error",
       "traceback": [
        "\u001b[0;31m---------------------------------------------------------------------------\u001b[0m",
        "\u001b[0;31mAttributeError\u001b[0m                            Traceback (most recent call last)",
        "\u001b[0;32m<ipython-input-127-7a26ec86bf7a>\u001b[0m in \u001b[0;36m<module>\u001b[0;34m\u001b[0m\n\u001b[0;32m----> 1\u001b[0;31m \u001b[0mlemur\u001b[0m\u001b[0;34m.\u001b[0m\u001b[0mvar\u001b[0m\u001b[0;34m[\u001b[0m\u001b[0;34m'cell_ontology_class'\u001b[0m\u001b[0;34m]\u001b[0m \u001b[0;34m=\u001b[0m \u001b[0mlemur\u001b[0m\u001b[0;34m.\u001b[0m\u001b[0mvar\u001b[0m\u001b[0;34m.\u001b[0m\u001b[0mfree_annotation\u001b[0m\u001b[0;34m.\u001b[0m\u001b[0mmap\u001b[0m\u001b[0;34m(\u001b[0m\u001b[0mlemur_ontology_df\u001b[0m\u001b[0;34m.\u001b[0m\u001b[0mcell_ontology_class\u001b[0m\u001b[0;34m)\u001b[0m\u001b[0;34m\u001b[0m\u001b[0;34m\u001b[0m\u001b[0m\n\u001b[0m\u001b[1;32m      2\u001b[0m \u001b[0mlemur\u001b[0m\u001b[0;34m.\u001b[0m\u001b[0mvar\u001b[0m\u001b[0;34m.\u001b[0m\u001b[0mhead\u001b[0m\u001b[0;34m(\u001b[0m\u001b[0;34m)\u001b[0m\u001b[0;34m\u001b[0m\u001b[0;34m\u001b[0m\u001b[0m\n",
        "\u001b[0;32m~/miniconda3/envs/sc-tutorial/lib/python3.7/site-packages/pandas/core/generic.py\u001b[0m in \u001b[0;36m__getattr__\u001b[0;34m(self, name)\u001b[0m\n\u001b[1;32m   5177\u001b[0m             \u001b[0;32mif\u001b[0m \u001b[0mself\u001b[0m\u001b[0;34m.\u001b[0m\u001b[0m_info_axis\u001b[0m\u001b[0;34m.\u001b[0m\u001b[0m_can_hold_identifiers_and_holds_name\u001b[0m\u001b[0;34m(\u001b[0m\u001b[0mname\u001b[0m\u001b[0;34m)\u001b[0m\u001b[0;34m:\u001b[0m\u001b[0;34m\u001b[0m\u001b[0;34m\u001b[0m\u001b[0m\n\u001b[1;32m   5178\u001b[0m                 \u001b[0;32mreturn\u001b[0m \u001b[0mself\u001b[0m\u001b[0;34m[\u001b[0m\u001b[0mname\u001b[0m\u001b[0;34m]\u001b[0m\u001b[0;34m\u001b[0m\u001b[0;34m\u001b[0m\u001b[0m\n\u001b[0;32m-> 5179\u001b[0;31m             \u001b[0;32mreturn\u001b[0m \u001b[0mobject\u001b[0m\u001b[0;34m.\u001b[0m\u001b[0m__getattribute__\u001b[0m\u001b[0;34m(\u001b[0m\u001b[0mself\u001b[0m\u001b[0;34m,\u001b[0m \u001b[0mname\u001b[0m\u001b[0;34m)\u001b[0m\u001b[0;34m\u001b[0m\u001b[0;34m\u001b[0m\u001b[0m\n\u001b[0m\u001b[1;32m   5180\u001b[0m \u001b[0;34m\u001b[0m\u001b[0m\n\u001b[1;32m   5181\u001b[0m     \u001b[0;32mdef\u001b[0m \u001b[0m__setattr__\u001b[0m\u001b[0;34m(\u001b[0m\u001b[0mself\u001b[0m\u001b[0;34m,\u001b[0m \u001b[0mname\u001b[0m\u001b[0;34m,\u001b[0m \u001b[0mvalue\u001b[0m\u001b[0;34m)\u001b[0m\u001b[0;34m:\u001b[0m\u001b[0;34m\u001b[0m\u001b[0;34m\u001b[0m\u001b[0m\n",
        "\u001b[0;31mAttributeError\u001b[0m: 'DataFrame' object has no attribute 'free_annotation'"
       ]
      }
     ],
     "persistentId": "2e75524c-1b4f-4173-a06c-cbef84e78154",
     "text": "lemur.var['cell_ontology_class'] = lemur.var.free_annotation.map(lemur_ontology_df.cell_ontology_class)\nlemur.var.head()"
    },
    "executionTime": "2019-12-15T02:30:17.692Z"
   },
   {
    "cell": {
     "executionCount": 128,
     "executionEventId": "93279c92-0dc0-4c66-9068-4602346f3fc6",
     "hasError": false,
     "id": "6ba941dc-1a9d-47bc-9cdf-6c5563477b2f",
     "outputs": [
      {
       "data": {
        "text/html": "<div>\n<style scoped>\n    .dataframe tbody tr th:only-of-type {\n        vertical-align: middle;\n    }\n\n    .dataframe tbody tr th {\n        vertical-align: top;\n    }\n\n    .dataframe thead th {\n        text-align: right;\n    }\n</style>\n<table border=\"1\" class=\"dataframe\">\n  <thead>\n    <tr style=\"text-align: right;\">\n      <th></th>\n      <th>n_genes</th>\n      <th>n_counts</th>\n      <th>orig_ident</th>\n      <th>channel</th>\n      <th>tissue</th>\n      <th>region</th>\n      <th>individual</th>\n      <th>species</th>\n      <th>method</th>\n      <th>processed</th>\n      <th>...</th>\n      <th>macrophage_score</th>\n      <th>plasma_score</th>\n      <th>muscle_score</th>\n      <th>stromal_score</th>\n      <th>neuronal_score</th>\n      <th>adipose_score</th>\n      <th>compartment_original</th>\n      <th>compartment_final</th>\n      <th>leiden</th>\n      <th>cell_ontology_class</th>\n    </tr>\n    <tr>\n      <th>index</th>\n      <th></th>\n      <th></th>\n      <th></th>\n      <th></th>\n      <th></th>\n      <th></th>\n      <th></th>\n      <th></th>\n      <th></th>\n      <th></th>\n      <th></th>\n      <th></th>\n      <th></th>\n      <th></th>\n      <th></th>\n      <th></th>\n      <th></th>\n      <th></th>\n      <th></th>\n      <th></th>\n      <th></th>\n    </tr>\n  </thead>\n  <tbody>\n    <tr>\n      <th>Antoine_Lung_CD31_10X_AAACCTGAGAAACGAG</th>\n      <td>2849</td>\n      <td>11156.0</td>\n      <td>Antoine</td>\n      <td>Antoine_Lung_CD31_10X</td>\n      <td>Lung</td>\n      <td>CD31</td>\n      <td>Antoine</td>\n      <td>Lemur</td>\n      <td>10X</td>\n      <td>Biohub</td>\n      <td>...</td>\n      <td>2.015433</td>\n      <td>0.399618</td>\n      <td>-0.064268</td>\n      <td>-0.241688</td>\n      <td>-0.034718</td>\n      <td>-0.023589</td>\n      <td>macrophage</td>\n      <td>immune</td>\n      <td>5</td>\n      <td>macrophage</td>\n    </tr>\n    <tr>\n      <th>Antoine_Lung_CD31_10X_AAACCTGAGATGTTAG</th>\n      <td>2096</td>\n      <td>5450.0</td>\n      <td>Antoine</td>\n      <td>Antoine_Lung_CD31_10X</td>\n      <td>Lung</td>\n      <td>CD31</td>\n      <td>Antoine</td>\n      <td>Lemur</td>\n      <td>10X</td>\n      <td>Biohub</td>\n      <td>...</td>\n      <td>2.115203</td>\n      <td>-0.571349</td>\n      <td>-0.064268</td>\n      <td>-0.241688</td>\n      <td>-0.034718</td>\n      <td>-0.023589</td>\n      <td>macrophage</td>\n      <td>immune</td>\n      <td>65</td>\n      <td>NaN</td>\n    </tr>\n    <tr>\n      <th>Antoine_Lung_CD31_10X_AAACCTGAGCGTAGTG</th>\n      <td>776</td>\n      <td>1138.0</td>\n      <td>Antoine</td>\n      <td>Antoine_Lung_CD31_10X</td>\n      <td>Lung</td>\n      <td>CD31</td>\n      <td>Antoine</td>\n      <td>Lemur</td>\n      <td>10X</td>\n      <td>Biohub</td>\n      <td>...</td>\n      <td>0.890181</td>\n      <td>-0.571349</td>\n      <td>-0.064268</td>\n      <td>-0.241688</td>\n      <td>-0.034718</td>\n      <td>-0.023589</td>\n      <td>endothelial</td>\n      <td>endothelial</td>\n      <td>60</td>\n      <td>lung endothelial cell</td>\n    </tr>\n    <tr>\n      <th>Antoine_Lung_CD31_10X_AAACCTGAGGCAGTCA</th>\n      <td>2863</td>\n      <td>11950.0</td>\n      <td>Antoine</td>\n      <td>Antoine_Lung_CD31_10X</td>\n      <td>Lung</td>\n      <td>CD31</td>\n      <td>Antoine</td>\n      <td>Lemur</td>\n      <td>10X</td>\n      <td>Biohub</td>\n      <td>...</td>\n      <td>0.025662</td>\n      <td>-0.571349</td>\n      <td>-0.064268</td>\n      <td>-0.241688</td>\n      <td>-0.034718</td>\n      <td>-0.023589</td>\n      <td>epithelial</td>\n      <td>epithelial</td>\n      <td>17</td>\n      <td>type II pneumocyte</td>\n    </tr>\n    <tr>\n      <th>Antoine_Lung_CD31_10X_AAACCTGAGGGTGTGT</th>\n      <td>3417</td>\n      <td>13559.0</td>\n      <td>Antoine</td>\n      <td>Antoine_Lung_CD31_10X</td>\n      <td>Lung</td>\n      <td>CD31</td>\n      <td>Antoine</td>\n      <td>Lemur</td>\n      <td>10X</td>\n      <td>Biohub</td>\n      <td>...</td>\n      <td>1.962445</td>\n      <td>-0.571349</td>\n      <td>-0.064268</td>\n      <td>-0.241688</td>\n      <td>-0.034718</td>\n      <td>-0.023589</td>\n      <td>macrophage</td>\n      <td>immune</td>\n      <td>20</td>\n      <td>macrophage</td>\n    </tr>\n  </tbody>\n</table>\n<p>5 rows × 29 columns</p>\n</div>",
        "text/plain": "                                        n_genes  n_counts orig_ident  \\\nindex                                                                  \nAntoine_Lung_CD31_10X_AAACCTGAGAAACGAG     2849   11156.0    Antoine   \nAntoine_Lung_CD31_10X_AAACCTGAGATGTTAG     2096    5450.0    Antoine   \nAntoine_Lung_CD31_10X_AAACCTGAGCGTAGTG      776    1138.0    Antoine   \nAntoine_Lung_CD31_10X_AAACCTGAGGCAGTCA     2863   11950.0    Antoine   \nAntoine_Lung_CD31_10X_AAACCTGAGGGTGTGT     3417   13559.0    Antoine   \n\n                                                      channel tissue region  \\\nindex                                                                         \nAntoine_Lung_CD31_10X_AAACCTGAGAAACGAG  Antoine_Lung_CD31_10X   Lung   CD31   \nAntoine_Lung_CD31_10X_AAACCTGAGATGTTAG  Antoine_Lung_CD31_10X   Lung   CD31   \nAntoine_Lung_CD31_10X_AAACCTGAGCGTAGTG  Antoine_Lung_CD31_10X   Lung   CD31   \nAntoine_Lung_CD31_10X_AAACCTGAGGCAGTCA  Antoine_Lung_CD31_10X   Lung   CD31   \nAntoine_Lung_CD31_10X_AAACCTGAGGGTGTGT  Antoine_Lung_CD31_10X   Lung   CD31   \n\n                                       individual species method processed  \\\nindex                                                                        \nAntoine_Lung_CD31_10X_AAACCTGAGAAACGAG    Antoine   Lemur    10X    Biohub   \nAntoine_Lung_CD31_10X_AAACCTGAGATGTTAG    Antoine   Lemur    10X    Biohub   \nAntoine_Lung_CD31_10X_AAACCTGAGCGTAGTG    Antoine   Lemur    10X    Biohub   \nAntoine_Lung_CD31_10X_AAACCTGAGGCAGTCA    Antoine   Lemur    10X    Biohub   \nAntoine_Lung_CD31_10X_AAACCTGAGGGTGTGT    Antoine   Lemur    10X    Biohub   \n\n                                        ...  macrophage_score plasma_score  \\\nindex                                   ...                                  \nAntoine_Lung_CD31_10X_AAACCTGAGAAACGAG  ...          2.015433     0.399618   \nAntoine_Lung_CD31_10X_AAACCTGAGATGTTAG  ...          2.115203    -0.571349   \nAntoine_Lung_CD31_10X_AAACCTGAGCGTAGTG  ...          0.890181    -0.571349   \nAntoine_Lung_CD31_10X_AAACCTGAGGCAGTCA  ...          0.025662    -0.571349   \nAntoine_Lung_CD31_10X_AAACCTGAGGGTGTGT  ...          1.962445    -0.571349   \n\n                                       muscle_score  stromal_score  \\\nindex                                                                \nAntoine_Lung_CD31_10X_AAACCTGAGAAACGAG    -0.064268      -0.241688   \nAntoine_Lung_CD31_10X_AAACCTGAGATGTTAG    -0.064268      -0.241688   \nAntoine_Lung_CD31_10X_AAACCTGAGCGTAGTG    -0.064268      -0.241688   \nAntoine_Lung_CD31_10X_AAACCTGAGGCAGTCA    -0.064268      -0.241688   \nAntoine_Lung_CD31_10X_AAACCTGAGGGTGTGT    -0.064268      -0.241688   \n\n                                        neuronal_score  adipose_score  \\\nindex                                                                   \nAntoine_Lung_CD31_10X_AAACCTGAGAAACGAG       -0.034718      -0.023589   \nAntoine_Lung_CD31_10X_AAACCTGAGATGTTAG       -0.034718      -0.023589   \nAntoine_Lung_CD31_10X_AAACCTGAGCGTAGTG       -0.034718      -0.023589   \nAntoine_Lung_CD31_10X_AAACCTGAGGCAGTCA       -0.034718      -0.023589   \nAntoine_Lung_CD31_10X_AAACCTGAGGGTGTGT       -0.034718      -0.023589   \n\n                                        compartment_original  \\\nindex                                                          \nAntoine_Lung_CD31_10X_AAACCTGAGAAACGAG            macrophage   \nAntoine_Lung_CD31_10X_AAACCTGAGATGTTAG            macrophage   \nAntoine_Lung_CD31_10X_AAACCTGAGCGTAGTG           endothelial   \nAntoine_Lung_CD31_10X_AAACCTGAGGCAGTCA            epithelial   \nAntoine_Lung_CD31_10X_AAACCTGAGGGTGTGT            macrophage   \n\n                                        compartment_final  leiden  \\\nindex                                                               \nAntoine_Lung_CD31_10X_AAACCTGAGAAACGAG             immune       5   \nAntoine_Lung_CD31_10X_AAACCTGAGATGTTAG             immune      65   \nAntoine_Lung_CD31_10X_AAACCTGAGCGTAGTG        endothelial      60   \nAntoine_Lung_CD31_10X_AAACCTGAGGCAGTCA         epithelial      17   \nAntoine_Lung_CD31_10X_AAACCTGAGGGTGTGT             immune      20   \n\n                                          cell_ontology_class  \nindex                                                          \nAntoine_Lung_CD31_10X_AAACCTGAGAAACGAG             macrophage  \nAntoine_Lung_CD31_10X_AAACCTGAGATGTTAG                    NaN  \nAntoine_Lung_CD31_10X_AAACCTGAGCGTAGTG  lung endothelial cell  \nAntoine_Lung_CD31_10X_AAACCTGAGGCAGTCA     type II pneumocyte  \nAntoine_Lung_CD31_10X_AAACCTGAGGGTGTGT             macrophage  \n\n[5 rows x 29 columns]"
       },
       "execution_count": 128,
       "metadata": {},
       "output_type": "execute_result"
      }
     ],
     "persistentId": "2e75524c-1b4f-4173-a06c-cbef84e78154",
     "text": "lemur.obs['cell_ontology_class'] = lemur.obs.free_annotation.map(lemur_ontology_df.cell_ontology_class)\nlemur.obs.head()"
    },
    "executionTime": "2019-12-15T02:30:28.208Z"
   },
   {
    "cell": {
     "executionCount": 129,
     "executionEventId": "78d49bb2-cd89-4c55-aaec-f5f81b157c71",
     "hasError": false,
     "id": "791c182f-9b2d-4634-a3fb-effd2b1ef8e6",
     "outputs": [
      {
       "data": {
        "text/plain": "neutrophils                     3028\nmacrophages (MARCO+)            2158\nnk cells (KLRB1+)               1688\nmonocytes                       1654\ncapillary cells (type 2)        1411\n                                ... \nciliated cells                    22\ndoublets_neutrophils_t cells      22\nbasal cells                       17\ntuft cells                        15\ndoublets                           3\nName: free_annotation, Length: 62, dtype: int64"
       },
       "execution_count": 129,
       "metadata": {},
       "output_type": "execute_result"
      }
     ],
     "persistentId": "944fdac1-98e7-4a22-9472-bde1b58de326",
     "text": "lemur.obs.free_annotation.value_counts()"
    },
    "executionTime": "2019-12-15T02:30:35.045Z"
   },
   {
    "cell": {
     "executionCount": 130,
     "executionEventId": "f216ccd3-683a-4b7f-ad22-205e9f22c78c",
     "hasError": false,
     "id": "51b5376b-6abe-4e84-b803-80cdd3d89bf0",
     "outputs": [
      {
       "name": "stdout",
       "output_type": "stream",
       "text": "(117, 9)\n"
      },
      {
       "data": {
        "text/html": "<div>\n<style scoped>\n    .dataframe tbody tr th:only-of-type {\n        vertical-align: middle;\n    }\n\n    .dataframe tbody tr th {\n        vertical-align: top;\n    }\n\n    .dataframe thead th {\n        text-align: right;\n    }\n</style>\n<table border=\"1\" class=\"dataframe\">\n  <thead>\n    <tr style=\"text-align: right;\">\n      <th></th>\n      <th>tissue</th>\n      <th>individuals_methods</th>\n      <th>compartments_merged</th>\n      <th>n_cells</th>\n      <th>comments</th>\n      <th>confidence_-1=missing_0=unsure_1=definitely</th>\n      <th>cell_ontology_class</th>\n      <th>ontology_lookup_service</th>\n      <th>permanent_url</th>\n    </tr>\n    <tr>\n      <th>free_annotation</th>\n      <th></th>\n      <th></th>\n      <th></th>\n      <th></th>\n      <th></th>\n      <th></th>\n      <th></th>\n      <th></th>\n      <th></th>\n    </tr>\n  </thead>\n  <tbody>\n    <tr>\n      <th>unknown_Lung_myeloid_group1 (S100A8- S100A10+)</th>\n      <td>Lung</td>\n      <td>Antoine_10X</td>\n      <td>immune</td>\n      <td>282</td>\n      <td>NaN</td>\n      <td>NaN</td>\n      <td>NaN</td>\n      <td>NaN</td>\n      <td>NaN</td>\n    </tr>\n    <tr>\n      <th>unknown_Lung_stromal_group1 (low quality)</th>\n      <td>Lung</td>\n      <td>Bernard_10X</td>\n      <td>stromal</td>\n      <td>19</td>\n      <td>NaN</td>\n      <td>NaN</td>\n      <td>NaN</td>\n      <td>NaN</td>\n      <td>NaN</td>\n    </tr>\n    <tr>\n      <th>uterine adenocarcinoma metastasis (IL1R1+)</th>\n      <td>Lung</td>\n      <td>Stumpy_10X</td>\n      <td>epithelial</td>\n      <td>39</td>\n      <td>NaN</td>\n      <td>NaN</td>\n      <td>NaN</td>\n      <td>NaN</td>\n      <td>NaN</td>\n    </tr>\n    <tr>\n      <th>uterine adenocarcinoma metastasis (PSMB3+)</th>\n      <td>Lung</td>\n      <td>Stumpy_10X</td>\n      <td>epithelial</td>\n      <td>35</td>\n      <td>NaN</td>\n      <td>NaN</td>\n      <td>NaN</td>\n      <td>NaN</td>\n      <td>NaN</td>\n    </tr>\n    <tr>\n      <th>vein cells</th>\n      <td>Lung</td>\n      <td>Antoine_10X</td>\n      <td>endothelial</td>\n      <td>180</td>\n      <td>NaN</td>\n      <td>NaN</td>\n      <td>vein endothelial cell</td>\n      <td>http://purl.obolibrary.org/obo/CL_0002543</td>\n      <td>https://www.ebi.ac.uk/ols/ontologies/cl/terms?...</td>\n    </tr>\n  </tbody>\n</table>\n</div>",
        "text/plain": "                                               tissue individuals_methods  \\\nfree_annotation                                                             \nunknown_Lung_myeloid_group1 (S100A8- S100A10+)   Lung         Antoine_10X   \nunknown_Lung_stromal_group1 (low quality)        Lung         Bernard_10X   \nuterine adenocarcinoma metastasis (IL1R1+)       Lung          Stumpy_10X   \nuterine adenocarcinoma metastasis (PSMB3+)       Lung          Stumpy_10X   \nvein cells                                       Lung         Antoine_10X   \n\n                                               compartments_merged  n_cells  \\\nfree_annotation                                                               \nunknown_Lung_myeloid_group1 (S100A8- S100A10+)              immune      282   \nunknown_Lung_stromal_group1 (low quality)                  stromal       19   \nuterine adenocarcinoma metastasis (IL1R1+)              epithelial       39   \nuterine adenocarcinoma metastasis (PSMB3+)              epithelial       35   \nvein cells                                             endothelial      180   \n\n                                                comments  \\\nfree_annotation                                            \nunknown_Lung_myeloid_group1 (S100A8- S100A10+)       NaN   \nunknown_Lung_stromal_group1 (low quality)            NaN   \nuterine adenocarcinoma metastasis (IL1R1+)           NaN   \nuterine adenocarcinoma metastasis (PSMB3+)           NaN   \nvein cells                                           NaN   \n\n                                                confidence_-1=missing_0=unsure_1=definitely  \\\nfree_annotation                                                                               \nunknown_Lung_myeloid_group1 (S100A8- S100A10+)                                          NaN   \nunknown_Lung_stromal_group1 (low quality)                                               NaN   \nuterine adenocarcinoma metastasis (IL1R1+)                                              NaN   \nuterine adenocarcinoma metastasis (PSMB3+)                                              NaN   \nvein cells                                                                              NaN   \n\n                                                  cell_ontology_class  \\\nfree_annotation                                                         \nunknown_Lung_myeloid_group1 (S100A8- S100A10+)                    NaN   \nunknown_Lung_stromal_group1 (low quality)                         NaN   \nuterine adenocarcinoma metastasis (IL1R1+)                        NaN   \nuterine adenocarcinoma metastasis (PSMB3+)                        NaN   \nvein cells                                      vein endothelial cell   \n\n                                                                  ontology_lookup_service  \\\nfree_annotation                                                                             \nunknown_Lung_myeloid_group1 (S100A8- S100A10+)                                        NaN   \nunknown_Lung_stromal_group1 (low quality)                                             NaN   \nuterine adenocarcinoma metastasis (IL1R1+)                                            NaN   \nuterine adenocarcinoma metastasis (PSMB3+)                                            NaN   \nvein cells                                      http://purl.obolibrary.org/obo/CL_0002543   \n\n                                                                                    permanent_url  \nfree_annotation                                                                                    \nunknown_Lung_myeloid_group1 (S100A8- S100A10+)                                                NaN  \nunknown_Lung_stromal_group1 (low quality)                                                     NaN  \nuterine adenocarcinoma metastasis (IL1R1+)                                                    NaN  \nuterine adenocarcinoma metastasis (PSMB3+)                                                    NaN  \nvein cells                                      https://www.ebi.ac.uk/ols/ontologies/cl/terms?...  "
       },
       "execution_count": 130,
       "metadata": {},
       "output_type": "execute_result"
      }
     ],
     "persistentId": "07aaa798-7692-4e61-a78e-e31cb96a1c0b",
     "text": "s = '''free_annotation\ttissue\tindividuals_methods\tcompartments_merged\tn_cells\tcomments\tconfidence_-1=missing_0=unsure_1=definitely\tcell_ontology_class\tontology_lookup_service\tpermanent_url\nalveolar epithelial cells (type 1 low quality BTG1-)\tLung\tBernard_10X\tepithelial\t14\t\t\ttype I pneumocyte\thttp://purl.obolibrary.org/obo/CL_0002062\thttps://www.ebi.ac.uk/ols/ontologies/cl/terms?iri=http%3A%2F%2Fpurl.obolibrary.org%2Fobo%2FCL_0002062\nalveolar epithelial cells (type 1)\tLung\tBernard_10X;Antoine_10X;Stumpy_10X\tepithelial\t172\t\t\ttype I pneumocyte\thttp://purl.obolibrary.org/obo/CL_0002062\thttps://www.ebi.ac.uk/ols/ontologies/cl/terms?iri=http%3A%2F%2Fpurl.obolibrary.org%2Fobo%2FCL_0002062\nalveolar epithelial cells (type 2 SFTPD+high)\tLung\tStumpy_10X\tepithelial\t33\t\t\ttype II pneumocyte\thttp://purl.obolibrary.org/obo/CL_0002063\thttps://www.ebi.ac.uk/ols/ontologies/cl/terms?iri=http%3A%2F%2Fpurl.obolibrary.org%2Fobo%2FCL_0002063\nalveolar epithelial cells (type 2)\tLung\tBernard_10X;Antoine_10X;Stumpy_10X\tepithelial\t830\t\t\ttype II pneumocyte\thttp://purl.obolibrary.org/obo/CL_0002063\thttps://www.ebi.ac.uk/ols/ontologies/cl/terms?iri=http%3A%2F%2Fpurl.obolibrary.org%2Fobo%2FCL_0002063\nartery cells\tLung\tAntoine_10X\tendothelial\t203\t\t\tlung endothelial cell\thttp://purl.obolibrary.org/obo/CL_1001567\thttps://www.ebi.ac.uk/ols/ontologies/cl/terms?iri=http%3A%2F%2Fpurl.obolibrary.org%2Fobo%2FCL_1001567&viewMode=All&siblings=false\nb cells\tLung\tBernard_10X;Antoine_10X;Martine_10X\timmune\t399\t\t\tB cell\thttp://purl.obolibrary.org/obo/CL_0000236\thttps://www.ebi.ac.uk/ols/ontologies/cl/terms?iri=http%3A%2F%2Fpurl.obolibrary.org%2Fobo%2FCL_0000236\nb cells (plasma)\tLung\tAntoine_10X;Martine_10X\timmune\t202\t\t\tplasma cell\thttp://purl.obolibrary.org/obo/CL_0000786\thttps://www.ebi.ac.uk/ols/ontologies/cl/terms?iri=http%3A%2F%2Fpurl.obolibrary.org%2Fobo%2FCL_0000786\nbasal cells\tLung\tAntoine_10X\tepithelial\t17\t\t\tbasal cell\thttp://purl.obolibrary.org/obo/CL_0000646\thttps://www.ebi.ac.uk/ols/ontologies/cl/terms?iri=http%3A%2F%2Fpurl.obolibrary.org%2Fobo%2FCL_0000646\ncapillary cells (CX3CL1+)\tLung\tAntoine_10X\tendothelial\t56\t\t\tcapillary endothelial cell\thttp://purl.obolibrary.org/obo/CL_0002144\thttps://www.ebi.ac.uk/ols/ontologies/cl/terms?iri=http%3A%2F%2Fpurl.obolibrary.org%2Fobo%2FCL_0002144\ncapillary cells (type 1)\tLung\tAntoine_10X\tendothelial\t974\t\t\tcapillary endothelial cell\thttp://purl.obolibrary.org/obo/CL_0002144\thttps://www.ebi.ac.uk/ols/ontologies/cl/terms?iri=http%3A%2F%2Fpurl.obolibrary.org%2Fobo%2FCL_0002144\ncapillary cells (type 2)\tLung\tAntoine_10X\tendothelial\t1411\t\t\tcapillary endothelial cell\thttp://purl.obolibrary.org/obo/CL_0002144\thttps://www.ebi.ac.uk/ols/ontologies/cl/terms?iri=http%3A%2F%2Fpurl.obolibrary.org%2Fobo%2FCL_0002144\nciliated cells\tLung\tBernard_10X;Antoine_10X;Stumpy_10X\tepithelial\t29\t\t\tlung ciliated cell\thttp://purl.obolibrary.org/obo/CL_1000271\thttps://www.ebi.ac.uk/ols/ontologies/cl/terms?iri=http%3A%2F%2Fpurl.obolibrary.org%2Fobo%2FCL_1000271\nclub cells\tLung\tAntoine_10X\tepithelial\t27\t\t\tclub cell\thttp://purl.obolibrary.org/obo/CL_0000158\thttps://www.ebi.ac.uk/ols/ontologies/cl/terms?iri=http%3A%2F%2Fpurl.obolibrary.org%2Fobo%2FCL_0000158\ndendritic cells (conventional)\tLung\tAntoine_10X;Martine_10X\timmune\t161\t\t\tdendritic cell\thttp://purl.obolibrary.org/obo/CL_0000451\thttps://www.ebi.ac.uk/ols/ontologies/cl/terms?iri=http%3A%2F%2Fpurl.obolibrary.org%2Fobo%2FCL_0000451\ndendritic cells (mature)\tLung\tAntoine_10X\timmune\t98\t\t\tdendritic cell\thttp://purl.obolibrary.org/obo/CL_0000451\thttps://www.ebi.ac.uk/ols/ontologies/cl/terms?iri=http%3A%2F%2Fpurl.obolibrary.org%2Fobo%2FCL_0000451\ndendritic cells (plasmacytoid)\tLung\tAntoine_10X;Martine_10X\timmune\t88\t\t\tplasmacytoid dendritic cell\thttp://purl.obolibrary.org/obo/CL_0000784\thttps://www.ebi.ac.uk/ols/ontologies/cl/terms?iri=http%3A%2F%2Fpurl.obolibrary.org%2Fobo%2FCL_0000784\ndoublets\tLung\tAntoine_10X\timmune\t3\t\t\tNA\tNA\tNA\ndoublets_b cells_t cells\tLung\tAntoine_10X\timmune\t32\t\t\tNA\tNA\tNA\ndoublets_endothelial_epithelial\tLung\tAntoine_10X\tendothelial;epithelial\t180\t\t\tNA\tNA\tNA\ndoublets_endothelial_immune\tLung\tBernard_10X;Antoine_10X;Stumpy_10X\tendothelial;immune\t476\t\t\tNA\tNA\tNA\ndoublets_endothelial_stromal\tLung\tAntoine_10X\tstromal\t46\t\t\tNA\tNA\tNA\ndoublets_epithelial_immune\tLung\tBernard_10X;Antoine_10X;Martine_10X\tepithelial;immune\t143\t\t\tNA\tNA\tNA\ndoublets_epithelial_stromal\tLung\tAntoine_10X\tepithelial\t113\t\t\tNA\tNA\tNA\ndoublets_immune_stromal\tLung\tAntoine_10X\tstromal\t126\t\t\tNA\tNA\tNA\ndoublets_lymphoid_myeloid\tLung\tAntoine_10X\timmune\t136\t\t\tNA\tNA\tNA\ndoublets_monocytes_neutrophils\tLung\tAntoine_10X\timmune\t133\t\t\tNA\tNA\tNA\ndoublets_neutrophils_t cells\tLung\tAntoine_10X\timmune\t22\t\t\tNA\tNA\tNA\ndoublets_t cells_neutrophils\tLung\tBernard_10X\timmune\t24\t\t\tNA\tNA\tNA\nendothelial cells\tLung\tBernard_10X;Stumpy_10X\tendothelial\t225\t\t\tendothelial cell\thttps://www.ebi.ac.uk/ols/ontologies/cl/terms?iri=http%3A%2F%2Fpurl.obolibrary.org%2Fobo%2FCL_0000115\thttp://purl.obolibrary.org/obo/CL_0000115\nerythrocytes\tLung\tBernard_10X;Martine_10X\terythrocyte\t45\t\t\terythrocyte\thttps://www.ebi.ac.uk/ols/ontologies/cl/terms?iri=http%3A%2F%2Fpurl.obolibrary.org%2Fobo%2FCL_0000232\thttp://purl.obolibrary.org/obo/CL_0000232\nfibroblasts\tLung\tBernard_10X\tstromal\t21\t\t\tfibroblast\thttps://www.ebi.ac.uk/ols/ontologies/cl/terms?iri=http%3A%2F%2Fpurl.obolibrary.org%2Fobo%2FCL_0000057\thttp://purl.obolibrary.org/obo/CL_0000057\nfibroblasts (CTGF+)\tLung\tBernard_10X\tstromal\t27\t\t\tfibroblast\thttps://www.ebi.ac.uk/ols/ontologies/cl/terms?iri=http%3A%2F%2Fpurl.obolibrary.org%2Fobo%2FCL_0000057\thttp://purl.obolibrary.org/obo/CL_0000057\nfibroblasts (adventitial NRXN1+)\tLung\tAntoine_10X\tstromal\t95\t\t\tfibroblast\thttps://www.ebi.ac.uk/ols/ontologies/cl/terms?iri=http%3A%2F%2Fpurl.obolibrary.org%2Fobo%2FCL_0000057\thttp://purl.obolibrary.org/obo/CL_0000057\nfibroblasts (adventitial)\tLung\tAntoine_10X;Martine_10X\tstromal\t362\t\t\tfibroblast\thttps://www.ebi.ac.uk/ols/ontologies/cl/terms?iri=http%3A%2F%2Fpurl.obolibrary.org%2Fobo%2FCL_0000057\thttp://purl.obolibrary.org/obo/CL_0000057\nfibroblasts (alveolar SERPINA3+)\tLung\tAntoine_10X\tstromal\t88\t\t\tfibroblast\thttps://www.ebi.ac.uk/ols/ontologies/cl/terms?iri=http%3A%2F%2Fpurl.obolibrary.org%2Fobo%2FCL_0000057\thttp://purl.obolibrary.org/obo/CL_0000057\nfibroblasts (alveolar)\tLung\tAntoine_10X;Martine_10X\tstromal\t821\t\t\tfibroblast\thttps://www.ebi.ac.uk/ols/ontologies/cl/terms?iri=http%3A%2F%2Fpurl.obolibrary.org%2Fobo%2FCL_0000057\thttp://purl.obolibrary.org/obo/CL_0000057\nhematopoietic precursor cells\tLung\tBernard_10X\timmune\t60\t\t\thematopoietic precursor cell\thttps://www.ebi.ac.uk/ols/ontologies/cl/terms?iri=http%3A%2F%2Fpurl.obolibrary.org%2Fobo%2FCL_0008001\thttp://purl.obolibrary.org/obo/CL_0008001\nlymphatic cells\tLung\tBernard_10X;Antoine_10X\tendothelial\t333\t\t\tendothelial cell of lymphatic vessel\thttps://www.ebi.ac.uk/ols/ontologies/cl/terms?iri=http%3A%2F%2Fpurl.obolibrary.org%2Fobo%2FCL_0002138\thttp://purl.obolibrary.org/obo/CL_0002138\nmacrophages\tLung\tBernard_10X;Martine_10X\timmune\t982\t\t\tmacrophage\thttps://www.ebi.ac.uk/ols/ontologies/cl/terms?iri=http%3A%2F%2Fpurl.obolibrary.org%2Fobo%2FCL_0000235\thttp://purl.obolibrary.org/obo/CL_0000235\nmacrophages (BLVRB+)\tLung\tBernard_10X\timmune\t374\t\t\tmacrophage\thttps://www.ebi.ac.uk/ols/ontologies/cl/terms?iri=http%3A%2F%2Fpurl.obolibrary.org%2Fobo%2FCL_0000235\thttp://purl.obolibrary.org/obo/CL_0000235\nmacrophages (EPCAM+)\tLung\tMartine_10X\timmune\t229\t\t\tmacrophage\thttps://www.ebi.ac.uk/ols/ontologies/cl/terms?iri=http%3A%2F%2Fpurl.obolibrary.org%2Fobo%2FCL_0000235\thttp://purl.obolibrary.org/obo/CL_0000235\nmacrophages (MARCO+ LPL+)\tLung\tAntoine_10X\timmune\t141\t\t\tmacrophage\thttps://www.ebi.ac.uk/ols/ontologies/cl/terms?iri=http%3A%2F%2Fpurl.obolibrary.org%2Fobo%2FCL_0000235\thttp://purl.obolibrary.org/obo/CL_0000235\nmacrophages (MARCO+ MKI67+)\tLung\tAntoine_10X\timmune\t164\t\t\tmacrophage\thttps://www.ebi.ac.uk/ols/ontologies/cl/terms?iri=http%3A%2F%2Fpurl.obolibrary.org%2Fobo%2FCL_0000235\thttp://purl.obolibrary.org/obo/CL_0000235\nmacrophages (MARCO+ MT2A+)\tLung\tAntoine_10X\timmune\t205\t\t\tmacrophage\thttps://www.ebi.ac.uk/ols/ontologies/cl/terms?iri=http%3A%2F%2Fpurl.obolibrary.org%2Fobo%2FCL_0000235\thttp://purl.obolibrary.org/obo/CL_0000235\nmacrophages (MARCO+ SDC2+)\tLung\tAntoine_10X\timmune\t678\t\t\tmacrophage\thttps://www.ebi.ac.uk/ols/ontologies/cl/terms?iri=http%3A%2F%2Fpurl.obolibrary.org%2Fobo%2FCL_0000235\thttp://purl.obolibrary.org/obo/CL_0000235\nmacrophages (MARCO+)\tLung\tAntoine_10X\timmune\t2158\t\t\tmacrophage\thttps://www.ebi.ac.uk/ols/ontologies/cl/terms?iri=http%3A%2F%2Fpurl.obolibrary.org%2Fobo%2FCL_0000235\thttp://purl.obolibrary.org/obo/CL_0000235\nmacrophages (MARCO- ABCA8+)\tLung\tAntoine_10X\timmune\t680\t\t\tmacrophage\thttps://www.ebi.ac.uk/ols/ontologies/cl/terms?iri=http%3A%2F%2Fpurl.obolibrary.org%2Fobo%2FCL_0000235\thttp://purl.obolibrary.org/obo/CL_0000235\nmacrophages (MARCO-)\tLung\tBernard_10X;Antoine_10X\timmune\t407\t\t\tmacrophage\thttps://www.ebi.ac.uk/ols/ontologies/cl/terms?iri=http%3A%2F%2Fpurl.obolibrary.org%2Fobo%2FCL_0000235\thttp://purl.obolibrary.org/obo/CL_0000235\nmacrophages (MRC1+ MARCO+)\tLung\tStumpy_10X\timmune\t148\t\t\tmacrophage\thttps://www.ebi.ac.uk/ols/ontologies/cl/terms?iri=http%3A%2F%2Fpurl.obolibrary.org%2Fobo%2FCL_0000235\thttp://purl.obolibrary.org/obo/CL_0000235\nmacrophages (MRC1+ MARCO- MKI67+)\tLung\tStumpy_10X\timmune\t311\t\t\tmacrophage\thttps://www.ebi.ac.uk/ols/ontologies/cl/terms?iri=http%3A%2F%2Fpurl.obolibrary.org%2Fobo%2FCL_0000235\thttp://purl.obolibrary.org/obo/CL_0000235\nmacrophages (MRC1+ MARCO-)\tLung\tStumpy_10X\timmune\t791\t\t\tmacrophage\thttps://www.ebi.ac.uk/ols/ontologies/cl/terms?iri=http%3A%2F%2Fpurl.obolibrary.org%2Fobo%2FCL_0000235\thttp://purl.obolibrary.org/obo/CL_0000235\nmacrophages (MRC1+)\tLung\tMartine_10X\timmune\t50\t\t\tmacrophage\thttps://www.ebi.ac.uk/ols/ontologies/cl/terms?iri=http%3A%2F%2Fpurl.obolibrary.org%2Fobo%2FCL_0000235\thttp://purl.obolibrary.org/obo/CL_0000235\nmacrophages (MRC1- MARCO+)\tLung\tStumpy_10X\timmune\t123\t\t\tmacrophage\thttps://www.ebi.ac.uk/ols/ontologies/cl/terms?iri=http%3A%2F%2Fpurl.obolibrary.org%2Fobo%2FCL_0000235\thttp://purl.obolibrary.org/obo/CL_0000235\nmesothelial cells and fibroblasts\tLung\tBernard_10X\tstromal\t17\t\t\tmesothelial cell\thttps://www.ebi.ac.uk/ols/ontologies/cl/terms?iri=http%3A%2F%2Fpurl.obolibrary.org%2Fobo%2FCL_0000077\thttp://purl.obolibrary.org/obo/CL_0000077\nmonocytes\tLung\tBernard_10X;Antoine_10X;Stumpy_10X;Martine_10X\timmune\t2712\t\t\tmonocyte\thttps://www.ebi.ac.uk/ols/ontologies/cl/terms?iri=http%3A%2F%2Fpurl.obolibrary.org%2Fobo%2FCL_0000576\thttp://purl.obolibrary.org/obo/CL_0000576\nmonocytes (MKI67+)\tLung\tBernard_10X\timmune\t56\t\t\tmonocyte\thttps://www.ebi.ac.uk/ols/ontologies/cl/terms?iri=http%3A%2F%2Fpurl.obolibrary.org%2Fobo%2FCL_0000576\thttp://purl.obolibrary.org/obo/CL_0000576\nmonocytes (SOD2+)\tLung\tStumpy_10X\timmune\t153\t\t\tmonocyte\thttps://www.ebi.ac.uk/ols/ontologies/cl/terms?iri=http%3A%2F%2Fpurl.obolibrary.org%2Fobo%2FCL_0000576\thttp://purl.obolibrary.org/obo/CL_0000576\nneutrophils\tLung\tBernard_10X;Antoine_10X;Stumpy_10X;Martine_10X\timmune\t6224\t\t\tneutrophil\thttps://www.ebi.ac.uk/ols/ontologies/cl/terms?iri=http%3A%2F%2Fpurl.obolibrary.org%2Fobo%2FCL_0000775\thttp://purl.obolibrary.org/obo/CL_0000775\nneutrophils (AZU1+ MKI67+)\tLung\tBernard_10X\timmune\t153\t\t\tneutrophil\thttps://www.ebi.ac.uk/ols/ontologies/cl/terms?iri=http%3A%2F%2Fpurl.obolibrary.org%2Fobo%2FCL_0000775\thttp://purl.obolibrary.org/obo/CL_0000775\nneutrophils (CAMP+)\tLung\tAntoine_10X\timmune\t54\t\t\tneutrophil\thttps://www.ebi.ac.uk/ols/ontologies/cl/terms?iri=http%3A%2F%2Fpurl.obolibrary.org%2Fobo%2FCL_0000775\thttp://purl.obolibrary.org/obo/CL_0000775\nneutrophils (CD164+ CD9+)\tLung\tBernard_10X\timmune\t60\t\t\tneutrophil\thttps://www.ebi.ac.uk/ols/ontologies/cl/terms?iri=http%3A%2F%2Fpurl.obolibrary.org%2Fobo%2FCL_0000775\thttp://purl.obolibrary.org/obo/CL_0000775\nneutrophils (CD164+)\tLung\tBernard_10X\timmune\t376\t\t\tneutrophil\thttps://www.ebi.ac.uk/ols/ontologies/cl/terms?iri=http%3A%2F%2Fpurl.obolibrary.org%2Fobo%2FCL_0000775\thttp://purl.obolibrary.org/obo/CL_0000775\nneutrophils (MKI67+)\tLung\tBernard_10X\timmune\t77\t\t\tneutrophil\thttps://www.ebi.ac.uk/ols/ontologies/cl/terms?iri=http%3A%2F%2Fpurl.obolibrary.org%2Fobo%2FCL_0000775\thttp://purl.obolibrary.org/obo/CL_0000775\nneutrophils (low quality SOD2+ TXNIP+)\tLung\tStumpy_10X\timmune\t116\t\t\tneutrophil\thttps://www.ebi.ac.uk/ols/ontologies/cl/terms?iri=http%3A%2F%2Fpurl.obolibrary.org%2Fobo%2FCL_0000775\thttp://purl.obolibrary.org/obo/CL_0000775\nneutrophils (low quality SOD2+)\tLung\tStumpy_10X\timmune\t352\t\t\tneutrophil\thttps://www.ebi.ac.uk/ols/ontologies/cl/terms?iri=http%3A%2F%2Fpurl.obolibrary.org%2Fobo%2FCL_0000775\thttp://purl.obolibrary.org/obo/CL_0000775\nnk cells\tLung\tBernard_10X;Stumpy_10X;Martine_10X\timmune\t243\t\t\tnatural killer cell\thttps://www.ebi.ac.uk/ols/ontologies/cl/terms?iri=http%3A%2F%2Fpurl.obolibrary.org%2Fobo%2FCL_0000623\thttp://purl.obolibrary.org/obo/CL_0000623\nnk cells (CD3E+low)\tLung\tAntoine_10X\timmune\t132\t\t\tnatural killer cell\thttps://www.ebi.ac.uk/ols/ontologies/cl/terms?iri=http%3A%2F%2Fpurl.obolibrary.org%2Fobo%2FCL_0000623\thttp://purl.obolibrary.org/obo/CL_0000623\nnk cells (FCER1A+)\tLung\tAntoine_10X\timmune\t89\t\t\tnatural killer cell\thttps://www.ebi.ac.uk/ols/ontologies/cl/terms?iri=http%3A%2F%2Fpurl.obolibrary.org%2Fobo%2FCL_0000623\thttp://purl.obolibrary.org/obo/CL_0000623\nnk cells (KLRB1+)\tLung\tAntoine_10X\timmune\t1688\t\t\tnatural killer cell\thttps://www.ebi.ac.uk/ols/ontologies/cl/terms?iri=http%3A%2F%2Fpurl.obolibrary.org%2Fobo%2FCL_0000623\thttp://purl.obolibrary.org/obo/CL_0000623\nnk cells (KLRB1-)\tLung\tAntoine_10X\timmune\t1292\t\t\tnatural killer cell\thttps://www.ebi.ac.uk/ols/ontologies/cl/terms?iri=http%3A%2F%2Fpurl.obolibrary.org%2Fobo%2FCL_0000623\thttp://purl.obolibrary.org/obo/CL_0000623\nnk cells (STMN1+ MCM5+)\tLung\tAntoine_10X\timmune\t227\t\t\tnatural killer cell\thttps://www.ebi.ac.uk/ols/ontologies/cl/terms?iri=http%3A%2F%2Fpurl.obolibrary.org%2Fobo%2FCL_0000623\thttp://purl.obolibrary.org/obo/CL_0000623\nnk cells (STMN1+ MKI67+)\tLung\tAntoine_10X\timmune\t153\t\t\tnatural killer cell\thttps://www.ebi.ac.uk/ols/ontologies/cl/terms?iri=http%3A%2F%2Fpurl.obolibrary.org%2Fobo%2FCL_0000623\thttp://purl.obolibrary.org/obo/CL_0000623\nnk cells (XCL1+)\tLung\tAntoine_10X\timmune\t216\t\t\tnatural killer cell\thttps://www.ebi.ac.uk/ols/ontologies/cl/terms?iri=http%3A%2F%2Fpurl.obolibrary.org%2Fobo%2FCL_0000623\thttp://purl.obolibrary.org/obo/CL_0000623\nnk cells? (SOST+)\tLung\tMartine_10X\timmune\t70\t\t\tnatural killer cell\thttps://www.ebi.ac.uk/ols/ontologies/cl/terms?iri=http%3A%2F%2Fpurl.obolibrary.org%2Fobo%2FCL_0000623\thttp://purl.obolibrary.org/obo/CL_0000623\nnkt cells\tLung\tAntoine_10X\timmune\t508\t\t\tmature NK T cell\thttps://www.ebi.ac.uk/ols/ontologies/cl/terms?iri=http%3A%2F%2Fpurl.obolibrary.org%2Fobo%2FCL_0000814\thttp://purl.obolibrary.org/obo/CL_0000814\npericytes\tLung\tAntoine_10X;Martine_10X\tstromal\t84\t\t\tpericyte cell\thttps://www.ebi.ac.uk/ols/ontologies/cl/terms?iri=http%3A%2F%2Fpurl.obolibrary.org%2Fobo%2FCL_0000669\thttp://purl.obolibrary.org/obo/CL_0000669\nremoved\tLung\tBernard_10X;Antoine_10X;Stumpy_10X;Martine_10X\timmune;erythrocyte;epithelial\t1566\t\t\tNA\tNA\tNA\nschwann cells\tLung\tBernard_10X\tstromal\t21\t\t\tSchwann cell\thttps://www.ebi.ac.uk/ols/ontologies/cl/terms?iri=http%3A%2F%2Fpurl.obolibrary.org%2Fobo%2FCL_0002573\thttp://purl.obolibrary.org/obo/CL_0002573\nsmooth muscle cells (airway) and myofibroblasts\tLung\tAntoine_10X\tstromal\t38\t\t\tbronchial smooth muscle cell\thttps://www.ebi.ac.uk/ols/ontologies/cl/terms?iri=http%3A%2F%2Fpurl.obolibrary.org%2Fobo%2FCL_0002598\thttp://purl.obolibrary.org/obo/CL_0002598\nsmooth muscle cells (vascular)\tLung\tAntoine_10X;Martine_10X\tstromal\t57\t\t\tvascular associated smooth muscle cell\thttps://www.ebi.ac.uk/ols/ontologies/cl/terms?iri=http%3A%2F%2Fpurl.obolibrary.org%2Fobo%2FCL_0000359\thttp://purl.obolibrary.org/obo/CL_0000359\nstromal cells\tLung\tStumpy_10X\tstromal\t31\t\t\tstromal cell\thttps://www.ebi.ac.uk/ols/ontologies/cl/terms?iri=http%3A%2F%2Fpurl.obolibrary.org%2Fobo%2FCL_0000499\thttp://purl.obolibrary.org/obo/CL_0000499\nt cells (CD4+ CD8+)\tLung\tAntoine_10X\timmune\t393\t\t\tT cell\thttps://www.ebi.ac.uk/ols/ontologies/cl/terms?iri=http%3A%2F%2Fpurl.obolibrary.org%2Fobo%2FCL_0000084\thttp://purl.obolibrary.org/obo/CL_0000084\nt cells (CD4+ CD8-)\tLung\tAntoine_10X\timmune\t485\t\t\tCD4-positive, alpha-beta T cell\thttps://www.ebi.ac.uk/ols/ontologies/cl/terms?iri=http%3A%2F%2Fpurl.obolibrary.org%2Fobo%2FCL_0000624\thttp://purl.obolibrary.org/obo/CL_0000624\nt cells (CD4+low CD8+)\tLung\tAntoine_10X\timmune\t685\t\t\tT cell\thttps://www.ebi.ac.uk/ols/ontologies/cl/terms?iri=http%3A%2F%2Fpurl.obolibrary.org%2Fobo%2FCL_0000084\thttp://purl.obolibrary.org/obo/CL_0000084\nt cells (CD4+low CD8+low IL7R+)\tLung\tAntoine_10X\timmune\t1035\t\t\tT cell\thttps://www.ebi.ac.uk/ols/ontologies/cl/terms?iri=http%3A%2F%2Fpurl.obolibrary.org%2Fobo%2FCL_0000084\thttp://purl.obolibrary.org/obo/CL_0000084\nt cells (CD4+low CD8- CCR7+)\tLung\tBernard_10X;Martine_10X\timmune\t386\t\t\tT cell\thttps://www.ebi.ac.uk/ols/ontologies/cl/terms?iri=http%3A%2F%2Fpurl.obolibrary.org%2Fobo%2FCL_0000084\thttp://purl.obolibrary.org/obo/CL_0000084\nt cells (CD4+low CD8- IL7R+)\tLung\tAntoine_10X;Martine_10X\timmune\t833\t\t\tT cell\thttps://www.ebi.ac.uk/ols/ontologies/cl/terms?iri=http%3A%2F%2Fpurl.obolibrary.org%2Fobo%2FCL_0000084\thttp://purl.obolibrary.org/obo/CL_0000084\nt cells (CD4+low CD8-)\tLung\tBernard_10X\timmune\t267\t\t\tT cell\thttps://www.ebi.ac.uk/ols/ontologies/cl/terms?iri=http%3A%2F%2Fpurl.obolibrary.org%2Fobo%2FCL_0000084\thttp://purl.obolibrary.org/obo/CL_0000084\nt cells (CD4- CD8+)\tLung\tStumpy_10X;Martine_10X\timmune\t464\t\t\tCD8-positive, alpha-beta T cell\thttps://www.ebi.ac.uk/ols/ontologies/cl/terms?iri=http%3A%2F%2Fpurl.obolibrary.org%2Fobo%2FCL_0000625\thttp://purl.obolibrary.org/obo/CL_0000625\nt cells (MKI67+)\tLung\tBernard_10X\timmune\t10\t\t\tT cell\thttps://www.ebi.ac.uk/ols/ontologies/cl/terms?iri=http%3A%2F%2Fpurl.obolibrary.org%2Fobo%2FCL_0000084\thttp://purl.obolibrary.org/obo/CL_0000084\nt cells (STMN1+ MCM5+)\tLung\tAntoine_10X\timmune\t214\t\t\tT cell\thttps://www.ebi.ac.uk/ols/ontologies/cl/terms?iri=http%3A%2F%2Fpurl.obolibrary.org%2Fobo%2FCL_0000084\thttp://purl.obolibrary.org/obo/CL_0000084\nt cells (STMN1+ MKI67+)\tLung\tAntoine_10X\timmune\t232\t\t\tT cell\thttps://www.ebi.ac.uk/ols/ontologies/cl/terms?iri=http%3A%2F%2Fpurl.obolibrary.org%2Fobo%2FCL_0000084\thttp://purl.obolibrary.org/obo/CL_0000084\nt cells and nk cells (MKI67+)\tLung\tStumpy_10X\timmune\t23\t\t\tT cell\thttps://www.ebi.ac.uk/ols/ontologies/cl/terms?iri=http%3A%2F%2Fpurl.obolibrary.org%2Fobo%2FCL_0000084\thttp://purl.obolibrary.org/obo/CL_0000084\ntuft cells\tLung\tAntoine_10X\tepithelial\t15\t\t\tbrush cell\thttps://www.ebi.ac.uk/ols/ontologies/cl/terms?iri=http%3A%2F%2Fpurl.obolibrary.org%2Fobo%2FCL_0002204\thttp://purl.obolibrary.org/obo/CL_0002204\nunknown_Lung_endo_stromal_group1 (WT1+)\tLung\tMartine_10X\tstromal\t33\t\t\tNA\tNA\tNA\nunknown_Lung_endothelial_group1 (CLEC4G+)\tLung\tMartine_10X\tendothelial\t119\t\t\tNA\tNA\tNA\nunknown_Lung_endothelial_group2 (MGP+)\tLung\tMartine_10X\tendothelial\t123\t\t\tNA\tNA\tNA\nunknown_Lung_endothelial_group3 (SCIN+)\tLung\tMartine_10X\tendothelial\t70\t\t\tNA\tNA\tNA\nunknown_Lung_endothelial_group4 (VWF+)\tLung\tMartine_10X\tendothelial\t536\t\t\tNA\tNA\tNA\nunknown_Lung_endothelial_group5 (VWF+ SPARCL1+)\tLung\tMartine_10X\tendothelial\t223\t\t\tNA\tNA\tNA\nunknown_Lung_endothelial_group6 (VWF+ SPARCL1+ PTN+)\tLung\tMartine_10X\tendothelial\t142\t\t\tNA\tNA\tNA\nunknown_Lung_epithelial_group1 (SLC34A1+)\tLung\tMartine_10X\tepithelial\t598\t\t\tNA\tNA\tNA\nunknown_Lung_epithelial_group10 (ATP6V1G3++)\tLung\tMartine_10X\tepithelial\t71\t\t\tNA\tNA\tNA\nunknown_Lung_epithelial_group11 (INSRR+)\tLung\tMartine_10X\tepithelial\t28\t\t\tNA\tNA\tNA\nunknown_Lung_epithelial_group2 (S100A10+)\tLung\tMartine_10X\tepithelial\t267\t\t\tNA\tNA\tNA\nunknown_Lung_epithelial_group3 (FTL++)\tLung\tMartine_10X\tepithelial\t255\t\t\tNA\tNA\tNA\nunknown_Lung_epithelial_group4 (CLU+)\tLung\tMartine_10X\tepithelial\t395\t\t\tNA\tNA\tNA\nunknown_Lung_epithelial_group5 (PPP1RA1+)\tLung\tMartine_10X\tepithelial\t355\t\t\tNA\tNA\tNA\nunknown_Lung_epithelial_group6 (MUC20+)\tLung\tMartine_10X\tepithelial\t489\t\t\tNA\tNA\tNA\nunknown_Lung_epithelial_group7 (TACSTD2+)\tLung\tMartine_10X\tepithelial\t356\t\t\tNA\tNA\tNA\nunknown_Lung_epithelial_group8 (MUC20+ CALB1+)\tLung\tMartine_10X\tepithelial\t100\t\t\tNA\tNA\tNA\nunknown_Lung_epithelial_group9 (IRX2+)\tLung\tMartine_10X\tepithelial\t77\t\t\tNA\tNA\tNA\nunknown_Lung_myeloid_group1 (S100A8- S100A10+)\tLung\tAntoine_10X\timmune\t282\t\t\tNA\tNA\tNA\nunknown_Lung_stromal_group1 (low quality)\tLung\tBernard_10X\tstromal\t19\t\t\tNA\tNA\tNA\nuterine adenocarcinoma metastasis (IL1R1+)\tLung\tStumpy_10X\tepithelial\t39\t\t\tNA\tNA\tNA\nuterine adenocarcinoma metastasis (PSMB3+)\tLung\tStumpy_10X\tepithelial\t35\t\t\tNA\tNA\tNA\nvein cells\tLung\tAntoine_10X\tendothelial\t180\t\t\tvein endothelial cell\thttp://purl.obolibrary.org/obo/CL_0002543\thttps://www.ebi.ac.uk/ols/ontologies/cl/terms?iri=http%3A%2F%2Fpurl.obolibrary.org%2Fobo%2FCL_0002543'''\nlemur_ontology_df = pd.read_csv(StringIO(s), sep='\\t', index_col=0)\nprint(lemur_ontology_df.shape)\nlemur_ontology_df.tail()"
    },
    "executionTime": "2019-12-15T02:30:47.073Z"
   },
   {
    "cell": {
     "executionCount": 131,
     "executionEventId": "ffaa58b9-83e8-42fa-94a4-0b76dc7e756b",
     "hasError": false,
     "id": "c8ae2eb9-46cc-473f-b754-0a78f8072caf",
     "outputs": [
      {
       "name": "stdout",
       "output_type": "stream",
       "text": "CPU times: user 2.47 s, sys: 1.49 s, total: 3.96 s\nWall time: 6min 58s\n"
      }
     ],
     "persistentId": "764c6931-5efa-48d2-847a-8aa2ad75ac5a",
     "text": "h5ad = f\"{outdir}/lung__10x__lemur__one2one_orthologs.h5ad\"\n%time lemur_one2one.write(h5ad)"
    },
    "executionTime": "2019-12-15T02:38:56.254Z"
   },
   {
    "cell": {
     "executionCount": 132,
     "executionEventId": "ad6a8ea1-d9eb-42de-b6d4-e7f5bb5a5fe0",
     "hasError": false,
     "id": "5842dd7b-f7d0-42be-a332-2f0dea50783e",
     "outputs": [
      {
       "name": "stderr",
       "output_type": "stream",
       "text": "... storing 'cell_ontology_class' as categorical\n"
      }
     ],
     "persistentId": "b5c07671-8c42-4edb-94c0-22a90b0ca79e",
     "text": "human.write(f\"{human_folder}/droplet_normal_lung_blood_P1-3.h5ad\")"
    },
    "executionTime": "2019-12-15T03:09:17.509Z"
   },
   {
    "cell": {
     "executionCount": 133,
     "executionEventId": "e8b48800-759e-4e8c-b9d6-88a9d7fd0f72",
     "hasError": false,
     "id": "59228d69-a21e-494f-9e3d-ec77144c2cf7",
     "outputs": [
      {
       "name": "stdout",
       "output_type": "stream",
       "text": "total 11G\ndrwxrwxr-x 2 olga olga 4.0K Dec 13 11:44 \u001b[0m\u001b[01;34m.\u001b[0m/\ndrwxrwxr-x 2 olga olga 4.0K Dec  2 21:43 \u001b[01;34m..\u001b[0m/\n-rw-rw-r-- 1 olga olga 6.5G Dec 14 19:07 droplet_normal_lung_blood_P1-3.h5ad\n-rw-rw-r-- 1 olga olga  12M Oct 28 10:16 droplet_normal_lung_blood_P1-3_metadata.csv\n-rw-rw-r-- 1 olga olga 3.3G Oct 30 18:21 droplet_normal_lung_blood_P1-3_ncbi_GCT.csv\n-rw-rw-r-- 1 olga olga 1.1G Oct 28 10:25 facs_normal_lung_blood_P1-3_gencode_GCT.csv\n-rw-rw-r-- 1 olga olga 5.7M Oct 28 10:25 facs_normal_lung_blood_P1-3_metadata.csv\n"
      }
     ],
     "persistentId": "d3af8128-1318-4830-8fc1-9589aba7733f",
     "text": "ls -lha $human_folder"
    },
    "executionTime": "2019-12-15T03:09:18.554Z"
   },
   {
    "cell": {
     "executionCount": 134,
     "executionEventId": "b760e5b5-469d-4cef-b637-915cef56c2ce",
     "hasError": false,
     "id": "967764b0-c201-40db-bc8e-b05589944c61",
     "outputs": [
      {
       "name": "stdout",
       "output_type": "stream",
       "text": "12965\n"
      },
      {
       "data": {
        "text/plain": "AnnData object with n_obs × n_vars = 65662 × 12965 \n    obs: 'nGene', 'nUMI', 'orig.ident', 'channel', 'tissue', 'region', 'percent.ribo', 'free_annotation', 'patient', 'sample', 'location', 'magnetic.selection', 'preparation.site', 'compartment', 'species', 'species_latin', 'cell_ontology_class'"
       },
       "execution_count": 134,
       "metadata": {},
       "output_type": "execute_result"
      }
     ],
     "persistentId": "91abc876-9b31-4e74-ba0e-ebacfd411eda",
     "text": "gene_mask = human.var.index.isin(gene_orthologies_one2one_all_three['human__gene_name'].values)\nprint(gene_mask.sum())\n\n# Need to copy so it's not an ArrayView object\nhuman_one2one = human[:, gene_mask].copy()\nhuman_one2one"
    },
    "executionTime": "2019-12-15T03:10:26.403Z"
   },
   {
    "cell": {
     "executionCount": 135,
     "executionEventId": "6c6c0b3a-55bb-4af9-a5b4-f9720328eef0",
     "hasError": false,
     "id": "0294cd67-e9e1-4c87-80fd-1c9583412dfb",
     "outputs": [
      {
       "data": {
        "text/html": "<div>\n<style scoped>\n    .dataframe tbody tr th:only-of-type {\n        vertical-align: middle;\n    }\n\n    .dataframe tbody tr th {\n        vertical-align: top;\n    }\n\n    .dataframe thead th {\n        text-align: right;\n    }\n</style>\n<table border=\"1\" class=\"dataframe\">\n  <thead>\n    <tr style=\"text-align: right;\">\n      <th></th>\n      <th>mouse_lemur__gene_name</th>\n      <th>mouse_lemur_to_human__homology_type</th>\n      <th>human_to_mouse__homology_type</th>\n      <th>mouse__gene_name</th>\n    </tr>\n    <tr>\n      <th>gene_name</th>\n      <th></th>\n      <th></th>\n      <th></th>\n      <th></th>\n    </tr>\n  </thead>\n  <tbody>\n    <tr>\n      <th>SAMD11</th>\n      <td>SAMD11</td>\n      <td>ortholog_one2one</td>\n      <td>ortholog_one2one</td>\n      <td>Samd11</td>\n    </tr>\n    <tr>\n      <th>NOC2L</th>\n      <td>NOC2L</td>\n      <td>ortholog_one2one</td>\n      <td>ortholog_one2one</td>\n      <td>Noc2l</td>\n    </tr>\n    <tr>\n      <th>KLHL17</th>\n      <td>KLHL17</td>\n      <td>ortholog_one2one</td>\n      <td>ortholog_one2one</td>\n      <td>Plekhn1</td>\n    </tr>\n    <tr>\n      <th>PERM1</th>\n      <td>PERM1</td>\n      <td>ortholog_one2one</td>\n      <td>ortholog_one2one</td>\n      <td>Perm1</td>\n    </tr>\n    <tr>\n      <th>ISG15</th>\n      <td>ISG15</td>\n      <td>ortholog_one2one</td>\n      <td>ortholog_one2one</td>\n      <td>Isg15</td>\n    </tr>\n  </tbody>\n</table>\n</div>",
        "text/plain": "          mouse_lemur__gene_name mouse_lemur_to_human__homology_type  \\\ngene_name                                                              \nSAMD11                    SAMD11                    ortholog_one2one   \nNOC2L                      NOC2L                    ortholog_one2one   \nKLHL17                    KLHL17                    ortholog_one2one   \nPERM1                      PERM1                    ortholog_one2one   \nISG15                      ISG15                    ortholog_one2one   \n\n          human_to_mouse__homology_type mouse__gene_name  \ngene_name                                                 \nSAMD11                 ortholog_one2one           Samd11  \nNOC2L                  ortholog_one2one            Noc2l  \nKLHL17                 ortholog_one2one          Plekhn1  \nPERM1                  ortholog_one2one            Perm1  \nISG15                  ortholog_one2one            Isg15  "
       },
       "execution_count": 135,
       "metadata": {},
       "output_type": "execute_result"
      }
     ],
     "persistentId": "ba8526b9-ffa6-4f0c-8826-69d5d1fb6f30",
     "text": "human_one2one.var = gene_orthologies_one2one_all_three.set_index('human__gene_name').loc[human_one2one.var.index]\nhuman_one2one.var.head()"
    },
    "executionTime": "2019-12-15T03:10:26.467Z"
   },
   {
    "cell": {
     "executionCount": 136,
     "executionEventId": "5aba60da-c72e-41f2-bc8e-7a3c88f8d386",
     "hasError": false,
     "id": "5a477819-e313-4f59-9612-93b2cbd05b8a",
     "outputs": [
      {
       "data": {
        "text/html": "<div>\n<style scoped>\n    .dataframe tbody tr th:only-of-type {\n        vertical-align: middle;\n    }\n\n    .dataframe tbody tr th {\n        vertical-align: top;\n    }\n\n    .dataframe thead th {\n        text-align: right;\n    }\n</style>\n<table border=\"1\" class=\"dataframe\">\n  <thead>\n    <tr style=\"text-align: right;\">\n      <th></th>\n      <th>mouse_lemur__gene_name</th>\n      <th>mouse_lemur_to_human__homology_type</th>\n      <th>human__gene_name</th>\n      <th>human_to_mouse__homology_type</th>\n      <th>mouse__gene_name</th>\n    </tr>\n  </thead>\n  <tbody>\n    <tr>\n      <th>14</th>\n      <td>LOC105872179</td>\n      <td>ortholog_one2one</td>\n      <td>CYP26C1</td>\n      <td>ortholog_one2one</td>\n      <td>Cyp26c1</td>\n    </tr>\n    <tr>\n      <th>27</th>\n      <td>LOC105867234</td>\n      <td>ortholog_one2one</td>\n      <td>RBM17</td>\n      <td>ortholog_one2one</td>\n      <td>Rbm17</td>\n    </tr>\n    <tr>\n      <th>61</th>\n      <td>LOC105862594</td>\n      <td>ortholog_one2one</td>\n      <td>PCDHAC2</td>\n      <td>ortholog_one2one</td>\n      <td>Pcdhac2</td>\n    </tr>\n    <tr>\n      <th>91</th>\n      <td>LOC105862085</td>\n      <td>ortholog_one2one</td>\n      <td>POSTN</td>\n      <td>ortholog_one2one</td>\n      <td>Postn</td>\n    </tr>\n    <tr>\n      <th>126</th>\n      <td>LOC105880951</td>\n      <td>ortholog_one2one</td>\n      <td>RPS27</td>\n      <td>ortholog_one2one</td>\n      <td>Rps27</td>\n    </tr>\n    <tr>\n      <th>...</th>\n      <td>...</td>\n      <td>...</td>\n      <td>...</td>\n      <td>...</td>\n      <td>...</td>\n    </tr>\n    <tr>\n      <th>21235</th>\n      <td>LOC105874434</td>\n      <td>ortholog_one2one</td>\n      <td>CYP8B1</td>\n      <td>ortholog_one2one</td>\n      <td>Cyp8b1</td>\n    </tr>\n    <tr>\n      <th>21312</th>\n      <td>LOC105881243</td>\n      <td>ortholog_one2one</td>\n      <td>CP</td>\n      <td>ortholog_one2one</td>\n      <td>Cp</td>\n    </tr>\n    <tr>\n      <th>21435</th>\n      <td>LOC105855766</td>\n      <td>ortholog_one2one</td>\n      <td>EEF1AKMT4</td>\n      <td>ortholog_one2one</td>\n      <td>Eef1akmt4</td>\n    </tr>\n    <tr>\n      <th>21581</th>\n      <td>LOC105879907</td>\n      <td>ortholog_one2one</td>\n      <td>GTF2E1</td>\n      <td>ortholog_one2one</td>\n      <td>Gtf2e1</td>\n    </tr>\n    <tr>\n      <th>21647</th>\n      <td>LOC105878040</td>\n      <td>ortholog_one2one</td>\n      <td>TRAT1</td>\n      <td>ortholog_one2one</td>\n      <td>Trat1</td>\n    </tr>\n  </tbody>\n</table>\n<p>427 rows × 5 columns</p>\n</div>",
        "text/plain": "      mouse_lemur__gene_name mouse_lemur_to_human__homology_type  \\\n14              LOC105872179                    ortholog_one2one   \n27              LOC105867234                    ortholog_one2one   \n61              LOC105862594                    ortholog_one2one   \n91              LOC105862085                    ortholog_one2one   \n126             LOC105880951                    ortholog_one2one   \n...                      ...                                 ...   \n21235           LOC105874434                    ortholog_one2one   \n21312           LOC105881243                    ortholog_one2one   \n21435           LOC105855766                    ortholog_one2one   \n21581           LOC105879907                    ortholog_one2one   \n21647           LOC105878040                    ortholog_one2one   \n\n      human__gene_name human_to_mouse__homology_type mouse__gene_name  \n14             CYP26C1              ortholog_one2one          Cyp26c1  \n27               RBM17              ortholog_one2one            Rbm17  \n61             PCDHAC2              ortholog_one2one          Pcdhac2  \n91               POSTN              ortholog_one2one            Postn  \n126              RPS27              ortholog_one2one            Rps27  \n...                ...                           ...              ...  \n21235           CYP8B1              ortholog_one2one           Cyp8b1  \n21312               CP              ortholog_one2one               Cp  \n21435        EEF1AKMT4              ortholog_one2one        Eef1akmt4  \n21581           GTF2E1              ortholog_one2one           Gtf2e1  \n21647            TRAT1              ortholog_one2one            Trat1  \n\n[427 rows x 5 columns]"
       },
       "execution_count": 136,
       "metadata": {},
       "output_type": "execute_result"
      }
     ],
     "persistentId": "696a2e1d-d7cb-43c6-8518-0a724be70e22",
     "text": "gene_orthologies_one2one_all_three.loc[gene_orthologies_one2one_all_three.mouse_lemur__gene_name.str.startswith(\"LOC\")]"
    },
    "executionTime": "2019-12-15T03:10:26.476Z"
   },
   {
    "cell": {
     "executionCount": 137,
     "executionEventId": "6c055d04-c0ee-4e92-a77d-c2da297e53fb",
     "hasError": false,
     "id": "2d7ddeae-8d27-4bd6-961d-9b7ab4a52ff5",
     "outputs": [
      {
       "name": "stderr",
       "output_type": "stream",
       "text": "... storing 'mouse_lemur_to_human__homology_type' as categorical\n... storing 'human_to_mouse__homology_type' as categorical\n"
      }
     ],
     "persistentId": "9f67cbbd-9529-4937-bcb8-15b8c64dffc6",
     "text": "h5ad = f\"{outdir}/lung__10x__human__one2one_orthologs.h5ad\"\nhuman_one2one.write(h5ad)"
    },
    "executionTime": "2019-12-15T03:18:29.094Z"
   },
   {
    "cell": {
     "executionCount": 138,
     "executionEventId": "0b5f8b37-6965-4172-a38b-3863b92b77c5",
     "hasError": false,
     "id": "0900e377-b086-4d18-9af6-621e6e812b7c",
     "outputs": [
      {
       "name": "stderr",
       "output_type": "stream",
       "text": "writing '.csv' files to /home/olga/googledrive/TabulaMicrocebus/data/cross-species/lung__10x__mouse__one2one_orthologs__csvs\n"
      }
     ],
     "persistentId": "c93bcbc7-e0bc-43ea-9432-fef9169c1a7e",
     "text": "mouse_one2one.write_csvs(f'{outdir}/lung__10x__mouse__one2one_orthologs__csvs/')"
    },
    "executionTime": "2019-12-15T19:03:41.214Z"
   },
   {
    "cell": {
     "executionCount": 139,
     "executionEventId": "4bc6e312-621b-42d8-98cd-04319520d869",
     "hasError": false,
     "id": "f066eac6-4c79-4512-a728-15803a2d09f1",
     "outputs": [
      {
       "name": "stderr",
       "output_type": "stream",
       "text": "writing '.csv' files to /home/olga/googledrive/TabulaMicrocebus/data/cross-species/lung__10x__lemur__one2one_orthologs__csvs\n"
      }
     ],
     "persistentId": "daa4b663-3537-419d-810f-e6f79dd33b58",
     "text": "lemur_one2one.write_csvs(f'{outdir}/lung__10x__lemur__one2one_orthologs__csvs/')"
    },
    "executionTime": "2019-12-15T19:05:25.105Z"
   },
   {
    "cell": {
     "executionCount": 140,
     "executionEventId": "bef92e9f-f72d-4a27-a427-0bdc891f73e3",
     "hasError": false,
     "id": "80496b7b-fa60-4680-922e-2fb84c5d8b7a",
     "outputs": [
      {
       "name": "stderr",
       "output_type": "stream",
       "text": "writing '.csv' files to /home/olga/googledrive/TabulaMicrocebus/data/cross-species/lung__10x__human__one2one_orthologs__csvs\n"
      }
     ],
     "persistentId": "89a75a76-2e7e-4c7f-8f3b-186097f36a29",
     "text": "human_one2one.write_csvs(f'{outdir}/lung__10x__human__one2one_orthologs__csvs/')"
    },
    "executionTime": "2019-12-15T19:10:53.549Z"
   }
  ],
  "kernelspec": {
   "display_name": "Python [conda env:tabula-microcebus-jan2021]",
   "language": "python",
   "name": "conda-env-tabula-microcebus-jan2021-py"
  },
  "language_info": {
   "codemirror_mode": {
    "name": "ipython",
    "version": 3
   },
   "file_extension": ".py",
   "mimetype": "text/x-python",
   "name": "python",
   "nbconvert_exporter": "python",
   "pygments_lexer": "ipython3",
   "version": "3.7.3"
  },
  "toc-autonumbering": true,
  "toc-showmarkdowntxt": false,
  "uuid": "4ba55db0-0690-49ed-aef6-f79f676e9ef9"
 },
 "nbformat": 4,
 "nbformat_minor": 4
}
