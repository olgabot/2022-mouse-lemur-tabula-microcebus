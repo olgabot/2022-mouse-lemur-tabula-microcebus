{
 "cells": [
  {
   "cell_type": "code",
   "execution_count": 3,
   "metadata": {},
   "outputs": [],
   "source": [
    "from io import StringIO\n",
    "import os\n",
    "\n",
    "import numpy as np\n",
    "import scanpy as sc\n",
    "import pandas as pd"
   ]
  },
  {
   "cell_type": "markdown",
   "metadata": {},
   "source": [
    "# Make minimal obs"
   ]
  },
  {
   "cell_type": "markdown",
   "metadata": {},
   "source": [
    "## Read adata with no duplicates"
   ]
  },
  {
   "cell_type": "code",
   "execution_count": 4,
   "metadata": {},
   "outputs": [
    {
     "data": {
      "text/plain": [
       "AnnData object with n_obs × n_vars = 238915 × 20138\n",
       "    obs: 'age', 'cell_id', 'cell_ontology_class', 'cell_ontology_id', 'free_annotation', 'n_genes', 'sex', 'subtissue', 'tissue', 'species', 'species_latin', 'channel', 'sequencing_run', 'cell_barcode', 'n_counts', 'individual', 'narrow_group', 'broad_group', 'compartment_group'\n",
       "    var: 'n_cells'"
      ]
     },
     "execution_count": 4,
     "metadata": {},
     "output_type": "execute_result"
    }
   ],
   "source": [
    "h5ad = os.path.join(\n",
    "    \"/home/olga/data_lg/data_sm_copy/czb-tabula-muris-senis/Data-objects/\",\n",
    "    \"tabula-muris-senis-droplet-official-raw-obj--no-duplicate-barcodes-per-seq-run--minimal-obs-unified-celltypes.h5ad\",\n",
    ") \n",
    "adata = sc.read(h5ad)\n",
    "adata"
   ]
  },
  {
   "cell_type": "markdown",
   "metadata": {},
   "source": [
    "## Read in re-annotated mouse data"
   ]
  },
  {
   "cell_type": "code",
   "execution_count": 5,
   "metadata": {},
   "outputs": [
    {
     "data": {
      "text/plain": [
       "AnnData object with n_obs × n_vars = 28867 × 20138\n",
       "    obs: 'age', 'cell', 'cell_ontology_class', 'cell_ontology_id', 'free_annotation', 'method', 'mouse.id', 'n_genes', 'sex', 'subtissue', 'tissue', 'tissue_free_annotation', 'n_counts', 'louvain', 'leiden', 'TMS_muscle_ADM_free_annotation', 'TMS_muscle_CE_compartment', 'TMS_muscle_CE_free_annotation'\n",
       "    var: 'n_cells', 'means', 'dispersions', 'dispersions_norm', 'highly_variable'\n",
       "    uns: 'TMS_muscle_CE_compartment_colors', 'TMS_muscle_CE_free_annotation_colors', 'age_colors', 'cell_ontology_class_colors', 'leiden', 'louvain', 'neighbors', 'pca'\n",
       "    obsm: 'X_pca', 'X_tsne', 'X_umap'\n",
       "    varm: 'PCs'\n",
       "    obsp: 'connectivities', 'distances'"
      ]
     },
     "execution_count": 5,
     "metadata": {},
     "output_type": "execute_result"
    }
   ],
   "source": [
    "# h5ad = \"/home/olga/googledrive/TabulaMicrocebus/data/cross-species/TMS_limb_muscle_droplet_updated_annotations/tabula-muris-senis-droplet-processed-official-annotations-Limb_Muscle_updated-annotations.h5ad\"\n",
    "h5ad = \"/home/olga/googledrive/TabulaMicrocebus/data/cross-species/unified_annotations/tabula-muris-senis_10X_Limb_Muscle_updated-annotations.h5ad\"\n",
    "muscle = sc.read(h5ad)\n",
    "muscle"
   ]
  },
  {
   "cell_type": "code",
   "execution_count": 6,
   "metadata": {},
   "outputs": [
    {
     "data": {
      "text/plain": [
       "24m    7178\n",
       "1m     5757\n",
       "18m    5569\n",
       "3m     3550\n",
       "21m    3528\n",
       "30m    3285\n",
       "Name: age, dtype: int64"
      ]
     },
     "execution_count": 6,
     "metadata": {},
     "output_type": "execute_result"
    }
   ],
   "source": [
    "muscle.obs.age.value_counts()"
   ]
  },
  {
   "cell_type": "code",
   "execution_count": 44,
   "metadata": {},
   "outputs": [
    {
     "data": {
      "text/plain": [
       "slow muscle cell    5\n",
       "Name: TMS_muscle_CE_free_annotation, dtype: int64"
      ]
     },
     "execution_count": 44,
     "metadata": {},
     "output_type": "execute_result"
    }
   ],
   "source": [
    "muscle.obs.query('TMS_muscle_CE_free_annotation == \"slow muscle cell\"').TMS_muscle_CE_free_annotation.value_counts().head(1)"
   ]
  },
  {
   "cell_type": "code",
   "execution_count": 39,
   "metadata": {},
   "outputs": [
    {
     "data": {
      "text/plain": [
       "3m     2\n",
       "24m    1\n",
       "21m    1\n",
       "1m     1\n",
       "30m    0\n",
       "18m    0\n",
       "Name: age, dtype: int64"
      ]
     },
     "execution_count": 39,
     "metadata": {},
     "output_type": "execute_result"
    }
   ],
   "source": [
    "muscle.obs.query('TMS_muscle_CE_free_annotation == \"slow muscle cell\"').age.value_counts()"
   ]
  },
  {
   "cell_type": "markdown",
   "metadata": {},
   "source": [
    "### Remove 1m and 3m data"
   ]
  },
  {
   "cell_type": "code",
   "execution_count": 7,
   "metadata": {},
   "outputs": [
    {
     "data": {
      "text/plain": [
       "View of AnnData object with n_obs × n_vars = 19560 × 20138\n",
       "    obs: 'age', 'cell', 'cell_ontology_class', 'cell_ontology_id', 'free_annotation', 'method', 'mouse.id', 'n_genes', 'sex', 'subtissue', 'tissue', 'tissue_free_annotation', 'n_counts', 'louvain', 'leiden', 'TMS_muscle_ADM_free_annotation', 'TMS_muscle_CE_compartment', 'TMS_muscle_CE_free_annotation'\n",
       "    var: 'n_cells', 'means', 'dispersions', 'dispersions_norm', 'highly_variable'\n",
       "    uns: 'TMS_muscle_CE_compartment_colors', 'TMS_muscle_CE_free_annotation_colors', 'age_colors', 'cell_ontology_class_colors', 'leiden', 'louvain', 'neighbors', 'pca'\n",
       "    obsm: 'X_pca', 'X_tsne', 'X_umap'\n",
       "    varm: 'PCs'\n",
       "    obsp: 'connectivities', 'distances'"
      ]
     },
     "execution_count": 7,
     "metadata": {},
     "output_type": "execute_result"
    }
   ],
   "source": [
    "muscle_no1m_no3m = muscle[~muscle.obs.age.isin(('1m', '3m'))]\n",
    "muscle_no1m_no3m"
   ]
  },
  {
   "cell_type": "markdown",
   "metadata": {},
   "source": [
    "### Set `free_annotation` as the updated one to be consistent with lung"
   ]
  },
  {
   "cell_type": "code",
   "execution_count": 8,
   "metadata": {},
   "outputs": [
    {
     "name": "stderr",
     "output_type": "stream",
     "text": [
      "Trying to set attribute `.obs` of view, copying.\n"
     ]
    }
   ],
   "source": [
    "new_annotation_col = 'TMS_muscle_CE_free_annotation'\n",
    "\n",
    "muscle_no1m_no3m.obs['free_annotation'] = muscle_no1m_no3m.obs[new_annotation_col]"
   ]
  },
  {
   "cell_type": "code",
   "execution_count": 36,
   "metadata": {},
   "outputs": [
    {
     "data": {
      "text/plain": [
       "fibroadipogenic progenitor cell        6483\n",
       "capillary cell                         2499\n",
       "tendon cell                            1944\n",
       "skeletal muscle satellite stem cell    1176\n",
       "macrophage                              793\n",
       "                                       ... \n",
       "T cell (PF CD4- CD8+)                     5\n",
       "unknown_epithelial_stromal (KRT5+)        5\n",
       "unknown_lymphoid (FCER1G+)                5\n",
       "slow muscle cell                          2\n",
       "tendon cell_chondrocyte (COL2A1+)         2\n",
       "Name: free_annotation, Length: 61, dtype: int64"
      ]
     },
     "execution_count": 36,
     "metadata": {},
     "output_type": "execute_result"
    }
   ],
   "source": [
    "muscle_no1m_no3m.obs.free_annotation.value_counts()"
   ]
  },
  {
   "cell_type": "markdown",
   "metadata": {},
   "source": [
    "## Make new adata with muscle replaced"
   ]
  },
  {
   "cell_type": "code",
   "execution_count": 9,
   "metadata": {},
   "outputs": [
    {
     "data": {
      "text/plain": [
       "Marrow             39125\n",
       "Spleen             34853\n",
       "Limb_Muscle        28176\n",
       "Lung               23802\n",
       "Kidney             21038\n",
       "Tongue             20271\n",
       "Mammary_Gland      11954\n",
       "Thymus              9082\n",
       "Bladder             8752\n",
       "Heart_and_Aorta     8253\n",
       "Trachea             7901\n",
       "Liver               7052\n",
       "Fat                 6534\n",
       "Pancreas            5969\n",
       "Skin                4308\n",
       "Large_Intestine     1845\n",
       "Name: tissue, dtype: int64"
      ]
     },
     "execution_count": 9,
     "metadata": {},
     "output_type": "execute_result"
    }
   ],
   "source": [
    "adata.obs.tissue.value_counts()"
   ]
  },
  {
   "cell_type": "code",
   "execution_count": 10,
   "metadata": {},
   "outputs": [
    {
     "data": {
      "text/plain": [
       "View of AnnData object with n_obs × n_vars = 210739 × 20138\n",
       "    obs: 'age', 'cell_id', 'cell_ontology_class', 'cell_ontology_id', 'free_annotation', 'n_genes', 'sex', 'subtissue', 'tissue', 'species', 'species_latin', 'channel', 'sequencing_run', 'cell_barcode', 'n_counts', 'individual', 'narrow_group', 'broad_group', 'compartment_group'\n",
       "    var: 'n_cells'"
      ]
     },
     "execution_count": 10,
     "metadata": {},
     "output_type": "execute_result"
    }
   ],
   "source": [
    "adata_no_muscle = adata[adata.obs.tissue != \"Limb_Muscle\"]\n",
    "adata_no_muscle"
   ]
  },
  {
   "cell_type": "markdown",
   "metadata": {},
   "source": [
    "### Create muscle-only subset of original data and remove 1m and 3m"
   ]
  },
  {
   "cell_type": "code",
   "execution_count": 11,
   "metadata": {},
   "outputs": [
    {
     "data": {
      "text/plain": [
       "View of AnnData object with n_obs × n_vars = 19164 × 20138\n",
       "    obs: 'age', 'cell_id', 'cell_ontology_class', 'cell_ontology_id', 'free_annotation', 'n_genes', 'sex', 'subtissue', 'tissue', 'species', 'species_latin', 'channel', 'sequencing_run', 'cell_barcode', 'n_counts', 'individual', 'narrow_group', 'broad_group', 'compartment_group'\n",
       "    var: 'n_cells'"
      ]
     },
     "execution_count": 11,
     "metadata": {},
     "output_type": "execute_result"
    }
   ],
   "source": [
    "adata_muscle = adata[adata.obs.tissue == \"Limb_Muscle\"]\n",
    "adata_muscle_no_1m_3m = adata_muscle[~adata_muscle.obs.age.isin(('1m', '3m'))]\n",
    "adata_muscle_no_1m_3m"
   ]
  },
  {
   "cell_type": "code",
   "execution_count": 12,
   "metadata": {},
   "outputs": [
    {
     "data": {
      "text/plain": [
       "index\n",
       "AAACCTGAGAAACCGC-1-14-0-0                 nan\n",
       "AAACCTGCAATAACGA-1-14-0-0                 nan\n",
       "AAACCTGCAGCGTAAG-1-14-0-0    chondrocyte-like\n",
       "AAACCTGGTAGCTTGT-1-14-0-0    chondrocyte-like\n",
       "AAAGCAAGTCTGGTCG-1-14-0-0                 nan\n",
       "Name: free_annotation, dtype: category\n",
       "Categories (3, object): ['chondrocyte-like', 'nan', 'unknown']"
      ]
     },
     "execution_count": 12,
     "metadata": {},
     "output_type": "execute_result"
    }
   ],
   "source": [
    "adata_muscle_no_1m_3m.obs['free_annotation'].head()"
   ]
  },
  {
   "cell_type": "code",
   "execution_count": 13,
   "metadata": {},
   "outputs": [
    {
     "data": {
      "text/plain": [
       "nan                 14334\n",
       "chondrocyte-like     3763\n",
       "unknown              1067\n",
       "Name: free_annotation, dtype: int64"
      ]
     },
     "execution_count": 13,
     "metadata": {},
     "output_type": "execute_result"
    }
   ],
   "source": [
    "adata_muscle_no_1m_3m.obs['free_annotation'].value_counts()"
   ]
  },
  {
   "cell_type": "markdown",
   "metadata": {},
   "source": [
    "### Update just the `free_annotation` column in the obs of the muscle data, no 1m or 3m"
   ]
  },
  {
   "cell_type": "code",
   "execution_count": 14,
   "metadata": {},
   "outputs": [
    {
     "data": {
      "text/plain": [
       "fibroadipogenic progenitor cell        6483\n",
       "capillary cell                         2499\n",
       "tendon cell                            1944\n",
       "skeletal muscle satellite stem cell    1176\n",
       "macrophage                              793\n",
       "                                       ... \n",
       "T cell (PF CD4- CD8+)                     5\n",
       "unknown_epithelial_stromal (KRT5+)        5\n",
       "unknown_lymphoid (FCER1G+)                5\n",
       "slow muscle cell                          2\n",
       "tendon cell_chondrocyte (COL2A1+)         2\n",
       "Name: TMS_muscle_CE_free_annotation, Length: 61, dtype: int64"
      ]
     },
     "execution_count": 14,
     "metadata": {},
     "output_type": "execute_result"
    }
   ],
   "source": [
    "muscle_no1m_no3m.obs[new_annotation_col].value_counts()"
   ]
  },
  {
   "cell_type": "code",
   "execution_count": 15,
   "metadata": {},
   "outputs": [
    {
     "name": "stderr",
     "output_type": "stream",
     "text": [
      "Trying to set attribute `.obs` of view, copying.\n"
     ]
    }
   ],
   "source": [
    "adata_muscle_no_1m_3m.obs['free_annotation'] = muscle_no1m_no3m.obs.loc[adata_muscle_no_1m_3m.obs.index, new_annotation_col]"
   ]
  },
  {
   "cell_type": "code",
   "execution_count": 16,
   "metadata": {},
   "outputs": [
    {
     "data": {
      "text/plain": [
       "fibroadipogenic progenitor cell        6349\n",
       "capillary cell                         2458\n",
       "tendon cell                            1899\n",
       "skeletal muscle satellite stem cell    1161\n",
       "macrophage                              773\n",
       "                                       ... \n",
       "basophil                                  5\n",
       "unknown_epithelial_stromal (KRT5+)        5\n",
       "unknown_lymphoid (FCER1G+)                5\n",
       "slow muscle cell                          2\n",
       "tendon cell_chondrocyte (COL2A1+)         2\n",
       "Name: TMS_muscle_CE_free_annotation, Length: 61, dtype: int64"
      ]
     },
     "execution_count": 16,
     "metadata": {},
     "output_type": "execute_result"
    }
   ],
   "source": [
    "muscle_no1m_no3m.obs.loc[adata_muscle_no_1m_3m.obs.index, new_annotation_col].value_counts()"
   ]
  },
  {
   "cell_type": "markdown",
   "metadata": {},
   "source": [
    "### Concatenate"
   ]
  },
  {
   "cell_type": "code",
   "execution_count": 17,
   "metadata": {},
   "outputs": [
    {
     "data": {
      "text/plain": [
       "AnnData object with n_obs × n_vars = 229903 × 20138\n",
       "    obs: 'age', 'cell_id', 'cell_ontology_class', 'cell_ontology_id', 'free_annotation', 'n_genes', 'sex', 'subtissue', 'tissue', 'species', 'species_latin', 'channel', 'sequencing_run', 'cell_barcode', 'n_counts', 'individual', 'narrow_group', 'broad_group', 'compartment_group', 'batch'\n",
       "    var: 'n_cells'"
      ]
     },
     "execution_count": 17,
     "metadata": {},
     "output_type": "execute_result"
    }
   ],
   "source": [
    "adata_updated_muscle = adata_no_muscle.concatenate(adata_muscle_no_1m_3m)\n",
    "adata_updated_muscle"
   ]
  },
  {
   "cell_type": "markdown",
   "metadata": {},
   "source": [
    "## Add unified cell type groups: Muscle first"
   ]
  },
  {
   "cell_type": "code",
   "execution_count": 18,
   "metadata": {},
   "outputs": [
    {
     "name": "stdout",
     "output_type": "stream",
     "text": [
      "(61, 4)\n"
     ]
    },
    {
     "data": {
      "text/html": [
       "<div>\n",
       "<style scoped>\n",
       "    .dataframe tbody tr th:only-of-type {\n",
       "        vertical-align: middle;\n",
       "    }\n",
       "\n",
       "    .dataframe tbody tr th {\n",
       "        vertical-align: top;\n",
       "    }\n",
       "\n",
       "    .dataframe thead th {\n",
       "        text-align: right;\n",
       "    }\n",
       "</style>\n",
       "<table border=\"1\" class=\"dataframe\">\n",
       "  <thead>\n",
       "    <tr style=\"text-align: right;\">\n",
       "      <th></th>\n",
       "      <th>narrow_group</th>\n",
       "      <th>broad_group</th>\n",
       "      <th>compartment_group</th>\n",
       "      <th>tissue</th>\n",
       "    </tr>\n",
       "    <tr>\n",
       "      <th>(Mouse, Tabula Muris Senis, TMS_muscle_CE_free_annotation (remove 1 and 3 month old mice))</th>\n",
       "      <th></th>\n",
       "      <th></th>\n",
       "      <th></th>\n",
       "      <th></th>\n",
       "    </tr>\n",
       "  </thead>\n",
       "  <tbody>\n",
       "    <tr>\n",
       "      <th>B cell</th>\n",
       "      <td>B cell</td>\n",
       "      <td>B cell</td>\n",
       "      <td>lymphoid</td>\n",
       "      <td>Muscle</td>\n",
       "    </tr>\n",
       "    <tr>\n",
       "      <th>B cell (ZBTB32+)</th>\n",
       "      <td>B cell</td>\n",
       "      <td>B cell</td>\n",
       "      <td>lymphoid</td>\n",
       "      <td>Muscle</td>\n",
       "    </tr>\n",
       "    <tr>\n",
       "      <th>B cell (PF ZBTB32+)</th>\n",
       "      <td>B cell (PF)</td>\n",
       "      <td>B cell</td>\n",
       "      <td>lymphoid</td>\n",
       "      <td>Muscle</td>\n",
       "    </tr>\n",
       "    <tr>\n",
       "      <th>plasma cell</th>\n",
       "      <td>plasma cell</td>\n",
       "      <td>plasma cell</td>\n",
       "      <td>lymphoid</td>\n",
       "      <td>Muscle</td>\n",
       "    </tr>\n",
       "    <tr>\n",
       "      <th>T cell (CD4- CD8- TMEM176A+)</th>\n",
       "      <td>T cell</td>\n",
       "      <td>T cell</td>\n",
       "      <td>lymphoid</td>\n",
       "      <td>Muscle</td>\n",
       "    </tr>\n",
       "    <tr>\n",
       "      <th>...</th>\n",
       "      <td>...</td>\n",
       "      <td>...</td>\n",
       "      <td>...</td>\n",
       "      <td>...</td>\n",
       "    </tr>\n",
       "    <tr>\n",
       "      <th>unknown_epithelial_stromal (KRT5+)</th>\n",
       "      <td>unknown_epithelial_stromal (KRT5+)</td>\n",
       "      <td>unknown_epithelial_stromal (KRT5+)</td>\n",
       "      <td>epithelial</td>\n",
       "      <td>Muscle</td>\n",
       "    </tr>\n",
       "    <tr>\n",
       "      <th>doublets_endothelial_stromal</th>\n",
       "      <td>doublet</td>\n",
       "      <td>doublet</td>\n",
       "      <td>NaN</td>\n",
       "      <td>Muscle</td>\n",
       "    </tr>\n",
       "    <tr>\n",
       "      <th>doublets_lymphoid_endothelial</th>\n",
       "      <td>doublet</td>\n",
       "      <td>doublet</td>\n",
       "      <td>NaN</td>\n",
       "      <td>Muscle</td>\n",
       "    </tr>\n",
       "    <tr>\n",
       "      <th>doublets_myeloid_endothelial</th>\n",
       "      <td>doublet</td>\n",
       "      <td>doublet</td>\n",
       "      <td>NaN</td>\n",
       "      <td>Muscle</td>\n",
       "    </tr>\n",
       "    <tr>\n",
       "      <th>doublets_myeloid_stromal</th>\n",
       "      <td>doublet</td>\n",
       "      <td>doublet</td>\n",
       "      <td>NaN</td>\n",
       "      <td>Muscle</td>\n",
       "    </tr>\n",
       "  </tbody>\n",
       "</table>\n",
       "<p>61 rows × 4 columns</p>\n",
       "</div>"
      ],
      "text/plain": [
       "                                                                          narrow_group  \\\n",
       "(Mouse, Tabula Muris Senis, TMS_muscle_CE_free_...                                       \n",
       "B cell                                                                          B cell   \n",
       "B cell (ZBTB32+)                                                                B cell   \n",
       "B cell (PF ZBTB32+)                                                        B cell (PF)   \n",
       "plasma cell                                                                plasma cell   \n",
       "T cell (CD4- CD8- TMEM176A+)                                                    T cell   \n",
       "...                                                                                ...   \n",
       "unknown_epithelial_stromal (KRT5+)                  unknown_epithelial_stromal (KRT5+)   \n",
       "doublets_endothelial_stromal                                                   doublet   \n",
       "doublets_lymphoid_endothelial                                                  doublet   \n",
       "doublets_myeloid_endothelial                                                   doublet   \n",
       "doublets_myeloid_stromal                                                       doublet   \n",
       "\n",
       "                                                                           broad_group  \\\n",
       "(Mouse, Tabula Muris Senis, TMS_muscle_CE_free_...                                       \n",
       "B cell                                                                          B cell   \n",
       "B cell (ZBTB32+)                                                                B cell   \n",
       "B cell (PF ZBTB32+)                                                             B cell   \n",
       "plasma cell                                                                plasma cell   \n",
       "T cell (CD4- CD8- TMEM176A+)                                                    T cell   \n",
       "...                                                                                ...   \n",
       "unknown_epithelial_stromal (KRT5+)                  unknown_epithelial_stromal (KRT5+)   \n",
       "doublets_endothelial_stromal                                                   doublet   \n",
       "doublets_lymphoid_endothelial                                                  doublet   \n",
       "doublets_myeloid_endothelial                                                   doublet   \n",
       "doublets_myeloid_stromal                                                       doublet   \n",
       "\n",
       "                                                   compartment_group  tissue  \n",
       "(Mouse, Tabula Muris Senis, TMS_muscle_CE_free_...                            \n",
       "B cell                                                      lymphoid  Muscle  \n",
       "B cell (ZBTB32+)                                            lymphoid  Muscle  \n",
       "B cell (PF ZBTB32+)                                         lymphoid  Muscle  \n",
       "plasma cell                                                 lymphoid  Muscle  \n",
       "T cell (CD4- CD8- TMEM176A+)                                lymphoid  Muscle  \n",
       "...                                                              ...     ...  \n",
       "unknown_epithelial_stromal (KRT5+)                        epithelial  Muscle  \n",
       "doublets_endothelial_stromal                                     NaN  Muscle  \n",
       "doublets_lymphoid_endothelial                                    NaN  Muscle  \n",
       "doublets_myeloid_endothelial                                     NaN  Muscle  \n",
       "doublets_myeloid_stromal                                         NaN  Muscle  \n",
       "\n",
       "[61 rows x 4 columns]"
      ]
     },
     "execution_count": 18,
     "metadata": {},
     "output_type": "execute_result"
    }
   ],
   "source": [
    "import unified_annotations\n",
    "\n",
    "muscle_grouping = unified_annotations.get_celltype_converter(\n",
    "    \"Muscle\",\n",
    "    (\n",
    "        \"Mouse\",\n",
    "        \"Tabula Muris Senis\",\n",
    "        f\"{new_annotation_col} (remove 1 and 3 month old mice)\",\n",
    "    ),\n",
    ")\n",
    "print(muscle_grouping.shape)\n",
    "muscle_grouping"
   ]
  },
  {
   "cell_type": "markdown",
   "metadata": {},
   "source": [
    "## Concatenate grouping"
   ]
  },
  {
   "cell_type": "code",
   "execution_count": 19,
   "metadata": {},
   "outputs": [
    {
     "data": {
      "text/plain": [
       "B cell                                             617\n",
       "B cell (PF ZBTB32+)                                  6\n",
       "B cell (ZBTB32+)                                   193\n",
       "Schwann cell (NGFR+)                                51\n",
       "T cell (CD4+ CD8-)                                  94\n",
       "                                                  ... \n",
       "unknown_stromal (CLDN1+ COL9A2-)                   135\n",
       "unknown_stromal (CLDN1- COL9A2+)                   180\n",
       "vascular associated smooth muscle cell (ACTG2+)    105\n",
       "vascular associated smooth muscle cell (PLN+)      128\n",
       "vein cell                                          758\n",
       "Name: free_annotation, Length: 61, dtype: int64"
      ]
     },
     "execution_count": 19,
     "metadata": {},
     "output_type": "execute_result"
    }
   ],
   "source": [
    "obs_muscle = adata_updated_muscle.obs.query('tissue == \"Limb_Muscle\"')\n",
    "# obs_muscle.free_annotation.cat.remove_unused_categories(inplace=True)\n",
    "obs_muscle.free_annotation.value_counts().sort_index()"
   ]
  },
  {
   "cell_type": "markdown",
   "metadata": {},
   "source": [
    "### Make sure all muscle cell subtypes are there"
   ]
  },
  {
   "cell_type": "code",
   "execution_count": 31,
   "metadata": {},
   "outputs": [
    {
     "data": {
      "text/plain": [
       "array(['fast muscle cell',\n",
       "       'vascular associated smooth muscle cell (PLN+)',\n",
       "       'pericyte_vascular associated smooth muscle cell',\n",
       "       'vascular associated smooth muscle cell (ACTG2+)',\n",
       "       'slow muscle cell'], dtype=object)"
      ]
     },
     "execution_count": 31,
     "metadata": {},
     "output_type": "execute_result"
    }
   ],
   "source": [
    "obs_muscle.free_annotation[obs_muscle.free_annotation.str.contains('muscle cell')].unique()"
   ]
  },
  {
   "cell_type": "markdown",
   "metadata": {},
   "source": [
    "### How many of each muscle cell?"
   ]
  },
  {
   "cell_type": "code",
   "execution_count": 32,
   "metadata": {},
   "outputs": [
    {
     "data": {
      "text/plain": [
       "pericyte_vascular associated smooth muscle cell    184\n",
       "fast muscle cell                                   144\n",
       "vascular associated smooth muscle cell (PLN+)      128\n",
       "vascular associated smooth muscle cell (ACTG2+)    105\n",
       "slow muscle cell                                     2\n",
       "Name: free_annotation, dtype: int64"
      ]
     },
     "execution_count": 32,
     "metadata": {},
     "output_type": "execute_result"
    }
   ],
   "source": [
    "obs_muscle.free_annotation[obs_muscle.free_annotation.str.contains('muscle cell')].value_counts()"
   ]
  },
  {
   "cell_type": "markdown",
   "metadata": {},
   "source": [
    "## Replace only the Muscle's `narrow_group`, `broad_group`, `comaprtment_group`"
   ]
  },
  {
   "cell_type": "code",
   "execution_count": 33,
   "metadata": {},
   "outputs": [
    {
     "name": "stderr",
     "output_type": "stream",
     "text": [
      "/home/olga/miniconda3/envs/tabula-microcebus-jan2021/lib/python3.7/site-packages/ipykernel_launcher.py:1: SettingWithCopyWarning: \n",
      "A value is trying to be set on a copy of a slice from a DataFrame.\n",
      "Try using .loc[row_indexer,col_indexer] = value instead\n",
      "\n",
      "See the caveats in the documentation: https://pandas.pydata.org/pandas-docs/stable/user_guide/indexing.html#returning-a-view-versus-a-copy\n",
      "  \"\"\"Entry point for launching an IPython kernel.\n",
      "/home/olga/miniconda3/envs/tabula-microcebus-jan2021/lib/python3.7/site-packages/pandas/core/indexing.py:1763: SettingWithCopyWarning: \n",
      "A value is trying to be set on a copy of a slice from a DataFrame.\n",
      "Try using .loc[row_indexer,col_indexer] = value instead\n",
      "\n",
      "See the caveats in the documentation: https://pandas.pydata.org/pandas-docs/stable/user_guide/indexing.html#returning-a-view-versus-a-copy\n",
      "  isetter(loc, value)\n"
     ]
    },
    {
     "data": {
      "text/html": [
       "<div>\n",
       "<style scoped>\n",
       "    .dataframe tbody tr th:only-of-type {\n",
       "        vertical-align: middle;\n",
       "    }\n",
       "\n",
       "    .dataframe tbody tr th {\n",
       "        vertical-align: top;\n",
       "    }\n",
       "\n",
       "    .dataframe thead th {\n",
       "        text-align: right;\n",
       "    }\n",
       "</style>\n",
       "<table border=\"1\" class=\"dataframe\">\n",
       "  <thead>\n",
       "    <tr style=\"text-align: right;\">\n",
       "      <th></th>\n",
       "      <th>age</th>\n",
       "      <th>cell_id</th>\n",
       "      <th>cell_ontology_class</th>\n",
       "      <th>cell_ontology_id</th>\n",
       "      <th>free_annotation</th>\n",
       "      <th>n_genes</th>\n",
       "      <th>sex</th>\n",
       "      <th>subtissue</th>\n",
       "      <th>tissue</th>\n",
       "      <th>species</th>\n",
       "      <th>species_latin</th>\n",
       "      <th>channel</th>\n",
       "      <th>sequencing_run</th>\n",
       "      <th>cell_barcode</th>\n",
       "      <th>n_counts</th>\n",
       "      <th>individual</th>\n",
       "      <th>narrow_group</th>\n",
       "      <th>broad_group</th>\n",
       "      <th>compartment_group</th>\n",
       "      <th>batch</th>\n",
       "    </tr>\n",
       "    <tr>\n",
       "      <th>index</th>\n",
       "      <th></th>\n",
       "      <th></th>\n",
       "      <th></th>\n",
       "      <th></th>\n",
       "      <th></th>\n",
       "      <th></th>\n",
       "      <th></th>\n",
       "      <th></th>\n",
       "      <th></th>\n",
       "      <th></th>\n",
       "      <th></th>\n",
       "      <th></th>\n",
       "      <th></th>\n",
       "      <th></th>\n",
       "      <th></th>\n",
       "      <th></th>\n",
       "      <th></th>\n",
       "      <th></th>\n",
       "      <th></th>\n",
       "      <th></th>\n",
       "    </tr>\n",
       "  </thead>\n",
       "  <tbody>\n",
       "    <tr>\n",
       "      <th>AAACCTGAGAAACCGC-1-14-0-0-1</th>\n",
       "      <td>18m</td>\n",
       "      <td>MACA_18m_F_MUSCLE_50_pre_sort_AAACCTGAGAAACCGC</td>\n",
       "      <td>macrophage</td>\n",
       "      <td>NA</td>\n",
       "      <td>classical monocyte</td>\n",
       "      <td>2506.0</td>\n",
       "      <td>female</td>\n",
       "      <td>Pre-Sort</td>\n",
       "      <td>nan</td>\n",
       "      <td>Mouse</td>\n",
       "      <td>Mus musculus</td>\n",
       "      <td>MACA_18m_F_MUSCLE_50_pre_sort</td>\n",
       "      <td>171005_A00111_0072_AH3YLGDMXX</td>\n",
       "      <td>AAACCTGAGAAACCGC</td>\n",
       "      <td>1</td>\n",
       "      <td>mouse_10_18-F-50</td>\n",
       "      <td>nan</td>\n",
       "      <td>nan</td>\n",
       "      <td>nan</td>\n",
       "      <td>1</td>\n",
       "    </tr>\n",
       "    <tr>\n",
       "      <th>AAACCTGCAATAACGA-1-14-0-0-1</th>\n",
       "      <td>18m</td>\n",
       "      <td>MACA_18m_F_MUSCLE_50_pre_sort_AAACCTGCAATAACGA</td>\n",
       "      <td>endothelial cell</td>\n",
       "      <td>NA</td>\n",
       "      <td>capillary cell</td>\n",
       "      <td>1361.0</td>\n",
       "      <td>female</td>\n",
       "      <td>Pre-Sort</td>\n",
       "      <td>nan</td>\n",
       "      <td>Mouse</td>\n",
       "      <td>Mus musculus</td>\n",
       "      <td>MACA_18m_F_MUSCLE_50_pre_sort</td>\n",
       "      <td>171005_A00111_0072_AH3YLGDMXX</td>\n",
       "      <td>AAACCTGCAATAACGA</td>\n",
       "      <td>1</td>\n",
       "      <td>mouse_10_18-F-50</td>\n",
       "      <td>nan</td>\n",
       "      <td>nan</td>\n",
       "      <td>nan</td>\n",
       "      <td>1</td>\n",
       "    </tr>\n",
       "    <tr>\n",
       "      <th>AAACCTGCAGCGTAAG-1-14-0-0-1</th>\n",
       "      <td>18m</td>\n",
       "      <td>MACA_18m_F_MUSCLE_50_pre_sort_AAACCTGCAGCGTAAG</td>\n",
       "      <td>mesenchymal stem cell</td>\n",
       "      <td>NA</td>\n",
       "      <td>tendon cell</td>\n",
       "      <td>1482.0</td>\n",
       "      <td>female</td>\n",
       "      <td>Pre-Sort</td>\n",
       "      <td>nan</td>\n",
       "      <td>Mouse</td>\n",
       "      <td>Mus musculus</td>\n",
       "      <td>MACA_18m_F_MUSCLE_50_pre_sort</td>\n",
       "      <td>171005_A00111_0072_AH3YLGDMXX</td>\n",
       "      <td>AAACCTGCAGCGTAAG</td>\n",
       "      <td>1</td>\n",
       "      <td>mouse_10_18-F-50</td>\n",
       "      <td>nan</td>\n",
       "      <td>nan</td>\n",
       "      <td>nan</td>\n",
       "      <td>1</td>\n",
       "    </tr>\n",
       "    <tr>\n",
       "      <th>AAACCTGGTAGCTTGT-1-14-0-0-1</th>\n",
       "      <td>18m</td>\n",
       "      <td>MACA_18m_F_MUSCLE_50_pre_sort_AAACCTGGTAGCTTGT</td>\n",
       "      <td>mesenchymal stem cell</td>\n",
       "      <td>NA</td>\n",
       "      <td>fibroadipogenic progenitor cell</td>\n",
       "      <td>1652.0</td>\n",
       "      <td>female</td>\n",
       "      <td>Pre-Sort</td>\n",
       "      <td>nan</td>\n",
       "      <td>Mouse</td>\n",
       "      <td>Mus musculus</td>\n",
       "      <td>MACA_18m_F_MUSCLE_50_pre_sort</td>\n",
       "      <td>171005_A00111_0072_AH3YLGDMXX</td>\n",
       "      <td>AAACCTGGTAGCTTGT</td>\n",
       "      <td>1</td>\n",
       "      <td>mouse_10_18-F-50</td>\n",
       "      <td>nan</td>\n",
       "      <td>nan</td>\n",
       "      <td>nan</td>\n",
       "      <td>1</td>\n",
       "    </tr>\n",
       "    <tr>\n",
       "      <th>AAAGCAAGTCTGGTCG-1-14-0-0-1</th>\n",
       "      <td>18m</td>\n",
       "      <td>MACA_18m_F_MUSCLE_50_pre_sort_AAAGCAAGTCTGGTCG</td>\n",
       "      <td>mesenchymal stem cell</td>\n",
       "      <td>NA</td>\n",
       "      <td>fibroadipogenic progenitor cell</td>\n",
       "      <td>1069.0</td>\n",
       "      <td>female</td>\n",
       "      <td>Pre-Sort</td>\n",
       "      <td>nan</td>\n",
       "      <td>Mouse</td>\n",
       "      <td>Mus musculus</td>\n",
       "      <td>MACA_18m_F_MUSCLE_50_pre_sort</td>\n",
       "      <td>171005_A00111_0072_AH3YLGDMXX</td>\n",
       "      <td>AAAGCAAGTCTGGTCG</td>\n",
       "      <td>1</td>\n",
       "      <td>mouse_10_18-F-50</td>\n",
       "      <td>nan</td>\n",
       "      <td>nan</td>\n",
       "      <td>nan</td>\n",
       "      <td>1</td>\n",
       "    </tr>\n",
       "  </tbody>\n",
       "</table>\n",
       "</div>"
      ],
      "text/plain": [
       "                             age  \\\n",
       "index                              \n",
       "AAACCTGAGAAACCGC-1-14-0-0-1  18m   \n",
       "AAACCTGCAATAACGA-1-14-0-0-1  18m   \n",
       "AAACCTGCAGCGTAAG-1-14-0-0-1  18m   \n",
       "AAACCTGGTAGCTTGT-1-14-0-0-1  18m   \n",
       "AAAGCAAGTCTGGTCG-1-14-0-0-1  18m   \n",
       "\n",
       "                                                                    cell_id  \\\n",
       "index                                                                         \n",
       "AAACCTGAGAAACCGC-1-14-0-0-1  MACA_18m_F_MUSCLE_50_pre_sort_AAACCTGAGAAACCGC   \n",
       "AAACCTGCAATAACGA-1-14-0-0-1  MACA_18m_F_MUSCLE_50_pre_sort_AAACCTGCAATAACGA   \n",
       "AAACCTGCAGCGTAAG-1-14-0-0-1  MACA_18m_F_MUSCLE_50_pre_sort_AAACCTGCAGCGTAAG   \n",
       "AAACCTGGTAGCTTGT-1-14-0-0-1  MACA_18m_F_MUSCLE_50_pre_sort_AAACCTGGTAGCTTGT   \n",
       "AAAGCAAGTCTGGTCG-1-14-0-0-1  MACA_18m_F_MUSCLE_50_pre_sort_AAAGCAAGTCTGGTCG   \n",
       "\n",
       "                               cell_ontology_class cell_ontology_id  \\\n",
       "index                                                                 \n",
       "AAACCTGAGAAACCGC-1-14-0-0-1             macrophage               NA   \n",
       "AAACCTGCAATAACGA-1-14-0-0-1       endothelial cell               NA   \n",
       "AAACCTGCAGCGTAAG-1-14-0-0-1  mesenchymal stem cell               NA   \n",
       "AAACCTGGTAGCTTGT-1-14-0-0-1  mesenchymal stem cell               NA   \n",
       "AAAGCAAGTCTGGTCG-1-14-0-0-1  mesenchymal stem cell               NA   \n",
       "\n",
       "                                             free_annotation  n_genes     sex  \\\n",
       "index                                                                           \n",
       "AAACCTGAGAAACCGC-1-14-0-0-1               classical monocyte   2506.0  female   \n",
       "AAACCTGCAATAACGA-1-14-0-0-1                   capillary cell   1361.0  female   \n",
       "AAACCTGCAGCGTAAG-1-14-0-0-1                      tendon cell   1482.0  female   \n",
       "AAACCTGGTAGCTTGT-1-14-0-0-1  fibroadipogenic progenitor cell   1652.0  female   \n",
       "AAAGCAAGTCTGGTCG-1-14-0-0-1  fibroadipogenic progenitor cell   1069.0  female   \n",
       "\n",
       "                            subtissue tissue species species_latin  \\\n",
       "index                                                                \n",
       "AAACCTGAGAAACCGC-1-14-0-0-1  Pre-Sort    nan   Mouse  Mus musculus   \n",
       "AAACCTGCAATAACGA-1-14-0-0-1  Pre-Sort    nan   Mouse  Mus musculus   \n",
       "AAACCTGCAGCGTAAG-1-14-0-0-1  Pre-Sort    nan   Mouse  Mus musculus   \n",
       "AAACCTGGTAGCTTGT-1-14-0-0-1  Pre-Sort    nan   Mouse  Mus musculus   \n",
       "AAAGCAAGTCTGGTCG-1-14-0-0-1  Pre-Sort    nan   Mouse  Mus musculus   \n",
       "\n",
       "                                                   channel  \\\n",
       "index                                                        \n",
       "AAACCTGAGAAACCGC-1-14-0-0-1  MACA_18m_F_MUSCLE_50_pre_sort   \n",
       "AAACCTGCAATAACGA-1-14-0-0-1  MACA_18m_F_MUSCLE_50_pre_sort   \n",
       "AAACCTGCAGCGTAAG-1-14-0-0-1  MACA_18m_F_MUSCLE_50_pre_sort   \n",
       "AAACCTGGTAGCTTGT-1-14-0-0-1  MACA_18m_F_MUSCLE_50_pre_sort   \n",
       "AAAGCAAGTCTGGTCG-1-14-0-0-1  MACA_18m_F_MUSCLE_50_pre_sort   \n",
       "\n",
       "                                            sequencing_run      cell_barcode  \\\n",
       "index                                                                          \n",
       "AAACCTGAGAAACCGC-1-14-0-0-1  171005_A00111_0072_AH3YLGDMXX  AAACCTGAGAAACCGC   \n",
       "AAACCTGCAATAACGA-1-14-0-0-1  171005_A00111_0072_AH3YLGDMXX  AAACCTGCAATAACGA   \n",
       "AAACCTGCAGCGTAAG-1-14-0-0-1  171005_A00111_0072_AH3YLGDMXX  AAACCTGCAGCGTAAG   \n",
       "AAACCTGGTAGCTTGT-1-14-0-0-1  171005_A00111_0072_AH3YLGDMXX  AAACCTGGTAGCTTGT   \n",
       "AAAGCAAGTCTGGTCG-1-14-0-0-1  171005_A00111_0072_AH3YLGDMXX  AAAGCAAGTCTGGTCG   \n",
       "\n",
       "                             n_counts        individual narrow_group  \\\n",
       "index                                                                  \n",
       "AAACCTGAGAAACCGC-1-14-0-0-1         1  mouse_10_18-F-50          nan   \n",
       "AAACCTGCAATAACGA-1-14-0-0-1         1  mouse_10_18-F-50          nan   \n",
       "AAACCTGCAGCGTAAG-1-14-0-0-1         1  mouse_10_18-F-50          nan   \n",
       "AAACCTGGTAGCTTGT-1-14-0-0-1         1  mouse_10_18-F-50          nan   \n",
       "AAAGCAAGTCTGGTCG-1-14-0-0-1         1  mouse_10_18-F-50          nan   \n",
       "\n",
       "                            broad_group compartment_group batch  \n",
       "index                                                            \n",
       "AAACCTGAGAAACCGC-1-14-0-0-1         nan               nan     1  \n",
       "AAACCTGCAATAACGA-1-14-0-0-1         nan               nan     1  \n",
       "AAACCTGCAGCGTAAG-1-14-0-0-1         nan               nan     1  \n",
       "AAACCTGGTAGCTTGT-1-14-0-0-1         nan               nan     1  \n",
       "AAAGCAAGTCTGGTCG-1-14-0-0-1         nan               nan     1  "
      ]
     },
     "execution_count": 33,
     "metadata": {},
     "output_type": "execute_result"
    }
   ],
   "source": [
    "obs_muscle[muscle_grouping.columns] = 'nan'\n",
    "obs_muscle.head()"
   ]
  },
  {
   "cell_type": "code",
   "execution_count": 34,
   "metadata": {},
   "outputs": [],
   "source": [
    "for x in sorted(muscle_grouping.index.symmetric_difference(obs_muscle.free_annotation.unique())):\n",
    "    print(x)"
   ]
  },
  {
   "cell_type": "code",
   "execution_count": 35,
   "metadata": {},
   "outputs": [
    {
     "name": "stderr",
     "output_type": "stream",
     "text": [
      "/home/olga/miniconda3/envs/tabula-microcebus-jan2021/lib/python3.7/site-packages/pandas/core/indexing.py:1743: SettingWithCopyWarning: \n",
      "A value is trying to be set on a copy of a slice from a DataFrame.\n",
      "Try using .loc[row_indexer,col_indexer] = value instead\n",
      "\n",
      "See the caveats in the documentation: https://pandas.pydata.org/pandas-docs/stable/user_guide/indexing.html#returning-a-view-versus-a-copy\n",
      "  isetter(ilocs[0], value)\n"
     ]
    },
    {
     "data": {
      "text/plain": [
       "fibroadipogenic progenitor cell                         6349\n",
       "capillary cell                                          2458\n",
       "tendon cell                                             1899\n",
       "skeletal muscle satellite stem cell                     1161\n",
       "B cell                                                   810\n",
       "macrophage                                               773\n",
       "vein cell                                                758\n",
       "artery cell                                              752\n",
       "doublet                                                  590\n",
       "artery cell_capillary cell (RBP7+)                       279\n",
       "fibroadipogenic progenitor cell_tendon cell (SFRP2+)     271\n",
       "lymphatic cell                                           261\n",
       "classical monocyte                                       239\n",
       "vascular associated smooth muscle cell                   233\n",
       "T cell (CD8+)                                            230\n",
       "unknown_myeloid (CD209A+)                                224\n",
       "pericyte_vascular associated smooth muscle cell          184\n",
       "unknown_stromal (CLDN1- COL9A2+)                         180\n",
       "T cell                                                   178\n",
       "pericyte                                                 156\n",
       "unknown_stromal (CLDN1+)                                 151\n",
       "fast muscle cell                                         144\n",
       "conventional dendritic cell                              106\n",
       "neutrophil                                               104\n",
       "T cell (CD4+)                                             94\n",
       "terminal Schwann cell                                     89\n",
       "T cell (regulatory CD4+)                                  54\n",
       "plasma cell                                               52\n",
       "Schwann cell (NGFR+)                                      51\n",
       "non-classical monocyte                                    50\n",
       "unknown_endothelial (COL13A1+)                            49\n",
       "neutrophil (PF)                                           27\n",
       "myelinating Schwann cell                                  27\n",
       "mature dendritic cell                                     25\n",
       "innate lymphoid cell                                      24\n",
       "unknown_myeloid (PF CD209A+)                              16\n",
       "natural killer cell                                       14\n",
       "neutrophil_monocyte                                       14\n",
       "conventional dendritic cell (PF)                          14\n",
       "erythroid lineage cell                                    12\n",
       "plasmacytoid dendritic cell                               10\n",
       "skeletal muscle satellite stem cell (MYOG+)                9\n",
       "tendon cell_osteoblast (BGLAP+)                            7\n",
       "T cell (PF CD4+)                                           6\n",
       "B cell (PF)                                                6\n",
       "unknown_epithelial_stromal (KRT5+)                         5\n",
       "unknown_lymphoid (FCER1G+)                                 5\n",
       "T cell (PF CD8+)                                           5\n",
       "basophil                                                   5\n",
       "slow muscle cell                                           2\n",
       "tendon cell_chondrocyte (COL2A1+)                          2\n",
       "Name: narrow_group, dtype: int64"
      ]
     },
     "execution_count": 35,
     "metadata": {},
     "output_type": "execute_result"
    }
   ],
   "source": [
    "for free_annotation, df in obs_muscle.groupby(\"free_annotation\"):\n",
    "    for group_name, group_value in muscle_grouping.loc[free_annotation].items():\n",
    "        obs_muscle.loc[df.index, group_name] = obs_muscle.loc[\n",
    "            df.index, group_name\n",
    "        ].replace({\"nan\": group_value}).astype(str)\n",
    "        \n",
    "obs_muscle.narrow_group.value_counts()"
   ]
  },
  {
   "cell_type": "code",
   "execution_count": 25,
   "metadata": {},
   "outputs": [
    {
     "data": {
      "text/plain": [
       "['B cell',\n",
       " 'B cell (PF)',\n",
       " 'Schwann cell (NGFR+)',\n",
       " 'T cell',\n",
       " 'T cell (CD4+)',\n",
       " 'T cell (CD8+)',\n",
       " 'T cell (PF CD4+)',\n",
       " 'T cell (PF CD8+)',\n",
       " 'T cell (regulatory CD4+)',\n",
       " 'artery cell',\n",
       " 'artery cell_capillary cell (RBP7+)',\n",
       " 'basophil',\n",
       " 'capillary cell',\n",
       " 'classical monocyte',\n",
       " 'conventional dendritic cell',\n",
       " 'conventional dendritic cell (PF)',\n",
       " 'doublet',\n",
       " 'erythroid lineage cell',\n",
       " 'fast muscle cell',\n",
       " 'fibroadipogenic progenitor cell',\n",
       " 'fibroadipogenic progenitor cell_tendon cell (SFRP2+)',\n",
       " 'innate lymphoid cell',\n",
       " 'lymphatic cell',\n",
       " 'macrophage',\n",
       " 'mature dendritic cell',\n",
       " 'myelinating Schwann cell',\n",
       " 'natural killer cell',\n",
       " 'neutrophil',\n",
       " 'neutrophil (PF)',\n",
       " 'neutrophil_monocyte',\n",
       " 'non-classical monocyte',\n",
       " 'pericyte',\n",
       " 'pericyte_vascular associated smooth muscle cell',\n",
       " 'plasma cell',\n",
       " 'plasmacytoid dendritic cell',\n",
       " 'skeletal muscle satellite stem cell',\n",
       " 'skeletal muscle satellite stem cell (MYOG+)',\n",
       " 'slow muscle cell',\n",
       " 'tendon cell',\n",
       " 'tendon cell_chondrocyte (COL2A1+)',\n",
       " 'tendon cell_osteoblast (BGLAP+)',\n",
       " 'terminal Schwann cell',\n",
       " 'unknown_endothelial (COL13A1+)',\n",
       " 'unknown_epithelial_stromal (KRT5+)',\n",
       " 'unknown_lymphoid (FCER1G+)',\n",
       " 'unknown_myeloid (CD209A+)',\n",
       " 'unknown_myeloid (PF CD209A+)',\n",
       " 'unknown_stromal (CLDN1+)',\n",
       " 'unknown_stromal (CLDN1- COL9A2+)',\n",
       " 'vascular associated smooth muscle cell',\n",
       " 'vein cell']"
      ]
     },
     "execution_count": 25,
     "metadata": {},
     "output_type": "execute_result"
    }
   ],
   "source": [
    "sorted(obs_muscle.narrow_group.unique())"
   ]
  },
  {
   "cell_type": "code",
   "execution_count": 26,
   "metadata": {},
   "outputs": [
    {
     "data": {
      "text/html": [
       "<div>\n",
       "<style scoped>\n",
       "    .dataframe tbody tr th:only-of-type {\n",
       "        vertical-align: middle;\n",
       "    }\n",
       "\n",
       "    .dataframe tbody tr th {\n",
       "        vertical-align: top;\n",
       "    }\n",
       "\n",
       "    .dataframe thead th {\n",
       "        text-align: right;\n",
       "    }\n",
       "</style>\n",
       "<table border=\"1\" class=\"dataframe\">\n",
       "  <thead>\n",
       "    <tr style=\"text-align: right;\">\n",
       "      <th></th>\n",
       "      <th>age</th>\n",
       "      <th>cell_id</th>\n",
       "      <th>cell_ontology_class</th>\n",
       "      <th>cell_ontology_id</th>\n",
       "      <th>free_annotation</th>\n",
       "      <th>n_genes</th>\n",
       "      <th>sex</th>\n",
       "      <th>subtissue</th>\n",
       "      <th>tissue</th>\n",
       "      <th>species</th>\n",
       "      <th>species_latin</th>\n",
       "      <th>channel</th>\n",
       "      <th>sequencing_run</th>\n",
       "      <th>cell_barcode</th>\n",
       "      <th>n_counts</th>\n",
       "      <th>individual</th>\n",
       "      <th>narrow_group</th>\n",
       "      <th>broad_group</th>\n",
       "      <th>compartment_group</th>\n",
       "      <th>batch</th>\n",
       "    </tr>\n",
       "    <tr>\n",
       "      <th>index</th>\n",
       "      <th></th>\n",
       "      <th></th>\n",
       "      <th></th>\n",
       "      <th></th>\n",
       "      <th></th>\n",
       "      <th></th>\n",
       "      <th></th>\n",
       "      <th></th>\n",
       "      <th></th>\n",
       "      <th></th>\n",
       "      <th></th>\n",
       "      <th></th>\n",
       "      <th></th>\n",
       "      <th></th>\n",
       "      <th></th>\n",
       "      <th></th>\n",
       "      <th></th>\n",
       "      <th></th>\n",
       "      <th></th>\n",
       "      <th></th>\n",
       "    </tr>\n",
       "  </thead>\n",
       "  <tbody>\n",
       "    <tr>\n",
       "      <th>AAACCTGAGAAACCGC-1-14-0-0-1</th>\n",
       "      <td>18m</td>\n",
       "      <td>MACA_18m_F_MUSCLE_50_pre_sort_AAACCTGAGAAACCGC</td>\n",
       "      <td>macrophage</td>\n",
       "      <td>NA</td>\n",
       "      <td>classical monocyte</td>\n",
       "      <td>2506.0</td>\n",
       "      <td>female</td>\n",
       "      <td>Pre-Sort</td>\n",
       "      <td>Muscle</td>\n",
       "      <td>Mouse</td>\n",
       "      <td>Mus musculus</td>\n",
       "      <td>MACA_18m_F_MUSCLE_50_pre_sort</td>\n",
       "      <td>171005_A00111_0072_AH3YLGDMXX</td>\n",
       "      <td>AAACCTGAGAAACCGC</td>\n",
       "      <td>1</td>\n",
       "      <td>mouse_10_18-F-50</td>\n",
       "      <td>classical monocyte</td>\n",
       "      <td>monocyte</td>\n",
       "      <td>myeloid</td>\n",
       "      <td>1</td>\n",
       "    </tr>\n",
       "    <tr>\n",
       "      <th>AAACCTGCAATAACGA-1-14-0-0-1</th>\n",
       "      <td>18m</td>\n",
       "      <td>MACA_18m_F_MUSCLE_50_pre_sort_AAACCTGCAATAACGA</td>\n",
       "      <td>endothelial cell</td>\n",
       "      <td>NA</td>\n",
       "      <td>capillary cell</td>\n",
       "      <td>1361.0</td>\n",
       "      <td>female</td>\n",
       "      <td>Pre-Sort</td>\n",
       "      <td>Muscle</td>\n",
       "      <td>Mouse</td>\n",
       "      <td>Mus musculus</td>\n",
       "      <td>MACA_18m_F_MUSCLE_50_pre_sort</td>\n",
       "      <td>171005_A00111_0072_AH3YLGDMXX</td>\n",
       "      <td>AAACCTGCAATAACGA</td>\n",
       "      <td>1</td>\n",
       "      <td>mouse_10_18-F-50</td>\n",
       "      <td>capillary cell</td>\n",
       "      <td>capillary cell</td>\n",
       "      <td>endothelial</td>\n",
       "      <td>1</td>\n",
       "    </tr>\n",
       "    <tr>\n",
       "      <th>AAACCTGCAGCGTAAG-1-14-0-0-1</th>\n",
       "      <td>18m</td>\n",
       "      <td>MACA_18m_F_MUSCLE_50_pre_sort_AAACCTGCAGCGTAAG</td>\n",
       "      <td>mesenchymal stem cell</td>\n",
       "      <td>NA</td>\n",
       "      <td>tendon cell</td>\n",
       "      <td>1482.0</td>\n",
       "      <td>female</td>\n",
       "      <td>Pre-Sort</td>\n",
       "      <td>Muscle</td>\n",
       "      <td>Mouse</td>\n",
       "      <td>Mus musculus</td>\n",
       "      <td>MACA_18m_F_MUSCLE_50_pre_sort</td>\n",
       "      <td>171005_A00111_0072_AH3YLGDMXX</td>\n",
       "      <td>AAACCTGCAGCGTAAG</td>\n",
       "      <td>1</td>\n",
       "      <td>mouse_10_18-F-50</td>\n",
       "      <td>tendon cell</td>\n",
       "      <td>tendon cell</td>\n",
       "      <td>stromal</td>\n",
       "      <td>1</td>\n",
       "    </tr>\n",
       "    <tr>\n",
       "      <th>AAACCTGGTAGCTTGT-1-14-0-0-1</th>\n",
       "      <td>18m</td>\n",
       "      <td>MACA_18m_F_MUSCLE_50_pre_sort_AAACCTGGTAGCTTGT</td>\n",
       "      <td>mesenchymal stem cell</td>\n",
       "      <td>NA</td>\n",
       "      <td>fibroadipogenic progenitor cell</td>\n",
       "      <td>1652.0</td>\n",
       "      <td>female</td>\n",
       "      <td>Pre-Sort</td>\n",
       "      <td>Muscle</td>\n",
       "      <td>Mouse</td>\n",
       "      <td>Mus musculus</td>\n",
       "      <td>MACA_18m_F_MUSCLE_50_pre_sort</td>\n",
       "      <td>171005_A00111_0072_AH3YLGDMXX</td>\n",
       "      <td>AAACCTGGTAGCTTGT</td>\n",
       "      <td>1</td>\n",
       "      <td>mouse_10_18-F-50</td>\n",
       "      <td>fibroadipogenic progenitor cell</td>\n",
       "      <td>fibroadipogenic progenitor cell</td>\n",
       "      <td>stromal</td>\n",
       "      <td>1</td>\n",
       "    </tr>\n",
       "    <tr>\n",
       "      <th>AAAGCAAGTCTGGTCG-1-14-0-0-1</th>\n",
       "      <td>18m</td>\n",
       "      <td>MACA_18m_F_MUSCLE_50_pre_sort_AAAGCAAGTCTGGTCG</td>\n",
       "      <td>mesenchymal stem cell</td>\n",
       "      <td>NA</td>\n",
       "      <td>fibroadipogenic progenitor cell</td>\n",
       "      <td>1069.0</td>\n",
       "      <td>female</td>\n",
       "      <td>Pre-Sort</td>\n",
       "      <td>Muscle</td>\n",
       "      <td>Mouse</td>\n",
       "      <td>Mus musculus</td>\n",
       "      <td>MACA_18m_F_MUSCLE_50_pre_sort</td>\n",
       "      <td>171005_A00111_0072_AH3YLGDMXX</td>\n",
       "      <td>AAAGCAAGTCTGGTCG</td>\n",
       "      <td>1</td>\n",
       "      <td>mouse_10_18-F-50</td>\n",
       "      <td>fibroadipogenic progenitor cell</td>\n",
       "      <td>fibroadipogenic progenitor cell</td>\n",
       "      <td>stromal</td>\n",
       "      <td>1</td>\n",
       "    </tr>\n",
       "  </tbody>\n",
       "</table>\n",
       "</div>"
      ],
      "text/plain": [
       "                             age  \\\n",
       "index                              \n",
       "AAACCTGAGAAACCGC-1-14-0-0-1  18m   \n",
       "AAACCTGCAATAACGA-1-14-0-0-1  18m   \n",
       "AAACCTGCAGCGTAAG-1-14-0-0-1  18m   \n",
       "AAACCTGGTAGCTTGT-1-14-0-0-1  18m   \n",
       "AAAGCAAGTCTGGTCG-1-14-0-0-1  18m   \n",
       "\n",
       "                                                                    cell_id  \\\n",
       "index                                                                         \n",
       "AAACCTGAGAAACCGC-1-14-0-0-1  MACA_18m_F_MUSCLE_50_pre_sort_AAACCTGAGAAACCGC   \n",
       "AAACCTGCAATAACGA-1-14-0-0-1  MACA_18m_F_MUSCLE_50_pre_sort_AAACCTGCAATAACGA   \n",
       "AAACCTGCAGCGTAAG-1-14-0-0-1  MACA_18m_F_MUSCLE_50_pre_sort_AAACCTGCAGCGTAAG   \n",
       "AAACCTGGTAGCTTGT-1-14-0-0-1  MACA_18m_F_MUSCLE_50_pre_sort_AAACCTGGTAGCTTGT   \n",
       "AAAGCAAGTCTGGTCG-1-14-0-0-1  MACA_18m_F_MUSCLE_50_pre_sort_AAAGCAAGTCTGGTCG   \n",
       "\n",
       "                               cell_ontology_class cell_ontology_id  \\\n",
       "index                                                                 \n",
       "AAACCTGAGAAACCGC-1-14-0-0-1             macrophage               NA   \n",
       "AAACCTGCAATAACGA-1-14-0-0-1       endothelial cell               NA   \n",
       "AAACCTGCAGCGTAAG-1-14-0-0-1  mesenchymal stem cell               NA   \n",
       "AAACCTGGTAGCTTGT-1-14-0-0-1  mesenchymal stem cell               NA   \n",
       "AAAGCAAGTCTGGTCG-1-14-0-0-1  mesenchymal stem cell               NA   \n",
       "\n",
       "                                             free_annotation  n_genes     sex  \\\n",
       "index                                                                           \n",
       "AAACCTGAGAAACCGC-1-14-0-0-1               classical monocyte   2506.0  female   \n",
       "AAACCTGCAATAACGA-1-14-0-0-1                   capillary cell   1361.0  female   \n",
       "AAACCTGCAGCGTAAG-1-14-0-0-1                      tendon cell   1482.0  female   \n",
       "AAACCTGGTAGCTTGT-1-14-0-0-1  fibroadipogenic progenitor cell   1652.0  female   \n",
       "AAAGCAAGTCTGGTCG-1-14-0-0-1  fibroadipogenic progenitor cell   1069.0  female   \n",
       "\n",
       "                            subtissue  tissue species species_latin  \\\n",
       "index                                                                 \n",
       "AAACCTGAGAAACCGC-1-14-0-0-1  Pre-Sort  Muscle   Mouse  Mus musculus   \n",
       "AAACCTGCAATAACGA-1-14-0-0-1  Pre-Sort  Muscle   Mouse  Mus musculus   \n",
       "AAACCTGCAGCGTAAG-1-14-0-0-1  Pre-Sort  Muscle   Mouse  Mus musculus   \n",
       "AAACCTGGTAGCTTGT-1-14-0-0-1  Pre-Sort  Muscle   Mouse  Mus musculus   \n",
       "AAAGCAAGTCTGGTCG-1-14-0-0-1  Pre-Sort  Muscle   Mouse  Mus musculus   \n",
       "\n",
       "                                                   channel  \\\n",
       "index                                                        \n",
       "AAACCTGAGAAACCGC-1-14-0-0-1  MACA_18m_F_MUSCLE_50_pre_sort   \n",
       "AAACCTGCAATAACGA-1-14-0-0-1  MACA_18m_F_MUSCLE_50_pre_sort   \n",
       "AAACCTGCAGCGTAAG-1-14-0-0-1  MACA_18m_F_MUSCLE_50_pre_sort   \n",
       "AAACCTGGTAGCTTGT-1-14-0-0-1  MACA_18m_F_MUSCLE_50_pre_sort   \n",
       "AAAGCAAGTCTGGTCG-1-14-0-0-1  MACA_18m_F_MUSCLE_50_pre_sort   \n",
       "\n",
       "                                            sequencing_run      cell_barcode  \\\n",
       "index                                                                          \n",
       "AAACCTGAGAAACCGC-1-14-0-0-1  171005_A00111_0072_AH3YLGDMXX  AAACCTGAGAAACCGC   \n",
       "AAACCTGCAATAACGA-1-14-0-0-1  171005_A00111_0072_AH3YLGDMXX  AAACCTGCAATAACGA   \n",
       "AAACCTGCAGCGTAAG-1-14-0-0-1  171005_A00111_0072_AH3YLGDMXX  AAACCTGCAGCGTAAG   \n",
       "AAACCTGGTAGCTTGT-1-14-0-0-1  171005_A00111_0072_AH3YLGDMXX  AAACCTGGTAGCTTGT   \n",
       "AAAGCAAGTCTGGTCG-1-14-0-0-1  171005_A00111_0072_AH3YLGDMXX  AAAGCAAGTCTGGTCG   \n",
       "\n",
       "                             n_counts        individual  \\\n",
       "index                                                     \n",
       "AAACCTGAGAAACCGC-1-14-0-0-1         1  mouse_10_18-F-50   \n",
       "AAACCTGCAATAACGA-1-14-0-0-1         1  mouse_10_18-F-50   \n",
       "AAACCTGCAGCGTAAG-1-14-0-0-1         1  mouse_10_18-F-50   \n",
       "AAACCTGGTAGCTTGT-1-14-0-0-1         1  mouse_10_18-F-50   \n",
       "AAAGCAAGTCTGGTCG-1-14-0-0-1         1  mouse_10_18-F-50   \n",
       "\n",
       "                                                narrow_group  \\\n",
       "index                                                          \n",
       "AAACCTGAGAAACCGC-1-14-0-0-1               classical monocyte   \n",
       "AAACCTGCAATAACGA-1-14-0-0-1                   capillary cell   \n",
       "AAACCTGCAGCGTAAG-1-14-0-0-1                      tendon cell   \n",
       "AAACCTGGTAGCTTGT-1-14-0-0-1  fibroadipogenic progenitor cell   \n",
       "AAAGCAAGTCTGGTCG-1-14-0-0-1  fibroadipogenic progenitor cell   \n",
       "\n",
       "                                                 broad_group  \\\n",
       "index                                                          \n",
       "AAACCTGAGAAACCGC-1-14-0-0-1                         monocyte   \n",
       "AAACCTGCAATAACGA-1-14-0-0-1                   capillary cell   \n",
       "AAACCTGCAGCGTAAG-1-14-0-0-1                      tendon cell   \n",
       "AAACCTGGTAGCTTGT-1-14-0-0-1  fibroadipogenic progenitor cell   \n",
       "AAAGCAAGTCTGGTCG-1-14-0-0-1  fibroadipogenic progenitor cell   \n",
       "\n",
       "                            compartment_group batch  \n",
       "index                                                \n",
       "AAACCTGAGAAACCGC-1-14-0-0-1           myeloid     1  \n",
       "AAACCTGCAATAACGA-1-14-0-0-1       endothelial     1  \n",
       "AAACCTGCAGCGTAAG-1-14-0-0-1           stromal     1  \n",
       "AAACCTGGTAGCTTGT-1-14-0-0-1           stromal     1  \n",
       "AAAGCAAGTCTGGTCG-1-14-0-0-1           stromal     1  "
      ]
     },
     "execution_count": 26,
     "metadata": {},
     "output_type": "execute_result"
    }
   ],
   "source": [
    "obs_muscle.head()"
   ]
  },
  {
   "cell_type": "markdown",
   "metadata": {},
   "source": [
    "## Add new obs"
   ]
  },
  {
   "cell_type": "code",
   "execution_count": 27,
   "metadata": {},
   "outputs": [],
   "source": [
    "adata_updated_muscle_new_obs = adata_updated_muscle.copy()\n",
    "adata_updated_muscle_new_obs.obs.loc[obs_muscle.index] = obs_muscle"
   ]
  },
  {
   "cell_type": "markdown",
   "metadata": {},
   "source": [
    "# Write mouse adata with minimal adata and new grouping"
   ]
  },
  {
   "cell_type": "code",
   "execution_count": 28,
   "metadata": {},
   "outputs": [
    {
     "name": "stderr",
     "output_type": "stream",
     "text": [
      "... storing 'age' as categorical\n",
      "... storing 'cell_ontology_class' as categorical\n",
      "... storing 'cell_ontology_id' as categorical\n",
      "... storing 'free_annotation' as categorical\n",
      "... storing 'subtissue' as categorical\n",
      "... storing 'tissue' as categorical\n",
      "... storing 'channel' as categorical\n",
      "... storing 'sequencing_run' as categorical\n",
      "... storing 'cell_barcode' as categorical\n",
      "... storing 'individual' as categorical\n",
      "... storing 'narrow_group' as categorical\n",
      "... storing 'broad_group' as categorical\n",
      "... storing 'compartment_group' as categorical\n"
     ]
    }
   ],
   "source": [
    "h5ad = os.path.join(\n",
    "    \"/home/olga/data_lg/data_sm_copy/czb-tabula-muris-senis/Data-objects/\",\n",
    "    \"tabula-muris-senis-droplet-official-raw-obj--no-duplicate-barcodes-per-seq-run--minimal-obs-unified-celltypes--june2021.h5ad\",\n",
    ") \n",
    "adata_updated_muscle_new_obs.write(h5ad)"
   ]
  },
  {
   "cell_type": "code",
   "execution_count": 29,
   "metadata": {},
   "outputs": [
    {
     "data": {
      "text/plain": [
       "mouse_20_30-M-2     24369\n",
       "mouse_15_21-F-55    18359\n",
       "mouse_12_18-M-52    17441\n",
       "mouse_14_21-F-54    16285\n",
       "mouse_3_3-F-56      13089\n",
       "mouse_2_1-M-63      12977\n",
       "mouse_23_30-M-5     12484\n",
       "mouse_16_24-M-58    11883\n",
       "mouse_17_24-M-59    11838\n",
       "mouse_10_18-F-50    11808\n",
       "mouse_11_18-F-51     9571\n",
       "mouse_18_24-M-60     9497\n",
       "mouse_21_30-M-3      9286\n",
       "mouse_22_30-M-4      7768\n",
       "mouse_1_1-M-62       6598\n",
       "mouse_4_3-F-57       6497\n",
       "mouse_7_3-M-8        6189\n",
       "mouse_6_3-M-7/8      5235\n",
       "mouse_9_3-M-9        4897\n",
       "mouse_5_3-M-5/6      4880\n",
       "mouse_13_18-M-53     4837\n",
       "mouse_19_24-M-61     3665\n",
       "mouse_8_3-M-8/9       450\n",
       "Name: individual, dtype: int64"
      ]
     },
     "execution_count": 29,
     "metadata": {},
     "output_type": "execute_result"
    }
   ],
   "source": [
    "adata_updated_muscle_new_obs.obs.individual.value_counts()"
   ]
  },
  {
   "cell_type": "code",
   "execution_count": 30,
   "metadata": {},
   "outputs": [],
   "source": [
    "def check_celltype_presence(\n",
    "    adata,\n",
    "    celltypes=(\"fast muscle cell\", \"slow muscle cell\"),\n",
    "    celltype_col=\"narrow_group\",\n",
    "):\n",
    "    for celltype in celltypes:\n",
    "        assert celltype in set(adata.obs[celltype_col])\n",
    "\n",
    "\n",
    "check_celltype_presence(adata_updated_muscle_new_obs)"
   ]
  },
  {
   "cell_type": "code",
   "execution_count": null,
   "metadata": {},
   "outputs": [],
   "source": []
  },
  {
   "cell_type": "code",
   "execution_count": null,
   "metadata": {},
   "outputs": [],
   "source": []
  },
  {
   "cell_type": "code",
   "execution_count": null,
   "metadata": {},
   "outputs": [],
   "source": []
  }
 ],
 "metadata": {
  "kernelspec": {
   "display_name": "Python [conda env:tabula-microcebus-jan2021]",
   "language": "python",
   "name": "conda-env-tabula-microcebus-jan2021-py"
  },
  "language_info": {
   "codemirror_mode": {
    "name": "ipython",
    "version": 3
   },
   "file_extension": ".py",
   "mimetype": "text/x-python",
   "name": "python",
   "nbconvert_exporter": "python",
   "pygments_lexer": "ipython3",
   "version": "3.7.3"
  },
  "toc-autonumbering": true
 },
 "nbformat": 4,
 "nbformat_minor": 4
}
