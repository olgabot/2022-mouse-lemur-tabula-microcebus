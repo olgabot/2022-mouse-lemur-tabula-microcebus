{
 "cells": [
  {
   "cell_type": "markdown",
   "metadata": {},
   "source": [
    "# Imports & file locations"
   ]
  },
  {
   "cell_type": "code",
   "execution_count": 8,
   "metadata": {
    "execution_event_id": "0d2c1dc5-e7d3-464d-8104-ddcc4f6ddece",
    "last_executed_text": "import numpy as np\nimport scanpy \nimport scanpy as sc\nimport pandas as pd\nimport matplotlib.pyplot as plt\nimport seaborn as sns\n\nimport anndata\n\nanndata.__version__",
    "persistent_id": "41bc541a-d63a-496d-b0de-8a9c963901c7"
   },
   "outputs": [
    {
     "name": "stderr",
     "output_type": "stream",
     "text": [
      "WARNING: If you miss a compact list, please try `print_header`!\n"
     ]
    },
    {
     "name": "stdout",
     "output_type": "stream",
     "text": [
      "The autoreload extension is already loaded. To reload it, use:\n",
      "  %reload_ext autoreload\n",
      "-----\n",
      "anndata     0.7.5\n",
      "scanpy      1.7.0rc1\n",
      "sinfo       0.3.1\n",
      "-----\n",
      "anndata             0.7.5\n",
      "attr                19.3.0\n",
      "autoreload          NA\n",
      "backcall            0.1.0\n",
      "cairo               1.18.2\n",
      "colorama            0.4.4\n",
      "cycler              0.10.0\n",
      "cython_runtime      NA\n",
      "dateutil            2.8.0\n",
      "decorator           4.4.1\n",
      "get_version         2.1\n",
      "h5py                2.10.0\n",
      "idna                2.8\n",
      "igraph              0.7.1\n",
      "importlib_metadata  0.19\n",
      "ipykernel           5.1.3\n",
      "ipython_genutils    0.2.0\n",
      "jedi                0.15.1\n",
      "jinja2              2.10.3\n",
      "joblib              0.14.1\n",
      "jsonschema          3.2.0\n",
      "kiwisolver          1.1.0\n",
      "legacy_api_wrap     0.0.0\n",
      "leidenalg           0.7.0\n",
      "llvmlite            0.30.0\n",
      "louvain             0.6.1\n",
      "markupsafe          1.1.1\n",
      "matplotlib          3.1.2\n",
      "more_itertools      NA\n",
      "mpl_toolkits        NA\n",
      "natsort             6.2.0\n",
      "nbformat            4.4.0\n",
      "numba               0.46.0\n",
      "numexpr             2.7.0\n",
      "numpy               1.17.3\n",
      "packaging           20.8\n",
      "pandas              1.1.4\n",
      "parso               0.5.1\n",
      "pexpect             4.7.0\n",
      "pickleshare         0.7.5\n",
      "pkg_resources       NA\n",
      "plot_constants      NA\n",
      "plot_utils          NA\n",
      "prometheus_client   NA\n",
      "prompt_toolkit      3.0.2\n",
      "ptyprocess          0.6.0\n",
      "pvectorc            NA\n",
      "pygments            2.5.2\n",
      "pyparsing           2.4.5\n",
      "pyrsistent          NA\n",
      "pytz                2019.3\n",
      "scanpy              1.7.0rc1\n",
      "scipy               1.5.2\n",
      "seaborn             0.11.1\n",
      "send2trash          NA\n",
      "setuptools_scm      NA\n",
      "sinfo               0.3.1\n",
      "six                 1.13.0\n",
      "sklearn             0.23.2\n",
      "sphinxcontrib       NA\n",
      "statsmodels         0.12.1\n",
      "storemagic          NA\n",
      "tables              3.6.1\n",
      "tornado             6.0.3\n",
      "tqdm                4.40.2\n",
      "traitlets           4.3.3\n",
      "wcwidth             NA\n",
      "xspecies            NA\n",
      "yaml                5.3.1\n",
      "zipp                NA\n",
      "zmq                 18.1.1\n",
      "-----\n",
      "IPython             7.10.1\n",
      "jupyter_client      5.3.3\n",
      "jupyter_core        4.6.1\n",
      "jupyterlab          1.2.4\n",
      "notebook            6.0.1\n",
      "-----\n",
      "Python 3.7.3 | packaged by conda-forge | (default, Dec  6 2019, 08:54:18) [GCC 7.3.0]\n",
      "Linux-4.15.0-91-generic-x86_64-with-debian-buster-sid\n",
      "128 logical CPU cores, x86_64\n",
      "-----\n",
      "Session information updated at 2021-07-27 20:25\n",
      "\n"
     ]
    }
   ],
   "source": [
    "%load_ext autoreload\n",
    "%autoreload 2\n",
    "\n",
    "import itertools\n",
    "import os\n",
    "\n",
    "import numpy as np\n",
    "import scanpy \n",
    "import scanpy as sc\n",
    "import scipy\n",
    "import pandas as pd\n",
    "import matplotlib.pyplot as plt\n",
    "import seaborn as sns\n",
    "\n",
    "\n",
    "import anndata\n",
    "\n",
    "# Olga's modules\n",
    "import xspecies\n",
    "\n",
    "pd.options.display.max_columns = 100\n",
    "pd.options.display.max_rows = 100\n",
    "\n",
    "# From https://pandas.pydata.org/pandas-docs/stable/user_guide/advanced.html\n",
    "# You can use pandas.IndexSlice to facilitate a more natural syntax using :, rather than using slice(None).\n",
    "idx = pd.IndexSlice\n",
    "\n",
    "\n",
    "anndata.__version__\n",
    "\n",
    "scanpy.settings.verbosity = 3\n",
    "#sc.set_figure_params(dpi=200, dpi_save=300)\n",
    "scanpy.logging.print_versions()\n",
    "scanpy.set_figure_params(frameon=False, color_map='magma_r')"
   ]
  },
  {
   "cell_type": "markdown",
   "metadata": {},
   "source": [
    "## Matplotlibrc"
   ]
  },
  {
   "cell_type": "code",
   "execution_count": 9,
   "metadata": {},
   "outputs": [
    {
     "name": "stdout",
     "output_type": "stream",
     "text": [
      "Overwriting matplotlibrc\n"
     ]
    }
   ],
   "source": [
    "%%file matplotlibrc\n",
    "\n",
    "# Non-interactive backend\n",
    "backend: TkAgg\n",
    "\n",
    "# Editable text on pdf export\n",
    "pdf.fonttype: 42\n",
    "ps.fonttype: 42\n",
    "\n",
    "# Don't warn about too many figures open\n",
    "figure.max_open_warning: 0\n",
    "\n",
    "# Figure saving\n",
    "savefig.transparent: True\n",
    "savefig.bbox: tight\n",
    "savefig.dpi: 300\n",
    "\n",
    "# Fonts\n",
    "font.sans-serif: Arial"
   ]
  },
  {
   "cell_type": "markdown",
   "metadata": {},
   "source": [
    "## Output, input directories"
   ]
  },
  {
   "cell_type": "code",
   "execution_count": 10,
   "metadata": {},
   "outputs": [],
   "source": [
    "indir_local = '/home/olga/data_lg/data_sm_copy/tabula-microcebus/data-objects/cross-species/'"
   ]
  },
  {
   "cell_type": "code",
   "execution_count": 11,
   "metadata": {
    "execution_event_id": "0d2c1dc5-e7d3-464d-8104-ddcc4f6ddece",
    "last_executed_text": "import numpy as np\nimport scanpy \nimport scanpy as sc\nimport pandas as pd\nimport matplotlib.pyplot as plt\nimport seaborn as sns\n\nimport anndata\n\nanndata.__version__",
    "persistent_id": "41bc541a-d63a-496d-b0de-8a9c963901c7"
   },
   "outputs": [],
   "source": [
    "\n",
    "outdir_gdrive = \"/home/olga/googledrive/TabulaMicrocebus/data/cross-species\"\n",
    "outdir_local = \"/home/olga/data_lg/data_sm_copy/tabula-microcebus/data-objects/cross-species\"\n",
    "outdirs = outdir_local, outdir_gdrive\n",
    "\n",
    "# Google drive figure output folder\n",
    "FIGURE_FOLDER = \"/home/olga/googledrive/TabulaMicrocebus/analysis/cross-species--bladder-blood-lung-muscle\"\n",
    "# !ls -lha $outdir_local\n",
    "\n",
    "GDRIVE_ANALYSIS_DIR = '/home/olga/googledrive/TabulaMicrocebus/analysis/cross-species--bladder-blood-lung-muscle'"
   ]
  },
  {
   "cell_type": "markdown",
   "metadata": {},
   "source": [
    "## Constants"
   ]
  },
  {
   "cell_type": "code",
   "execution_count": 12,
   "metadata": {},
   "outputs": [],
   "source": [
    "groupby = \"narrow_group\"\n",
    "species = \"species\"\n",
    "\n",
    "tissue = \"lung\"\n",
    "\n",
    "figure_folder_base = os.path.join(FIGURE_FOLDER, tissue, \"differential-expression\")"
   ]
  },
  {
   "cell_type": "markdown",
   "metadata": {},
   "source": [
    "# Load data"
   ]
  },
  {
   "cell_type": "code",
   "execution_count": 13,
   "metadata": {
    "execution_event_id": "3ebd04aa-557b-4922-8f48-f2847d29cfcf",
    "last_executed_text": "%%time\nh5ad = f'{folder}/lung__10x__concatenated__human_lemur_mouse__one2one_orthologs.h5ad'\nadata = scanpy.read_h5ad(h5ad)\nadata",
    "persistent_id": "3bb6904f-4a89-4a07-af16-4240afe3c682"
   },
   "outputs": [
    {
     "name": "stdout",
     "output_type": "stream",
     "text": [
      "-rw-r--r-- 1 olga czb 972M Jul 25 17:34 /home/olga/data_lg/data_sm_copy/tabula-microcebus/data-objects/cross-species/concatenated__human-lemur-mouse_10x__one2one_orthologs__lung__preprocessed.h5ad\n",
      "CPU times: user 1.32 ms, sys: 10.9 ms, total: 12.2 ms\n",
      "Wall time: 126 ms\n"
     ]
    }
   ],
   "source": [
    "%%time\n",
    "\n",
    "h5ad = os.path.join(\n",
    "    outdir_local,\n",
    "    f\"concatenated__human-lemur-mouse_10x__one2one_orthologs__{tissue}__preprocessed.h5ad\",\n",
    ")\n",
    "! ls -lha $h5ad"
   ]
  },
  {
   "cell_type": "code",
   "execution_count": 14,
   "metadata": {
    "execution_event_id": "3ebd04aa-557b-4922-8f48-f2847d29cfcf",
    "last_executed_text": "%%time\nh5ad = f'{folder}/lung__10x__concatenated__human_lemur_mouse__one2one_orthologs.h5ad'\nadata = scanpy.read_h5ad(h5ad)\nadata",
    "persistent_id": "3bb6904f-4a89-4a07-af16-4240afe3c682"
   },
   "outputs": [
    {
     "name": "stdout",
     "output_type": "stream",
     "text": [
      "CPU times: user 417 ms, sys: 617 ms, total: 1.03 s\n",
      "Wall time: 1.58 s\n"
     ]
    },
    {
     "data": {
      "text/plain": [
       "AnnData object with n_obs × n_vars = 82077 × 13056\n",
       "    obs: 'age', 'cell_id', 'cell_ontology_class', 'cell_ontology_id', 'free_annotation', 'n_genes', 'sex', 'subtissue', 'tissue', 'species', 'species_latin', 'channel', 'sequencing_run', 'cell_barcode', 'n_counts', 'individual', 'narrow_group', 'broad_group', 'compartment_group', 'batch', 'channel_10x', 'compartment', 'method', 'species_batch', 'n_genes_by_counts', 'log1p_n_genes_by_counts', 'total_counts', 'log1p_total_counts', 'pct_counts_in_top_50_genes', 'pct_counts_in_top_100_genes', 'pct_counts_in_top_200_genes', 'pct_counts_in_top_500_genes', 'compartment_broad', 'compartment_narrow', 'compartment_broad_narrow', 'compartment_species', 'compartment_narrow_species', 'log_counts', 'sqrt_counts', 'dendrogram_group_name', 'dendrogram_group_color_name', 'dendrogram_group_color_hex', 'dendrogram_subgroup_name', 'dendrogram_subgroup_color_hex', 'lemur_name', 'lemur_renamed', 'cell_id_lemur_renamed', 'dendrogram_group'\n",
       "    var: 'mouse_lemur__gene_name', 'mouse__gene_name', 'name-lemur', 'highly_variable-lemur', 'n_cells-mouse_tabula_muris_senis', 'n_cells_by_counts', 'mean_counts', 'log1p_mean_counts', 'pct_dropout_by_counts', 'total_counts', 'log1p_total_counts', 'n_cells', 'highly_variable', 'means', 'dispersions', 'dispersions_norm'\n",
       "    uns: 'compartment_group_colors', 'dendrogram_group_colors', 'dendrogram_group_name_colors', 'dendrogram_subgroup_name_colors', 'hvg', 'narrow_group_colors', 'neighbors', 'pca', 'species_batch_colors', 'species_colors', 'umap'\n",
       "    obsm: 'X_pca', 'X_umap'\n",
       "    varm: 'PCs'\n",
       "    obsp: 'connectivities', 'distances'"
      ]
     },
     "execution_count": 14,
     "metadata": {},
     "output_type": "execute_result"
    }
   ],
   "source": [
    "%%time\n",
    "\n",
    "adata = scanpy.read_h5ad(h5ad)\n",
    "adata"
   ]
  },
  {
   "cell_type": "markdown",
   "metadata": {},
   "source": [
    "## Make CrossSpeciesComparison object"
   ]
  },
  {
   "cell_type": "code",
   "execution_count": 15,
   "metadata": {},
   "outputs": [
    {
     "name": "stdout",
     "output_type": "stream",
     "text": [
      "compartment_narrow                           species    \n",
      "endothelial: artery cell                     Mouse             95\n",
      "                                             Mouse Lemur       78\n",
      "                                             Human           1306\n",
      "endothelial: capillary aerocyte cell         Mouse            512\n",
      "                                             Mouse Lemur      818\n",
      "                                             Human           3712\n",
      "endothelial: capillary cell                  Mouse           1743\n",
      "                                             Mouse Lemur     1011\n",
      "                                             Human           5367\n",
      "endothelial: lymphatic cell                  Mouse             40\n",
      "                                             Mouse Lemur      228\n",
      "                                             Human            422\n",
      "endothelial: vein cell                       Mouse            306\n",
      "                                             Mouse Lemur      124\n",
      "                                             Human            980\n",
      "epithelial: alveolar epithelial cell type 2  Mouse            122\n",
      "                                             Mouse Lemur      948\n",
      "                                             Human           4185\n",
      "epithelial: ciliated cell                    Mouse             55\n",
      "                                             Mouse Lemur       31\n",
      "                                             Human           1282\n",
      "lymphoid: B cell                             Mouse           1457\n",
      "                                             Mouse Lemur      208\n",
      "                                             Human            230\n",
      "lymphoid: T cell (CD4+)                      Mouse            534\n",
      "                                             Mouse Lemur     1029\n",
      "                                             Human           2297\n",
      "lymphoid: T cell (CD8+)                      Mouse            854\n",
      "                                             Mouse Lemur      347\n",
      "                                             Human           1942\n",
      "lymphoid: natural killer T cell              Mouse            406\n",
      "                                             Mouse Lemur      486\n",
      "                                             Human            295\n",
      "lymphoid: natural killer cell                Mouse           1141\n",
      "                                             Mouse Lemur     3055\n",
      "                                             Human           3698\n",
      "lymphoid: natural killer cell_T cell (PF)    Mouse            117\n",
      "                                             Mouse Lemur      689\n",
      "                                             Human             93\n",
      "lymphoid: plasma cell                        Mouse             47\n",
      "                                             Mouse Lemur      130\n",
      "                                             Human            160\n",
      "myeloid: alveolar macrophage                 Mouse           1217\n",
      "                                             Mouse Lemur     3704\n",
      "                                             Human          13737\n",
      "myeloid: alveolar macrophage (PF)            Mouse            102\n",
      "                                             Mouse Lemur      911\n",
      "                                             Human            210\n",
      "myeloid: conventional dendritic cell         Mouse            241\n",
      "                                             Mouse Lemur      132\n",
      "                                             Human            349\n",
      "myeloid: monocyte                            Mouse           7925\n",
      "                                             Mouse Lemur     2598\n",
      "                                             Human           1838\n",
      "myeloid: plasmacytoid dendritic cell         Mouse             73\n",
      "                                             Mouse Lemur       62\n",
      "                                             Human            107\n",
      "stromal: adventitial fibroblast              Mouse            517\n",
      "                                             Mouse Lemur      310\n",
      "                                             Human            527\n",
      "stromal: alveolar fibroblast                 Mouse           1499\n",
      "                                             Mouse Lemur      918\n",
      "                                             Human           1048\n",
      "stromal: pericyte                            Mouse             59\n",
      "                                             Mouse Lemur       63\n",
      "                                             Human           1350\n",
      "dtype: int64\n"
     ]
    }
   ],
   "source": [
    "cross_species = xspecies.CrossSpeciesComparison(adata, \"compartment_narrow\")\n",
    "# cross_species.plot_shared_cell_types()"
   ]
  },
  {
   "cell_type": "markdown",
   "metadata": {},
   "source": [
    "# Make dotplots"
   ]
  },
  {
   "cell_type": "markdown",
   "metadata": {},
   "source": [
    "## Make mini adatas"
   ]
  },
  {
   "cell_type": "code",
   "execution_count": 21,
   "metadata": {},
   "outputs": [
    {
     "name": "stdout",
     "output_type": "stream",
     "text": [
      "\n",
      "------- group: endothelial: artery cell -------\n",
      "number of cells: 1479\n",
      "\n",
      "------- group: endothelial: capillary aerocyte cell -------\n",
      "number of cells: 5042\n",
      "\n",
      "------- group: endothelial: capillary cell -------\n",
      "number of cells: 8121\n",
      "\n",
      "------- group: endothelial: lymphatic cell -------\n",
      "number of cells: 690\n",
      "\n",
      "------- group: endothelial: vein cell -------\n",
      "number of cells: 1410\n",
      "\n",
      "------- group: epithelial: alveolar epithelial cell type 2 -------\n",
      "number of cells: 5255\n",
      "\n",
      "------- group: epithelial: ciliated cell -------\n",
      "number of cells: 1368\n",
      "\n",
      "------- group: lymphoid: B cell -------\n",
      "number of cells: 1895\n",
      "\n",
      "------- group: lymphoid: T cell (CD4+) -------\n",
      "number of cells: 3860\n",
      "\n",
      "------- group: lymphoid: T cell (CD8+) -------\n",
      "number of cells: 3143\n",
      "\n",
      "------- group: lymphoid: natural killer T cell -------\n",
      "number of cells: 1187\n",
      "\n",
      "------- group: lymphoid: natural killer cell -------\n",
      "number of cells: 7894\n",
      "\n",
      "------- group: lymphoid: natural killer cell_T cell (PF) -------\n",
      "number of cells: 899\n",
      "\n",
      "------- group: lymphoid: plasma cell -------\n",
      "number of cells: 337\n",
      "\n",
      "------- group: myeloid: alveolar macrophage -------\n",
      "number of cells: 18658\n",
      "\n",
      "------- group: myeloid: alveolar macrophage (PF) -------\n",
      "number of cells: 1223\n",
      "\n",
      "------- group: myeloid: conventional dendritic cell -------\n",
      "number of cells: 722\n",
      "\n",
      "------- group: myeloid: monocyte -------\n",
      "number of cells: 12361\n",
      "\n",
      "------- group: myeloid: plasmacytoid dendritic cell -------\n",
      "number of cells: 242\n",
      "\n",
      "------- group: stromal: adventitial fibroblast -------\n",
      "number of cells: 1354\n",
      "\n",
      "------- group: stromal: alveolar fibroblast -------\n",
      "number of cells: 3465\n",
      "\n",
      "------- group: stromal: pericyte -------\n",
      "number of cells: 1472\n",
      "\n",
      "------- group: Mouse -------\n",
      "number of cells: 19062\n",
      "\n",
      "------- group: Mouse Lemur -------\n",
      "number of cells: 17880\n",
      "\n",
      "------- group: Human -------\n",
      "number of cells: 45135\n"
     ]
    }
   ],
   "source": [
    "cross_species.make_subset_adatas(do_pca_umap=False)"
   ]
  },
  {
   "cell_type": "markdown",
   "metadata": {},
   "source": [
    "## Genes to plot for each celltyep"
   ]
  },
  {
   "cell_type": "code",
   "execution_count": 28,
   "metadata": {},
   "outputs": [],
   "source": [
    "celltype_to_genes = {\n",
    "    \"epithelial: ciliated cell\": [\"SPATA4\", \"CIB1\", \"WDR38\", \"WDR54\"],\n",
    "    \"myeloid: alveolar macrophage\": [\"C1QA\", \"C1QB\", \"CFD\", \"OSCAR\", \"IL4I1\", \"MME\"],\n",
    "    \"endothelial: capillary aerocyte cell\": [\"ACE\", \"VIPR1\"],\n",
    "    \"stromal: pericyte\": [\"NDRG1\", \"RGS5\", \"WFDC1\"],\n",
    "}"
   ]
  },
  {
   "cell_type": "code",
   "execution_count": 30,
   "metadata": {},
   "outputs": [],
   "source": [
    "def sanitize(name):\n",
    "    return name.replace(' ', '_').replace(':', '')"
   ]
  },
  {
   "cell_type": "code",
   "execution_count": 33,
   "metadata": {},
   "outputs": [
    {
     "name": "stdout",
     "output_type": "stream",
     "text": [
      "epithelial: ciliated cell\n",
      "gene subset #1\n",
      "\n",
      "------- group: epithelial: ciliated cell -------\n"
     ]
    },
    {
     "name": "stderr",
     "output_type": "stream",
     "text": [
      "WARNING: saving figure to file /home/olga/googledrive/TabulaMicrocebus/analysis/cross-species--bladder-blood-lung-muscle/dotplots-for-paper-july2021/dotplot_epithelial--ciliated_cellepithelial_ciliated_cell__genesubset-0.pdf\n"
     ]
    },
    {
     "data": {
      "image/png": "[encoded data removed]",
      "text/plain": [
       "<Figure size 238.4x200 with 5 Axes>"
      ]
     },
     "metadata": {
      "needs_background": "light"
     },
     "output_type": "display_data"
    },
    {
     "name": "stdout",
     "output_type": "stream",
     "text": [
      "myeloid: alveolar macrophage\n",
      "gene subset #1\n",
      "\n",
      "------- group: myeloid: alveolar macrophage -------\n"
     ]
    },
    {
     "name": "stderr",
     "output_type": "stream",
     "text": [
      "WARNING: saving figure to file /home/olga/googledrive/TabulaMicrocebus/analysis/cross-species--bladder-blood-lung-muscle/dotplots-for-paper-july2021/dotplot_myeloid--alveolar_macrophagemyeloid_alveolar_macrophage__genesubset-0.pdf\n"
     ]
    },
    {
     "data": {
      "image/png": "[encoded data removed]",
      "text/plain": [
       "<Figure size 297.6x200 with 5 Axes>"
      ]
     },
     "metadata": {
      "needs_background": "light"
     },
     "output_type": "display_data"
    },
    {
     "name": "stdout",
     "output_type": "stream",
     "text": [
      "endothelial: capillary aerocyte cell\n",
      "gene subset #1\n",
      "\n",
      "------- group: endothelial: capillary aerocyte cell -------\n"
     ]
    },
    {
     "name": "stderr",
     "output_type": "stream",
     "text": [
      "WARNING: saving figure to file /home/olga/googledrive/TabulaMicrocebus/analysis/cross-species--bladder-blood-lung-muscle/dotplots-for-paper-july2021/dotplot_endothelial--capillary_aerocyte_cellendothelial_capillary_aerocyte_cell__genesubset-0.pdf\n"
     ]
    },
    {
     "data": {
      "image/png": "[encoded data removed]",
      "text/plain": [
       "<Figure size 179.2x200 with 5 Axes>"
      ]
     },
     "metadata": {
      "needs_background": "light"
     },
     "output_type": "display_data"
    },
    {
     "name": "stdout",
     "output_type": "stream",
     "text": [
      "stromal: pericyte\n",
      "gene subset #1\n",
      "\n",
      "------- group: stromal: pericyte -------\n"
     ]
    },
    {
     "name": "stderr",
     "output_type": "stream",
     "text": [
      "WARNING: saving figure to file /home/olga/googledrive/TabulaMicrocebus/analysis/cross-species--bladder-blood-lung-muscle/dotplots-for-paper-july2021/dotplot_stromal--pericytestromal_pericyte__genesubset-0.pdf\n"
     ]
    },
    {
     "data": {
      "image/png": "[encoded data removed]",
      "text/plain": [
       "<Figure size 208.8x200 with 5 Axes>"
      ]
     },
     "metadata": {
      "needs_background": "light"
     },
     "output_type": "display_data"
    }
   ],
   "source": [
    "save_dir = f\"{FIGURE_FOLDER}/dotplots-for-paper-july2021/\"\n",
    "! mkdir -p $save_dir\n",
    "sc.settings.figdir = save_dir\n",
    "\n",
    "\n",
    "for group, gene_names in celltype_to_genes.items():\n",
    "    print(group)\n",
    "    cross_species.dotplots(\n",
    "        gene_names, select_group=group, save=sanitize(group), save_format=\"pdf\"\n",
    "    )"
   ]
  },
  {
   "cell_type": "code",
   "execution_count": null,
   "metadata": {},
   "outputs": [],
   "source": []
  }
 ],
 "metadata": {
  "kernelspec": {
   "display_name": "Python [conda env:tabula-microcebus-jan2021]",
   "language": "python",
   "name": "conda-env-tabula-microcebus-jan2021-py"
  },
  "language_info": {
   "codemirror_mode": {
    "name": "ipython",
    "version": 3
   },
   "file_extension": ".py",
   "mimetype": "text/x-python",
   "name": "python",
   "nbconvert_exporter": "python",
   "pygments_lexer": "ipython3",
   "version": "3.7.3"
  }
 },
 "nbformat": 4,
 "nbformat_minor": 4
}
