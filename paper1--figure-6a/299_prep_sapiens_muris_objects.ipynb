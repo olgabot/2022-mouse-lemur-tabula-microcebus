{
 "cells": [
  {
   "cell_type": "markdown",
   "metadata": {},
   "source": [
    "# Imports"
   ]
  },
  {
   "cell_type": "code",
   "execution_count": 1,
   "metadata": {},
   "outputs": [
    {
     "name": "stdout",
     "output_type": "stream",
     "text": [
      "WARNING: If you miss a compact list, please try `print_header`!\n"
     ]
    },
    {
     "name": "stderr",
     "output_type": "stream",
     "text": [
      "\n",
      "Bad key \"text.kerning_factor\" on line 4 in\n",
      "/home/olga/miniconda3/envs/tabula-microcebus-v2/lib/python3.7/site-packages/matplotlib/mpl-data/stylelib/_classic_test_patch.mplstyle.\n",
      "You probably need to get an updated matplotlibrc file from\n",
      "https://github.com/matplotlib/matplotlib/blob/v3.1.2/matplotlibrc.template\n",
      "or from the matplotlib source distribution\n"
     ]
    },
    {
     "name": "stdout",
     "output_type": "stream",
     "text": [
      "-----\n",
      "anndata     0.7.5\n",
      "scanpy      1.6.0\n",
      "sinfo       0.3.1\n",
      "-----\n",
      "PIL                 8.1.0\n",
      "anndata             0.7.5\n",
      "backcall            0.1.0\n",
      "cairo               1.18.2\n",
      "cffi                1.13.2\n",
      "cloudpickle         1.2.2\n",
      "colorama            0.4.4\n",
      "cycler              0.10.0\n",
      "cython_runtime      NA\n",
      "dask                2.9.0\n",
      "dateutil            2.8.0\n",
      "decorator           4.4.1\n",
      "get_version         2.1\n",
      "h5py                2.10.0\n",
      "igraph              0.7.1\n",
      "importlib_metadata  1.3.0\n",
      "ipykernel           5.1.3\n",
      "ipython_genutils    0.2.0\n",
      "ipywidgets          7.5.1\n",
      "jedi                0.15.1\n",
      "joblib              0.14.1\n",
      "kiwisolver          1.1.0\n",
      "legacy_api_wrap     1.2\n",
      "leidenalg           0.7.0\n",
      "llvmlite            0.30.0\n",
      "louvain             0.6.1\n",
      "matplotlib          3.1.2\n",
      "more_itertools      NA\n",
      "mpl_toolkits        NA\n",
      "natsort             6.2.0\n",
      "numba               0.46.0\n",
      "numexpr             2.7.0\n",
      "numpy               1.17.3\n",
      "packaging           20.8\n",
      "pandas              1.1.4\n",
      "parso               0.5.1\n",
      "pexpect             4.7.0\n",
      "pickleshare         0.7.5\n",
      "pkg_resources       NA\n",
      "prompt_toolkit      3.0.2\n",
      "psutil              5.6.7\n",
      "ptyprocess          0.6.0\n",
      "pygments            2.5.2\n",
      "pyparsing           2.4.5\n",
      "pytz                2019.3\n",
      "scanpy              1.6.0\n",
      "scipy               1.4.1\n",
      "setuptools_scm      NA\n",
      "sinfo               0.3.1\n",
      "six                 1.13.0\n",
      "sklearn             0.23.2\n",
      "sphinxcontrib       NA\n",
      "storemagic          NA\n",
      "tables              3.6.1\n",
      "tblib               1.6.0\n",
      "toolz               0.10.0\n",
      "tornado             6.0.3\n",
      "traitlets           4.3.3\n",
      "wcwidth             NA\n",
      "yaml                5.2\n",
      "zipp                NA\n",
      "zmq                 18.1.1\n",
      "-----\n",
      "IPython             7.10.1\n",
      "jupyter_client      5.3.3\n",
      "jupyter_core        4.6.1\n",
      "jupyterlab          1.2.4\n",
      "notebook            6.0.1\n",
      "-----\n",
      "Python 3.7.3 | packaged by conda-forge | (default, Dec  6 2019, 08:54:18) [GCC 7.3.0]\n",
      "Linux-4.15.0-91-generic-x86_64-with-debian-buster-sid\n",
      "128 logical CPU cores, x86_64\n",
      "-----\n",
      "Session information updated at 2021-01-11 14:39\n",
      "\n",
      "mkdir: cannot create directory ‘/home/olga/data_lg/data_sm_copy/tabula-microcebus/data-objects/cross-species’: File exists\n",
      "mkdir: cannot create directory ‘/home/olga/googledrive/TabulaMicrocebus/data/cross-species’: File exists\n"
     ]
    }
   ],
   "source": [
    "import os\n",
    "from collections import OrderedDict\n",
    "from io import StringIO\n",
    "\n",
    "import anndata\n",
    "import numpy as np\n",
    "import pandas as pd\n",
    "import scanpy\n",
    "\n",
    "scanpy.settings.verbosity = 3\n",
    "scanpy.logging.print_versions()\n",
    "\n",
    "pd.options.display.max_columns = 100\n",
    "\n",
    "outdir_gdrive = '/home/olga/googledrive/TabulaMicrocebus/data/cross-species'\n",
    "outdir_local = '/home/olga/data_lg/data_sm_copy/tabula-microcebus/data-objects/cross-species'\n",
    "outdirs = outdir_gdrive, outdir_local"
   ]
  },
  {
   "cell_type": "code",
   "execution_count": 12,
   "metadata": {},
   "outputs": [
    {
     "data": {
      "text/plain": [
       "'/home/olga/data_lg/data_sm_copy/immune-evolution/data-objects/human-mouse/'"
      ]
     },
     "execution_count": 12,
     "metadata": {},
     "output_type": "execute_result"
    }
   ],
   "source": [
    "kmer_outdir = '/home/olga/data_lg/data_sm_copy/immune-evolution/data-objects/human-mouse/'\n",
    "kmer_outdir"
   ]
  },
  {
   "cell_type": "markdown",
   "metadata": {},
   "source": [
    "## Def Describe"
   ]
  },
  {
   "cell_type": "code",
   "execution_count": 2,
   "metadata": {},
   "outputs": [],
   "source": [
    "def describe(df, random=False):\n",
    "    print(df.shape)\n",
    "    print(\"--- First 5 entries ---\")\n",
    "    display(df.head())\n",
    "    if random:\n",
    "        print('--- Random subset ---')\n",
    "        display(df.sample(5))"
   ]
  },
  {
   "cell_type": "markdown",
   "metadata": {},
   "source": [
    "# Load orthology from MGI"
   ]
  },
  {
   "cell_type": "code",
   "execution_count": 4,
   "metadata": {},
   "outputs": [
    {
     "name": "stdout",
     "output_type": "stream",
     "text": [
      "--2021-01-11 14:43:30--  http://www.informatics.jax.org/downloads/reports/HOM_MouseHumanSequence.rpt\n",
      "Resolving www.informatics.jax.org (www.informatics.jax.org)... 64.147.54.32\n",
      "Connecting to www.informatics.jax.org (www.informatics.jax.org)|64.147.54.32|:80... connected.\n",
      "HTTP request sent, awaiting response... 200 OK\n",
      "Length: 8379875 (8.0M)\n",
      "Saving to: ‘HOM_MouseHumanSequence.rpt’\n",
      "\n",
      "HOM_MouseHumanSeque 100%[===================>]   7.99M  7.53MB/s    in 1.1s    \n",
      "\n",
      "2021-01-11 14:43:32 (7.53 MB/s) - ‘HOM_MouseHumanSequence.rpt’ saved [8379875/8379875]\n",
      "\n",
      "--2021-01-11 14:43:32--  http://../data/HOM_MouseHumanSequence.rpt\n",
      "Resolving .. (..)... failed: Name or service not known.\n",
      "wget: unable to resolve host address ‘..’\n",
      "FINISHED --2021-01-11 14:43:32--\n",
      "Total wall clock time: 1.3s\n",
      "Downloaded: 1 files, 8.0M in 1.1s (7.53 MB/s)\n"
     ]
    }
   ],
   "source": [
    "! wget http://www.informatics.jax.org/downloads/reports/HOM_MouseHumanSequence.rpt "
   ]
  },
  {
   "cell_type": "code",
   "execution_count": 3,
   "metadata": {},
   "outputs": [
    {
     "name": "stdout",
     "output_type": "stream",
     "text": [
      "(40015, 13)\n",
      "--- First 5 entries ---\n"
     ]
    },
    {
     "data": {
      "text/html": [
       "<div>\n",
       "<style scoped>\n",
       "    .dataframe tbody tr th:only-of-type {\n",
       "        vertical-align: middle;\n",
       "    }\n",
       "\n",
       "    .dataframe tbody tr th {\n",
       "        vertical-align: top;\n",
       "    }\n",
       "\n",
       "    .dataframe thead th {\n",
       "        text-align: right;\n",
       "    }\n",
       "</style>\n",
       "<table border=\"1\" class=\"dataframe\">\n",
       "  <thead>\n",
       "    <tr style=\"text-align: right;\">\n",
       "      <th></th>\n",
       "      <th>HomoloGene ID</th>\n",
       "      <th>Common Organism Name</th>\n",
       "      <th>NCBI Taxon ID</th>\n",
       "      <th>Symbol</th>\n",
       "      <th>EntrezGene ID</th>\n",
       "      <th>Mouse MGI ID</th>\n",
       "      <th>HGNC ID</th>\n",
       "      <th>OMIM Gene ID</th>\n",
       "      <th>Genetic Location</th>\n",
       "      <th>Genomic Coordinates (mouse: , human: )</th>\n",
       "      <th>Nucleotide RefSeq IDs</th>\n",
       "      <th>Protein RefSeq IDs</th>\n",
       "      <th>SWISS_PROT IDs</th>\n",
       "    </tr>\n",
       "  </thead>\n",
       "  <tbody>\n",
       "    <tr>\n",
       "      <th>0</th>\n",
       "      <td>3</td>\n",
       "      <td>mouse, laboratory</td>\n",
       "      <td>10090</td>\n",
       "      <td>Acadm</td>\n",
       "      <td>11364</td>\n",
       "      <td>MGI:87867</td>\n",
       "      <td>NaN</td>\n",
       "      <td>NaN</td>\n",
       "      <td>Chr3 78.77 cM</td>\n",
       "      <td>Chr3:153922357-153944632(-)</td>\n",
       "      <td>NM_007382</td>\n",
       "      <td>NP_031408</td>\n",
       "      <td>P45952</td>\n",
       "    </tr>\n",
       "    <tr>\n",
       "      <th>1</th>\n",
       "      <td>3</td>\n",
       "      <td>human</td>\n",
       "      <td>9606</td>\n",
       "      <td>ACADM</td>\n",
       "      <td>34</td>\n",
       "      <td>NaN</td>\n",
       "      <td>HGNC:89</td>\n",
       "      <td>OMIM:607008</td>\n",
       "      <td>Chr1 p31.1</td>\n",
       "      <td>Chr1:75724347-75763679(+)</td>\n",
       "      <td>NM_001286042,NM_001286044,NM_000016,NM_0011273...</td>\n",
       "      <td>NP_001120800,NP_001272971,NP_001272973,NP_0000...</td>\n",
       "      <td>P11310</td>\n",
       "    </tr>\n",
       "    <tr>\n",
       "      <th>2</th>\n",
       "      <td>5</td>\n",
       "      <td>mouse, laboratory</td>\n",
       "      <td>10090</td>\n",
       "      <td>Acadvl</td>\n",
       "      <td>11370</td>\n",
       "      <td>MGI:895149</td>\n",
       "      <td>NaN</td>\n",
       "      <td>NaN</td>\n",
       "      <td>Chr11 42.96 cM</td>\n",
       "      <td>Chr11:70010183-70015411(-)</td>\n",
       "      <td>NM_017366</td>\n",
       "      <td>NP_059062</td>\n",
       "      <td>P50544</td>\n",
       "    </tr>\n",
       "    <tr>\n",
       "      <th>3</th>\n",
       "      <td>5</td>\n",
       "      <td>human</td>\n",
       "      <td>9606</td>\n",
       "      <td>ACADVL</td>\n",
       "      <td>37</td>\n",
       "      <td>NaN</td>\n",
       "      <td>HGNC:92</td>\n",
       "      <td>OMIM:609575</td>\n",
       "      <td>Chr17 p13.1</td>\n",
       "      <td>Chr17:7217125-7225267(+)</td>\n",
       "      <td>NM_001270448,NM_001270447,NM_001033859,NM_000018</td>\n",
       "      <td>XP_006721579,XP_024306509,XP_011522132,XP_0115...</td>\n",
       "      <td>P49748</td>\n",
       "    </tr>\n",
       "    <tr>\n",
       "      <th>4</th>\n",
       "      <td>6</td>\n",
       "      <td>mouse, laboratory</td>\n",
       "      <td>10090</td>\n",
       "      <td>Acat1</td>\n",
       "      <td>110446</td>\n",
       "      <td>MGI:87870</td>\n",
       "      <td>NaN</td>\n",
       "      <td>NaN</td>\n",
       "      <td>Chr9 29.12 cM</td>\n",
       "      <td>Chr9:53580522-53610350(-)</td>\n",
       "      <td>NM_144784</td>\n",
       "      <td>NP_659033</td>\n",
       "      <td>Q8QZT1</td>\n",
       "    </tr>\n",
       "  </tbody>\n",
       "</table>\n",
       "</div>"
      ],
      "text/plain": [
       "   HomoloGene ID Common Organism Name  NCBI Taxon ID  Symbol  EntrezGene ID  \\\n",
       "0              3    mouse, laboratory          10090   Acadm          11364   \n",
       "1              3                human           9606   ACADM             34   \n",
       "2              5    mouse, laboratory          10090  Acadvl          11370   \n",
       "3              5                human           9606  ACADVL             37   \n",
       "4              6    mouse, laboratory          10090   Acat1         110446   \n",
       "\n",
       "  Mouse MGI ID  HGNC ID OMIM Gene ID Genetic Location  \\\n",
       "0    MGI:87867      NaN          NaN    Chr3 78.77 cM   \n",
       "1          NaN  HGNC:89  OMIM:607008       Chr1 p31.1   \n",
       "2   MGI:895149      NaN          NaN   Chr11 42.96 cM   \n",
       "3          NaN  HGNC:92  OMIM:609575      Chr17 p13.1   \n",
       "4    MGI:87870      NaN          NaN    Chr9 29.12 cM   \n",
       "\n",
       "  Genomic Coordinates (mouse: , human: )  \\\n",
       "0            Chr3:153922357-153944632(-)   \n",
       "1              Chr1:75724347-75763679(+)   \n",
       "2             Chr11:70010183-70015411(-)   \n",
       "3               Chr17:7217125-7225267(+)   \n",
       "4              Chr9:53580522-53610350(-)   \n",
       "\n",
       "                               Nucleotide RefSeq IDs  \\\n",
       "0                                          NM_007382   \n",
       "1  NM_001286042,NM_001286044,NM_000016,NM_0011273...   \n",
       "2                                          NM_017366   \n",
       "3   NM_001270448,NM_001270447,NM_001033859,NM_000018   \n",
       "4                                          NM_144784   \n",
       "\n",
       "                                  Protein RefSeq IDs SWISS_PROT IDs  \n",
       "0                                          NP_031408         P45952  \n",
       "1  NP_001120800,NP_001272971,NP_001272973,NP_0000...         P11310  \n",
       "2                                          NP_059062         P50544  \n",
       "3  XP_006721579,XP_024306509,XP_011522132,XP_0115...         P49748  \n",
       "4                                          NP_659033         Q8QZT1  "
      ]
     },
     "metadata": {},
     "output_type": "display_data"
    }
   ],
   "source": [
    "mgi_orthology = pd.read_csv('http://www.informatics.jax.org/downloads/reports/HOM_MouseHumanSequence.rpt', sep='\\t')\n",
    "describe(mgi_orthology)"
   ]
  },
  {
   "cell_type": "markdown",
   "metadata": {},
   "source": [
    "## Get only 1:1 orthologs"
   ]
  },
  {
   "cell_type": "code",
   "execution_count": 7,
   "metadata": {},
   "outputs": [
    {
     "name": "stdout",
     "output_type": "stream",
     "text": [
      "(32934, 13)\n",
      "--- First 5 entries ---\n"
     ]
    },
    {
     "data": {
      "text/html": [
       "<div>\n",
       "<style scoped>\n",
       "    .dataframe tbody tr th:only-of-type {\n",
       "        vertical-align: middle;\n",
       "    }\n",
       "\n",
       "    .dataframe tbody tr th {\n",
       "        vertical-align: top;\n",
       "    }\n",
       "\n",
       "    .dataframe thead th {\n",
       "        text-align: right;\n",
       "    }\n",
       "</style>\n",
       "<table border=\"1\" class=\"dataframe\">\n",
       "  <thead>\n",
       "    <tr style=\"text-align: right;\">\n",
       "      <th></th>\n",
       "      <th>HomoloGene ID</th>\n",
       "      <th>Common Organism Name</th>\n",
       "      <th>NCBI Taxon ID</th>\n",
       "      <th>Symbol</th>\n",
       "      <th>EntrezGene ID</th>\n",
       "      <th>Mouse MGI ID</th>\n",
       "      <th>HGNC ID</th>\n",
       "      <th>OMIM Gene ID</th>\n",
       "      <th>Genetic Location</th>\n",
       "      <th>Genomic Coordinates (mouse: , human: )</th>\n",
       "      <th>Nucleotide RefSeq IDs</th>\n",
       "      <th>Protein RefSeq IDs</th>\n",
       "      <th>SWISS_PROT IDs</th>\n",
       "    </tr>\n",
       "  </thead>\n",
       "  <tbody>\n",
       "    <tr>\n",
       "      <th>0</th>\n",
       "      <td>3</td>\n",
       "      <td>mouse, laboratory</td>\n",
       "      <td>10090</td>\n",
       "      <td>Acadm</td>\n",
       "      <td>11364</td>\n",
       "      <td>MGI:87867</td>\n",
       "      <td>NaN</td>\n",
       "      <td>NaN</td>\n",
       "      <td>Chr3 78.77 cM</td>\n",
       "      <td>Chr3:153922357-153944632(-)</td>\n",
       "      <td>NM_007382</td>\n",
       "      <td>NP_031408</td>\n",
       "      <td>P45952</td>\n",
       "    </tr>\n",
       "    <tr>\n",
       "      <th>1</th>\n",
       "      <td>3</td>\n",
       "      <td>human</td>\n",
       "      <td>9606</td>\n",
       "      <td>ACADM</td>\n",
       "      <td>34</td>\n",
       "      <td>NaN</td>\n",
       "      <td>HGNC:89</td>\n",
       "      <td>OMIM:607008</td>\n",
       "      <td>Chr1 p31.1</td>\n",
       "      <td>Chr1:75724347-75763679(+)</td>\n",
       "      <td>NM_001286042,NM_001286044,NM_000016,NM_0011273...</td>\n",
       "      <td>NP_001120800,NP_001272971,NP_001272973,NP_0000...</td>\n",
       "      <td>P11310</td>\n",
       "    </tr>\n",
       "    <tr>\n",
       "      <th>2</th>\n",
       "      <td>5</td>\n",
       "      <td>mouse, laboratory</td>\n",
       "      <td>10090</td>\n",
       "      <td>Acadvl</td>\n",
       "      <td>11370</td>\n",
       "      <td>MGI:895149</td>\n",
       "      <td>NaN</td>\n",
       "      <td>NaN</td>\n",
       "      <td>Chr11 42.96 cM</td>\n",
       "      <td>Chr11:70010183-70015411(-)</td>\n",
       "      <td>NM_017366</td>\n",
       "      <td>NP_059062</td>\n",
       "      <td>P50544</td>\n",
       "    </tr>\n",
       "    <tr>\n",
       "      <th>3</th>\n",
       "      <td>5</td>\n",
       "      <td>human</td>\n",
       "      <td>9606</td>\n",
       "      <td>ACADVL</td>\n",
       "      <td>37</td>\n",
       "      <td>NaN</td>\n",
       "      <td>HGNC:92</td>\n",
       "      <td>OMIM:609575</td>\n",
       "      <td>Chr17 p13.1</td>\n",
       "      <td>Chr17:7217125-7225267(+)</td>\n",
       "      <td>NM_001270448,NM_001270447,NM_001033859,NM_000018</td>\n",
       "      <td>XP_006721579,XP_024306509,XP_011522132,XP_0115...</td>\n",
       "      <td>P49748</td>\n",
       "    </tr>\n",
       "    <tr>\n",
       "      <th>4</th>\n",
       "      <td>6</td>\n",
       "      <td>mouse, laboratory</td>\n",
       "      <td>10090</td>\n",
       "      <td>Acat1</td>\n",
       "      <td>110446</td>\n",
       "      <td>MGI:87870</td>\n",
       "      <td>NaN</td>\n",
       "      <td>NaN</td>\n",
       "      <td>Chr9 29.12 cM</td>\n",
       "      <td>Chr9:53580522-53610350(-)</td>\n",
       "      <td>NM_144784</td>\n",
       "      <td>NP_659033</td>\n",
       "      <td>Q8QZT1</td>\n",
       "    </tr>\n",
       "  </tbody>\n",
       "</table>\n",
       "</div>"
      ],
      "text/plain": [
       "   HomoloGene ID Common Organism Name  NCBI Taxon ID  Symbol  EntrezGene ID  \\\n",
       "0              3    mouse, laboratory          10090   Acadm          11364   \n",
       "1              3                human           9606   ACADM             34   \n",
       "2              5    mouse, laboratory          10090  Acadvl          11370   \n",
       "3              5                human           9606  ACADVL             37   \n",
       "4              6    mouse, laboratory          10090   Acat1         110446   \n",
       "\n",
       "  Mouse MGI ID  HGNC ID OMIM Gene ID Genetic Location  \\\n",
       "0    MGI:87867      NaN          NaN    Chr3 78.77 cM   \n",
       "1          NaN  HGNC:89  OMIM:607008       Chr1 p31.1   \n",
       "2   MGI:895149      NaN          NaN   Chr11 42.96 cM   \n",
       "3          NaN  HGNC:92  OMIM:609575      Chr17 p13.1   \n",
       "4    MGI:87870      NaN          NaN    Chr9 29.12 cM   \n",
       "\n",
       "  Genomic Coordinates (mouse: , human: )  \\\n",
       "0            Chr3:153922357-153944632(-)   \n",
       "1              Chr1:75724347-75763679(+)   \n",
       "2             Chr11:70010183-70015411(-)   \n",
       "3               Chr17:7217125-7225267(+)   \n",
       "4              Chr9:53580522-53610350(-)   \n",
       "\n",
       "                               Nucleotide RefSeq IDs  \\\n",
       "0                                          NM_007382   \n",
       "1  NM_001286042,NM_001286044,NM_000016,NM_0011273...   \n",
       "2                                          NM_017366   \n",
       "3   NM_001270448,NM_001270447,NM_001033859,NM_000018   \n",
       "4                                          NM_144784   \n",
       "\n",
       "                                  Protein RefSeq IDs SWISS_PROT IDs  \n",
       "0                                          NP_031408         P45952  \n",
       "1  NP_001120800,NP_001272971,NP_001272973,NP_0000...         P11310  \n",
       "2                                          NP_059062         P50544  \n",
       "3  XP_006721579,XP_024306509,XP_011522132,XP_0115...         P49748  \n",
       "4                                          NP_659033         Q8QZT1  "
      ]
     },
     "metadata": {},
     "output_type": "display_data"
    }
   ],
   "source": [
    "mgi_one2one = mgi_orthology.groupby(\"HomoloGene ID\").filter(\n",
    "    lambda x: len(x) == 2 and len(x[\"Common Organism Name\"].unique()) == 2\n",
    ")\n",
    "describe(mgi_one2one)"
   ]
  },
  {
   "cell_type": "code",
   "execution_count": 8,
   "metadata": {},
   "outputs": [
    {
     "name": "stdout",
     "output_type": "stream",
     "text": [
      "(16467, 2)\n",
      "--- First 5 entries ---\n"
     ]
    },
    {
     "data": {
      "text/html": [
       "<div>\n",
       "<style scoped>\n",
       "    .dataframe tbody tr th:only-of-type {\n",
       "        vertical-align: middle;\n",
       "    }\n",
       "\n",
       "    .dataframe tbody tr th {\n",
       "        vertical-align: top;\n",
       "    }\n",
       "\n",
       "    .dataframe thead th {\n",
       "        text-align: right;\n",
       "    }\n",
       "</style>\n",
       "<table border=\"1\" class=\"dataframe\">\n",
       "  <thead>\n",
       "    <tr style=\"text-align: right;\">\n",
       "      <th>Common Organism Name</th>\n",
       "      <th>human</th>\n",
       "      <th>mouse, laboratory</th>\n",
       "    </tr>\n",
       "    <tr>\n",
       "      <th>HomoloGene ID</th>\n",
       "      <th></th>\n",
       "      <th></th>\n",
       "    </tr>\n",
       "  </thead>\n",
       "  <tbody>\n",
       "    <tr>\n",
       "      <th>3</th>\n",
       "      <td>ACADM</td>\n",
       "      <td>Acadm</td>\n",
       "    </tr>\n",
       "    <tr>\n",
       "      <th>5</th>\n",
       "      <td>ACADVL</td>\n",
       "      <td>Acadvl</td>\n",
       "    </tr>\n",
       "    <tr>\n",
       "      <th>6</th>\n",
       "      <td>ACAT1</td>\n",
       "      <td>Acat1</td>\n",
       "    </tr>\n",
       "    <tr>\n",
       "      <th>7</th>\n",
       "      <td>ACVR1</td>\n",
       "      <td>Acvr1</td>\n",
       "    </tr>\n",
       "    <tr>\n",
       "      <th>9</th>\n",
       "      <td>SGCA</td>\n",
       "      <td>Sgca</td>\n",
       "    </tr>\n",
       "  </tbody>\n",
       "</table>\n",
       "</div>"
      ],
      "text/plain": [
       "Common Organism Name   human mouse, laboratory\n",
       "HomoloGene ID                                 \n",
       "3                      ACADM             Acadm\n",
       "5                     ACADVL            Acadvl\n",
       "6                      ACAT1             Acat1\n",
       "7                      ACVR1             Acvr1\n",
       "9                       SGCA              Sgca"
      ]
     },
     "metadata": {},
     "output_type": "display_data"
    }
   ],
   "source": [
    "mgi_one2one_2d = mgi_one2one.pivot(index='HomoloGene ID', values='Symbol', columns='Common Organism Name')\n",
    "describe(mgi_one2one_2d)"
   ]
  },
  {
   "cell_type": "markdown",
   "metadata": {
    "persistent_id": "aae40145-55d5-4182-a99a-f4bb64d9318d"
   },
   "source": [
    "# Mouse: Tabula Muris Senis"
   ]
  },
  {
   "cell_type": "markdown",
   "metadata": {
    "persistent_id": "804c0873-60e2-4254-8aa0-7406c9aeb4ab"
   },
   "source": [
    "## Load into Scanpy"
   ]
  },
  {
   "cell_type": "code",
   "execution_count": 9,
   "metadata": {
    "execution_event_id": "b5c6ba63-a8ad-476a-a755-dd1f55fb5920",
    "last_executed_text": "h5ad = '/home/olga/data_lg/data_sm_copy/czb-tabula-muris-senis/Data-objects/tabula-muris-senis-droplet-processed-official-annotations-Lung.h5ad'\nmouse = scanpy.read_h5ad(h5ad)\nmouse",
    "persistent_id": "4f3bc39b-b078-47e4-933a-85a8407368e3"
   },
   "outputs": [
    {
     "name": "stdout",
     "output_type": "stream",
     "text": [
      "CPU times: user 1.34 s, sys: 3.2 s, total: 4.53 s\n",
      "Wall time: 34.9 s\n"
     ]
    },
    {
     "data": {
      "text/plain": [
       "AnnData object with n_obs × n_vars = 238915 × 20138\n",
       "    obs: 'age', 'cell_id', 'cell_ontology_class', 'cell_ontology_id', 'free_annotation', 'individual', 'n_genes', 'sex', 'subtissue', 'tissue', 'species', 'species_latin', 'channel', 'sequencing_run', 'cell_barcode', 'n_counts', 'narrow_group', 'broad_group', 'compartment_group'\n",
       "    var: 'n_cells'"
      ]
     },
     "execution_count": 9,
     "metadata": {},
     "output_type": "execute_result"
    }
   ],
   "source": [
    "%%time\n",
    "\n",
    "h5ad = os.path.join(\n",
    "    \"/home/olga/data_lg/data_sm_copy/czb-tabula-muris-senis/Data-objects/\",\n",
    "    \"tabula-muris-senis-droplet-official-raw-obj--no-duplicate-barcodes-per-seq-run--minimal-obs-unified-celltypes.h5ad\",\n",
    ")\n",
    "mouse = scanpy.read_h5ad(h5ad)\n",
    "mouse"
   ]
  },
  {
   "cell_type": "markdown",
   "metadata": {
    "persistent_id": "f0331463-ec71-4762-aa11-57c1b6497c98"
   },
   "source": [
    "## Subset on 1:1 orthologs"
   ]
  },
  {
   "cell_type": "code",
   "execution_count": 10,
   "metadata": {
    "execution_event_id": "83951908-bd33-4606-8876-ff1d38f71daf",
    "last_executed_text": "gene_mask = mouse.var.index.isin(gene_orthologies_one2one_all_three['mouse__gene_name'].values)\nprint(gene_mask.sum())\nmouse_one2one = mouse[:, gene_mask]\nmouse_one2one",
    "persistent_id": "30aa843b-5ce3-427b-bce4-5e5ee4cd909f"
   },
   "outputs": [
    {
     "name": "stdout",
     "output_type": "stream",
     "text": [
      "14325\n"
     ]
    },
    {
     "data": {
      "text/plain": [
       "View of AnnData object with n_obs × n_vars = 238915 × 14325\n",
       "    obs: 'age', 'cell_id', 'cell_ontology_class', 'cell_ontology_id', 'free_annotation', 'individual', 'n_genes', 'sex', 'subtissue', 'tissue', 'species', 'species_latin', 'channel', 'sequencing_run', 'cell_barcode', 'n_counts', 'narrow_group', 'broad_group', 'compartment_group'\n",
       "    var: 'n_cells'"
      ]
     },
     "execution_count": 10,
     "metadata": {},
     "output_type": "execute_result"
    }
   ],
   "source": [
    "gene_mask = mouse.var.index.isin(\n",
    "    mgi_one2one_2d[\"mouse, laboratory\"].values\n",
    ")\n",
    "print(gene_mask.sum())\n",
    "mouse_one2one = mouse[:, gene_mask]\n",
    "mouse_one2one"
   ]
  },
  {
   "cell_type": "code",
   "execution_count": 24,
   "metadata": {},
   "outputs": [
    {
     "data": {
      "text/html": [
       "<div>\n",
       "<style scoped>\n",
       "    .dataframe tbody tr th:only-of-type {\n",
       "        vertical-align: middle;\n",
       "    }\n",
       "\n",
       "    .dataframe tbody tr th {\n",
       "        vertical-align: top;\n",
       "    }\n",
       "\n",
       "    .dataframe thead th {\n",
       "        text-align: right;\n",
       "    }\n",
       "</style>\n",
       "<table border=\"1\" class=\"dataframe\">\n",
       "  <thead>\n",
       "    <tr style=\"text-align: right;\">\n",
       "      <th></th>\n",
       "      <th>n_cells</th>\n",
       "    </tr>\n",
       "    <tr>\n",
       "      <th>index</th>\n",
       "      <th></th>\n",
       "    </tr>\n",
       "  </thead>\n",
       "  <tbody>\n",
       "    <tr>\n",
       "      <th>Xkr4</th>\n",
       "      <td>147</td>\n",
       "    </tr>\n",
       "    <tr>\n",
       "      <th>Rp1</th>\n",
       "      <td>233</td>\n",
       "    </tr>\n",
       "    <tr>\n",
       "      <th>Sox17</th>\n",
       "      <td>27289</td>\n",
       "    </tr>\n",
       "    <tr>\n",
       "      <th>Mrpl15</th>\n",
       "      <td>95312</td>\n",
       "    </tr>\n",
       "    <tr>\n",
       "      <th>Lypla1</th>\n",
       "      <td>86096</td>\n",
       "    </tr>\n",
       "  </tbody>\n",
       "</table>\n",
       "</div>"
      ],
      "text/plain": [
       "        n_cells\n",
       "index          \n",
       "Xkr4        147\n",
       "Rp1         233\n",
       "Sox17     27289\n",
       "Mrpl15    95312\n",
       "Lypla1    86096"
      ]
     },
     "execution_count": 24,
     "metadata": {},
     "output_type": "execute_result"
    }
   ],
   "source": [
    "mouse_one2one.var.head()"
   ]
  },
  {
   "cell_type": "markdown",
   "metadata": {},
   "source": [
    "## Set human genes gene namees"
   ]
  },
  {
   "cell_type": "code",
   "execution_count": 28,
   "metadata": {},
   "outputs": [
    {
     "name": "stdout",
     "output_type": "stream",
     "text": [
      "(16467,)\n",
      "--- First 5 entries ---\n"
     ]
    },
    {
     "data": {
      "text/plain": [
       "mouse, laboratory\n",
       "Acadm      ACADM\n",
       "Acadvl    ACADVL\n",
       "Acat1      ACAT1\n",
       "Acvr1      ACVR1\n",
       "Sgca        SGCA\n",
       "Name: human, dtype: object"
      ]
     },
     "metadata": {},
     "output_type": "display_data"
    }
   ],
   "source": [
    "human_to_mouse_symbol = mgi_one2one_2d.set_index('mouse, laboratory')['human']\n",
    "describe(human_to_mouse_symbol)"
   ]
  },
  {
   "cell_type": "code",
   "execution_count": 36,
   "metadata": {},
   "outputs": [
    {
     "name": "stdout",
     "output_type": "stream",
     "text": [
      "(14325, 2)\n",
      "--- First 5 entries ---\n"
     ]
    },
    {
     "data": {
      "text/html": [
       "<div>\n",
       "<style scoped>\n",
       "    .dataframe tbody tr th:only-of-type {\n",
       "        vertical-align: middle;\n",
       "    }\n",
       "\n",
       "    .dataframe tbody tr th {\n",
       "        vertical-align: top;\n",
       "    }\n",
       "\n",
       "    .dataframe thead th {\n",
       "        text-align: right;\n",
       "    }\n",
       "</style>\n",
       "<table border=\"1\" class=\"dataframe\">\n",
       "  <thead>\n",
       "    <tr style=\"text-align: right;\">\n",
       "      <th></th>\n",
       "      <th>mouse_gene_symbol</th>\n",
       "      <th>n_cells</th>\n",
       "    </tr>\n",
       "    <tr>\n",
       "      <th>human_gene_symbol</th>\n",
       "      <th></th>\n",
       "      <th></th>\n",
       "    </tr>\n",
       "  </thead>\n",
       "  <tbody>\n",
       "    <tr>\n",
       "      <th>XKR4</th>\n",
       "      <td>Xkr4</td>\n",
       "      <td>147</td>\n",
       "    </tr>\n",
       "    <tr>\n",
       "      <th>RP1</th>\n",
       "      <td>Rp1</td>\n",
       "      <td>233</td>\n",
       "    </tr>\n",
       "    <tr>\n",
       "      <th>SOX17</th>\n",
       "      <td>Sox17</td>\n",
       "      <td>27289</td>\n",
       "    </tr>\n",
       "    <tr>\n",
       "      <th>MRPL15</th>\n",
       "      <td>Mrpl15</td>\n",
       "      <td>95312</td>\n",
       "    </tr>\n",
       "    <tr>\n",
       "      <th>LYPLA1</th>\n",
       "      <td>Lypla1</td>\n",
       "      <td>86096</td>\n",
       "    </tr>\n",
       "  </tbody>\n",
       "</table>\n",
       "</div>"
      ],
      "text/plain": [
       "                  mouse_gene_symbol  n_cells\n",
       "human_gene_symbol                           \n",
       "XKR4                           Xkr4      147\n",
       "RP1                             Rp1      233\n",
       "SOX17                         Sox17    27289\n",
       "MRPL15                       Mrpl15    95312\n",
       "LYPLA1                       Lypla1    86096"
      ]
     },
     "metadata": {},
     "output_type": "display_data"
    }
   ],
   "source": [
    "mouse_new_var = mouse_one2one.var.reset_index()\n",
    "mouse_new_var = mouse_new_var.rename(columns={'index': 'mouse_gene_symbol'})\n",
    "mouse_new_var['human_gene_symbol'] = mouse_new_var.mouse_gene_symbol.map(human_to_mouse_symbol)\n",
    "mouse_new_var = mouse_new_var.set_index('human_gene_symbol')\n",
    "describe(mouse_new_var)"
   ]
  },
  {
   "cell_type": "markdown",
   "metadata": {},
   "source": [
    "## Add new var"
   ]
  },
  {
   "cell_type": "code",
   "execution_count": 37,
   "metadata": {},
   "outputs": [
    {
     "name": "stdout",
     "output_type": "stream",
     "text": [
      "(14325, 2)\n",
      "--- First 5 entries ---\n"
     ]
    },
    {
     "data": {
      "text/html": [
       "<div>\n",
       "<style scoped>\n",
       "    .dataframe tbody tr th:only-of-type {\n",
       "        vertical-align: middle;\n",
       "    }\n",
       "\n",
       "    .dataframe tbody tr th {\n",
       "        vertical-align: top;\n",
       "    }\n",
       "\n",
       "    .dataframe thead th {\n",
       "        text-align: right;\n",
       "    }\n",
       "</style>\n",
       "<table border=\"1\" class=\"dataframe\">\n",
       "  <thead>\n",
       "    <tr style=\"text-align: right;\">\n",
       "      <th></th>\n",
       "      <th>mouse_gene_symbol</th>\n",
       "      <th>n_cells</th>\n",
       "    </tr>\n",
       "    <tr>\n",
       "      <th>human_gene_symbol</th>\n",
       "      <th></th>\n",
       "      <th></th>\n",
       "    </tr>\n",
       "  </thead>\n",
       "  <tbody>\n",
       "    <tr>\n",
       "      <th>XKR4</th>\n",
       "      <td>Xkr4</td>\n",
       "      <td>147</td>\n",
       "    </tr>\n",
       "    <tr>\n",
       "      <th>RP1</th>\n",
       "      <td>Rp1</td>\n",
       "      <td>233</td>\n",
       "    </tr>\n",
       "    <tr>\n",
       "      <th>SOX17</th>\n",
       "      <td>Sox17</td>\n",
       "      <td>27289</td>\n",
       "    </tr>\n",
       "    <tr>\n",
       "      <th>MRPL15</th>\n",
       "      <td>Mrpl15</td>\n",
       "      <td>95312</td>\n",
       "    </tr>\n",
       "    <tr>\n",
       "      <th>LYPLA1</th>\n",
       "      <td>Lypla1</td>\n",
       "      <td>86096</td>\n",
       "    </tr>\n",
       "  </tbody>\n",
       "</table>\n",
       "</div>"
      ],
      "text/plain": [
       "                  mouse_gene_symbol  n_cells\n",
       "human_gene_symbol                           \n",
       "XKR4                           Xkr4      147\n",
       "RP1                             Rp1      233\n",
       "SOX17                         Sox17    27289\n",
       "MRPL15                       Mrpl15    95312\n",
       "LYPLA1                       Lypla1    86096"
      ]
     },
     "metadata": {},
     "output_type": "display_data"
    }
   ],
   "source": [
    "mouse_one2one.var = mouse_new_var\n",
    "describe(mouse_one2one.var)"
   ]
  },
  {
   "cell_type": "markdown",
   "metadata": {},
   "source": [
    "## Write 1:1 orthologs"
   ]
  },
  {
   "cell_type": "code",
   "execution_count": 38,
   "metadata": {},
   "outputs": [
    {
     "name": "stdout",
     "output_type": "stream",
     "text": [
      "/home/olga/data_lg/data_sm_copy/immune-evolution/data-objects/human-mouse/tabula-muris-senis--human-mouse-one2one-ortholog-subset.h5ad\n",
      "CPU times: user 4.06 s, sys: 1.95 s, total: 6.02 s\n",
      "Wall time: 34.2 s\n"
     ]
    }
   ],
   "source": [
    "%%time\n",
    "\n",
    "h5ad = os.path.join(\n",
    "    kmer_outdir, \"tabula-muris-senis--human-mouse-one2one-ortholog-subset.h5ad\"\n",
    ")\n",
    "print(h5ad)\n",
    "mouse_one2one.write(h5ad)"
   ]
  },
  {
   "cell_type": "markdown",
   "metadata": {},
   "source": [
    "# Human: Tabula Sapiens"
   ]
  },
  {
   "cell_type": "code",
   "execution_count": 11,
   "metadata": {},
   "outputs": [
    {
     "data": {
      "text/plain": [
       "AnnData object with n_obs × n_vars = 132884 × 58870\n",
       "    obs: 'individual', 'tissue', 'subtissue', 'cell_barcode', 'channel', 'sex', 'n_counts', 'n_genes', 'cell_ontology_class', 'species', 'species_latin', 'narrow_group', 'broad_group', 'compartment_group'\n",
       "    var: 'ensembl_id', 'len'\n",
       "    uns: 'Propagated.Annotationcollapsed_colors', '_scvi', 'annotation_oct2020_colors', 'cell_ontology_type_colors', 'compartment_colors', 'compartment_oct2020_colors', 'donor_colors', 'leiden', 'method_colors', 'neighbors', 'umap'\n",
       "    obsm: 'X_scvi', 'X_scvi_decontX', 'X_scvi_raw', 'X_umap', 'X_umap_decontX', 'X_umap_raw'\n",
       "    layers: 'raw_counts'\n",
       "    obsp: 'connectivities', 'distances'"
      ]
     },
     "execution_count": 11,
     "metadata": {},
     "output_type": "execute_result"
    }
   ],
   "source": [
    "%%time\n",
    "\n",
    "h5ad = os.path.join('/home/olga/data_lg/data_sm_copy/tabula-sapiens/data-objects/Pilot1_Pilot2_decontX_Oct2020__minimal_no_pilot2_diaphragm.h5ad')\n",
    "sapiens = scanpy.read(h5ad, cache=True)\n",
    "sapiens"
   ]
  },
  {
   "cell_type": "markdown",
   "metadata": {
    "persistent_id": "dd6e1df7-b220-4489-98c3-01a9d35b4453"
   },
   "source": [
    "## Subset to 1:1 orthologs"
   ]
  },
  {
   "cell_type": "code",
   "execution_count": 14,
   "metadata": {
    "execution_event_id": "b760e5b5-469d-4cef-b637-915cef56c2ce",
    "last_executed_text": "gene_mask = human.var.index.isin(gene_orthologies_one2one_all_three['human__gene_name'].values)\nprint(gene_mask.sum())\n\n# Need to copy so it's not an ArrayView object\nhuman_one2one = human[:, gene_mask].copy()\nhuman_one2one",
    "persistent_id": "91abc876-9b31-4e74-ba0e-ebacfd411eda"
   },
   "outputs": [
    {
     "name": "stdout",
     "output_type": "stream",
     "text": [
      "16156\n"
     ]
    },
    {
     "data": {
      "text/plain": [
       "AnnData object with n_obs × n_vars = 132884 × 16156\n",
       "    obs: 'individual', 'tissue', 'subtissue', 'cell_barcode', 'channel', 'sex', 'n_counts', 'n_genes', 'cell_ontology_class', 'species', 'species_latin', 'narrow_group', 'broad_group', 'compartment_group'\n",
       "    var: 'ensembl_id', 'len'\n",
       "    uns: 'Propagated.Annotationcollapsed_colors', '_scvi', 'annotation_oct2020_colors', 'cell_ontology_type_colors', 'compartment_colors', 'compartment_oct2020_colors', 'donor_colors', 'leiden', 'method_colors', 'neighbors', 'umap'\n",
       "    obsm: 'X_scvi', 'X_scvi_decontX', 'X_scvi_raw', 'X_umap', 'X_umap_decontX', 'X_umap_raw'\n",
       "    layers: 'raw_counts'\n",
       "    obsp: 'connectivities', 'distances'"
      ]
     },
     "execution_count": 14,
     "metadata": {},
     "output_type": "execute_result"
    }
   ],
   "source": [
    "gene_mask = sapiens.var.index.isin(mgi_one2one_2d[\"human\"].values)\n",
    "print(gene_mask.sum())\n",
    "\n",
    "# Need to copy so it's not an ArrayView object\n",
    "sapiens_one2one = sapiens[:, gene_mask].copy()\n",
    "sapiens_one2one"
   ]
  },
  {
   "cell_type": "code",
   "execution_count": 17,
   "metadata": {},
   "outputs": [
    {
     "data": {
      "text/html": [
       "<div>\n",
       "<style scoped>\n",
       "    .dataframe tbody tr th:only-of-type {\n",
       "        vertical-align: middle;\n",
       "    }\n",
       "\n",
       "    .dataframe tbody tr th {\n",
       "        vertical-align: top;\n",
       "    }\n",
       "\n",
       "    .dataframe thead th {\n",
       "        text-align: right;\n",
       "    }\n",
       "</style>\n",
       "<table border=\"1\" class=\"dataframe\">\n",
       "  <thead>\n",
       "    <tr style=\"text-align: right;\">\n",
       "      <th></th>\n",
       "      <th>ensembl_id</th>\n",
       "      <th>len</th>\n",
       "    </tr>\n",
       "  </thead>\n",
       "  <tbody>\n",
       "    <tr>\n",
       "      <th>SAMD11</th>\n",
       "      <td>ENSG00000187634.12</td>\n",
       "      <td>1699.705882</td>\n",
       "    </tr>\n",
       "    <tr>\n",
       "      <th>NOC2L</th>\n",
       "      <td>ENSG00000188976.11</td>\n",
       "      <td>1743.500000</td>\n",
       "    </tr>\n",
       "    <tr>\n",
       "      <th>KLHL17</th>\n",
       "      <td>ENSG00000187961.14</td>\n",
       "      <td>1380.000000</td>\n",
       "    </tr>\n",
       "    <tr>\n",
       "      <th>PLEKHN1</th>\n",
       "      <td>ENSG00000187583.10</td>\n",
       "      <td>1643.000000</td>\n",
       "    </tr>\n",
       "    <tr>\n",
       "      <th>ISG15</th>\n",
       "      <td>ENSG00000187608.9</td>\n",
       "      <td>698.000000</td>\n",
       "    </tr>\n",
       "  </tbody>\n",
       "</table>\n",
       "</div>"
      ],
      "text/plain": [
       "                 ensembl_id          len\n",
       "SAMD11   ENSG00000187634.12  1699.705882\n",
       "NOC2L    ENSG00000188976.11  1743.500000\n",
       "KLHL17   ENSG00000187961.14  1380.000000\n",
       "PLEKHN1  ENSG00000187583.10  1643.000000\n",
       "ISG15     ENSG00000187608.9   698.000000"
      ]
     },
     "execution_count": 17,
     "metadata": {},
     "output_type": "execute_result"
    }
   ],
   "source": [
    "sapiens_one2one.var.head()"
   ]
  },
  {
   "cell_type": "markdown",
   "metadata": {},
   "source": [
    "## Write sapiens subset to file"
   ]
  },
  {
   "cell_type": "code",
   "execution_count": 18,
   "metadata": {},
   "outputs": [],
   "source": [
    "h5ad = os.path.join(\n",
    "    kmer_outdir, \"tabula-sapiens--human-mouse-one2one-ortholog-subset.h5ad\"\n",
    ")\n",
    "sapiens_one2one.write(h5ad)"
   ]
  },
  {
   "cell_type": "markdown",
   "metadata": {},
   "source": [
    "\n",
    "# Concatenate objects"
   ]
  },
  {
   "cell_type": "code",
   "execution_count": 39,
   "metadata": {},
   "outputs": [
    {
     "data": {
      "text/plain": [
       "AnnData object with n_obs × n_vars = 371799 × 14245\n",
       "    obs: 'individual', 'tissue', 'subtissue', 'cell_barcode', 'channel', 'sex', 'n_counts', 'n_genes', 'cell_ontology_class', 'species', 'species_latin', 'narrow_group', 'broad_group', 'compartment_group', 'age', 'cell_id', 'cell_ontology_id', 'free_annotation', 'sequencing_run', 'species_batch'\n",
       "    var: 'ensembl_id-human', 'len-human', 'mouse_gene_symbol-mouse', 'n_cells-mouse'"
      ]
     },
     "execution_count": 39,
     "metadata": {},
     "output_type": "execute_result"
    }
   ],
   "source": [
    "human_mouse = sapiens_one2one.concatenate(\n",
    "    mouse_one2one,\n",
    "    batch_key=\"species_batch\",\n",
    "    batch_categories=[\"human\", \"mouse\"],\n",
    ")\n",
    "human_mouse"
   ]
  },
  {
   "cell_type": "markdown",
   "metadata": {},
   "source": [
    "## Add cell id columnn"
   ]
  },
  {
   "cell_type": "code",
   "execution_count": 45,
   "metadata": {},
   "outputs": [
    {
     "name": "stdout",
     "output_type": "stream",
     "text": [
      "(371799, 20)\n",
      "--- First 5 entries ---\n"
     ]
    },
    {
     "data": {
      "text/html": [
       "<div>\n",
       "<style scoped>\n",
       "    .dataframe tbody tr th:only-of-type {\n",
       "        vertical-align: middle;\n",
       "    }\n",
       "\n",
       "    .dataframe tbody tr th {\n",
       "        vertical-align: top;\n",
       "    }\n",
       "\n",
       "    .dataframe thead th {\n",
       "        text-align: right;\n",
       "    }\n",
       "</style>\n",
       "<table border=\"1\" class=\"dataframe\">\n",
       "  <thead>\n",
       "    <tr style=\"text-align: right;\">\n",
       "      <th></th>\n",
       "      <th>individual</th>\n",
       "      <th>tissue</th>\n",
       "      <th>subtissue</th>\n",
       "      <th>cell_barcode</th>\n",
       "      <th>channel</th>\n",
       "      <th>sex</th>\n",
       "      <th>n_counts</th>\n",
       "      <th>n_genes</th>\n",
       "      <th>cell_ontology_class</th>\n",
       "      <th>species</th>\n",
       "      <th>species_latin</th>\n",
       "      <th>narrow_group</th>\n",
       "      <th>broad_group</th>\n",
       "      <th>compartment_group</th>\n",
       "      <th>age</th>\n",
       "      <th>cell_id</th>\n",
       "      <th>cell_ontology_id</th>\n",
       "      <th>free_annotation</th>\n",
       "      <th>sequencing_run</th>\n",
       "      <th>species_batch</th>\n",
       "    </tr>\n",
       "    <tr>\n",
       "      <th>index</th>\n",
       "      <th></th>\n",
       "      <th></th>\n",
       "      <th></th>\n",
       "      <th></th>\n",
       "      <th></th>\n",
       "      <th></th>\n",
       "      <th></th>\n",
       "      <th></th>\n",
       "      <th></th>\n",
       "      <th></th>\n",
       "      <th></th>\n",
       "      <th></th>\n",
       "      <th></th>\n",
       "      <th></th>\n",
       "      <th></th>\n",
       "      <th></th>\n",
       "      <th></th>\n",
       "      <th></th>\n",
       "      <th></th>\n",
       "      <th></th>\n",
       "    </tr>\n",
       "  </thead>\n",
       "  <tbody>\n",
       "    <tr>\n",
       "      <th>AAACCCAGTGTAGCAG_TSP1_bladder_1-0-human</th>\n",
       "      <td>TSP1</td>\n",
       "      <td>Bladder</td>\n",
       "      <td>nan</td>\n",
       "      <td>AAACCCAGTGTAGCAG</td>\n",
       "      <td>TSP1_bladder_1</td>\n",
       "      <td>female</td>\n",
       "      <td>5522.0</td>\n",
       "      <td>1908.0</td>\n",
       "      <td>macrophage</td>\n",
       "      <td>Human</td>\n",
       "      <td>Homo sapiens</td>\n",
       "      <td>macrophage</td>\n",
       "      <td>macrophage</td>\n",
       "      <td>myeloid</td>\n",
       "      <td>nan</td>\n",
       "      <td>TSP1_bladder_1__AAACCCAGTGTAGCAG</td>\n",
       "      <td>nan</td>\n",
       "      <td>nan</td>\n",
       "      <td>nan</td>\n",
       "      <td>human</td>\n",
       "    </tr>\n",
       "    <tr>\n",
       "      <th>AAACCCATCAAGTCTG_TSP1_bladder_1-0-human</th>\n",
       "      <td>TSP1</td>\n",
       "      <td>Bladder</td>\n",
       "      <td>nan</td>\n",
       "      <td>AAACCCATCAAGTCTG</td>\n",
       "      <td>TSP1_bladder_1</td>\n",
       "      <td>female</td>\n",
       "      <td>3829.0</td>\n",
       "      <td>1473.0</td>\n",
       "      <td>macrophage</td>\n",
       "      <td>Human</td>\n",
       "      <td>Homo sapiens</td>\n",
       "      <td>macrophage</td>\n",
       "      <td>macrophage</td>\n",
       "      <td>myeloid</td>\n",
       "      <td>nan</td>\n",
       "      <td>TSP1_bladder_1__AAACCCATCAAGTCTG</td>\n",
       "      <td>nan</td>\n",
       "      <td>nan</td>\n",
       "      <td>nan</td>\n",
       "      <td>human</td>\n",
       "    </tr>\n",
       "    <tr>\n",
       "      <th>AAACCCATCCTTCGAC_TSP1_bladder_1-0-human</th>\n",
       "      <td>TSP1</td>\n",
       "      <td>Bladder</td>\n",
       "      <td>nan</td>\n",
       "      <td>AAACCCATCCTTCGAC</td>\n",
       "      <td>TSP1_bladder_1</td>\n",
       "      <td>female</td>\n",
       "      <td>6434.0</td>\n",
       "      <td>2062.0</td>\n",
       "      <td>macrophage</td>\n",
       "      <td>Human</td>\n",
       "      <td>Homo sapiens</td>\n",
       "      <td>macrophage</td>\n",
       "      <td>macrophage</td>\n",
       "      <td>myeloid</td>\n",
       "      <td>nan</td>\n",
       "      <td>TSP1_bladder_1__AAACCCATCCTTCGAC</td>\n",
       "      <td>nan</td>\n",
       "      <td>nan</td>\n",
       "      <td>nan</td>\n",
       "      <td>human</td>\n",
       "    </tr>\n",
       "    <tr>\n",
       "      <th>AAACCCATCGAAGGAC_TSP1_bladder_1-0-human</th>\n",
       "      <td>TSP1</td>\n",
       "      <td>Bladder</td>\n",
       "      <td>nan</td>\n",
       "      <td>AAACCCATCGAAGGAC</td>\n",
       "      <td>TSP1_bladder_1</td>\n",
       "      <td>female</td>\n",
       "      <td>12273.0</td>\n",
       "      <td>2751.0</td>\n",
       "      <td>macrophage</td>\n",
       "      <td>Human</td>\n",
       "      <td>Homo sapiens</td>\n",
       "      <td>macrophage</td>\n",
       "      <td>macrophage</td>\n",
       "      <td>myeloid</td>\n",
       "      <td>nan</td>\n",
       "      <td>TSP1_bladder_1__AAACCCATCGAAGGAC</td>\n",
       "      <td>nan</td>\n",
       "      <td>nan</td>\n",
       "      <td>nan</td>\n",
       "      <td>human</td>\n",
       "    </tr>\n",
       "    <tr>\n",
       "      <th>AAACGAAAGCTCCGAC_TSP1_bladder_1-0-human</th>\n",
       "      <td>TSP1</td>\n",
       "      <td>Bladder</td>\n",
       "      <td>nan</td>\n",
       "      <td>AAACGAAAGCTCCGAC</td>\n",
       "      <td>TSP1_bladder_1</td>\n",
       "      <td>female</td>\n",
       "      <td>4724.0</td>\n",
       "      <td>651.0</td>\n",
       "      <td>plasma cell</td>\n",
       "      <td>Human</td>\n",
       "      <td>Homo sapiens</td>\n",
       "      <td>plasma cell</td>\n",
       "      <td>plasma cell</td>\n",
       "      <td>lymphoid</td>\n",
       "      <td>nan</td>\n",
       "      <td>TSP1_bladder_1__AAACGAAAGCTCCGAC</td>\n",
       "      <td>nan</td>\n",
       "      <td>nan</td>\n",
       "      <td>nan</td>\n",
       "      <td>human</td>\n",
       "    </tr>\n",
       "  </tbody>\n",
       "</table>\n",
       "</div>"
      ],
      "text/plain": [
       "                                        individual   tissue subtissue  \\\n",
       "index                                                                   \n",
       "AAACCCAGTGTAGCAG_TSP1_bladder_1-0-human       TSP1  Bladder       nan   \n",
       "AAACCCATCAAGTCTG_TSP1_bladder_1-0-human       TSP1  Bladder       nan   \n",
       "AAACCCATCCTTCGAC_TSP1_bladder_1-0-human       TSP1  Bladder       nan   \n",
       "AAACCCATCGAAGGAC_TSP1_bladder_1-0-human       TSP1  Bladder       nan   \n",
       "AAACGAAAGCTCCGAC_TSP1_bladder_1-0-human       TSP1  Bladder       nan   \n",
       "\n",
       "                                             cell_barcode         channel  \\\n",
       "index                                                                       \n",
       "AAACCCAGTGTAGCAG_TSP1_bladder_1-0-human  AAACCCAGTGTAGCAG  TSP1_bladder_1   \n",
       "AAACCCATCAAGTCTG_TSP1_bladder_1-0-human  AAACCCATCAAGTCTG  TSP1_bladder_1   \n",
       "AAACCCATCCTTCGAC_TSP1_bladder_1-0-human  AAACCCATCCTTCGAC  TSP1_bladder_1   \n",
       "AAACCCATCGAAGGAC_TSP1_bladder_1-0-human  AAACCCATCGAAGGAC  TSP1_bladder_1   \n",
       "AAACGAAAGCTCCGAC_TSP1_bladder_1-0-human  AAACGAAAGCTCCGAC  TSP1_bladder_1   \n",
       "\n",
       "                                            sex  n_counts  n_genes  \\\n",
       "index                                                                \n",
       "AAACCCAGTGTAGCAG_TSP1_bladder_1-0-human  female    5522.0   1908.0   \n",
       "AAACCCATCAAGTCTG_TSP1_bladder_1-0-human  female    3829.0   1473.0   \n",
       "AAACCCATCCTTCGAC_TSP1_bladder_1-0-human  female    6434.0   2062.0   \n",
       "AAACCCATCGAAGGAC_TSP1_bladder_1-0-human  female   12273.0   2751.0   \n",
       "AAACGAAAGCTCCGAC_TSP1_bladder_1-0-human  female    4724.0    651.0   \n",
       "\n",
       "                                        cell_ontology_class species  \\\n",
       "index                                                                 \n",
       "AAACCCAGTGTAGCAG_TSP1_bladder_1-0-human          macrophage   Human   \n",
       "AAACCCATCAAGTCTG_TSP1_bladder_1-0-human          macrophage   Human   \n",
       "AAACCCATCCTTCGAC_TSP1_bladder_1-0-human          macrophage   Human   \n",
       "AAACCCATCGAAGGAC_TSP1_bladder_1-0-human          macrophage   Human   \n",
       "AAACGAAAGCTCCGAC_TSP1_bladder_1-0-human         plasma cell   Human   \n",
       "\n",
       "                                        species_latin narrow_group  \\\n",
       "index                                                                \n",
       "AAACCCAGTGTAGCAG_TSP1_bladder_1-0-human  Homo sapiens   macrophage   \n",
       "AAACCCATCAAGTCTG_TSP1_bladder_1-0-human  Homo sapiens   macrophage   \n",
       "AAACCCATCCTTCGAC_TSP1_bladder_1-0-human  Homo sapiens   macrophage   \n",
       "AAACCCATCGAAGGAC_TSP1_bladder_1-0-human  Homo sapiens   macrophage   \n",
       "AAACGAAAGCTCCGAC_TSP1_bladder_1-0-human  Homo sapiens  plasma cell   \n",
       "\n",
       "                                         broad_group compartment_group  age  \\\n",
       "index                                                                         \n",
       "AAACCCAGTGTAGCAG_TSP1_bladder_1-0-human   macrophage           myeloid  nan   \n",
       "AAACCCATCAAGTCTG_TSP1_bladder_1-0-human   macrophage           myeloid  nan   \n",
       "AAACCCATCCTTCGAC_TSP1_bladder_1-0-human   macrophage           myeloid  nan   \n",
       "AAACCCATCGAAGGAC_TSP1_bladder_1-0-human   macrophage           myeloid  nan   \n",
       "AAACGAAAGCTCCGAC_TSP1_bladder_1-0-human  plasma cell          lymphoid  nan   \n",
       "\n",
       "                                                                  cell_id  \\\n",
       "index                                                                       \n",
       "AAACCCAGTGTAGCAG_TSP1_bladder_1-0-human  TSP1_bladder_1__AAACCCAGTGTAGCAG   \n",
       "AAACCCATCAAGTCTG_TSP1_bladder_1-0-human  TSP1_bladder_1__AAACCCATCAAGTCTG   \n",
       "AAACCCATCCTTCGAC_TSP1_bladder_1-0-human  TSP1_bladder_1__AAACCCATCCTTCGAC   \n",
       "AAACCCATCGAAGGAC_TSP1_bladder_1-0-human  TSP1_bladder_1__AAACCCATCGAAGGAC   \n",
       "AAACGAAAGCTCCGAC_TSP1_bladder_1-0-human  TSP1_bladder_1__AAACGAAAGCTCCGAC   \n",
       "\n",
       "                                        cell_ontology_id free_annotation  \\\n",
       "index                                                                      \n",
       "AAACCCAGTGTAGCAG_TSP1_bladder_1-0-human              nan             nan   \n",
       "AAACCCATCAAGTCTG_TSP1_bladder_1-0-human              nan             nan   \n",
       "AAACCCATCCTTCGAC_TSP1_bladder_1-0-human              nan             nan   \n",
       "AAACCCATCGAAGGAC_TSP1_bladder_1-0-human              nan             nan   \n",
       "AAACGAAAGCTCCGAC_TSP1_bladder_1-0-human              nan             nan   \n",
       "\n",
       "                                        sequencing_run species_batch  \n",
       "index                                                                 \n",
       "AAACCCAGTGTAGCAG_TSP1_bladder_1-0-human            nan         human  \n",
       "AAACCCATCAAGTCTG_TSP1_bladder_1-0-human            nan         human  \n",
       "AAACCCATCCTTCGAC_TSP1_bladder_1-0-human            nan         human  \n",
       "AAACCCATCGAAGGAC_TSP1_bladder_1-0-human            nan         human  \n",
       "AAACGAAAGCTCCGAC_TSP1_bladder_1-0-human            nan         human  "
      ]
     },
     "metadata": {},
     "output_type": "display_data"
    }
   ],
   "source": [
    "human_mouse.obs['cell_id'] = human_mouse.obs.channel.astype(str) + '__' + human_mouse.obs.cell_barcode.astype(str)\n",
    "describe(human_mouse.obs)"
   ]
  },
  {
   "cell_type": "code",
   "execution_count": 47,
   "metadata": {},
   "outputs": [
    {
     "name": "stdout",
     "output_type": "stream",
     "text": [
      "(371799, 20)\n",
      "--- First 5 entries ---\n"
     ]
    },
    {
     "data": {
      "text/html": [
       "<div>\n",
       "<style scoped>\n",
       "    .dataframe tbody tr th:only-of-type {\n",
       "        vertical-align: middle;\n",
       "    }\n",
       "\n",
       "    .dataframe tbody tr th {\n",
       "        vertical-align: top;\n",
       "    }\n",
       "\n",
       "    .dataframe thead th {\n",
       "        text-align: right;\n",
       "    }\n",
       "</style>\n",
       "<table border=\"1\" class=\"dataframe\">\n",
       "  <thead>\n",
       "    <tr style=\"text-align: right;\">\n",
       "      <th></th>\n",
       "      <th>original_cell_id</th>\n",
       "      <th>individual</th>\n",
       "      <th>tissue</th>\n",
       "      <th>subtissue</th>\n",
       "      <th>cell_barcode</th>\n",
       "      <th>channel</th>\n",
       "      <th>sex</th>\n",
       "      <th>n_counts</th>\n",
       "      <th>n_genes</th>\n",
       "      <th>cell_ontology_class</th>\n",
       "      <th>species</th>\n",
       "      <th>species_latin</th>\n",
       "      <th>narrow_group</th>\n",
       "      <th>broad_group</th>\n",
       "      <th>compartment_group</th>\n",
       "      <th>age</th>\n",
       "      <th>cell_ontology_id</th>\n",
       "      <th>free_annotation</th>\n",
       "      <th>sequencing_run</th>\n",
       "      <th>species_batch</th>\n",
       "    </tr>\n",
       "    <tr>\n",
       "      <th>cell_id</th>\n",
       "      <th></th>\n",
       "      <th></th>\n",
       "      <th></th>\n",
       "      <th></th>\n",
       "      <th></th>\n",
       "      <th></th>\n",
       "      <th></th>\n",
       "      <th></th>\n",
       "      <th></th>\n",
       "      <th></th>\n",
       "      <th></th>\n",
       "      <th></th>\n",
       "      <th></th>\n",
       "      <th></th>\n",
       "      <th></th>\n",
       "      <th></th>\n",
       "      <th></th>\n",
       "      <th></th>\n",
       "      <th></th>\n",
       "      <th></th>\n",
       "    </tr>\n",
       "  </thead>\n",
       "  <tbody>\n",
       "    <tr>\n",
       "      <th>TSP1_bladder_1__AAACCCAGTGTAGCAG</th>\n",
       "      <td>AAACCCAGTGTAGCAG_TSP1_bladder_1-0-human</td>\n",
       "      <td>TSP1</td>\n",
       "      <td>Bladder</td>\n",
       "      <td>nan</td>\n",
       "      <td>AAACCCAGTGTAGCAG</td>\n",
       "      <td>TSP1_bladder_1</td>\n",
       "      <td>female</td>\n",
       "      <td>5522.0</td>\n",
       "      <td>1908.0</td>\n",
       "      <td>macrophage</td>\n",
       "      <td>Human</td>\n",
       "      <td>Homo sapiens</td>\n",
       "      <td>macrophage</td>\n",
       "      <td>macrophage</td>\n",
       "      <td>myeloid</td>\n",
       "      <td>nan</td>\n",
       "      <td>nan</td>\n",
       "      <td>nan</td>\n",
       "      <td>nan</td>\n",
       "      <td>human</td>\n",
       "    </tr>\n",
       "    <tr>\n",
       "      <th>TSP1_bladder_1__AAACCCATCAAGTCTG</th>\n",
       "      <td>AAACCCATCAAGTCTG_TSP1_bladder_1-0-human</td>\n",
       "      <td>TSP1</td>\n",
       "      <td>Bladder</td>\n",
       "      <td>nan</td>\n",
       "      <td>AAACCCATCAAGTCTG</td>\n",
       "      <td>TSP1_bladder_1</td>\n",
       "      <td>female</td>\n",
       "      <td>3829.0</td>\n",
       "      <td>1473.0</td>\n",
       "      <td>macrophage</td>\n",
       "      <td>Human</td>\n",
       "      <td>Homo sapiens</td>\n",
       "      <td>macrophage</td>\n",
       "      <td>macrophage</td>\n",
       "      <td>myeloid</td>\n",
       "      <td>nan</td>\n",
       "      <td>nan</td>\n",
       "      <td>nan</td>\n",
       "      <td>nan</td>\n",
       "      <td>human</td>\n",
       "    </tr>\n",
       "    <tr>\n",
       "      <th>TSP1_bladder_1__AAACCCATCCTTCGAC</th>\n",
       "      <td>AAACCCATCCTTCGAC_TSP1_bladder_1-0-human</td>\n",
       "      <td>TSP1</td>\n",
       "      <td>Bladder</td>\n",
       "      <td>nan</td>\n",
       "      <td>AAACCCATCCTTCGAC</td>\n",
       "      <td>TSP1_bladder_1</td>\n",
       "      <td>female</td>\n",
       "      <td>6434.0</td>\n",
       "      <td>2062.0</td>\n",
       "      <td>macrophage</td>\n",
       "      <td>Human</td>\n",
       "      <td>Homo sapiens</td>\n",
       "      <td>macrophage</td>\n",
       "      <td>macrophage</td>\n",
       "      <td>myeloid</td>\n",
       "      <td>nan</td>\n",
       "      <td>nan</td>\n",
       "      <td>nan</td>\n",
       "      <td>nan</td>\n",
       "      <td>human</td>\n",
       "    </tr>\n",
       "    <tr>\n",
       "      <th>TSP1_bladder_1__AAACCCATCGAAGGAC</th>\n",
       "      <td>AAACCCATCGAAGGAC_TSP1_bladder_1-0-human</td>\n",
       "      <td>TSP1</td>\n",
       "      <td>Bladder</td>\n",
       "      <td>nan</td>\n",
       "      <td>AAACCCATCGAAGGAC</td>\n",
       "      <td>TSP1_bladder_1</td>\n",
       "      <td>female</td>\n",
       "      <td>12273.0</td>\n",
       "      <td>2751.0</td>\n",
       "      <td>macrophage</td>\n",
       "      <td>Human</td>\n",
       "      <td>Homo sapiens</td>\n",
       "      <td>macrophage</td>\n",
       "      <td>macrophage</td>\n",
       "      <td>myeloid</td>\n",
       "      <td>nan</td>\n",
       "      <td>nan</td>\n",
       "      <td>nan</td>\n",
       "      <td>nan</td>\n",
       "      <td>human</td>\n",
       "    </tr>\n",
       "    <tr>\n",
       "      <th>TSP1_bladder_1__AAACGAAAGCTCCGAC</th>\n",
       "      <td>AAACGAAAGCTCCGAC_TSP1_bladder_1-0-human</td>\n",
       "      <td>TSP1</td>\n",
       "      <td>Bladder</td>\n",
       "      <td>nan</td>\n",
       "      <td>AAACGAAAGCTCCGAC</td>\n",
       "      <td>TSP1_bladder_1</td>\n",
       "      <td>female</td>\n",
       "      <td>4724.0</td>\n",
       "      <td>651.0</td>\n",
       "      <td>plasma cell</td>\n",
       "      <td>Human</td>\n",
       "      <td>Homo sapiens</td>\n",
       "      <td>plasma cell</td>\n",
       "      <td>plasma cell</td>\n",
       "      <td>lymphoid</td>\n",
       "      <td>nan</td>\n",
       "      <td>nan</td>\n",
       "      <td>nan</td>\n",
       "      <td>nan</td>\n",
       "      <td>human</td>\n",
       "    </tr>\n",
       "  </tbody>\n",
       "</table>\n",
       "</div>"
      ],
      "text/plain": [
       "                                                         original_cell_id  \\\n",
       "cell_id                                                                     \n",
       "TSP1_bladder_1__AAACCCAGTGTAGCAG  AAACCCAGTGTAGCAG_TSP1_bladder_1-0-human   \n",
       "TSP1_bladder_1__AAACCCATCAAGTCTG  AAACCCATCAAGTCTG_TSP1_bladder_1-0-human   \n",
       "TSP1_bladder_1__AAACCCATCCTTCGAC  AAACCCATCCTTCGAC_TSP1_bladder_1-0-human   \n",
       "TSP1_bladder_1__AAACCCATCGAAGGAC  AAACCCATCGAAGGAC_TSP1_bladder_1-0-human   \n",
       "TSP1_bladder_1__AAACGAAAGCTCCGAC  AAACGAAAGCTCCGAC_TSP1_bladder_1-0-human   \n",
       "\n",
       "                                 individual   tissue subtissue  \\\n",
       "cell_id                                                          \n",
       "TSP1_bladder_1__AAACCCAGTGTAGCAG       TSP1  Bladder       nan   \n",
       "TSP1_bladder_1__AAACCCATCAAGTCTG       TSP1  Bladder       nan   \n",
       "TSP1_bladder_1__AAACCCATCCTTCGAC       TSP1  Bladder       nan   \n",
       "TSP1_bladder_1__AAACCCATCGAAGGAC       TSP1  Bladder       nan   \n",
       "TSP1_bladder_1__AAACGAAAGCTCCGAC       TSP1  Bladder       nan   \n",
       "\n",
       "                                      cell_barcode         channel     sex  \\\n",
       "cell_id                                                                      \n",
       "TSP1_bladder_1__AAACCCAGTGTAGCAG  AAACCCAGTGTAGCAG  TSP1_bladder_1  female   \n",
       "TSP1_bladder_1__AAACCCATCAAGTCTG  AAACCCATCAAGTCTG  TSP1_bladder_1  female   \n",
       "TSP1_bladder_1__AAACCCATCCTTCGAC  AAACCCATCCTTCGAC  TSP1_bladder_1  female   \n",
       "TSP1_bladder_1__AAACCCATCGAAGGAC  AAACCCATCGAAGGAC  TSP1_bladder_1  female   \n",
       "TSP1_bladder_1__AAACGAAAGCTCCGAC  AAACGAAAGCTCCGAC  TSP1_bladder_1  female   \n",
       "\n",
       "                                  n_counts  n_genes cell_ontology_class  \\\n",
       "cell_id                                                                   \n",
       "TSP1_bladder_1__AAACCCAGTGTAGCAG    5522.0   1908.0          macrophage   \n",
       "TSP1_bladder_1__AAACCCATCAAGTCTG    3829.0   1473.0          macrophage   \n",
       "TSP1_bladder_1__AAACCCATCCTTCGAC    6434.0   2062.0          macrophage   \n",
       "TSP1_bladder_1__AAACCCATCGAAGGAC   12273.0   2751.0          macrophage   \n",
       "TSP1_bladder_1__AAACGAAAGCTCCGAC    4724.0    651.0         plasma cell   \n",
       "\n",
       "                                 species species_latin narrow_group  \\\n",
       "cell_id                                                               \n",
       "TSP1_bladder_1__AAACCCAGTGTAGCAG   Human  Homo sapiens   macrophage   \n",
       "TSP1_bladder_1__AAACCCATCAAGTCTG   Human  Homo sapiens   macrophage   \n",
       "TSP1_bladder_1__AAACCCATCCTTCGAC   Human  Homo sapiens   macrophage   \n",
       "TSP1_bladder_1__AAACCCATCGAAGGAC   Human  Homo sapiens   macrophage   \n",
       "TSP1_bladder_1__AAACGAAAGCTCCGAC   Human  Homo sapiens  plasma cell   \n",
       "\n",
       "                                  broad_group compartment_group  age  \\\n",
       "cell_id                                                                \n",
       "TSP1_bladder_1__AAACCCAGTGTAGCAG   macrophage           myeloid  nan   \n",
       "TSP1_bladder_1__AAACCCATCAAGTCTG   macrophage           myeloid  nan   \n",
       "TSP1_bladder_1__AAACCCATCCTTCGAC   macrophage           myeloid  nan   \n",
       "TSP1_bladder_1__AAACCCATCGAAGGAC   macrophage           myeloid  nan   \n",
       "TSP1_bladder_1__AAACGAAAGCTCCGAC  plasma cell          lymphoid  nan   \n",
       "\n",
       "                                 cell_ontology_id free_annotation  \\\n",
       "cell_id                                                             \n",
       "TSP1_bladder_1__AAACCCAGTGTAGCAG              nan             nan   \n",
       "TSP1_bladder_1__AAACCCATCAAGTCTG              nan             nan   \n",
       "TSP1_bladder_1__AAACCCATCCTTCGAC              nan             nan   \n",
       "TSP1_bladder_1__AAACCCATCGAAGGAC              nan             nan   \n",
       "TSP1_bladder_1__AAACGAAAGCTCCGAC              nan             nan   \n",
       "\n",
       "                                 sequencing_run species_batch  \n",
       "cell_id                                                        \n",
       "TSP1_bladder_1__AAACCCAGTGTAGCAG            nan         human  \n",
       "TSP1_bladder_1__AAACCCATCAAGTCTG            nan         human  \n",
       "TSP1_bladder_1__AAACCCATCCTTCGAC            nan         human  \n",
       "TSP1_bladder_1__AAACCCATCGAAGGAC            nan         human  \n",
       "TSP1_bladder_1__AAACGAAAGCTCCGAC            nan         human  "
      ]
     },
     "metadata": {},
     "output_type": "display_data"
    }
   ],
   "source": [
    "new_obs = human_mouse.obs.reset_index().set_index('cell_id')\n",
    "new_obs = new_obs.rename(columns={'index': 'original_cell_id'})\n",
    "describe(new_obs)"
   ]
  },
  {
   "cell_type": "markdown",
   "metadata": {},
   "source": [
    "## Set new obs"
   ]
  },
  {
   "cell_type": "code",
   "execution_count": 48,
   "metadata": {},
   "outputs": [],
   "source": [
    "human_mouse.obs = new_obs"
   ]
  },
  {
   "cell_type": "markdown",
   "metadata": {},
   "source": [
    "## Write to file"
   ]
  },
  {
   "cell_type": "code",
   "execution_count": 49,
   "metadata": {},
   "outputs": [],
   "source": [
    "%%time\n",
    "\n",
    "h5ad = os.path.join(\n",
    "    kmer_outdir, \"human-mouse-one2one-orthologs.h5ad\"\n",
    ")\n",
    "human_mouse.write(h5ad)"
   ]
  },
  {
   "cell_type": "markdown",
   "metadata": {},
   "source": [
    "# Make per-tissue subsets for selected tissues"
   ]
  },
  {
   "cell_type": "code",
   "execution_count": 50,
   "metadata": {},
   "outputs": [],
   "source": [
    "tissues = \"Bladder\", \"Lung\", \"Muscle\""
   ]
  },
  {
   "cell_type": "code",
   "execution_count": 51,
   "metadata": {},
   "outputs": [
    {
     "data": {
      "text/plain": [
       "View of AnnData object with n_obs × n_vars = 95239 × 14245\n",
       "    obs: 'original_cell_id', 'individual', 'tissue', 'subtissue', 'cell_barcode', 'channel', 'sex', 'n_counts', 'n_genes', 'cell_ontology_class', 'species', 'species_latin', 'narrow_group', 'broad_group', 'compartment_group', 'age', 'cell_ontology_id', 'free_annotation', 'sequencing_run', 'species_batch'\n",
       "    var: 'ensembl_id-human', 'len-human', 'mouse_gene_symbol-mouse', 'n_cells-mouse'"
      ]
     },
     "execution_count": 51,
     "metadata": {},
     "output_type": "execute_result"
    }
   ],
   "source": [
    "human_mouse_subset = human_mouse[human_mouse.obs.tissue.isin(tissues)]\n",
    "human_mouse_subset"
   ]
  },
  {
   "cell_type": "code",
   "execution_count": 52,
   "metadata": {},
   "outputs": [
    {
     "name": "stdout",
     "output_type": "stream",
     "text": [
      "--- Lung ---\n",
      "View of AnnData object with n_obs × n_vars = 54919 × 14245\n",
      "    obs: 'original_cell_id', 'individual', 'tissue', 'subtissue', 'cell_barcode', 'channel', 'sex', 'n_counts', 'n_genes', 'cell_ontology_class', 'species', 'species_latin', 'narrow_group', 'broad_group', 'compartment_group', 'age', 'cell_ontology_id', 'free_annotation', 'sequencing_run', 'species_batch'\n",
      "    var: 'ensembl_id-human', 'len-human', 'mouse_gene_symbol-mouse', 'n_cells-mouse'\n",
      "/home/olga/data_lg/data_sm_copy/immune-evolution/data-objects/human-mouse/human-mouse-one2one-orthologs--lung.h5ad\n",
      "CPU times: user 1.8 s, sys: 587 ms, total: 2.38 s\n",
      "Wall time: 9.8 s\n",
      "/home/olga/data_lg/data_sm_copy/immune-evolution/data-objects/human-mouse/human-mouse-one2one-orthologs--lung.h5ad\n",
      "CPU times: user 1.77 s, sys: 628 ms, total: 2.4 s\n",
      "Wall time: 9.51 s\n",
      "--- Muscle ---\n",
      "View of AnnData object with n_obs × n_vars = 12974 × 14245\n",
      "    obs: 'original_cell_id', 'individual', 'tissue', 'subtissue', 'cell_barcode', 'channel', 'sex', 'n_counts', 'n_genes', 'cell_ontology_class', 'species', 'species_latin', 'narrow_group', 'broad_group', 'compartment_group', 'age', 'cell_ontology_id', 'free_annotation', 'sequencing_run', 'species_batch'\n",
      "    var: 'ensembl_id-human', 'len-human', 'mouse_gene_symbol-mouse', 'n_cells-mouse'\n",
      "/home/olga/data_lg/data_sm_copy/immune-evolution/data-objects/human-mouse/human-mouse-one2one-orthologs--muscle.h5ad\n",
      "CPU times: user 683 ms, sys: 160 ms, total: 843 ms\n",
      "Wall time: 2.74 s\n",
      "/home/olga/data_lg/data_sm_copy/immune-evolution/data-objects/human-mouse/human-mouse-one2one-orthologs--muscle.h5ad\n",
      "CPU times: user 679 ms, sys: 160 ms, total: 839 ms\n",
      "Wall time: 2.75 s\n",
      "--- Bladder ---\n",
      "View of AnnData object with n_obs × n_vars = 27346 × 14245\n",
      "    obs: 'original_cell_id', 'individual', 'tissue', 'subtissue', 'cell_barcode', 'channel', 'sex', 'n_counts', 'n_genes', 'cell_ontology_class', 'species', 'species_latin', 'narrow_group', 'broad_group', 'compartment_group', 'age', 'cell_ontology_id', 'free_annotation', 'sequencing_run', 'species_batch'\n",
      "    var: 'ensembl_id-human', 'len-human', 'mouse_gene_symbol-mouse', 'n_cells-mouse'\n",
      "/home/olga/data_lg/data_sm_copy/immune-evolution/data-objects/human-mouse/human-mouse-one2one-orthologs--bladder.h5ad\n",
      "CPU times: user 1.07 s, sys: 308 ms, total: 1.38 s\n",
      "Wall time: 5.34 s\n",
      "/home/olga/data_lg/data_sm_copy/immune-evolution/data-objects/human-mouse/human-mouse-one2one-orthologs--bladder.h5ad\n",
      "CPU times: user 986 ms, sys: 368 ms, total: 1.35 s\n",
      "Wall time: 5.47 s\n"
     ]
    }
   ],
   "source": [
    "for tissue in tissues:\n",
    "    print(f\"--- {tissue} ---\")\n",
    "    tissue_subset = human_mouse_subset[human_mouse_subset.obs.tissue == tissue]\n",
    "    print(tissue_subset)\n",
    "    for d in outdirs:\n",
    "        h5ad = os.path.join(\n",
    "            kmer_outdir, f\"human-mouse-one2one-orthologs--{tissue.lower()}.h5ad\"\n",
    "        )\n",
    "        print(h5ad)\n",
    "        %time tissue_subset.write(h5ad)"
   ]
  },
  {
   "cell_type": "code",
   "execution_count": null,
   "metadata": {},
   "outputs": [],
   "source": []
  }
 ],
 "metadata": {
  "kernelspec": {
   "display_name": "Python [conda env:tabula-microcebus-v2]",
   "language": "python",
   "name": "conda-env-tabula-microcebus-v2-py"
  },
  "language_info": {
   "codemirror_mode": {
    "name": "ipython",
    "version": 3
   },
   "file_extension": ".py",
   "mimetype": "text/x-python",
   "name": "python",
   "nbconvert_exporter": "python",
   "pygments_lexer": "ipython3",
   "version": "3.7.3"
  }
 },
 "nbformat": 4,
 "nbformat_minor": 4
}
